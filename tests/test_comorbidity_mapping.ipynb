{
 "cells": [
  {
   "cell_type": "markdown",
   "metadata": {},
   "source": [
    "## Charlson COMORBIDITY Mapping"
   ]
  },
  {
   "cell_type": "code",
   "execution_count": 1,
   "metadata": {},
   "outputs": [],
   "source": [
    "import pandas as pd\n",
    "from recurrent_health_events_prediction.data_extraction.utils import assign_charlson_category"
   ]
  },
  {
   "cell_type": "code",
   "execution_count": null,
   "metadata": {},
   "outputs": [],
   "source": [
    "df = pd.read_csv(\"/workspaces/master-thesis-recurrent-health-events-prediction/data/mimic-iii-dataset/DIAGNOSES_ICD.csv\")"
   ]
  },
  {
   "cell_type": "code",
   "execution_count": 3,
   "metadata": {},
   "outputs": [
    {
     "data": {
      "application/vnd.microsoft.datawrangler.viewer.v0+json": {
       "columns": [
        {
         "name": "index",
         "rawType": "int64",
         "type": "integer"
        },
        {
         "name": "ROW_ID",
         "rawType": "int64",
         "type": "integer"
        },
        {
         "name": "SUBJECT_ID",
         "rawType": "int64",
         "type": "integer"
        },
        {
         "name": "HADM_ID",
         "rawType": "int64",
         "type": "integer"
        },
        {
         "name": "SEQ_NUM",
         "rawType": "float64",
         "type": "float"
        },
        {
         "name": "ICD9_CODE",
         "rawType": "object",
         "type": "string"
        }
       ],
       "ref": "5201c582-8abb-43cb-8d34-745b5c4c62ad",
       "rows": [
        [
         "0",
         "1297",
         "109",
         "172335",
         "1.0",
         "40301"
        ],
        [
         "1",
         "1298",
         "109",
         "172335",
         "2.0",
         "486"
        ],
        [
         "2",
         "1299",
         "109",
         "172335",
         "3.0",
         "58281"
        ],
        [
         "3",
         "1300",
         "109",
         "172335",
         "4.0",
         "5855"
        ],
        [
         "4",
         "1301",
         "109",
         "172335",
         "5.0",
         "4254"
        ]
       ],
       "shape": {
        "columns": 5,
        "rows": 5
       }
      },
      "text/html": [
       "<div>\n",
       "<style scoped>\n",
       "    .dataframe tbody tr th:only-of-type {\n",
       "        vertical-align: middle;\n",
       "    }\n",
       "\n",
       "    .dataframe tbody tr th {\n",
       "        vertical-align: top;\n",
       "    }\n",
       "\n",
       "    .dataframe thead th {\n",
       "        text-align: right;\n",
       "    }\n",
       "</style>\n",
       "<table border=\"1\" class=\"dataframe\">\n",
       "  <thead>\n",
       "    <tr style=\"text-align: right;\">\n",
       "      <th></th>\n",
       "      <th>ROW_ID</th>\n",
       "      <th>SUBJECT_ID</th>\n",
       "      <th>HADM_ID</th>\n",
       "      <th>SEQ_NUM</th>\n",
       "      <th>ICD9_CODE</th>\n",
       "    </tr>\n",
       "  </thead>\n",
       "  <tbody>\n",
       "    <tr>\n",
       "      <th>0</th>\n",
       "      <td>1297</td>\n",
       "      <td>109</td>\n",
       "      <td>172335</td>\n",
       "      <td>1.0</td>\n",
       "      <td>40301</td>\n",
       "    </tr>\n",
       "    <tr>\n",
       "      <th>1</th>\n",
       "      <td>1298</td>\n",
       "      <td>109</td>\n",
       "      <td>172335</td>\n",
       "      <td>2.0</td>\n",
       "      <td>486</td>\n",
       "    </tr>\n",
       "    <tr>\n",
       "      <th>2</th>\n",
       "      <td>1299</td>\n",
       "      <td>109</td>\n",
       "      <td>172335</td>\n",
       "      <td>3.0</td>\n",
       "      <td>58281</td>\n",
       "    </tr>\n",
       "    <tr>\n",
       "      <th>3</th>\n",
       "      <td>1300</td>\n",
       "      <td>109</td>\n",
       "      <td>172335</td>\n",
       "      <td>4.0</td>\n",
       "      <td>5855</td>\n",
       "    </tr>\n",
       "    <tr>\n",
       "      <th>4</th>\n",
       "      <td>1301</td>\n",
       "      <td>109</td>\n",
       "      <td>172335</td>\n",
       "      <td>5.0</td>\n",
       "      <td>4254</td>\n",
       "    </tr>\n",
       "  </tbody>\n",
       "</table>\n",
       "</div>"
      ],
      "text/plain": [
       "   ROW_ID  SUBJECT_ID  HADM_ID  SEQ_NUM ICD9_CODE\n",
       "0    1297         109   172335      1.0     40301\n",
       "1    1298         109   172335      2.0       486\n",
       "2    1299         109   172335      3.0     58281\n",
       "3    1300         109   172335      4.0      5855\n",
       "4    1301         109   172335      5.0      4254"
      ]
     },
     "execution_count": 3,
     "metadata": {},
     "output_type": "execute_result"
    }
   ],
   "source": [
    "df.head()"
   ]
  },
  {
   "cell_type": "code",
   "execution_count": 5,
   "metadata": {},
   "outputs": [],
   "source": [
    "df[\"ICD9_CODE\"] = df[\"ICD9_CODE\"].astype(str)"
   ]
  },
  {
   "cell_type": "code",
   "execution_count": 7,
   "metadata": {},
   "outputs": [],
   "source": [
    "df = assign_charlson_category(df, \"ICD9_CODE\")"
   ]
  },
  {
   "cell_type": "code",
   "execution_count": 8,
   "metadata": {},
   "outputs": [
    {
     "data": {
      "application/vnd.microsoft.datawrangler.viewer.v0+json": {
       "columns": [
        {
         "name": "index",
         "rawType": "int64",
         "type": "integer"
        },
        {
         "name": "ROW_ID",
         "rawType": "int64",
         "type": "integer"
        },
        {
         "name": "ICD9_CODE",
         "rawType": "object",
         "type": "string"
        },
        {
         "name": "SHORT_TITLE",
         "rawType": "object",
         "type": "string"
        },
        {
         "name": "LONG_TITLE",
         "rawType": "object",
         "type": "string"
        }
       ],
       "ref": "84f27567-3579-4b76-ac6e-4c8fb449e61d",
       "rows": [
        [
         "0",
         "174",
         "01166",
         "TB pneumonia-oth test",
         "Tuberculous pneumonia [any form], tubercle bacilli not found by bacteriological or histological examination, but tuberculosis confirmed by other methods [inoculation of animals]"
        ],
        [
         "1",
         "175",
         "01170",
         "TB pneumothorax-unspec",
         "Tuberculous pneumothorax, unspecified"
        ],
        [
         "2",
         "176",
         "01171",
         "TB pneumothorax-no exam",
         "Tuberculous pneumothorax, bacteriological or histological examination not done"
        ],
        [
         "3",
         "177",
         "01172",
         "TB pneumothorx-exam unkn",
         "Tuberculous pneumothorax, bacteriological or histological examination unknown (at present)"
        ],
        [
         "4",
         "178",
         "01173",
         "TB pneumothorax-micro dx",
         "Tuberculous pneumothorax, tubercle bacilli found (in sputum) by microscopy"
        ]
       ],
       "shape": {
        "columns": 4,
        "rows": 5
       }
      },
      "text/html": [
       "<div>\n",
       "<style scoped>\n",
       "    .dataframe tbody tr th:only-of-type {\n",
       "        vertical-align: middle;\n",
       "    }\n",
       "\n",
       "    .dataframe tbody tr th {\n",
       "        vertical-align: top;\n",
       "    }\n",
       "\n",
       "    .dataframe thead th {\n",
       "        text-align: right;\n",
       "    }\n",
       "</style>\n",
       "<table border=\"1\" class=\"dataframe\">\n",
       "  <thead>\n",
       "    <tr style=\"text-align: right;\">\n",
       "      <th></th>\n",
       "      <th>ROW_ID</th>\n",
       "      <th>ICD9_CODE</th>\n",
       "      <th>SHORT_TITLE</th>\n",
       "      <th>LONG_TITLE</th>\n",
       "    </tr>\n",
       "  </thead>\n",
       "  <tbody>\n",
       "    <tr>\n",
       "      <th>0</th>\n",
       "      <td>174</td>\n",
       "      <td>01166</td>\n",
       "      <td>TB pneumonia-oth test</td>\n",
       "      <td>Tuberculous pneumonia [any form], tubercle bac...</td>\n",
       "    </tr>\n",
       "    <tr>\n",
       "      <th>1</th>\n",
       "      <td>175</td>\n",
       "      <td>01170</td>\n",
       "      <td>TB pneumothorax-unspec</td>\n",
       "      <td>Tuberculous pneumothorax, unspecified</td>\n",
       "    </tr>\n",
       "    <tr>\n",
       "      <th>2</th>\n",
       "      <td>176</td>\n",
       "      <td>01171</td>\n",
       "      <td>TB pneumothorax-no exam</td>\n",
       "      <td>Tuberculous pneumothorax, bacteriological or h...</td>\n",
       "    </tr>\n",
       "    <tr>\n",
       "      <th>3</th>\n",
       "      <td>177</td>\n",
       "      <td>01172</td>\n",
       "      <td>TB pneumothorx-exam unkn</td>\n",
       "      <td>Tuberculous pneumothorax, bacteriological or h...</td>\n",
       "    </tr>\n",
       "    <tr>\n",
       "      <th>4</th>\n",
       "      <td>178</td>\n",
       "      <td>01173</td>\n",
       "      <td>TB pneumothorax-micro dx</td>\n",
       "      <td>Tuberculous pneumothorax, tubercle bacilli fou...</td>\n",
       "    </tr>\n",
       "  </tbody>\n",
       "</table>\n",
       "</div>"
      ],
      "text/plain": [
       "   ROW_ID ICD9_CODE               SHORT_TITLE  \\\n",
       "0     174     01166     TB pneumonia-oth test   \n",
       "1     175     01170    TB pneumothorax-unspec   \n",
       "2     176     01171   TB pneumothorax-no exam   \n",
       "3     177     01172  TB pneumothorx-exam unkn   \n",
       "4     178     01173  TB pneumothorax-micro dx   \n",
       "\n",
       "                                          LONG_TITLE  \n",
       "0  Tuberculous pneumonia [any form], tubercle bac...  \n",
       "1              Tuberculous pneumothorax, unspecified  \n",
       "2  Tuberculous pneumothorax, bacteriological or h...  \n",
       "3  Tuberculous pneumothorax, bacteriological or h...  \n",
       "4  Tuberculous pneumothorax, tubercle bacilli fou...  "
      ]
     },
     "execution_count": 8,
     "metadata": {},
     "output_type": "execute_result"
    }
   ],
   "source": [
    "codes_df = pd.read_csv(\"/workspaces/master-thesis-recurrent-health-events-prediction/data/mimic-iii-dataset/D_ICD_DIAGNOSES.csv\")\n",
    "codes_df[\"ICD9_CODE\"] = codes_df[\"ICD9_CODE\"].astype(str)\n",
    "codes_df.head()"
   ]
  },
  {
   "cell_type": "code",
   "execution_count": 9,
   "metadata": {},
   "outputs": [
    {
     "data": {
      "application/vnd.microsoft.datawrangler.viewer.v0+json": {
       "columns": [
        {
         "name": "index",
         "rawType": "int64",
         "type": "integer"
        },
        {
         "name": "ROW_ID",
         "rawType": "int64",
         "type": "integer"
        },
        {
         "name": "SUBJECT_ID",
         "rawType": "int64",
         "type": "integer"
        },
        {
         "name": "HADM_ID",
         "rawType": "int64",
         "type": "integer"
        },
        {
         "name": "SEQ_NUM",
         "rawType": "float64",
         "type": "float"
        },
        {
         "name": "ICD9_CODE",
         "rawType": "object",
         "type": "string"
        },
        {
         "name": "COMORBIDITY",
         "rawType": "object",
         "type": "unknown"
        },
        {
         "name": "LONG_TITLE",
         "rawType": "object",
         "type": "unknown"
        }
       ],
       "ref": "8dc7e17d-a276-4f98-8c7d-5a43fc9fbfd3",
       "rows": [
        [
         "0",
         "1297",
         "109",
         "172335",
         "1.0",
         "40301",
         "renal_disease",
         "Hypertensive chronic kidney disease, malignant, with chronic kidney disease stage V or end stage renal disease"
        ],
        [
         "1",
         "1298",
         "109",
         "172335",
         "2.0",
         "486",
         null,
         "Pneumonia, organism unspecified"
        ],
        [
         "2",
         "1299",
         "109",
         "172335",
         "3.0",
         "58281",
         "renal_disease",
         "Chronic glomerulonephritis in diseases classified elsewhere"
        ],
        [
         "3",
         "1300",
         "109",
         "172335",
         "4.0",
         "5855",
         "renal_disease",
         "Chronic kidney disease, Stage V"
        ],
        [
         "4",
         "1301",
         "109",
         "172335",
         "5.0",
         "4254",
         "congestive_heart_failure",
         "Other primary cardiomyopathies"
        ],
        [
         "5",
         "1302",
         "109",
         "172335",
         "6.0",
         "2762",
         null,
         "Acidosis"
        ],
        [
         "6",
         "1303",
         "109",
         "172335",
         "7.0",
         "7100",
         "rheumatic_disease",
         "Systemic lupus erythematosus"
        ],
        [
         "7",
         "1304",
         "109",
         "172335",
         "8.0",
         "2767",
         null,
         "Hyperpotassemia"
        ],
        [
         "8",
         "1305",
         "109",
         "172335",
         "9.0",
         "7243",
         null,
         "Sciatica"
        ],
        [
         "9",
         "1306",
         "109",
         "172335",
         "10.0",
         "45829",
         null,
         "Other iatrogenic hypotension"
        ],
        [
         "10",
         "1307",
         "109",
         "172335",
         "11.0",
         "2875",
         null,
         "Thrombocytopenia, unspecified"
        ],
        [
         "11",
         "1308",
         "109",
         "172335",
         "12.0",
         "28521",
         null,
         "Anemia in chronic kidney disease"
        ],
        [
         "12",
         "1309",
         "109",
         "172335",
         "13.0",
         "28529",
         null,
         "Anemia of other chronic disease"
        ],
        [
         "13",
         "1310",
         "109",
         "172335",
         "14.0",
         "27541",
         null,
         "Hypocalcemia"
        ],
        [
         "14",
         "1311",
         "109",
         "173633",
         "1.0",
         "40301",
         "renal_disease",
         "Hypertensive chronic kidney disease, malignant, with chronic kidney disease stage V or end stage renal disease"
        ],
        [
         "15",
         "1312",
         "109",
         "173633",
         "2.0",
         "5856",
         "renal_disease",
         "End stage renal disease"
        ],
        [
         "16",
         "1313",
         "109",
         "173633",
         "3.0",
         "58381",
         null,
         "Nephritis and nephropathy, not specified as acute or chronic, in diseases classified elsewhere"
        ],
        [
         "17",
         "1314",
         "109",
         "173633",
         "4.0",
         "7100",
         "rheumatic_disease",
         "Systemic lupus erythematosus"
        ],
        [
         "18",
         "1315",
         "109",
         "173633",
         "5.0",
         "5589",
         null,
         "Other and unspecified noninfectious gastroenteritis and colitis"
        ],
        [
         "19",
         "1316",
         "109",
         "173633",
         "6.0",
         "2875",
         null,
         "Thrombocytopenia, unspecified"
        ],
        [
         "20",
         "1317",
         "109",
         "173633",
         "7.0",
         "28521",
         null,
         "Anemia in chronic kidney disease"
        ],
        [
         "21",
         "1318",
         "109",
         "173633",
         "8.0",
         "45829",
         null,
         "Other iatrogenic hypotension"
        ],
        [
         "22",
         "1319",
         "109",
         "173633",
         "9.0",
         "32723",
         null,
         "Obstructive sleep apnea (adult)(pediatric)"
        ],
        [
         "23",
         "1320",
         "109",
         "173633",
         "10.0",
         "22804",
         null,
         "Hemangioma of intra-abdominal structures"
        ],
        [
         "24",
         "1321",
         "109",
         "173633",
         "11.0",
         "33829",
         null,
         "Other chronic pain"
        ],
        [
         "25",
         "1322",
         "109",
         "173633",
         "12.0",
         "78900",
         null,
         "Abdominal pain, unspecified site"
        ],
        [
         "26",
         "1323",
         "109",
         "173633",
         "13.0",
         "79092",
         null,
         "Abnormal coagulation profile"
        ],
        [
         "27",
         "1324",
         "109",
         "173633",
         "14.0",
         "V4511",
         "renal_disease",
         "Renal dialysis status"
        ],
        [
         "28",
         "1488",
         "112",
         "174105",
         "1.0",
         "53100",
         "peptic_ulcer_disease",
         "Acute gastric ulcer with hemorrhage, without mention of obstruction"
        ],
        [
         "29",
         "1489",
         "112",
         "174105",
         "2.0",
         "41071",
         "myocardial_infarct",
         "Subendocardial infarction, initial episode of care"
        ],
        [
         "30",
         "1490",
         "112",
         "174105",
         "3.0",
         "2859",
         null,
         "Anemia, unspecified"
        ],
        [
         "31",
         "1491",
         "112",
         "174105",
         "4.0",
         "41401",
         null,
         "Coronary atherosclerosis of native coronary artery"
        ],
        [
         "32",
         "1492",
         "112",
         "174105",
         "5.0",
         "725",
         "rheumatic_disease",
         "Polymyalgia rheumatica"
        ],
        [
         "33",
         "1493",
         "113",
         "109976",
         "1.0",
         "1915",
         "malignant_cancer",
         "Malignant neoplasm of ventricles"
        ],
        [
         "34",
         "1494",
         "113",
         "109976",
         "2.0",
         "3314",
         null,
         "Obstructive hydrocephalus"
        ],
        [
         "35",
         "1495",
         "113",
         "109976",
         "3.0",
         "53081",
         null,
         "Esophageal reflux"
        ],
        [
         "36",
         "1496",
         "114",
         "178393",
         "1.0",
         "41401",
         null,
         "Coronary atherosclerosis of native coronary artery"
        ],
        [
         "37",
         "1497",
         "114",
         "178393",
         "2.0",
         "4111",
         null,
         "Intermediate coronary syndrome"
        ],
        [
         "38",
         "1498",
         "114",
         "178393",
         "3.0",
         "48283",
         null,
         "Pneumonia due to other gram-negative bacteria"
        ],
        [
         "39",
         "1499",
         "114",
         "178393",
         "4.0",
         "2859",
         null,
         "Anemia, unspecified"
        ],
        [
         "40",
         "1500",
         "114",
         "178393",
         "5.0",
         "2720",
         null,
         "Pure hypercholesterolemia"
        ],
        [
         "41",
         "1501",
         "114",
         "178393",
         "6.0",
         "3051",
         null,
         "Tobacco use disorder"
        ],
        [
         "42",
         "1502",
         "115",
         "114585",
         "1.0",
         "1940",
         "malignant_cancer",
         "Malignant neoplasm of adrenal gland"
        ],
        [
         "43",
         "1503",
         "115",
         "114585",
         "2.0",
         "1977",
         "metastatic_solid_tumor",
         "Malignant neoplasm of liver, secondary"
        ],
        [
         "44",
         "1504",
         "115",
         "114585",
         "3.0",
         "2553",
         null,
         "Other corticoadrenal overactivity"
        ],
        [
         "45",
         "1505",
         "115",
         "114585",
         "4.0",
         "4240",
         null,
         "Mitral valve disorders"
        ],
        [
         "46",
         "1506",
         "115",
         "114585",
         "5.0",
         "5845",
         null,
         "Acute kidney failure with lesion of tubular necrosis"
        ],
        [
         "47",
         "1507",
         "115",
         "114585",
         "6.0",
         "99859",
         null,
         "Other postoperative infection"
        ],
        [
         "48",
         "1508",
         "115",
         "114585",
         "7.0",
         "6822",
         null,
         "Cellulitis and abscess of trunk"
        ],
        [
         "49",
         "1509",
         "115",
         "114585",
         "8.0",
         "5119",
         null,
         "Unspecified pleural effusion"
        ]
       ],
       "shape": {
        "columns": 7,
        "rows": 100
       }
      },
      "text/html": [
       "<div>\n",
       "<style scoped>\n",
       "    .dataframe tbody tr th:only-of-type {\n",
       "        vertical-align: middle;\n",
       "    }\n",
       "\n",
       "    .dataframe tbody tr th {\n",
       "        vertical-align: top;\n",
       "    }\n",
       "\n",
       "    .dataframe thead th {\n",
       "        text-align: right;\n",
       "    }\n",
       "</style>\n",
       "<table border=\"1\" class=\"dataframe\">\n",
       "  <thead>\n",
       "    <tr style=\"text-align: right;\">\n",
       "      <th></th>\n",
       "      <th>ROW_ID</th>\n",
       "      <th>SUBJECT_ID</th>\n",
       "      <th>HADM_ID</th>\n",
       "      <th>SEQ_NUM</th>\n",
       "      <th>ICD9_CODE</th>\n",
       "      <th>COMORBIDITY</th>\n",
       "      <th>LONG_TITLE</th>\n",
       "    </tr>\n",
       "  </thead>\n",
       "  <tbody>\n",
       "    <tr>\n",
       "      <th>0</th>\n",
       "      <td>1297</td>\n",
       "      <td>109</td>\n",
       "      <td>172335</td>\n",
       "      <td>1.0</td>\n",
       "      <td>40301</td>\n",
       "      <td>renal_disease</td>\n",
       "      <td>Hypertensive chronic kidney disease, malignant...</td>\n",
       "    </tr>\n",
       "    <tr>\n",
       "      <th>1</th>\n",
       "      <td>1298</td>\n",
       "      <td>109</td>\n",
       "      <td>172335</td>\n",
       "      <td>2.0</td>\n",
       "      <td>486</td>\n",
       "      <td>None</td>\n",
       "      <td>Pneumonia, organism unspecified</td>\n",
       "    </tr>\n",
       "    <tr>\n",
       "      <th>2</th>\n",
       "      <td>1299</td>\n",
       "      <td>109</td>\n",
       "      <td>172335</td>\n",
       "      <td>3.0</td>\n",
       "      <td>58281</td>\n",
       "      <td>renal_disease</td>\n",
       "      <td>Chronic glomerulonephritis in diseases classif...</td>\n",
       "    </tr>\n",
       "    <tr>\n",
       "      <th>3</th>\n",
       "      <td>1300</td>\n",
       "      <td>109</td>\n",
       "      <td>172335</td>\n",
       "      <td>4.0</td>\n",
       "      <td>5855</td>\n",
       "      <td>renal_disease</td>\n",
       "      <td>Chronic kidney disease, Stage V</td>\n",
       "    </tr>\n",
       "    <tr>\n",
       "      <th>4</th>\n",
       "      <td>1301</td>\n",
       "      <td>109</td>\n",
       "      <td>172335</td>\n",
       "      <td>5.0</td>\n",
       "      <td>4254</td>\n",
       "      <td>congestive_heart_failure</td>\n",
       "      <td>Other primary cardiomyopathies</td>\n",
       "    </tr>\n",
       "    <tr>\n",
       "      <th>...</th>\n",
       "      <td>...</td>\n",
       "      <td>...</td>\n",
       "      <td>...</td>\n",
       "      <td>...</td>\n",
       "      <td>...</td>\n",
       "      <td>...</td>\n",
       "      <td>...</td>\n",
       "    </tr>\n",
       "    <tr>\n",
       "      <th>95</th>\n",
       "      <td>1555</td>\n",
       "      <td>118</td>\n",
       "      <td>147035</td>\n",
       "      <td>2.0</td>\n",
       "      <td>V053</td>\n",
       "      <td>None</td>\n",
       "      <td>Need for prophylactic vaccination and inoculat...</td>\n",
       "    </tr>\n",
       "    <tr>\n",
       "      <th>96</th>\n",
       "      <td>1556</td>\n",
       "      <td>119</td>\n",
       "      <td>135738</td>\n",
       "      <td>1.0</td>\n",
       "      <td>88122</td>\n",
       "      <td>None</td>\n",
       "      <td>Open wound of wrist, with tendon involvement</td>\n",
       "    </tr>\n",
       "    <tr>\n",
       "      <th>97</th>\n",
       "      <td>1557</td>\n",
       "      <td>119</td>\n",
       "      <td>135738</td>\n",
       "      <td>2.0</td>\n",
       "      <td>9032</td>\n",
       "      <td>None</td>\n",
       "      <td>Injury to radial blood vessels</td>\n",
       "    </tr>\n",
       "    <tr>\n",
       "      <th>98</th>\n",
       "      <td>1558</td>\n",
       "      <td>119</td>\n",
       "      <td>135738</td>\n",
       "      <td>3.0</td>\n",
       "      <td>9033</td>\n",
       "      <td>None</td>\n",
       "      <td>Injury to ulnar blood vessels</td>\n",
       "    </tr>\n",
       "    <tr>\n",
       "      <th>99</th>\n",
       "      <td>1559</td>\n",
       "      <td>119</td>\n",
       "      <td>135738</td>\n",
       "      <td>4.0</td>\n",
       "      <td>9551</td>\n",
       "      <td>None</td>\n",
       "      <td>Injury to median nerve</td>\n",
       "    </tr>\n",
       "  </tbody>\n",
       "</table>\n",
       "<p>100 rows × 7 columns</p>\n",
       "</div>"
      ],
      "text/plain": [
       "    ROW_ID  SUBJECT_ID  HADM_ID  SEQ_NUM ICD9_CODE              COMORBIDITY  \\\n",
       "0     1297         109   172335      1.0     40301             renal_disease   \n",
       "1     1298         109   172335      2.0       486                      None   \n",
       "2     1299         109   172335      3.0     58281             renal_disease   \n",
       "3     1300         109   172335      4.0      5855             renal_disease   \n",
       "4     1301         109   172335      5.0      4254  congestive_heart_failure   \n",
       "..     ...         ...      ...      ...       ...                       ...   \n",
       "95    1555         118   147035      2.0      V053                      None   \n",
       "96    1556         119   135738      1.0     88122                      None   \n",
       "97    1557         119   135738      2.0      9032                      None   \n",
       "98    1558         119   135738      3.0      9033                      None   \n",
       "99    1559         119   135738      4.0      9551                      None   \n",
       "\n",
       "                                           LONG_TITLE  \n",
       "0   Hypertensive chronic kidney disease, malignant...  \n",
       "1                     Pneumonia, organism unspecified  \n",
       "2   Chronic glomerulonephritis in diseases classif...  \n",
       "3                     Chronic kidney disease, Stage V  \n",
       "4                      Other primary cardiomyopathies  \n",
       "..                                                ...  \n",
       "95  Need for prophylactic vaccination and inoculat...  \n",
       "96       Open wound of wrist, with tendon involvement  \n",
       "97                     Injury to radial blood vessels  \n",
       "98                      Injury to ulnar blood vessels  \n",
       "99                             Injury to median nerve  \n",
       "\n",
       "[100 rows x 7 columns]"
      ]
     },
     "execution_count": 9,
     "metadata": {},
     "output_type": "execute_result"
    }
   ],
   "source": [
    "df = pd.merge(df, codes_df[[\"ICD9_CODE\", \"LONG_TITLE\"]], on=\"ICD9_CODE\", how=\"left\")\n",
    "df.head(100)"
   ]
  },
  {
   "cell_type": "code",
   "execution_count": null,
   "metadata": {},
   "outputs": [],
   "source": []
  }
 ],
 "metadata": {
  "kernelspec": {
   "display_name": ".venv",
   "language": "python",
   "name": "python3"
  },
  "language_info": {
   "codemirror_mode": {
    "name": "ipython",
    "version": 3
   },
   "file_extension": ".py",
   "mimetype": "text/x-python",
   "name": "python",
   "nbconvert_exporter": "python",
   "pygments_lexer": "ipython3",
   "version": "3.10.14"
  }
 },
 "nbformat": 4,
 "nbformat_minor": 2
}
