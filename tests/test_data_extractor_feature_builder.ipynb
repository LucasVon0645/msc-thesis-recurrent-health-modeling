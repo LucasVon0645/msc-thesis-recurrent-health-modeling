{
 "cells": [
  {
   "cell_type": "code",
   "execution_count": 1,
   "metadata": {},
   "outputs": [],
   "source": [
    "from importlib import resources as impresources\n",
    "from recurrent_health_events_prediction import configs\n",
    "import yaml\n",
    "\n",
    "import pandas as pd\n",
    "import numpy as np\n",
    "\n",
    "with open((impresources.files(configs) / 'data_config.yaml')) as f:\n",
    "    config = yaml.safe_load(f)"
   ]
  },
  {
   "cell_type": "code",
   "execution_count": 2,
   "metadata": {},
   "outputs": [
    {
     "name": "stdout",
     "output_type": "stream",
     "text": [
      "{'dataset': {'mimic': {'path': '/workspaces/master-thesis-recurrent-health-events-prediction/data/mimic-iii-dataset', 'columns_to_load': {'admission': ['HADM_ID', 'ADMITTIME', 'DISCHTIME', 'ADMISSION_TYPE', 'INSURANCE', 'ETHNICITY'], 'patient': ['SUBJECT_ID', 'GENDER', 'DOB', 'DOD', 'DOD_HOSP'], 'procedure': ['ICD9_CODE', 'SHORT_TITLE', 'LONG_TITLE'], 'prescription': ['HADM_ID', 'SUBJECT_ID', 'DRUG']}}, 'relapse': {'path': '/workspaces/master-thesis-recurrent-health-events-prediction/data/avh-data'}}, 'training_data': {'relapse': {'preprocessed_path': '/workspaces/master-thesis-recurrent-health-events-prediction/data/avh-data-preprocessed', 'log_features_to_add': ['TIME_SINCE_LAST_NEGATIVE', 'TIME_SINCE_LAST_POSITIVE'], 'cols_to_add_start_relapse': ['DRUG_POSITIVE_PAST_MEAN', 'DRUG_POSITIVE_PAST_SUM', 'NUM_POSITIVES_SINCE_LAST_NEGATIVE', 'TIME_SINCE_LAST_NEGATIVE', 'TIME_SINCE_LAST_POSITIVE', 'PROGRAM_TYPE', 'RACE', 'AGE', 'GENDER']}, 'synthetic': {'preprocessed_path': '/workspaces/master-thesis-recurrent-health-events-prediction/data/synthetic_hmm'}, 'mimic': {'preprocessed_path': '/workspaces/master-thesis-recurrent-health-events-prediction/data/mimic-iii-preprocessed/copd_heart_failure', 'admission_types_to_consider': None, 'filters': {'AGE': {'min': 18, 'max': 100}, 'HOSPITALIZATION_DAYS': {'max': 180}}, 'clip_features': {'HOSPITALIZATION_DAYS': {'min': 0.5}}, 'log_features_to_add': ['HOSPITALIZATION_DAYS', 'DAYS_IN_ICU', 'DAYS_UNTIL_NEXT_HOSPITALIZATION', 'DAYS_SINCE_LAST_HOSPITALIZATION', 'NUM_PREV_HOSPITALIZATIONS', 'DAYS_UNTIL_NEXT_HOSP_PAST_MEAN', 'DAYS_UNTIL_NEXT_HOSP_PAST_MEDIAN']}}, 'neptune': {'token_file_path': '/workspaces/master-thesis-recurrent-health-events-prediction/.neptune-token', 'project': 'LucasAncken-MasterThesis/RecurrentHealthEventsPrediction'}}\n"
     ]
    }
   ],
   "source": [
    "print(config)"
   ]
  },
  {
   "cell_type": "markdown",
   "metadata": {},
   "source": [
    "## Data Extractor"
   ]
  },
  {
   "cell_type": "code",
   "execution_count": 3,
   "metadata": {},
   "outputs": [
    {
     "name": "stdout",
     "output_type": "stream",
     "text": [
      "Dataset path: /workspaces/master-thesis-recurrent-health-events-prediction/data/mimic-iii-dataset\n"
     ]
    },
    {
     "name": "stderr",
     "output_type": "stream",
     "text": [
      "/workspaces/master-thesis-recurrent-health-events-prediction/recurrent_health_events_prediction/data_extraction/DataExtractor.py:89: DtypeWarning: Columns (11) have mixed types. Specify dtype option on import or set low_memory=False.\n",
      "  prescriptions_df = pd.read_csv(self.data_path + '/PRESCRIPTIONS.csv')\n"
     ]
    }
   ],
   "source": [
    "from recurrent_health_events_prediction.data_extraction.DataExtractor import DataExtractorMIMIC\n",
    "from recurrent_health_events_prediction.data_extraction.data_types import DiseaseType\n",
    "\n",
    "dataset_config = config['dataset']['mimic']\n",
    "\n",
    "print(f\"Dataset path: {dataset_config['path']}\")\n",
    "\n",
    "selected_diseases = [DiseaseType.CHRONIC_PULMONARY_DISEASE, DiseaseType.CONGESTIVE_HEART_FAILURE]\n",
    "\n",
    "# Load the dataset\n",
    "data_extractor_mimic = DataExtractorMIMIC(dataset_config, selected_diseases)\n",
    "data_extractor_mimic.load_data()"
   ]
  },
  {
   "cell_type": "code",
   "execution_count": 3,
   "metadata": {},
   "outputs": [
    {
     "name": "stderr",
     "output_type": "stream",
     "text": [
      "/workspaces/master-thesis-recurrent-health-events-prediction/recurrent_health_events_prediction/data_extraction/DataExtractor.py:185: DtypeWarning: Columns (0) have mixed types. Specify dtype option on import or set low_memory=False.\n",
      "  drug_tests_df = pd.read_csv(self.data_path + '/events_averhealth.csv', low_memory=True)\n",
      "/workspaces/master-thesis-recurrent-health-events-prediction/recurrent_health_events_prediction/data_extraction/DataExtractor.py:189: DtypeWarning: Columns (0) have mixed types. Specify dtype option on import or set low_memory=False.\n",
      "  donors_df = pd.read_csv(self.data_path + '/donors_averhealth.csv', low_memory=True)\n"
     ]
    }
   ],
   "source": [
    "from recurrent_health_events_prediction.data_extraction.DataExtractor import DataExtractorDrugRelapse\n",
    "\n",
    "dataset_config = config['dataset']['relapse']\n",
    "\n",
    "# Load the dataset\n",
    "data_extractor_drug_relapse = DataExtractorDrugRelapse(dataset_config)\n",
    "donor_df = data_extractor_drug_relapse.get_donor_df()\n",
    "drug_tests_df = data_extractor_drug_relapse.get_drug_tests_df()"
   ]
  },
  {
   "cell_type": "code",
   "execution_count": 4,
   "metadata": {},
   "outputs": [
    {
     "name": "stdout",
     "output_type": "stream",
     "text": [
      "<class 'pandas.core.frame.DataFrame'>\n",
      "Index: 10590672 entries, 0 to 15629777\n",
      "Data columns (total 7 columns):\n",
      " #   Column              Dtype         \n",
      "---  ------              -----         \n",
      " 0   donor_id            int64         \n",
      " 1   drug_class          object        \n",
      " 2   time                datetime64[ns]\n",
      " 3   drug_test_positive  bool          \n",
      " 4   collection_id       int64         \n",
      " 5   showedup            bool          \n",
      " 6   program_type        object        \n",
      "dtypes: bool(2), datetime64[ns](1), int64(2), object(2)\n",
      "memory usage: 505.0+ MB\n"
     ]
    }
   ],
   "source": [
    "drug_tests_df.info()"
   ]
  },
  {
   "cell_type": "code",
   "execution_count": 6,
   "metadata": {},
   "outputs": [
    {
     "data": {
      "text/plain": [
       "array([6500262, 3070213, 9415201, ..., 9343138, 1572156, 1145793],\n",
       "      shape=(63199,))"
      ]
     },
     "execution_count": 6,
     "metadata": {},
     "output_type": "execute_result"
    }
   ],
   "source": [
    "drug_tests_df.donor_id.unique()"
   ]
  },
  {
   "cell_type": "markdown",
   "metadata": {},
   "source": [
    "### MIMIC dataframes"
   ]
  },
  {
   "cell_type": "code",
   "execution_count": 5,
   "metadata": {},
   "outputs": [
    {
     "data": {
      "application/vnd.microsoft.datawrangler.viewer.v0+json": {
       "columns": [
        {
         "name": "index",
         "rawType": "int64",
         "type": "integer"
        },
        {
         "name": "ROW_ID",
         "rawType": "int64",
         "type": "integer"
        },
        {
         "name": "SUBJECT_ID",
         "rawType": "int64",
         "type": "integer"
        },
        {
         "name": "HADM_ID",
         "rawType": "int64",
         "type": "integer"
        },
        {
         "name": "SEQ_NUM",
         "rawType": "float64",
         "type": "float"
        },
        {
         "name": "ICD9_CODE",
         "rawType": "object",
         "type": "string"
        },
        {
         "name": "ADMITTIME",
         "rawType": "datetime64[ns]",
         "type": "datetime"
        },
        {
         "name": "DISCHTIME",
         "rawType": "datetime64[ns]",
         "type": "datetime"
        },
        {
         "name": "ADMISSION_TYPE",
         "rawType": "object",
         "type": "string"
        },
        {
         "name": "INSURANCE",
         "rawType": "object",
         "type": "string"
        },
        {
         "name": "ETHNICITY",
         "rawType": "object",
         "type": "string"
        },
        {
         "name": "SHORT_TITLE",
         "rawType": "object",
         "type": "string"
        },
        {
         "name": "LONG_TITLE",
         "rawType": "object",
         "type": "string"
        },
        {
         "name": "COMORBIDITY",
         "rawType": "object",
         "type": "string"
        }
       ],
       "ref": "152cea56-1d9d-4e3a-b2ac-d5dff99c9f8d",
       "rows": [
        [
         "0",
         "1297",
         "109",
         "172335",
         "1.0",
         "40301",
         "2141-09-18 10:32:00",
         "2141-09-24 13:53:00",
         "EMERGENCY",
         "Medicaid",
         "BLACK/AFRICAN AMERICAN",
         "Mal hyp kid w cr kid V",
         "Hypertensive chronic kidney disease, malignant, with chronic kidney disease stage V or end stage renal disease",
         "renal_disease"
        ],
        [
         "1",
         "1298",
         "109",
         "172335",
         "2.0",
         "486",
         "2141-09-18 10:32:00",
         "2141-09-24 13:53:00",
         "EMERGENCY",
         "Medicaid",
         "BLACK/AFRICAN AMERICAN",
         "Pneumonia, organism NOS",
         "Pneumonia, organism unspecified",
         "other"
        ],
        [
         "2",
         "1299",
         "109",
         "172335",
         "3.0",
         "58281",
         "2141-09-18 10:32:00",
         "2141-09-24 13:53:00",
         "EMERGENCY",
         "Medicaid",
         "BLACK/AFRICAN AMERICAN",
         "Chr nephritis in oth dis",
         "Chronic glomerulonephritis in diseases classified elsewhere",
         "renal_disease"
        ],
        [
         "3",
         "1300",
         "109",
         "172335",
         "4.0",
         "5855",
         "2141-09-18 10:32:00",
         "2141-09-24 13:53:00",
         "EMERGENCY",
         "Medicaid",
         "BLACK/AFRICAN AMERICAN",
         "Chron kidney dis stage V",
         "Chronic kidney disease, Stage V",
         "renal_disease"
        ],
        [
         "4",
         "1301",
         "109",
         "172335",
         "5.0",
         "4254",
         "2141-09-18 10:32:00",
         "2141-09-24 13:53:00",
         "EMERGENCY",
         "Medicaid",
         "BLACK/AFRICAN AMERICAN",
         "Prim cardiomyopathy NEC",
         "Other primary cardiomyopathies",
         "congestive_heart_failure"
        ],
        [
         "5",
         "1302",
         "109",
         "172335",
         "6.0",
         "2762",
         "2141-09-18 10:32:00",
         "2141-09-24 13:53:00",
         "EMERGENCY",
         "Medicaid",
         "BLACK/AFRICAN AMERICAN",
         "Acidosis",
         "Acidosis",
         "other"
        ],
        [
         "6",
         "1303",
         "109",
         "172335",
         "7.0",
         "7100",
         "2141-09-18 10:32:00",
         "2141-09-24 13:53:00",
         "EMERGENCY",
         "Medicaid",
         "BLACK/AFRICAN AMERICAN",
         "Syst lupus erythematosus",
         "Systemic lupus erythematosus",
         "rheumatic_disease"
        ],
        [
         "7",
         "1304",
         "109",
         "172335",
         "8.0",
         "2767",
         "2141-09-18 10:32:00",
         "2141-09-24 13:53:00",
         "EMERGENCY",
         "Medicaid",
         "BLACK/AFRICAN AMERICAN",
         "Hyperpotassemia",
         "Hyperpotassemia",
         "other"
        ],
        [
         "8",
         "1305",
         "109",
         "172335",
         "9.0",
         "7243",
         "2141-09-18 10:32:00",
         "2141-09-24 13:53:00",
         "EMERGENCY",
         "Medicaid",
         "BLACK/AFRICAN AMERICAN",
         "Sciatica",
         "Sciatica",
         "other"
        ],
        [
         "9",
         "1306",
         "109",
         "172335",
         "10.0",
         "45829",
         "2141-09-18 10:32:00",
         "2141-09-24 13:53:00",
         "EMERGENCY",
         "Medicaid",
         "BLACK/AFRICAN AMERICAN",
         "Iatrogenc hypotnsion NEC",
         "Other iatrogenic hypotension",
         "other"
        ],
        [
         "10",
         "1307",
         "109",
         "172335",
         "11.0",
         "2875",
         "2141-09-18 10:32:00",
         "2141-09-24 13:53:00",
         "EMERGENCY",
         "Medicaid",
         "BLACK/AFRICAN AMERICAN",
         "Thrombocytopenia NOS",
         "Thrombocytopenia, unspecified",
         "other"
        ],
        [
         "11",
         "1308",
         "109",
         "172335",
         "12.0",
         "28521",
         "2141-09-18 10:32:00",
         "2141-09-24 13:53:00",
         "EMERGENCY",
         "Medicaid",
         "BLACK/AFRICAN AMERICAN",
         "Anemia in chr kidney dis",
         "Anemia in chronic kidney disease",
         "other"
        ],
        [
         "12",
         "1309",
         "109",
         "172335",
         "13.0",
         "28529",
         "2141-09-18 10:32:00",
         "2141-09-24 13:53:00",
         "EMERGENCY",
         "Medicaid",
         "BLACK/AFRICAN AMERICAN",
         "Anemia-other chronic dis",
         "Anemia of other chronic disease",
         "other"
        ],
        [
         "13",
         "1310",
         "109",
         "172335",
         "14.0",
         "27541",
         "2141-09-18 10:32:00",
         "2141-09-24 13:53:00",
         "EMERGENCY",
         "Medicaid",
         "BLACK/AFRICAN AMERICAN",
         "Hypocalcemia",
         "Hypocalcemia",
         "other"
        ],
        [
         "14",
         "1311",
         "109",
         "173633",
         "1.0",
         "40301",
         "2141-12-08 01:40:00",
         "2141-12-14 17:16:00",
         "EMERGENCY",
         "Medicaid",
         "BLACK/AFRICAN AMERICAN",
         "Mal hyp kid w cr kid V",
         "Hypertensive chronic kidney disease, malignant, with chronic kidney disease stage V or end stage renal disease",
         "renal_disease"
        ],
        [
         "15",
         "1312",
         "109",
         "173633",
         "2.0",
         "5856",
         "2141-12-08 01:40:00",
         "2141-12-14 17:16:00",
         "EMERGENCY",
         "Medicaid",
         "BLACK/AFRICAN AMERICAN",
         "End stage renal disease",
         "End stage renal disease",
         "renal_disease"
        ],
        [
         "16",
         "1313",
         "109",
         "173633",
         "3.0",
         "58381",
         "2141-12-08 01:40:00",
         "2141-12-14 17:16:00",
         "EMERGENCY",
         "Medicaid",
         "BLACK/AFRICAN AMERICAN",
         "Nephritis NOS in oth dis",
         "Nephritis and nephropathy, not specified as acute or chronic, in diseases classified elsewhere",
         "other"
        ],
        [
         "17",
         "1314",
         "109",
         "173633",
         "4.0",
         "7100",
         "2141-12-08 01:40:00",
         "2141-12-14 17:16:00",
         "EMERGENCY",
         "Medicaid",
         "BLACK/AFRICAN AMERICAN",
         "Syst lupus erythematosus",
         "Systemic lupus erythematosus",
         "rheumatic_disease"
        ],
        [
         "18",
         "1315",
         "109",
         "173633",
         "5.0",
         "5589",
         "2141-12-08 01:40:00",
         "2141-12-14 17:16:00",
         "EMERGENCY",
         "Medicaid",
         "BLACK/AFRICAN AMERICAN",
         "Noninf gastroenterit NEC",
         "Other and unspecified noninfectious gastroenteritis and colitis",
         "other"
        ],
        [
         "19",
         "1316",
         "109",
         "173633",
         "6.0",
         "2875",
         "2141-12-08 01:40:00",
         "2141-12-14 17:16:00",
         "EMERGENCY",
         "Medicaid",
         "BLACK/AFRICAN AMERICAN",
         "Thrombocytopenia NOS",
         "Thrombocytopenia, unspecified",
         "other"
        ],
        [
         "20",
         "1317",
         "109",
         "173633",
         "7.0",
         "28521",
         "2141-12-08 01:40:00",
         "2141-12-14 17:16:00",
         "EMERGENCY",
         "Medicaid",
         "BLACK/AFRICAN AMERICAN",
         "Anemia in chr kidney dis",
         "Anemia in chronic kidney disease",
         "other"
        ],
        [
         "21",
         "1318",
         "109",
         "173633",
         "8.0",
         "45829",
         "2141-12-08 01:40:00",
         "2141-12-14 17:16:00",
         "EMERGENCY",
         "Medicaid",
         "BLACK/AFRICAN AMERICAN",
         "Iatrogenc hypotnsion NEC",
         "Other iatrogenic hypotension",
         "other"
        ],
        [
         "22",
         "1319",
         "109",
         "173633",
         "9.0",
         "32723",
         "2141-12-08 01:40:00",
         "2141-12-14 17:16:00",
         "EMERGENCY",
         "Medicaid",
         "BLACK/AFRICAN AMERICAN",
         "Obstructive sleep apnea",
         "Obstructive sleep apnea (adult)(pediatric)",
         "other"
        ],
        [
         "23",
         "1320",
         "109",
         "173633",
         "10.0",
         "22804",
         "2141-12-08 01:40:00",
         "2141-12-14 17:16:00",
         "EMERGENCY",
         "Medicaid",
         "BLACK/AFRICAN AMERICAN",
         "Hemangioma intra-abdom",
         "Hemangioma of intra-abdominal structures",
         "other"
        ],
        [
         "24",
         "1321",
         "109",
         "173633",
         "11.0",
         "33829",
         "2141-12-08 01:40:00",
         "2141-12-14 17:16:00",
         "EMERGENCY",
         "Medicaid",
         "BLACK/AFRICAN AMERICAN",
         "Chronic pain NEC",
         "Other chronic pain",
         "other"
        ],
        [
         "25",
         "1322",
         "109",
         "173633",
         "12.0",
         "78900",
         "2141-12-08 01:40:00",
         "2141-12-14 17:16:00",
         "EMERGENCY",
         "Medicaid",
         "BLACK/AFRICAN AMERICAN",
         "Abdmnal pain unspcf site",
         "Abdominal pain, unspecified site",
         "other"
        ],
        [
         "26",
         "1323",
         "109",
         "173633",
         "13.0",
         "79092",
         "2141-12-08 01:40:00",
         "2141-12-14 17:16:00",
         "EMERGENCY",
         "Medicaid",
         "BLACK/AFRICAN AMERICAN",
         "Abnrml coagultion prfile",
         "Abnormal coagulation profile",
         "other"
        ],
        [
         "27",
         "1324",
         "109",
         "173633",
         "14.0",
         "V4511",
         "2141-12-08 01:40:00",
         "2141-12-14 17:16:00",
         "EMERGENCY",
         "Medicaid",
         "BLACK/AFRICAN AMERICAN",
         "Renal dialysis status",
         "Renal dialysis status",
         "renal_disease"
        ],
        [
         "42",
         "1502",
         "115",
         "114585",
         "1.0",
         "1940",
         "2194-10-16 12:48:00",
         "2194-11-13 16:50:00",
         "EMERGENCY",
         "Medicare",
         "WHITE",
         "Malign neopl adrenal",
         "Malignant neoplasm of adrenal gland",
         "malignant_cancer"
        ],
        [
         "43",
         "1503",
         "115",
         "114585",
         "2.0",
         "1977",
         "2194-10-16 12:48:00",
         "2194-11-13 16:50:00",
         "EMERGENCY",
         "Medicare",
         "WHITE",
         "Second malig neo liver",
         "Malignant neoplasm of liver, secondary",
         "metastatic_solid_tumor"
        ],
        [
         "44",
         "1504",
         "115",
         "114585",
         "3.0",
         "2553",
         "2194-10-16 12:48:00",
         "2194-11-13 16:50:00",
         "EMERGENCY",
         "Medicare",
         "WHITE",
         "Corticoadren overact NEC",
         "Other corticoadrenal overactivity",
         "other"
        ],
        [
         "45",
         "1505",
         "115",
         "114585",
         "4.0",
         "4240",
         "2194-10-16 12:48:00",
         "2194-11-13 16:50:00",
         "EMERGENCY",
         "Medicare",
         "WHITE",
         "Mitral valve disorder",
         "Mitral valve disorders",
         "other"
        ],
        [
         "46",
         "1506",
         "115",
         "114585",
         "5.0",
         "5845",
         "2194-10-16 12:48:00",
         "2194-11-13 16:50:00",
         "EMERGENCY",
         "Medicare",
         "WHITE",
         "Ac kidny fail, tubr necr",
         "Acute kidney failure with lesion of tubular necrosis",
         "other"
        ],
        [
         "47",
         "1507",
         "115",
         "114585",
         "6.0",
         "99859",
         "2194-10-16 12:48:00",
         "2194-11-13 16:50:00",
         "EMERGENCY",
         "Medicare",
         "WHITE",
         "Other postop infection",
         "Other postoperative infection",
         "other"
        ],
        [
         "48",
         "1508",
         "115",
         "114585",
         "7.0",
         "6822",
         "2194-10-16 12:48:00",
         "2194-11-13 16:50:00",
         "EMERGENCY",
         "Medicare",
         "WHITE",
         "Cellulitis of trunk",
         "Cellulitis and abscess of trunk",
         "other"
        ],
        [
         "49",
         "1509",
         "115",
         "114585",
         "8.0",
         "5119",
         "2194-10-16 12:48:00",
         "2194-11-13 16:50:00",
         "EMERGENCY",
         "Medicare",
         "WHITE",
         "Pleural effusion NOS",
         "Unspecified pleural effusion",
         "other"
        ],
        [
         "50",
         "1510",
         "115",
         "114585",
         "9.0",
         "5990",
         "2194-10-16 12:48:00",
         "2194-11-13 16:50:00",
         "EMERGENCY",
         "Medicare",
         "WHITE",
         "Urin tract infection NOS",
         "Urinary tract infection, site not specified",
         "other"
        ],
        [
         "51",
         "1511",
         "115",
         "114585",
         "10.0",
         "4280",
         "2194-10-16 12:48:00",
         "2194-11-13 16:50:00",
         "EMERGENCY",
         "Medicare",
         "WHITE",
         "CHF NOS",
         "Congestive heart failure, unspecified",
         "congestive_heart_failure"
        ],
        [
         "52",
         "1512",
         "115",
         "114585",
         "11.0",
         "34982",
         "2194-10-16 12:48:00",
         "2194-11-13 16:50:00",
         "EMERGENCY",
         "Medicare",
         "WHITE",
         "Toxic encephalopathy",
         "Toxic encephalopathy",
         "other"
        ],
        [
         "53",
         "1513",
         "115",
         "114585",
         "12.0",
         "4019",
         "2194-10-16 12:48:00",
         "2194-11-13 16:50:00",
         "EMERGENCY",
         "Medicare",
         "WHITE",
         "Hypertension NOS",
         "Unspecified essential hypertension",
         "other"
        ],
        [
         "54",
         "1514",
         "115",
         "114585",
         "13.0",
         "V1000",
         "2194-10-16 12:48:00",
         "2194-11-13 16:50:00",
         "EMERGENCY",
         "Medicare",
         "WHITE",
         "Hx of GI malignancy NOS",
         "Personal history of malignant neoplasm of gastrointestinal tract, unspecified",
         "other"
        ],
        [
         "55",
         "1515",
         "115",
         "114585",
         "14.0",
         "V453",
         "2194-10-16 12:48:00",
         "2194-11-13 16:50:00",
         "EMERGENCY",
         "Medicare",
         "WHITE",
         "Intestinal bypass status",
         "Intestinal bypass or anastomosis status",
         "other"
        ],
        [
         "56",
         "1516",
         "115",
         "114585",
         "15.0",
         "V5865",
         "2194-10-16 12:48:00",
         "2194-11-13 16:50:00",
         "EMERGENCY",
         "Medicare",
         "WHITE",
         "Long-term use steroids",
         "Long-term (current) use of steroids",
         "other"
        ],
        [
         "57",
         "1517",
         "115",
         "114585",
         "16.0",
         "0413",
         "2194-10-16 12:48:00",
         "2194-11-13 16:50:00",
         "EMERGENCY",
         "Medicare",
         "WHITE",
         "Klebsiella pneumoniae",
         "Friedl?nder's bacillus infection in conditions classified elsewhere and of unspecified site",
         "other"
        ],
        [
         "58",
         "1518",
         "115",
         "114585",
         "17.0",
         "2518",
         "2194-10-16 12:48:00",
         "2194-11-13 16:50:00",
         "EMERGENCY",
         "Medicare",
         "WHITE",
         "Pancreatic disorder NEC",
         "Other specified disorders of pancreatic internal secretion",
         "other"
        ],
        [
         "59",
         "1519",
         "115",
         "114585",
         "18.0",
         "E9320",
         "2194-10-16 12:48:00",
         "2194-11-13 16:50:00",
         "EMERGENCY",
         "Medicare",
         "WHITE",
         "Adv eff corticosteroids",
         "Adrenal cortical steroids causing adverse effects in therapeutic use",
         "other"
        ],
        [
         "63",
         "1523",
         "117",
         "140784",
         "1.0",
         "5715",
         "2133-04-07 16:29:00",
         "2133-04-12 16:39:00",
         "EMERGENCY",
         "Medicaid",
         "WHITE",
         "Cirrhosis of liver NOS",
         "Cirrhosis of liver without mention of alcohol",
         "mild_liver_disease"
        ],
        [
         "64",
         "1525",
         "117",
         "140784",
         "3.0",
         "07054",
         "2133-04-07 16:29:00",
         "2133-04-12 16:39:00",
         "EMERGENCY",
         "Medicaid",
         "WHITE",
         "Chrnc hpt C wo hpat coma",
         "Chronic hepatitis C without mention of hepatic coma",
         "mild_liver_disease"
        ],
        [
         "65",
         "1526",
         "117",
         "140784",
         "4.0",
         "2875",
         "2133-04-07 16:29:00",
         "2133-04-12 16:39:00",
         "EMERGENCY",
         "Medicaid",
         "WHITE",
         "Thrombocytopenia NOS",
         "Thrombocytopenia, unspecified",
         "other"
        ],
        [
         "66",
         "1527",
         "117",
         "140784",
         "5.0",
         "4280",
         "2133-04-07 16:29:00",
         "2133-04-12 16:39:00",
         "EMERGENCY",
         "Medicaid",
         "WHITE",
         "CHF NOS",
         "Congestive heart failure, unspecified",
         "congestive_heart_failure"
        ]
       ],
       "shape": {
        "columns": 13,
        "rows": 324706
       }
      },
      "text/html": [
       "<div>\n",
       "<style scoped>\n",
       "    .dataframe tbody tr th:only-of-type {\n",
       "        vertical-align: middle;\n",
       "    }\n",
       "\n",
       "    .dataframe tbody tr th {\n",
       "        vertical-align: top;\n",
       "    }\n",
       "\n",
       "    .dataframe thead th {\n",
       "        text-align: right;\n",
       "    }\n",
       "</style>\n",
       "<table border=\"1\" class=\"dataframe\">\n",
       "  <thead>\n",
       "    <tr style=\"text-align: right;\">\n",
       "      <th></th>\n",
       "      <th>ROW_ID</th>\n",
       "      <th>SUBJECT_ID</th>\n",
       "      <th>HADM_ID</th>\n",
       "      <th>SEQ_NUM</th>\n",
       "      <th>ICD9_CODE</th>\n",
       "      <th>ADMITTIME</th>\n",
       "      <th>DISCHTIME</th>\n",
       "      <th>ADMISSION_TYPE</th>\n",
       "      <th>INSURANCE</th>\n",
       "      <th>ETHNICITY</th>\n",
       "      <th>SHORT_TITLE</th>\n",
       "      <th>LONG_TITLE</th>\n",
       "      <th>COMORBIDITY</th>\n",
       "    </tr>\n",
       "  </thead>\n",
       "  <tbody>\n",
       "    <tr>\n",
       "      <th>0</th>\n",
       "      <td>1297</td>\n",
       "      <td>109</td>\n",
       "      <td>172335</td>\n",
       "      <td>1.0</td>\n",
       "      <td>40301</td>\n",
       "      <td>2141-09-18 10:32:00</td>\n",
       "      <td>2141-09-24 13:53:00</td>\n",
       "      <td>EMERGENCY</td>\n",
       "      <td>Medicaid</td>\n",
       "      <td>BLACK/AFRICAN AMERICAN</td>\n",
       "      <td>Mal hyp kid w cr kid V</td>\n",
       "      <td>Hypertensive chronic kidney disease, malignant...</td>\n",
       "      <td>renal_disease</td>\n",
       "    </tr>\n",
       "    <tr>\n",
       "      <th>1</th>\n",
       "      <td>1298</td>\n",
       "      <td>109</td>\n",
       "      <td>172335</td>\n",
       "      <td>2.0</td>\n",
       "      <td>486</td>\n",
       "      <td>2141-09-18 10:32:00</td>\n",
       "      <td>2141-09-24 13:53:00</td>\n",
       "      <td>EMERGENCY</td>\n",
       "      <td>Medicaid</td>\n",
       "      <td>BLACK/AFRICAN AMERICAN</td>\n",
       "      <td>Pneumonia, organism NOS</td>\n",
       "      <td>Pneumonia, organism unspecified</td>\n",
       "      <td>other</td>\n",
       "    </tr>\n",
       "    <tr>\n",
       "      <th>2</th>\n",
       "      <td>1299</td>\n",
       "      <td>109</td>\n",
       "      <td>172335</td>\n",
       "      <td>3.0</td>\n",
       "      <td>58281</td>\n",
       "      <td>2141-09-18 10:32:00</td>\n",
       "      <td>2141-09-24 13:53:00</td>\n",
       "      <td>EMERGENCY</td>\n",
       "      <td>Medicaid</td>\n",
       "      <td>BLACK/AFRICAN AMERICAN</td>\n",
       "      <td>Chr nephritis in oth dis</td>\n",
       "      <td>Chronic glomerulonephritis in diseases classif...</td>\n",
       "      <td>renal_disease</td>\n",
       "    </tr>\n",
       "    <tr>\n",
       "      <th>3</th>\n",
       "      <td>1300</td>\n",
       "      <td>109</td>\n",
       "      <td>172335</td>\n",
       "      <td>4.0</td>\n",
       "      <td>5855</td>\n",
       "      <td>2141-09-18 10:32:00</td>\n",
       "      <td>2141-09-24 13:53:00</td>\n",
       "      <td>EMERGENCY</td>\n",
       "      <td>Medicaid</td>\n",
       "      <td>BLACK/AFRICAN AMERICAN</td>\n",
       "      <td>Chron kidney dis stage V</td>\n",
       "      <td>Chronic kidney disease, Stage V</td>\n",
       "      <td>renal_disease</td>\n",
       "    </tr>\n",
       "    <tr>\n",
       "      <th>4</th>\n",
       "      <td>1301</td>\n",
       "      <td>109</td>\n",
       "      <td>172335</td>\n",
       "      <td>5.0</td>\n",
       "      <td>4254</td>\n",
       "      <td>2141-09-18 10:32:00</td>\n",
       "      <td>2141-09-24 13:53:00</td>\n",
       "      <td>EMERGENCY</td>\n",
       "      <td>Medicaid</td>\n",
       "      <td>BLACK/AFRICAN AMERICAN</td>\n",
       "      <td>Prim cardiomyopathy NEC</td>\n",
       "      <td>Other primary cardiomyopathies</td>\n",
       "      <td>congestive_heart_failure</td>\n",
       "    </tr>\n",
       "    <tr>\n",
       "      <th>...</th>\n",
       "      <td>...</td>\n",
       "      <td>...</td>\n",
       "      <td>...</td>\n",
       "      <td>...</td>\n",
       "      <td>...</td>\n",
       "      <td>...</td>\n",
       "      <td>...</td>\n",
       "      <td>...</td>\n",
       "      <td>...</td>\n",
       "      <td>...</td>\n",
       "      <td>...</td>\n",
       "      <td>...</td>\n",
       "      <td>...</td>\n",
       "    </tr>\n",
       "    <tr>\n",
       "      <th>634681</th>\n",
       "      <td>639774</td>\n",
       "      <td>97488</td>\n",
       "      <td>161999</td>\n",
       "      <td>19.0</td>\n",
       "      <td>7843</td>\n",
       "      <td>2128-08-27 15:01:00</td>\n",
       "      <td>2128-09-04 15:30:00</td>\n",
       "      <td>EMERGENCY</td>\n",
       "      <td>Medicare</td>\n",
       "      <td>WHITE</td>\n",
       "      <td>Aphasia</td>\n",
       "      <td>Aphasia</td>\n",
       "      <td>other</td>\n",
       "    </tr>\n",
       "    <tr>\n",
       "      <th>634682</th>\n",
       "      <td>639776</td>\n",
       "      <td>97488</td>\n",
       "      <td>161999</td>\n",
       "      <td>21.0</td>\n",
       "      <td>30391</td>\n",
       "      <td>2128-08-27 15:01:00</td>\n",
       "      <td>2128-09-04 15:30:00</td>\n",
       "      <td>EMERGENCY</td>\n",
       "      <td>Medicare</td>\n",
       "      <td>WHITE</td>\n",
       "      <td>Alcoh dep NEC/NOS-contin</td>\n",
       "      <td>Other and unspecified alcohol dependence, cont...</td>\n",
       "      <td>other</td>\n",
       "    </tr>\n",
       "    <tr>\n",
       "      <th>634683</th>\n",
       "      <td>639777</td>\n",
       "      <td>97488</td>\n",
       "      <td>161999</td>\n",
       "      <td>22.0</td>\n",
       "      <td>E8798</td>\n",
       "      <td>2128-08-27 15:01:00</td>\n",
       "      <td>2128-09-04 15:30:00</td>\n",
       "      <td>EMERGENCY</td>\n",
       "      <td>Medicare</td>\n",
       "      <td>WHITE</td>\n",
       "      <td>Abn react-procedure NEC</td>\n",
       "      <td>Other specified procedures as the cause of abn...</td>\n",
       "      <td>other</td>\n",
       "    </tr>\n",
       "    <tr>\n",
       "      <th>634684</th>\n",
       "      <td>639778</td>\n",
       "      <td>97488</td>\n",
       "      <td>161999</td>\n",
       "      <td>23.0</td>\n",
       "      <td>78791</td>\n",
       "      <td>2128-08-27 15:01:00</td>\n",
       "      <td>2128-09-04 15:30:00</td>\n",
       "      <td>EMERGENCY</td>\n",
       "      <td>Medicare</td>\n",
       "      <td>WHITE</td>\n",
       "      <td>Diarrhea</td>\n",
       "      <td>Diarrhea</td>\n",
       "      <td>other</td>\n",
       "    </tr>\n",
       "    <tr>\n",
       "      <th>634685</th>\n",
       "      <td>639779</td>\n",
       "      <td>97488</td>\n",
       "      <td>161999</td>\n",
       "      <td>24.0</td>\n",
       "      <td>V4986</td>\n",
       "      <td>2128-08-27 15:01:00</td>\n",
       "      <td>2128-09-04 15:30:00</td>\n",
       "      <td>EMERGENCY</td>\n",
       "      <td>Medicare</td>\n",
       "      <td>WHITE</td>\n",
       "      <td>Do not resusctate status</td>\n",
       "      <td>Do not resuscitate status</td>\n",
       "      <td>other</td>\n",
       "    </tr>\n",
       "  </tbody>\n",
       "</table>\n",
       "<p>324706 rows × 13 columns</p>\n",
       "</div>"
      ],
      "text/plain": [
       "        ROW_ID  SUBJECT_ID  HADM_ID  SEQ_NUM ICD9_CODE           ADMITTIME  \\\n",
       "0         1297         109   172335      1.0     40301 2141-09-18 10:32:00   \n",
       "1         1298         109   172335      2.0       486 2141-09-18 10:32:00   \n",
       "2         1299         109   172335      3.0     58281 2141-09-18 10:32:00   \n",
       "3         1300         109   172335      4.0      5855 2141-09-18 10:32:00   \n",
       "4         1301         109   172335      5.0      4254 2141-09-18 10:32:00   \n",
       "...        ...         ...      ...      ...       ...                 ...   \n",
       "634681  639774       97488   161999     19.0      7843 2128-08-27 15:01:00   \n",
       "634682  639776       97488   161999     21.0     30391 2128-08-27 15:01:00   \n",
       "634683  639777       97488   161999     22.0     E8798 2128-08-27 15:01:00   \n",
       "634684  639778       97488   161999     23.0     78791 2128-08-27 15:01:00   \n",
       "634685  639779       97488   161999     24.0     V4986 2128-08-27 15:01:00   \n",
       "\n",
       "                 DISCHTIME ADMISSION_TYPE INSURANCE               ETHNICITY  \\\n",
       "0      2141-09-24 13:53:00      EMERGENCY  Medicaid  BLACK/AFRICAN AMERICAN   \n",
       "1      2141-09-24 13:53:00      EMERGENCY  Medicaid  BLACK/AFRICAN AMERICAN   \n",
       "2      2141-09-24 13:53:00      EMERGENCY  Medicaid  BLACK/AFRICAN AMERICAN   \n",
       "3      2141-09-24 13:53:00      EMERGENCY  Medicaid  BLACK/AFRICAN AMERICAN   \n",
       "4      2141-09-24 13:53:00      EMERGENCY  Medicaid  BLACK/AFRICAN AMERICAN   \n",
       "...                    ...            ...       ...                     ...   \n",
       "634681 2128-09-04 15:30:00      EMERGENCY  Medicare                   WHITE   \n",
       "634682 2128-09-04 15:30:00      EMERGENCY  Medicare                   WHITE   \n",
       "634683 2128-09-04 15:30:00      EMERGENCY  Medicare                   WHITE   \n",
       "634684 2128-09-04 15:30:00      EMERGENCY  Medicare                   WHITE   \n",
       "634685 2128-09-04 15:30:00      EMERGENCY  Medicare                   WHITE   \n",
       "\n",
       "                     SHORT_TITLE  \\\n",
       "0         Mal hyp kid w cr kid V   \n",
       "1        Pneumonia, organism NOS   \n",
       "2       Chr nephritis in oth dis   \n",
       "3       Chron kidney dis stage V   \n",
       "4        Prim cardiomyopathy NEC   \n",
       "...                          ...   \n",
       "634681                   Aphasia   \n",
       "634682  Alcoh dep NEC/NOS-contin   \n",
       "634683   Abn react-procedure NEC   \n",
       "634684                  Diarrhea   \n",
       "634685  Do not resusctate status   \n",
       "\n",
       "                                               LONG_TITLE  \\\n",
       "0       Hypertensive chronic kidney disease, malignant...   \n",
       "1                         Pneumonia, organism unspecified   \n",
       "2       Chronic glomerulonephritis in diseases classif...   \n",
       "3                         Chronic kidney disease, Stage V   \n",
       "4                          Other primary cardiomyopathies   \n",
       "...                                                   ...   \n",
       "634681                                            Aphasia   \n",
       "634682  Other and unspecified alcohol dependence, cont...   \n",
       "634683  Other specified procedures as the cause of abn...   \n",
       "634684                                           Diarrhea   \n",
       "634685                          Do not resuscitate status   \n",
       "\n",
       "                     COMORBIDITY  \n",
       "0                  renal_disease  \n",
       "1                          other  \n",
       "2                  renal_disease  \n",
       "3                  renal_disease  \n",
       "4       congestive_heart_failure  \n",
       "...                          ...  \n",
       "634681                     other  \n",
       "634682                     other  \n",
       "634683                     other  \n",
       "634684                     other  \n",
       "634685                     other  \n",
       "\n",
       "[324706 rows x 13 columns]"
      ]
     },
     "execution_count": 5,
     "metadata": {},
     "output_type": "execute_result"
    }
   ],
   "source": [
    "admissions_df = data_extractor_mimic.get_admissions_df()\n",
    "admissions_df"
   ]
  },
  {
   "cell_type": "code",
   "execution_count": 6,
   "metadata": {},
   "outputs": [
    {
     "data": {
      "application/vnd.microsoft.datawrangler.viewer.v0+json": {
       "columns": [
        {
         "name": "index",
         "rawType": "int64",
         "type": "integer"
        },
        {
         "name": "ROW_ID",
         "rawType": "int64",
         "type": "integer"
        },
        {
         "name": "SUBJECT_ID",
         "rawType": "int64",
         "type": "integer"
        },
        {
         "name": "HADM_ID",
         "rawType": "int64",
         "type": "integer"
        },
        {
         "name": "ICUSTAY_ID",
         "rawType": "int64",
         "type": "integer"
        },
        {
         "name": "DBSOURCE",
         "rawType": "object",
         "type": "string"
        },
        {
         "name": "FIRST_CAREUNIT",
         "rawType": "object",
         "type": "string"
        },
        {
         "name": "LAST_CAREUNIT",
         "rawType": "object",
         "type": "string"
        },
        {
         "name": "FIRST_WARDID",
         "rawType": "int64",
         "type": "integer"
        },
        {
         "name": "LAST_WARDID",
         "rawType": "int64",
         "type": "integer"
        },
        {
         "name": "INTIME",
         "rawType": "datetime64[ns]",
         "type": "datetime"
        },
        {
         "name": "OUTTIME",
         "rawType": "datetime64[ns]",
         "type": "datetime"
        },
        {
         "name": "LOS",
         "rawType": "float64",
         "type": "float"
        }
       ],
       "ref": "3532a3f7-4e3b-4f98-80c8-5454c3e5bf47",
       "rows": [
        [
         "0",
         "365",
         "268",
         "110404",
         "280836",
         "carevue",
         "MICU",
         "MICU",
         "52",
         "52",
         "2198-02-14 23:27:38",
         "2198-02-18 05:26:11",
         "3.249"
        ],
        [
         "2",
         "367",
         "270",
         "188028",
         "220345",
         "carevue",
         "CCU",
         "CCU",
         "57",
         "57",
         "2128-06-24 15:05:20",
         "2128-06-27 12:32:29",
         "2.8939"
        ],
        [
         "5",
         "370",
         "273",
         "158689",
         "241507",
         "carevue",
         "MICU",
         "MICU",
         "52",
         "52",
         "2141-04-19 06:12:05",
         "2141-04-20 17:52:11",
         "1.4862"
        ],
        [
         "12",
         "377",
         "281",
         "111199",
         "257572",
         "carevue",
         "MICU",
         "MICU",
         "52",
         "52",
         "2101-10-18 04:45:22",
         "2101-10-25 22:29:25",
         "7.7389"
        ],
        [
         "14",
         "379",
         "283",
         "109185",
         "231490",
         "carevue",
         "MICU",
         "MICU",
         "15",
         "15",
         "2166-08-12 22:03:26",
         "2166-09-12 14:41:42",
         "30.6932"
        ]
       ],
       "shape": {
        "columns": 12,
        "rows": 5
       }
      },
      "text/html": [
       "<div>\n",
       "<style scoped>\n",
       "    .dataframe tbody tr th:only-of-type {\n",
       "        vertical-align: middle;\n",
       "    }\n",
       "\n",
       "    .dataframe tbody tr th {\n",
       "        vertical-align: top;\n",
       "    }\n",
       "\n",
       "    .dataframe thead th {\n",
       "        text-align: right;\n",
       "    }\n",
       "</style>\n",
       "<table border=\"1\" class=\"dataframe\">\n",
       "  <thead>\n",
       "    <tr style=\"text-align: right;\">\n",
       "      <th></th>\n",
       "      <th>ROW_ID</th>\n",
       "      <th>SUBJECT_ID</th>\n",
       "      <th>HADM_ID</th>\n",
       "      <th>ICUSTAY_ID</th>\n",
       "      <th>DBSOURCE</th>\n",
       "      <th>FIRST_CAREUNIT</th>\n",
       "      <th>LAST_CAREUNIT</th>\n",
       "      <th>FIRST_WARDID</th>\n",
       "      <th>LAST_WARDID</th>\n",
       "      <th>INTIME</th>\n",
       "      <th>OUTTIME</th>\n",
       "      <th>LOS</th>\n",
       "    </tr>\n",
       "  </thead>\n",
       "  <tbody>\n",
       "    <tr>\n",
       "      <th>0</th>\n",
       "      <td>365</td>\n",
       "      <td>268</td>\n",
       "      <td>110404</td>\n",
       "      <td>280836</td>\n",
       "      <td>carevue</td>\n",
       "      <td>MICU</td>\n",
       "      <td>MICU</td>\n",
       "      <td>52</td>\n",
       "      <td>52</td>\n",
       "      <td>2198-02-14 23:27:38</td>\n",
       "      <td>2198-02-18 05:26:11</td>\n",
       "      <td>3.2490</td>\n",
       "    </tr>\n",
       "    <tr>\n",
       "      <th>2</th>\n",
       "      <td>367</td>\n",
       "      <td>270</td>\n",
       "      <td>188028</td>\n",
       "      <td>220345</td>\n",
       "      <td>carevue</td>\n",
       "      <td>CCU</td>\n",
       "      <td>CCU</td>\n",
       "      <td>57</td>\n",
       "      <td>57</td>\n",
       "      <td>2128-06-24 15:05:20</td>\n",
       "      <td>2128-06-27 12:32:29</td>\n",
       "      <td>2.8939</td>\n",
       "    </tr>\n",
       "    <tr>\n",
       "      <th>5</th>\n",
       "      <td>370</td>\n",
       "      <td>273</td>\n",
       "      <td>158689</td>\n",
       "      <td>241507</td>\n",
       "      <td>carevue</td>\n",
       "      <td>MICU</td>\n",
       "      <td>MICU</td>\n",
       "      <td>52</td>\n",
       "      <td>52</td>\n",
       "      <td>2141-04-19 06:12:05</td>\n",
       "      <td>2141-04-20 17:52:11</td>\n",
       "      <td>1.4862</td>\n",
       "    </tr>\n",
       "    <tr>\n",
       "      <th>12</th>\n",
       "      <td>377</td>\n",
       "      <td>281</td>\n",
       "      <td>111199</td>\n",
       "      <td>257572</td>\n",
       "      <td>carevue</td>\n",
       "      <td>MICU</td>\n",
       "      <td>MICU</td>\n",
       "      <td>52</td>\n",
       "      <td>52</td>\n",
       "      <td>2101-10-18 04:45:22</td>\n",
       "      <td>2101-10-25 22:29:25</td>\n",
       "      <td>7.7389</td>\n",
       "    </tr>\n",
       "    <tr>\n",
       "      <th>14</th>\n",
       "      <td>379</td>\n",
       "      <td>283</td>\n",
       "      <td>109185</td>\n",
       "      <td>231490</td>\n",
       "      <td>carevue</td>\n",
       "      <td>MICU</td>\n",
       "      <td>MICU</td>\n",
       "      <td>15</td>\n",
       "      <td>15</td>\n",
       "      <td>2166-08-12 22:03:26</td>\n",
       "      <td>2166-09-12 14:41:42</td>\n",
       "      <td>30.6932</td>\n",
       "    </tr>\n",
       "  </tbody>\n",
       "</table>\n",
       "</div>"
      ],
      "text/plain": [
       "    ROW_ID  SUBJECT_ID  HADM_ID  ICUSTAY_ID DBSOURCE FIRST_CAREUNIT  \\\n",
       "0      365         268   110404      280836  carevue           MICU   \n",
       "2      367         270   188028      220345  carevue            CCU   \n",
       "5      370         273   158689      241507  carevue           MICU   \n",
       "12     377         281   111199      257572  carevue           MICU   \n",
       "14     379         283   109185      231490  carevue           MICU   \n",
       "\n",
       "   LAST_CAREUNIT  FIRST_WARDID  LAST_WARDID              INTIME  \\\n",
       "0           MICU            52           52 2198-02-14 23:27:38   \n",
       "2            CCU            57           57 2128-06-24 15:05:20   \n",
       "5           MICU            52           52 2141-04-19 06:12:05   \n",
       "12          MICU            52           52 2101-10-18 04:45:22   \n",
       "14          MICU            15           15 2166-08-12 22:03:26   \n",
       "\n",
       "               OUTTIME      LOS  \n",
       "0  2198-02-18 05:26:11   3.2490  \n",
       "2  2128-06-27 12:32:29   2.8939  \n",
       "5  2141-04-20 17:52:11   1.4862  \n",
       "12 2101-10-25 22:29:25   7.7389  \n",
       "14 2166-09-12 14:41:42  30.6932  "
      ]
     },
     "execution_count": 6,
     "metadata": {},
     "output_type": "execute_result"
    }
   ],
   "source": [
    "icu_df = data_extractor_mimic.get_icu_stays_df()\n",
    "icu_df.head()"
   ]
  },
  {
   "cell_type": "code",
   "execution_count": 7,
   "metadata": {},
   "outputs": [
    {
     "data": {
      "application/vnd.microsoft.datawrangler.viewer.v0+json": {
       "columns": [
        {
         "name": "index",
         "rawType": "int64",
         "type": "integer"
        },
        {
         "name": "SUBJECT_ID",
         "rawType": "int64",
         "type": "integer"
        },
        {
         "name": "GENDER",
         "rawType": "object",
         "type": "string"
        },
        {
         "name": "DOB",
         "rawType": "datetime64[ns]",
         "type": "datetime"
        },
        {
         "name": "DOD",
         "rawType": "datetime64[ns]",
         "type": "datetime"
        },
        {
         "name": "DOD_HOSP",
         "rawType": "datetime64[ns]",
         "type": "datetime"
        }
       ],
       "ref": "46a5e72d-55e7-48e3-a6d5-d16b08c5a10f",
       "rows": [
        [
         "0",
         "249",
         "F",
         "2075-03-13 00:00:00",
         null,
         null
        ],
        [
         "4",
         "253",
         "F",
         "2089-11-26 00:00:00",
         null,
         null
        ],
        [
         "6",
         "256",
         "M",
         "2086-07-31 00:00:00",
         null,
         null
        ],
        [
         "10",
         "261",
         "M",
         "2025-08-04 00:00:00",
         "2102-06-29 00:00:00",
         "2102-06-29 00:00:00"
        ],
        [
         "11",
         "262",
         "M",
         "2090-01-05 00:00:00",
         null,
         null
        ]
       ],
       "shape": {
        "columns": 5,
        "rows": 5
       }
      },
      "text/html": [
       "<div>\n",
       "<style scoped>\n",
       "    .dataframe tbody tr th:only-of-type {\n",
       "        vertical-align: middle;\n",
       "    }\n",
       "\n",
       "    .dataframe tbody tr th {\n",
       "        vertical-align: top;\n",
       "    }\n",
       "\n",
       "    .dataframe thead th {\n",
       "        text-align: right;\n",
       "    }\n",
       "</style>\n",
       "<table border=\"1\" class=\"dataframe\">\n",
       "  <thead>\n",
       "    <tr style=\"text-align: right;\">\n",
       "      <th></th>\n",
       "      <th>SUBJECT_ID</th>\n",
       "      <th>GENDER</th>\n",
       "      <th>DOB</th>\n",
       "      <th>DOD</th>\n",
       "      <th>DOD_HOSP</th>\n",
       "    </tr>\n",
       "  </thead>\n",
       "  <tbody>\n",
       "    <tr>\n",
       "      <th>0</th>\n",
       "      <td>249</td>\n",
       "      <td>F</td>\n",
       "      <td>2075-03-13</td>\n",
       "      <td>NaT</td>\n",
       "      <td>NaT</td>\n",
       "    </tr>\n",
       "    <tr>\n",
       "      <th>4</th>\n",
       "      <td>253</td>\n",
       "      <td>F</td>\n",
       "      <td>2089-11-26</td>\n",
       "      <td>NaT</td>\n",
       "      <td>NaT</td>\n",
       "    </tr>\n",
       "    <tr>\n",
       "      <th>6</th>\n",
       "      <td>256</td>\n",
       "      <td>M</td>\n",
       "      <td>2086-07-31</td>\n",
       "      <td>NaT</td>\n",
       "      <td>NaT</td>\n",
       "    </tr>\n",
       "    <tr>\n",
       "      <th>10</th>\n",
       "      <td>261</td>\n",
       "      <td>M</td>\n",
       "      <td>2025-08-04</td>\n",
       "      <td>2102-06-29</td>\n",
       "      <td>2102-06-29</td>\n",
       "    </tr>\n",
       "    <tr>\n",
       "      <th>11</th>\n",
       "      <td>262</td>\n",
       "      <td>M</td>\n",
       "      <td>2090-01-05</td>\n",
       "      <td>NaT</td>\n",
       "      <td>NaT</td>\n",
       "    </tr>\n",
       "  </tbody>\n",
       "</table>\n",
       "</div>"
      ],
      "text/plain": [
       "    SUBJECT_ID GENDER        DOB        DOD   DOD_HOSP\n",
       "0          249      F 2075-03-13        NaT        NaT\n",
       "4          253      F 2089-11-26        NaT        NaT\n",
       "6          256      M 2086-07-31        NaT        NaT\n",
       "10         261      M 2025-08-04 2102-06-29 2102-06-29\n",
       "11         262      M 2090-01-05        NaT        NaT"
      ]
     },
     "execution_count": 7,
     "metadata": {},
     "output_type": "execute_result"
    }
   ],
   "source": [
    "patients_metadata_df = data_extractor_mimic.get_patients_df()\n",
    "patients_metadata_df.head()"
   ]
  },
  {
   "cell_type": "code",
   "execution_count": 8,
   "metadata": {},
   "outputs": [
    {
     "data": {
      "application/vnd.microsoft.datawrangler.viewer.v0+json": {
       "columns": [
        {
         "name": "index",
         "rawType": "int64",
         "type": "integer"
        },
        {
         "name": "HADM_ID",
         "rawType": "int64",
         "type": "integer"
        },
        {
         "name": "SUBJECT_ID",
         "rawType": "int64",
         "type": "integer"
        },
        {
         "name": "DRUG",
         "rawType": "object",
         "type": "string"
        }
       ],
       "ref": "0f3aa5a8-8a57-4c7d-bc77-a49d5181aed3",
       "rows": [
        [
         "75",
         "150750",
         "9",
         "SW"
        ],
        [
         "76",
         "150750",
         "9",
         "Labetalol HCl"
        ],
        [
         "77",
         "150750",
         "9",
         "Potassium Chloride"
        ],
        [
         "78",
         "150750",
         "9",
         "Potassium Chloride"
        ],
        [
         "79",
         "150750",
         "9",
         "D5W"
        ]
       ],
       "shape": {
        "columns": 3,
        "rows": 5
       }
      },
      "text/html": [
       "<div>\n",
       "<style scoped>\n",
       "    .dataframe tbody tr th:only-of-type {\n",
       "        vertical-align: middle;\n",
       "    }\n",
       "\n",
       "    .dataframe tbody tr th {\n",
       "        vertical-align: top;\n",
       "    }\n",
       "\n",
       "    .dataframe thead th {\n",
       "        text-align: right;\n",
       "    }\n",
       "</style>\n",
       "<table border=\"1\" class=\"dataframe\">\n",
       "  <thead>\n",
       "    <tr style=\"text-align: right;\">\n",
       "      <th></th>\n",
       "      <th>HADM_ID</th>\n",
       "      <th>SUBJECT_ID</th>\n",
       "      <th>DRUG</th>\n",
       "    </tr>\n",
       "  </thead>\n",
       "  <tbody>\n",
       "    <tr>\n",
       "      <th>75</th>\n",
       "      <td>150750</td>\n",
       "      <td>9</td>\n",
       "      <td>SW</td>\n",
       "    </tr>\n",
       "    <tr>\n",
       "      <th>76</th>\n",
       "      <td>150750</td>\n",
       "      <td>9</td>\n",
       "      <td>Labetalol HCl</td>\n",
       "    </tr>\n",
       "    <tr>\n",
       "      <th>77</th>\n",
       "      <td>150750</td>\n",
       "      <td>9</td>\n",
       "      <td>Potassium Chloride</td>\n",
       "    </tr>\n",
       "    <tr>\n",
       "      <th>78</th>\n",
       "      <td>150750</td>\n",
       "      <td>9</td>\n",
       "      <td>Potassium Chloride</td>\n",
       "    </tr>\n",
       "    <tr>\n",
       "      <th>79</th>\n",
       "      <td>150750</td>\n",
       "      <td>9</td>\n",
       "      <td>D5W</td>\n",
       "    </tr>\n",
       "  </tbody>\n",
       "</table>\n",
       "</div>"
      ],
      "text/plain": [
       "    HADM_ID  SUBJECT_ID                DRUG\n",
       "75   150750           9                  SW\n",
       "76   150750           9       Labetalol HCl\n",
       "77   150750           9  Potassium Chloride\n",
       "78   150750           9  Potassium Chloride\n",
       "79   150750           9                 D5W"
      ]
     },
     "execution_count": 8,
     "metadata": {},
     "output_type": "execute_result"
    }
   ],
   "source": [
    "prescriptions_df = data_extractor_mimic.get_prescriptions_df()\n",
    "prescriptions_df.head()"
   ]
  },
  {
   "cell_type": "code",
   "execution_count": 9,
   "metadata": {},
   "outputs": [
    {
     "data": {
      "application/vnd.microsoft.datawrangler.viewer.v0+json": {
       "columns": [
        {
         "name": "index",
         "rawType": "int64",
         "type": "integer"
        },
        {
         "name": "ROW_ID",
         "rawType": "int64",
         "type": "integer"
        },
        {
         "name": "SUBJECT_ID",
         "rawType": "int64",
         "type": "integer"
        },
        {
         "name": "HADM_ID",
         "rawType": "int64",
         "type": "integer"
        },
        {
         "name": "SEQ_NUM",
         "rawType": "int64",
         "type": "integer"
        },
        {
         "name": "ICD9_CODE",
         "rawType": "int64",
         "type": "integer"
        },
        {
         "name": "SHORT_TITLE",
         "rawType": "object",
         "type": "string"
        },
        {
         "name": "LONG_TITLE",
         "rawType": "object",
         "type": "string"
        }
       ],
       "ref": "4c990cf7-c19c-4d25-8334-325f5a7f06ab",
       "rows": [
        [
         "0",
         "944",
         "62641",
         "154460",
         "3",
         "3404",
         "Insert intercostal cath",
         "Insertion of intercostal catheter for drainage"
        ],
        [
         "1",
         "945",
         "2592",
         "130856",
         "1",
         "9671",
         "Cont inv mec ven <96 hrs",
         "Continuous invasive mechanical ventilation for less than 96 consecutive hours"
        ],
        [
         "2",
         "946",
         "2592",
         "130856",
         "2",
         "3893",
         "Venous cath NEC",
         "Venous catheterization, not elsewhere classified"
        ],
        [
         "3",
         "947",
         "55357",
         "119355",
         "1",
         "9672",
         "Cont inv mec ven 96+ hrs",
         "Continuous invasive mechanical ventilation for 96 consecutive hours or more"
        ],
        [
         "4",
         "948",
         "55357",
         "119355",
         "2",
         "331",
         "Spinal tap",
         "Spinal tap"
        ]
       ],
       "shape": {
        "columns": 7,
        "rows": 5
       }
      },
      "text/html": [
       "<div>\n",
       "<style scoped>\n",
       "    .dataframe tbody tr th:only-of-type {\n",
       "        vertical-align: middle;\n",
       "    }\n",
       "\n",
       "    .dataframe tbody tr th {\n",
       "        vertical-align: top;\n",
       "    }\n",
       "\n",
       "    .dataframe thead th {\n",
       "        text-align: right;\n",
       "    }\n",
       "</style>\n",
       "<table border=\"1\" class=\"dataframe\">\n",
       "  <thead>\n",
       "    <tr style=\"text-align: right;\">\n",
       "      <th></th>\n",
       "      <th>ROW_ID</th>\n",
       "      <th>SUBJECT_ID</th>\n",
       "      <th>HADM_ID</th>\n",
       "      <th>SEQ_NUM</th>\n",
       "      <th>ICD9_CODE</th>\n",
       "      <th>SHORT_TITLE</th>\n",
       "      <th>LONG_TITLE</th>\n",
       "    </tr>\n",
       "  </thead>\n",
       "  <tbody>\n",
       "    <tr>\n",
       "      <th>0</th>\n",
       "      <td>944</td>\n",
       "      <td>62641</td>\n",
       "      <td>154460</td>\n",
       "      <td>3</td>\n",
       "      <td>3404</td>\n",
       "      <td>Insert intercostal cath</td>\n",
       "      <td>Insertion of intercostal catheter for drainage</td>\n",
       "    </tr>\n",
       "    <tr>\n",
       "      <th>1</th>\n",
       "      <td>945</td>\n",
       "      <td>2592</td>\n",
       "      <td>130856</td>\n",
       "      <td>1</td>\n",
       "      <td>9671</td>\n",
       "      <td>Cont inv mec ven &lt;96 hrs</td>\n",
       "      <td>Continuous invasive mechanical ventilation for...</td>\n",
       "    </tr>\n",
       "    <tr>\n",
       "      <th>2</th>\n",
       "      <td>946</td>\n",
       "      <td>2592</td>\n",
       "      <td>130856</td>\n",
       "      <td>2</td>\n",
       "      <td>3893</td>\n",
       "      <td>Venous cath NEC</td>\n",
       "      <td>Venous catheterization, not elsewhere classified</td>\n",
       "    </tr>\n",
       "    <tr>\n",
       "      <th>3</th>\n",
       "      <td>947</td>\n",
       "      <td>55357</td>\n",
       "      <td>119355</td>\n",
       "      <td>1</td>\n",
       "      <td>9672</td>\n",
       "      <td>Cont inv mec ven 96+ hrs</td>\n",
       "      <td>Continuous invasive mechanical ventilation for...</td>\n",
       "    </tr>\n",
       "    <tr>\n",
       "      <th>4</th>\n",
       "      <td>948</td>\n",
       "      <td>55357</td>\n",
       "      <td>119355</td>\n",
       "      <td>2</td>\n",
       "      <td>331</td>\n",
       "      <td>Spinal tap</td>\n",
       "      <td>Spinal tap</td>\n",
       "    </tr>\n",
       "  </tbody>\n",
       "</table>\n",
       "</div>"
      ],
      "text/plain": [
       "   ROW_ID  SUBJECT_ID  HADM_ID  SEQ_NUM  ICD9_CODE               SHORT_TITLE  \\\n",
       "0     944       62641   154460        3       3404   Insert intercostal cath   \n",
       "1     945        2592   130856        1       9671  Cont inv mec ven <96 hrs   \n",
       "2     946        2592   130856        2       3893           Venous cath NEC   \n",
       "3     947       55357   119355        1       9672  Cont inv mec ven 96+ hrs   \n",
       "4     948       55357   119355        2        331                Spinal tap   \n",
       "\n",
       "                                          LONG_TITLE  \n",
       "0     Insertion of intercostal catheter for drainage  \n",
       "1  Continuous invasive mechanical ventilation for...  \n",
       "2   Venous catheterization, not elsewhere classified  \n",
       "3  Continuous invasive mechanical ventilation for...  \n",
       "4                                         Spinal tap  "
      ]
     },
     "execution_count": 9,
     "metadata": {},
     "output_type": "execute_result"
    }
   ],
   "source": [
    "procedures_df = data_extractor_mimic.get_procedures_df()\n",
    "procedures_df.head()"
   ]
  },
  {
   "cell_type": "markdown",
   "metadata": {},
   "source": [
    "#### Testing Consistency of Subject ID and ADM_ID"
   ]
  },
  {
   "cell_type": "code",
   "execution_count": 12,
   "metadata": {},
   "outputs": [
    {
     "data": {
      "text/plain": [
       "set()"
      ]
     },
     "execution_count": 12,
     "metadata": {},
     "output_type": "execute_result"
    }
   ],
   "source": [
    "set(icu_df[\"SUBJECT_ID\"].unique()) - set(admissions_df[\"SUBJECT_ID\"].unique())"
   ]
  },
  {
   "cell_type": "code",
   "execution_count": 13,
   "metadata": {},
   "outputs": [
    {
     "data": {
      "text/plain": [
       "{np.int64(176570)}"
      ]
     },
     "execution_count": 13,
     "metadata": {},
     "output_type": "execute_result"
    }
   ],
   "source": [
    "set(icu_df[\"HADM_ID\"].unique()) - set(admissions_df[\"HADM_ID\"].unique())"
   ]
  },
  {
   "cell_type": "code",
   "execution_count": 14,
   "metadata": {},
   "outputs": [
    {
     "data": {
      "text/plain": [
       "set()"
      ]
     },
     "execution_count": 14,
     "metadata": {},
     "output_type": "execute_result"
    }
   ],
   "source": [
    "set(prescriptions_df[\"HADM_ID\"].unique()) - set(admissions_df[\"HADM_ID\"].unique())"
   ]
  },
  {
   "cell_type": "code",
   "execution_count": 15,
   "metadata": {},
   "outputs": [
    {
     "data": {
      "text/plain": [
       "set()"
      ]
     },
     "execution_count": 15,
     "metadata": {},
     "output_type": "execute_result"
    }
   ],
   "source": [
    "set(patients_metadata_df[\"SUBJECT_ID\"].unique()) - set(admissions_df[\"SUBJECT_ID\"].unique())"
   ]
  },
  {
   "cell_type": "code",
   "execution_count": 16,
   "metadata": {},
   "outputs": [
    {
     "data": {
      "text/plain": [
       "set()"
      ]
     },
     "execution_count": 16,
     "metadata": {},
     "output_type": "execute_result"
    }
   ],
   "source": [
    "set(procedures_df[\"HADM_ID\"].unique()) - set(admissions_df[\"HADM_ID\"].unique())"
   ]
  },
  {
   "cell_type": "markdown",
   "metadata": {},
   "source": [
    "## Feature Extractor"
   ]
  },
  {
   "cell_type": "markdown",
   "metadata": {},
   "source": [
    "### MIMIC Dataset"
   ]
  },
  {
   "cell_type": "code",
   "execution_count": 17,
   "metadata": {},
   "outputs": [],
   "source": [
    "from recurrent_health_events_prediction.preprocessing.feature_extraction import FeatureExtractorMIMIC\n",
    "\n",
    "X = FeatureExtractorMIMIC.build_features(\n",
    "    admissions_df,\n",
    "    icu_df,\n",
    "    prescriptions_df,\n",
    "    procedures_df,\n",
    "    patients_metadata_df,\n",
    "    readmission_time_labels=['0-30', '30-120', '120+'],\n",
    "    bins=[0, 30, 120]\n",
    ")\n"
   ]
  },
  {
   "cell_type": "code",
   "execution_count": 19,
   "metadata": {},
   "outputs": [
    {
     "data": {
      "text/plain": [
       "Index(['SUBJECT_ID', 'HADM_ID', 'ADMITTIME', 'DISCHTIME', 'ADMISSION_TYPE',\n",
       "       'ETHNICITY', 'INSURANCE', 'HOSPITALIZATION_DAYS', 'NUM_COMORBIDITIES',\n",
       "       'TYPES_COMORBIDITIES', 'HAS_DIABETES', 'HAS_COPD', 'HAS_CONGESTIVE_HF',\n",
       "       'NEXT_ADMISSION_TYPE', 'NUM_PREV_HOSPITALIZATIONS', 'PREV_DISCHTIME',\n",
       "       'NEXT_ADMITTIME', 'DAYS_SINCE_LAST_HOSPITALIZATION',\n",
       "       'DAYS_UNTIL_NEXT_HOSPITALIZATION', 'PREV_READMISSION_30_DAYS',\n",
       "       'READMISSION_30_DAYS', 'READMISSION_TIME_CAT',\n",
       "       'READMISSION_TIME_CAT_ENCODED', 'READM_30_DAYS_PAST_MEAN',\n",
       "       'READM_30_DAYS_PAST_SUM', 'DAYS_UNTIL_NEXT_HOSP_PAST_MEAN',\n",
       "       'DAYS_UNTIL_NEXT_HOSP_PAST_MEDIAN', 'DAYS_UNTIL_NEXT_HOSP_PAST_STD',\n",
       "       'TOTAL_HOSPITALIZATIONS', 'DAYS_IN_ICU', 'NUM_DRUGS', 'NUM_PROCEDURES',\n",
       "       'GENDER', 'DOB', 'DOD', 'DOD_HOSP', 'AGE', 'CHARLSON_INDEX',\n",
       "       'FIRST_ADMITTIME', 'LAST_DISCHTIME', 'PARTICIPATION_DAYS',\n",
       "       'TOTAL_PARTICIPATION_DAYS'],\n",
       "      dtype='object')"
      ]
     },
     "execution_count": 19,
     "metadata": {},
     "output_type": "execute_result"
    }
   ],
   "source": [
    "X.columns"
   ]
  },
  {
   "cell_type": "code",
   "execution_count": 30,
   "metadata": {},
   "outputs": [],
   "source": [
    "X[\"START\"] = X[\"DISCHTIME\"]\n",
    "X[\"END\"] = X[\"NEXT_ADMITTIME\"]\n",
    "X[\"DURATION\"] = (X[\"END\"] - X[\"START\"]).dt.total_seconds() / (24 * 3600)  # Convert to days\n",
    "X[\"SUBJECT_ID\"] = X[\"SUBJECT_ID\"].copy()\n",
    "X[\"EVENT_ID\"] = X[\"SUBJECT_ID\"].copy()"
   ]
  },
  {
   "cell_type": "code",
   "execution_count": 31,
   "metadata": {},
   "outputs": [
    {
     "data": {
      "application/vnd.microsoft.datawrangler.viewer.v0+json": {
       "columns": [
        {
         "name": "index",
         "rawType": "int64",
         "type": "integer"
        },
        {
         "name": "SUBJECT_ID",
         "rawType": "int64",
         "type": "integer"
        },
        {
         "name": "START",
         "rawType": "datetime64[ns]",
         "type": "datetime"
        },
        {
         "name": "END",
         "rawType": "datetime64[ns]",
         "type": "datetime"
        },
        {
         "name": "DURATION",
         "rawType": "float64",
         "type": "float"
        }
       ],
       "ref": "b352d70a-6cea-4460-8198-0d32e91d70b6",
       "rows": [
        [
         "0",
         "111",
         "2142-05-05 11:45:00",
         "2144-07-01 04:12:00",
         "787.6854166666667"
        ],
        [
         "1",
         "111",
         "2144-07-01 14:55:00",
         null,
         null
        ],
        [
         "2",
         "124",
         "2160-07-15 15:10:00",
         "2161-12-17 03:39:00",
         "519.5201388888889"
        ],
        [
         "3",
         "124",
         "2161-12-24 15:35:00",
         "2165-05-21 21:02:00",
         "1244.2270833333334"
        ],
        [
         "4",
         "124",
         "2165-06-06 16:00:00",
         "2165-12-31 18:55:00",
         "208.12152777777777"
        ],
        [
         "5",
         "124",
         "2166-02-01 06:55:00",
         null,
         null
        ],
        [
         "6",
         "165",
         "2170-10-05 16:40:00",
         null,
         null
        ],
        [
         "7",
         "368",
         "2137-07-16 16:00:00",
         "2139-12-16 19:48:00",
         "883.1583333333333"
        ],
        [
         "8",
         "368",
         "2139-12-22 16:15:00",
         null,
         null
        ],
        [
         "9",
         "377",
         "2168-04-04 10:47:00",
         null,
         null
        ],
        [
         "10",
         "409",
         "2159-09-25 13:38:00",
         null,
         null
        ],
        [
         "11",
         "501",
         "2190-02-04 14:30:00",
         null,
         null
        ],
        [
         "12",
         "514",
         "2135-03-02 19:15:00",
         null,
         null
        ],
        [
         "13",
         "608",
         "2167-03-24 15:30:00",
         null,
         null
        ],
        [
         "14",
         "707",
         "2115-03-06 13:25:00",
         null,
         null
        ],
        [
         "15",
         "771",
         "2166-03-14 15:41:00",
         "2166-05-28 17:03:00",
         "75.05694444444444"
        ],
        [
         "16",
         "771",
         "2166-07-01 08:45:00",
         null,
         null
        ],
        [
         "17",
         "786",
         "2116-01-10 09:22:00",
         null,
         null
        ],
        [
         "18",
         "801",
         "2197-08-03 13:00:00",
         "2197-08-09 21:00:00",
         "6.333333333333333"
        ],
        [
         "19",
         "801",
         "2197-09-15 14:17:00",
         "2198-07-09 23:22:00",
         "297.37847222222223"
        ],
        [
         "20",
         "801",
         "2198-07-16 14:06:00",
         null,
         null
        ],
        [
         "21",
         "878",
         "2131-05-30 14:30:00",
         "2136-06-06 00:45:00",
         "1833.4270833333333"
        ],
        [
         "22",
         "878",
         "2136-06-11 16:33:00",
         "2137-10-07 17:09:00",
         "483.025"
        ],
        [
         "23",
         "878",
         "2137-10-31 14:30:00",
         "2137-11-24 22:38:00",
         "24.33888888888889"
        ],
        [
         "24",
         "878",
         "2137-12-03 16:14:00",
         null,
         null
        ],
        [
         "25",
         "902",
         "2165-04-23 19:30:00",
         "2171-12-21 18:38:00",
         "2432.963888888889"
        ],
        [
         "26",
         "902",
         "2172-01-10 13:50:00",
         null,
         null
        ],
        [
         "27",
         "952",
         "2180-03-10 14:36:00",
         "2180-03-26 13:44:00",
         "15.963888888888889"
        ],
        [
         "28",
         "952",
         "2180-04-01 14:08:00",
         "2180-11-07 16:40:00",
         "220.10555555555555"
        ],
        [
         "29",
         "952",
         "2180-11-13 12:40:00",
         "2181-08-25 20:15:00",
         "285.31597222222223"
        ],
        [
         "30",
         "952",
         "2181-08-29 15:55:00",
         null,
         null
        ],
        [
         "31",
         "1088",
         "2170-04-08 17:20:00",
         null,
         null
        ],
        [
         "32",
         "1093",
         "2125-11-06 14:25:00",
         "2126-03-04 08:45:00",
         "117.76388888888889"
        ],
        [
         "33",
         "1093",
         "2126-03-20 15:35:00",
         null,
         null
        ],
        [
         "34",
         "1141",
         "2192-06-04 18:11:00",
         "2192-06-29 20:01:00",
         "25.07638888888889"
        ],
        [
         "35",
         "1141",
         "2192-07-02 14:15:00",
         null,
         null
        ],
        [
         "36",
         "1186",
         "2140-07-22 14:35:00",
         "2145-01-13 14:24:00",
         "1635.9923611111112"
        ],
        [
         "37",
         "1186",
         "2145-02-10 15:00:00",
         null,
         null
        ],
        [
         "38",
         "1257",
         "2195-01-21 13:45:00",
         "2196-11-21 11:29:00",
         "669.9055555555556"
        ],
        [
         "39",
         "1257",
         "2196-11-29 16:25:00",
         null,
         null
        ],
        [
         "40",
         "1266",
         "2107-01-21 16:10:00",
         null,
         null
        ],
        [
         "41",
         "1308",
         "2134-02-27 14:09:00",
         null,
         null
        ],
        [
         "42",
         "1339",
         "2137-05-24 17:00:00",
         "2137-07-04 20:37:00",
         "41.15069444444445"
        ],
        [
         "43",
         "1339",
         "2137-07-11 13:30:00",
         "2137-12-03 07:15:00",
         "144.73958333333334"
        ],
        [
         "44",
         "1339",
         "2137-12-03 17:30:00",
         "2138-04-03 15:33:00",
         "120.91875"
        ],
        [
         "45",
         "1339",
         "2138-04-05 14:00:00",
         "2138-09-11 00:16:00",
         "158.42777777777778"
        ],
        [
         "46",
         "1339",
         "2138-09-20 12:30:00",
         "2138-09-22 08:36:00",
         "1.8375"
        ],
        [
         "47",
         "1339",
         "2138-09-30 15:25:00",
         "2138-10-13 11:24:00",
         "12.832638888888889"
        ],
        [
         "48",
         "1339",
         "2138-10-21 14:40:00",
         "2139-12-07 23:02:00",
         "412.3486111111111"
        ],
        [
         "49",
         "1339",
         "2139-12-16 12:57:00",
         "2140-01-13 20:54:00",
         "28.33125"
        ]
       ],
       "shape": {
        "columns": 4,
        "rows": 2253
       }
      },
      "text/html": [
       "<div>\n",
       "<style scoped>\n",
       "    .dataframe tbody tr th:only-of-type {\n",
       "        vertical-align: middle;\n",
       "    }\n",
       "\n",
       "    .dataframe tbody tr th {\n",
       "        vertical-align: top;\n",
       "    }\n",
       "\n",
       "    .dataframe thead th {\n",
       "        text-align: right;\n",
       "    }\n",
       "</style>\n",
       "<table border=\"1\" class=\"dataframe\">\n",
       "  <thead>\n",
       "    <tr style=\"text-align: right;\">\n",
       "      <th></th>\n",
       "      <th>SUBJECT_ID</th>\n",
       "      <th>START</th>\n",
       "      <th>END</th>\n",
       "      <th>DURATION</th>\n",
       "    </tr>\n",
       "  </thead>\n",
       "  <tbody>\n",
       "    <tr>\n",
       "      <th>0</th>\n",
       "      <td>111</td>\n",
       "      <td>2142-05-05 11:45:00</td>\n",
       "      <td>2144-07-01 04:12:00</td>\n",
       "      <td>787.685417</td>\n",
       "    </tr>\n",
       "    <tr>\n",
       "      <th>1</th>\n",
       "      <td>111</td>\n",
       "      <td>2144-07-01 14:55:00</td>\n",
       "      <td>NaT</td>\n",
       "      <td>NaN</td>\n",
       "    </tr>\n",
       "    <tr>\n",
       "      <th>2</th>\n",
       "      <td>124</td>\n",
       "      <td>2160-07-15 15:10:00</td>\n",
       "      <td>2161-12-17 03:39:00</td>\n",
       "      <td>519.520139</td>\n",
       "    </tr>\n",
       "    <tr>\n",
       "      <th>3</th>\n",
       "      <td>124</td>\n",
       "      <td>2161-12-24 15:35:00</td>\n",
       "      <td>2165-05-21 21:02:00</td>\n",
       "      <td>1244.227083</td>\n",
       "    </tr>\n",
       "    <tr>\n",
       "      <th>4</th>\n",
       "      <td>124</td>\n",
       "      <td>2165-06-06 16:00:00</td>\n",
       "      <td>2165-12-31 18:55:00</td>\n",
       "      <td>208.121528</td>\n",
       "    </tr>\n",
       "    <tr>\n",
       "      <th>...</th>\n",
       "      <td>...</td>\n",
       "      <td>...</td>\n",
       "      <td>...</td>\n",
       "      <td>...</td>\n",
       "    </tr>\n",
       "    <tr>\n",
       "      <th>2248</th>\n",
       "      <td>99556</td>\n",
       "      <td>2167-07-31 21:53:00</td>\n",
       "      <td>NaT</td>\n",
       "      <td>NaN</td>\n",
       "    </tr>\n",
       "    <tr>\n",
       "      <th>2249</th>\n",
       "      <td>99613</td>\n",
       "      <td>2152-11-14 15:43:00</td>\n",
       "      <td>2153-02-10 01:00:00</td>\n",
       "      <td>87.386806</td>\n",
       "    </tr>\n",
       "    <tr>\n",
       "      <th>2250</th>\n",
       "      <td>99613</td>\n",
       "      <td>2153-02-26 17:00:00</td>\n",
       "      <td>NaT</td>\n",
       "      <td>NaN</td>\n",
       "    </tr>\n",
       "    <tr>\n",
       "      <th>2251</th>\n",
       "      <td>99747</td>\n",
       "      <td>2103-11-30 13:53:00</td>\n",
       "      <td>NaT</td>\n",
       "      <td>NaN</td>\n",
       "    </tr>\n",
       "    <tr>\n",
       "      <th>2252</th>\n",
       "      <td>99777</td>\n",
       "      <td>2167-09-22 11:57:00</td>\n",
       "      <td>NaT</td>\n",
       "      <td>NaN</td>\n",
       "    </tr>\n",
       "  </tbody>\n",
       "</table>\n",
       "<p>2253 rows × 4 columns</p>\n",
       "</div>"
      ],
      "text/plain": [
       "      SUBJECT_ID               START                 END     DURATION\n",
       "0            111 2142-05-05 11:45:00 2144-07-01 04:12:00   787.685417\n",
       "1            111 2144-07-01 14:55:00                 NaT          NaN\n",
       "2            124 2160-07-15 15:10:00 2161-12-17 03:39:00   519.520139\n",
       "3            124 2161-12-24 15:35:00 2165-05-21 21:02:00  1244.227083\n",
       "4            124 2165-06-06 16:00:00 2165-12-31 18:55:00   208.121528\n",
       "...          ...                 ...                 ...          ...\n",
       "2248       99556 2167-07-31 21:53:00                 NaT          NaN\n",
       "2249       99613 2152-11-14 15:43:00 2153-02-10 01:00:00    87.386806\n",
       "2250       99613 2153-02-26 17:00:00                 NaT          NaN\n",
       "2251       99747 2103-11-30 13:53:00                 NaT          NaN\n",
       "2252       99777 2167-09-22 11:57:00                 NaT          NaN\n",
       "\n",
       "[2253 rows x 4 columns]"
      ]
     },
     "execution_count": 31,
     "metadata": {},
     "output_type": "execute_result"
    }
   ],
   "source": [
    "X[[\"SUBJECT_ID\", \"START\", \"END\", \"DURATION\"]]"
   ]
  },
  {
   "cell_type": "code",
   "execution_count": 33,
   "metadata": {},
   "outputs": [
    {
     "data": {
      "application/vnd.microsoft.datawrangler.viewer.v0+json": {
       "columns": [
        {
         "name": "index",
         "rawType": "int64",
         "type": "integer"
        },
        {
         "name": "END",
         "rawType": "bool",
         "type": "boolean"
        }
       ],
       "ref": "c71eaef3-35e9-40f4-8188-fa9abb0c1edb",
       "rows": [
        [
         "0",
         "True"
        ],
        [
         "1",
         "True"
        ],
        [
         "2",
         "False"
        ],
        [
         "3",
         "False"
        ],
        [
         "4",
         "True"
        ],
        [
         "5",
         "True"
        ],
        [
         "6",
         "True"
        ],
        [
         "7",
         "True"
        ],
        [
         "8",
         "True"
        ],
        [
         "9",
         "True"
        ],
        [
         "10",
         "True"
        ],
        [
         "11",
         "True"
        ],
        [
         "12",
         "True"
        ],
        [
         "13",
         "True"
        ],
        [
         "14",
         "True"
        ],
        [
         "15",
         "True"
        ],
        [
         "16",
         "True"
        ],
        [
         "17",
         "True"
        ],
        [
         "18",
         "False"
        ],
        [
         "19",
         "True"
        ],
        [
         "20",
         "True"
        ],
        [
         "21",
         "False"
        ],
        [
         "22",
         "False"
        ],
        [
         "23",
         "True"
        ],
        [
         "24",
         "True"
        ],
        [
         "25",
         "True"
        ],
        [
         "26",
         "True"
        ],
        [
         "27",
         "False"
        ],
        [
         "28",
         "False"
        ],
        [
         "29",
         "True"
        ],
        [
         "30",
         "True"
        ],
        [
         "31",
         "True"
        ],
        [
         "32",
         "True"
        ],
        [
         "33",
         "True"
        ],
        [
         "34",
         "True"
        ],
        [
         "35",
         "True"
        ],
        [
         "36",
         "True"
        ],
        [
         "37",
         "True"
        ],
        [
         "38",
         "True"
        ],
        [
         "39",
         "True"
        ],
        [
         "40",
         "True"
        ],
        [
         "41",
         "True"
        ],
        [
         "42",
         "False"
        ],
        [
         "43",
         "False"
        ],
        [
         "44",
         "False"
        ],
        [
         "45",
         "False"
        ],
        [
         "46",
         "False"
        ],
        [
         "47",
         "False"
        ],
        [
         "48",
         "False"
        ],
        [
         "49",
         "True"
        ]
       ],
       "shape": {
        "columns": 1,
        "rows": 2253
       }
      },
      "text/plain": [
       "0        True\n",
       "1        True\n",
       "2       False\n",
       "3       False\n",
       "4        True\n",
       "        ...  \n",
       "2248     True\n",
       "2249     True\n",
       "2250     True\n",
       "2251     True\n",
       "2252     True\n",
       "Name: END, Length: 2253, dtype: bool"
      ]
     },
     "execution_count": 33,
     "metadata": {},
     "output_type": "execute_result"
    }
   ],
   "source": [
    " # Split the data into historical and last event dataframes\n",
    "(X.groupby(\"SUBJECT_ID\")[\"END\"].transform('max') == X[\"END\"]) | (X[\"END\"].isna())"
   ]
  },
  {
   "cell_type": "code",
   "execution_count": 22,
   "metadata": {},
   "outputs": [
    {
     "data": {
      "text/plain": [
       "Index(['HOSPITALIZATION_DAYS', 'NUM_DIAGNOSES', 'NUM_PREV_HOSPITALIZATIONS',\n",
       "       'DAYS_SINCE_LAST_HOSPITALIZATION', 'DAYS_IN_ICU', 'NUM_DRUGS',\n",
       "       'NUM_PROCEDURES'],\n",
       "      dtype='object')"
      ]
     },
     "execution_count": 22,
     "metadata": {},
     "output_type": "execute_result"
    }
   ],
   "source": [
    "cols_to_not_consider = [\n",
    "    \"HADM_ID\",\n",
    "    \"AGE\"\n",
    "]\n",
    "cols = [col for col in X.columns if col not in cols_to_not_consider]\n",
    "X[cols].select_dtypes(include='number').groupby(\"SUBJECT_ID\").mean().columns"
   ]
  },
  {
   "cell_type": "code",
   "execution_count": null,
   "metadata": {},
   "outputs": [],
   "source": []
  },
  {
   "cell_type": "code",
   "execution_count": 16,
   "metadata": {},
   "outputs": [
    {
     "data": {
      "application/vnd.microsoft.datawrangler.viewer.v0+json": {
       "columns": [
        {
         "name": "index",
         "rawType": "object",
         "type": "string"
        },
        {
         "name": "SUBJECT_ID",
         "rawType": "float64",
         "type": "float"
        },
        {
         "name": "AGE",
         "rawType": "float64",
         "type": "float"
        }
       ],
       "ref": "c773d081-04c2-44aa-bfad-1a87a708d6de",
       "rows": [
        [
         "count",
         "153.0",
         "153.0"
        ],
        [
         "mean",
         "29889.16339869281",
         "301.30065359477123"
        ],
        [
         "std",
         "25607.33923333862",
         "1.7323735137250487"
        ],
        [
         "min",
         "368.0",
         "300.0"
        ],
        [
         "25%",
         "14269.0",
         "300.0"
        ],
        [
         "50%",
         "18082.0",
         "300.0"
        ],
        [
         "75%",
         "41311.0",
         "302.0"
        ],
        [
         "max",
         "96793.0",
         "306.0"
        ]
       ],
       "shape": {
        "columns": 2,
        "rows": 8
       }
      },
      "text/html": [
       "<div>\n",
       "<style scoped>\n",
       "    .dataframe tbody tr th:only-of-type {\n",
       "        vertical-align: middle;\n",
       "    }\n",
       "\n",
       "    .dataframe tbody tr th {\n",
       "        vertical-align: top;\n",
       "    }\n",
       "\n",
       "    .dataframe thead th {\n",
       "        text-align: right;\n",
       "    }\n",
       "</style>\n",
       "<table border=\"1\" class=\"dataframe\">\n",
       "  <thead>\n",
       "    <tr style=\"text-align: right;\">\n",
       "      <th></th>\n",
       "      <th>SUBJECT_ID</th>\n",
       "      <th>AGE</th>\n",
       "    </tr>\n",
       "  </thead>\n",
       "  <tbody>\n",
       "    <tr>\n",
       "      <th>count</th>\n",
       "      <td>153.000000</td>\n",
       "      <td>153.000000</td>\n",
       "    </tr>\n",
       "    <tr>\n",
       "      <th>mean</th>\n",
       "      <td>29889.163399</td>\n",
       "      <td>301.300654</td>\n",
       "    </tr>\n",
       "    <tr>\n",
       "      <th>std</th>\n",
       "      <td>25607.339233</td>\n",
       "      <td>1.732374</td>\n",
       "    </tr>\n",
       "    <tr>\n",
       "      <th>min</th>\n",
       "      <td>368.000000</td>\n",
       "      <td>300.000000</td>\n",
       "    </tr>\n",
       "    <tr>\n",
       "      <th>25%</th>\n",
       "      <td>14269.000000</td>\n",
       "      <td>300.000000</td>\n",
       "    </tr>\n",
       "    <tr>\n",
       "      <th>50%</th>\n",
       "      <td>18082.000000</td>\n",
       "      <td>300.000000</td>\n",
       "    </tr>\n",
       "    <tr>\n",
       "      <th>75%</th>\n",
       "      <td>41311.000000</td>\n",
       "      <td>302.000000</td>\n",
       "    </tr>\n",
       "    <tr>\n",
       "      <th>max</th>\n",
       "      <td>96793.000000</td>\n",
       "      <td>306.000000</td>\n",
       "    </tr>\n",
       "  </tbody>\n",
       "</table>\n",
       "</div>"
      ],
      "text/plain": [
       "         SUBJECT_ID         AGE\n",
       "count    153.000000  153.000000\n",
       "mean   29889.163399  301.300654\n",
       "std    25607.339233    1.732374\n",
       "min      368.000000  300.000000\n",
       "25%    14269.000000  300.000000\n",
       "50%    18082.000000  300.000000\n",
       "75%    41311.000000  302.000000\n",
       "max    96793.000000  306.000000"
      ]
     },
     "execution_count": 16,
     "metadata": {},
     "output_type": "execute_result"
    }
   ],
   "source": [
    "mask = (X.AGE >= 90)\n",
    "X[mask][[\"SUBJECT_ID\", \"AGE\"]].describe()"
   ]
  },
  {
   "cell_type": "code",
   "execution_count": 16,
   "metadata": {},
   "outputs": [
    {
     "data": {
      "text/plain": [
       "1068"
      ]
     },
     "execution_count": 16,
     "metadata": {},
     "output_type": "execute_result"
    }
   ],
   "source": [
    "X['SUBJECT_ID'].nunique()"
   ]
  },
  {
   "cell_type": "code",
   "execution_count": 11,
   "metadata": {},
   "outputs": [
    {
     "data": {
      "text/plain": [
       "Index(['SUBJECT_ID', 'HADM_ID', 'ADMITTIME', 'DISCHTIME', 'ADMISSION_TYPE',\n",
       "       'HOSPITALIZATION_DAYS', 'NUM_DIAGNOSES', 'TYPES_COMORBIDITIES',\n",
       "       'NUM_PREV_HOSPITALIZATIONS', 'DAYS_SINCE_LAST_HOSPITALIZATION',\n",
       "       'DAYS_IN_ICU', 'NUM_DRUGS', 'NUM_PROCEDURES'],\n",
       "      dtype='object')"
      ]
     },
     "execution_count": 11,
     "metadata": {},
     "output_type": "execute_result"
    }
   ],
   "source": [
    "X.columns"
   ]
  },
  {
   "cell_type": "code",
   "execution_count": 12,
   "metadata": {},
   "outputs": [],
   "source": [
    "import plotly.express as px\n",
    "\n",
    "def plot_patient_hospitalizations(df, subject_id):\n",
    "    # Filter data\n",
    "    patient_df = df[df['SUBJECT_ID'] == subject_id].copy()\n",
    "    \n",
    "    # Sort by admission time\n",
    "    patient_df = patient_df.sort_values('ADMITTIME')\n",
    "    \n",
    "    # Optional: Add an event label\n",
    "    patient_df['EVENT'] = 'Hospitalization #' + patient_df.groupby('SUBJECT_ID').cumcount().add(1).astype(str)\n",
    "    \n",
    "    # Plot Gantt chart\n",
    "    fig = px.timeline(\n",
    "        patient_df,\n",
    "        x_start=\"ADMITTIME\",\n",
    "        x_end=\"DISCHTIME\",\n",
    "        y=\"EVENT\",\n",
    "        color=\"ADMISSION_TYPE\",  # Optional: color by type\n",
    "        hover_data=[\"HADM_ID\", \"NUM_DIAGNOSES\", \"DAYS_IN_ICU\", \"NUM_DRUGS\"]\n",
    "    )\n",
    "    fig.update_yaxes(autorange=\"reversed\")  # Make earlier hospitalizations appear higher\n",
    "    fig.update_layout(title=f\"Hospitalizations Timeline for SUBJECT_ID {subject_id}\")\n",
    "    fig.show()\n"
   ]
  },
  {
   "cell_type": "code",
   "execution_count": 18,
   "metadata": {},
   "outputs": [
    {
     "data": {
      "application/vnd.plotly.v1+json": {
       "config": {
        "plotlyServerURL": "https://plot.ly"
       },
       "data": [
        {
         "base": [
          "2160-06-24T21:25:00.000000000",
          "2161-12-17T03:39:00.000000000",
          "2165-12-31T18:55:00.000000000"
         ],
         "customdata": {
          "bdata": "AAAAAGgNBUEAAAAAAAAiQIQB1Pt4Sw9AAAAAAAAAQ0AAAAAAoJD7QAAAAAAAACJA8MLqZzrCHEAAAAAAAIBCQAAAAABA5ABBAAAAAAAAM0DM7Q8yVOg2QAAAAAAAwFZA",
          "dtype": "f8",
          "shape": "3, 4"
         },
         "hovertemplate": "ADMISSION_TYPE=EMERGENCY<br>ADMITTIME=%{base}<br>DISCHTIME=%{x}<br>EVENT=%{y}<br>HADM_ID=%{customdata[0]}<br>NUM_DIAGNOSES=%{customdata[1]}<br>DAYS_IN_ICU=%{customdata[2]}<br>NUM_DRUGS=%{customdata[3]}<extra></extra>",
         "legendgroup": "EMERGENCY",
         "marker": {
          "color": "#636efa",
          "pattern": {
           "shape": ""
          }
         },
         "name": "EMERGENCY",
         "orientation": "h",
         "showlegend": true,
         "textposition": "auto",
         "type": "bar",
         "x": [
          1791900000,
          647760000,
          2721600000
         ],
         "xaxis": "x",
         "y": [
          "Hospitalization #1",
          "Hospitalization #2",
          "Hospitalization #4"
         ],
         "yaxis": "y"
        },
        {
         "base": [
          "2165-05-21T21:02:00.000000000"
         ],
         "customdata": {
          "bdata": "AAAAAAhnAEEAAAAAAAAuQEQ5gyIXYfU/AAAAAAAARUA=",
          "dtype": "f8",
          "shape": "1, 4"
         },
         "hovertemplate": "ADMISSION_TYPE=ELECTIVE<br>ADMITTIME=%{base}<br>DISCHTIME=%{x}<br>EVENT=%{y}<br>HADM_ID=%{customdata[0]}<br>NUM_DIAGNOSES=%{customdata[1]}<br>DAYS_IN_ICU=%{customdata[2]}<br>NUM_DRUGS=%{customdata[3]}<extra></extra>",
         "legendgroup": "ELECTIVE",
         "marker": {
          "color": "#EF553B",
          "pattern": {
           "shape": ""
          }
         },
         "name": "ELECTIVE",
         "orientation": "h",
         "showlegend": true,
         "textposition": "auto",
         "type": "bar",
         "x": {
          "bdata": "wEJRUQ==",
          "dtype": "i4"
         },
         "xaxis": "x",
         "y": [
          "Hospitalization #3"
         ],
         "yaxis": "y"
        }
       ],
       "layout": {
        "barmode": "overlay",
        "legend": {
         "title": {
          "text": "ADMISSION_TYPE"
         },
         "tracegroupgap": 0
        },
        "margin": {
         "t": 60
        },
        "template": {
         "data": {
          "bar": [
           {
            "error_x": {
             "color": "#2a3f5f"
            },
            "error_y": {
             "color": "#2a3f5f"
            },
            "marker": {
             "line": {
              "color": "#E5ECF6",
              "width": 0.5
             },
             "pattern": {
              "fillmode": "overlay",
              "size": 10,
              "solidity": 0.2
             }
            },
            "type": "bar"
           }
          ],
          "barpolar": [
           {
            "marker": {
             "line": {
              "color": "#E5ECF6",
              "width": 0.5
             },
             "pattern": {
              "fillmode": "overlay",
              "size": 10,
              "solidity": 0.2
             }
            },
            "type": "barpolar"
           }
          ],
          "carpet": [
           {
            "aaxis": {
             "endlinecolor": "#2a3f5f",
             "gridcolor": "white",
             "linecolor": "white",
             "minorgridcolor": "white",
             "startlinecolor": "#2a3f5f"
            },
            "baxis": {
             "endlinecolor": "#2a3f5f",
             "gridcolor": "white",
             "linecolor": "white",
             "minorgridcolor": "white",
             "startlinecolor": "#2a3f5f"
            },
            "type": "carpet"
           }
          ],
          "choropleth": [
           {
            "colorbar": {
             "outlinewidth": 0,
             "ticks": ""
            },
            "type": "choropleth"
           }
          ],
          "contour": [
           {
            "colorbar": {
             "outlinewidth": 0,
             "ticks": ""
            },
            "colorscale": [
             [
              0,
              "#0d0887"
             ],
             [
              0.1111111111111111,
              "#46039f"
             ],
             [
              0.2222222222222222,
              "#7201a8"
             ],
             [
              0.3333333333333333,
              "#9c179e"
             ],
             [
              0.4444444444444444,
              "#bd3786"
             ],
             [
              0.5555555555555556,
              "#d8576b"
             ],
             [
              0.6666666666666666,
              "#ed7953"
             ],
             [
              0.7777777777777778,
              "#fb9f3a"
             ],
             [
              0.8888888888888888,
              "#fdca26"
             ],
             [
              1,
              "#f0f921"
             ]
            ],
            "type": "contour"
           }
          ],
          "contourcarpet": [
           {
            "colorbar": {
             "outlinewidth": 0,
             "ticks": ""
            },
            "type": "contourcarpet"
           }
          ],
          "heatmap": [
           {
            "colorbar": {
             "outlinewidth": 0,
             "ticks": ""
            },
            "colorscale": [
             [
              0,
              "#0d0887"
             ],
             [
              0.1111111111111111,
              "#46039f"
             ],
             [
              0.2222222222222222,
              "#7201a8"
             ],
             [
              0.3333333333333333,
              "#9c179e"
             ],
             [
              0.4444444444444444,
              "#bd3786"
             ],
             [
              0.5555555555555556,
              "#d8576b"
             ],
             [
              0.6666666666666666,
              "#ed7953"
             ],
             [
              0.7777777777777778,
              "#fb9f3a"
             ],
             [
              0.8888888888888888,
              "#fdca26"
             ],
             [
              1,
              "#f0f921"
             ]
            ],
            "type": "heatmap"
           }
          ],
          "histogram": [
           {
            "marker": {
             "pattern": {
              "fillmode": "overlay",
              "size": 10,
              "solidity": 0.2
             }
            },
            "type": "histogram"
           }
          ],
          "histogram2d": [
           {
            "colorbar": {
             "outlinewidth": 0,
             "ticks": ""
            },
            "colorscale": [
             [
              0,
              "#0d0887"
             ],
             [
              0.1111111111111111,
              "#46039f"
             ],
             [
              0.2222222222222222,
              "#7201a8"
             ],
             [
              0.3333333333333333,
              "#9c179e"
             ],
             [
              0.4444444444444444,
              "#bd3786"
             ],
             [
              0.5555555555555556,
              "#d8576b"
             ],
             [
              0.6666666666666666,
              "#ed7953"
             ],
             [
              0.7777777777777778,
              "#fb9f3a"
             ],
             [
              0.8888888888888888,
              "#fdca26"
             ],
             [
              1,
              "#f0f921"
             ]
            ],
            "type": "histogram2d"
           }
          ],
          "histogram2dcontour": [
           {
            "colorbar": {
             "outlinewidth": 0,
             "ticks": ""
            },
            "colorscale": [
             [
              0,
              "#0d0887"
             ],
             [
              0.1111111111111111,
              "#46039f"
             ],
             [
              0.2222222222222222,
              "#7201a8"
             ],
             [
              0.3333333333333333,
              "#9c179e"
             ],
             [
              0.4444444444444444,
              "#bd3786"
             ],
             [
              0.5555555555555556,
              "#d8576b"
             ],
             [
              0.6666666666666666,
              "#ed7953"
             ],
             [
              0.7777777777777778,
              "#fb9f3a"
             ],
             [
              0.8888888888888888,
              "#fdca26"
             ],
             [
              1,
              "#f0f921"
             ]
            ],
            "type": "histogram2dcontour"
           }
          ],
          "mesh3d": [
           {
            "colorbar": {
             "outlinewidth": 0,
             "ticks": ""
            },
            "type": "mesh3d"
           }
          ],
          "parcoords": [
           {
            "line": {
             "colorbar": {
              "outlinewidth": 0,
              "ticks": ""
             }
            },
            "type": "parcoords"
           }
          ],
          "pie": [
           {
            "automargin": true,
            "type": "pie"
           }
          ],
          "scatter": [
           {
            "fillpattern": {
             "fillmode": "overlay",
             "size": 10,
             "solidity": 0.2
            },
            "type": "scatter"
           }
          ],
          "scatter3d": [
           {
            "line": {
             "colorbar": {
              "outlinewidth": 0,
              "ticks": ""
             }
            },
            "marker": {
             "colorbar": {
              "outlinewidth": 0,
              "ticks": ""
             }
            },
            "type": "scatter3d"
           }
          ],
          "scattercarpet": [
           {
            "marker": {
             "colorbar": {
              "outlinewidth": 0,
              "ticks": ""
             }
            },
            "type": "scattercarpet"
           }
          ],
          "scattergeo": [
           {
            "marker": {
             "colorbar": {
              "outlinewidth": 0,
              "ticks": ""
             }
            },
            "type": "scattergeo"
           }
          ],
          "scattergl": [
           {
            "marker": {
             "colorbar": {
              "outlinewidth": 0,
              "ticks": ""
             }
            },
            "type": "scattergl"
           }
          ],
          "scattermap": [
           {
            "marker": {
             "colorbar": {
              "outlinewidth": 0,
              "ticks": ""
             }
            },
            "type": "scattermap"
           }
          ],
          "scattermapbox": [
           {
            "marker": {
             "colorbar": {
              "outlinewidth": 0,
              "ticks": ""
             }
            },
            "type": "scattermapbox"
           }
          ],
          "scatterpolar": [
           {
            "marker": {
             "colorbar": {
              "outlinewidth": 0,
              "ticks": ""
             }
            },
            "type": "scatterpolar"
           }
          ],
          "scatterpolargl": [
           {
            "marker": {
             "colorbar": {
              "outlinewidth": 0,
              "ticks": ""
             }
            },
            "type": "scatterpolargl"
           }
          ],
          "scatterternary": [
           {
            "marker": {
             "colorbar": {
              "outlinewidth": 0,
              "ticks": ""
             }
            },
            "type": "scatterternary"
           }
          ],
          "surface": [
           {
            "colorbar": {
             "outlinewidth": 0,
             "ticks": ""
            },
            "colorscale": [
             [
              0,
              "#0d0887"
             ],
             [
              0.1111111111111111,
              "#46039f"
             ],
             [
              0.2222222222222222,
              "#7201a8"
             ],
             [
              0.3333333333333333,
              "#9c179e"
             ],
             [
              0.4444444444444444,
              "#bd3786"
             ],
             [
              0.5555555555555556,
              "#d8576b"
             ],
             [
              0.6666666666666666,
              "#ed7953"
             ],
             [
              0.7777777777777778,
              "#fb9f3a"
             ],
             [
              0.8888888888888888,
              "#fdca26"
             ],
             [
              1,
              "#f0f921"
             ]
            ],
            "type": "surface"
           }
          ],
          "table": [
           {
            "cells": {
             "fill": {
              "color": "#EBF0F8"
             },
             "line": {
              "color": "white"
             }
            },
            "header": {
             "fill": {
              "color": "#C8D4E3"
             },
             "line": {
              "color": "white"
             }
            },
            "type": "table"
           }
          ]
         },
         "layout": {
          "annotationdefaults": {
           "arrowcolor": "#2a3f5f",
           "arrowhead": 0,
           "arrowwidth": 1
          },
          "autotypenumbers": "strict",
          "coloraxis": {
           "colorbar": {
            "outlinewidth": 0,
            "ticks": ""
           }
          },
          "colorscale": {
           "diverging": [
            [
             0,
             "#8e0152"
            ],
            [
             0.1,
             "#c51b7d"
            ],
            [
             0.2,
             "#de77ae"
            ],
            [
             0.3,
             "#f1b6da"
            ],
            [
             0.4,
             "#fde0ef"
            ],
            [
             0.5,
             "#f7f7f7"
            ],
            [
             0.6,
             "#e6f5d0"
            ],
            [
             0.7,
             "#b8e186"
            ],
            [
             0.8,
             "#7fbc41"
            ],
            [
             0.9,
             "#4d9221"
            ],
            [
             1,
             "#276419"
            ]
           ],
           "sequential": [
            [
             0,
             "#0d0887"
            ],
            [
             0.1111111111111111,
             "#46039f"
            ],
            [
             0.2222222222222222,
             "#7201a8"
            ],
            [
             0.3333333333333333,
             "#9c179e"
            ],
            [
             0.4444444444444444,
             "#bd3786"
            ],
            [
             0.5555555555555556,
             "#d8576b"
            ],
            [
             0.6666666666666666,
             "#ed7953"
            ],
            [
             0.7777777777777778,
             "#fb9f3a"
            ],
            [
             0.8888888888888888,
             "#fdca26"
            ],
            [
             1,
             "#f0f921"
            ]
           ],
           "sequentialminus": [
            [
             0,
             "#0d0887"
            ],
            [
             0.1111111111111111,
             "#46039f"
            ],
            [
             0.2222222222222222,
             "#7201a8"
            ],
            [
             0.3333333333333333,
             "#9c179e"
            ],
            [
             0.4444444444444444,
             "#bd3786"
            ],
            [
             0.5555555555555556,
             "#d8576b"
            ],
            [
             0.6666666666666666,
             "#ed7953"
            ],
            [
             0.7777777777777778,
             "#fb9f3a"
            ],
            [
             0.8888888888888888,
             "#fdca26"
            ],
            [
             1,
             "#f0f921"
            ]
           ]
          },
          "colorway": [
           "#636efa",
           "#EF553B",
           "#00cc96",
           "#ab63fa",
           "#FFA15A",
           "#19d3f3",
           "#FF6692",
           "#B6E880",
           "#FF97FF",
           "#FECB52"
          ],
          "font": {
           "color": "#2a3f5f"
          },
          "geo": {
           "bgcolor": "white",
           "lakecolor": "white",
           "landcolor": "#E5ECF6",
           "showlakes": true,
           "showland": true,
           "subunitcolor": "white"
          },
          "hoverlabel": {
           "align": "left"
          },
          "hovermode": "closest",
          "mapbox": {
           "style": "light"
          },
          "paper_bgcolor": "white",
          "plot_bgcolor": "#E5ECF6",
          "polar": {
           "angularaxis": {
            "gridcolor": "white",
            "linecolor": "white",
            "ticks": ""
           },
           "bgcolor": "#E5ECF6",
           "radialaxis": {
            "gridcolor": "white",
            "linecolor": "white",
            "ticks": ""
           }
          },
          "scene": {
           "xaxis": {
            "backgroundcolor": "#E5ECF6",
            "gridcolor": "white",
            "gridwidth": 2,
            "linecolor": "white",
            "showbackground": true,
            "ticks": "",
            "zerolinecolor": "white"
           },
           "yaxis": {
            "backgroundcolor": "#E5ECF6",
            "gridcolor": "white",
            "gridwidth": 2,
            "linecolor": "white",
            "showbackground": true,
            "ticks": "",
            "zerolinecolor": "white"
           },
           "zaxis": {
            "backgroundcolor": "#E5ECF6",
            "gridcolor": "white",
            "gridwidth": 2,
            "linecolor": "white",
            "showbackground": true,
            "ticks": "",
            "zerolinecolor": "white"
           }
          },
          "shapedefaults": {
           "line": {
            "color": "#2a3f5f"
           }
          },
          "ternary": {
           "aaxis": {
            "gridcolor": "white",
            "linecolor": "white",
            "ticks": ""
           },
           "baxis": {
            "gridcolor": "white",
            "linecolor": "white",
            "ticks": ""
           },
           "bgcolor": "#E5ECF6",
           "caxis": {
            "gridcolor": "white",
            "linecolor": "white",
            "ticks": ""
           }
          },
          "title": {
           "x": 0.05
          },
          "xaxis": {
           "automargin": true,
           "gridcolor": "white",
           "linecolor": "white",
           "ticks": "",
           "title": {
            "standoff": 15
           },
           "zerolinecolor": "white",
           "zerolinewidth": 2
          },
          "yaxis": {
           "automargin": true,
           "gridcolor": "white",
           "linecolor": "white",
           "ticks": "",
           "title": {
            "standoff": 15
           },
           "zerolinecolor": "white",
           "zerolinewidth": 2
          }
         }
        },
        "title": {
         "text": "Hospitalizations Timeline for SUBJECT_ID 124"
        },
        "xaxis": {
         "anchor": "y",
         "domain": [
          0,
          1
         ],
         "type": "date"
        },
        "yaxis": {
         "anchor": "x",
         "autorange": "reversed",
         "domain": [
          0,
          1
         ],
         "title": {
          "text": "EVENT"
         }
        }
       }
      }
     },
     "metadata": {},
     "output_type": "display_data"
    }
   ],
   "source": [
    "plot_patient_hospitalizations(X, subject_id=124)"
   ]
  },
  {
   "cell_type": "code",
   "execution_count": 16,
   "metadata": {},
   "outputs": [],
   "source": [
    "import plotly.express as px\n",
    "import pandas as pd\n",
    "\n",
    "def format_feature_value(value):\n",
    "    \"\"\"\n",
    "    Format the feature value for display.\n",
    "    This function can be customized based on the feature type.\n",
    "    \"\"\"\n",
    "    if isinstance(value, float):\n",
    "        return f\"{value:.2f}\"\n",
    "    else:\n",
    "        return str(value)\n",
    "\n",
    "def plot_subject_evolution(df, subject_id, plot_img=False, img_filename=\"timeline.png\"):\n",
    "    # Filter for the patient\n",
    "    patient_df = df[df['SUBJECT_ID'] == subject_id].copy()\n",
    "    patient_df = patient_df.sort_values('ADMITTIME')\n",
    "\n",
    "    # Features to track over time (excluding ID/time columns)\n",
    "    features_to_plot = [\n",
    "        'HOSPITALIZATION_DAYS', 'NUM_DIAGNOSES', 'TYPES_COMORBIDITIES',\n",
    "        'NUM_PREV_HOSPITALIZATIONS', 'DAYS_SINCE_LAST_HOSPITALIZATION',\n",
    "        'DAYS_IN_ICU', 'NUM_DRUGS', 'NUM_PROCEDURES'\n",
    "    ]\n",
    "\n",
    "    # Melt the data so each feature is a row\n",
    "    melted = patient_df.melt(\n",
    "        id_vars=['ADMITTIME', 'ADMISSION_TYPE', 'DISCHTIME'],\n",
    "        value_vars=features_to_plot,\n",
    "        var_name='Feature',\n",
    "        value_name='Value'\n",
    "    )\n",
    "\n",
    "    # Convert all values to string for display\n",
    "    melted['Value'] = melted['Value'].apply(format_feature_value)\n",
    "\n",
    "    # Define colors for admission types\n",
    "    color_discrete_map = {\n",
    "        \"URGENT\": \"red\",\n",
    "        \"EMERGENCY\": \"orange\",\n",
    "        \"ELECTIVE\": \"green\"\n",
    "    }\n",
    "\n",
    "    # Create the plot\n",
    "    fig = px.timeline(\n",
    "        melted,\n",
    "        x_start='ADMITTIME',\n",
    "        x_end='DISCHTIME',\n",
    "        y='Feature',\n",
    "        color='ADMISSION_TYPE',\n",
    "        text='Value',\n",
    "        title=f'Evolution of SUBJECT_ID {subject_id}',\n",
    "        color_discrete_map=color_discrete_map\n",
    "    )\n",
    "    fig.update_traces(textposition='outside', textfont_size=10)\n",
    "    # Adjust layout to avoid text being cut off\n",
    "    fig.update_layout(\n",
    "        height=600,\n",
    "        yaxis_title='Feature',\n",
    "        xaxis_title='Time',\n",
    "        margin=dict(l=100, r=100, t=50, b=50),\n",
    "        xaxis=dict(range=[melted['ADMITTIME'].min() - pd.Timedelta(days=100), melted['DISCHTIME'].max() + pd.Timedelta(days=730)])\n",
    "    )\n",
    "\n",
    "    if plot_img:\n",
    "        # Save the plot as a PNG image\n",
    "        fig.write_image(img_filename)\n",
    "        print(f\"Timeline saved as {img_filename}\")\n",
    "\n",
    "    fig.show()\n",
    "\n"
   ]
  },
  {
   "cell_type": "code",
   "execution_count": 18,
   "metadata": {},
   "outputs": [
    {
     "data": {
      "application/vnd.plotly.v1+json": {
       "config": {
        "plotlyServerURL": "https://plot.ly"
       },
       "data": [
        {
         "base": [
          "2160-06-24T21:25:00.000000000",
          "2161-12-17T03:39:00.000000000",
          "2165-12-31T18:55:00.000000000",
          "2160-06-24T21:25:00.000000000",
          "2161-12-17T03:39:00.000000000",
          "2165-12-31T18:55:00.000000000",
          "2160-06-24T21:25:00.000000000",
          "2161-12-17T03:39:00.000000000",
          "2165-12-31T18:55:00.000000000",
          "2160-06-24T21:25:00.000000000",
          "2161-12-17T03:39:00.000000000",
          "2165-12-31T18:55:00.000000000",
          "2160-06-24T21:25:00.000000000",
          "2161-12-17T03:39:00.000000000",
          "2165-12-31T18:55:00.000000000",
          "2160-06-24T21:25:00.000000000",
          "2161-12-17T03:39:00.000000000",
          "2165-12-31T18:55:00.000000000",
          "2160-06-24T21:25:00.000000000",
          "2161-12-17T03:39:00.000000000",
          "2165-12-31T18:55:00.000000000",
          "2160-06-24T21:25:00.000000000",
          "2161-12-17T03:39:00.000000000",
          "2165-12-31T18:55:00.000000000"
         ],
         "hovertemplate": "ADMISSION_TYPE=EMERGENCY<br>ADMITTIME=%{base}<br>DISCHTIME=%{x}<br>Feature=%{y}<br>Value=%{text}<extra></extra>",
         "legendgroup": "EMERGENCY",
         "marker": {
          "color": "orange",
          "pattern": {
           "shape": ""
          }
         },
         "name": "EMERGENCY",
         "orientation": "h",
         "showlegend": true,
         "text": [
          "20.74",
          "7.50",
          "31.50",
          "9",
          "9",
          "19",
          "['other']",
          "['other']",
          "['copd', 'other']",
          "0",
          "1",
          "3",
          "nan",
          "519.52",
          "208.12",
          "3.91",
          "7.19",
          "22.91",
          "38.00",
          "37.00",
          "91.00",
          "4.00",
          "4.00",
          "8.00"
         ],
         "textfont": {
          "size": 10
         },
         "textposition": "outside",
         "type": "bar",
         "x": [
          1791900000,
          647760000,
          2721600000,
          1791900000,
          647760000,
          2721600000,
          1791900000,
          647760000,
          2721600000,
          1791900000,
          647760000,
          2721600000,
          1791900000,
          647760000,
          2721600000,
          1791900000,
          647760000,
          2721600000,
          1791900000,
          647760000,
          2721600000,
          1791900000,
          647760000,
          2721600000
         ],
         "xaxis": "x",
         "y": [
          "HOSPITALIZATION_DAYS",
          "HOSPITALIZATION_DAYS",
          "HOSPITALIZATION_DAYS",
          "NUM_DIAGNOSES",
          "NUM_DIAGNOSES",
          "NUM_DIAGNOSES",
          "TYPES_COMORBIDITIES",
          "TYPES_COMORBIDITIES",
          "TYPES_COMORBIDITIES",
          "NUM_PREV_HOSPITALIZATIONS",
          "NUM_PREV_HOSPITALIZATIONS",
          "NUM_PREV_HOSPITALIZATIONS",
          "DAYS_SINCE_LAST_HOSPITALIZATION",
          "DAYS_SINCE_LAST_HOSPITALIZATION",
          "DAYS_SINCE_LAST_HOSPITALIZATION",
          "DAYS_IN_ICU",
          "DAYS_IN_ICU",
          "DAYS_IN_ICU",
          "NUM_DRUGS",
          "NUM_DRUGS",
          "NUM_DRUGS",
          "NUM_PROCEDURES",
          "NUM_PROCEDURES",
          "NUM_PROCEDURES"
         ],
         "yaxis": "y"
        },
        {
         "base": [
          "2165-05-21T21:02:00.000000000",
          "2165-05-21T21:02:00.000000000",
          "2165-05-21T21:02:00.000000000",
          "2165-05-21T21:02:00.000000000",
          "2165-05-21T21:02:00.000000000",
          "2165-05-21T21:02:00.000000000",
          "2165-05-21T21:02:00.000000000",
          "2165-05-21T21:02:00.000000000"
         ],
         "hovertemplate": "ADMISSION_TYPE=ELECTIVE<br>ADMITTIME=%{base}<br>DISCHTIME=%{x}<br>Feature=%{y}<br>Value=%{text}<extra></extra>",
         "legendgroup": "ELECTIVE",
         "marker": {
          "color": "green",
          "pattern": {
           "shape": ""
          }
         },
         "name": "ELECTIVE",
         "orientation": "h",
         "showlegend": true,
         "text": [
          "15.79",
          "15",
          "['other']",
          "2",
          "1244.23",
          "1.34",
          "42.00",
          "12.00"
         ],
         "textfont": {
          "size": 10
         },
         "textposition": "outside",
         "type": "bar",
         "x": {
          "bdata": "wEJRUcBCUVHAQlFRwEJRUcBCUVHAQlFRwEJRUcBCUVE=",
          "dtype": "i4"
         },
         "xaxis": "x",
         "y": [
          "HOSPITALIZATION_DAYS",
          "NUM_DIAGNOSES",
          "TYPES_COMORBIDITIES",
          "NUM_PREV_HOSPITALIZATIONS",
          "DAYS_SINCE_LAST_HOSPITALIZATION",
          "DAYS_IN_ICU",
          "NUM_DRUGS",
          "NUM_PROCEDURES"
         ],
         "yaxis": "y"
        }
       ],
       "layout": {
        "barmode": "overlay",
        "height": 600,
        "legend": {
         "title": {
          "text": "ADMISSION_TYPE"
         },
         "tracegroupgap": 0
        },
        "margin": {
         "b": 50,
         "l": 100,
         "r": 100,
         "t": 50
        },
        "template": {
         "data": {
          "bar": [
           {
            "error_x": {
             "color": "#2a3f5f"
            },
            "error_y": {
             "color": "#2a3f5f"
            },
            "marker": {
             "line": {
              "color": "#E5ECF6",
              "width": 0.5
             },
             "pattern": {
              "fillmode": "overlay",
              "size": 10,
              "solidity": 0.2
             }
            },
            "type": "bar"
           }
          ],
          "barpolar": [
           {
            "marker": {
             "line": {
              "color": "#E5ECF6",
              "width": 0.5
             },
             "pattern": {
              "fillmode": "overlay",
              "size": 10,
              "solidity": 0.2
             }
            },
            "type": "barpolar"
           }
          ],
          "carpet": [
           {
            "aaxis": {
             "endlinecolor": "#2a3f5f",
             "gridcolor": "white",
             "linecolor": "white",
             "minorgridcolor": "white",
             "startlinecolor": "#2a3f5f"
            },
            "baxis": {
             "endlinecolor": "#2a3f5f",
             "gridcolor": "white",
             "linecolor": "white",
             "minorgridcolor": "white",
             "startlinecolor": "#2a3f5f"
            },
            "type": "carpet"
           }
          ],
          "choropleth": [
           {
            "colorbar": {
             "outlinewidth": 0,
             "ticks": ""
            },
            "type": "choropleth"
           }
          ],
          "contour": [
           {
            "colorbar": {
             "outlinewidth": 0,
             "ticks": ""
            },
            "colorscale": [
             [
              0,
              "#0d0887"
             ],
             [
              0.1111111111111111,
              "#46039f"
             ],
             [
              0.2222222222222222,
              "#7201a8"
             ],
             [
              0.3333333333333333,
              "#9c179e"
             ],
             [
              0.4444444444444444,
              "#bd3786"
             ],
             [
              0.5555555555555556,
              "#d8576b"
             ],
             [
              0.6666666666666666,
              "#ed7953"
             ],
             [
              0.7777777777777778,
              "#fb9f3a"
             ],
             [
              0.8888888888888888,
              "#fdca26"
             ],
             [
              1,
              "#f0f921"
             ]
            ],
            "type": "contour"
           }
          ],
          "contourcarpet": [
           {
            "colorbar": {
             "outlinewidth": 0,
             "ticks": ""
            },
            "type": "contourcarpet"
           }
          ],
          "heatmap": [
           {
            "colorbar": {
             "outlinewidth": 0,
             "ticks": ""
            },
            "colorscale": [
             [
              0,
              "#0d0887"
             ],
             [
              0.1111111111111111,
              "#46039f"
             ],
             [
              0.2222222222222222,
              "#7201a8"
             ],
             [
              0.3333333333333333,
              "#9c179e"
             ],
             [
              0.4444444444444444,
              "#bd3786"
             ],
             [
              0.5555555555555556,
              "#d8576b"
             ],
             [
              0.6666666666666666,
              "#ed7953"
             ],
             [
              0.7777777777777778,
              "#fb9f3a"
             ],
             [
              0.8888888888888888,
              "#fdca26"
             ],
             [
              1,
              "#f0f921"
             ]
            ],
            "type": "heatmap"
           }
          ],
          "histogram": [
           {
            "marker": {
             "pattern": {
              "fillmode": "overlay",
              "size": 10,
              "solidity": 0.2
             }
            },
            "type": "histogram"
           }
          ],
          "histogram2d": [
           {
            "colorbar": {
             "outlinewidth": 0,
             "ticks": ""
            },
            "colorscale": [
             [
              0,
              "#0d0887"
             ],
             [
              0.1111111111111111,
              "#46039f"
             ],
             [
              0.2222222222222222,
              "#7201a8"
             ],
             [
              0.3333333333333333,
              "#9c179e"
             ],
             [
              0.4444444444444444,
              "#bd3786"
             ],
             [
              0.5555555555555556,
              "#d8576b"
             ],
             [
              0.6666666666666666,
              "#ed7953"
             ],
             [
              0.7777777777777778,
              "#fb9f3a"
             ],
             [
              0.8888888888888888,
              "#fdca26"
             ],
             [
              1,
              "#f0f921"
             ]
            ],
            "type": "histogram2d"
           }
          ],
          "histogram2dcontour": [
           {
            "colorbar": {
             "outlinewidth": 0,
             "ticks": ""
            },
            "colorscale": [
             [
              0,
              "#0d0887"
             ],
             [
              0.1111111111111111,
              "#46039f"
             ],
             [
              0.2222222222222222,
              "#7201a8"
             ],
             [
              0.3333333333333333,
              "#9c179e"
             ],
             [
              0.4444444444444444,
              "#bd3786"
             ],
             [
              0.5555555555555556,
              "#d8576b"
             ],
             [
              0.6666666666666666,
              "#ed7953"
             ],
             [
              0.7777777777777778,
              "#fb9f3a"
             ],
             [
              0.8888888888888888,
              "#fdca26"
             ],
             [
              1,
              "#f0f921"
             ]
            ],
            "type": "histogram2dcontour"
           }
          ],
          "mesh3d": [
           {
            "colorbar": {
             "outlinewidth": 0,
             "ticks": ""
            },
            "type": "mesh3d"
           }
          ],
          "parcoords": [
           {
            "line": {
             "colorbar": {
              "outlinewidth": 0,
              "ticks": ""
             }
            },
            "type": "parcoords"
           }
          ],
          "pie": [
           {
            "automargin": true,
            "type": "pie"
           }
          ],
          "scatter": [
           {
            "fillpattern": {
             "fillmode": "overlay",
             "size": 10,
             "solidity": 0.2
            },
            "type": "scatter"
           }
          ],
          "scatter3d": [
           {
            "line": {
             "colorbar": {
              "outlinewidth": 0,
              "ticks": ""
             }
            },
            "marker": {
             "colorbar": {
              "outlinewidth": 0,
              "ticks": ""
             }
            },
            "type": "scatter3d"
           }
          ],
          "scattercarpet": [
           {
            "marker": {
             "colorbar": {
              "outlinewidth": 0,
              "ticks": ""
             }
            },
            "type": "scattercarpet"
           }
          ],
          "scattergeo": [
           {
            "marker": {
             "colorbar": {
              "outlinewidth": 0,
              "ticks": ""
             }
            },
            "type": "scattergeo"
           }
          ],
          "scattergl": [
           {
            "marker": {
             "colorbar": {
              "outlinewidth": 0,
              "ticks": ""
             }
            },
            "type": "scattergl"
           }
          ],
          "scattermap": [
           {
            "marker": {
             "colorbar": {
              "outlinewidth": 0,
              "ticks": ""
             }
            },
            "type": "scattermap"
           }
          ],
          "scattermapbox": [
           {
            "marker": {
             "colorbar": {
              "outlinewidth": 0,
              "ticks": ""
             }
            },
            "type": "scattermapbox"
           }
          ],
          "scatterpolar": [
           {
            "marker": {
             "colorbar": {
              "outlinewidth": 0,
              "ticks": ""
             }
            },
            "type": "scatterpolar"
           }
          ],
          "scatterpolargl": [
           {
            "marker": {
             "colorbar": {
              "outlinewidth": 0,
              "ticks": ""
             }
            },
            "type": "scatterpolargl"
           }
          ],
          "scatterternary": [
           {
            "marker": {
             "colorbar": {
              "outlinewidth": 0,
              "ticks": ""
             }
            },
            "type": "scatterternary"
           }
          ],
          "surface": [
           {
            "colorbar": {
             "outlinewidth": 0,
             "ticks": ""
            },
            "colorscale": [
             [
              0,
              "#0d0887"
             ],
             [
              0.1111111111111111,
              "#46039f"
             ],
             [
              0.2222222222222222,
              "#7201a8"
             ],
             [
              0.3333333333333333,
              "#9c179e"
             ],
             [
              0.4444444444444444,
              "#bd3786"
             ],
             [
              0.5555555555555556,
              "#d8576b"
             ],
             [
              0.6666666666666666,
              "#ed7953"
             ],
             [
              0.7777777777777778,
              "#fb9f3a"
             ],
             [
              0.8888888888888888,
              "#fdca26"
             ],
             [
              1,
              "#f0f921"
             ]
            ],
            "type": "surface"
           }
          ],
          "table": [
           {
            "cells": {
             "fill": {
              "color": "#EBF0F8"
             },
             "line": {
              "color": "white"
             }
            },
            "header": {
             "fill": {
              "color": "#C8D4E3"
             },
             "line": {
              "color": "white"
             }
            },
            "type": "table"
           }
          ]
         },
         "layout": {
          "annotationdefaults": {
           "arrowcolor": "#2a3f5f",
           "arrowhead": 0,
           "arrowwidth": 1
          },
          "autotypenumbers": "strict",
          "coloraxis": {
           "colorbar": {
            "outlinewidth": 0,
            "ticks": ""
           }
          },
          "colorscale": {
           "diverging": [
            [
             0,
             "#8e0152"
            ],
            [
             0.1,
             "#c51b7d"
            ],
            [
             0.2,
             "#de77ae"
            ],
            [
             0.3,
             "#f1b6da"
            ],
            [
             0.4,
             "#fde0ef"
            ],
            [
             0.5,
             "#f7f7f7"
            ],
            [
             0.6,
             "#e6f5d0"
            ],
            [
             0.7,
             "#b8e186"
            ],
            [
             0.8,
             "#7fbc41"
            ],
            [
             0.9,
             "#4d9221"
            ],
            [
             1,
             "#276419"
            ]
           ],
           "sequential": [
            [
             0,
             "#0d0887"
            ],
            [
             0.1111111111111111,
             "#46039f"
            ],
            [
             0.2222222222222222,
             "#7201a8"
            ],
            [
             0.3333333333333333,
             "#9c179e"
            ],
            [
             0.4444444444444444,
             "#bd3786"
            ],
            [
             0.5555555555555556,
             "#d8576b"
            ],
            [
             0.6666666666666666,
             "#ed7953"
            ],
            [
             0.7777777777777778,
             "#fb9f3a"
            ],
            [
             0.8888888888888888,
             "#fdca26"
            ],
            [
             1,
             "#f0f921"
            ]
           ],
           "sequentialminus": [
            [
             0,
             "#0d0887"
            ],
            [
             0.1111111111111111,
             "#46039f"
            ],
            [
             0.2222222222222222,
             "#7201a8"
            ],
            [
             0.3333333333333333,
             "#9c179e"
            ],
            [
             0.4444444444444444,
             "#bd3786"
            ],
            [
             0.5555555555555556,
             "#d8576b"
            ],
            [
             0.6666666666666666,
             "#ed7953"
            ],
            [
             0.7777777777777778,
             "#fb9f3a"
            ],
            [
             0.8888888888888888,
             "#fdca26"
            ],
            [
             1,
             "#f0f921"
            ]
           ]
          },
          "colorway": [
           "#636efa",
           "#EF553B",
           "#00cc96",
           "#ab63fa",
           "#FFA15A",
           "#19d3f3",
           "#FF6692",
           "#B6E880",
           "#FF97FF",
           "#FECB52"
          ],
          "font": {
           "color": "#2a3f5f"
          },
          "geo": {
           "bgcolor": "white",
           "lakecolor": "white",
           "landcolor": "#E5ECF6",
           "showlakes": true,
           "showland": true,
           "subunitcolor": "white"
          },
          "hoverlabel": {
           "align": "left"
          },
          "hovermode": "closest",
          "mapbox": {
           "style": "light"
          },
          "paper_bgcolor": "white",
          "plot_bgcolor": "#E5ECF6",
          "polar": {
           "angularaxis": {
            "gridcolor": "white",
            "linecolor": "white",
            "ticks": ""
           },
           "bgcolor": "#E5ECF6",
           "radialaxis": {
            "gridcolor": "white",
            "linecolor": "white",
            "ticks": ""
           }
          },
          "scene": {
           "xaxis": {
            "backgroundcolor": "#E5ECF6",
            "gridcolor": "white",
            "gridwidth": 2,
            "linecolor": "white",
            "showbackground": true,
            "ticks": "",
            "zerolinecolor": "white"
           },
           "yaxis": {
            "backgroundcolor": "#E5ECF6",
            "gridcolor": "white",
            "gridwidth": 2,
            "linecolor": "white",
            "showbackground": true,
            "ticks": "",
            "zerolinecolor": "white"
           },
           "zaxis": {
            "backgroundcolor": "#E5ECF6",
            "gridcolor": "white",
            "gridwidth": 2,
            "linecolor": "white",
            "showbackground": true,
            "ticks": "",
            "zerolinecolor": "white"
           }
          },
          "shapedefaults": {
           "line": {
            "color": "#2a3f5f"
           }
          },
          "ternary": {
           "aaxis": {
            "gridcolor": "white",
            "linecolor": "white",
            "ticks": ""
           },
           "baxis": {
            "gridcolor": "white",
            "linecolor": "white",
            "ticks": ""
           },
           "bgcolor": "#E5ECF6",
           "caxis": {
            "gridcolor": "white",
            "linecolor": "white",
            "ticks": ""
           }
          },
          "title": {
           "x": 0.05
          },
          "xaxis": {
           "automargin": true,
           "gridcolor": "white",
           "linecolor": "white",
           "ticks": "",
           "title": {
            "standoff": 15
           },
           "zerolinecolor": "white",
           "zerolinewidth": 2
          },
          "yaxis": {
           "automargin": true,
           "gridcolor": "white",
           "linecolor": "white",
           "ticks": "",
           "title": {
            "standoff": 15
           },
           "zerolinecolor": "white",
           "zerolinewidth": 2
          }
         }
        },
        "title": {
         "text": "Evolution of SUBJECT_ID 124"
        },
        "xaxis": {
         "anchor": "y",
         "domain": [
          0,
          1
         ],
         "range": [
          "2160-03-16T21:25:00",
          "2168-02-01T06:55:00"
         ],
         "title": {
          "text": "Time"
         },
         "type": "date"
        },
        "yaxis": {
         "anchor": "x",
         "domain": [
          0,
          1
         ],
         "title": {
          "text": "Feature"
         }
        }
       }
      }
     },
     "metadata": {},
     "output_type": "display_data"
    }
   ],
   "source": [
    "plot_subject_evolution(X, subject_id=124)"
   ]
  },
  {
   "cell_type": "code",
   "execution_count": 26,
   "metadata": {},
   "outputs": [
    {
     "data": {
      "application/vnd.microsoft.datawrangler.viewer.v0+json": {
       "columns": [
        {
         "name": "index",
         "rawType": "int64",
         "type": "integer"
        },
        {
         "name": "SUBJECT_ID",
         "rawType": "int64",
         "type": "integer"
        },
        {
         "name": "HADM_ID",
         "rawType": "int64",
         "type": "integer"
        },
        {
         "name": "ADMITTIME",
         "rawType": "datetime64[ns]",
         "type": "datetime"
        },
        {
         "name": "DISCHTIME",
         "rawType": "datetime64[ns]",
         "type": "datetime"
        },
        {
         "name": "ADMISSION_TYPE",
         "rawType": "object",
         "type": "string"
        },
        {
         "name": "HOSPITALIZATION_DAYS",
         "rawType": "float64",
         "type": "float"
        },
        {
         "name": "NUM_DIAGNOSES",
         "rawType": "int64",
         "type": "integer"
        },
        {
         "name": "TYPES_COMORBIDITIES",
         "rawType": "object",
         "type": "unknown"
        },
        {
         "name": "NUM_PREV_HOSPITALIZATIONS",
         "rawType": "int64",
         "type": "integer"
        },
        {
         "name": "DAYS_SINCE_LAST_HOSPITALIZATION",
         "rawType": "float64",
         "type": "float"
        },
        {
         "name": "DAYS_IN_ICU",
         "rawType": "float64",
         "type": "float"
        },
        {
         "name": "NUM_DRUGS",
         "rawType": "float64",
         "type": "float"
        },
        {
         "name": "NUM_PROCEDURES",
         "rawType": "float64",
         "type": "float"
        }
       ],
       "ref": "68a57f09-69b2-404f-a9ad-4a92fe2d4df3",
       "rows": [
        [
         "0",
         "111",
         "192123",
         "2142-04-24 06:55:00",
         "2142-05-05 11:45:00",
         "EMERGENCY",
         "11.201388888888888",
         "11",
         "['other', 'copd']",
         "0",
         null,
         "10.570833333333333",
         "57.0",
         "6.0"
        ],
        [
         "1",
         "111",
         "155897",
         "2144-07-01 04:12:00",
         "2144-07-01 14:55:00",
         "EMERGENCY",
         "0.4465277777777778",
         "12",
         "['other']",
         "1",
         "787.6854166666667",
         "0.5712037037037038",
         "21.0",
         "4.0"
        ],
        [
         "2",
         "124",
         "172461",
         "2160-06-24 21:25:00",
         "2160-07-15 15:10:00",
         "EMERGENCY",
         "20.739583333333332",
         "9",
         "['other']",
         "0",
         null,
         "3.9118518518518517",
         "38.0",
         "4.0"
        ],
        [
         "3",
         "124",
         "112906",
         "2161-12-17 03:39:00",
         "2161-12-24 15:35:00",
         "EMERGENCY",
         "7.497222222222223",
         "9",
         "['other']",
         "1",
         "519.5201388888889",
         "7.1896759259259255",
         "37.0",
         "4.0"
        ],
        [
         "4",
         "124",
         "134369",
         "2165-05-21 21:02:00",
         "2165-06-06 16:00:00",
         "ELECTIVE",
         "15.790277777777776",
         "15",
         "['other']",
         "2",
         "1244.2270833333334",
         "1.3362037037037036",
         "42.0",
         "12.0"
        ],
        [
         "5",
         "124",
         "138376",
         "2165-12-31 18:55:00",
         "2166-02-01 06:55:00",
         "EMERGENCY",
         "31.5",
         "19",
         "['other', 'copd']",
         "3",
         "208.1215277777778",
         "22.907534722222223",
         "91.0",
         "8.0"
        ],
        [
         "6",
         "165",
         "170252",
         "2170-10-03 16:22:00",
         "2170-10-05 16:40:00",
         "EMERGENCY",
         "2.0124999999999997",
         "19",
         "['other', 'copd']",
         "0",
         null,
         "0.9627546296296297",
         "36.0",
         "1.0"
        ],
        [
         "7",
         "368",
         "105889",
         "2137-07-11 17:56:00",
         "2137-07-16 16:00:00",
         "EMERGENCY",
         "4.919444444444444",
         "8",
         "['other', 'copd']",
         "0",
         null,
         "4.906979166666667",
         "36.0",
         null
        ],
        [
         "8",
         "368",
         "138061",
         "2139-12-16 19:48:00",
         "2139-12-22 16:15:00",
         "EMERGENCY",
         "5.852083333333333",
         "16",
         "['other', 'copd']",
         "1",
         "883.1583333333333",
         "1.7742708333333335",
         "40.0",
         "1.0"
        ],
        [
         "9",
         "377",
         "139824",
         "2168-03-04 13:56:00",
         "2168-04-04 10:47:00",
         "EMERGENCY",
         "30.868750000000002",
         "8",
         "['other', 'copd']",
         "0",
         null,
         "21.53472222222222",
         null,
         "4.0"
        ],
        [
         "10",
         "409",
         "105471",
         "2159-09-17 12:00:00",
         "2159-09-25 13:38:00",
         "ELECTIVE",
         "8.068055555555555",
         "4",
         "['other', 'copd']",
         "0",
         null,
         "4.070138888888889",
         null,
         "1.0"
        ],
        [
         "11",
         "501",
         "190462",
         "2190-01-28 02:04:00",
         "2190-02-04 14:30:00",
         "EMERGENCY",
         "7.518055555555556",
         "8",
         "['other', 'copd']",
         "0",
         null,
         "2.678402777777778",
         "34.0",
         "1.0"
        ],
        [
         "12",
         "514",
         "113635",
         "2135-02-27 11:22:00",
         "2135-03-02 19:15:00",
         "EMERGENCY",
         "3.3284722222222225",
         "10",
         "['other', 'copd']",
         "0",
         null,
         "1.0404513888888889",
         "30.0",
         null
        ],
        [
         "13",
         "608",
         "171266",
         "2167-02-22 20:17:00",
         "2167-03-24 15:30:00",
         "EMERGENCY",
         "29.800694444444446",
         "8",
         "['other', 'copd']",
         "0",
         null,
         "15.1725",
         "56.0",
         "14.0"
        ],
        [
         "14",
         "707",
         "140286",
         "2115-02-28 21:20:00",
         "2115-03-06 13:25:00",
         "EMERGENCY",
         "5.670138888888889",
         "8",
         "['other', 'copd']",
         "0",
         null,
         "4.846817129629629",
         "36.0",
         "3.0"
        ],
        [
         "15",
         "771",
         "173072",
         "2166-03-03 17:04:00",
         "2166-03-14 15:41:00",
         "EMERGENCY",
         "10.942361111111111",
         "8",
         "['other', 'copd']",
         "0",
         null,
         "1.7411342592592591",
         "39.0",
         "1.0"
        ],
        [
         "16",
         "771",
         "144758",
         "2166-05-28 17:03:00",
         "2166-07-01 08:45:00",
         "EMERGENCY",
         "33.65416666666667",
         "9",
         "['other']",
         "1",
         "75.05694444444444",
         "2.8854166666666665",
         "24.0",
         null
        ],
        [
         "17",
         "786",
         "117381",
         "2115-12-29 21:57:00",
         "2116-01-10 09:22:00",
         "EMERGENCY",
         "11.475694444444445",
         "8",
         "['other', 'copd']",
         "0",
         null,
         "6.596342592592593",
         "27.0",
         "7.0"
        ],
        [
         "18",
         "801",
         "187764",
         "2197-06-19 19:47:00",
         "2197-08-03 13:00:00",
         "EMERGENCY",
         "44.71736111111111",
         "21",
         "['other']",
         "0",
         null,
         "41.04196759259259",
         "71.0",
         "12.0"
        ],
        [
         "19",
         "801",
         "195211",
         "2197-08-09 21:00:00",
         "2197-09-15 14:17:00",
         "EMERGENCY",
         "36.72013888888889",
         "10",
         "['other']",
         "1",
         "6.333333333333333",
         "30.397673611111113",
         "86.0",
         "4.0"
        ],
        [
         "20",
         "801",
         "170037",
         "2198-07-09 23:22:00",
         "2198-07-16 14:06:00",
         "EMERGENCY",
         "6.613888888888888",
         "6",
         "['other', 'copd']",
         "2",
         "297.37847222222223",
         "3.7374189814814813",
         "41.0",
         "4.0"
        ],
        [
         "21",
         "878",
         "105643",
         "2131-05-16 18:32:00",
         "2131-05-30 14:30:00",
         "EMERGENCY",
         "13.831944444444444",
         "11",
         "['other']",
         "0",
         null,
         "4.967256944444444",
         "33.0",
         "1.0"
        ],
        [
         "22",
         "878",
         "155816",
         "2136-06-06 00:45:00",
         "2136-06-11 16:33:00",
         "EMERGENCY",
         "5.658333333333334",
         "18",
         "['other', 'copd']",
         "1",
         "1833.4270833333333",
         "1.0707291666666667",
         "29.0",
         "1.0"
        ],
        [
         "23",
         "878",
         "102365",
         "2137-10-07 17:09:00",
         "2137-10-31 14:30:00",
         "EMERGENCY",
         "23.889583333333334",
         "39",
         "['other', 'copd']",
         "2",
         "483.02500000000003",
         "14.087164351851852",
         "87.0",
         "7.0"
        ],
        [
         "24",
         "878",
         "192358",
         "2137-11-24 22:38:00",
         "2137-12-03 16:14:00",
         "EMERGENCY",
         "8.733333333333333",
         "32",
         "['other']",
         "3",
         "24.33888888888889",
         "4.603680555555555",
         "33.0",
         null
        ],
        [
         "25",
         "902",
         "137798",
         "2165-04-18 17:16:00",
         "2165-04-23 19:30:00",
         "EMERGENCY",
         "5.093055555555556",
         "14",
         "['other', 'copd']",
         "0",
         null,
         "1.9241319444444445",
         "49.0",
         "8.0"
        ],
        [
         "26",
         "902",
         "143497",
         "2171-12-21 18:38:00",
         "2172-01-10 13:50:00",
         "EMERGENCY",
         "19.8",
         "39",
         "['other']",
         "1",
         "2432.963888888889",
         "4.1503703703703705",
         "36.0",
         "2.0"
        ],
        [
         "27",
         "952",
         "163476",
         "2180-03-02 03:35:00",
         "2180-03-10 14:36:00",
         "EMERGENCY",
         "8.459027777777779",
         "8",
         "['other', 'copd']",
         "0",
         null,
         "5.773368055555555",
         "40.0",
         "3.0"
        ],
        [
         "28",
         "952",
         "197486",
         "2180-03-26 13:44:00",
         "2180-04-01 14:08:00",
         "EMERGENCY",
         "6.016666666666667",
         "9",
         "['other', 'copd']",
         "1",
         "15.963888888888889",
         "1.1751041666666666",
         "28.0",
         "1.0"
        ],
        [
         "29",
         "952",
         "193143",
         "2180-11-07 16:40:00",
         "2180-11-13 12:40:00",
         "EMERGENCY",
         "5.833333333333333",
         "8",
         "['other', 'copd']",
         "2",
         "220.10555555555558",
         "1.8853703703703706",
         "26.0",
         "1.0"
        ],
        [
         "30",
         "952",
         "165175",
         "2181-08-25 20:15:00",
         "2181-08-29 15:55:00",
         "EMERGENCY",
         "3.8194444444444446",
         "9",
         "['other', 'copd']",
         "3",
         "285.31597222222223",
         "3.8298842592592592",
         "27.0",
         "2.0"
        ],
        [
         "31",
         "1088",
         "172055",
         "2170-03-22 05:20:00",
         "2170-04-08 17:20:00",
         "EMERGENCY",
         "17.5",
         "13",
         "['other', 'copd']",
         "0",
         null,
         "8.600486111111111",
         "49.0",
         "5.0"
        ],
        [
         "32",
         "1093",
         "188758",
         "2125-11-01 21:35:00",
         "2125-11-06 14:25:00",
         "EMERGENCY",
         "4.701388888888888",
         "9",
         "['other', 'copd']",
         "0",
         null,
         "2.2447569444444446",
         "24.0",
         "3.0"
        ],
        [
         "33",
         "1093",
         "199523",
         "2126-03-04 08:45:00",
         "2126-03-20 15:35:00",
         "ELECTIVE",
         "16.28472222222222",
         "3",
         "['other']",
         "1",
         "117.7638888888889",
         "7.816157407407407",
         "42.0",
         "2.0"
        ],
        [
         "34",
         "1141",
         "153413",
         "2192-04-25 20:57:00",
         "2192-06-04 18:11:00",
         "EMERGENCY",
         "39.88472222222222",
         "28",
         "['other', 'copd']",
         "0",
         null,
         "39.78859953703704",
         "90.0",
         "16.0"
        ],
        [
         "35",
         "1141",
         "150003",
         "2192-06-29 20:01:00",
         "2192-07-02 14:15:00",
         "EMERGENCY",
         "2.7597222222222224",
         "19",
         "['other']",
         "1",
         "25.07638888888889",
         "2.848136574074074",
         "28.0",
         "2.0"
        ],
        [
         "36",
         "1186",
         "166695",
         "2140-07-19 13:49:00",
         "2140-07-22 14:35:00",
         "EMERGENCY",
         "3.0319444444444446",
         "5",
         "['other', 'copd']",
         "0",
         null,
         "1.0849305555555555",
         "16.0",
         null
        ],
        [
         "37",
         "1186",
         "104140",
         "2145-01-13 14:24:00",
         "2145-02-10 15:00:00",
         "EMERGENCY",
         "28.025000000000002",
         "21",
         "['other']",
         "1",
         "1635.992361111111",
         "28.026145833333334",
         "50.0",
         "4.0"
        ],
        [
         "38",
         "1257",
         "186617",
         "2195-01-12 14:12:00",
         "2195-01-21 13:45:00",
         "EMERGENCY",
         "8.981250000000001",
         "4",
         "['other', 'copd']",
         "0",
         null,
         "8.029282407407408",
         "52.0",
         "2.0"
        ],
        [
         "39",
         "1257",
         "160336",
         "2196-11-21 11:29:00",
         "2196-11-29 16:25:00",
         "EMERGENCY",
         "8.205555555555556",
         "5",
         "['other', 'copd']",
         "1",
         "669.9055555555556",
         "3.1385300925925925",
         "38.0",
         "2.0"
        ],
        [
         "40",
         "1266",
         "189402",
         "2106-11-24 01:50:00",
         "2107-01-21 16:10:00",
         "EMERGENCY",
         "58.59722222222222",
         "13",
         "['other', 'copd']",
         "0",
         null,
         "25.315810185185185",
         "108.0",
         "5.0"
        ],
        [
         "41",
         "1308",
         "127034",
         "2134-02-21 15:52:00",
         "2134-02-27 14:09:00",
         "EMERGENCY",
         "5.928472222222222",
         "9",
         "['other', 'copd']",
         "0",
         null,
         "1.1541319444444444",
         "42.0",
         "10.0"
        ],
        [
         "42",
         "1339",
         "104951",
         "2137-05-22 23:04:00",
         "2137-05-24 17:00:00",
         "EMERGENCY",
         "1.747222222222222",
         "19",
         "['other']",
         "0",
         null,
         "1.0813310185185185",
         "24.0",
         "2.0"
        ],
        [
         "43",
         "1339",
         "183742",
         "2137-07-04 20:37:00",
         "2137-07-11 13:30:00",
         "EMERGENCY",
         "6.703472222222222",
         "17",
         "['other']",
         "1",
         "41.15069444444445",
         "6.368622685185184",
         "43.0",
         "4.0"
        ],
        [
         "44",
         "1339",
         "187751",
         "2137-12-03 07:15:00",
         "2137-12-03 17:30:00",
         "ELECTIVE",
         "0.4270833333333333",
         "4",
         "['other']",
         "2",
         "144.73958333333334",
         null,
         null,
         "1.0"
        ],
        [
         "45",
         "1339",
         "133593",
         "2138-04-03 15:33:00",
         "2138-04-05 14:00:00",
         "EMERGENCY",
         "1.9354166666666668",
         "7",
         "['other']",
         "3",
         "120.91875",
         "1.0420601851851852",
         "19.0",
         "2.0"
        ],
        [
         "46",
         "1339",
         "192698",
         "2138-09-11 00:16:00",
         "2138-09-20 12:30:00",
         "ELECTIVE",
         "9.509722222222221",
         "15",
         "['other']",
         "4",
         "158.42777777777778",
         "8.810706018518518",
         "48.0",
         "6.0"
        ],
        [
         "47",
         "1339",
         "109444",
         "2138-09-22 08:36:00",
         "2138-09-30 15:25:00",
         "EMERGENCY",
         "8.284027777777778",
         "18",
         "['other', 'copd']",
         "5",
         "1.8375000000000001",
         "6.361435185185186",
         "40.0",
         "5.0"
        ],
        [
         "48",
         "1339",
         "158998",
         "2138-10-13 11:24:00",
         "2138-10-21 14:40:00",
         "EMERGENCY",
         "8.136111111111111",
         "12",
         "['other']",
         "6",
         "12.832638888888889",
         "3.834375",
         "32.0",
         "2.0"
        ],
        [
         "49",
         "1339",
         "140292",
         "2139-12-07 23:02:00",
         "2139-12-16 12:57:00",
         "EMERGENCY",
         "8.57986111111111",
         "15",
         "['other']",
         "7",
         "412.3486111111111",
         "1.7115277777777778",
         "31.0",
         "2.0"
        ]
       ],
       "shape": {
        "columns": 13,
        "rows": 2253
       }
      },
      "text/html": [
       "<div>\n",
       "<style scoped>\n",
       "    .dataframe tbody tr th:only-of-type {\n",
       "        vertical-align: middle;\n",
       "    }\n",
       "\n",
       "    .dataframe tbody tr th {\n",
       "        vertical-align: top;\n",
       "    }\n",
       "\n",
       "    .dataframe thead th {\n",
       "        text-align: right;\n",
       "    }\n",
       "</style>\n",
       "<table border=\"1\" class=\"dataframe\">\n",
       "  <thead>\n",
       "    <tr style=\"text-align: right;\">\n",
       "      <th></th>\n",
       "      <th>SUBJECT_ID</th>\n",
       "      <th>HADM_ID</th>\n",
       "      <th>ADMITTIME</th>\n",
       "      <th>DISCHTIME</th>\n",
       "      <th>ADMISSION_TYPE</th>\n",
       "      <th>HOSPITALIZATION_DAYS</th>\n",
       "      <th>NUM_DIAGNOSES</th>\n",
       "      <th>TYPES_COMORBIDITIES</th>\n",
       "      <th>NUM_PREV_HOSPITALIZATIONS</th>\n",
       "      <th>DAYS_SINCE_LAST_HOSPITALIZATION</th>\n",
       "      <th>DAYS_IN_ICU</th>\n",
       "      <th>NUM_DRUGS</th>\n",
       "      <th>NUM_PROCEDURES</th>\n",
       "    </tr>\n",
       "  </thead>\n",
       "  <tbody>\n",
       "    <tr>\n",
       "      <th>0</th>\n",
       "      <td>111</td>\n",
       "      <td>192123</td>\n",
       "      <td>2142-04-24 06:55:00</td>\n",
       "      <td>2142-05-05 11:45:00</td>\n",
       "      <td>EMERGENCY</td>\n",
       "      <td>11.201389</td>\n",
       "      <td>11</td>\n",
       "      <td>[other, copd]</td>\n",
       "      <td>0</td>\n",
       "      <td>NaN</td>\n",
       "      <td>10.570833</td>\n",
       "      <td>57.0</td>\n",
       "      <td>6.0</td>\n",
       "    </tr>\n",
       "    <tr>\n",
       "      <th>1</th>\n",
       "      <td>111</td>\n",
       "      <td>155897</td>\n",
       "      <td>2144-07-01 04:12:00</td>\n",
       "      <td>2144-07-01 14:55:00</td>\n",
       "      <td>EMERGENCY</td>\n",
       "      <td>0.446528</td>\n",
       "      <td>12</td>\n",
       "      <td>[other]</td>\n",
       "      <td>1</td>\n",
       "      <td>787.685417</td>\n",
       "      <td>0.571204</td>\n",
       "      <td>21.0</td>\n",
       "      <td>4.0</td>\n",
       "    </tr>\n",
       "    <tr>\n",
       "      <th>2</th>\n",
       "      <td>124</td>\n",
       "      <td>172461</td>\n",
       "      <td>2160-06-24 21:25:00</td>\n",
       "      <td>2160-07-15 15:10:00</td>\n",
       "      <td>EMERGENCY</td>\n",
       "      <td>20.739583</td>\n",
       "      <td>9</td>\n",
       "      <td>[other]</td>\n",
       "      <td>0</td>\n",
       "      <td>NaN</td>\n",
       "      <td>3.911852</td>\n",
       "      <td>38.0</td>\n",
       "      <td>4.0</td>\n",
       "    </tr>\n",
       "    <tr>\n",
       "      <th>3</th>\n",
       "      <td>124</td>\n",
       "      <td>112906</td>\n",
       "      <td>2161-12-17 03:39:00</td>\n",
       "      <td>2161-12-24 15:35:00</td>\n",
       "      <td>EMERGENCY</td>\n",
       "      <td>7.497222</td>\n",
       "      <td>9</td>\n",
       "      <td>[other]</td>\n",
       "      <td>1</td>\n",
       "      <td>519.520139</td>\n",
       "      <td>7.189676</td>\n",
       "      <td>37.0</td>\n",
       "      <td>4.0</td>\n",
       "    </tr>\n",
       "    <tr>\n",
       "      <th>4</th>\n",
       "      <td>124</td>\n",
       "      <td>134369</td>\n",
       "      <td>2165-05-21 21:02:00</td>\n",
       "      <td>2165-06-06 16:00:00</td>\n",
       "      <td>ELECTIVE</td>\n",
       "      <td>15.790278</td>\n",
       "      <td>15</td>\n",
       "      <td>[other]</td>\n",
       "      <td>2</td>\n",
       "      <td>1244.227083</td>\n",
       "      <td>1.336204</td>\n",
       "      <td>42.0</td>\n",
       "      <td>12.0</td>\n",
       "    </tr>\n",
       "    <tr>\n",
       "      <th>...</th>\n",
       "      <td>...</td>\n",
       "      <td>...</td>\n",
       "      <td>...</td>\n",
       "      <td>...</td>\n",
       "      <td>...</td>\n",
       "      <td>...</td>\n",
       "      <td>...</td>\n",
       "      <td>...</td>\n",
       "      <td>...</td>\n",
       "      <td>...</td>\n",
       "      <td>...</td>\n",
       "      <td>...</td>\n",
       "      <td>...</td>\n",
       "    </tr>\n",
       "    <tr>\n",
       "      <th>2248</th>\n",
       "      <td>99556</td>\n",
       "      <td>196292</td>\n",
       "      <td>2167-07-30 20:33:00</td>\n",
       "      <td>2167-07-31 21:53:00</td>\n",
       "      <td>EMERGENCY</td>\n",
       "      <td>1.055556</td>\n",
       "      <td>19</td>\n",
       "      <td>[other, copd]</td>\n",
       "      <td>2</td>\n",
       "      <td>161.068056</td>\n",
       "      <td>0.899039</td>\n",
       "      <td>20.0</td>\n",
       "      <td>1.0</td>\n",
       "    </tr>\n",
       "    <tr>\n",
       "      <th>2249</th>\n",
       "      <td>99613</td>\n",
       "      <td>175391</td>\n",
       "      <td>2152-11-03 18:12:00</td>\n",
       "      <td>2152-11-14 15:43:00</td>\n",
       "      <td>EMERGENCY</td>\n",
       "      <td>10.896528</td>\n",
       "      <td>11</td>\n",
       "      <td>[other]</td>\n",
       "      <td>0</td>\n",
       "      <td>NaN</td>\n",
       "      <td>1.840139</td>\n",
       "      <td>40.0</td>\n",
       "      <td>1.0</td>\n",
       "    </tr>\n",
       "    <tr>\n",
       "      <th>2250</th>\n",
       "      <td>99613</td>\n",
       "      <td>177517</td>\n",
       "      <td>2153-02-10 01:00:00</td>\n",
       "      <td>2153-02-26 17:00:00</td>\n",
       "      <td>EMERGENCY</td>\n",
       "      <td>16.666667</td>\n",
       "      <td>15</td>\n",
       "      <td>[other, copd]</td>\n",
       "      <td>1</td>\n",
       "      <td>87.386806</td>\n",
       "      <td>16.676794</td>\n",
       "      <td>61.0</td>\n",
       "      <td>8.0</td>\n",
       "    </tr>\n",
       "    <tr>\n",
       "      <th>2251</th>\n",
       "      <td>99747</td>\n",
       "      <td>136052</td>\n",
       "      <td>2103-11-23 19:32:00</td>\n",
       "      <td>2103-11-30 13:53:00</td>\n",
       "      <td>EMERGENCY</td>\n",
       "      <td>6.764583</td>\n",
       "      <td>19</td>\n",
       "      <td>[other, copd]</td>\n",
       "      <td>0</td>\n",
       "      <td>NaN</td>\n",
       "      <td>4.039919</td>\n",
       "      <td>36.0</td>\n",
       "      <td>NaN</td>\n",
       "    </tr>\n",
       "    <tr>\n",
       "      <th>2252</th>\n",
       "      <td>99777</td>\n",
       "      <td>197851</td>\n",
       "      <td>2167-09-15 07:15:00</td>\n",
       "      <td>2167-09-22 11:57:00</td>\n",
       "      <td>ELECTIVE</td>\n",
       "      <td>7.195833</td>\n",
       "      <td>11</td>\n",
       "      <td>[other, copd]</td>\n",
       "      <td>0</td>\n",
       "      <td>NaN</td>\n",
       "      <td>1.282326</td>\n",
       "      <td>48.0</td>\n",
       "      <td>3.0</td>\n",
       "    </tr>\n",
       "  </tbody>\n",
       "</table>\n",
       "<p>2253 rows × 13 columns</p>\n",
       "</div>"
      ],
      "text/plain": [
       "      SUBJECT_ID  HADM_ID           ADMITTIME           DISCHTIME  \\\n",
       "0            111   192123 2142-04-24 06:55:00 2142-05-05 11:45:00   \n",
       "1            111   155897 2144-07-01 04:12:00 2144-07-01 14:55:00   \n",
       "2            124   172461 2160-06-24 21:25:00 2160-07-15 15:10:00   \n",
       "3            124   112906 2161-12-17 03:39:00 2161-12-24 15:35:00   \n",
       "4            124   134369 2165-05-21 21:02:00 2165-06-06 16:00:00   \n",
       "...          ...      ...                 ...                 ...   \n",
       "2248       99556   196292 2167-07-30 20:33:00 2167-07-31 21:53:00   \n",
       "2249       99613   175391 2152-11-03 18:12:00 2152-11-14 15:43:00   \n",
       "2250       99613   177517 2153-02-10 01:00:00 2153-02-26 17:00:00   \n",
       "2251       99747   136052 2103-11-23 19:32:00 2103-11-30 13:53:00   \n",
       "2252       99777   197851 2167-09-15 07:15:00 2167-09-22 11:57:00   \n",
       "\n",
       "     ADMISSION_TYPE  HOSPITALIZATION_DAYS  NUM_DIAGNOSES TYPES_COMORBIDITIES  \\\n",
       "0         EMERGENCY             11.201389             11  [other, copd]   \n",
       "1         EMERGENCY              0.446528             12        [other]   \n",
       "2         EMERGENCY             20.739583              9        [other]   \n",
       "3         EMERGENCY              7.497222              9        [other]   \n",
       "4          ELECTIVE             15.790278             15        [other]   \n",
       "...             ...                   ...            ...            ...   \n",
       "2248      EMERGENCY              1.055556             19  [other, copd]   \n",
       "2249      EMERGENCY             10.896528             11        [other]   \n",
       "2250      EMERGENCY             16.666667             15  [other, copd]   \n",
       "2251      EMERGENCY              6.764583             19  [other, copd]   \n",
       "2252       ELECTIVE              7.195833             11  [other, copd]   \n",
       "\n",
       "      NUM_PREV_HOSPITALIZATIONS  DAYS_SINCE_LAST_HOSPITALIZATION  DAYS_IN_ICU  \\\n",
       "0                             0                              NaN    10.570833   \n",
       "1                             1                       787.685417     0.571204   \n",
       "2                             0                              NaN     3.911852   \n",
       "3                             1                       519.520139     7.189676   \n",
       "4                             2                      1244.227083     1.336204   \n",
       "...                         ...                              ...          ...   \n",
       "2248                          2                       161.068056     0.899039   \n",
       "2249                          0                              NaN     1.840139   \n",
       "2250                          1                        87.386806    16.676794   \n",
       "2251                          0                              NaN     4.039919   \n",
       "2252                          0                              NaN     1.282326   \n",
       "\n",
       "      NUM_DRUGS  NUM_PROCEDURES  \n",
       "0          57.0             6.0  \n",
       "1          21.0             4.0  \n",
       "2          38.0             4.0  \n",
       "3          37.0             4.0  \n",
       "4          42.0            12.0  \n",
       "...         ...             ...  \n",
       "2248       20.0             1.0  \n",
       "2249       40.0             1.0  \n",
       "2250       61.0             8.0  \n",
       "2251       36.0             NaN  \n",
       "2252       48.0             3.0  \n",
       "\n",
       "[2253 rows x 13 columns]"
      ]
     },
     "execution_count": 26,
     "metadata": {},
     "output_type": "execute_result"
    }
   ],
   "source": [
    "X"
   ]
  },
  {
   "cell_type": "markdown",
   "metadata": {},
   "source": [
    "### Drug Relapse"
   ]
  },
  {
   "cell_type": "code",
   "execution_count": 5,
   "metadata": {},
   "outputs": [
    {
     "data": {
      "text/plain": [
       "2639974"
      ]
     },
     "execution_count": 5,
     "metadata": {},
     "output_type": "execute_result"
    }
   ],
   "source": [
    "len(drug_tests_df)"
   ]
  },
  {
   "cell_type": "code",
   "execution_count": 6,
   "metadata": {},
   "outputs": [
    {
     "data": {
      "application/vnd.microsoft.datawrangler.viewer.v0+json": {
       "columns": [
        {
         "name": "index",
         "rawType": "int64",
         "type": "integer"
        },
        {
         "name": "donor_id",
         "rawType": "int64",
         "type": "integer"
        },
        {
         "name": "drug_class",
         "rawType": "object",
         "type": "string"
        },
        {
         "name": "time",
         "rawType": "datetime64[ns]",
         "type": "datetime"
        },
        {
         "name": "drug_test_positive",
         "rawType": "bool",
         "type": "boolean"
        },
        {
         "name": "showedup",
         "rawType": "bool",
         "type": "boolean"
        },
        {
         "name": "program_type",
         "rawType": "object",
         "type": "string"
        }
       ],
       "ref": "619b619a-2fd8-4e73-ae77-2750e3652414",
       "rows": [
        [
         "0",
         "5691261",
         "Barbiturates",
         "2024-04-23 00:00:00",
         "False",
         "True",
         "Drug Court"
        ],
        [
         "1",
         "5071478",
         "Amphetamines",
         "2024-04-23 00:00:00",
         "False",
         "True",
         "DWI Court"
        ],
        [
         "2",
         "5638782",
         "Cannabinoids",
         "2024-04-23 00:00:00",
         "False",
         "True",
         "Drug Court"
        ],
        [
         "3",
         "6455532",
         "Benzodiazepines",
         "2024-04-20 00:00:00",
         "False",
         "True",
         "Mental Health"
        ],
        [
         "5",
         "1157890",
         "Barbiturates",
         "2024-04-19 00:00:00",
         "False",
         "True",
         "Drug Court"
        ]
       ],
       "shape": {
        "columns": 6,
        "rows": 5
       }
      },
      "text/html": [
       "<div>\n",
       "<style scoped>\n",
       "    .dataframe tbody tr th:only-of-type {\n",
       "        vertical-align: middle;\n",
       "    }\n",
       "\n",
       "    .dataframe tbody tr th {\n",
       "        vertical-align: top;\n",
       "    }\n",
       "\n",
       "    .dataframe thead th {\n",
       "        text-align: right;\n",
       "    }\n",
       "</style>\n",
       "<table border=\"1\" class=\"dataframe\">\n",
       "  <thead>\n",
       "    <tr style=\"text-align: right;\">\n",
       "      <th></th>\n",
       "      <th>donor_id</th>\n",
       "      <th>drug_class</th>\n",
       "      <th>time</th>\n",
       "      <th>drug_test_positive</th>\n",
       "      <th>showedup</th>\n",
       "      <th>program_type</th>\n",
       "    </tr>\n",
       "  </thead>\n",
       "  <tbody>\n",
       "    <tr>\n",
       "      <th>0</th>\n",
       "      <td>5691261</td>\n",
       "      <td>Barbiturates</td>\n",
       "      <td>2024-04-23</td>\n",
       "      <td>False</td>\n",
       "      <td>True</td>\n",
       "      <td>Drug Court</td>\n",
       "    </tr>\n",
       "    <tr>\n",
       "      <th>1</th>\n",
       "      <td>5071478</td>\n",
       "      <td>Amphetamines</td>\n",
       "      <td>2024-04-23</td>\n",
       "      <td>False</td>\n",
       "      <td>True</td>\n",
       "      <td>DWI Court</td>\n",
       "    </tr>\n",
       "    <tr>\n",
       "      <th>2</th>\n",
       "      <td>5638782</td>\n",
       "      <td>Cannabinoids</td>\n",
       "      <td>2024-04-23</td>\n",
       "      <td>False</td>\n",
       "      <td>True</td>\n",
       "      <td>Drug Court</td>\n",
       "    </tr>\n",
       "    <tr>\n",
       "      <th>3</th>\n",
       "      <td>6455532</td>\n",
       "      <td>Benzodiazepines</td>\n",
       "      <td>2024-04-20</td>\n",
       "      <td>False</td>\n",
       "      <td>True</td>\n",
       "      <td>Mental Health</td>\n",
       "    </tr>\n",
       "    <tr>\n",
       "      <th>5</th>\n",
       "      <td>1157890</td>\n",
       "      <td>Barbiturates</td>\n",
       "      <td>2024-04-19</td>\n",
       "      <td>False</td>\n",
       "      <td>True</td>\n",
       "      <td>Drug Court</td>\n",
       "    </tr>\n",
       "  </tbody>\n",
       "</table>\n",
       "</div>"
      ],
      "text/plain": [
       "   donor_id       drug_class       time  drug_test_positive  showedup  \\\n",
       "0   5691261     Barbiturates 2024-04-23               False      True   \n",
       "1   5071478     Amphetamines 2024-04-23               False      True   \n",
       "2   5638782     Cannabinoids 2024-04-23               False      True   \n",
       "3   6455532  Benzodiazepines 2024-04-20               False      True   \n",
       "5   1157890     Barbiturates 2024-04-19               False      True   \n",
       "\n",
       "    program_type  \n",
       "0     Drug Court  \n",
       "1      DWI Court  \n",
       "2     Drug Court  \n",
       "3  Mental Health  \n",
       "5     Drug Court  "
      ]
     },
     "execution_count": 6,
     "metadata": {},
     "output_type": "execute_result"
    }
   ],
   "source": [
    "drug_tests_df.head()"
   ]
  },
  {
   "cell_type": "code",
   "execution_count": 7,
   "metadata": {},
   "outputs": [],
   "source": [
    "drug_tests_df[\"collection_id\"] = drug_tests_df.index + 10000"
   ]
  },
  {
   "cell_type": "code",
   "execution_count": 8,
   "metadata": {},
   "outputs": [],
   "source": [
    "drug_tests_subset_df = drug_tests_df.iloc[0:50000, :]"
   ]
  },
  {
   "cell_type": "code",
   "execution_count": 9,
   "metadata": {},
   "outputs": [
    {
     "data": {
      "application/vnd.microsoft.datawrangler.viewer.v0+json": {
       "columns": [
        {
         "name": "index",
         "rawType": "int64",
         "type": "integer"
        },
        {
         "name": "donor_id",
         "rawType": "int64",
         "type": "integer"
        },
        {
         "name": "drug_class",
         "rawType": "object",
         "type": "string"
        },
        {
         "name": "time",
         "rawType": "datetime64[ns]",
         "type": "datetime"
        },
        {
         "name": "drug_test_positive",
         "rawType": "bool",
         "type": "boolean"
        },
        {
         "name": "showedup",
         "rawType": "bool",
         "type": "boolean"
        },
        {
         "name": "program_type",
         "rawType": "object",
         "type": "string"
        },
        {
         "name": "collection_id",
         "rawType": "int64",
         "type": "integer"
        }
       ],
       "ref": "073780fb-a1d3-4a3e-afcf-c9166c72b94a",
       "rows": [
        [
         "0",
         "5691261",
         "Barbiturates",
         "2024-04-23 00:00:00",
         "False",
         "True",
         "Drug Court",
         "10000"
        ],
        [
         "1",
         "5071478",
         "Amphetamines",
         "2024-04-23 00:00:00",
         "False",
         "True",
         "DWI Court",
         "10001"
        ],
        [
         "2",
         "5638782",
         "Cannabinoids",
         "2024-04-23 00:00:00",
         "False",
         "True",
         "Drug Court",
         "10002"
        ],
        [
         "3",
         "6455532",
         "Benzodiazepines",
         "2024-04-20 00:00:00",
         "False",
         "True",
         "Mental Health",
         "10003"
        ],
        [
         "5",
         "1157890",
         "Barbiturates",
         "2024-04-19 00:00:00",
         "False",
         "True",
         "Drug Court",
         "10005"
        ],
        [
         "6",
         "5702783",
         "Alcohol",
         "2024-04-19 00:00:00",
         "False",
         "True",
         "Drug Court",
         "10006"
        ],
        [
         "9",
         "5988305",
         "Amphetamines",
         "2024-04-18 00:00:00",
         "False",
         "True",
         "Drug Court",
         "10009"
        ],
        [
         "10",
         "1785782",
         "Cocaine",
         "2024-04-18 00:00:00",
         "False",
         "True",
         "Probation",
         "10010"
        ],
        [
         "11",
         "4467686",
         "Amphetamines",
         "2024-04-18 00:00:00",
         "False",
         "True",
         "Parole",
         "10011"
        ],
        [
         "13",
         "5989335",
         "Cannabinoids",
         "2024-04-17 00:00:00",
         "False",
         "True",
         "DWI Court",
         "10013"
        ],
        [
         "14",
         "4478923",
         "Cannabinoids",
         "2024-04-17 00:00:00",
         "False",
         "True",
         "Pretrial",
         "10014"
        ],
        [
         "15",
         "3297658",
         "Opiates",
         "2024-04-17 00:00:00",
         "False",
         "True",
         "Probation",
         "10015"
        ],
        [
         "17",
         "4650339",
         "Amphetamines",
         "2024-04-17 00:00:00",
         "False",
         "True",
         "Drug Court",
         "10017"
        ],
        [
         "18",
         "77636",
         "Amphetamines",
         "2024-04-17 00:00:00",
         "False",
         "True",
         "Drug Court",
         "10018"
        ],
        [
         "19",
         "57792",
         "Cannabinoids",
         "2024-04-17 00:00:00",
         "False",
         "True",
         "Probation",
         "10019"
        ],
        [
         "21",
         "7295248",
         "Amphetamines",
         "2024-04-16 00:00:00",
         "False",
         "True",
         "Family Court",
         "10021"
        ],
        [
         "23",
         "2428738",
         "Alcohol",
         "2024-04-15 00:00:00",
         "False",
         "True",
         "Probation",
         "10023"
        ],
        [
         "24",
         "6910852",
         "Dissociative Anesthetics",
         "2024-04-15 00:00:00",
         "False",
         "True",
         "General",
         "10024"
        ],
        [
         "26",
         "4870498",
         "Cannabinoids",
         "2024-04-15 00:00:00",
         "False",
         "True",
         "Drug Court",
         "10026"
        ],
        [
         "27",
         "1583515",
         "Amphetamines",
         "2024-04-15 00:00:00",
         "False",
         "True",
         "Probation",
         "10027"
        ],
        [
         "28",
         "3493219",
         "Benzodiazepines",
         "2024-04-15 00:00:00",
         "False",
         "True",
         "General",
         "10028"
        ],
        [
         "30",
         "1143791",
         "Alcohol",
         "2024-04-14 00:00:00",
         "False",
         "True",
         "Drug Court",
         "10030"
        ],
        [
         "31",
         "9920301",
         "Benzodiazepines",
         "2024-04-13 00:00:00",
         "False",
         "True",
         "Drug Court",
         "10031"
        ],
        [
         "34",
         "6455532",
         "Benzodiazepines",
         "2024-04-12 00:00:00",
         "False",
         "True",
         "Mental Health",
         "10034"
        ],
        [
         "35",
         "2607785",
         "Cannabinoids",
         "2024-04-11 00:00:00",
         "False",
         "True",
         "Probation",
         "10035"
        ],
        [
         "36",
         "8270781",
         "Amphetamines",
         "2024-04-11 00:00:00",
         "True",
         "True",
         "Family Court",
         "10036"
        ],
        [
         "37",
         "6314439",
         "Amphetamines",
         "2024-04-11 00:00:00",
         "True",
         "True",
         "General",
         "10037"
        ],
        [
         "38",
         "5571101",
         "Opiates",
         "2024-04-11 00:00:00",
         "False",
         "True",
         "Probation",
         "10038"
        ],
        [
         "44",
         "3319211",
         "Opiates",
         "2024-04-09 00:00:00",
         "False",
         "True",
         "Probation",
         "10044"
        ],
        [
         "45",
         "5318102",
         "Amphetamines",
         "2024-04-09 00:00:00",
         "False",
         "True",
         "DWI Court",
         "10045"
        ],
        [
         "46",
         "4467686",
         "Cocaine",
         "2024-04-09 00:00:00",
         "False",
         "True",
         "Parole",
         "10046"
        ],
        [
         "48",
         "9924220",
         "Other",
         "2024-04-12 00:00:00",
         "False",
         "True",
         "Family Court",
         "10048"
        ],
        [
         "50",
         "2907981",
         "Opiates",
         "2024-04-08 00:00:00",
         "False",
         "True",
         "Probation",
         "10050"
        ],
        [
         "51",
         "7103912",
         "Cannabinoids",
         "2024-04-08 00:00:00",
         "False",
         "True",
         "General",
         "10051"
        ],
        [
         "52",
         "5301073",
         "Methadone",
         "2024-04-08 00:00:00",
         "False",
         "True",
         "Drug Court",
         "10052"
        ],
        [
         "53",
         "4276006",
         "Amphetamines",
         "2024-04-08 00:00:00",
         "False",
         "True",
         "Drug Court",
         "10053"
        ],
        [
         "55",
         "9287324",
         "Opiates",
         "2024-04-07 00:00:00",
         "False",
         "True",
         "Drug Court",
         "10055"
        ],
        [
         "56",
         "1530442",
         "Cocaine",
         "2024-04-07 00:00:00",
         "False",
         "True",
         "Drug Court",
         "10056"
        ],
        [
         "57",
         "9114085",
         "Cocaine",
         "2024-04-06 00:00:00",
         "False",
         "True",
         "Veterans Court",
         "10057"
        ],
        [
         "59",
         "3421442",
         "Buprenorphine",
         "2024-04-05 00:00:00",
         "False",
         "True",
         "Drug Court",
         "10059"
        ],
        [
         "60",
         "8156522",
         "Buprenorphine",
         "2024-04-05 00:00:00",
         "False",
         "True",
         "Drug Court",
         "10060"
        ],
        [
         "61",
         "2554929",
         "Alcohol",
         "2024-04-05 00:00:00",
         "False",
         "True",
         "Drug Court",
         "10061"
        ],
        [
         "62",
         "5354340",
         "Cocaine",
         "2024-04-05 00:00:00",
         "False",
         "True",
         "Drug Court",
         "10062"
        ],
        [
         "63",
         "3778994",
         "Cannabinoids",
         "2024-04-05 00:00:00",
         "True",
         "True",
         "General",
         "10063"
        ],
        [
         "64",
         "9173182",
         "Opiates",
         "2024-04-03 00:00:00",
         "False",
         "True",
         "Drug Court",
         "10064"
        ],
        [
         "65",
         "6143778",
         "Benzodiazepines",
         "2024-04-03 00:00:00",
         "False",
         "True",
         "Drug Court",
         "10065"
        ],
        [
         "66",
         "8250059",
         "Cocaine",
         "2024-04-03 00:00:00",
         "False",
         "True",
         "Probation",
         "10066"
        ],
        [
         "68",
         "3731366",
         "Methadone",
         "2024-04-02 00:00:00",
         "True",
         "True",
         "Family Court",
         "10068"
        ],
        [
         "69",
         "5442594",
         "Opiates",
         "2024-04-02 00:00:00",
         "False",
         "True",
         "Probation",
         "10069"
        ],
        [
         "72",
         "6748452",
         "Opiates",
         "2024-04-01 00:00:00",
         "False",
         "True",
         "DWI Court",
         "10072"
        ]
       ],
       "shape": {
        "columns": 7,
        "rows": 50000
       }
      },
      "text/html": [
       "<div>\n",
       "<style scoped>\n",
       "    .dataframe tbody tr th:only-of-type {\n",
       "        vertical-align: middle;\n",
       "    }\n",
       "\n",
       "    .dataframe tbody tr th {\n",
       "        vertical-align: top;\n",
       "    }\n",
       "\n",
       "    .dataframe thead th {\n",
       "        text-align: right;\n",
       "    }\n",
       "</style>\n",
       "<table border=\"1\" class=\"dataframe\">\n",
       "  <thead>\n",
       "    <tr style=\"text-align: right;\">\n",
       "      <th></th>\n",
       "      <th>donor_id</th>\n",
       "      <th>drug_class</th>\n",
       "      <th>time</th>\n",
       "      <th>drug_test_positive</th>\n",
       "      <th>showedup</th>\n",
       "      <th>program_type</th>\n",
       "      <th>collection_id</th>\n",
       "    </tr>\n",
       "  </thead>\n",
       "  <tbody>\n",
       "    <tr>\n",
       "      <th>0</th>\n",
       "      <td>5691261</td>\n",
       "      <td>Barbiturates</td>\n",
       "      <td>2024-04-23</td>\n",
       "      <td>False</td>\n",
       "      <td>True</td>\n",
       "      <td>Drug Court</td>\n",
       "      <td>10000</td>\n",
       "    </tr>\n",
       "    <tr>\n",
       "      <th>1</th>\n",
       "      <td>5071478</td>\n",
       "      <td>Amphetamines</td>\n",
       "      <td>2024-04-23</td>\n",
       "      <td>False</td>\n",
       "      <td>True</td>\n",
       "      <td>DWI Court</td>\n",
       "      <td>10001</td>\n",
       "    </tr>\n",
       "    <tr>\n",
       "      <th>2</th>\n",
       "      <td>5638782</td>\n",
       "      <td>Cannabinoids</td>\n",
       "      <td>2024-04-23</td>\n",
       "      <td>False</td>\n",
       "      <td>True</td>\n",
       "      <td>Drug Court</td>\n",
       "      <td>10002</td>\n",
       "    </tr>\n",
       "    <tr>\n",
       "      <th>3</th>\n",
       "      <td>6455532</td>\n",
       "      <td>Benzodiazepines</td>\n",
       "      <td>2024-04-20</td>\n",
       "      <td>False</td>\n",
       "      <td>True</td>\n",
       "      <td>Mental Health</td>\n",
       "      <td>10003</td>\n",
       "    </tr>\n",
       "    <tr>\n",
       "      <th>5</th>\n",
       "      <td>1157890</td>\n",
       "      <td>Barbiturates</td>\n",
       "      <td>2024-04-19</td>\n",
       "      <td>False</td>\n",
       "      <td>True</td>\n",
       "      <td>Drug Court</td>\n",
       "      <td>10005</td>\n",
       "    </tr>\n",
       "    <tr>\n",
       "      <th>...</th>\n",
       "      <td>...</td>\n",
       "      <td>...</td>\n",
       "      <td>...</td>\n",
       "      <td>...</td>\n",
       "      <td>...</td>\n",
       "      <td>...</td>\n",
       "      <td>...</td>\n",
       "    </tr>\n",
       "    <tr>\n",
       "      <th>74005</th>\n",
       "      <td>1769657</td>\n",
       "      <td>Fentanyl</td>\n",
       "      <td>2024-07-10</td>\n",
       "      <td>False</td>\n",
       "      <td>True</td>\n",
       "      <td>Drug Court</td>\n",
       "      <td>84005</td>\n",
       "    </tr>\n",
       "    <tr>\n",
       "      <th>74008</th>\n",
       "      <td>8219417</td>\n",
       "      <td>Dissociative Anesthetics</td>\n",
       "      <td>2024-07-10</td>\n",
       "      <td>False</td>\n",
       "      <td>True</td>\n",
       "      <td>Drug Court</td>\n",
       "      <td>84008</td>\n",
       "    </tr>\n",
       "    <tr>\n",
       "      <th>74009</th>\n",
       "      <td>8894548</td>\n",
       "      <td>Cannabinoids</td>\n",
       "      <td>2024-07-11</td>\n",
       "      <td>False</td>\n",
       "      <td>True</td>\n",
       "      <td>Probation</td>\n",
       "      <td>84009</td>\n",
       "    </tr>\n",
       "    <tr>\n",
       "      <th>74010</th>\n",
       "      <td>6324414</td>\n",
       "      <td>Cannabinoids</td>\n",
       "      <td>2024-07-11</td>\n",
       "      <td>False</td>\n",
       "      <td>True</td>\n",
       "      <td>Probation</td>\n",
       "      <td>84010</td>\n",
       "    </tr>\n",
       "    <tr>\n",
       "      <th>74011</th>\n",
       "      <td>4206328</td>\n",
       "      <td>Fentanyl</td>\n",
       "      <td>2024-07-11</td>\n",
       "      <td>False</td>\n",
       "      <td>True</td>\n",
       "      <td>Drug Court</td>\n",
       "      <td>84011</td>\n",
       "    </tr>\n",
       "  </tbody>\n",
       "</table>\n",
       "<p>50000 rows × 7 columns</p>\n",
       "</div>"
      ],
      "text/plain": [
       "       donor_id                drug_class       time  drug_test_positive  \\\n",
       "0       5691261              Barbiturates 2024-04-23               False   \n",
       "1       5071478              Amphetamines 2024-04-23               False   \n",
       "2       5638782              Cannabinoids 2024-04-23               False   \n",
       "3       6455532           Benzodiazepines 2024-04-20               False   \n",
       "5       1157890              Barbiturates 2024-04-19               False   \n",
       "...         ...                       ...        ...                 ...   \n",
       "74005   1769657                  Fentanyl 2024-07-10               False   \n",
       "74008   8219417  Dissociative Anesthetics 2024-07-10               False   \n",
       "74009   8894548              Cannabinoids 2024-07-11               False   \n",
       "74010   6324414              Cannabinoids 2024-07-11               False   \n",
       "74011   4206328                  Fentanyl 2024-07-11               False   \n",
       "\n",
       "       showedup   program_type  collection_id  \n",
       "0          True     Drug Court          10000  \n",
       "1          True      DWI Court          10001  \n",
       "2          True     Drug Court          10002  \n",
       "3          True  Mental Health          10003  \n",
       "5          True     Drug Court          10005  \n",
       "...         ...            ...            ...  \n",
       "74005      True     Drug Court          84005  \n",
       "74008      True     Drug Court          84008  \n",
       "74009      True      Probation          84009  \n",
       "74010      True      Probation          84010  \n",
       "74011      True     Drug Court          84011  \n",
       "\n",
       "[50000 rows x 7 columns]"
      ]
     },
     "execution_count": 9,
     "metadata": {},
     "output_type": "execute_result"
    }
   ],
   "source": [
    "drug_tests_subset_df"
   ]
  },
  {
   "cell_type": "code",
   "execution_count": 10,
   "metadata": {},
   "outputs": [],
   "source": [
    "from recurrent_health_events_prediction.preprocessing.feature_extraction import FeatureExtractorDrugRelapse\n",
    "\n",
    "features_relapse_df = FeatureExtractorDrugRelapse.build_features(drug_tests_subset_df, donor_df)"
   ]
  },
  {
   "cell_type": "code",
   "execution_count": 11,
   "metadata": {},
   "outputs": [],
   "source": [
    "features_relapse_df.sort_values(by=[\"DONOR_ID\", \"TIME\"], inplace=True)"
   ]
  },
  {
   "cell_type": "code",
   "execution_count": 13,
   "metadata": {},
   "outputs": [
    {
     "data": {
      "text/plain": [
       "Index(['DONOR_ID', 'TIME', 'COLLECTION_ID', 'DRUG_POSITIVE', 'SHOWEDUP',\n",
       "       'PROGRAM_TYPE', 'NUM_DRUGS_TESTED', 'NUM_DRUGS_POSITIVE',\n",
       "       'POSITIVE_DRUGS', 'PREV_TEST_TIME', 'NEXT_TEST_TIME',\n",
       "       'TIME_SINCE_LAST_TEST', 'TIME_UNTIL_NEXT_TEST',\n",
       "       'TIME_SINCE_LAST_POSITIVE', 'TIME_UNTIL_NEXT_POSITIVE',\n",
       "       'NUM_NEGATIVES_SINCE_LAST_POSITIVE', 'DRUG_POSITIVE_PAST_MEAN',\n",
       "       'NUM_DRUGS_POSITIVE_PAST_MEAN', 'TIME_SINCE_LAST_POSITIVE_PAST_MEAN',\n",
       "       'SHOWEDUP_PAST_MEAN', 'DRUG_POSITIVE_PAST_SUM', 'RACE', 'AGE',\n",
       "       'GENDER'],\n",
       "      dtype='object')"
      ]
     },
     "execution_count": 13,
     "metadata": {},
     "output_type": "execute_result"
    }
   ],
   "source": [
    "features_relapse_df.columns"
   ]
  },
  {
   "cell_type": "code",
   "execution_count": 27,
   "metadata": {},
   "outputs": [],
   "source": [
    "from recurrent_health_events_prediction.preprocessing.preprocessors import DataPreprocessorDrugRelapse\n",
    "\n",
    "drug_relapse_preprocessor = DataPreprocessorDrugRelapse({})\n",
    "relapses_subset_df = drug_relapse_preprocessor.extract_relapse_periods(features_relapse_df)\n"
   ]
  },
  {
   "cell_type": "code",
   "execution_count": 28,
   "metadata": {},
   "outputs": [
    {
     "data": {
      "application/vnd.microsoft.datawrangler.viewer.v0+json": {
       "columns": [
        {
         "name": "index",
         "rawType": "int64",
         "type": "integer"
        },
        {
         "name": "DONOR_ID",
         "rawType": "int64",
         "type": "integer"
        },
        {
         "name": "COLLECTION_ID",
         "rawType": "int64",
         "type": "integer"
        },
        {
         "name": "RELAPSE_START",
         "rawType": "datetime64[ns]",
         "type": "datetime"
        },
        {
         "name": "RELAPSE_END",
         "rawType": "datetime64[ns]",
         "type": "datetime"
        },
        {
         "name": "EVENT_DURATION",
         "rawType": "float64",
         "type": "float"
        },
        {
         "name": "RELAPSE_EVENT",
         "rawType": "int64",
         "type": "integer"
        },
        {
         "name": "NUM_TESTS_PERIOD",
         "rawType": "int64",
         "type": "integer"
        }
       ],
       "ref": "b9218001-d791-4aa4-a355-0490972883bb",
       "rows": [
        [
         "0",
         "10012",
         "27484",
         "2015-01-30 00:00:00",
         "2018-07-23 00:00:00",
         "1270.0",
         "0",
         "3"
        ],
        [
         "1",
         "10134",
         "83428",
         "2014-11-25 00:00:00",
         "2018-09-06 00:00:00",
         "1381.0",
         "0",
         "4"
        ],
        [
         "2",
         "10136",
         "27517",
         "2014-11-20 00:00:00",
         "2014-12-04 00:00:00",
         "14.0",
         "0",
         "2"
        ],
        [
         "3",
         "10149",
         "83609",
         "2015-07-18 00:00:00",
         "2017-02-02 00:00:00",
         "565.0",
         "0",
         "17"
        ],
        [
         "4",
         "10291",
         "27765",
         "2014-08-24 00:00:00",
         "2018-12-22 00:00:00",
         "1581.0",
         "0",
         "12"
        ],
        [
         "5",
         "10462",
         "83638",
         "2015-05-08 00:00:00",
         "2015-07-20 00:00:00",
         "73.0",
         "0",
         "3"
        ],
        [
         "6",
         "10503",
         "74418",
         "2015-05-03 00:00:00",
         null,
         null,
         "0",
         "1"
        ],
        [
         "7",
         "10641",
         "74039",
         "2015-12-03 00:00:00",
         null,
         null,
         "0",
         "1"
        ],
        [
         "8",
         "10765",
         "83296",
         "2015-12-08 00:00:00",
         null,
         null,
         "0",
         "1"
        ],
        [
         "9",
         "10769",
         "36987",
         "2014-11-18 00:00:00",
         "2014-12-15 00:00:00",
         "27.0",
         "0",
         "3"
        ],
        [
         "10",
         "10922",
         "64822",
         "2015-04-17 00:00:00",
         null,
         null,
         "0",
         "1"
        ],
        [
         "11",
         "10984",
         "65053",
         "2015-07-07 00:00:00",
         null,
         null,
         "0",
         "1"
        ],
        [
         "12",
         "11086",
         "46443",
         "2015-07-28 00:00:00",
         "2015-11-04 00:00:00",
         "99.0",
         "0",
         "3"
        ],
        [
         "13",
         "11155",
         "74471",
         "2014-08-21 00:00:00",
         "2015-11-30 00:00:00",
         "466.0",
         "0",
         "19"
        ],
        [
         "14",
         "11271",
         "65049",
         "2015-07-13 00:00:00",
         null,
         null,
         "0",
         "1"
        ],
        [
         "15",
         "11321",
         "83315",
         "2015-11-12 00:00:00",
         null,
         null,
         "0",
         "1"
        ],
        [
         "16",
         "11738",
         "36932",
         "2015-02-10 00:00:00",
         "2016-07-05 00:00:00",
         "511.0",
         "0",
         "32"
        ],
        [
         "17",
         "12451",
         "65093",
         "2015-05-08 00:00:00",
         "2016-03-28 00:00:00",
         "325.0",
         "0",
         "11"
        ],
        [
         "18",
         "12819",
         "36870",
         "2015-10-23 00:00:00",
         "2016-06-28 00:00:00",
         "249.0",
         "0",
         "3"
        ],
        [
         "19",
         "12839",
         "40975",
         "2022-03-14 00:00:00",
         null,
         null,
         "0",
         "1"
        ],
        [
         "20",
         "12871",
         "36877",
         "2015-10-14 00:00:00",
         "2015-11-15 00:00:00",
         "32.0",
         "1",
         "1"
        ],
        [
         "21",
         "12871",
         "83133",
         "2016-10-19 00:00:00",
         null,
         null,
         "0",
         "0"
        ],
        [
         "22",
         "13391",
         "55792",
         "2015-07-08 00:00:00",
         "2015-07-14 00:00:00",
         "6.0",
         "0",
         "2"
        ],
        [
         "23",
         "13443",
         "16639",
         "2018-07-03 00:00:00",
         "2019-01-14 00:00:00",
         "195.0",
         "0",
         "6"
        ],
        [
         "24",
         "13561",
         "55588",
         "2014-12-26 00:00:00",
         "2016-07-17 00:00:00",
         "569.0",
         "0",
         "9"
        ],
        [
         "25",
         "14115",
         "74441",
         "2014-10-13 00:00:00",
         "2015-06-23 00:00:00",
         "253.0",
         "0",
         "6"
        ],
        [
         "26",
         "14167",
         "19720",
         "2024-01-04 00:00:00",
         "2024-11-21 00:00:00",
         "322.0",
         "0",
         "14"
        ],
        [
         "27",
         "14447",
         "18367",
         "2015-06-23 00:00:00",
         "2016-08-08 00:00:00",
         "412.0",
         "0",
         "12"
        ],
        [
         "28",
         "14588",
         "74100",
         "2015-03-31 00:00:00",
         null,
         null,
         "0",
         "1"
        ],
        [
         "29",
         "14640",
         "45188",
         "2018-01-19 00:00:00",
         null,
         null,
         "0",
         "1"
        ],
        [
         "30",
         "14747",
         "73898",
         "2016-05-19 00:00:00",
         "2017-05-17 00:00:00",
         "363.0",
         "0",
         "4"
        ],
        [
         "31",
         "14813",
         "83674",
         "2014-09-21 00:00:00",
         "2015-08-11 00:00:00",
         "324.0",
         "0",
         "11"
        ],
        [
         "32",
         "14850",
         "37119",
         "2015-08-24 00:00:00",
         "2015-10-28 00:00:00",
         "65.0",
         "0",
         "3"
        ],
        [
         "33",
         "15114",
         "55574",
         "2015-01-18 00:00:00",
         null,
         null,
         "0",
         "0"
        ],
        [
         "34",
         "15150",
         "64640",
         "2016-04-15 00:00:00",
         "2016-05-19 00:00:00",
         "34.0",
         "0",
         "2"
        ],
        [
         "35",
         "15193",
         "65097",
         "2014-11-07 00:00:00",
         "2018-04-18 00:00:00",
         "1258.0",
         "0",
         "19"
        ],
        [
         "36",
         "15196",
         "17671",
         "2017-04-08 00:00:00",
         "2022-10-24 00:00:00",
         "2025.0",
         "0",
         "22"
        ],
        [
         "37",
         "15557",
         "83484",
         "2016-09-13 00:00:00",
         null,
         null,
         "0",
         "0"
        ],
        [
         "38",
         "15802",
         "46364",
         "2016-08-15 00:00:00",
         "2017-09-11 00:00:00",
         "392.0",
         "0",
         "6"
        ],
        [
         "39",
         "15863",
         "55607",
         "2014-11-25 00:00:00",
         null,
         null,
         "0",
         "0"
        ],
        [
         "40",
         "15894",
         "74414",
         "2015-05-11 00:00:00",
         null,
         null,
         "0",
         "1"
        ],
        [
         "41",
         "16199",
         "36829",
         "2015-12-30 00:00:00",
         "2016-06-20 00:00:00",
         "173.0",
         "0",
         "5"
        ],
        [
         "42",
         "16251",
         "64798",
         "2015-10-20 00:00:00",
         null,
         null,
         "0",
         "1"
        ],
        [
         "43",
         "16337",
         "74105",
         "2015-03-19 00:00:00",
         "2015-06-18 00:00:00",
         "91.0",
         "0",
         "2"
        ],
        [
         "44",
         "16597",
         "74087",
         "2015-04-17 00:00:00",
         "2016-06-28 00:00:00",
         "438.0",
         "0",
         "6"
        ],
        [
         "45",
         "17042",
         "27274",
         "2016-04-06 00:00:00",
         null,
         null,
         "0",
         "1"
        ],
        [
         "46",
         "17150",
         "36844",
         "2015-11-30 00:00:00",
         "2019-05-15 00:00:00",
         "1262.0",
         "0",
         "19"
        ],
        [
         "47",
         "17851",
         "27644",
         "2015-09-08 00:00:00",
         null,
         null,
         "0",
         "1"
        ],
        [
         "48",
         "18073",
         "27350",
         "2016-01-12 00:00:00",
         "2016-02-29 00:00:00",
         "48.0",
         "0",
         "2"
        ],
        [
         "49",
         "18397",
         "45996",
         "2016-06-01 00:00:00",
         "2017-02-22 00:00:00",
         "266.0",
         "0",
         "7"
        ]
       ],
       "shape": {
        "columns": 7,
        "rows": 10531
       }
      },
      "text/html": [
       "<div>\n",
       "<style scoped>\n",
       "    .dataframe tbody tr th:only-of-type {\n",
       "        vertical-align: middle;\n",
       "    }\n",
       "\n",
       "    .dataframe tbody tr th {\n",
       "        vertical-align: top;\n",
       "    }\n",
       "\n",
       "    .dataframe thead th {\n",
       "        text-align: right;\n",
       "    }\n",
       "</style>\n",
       "<table border=\"1\" class=\"dataframe\">\n",
       "  <thead>\n",
       "    <tr style=\"text-align: right;\">\n",
       "      <th></th>\n",
       "      <th>DONOR_ID</th>\n",
       "      <th>COLLECTION_ID</th>\n",
       "      <th>RELAPSE_START</th>\n",
       "      <th>RELAPSE_END</th>\n",
       "      <th>EVENT_DURATION</th>\n",
       "      <th>RELAPSE_EVENT</th>\n",
       "      <th>NUM_TESTS_PERIOD</th>\n",
       "    </tr>\n",
       "  </thead>\n",
       "  <tbody>\n",
       "    <tr>\n",
       "      <th>0</th>\n",
       "      <td>10012</td>\n",
       "      <td>27484</td>\n",
       "      <td>2015-01-30</td>\n",
       "      <td>2018-07-23</td>\n",
       "      <td>1270.0</td>\n",
       "      <td>0</td>\n",
       "      <td>3</td>\n",
       "    </tr>\n",
       "    <tr>\n",
       "      <th>1</th>\n",
       "      <td>10134</td>\n",
       "      <td>83428</td>\n",
       "      <td>2014-11-25</td>\n",
       "      <td>2018-09-06</td>\n",
       "      <td>1381.0</td>\n",
       "      <td>0</td>\n",
       "      <td>4</td>\n",
       "    </tr>\n",
       "    <tr>\n",
       "      <th>2</th>\n",
       "      <td>10136</td>\n",
       "      <td>27517</td>\n",
       "      <td>2014-11-20</td>\n",
       "      <td>2014-12-04</td>\n",
       "      <td>14.0</td>\n",
       "      <td>0</td>\n",
       "      <td>2</td>\n",
       "    </tr>\n",
       "    <tr>\n",
       "      <th>3</th>\n",
       "      <td>10149</td>\n",
       "      <td>83609</td>\n",
       "      <td>2015-07-18</td>\n",
       "      <td>2017-02-02</td>\n",
       "      <td>565.0</td>\n",
       "      <td>0</td>\n",
       "      <td>17</td>\n",
       "    </tr>\n",
       "    <tr>\n",
       "      <th>4</th>\n",
       "      <td>10291</td>\n",
       "      <td>27765</td>\n",
       "      <td>2014-08-24</td>\n",
       "      <td>2018-12-22</td>\n",
       "      <td>1581.0</td>\n",
       "      <td>0</td>\n",
       "      <td>12</td>\n",
       "    </tr>\n",
       "    <tr>\n",
       "      <th>...</th>\n",
       "      <td>...</td>\n",
       "      <td>...</td>\n",
       "      <td>...</td>\n",
       "      <td>...</td>\n",
       "      <td>...</td>\n",
       "      <td>...</td>\n",
       "      <td>...</td>\n",
       "    </tr>\n",
       "    <tr>\n",
       "      <th>10526</th>\n",
       "      <td>9996465</td>\n",
       "      <td>65395</td>\n",
       "      <td>2024-06-21</td>\n",
       "      <td>NaT</td>\n",
       "      <td>NaN</td>\n",
       "      <td>0</td>\n",
       "      <td>1</td>\n",
       "    </tr>\n",
       "    <tr>\n",
       "      <th>10527</th>\n",
       "      <td>9997136</td>\n",
       "      <td>21137</td>\n",
       "      <td>2022-12-08</td>\n",
       "      <td>2023-09-18</td>\n",
       "      <td>284.0</td>\n",
       "      <td>0</td>\n",
       "      <td>2</td>\n",
       "    </tr>\n",
       "    <tr>\n",
       "      <th>10528</th>\n",
       "      <td>9998072</td>\n",
       "      <td>27966</td>\n",
       "      <td>2024-06-13</td>\n",
       "      <td>NaT</td>\n",
       "      <td>NaN</td>\n",
       "      <td>0</td>\n",
       "      <td>1</td>\n",
       "    </tr>\n",
       "    <tr>\n",
       "      <th>10529</th>\n",
       "      <td>9998334</td>\n",
       "      <td>44863</td>\n",
       "      <td>2018-01-31</td>\n",
       "      <td>NaT</td>\n",
       "      <td>NaN</td>\n",
       "      <td>0</td>\n",
       "      <td>1</td>\n",
       "    </tr>\n",
       "    <tr>\n",
       "      <th>10530</th>\n",
       "      <td>9998891</td>\n",
       "      <td>45094</td>\n",
       "      <td>2017-10-30</td>\n",
       "      <td>2019-12-19</td>\n",
       "      <td>780.0</td>\n",
       "      <td>0</td>\n",
       "      <td>19</td>\n",
       "    </tr>\n",
       "  </tbody>\n",
       "</table>\n",
       "<p>10531 rows × 7 columns</p>\n",
       "</div>"
      ],
      "text/plain": [
       "       DONOR_ID  COLLECTION_ID RELAPSE_START RELAPSE_END  EVENT_DURATION  \\\n",
       "0         10012          27484    2015-01-30  2018-07-23          1270.0   \n",
       "1         10134          83428    2014-11-25  2018-09-06          1381.0   \n",
       "2         10136          27517    2014-11-20  2014-12-04            14.0   \n",
       "3         10149          83609    2015-07-18  2017-02-02           565.0   \n",
       "4         10291          27765    2014-08-24  2018-12-22          1581.0   \n",
       "...         ...            ...           ...         ...             ...   \n",
       "10526   9996465          65395    2024-06-21         NaT             NaN   \n",
       "10527   9997136          21137    2022-12-08  2023-09-18           284.0   \n",
       "10528   9998072          27966    2024-06-13         NaT             NaN   \n",
       "10529   9998334          44863    2018-01-31         NaT             NaN   \n",
       "10530   9998891          45094    2017-10-30  2019-12-19           780.0   \n",
       "\n",
       "       RELAPSE_EVENT  NUM_TESTS_PERIOD  \n",
       "0                  0                 3  \n",
       "1                  0                 4  \n",
       "2                  0                 2  \n",
       "3                  0                17  \n",
       "4                  0                12  \n",
       "...              ...               ...  \n",
       "10526              0                 1  \n",
       "10527              0                 2  \n",
       "10528              0                 1  \n",
       "10529              0                 1  \n",
       "10530              0                19  \n",
       "\n",
       "[10531 rows x 7 columns]"
      ]
     },
     "execution_count": 28,
     "metadata": {},
     "output_type": "execute_result"
    }
   ],
   "source": [
    "relapses_subset_df.sort_values(by=[\"DONOR_ID\", \"RELAPSE_START\"])"
   ]
  },
  {
   "cell_type": "code",
   "execution_count": 30,
   "metadata": {},
   "outputs": [],
   "source": [
    "merged_df = pd.merge(\n",
    "    relapses_subset_df,\n",
    "    features_relapse_df.drop(columns=[\"DONOR_ID\"]),\n",
    "    how='left',\n",
    "    on='COLLECTION_ID',\n",
    ")"
   ]
  },
  {
   "cell_type": "code",
   "execution_count": 31,
   "metadata": {},
   "outputs": [
    {
     "data": {
      "application/vnd.microsoft.datawrangler.viewer.v0+json": {
       "columns": [
        {
         "name": "index",
         "rawType": "int64",
         "type": "integer"
        },
        {
         "name": "DONOR_ID",
         "rawType": "int64",
         "type": "integer"
        },
        {
         "name": "COLLECTION_ID",
         "rawType": "int64",
         "type": "integer"
        },
        {
         "name": "RELAPSE_START",
         "rawType": "datetime64[ns]",
         "type": "datetime"
        },
        {
         "name": "RELAPSE_END",
         "rawType": "datetime64[ns]",
         "type": "datetime"
        },
        {
         "name": "EVENT_DURATION",
         "rawType": "float64",
         "type": "float"
        },
        {
         "name": "RELAPSE_EVENT",
         "rawType": "int64",
         "type": "integer"
        },
        {
         "name": "NUM_TESTS_PERIOD",
         "rawType": "int64",
         "type": "integer"
        },
        {
         "name": "TIME",
         "rawType": "datetime64[ns]",
         "type": "datetime"
        },
        {
         "name": "DRUG_POSITIVE",
         "rawType": "bool",
         "type": "boolean"
        },
        {
         "name": "SHOWEDUP",
         "rawType": "bool",
         "type": "boolean"
        },
        {
         "name": "PROGRAM_TYPE",
         "rawType": "object",
         "type": "string"
        },
        {
         "name": "NUM_DRUGS_TESTED",
         "rawType": "int64",
         "type": "integer"
        },
        {
         "name": "NUM_DRUGS_POSITIVE",
         "rawType": "int64",
         "type": "integer"
        },
        {
         "name": "POSITIVE_DRUGS",
         "rawType": "object",
         "type": "unknown"
        },
        {
         "name": "PREV_TEST_TIME",
         "rawType": "datetime64[ns]",
         "type": "datetime"
        },
        {
         "name": "NEXT_TEST_TIME",
         "rawType": "datetime64[ns]",
         "type": "datetime"
        },
        {
         "name": "TIME_SINCE_LAST_TEST",
         "rawType": "float64",
         "type": "float"
        },
        {
         "name": "TIME_UNTIL_NEXT_TEST",
         "rawType": "float64",
         "type": "float"
        },
        {
         "name": "TIME_SINCE_LAST_POSITIVE",
         "rawType": "float64",
         "type": "float"
        },
        {
         "name": "TIME_UNTIL_NEXT_POSITIVE",
         "rawType": "float64",
         "type": "float"
        },
        {
         "name": "NUM_NEGATIVES_SINCE_LAST_POSITIVE",
         "rawType": "float64",
         "type": "float"
        },
        {
         "name": "DRUG_POSITIVE_PAST_MEAN",
         "rawType": "float64",
         "type": "float"
        },
        {
         "name": "NUM_DRUGS_POSITIVE_PAST_MEAN",
         "rawType": "float64",
         "type": "float"
        },
        {
         "name": "TIME_SINCE_LAST_POSITIVE_PAST_MEAN",
         "rawType": "float64",
         "type": "float"
        },
        {
         "name": "SHOWEDUP_PAST_MEAN",
         "rawType": "float64",
         "type": "float"
        },
        {
         "name": "DRUG_POSITIVE_PAST_SUM",
         "rawType": "float64",
         "type": "float"
        },
        {
         "name": "RACE",
         "rawType": "object",
         "type": "string"
        },
        {
         "name": "AGE",
         "rawType": "int64",
         "type": "integer"
        },
        {
         "name": "GENDER",
         "rawType": "object",
         "type": "string"
        }
       ],
       "ref": "0a57b9bf-531f-4115-a1aa-aa25f1574fbb",
       "rows": [
        [
         "0",
         "10012",
         "27484",
         "2015-01-30 00:00:00",
         "2018-07-23 00:00:00",
         "1270.0",
         "0",
         "3",
         "2015-01-30 00:00:00",
         "False",
         "True",
         "Probation",
         "1",
         "0",
         "[]",
         null,
         "2017-09-06 00:00:00",
         null,
         "950.0",
         null,
         null,
         null,
         null,
         null,
         null,
         null,
         null,
         "caucasian",
         "17",
         "MALE"
        ],
        [
         "1",
         "10134",
         "83428",
         "2014-11-25 00:00:00",
         "2018-09-06 00:00:00",
         "1381.0",
         "0",
         "4",
         "2014-11-25 00:00:00",
         "False",
         "True",
         "Probation",
         "1",
         "0",
         "[]",
         null,
         "2017-09-25 00:00:00",
         null,
         "1035.0",
         null,
         null,
         null,
         null,
         null,
         null,
         null,
         null,
         "caucasian",
         "19",
         "MALE"
        ],
        [
         "2",
         "10136",
         "27517",
         "2014-11-20 00:00:00",
         "2014-12-04 00:00:00",
         "14.0",
         "0",
         "2",
         "2014-11-20 00:00:00",
         "False",
         "True",
         "Probation",
         "1",
         "0",
         "[]",
         null,
         "2014-12-04 00:00:00",
         null,
         "14.0",
         null,
         null,
         null,
         null,
         null,
         null,
         null,
         null,
         "black",
         "21",
         "FEMALE"
        ],
        [
         "3",
         "10149",
         "83609",
         "2015-07-18 00:00:00",
         "2017-02-02 00:00:00",
         "565.0",
         "0",
         "17",
         "2015-07-18 00:00:00",
         "False",
         "True",
         "Drug Court",
         "1",
         "0",
         "[]",
         null,
         "2015-08-06 00:00:00",
         null,
         "19.0",
         null,
         null,
         null,
         null,
         null,
         null,
         null,
         null,
         "caucasian",
         "23",
         "FEMALE"
        ],
        [
         "4",
         "10291",
         "27765",
         "2014-08-24 00:00:00",
         "2018-12-22 00:00:00",
         "1581.0",
         "0",
         "12",
         "2014-08-24 00:00:00",
         "False",
         "True",
         "DWI Court",
         "1",
         "0",
         "[]",
         null,
         "2014-09-02 00:00:00",
         null,
         "9.0",
         null,
         null,
         null,
         null,
         null,
         null,
         null,
         null,
         "caucasian",
         "48",
         "MALE"
        ],
        [
         "5",
         "10462",
         "83638",
         "2015-05-08 00:00:00",
         "2015-07-20 00:00:00",
         "73.0",
         "0",
         "3",
         "2015-05-08 00:00:00",
         "False",
         "True",
         "Drug Court",
         "1",
         "0",
         "[]",
         null,
         "2015-06-27 00:00:00",
         null,
         "50.0",
         null,
         null,
         null,
         null,
         null,
         null,
         null,
         null,
         "caucasian",
         "27",
         "MALE"
        ],
        [
         "6",
         "10503",
         "74418",
         "2015-05-03 00:00:00",
         null,
         null,
         "0",
         "1",
         "2015-05-03 00:00:00",
         "False",
         "True",
         "Probation",
         "1",
         "0",
         "[]",
         null,
         null,
         null,
         null,
         null,
         null,
         null,
         null,
         null,
         null,
         null,
         null,
         "black",
         "22",
         "MALE"
        ],
        [
         "7",
         "10641",
         "74039",
         "2015-12-03 00:00:00",
         null,
         null,
         "0",
         "1",
         "2015-12-03 00:00:00",
         "False",
         "True",
         "Probation",
         "1",
         "0",
         "[]",
         null,
         null,
         null,
         null,
         null,
         null,
         null,
         null,
         null,
         null,
         null,
         null,
         "caucasian",
         "36",
         "MALE"
        ],
        [
         "8",
         "10765",
         "83296",
         "2015-12-08 00:00:00",
         null,
         null,
         "0",
         "1",
         "2015-12-08 00:00:00",
         "False",
         "True",
         "Probation",
         "1",
         "0",
         "[]",
         null,
         null,
         null,
         null,
         null,
         null,
         null,
         null,
         null,
         null,
         null,
         null,
         "hispanic",
         "39",
         "MALE"
        ],
        [
         "9",
         "10769",
         "36987",
         "2014-11-18 00:00:00",
         "2014-12-15 00:00:00",
         "27.0",
         "0",
         "3",
         "2014-11-18 00:00:00",
         "False",
         "True",
         "Family Court",
         "1",
         "0",
         "[]",
         null,
         "2014-11-29 00:00:00",
         null,
         "11.0",
         null,
         null,
         null,
         null,
         null,
         null,
         null,
         null,
         "caucasian",
         "47",
         "MALE"
        ],
        [
         "10",
         "10922",
         "64822",
         "2015-04-17 00:00:00",
         null,
         null,
         "0",
         "1",
         "2015-04-17 00:00:00",
         "False",
         "True",
         "Pretrial",
         "1",
         "0",
         "[]",
         null,
         null,
         null,
         null,
         null,
         null,
         null,
         null,
         null,
         null,
         null,
         null,
         "unknown",
         "29",
         "FEMALE"
        ],
        [
         "11",
         "10984",
         "65053",
         "2015-07-07 00:00:00",
         null,
         null,
         "0",
         "1",
         "2015-07-07 00:00:00",
         "False",
         "True",
         "Probation",
         "1",
         "0",
         "[]",
         null,
         null,
         null,
         null,
         null,
         null,
         null,
         null,
         null,
         null,
         null,
         null,
         "caucasian",
         "55",
         "MALE"
        ],
        [
         "12",
         "11086",
         "46443",
         "2015-07-28 00:00:00",
         "2015-11-04 00:00:00",
         "99.0",
         "0",
         "3",
         "2015-07-28 00:00:00",
         "False",
         "True",
         "Drug Court",
         "1",
         "0",
         "[]",
         null,
         "2015-10-08 00:00:00",
         null,
         "72.0",
         null,
         null,
         null,
         null,
         null,
         null,
         null,
         null,
         "caucasian",
         "19",
         "FEMALE"
        ],
        [
         "13",
         "11155",
         "74471",
         "2014-08-21 00:00:00",
         "2015-11-30 00:00:00",
         "466.0",
         "0",
         "19",
         "2014-08-21 00:00:00",
         "False",
         "True",
         "DWI Court",
         "2",
         "0",
         "[]",
         null,
         "2014-08-25 00:00:00",
         null,
         "4.0",
         null,
         null,
         null,
         null,
         null,
         null,
         null,
         null,
         "caucasian",
         "50",
         "MALE"
        ],
        [
         "14",
         "11271",
         "65049",
         "2015-07-13 00:00:00",
         null,
         null,
         "0",
         "1",
         "2015-07-13 00:00:00",
         "False",
         "True",
         "Treatment",
         "1",
         "0",
         "[]",
         null,
         null,
         null,
         null,
         null,
         null,
         null,
         null,
         null,
         null,
         null,
         null,
         "caucasian",
         "46",
         "FEMALE"
        ],
        [
         "15",
         "11321",
         "83315",
         "2015-11-12 00:00:00",
         null,
         null,
         "0",
         "1",
         "2015-11-12 00:00:00",
         "False",
         "True",
         "Drug Court",
         "1",
         "0",
         "[]",
         null,
         null,
         null,
         null,
         null,
         null,
         null,
         null,
         null,
         null,
         null,
         null,
         "caucasian",
         "47",
         "FEMALE"
        ],
        [
         "16",
         "11738",
         "36932",
         "2015-02-10 00:00:00",
         "2016-07-05 00:00:00",
         "511.0",
         "0",
         "32",
         "2015-02-10 00:00:00",
         "False",
         "True",
         "Drug Court",
         "1",
         "0",
         "[]",
         null,
         "2015-03-13 00:00:00",
         null,
         "31.0",
         null,
         null,
         null,
         null,
         null,
         null,
         null,
         null,
         "caucasian",
         "30",
         "FEMALE"
        ],
        [
         "17",
         "12451",
         "65093",
         "2015-05-08 00:00:00",
         "2016-03-28 00:00:00",
         "325.0",
         "0",
         "11",
         "2015-05-08 00:00:00",
         "False",
         "True",
         "Veterans Court",
         "1",
         "0",
         "[]",
         null,
         "2015-07-22 00:00:00",
         null,
         "75.0",
         null,
         null,
         null,
         null,
         null,
         null,
         null,
         null,
         "caucasian",
         "35",
         "MALE"
        ],
        [
         "18",
         "12819",
         "36870",
         "2015-10-23 00:00:00",
         "2016-06-28 00:00:00",
         "249.0",
         "0",
         "3",
         "2015-10-23 00:00:00",
         "False",
         "True",
         "Treatment",
         "1",
         "0",
         "[]",
         null,
         "2016-03-14 00:00:00",
         null,
         "143.0",
         null,
         null,
         null,
         null,
         null,
         null,
         null,
         null,
         "caucasian",
         "46",
         "FEMALE"
        ],
        [
         "19",
         "12839",
         "40975",
         "2022-03-14 00:00:00",
         null,
         null,
         "0",
         "1",
         "2022-03-14 00:00:00",
         "False",
         "True",
         "Probation",
         "1",
         "0",
         "[]",
         null,
         null,
         null,
         null,
         null,
         null,
         null,
         null,
         null,
         null,
         null,
         null,
         "unknown",
         "24",
         "MALE"
        ],
        [
         "20",
         "12871",
         "36877",
         "2015-10-14 00:00:00",
         "2015-11-15 00:00:00",
         "32.0",
         "1",
         "1",
         "2015-10-14 00:00:00",
         "False",
         "True",
         "Pretrial",
         "1",
         "0",
         "[]",
         "2015-09-26 00:00:00",
         "2015-11-15 00:00:00",
         "18.0",
         "32.0",
         "18.0",
         "32.0",
         "0.0",
         "0.3333333333333333",
         "0.3333333333333333",
         null,
         "1.0",
         "1.0",
         "caucasian",
         "58",
         "FEMALE"
        ],
        [
         "21",
         "12871",
         "83133",
         "2016-10-19 00:00:00",
         null,
         null,
         "0",
         "0",
         "2016-10-19 00:00:00",
         "False",
         "True",
         "Probation",
         "1",
         "0",
         "[]",
         "2015-11-15 00:00:00",
         null,
         "339.0",
         null,
         "339.0",
         null,
         "0.0",
         "0.4",
         "0.4",
         "34.0",
         "1.0",
         "2.0",
         "caucasian",
         "58",
         "FEMALE"
        ],
        [
         "22",
         "13391",
         "55792",
         "2015-07-08 00:00:00",
         "2015-07-14 00:00:00",
         "6.0",
         "0",
         "2",
         "2015-07-08 00:00:00",
         "False",
         "True",
         "Probation",
         "1",
         "0",
         "[]",
         null,
         "2015-07-14 00:00:00",
         null,
         "6.0",
         null,
         null,
         null,
         null,
         null,
         null,
         null,
         null,
         "caucasian",
         "46",
         "MALE"
        ],
        [
         "23",
         "13443",
         "16639",
         "2018-07-03 00:00:00",
         "2019-01-14 00:00:00",
         "195.0",
         "0",
         "6",
         "2018-07-03 00:00:00",
         "False",
         "True",
         "Drug Court",
         "1",
         "0",
         "[]",
         "2017-12-11 00:00:00",
         "2018-08-05 00:00:00",
         "204.0",
         "33.0",
         "204.0",
         null,
         "0.0",
         "0.05555555555555555",
         "0.05555555555555555",
         null,
         "1.0",
         "1.0",
         "caucasian",
         "23",
         "FEMALE"
        ],
        [
         "24",
         "13561",
         "55588",
         "2014-12-26 00:00:00",
         "2016-07-17 00:00:00",
         "569.0",
         "0",
         "9",
         "2014-12-26 00:00:00",
         "False",
         "True",
         "Drug Court",
         "1",
         "0",
         "[]",
         null,
         "2015-01-06 00:00:00",
         null,
         "11.0",
         null,
         null,
         null,
         null,
         null,
         null,
         null,
         null,
         "black",
         "20",
         "MALE"
        ],
        [
         "25",
         "14115",
         "74441",
         "2014-10-13 00:00:00",
         "2015-06-23 00:00:00",
         "253.0",
         "0",
         "6",
         "2014-10-13 00:00:00",
         "False",
         "True",
         "Drug Court",
         "1",
         "0",
         "[]",
         null,
         "2014-10-19 00:00:00",
         null,
         "6.0",
         null,
         null,
         null,
         null,
         null,
         null,
         null,
         null,
         "black",
         "24",
         "FEMALE"
        ],
        [
         "26",
         "14167",
         "19720",
         "2024-01-04 00:00:00",
         "2024-11-21 00:00:00",
         "322.0",
         "0",
         "14",
         "2024-01-04 00:00:00",
         "False",
         "True",
         "Mental Health",
         "1",
         "0",
         "[]",
         "2023-12-29 00:00:00",
         "2024-01-19 00:00:00",
         "6.0",
         "15.0",
         "6.0",
         null,
         "0.0",
         "0.0625",
         "0.0625",
         null,
         "1.0",
         "1.0",
         "caucasian",
         "31",
         "MALE"
        ],
        [
         "27",
         "14447",
         "18367",
         "2015-06-23 00:00:00",
         "2016-08-08 00:00:00",
         "412.0",
         "0",
         "12",
         "2015-06-23 00:00:00",
         "False",
         "True",
         "Probation",
         "1",
         "0",
         "[]",
         null,
         "2015-07-13 00:00:00",
         null,
         "20.0",
         null,
         null,
         null,
         null,
         null,
         null,
         null,
         null,
         "black",
         "29",
         "MALE"
        ],
        [
         "28",
         "14588",
         "74100",
         "2015-03-31 00:00:00",
         null,
         null,
         "0",
         "1",
         "2015-03-31 00:00:00",
         "False",
         "True",
         "Mental Health",
         "1",
         "0",
         "[]",
         null,
         null,
         null,
         null,
         null,
         null,
         null,
         null,
         null,
         null,
         null,
         null,
         "caucasian",
         "35",
         "FEMALE"
        ],
        [
         "29",
         "14640",
         "45188",
         "2018-01-19 00:00:00",
         null,
         null,
         "0",
         "1",
         "2018-01-19 00:00:00",
         "False",
         "True",
         "DWI Court",
         "1",
         "0",
         "[]",
         null,
         null,
         null,
         null,
         null,
         null,
         null,
         null,
         null,
         null,
         null,
         null,
         "unknown",
         "22",
         "MALE"
        ],
        [
         "30",
         "14747",
         "73898",
         "2016-05-19 00:00:00",
         "2017-05-17 00:00:00",
         "363.0",
         "0",
         "4",
         "2016-05-19 00:00:00",
         "False",
         "True",
         "Drug Court",
         "1",
         "0",
         "[]",
         null,
         "2016-05-26 00:00:00",
         null,
         "7.0",
         null,
         null,
         null,
         null,
         null,
         null,
         null,
         null,
         "caucasian",
         "37",
         "FEMALE"
        ],
        [
         "31",
         "14813",
         "83674",
         "2014-09-21 00:00:00",
         "2015-08-11 00:00:00",
         "324.0",
         "0",
         "11",
         "2014-09-21 00:00:00",
         "False",
         "True",
         "Veterans Court",
         "1",
         "0",
         "[]",
         null,
         "2014-11-07 00:00:00",
         null,
         "47.0",
         null,
         null,
         null,
         null,
         null,
         null,
         null,
         null,
         "caucasian",
         "29",
         "MALE"
        ],
        [
         "32",
         "14850",
         "37119",
         "2015-08-24 00:00:00",
         "2015-10-28 00:00:00",
         "65.0",
         "0",
         "3",
         "2015-08-24 00:00:00",
         "False",
         "True",
         "Probation",
         "1",
         "0",
         "[]",
         null,
         "2015-10-15 00:00:00",
         null,
         "52.0",
         null,
         null,
         null,
         null,
         null,
         null,
         null,
         null,
         "black",
         "21",
         "MALE"
        ],
        [
         "33",
         "15114",
         "55574",
         "2015-01-18 00:00:00",
         null,
         null,
         "0",
         "0",
         "2015-01-18 00:00:00",
         "False",
         "True",
         "Mental Health",
         "1",
         "0",
         "[]",
         "2015-01-02 00:00:00",
         null,
         "16.0",
         null,
         "16.0",
         null,
         "0.0",
         "1.0",
         "1.0",
         null,
         "1.0",
         "1.0",
         "black",
         "47",
         "MALE"
        ],
        [
         "34",
         "15150",
         "64640",
         "2016-04-15 00:00:00",
         "2016-05-19 00:00:00",
         "34.0",
         "0",
         "2",
         "2016-04-15 00:00:00",
         "False",
         "True",
         "Juvenile Court",
         "1",
         "0",
         "[]",
         null,
         "2016-05-19 00:00:00",
         null,
         "34.0",
         null,
         null,
         null,
         null,
         null,
         null,
         null,
         null,
         "unknown",
         "17",
         "MALE"
        ],
        [
         "35",
         "15193",
         "65097",
         "2014-11-07 00:00:00",
         "2018-04-18 00:00:00",
         "1258.0",
         "0",
         "19",
         "2014-11-07 00:00:00",
         "False",
         "True",
         "DWI Court",
         "1",
         "0",
         "[]",
         null,
         "2014-11-17 00:00:00",
         null,
         "10.0",
         null,
         null,
         null,
         null,
         null,
         null,
         null,
         null,
         "caucasian",
         "30",
         "MALE"
        ],
        [
         "36",
         "15196",
         "17671",
         "2017-04-08 00:00:00",
         "2022-10-24 00:00:00",
         "2025.0",
         "0",
         "22",
         "2017-04-08 00:00:00",
         "False",
         "True",
         "Probation",
         "1",
         "0",
         "[]",
         null,
         "2021-05-22 00:00:00",
         null,
         "1505.0",
         null,
         null,
         null,
         null,
         null,
         null,
         null,
         null,
         "unknown",
         "38",
         "FEMALE"
        ],
        [
         "37",
         "15557",
         "83484",
         "2016-09-13 00:00:00",
         null,
         null,
         "0",
         "0",
         "2016-09-13 00:00:00",
         "False",
         "True",
         "Drug Court",
         "1",
         "0",
         "[]",
         "2016-09-02 00:00:00",
         null,
         "11.0",
         null,
         "11.0",
         null,
         "0.0",
         "0.25",
         "0.25",
         null,
         "1.0",
         "1.0",
         "caucasian",
         "52",
         "MALE"
        ],
        [
         "38",
         "15802",
         "46364",
         "2016-08-15 00:00:00",
         "2017-09-11 00:00:00",
         "392.0",
         "0",
         "6",
         "2016-08-15 00:00:00",
         "False",
         "True",
         "Probation",
         "1",
         "0",
         "[]",
         null,
         "2016-11-07 00:00:00",
         null,
         "84.0",
         null,
         null,
         null,
         null,
         null,
         null,
         null,
         null,
         "black",
         "33",
         "MALE"
        ],
        [
         "39",
         "15863",
         "55607",
         "2014-11-25 00:00:00",
         null,
         null,
         "0",
         "0",
         "2014-11-25 00:00:00",
         "False",
         "True",
         "Workplace",
         "1",
         "0",
         "[]",
         "2014-11-24 00:00:00",
         null,
         "1.0",
         null,
         "1.0",
         null,
         "0.0",
         "1.0",
         "1.0",
         null,
         "1.0",
         "1.0",
         "black",
         "24",
         "FEMALE"
        ],
        [
         "40",
         "15894",
         "74414",
         "2015-05-11 00:00:00",
         null,
         null,
         "0",
         "1",
         "2015-05-11 00:00:00",
         "False",
         "True",
         "Probation",
         "1",
         "0",
         "[]",
         null,
         null,
         null,
         null,
         null,
         null,
         null,
         null,
         null,
         null,
         null,
         null,
         "caucasian",
         "18",
         "MALE"
        ],
        [
         "41",
         "16199",
         "36829",
         "2015-12-30 00:00:00",
         "2016-06-20 00:00:00",
         "173.0",
         "0",
         "5",
         "2015-12-30 00:00:00",
         "False",
         "True",
         "Treatment",
         "1",
         "0",
         "[]",
         null,
         "2016-01-26 00:00:00",
         null,
         "27.0",
         null,
         null,
         null,
         null,
         null,
         null,
         null,
         null,
         "caucasian",
         "18",
         "MALE"
        ],
        [
         "42",
         "16251",
         "64798",
         "2015-10-20 00:00:00",
         null,
         null,
         "0",
         "1",
         "2015-10-20 00:00:00",
         "False",
         "True",
         "Probation",
         "1",
         "0",
         "[]",
         null,
         null,
         null,
         null,
         null,
         null,
         null,
         null,
         null,
         null,
         null,
         null,
         "hispanic",
         "30",
         "MALE"
        ],
        [
         "43",
         "16337",
         "74105",
         "2015-03-19 00:00:00",
         "2015-06-18 00:00:00",
         "91.0",
         "0",
         "2",
         "2015-03-19 00:00:00",
         "False",
         "True",
         "Treatment",
         "1",
         "0",
         "[]",
         null,
         "2015-06-18 00:00:00",
         null,
         "91.0",
         null,
         null,
         null,
         null,
         null,
         null,
         null,
         null,
         "caucasian",
         "28",
         "FEMALE"
        ],
        [
         "44",
         "16597",
         "74087",
         "2015-04-17 00:00:00",
         "2016-06-28 00:00:00",
         "438.0",
         "0",
         "6",
         "2015-04-17 00:00:00",
         "False",
         "True",
         "Probation",
         "1",
         "0",
         "[]",
         null,
         "2015-06-26 00:00:00",
         null,
         "70.0",
         null,
         null,
         null,
         null,
         null,
         null,
         null,
         null,
         "caucasian",
         "21",
         "MALE"
        ],
        [
         "45",
         "17042",
         "27274",
         "2016-04-06 00:00:00",
         null,
         null,
         "0",
         "1",
         "2016-04-06 00:00:00",
         "False",
         "True",
         "Drug Court",
         "1",
         "0",
         "[]",
         null,
         null,
         null,
         null,
         null,
         null,
         null,
         null,
         null,
         null,
         null,
         null,
         "hispanic",
         "52",
         "MALE"
        ],
        [
         "46",
         "17150",
         "36844",
         "2015-11-30 00:00:00",
         "2019-05-15 00:00:00",
         "1262.0",
         "0",
         "19",
         "2015-11-30 00:00:00",
         "False",
         "True",
         "DWI Court",
         "1",
         "0",
         "[]",
         null,
         "2016-01-01 00:00:00",
         null,
         "32.0",
         null,
         null,
         null,
         null,
         null,
         null,
         null,
         null,
         "black",
         "53",
         "MALE"
        ],
        [
         "47",
         "17851",
         "27644",
         "2015-09-08 00:00:00",
         null,
         null,
         "0",
         "1",
         "2015-09-08 00:00:00",
         "False",
         "True",
         "Juvenile Court",
         "1",
         "0",
         "[]",
         null,
         null,
         null,
         null,
         null,
         null,
         null,
         null,
         null,
         null,
         null,
         null,
         "unknown",
         "17",
         "MALE"
        ],
        [
         "48",
         "18073",
         "27350",
         "2016-01-12 00:00:00",
         "2016-02-29 00:00:00",
         "48.0",
         "0",
         "2",
         "2016-01-12 00:00:00",
         "False",
         "True",
         "Treatment",
         "1",
         "0",
         "[]",
         "2015-12-01 00:00:00",
         "2016-02-09 00:00:00",
         "42.0",
         "28.0",
         "42.0",
         null,
         "0.0",
         "1.0",
         "1.0",
         null,
         "1.0",
         "1.0",
         "caucasian",
         "27",
         "FEMALE"
        ],
        [
         "49",
         "18397",
         "45996",
         "2016-06-01 00:00:00",
         "2017-02-22 00:00:00",
         "266.0",
         "0",
         "7",
         "2016-06-01 00:00:00",
         "False",
         "True",
         "Drug Court",
         "1",
         "0",
         "[]",
         null,
         "2016-09-12 00:00:00",
         null,
         "103.0",
         null,
         null,
         null,
         null,
         null,
         null,
         null,
         null,
         "black",
         "29",
         "FEMALE"
        ]
       ],
       "shape": {
        "columns": 29,
        "rows": 10531
       }
      },
      "text/html": [
       "<div>\n",
       "<style scoped>\n",
       "    .dataframe tbody tr th:only-of-type {\n",
       "        vertical-align: middle;\n",
       "    }\n",
       "\n",
       "    .dataframe tbody tr th {\n",
       "        vertical-align: top;\n",
       "    }\n",
       "\n",
       "    .dataframe thead th {\n",
       "        text-align: right;\n",
       "    }\n",
       "</style>\n",
       "<table border=\"1\" class=\"dataframe\">\n",
       "  <thead>\n",
       "    <tr style=\"text-align: right;\">\n",
       "      <th></th>\n",
       "      <th>DONOR_ID</th>\n",
       "      <th>COLLECTION_ID</th>\n",
       "      <th>RELAPSE_START</th>\n",
       "      <th>RELAPSE_END</th>\n",
       "      <th>EVENT_DURATION</th>\n",
       "      <th>RELAPSE_EVENT</th>\n",
       "      <th>NUM_TESTS_PERIOD</th>\n",
       "      <th>TIME</th>\n",
       "      <th>DRUG_POSITIVE</th>\n",
       "      <th>SHOWEDUP</th>\n",
       "      <th>...</th>\n",
       "      <th>TIME_UNTIL_NEXT_POSITIVE</th>\n",
       "      <th>NUM_NEGATIVES_SINCE_LAST_POSITIVE</th>\n",
       "      <th>DRUG_POSITIVE_PAST_MEAN</th>\n",
       "      <th>NUM_DRUGS_POSITIVE_PAST_MEAN</th>\n",
       "      <th>TIME_SINCE_LAST_POSITIVE_PAST_MEAN</th>\n",
       "      <th>SHOWEDUP_PAST_MEAN</th>\n",
       "      <th>DRUG_POSITIVE_PAST_SUM</th>\n",
       "      <th>RACE</th>\n",
       "      <th>AGE</th>\n",
       "      <th>GENDER</th>\n",
       "    </tr>\n",
       "  </thead>\n",
       "  <tbody>\n",
       "    <tr>\n",
       "      <th>0</th>\n",
       "      <td>10012</td>\n",
       "      <td>27484</td>\n",
       "      <td>2015-01-30</td>\n",
       "      <td>2018-07-23</td>\n",
       "      <td>1270.0</td>\n",
       "      <td>0</td>\n",
       "      <td>3</td>\n",
       "      <td>2015-01-30</td>\n",
       "      <td>False</td>\n",
       "      <td>True</td>\n",
       "      <td>...</td>\n",
       "      <td>NaN</td>\n",
       "      <td>NaN</td>\n",
       "      <td>NaN</td>\n",
       "      <td>NaN</td>\n",
       "      <td>NaN</td>\n",
       "      <td>NaN</td>\n",
       "      <td>NaN</td>\n",
       "      <td>caucasian</td>\n",
       "      <td>17</td>\n",
       "      <td>MALE</td>\n",
       "    </tr>\n",
       "    <tr>\n",
       "      <th>1</th>\n",
       "      <td>10134</td>\n",
       "      <td>83428</td>\n",
       "      <td>2014-11-25</td>\n",
       "      <td>2018-09-06</td>\n",
       "      <td>1381.0</td>\n",
       "      <td>0</td>\n",
       "      <td>4</td>\n",
       "      <td>2014-11-25</td>\n",
       "      <td>False</td>\n",
       "      <td>True</td>\n",
       "      <td>...</td>\n",
       "      <td>NaN</td>\n",
       "      <td>NaN</td>\n",
       "      <td>NaN</td>\n",
       "      <td>NaN</td>\n",
       "      <td>NaN</td>\n",
       "      <td>NaN</td>\n",
       "      <td>NaN</td>\n",
       "      <td>caucasian</td>\n",
       "      <td>19</td>\n",
       "      <td>MALE</td>\n",
       "    </tr>\n",
       "    <tr>\n",
       "      <th>2</th>\n",
       "      <td>10136</td>\n",
       "      <td>27517</td>\n",
       "      <td>2014-11-20</td>\n",
       "      <td>2014-12-04</td>\n",
       "      <td>14.0</td>\n",
       "      <td>0</td>\n",
       "      <td>2</td>\n",
       "      <td>2014-11-20</td>\n",
       "      <td>False</td>\n",
       "      <td>True</td>\n",
       "      <td>...</td>\n",
       "      <td>NaN</td>\n",
       "      <td>NaN</td>\n",
       "      <td>NaN</td>\n",
       "      <td>NaN</td>\n",
       "      <td>NaN</td>\n",
       "      <td>NaN</td>\n",
       "      <td>NaN</td>\n",
       "      <td>black</td>\n",
       "      <td>21</td>\n",
       "      <td>FEMALE</td>\n",
       "    </tr>\n",
       "    <tr>\n",
       "      <th>3</th>\n",
       "      <td>10149</td>\n",
       "      <td>83609</td>\n",
       "      <td>2015-07-18</td>\n",
       "      <td>2017-02-02</td>\n",
       "      <td>565.0</td>\n",
       "      <td>0</td>\n",
       "      <td>17</td>\n",
       "      <td>2015-07-18</td>\n",
       "      <td>False</td>\n",
       "      <td>True</td>\n",
       "      <td>...</td>\n",
       "      <td>NaN</td>\n",
       "      <td>NaN</td>\n",
       "      <td>NaN</td>\n",
       "      <td>NaN</td>\n",
       "      <td>NaN</td>\n",
       "      <td>NaN</td>\n",
       "      <td>NaN</td>\n",
       "      <td>caucasian</td>\n",
       "      <td>23</td>\n",
       "      <td>FEMALE</td>\n",
       "    </tr>\n",
       "    <tr>\n",
       "      <th>4</th>\n",
       "      <td>10291</td>\n",
       "      <td>27765</td>\n",
       "      <td>2014-08-24</td>\n",
       "      <td>2018-12-22</td>\n",
       "      <td>1581.0</td>\n",
       "      <td>0</td>\n",
       "      <td>12</td>\n",
       "      <td>2014-08-24</td>\n",
       "      <td>False</td>\n",
       "      <td>True</td>\n",
       "      <td>...</td>\n",
       "      <td>NaN</td>\n",
       "      <td>NaN</td>\n",
       "      <td>NaN</td>\n",
       "      <td>NaN</td>\n",
       "      <td>NaN</td>\n",
       "      <td>NaN</td>\n",
       "      <td>NaN</td>\n",
       "      <td>caucasian</td>\n",
       "      <td>48</td>\n",
       "      <td>MALE</td>\n",
       "    </tr>\n",
       "    <tr>\n",
       "      <th>...</th>\n",
       "      <td>...</td>\n",
       "      <td>...</td>\n",
       "      <td>...</td>\n",
       "      <td>...</td>\n",
       "      <td>...</td>\n",
       "      <td>...</td>\n",
       "      <td>...</td>\n",
       "      <td>...</td>\n",
       "      <td>...</td>\n",
       "      <td>...</td>\n",
       "      <td>...</td>\n",
       "      <td>...</td>\n",
       "      <td>...</td>\n",
       "      <td>...</td>\n",
       "      <td>...</td>\n",
       "      <td>...</td>\n",
       "      <td>...</td>\n",
       "      <td>...</td>\n",
       "      <td>...</td>\n",
       "      <td>...</td>\n",
       "      <td>...</td>\n",
       "    </tr>\n",
       "    <tr>\n",
       "      <th>10526</th>\n",
       "      <td>9996465</td>\n",
       "      <td>65395</td>\n",
       "      <td>2024-06-21</td>\n",
       "      <td>NaT</td>\n",
       "      <td>NaN</td>\n",
       "      <td>0</td>\n",
       "      <td>1</td>\n",
       "      <td>2024-06-21</td>\n",
       "      <td>False</td>\n",
       "      <td>True</td>\n",
       "      <td>...</td>\n",
       "      <td>NaN</td>\n",
       "      <td>NaN</td>\n",
       "      <td>NaN</td>\n",
       "      <td>NaN</td>\n",
       "      <td>NaN</td>\n",
       "      <td>NaN</td>\n",
       "      <td>NaN</td>\n",
       "      <td>hispanic</td>\n",
       "      <td>19</td>\n",
       "      <td>MALE</td>\n",
       "    </tr>\n",
       "    <tr>\n",
       "      <th>10527</th>\n",
       "      <td>9997136</td>\n",
       "      <td>21137</td>\n",
       "      <td>2022-12-08</td>\n",
       "      <td>2023-09-18</td>\n",
       "      <td>284.0</td>\n",
       "      <td>0</td>\n",
       "      <td>2</td>\n",
       "      <td>2022-12-08</td>\n",
       "      <td>False</td>\n",
       "      <td>True</td>\n",
       "      <td>...</td>\n",
       "      <td>NaN</td>\n",
       "      <td>NaN</td>\n",
       "      <td>NaN</td>\n",
       "      <td>NaN</td>\n",
       "      <td>NaN</td>\n",
       "      <td>NaN</td>\n",
       "      <td>NaN</td>\n",
       "      <td>black</td>\n",
       "      <td>22</td>\n",
       "      <td>MALE</td>\n",
       "    </tr>\n",
       "    <tr>\n",
       "      <th>10528</th>\n",
       "      <td>9998072</td>\n",
       "      <td>27966</td>\n",
       "      <td>2024-06-13</td>\n",
       "      <td>NaT</td>\n",
       "      <td>NaN</td>\n",
       "      <td>0</td>\n",
       "      <td>1</td>\n",
       "      <td>2024-06-13</td>\n",
       "      <td>False</td>\n",
       "      <td>True</td>\n",
       "      <td>...</td>\n",
       "      <td>NaN</td>\n",
       "      <td>NaN</td>\n",
       "      <td>NaN</td>\n",
       "      <td>NaN</td>\n",
       "      <td>NaN</td>\n",
       "      <td>NaN</td>\n",
       "      <td>NaN</td>\n",
       "      <td>unknown</td>\n",
       "      <td>46</td>\n",
       "      <td>MALE</td>\n",
       "    </tr>\n",
       "    <tr>\n",
       "      <th>10529</th>\n",
       "      <td>9998334</td>\n",
       "      <td>44863</td>\n",
       "      <td>2018-01-31</td>\n",
       "      <td>NaT</td>\n",
       "      <td>NaN</td>\n",
       "      <td>0</td>\n",
       "      <td>1</td>\n",
       "      <td>2018-01-31</td>\n",
       "      <td>False</td>\n",
       "      <td>True</td>\n",
       "      <td>...</td>\n",
       "      <td>NaN</td>\n",
       "      <td>NaN</td>\n",
       "      <td>NaN</td>\n",
       "      <td>NaN</td>\n",
       "      <td>NaN</td>\n",
       "      <td>NaN</td>\n",
       "      <td>NaN</td>\n",
       "      <td>black</td>\n",
       "      <td>24</td>\n",
       "      <td>FEMALE</td>\n",
       "    </tr>\n",
       "    <tr>\n",
       "      <th>10530</th>\n",
       "      <td>9998891</td>\n",
       "      <td>45094</td>\n",
       "      <td>2017-10-30</td>\n",
       "      <td>2019-12-19</td>\n",
       "      <td>780.0</td>\n",
       "      <td>0</td>\n",
       "      <td>19</td>\n",
       "      <td>2017-10-30</td>\n",
       "      <td>False</td>\n",
       "      <td>True</td>\n",
       "      <td>...</td>\n",
       "      <td>NaN</td>\n",
       "      <td>NaN</td>\n",
       "      <td>NaN</td>\n",
       "      <td>NaN</td>\n",
       "      <td>NaN</td>\n",
       "      <td>NaN</td>\n",
       "      <td>NaN</td>\n",
       "      <td>unknown</td>\n",
       "      <td>28</td>\n",
       "      <td>FEMALE</td>\n",
       "    </tr>\n",
       "  </tbody>\n",
       "</table>\n",
       "<p>10531 rows × 29 columns</p>\n",
       "</div>"
      ],
      "text/plain": [
       "       DONOR_ID  COLLECTION_ID RELAPSE_START RELAPSE_END  EVENT_DURATION  \\\n",
       "0         10012          27484    2015-01-30  2018-07-23          1270.0   \n",
       "1         10134          83428    2014-11-25  2018-09-06          1381.0   \n",
       "2         10136          27517    2014-11-20  2014-12-04            14.0   \n",
       "3         10149          83609    2015-07-18  2017-02-02           565.0   \n",
       "4         10291          27765    2014-08-24  2018-12-22          1581.0   \n",
       "...         ...            ...           ...         ...             ...   \n",
       "10526   9996465          65395    2024-06-21         NaT             NaN   \n",
       "10527   9997136          21137    2022-12-08  2023-09-18           284.0   \n",
       "10528   9998072          27966    2024-06-13         NaT             NaN   \n",
       "10529   9998334          44863    2018-01-31         NaT             NaN   \n",
       "10530   9998891          45094    2017-10-30  2019-12-19           780.0   \n",
       "\n",
       "       RELAPSE_EVENT  NUM_TESTS_PERIOD       TIME  DRUG_POSITIVE  SHOWEDUP  \\\n",
       "0                  0                 3 2015-01-30          False      True   \n",
       "1                  0                 4 2014-11-25          False      True   \n",
       "2                  0                 2 2014-11-20          False      True   \n",
       "3                  0                17 2015-07-18          False      True   \n",
       "4                  0                12 2014-08-24          False      True   \n",
       "...              ...               ...        ...            ...       ...   \n",
       "10526              0                 1 2024-06-21          False      True   \n",
       "10527              0                 2 2022-12-08          False      True   \n",
       "10528              0                 1 2024-06-13          False      True   \n",
       "10529              0                 1 2018-01-31          False      True   \n",
       "10530              0                19 2017-10-30          False      True   \n",
       "\n",
       "       ... TIME_UNTIL_NEXT_POSITIVE  NUM_NEGATIVES_SINCE_LAST_POSITIVE  \\\n",
       "0      ...                      NaN                                NaN   \n",
       "1      ...                      NaN                                NaN   \n",
       "2      ...                      NaN                                NaN   \n",
       "3      ...                      NaN                                NaN   \n",
       "4      ...                      NaN                                NaN   \n",
       "...    ...                      ...                                ...   \n",
       "10526  ...                      NaN                                NaN   \n",
       "10527  ...                      NaN                                NaN   \n",
       "10528  ...                      NaN                                NaN   \n",
       "10529  ...                      NaN                                NaN   \n",
       "10530  ...                      NaN                                NaN   \n",
       "\n",
       "       DRUG_POSITIVE_PAST_MEAN NUM_DRUGS_POSITIVE_PAST_MEAN  \\\n",
       "0                          NaN                          NaN   \n",
       "1                          NaN                          NaN   \n",
       "2                          NaN                          NaN   \n",
       "3                          NaN                          NaN   \n",
       "4                          NaN                          NaN   \n",
       "...                        ...                          ...   \n",
       "10526                      NaN                          NaN   \n",
       "10527                      NaN                          NaN   \n",
       "10528                      NaN                          NaN   \n",
       "10529                      NaN                          NaN   \n",
       "10530                      NaN                          NaN   \n",
       "\n",
       "      TIME_SINCE_LAST_POSITIVE_PAST_MEAN SHOWEDUP_PAST_MEAN  \\\n",
       "0                                    NaN                NaN   \n",
       "1                                    NaN                NaN   \n",
       "2                                    NaN                NaN   \n",
       "3                                    NaN                NaN   \n",
       "4                                    NaN                NaN   \n",
       "...                                  ...                ...   \n",
       "10526                                NaN                NaN   \n",
       "10527                                NaN                NaN   \n",
       "10528                                NaN                NaN   \n",
       "10529                                NaN                NaN   \n",
       "10530                                NaN                NaN   \n",
       "\n",
       "       DRUG_POSITIVE_PAST_SUM       RACE  AGE  GENDER  \n",
       "0                         NaN  caucasian   17    MALE  \n",
       "1                         NaN  caucasian   19    MALE  \n",
       "2                         NaN      black   21  FEMALE  \n",
       "3                         NaN  caucasian   23  FEMALE  \n",
       "4                         NaN  caucasian   48    MALE  \n",
       "...                       ...        ...  ...     ...  \n",
       "10526                     NaN   hispanic   19    MALE  \n",
       "10527                     NaN      black   22    MALE  \n",
       "10528                     NaN    unknown   46    MALE  \n",
       "10529                     NaN      black   24  FEMALE  \n",
       "10530                     NaN    unknown   28  FEMALE  \n",
       "\n",
       "[10531 rows x 29 columns]"
      ]
     },
     "execution_count": 31,
     "metadata": {},
     "output_type": "execute_result"
    }
   ],
   "source": [
    "merged_df"
   ]
  }
 ],
 "metadata": {
  "kernelspec": {
   "display_name": "recurrent-health-events-prediction-py3.10",
   "language": "python",
   "name": "python3"
  },
  "language_info": {
   "codemirror_mode": {
    "name": "ipython",
    "version": 3
   },
   "file_extension": ".py",
   "mimetype": "text/x-python",
   "name": "python",
   "nbconvert_exporter": "python",
   "pygments_lexer": "ipython3",
   "version": "3.10.14"
  }
 },
 "nbformat": 4,
 "nbformat_minor": 2
}
