{
 "cells": [
  {
   "cell_type": "markdown",
   "id": "52ef7f13",
   "metadata": {},
   "source": [
    "## Test HospReadmDataset"
   ]
  },
  {
   "cell_type": "code",
   "execution_count": 4,
   "id": "991e74f8",
   "metadata": {},
   "outputs": [
    {
     "name": "stdout",
     "output_type": "stream",
     "text": [
      "/workspaces/msc-thesis-recurrent-health-modeling/data/mimic-iii-preprocessed/copd_hf_renal_diabetes/mimic_cleaned_v2/train_events_preprocessed.csv\n"
     ]
    }
   ],
   "source": [
    "from importlib import resources as impresources\n",
    "from recurrent_health_events_prediction import configs\n",
    "import yaml\n",
    "\n",
    "with open((impresources.files(configs) / 'data_config.yaml')) as f:\n",
    "    data_config = yaml.safe_load(f)\n",
    "    \n",
    "training_data_path = data_config['training_data']['mimic']['data_directory'] + \"/train_events_preprocessed.csv\"\n",
    "print(training_data_path)"
   ]
  },
  {
   "cell_type": "code",
   "execution_count": 5,
   "id": "22351965",
   "metadata": {},
   "outputs": [
    {
     "data": {
      "text/plain": [
       "Index(['SUBJECT_ID', 'HADM_ID', 'ADMITTIME', 'DISCHTIME',\n",
       "       'HOSPITALIZATION_DAYS', 'NUM_COMORBIDITIES', 'TYPES_COMORBIDITIES',\n",
       "       'HAS_DIABETES', 'HAS_COPD', 'HAS_CONGESTIVE_HF', 'NEXT_ADMISSION_TYPE',\n",
       "       'NUM_PREV_HOSPITALIZATIONS', 'PREV_DISCHTIME', 'NEXT_ADMITTIME',\n",
       "       'DAYS_SINCE_LAST_HOSPITALIZATION', 'DAYS_UNTIL_NEXT_HOSPITALIZATION',\n",
       "       'LOG_DAYS_SINCE_LAST_HOSPITALIZATION',\n",
       "       'LOG_DAYS_UNTIL_NEXT_HOSPITALIZATION', 'PREV_READMISSION_30_DAYS',\n",
       "       'READMISSION_30_DAYS', 'READM_30_DAYS_PAST_MEAN',\n",
       "       'READM_30_DAYS_PAST_SUM', 'LOG_DAYS_UNTIL_NEXT_HOSP_PAST_MEAN',\n",
       "       'LOG_DAYS_UNTIL_NEXT_HOSP_PAST_MEDIAN',\n",
       "       'LOG_DAYS_UNTIL_NEXT_HOSP_PAST_STD', 'TOTAL_HOSPITALIZATIONS',\n",
       "       'DAYS_IN_ICU', 'NUM_DRUGS', 'NUM_PROCEDURES', 'GENDER', 'DOB', 'DOD',\n",
       "       'DOD_HOSP', 'AGE', 'CHARLSON_INDEX', 'FIRST_ADMITTIME',\n",
       "       'LAST_DISCHTIME', 'PARTICIPATION_DAYS', 'TOTAL_PARTICIPATION_DAYS',\n",
       "       'DEATH_TIME_AFTER_LAST_DISCHARGE', 'READMISSION_EVENT',\n",
       "       'EVENT_DURATION', 'IN_HOSP_DEATH_EVENT', 'AFTER_HOSP_DEATH_EVENT',\n",
       "       'LOG_HOSPITALIZATION_DAYS', 'LOG_DAYS_IN_ICU',\n",
       "       'LOG_NUM_PREV_HOSPITALIZATIONS', 'LOG_NUM_DRUGS', 'IS_LAST_EVENT',\n",
       "       'IS_HISTORICAL_EVENT', 'READMISSION_TIME_CAT',\n",
       "       'READMISSION_TIME_CAT_ENCODED', 'ADMISSION_TYPE_ELECTIVE',\n",
       "       'ADMISSION_TYPE_URGENT', 'INSURANCE_GOVERNMENT', 'INSURANCE_MEDICAID',\n",
       "       'INSURANCE_MEDICARE', 'INSURANCE_PRIVATE', 'ETHNICITY_BLACK',\n",
       "       'ETHNICITY_HISPANIC', 'ETHNICITY_WHITE', 'DISCHARGE_LOCATION_HOME',\n",
       "       'DISCHARGE_LOCATION_POST_ACUTE_CARE'],\n",
       "      dtype='object')"
      ]
     },
     "execution_count": 5,
     "metadata": {},
     "output_type": "execute_result"
    }
   ],
   "source": [
    "import pandas as pd\n",
    "\n",
    "df = pd.read_csv(training_data_path)\n",
    "df.columns"
   ]
  },
  {
   "cell_type": "code",
   "execution_count": 6,
   "id": "dc31d1bb",
   "metadata": {},
   "outputs": [],
   "source": [
    "from recurrent_health_events_prediction.datasets.HospReadmDataset import HospReadmDataset\n",
    "\n",
    "long_feat_cols = [\n",
    "    \"LOG_HOSPITALIZATION_DAYS\",\n",
    "    \"LOG_DAYS_IN_ICU\",\n",
    "    \"NUM_COMORBIDITIES\", \"LOG_NUM_DRUGS\", \"NUM_PROCEDURES\",\n",
    "    \"HAS_DIABETES\",\"HAS_COPD\",\"HAS_CONGESTIVE_HF\"]\n",
    "\n",
    "current_feat_cols = [\n",
    "    \"LOG_HOSPITALIZATION_DAYS\",\n",
    "    \"LOG_DAYS_IN_ICU\",\n",
    "    \"CHARLSON_INDEX\",\n",
    "    \"NUM_PROCEDURES\",\n",
    "    \"LOG_NUM_DRUGS\",\n",
    "    \"AGE\",\n",
    "    \"ADMISSION_TYPE_ELECTIVE\",\n",
    "    \"ETHNICITY_WHITE\",\n",
    "    \"ETHNICITY_BLACK\",\n",
    "    \"ETHNICITY_HISPANIC\",\n",
    "    \"INSURANCE_MEDICAID\",\n",
    "    \"INSURANCE_PRIVATE\",\n",
    "]\n",
    "\n",
    "mimic_dataset = HospReadmDataset(\n",
    "    csv_path=training_data_path,\n",
    "    longitudinal_feat_cols=long_feat_cols,\n",
    "    current_feat_cols=current_feat_cols,\n",
    "    subject_id_col=\"SUBJECT_ID\",\n",
    "    max_seq_len=5,\n",
    ")"
   ]
  },
  {
   "cell_type": "code",
   "execution_count": 7,
   "id": "1e2948fb",
   "metadata": {},
   "outputs": [
    {
     "name": "stdout",
     "output_type": "stream",
     "text": [
      "Number of samples in the dataset: 13415\n"
     ]
    }
   ],
   "source": [
    "print(f\"Number of samples in the dataset: {len(mimic_dataset)}\")"
   ]
  },
  {
   "cell_type": "markdown",
   "id": "c95537a2",
   "metadata": {},
   "source": [
    "## Inspecting Patient 107"
   ]
  },
  {
   "cell_type": "code",
   "execution_count": 22,
   "id": "592583ee",
   "metadata": {},
   "outputs": [
    {
     "data": {
      "application/vnd.microsoft.datawrangler.viewer.v0+json": {
       "columns": [
        {
         "name": "index",
         "rawType": "int64",
         "type": "integer"
        },
        {
         "name": "SUBJECT_ID",
         "rawType": "int64",
         "type": "integer"
        },
        {
         "name": "ADMISSION_TYPE_ELECTIVE",
         "rawType": "bool",
         "type": "boolean"
        },
        {
         "name": "ETHNICITY_WHITE",
         "rawType": "bool",
         "type": "boolean"
        },
        {
         "name": "AGE",
         "rawType": "float64",
         "type": "float"
        },
        {
         "name": "ETHNICITY_BLACK",
         "rawType": "bool",
         "type": "boolean"
        },
        {
         "name": "CHARLSON_INDEX",
         "rawType": "int64",
         "type": "integer"
        },
        {
         "name": "INSURANCE_PRIVATE",
         "rawType": "bool",
         "type": "boolean"
        },
        {
         "name": "READMISSION_30_DAYS",
         "rawType": "int64",
         "type": "integer"
        },
        {
         "name": "NUM_COMORBIDITIES",
         "rawType": "int64",
         "type": "integer"
        },
        {
         "name": "LOG_HOSPITALIZATION_DAYS",
         "rawType": "float64",
         "type": "float"
        },
        {
         "name": "LOG_DAYS_IN_ICU",
         "rawType": "float64",
         "type": "float"
        },
        {
         "name": "LOG_NUM_DRUGS",
         "rawType": "float64",
         "type": "float"
        },
        {
         "name": "ETHNICITY_HISPANIC",
         "rawType": "bool",
         "type": "boolean"
        },
        {
         "name": "NUM_PROCEDURES",
         "rawType": "float64",
         "type": "float"
        },
        {
         "name": "HAS_CONGESTIVE_HF",
         "rawType": "bool",
         "type": "boolean"
        },
        {
         "name": "INSURANCE_MEDICAID",
         "rawType": "bool",
         "type": "boolean"
        },
        {
         "name": "HADM_ID",
         "rawType": "int64",
         "type": "integer"
        },
        {
         "name": "HAS_DIABETES",
         "rawType": "bool",
         "type": "boolean"
        },
        {
         "name": "HAS_COPD",
         "rawType": "bool",
         "type": "boolean"
        }
       ],
       "ref": "b62eedd3-1eea-4a27-b9d3-ab81b015e0f0",
       "rows": [
        [
         "14",
         "107",
         "False",
         "False",
         "0.0076324809122175",
         "False",
         "4",
         "True",
         "0",
         "2",
         "-2.19544601424473",
         "-0.9009482473391546",
         "-0.8159372302570764",
         "True",
         "0.2202289452618993",
         "False",
         "False",
         "191941",
         "False",
         "False"
        ],
        [
         "15",
         "107",
         "False",
         "False",
         "0.3747482893019231",
         "False",
         "6",
         "False",
         "0",
         "4",
         "-0.6185454451713915",
         "-0.8594142418726851",
         "-0.1836564548094053",
         "True",
         "-0.8850599269006485",
         "True",
         "False",
         "182383",
         "False",
         "False"
        ]
       ],
       "shape": {
        "columns": 19,
        "rows": 2
       }
      },
      "text/html": [
       "<div>\n",
       "<style scoped>\n",
       "    .dataframe tbody tr th:only-of-type {\n",
       "        vertical-align: middle;\n",
       "    }\n",
       "\n",
       "    .dataframe tbody tr th {\n",
       "        vertical-align: top;\n",
       "    }\n",
       "\n",
       "    .dataframe thead th {\n",
       "        text-align: right;\n",
       "    }\n",
       "</style>\n",
       "<table border=\"1\" class=\"dataframe\">\n",
       "  <thead>\n",
       "    <tr style=\"text-align: right;\">\n",
       "      <th></th>\n",
       "      <th>SUBJECT_ID</th>\n",
       "      <th>ADMISSION_TYPE_ELECTIVE</th>\n",
       "      <th>ETHNICITY_WHITE</th>\n",
       "      <th>AGE</th>\n",
       "      <th>ETHNICITY_BLACK</th>\n",
       "      <th>CHARLSON_INDEX</th>\n",
       "      <th>INSURANCE_PRIVATE</th>\n",
       "      <th>READMISSION_30_DAYS</th>\n",
       "      <th>NUM_COMORBIDITIES</th>\n",
       "      <th>LOG_HOSPITALIZATION_DAYS</th>\n",
       "      <th>LOG_DAYS_IN_ICU</th>\n",
       "      <th>LOG_NUM_DRUGS</th>\n",
       "      <th>ETHNICITY_HISPANIC</th>\n",
       "      <th>NUM_PROCEDURES</th>\n",
       "      <th>HAS_CONGESTIVE_HF</th>\n",
       "      <th>INSURANCE_MEDICAID</th>\n",
       "      <th>HADM_ID</th>\n",
       "      <th>HAS_DIABETES</th>\n",
       "      <th>HAS_COPD</th>\n",
       "    </tr>\n",
       "  </thead>\n",
       "  <tbody>\n",
       "    <tr>\n",
       "      <th>14</th>\n",
       "      <td>107</td>\n",
       "      <td>False</td>\n",
       "      <td>False</td>\n",
       "      <td>0.007632</td>\n",
       "      <td>False</td>\n",
       "      <td>4</td>\n",
       "      <td>True</td>\n",
       "      <td>0</td>\n",
       "      <td>2</td>\n",
       "      <td>-2.195446</td>\n",
       "      <td>-0.900948</td>\n",
       "      <td>-0.815937</td>\n",
       "      <td>True</td>\n",
       "      <td>0.220229</td>\n",
       "      <td>False</td>\n",
       "      <td>False</td>\n",
       "      <td>191941</td>\n",
       "      <td>False</td>\n",
       "      <td>False</td>\n",
       "    </tr>\n",
       "    <tr>\n",
       "      <th>15</th>\n",
       "      <td>107</td>\n",
       "      <td>False</td>\n",
       "      <td>False</td>\n",
       "      <td>0.374748</td>\n",
       "      <td>False</td>\n",
       "      <td>6</td>\n",
       "      <td>False</td>\n",
       "      <td>0</td>\n",
       "      <td>4</td>\n",
       "      <td>-0.618545</td>\n",
       "      <td>-0.859414</td>\n",
       "      <td>-0.183656</td>\n",
       "      <td>True</td>\n",
       "      <td>-0.885060</td>\n",
       "      <td>True</td>\n",
       "      <td>False</td>\n",
       "      <td>182383</td>\n",
       "      <td>False</td>\n",
       "      <td>False</td>\n",
       "    </tr>\n",
       "  </tbody>\n",
       "</table>\n",
       "</div>"
      ],
      "text/plain": [
       "    SUBJECT_ID  ADMISSION_TYPE_ELECTIVE  ETHNICITY_WHITE       AGE  \\\n",
       "14         107                    False            False  0.007632   \n",
       "15         107                    False            False  0.374748   \n",
       "\n",
       "    ETHNICITY_BLACK  CHARLSON_INDEX  INSURANCE_PRIVATE  READMISSION_30_DAYS  \\\n",
       "14            False               4               True                    0   \n",
       "15            False               6              False                    0   \n",
       "\n",
       "    NUM_COMORBIDITIES  LOG_HOSPITALIZATION_DAYS  LOG_DAYS_IN_ICU  \\\n",
       "14                  2                 -2.195446        -0.900948   \n",
       "15                  4                 -0.618545        -0.859414   \n",
       "\n",
       "    LOG_NUM_DRUGS  ETHNICITY_HISPANIC  NUM_PROCEDURES  HAS_CONGESTIVE_HF  \\\n",
       "14      -0.815937                True        0.220229              False   \n",
       "15      -0.183656                True       -0.885060               True   \n",
       "\n",
       "    INSURANCE_MEDICAID  HADM_ID  HAS_DIABETES  HAS_COPD  \n",
       "14               False   191941         False     False  \n",
       "15               False   182383         False     False  "
      ]
     },
     "execution_count": 22,
     "metadata": {},
     "output_type": "execute_result"
    }
   ],
   "source": [
    "cols = set([\"SUBJECT_ID\", \"HADM_ID\"] + long_feat_cols + current_feat_cols + [\"READMISSION_30_DAYS\"])\n",
    "df[df['SUBJECT_ID'] == 107][list(cols)]"
   ]
  },
  {
   "cell_type": "code",
   "execution_count": 16,
   "id": "2164fa2a",
   "metadata": {},
   "outputs": [
    {
     "data": {
      "text/plain": [
       "(tensor([-0.6185, -0.8594,  6.0000, -0.8851, -0.1837,  0.3747,  0.0000,  0.0000,\n",
       "          0.0000,  1.0000,  0.0000,  0.0000]),\n",
       " tensor([[-2.1954, -0.9009,  2.0000, -0.8159,  0.2202,  0.0000,  0.0000,  0.0000],\n",
       "         [ 0.0000,  0.0000,  0.0000,  0.0000,  0.0000,  0.0000,  0.0000,  0.0000],\n",
       "         [ 0.0000,  0.0000,  0.0000,  0.0000,  0.0000,  0.0000,  0.0000,  0.0000],\n",
       "         [ 0.0000,  0.0000,  0.0000,  0.0000,  0.0000,  0.0000,  0.0000,  0.0000],\n",
       "         [ 0.0000,  0.0000,  0.0000,  0.0000,  0.0000,  0.0000,  0.0000,  0.0000]]),\n",
       " tensor([ True, False, False, False, False]),\n",
       " tensor(0.))"
      ]
     },
     "execution_count": 16,
     "metadata": {},
     "output_type": "execute_result"
    }
   ],
   "source": [
    "mimic_dataset[14]"
   ]
  },
  {
   "cell_type": "code",
   "execution_count": 14,
   "id": "04a7c1ca",
   "metadata": {},
   "outputs": [
    {
     "data": {
      "text/plain": [
       "{'x_past': array([[-2.195446  , -0.9009482 ,  2.        , -0.8159372 ,  0.22022894,\n",
       "          0.        ,  0.        ,  0.        ],\n",
       "        [ 0.        ,  0.        ,  0.        ,  0.        ,  0.        ,\n",
       "          0.        ,  0.        ,  0.        ],\n",
       "        [ 0.        ,  0.        ,  0.        ,  0.        ,  0.        ,\n",
       "          0.        ,  0.        ,  0.        ],\n",
       "        [ 0.        ,  0.        ,  0.        ,  0.        ,  0.        ,\n",
       "          0.        ,  0.        ,  0.        ],\n",
       "        [ 0.        ,  0.        ,  0.        ,  0.        ,  0.        ,\n",
       "          0.        ,  0.        ,  0.        ]], dtype=float32),\n",
       " 'x_current': array([-0.6185455 , -0.8594142 ,  6.        , -0.88505995, -0.18365645,\n",
       "         0.3747483 ,  0.        ,  0.        ,  0.        ,  1.        ,\n",
       "         0.        ,  0.        ], dtype=float32),\n",
       " 'mask_past': array([ True, False, False, False, False]),\n",
       " 'y': 0.0,\n",
       " 'subject_id': 107,\n",
       " 'seq_len': 1,\n",
       " 't_index': 2}"
      ]
     },
     "execution_count": 14,
     "metadata": {},
     "output_type": "execute_result"
    }
   ],
   "source": [
    "mimic_dataset.samples[14]"
   ]
  },
  {
   "cell_type": "code",
   "execution_count": 15,
   "id": "014126a2",
   "metadata": {},
   "outputs": [
    {
     "data": {
      "text/plain": [
       "{'x_past': array([[0., 0., 0., 0., 0., 0., 0., 0.],\n",
       "        [0., 0., 0., 0., 0., 0., 0., 0.],\n",
       "        [0., 0., 0., 0., 0., 0., 0., 0.],\n",
       "        [0., 0., 0., 0., 0., 0., 0., 0.],\n",
       "        [0., 0., 0., 0., 0., 0., 0., 0.]], dtype=float32),\n",
       " 'x_current': array([-2.195446  , -0.9009482 ,  4.        ,  0.22022894, -0.8159372 ,\n",
       "         0.00763248,  0.        ,  0.        ,  0.        ,  1.        ,\n",
       "         0.        ,  1.        ], dtype=float32),\n",
       " 'mask_past': array([False, False, False, False, False]),\n",
       " 'y': 0.0,\n",
       " 'subject_id': 107,\n",
       " 'seq_len': 0,\n",
       " 't_index': 1}"
      ]
     },
     "execution_count": 15,
     "metadata": {},
     "output_type": "execute_result"
    }
   ],
   "source": [
    "mimic_dataset.samples[13]"
   ]
  },
  {
   "cell_type": "markdown",
   "id": "a871b9d0",
   "metadata": {},
   "source": [
    "## Inspecting Patient 188"
   ]
  },
  {
   "cell_type": "code",
   "execution_count": 23,
   "id": "a7a6e035",
   "metadata": {},
   "outputs": [
    {
     "data": {
      "application/vnd.microsoft.datawrangler.viewer.v0+json": {
       "columns": [
        {
         "name": "index",
         "rawType": "int64",
         "type": "integer"
        },
        {
         "name": "SUBJECT_ID",
         "rawType": "int64",
         "type": "integer"
        },
        {
         "name": "ADMISSION_TYPE_ELECTIVE",
         "rawType": "bool",
         "type": "boolean"
        },
        {
         "name": "ETHNICITY_WHITE",
         "rawType": "bool",
         "type": "boolean"
        },
        {
         "name": "AGE",
         "rawType": "float64",
         "type": "float"
        },
        {
         "name": "ETHNICITY_BLACK",
         "rawType": "bool",
         "type": "boolean"
        },
        {
         "name": "CHARLSON_INDEX",
         "rawType": "int64",
         "type": "integer"
        },
        {
         "name": "INSURANCE_PRIVATE",
         "rawType": "bool",
         "type": "boolean"
        },
        {
         "name": "READMISSION_30_DAYS",
         "rawType": "int64",
         "type": "integer"
        },
        {
         "name": "NUM_COMORBIDITIES",
         "rawType": "int64",
         "type": "integer"
        },
        {
         "name": "LOG_HOSPITALIZATION_DAYS",
         "rawType": "float64",
         "type": "float"
        },
        {
         "name": "LOG_DAYS_IN_ICU",
         "rawType": "float64",
         "type": "float"
        },
        {
         "name": "LOG_NUM_DRUGS",
         "rawType": "float64",
         "type": "float"
        },
        {
         "name": "ETHNICITY_HISPANIC",
         "rawType": "bool",
         "type": "boolean"
        },
        {
         "name": "NUM_PROCEDURES",
         "rawType": "float64",
         "type": "float"
        },
        {
         "name": "HAS_CONGESTIVE_HF",
         "rawType": "bool",
         "type": "boolean"
        },
        {
         "name": "INSURANCE_MEDICAID",
         "rawType": "bool",
         "type": "boolean"
        },
        {
         "name": "HADM_ID",
         "rawType": "int64",
         "type": "integer"
        },
        {
         "name": "HAS_DIABETES",
         "rawType": "bool",
         "type": "boolean"
        },
        {
         "name": "HAS_COPD",
         "rawType": "bool",
         "type": "boolean"
        }
       ],
       "ref": "734beb64-7518-42fe-b04f-83a6213f37e7",
       "rows": [
        [
         "36",
         "188",
         "False",
         "True",
         "-0.6654131678022425",
         "False",
         "6",
         "True",
         "0",
         "4",
         "0.0084034806838925",
         "-0.3809105183537396",
         "0.361683486014869",
         "False",
         "1.0491955993838102",
         "False",
         "False",
         "160697",
         "False",
         "False"
        ],
        [
         "37",
         "188",
         "False",
         "True",
         "-0.6654131678022425",
         "False",
         "3",
         "True",
         "0",
         "3",
         "-1.1139671417302883",
         "-0.788978465059639",
         "0.1862040887543755",
         "False",
         "-0.6087377088600116",
         "False",
         "False",
         "191517",
         "True",
         "False"
        ],
        [
         "38",
         "188",
         "False",
         "True",
         "-0.6654131678022425",
         "False",
         "2",
         "True",
         "0",
         "2",
         "-1.1406550766734538",
         "-0.7964250855735115",
         "-0.1836564548094053",
         "False",
         "-0.0560932727787376",
         "False",
         "False",
         "150463",
         "False",
         "False"
        ],
        [
         "39",
         "188",
         "False",
         "True",
         "-0.4818552636073897",
         "False",
         "5",
         "True",
         "0",
         "4",
         "-1.300539611654832",
         "-0.95611015069113",
         "-0.1836564548094053",
         "False",
         "-1.1613821449412856",
         "False",
         "False",
         "192557",
         "True",
         "False"
        ],
        [
         "40",
         "188",
         "False",
         "True",
         "-0.4818552636073897",
         "False",
         "7",
         "True",
         "0",
         "5",
         "0.0696445329164356",
         "0.0948404111566457",
         "0.384207799283888",
         "False",
         "-0.3324154908193746",
         "False",
         "False",
         "123860",
         "True",
         "False"
        ],
        [
         "41",
         "188",
         "False",
         "True",
         "-0.4206692955424388",
         "False",
         "5",
         "True",
         "0",
         "4",
         "0.1760494837009781",
         "0.4110792463053054",
         "0.5087904097344657",
         "False",
         "1.601840035465084",
         "False",
         "False",
         "164735",
         "True",
         "False"
        ]
       ],
       "shape": {
        "columns": 19,
        "rows": 6
       }
      },
      "text/html": [
       "<div>\n",
       "<style scoped>\n",
       "    .dataframe tbody tr th:only-of-type {\n",
       "        vertical-align: middle;\n",
       "    }\n",
       "\n",
       "    .dataframe tbody tr th {\n",
       "        vertical-align: top;\n",
       "    }\n",
       "\n",
       "    .dataframe thead th {\n",
       "        text-align: right;\n",
       "    }\n",
       "</style>\n",
       "<table border=\"1\" class=\"dataframe\">\n",
       "  <thead>\n",
       "    <tr style=\"text-align: right;\">\n",
       "      <th></th>\n",
       "      <th>SUBJECT_ID</th>\n",
       "      <th>ADMISSION_TYPE_ELECTIVE</th>\n",
       "      <th>ETHNICITY_WHITE</th>\n",
       "      <th>AGE</th>\n",
       "      <th>ETHNICITY_BLACK</th>\n",
       "      <th>CHARLSON_INDEX</th>\n",
       "      <th>INSURANCE_PRIVATE</th>\n",
       "      <th>READMISSION_30_DAYS</th>\n",
       "      <th>NUM_COMORBIDITIES</th>\n",
       "      <th>LOG_HOSPITALIZATION_DAYS</th>\n",
       "      <th>LOG_DAYS_IN_ICU</th>\n",
       "      <th>LOG_NUM_DRUGS</th>\n",
       "      <th>ETHNICITY_HISPANIC</th>\n",
       "      <th>NUM_PROCEDURES</th>\n",
       "      <th>HAS_CONGESTIVE_HF</th>\n",
       "      <th>INSURANCE_MEDICAID</th>\n",
       "      <th>HADM_ID</th>\n",
       "      <th>HAS_DIABETES</th>\n",
       "      <th>HAS_COPD</th>\n",
       "    </tr>\n",
       "  </thead>\n",
       "  <tbody>\n",
       "    <tr>\n",
       "      <th>36</th>\n",
       "      <td>188</td>\n",
       "      <td>False</td>\n",
       "      <td>True</td>\n",
       "      <td>-0.665413</td>\n",
       "      <td>False</td>\n",
       "      <td>6</td>\n",
       "      <td>True</td>\n",
       "      <td>0</td>\n",
       "      <td>4</td>\n",
       "      <td>0.008403</td>\n",
       "      <td>-0.380911</td>\n",
       "      <td>0.361683</td>\n",
       "      <td>False</td>\n",
       "      <td>1.049196</td>\n",
       "      <td>False</td>\n",
       "      <td>False</td>\n",
       "      <td>160697</td>\n",
       "      <td>False</td>\n",
       "      <td>False</td>\n",
       "    </tr>\n",
       "    <tr>\n",
       "      <th>37</th>\n",
       "      <td>188</td>\n",
       "      <td>False</td>\n",
       "      <td>True</td>\n",
       "      <td>-0.665413</td>\n",
       "      <td>False</td>\n",
       "      <td>3</td>\n",
       "      <td>True</td>\n",
       "      <td>0</td>\n",
       "      <td>3</td>\n",
       "      <td>-1.113967</td>\n",
       "      <td>-0.788978</td>\n",
       "      <td>0.186204</td>\n",
       "      <td>False</td>\n",
       "      <td>-0.608738</td>\n",
       "      <td>False</td>\n",
       "      <td>False</td>\n",
       "      <td>191517</td>\n",
       "      <td>True</td>\n",
       "      <td>False</td>\n",
       "    </tr>\n",
       "    <tr>\n",
       "      <th>38</th>\n",
       "      <td>188</td>\n",
       "      <td>False</td>\n",
       "      <td>True</td>\n",
       "      <td>-0.665413</td>\n",
       "      <td>False</td>\n",
       "      <td>2</td>\n",
       "      <td>True</td>\n",
       "      <td>0</td>\n",
       "      <td>2</td>\n",
       "      <td>-1.140655</td>\n",
       "      <td>-0.796425</td>\n",
       "      <td>-0.183656</td>\n",
       "      <td>False</td>\n",
       "      <td>-0.056093</td>\n",
       "      <td>False</td>\n",
       "      <td>False</td>\n",
       "      <td>150463</td>\n",
       "      <td>False</td>\n",
       "      <td>False</td>\n",
       "    </tr>\n",
       "    <tr>\n",
       "      <th>39</th>\n",
       "      <td>188</td>\n",
       "      <td>False</td>\n",
       "      <td>True</td>\n",
       "      <td>-0.481855</td>\n",
       "      <td>False</td>\n",
       "      <td>5</td>\n",
       "      <td>True</td>\n",
       "      <td>0</td>\n",
       "      <td>4</td>\n",
       "      <td>-1.300540</td>\n",
       "      <td>-0.956110</td>\n",
       "      <td>-0.183656</td>\n",
       "      <td>False</td>\n",
       "      <td>-1.161382</td>\n",
       "      <td>False</td>\n",
       "      <td>False</td>\n",
       "      <td>192557</td>\n",
       "      <td>True</td>\n",
       "      <td>False</td>\n",
       "    </tr>\n",
       "    <tr>\n",
       "      <th>40</th>\n",
       "      <td>188</td>\n",
       "      <td>False</td>\n",
       "      <td>True</td>\n",
       "      <td>-0.481855</td>\n",
       "      <td>False</td>\n",
       "      <td>7</td>\n",
       "      <td>True</td>\n",
       "      <td>0</td>\n",
       "      <td>5</td>\n",
       "      <td>0.069645</td>\n",
       "      <td>0.094840</td>\n",
       "      <td>0.384208</td>\n",
       "      <td>False</td>\n",
       "      <td>-0.332415</td>\n",
       "      <td>False</td>\n",
       "      <td>False</td>\n",
       "      <td>123860</td>\n",
       "      <td>True</td>\n",
       "      <td>False</td>\n",
       "    </tr>\n",
       "    <tr>\n",
       "      <th>41</th>\n",
       "      <td>188</td>\n",
       "      <td>False</td>\n",
       "      <td>True</td>\n",
       "      <td>-0.420669</td>\n",
       "      <td>False</td>\n",
       "      <td>5</td>\n",
       "      <td>True</td>\n",
       "      <td>0</td>\n",
       "      <td>4</td>\n",
       "      <td>0.176049</td>\n",
       "      <td>0.411079</td>\n",
       "      <td>0.508790</td>\n",
       "      <td>False</td>\n",
       "      <td>1.601840</td>\n",
       "      <td>False</td>\n",
       "      <td>False</td>\n",
       "      <td>164735</td>\n",
       "      <td>True</td>\n",
       "      <td>False</td>\n",
       "    </tr>\n",
       "  </tbody>\n",
       "</table>\n",
       "</div>"
      ],
      "text/plain": [
       "    SUBJECT_ID  ADMISSION_TYPE_ELECTIVE  ETHNICITY_WHITE       AGE  \\\n",
       "36         188                    False             True -0.665413   \n",
       "37         188                    False             True -0.665413   \n",
       "38         188                    False             True -0.665413   \n",
       "39         188                    False             True -0.481855   \n",
       "40         188                    False             True -0.481855   \n",
       "41         188                    False             True -0.420669   \n",
       "\n",
       "    ETHNICITY_BLACK  CHARLSON_INDEX  INSURANCE_PRIVATE  READMISSION_30_DAYS  \\\n",
       "36            False               6               True                    0   \n",
       "37            False               3               True                    0   \n",
       "38            False               2               True                    0   \n",
       "39            False               5               True                    0   \n",
       "40            False               7               True                    0   \n",
       "41            False               5               True                    0   \n",
       "\n",
       "    NUM_COMORBIDITIES  LOG_HOSPITALIZATION_DAYS  LOG_DAYS_IN_ICU  \\\n",
       "36                  4                  0.008403        -0.380911   \n",
       "37                  3                 -1.113967        -0.788978   \n",
       "38                  2                 -1.140655        -0.796425   \n",
       "39                  4                 -1.300540        -0.956110   \n",
       "40                  5                  0.069645         0.094840   \n",
       "41                  4                  0.176049         0.411079   \n",
       "\n",
       "    LOG_NUM_DRUGS  ETHNICITY_HISPANIC  NUM_PROCEDURES  HAS_CONGESTIVE_HF  \\\n",
       "36       0.361683               False        1.049196              False   \n",
       "37       0.186204               False       -0.608738              False   \n",
       "38      -0.183656               False       -0.056093              False   \n",
       "39      -0.183656               False       -1.161382              False   \n",
       "40       0.384208               False       -0.332415              False   \n",
       "41       0.508790               False        1.601840              False   \n",
       "\n",
       "    INSURANCE_MEDICAID  HADM_ID  HAS_DIABETES  HAS_COPD  \n",
       "36               False   160697         False     False  \n",
       "37               False   191517          True     False  \n",
       "38               False   150463         False     False  \n",
       "39               False   192557          True     False  \n",
       "40               False   123860          True     False  \n",
       "41               False   164735          True     False  "
      ]
     },
     "execution_count": 23,
     "metadata": {},
     "output_type": "execute_result"
    }
   ],
   "source": [
    "cols = set([\"SUBJECT_ID\", \"HADM_ID\"] + long_feat_cols + current_feat_cols + [\"READMISSION_30_DAYS\"])\n",
    "df[df['SUBJECT_ID'] == 188][list(cols)]"
   ]
  },
  {
   "cell_type": "code",
   "execution_count": 26,
   "id": "eb01c32e",
   "metadata": {},
   "outputs": [
    {
     "data": {
      "text/plain": [
       "{'x_past': array([[ 0.06964453,  0.09484041,  5.        ,  0.3842078 , -0.3324155 ,\n",
       "          1.        ,  0.        ,  0.        ],\n",
       "        [-1.3005396 , -0.9561102 ,  4.        , -0.18365645, -1.1613822 ,\n",
       "          1.        ,  0.        ,  0.        ],\n",
       "        [-1.140655  , -0.7964251 ,  2.        , -0.18365645, -0.05609327,\n",
       "          0.        ,  0.        ,  0.        ],\n",
       "        [-1.1139672 , -0.78897846,  3.        ,  0.18620409, -0.6087377 ,\n",
       "          1.        ,  0.        ,  0.        ],\n",
       "        [ 0.00840348, -0.38091052,  4.        ,  0.3616835 ,  1.0491956 ,\n",
       "          0.        ,  0.        ,  0.        ]], dtype=float32),\n",
       " 'x_current': array([ 0.17604949,  0.41107926,  5.        ,  1.60184   ,  0.50879043,\n",
       "        -0.4206693 ,  0.        ,  1.        ,  0.        ,  0.        ,\n",
       "         0.        ,  1.        ], dtype=float32),\n",
       " 'mask_past': array([ True,  True,  True,  True,  True]),\n",
       " 'y': 0.0,\n",
       " 'subject_id': 188,\n",
       " 'seq_len': 5,\n",
       " 't_index': 6}"
      ]
     },
     "execution_count": 26,
     "metadata": {},
     "output_type": "execute_result"
    }
   ],
   "source": [
    "mimic_dataset.samples[39]"
   ]
  },
  {
   "cell_type": "markdown",
   "id": "59c3ba9e",
   "metadata": {},
   "source": [
    "## Checking Reverse Cronological Order False"
   ]
  },
  {
   "cell_type": "code",
   "execution_count": 27,
   "id": "0f66d629",
   "metadata": {},
   "outputs": [],
   "source": [
    "from recurrent_health_events_prediction.datasets.HospReadmDataset import HospReadmDataset\n",
    "\n",
    "long_feat_cols = [\n",
    "    \"LOG_HOSPITALIZATION_DAYS\",\n",
    "    \"LOG_DAYS_IN_ICU\",\n",
    "    \"CHARLSON_INDEX\", \"NUM_PROCEDURES\", \"LOG_NUM_DRUGS\",\n",
    "    \"HAS_DIABETES\",\"HAS_COPD\",\"HAS_CONGESTIVE_HF\"]\n",
    "\n",
    "current_feat_cols = [\n",
    "    \"LOG_HOSPITALIZATION_DAYS\",\n",
    "    \"LOG_DAYS_IN_ICU\",\n",
    "    \"CHARLSON_INDEX\",\n",
    "    \"NUM_PROCEDURES\",\n",
    "    \"LOG_NUM_DRUGS\",\n",
    "    \"AGE\",\n",
    "    \"ADMISSION_TYPE_ELECTIVE\",\n",
    "    \"ETHNICITY_WHITE\",\n",
    "    \"ETHNICITY_BLACK\",\n",
    "    \"ETHNICITY_HISPANIC\",\n",
    "    \"INSURANCE_MEDICAID\",\n",
    "    \"INSURANCE_PRIVATE\",\n",
    "]\n",
    "\n",
    "mimic_dataset = HospReadmDataset(\n",
    "    csv_path=training_data_path,\n",
    "    longitudinal_feat_cols=long_feat_cols,\n",
    "    current_feat_cols=current_feat_cols,\n",
    "    subject_id_col=\"SUBJECT_ID\",\n",
    "    max_seq_len=5,\n",
    "    reverse_chronological_order=False\n",
    ")"
   ]
  },
  {
   "cell_type": "code",
   "execution_count": 28,
   "id": "e440fda4",
   "metadata": {},
   "outputs": [
    {
     "data": {
      "text/plain": [
       "{'x_past': array([[ 0.00840348, -0.38091052,  6.        ,  1.0491956 ,  0.3616835 ,\n",
       "          0.        ,  0.        ,  0.        ],\n",
       "        [-1.1139672 , -0.78897846,  3.        , -0.6087377 ,  0.18620409,\n",
       "          1.        ,  0.        ,  0.        ],\n",
       "        [-1.140655  , -0.7964251 ,  2.        , -0.05609327, -0.18365645,\n",
       "          0.        ,  0.        ,  0.        ],\n",
       "        [-1.3005396 , -0.9561102 ,  5.        , -1.1613822 , -0.18365645,\n",
       "          1.        ,  0.        ,  0.        ],\n",
       "        [ 0.06964453,  0.09484041,  7.        , -0.3324155 ,  0.3842078 ,\n",
       "          1.        ,  0.        ,  0.        ]], dtype=float32),\n",
       " 'x_current': array([ 0.17604949,  0.41107926,  5.        ,  1.60184   ,  0.50879043,\n",
       "        -0.4206693 ,  0.        ,  1.        ,  0.        ,  0.        ,\n",
       "         0.        ,  1.        ], dtype=float32),\n",
       " 'mask_past': array([ True,  True,  True,  True,  True]),\n",
       " 'y': 0.0,\n",
       " 'subject_id': 188,\n",
       " 'seq_len': 5,\n",
       " 't_index': 6}"
      ]
     },
     "execution_count": 28,
     "metadata": {},
     "output_type": "execute_result"
    }
   ],
   "source": [
    "mimic_dataset.samples[39]"
   ]
  }
 ],
 "metadata": {
  "kernelspec": {
   "display_name": "recurrent-health-events-prediction-py3.10",
   "language": "python",
   "name": "python3"
  },
  "language_info": {
   "codemirror_mode": {
    "name": "ipython",
    "version": 3
   },
   "file_extension": ".py",
   "mimetype": "text/x-python",
   "name": "python",
   "nbconvert_exporter": "python",
   "pygments_lexer": "ipython3",
   "version": "3.10.14"
  }
 },
 "nbformat": 4,
 "nbformat_minor": 5
}
