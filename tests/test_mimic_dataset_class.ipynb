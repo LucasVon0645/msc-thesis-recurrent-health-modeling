{
 "cells": [
  {
   "cell_type": "markdown",
   "id": "52ef7f13",
   "metadata": {},
   "source": [
    "## Test HospReadmDataset"
   ]
  },
  {
   "cell_type": "code",
   "execution_count": 1,
   "id": "991e74f8",
   "metadata": {},
   "outputs": [
    {
     "name": "stdout",
     "output_type": "stream",
     "text": [
      "/workspaces/msc-thesis-recurrent-health-modeling/data/mimic-iii-preprocessed/copd_hf_renal_diabetes/mimic_cleaned_v2/all_events.csv\n"
     ]
    }
   ],
   "source": [
    "from importlib import resources as impresources\n",
    "from recurrent_health_events_prediction import configs\n",
    "import yaml\n",
    "\n",
    "with open((impresources.files(configs) / 'data_config.yaml')) as f:\n",
    "    data_config = yaml.safe_load(f)\n",
    "    \n",
    "training_data_path = data_config['training_data']['mimic']['training_data_path']\n",
    "print(training_data_path)"
   ]
  },
  {
   "cell_type": "code",
   "execution_count": 2,
   "id": "dc31d1bb",
   "metadata": {},
   "outputs": [],
   "source": [
    "from recurrent_health_events_prediction.datasets.HospReadmDataset import HospReadmDataset\n",
    "\n",
    "feature_cols = [\n",
    "    \"LOG_HOSPITALIZATION_DAYS\",\n",
    "    \"LOG_DAYS_IN_ICU\",\n",
    "    \"NUM_COMORBIDITIES\", \"NUM_DRUGS\", \"NUM_PROCEDURES\",\n",
    "    \"HAS_DIABETES\",\"HAS_COPD\",\"HAS_CONGESTIVE_HF\"]\n",
    "\n",
    "mimic_dataset = HospReadmDataset(\n",
    "    csv_path=training_data_path,\n",
    "    feature_cols=feature_cols,\n",
    "    subject_id_col=\"SUBJECT_ID\",\n",
    "    max_seq_len=5,\n",
    ")"
   ]
  },
  {
   "cell_type": "code",
   "execution_count": 3,
   "id": "1e2948fb",
   "metadata": {},
   "outputs": [
    {
     "name": "stdout",
     "output_type": "stream",
     "text": [
      "Number of samples in the dataset: 16775\n"
     ]
    }
   ],
   "source": [
    "print(f\"Number of samples in the dataset: {len(mimic_dataset)}\")"
   ]
  },
  {
   "cell_type": "code",
   "execution_count": 10,
   "id": "2164fa2a",
   "metadata": {},
   "outputs": [
    {
     "data": {
      "text/plain": [
       "(tensor([[ 2.5015,  2.4485,  3.0000, 57.0000,  6.0000,  0.0000,  1.0000,  0.0000],\n",
       "         [ 0.0000,  0.0000,  0.0000,  0.0000,  0.0000,  0.0000,  0.0000,  0.0000],\n",
       "         [ 0.0000,  0.0000,  0.0000,  0.0000,  0.0000,  0.0000,  0.0000,  0.0000],\n",
       "         [ 0.0000,  0.0000,  0.0000,  0.0000,  0.0000,  0.0000,  0.0000,  0.0000],\n",
       "         [ 0.0000,  0.0000,  0.0000,  0.0000,  0.0000,  0.0000,  0.0000,  0.0000]]),\n",
       " tensor([ True, False, False, False, False]),\n",
       " tensor(0.))"
      ]
     },
     "execution_count": 10,
     "metadata": {},
     "output_type": "execute_result"
    }
   ],
   "source": [
    "sample_0 = mimic_dataset[21]\n",
    "sample_0"
   ]
  },
  {
   "cell_type": "code",
   "execution_count": 11,
   "id": "9d44e39f",
   "metadata": {},
   "outputs": [
    {
     "data": {
      "text/plain": [
       "{'x': array([[ 1.7557005 ,  0.7326405 ,  4.        , 21.        ,  1.        ,\n",
       "          0.        ,  0.        ,  1.        ],\n",
       "        [ 0.6681854 ,  0.70240396,  2.        , 10.        ,  5.        ,\n",
       "          0.        ,  0.        ,  0.        ],\n",
       "        [ 0.        ,  0.        ,  0.        ,  0.        ,  0.        ,\n",
       "          0.        ,  0.        ,  0.        ],\n",
       "        [ 0.        ,  0.        ,  0.        ,  0.        ,  0.        ,\n",
       "          0.        ,  0.        ,  0.        ],\n",
       "        [ 0.        ,  0.        ,  0.        ,  0.        ,  0.        ,\n",
       "          0.        ,  0.        ,  0.        ]], dtype=float32),\n",
       " 'mask': array([ True,  True, False, False, False]),\n",
       " 'y': 0.0,\n",
       " 'subject_id': 107,\n",
       " 'seq_len': 2,\n",
       " 't_index': 2}"
      ]
     },
     "execution_count": 11,
     "metadata": {},
     "output_type": "execute_result"
    }
   ],
   "source": [
    "mimic_dataset.samples[20]"
   ]
  },
  {
   "cell_type": "code",
   "execution_count": 12,
   "id": "014126a2",
   "metadata": {},
   "outputs": [
    {
     "data": {
      "text/plain": [
       "{'x': array([[ 0.6681854 ,  0.70240396,  2.        , 10.        ,  5.        ,\n",
       "          0.        ,  0.        ,  0.        ],\n",
       "        [ 0.        ,  0.        ,  0.        ,  0.        ,  0.        ,\n",
       "          0.        ,  0.        ,  0.        ],\n",
       "        [ 0.        ,  0.        ,  0.        ,  0.        ,  0.        ,\n",
       "          0.        ,  0.        ,  0.        ],\n",
       "        [ 0.        ,  0.        ,  0.        ,  0.        ,  0.        ,\n",
       "          0.        ,  0.        ,  0.        ],\n",
       "        [ 0.        ,  0.        ,  0.        ,  0.        ,  0.        ,\n",
       "          0.        ,  0.        ,  0.        ]], dtype=float32),\n",
       " 'mask': array([ True, False, False, False, False]),\n",
       " 'y': 0.0,\n",
       " 'subject_id': 107,\n",
       " 'seq_len': 1,\n",
       " 't_index': 1}"
      ]
     },
     "execution_count": 12,
     "metadata": {},
     "output_type": "execute_result"
    }
   ],
   "source": [
    "mimic_dataset.samples[19]"
   ]
  }
 ],
 "metadata": {
  "kernelspec": {
   "display_name": "recurrent-health-events-prediction-py3.10",
   "language": "python",
   "name": "python3"
  },
  "language_info": {
   "codemirror_mode": {
    "name": "ipython",
    "version": 3
   },
   "file_extension": ".py",
   "mimetype": "text/x-python",
   "name": "python",
   "nbconvert_exporter": "python",
   "pygments_lexer": "ipython3",
   "version": "3.10.14"
  }
 },
 "nbformat": 4,
 "nbformat_minor": 5
}
