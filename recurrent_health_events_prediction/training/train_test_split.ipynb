{
 "cells": [
  {
   "cell_type": "markdown",
   "metadata": {},
   "source": [
    "# Train-Test Split (Fixed IDs)"
   ]
  },
  {
   "cell_type": "code",
   "execution_count": 1,
   "metadata": {},
   "outputs": [],
   "source": [
    "from importlib import resources as impresources\n",
    "from recurrent_health_events_prediction import configs\n",
    "import yaml\n",
    "import os\n",
    "import pandas as pd\n",
    "\n",
    "from recurrent_health_events_prediction.training.utils import make_train_test_split_file, apply_train_test_split_file\n",
    "\n",
    "with open((impresources.files(configs) / 'data_config.yaml')) as f:\n",
    "    data_config = yaml.safe_load(f)"
   ]
  },
  {
   "cell_type": "code",
   "execution_count": 8,
   "metadata": {},
   "outputs": [],
   "source": [
    "DATASET = \"mimic\"\n",
    "DATASET_SUBDIR = \"multiple_hosp_patients\"\n",
    "INPUT_FILENAME = \"last_events.csv\"\n",
    "OUTPUT_FILENAME = \"train_test_split.csv\"\n",
    "TARGET_COL = \"READMISSION_30_DAYS\"\n",
    "ID_COL = \"HADM_ID\"\n",
    "RANDOM_STATE = 42\n",
    "TEST_SIZE = 0.2"
   ]
  },
  {
   "cell_type": "code",
   "execution_count": 3,
   "metadata": {},
   "outputs": [
    {
     "name": "stdout",
     "output_type": "stream",
     "text": [
      "/workspaces/master-thesis-recurrent-health-events-prediction/data/mimic-iii-preprocessed/copd_heart_failure\n"
     ]
    }
   ],
   "source": [
    "base_training_data_path = data_config['training_data'][DATASET]['preprocessed_path']\n",
    "print(f\"{base_training_data_path}\")"
   ]
  },
  {
   "cell_type": "code",
   "execution_count": 4,
   "metadata": {},
   "outputs": [
    {
     "name": "stdout",
     "output_type": "stream",
     "text": [
      "Directory to import data from:  /workspaces/master-thesis-recurrent-health-events-prediction/data/mimic-iii-preprocessed/copd_heart_failure/multiple_hosp_patients\n"
     ]
    }
   ],
   "source": [
    "training_data_path = os.path.join(base_training_data_path, DATASET_SUBDIR)\n",
    "if not os.path.exists(training_data_path):\n",
    "    print(\"Directory does not exist\")\n",
    "else:\n",
    "    print(\"Directory to import data from: \", training_data_path)"
   ]
  },
  {
   "cell_type": "code",
   "execution_count": 5,
   "metadata": {},
   "outputs": [
    {
     "name": "stdout",
     "output_type": "stream",
     "text": [
      "Reading data from:  /workspaces/master-thesis-recurrent-health-events-prediction/data/mimic-iii-preprocessed/copd_heart_failure/multiple_hosp_patients/last_events.csv\n"
     ]
    }
   ],
   "source": [
    "filepath = os.path.join(training_data_path, INPUT_FILENAME)\n",
    "print(\"Reading data from: \", filepath)\n",
    "df = pd.read_csv(filepath)"
   ]
  },
  {
   "cell_type": "code",
   "execution_count": 6,
   "metadata": {},
   "outputs": [
    {
     "data": {
      "application/vnd.microsoft.datawrangler.viewer.v0+json": {
       "columns": [
        {
         "name": "index",
         "rawType": "int64",
         "type": "integer"
        },
        {
         "name": "SUBJECT_ID",
         "rawType": "int64",
         "type": "integer"
        },
        {
         "name": "HADM_ID",
         "rawType": "int64",
         "type": "integer"
        },
        {
         "name": "ADMITTIME",
         "rawType": "object",
         "type": "string"
        },
        {
         "name": "DISCHTIME",
         "rawType": "object",
         "type": "string"
        },
        {
         "name": "ADMISSION_TYPE",
         "rawType": "object",
         "type": "string"
        },
        {
         "name": "ETHNICITY",
         "rawType": "object",
         "type": "string"
        },
        {
         "name": "DISCHARGE_LOCATION",
         "rawType": "object",
         "type": "string"
        },
        {
         "name": "INSURANCE",
         "rawType": "object",
         "type": "string"
        },
        {
         "name": "HOSPITALIZATION_DAYS",
         "rawType": "float64",
         "type": "float"
        },
        {
         "name": "NUM_COMORBIDITIES",
         "rawType": "int64",
         "type": "integer"
        },
        {
         "name": "TYPES_COMORBIDITIES",
         "rawType": "object",
         "type": "string"
        },
        {
         "name": "HAS_DIABETES",
         "rawType": "bool",
         "type": "boolean"
        },
        {
         "name": "HAS_COPD",
         "rawType": "bool",
         "type": "boolean"
        },
        {
         "name": "HAS_CONGESTIVE_HF",
         "rawType": "bool",
         "type": "boolean"
        },
        {
         "name": "NEXT_ADMISSION_TYPE",
         "rawType": "object",
         "type": "string"
        },
        {
         "name": "NUM_PREV_HOSPITALIZATIONS",
         "rawType": "int64",
         "type": "integer"
        },
        {
         "name": "PREV_DISCHTIME",
         "rawType": "object",
         "type": "string"
        },
        {
         "name": "NEXT_ADMITTIME",
         "rawType": "object",
         "type": "string"
        },
        {
         "name": "DAYS_SINCE_LAST_HOSPITALIZATION",
         "rawType": "float64",
         "type": "float"
        },
        {
         "name": "DAYS_UNTIL_NEXT_HOSPITALIZATION",
         "rawType": "float64",
         "type": "float"
        },
        {
         "name": "LOG_DAYS_SINCE_LAST_HOSPITALIZATION",
         "rawType": "float64",
         "type": "float"
        },
        {
         "name": "LOG_DAYS_UNTIL_NEXT_HOSPITALIZATION",
         "rawType": "float64",
         "type": "float"
        },
        {
         "name": "PREV_READMISSION_30_DAYS",
         "rawType": "int64",
         "type": "integer"
        },
        {
         "name": "READMISSION_30_DAYS",
         "rawType": "int64",
         "type": "integer"
        },
        {
         "name": "READM_30_DAYS_PAST_MEAN",
         "rawType": "float64",
         "type": "float"
        },
        {
         "name": "READM_30_DAYS_PAST_SUM",
         "rawType": "float64",
         "type": "float"
        },
        {
         "name": "LOG_DAYS_UNTIL_NEXT_HOSP_PAST_MEAN",
         "rawType": "float64",
         "type": "float"
        },
        {
         "name": "LOG_DAYS_UNTIL_NEXT_HOSP_PAST_MEDIAN",
         "rawType": "float64",
         "type": "float"
        },
        {
         "name": "LOG_DAYS_UNTIL_NEXT_HOSP_PAST_STD",
         "rawType": "float64",
         "type": "float"
        },
        {
         "name": "TOTAL_HOSPITALIZATIONS",
         "rawType": "int64",
         "type": "integer"
        },
        {
         "name": "DAYS_IN_ICU",
         "rawType": "float64",
         "type": "float"
        },
        {
         "name": "NUM_DRUGS",
         "rawType": "int64",
         "type": "integer"
        },
        {
         "name": "NUM_PROCEDURES",
         "rawType": "int64",
         "type": "integer"
        },
        {
         "name": "GENDER",
         "rawType": "object",
         "type": "string"
        },
        {
         "name": "DOB",
         "rawType": "object",
         "type": "string"
        },
        {
         "name": "DOD",
         "rawType": "object",
         "type": "unknown"
        },
        {
         "name": "DOD_HOSP",
         "rawType": "object",
         "type": "unknown"
        },
        {
         "name": "AGE",
         "rawType": "int64",
         "type": "integer"
        },
        {
         "name": "CHARLSON_INDEX",
         "rawType": "int64",
         "type": "integer"
        },
        {
         "name": "FIRST_ADMITTIME",
         "rawType": "object",
         "type": "string"
        },
        {
         "name": "LAST_DISCHTIME",
         "rawType": "object",
         "type": "string"
        },
        {
         "name": "PARTICIPATION_DAYS",
         "rawType": "int64",
         "type": "integer"
        },
        {
         "name": "TOTAL_PARTICIPATION_DAYS",
         "rawType": "int64",
         "type": "integer"
        },
        {
         "name": "DEATH_TIME_AFTER_LAST_DISCHARGE",
         "rawType": "float64",
         "type": "float"
        },
        {
         "name": "READMISSION_EVENT",
         "rawType": "int64",
         "type": "integer"
        },
        {
         "name": "EVENT_DURATION",
         "rawType": "float64",
         "type": "float"
        },
        {
         "name": "IN_HOSP_DEATH_EVENT",
         "rawType": "int64",
         "type": "integer"
        },
        {
         "name": "AFTER_HOSP_DEATH_EVENT",
         "rawType": "int64",
         "type": "integer"
        },
        {
         "name": "LOG_HOSPITALIZATION_DAYS",
         "rawType": "float64",
         "type": "float"
        },
        {
         "name": "LOG_DAYS_IN_ICU",
         "rawType": "float64",
         "type": "float"
        },
        {
         "name": "LOG_NUM_PREV_HOSPITALIZATIONS",
         "rawType": "float64",
         "type": "float"
        },
        {
         "name": "LOG_NUM_DRUGS",
         "rawType": "float64",
         "type": "float"
        },
        {
         "name": "IS_LAST_EVENT",
         "rawType": "int64",
         "type": "integer"
        },
        {
         "name": "IS_HISTORICAL_EVENT",
         "rawType": "int64",
         "type": "integer"
        },
        {
         "name": "READMISSION_TIME_CAT",
         "rawType": "object",
         "type": "string"
        },
        {
         "name": "READMISSION_TIME_CAT_ENCODED",
         "rawType": "int64",
         "type": "integer"
        }
       ],
       "ref": "abffc24c-68a0-4b3e-b406-b154def60cfa",
       "rows": [
        [
         "0",
         "107",
         "182383",
         "2121-11-30 19:24:00",
         "2121-12-05 14:18:00",
         "EMERGENCY",
         "HISPANIC OR LATINO",
         "HOME HEALTH CARE",
         "Medicare",
         "4.7875000000000005",
         "4",
         "['congestive_heart_failure', 'myocardial_infarct', 'other', 'renal_disease']",
         "False",
         "False",
         "True",
         "EMERGENCY",
         "1",
         "2115-02-21 16:30:00",
         "2122-05-14 19:37:00",
         "2474.1208333333334",
         "160.22152777777777",
         "7.814044495359879",
         "5.082779368164467",
         "0",
         "0",
         "0.0",
         "0.0",
         "7.814044495359879",
         "7.814044495359879",
         null,
         "3",
         "1.0805671296296298",
         "21",
         "1",
         "M",
         "2052-04-02",
         null,
         null,
         "69",
         "6",
         "2115-02-20 17:41:00",
         "2122-05-18 15:11:00",
         "2479",
         "2643",
         null,
         "0",
         "120.0",
         "0",
         "0",
         "1.7557004194123524",
         "0.7326405150244433",
         "0.6931471805599453",
         "3.091042453358316",
         "1",
         "0",
         "120+",
         "2"
        ],
        [
         "1",
         "236",
         "182562",
         "2135-05-26 11:28:00",
         "2135-05-28 16:46:00",
         "EMERGENCY",
         "PATIENT DECLINED TO ANSWER",
         "HOME",
         "Private",
         "2.220833333333333",
         "2",
         "['other', 'mild_liver_disease']",
         "False",
         "False",
         "False",
         "EMERGENCY",
         "1",
         "2134-10-15 16:00:00",
         "2139-02-18 14:26:00",
         "222.8111111111111",
         "1361.9027777777778",
         "5.410802442148159",
         "7.217372099569022",
         "0",
         "0",
         "0.0",
         "0.0",
         "5.410802442148159",
         "5.410802442148159",
         null,
         "3",
         "1.3353819444444444",
         "18",
         "2",
         "M",
         "2081-12-05",
         "2139-07-09",
         "2139-07-09",
         "54",
         "2",
         "2134-10-04 01:19:00",
         "2139-04-08 15:30:00",
         "236",
         "1738",
         "91.35416666666669",
         "0",
         "120.0",
         "0",
         "0",
         "1.1696401252454307",
         "0.8481754513820294",
         "0.6931471805599453",
         "2.9444389791664403",
         "1",
         "0",
         "120+",
         "2"
        ],
        [
         "2",
         "249",
         "149546",
         "2155-02-03 20:16:00",
         "2155-02-14 11:15:00",
         "EMERGENCY",
         "WHITE",
         "REHAB/DISTINCT PART HOSP",
         "Medicare",
         "10.624305555555557",
         "8",
         "['myocardial_infarct', 'paraplegia', 'chronic_pulmonary_disease', 'other', 'cerebrovascular_disease', 'congestive_heart_failure', 'diabetes_without_cc', 'renal_disease']",
         "True",
         "True",
         "True",
         "EMERGENCY",
         "1",
         "2149-12-31 14:55:00",
         "2156-04-27 15:33:00",
         "1860.2229166666664",
         "438.1791666666666",
         "7.52898903273945",
         "6.084907454340446",
         "0",
         "0",
         "0.0",
         "0.0",
         "7.52898903273945",
         "7.52898903273945",
         null,
         "3",
         "5.809675925925926",
         "40",
         "4",
         "F",
         "2075-03-13",
         null,
         null,
         "80",
         "12",
         "2149-12-17 20:41:00",
         "2156-05-14 15:30:00",
         "1884",
         "2339",
         null,
         "0",
         "120.0",
         "0",
         "0",
         "2.453098212532573",
         "1.9183445310593163",
         "0.6931471805599453",
         "3.713572066704308",
         "1",
         "0",
         "120+",
         "2"
        ],
        [
         "3",
         "256",
         "188869",
         "2170-06-15 03:06:00",
         "2170-06-27 16:17:00",
         "EMERGENCY",
         "WHITE",
         "SNF",
         "Medicare",
         "12.549305555555556",
         "4",
         "['peripheral_vascular_disease', 'myocardial_infarct', 'other', 'chronic_pulmonary_disease']",
         "False",
         "True",
         "False",
         "EMERGENCY",
         "2",
         "2166-07-28 12:45:00",
         "2170-08-16 13:55:00",
         "1417.5979166666666",
         "49.901388888888896",
         "7.257424280182858",
         "3.929890209802847",
         "0",
         "0",
         "0.0",
         "0.0",
         "7.123560232060806",
         "7.123560232060806",
         "0.1893123523683707",
         "4",
         "7.617986111111112",
         "49",
         "3",
         "M",
         "2086-07-31",
         null,
         null,
         "84",
         "7",
         "2163-07-26 10:30:00",
         "2170-08-22 18:00:00",
         "2528",
         "2584",
         null,
         "1",
         "49.901388888888896",
         "0",
         "0",
         "2.606335295499852",
         "2.153851427578413",
         "1.0986122886681096",
         "3.912023005428146",
         "1",
         "0",
         "30-120",
         "1"
        ],
        [
         "4",
         "291",
         "125726",
         "2106-04-17 12:24:00",
         "2106-04-19 15:10:00",
         "EMERGENCY",
         "WHITE",
         "HOME",
         "Medicare",
         "2.1152777777777776",
         "4",
         "['rheumatic_disease', 'myocardial_infarct', 'other', 'peptic_ulcer_disease']",
         "False",
         "False",
         "False",
         "EMERGENCY",
         "1",
         "2102-04-12 13:00:00",
         "2107-09-13 22:41:00",
         "1465.975",
         "512.3131944444444",
         "7.290957736416313",
         "6.240886174368254",
         "0",
         "0",
         "0.0",
         "0.0",
         "7.290957736416313",
         "7.290957736416313",
         null,
         "3",
         "1.4023379629629629",
         "21",
         "7",
         "F",
         "2034-02-07",
         "2107-10-09",
         "2107-10-09",
         "72",
         "6",
         "2102-04-08 22:26:00",
         "2107-09-16 18:50:00",
         "1471",
         "2009",
         "22.21527777777777",
         "0",
         "120.0",
         "0",
         "0",
         "1.1363183225101072",
         "0.8764424144110758",
         "0.6931471805599453",
         "3.091042453358316",
         "1",
         "0",
         "120+",
         "2"
        ]
       ],
       "shape": {
        "columns": 56,
        "rows": 5
       }
      },
      "text/html": [
       "<div>\n",
       "<style scoped>\n",
       "    .dataframe tbody tr th:only-of-type {\n",
       "        vertical-align: middle;\n",
       "    }\n",
       "\n",
       "    .dataframe tbody tr th {\n",
       "        vertical-align: top;\n",
       "    }\n",
       "\n",
       "    .dataframe thead th {\n",
       "        text-align: right;\n",
       "    }\n",
       "</style>\n",
       "<table border=\"1\" class=\"dataframe\">\n",
       "  <thead>\n",
       "    <tr style=\"text-align: right;\">\n",
       "      <th></th>\n",
       "      <th>SUBJECT_ID</th>\n",
       "      <th>HADM_ID</th>\n",
       "      <th>ADMITTIME</th>\n",
       "      <th>DISCHTIME</th>\n",
       "      <th>ADMISSION_TYPE</th>\n",
       "      <th>ETHNICITY</th>\n",
       "      <th>DISCHARGE_LOCATION</th>\n",
       "      <th>INSURANCE</th>\n",
       "      <th>HOSPITALIZATION_DAYS</th>\n",
       "      <th>NUM_COMORBIDITIES</th>\n",
       "      <th>...</th>\n",
       "      <th>IN_HOSP_DEATH_EVENT</th>\n",
       "      <th>AFTER_HOSP_DEATH_EVENT</th>\n",
       "      <th>LOG_HOSPITALIZATION_DAYS</th>\n",
       "      <th>LOG_DAYS_IN_ICU</th>\n",
       "      <th>LOG_NUM_PREV_HOSPITALIZATIONS</th>\n",
       "      <th>LOG_NUM_DRUGS</th>\n",
       "      <th>IS_LAST_EVENT</th>\n",
       "      <th>IS_HISTORICAL_EVENT</th>\n",
       "      <th>READMISSION_TIME_CAT</th>\n",
       "      <th>READMISSION_TIME_CAT_ENCODED</th>\n",
       "    </tr>\n",
       "  </thead>\n",
       "  <tbody>\n",
       "    <tr>\n",
       "      <th>0</th>\n",
       "      <td>107</td>\n",
       "      <td>182383</td>\n",
       "      <td>2121-11-30 19:24:00</td>\n",
       "      <td>2121-12-05 14:18:00</td>\n",
       "      <td>EMERGENCY</td>\n",
       "      <td>HISPANIC OR LATINO</td>\n",
       "      <td>HOME HEALTH CARE</td>\n",
       "      <td>Medicare</td>\n",
       "      <td>4.787500</td>\n",
       "      <td>4</td>\n",
       "      <td>...</td>\n",
       "      <td>0</td>\n",
       "      <td>0</td>\n",
       "      <td>1.755700</td>\n",
       "      <td>0.732641</td>\n",
       "      <td>0.693147</td>\n",
       "      <td>3.091042</td>\n",
       "      <td>1</td>\n",
       "      <td>0</td>\n",
       "      <td>120+</td>\n",
       "      <td>2</td>\n",
       "    </tr>\n",
       "    <tr>\n",
       "      <th>1</th>\n",
       "      <td>236</td>\n",
       "      <td>182562</td>\n",
       "      <td>2135-05-26 11:28:00</td>\n",
       "      <td>2135-05-28 16:46:00</td>\n",
       "      <td>EMERGENCY</td>\n",
       "      <td>PATIENT DECLINED TO ANSWER</td>\n",
       "      <td>HOME</td>\n",
       "      <td>Private</td>\n",
       "      <td>2.220833</td>\n",
       "      <td>2</td>\n",
       "      <td>...</td>\n",
       "      <td>0</td>\n",
       "      <td>0</td>\n",
       "      <td>1.169640</td>\n",
       "      <td>0.848175</td>\n",
       "      <td>0.693147</td>\n",
       "      <td>2.944439</td>\n",
       "      <td>1</td>\n",
       "      <td>0</td>\n",
       "      <td>120+</td>\n",
       "      <td>2</td>\n",
       "    </tr>\n",
       "    <tr>\n",
       "      <th>2</th>\n",
       "      <td>249</td>\n",
       "      <td>149546</td>\n",
       "      <td>2155-02-03 20:16:00</td>\n",
       "      <td>2155-02-14 11:15:00</td>\n",
       "      <td>EMERGENCY</td>\n",
       "      <td>WHITE</td>\n",
       "      <td>REHAB/DISTINCT PART HOSP</td>\n",
       "      <td>Medicare</td>\n",
       "      <td>10.624306</td>\n",
       "      <td>8</td>\n",
       "      <td>...</td>\n",
       "      <td>0</td>\n",
       "      <td>0</td>\n",
       "      <td>2.453098</td>\n",
       "      <td>1.918345</td>\n",
       "      <td>0.693147</td>\n",
       "      <td>3.713572</td>\n",
       "      <td>1</td>\n",
       "      <td>0</td>\n",
       "      <td>120+</td>\n",
       "      <td>2</td>\n",
       "    </tr>\n",
       "    <tr>\n",
       "      <th>3</th>\n",
       "      <td>256</td>\n",
       "      <td>188869</td>\n",
       "      <td>2170-06-15 03:06:00</td>\n",
       "      <td>2170-06-27 16:17:00</td>\n",
       "      <td>EMERGENCY</td>\n",
       "      <td>WHITE</td>\n",
       "      <td>SNF</td>\n",
       "      <td>Medicare</td>\n",
       "      <td>12.549306</td>\n",
       "      <td>4</td>\n",
       "      <td>...</td>\n",
       "      <td>0</td>\n",
       "      <td>0</td>\n",
       "      <td>2.606335</td>\n",
       "      <td>2.153851</td>\n",
       "      <td>1.098612</td>\n",
       "      <td>3.912023</td>\n",
       "      <td>1</td>\n",
       "      <td>0</td>\n",
       "      <td>30-120</td>\n",
       "      <td>1</td>\n",
       "    </tr>\n",
       "    <tr>\n",
       "      <th>4</th>\n",
       "      <td>291</td>\n",
       "      <td>125726</td>\n",
       "      <td>2106-04-17 12:24:00</td>\n",
       "      <td>2106-04-19 15:10:00</td>\n",
       "      <td>EMERGENCY</td>\n",
       "      <td>WHITE</td>\n",
       "      <td>HOME</td>\n",
       "      <td>Medicare</td>\n",
       "      <td>2.115278</td>\n",
       "      <td>4</td>\n",
       "      <td>...</td>\n",
       "      <td>0</td>\n",
       "      <td>0</td>\n",
       "      <td>1.136318</td>\n",
       "      <td>0.876442</td>\n",
       "      <td>0.693147</td>\n",
       "      <td>3.091042</td>\n",
       "      <td>1</td>\n",
       "      <td>0</td>\n",
       "      <td>120+</td>\n",
       "      <td>2</td>\n",
       "    </tr>\n",
       "  </tbody>\n",
       "</table>\n",
       "<p>5 rows × 56 columns</p>\n",
       "</div>"
      ],
      "text/plain": [
       "   SUBJECT_ID  HADM_ID            ADMITTIME            DISCHTIME  \\\n",
       "0         107   182383  2121-11-30 19:24:00  2121-12-05 14:18:00   \n",
       "1         236   182562  2135-05-26 11:28:00  2135-05-28 16:46:00   \n",
       "2         249   149546  2155-02-03 20:16:00  2155-02-14 11:15:00   \n",
       "3         256   188869  2170-06-15 03:06:00  2170-06-27 16:17:00   \n",
       "4         291   125726  2106-04-17 12:24:00  2106-04-19 15:10:00   \n",
       "\n",
       "  ADMISSION_TYPE                   ETHNICITY        DISCHARGE_LOCATION  \\\n",
       "0      EMERGENCY          HISPANIC OR LATINO          HOME HEALTH CARE   \n",
       "1      EMERGENCY  PATIENT DECLINED TO ANSWER                      HOME   \n",
       "2      EMERGENCY                       WHITE  REHAB/DISTINCT PART HOSP   \n",
       "3      EMERGENCY                       WHITE                       SNF   \n",
       "4      EMERGENCY                       WHITE                      HOME   \n",
       "\n",
       "  INSURANCE  HOSPITALIZATION_DAYS  NUM_COMORBIDITIES  ... IN_HOSP_DEATH_EVENT  \\\n",
       "0  Medicare              4.787500                  4  ...                   0   \n",
       "1   Private              2.220833                  2  ...                   0   \n",
       "2  Medicare             10.624306                  8  ...                   0   \n",
       "3  Medicare             12.549306                  4  ...                   0   \n",
       "4  Medicare              2.115278                  4  ...                   0   \n",
       "\n",
       "   AFTER_HOSP_DEATH_EVENT  LOG_HOSPITALIZATION_DAYS  LOG_DAYS_IN_ICU  \\\n",
       "0                       0                  1.755700         0.732641   \n",
       "1                       0                  1.169640         0.848175   \n",
       "2                       0                  2.453098         1.918345   \n",
       "3                       0                  2.606335         2.153851   \n",
       "4                       0                  1.136318         0.876442   \n",
       "\n",
       "  LOG_NUM_PREV_HOSPITALIZATIONS  LOG_NUM_DRUGS IS_LAST_EVENT  \\\n",
       "0                      0.693147       3.091042             1   \n",
       "1                      0.693147       2.944439             1   \n",
       "2                      0.693147       3.713572             1   \n",
       "3                      1.098612       3.912023             1   \n",
       "4                      0.693147       3.091042             1   \n",
       "\n",
       "  IS_HISTORICAL_EVENT  READMISSION_TIME_CAT  READMISSION_TIME_CAT_ENCODED  \n",
       "0                   0                  120+                             2  \n",
       "1                   0                  120+                             2  \n",
       "2                   0                  120+                             2  \n",
       "3                   0                30-120                             1  \n",
       "4                   0                  120+                             2  \n",
       "\n",
       "[5 rows x 56 columns]"
      ]
     },
     "execution_count": 6,
     "metadata": {},
     "output_type": "execute_result"
    }
   ],
   "source": [
    "df.head()"
   ]
  },
  {
   "cell_type": "code",
   "execution_count": 7,
   "metadata": {},
   "outputs": [
    {
     "name": "stdout",
     "output_type": "stream",
     "text": [
      "Saving data to:  /workspaces/master-thesis-recurrent-health-events-prediction/data/mimic-iii-preprocessed/copd_heart_failure/multiple_hosp_patients/train_test_split.csv\n"
     ]
    }
   ],
   "source": [
    "output_filepath = os.path.join(training_data_path, OUTPUT_FILENAME)\n",
    "print(\"Saving data to: \", output_filepath)"
   ]
  },
  {
   "cell_type": "code",
   "execution_count": 9,
   "metadata": {},
   "outputs": [],
   "source": [
    "# 1) Create and save a split file\n",
    "split_map = make_train_test_split_file(\n",
    "    df=df,\n",
    "    id_col=ID_COL,\n",
    "    target_col=TARGET_COL,\n",
    "    test_size=TEST_SIZE,\n",
    "    random_state=RANDOM_STATE,\n",
    "    out_path=output_filepath,\n",
    ")"
   ]
  },
  {
   "cell_type": "code",
   "execution_count": 10,
   "metadata": {},
   "outputs": [
    {
     "data": {
      "application/vnd.microsoft.datawrangler.viewer.v0+json": {
       "columns": [
        {
         "name": "index",
         "rawType": "int64",
         "type": "integer"
        },
        {
         "name": "HADM_ID",
         "rawType": "int64",
         "type": "integer"
        },
        {
         "name": "split",
         "rawType": "category",
         "type": "unknown"
        }
       ],
       "ref": "b6154210-65d1-49bb-830a-6d38c5e0b721",
       "rows": [
        [
         "0",
         "151038",
         "train"
        ],
        [
         "1",
         "130458",
         "train"
        ],
        [
         "2",
         "171620",
         "train"
        ],
        [
         "3",
         "132919",
         "train"
        ],
        [
         "4",
         "141655",
         "train"
        ],
        [
         "5",
         "106233",
         "train"
        ],
        [
         "6",
         "186744",
         "train"
        ],
        [
         "7",
         "185642",
         "train"
        ],
        [
         "8",
         "144655",
         "train"
        ],
        [
         "9",
         "176715",
         "train"
        ],
        [
         "10",
         "190385",
         "train"
        ],
        [
         "11",
         "102195",
         "train"
        ],
        [
         "12",
         "145121",
         "train"
        ],
        [
         "13",
         "189514",
         "train"
        ],
        [
         "14",
         "196064",
         "train"
        ],
        [
         "15",
         "187879",
         "train"
        ],
        [
         "16",
         "109880",
         "train"
        ],
        [
         "17",
         "179557",
         "train"
        ],
        [
         "18",
         "147024",
         "train"
        ],
        [
         "19",
         "138356",
         "train"
        ],
        [
         "20",
         "142687",
         "train"
        ],
        [
         "21",
         "133284",
         "train"
        ],
        [
         "22",
         "124281",
         "train"
        ],
        [
         "23",
         "143772",
         "train"
        ],
        [
         "24",
         "169412",
         "train"
        ],
        [
         "25",
         "139869",
         "train"
        ],
        [
         "26",
         "174986",
         "train"
        ],
        [
         "27",
         "175933",
         "train"
        ],
        [
         "28",
         "111022",
         "train"
        ],
        [
         "29",
         "138883",
         "train"
        ],
        [
         "30",
         "191086",
         "train"
        ],
        [
         "31",
         "187798",
         "train"
        ],
        [
         "32",
         "147931",
         "train"
        ],
        [
         "33",
         "196370",
         "train"
        ],
        [
         "34",
         "174332",
         "train"
        ],
        [
         "35",
         "129259",
         "train"
        ],
        [
         "36",
         "154017",
         "train"
        ],
        [
         "37",
         "144846",
         "train"
        ],
        [
         "38",
         "144086",
         "train"
        ],
        [
         "39",
         "141193",
         "train"
        ],
        [
         "40",
         "123351",
         "train"
        ],
        [
         "41",
         "104446",
         "train"
        ],
        [
         "42",
         "173759",
         "train"
        ],
        [
         "43",
         "116876",
         "train"
        ],
        [
         "44",
         "129593",
         "train"
        ],
        [
         "45",
         "194686",
         "train"
        ],
        [
         "46",
         "145106",
         "train"
        ],
        [
         "47",
         "121956",
         "train"
        ],
        [
         "48",
         "148673",
         "train"
        ],
        [
         "49",
         "168536",
         "train"
        ]
       ],
       "shape": {
        "columns": 2,
        "rows": 1369
       }
      },
      "text/html": [
       "<div>\n",
       "<style scoped>\n",
       "    .dataframe tbody tr th:only-of-type {\n",
       "        vertical-align: middle;\n",
       "    }\n",
       "\n",
       "    .dataframe tbody tr th {\n",
       "        vertical-align: top;\n",
       "    }\n",
       "\n",
       "    .dataframe thead th {\n",
       "        text-align: right;\n",
       "    }\n",
       "</style>\n",
       "<table border=\"1\" class=\"dataframe\">\n",
       "  <thead>\n",
       "    <tr style=\"text-align: right;\">\n",
       "      <th></th>\n",
       "      <th>HADM_ID</th>\n",
       "      <th>split</th>\n",
       "    </tr>\n",
       "  </thead>\n",
       "  <tbody>\n",
       "    <tr>\n",
       "      <th>0</th>\n",
       "      <td>151038</td>\n",
       "      <td>train</td>\n",
       "    </tr>\n",
       "    <tr>\n",
       "      <th>1</th>\n",
       "      <td>130458</td>\n",
       "      <td>train</td>\n",
       "    </tr>\n",
       "    <tr>\n",
       "      <th>2</th>\n",
       "      <td>171620</td>\n",
       "      <td>train</td>\n",
       "    </tr>\n",
       "    <tr>\n",
       "      <th>3</th>\n",
       "      <td>132919</td>\n",
       "      <td>train</td>\n",
       "    </tr>\n",
       "    <tr>\n",
       "      <th>4</th>\n",
       "      <td>141655</td>\n",
       "      <td>train</td>\n",
       "    </tr>\n",
       "    <tr>\n",
       "      <th>...</th>\n",
       "      <td>...</td>\n",
       "      <td>...</td>\n",
       "    </tr>\n",
       "    <tr>\n",
       "      <th>1364</th>\n",
       "      <td>182589</td>\n",
       "      <td>test</td>\n",
       "    </tr>\n",
       "    <tr>\n",
       "      <th>1365</th>\n",
       "      <td>119575</td>\n",
       "      <td>test</td>\n",
       "    </tr>\n",
       "    <tr>\n",
       "      <th>1366</th>\n",
       "      <td>196379</td>\n",
       "      <td>test</td>\n",
       "    </tr>\n",
       "    <tr>\n",
       "      <th>1367</th>\n",
       "      <td>164391</td>\n",
       "      <td>test</td>\n",
       "    </tr>\n",
       "    <tr>\n",
       "      <th>1368</th>\n",
       "      <td>172930</td>\n",
       "      <td>test</td>\n",
       "    </tr>\n",
       "  </tbody>\n",
       "</table>\n",
       "<p>1369 rows × 2 columns</p>\n",
       "</div>"
      ],
      "text/plain": [
       "      HADM_ID  split\n",
       "0      151038  train\n",
       "1      130458  train\n",
       "2      171620  train\n",
       "3      132919  train\n",
       "4      141655  train\n",
       "...       ...    ...\n",
       "1364   182589   test\n",
       "1365   119575   test\n",
       "1366   196379   test\n",
       "1367   164391   test\n",
       "1368   172930   test\n",
       "\n",
       "[1369 rows x 2 columns]"
      ]
     },
     "execution_count": 10,
     "metadata": {},
     "output_type": "execute_result"
    }
   ],
   "source": [
    "split_map"
   ]
  },
  {
   "cell_type": "code",
   "execution_count": 11,
   "metadata": {},
   "outputs": [
    {
     "data": {
      "application/vnd.microsoft.datawrangler.viewer.v0+json": {
       "columns": [
        {
         "name": "index",
         "rawType": "int64",
         "type": "integer"
        },
        {
         "name": "split",
         "rawType": "category",
         "type": "unknown"
        },
        {
         "name": "percentage",
         "rawType": "float64",
         "type": "float"
        }
       ],
       "ref": "c3c3d587-00a2-498e-b033-eb7d6a1dfc87",
       "rows": [
        [
         "0",
         "train",
         "0.799853907962016"
        ],
        [
         "1",
         "test",
         "0.20014609203798392"
        ]
       ],
       "shape": {
        "columns": 2,
        "rows": 2
       }
      },
      "text/html": [
       "<div>\n",
       "<style scoped>\n",
       "    .dataframe tbody tr th:only-of-type {\n",
       "        vertical-align: middle;\n",
       "    }\n",
       "\n",
       "    .dataframe tbody tr th {\n",
       "        vertical-align: top;\n",
       "    }\n",
       "\n",
       "    .dataframe thead th {\n",
       "        text-align: right;\n",
       "    }\n",
       "</style>\n",
       "<table border=\"1\" class=\"dataframe\">\n",
       "  <thead>\n",
       "    <tr style=\"text-align: right;\">\n",
       "      <th></th>\n",
       "      <th>split</th>\n",
       "      <th>percentage</th>\n",
       "    </tr>\n",
       "  </thead>\n",
       "  <tbody>\n",
       "    <tr>\n",
       "      <th>0</th>\n",
       "      <td>train</td>\n",
       "      <td>0.799854</td>\n",
       "    </tr>\n",
       "    <tr>\n",
       "      <th>1</th>\n",
       "      <td>test</td>\n",
       "      <td>0.200146</td>\n",
       "    </tr>\n",
       "  </tbody>\n",
       "</table>\n",
       "</div>"
      ],
      "text/plain": [
       "   split  percentage\n",
       "0  train    0.799854\n",
       "1   test    0.200146"
      ]
     },
     "execution_count": 11,
     "metadata": {},
     "output_type": "execute_result"
    }
   ],
   "source": [
    "split_counts = split_map['split'].value_counts(normalize=True).reset_index()\n",
    "split_counts.columns = ['split', 'percentage']\n",
    "split_counts"
   ]
  },
  {
   "cell_type": "code",
   "execution_count": 12,
   "metadata": {},
   "outputs": [],
   "source": [
    "X_train, X_test, y_train, y_test, train_ids, test_ids = apply_train_test_split_file(\n",
    "    df=df,\n",
    "    split_csv_path=output_filepath,\n",
    "    id_col=ID_COL,\n",
    "    target_col=TARGET_COL\n",
    ")"
   ]
  },
  {
   "cell_type": "code",
   "execution_count": 13,
   "metadata": {},
   "outputs": [
    {
     "data": {
      "application/vnd.microsoft.datawrangler.viewer.v0+json": {
       "columns": [
        {
         "name": "index",
         "rawType": "int64",
         "type": "integer"
        },
        {
         "name": "SUBJECT_ID",
         "rawType": "int64",
         "type": "integer"
        },
        {
         "name": "ADMITTIME",
         "rawType": "object",
         "type": "string"
        },
        {
         "name": "DISCHTIME",
         "rawType": "object",
         "type": "string"
        },
        {
         "name": "ADMISSION_TYPE",
         "rawType": "object",
         "type": "string"
        },
        {
         "name": "ETHNICITY",
         "rawType": "object",
         "type": "string"
        },
        {
         "name": "DISCHARGE_LOCATION",
         "rawType": "object",
         "type": "string"
        },
        {
         "name": "INSURANCE",
         "rawType": "object",
         "type": "string"
        },
        {
         "name": "HOSPITALIZATION_DAYS",
         "rawType": "float64",
         "type": "float"
        },
        {
         "name": "NUM_COMORBIDITIES",
         "rawType": "int64",
         "type": "integer"
        },
        {
         "name": "TYPES_COMORBIDITIES",
         "rawType": "object",
         "type": "string"
        },
        {
         "name": "HAS_DIABETES",
         "rawType": "bool",
         "type": "boolean"
        },
        {
         "name": "HAS_COPD",
         "rawType": "bool",
         "type": "boolean"
        },
        {
         "name": "HAS_CONGESTIVE_HF",
         "rawType": "bool",
         "type": "boolean"
        },
        {
         "name": "NEXT_ADMISSION_TYPE",
         "rawType": "object",
         "type": "string"
        },
        {
         "name": "NUM_PREV_HOSPITALIZATIONS",
         "rawType": "int64",
         "type": "integer"
        },
        {
         "name": "PREV_DISCHTIME",
         "rawType": "object",
         "type": "string"
        },
        {
         "name": "NEXT_ADMITTIME",
         "rawType": "object",
         "type": "string"
        },
        {
         "name": "DAYS_SINCE_LAST_HOSPITALIZATION",
         "rawType": "float64",
         "type": "float"
        },
        {
         "name": "DAYS_UNTIL_NEXT_HOSPITALIZATION",
         "rawType": "float64",
         "type": "float"
        },
        {
         "name": "LOG_DAYS_SINCE_LAST_HOSPITALIZATION",
         "rawType": "float64",
         "type": "float"
        },
        {
         "name": "LOG_DAYS_UNTIL_NEXT_HOSPITALIZATION",
         "rawType": "float64",
         "type": "float"
        },
        {
         "name": "PREV_READMISSION_30_DAYS",
         "rawType": "int64",
         "type": "integer"
        },
        {
         "name": "READM_30_DAYS_PAST_MEAN",
         "rawType": "float64",
         "type": "float"
        },
        {
         "name": "READM_30_DAYS_PAST_SUM",
         "rawType": "float64",
         "type": "float"
        },
        {
         "name": "LOG_DAYS_UNTIL_NEXT_HOSP_PAST_MEAN",
         "rawType": "float64",
         "type": "float"
        },
        {
         "name": "LOG_DAYS_UNTIL_NEXT_HOSP_PAST_MEDIAN",
         "rawType": "float64",
         "type": "float"
        },
        {
         "name": "LOG_DAYS_UNTIL_NEXT_HOSP_PAST_STD",
         "rawType": "float64",
         "type": "float"
        },
        {
         "name": "TOTAL_HOSPITALIZATIONS",
         "rawType": "int64",
         "type": "integer"
        },
        {
         "name": "DAYS_IN_ICU",
         "rawType": "float64",
         "type": "float"
        },
        {
         "name": "NUM_DRUGS",
         "rawType": "int64",
         "type": "integer"
        },
        {
         "name": "NUM_PROCEDURES",
         "rawType": "int64",
         "type": "integer"
        },
        {
         "name": "GENDER",
         "rawType": "object",
         "type": "string"
        },
        {
         "name": "DOB",
         "rawType": "object",
         "type": "string"
        },
        {
         "name": "DOD",
         "rawType": "object",
         "type": "unknown"
        },
        {
         "name": "DOD_HOSP",
         "rawType": "object",
         "type": "unknown"
        },
        {
         "name": "AGE",
         "rawType": "int64",
         "type": "integer"
        },
        {
         "name": "CHARLSON_INDEX",
         "rawType": "int64",
         "type": "integer"
        },
        {
         "name": "FIRST_ADMITTIME",
         "rawType": "object",
         "type": "string"
        },
        {
         "name": "LAST_DISCHTIME",
         "rawType": "object",
         "type": "string"
        },
        {
         "name": "PARTICIPATION_DAYS",
         "rawType": "int64",
         "type": "integer"
        },
        {
         "name": "TOTAL_PARTICIPATION_DAYS",
         "rawType": "int64",
         "type": "integer"
        },
        {
         "name": "DEATH_TIME_AFTER_LAST_DISCHARGE",
         "rawType": "float64",
         "type": "float"
        },
        {
         "name": "READMISSION_EVENT",
         "rawType": "int64",
         "type": "integer"
        },
        {
         "name": "EVENT_DURATION",
         "rawType": "float64",
         "type": "float"
        },
        {
         "name": "IN_HOSP_DEATH_EVENT",
         "rawType": "int64",
         "type": "integer"
        },
        {
         "name": "AFTER_HOSP_DEATH_EVENT",
         "rawType": "int64",
         "type": "integer"
        },
        {
         "name": "LOG_HOSPITALIZATION_DAYS",
         "rawType": "float64",
         "type": "float"
        },
        {
         "name": "LOG_DAYS_IN_ICU",
         "rawType": "float64",
         "type": "float"
        },
        {
         "name": "LOG_NUM_PREV_HOSPITALIZATIONS",
         "rawType": "float64",
         "type": "float"
        },
        {
         "name": "LOG_NUM_DRUGS",
         "rawType": "float64",
         "type": "float"
        },
        {
         "name": "IS_LAST_EVENT",
         "rawType": "int64",
         "type": "integer"
        },
        {
         "name": "IS_HISTORICAL_EVENT",
         "rawType": "int64",
         "type": "integer"
        },
        {
         "name": "READMISSION_TIME_CAT",
         "rawType": "object",
         "type": "string"
        },
        {
         "name": "READMISSION_TIME_CAT_ENCODED",
         "rawType": "int64",
         "type": "integer"
        }
       ],
       "ref": "589cc877-ee85-4cec-94b4-6cc190cf6eca",
       "rows": [
        [
         "0",
         "107",
         "2121-11-30 19:24:00",
         "2121-12-05 14:18:00",
         "EMERGENCY",
         "HISPANIC OR LATINO",
         "HOME HEALTH CARE",
         "Medicare",
         "4.7875000000000005",
         "4",
         "['congestive_heart_failure', 'myocardial_infarct', 'other', 'renal_disease']",
         "False",
         "False",
         "True",
         "EMERGENCY",
         "1",
         "2115-02-21 16:30:00",
         "2122-05-14 19:37:00",
         "2474.1208333333334",
         "160.22152777777777",
         "7.814044495359879",
         "5.082779368164467",
         "0",
         "0.0",
         "0.0",
         "7.814044495359879",
         "7.814044495359879",
         null,
         "3",
         "1.0805671296296298",
         "21",
         "1",
         "M",
         "2052-04-02",
         null,
         null,
         "69",
         "6",
         "2115-02-20 17:41:00",
         "2122-05-18 15:11:00",
         "2479",
         "2643",
         null,
         "0",
         "120.0",
         "0",
         "0",
         "1.7557004194123524",
         "0.7326405150244433",
         "0.6931471805599453",
         "3.091042453358316",
         "1",
         "0",
         "120+",
         "2"
        ],
        [
         "2",
         "249",
         "2155-02-03 20:16:00",
         "2155-02-14 11:15:00",
         "EMERGENCY",
         "WHITE",
         "REHAB/DISTINCT PART HOSP",
         "Medicare",
         "10.624305555555557",
         "8",
         "['myocardial_infarct', 'paraplegia', 'chronic_pulmonary_disease', 'other', 'cerebrovascular_disease', 'congestive_heart_failure', 'diabetes_without_cc', 'renal_disease']",
         "True",
         "True",
         "True",
         "EMERGENCY",
         "1",
         "2149-12-31 14:55:00",
         "2156-04-27 15:33:00",
         "1860.2229166666664",
         "438.1791666666666",
         "7.52898903273945",
         "6.084907454340446",
         "0",
         "0.0",
         "0.0",
         "7.52898903273945",
         "7.52898903273945",
         null,
         "3",
         "5.809675925925926",
         "40",
         "4",
         "F",
         "2075-03-13",
         null,
         null,
         "80",
         "12",
         "2149-12-17 20:41:00",
         "2156-05-14 15:30:00",
         "1884",
         "2339",
         null,
         "0",
         "120.0",
         "0",
         "0",
         "2.453098212532573",
         "1.9183445310593163",
         "0.6931471805599453",
         "3.713572066704308",
         "1",
         "0",
         "120+",
         "2"
        ],
        [
         "3",
         "256",
         "2170-06-15 03:06:00",
         "2170-06-27 16:17:00",
         "EMERGENCY",
         "WHITE",
         "SNF",
         "Medicare",
         "12.549305555555556",
         "4",
         "['peripheral_vascular_disease', 'myocardial_infarct', 'other', 'chronic_pulmonary_disease']",
         "False",
         "True",
         "False",
         "EMERGENCY",
         "2",
         "2166-07-28 12:45:00",
         "2170-08-16 13:55:00",
         "1417.5979166666666",
         "49.901388888888896",
         "7.257424280182858",
         "3.929890209802847",
         "0",
         "0.0",
         "0.0",
         "7.123560232060806",
         "7.123560232060806",
         "0.1893123523683707",
         "4",
         "7.617986111111112",
         "49",
         "3",
         "M",
         "2086-07-31",
         null,
         null,
         "84",
         "7",
         "2163-07-26 10:30:00",
         "2170-08-22 18:00:00",
         "2528",
         "2584",
         null,
         "1",
         "49.901388888888896",
         "0",
         "0",
         "2.606335295499852",
         "2.153851427578413",
         "1.0986122886681096",
         "3.912023005428146",
         "1",
         "0",
         "30-120",
         "1"
        ],
        [
         "5",
         "305",
         "2127-06-19 23:49:00",
         "2127-07-16 13:58:00",
         "EMERGENCY",
         "WHITE",
         "REHAB/DISTINCT PART HOSP",
         "Medicare",
         "26.589583333333334",
         "3",
         "['diabetes_with_cc', 'congestive_heart_failure', 'other']",
         "True",
         "False",
         "True",
         "EMERGENCY",
         "2",
         "2126-01-10 11:30:00",
         "2129-08-20 18:03:00",
         "525.5131944444445",
         "766.1701388888888",
         "6.266276391933226",
         "6.64270860061269",
         "0",
         "0.0",
         "0.0",
         "5.879708925181188",
         "5.879708925181188",
         "0.5466889542529426",
         "4",
         "6.604351851851852",
         "65",
         "3",
         "F",
         "2052-10-24",
         "2129-09-07",
         "2129-09-07",
         "75",
         "6",
         "2125-04-26 11:45:00",
         "2129-09-07 17:55:00",
         "811",
         "1594",
         "0.0",
         "0",
         "120.0",
         "0",
         "0",
         "3.317438286025028",
         "2.028720695498312",
         "1.0986122886681096",
         "4.189654742026425",
         "1",
         "0",
         "120+",
         "2"
        ],
        [
         "6",
         "323",
         "2119-09-21 20:34:00",
         "2119-10-06 18:50:00",
         "EMERGENCY",
         "WHITE",
         "REHAB/DISTINCT PART HOSP",
         "Medicare",
         "14.927777777777775",
         "4",
         "['peripheral_vascular_disease', 'diabetes_with_cc', 'congestive_heart_failure', 'other']",
         "True",
         "False",
         "True",
         "EMERGENCY",
         "2",
         "2116-05-11 13:37:00",
         "2120-01-11 15:46:00",
         "1228.2895833333334",
         "96.87222222222222",
         "7.114191706980299",
         "4.58366277303693",
         "0",
         "0.0",
         "0.0",
         "6.476544838851339",
         "6.476544838851339",
         "0.9017688489127034",
         "4",
         "11.999895833333332",
         "49",
         "9",
         "M",
         "2062-12-24",
         "2120-02-09",
         null,
         "57",
         "5",
         "2115-05-17 21:06:00",
         "2120-01-17 15:50:00",
         "1602",
         "1728",
         "22.34027777777777",
         "1",
         "96.87222222222222",
         "0",
         "0",
         "2.76806461499316",
         "2.564941344608921",
         "1.0986122886681096",
         "3.912023005428146",
         "1",
         "0",
         "30-120",
         "1"
        ]
       ],
       "shape": {
        "columns": 54,
        "rows": 5
       }
      },
      "text/html": [
       "<div>\n",
       "<style scoped>\n",
       "    .dataframe tbody tr th:only-of-type {\n",
       "        vertical-align: middle;\n",
       "    }\n",
       "\n",
       "    .dataframe tbody tr th {\n",
       "        vertical-align: top;\n",
       "    }\n",
       "\n",
       "    .dataframe thead th {\n",
       "        text-align: right;\n",
       "    }\n",
       "</style>\n",
       "<table border=\"1\" class=\"dataframe\">\n",
       "  <thead>\n",
       "    <tr style=\"text-align: right;\">\n",
       "      <th></th>\n",
       "      <th>SUBJECT_ID</th>\n",
       "      <th>ADMITTIME</th>\n",
       "      <th>DISCHTIME</th>\n",
       "      <th>ADMISSION_TYPE</th>\n",
       "      <th>ETHNICITY</th>\n",
       "      <th>DISCHARGE_LOCATION</th>\n",
       "      <th>INSURANCE</th>\n",
       "      <th>HOSPITALIZATION_DAYS</th>\n",
       "      <th>NUM_COMORBIDITIES</th>\n",
       "      <th>TYPES_COMORBIDITIES</th>\n",
       "      <th>...</th>\n",
       "      <th>IN_HOSP_DEATH_EVENT</th>\n",
       "      <th>AFTER_HOSP_DEATH_EVENT</th>\n",
       "      <th>LOG_HOSPITALIZATION_DAYS</th>\n",
       "      <th>LOG_DAYS_IN_ICU</th>\n",
       "      <th>LOG_NUM_PREV_HOSPITALIZATIONS</th>\n",
       "      <th>LOG_NUM_DRUGS</th>\n",
       "      <th>IS_LAST_EVENT</th>\n",
       "      <th>IS_HISTORICAL_EVENT</th>\n",
       "      <th>READMISSION_TIME_CAT</th>\n",
       "      <th>READMISSION_TIME_CAT_ENCODED</th>\n",
       "    </tr>\n",
       "  </thead>\n",
       "  <tbody>\n",
       "    <tr>\n",
       "      <th>0</th>\n",
       "      <td>107</td>\n",
       "      <td>2121-11-30 19:24:00</td>\n",
       "      <td>2121-12-05 14:18:00</td>\n",
       "      <td>EMERGENCY</td>\n",
       "      <td>HISPANIC OR LATINO</td>\n",
       "      <td>HOME HEALTH CARE</td>\n",
       "      <td>Medicare</td>\n",
       "      <td>4.787500</td>\n",
       "      <td>4</td>\n",
       "      <td>['congestive_heart_failure', 'myocardial_infar...</td>\n",
       "      <td>...</td>\n",
       "      <td>0</td>\n",
       "      <td>0</td>\n",
       "      <td>1.755700</td>\n",
       "      <td>0.732641</td>\n",
       "      <td>0.693147</td>\n",
       "      <td>3.091042</td>\n",
       "      <td>1</td>\n",
       "      <td>0</td>\n",
       "      <td>120+</td>\n",
       "      <td>2</td>\n",
       "    </tr>\n",
       "    <tr>\n",
       "      <th>2</th>\n",
       "      <td>249</td>\n",
       "      <td>2155-02-03 20:16:00</td>\n",
       "      <td>2155-02-14 11:15:00</td>\n",
       "      <td>EMERGENCY</td>\n",
       "      <td>WHITE</td>\n",
       "      <td>REHAB/DISTINCT PART HOSP</td>\n",
       "      <td>Medicare</td>\n",
       "      <td>10.624306</td>\n",
       "      <td>8</td>\n",
       "      <td>['myocardial_infarct', 'paraplegia', 'chronic_...</td>\n",
       "      <td>...</td>\n",
       "      <td>0</td>\n",
       "      <td>0</td>\n",
       "      <td>2.453098</td>\n",
       "      <td>1.918345</td>\n",
       "      <td>0.693147</td>\n",
       "      <td>3.713572</td>\n",
       "      <td>1</td>\n",
       "      <td>0</td>\n",
       "      <td>120+</td>\n",
       "      <td>2</td>\n",
       "    </tr>\n",
       "    <tr>\n",
       "      <th>3</th>\n",
       "      <td>256</td>\n",
       "      <td>2170-06-15 03:06:00</td>\n",
       "      <td>2170-06-27 16:17:00</td>\n",
       "      <td>EMERGENCY</td>\n",
       "      <td>WHITE</td>\n",
       "      <td>SNF</td>\n",
       "      <td>Medicare</td>\n",
       "      <td>12.549306</td>\n",
       "      <td>4</td>\n",
       "      <td>['peripheral_vascular_disease', 'myocardial_in...</td>\n",
       "      <td>...</td>\n",
       "      <td>0</td>\n",
       "      <td>0</td>\n",
       "      <td>2.606335</td>\n",
       "      <td>2.153851</td>\n",
       "      <td>1.098612</td>\n",
       "      <td>3.912023</td>\n",
       "      <td>1</td>\n",
       "      <td>0</td>\n",
       "      <td>30-120</td>\n",
       "      <td>1</td>\n",
       "    </tr>\n",
       "    <tr>\n",
       "      <th>5</th>\n",
       "      <td>305</td>\n",
       "      <td>2127-06-19 23:49:00</td>\n",
       "      <td>2127-07-16 13:58:00</td>\n",
       "      <td>EMERGENCY</td>\n",
       "      <td>WHITE</td>\n",
       "      <td>REHAB/DISTINCT PART HOSP</td>\n",
       "      <td>Medicare</td>\n",
       "      <td>26.589583</td>\n",
       "      <td>3</td>\n",
       "      <td>['diabetes_with_cc', 'congestive_heart_failure...</td>\n",
       "      <td>...</td>\n",
       "      <td>0</td>\n",
       "      <td>0</td>\n",
       "      <td>3.317438</td>\n",
       "      <td>2.028721</td>\n",
       "      <td>1.098612</td>\n",
       "      <td>4.189655</td>\n",
       "      <td>1</td>\n",
       "      <td>0</td>\n",
       "      <td>120+</td>\n",
       "      <td>2</td>\n",
       "    </tr>\n",
       "    <tr>\n",
       "      <th>6</th>\n",
       "      <td>323</td>\n",
       "      <td>2119-09-21 20:34:00</td>\n",
       "      <td>2119-10-06 18:50:00</td>\n",
       "      <td>EMERGENCY</td>\n",
       "      <td>WHITE</td>\n",
       "      <td>REHAB/DISTINCT PART HOSP</td>\n",
       "      <td>Medicare</td>\n",
       "      <td>14.927778</td>\n",
       "      <td>4</td>\n",
       "      <td>['peripheral_vascular_disease', 'diabetes_with...</td>\n",
       "      <td>...</td>\n",
       "      <td>0</td>\n",
       "      <td>0</td>\n",
       "      <td>2.768065</td>\n",
       "      <td>2.564941</td>\n",
       "      <td>1.098612</td>\n",
       "      <td>3.912023</td>\n",
       "      <td>1</td>\n",
       "      <td>0</td>\n",
       "      <td>30-120</td>\n",
       "      <td>1</td>\n",
       "    </tr>\n",
       "  </tbody>\n",
       "</table>\n",
       "<p>5 rows × 54 columns</p>\n",
       "</div>"
      ],
      "text/plain": [
       "   SUBJECT_ID            ADMITTIME            DISCHTIME ADMISSION_TYPE  \\\n",
       "0         107  2121-11-30 19:24:00  2121-12-05 14:18:00      EMERGENCY   \n",
       "2         249  2155-02-03 20:16:00  2155-02-14 11:15:00      EMERGENCY   \n",
       "3         256  2170-06-15 03:06:00  2170-06-27 16:17:00      EMERGENCY   \n",
       "5         305  2127-06-19 23:49:00  2127-07-16 13:58:00      EMERGENCY   \n",
       "6         323  2119-09-21 20:34:00  2119-10-06 18:50:00      EMERGENCY   \n",
       "\n",
       "            ETHNICITY        DISCHARGE_LOCATION INSURANCE  \\\n",
       "0  HISPANIC OR LATINO          HOME HEALTH CARE  Medicare   \n",
       "2               WHITE  REHAB/DISTINCT PART HOSP  Medicare   \n",
       "3               WHITE                       SNF  Medicare   \n",
       "5               WHITE  REHAB/DISTINCT PART HOSP  Medicare   \n",
       "6               WHITE  REHAB/DISTINCT PART HOSP  Medicare   \n",
       "\n",
       "   HOSPITALIZATION_DAYS  NUM_COMORBIDITIES  \\\n",
       "0              4.787500                  4   \n",
       "2             10.624306                  8   \n",
       "3             12.549306                  4   \n",
       "5             26.589583                  3   \n",
       "6             14.927778                  4   \n",
       "\n",
       "                                 TYPES_COMORBIDITIES  ...  \\\n",
       "0  ['congestive_heart_failure', 'myocardial_infar...  ...   \n",
       "2  ['myocardial_infarct', 'paraplegia', 'chronic_...  ...   \n",
       "3  ['peripheral_vascular_disease', 'myocardial_in...  ...   \n",
       "5  ['diabetes_with_cc', 'congestive_heart_failure...  ...   \n",
       "6  ['peripheral_vascular_disease', 'diabetes_with...  ...   \n",
       "\n",
       "   IN_HOSP_DEATH_EVENT  AFTER_HOSP_DEATH_EVENT  LOG_HOSPITALIZATION_DAYS  \\\n",
       "0                    0                       0                  1.755700   \n",
       "2                    0                       0                  2.453098   \n",
       "3                    0                       0                  2.606335   \n",
       "5                    0                       0                  3.317438   \n",
       "6                    0                       0                  2.768065   \n",
       "\n",
       "  LOG_DAYS_IN_ICU  LOG_NUM_PREV_HOSPITALIZATIONS LOG_NUM_DRUGS IS_LAST_EVENT  \\\n",
       "0        0.732641                       0.693147      3.091042             1   \n",
       "2        1.918345                       0.693147      3.713572             1   \n",
       "3        2.153851                       1.098612      3.912023             1   \n",
       "5        2.028721                       1.098612      4.189655             1   \n",
       "6        2.564941                       1.098612      3.912023             1   \n",
       "\n",
       "   IS_HISTORICAL_EVENT  READMISSION_TIME_CAT  READMISSION_TIME_CAT_ENCODED  \n",
       "0                    0                  120+                             2  \n",
       "2                    0                  120+                             2  \n",
       "3                    0                30-120                             1  \n",
       "5                    0                  120+                             2  \n",
       "6                    0                30-120                             1  \n",
       "\n",
       "[5 rows x 54 columns]"
      ]
     },
     "execution_count": 13,
     "metadata": {},
     "output_type": "execute_result"
    }
   ],
   "source": [
    "X_train.head()"
   ]
  },
  {
   "cell_type": "code",
   "execution_count": 14,
   "metadata": {},
   "outputs": [
    {
     "data": {
      "application/vnd.microsoft.datawrangler.viewer.v0+json": {
       "columns": [
        {
         "name": "index",
         "rawType": "int64",
         "type": "integer"
        },
        {
         "name": "SUBJECT_ID",
         "rawType": "int64",
         "type": "integer"
        },
        {
         "name": "ADMITTIME",
         "rawType": "object",
         "type": "string"
        },
        {
         "name": "DISCHTIME",
         "rawType": "object",
         "type": "string"
        },
        {
         "name": "ADMISSION_TYPE",
         "rawType": "object",
         "type": "string"
        },
        {
         "name": "ETHNICITY",
         "rawType": "object",
         "type": "string"
        },
        {
         "name": "DISCHARGE_LOCATION",
         "rawType": "object",
         "type": "string"
        },
        {
         "name": "INSURANCE",
         "rawType": "object",
         "type": "string"
        },
        {
         "name": "HOSPITALIZATION_DAYS",
         "rawType": "float64",
         "type": "float"
        },
        {
         "name": "NUM_COMORBIDITIES",
         "rawType": "int64",
         "type": "integer"
        },
        {
         "name": "TYPES_COMORBIDITIES",
         "rawType": "object",
         "type": "string"
        },
        {
         "name": "HAS_DIABETES",
         "rawType": "bool",
         "type": "boolean"
        },
        {
         "name": "HAS_COPD",
         "rawType": "bool",
         "type": "boolean"
        },
        {
         "name": "HAS_CONGESTIVE_HF",
         "rawType": "bool",
         "type": "boolean"
        },
        {
         "name": "NEXT_ADMISSION_TYPE",
         "rawType": "object",
         "type": "string"
        },
        {
         "name": "NUM_PREV_HOSPITALIZATIONS",
         "rawType": "int64",
         "type": "integer"
        },
        {
         "name": "PREV_DISCHTIME",
         "rawType": "object",
         "type": "string"
        },
        {
         "name": "NEXT_ADMITTIME",
         "rawType": "object",
         "type": "string"
        },
        {
         "name": "DAYS_SINCE_LAST_HOSPITALIZATION",
         "rawType": "float64",
         "type": "float"
        },
        {
         "name": "DAYS_UNTIL_NEXT_HOSPITALIZATION",
         "rawType": "float64",
         "type": "float"
        },
        {
         "name": "LOG_DAYS_SINCE_LAST_HOSPITALIZATION",
         "rawType": "float64",
         "type": "float"
        },
        {
         "name": "LOG_DAYS_UNTIL_NEXT_HOSPITALIZATION",
         "rawType": "float64",
         "type": "float"
        },
        {
         "name": "PREV_READMISSION_30_DAYS",
         "rawType": "int64",
         "type": "integer"
        },
        {
         "name": "READM_30_DAYS_PAST_MEAN",
         "rawType": "float64",
         "type": "float"
        },
        {
         "name": "READM_30_DAYS_PAST_SUM",
         "rawType": "float64",
         "type": "float"
        },
        {
         "name": "LOG_DAYS_UNTIL_NEXT_HOSP_PAST_MEAN",
         "rawType": "float64",
         "type": "float"
        },
        {
         "name": "LOG_DAYS_UNTIL_NEXT_HOSP_PAST_MEDIAN",
         "rawType": "float64",
         "type": "float"
        },
        {
         "name": "LOG_DAYS_UNTIL_NEXT_HOSP_PAST_STD",
         "rawType": "float64",
         "type": "float"
        },
        {
         "name": "TOTAL_HOSPITALIZATIONS",
         "rawType": "int64",
         "type": "integer"
        },
        {
         "name": "DAYS_IN_ICU",
         "rawType": "float64",
         "type": "float"
        },
        {
         "name": "NUM_DRUGS",
         "rawType": "int64",
         "type": "integer"
        },
        {
         "name": "NUM_PROCEDURES",
         "rawType": "int64",
         "type": "integer"
        },
        {
         "name": "GENDER",
         "rawType": "object",
         "type": "string"
        },
        {
         "name": "DOB",
         "rawType": "object",
         "type": "string"
        },
        {
         "name": "DOD",
         "rawType": "object",
         "type": "string"
        },
        {
         "name": "DOD_HOSP",
         "rawType": "object",
         "type": "unknown"
        },
        {
         "name": "AGE",
         "rawType": "int64",
         "type": "integer"
        },
        {
         "name": "CHARLSON_INDEX",
         "rawType": "int64",
         "type": "integer"
        },
        {
         "name": "FIRST_ADMITTIME",
         "rawType": "object",
         "type": "string"
        },
        {
         "name": "LAST_DISCHTIME",
         "rawType": "object",
         "type": "string"
        },
        {
         "name": "PARTICIPATION_DAYS",
         "rawType": "int64",
         "type": "integer"
        },
        {
         "name": "TOTAL_PARTICIPATION_DAYS",
         "rawType": "int64",
         "type": "integer"
        },
        {
         "name": "DEATH_TIME_AFTER_LAST_DISCHARGE",
         "rawType": "float64",
         "type": "float"
        },
        {
         "name": "READMISSION_EVENT",
         "rawType": "int64",
         "type": "integer"
        },
        {
         "name": "EVENT_DURATION",
         "rawType": "float64",
         "type": "float"
        },
        {
         "name": "IN_HOSP_DEATH_EVENT",
         "rawType": "int64",
         "type": "integer"
        },
        {
         "name": "AFTER_HOSP_DEATH_EVENT",
         "rawType": "int64",
         "type": "integer"
        },
        {
         "name": "LOG_HOSPITALIZATION_DAYS",
         "rawType": "float64",
         "type": "float"
        },
        {
         "name": "LOG_DAYS_IN_ICU",
         "rawType": "float64",
         "type": "float"
        },
        {
         "name": "LOG_NUM_PREV_HOSPITALIZATIONS",
         "rawType": "float64",
         "type": "float"
        },
        {
         "name": "LOG_NUM_DRUGS",
         "rawType": "float64",
         "type": "float"
        },
        {
         "name": "IS_LAST_EVENT",
         "rawType": "int64",
         "type": "integer"
        },
        {
         "name": "IS_HISTORICAL_EVENT",
         "rawType": "int64",
         "type": "integer"
        },
        {
         "name": "READMISSION_TIME_CAT",
         "rawType": "object",
         "type": "string"
        },
        {
         "name": "READMISSION_TIME_CAT_ENCODED",
         "rawType": "int64",
         "type": "integer"
        }
       ],
       "ref": "e9c70e6e-5ff9-4d44-ac5e-a2a87be2a052",
       "rows": [
        [
         "1",
         "236",
         "2135-05-26 11:28:00",
         "2135-05-28 16:46:00",
         "EMERGENCY",
         "PATIENT DECLINED TO ANSWER",
         "HOME",
         "Private",
         "2.220833333333333",
         "2",
         "['other', 'mild_liver_disease']",
         "False",
         "False",
         "False",
         "EMERGENCY",
         "1",
         "2134-10-15 16:00:00",
         "2139-02-18 14:26:00",
         "222.8111111111111",
         "1361.9027777777778",
         "5.410802442148159",
         "7.217372099569022",
         "0",
         "0.0",
         "0.0",
         "5.410802442148159",
         "5.410802442148159",
         null,
         "3",
         "1.3353819444444444",
         "18",
         "2",
         "M",
         "2081-12-05",
         "2139-07-09",
         "2139-07-09",
         "54",
         "2",
         "2134-10-04 01:19:00",
         "2139-04-08 15:30:00",
         "236",
         "1738",
         "91.35416666666669",
         "0",
         "120.0",
         "0",
         "0",
         "1.1696401252454307",
         "0.8481754513820294",
         "0.6931471805599453",
         "2.9444389791664403",
         "1",
         "0",
         "120+",
         "2"
        ],
        [
         "4",
         "291",
         "2106-04-17 12:24:00",
         "2106-04-19 15:10:00",
         "EMERGENCY",
         "WHITE",
         "HOME",
         "Medicare",
         "2.1152777777777776",
         "4",
         "['rheumatic_disease', 'myocardial_infarct', 'other', 'peptic_ulcer_disease']",
         "False",
         "False",
         "False",
         "EMERGENCY",
         "1",
         "2102-04-12 13:00:00",
         "2107-09-13 22:41:00",
         "1465.975",
         "512.3131944444444",
         "7.290957736416313",
         "6.240886174368254",
         "0",
         "0.0",
         "0.0",
         "7.290957736416313",
         "7.290957736416313",
         null,
         "3",
         "1.4023379629629629",
         "21",
         "7",
         "F",
         "2034-02-07",
         "2107-10-09",
         "2107-10-09",
         "72",
         "6",
         "2102-04-08 22:26:00",
         "2107-09-16 18:50:00",
         "1471",
         "2009",
         "22.21527777777777",
         "0",
         "120.0",
         "0",
         "0",
         "1.1363183225101072",
         "0.8764424144110758",
         "0.6931471805599453",
         "3.091042453358316",
         "1",
         "0",
         "120+",
         "2"
        ],
        [
         "13",
         "580",
         "2138-02-13 23:43:00",
         "2138-02-17 02:30:00",
         "EMERGENCY",
         "BLACK/AFRICAN AMERICAN",
         "SNF",
         "Medicare",
         "3.115972222222222",
         "2",
         "['other', 'chronic_pulmonary_disease']",
         "False",
         "True",
         "False",
         "EMERGENCY",
         "2",
         "2137-03-20 16:20:00",
         "2138-08-25 22:43:00",
         "330.3076388888889",
         "189.8423611111111",
         "5.80304736635633",
         "5.251447752773798",
         "0",
         "0.5",
         "1.0",
         "4.38469686969354",
         "4.38469686969354",
         "2.0058505085791336",
         "4",
         "3.611365740740741",
         "24",
         "2",
         "F",
         "2055-07-08",
         "2139-11-29",
         null,
         "83",
         "5",
         "2137-02-21 02:53:00",
         "2138-08-29 14:38:00",
         "360",
         "1010",
         "456.3902777777778",
         "0",
         "120.0",
         "0",
         "0",
         "1.4148750692177918",
         "1.5285240692593505",
         "1.0986122886681096",
         "3.218875824868201",
         "1",
         "0",
         "120+",
         "2"
        ],
        [
         "14",
         "618",
         "2117-12-10 14:46:00",
         "2117-12-15 16:12:00",
         "EMERGENCY",
         "WHITE",
         "REHAB/DISTINCT PART HOSP",
         "Medicare",
         "5.059722222222223",
         "3",
         "['congestive_heart_failure', 'myocardial_infarct', 'other']",
         "False",
         "False",
         "True",
         "EMERGENCY",
         "1",
         "2117-03-26 14:55:00",
         "2118-04-17 13:15:00",
         "258.99375000000003",
         "122.87708333333336",
         "5.560657592265061",
         "4.819289810537658",
         "0",
         "0.0",
         "0.0",
         "5.560657592265061",
         "5.560657592265061",
         null,
         "3",
         "3.154930555555556",
         "28",
         "1",
         "M",
         "2039-08-22",
         "2118-04-29",
         "2118-04-29",
         "78",
         "5",
         "2117-03-13 22:10:00",
         "2118-04-29 04:35:00",
         "276",
         "411",
         "0.0",
         "0",
         "120.0",
         "0",
         "0",
         "1.8016639611135088",
         "1.424295714703373",
         "0.6931471805599453",
         "3.367295829986474",
         "1",
         "0",
         "120+",
         "2"
        ],
        [
         "17",
         "773",
         "2109-01-23 21:51:00",
         "2109-01-28 17:00:00",
         "EMERGENCY",
         "WHITE",
         "HOME",
         "Private",
         "4.797916666666667",
         "6",
         "['peptic_ulcer_disease', 'other', 'mild_liver_disease', 'severe_liver_disease', 'congestive_heart_failure', 'malignant_cancer']",
         "False",
         "False",
         "True",
         "EMERGENCY",
         "2",
         "2108-12-29 15:05:00",
         "2109-02-18 06:04:00",
         "25.281944444444445",
         "20.544444444444444",
         "3.2688821803939496",
         "3.070117984912387",
         "1",
         "0.5",
         "1.0",
         "5.425723521562548",
         "5.425723521562548",
         "3.050234276567608",
         "4",
         "1.6037384259259255",
         "18",
         "4",
         "M",
         "2051-06-10",
         "2109-03-17",
         "2109-03-17",
         "58",
         "8",
         "2103-07-19 21:18:00",
         "2109-03-17 20:25:00",
         "2019",
         "2067",
         "0.0",
         "1",
         "20.544444444444444",
         "0",
         "0",
         "1.7574986576239542",
         "0.9569482684274956",
         "1.0986122886681096",
         "2.9444389791664403",
         "1",
         "0",
         "0-30",
         "0"
        ]
       ],
       "shape": {
        "columns": 54,
        "rows": 5
       }
      },
      "text/html": [
       "<div>\n",
       "<style scoped>\n",
       "    .dataframe tbody tr th:only-of-type {\n",
       "        vertical-align: middle;\n",
       "    }\n",
       "\n",
       "    .dataframe tbody tr th {\n",
       "        vertical-align: top;\n",
       "    }\n",
       "\n",
       "    .dataframe thead th {\n",
       "        text-align: right;\n",
       "    }\n",
       "</style>\n",
       "<table border=\"1\" class=\"dataframe\">\n",
       "  <thead>\n",
       "    <tr style=\"text-align: right;\">\n",
       "      <th></th>\n",
       "      <th>SUBJECT_ID</th>\n",
       "      <th>ADMITTIME</th>\n",
       "      <th>DISCHTIME</th>\n",
       "      <th>ADMISSION_TYPE</th>\n",
       "      <th>ETHNICITY</th>\n",
       "      <th>DISCHARGE_LOCATION</th>\n",
       "      <th>INSURANCE</th>\n",
       "      <th>HOSPITALIZATION_DAYS</th>\n",
       "      <th>NUM_COMORBIDITIES</th>\n",
       "      <th>TYPES_COMORBIDITIES</th>\n",
       "      <th>...</th>\n",
       "      <th>IN_HOSP_DEATH_EVENT</th>\n",
       "      <th>AFTER_HOSP_DEATH_EVENT</th>\n",
       "      <th>LOG_HOSPITALIZATION_DAYS</th>\n",
       "      <th>LOG_DAYS_IN_ICU</th>\n",
       "      <th>LOG_NUM_PREV_HOSPITALIZATIONS</th>\n",
       "      <th>LOG_NUM_DRUGS</th>\n",
       "      <th>IS_LAST_EVENT</th>\n",
       "      <th>IS_HISTORICAL_EVENT</th>\n",
       "      <th>READMISSION_TIME_CAT</th>\n",
       "      <th>READMISSION_TIME_CAT_ENCODED</th>\n",
       "    </tr>\n",
       "  </thead>\n",
       "  <tbody>\n",
       "    <tr>\n",
       "      <th>1</th>\n",
       "      <td>236</td>\n",
       "      <td>2135-05-26 11:28:00</td>\n",
       "      <td>2135-05-28 16:46:00</td>\n",
       "      <td>EMERGENCY</td>\n",
       "      <td>PATIENT DECLINED TO ANSWER</td>\n",
       "      <td>HOME</td>\n",
       "      <td>Private</td>\n",
       "      <td>2.220833</td>\n",
       "      <td>2</td>\n",
       "      <td>['other', 'mild_liver_disease']</td>\n",
       "      <td>...</td>\n",
       "      <td>0</td>\n",
       "      <td>0</td>\n",
       "      <td>1.169640</td>\n",
       "      <td>0.848175</td>\n",
       "      <td>0.693147</td>\n",
       "      <td>2.944439</td>\n",
       "      <td>1</td>\n",
       "      <td>0</td>\n",
       "      <td>120+</td>\n",
       "      <td>2</td>\n",
       "    </tr>\n",
       "    <tr>\n",
       "      <th>4</th>\n",
       "      <td>291</td>\n",
       "      <td>2106-04-17 12:24:00</td>\n",
       "      <td>2106-04-19 15:10:00</td>\n",
       "      <td>EMERGENCY</td>\n",
       "      <td>WHITE</td>\n",
       "      <td>HOME</td>\n",
       "      <td>Medicare</td>\n",
       "      <td>2.115278</td>\n",
       "      <td>4</td>\n",
       "      <td>['rheumatic_disease', 'myocardial_infarct', 'o...</td>\n",
       "      <td>...</td>\n",
       "      <td>0</td>\n",
       "      <td>0</td>\n",
       "      <td>1.136318</td>\n",
       "      <td>0.876442</td>\n",
       "      <td>0.693147</td>\n",
       "      <td>3.091042</td>\n",
       "      <td>1</td>\n",
       "      <td>0</td>\n",
       "      <td>120+</td>\n",
       "      <td>2</td>\n",
       "    </tr>\n",
       "    <tr>\n",
       "      <th>13</th>\n",
       "      <td>580</td>\n",
       "      <td>2138-02-13 23:43:00</td>\n",
       "      <td>2138-02-17 02:30:00</td>\n",
       "      <td>EMERGENCY</td>\n",
       "      <td>BLACK/AFRICAN AMERICAN</td>\n",
       "      <td>SNF</td>\n",
       "      <td>Medicare</td>\n",
       "      <td>3.115972</td>\n",
       "      <td>2</td>\n",
       "      <td>['other', 'chronic_pulmonary_disease']</td>\n",
       "      <td>...</td>\n",
       "      <td>0</td>\n",
       "      <td>0</td>\n",
       "      <td>1.414875</td>\n",
       "      <td>1.528524</td>\n",
       "      <td>1.098612</td>\n",
       "      <td>3.218876</td>\n",
       "      <td>1</td>\n",
       "      <td>0</td>\n",
       "      <td>120+</td>\n",
       "      <td>2</td>\n",
       "    </tr>\n",
       "    <tr>\n",
       "      <th>14</th>\n",
       "      <td>618</td>\n",
       "      <td>2117-12-10 14:46:00</td>\n",
       "      <td>2117-12-15 16:12:00</td>\n",
       "      <td>EMERGENCY</td>\n",
       "      <td>WHITE</td>\n",
       "      <td>REHAB/DISTINCT PART HOSP</td>\n",
       "      <td>Medicare</td>\n",
       "      <td>5.059722</td>\n",
       "      <td>3</td>\n",
       "      <td>['congestive_heart_failure', 'myocardial_infar...</td>\n",
       "      <td>...</td>\n",
       "      <td>0</td>\n",
       "      <td>0</td>\n",
       "      <td>1.801664</td>\n",
       "      <td>1.424296</td>\n",
       "      <td>0.693147</td>\n",
       "      <td>3.367296</td>\n",
       "      <td>1</td>\n",
       "      <td>0</td>\n",
       "      <td>120+</td>\n",
       "      <td>2</td>\n",
       "    </tr>\n",
       "    <tr>\n",
       "      <th>17</th>\n",
       "      <td>773</td>\n",
       "      <td>2109-01-23 21:51:00</td>\n",
       "      <td>2109-01-28 17:00:00</td>\n",
       "      <td>EMERGENCY</td>\n",
       "      <td>WHITE</td>\n",
       "      <td>HOME</td>\n",
       "      <td>Private</td>\n",
       "      <td>4.797917</td>\n",
       "      <td>6</td>\n",
       "      <td>['peptic_ulcer_disease', 'other', 'mild_liver_...</td>\n",
       "      <td>...</td>\n",
       "      <td>0</td>\n",
       "      <td>0</td>\n",
       "      <td>1.757499</td>\n",
       "      <td>0.956948</td>\n",
       "      <td>1.098612</td>\n",
       "      <td>2.944439</td>\n",
       "      <td>1</td>\n",
       "      <td>0</td>\n",
       "      <td>0-30</td>\n",
       "      <td>0</td>\n",
       "    </tr>\n",
       "  </tbody>\n",
       "</table>\n",
       "<p>5 rows × 54 columns</p>\n",
       "</div>"
      ],
      "text/plain": [
       "    SUBJECT_ID            ADMITTIME            DISCHTIME ADMISSION_TYPE  \\\n",
       "1          236  2135-05-26 11:28:00  2135-05-28 16:46:00      EMERGENCY   \n",
       "4          291  2106-04-17 12:24:00  2106-04-19 15:10:00      EMERGENCY   \n",
       "13         580  2138-02-13 23:43:00  2138-02-17 02:30:00      EMERGENCY   \n",
       "14         618  2117-12-10 14:46:00  2117-12-15 16:12:00      EMERGENCY   \n",
       "17         773  2109-01-23 21:51:00  2109-01-28 17:00:00      EMERGENCY   \n",
       "\n",
       "                     ETHNICITY        DISCHARGE_LOCATION INSURANCE  \\\n",
       "1   PATIENT DECLINED TO ANSWER                      HOME   Private   \n",
       "4                        WHITE                      HOME  Medicare   \n",
       "13      BLACK/AFRICAN AMERICAN                       SNF  Medicare   \n",
       "14                       WHITE  REHAB/DISTINCT PART HOSP  Medicare   \n",
       "17                       WHITE                      HOME   Private   \n",
       "\n",
       "    HOSPITALIZATION_DAYS  NUM_COMORBIDITIES  \\\n",
       "1               2.220833                  2   \n",
       "4               2.115278                  4   \n",
       "13              3.115972                  2   \n",
       "14              5.059722                  3   \n",
       "17              4.797917                  6   \n",
       "\n",
       "                                  TYPES_COMORBIDITIES  ...  \\\n",
       "1                     ['other', 'mild_liver_disease']  ...   \n",
       "4   ['rheumatic_disease', 'myocardial_infarct', 'o...  ...   \n",
       "13             ['other', 'chronic_pulmonary_disease']  ...   \n",
       "14  ['congestive_heart_failure', 'myocardial_infar...  ...   \n",
       "17  ['peptic_ulcer_disease', 'other', 'mild_liver_...  ...   \n",
       "\n",
       "    IN_HOSP_DEATH_EVENT  AFTER_HOSP_DEATH_EVENT  LOG_HOSPITALIZATION_DAYS  \\\n",
       "1                     0                       0                  1.169640   \n",
       "4                     0                       0                  1.136318   \n",
       "13                    0                       0                  1.414875   \n",
       "14                    0                       0                  1.801664   \n",
       "17                    0                       0                  1.757499   \n",
       "\n",
       "   LOG_DAYS_IN_ICU  LOG_NUM_PREV_HOSPITALIZATIONS LOG_NUM_DRUGS IS_LAST_EVENT  \\\n",
       "1         0.848175                       0.693147      2.944439             1   \n",
       "4         0.876442                       0.693147      3.091042             1   \n",
       "13        1.528524                       1.098612      3.218876             1   \n",
       "14        1.424296                       0.693147      3.367296             1   \n",
       "17        0.956948                       1.098612      2.944439             1   \n",
       "\n",
       "    IS_HISTORICAL_EVENT  READMISSION_TIME_CAT  READMISSION_TIME_CAT_ENCODED  \n",
       "1                     0                  120+                             2  \n",
       "4                     0                  120+                             2  \n",
       "13                    0                  120+                             2  \n",
       "14                    0                  120+                             2  \n",
       "17                    0                  0-30                             0  \n",
       "\n",
       "[5 rows x 54 columns]"
      ]
     },
     "execution_count": 14,
     "metadata": {},
     "output_type": "execute_result"
    }
   ],
   "source": [
    "X_test.head()"
   ]
  },
  {
   "cell_type": "code",
   "execution_count": 15,
   "metadata": {},
   "outputs": [
    {
     "data": {
      "text/plain": [
       "(array([182383, 149546, 188869, 122211, 128132]),\n",
       " array([182562, 125726, 195290, 155036, 160425]))"
      ]
     },
     "execution_count": 15,
     "metadata": {},
     "output_type": "execute_result"
    }
   ],
   "source": [
    "train_ids[:5], test_ids[:5]"
   ]
  },
  {
   "cell_type": "markdown",
   "metadata": {},
   "source": [
    "### Sanity Check"
   ]
  },
  {
   "cell_type": "code",
   "execution_count": 16,
   "metadata": {},
   "outputs": [],
   "source": [
    "train_mask = (split_map['split'] == 'train')\n",
    "test_mask = (split_map['split'] == 'test')\n",
    "\n",
    "train_ids_split_map = split_map.loc[train_mask, ID_COL].values\n",
    "test_ids_split_map = split_map.loc[test_mask, ID_COL].values\n",
    "\n",
    "assert set(train_ids) == set(train_ids_split_map)\n",
    "assert set(test_ids) == set(test_ids_split_map)"
   ]
  }
 ],
 "metadata": {
  "kernelspec": {
   "display_name": "recurrent-health-events-prediction-py3.10",
   "language": "python",
   "name": "python3"
  },
  "language_info": {
   "codemirror_mode": {
    "name": "ipython",
    "version": 3
   },
   "file_extension": ".py",
   "mimetype": "text/x-python",
   "name": "python",
   "nbconvert_exporter": "python",
   "pygments_lexer": "ipython3",
   "version": "3.10.14"
  }
 },
 "nbformat": 4,
 "nbformat_minor": 2
}
