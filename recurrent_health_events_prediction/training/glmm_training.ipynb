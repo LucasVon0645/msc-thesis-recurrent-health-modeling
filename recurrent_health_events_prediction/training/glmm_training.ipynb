{
 "cells": [
  {
   "cell_type": "code",
   "execution_count": 1,
   "metadata": {},
   "outputs": [],
   "source": [
    "import pandas as pd\n",
    "import numpy as np\n",
    "import yaml\n",
    "from importlib import resources as impresources\n",
    "from recurrent_health_events_prediction import configs"
   ]
  },
  {
   "cell_type": "markdown",
   "metadata": {},
   "source": [
    "# Generalized Linear Mixed Effect Model"
   ]
  },
  {
   "cell_type": "markdown",
   "metadata": {},
   "source": [
    "## Import Configs and Load Preprocessed Data"
   ]
  },
  {
   "cell_type": "code",
   "execution_count": 2,
   "metadata": {},
   "outputs": [],
   "source": [
    "with open((impresources.files(configs) / 'data_config.yaml')) as f:\n",
    "    data_config = yaml.safe_load(f)"
   ]
  },
  {
   "cell_type": "code",
   "execution_count": 3,
   "metadata": {},
   "outputs": [],
   "source": [
    "dataset = \"relapse\"\n",
    "training_data_config = data_config[\"training_data\"][dataset]"
   ]
  },
  {
   "cell_type": "code",
   "execution_count": 4,
   "metadata": {},
   "outputs": [],
   "source": [
    "from pathlib import Path\n",
    "\n",
    "training_data_path = training_data_config[\"preprocessed_path\"]\n",
    "historcial_data_path = Path(training_data_path) / 'multiple_relapses_patients' / 'historical_relapses.csv'\n",
    "last_data_path = Path(training_data_path) / 'multiple_relapses_patients' / 'last_relapses.csv'"
   ]
  },
  {
   "cell_type": "code",
   "execution_count": 5,
   "metadata": {},
   "outputs": [],
   "source": [
    "last_events_df = pd.read_csv(last_data_path)\n",
    "historical_events_df = pd.read_csv(historcial_data_path)"
   ]
  },
  {
   "cell_type": "markdown",
   "metadata": {},
   "source": [
    "## Split Train-Test Data"
   ]
  },
  {
   "cell_type": "code",
   "execution_count": 6,
   "metadata": {},
   "outputs": [],
   "source": [
    "if dataset == \"mimic\":\n",
    "    features = [\n",
    "        \"HOSPITALIZATION_DAYS\",\n",
    "        \"DAYS_IN_ICU\",\n",
    "        \"MED_PAST_TIMES_TO_HOSP\",\n",
    "        \"NUM_PREV_HOSPITALIZATIONS\",\n",
    "    ]\n",
    "else:\n",
    "    features = [\n",
    "        \"DONOR_ID\",\n",
    "        \"NUM_PREV_RELAPSES\",\n",
    "        \"PREV_NUM_DRUGS_POSITIVE\",\n",
    "        \"DRUG_POSITIVE_PAST_SUM\",\n",
    "        \"NUM_POSITIVES_SINCE_LAST_NEGATIVE\",\n",
    "        \"LOG_PARTICIPATION_DAYS\",\n",
    "        \"LOG_TIME_SINCE_LAST_NEGATIVE\",\n",
    "        \"LOG_TIME_SINCE_LAST_POSITIVE\",\n",
    "        \"AGE\",\n",
    "        \"LOG_TIME_RELAPSE_PAST_MEDIAN\",\n",
    "        \"LOG_TIME_RELAPSE_PAST_STD\",\n",
    "        \"PREV_RELAPSE_30_DAYS\",\n",
    "        \"RELAPSE_30_DAYS_PAST_SUM\",\n",
    "    ]\n",
    "    # features_to_encode = ['PROGRAM_TYPE', 'RACE', 'GENDER']\n",
    "    target_col = \"RELAPSE_30_DAYS\"\n",
    "    # features_to_encode = ['PROGRAM_TYPE', 'RACE', 'GENDER']\n",
    "    features_not_to_scale = [\"PREV_RELAPSE_30_DAYS\", \"DONOR_ID\"]\n",
    "    # features += new_cols\n",
    "    plot_shap = True\n",
    "    missing_features = {\n",
    "        \"LOG_TIME_RELAPSE_PAST_STD\": \"median\",\n",
    "        \"LOG_TIME_RELAPSE_PAST_MEDIAN\": \"median\",\n",
    "        \"RELAPSE_30_DAYS_PAST_SUM\": \"median\",\n",
    "    }"
   ]
  },
  {
   "cell_type": "code",
   "execution_count": 7,
   "metadata": {},
   "outputs": [],
   "source": [
    "X_train = historical_events_df[features]\n",
    "y_train = historical_events_df[target_col]\n",
    "\n",
    "X_test = last_events_df[features]\n",
    "y_test = last_events_df[target_col]"
   ]
  },
  {
   "cell_type": "code",
   "execution_count": 8,
   "metadata": {},
   "outputs": [
    {
     "name": "stdout",
     "output_type": "stream",
     "text": [
      "'NA' found in feature 'LOG_TIME_RELAPSE_PAST_STD'. Filling with strategy 'median'.\n",
      "'NA' found in feature 'LOG_TIME_RELAPSE_PAST_MEDIAN'. Filling with strategy 'median'.\n",
      "'NA' found in feature 'RELAPSE_30_DAYS_PAST_SUM'. Filling with strategy 'median'.\n",
      "Scaling features: ['NUM_PREV_RELAPSES', 'PREV_NUM_DRUGS_POSITIVE', 'DRUG_POSITIVE_PAST_SUM', 'NUM_POSITIVES_SINCE_LAST_NEGATIVE', 'LOG_PARTICIPATION_DAYS', 'LOG_TIME_SINCE_LAST_NEGATIVE', 'LOG_TIME_SINCE_LAST_POSITIVE', 'AGE', 'LOG_TIME_RELAPSE_PAST_MEDIAN', 'LOG_TIME_RELAPSE_PAST_STD', 'RELAPSE_30_DAYS_PAST_SUM']\n"
     ]
    }
   ],
   "source": [
    "from recurrent_health_events_prediction.training.utils_traditional_classifier import impute_missing_features, scale_features\n",
    "\n",
    "X_train, X_test = impute_missing_features(X_train, X_test, missing_features)\n",
    "X_train_scaled, X_test_scaled = scale_features(X_train, X_test, features_not_to_scale)"
   ]
  },
  {
   "cell_type": "code",
   "execution_count": 9,
   "metadata": {},
   "outputs": [],
   "source": [
    "train_df = X_train_scaled.copy()\n",
    "train_df[target_col] = y_train\n",
    "test_df = X_test_scaled.copy()\n",
    "test_df[target_col] = y_test"
   ]
  },
  {
   "cell_type": "code",
   "execution_count": 10,
   "metadata": {},
   "outputs": [],
   "source": [
    "def split_data_by_subjects_with_duration_balance(training_df, duration_col, \n",
    "                                               new_subjects_ratio=0.05, known_subjects_ratio=0.3,\n",
    "                                               subject_id_col = \"SUBJECT_ID\", event_id_col= \"HADM_ID\", random_state=None):\n",
    "    \"\"\"\n",
    "    Splits data while maintaining similar average event duration across splits.\n",
    "    \n",
    "    Parameters:\n",
    "        training_df (pd.DataFrame): Input dataframe\n",
    "        duration_col (str): Column name containing duration/age information\n",
    "        new_subjects_ratio (float): Ratio of new subjects for test\n",
    "        known_subjects_ratio (float): Ratio of known subjects for event-level test\n",
    "        subject_id_col (str): Column name for subject IDs\n",
    "        event_id_col (str): Column name for event IDs\n",
    "        random_state (int): Random seed\n",
    "        \n",
    "    Returns:\n",
    "        tuple: (X_train, X_new_subjects_test, X_known_subjects_test)\n",
    "    \"\"\"\n",
    "    \n",
    "    # Input validation\n",
    "    if not (0 <= new_subjects_ratio <= 1 and 0 <= known_subjects_ratio <= 1):\n",
    "        raise ValueError(\"Ratios must be between 0 and 1\")\n",
    "    if new_subjects_ratio + known_subjects_ratio > 1:\n",
    "        raise ValueError(\"Sum of ratios cannot exceed 1\")\n",
    "    \n",
    "    np.random.seed(random_state)\n",
    "    \n",
    "    # Calculate subject-level duration statistics\n",
    "    subject_stats = training_df.groupby(subject_id_col)[duration_col].agg(['mean', 'count'])\n",
    "    subject_stats['duration_strata'] = pd.qcut(subject_stats['mean'], q=5, duplicates='drop')\n",
    "    \n",
    "    # Initialize containers\n",
    "    new_test_subjects = []\n",
    "    known_test_subjects = []\n",
    "    train_subjects = []\n",
    "    \n",
    "    # Stratified splitting for new subjects\n",
    "    for stratum in subject_stats['duration_strata'].unique():\n",
    "        stratum_subjects = subject_stats[subject_stats['duration_strata'] == stratum].index.values\n",
    "        np.random.shuffle(stratum_subjects)\n",
    "        \n",
    "        num_new = max(1, int(len(stratum_subjects) * new_subjects_ratio))\n",
    "        new_test_subjects.extend(stratum_subjects[:num_new])\n",
    "        train_subjects.extend(stratum_subjects[num_new:])\n",
    "    \n",
    "    # Create initial splits\n",
    "    X_train = training_df[training_df[subject_id_col].isin(train_subjects)]\n",
    "    X_new_subjects_test = training_df[training_df[subject_id_col].isin(new_test_subjects)].copy()\n",
    "    \n",
    "    # Stratified splitting for known subjects' events\n",
    "    known_subject_stats = subject_stats.loc[train_subjects]\n",
    "    for stratum in known_subject_stats['duration_strata'].unique():\n",
    "        known_subjects_stats_more_than_one = known_subject_stats[known_subject_stats['count'] > 1]\n",
    "        stratum_subjects = known_subjects_stats_more_than_one[known_subjects_stats_more_than_one['duration_strata'] == stratum].index.values\n",
    "        np.random.shuffle(stratum_subjects)\n",
    "        \n",
    "        num_known = max(1, int(len(stratum_subjects) * known_subjects_ratio))\n",
    "        selected = stratum_subjects[:num_known]\n",
    "        known_test_subjects.extend(selected)\n",
    "    \n",
    "    # Select last event for known test subjects\n",
    "    subject_events = X_train[X_train[subject_id_col].isin(known_test_subjects)]\n",
    "    event_ids = subject_events.groupby(subject_id_col)[event_id_col].apply(\n",
    "        lambda x: x.iloc[-1] if len(x) > 1 else None\n",
    "    ).dropna()\n",
    "    \n",
    "    X_known_subjects_test = X_train[X_train[event_id_col].isin(event_ids)].copy()\n",
    "    X_train = X_train[~X_train[event_id_col].isin(event_ids)]\n",
    "    \n",
    "    # Verify duration balance\n",
    "    print(\"Duration balance verification:\")\n",
    "    for name, df in zip(['Train', 'New Subjects Test', 'Known Subjects Test'],\n",
    "                        [X_train, X_new_subjects_test, X_known_subjects_test]):\n",
    "        if len(df) > 0:\n",
    "            print(f\"{name}: Mean duration = {df[duration_col].mean():.2f}\")\n",
    "    \n",
    "    return X_train, X_new_subjects_test, X_known_subjects_test"
   ]
  },
  {
   "cell_type": "code",
   "execution_count": 11,
   "metadata": {},
   "outputs": [
    {
     "name": "stdout",
     "output_type": "stream",
     "text": [
      "<class 'pandas.core.frame.DataFrame'>\n",
      "RangeIndex: 38183 entries, 0 to 38182\n",
      "Data columns (total 14 columns):\n",
      " #   Column                             Non-Null Count  Dtype  \n",
      "---  ------                             --------------  -----  \n",
      " 0   DONOR_ID                           38183 non-null  int64  \n",
      " 1   NUM_PREV_RELAPSES                  38183 non-null  float64\n",
      " 2   PREV_NUM_DRUGS_POSITIVE            38183 non-null  float64\n",
      " 3   DRUG_POSITIVE_PAST_SUM             38183 non-null  float64\n",
      " 4   NUM_POSITIVES_SINCE_LAST_NEGATIVE  38183 non-null  float64\n",
      " 5   LOG_PARTICIPATION_DAYS             38183 non-null  float64\n",
      " 6   LOG_TIME_SINCE_LAST_NEGATIVE       38183 non-null  float64\n",
      " 7   LOG_TIME_SINCE_LAST_POSITIVE       38183 non-null  float64\n",
      " 8   AGE                                38183 non-null  float64\n",
      " 9   LOG_TIME_RELAPSE_PAST_MEDIAN       38183 non-null  float64\n",
      " 10  LOG_TIME_RELAPSE_PAST_STD          38183 non-null  float64\n",
      " 11  PREV_RELAPSE_30_DAYS               38183 non-null  int64  \n",
      " 12  RELAPSE_30_DAYS_PAST_SUM           38183 non-null  float64\n",
      " 13  RELAPSE_30_DAYS                    38183 non-null  int64  \n",
      "dtypes: float64(11), int64(3)\n",
      "memory usage: 4.1 MB\n"
     ]
    }
   ],
   "source": [
    "train_df.info()"
   ]
  },
  {
   "cell_type": "code",
   "execution_count": 12,
   "metadata": {},
   "outputs": [],
   "source": [
    "train_df.to_csv(\"/workspaces/master-thesis-recurrent-health-events-prediction/data/data_for_R_code/relapse/train_df.csv\", index=False)\n",
    "test_df.to_csv(\"/workspaces/master-thesis-recurrent-health-events-prediction/data/data_for_R_code/relapse/test_df.csv\", index=False)"
   ]
  },
  {
   "cell_type": "markdown",
   "metadata": {},
   "source": [
    "## Log-Normal Mixed Effect Model"
   ]
  },
  {
   "cell_type": "code",
   "execution_count": 20,
   "metadata": {},
   "outputs": [],
   "source": [
    "# --- Python code (run in your Python/Jupyter cell) ---\n",
    "import pandas as pd\n",
    "from rpy2 import robjects as ro\n",
    "from rpy2.robjects import pandas2ri\n",
    "\n",
    "# 1) Send pandas DataFrames to R -----------------------\n",
    "with ro.conversion.localconverter(ro.default_converter + pandas2ri.converter):\n",
    "    ro.globalenv[\"train_df\"] = ro.conversion.py2rpy(train_df)\n",
    "    ro.globalenv[\"test_df\"]  = ro.conversion.py2rpy(test_df)"
   ]
  },
  {
   "cell_type": "code",
   "execution_count": 23,
   "metadata": {},
   "outputs": [
    {
     "name": "stderr",
     "output_type": "stream",
     "text": [
      "R callback write-console: \n",
      "Correlation matrix not shown by default, as p = 13 > 12.\n",
      "Use print(out$value, correlation=TRUE)  or\n",
      "    vcov(out$value)        if you need it\n",
      "\n",
      "  \n"
     ]
    },
    {
     "name": "stdout",
     "output_type": "stream",
     "text": [
      "Generalized linear mixed model fit by maximum likelihood (Laplace\n",
      "  Approximation) [glmerMod]\n",
      " Family: binomial  ( logit )\n",
      "Formula: RELAPSE_30_DAYS ~ NUM_PREV_RELAPSES + PREV_NUM_DRUGS_POSITIVE +  \n",
      "    DRUG_POSITIVE_PAST_SUM + NUM_POSITIVES_SINCE_LAST_NEGATIVE +  \n",
      "    LOG_PARTICIPATION_DAYS + LOG_TIME_SINCE_LAST_NEGATIVE + LOG_TIME_SINCE_LAST_POSITIVE +  \n",
      "    AGE + LOG_TIME_RELAPSE_PAST_MEDIAN + LOG_TIME_RELAPSE_PAST_STD +  \n",
      "    PREV_RELAPSE_30_DAYS + RELAPSE_30_DAYS_PAST_SUM + (1 | DONOR_ID)\n",
      "   Data: train_df\n",
      "Control: glmerControl(optimizer = \"bobyqa\", optCtrl = list(maxfun = 2e+05))\n",
      "\n",
      "      AIC       BIC    logLik -2*log(L)  df.resid \n",
      "  42171.1   42290.8  -21071.6   42143.1     38169 \n",
      "\n",
      "Scaled residuals: \n",
      "    Min      1Q  Median      3Q     Max \n",
      "-352.06   -0.85    0.41    0.65    2.18 \n",
      "\n",
      "Random effects:\n",
      " Groups   Name        Variance Std.Dev.\n",
      " DONOR_ID (Intercept) 0.2089   0.4571  \n",
      "Number of obs: 38183, groups:  DONOR_ID, 12289\n",
      "\n",
      "Fixed effects:\n",
      "                                   Estimate Std. Error z value Pr(>|z|)    \n",
      "(Intercept)                        0.665085   0.023928  27.796  < 2e-16 ***\n",
      "NUM_PREV_RELAPSES                  0.695552   0.084589   8.223  < 2e-16 ***\n",
      "PREV_NUM_DRUGS_POSITIVE            0.072668   0.012793   5.680 1.34e-08 ***\n",
      "DRUG_POSITIVE_PAST_SUM             0.258634   0.035527   7.280 3.34e-13 ***\n",
      "NUM_POSITIVES_SINCE_LAST_NEGATIVE  0.350996   0.030926  11.350  < 2e-16 ***\n",
      "LOG_PARTICIPATION_DAYS            -0.230187   0.021239 -10.838  < 2e-16 ***\n",
      "LOG_TIME_SINCE_LAST_NEGATIVE       0.108308   0.021559   5.024 5.06e-07 ***\n",
      "LOG_TIME_SINCE_LAST_POSITIVE      -0.402398   0.018108 -22.222  < 2e-16 ***\n",
      "AGE                               -0.007226   0.012921  -0.559  0.57601    \n",
      "LOG_TIME_RELAPSE_PAST_MEDIAN      -0.161204   0.020405  -7.900 2.78e-15 ***\n",
      "LOG_TIME_RELAPSE_PAST_STD         -0.063637   0.013063  -4.872 1.11e-06 ***\n",
      "PREV_RELAPSE_30_DAYS               0.526367   0.039902  13.191  < 2e-16 ***\n",
      "RELAPSE_30_DAYS_PAST_SUM          -0.242094   0.092220  -2.625  0.00866 ** \n",
      "---\n",
      "Signif. codes:  0 ‘***’ 0.001 ‘**’ 0.01 ‘*’ 0.05 ‘.’ 0.1 ‘ ’ 1\n",
      "\n",
      "AUC: 0.7186443203625908\n"
     ]
    }
   ],
   "source": [
    "# --- Python: build explicit formula & run R via rpy2, then compute AUC in Python ---\n",
    "from rpy2 import robjects as ro\n",
    "from rpy2.robjects import pandas2ri\n",
    "import numpy as np\n",
    "from sklearn.metrics import roc_auc_score\n",
    "\n",
    "# 0) Build an explicit formula to avoid \".\" expansion issues in R\n",
    "response = \"RELAPSE_30_DAYS\"\n",
    "groupvar = \"DONOR_ID\"\n",
    "predictors = [c for c in train_df.columns if c not in (response, groupvar)]\n",
    "fixed_rhs = \" + \".join(predictors) if predictors else \"1\"\n",
    "formula_str = f'{response} ~ {fixed_rhs} + (1 | {groupvar})'\n",
    "\n",
    "# 1) Send data & formula into R\n",
    "with ro.conversion.localconverter(ro.default_converter + pandas2ri.converter):\n",
    "    ro.globalenv[\"train_df\"] = ro.conversion.py2rpy(train_df)\n",
    "    ro.globalenv[\"test_df\"]  = ro.conversion.py2rpy(test_df)\n",
    "ro.globalenv[\"formula_str\"] = ro.StrVector([formula_str])\n",
    "\n",
    "# 2) Fit, summarize, predict in R\n",
    "ro.r(r\"\"\"\n",
    "suppressPackageStartupMessages({\n",
    "  if (!requireNamespace(\"lme4\", quietly = TRUE)) install.packages(\"lme4\")\n",
    "  library(lme4)\n",
    "})\n",
    "\n",
    "# Coerce grouping var to factor and align levels\n",
    "train_df$DONOR_ID <- factor(train_df$DONOR_ID)\n",
    "test_df$DONOR_ID  <- factor(test_df$DONOR_ID, levels = levels(train_df$DONOR_ID))\n",
    "\n",
    "# Ensure binary outcome is 0/1 integer\n",
    "to_bin <- function(x) {\n",
    "  if (is.logical(x)) return(as.integer(x))\n",
    "  if (is.factor(x))  return(as.integer(x == levels(x)[2]))  # adjust if needed\n",
    "  return(as.integer(x))\n",
    "}\n",
    "train_df$RELAPSE_30_DAYS <- to_bin(train_df$RELAPSE_30_DAYS)\n",
    "test_df$RELAPSE_30_DAYS  <- to_bin(test_df$RELAPSE_30_DAYS)\n",
    "\n",
    "# Build formula explicitly (no \".\")\n",
    "ff <- as.formula(formula_str)\n",
    "\n",
    "# Fit the GLMM\n",
    "m1 <- glmer(\n",
    "  ff,\n",
    "  data = train_df,\n",
    "  family = binomial(link = \"logit\"),\n",
    "  control = glmerControl(optimizer = \"bobyqa\", optCtrl = list(maxfun = 2e5))\n",
    ")\n",
    "\n",
    "# Capture summary text\n",
    "model_summary <- capture.output(summary(m1))\n",
    "\n",
    "# Predict probabilities on test data\n",
    "pred_probs <- predict(m1, newdata = test_df, type = \"response\", allow.new.levels = TRUE)\n",
    "y_true <- test_df$RELAPSE_30_DAYS\n",
    "\n",
    "# Drop any NA/Inf\n",
    "keep <- is.finite(pred_probs) & !is.na(y_true)\n",
    "pred_probs <- pred_probs[keep]\n",
    "y_true <- y_true[keep]\n",
    "\"\"\")\n",
    "\n",
    "# 3) Bring results back to Python\n",
    "with ro.conversion.localconverter(ro.default_converter + pandas2ri.converter):\n",
    "    pred_probs = np.array(ro.globalenv[\"pred_probs\"])\n",
    "    y_true     = np.array(ro.globalenv[\"y_true\"])\n",
    "    summary_lines = list(ro.globalenv[\"model_summary\"])\n",
    "\n",
    "# 4) Print summary and compute AUC in Python\n",
    "print(\"\\n\".join(summary_lines))\n",
    "auc = roc_auc_score(y_true, pred_probs)\n",
    "print(\"\\nAUC:\", auc)\n"
   ]
  },
  {
   "cell_type": "code",
   "execution_count": null,
   "metadata": {},
   "outputs": [],
   "source": [
    "import statsmodels.formula.api as smf\n",
    "\n",
    "# Fit linear mixed model with random intercept per patient\n",
    "mixed_log_linear_model = smf.mixedlm(\"LOG_EVENT_DURATION ~ HOSPITALIZATION_DAYS + DAYS_IN_ICU + MED_PAST_TIMES_TO_HOSP + NUM_PREV_HOSPITALIZATIONS\", \n",
    "                    X_train, \n",
    "                    groups=X_train[\"SUBJECT_ID\"],)\n",
    "result = mixed_log_linear_model.fit()\n",
    "print(result.summary())"
   ]
  },
  {
   "cell_type": "code",
   "execution_count": null,
   "metadata": {},
   "outputs": [],
   "source": [
    "mixed_log_linear_model.predict(X_test)"
   ]
  }
 ],
 "metadata": {
  "kernelspec": {
   "display_name": "recurrent-health-events-prediction-py3.10",
   "language": "python",
   "name": "python3"
  },
  "language_info": {
   "codemirror_mode": {
    "name": "ipython",
    "version": 3
   },
   "file_extension": ".py",
   "mimetype": "text/x-python",
   "name": "python",
   "nbconvert_exporter": "python",
   "pygments_lexer": "ipython3",
   "version": "3.10.14"
  }
 },
 "nbformat": 4,
 "nbformat_minor": 2
}
