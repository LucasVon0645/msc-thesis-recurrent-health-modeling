{
 "cells": [
  {
   "cell_type": "markdown",
   "id": "212a00ab",
   "metadata": {},
   "source": [
    "# Traditional Classifier: Training & Evaluation Notebook\n"
   ]
  },
  {
   "cell_type": "code",
   "execution_count": 1,
   "id": "23fb0d9e",
   "metadata": {},
   "outputs": [],
   "source": [
    "import yaml\n",
    "import pandas as pd\n",
    "import numpy as np\n",
    "import os\n",
    "import warnings\n",
    "warnings.filterwarnings(\"ignore\")\n",
    "from importlib import resources as impresources"
   ]
  },
  {
   "cell_type": "code",
   "execution_count": 2,
   "id": "7da0c90e",
   "metadata": {},
   "outputs": [],
   "source": [
    "from recurrent_health_events_prediction.utils.general_utils import check_if_file_exists\n",
    "\n",
    "random_state = 42  # Set random state for reproducibility\n",
    "model_config_path = \"/workspaces/msc-thesis-recurrent-health-modeling/_models/mimic/classifier_baselines/config.yaml\"\n",
    "model_config_exists = check_if_file_exists(model_config_path)\n",
    "plot_shap = True  # Whether to plot SHAP values\n",
    "if not model_config_exists:\n",
    "    raise FileNotFoundError(f\"Model config file not found: {model_config_path}\")"
   ]
  },
  {
   "cell_type": "code",
   "execution_count": 3,
   "id": "3fc818ee",
   "metadata": {},
   "outputs": [],
   "source": [
    "models_to_train = [\n",
    "    \"logistic_regression\",\n",
    "    \"random_forest\",\n",
    "    # \"lgbm\",\n",
    "]"
   ]
  },
  {
   "cell_type": "code",
   "execution_count": 4,
   "id": "8a895a47",
   "metadata": {},
   "outputs": [
    {
     "name": "stdout",
     "output_type": "stream",
     "text": [
      "Train/test data directory: /workspaces/msc-thesis-recurrent-health-modeling/data/mimic-iii-preprocessed/copd_hf_renal_diabetes/multiple_hosp_patients/train_test\n",
      "Target column: READMISSION_30_DAYS\n",
      "Event ID column: HADM_ID\n",
      "Features to scale: ['AGE', 'LOG_HOSPITALIZATION_DAYS', 'LOG_DAYS_IN_ICU', 'LOG_DAYS_UNTIL_NEXT_HOSPITALIZATION', 'LOG_PARTICIPATION_DAYS', 'LOG_NUM_DRUGS', 'NUM_PROCEDURES', 'CHARLSON_INDEX', 'NUM_PREV_HOSPITALIZATIONS', 'NUM_COMORBIDITIES', 'PARTICIPATION_DAYS']\n",
      "Missing features: {'READM_30_DAYS_PAST_MEAN': 'median', 'READM_30_DAYS_PAST_SUM': 'median', 'LOG_DAYS_SINCE_LAST_HOSPITALIZATION': 'median', 'LOG_DAYS_UNTIL_NEXT_HOSP_PAST_MEDIAN': 'median', 'LOG_DAYS_UNTIL_NEXT_HOSP_PAST_STD': 'median'}\n",
      "Next admission type column: NEXT_ADMISSION_TYPE\n"
     ]
    }
   ],
   "source": [
    "from recurrent_health_events_prediction import configs\n",
    "\n",
    "# Load high-level data and model configs\n",
    "data_config_path = (impresources.files(configs) / \"data_config.yaml\")\n",
    "\n",
    "with open(data_config_path) as f:\n",
    "    data_config = yaml.safe_load(f)\n",
    "\n",
    "with open(model_config_path) as f:\n",
    "    model_config = yaml.safe_load(f)\n",
    "\n",
    "training_data_config = data_config['training_data'][\"mimic\"]\n",
    "train_test_data_dir = training_data_config[\"data_directory\"]\n",
    "\n",
    "print(f\"Train/test data directory: {train_test_data_dir}\")\n",
    "\n",
    "target_col = training_data_config[\"binary_event_col\"]\n",
    "event_id_col = training_data_config[\"hosp_id_col\"]\n",
    "class_names = training_data_config.get(\"class_names\", None)\n",
    "features_to_scale = training_data_config.get('features_to_scale', None)\n",
    "missing_features = model_config.get('missing_features', None)\n",
    "next_admt_type_col = training_data_config.get(\"next_admt_type_col\", None)\n",
    "\n",
    "print(f\"Target column: {target_col}\")\n",
    "print(f\"Event ID column: {event_id_col}\")\n",
    "print(f\"Features to scale: {features_to_scale}\")\n",
    "print(f\"Missing features: {missing_features}\")\n",
    "print(f\"Next admission type column: {next_admt_type_col}\")\n",
    "\n",
    "class_names_dict = {i: class_names[i] for i in range(len(class_names))} if class_names else None\n"
   ]
  },
  {
   "cell_type": "code",
   "execution_count": 5,
   "id": "964151f6",
   "metadata": {},
   "outputs": [
    {
     "name": "stdout",
     "output_type": "stream",
     "text": [
      "Output directory: /workspaces/msc-thesis-recurrent-health-modeling/_models/mimic/classifier_baselines\n"
     ]
    }
   ],
   "source": [
    "# Load & filter data\n",
    "train_data_filepath = os.path.join(train_test_data_dir, \"train_events.csv\")\n",
    "test_data_filepath = os.path.join(train_test_data_dir, \"test_events.csv\")\n",
    "train_df = pd.read_csv(train_data_filepath)\n",
    "if next_admt_type_col is not None:\n",
    "    train_df = train_df[(train_df[\"IS_LAST_EVENT\"] == 1) & (train_df[next_admt_type_col] != \"ELECTIVE\")]\n",
    "test_df = pd.read_csv(test_data_filepath)\n",
    "if next_admt_type_col is not None:\n",
    "    test_df = test_df[(test_df[\"IS_LAST_EVENT\"] == 1) & (test_df[next_admt_type_col] != \"ELECTIVE\")]\n",
    "\n",
    "output_dir = os.path.dirname(model_config_path)\n",
    "print(f\"Output directory: {output_dir}\")\n",
    "\n",
    "base_features_cols: list[str] = (\n",
    "    model_config[\"current_feat_cols\"] + model_config[\"past_summary_feat_cols\"]\n",
    ")"
   ]
  },
  {
   "cell_type": "code",
   "execution_count": 6,
   "id": "c8ceb9d3",
   "metadata": {},
   "outputs": [
    {
     "data": {
      "application/vnd.microsoft.datawrangler.viewer.v0+json": {
       "columns": [
        {
         "name": "index",
         "rawType": "int64",
         "type": "integer"
        },
        {
         "name": "AGE",
         "rawType": "int64",
         "type": "integer"
        },
        {
         "name": "CHARLSON_INDEX",
         "rawType": "int64",
         "type": "integer"
        },
        {
         "name": "NUM_PREV_HOSPITALIZATIONS",
         "rawType": "int64",
         "type": "integer"
        },
        {
         "name": "NUM_PROCEDURES",
         "rawType": "int64",
         "type": "integer"
        },
        {
         "name": "LOG_DAYS_IN_ICU",
         "rawType": "float64",
         "type": "float"
        },
        {
         "name": "NUM_DRUGS",
         "rawType": "int64",
         "type": "integer"
        },
        {
         "name": "LOG_PARTICIPATION_DAYS",
         "rawType": "float64",
         "type": "float"
        },
        {
         "name": "HAS_DIABETES",
         "rawType": "bool",
         "type": "boolean"
        },
        {
         "name": "HAS_COPD",
         "rawType": "bool",
         "type": "boolean"
        },
        {
         "name": "HAS_CONGESTIVE_HF",
         "rawType": "bool",
         "type": "boolean"
        },
        {
         "name": "DISCHARGE_LOCATION_POST_ACUTE_CARE",
         "rawType": "bool",
         "type": "boolean"
        },
        {
         "name": "GENDER_M",
         "rawType": "bool",
         "type": "boolean"
        },
        {
         "name": "ADMISSION_TYPE_ELECTIVE",
         "rawType": "bool",
         "type": "boolean"
        },
        {
         "name": "ETHNICITY_WHITE",
         "rawType": "bool",
         "type": "boolean"
        },
        {
         "name": "ETHNICITY_BLACK",
         "rawType": "bool",
         "type": "boolean"
        },
        {
         "name": "ETHNICITY_HISPANIC",
         "rawType": "bool",
         "type": "boolean"
        },
        {
         "name": "INSURANCE_MEDICAID",
         "rawType": "bool",
         "type": "boolean"
        },
        {
         "name": "INSURANCE_PRIVATE",
         "rawType": "bool",
         "type": "boolean"
        },
        {
         "name": "LOG_DAYS_SINCE_LAST_HOSPITALIZATION",
         "rawType": "float64",
         "type": "float"
        },
        {
         "name": "READM_30_DAYS_PAST_MEAN",
         "rawType": "float64",
         "type": "float"
        },
        {
         "name": "READM_30_DAYS_PAST_SUM",
         "rawType": "float64",
         "type": "float"
        },
        {
         "name": "LOG_DAYS_UNTIL_NEXT_HOSP_PAST_MEDIAN",
         "rawType": "float64",
         "type": "float"
        },
        {
         "name": "LOG_DAYS_UNTIL_NEXT_HOSP_PAST_STD",
         "rawType": "float64",
         "type": "float"
        }
       ],
       "ref": "9c303ab4-ba87-41dd-b8dc-ff8ad70c9d3d",
       "rows": [
        [
         "2",
         "75",
         "7",
         "2",
         "12",
         "0.8485272630920688",
         "42",
         "7.4999765409521215",
         "False",
         "True",
         "False",
         "True",
         "True",
         "True",
         "True",
         "False",
         "False",
         "False",
         "False",
         "7.127073188518308",
         "0.0",
         "0.0",
         "6.690950883627009",
         "0.6167700784306888"
        ],
        [
         "8",
         "69",
         "8",
         "3",
         "2",
         "1.5981826796406733",
         "22",
         "7.502738210754851",
         "False",
         "False",
         "False",
         "False",
         "False",
         "False",
         "True",
         "False",
         "False",
         "False",
         "False",
         "1.5451956437057466",
         "0.3333333333333333",
         "1.0",
         "6.164666229628858",
         "3.00352773925787"
        ],
        [
         "10",
         "54",
         "2",
         "1",
         "2",
         "0.8481754513820294",
         "18",
         "5.468060141135132",
         "False",
         "False",
         "False",
         "False",
         "True",
         "False",
         "False",
         "False",
         "False",
         "False",
         "True",
         "5.410802442148159",
         "0.0",
         "0.0",
         "5.410802442148159",
         null
        ],
        [
         "12",
         "80",
         "12",
         "1",
         "4",
         "1.9183445310593163",
         "40",
         "7.541683099882111",
         "True",
         "True",
         "True",
         "True",
         "False",
         "False",
         "True",
         "False",
         "False",
         "False",
         "False",
         "7.52898903273945",
         "0.0",
         "0.0",
         "7.52898903273945",
         null
        ],
        [
         "15",
         "84",
         "7",
         "2",
         "3",
         "2.153851427578413",
         "49",
         "7.835579246669965",
         "False",
         "True",
         "False",
         "True",
         "True",
         "False",
         "True",
         "False",
         "False",
         "False",
         "False",
         "7.257424280182858",
         "0.0",
         "0.0",
         "7.123560232060806",
         "0.1893123523683707"
        ]
       ],
       "shape": {
        "columns": 23,
        "rows": 5
       }
      },
      "text/html": [
       "<div>\n",
       "<style scoped>\n",
       "    .dataframe tbody tr th:only-of-type {\n",
       "        vertical-align: middle;\n",
       "    }\n",
       "\n",
       "    .dataframe tbody tr th {\n",
       "        vertical-align: top;\n",
       "    }\n",
       "\n",
       "    .dataframe thead th {\n",
       "        text-align: right;\n",
       "    }\n",
       "</style>\n",
       "<table border=\"1\" class=\"dataframe\">\n",
       "  <thead>\n",
       "    <tr style=\"text-align: right;\">\n",
       "      <th></th>\n",
       "      <th>AGE</th>\n",
       "      <th>CHARLSON_INDEX</th>\n",
       "      <th>NUM_PREV_HOSPITALIZATIONS</th>\n",
       "      <th>NUM_PROCEDURES</th>\n",
       "      <th>LOG_DAYS_IN_ICU</th>\n",
       "      <th>NUM_DRUGS</th>\n",
       "      <th>LOG_PARTICIPATION_DAYS</th>\n",
       "      <th>HAS_DIABETES</th>\n",
       "      <th>HAS_COPD</th>\n",
       "      <th>HAS_CONGESTIVE_HF</th>\n",
       "      <th>...</th>\n",
       "      <th>ETHNICITY_WHITE</th>\n",
       "      <th>ETHNICITY_BLACK</th>\n",
       "      <th>ETHNICITY_HISPANIC</th>\n",
       "      <th>INSURANCE_MEDICAID</th>\n",
       "      <th>INSURANCE_PRIVATE</th>\n",
       "      <th>LOG_DAYS_SINCE_LAST_HOSPITALIZATION</th>\n",
       "      <th>READM_30_DAYS_PAST_MEAN</th>\n",
       "      <th>READM_30_DAYS_PAST_SUM</th>\n",
       "      <th>LOG_DAYS_UNTIL_NEXT_HOSP_PAST_MEDIAN</th>\n",
       "      <th>LOG_DAYS_UNTIL_NEXT_HOSP_PAST_STD</th>\n",
       "    </tr>\n",
       "  </thead>\n",
       "  <tbody>\n",
       "    <tr>\n",
       "      <th>2</th>\n",
       "      <td>75</td>\n",
       "      <td>7</td>\n",
       "      <td>2</td>\n",
       "      <td>12</td>\n",
       "      <td>0.848527</td>\n",
       "      <td>42</td>\n",
       "      <td>7.499977</td>\n",
       "      <td>False</td>\n",
       "      <td>True</td>\n",
       "      <td>False</td>\n",
       "      <td>...</td>\n",
       "      <td>True</td>\n",
       "      <td>False</td>\n",
       "      <td>False</td>\n",
       "      <td>False</td>\n",
       "      <td>False</td>\n",
       "      <td>7.127073</td>\n",
       "      <td>0.000000</td>\n",
       "      <td>0.0</td>\n",
       "      <td>6.690951</td>\n",
       "      <td>0.616770</td>\n",
       "    </tr>\n",
       "    <tr>\n",
       "      <th>8</th>\n",
       "      <td>69</td>\n",
       "      <td>8</td>\n",
       "      <td>3</td>\n",
       "      <td>2</td>\n",
       "      <td>1.598183</td>\n",
       "      <td>22</td>\n",
       "      <td>7.502738</td>\n",
       "      <td>False</td>\n",
       "      <td>False</td>\n",
       "      <td>False</td>\n",
       "      <td>...</td>\n",
       "      <td>True</td>\n",
       "      <td>False</td>\n",
       "      <td>False</td>\n",
       "      <td>False</td>\n",
       "      <td>False</td>\n",
       "      <td>1.545196</td>\n",
       "      <td>0.333333</td>\n",
       "      <td>1.0</td>\n",
       "      <td>6.164666</td>\n",
       "      <td>3.003528</td>\n",
       "    </tr>\n",
       "    <tr>\n",
       "      <th>10</th>\n",
       "      <td>54</td>\n",
       "      <td>2</td>\n",
       "      <td>1</td>\n",
       "      <td>2</td>\n",
       "      <td>0.848175</td>\n",
       "      <td>18</td>\n",
       "      <td>5.468060</td>\n",
       "      <td>False</td>\n",
       "      <td>False</td>\n",
       "      <td>False</td>\n",
       "      <td>...</td>\n",
       "      <td>False</td>\n",
       "      <td>False</td>\n",
       "      <td>False</td>\n",
       "      <td>False</td>\n",
       "      <td>True</td>\n",
       "      <td>5.410802</td>\n",
       "      <td>0.000000</td>\n",
       "      <td>0.0</td>\n",
       "      <td>5.410802</td>\n",
       "      <td>NaN</td>\n",
       "    </tr>\n",
       "    <tr>\n",
       "      <th>12</th>\n",
       "      <td>80</td>\n",
       "      <td>12</td>\n",
       "      <td>1</td>\n",
       "      <td>4</td>\n",
       "      <td>1.918345</td>\n",
       "      <td>40</td>\n",
       "      <td>7.541683</td>\n",
       "      <td>True</td>\n",
       "      <td>True</td>\n",
       "      <td>True</td>\n",
       "      <td>...</td>\n",
       "      <td>True</td>\n",
       "      <td>False</td>\n",
       "      <td>False</td>\n",
       "      <td>False</td>\n",
       "      <td>False</td>\n",
       "      <td>7.528989</td>\n",
       "      <td>0.000000</td>\n",
       "      <td>0.0</td>\n",
       "      <td>7.528989</td>\n",
       "      <td>NaN</td>\n",
       "    </tr>\n",
       "    <tr>\n",
       "      <th>15</th>\n",
       "      <td>84</td>\n",
       "      <td>7</td>\n",
       "      <td>2</td>\n",
       "      <td>3</td>\n",
       "      <td>2.153851</td>\n",
       "      <td>49</td>\n",
       "      <td>7.835579</td>\n",
       "      <td>False</td>\n",
       "      <td>True</td>\n",
       "      <td>False</td>\n",
       "      <td>...</td>\n",
       "      <td>True</td>\n",
       "      <td>False</td>\n",
       "      <td>False</td>\n",
       "      <td>False</td>\n",
       "      <td>False</td>\n",
       "      <td>7.257424</td>\n",
       "      <td>0.000000</td>\n",
       "      <td>0.0</td>\n",
       "      <td>7.123560</td>\n",
       "      <td>0.189312</td>\n",
       "    </tr>\n",
       "  </tbody>\n",
       "</table>\n",
       "<p>5 rows × 23 columns</p>\n",
       "</div>"
      ],
      "text/plain": [
       "    AGE  CHARLSON_INDEX  NUM_PREV_HOSPITALIZATIONS  NUM_PROCEDURES  \\\n",
       "2    75               7                          2              12   \n",
       "8    69               8                          3               2   \n",
       "10   54               2                          1               2   \n",
       "12   80              12                          1               4   \n",
       "15   84               7                          2               3   \n",
       "\n",
       "    LOG_DAYS_IN_ICU  NUM_DRUGS  LOG_PARTICIPATION_DAYS  HAS_DIABETES  \\\n",
       "2          0.848527         42                7.499977         False   \n",
       "8          1.598183         22                7.502738         False   \n",
       "10         0.848175         18                5.468060         False   \n",
       "12         1.918345         40                7.541683          True   \n",
       "15         2.153851         49                7.835579         False   \n",
       "\n",
       "    HAS_COPD  HAS_CONGESTIVE_HF  ...  ETHNICITY_WHITE  ETHNICITY_BLACK  \\\n",
       "2       True              False  ...             True            False   \n",
       "8      False              False  ...             True            False   \n",
       "10     False              False  ...            False            False   \n",
       "12      True               True  ...             True            False   \n",
       "15      True              False  ...             True            False   \n",
       "\n",
       "    ETHNICITY_HISPANIC  INSURANCE_MEDICAID  INSURANCE_PRIVATE  \\\n",
       "2                False               False              False   \n",
       "8                False               False              False   \n",
       "10               False               False               True   \n",
       "12               False               False              False   \n",
       "15               False               False              False   \n",
       "\n",
       "    LOG_DAYS_SINCE_LAST_HOSPITALIZATION  READM_30_DAYS_PAST_MEAN  \\\n",
       "2                              7.127073                 0.000000   \n",
       "8                              1.545196                 0.333333   \n",
       "10                             5.410802                 0.000000   \n",
       "12                             7.528989                 0.000000   \n",
       "15                             7.257424                 0.000000   \n",
       "\n",
       "    READM_30_DAYS_PAST_SUM  LOG_DAYS_UNTIL_NEXT_HOSP_PAST_MEDIAN  \\\n",
       "2                      0.0                              6.690951   \n",
       "8                      1.0                              6.164666   \n",
       "10                     0.0                              5.410802   \n",
       "12                     0.0                              7.528989   \n",
       "15                     0.0                              7.123560   \n",
       "\n",
       "    LOG_DAYS_UNTIL_NEXT_HOSP_PAST_STD  \n",
       "2                            0.616770  \n",
       "8                            3.003528  \n",
       "10                                NaN  \n",
       "12                                NaN  \n",
       "15                           0.189312  \n",
       "\n",
       "[5 rows x 23 columns]"
      ]
     },
     "execution_count": 6,
     "metadata": {},
     "output_type": "execute_result"
    }
   ],
   "source": [
    "train_df[base_features_cols].head()"
   ]
  },
  {
   "cell_type": "code",
   "execution_count": 7,
   "id": "a0aa7b23",
   "metadata": {},
   "outputs": [
    {
     "name": "stdout",
     "output_type": "stream",
     "text": [
      "Training traditional classifier...\n",
      "Using base features:  ['AGE', 'CHARLSON_INDEX', 'NUM_PREV_HOSPITALIZATIONS', 'NUM_PROCEDURES', 'LOG_DAYS_IN_ICU', 'NUM_DRUGS', 'LOG_PARTICIPATION_DAYS', 'HAS_DIABETES', 'HAS_COPD', 'HAS_CONGESTIVE_HF', 'DISCHARGE_LOCATION_POST_ACUTE_CARE', 'GENDER_M', 'ADMISSION_TYPE_ELECTIVE', 'ETHNICITY_WHITE', 'ETHNICITY_BLACK', 'ETHNICITY_HISPANIC', 'INSURANCE_MEDICAID', 'INSURANCE_PRIVATE', 'LOG_DAYS_SINCE_LAST_HOSPITALIZATION', 'READM_30_DAYS_PAST_MEAN', 'READM_30_DAYS_PAST_SUM', 'LOG_DAYS_UNTIL_NEXT_HOSP_PAST_MEDIAN', 'LOG_DAYS_UNTIL_NEXT_HOSP_PAST_STD']\n",
      "Target column:  READMISSION_30_DAYS\n",
      "Random state:  42\n"
     ]
    }
   ],
   "source": [
    "print(\"Training traditional classifier...\")\n",
    "print(\"Using base features: \", base_features_cols)\n",
    "print(\"Target column: \", target_col)\n",
    "print(\"Random state: \", random_state)"
   ]
  },
  {
   "cell_type": "markdown",
   "id": "b9e37c0e",
   "metadata": {},
   "source": [
    "### Prepare Data for Train & Test"
   ]
  },
  {
   "cell_type": "code",
   "execution_count": 8,
   "id": "8e2108a7",
   "metadata": {},
   "outputs": [
    {
     "name": "stdout",
     "output_type": "stream",
     "text": [
      "No 'NA' found in feature 'READM_30_DAYS_PAST_MEAN'. No imputation needed.\n",
      "No 'NA' found in feature 'READM_30_DAYS_PAST_SUM'. No imputation needed.\n",
      "No 'NA' found in feature 'LOG_DAYS_SINCE_LAST_HOSPITALIZATION'. No imputation needed.\n",
      "No 'NA' found in feature 'LOG_DAYS_UNTIL_NEXT_HOSP_PAST_MEDIAN'. No imputation needed.\n",
      "'NA' found in feature 'LOG_DAYS_UNTIL_NEXT_HOSP_PAST_STD'. Filling with strategy 'median'.\n",
      "Scaling features: ['AGE', 'CHARLSON_INDEX', 'NUM_PREV_HOSPITALIZATIONS', 'NUM_PROCEDURES', 'LOG_DAYS_IN_ICU', 'LOG_PARTICIPATION_DAYS', 'RANDOM_FEATURE']\n",
      "Class distribution in training set:\n",
      "READMISSION_30_DAYS\n",
      "0    0.726629\n",
      "1    0.273371\n",
      "Name: proportion, dtype: float64\n",
      "\n",
      "Class distribution in test set:\n",
      "READMISSION_30_DAYS\n",
      "0    0.74221\n",
      "1    0.25779\n",
      "Name: proportion, dtype: float64\n"
     ]
    }
   ],
   "source": [
    "\n",
    "# Add a random feature for reference\n",
    "from recurrent_health_events_prediction.training.utils_traditional_classifier import impute_missing_features, scale_features\n",
    "\n",
    "\n",
    "np.random.seed(random_state)  # Ensure reproducibility\n",
    "train_df[\"RANDOM_FEATURE\"] = np.random.rand(len(train_df))\n",
    "test_df[\"RANDOM_FEATURE\"] = np.random.rand(len(test_df))\n",
    "\n",
    "feature_cols = base_features_cols + [\"RANDOM_FEATURE\"]\n",
    "\n",
    "# Split matrices\n",
    "X_train = train_df[feature_cols]\n",
    "y_train = train_df[target_col].astype(int)\n",
    "\n",
    "X_test = test_df[feature_cols]\n",
    "y_test = test_df[target_col].astype(int)\n",
    "test_ids = test_df[event_id_col]\n",
    "\n",
    "# Impute optional missing features\n",
    "if missing_features:\n",
    "    X_train, X_test = impute_missing_features(X_train, X_test, missing_features)\n",
    "\n",
    "features_to_scale = features_to_scale + [\"RANDOM_FEATURE\"] if features_to_scale is not None else None\n",
    "\n",
    "# Scale selected features (if provided)\n",
    "X_train_scaled, X_test_scaled = scale_features(\n",
    "    X_train, X_test, features_to_scale=features_to_scale\n",
    ")\n",
    "\n",
    "print(\"Class distribution in training set:\")\n",
    "print(pd.Series(y_train).value_counts(normalize=True))\n",
    "print(\"\\nClass distribution in test set:\")\n",
    "print(pd.Series(y_test).value_counts(normalize=True))"
   ]
  },
  {
   "cell_type": "code",
   "execution_count": 9,
   "id": "97a0f078",
   "metadata": {},
   "outputs": [
    {
     "data": {
      "application/vnd.microsoft.datawrangler.viewer.v0+json": {
       "columns": [
        {
         "name": "index",
         "rawType": "int64",
         "type": "integer"
        },
        {
         "name": "AGE",
         "rawType": "float64",
         "type": "float"
        },
        {
         "name": "CHARLSON_INDEX",
         "rawType": "float64",
         "type": "float"
        },
        {
         "name": "NUM_PREV_HOSPITALIZATIONS",
         "rawType": "float64",
         "type": "float"
        },
        {
         "name": "NUM_PROCEDURES",
         "rawType": "float64",
         "type": "float"
        },
        {
         "name": "LOG_DAYS_IN_ICU",
         "rawType": "float64",
         "type": "float"
        },
        {
         "name": "NUM_DRUGS",
         "rawType": "int64",
         "type": "integer"
        },
        {
         "name": "LOG_PARTICIPATION_DAYS",
         "rawType": "float64",
         "type": "float"
        },
        {
         "name": "HAS_DIABETES",
         "rawType": "bool",
         "type": "boolean"
        },
        {
         "name": "HAS_COPD",
         "rawType": "bool",
         "type": "boolean"
        },
        {
         "name": "HAS_CONGESTIVE_HF",
         "rawType": "bool",
         "type": "boolean"
        },
        {
         "name": "DISCHARGE_LOCATION_POST_ACUTE_CARE",
         "rawType": "bool",
         "type": "boolean"
        },
        {
         "name": "GENDER_M",
         "rawType": "bool",
         "type": "boolean"
        },
        {
         "name": "ADMISSION_TYPE_ELECTIVE",
         "rawType": "bool",
         "type": "boolean"
        },
        {
         "name": "ETHNICITY_WHITE",
         "rawType": "bool",
         "type": "boolean"
        },
        {
         "name": "ETHNICITY_BLACK",
         "rawType": "bool",
         "type": "boolean"
        },
        {
         "name": "ETHNICITY_HISPANIC",
         "rawType": "bool",
         "type": "boolean"
        },
        {
         "name": "INSURANCE_MEDICAID",
         "rawType": "bool",
         "type": "boolean"
        },
        {
         "name": "INSURANCE_PRIVATE",
         "rawType": "bool",
         "type": "boolean"
        },
        {
         "name": "LOG_DAYS_SINCE_LAST_HOSPITALIZATION",
         "rawType": "float64",
         "type": "float"
        },
        {
         "name": "READM_30_DAYS_PAST_MEAN",
         "rawType": "float64",
         "type": "float"
        },
        {
         "name": "READM_30_DAYS_PAST_SUM",
         "rawType": "float64",
         "type": "float"
        },
        {
         "name": "LOG_DAYS_UNTIL_NEXT_HOSP_PAST_MEDIAN",
         "rawType": "float64",
         "type": "float"
        },
        {
         "name": "LOG_DAYS_UNTIL_NEXT_HOSP_PAST_STD",
         "rawType": "float64",
         "type": "float"
        },
        {
         "name": "RANDOM_FEATURE",
         "rawType": "float64",
         "type": "float"
        }
       ],
       "ref": "e960edde-7dfa-4fe5-9e39-9a8abd4d793e",
       "rows": [
        [
         "2",
         "0.7237535768377618",
         "0.6135642992900808",
         "-0.09123244406100198",
         "2.4592054463294093",
         "-0.6752726981693736",
         "42",
         "1.1034980176572071",
         "False",
         "True",
         "False",
         "True",
         "True",
         "True",
         "True",
         "False",
         "False",
         "False",
         "False",
         "7.127073188518308",
         "0.0",
         "0.0",
         "6.690950883627009",
         "0.6167700784306888",
         "-0.4196680132559586"
        ],
        [
         "8",
         "0.35473333713088184",
         "1.0087982366065016",
         "0.3075917386452975",
         "-0.47827707648348805",
         "0.3414851429562373",
         "22",
         "1.1054922875673696",
         "False",
         "False",
         "False",
         "False",
         "False",
         "False",
         "True",
         "False",
         "False",
         "False",
         "False",
         "1.5451956437057466",
         "0.3333333333333333",
         "1.0",
         "6.164666229628858",
         "3.00352773925787",
         "1.5403779123729244"
        ],
        [
         "10",
         "-0.567817262136318",
         "-1.3626053872920223",
         "-0.49005662676730144",
         "-0.47827707648348805",
         "-0.6757498604854004",
         "18",
         "-0.36379895322476635",
         "False",
         "False",
         "False",
         "False",
         "True",
         "False",
         "False",
         "False",
         "False",
         "False",
         "True",
         "5.410802442148159",
         "0.0",
         "0.0",
         "5.410802442148159",
         "1.253108085165982",
         "0.7963286843140357"
        ],
        [
         "12",
         "1.0312704432601616",
         "2.589733985872184",
         "-0.49005662676730144",
         "0.10921942807909138",
         "0.7757207473061891",
         "40",
         "1.1336153529911788",
         "True",
         "True",
         "True",
         "True",
         "False",
         "False",
         "True",
         "False",
         "False",
         "False",
         "False",
         "7.52898903273945",
         "0.0",
         "0.0",
         "7.52898903273945",
         "1.253108085165982",
         "0.3427442890385493"
        ],
        [
         "15",
         "1.2772839363980817",
         "0.6135642992900808",
         "-0.09123244406100198",
         "-0.18452882420219835",
         "1.0951388137791662",
         "49",
         "1.345845012624096",
         "False",
         "True",
         "False",
         "True",
         "True",
         "False",
         "True",
         "False",
         "False",
         "False",
         "False",
         "7.257424280182858",
         "0.0",
         "0.0",
         "7.123560232060806",
         "0.1893123523683707",
         "-1.1630406645402969"
        ]
       ],
       "shape": {
        "columns": 24,
        "rows": 5
       }
      },
      "text/html": [
       "<div>\n",
       "<style scoped>\n",
       "    .dataframe tbody tr th:only-of-type {\n",
       "        vertical-align: middle;\n",
       "    }\n",
       "\n",
       "    .dataframe tbody tr th {\n",
       "        vertical-align: top;\n",
       "    }\n",
       "\n",
       "    .dataframe thead th {\n",
       "        text-align: right;\n",
       "    }\n",
       "</style>\n",
       "<table border=\"1\" class=\"dataframe\">\n",
       "  <thead>\n",
       "    <tr style=\"text-align: right;\">\n",
       "      <th></th>\n",
       "      <th>AGE</th>\n",
       "      <th>CHARLSON_INDEX</th>\n",
       "      <th>NUM_PREV_HOSPITALIZATIONS</th>\n",
       "      <th>NUM_PROCEDURES</th>\n",
       "      <th>LOG_DAYS_IN_ICU</th>\n",
       "      <th>NUM_DRUGS</th>\n",
       "      <th>LOG_PARTICIPATION_DAYS</th>\n",
       "      <th>HAS_DIABETES</th>\n",
       "      <th>HAS_COPD</th>\n",
       "      <th>HAS_CONGESTIVE_HF</th>\n",
       "      <th>...</th>\n",
       "      <th>ETHNICITY_BLACK</th>\n",
       "      <th>ETHNICITY_HISPANIC</th>\n",
       "      <th>INSURANCE_MEDICAID</th>\n",
       "      <th>INSURANCE_PRIVATE</th>\n",
       "      <th>LOG_DAYS_SINCE_LAST_HOSPITALIZATION</th>\n",
       "      <th>READM_30_DAYS_PAST_MEAN</th>\n",
       "      <th>READM_30_DAYS_PAST_SUM</th>\n",
       "      <th>LOG_DAYS_UNTIL_NEXT_HOSP_PAST_MEDIAN</th>\n",
       "      <th>LOG_DAYS_UNTIL_NEXT_HOSP_PAST_STD</th>\n",
       "      <th>RANDOM_FEATURE</th>\n",
       "    </tr>\n",
       "  </thead>\n",
       "  <tbody>\n",
       "    <tr>\n",
       "      <th>2</th>\n",
       "      <td>0.723754</td>\n",
       "      <td>0.613564</td>\n",
       "      <td>-0.091232</td>\n",
       "      <td>2.459205</td>\n",
       "      <td>-0.675273</td>\n",
       "      <td>42</td>\n",
       "      <td>1.103498</td>\n",
       "      <td>False</td>\n",
       "      <td>True</td>\n",
       "      <td>False</td>\n",
       "      <td>...</td>\n",
       "      <td>False</td>\n",
       "      <td>False</td>\n",
       "      <td>False</td>\n",
       "      <td>False</td>\n",
       "      <td>7.127073</td>\n",
       "      <td>0.000000</td>\n",
       "      <td>0.0</td>\n",
       "      <td>6.690951</td>\n",
       "      <td>0.616770</td>\n",
       "      <td>-0.419668</td>\n",
       "    </tr>\n",
       "    <tr>\n",
       "      <th>8</th>\n",
       "      <td>0.354733</td>\n",
       "      <td>1.008798</td>\n",
       "      <td>0.307592</td>\n",
       "      <td>-0.478277</td>\n",
       "      <td>0.341485</td>\n",
       "      <td>22</td>\n",
       "      <td>1.105492</td>\n",
       "      <td>False</td>\n",
       "      <td>False</td>\n",
       "      <td>False</td>\n",
       "      <td>...</td>\n",
       "      <td>False</td>\n",
       "      <td>False</td>\n",
       "      <td>False</td>\n",
       "      <td>False</td>\n",
       "      <td>1.545196</td>\n",
       "      <td>0.333333</td>\n",
       "      <td>1.0</td>\n",
       "      <td>6.164666</td>\n",
       "      <td>3.003528</td>\n",
       "      <td>1.540378</td>\n",
       "    </tr>\n",
       "    <tr>\n",
       "      <th>10</th>\n",
       "      <td>-0.567817</td>\n",
       "      <td>-1.362605</td>\n",
       "      <td>-0.490057</td>\n",
       "      <td>-0.478277</td>\n",
       "      <td>-0.675750</td>\n",
       "      <td>18</td>\n",
       "      <td>-0.363799</td>\n",
       "      <td>False</td>\n",
       "      <td>False</td>\n",
       "      <td>False</td>\n",
       "      <td>...</td>\n",
       "      <td>False</td>\n",
       "      <td>False</td>\n",
       "      <td>False</td>\n",
       "      <td>True</td>\n",
       "      <td>5.410802</td>\n",
       "      <td>0.000000</td>\n",
       "      <td>0.0</td>\n",
       "      <td>5.410802</td>\n",
       "      <td>1.253108</td>\n",
       "      <td>0.796329</td>\n",
       "    </tr>\n",
       "    <tr>\n",
       "      <th>12</th>\n",
       "      <td>1.031270</td>\n",
       "      <td>2.589734</td>\n",
       "      <td>-0.490057</td>\n",
       "      <td>0.109219</td>\n",
       "      <td>0.775721</td>\n",
       "      <td>40</td>\n",
       "      <td>1.133615</td>\n",
       "      <td>True</td>\n",
       "      <td>True</td>\n",
       "      <td>True</td>\n",
       "      <td>...</td>\n",
       "      <td>False</td>\n",
       "      <td>False</td>\n",
       "      <td>False</td>\n",
       "      <td>False</td>\n",
       "      <td>7.528989</td>\n",
       "      <td>0.000000</td>\n",
       "      <td>0.0</td>\n",
       "      <td>7.528989</td>\n",
       "      <td>1.253108</td>\n",
       "      <td>0.342744</td>\n",
       "    </tr>\n",
       "    <tr>\n",
       "      <th>15</th>\n",
       "      <td>1.277284</td>\n",
       "      <td>0.613564</td>\n",
       "      <td>-0.091232</td>\n",
       "      <td>-0.184529</td>\n",
       "      <td>1.095139</td>\n",
       "      <td>49</td>\n",
       "      <td>1.345845</td>\n",
       "      <td>False</td>\n",
       "      <td>True</td>\n",
       "      <td>False</td>\n",
       "      <td>...</td>\n",
       "      <td>False</td>\n",
       "      <td>False</td>\n",
       "      <td>False</td>\n",
       "      <td>False</td>\n",
       "      <td>7.257424</td>\n",
       "      <td>0.000000</td>\n",
       "      <td>0.0</td>\n",
       "      <td>7.123560</td>\n",
       "      <td>0.189312</td>\n",
       "      <td>-1.163041</td>\n",
       "    </tr>\n",
       "  </tbody>\n",
       "</table>\n",
       "<p>5 rows × 24 columns</p>\n",
       "</div>"
      ],
      "text/plain": [
       "         AGE  CHARLSON_INDEX  NUM_PREV_HOSPITALIZATIONS  NUM_PROCEDURES  \\\n",
       "2   0.723754        0.613564                  -0.091232        2.459205   \n",
       "8   0.354733        1.008798                   0.307592       -0.478277   \n",
       "10 -0.567817       -1.362605                  -0.490057       -0.478277   \n",
       "12  1.031270        2.589734                  -0.490057        0.109219   \n",
       "15  1.277284        0.613564                  -0.091232       -0.184529   \n",
       "\n",
       "    LOG_DAYS_IN_ICU  NUM_DRUGS  LOG_PARTICIPATION_DAYS  HAS_DIABETES  \\\n",
       "2         -0.675273         42                1.103498         False   \n",
       "8          0.341485         22                1.105492         False   \n",
       "10        -0.675750         18               -0.363799         False   \n",
       "12         0.775721         40                1.133615          True   \n",
       "15         1.095139         49                1.345845         False   \n",
       "\n",
       "    HAS_COPD  HAS_CONGESTIVE_HF  ...  ETHNICITY_BLACK  ETHNICITY_HISPANIC  \\\n",
       "2       True              False  ...            False               False   \n",
       "8      False              False  ...            False               False   \n",
       "10     False              False  ...            False               False   \n",
       "12      True               True  ...            False               False   \n",
       "15      True              False  ...            False               False   \n",
       "\n",
       "    INSURANCE_MEDICAID  INSURANCE_PRIVATE  \\\n",
       "2                False              False   \n",
       "8                False              False   \n",
       "10               False               True   \n",
       "12               False              False   \n",
       "15               False              False   \n",
       "\n",
       "    LOG_DAYS_SINCE_LAST_HOSPITALIZATION  READM_30_DAYS_PAST_MEAN  \\\n",
       "2                              7.127073                 0.000000   \n",
       "8                              1.545196                 0.333333   \n",
       "10                             5.410802                 0.000000   \n",
       "12                             7.528989                 0.000000   \n",
       "15                             7.257424                 0.000000   \n",
       "\n",
       "    READM_30_DAYS_PAST_SUM  LOG_DAYS_UNTIL_NEXT_HOSP_PAST_MEDIAN  \\\n",
       "2                      0.0                              6.690951   \n",
       "8                      1.0                              6.164666   \n",
       "10                     0.0                              5.410802   \n",
       "12                     0.0                              7.528989   \n",
       "15                     0.0                              7.123560   \n",
       "\n",
       "    LOG_DAYS_UNTIL_NEXT_HOSP_PAST_STD  RANDOM_FEATURE  \n",
       "2                            0.616770       -0.419668  \n",
       "8                            3.003528        1.540378  \n",
       "10                           1.253108        0.796329  \n",
       "12                           1.253108        0.342744  \n",
       "15                           0.189312       -1.163041  \n",
       "\n",
       "[5 rows x 24 columns]"
      ]
     },
     "execution_count": 9,
     "metadata": {},
     "output_type": "execute_result"
    }
   ],
   "source": [
    "X_train_scaled.head()"
   ]
  },
  {
   "cell_type": "code",
   "execution_count": 10,
   "id": "cea8bd16",
   "metadata": {},
   "outputs": [
    {
     "data": {
      "application/vnd.microsoft.datawrangler.viewer.v0+json": {
       "columns": [
        {
         "name": "index",
         "rawType": "object",
         "type": "string"
        },
        {
         "name": "AGE",
         "rawType": "float64",
         "type": "float"
        },
        {
         "name": "CHARLSON_INDEX",
         "rawType": "float64",
         "type": "float"
        },
        {
         "name": "NUM_PREV_HOSPITALIZATIONS",
         "rawType": "float64",
         "type": "float"
        },
        {
         "name": "NUM_PROCEDURES",
         "rawType": "float64",
         "type": "float"
        },
        {
         "name": "LOG_DAYS_IN_ICU",
         "rawType": "float64",
         "type": "float"
        },
        {
         "name": "NUM_DRUGS",
         "rawType": "float64",
         "type": "float"
        },
        {
         "name": "LOG_PARTICIPATION_DAYS",
         "rawType": "float64",
         "type": "float"
        },
        {
         "name": "LOG_DAYS_SINCE_LAST_HOSPITALIZATION",
         "rawType": "float64",
         "type": "float"
        },
        {
         "name": "READM_30_DAYS_PAST_MEAN",
         "rawType": "float64",
         "type": "float"
        },
        {
         "name": "READM_30_DAYS_PAST_SUM",
         "rawType": "float64",
         "type": "float"
        },
        {
         "name": "LOG_DAYS_UNTIL_NEXT_HOSP_PAST_MEDIAN",
         "rawType": "float64",
         "type": "float"
        },
        {
         "name": "LOG_DAYS_UNTIL_NEXT_HOSP_PAST_STD",
         "rawType": "float64",
         "type": "float"
        },
        {
         "name": "RANDOM_FEATURE",
         "rawType": "float64",
         "type": "float"
        }
       ],
       "ref": "22b80a08-6adf-41f1-bccd-a369efd2b8fb",
       "rows": [
        [
         "count",
         "1412.0",
         "1412.0",
         "1412.0",
         "1412.0",
         "1412.0",
         "1412.0",
         "1412.0",
         "1412.0",
         "1412.0",
         "1412.0",
         "1412.0",
         "1412.0",
         "1412.0"
        ],
        [
         "mean",
         "6.541824054448514e-17",
         "1.3083648108897028e-16",
         "-5.0321723495757804e-17",
         "-5.535389584533358e-17",
         "-1.1573996404024295e-16",
         "36.05949008498584",
         "0.0",
         "4.776003415596522",
         "0.22524197719850417",
         "0.5460339943342776",
         "4.9178000272189335",
         "1.3179077225867348",
         "2.264477557309101e-16"
        ],
        [
         "std",
         "1.0003542958481402",
         "1.0003542958481402",
         "1.0003542958481402",
         "1.0003542958481402",
         "1.00035429584814",
         "17.982884272049592",
         "1.0003542958481404",
         "1.7509091550053018",
         "0.3554618826419148",
         "1.1130333440307887",
         "1.545334929406484",
         "0.588517464906063",
         "1.0003542958481402"
        ],
        [
         "min",
         "-2.658931953808638",
         "-2.1530732619248636",
         "-0.49005662676730144",
         "-1.0657735810460676",
         "-1.826130451095085",
         "0.0",
         "-2.725750023380723",
         "0.7113826764074047",
         "0.0",
         "0.0",
         "0.7113826764074047",
         "0.0061519110387646",
         "-1.6780320145676697"
        ],
        [
         "25%",
         "-0.629320635420798",
         "-0.572137512659181",
         "-0.49005662676730144",
         "-0.7720253287647778",
         "-0.7388947483617923",
         "25.0",
         "-0.8030296527721977",
         "3.422622510666813",
         "0.0",
         "0.0",
         "3.8606571628353987",
         "1.253108085165982",
         "-0.8877848563533001"
        ],
        [
         "50%",
         "0.17022321727744186",
         "-0.17690357534276038",
         "-0.49005662676730144",
         "-0.18452882420219835",
         "-0.204382184006768",
         "34.0",
         "0.165852203184575",
         "4.887052424244729",
         "0.0",
         "0.0",
         "4.953211803995994",
         "1.253108085165982",
         "0.018272011937277472"
        ],
        [
         "75%",
         "0.7852569501222417",
         "0.6135642992900808",
         "0.3075917386452975",
         "0.4029676803603811",
         "0.5080725334799916",
         "45.0",
         "0.8161710528812807",
         "6.241623015416925",
         "0.3333333333333333",
         "1.0",
         "6.164964977251744",
         "1.253108085165982",
         "0.8700647368064381"
        ],
        [
         "max",
         "1.5848008028204816",
         "3.380201860505025",
         "15.064086498778378",
         "5.690436221423596",
         "3.8477198003122535",
         "146.0",
         "1.7028057156753391",
         "8.25273472174209",
         "1.0",
         "22.0",
         "8.25273472174209",
         "4.847057903896346",
         "1.707078975456202"
        ]
       ],
       "shape": {
        "columns": 13,
        "rows": 8
       }
      },
      "text/html": [
       "<div>\n",
       "<style scoped>\n",
       "    .dataframe tbody tr th:only-of-type {\n",
       "        vertical-align: middle;\n",
       "    }\n",
       "\n",
       "    .dataframe tbody tr th {\n",
       "        vertical-align: top;\n",
       "    }\n",
       "\n",
       "    .dataframe thead th {\n",
       "        text-align: right;\n",
       "    }\n",
       "</style>\n",
       "<table border=\"1\" class=\"dataframe\">\n",
       "  <thead>\n",
       "    <tr style=\"text-align: right;\">\n",
       "      <th></th>\n",
       "      <th>AGE</th>\n",
       "      <th>CHARLSON_INDEX</th>\n",
       "      <th>NUM_PREV_HOSPITALIZATIONS</th>\n",
       "      <th>NUM_PROCEDURES</th>\n",
       "      <th>LOG_DAYS_IN_ICU</th>\n",
       "      <th>NUM_DRUGS</th>\n",
       "      <th>LOG_PARTICIPATION_DAYS</th>\n",
       "      <th>LOG_DAYS_SINCE_LAST_HOSPITALIZATION</th>\n",
       "      <th>READM_30_DAYS_PAST_MEAN</th>\n",
       "      <th>READM_30_DAYS_PAST_SUM</th>\n",
       "      <th>LOG_DAYS_UNTIL_NEXT_HOSP_PAST_MEDIAN</th>\n",
       "      <th>LOG_DAYS_UNTIL_NEXT_HOSP_PAST_STD</th>\n",
       "      <th>RANDOM_FEATURE</th>\n",
       "    </tr>\n",
       "  </thead>\n",
       "  <tbody>\n",
       "    <tr>\n",
       "      <th>count</th>\n",
       "      <td>1.412000e+03</td>\n",
       "      <td>1.412000e+03</td>\n",
       "      <td>1.412000e+03</td>\n",
       "      <td>1.412000e+03</td>\n",
       "      <td>1.412000e+03</td>\n",
       "      <td>1412.000000</td>\n",
       "      <td>1412.000000</td>\n",
       "      <td>1412.000000</td>\n",
       "      <td>1412.000000</td>\n",
       "      <td>1412.000000</td>\n",
       "      <td>1412.000000</td>\n",
       "      <td>1412.000000</td>\n",
       "      <td>1.412000e+03</td>\n",
       "    </tr>\n",
       "    <tr>\n",
       "      <th>mean</th>\n",
       "      <td>6.541824e-17</td>\n",
       "      <td>1.308365e-16</td>\n",
       "      <td>-5.032172e-17</td>\n",
       "      <td>-5.535390e-17</td>\n",
       "      <td>-1.157400e-16</td>\n",
       "      <td>36.059490</td>\n",
       "      <td>0.000000</td>\n",
       "      <td>4.776003</td>\n",
       "      <td>0.225242</td>\n",
       "      <td>0.546034</td>\n",
       "      <td>4.917800</td>\n",
       "      <td>1.317908</td>\n",
       "      <td>2.264478e-16</td>\n",
       "    </tr>\n",
       "    <tr>\n",
       "      <th>std</th>\n",
       "      <td>1.000354e+00</td>\n",
       "      <td>1.000354e+00</td>\n",
       "      <td>1.000354e+00</td>\n",
       "      <td>1.000354e+00</td>\n",
       "      <td>1.000354e+00</td>\n",
       "      <td>17.982884</td>\n",
       "      <td>1.000354</td>\n",
       "      <td>1.750909</td>\n",
       "      <td>0.355462</td>\n",
       "      <td>1.113033</td>\n",
       "      <td>1.545335</td>\n",
       "      <td>0.588517</td>\n",
       "      <td>1.000354e+00</td>\n",
       "    </tr>\n",
       "    <tr>\n",
       "      <th>min</th>\n",
       "      <td>-2.658932e+00</td>\n",
       "      <td>-2.153073e+00</td>\n",
       "      <td>-4.900566e-01</td>\n",
       "      <td>-1.065774e+00</td>\n",
       "      <td>-1.826130e+00</td>\n",
       "      <td>0.000000</td>\n",
       "      <td>-2.725750</td>\n",
       "      <td>0.711383</td>\n",
       "      <td>0.000000</td>\n",
       "      <td>0.000000</td>\n",
       "      <td>0.711383</td>\n",
       "      <td>0.006152</td>\n",
       "      <td>-1.678032e+00</td>\n",
       "    </tr>\n",
       "    <tr>\n",
       "      <th>25%</th>\n",
       "      <td>-6.293206e-01</td>\n",
       "      <td>-5.721375e-01</td>\n",
       "      <td>-4.900566e-01</td>\n",
       "      <td>-7.720253e-01</td>\n",
       "      <td>-7.388947e-01</td>\n",
       "      <td>25.000000</td>\n",
       "      <td>-0.803030</td>\n",
       "      <td>3.422623</td>\n",
       "      <td>0.000000</td>\n",
       "      <td>0.000000</td>\n",
       "      <td>3.860657</td>\n",
       "      <td>1.253108</td>\n",
       "      <td>-8.877849e-01</td>\n",
       "    </tr>\n",
       "    <tr>\n",
       "      <th>50%</th>\n",
       "      <td>1.702232e-01</td>\n",
       "      <td>-1.769036e-01</td>\n",
       "      <td>-4.900566e-01</td>\n",
       "      <td>-1.845288e-01</td>\n",
       "      <td>-2.043822e-01</td>\n",
       "      <td>34.000000</td>\n",
       "      <td>0.165852</td>\n",
       "      <td>4.887052</td>\n",
       "      <td>0.000000</td>\n",
       "      <td>0.000000</td>\n",
       "      <td>4.953212</td>\n",
       "      <td>1.253108</td>\n",
       "      <td>1.827201e-02</td>\n",
       "    </tr>\n",
       "    <tr>\n",
       "      <th>75%</th>\n",
       "      <td>7.852570e-01</td>\n",
       "      <td>6.135643e-01</td>\n",
       "      <td>3.075917e-01</td>\n",
       "      <td>4.029677e-01</td>\n",
       "      <td>5.080725e-01</td>\n",
       "      <td>45.000000</td>\n",
       "      <td>0.816171</td>\n",
       "      <td>6.241623</td>\n",
       "      <td>0.333333</td>\n",
       "      <td>1.000000</td>\n",
       "      <td>6.164965</td>\n",
       "      <td>1.253108</td>\n",
       "      <td>8.700647e-01</td>\n",
       "    </tr>\n",
       "    <tr>\n",
       "      <th>max</th>\n",
       "      <td>1.584801e+00</td>\n",
       "      <td>3.380202e+00</td>\n",
       "      <td>1.506409e+01</td>\n",
       "      <td>5.690436e+00</td>\n",
       "      <td>3.847720e+00</td>\n",
       "      <td>146.000000</td>\n",
       "      <td>1.702806</td>\n",
       "      <td>8.252735</td>\n",
       "      <td>1.000000</td>\n",
       "      <td>22.000000</td>\n",
       "      <td>8.252735</td>\n",
       "      <td>4.847058</td>\n",
       "      <td>1.707079e+00</td>\n",
       "    </tr>\n",
       "  </tbody>\n",
       "</table>\n",
       "</div>"
      ],
      "text/plain": [
       "                AGE  CHARLSON_INDEX  NUM_PREV_HOSPITALIZATIONS  \\\n",
       "count  1.412000e+03    1.412000e+03               1.412000e+03   \n",
       "mean   6.541824e-17    1.308365e-16              -5.032172e-17   \n",
       "std    1.000354e+00    1.000354e+00               1.000354e+00   \n",
       "min   -2.658932e+00   -2.153073e+00              -4.900566e-01   \n",
       "25%   -6.293206e-01   -5.721375e-01              -4.900566e-01   \n",
       "50%    1.702232e-01   -1.769036e-01              -4.900566e-01   \n",
       "75%    7.852570e-01    6.135643e-01               3.075917e-01   \n",
       "max    1.584801e+00    3.380202e+00               1.506409e+01   \n",
       "\n",
       "       NUM_PROCEDURES  LOG_DAYS_IN_ICU    NUM_DRUGS  LOG_PARTICIPATION_DAYS  \\\n",
       "count    1.412000e+03     1.412000e+03  1412.000000             1412.000000   \n",
       "mean    -5.535390e-17    -1.157400e-16    36.059490                0.000000   \n",
       "std      1.000354e+00     1.000354e+00    17.982884                1.000354   \n",
       "min     -1.065774e+00    -1.826130e+00     0.000000               -2.725750   \n",
       "25%     -7.720253e-01    -7.388947e-01    25.000000               -0.803030   \n",
       "50%     -1.845288e-01    -2.043822e-01    34.000000                0.165852   \n",
       "75%      4.029677e-01     5.080725e-01    45.000000                0.816171   \n",
       "max      5.690436e+00     3.847720e+00   146.000000                1.702806   \n",
       "\n",
       "       LOG_DAYS_SINCE_LAST_HOSPITALIZATION  READM_30_DAYS_PAST_MEAN  \\\n",
       "count                          1412.000000              1412.000000   \n",
       "mean                              4.776003                 0.225242   \n",
       "std                               1.750909                 0.355462   \n",
       "min                               0.711383                 0.000000   \n",
       "25%                               3.422623                 0.000000   \n",
       "50%                               4.887052                 0.000000   \n",
       "75%                               6.241623                 0.333333   \n",
       "max                               8.252735                 1.000000   \n",
       "\n",
       "       READM_30_DAYS_PAST_SUM  LOG_DAYS_UNTIL_NEXT_HOSP_PAST_MEDIAN  \\\n",
       "count             1412.000000                           1412.000000   \n",
       "mean                 0.546034                              4.917800   \n",
       "std                  1.113033                              1.545335   \n",
       "min                  0.000000                              0.711383   \n",
       "25%                  0.000000                              3.860657   \n",
       "50%                  0.000000                              4.953212   \n",
       "75%                  1.000000                              6.164965   \n",
       "max                 22.000000                              8.252735   \n",
       "\n",
       "       LOG_DAYS_UNTIL_NEXT_HOSP_PAST_STD  RANDOM_FEATURE  \n",
       "count                        1412.000000    1.412000e+03  \n",
       "mean                            1.317908    2.264478e-16  \n",
       "std                             0.588517    1.000354e+00  \n",
       "min                             0.006152   -1.678032e+00  \n",
       "25%                             1.253108   -8.877849e-01  \n",
       "50%                             1.253108    1.827201e-02  \n",
       "75%                             1.253108    8.700647e-01  \n",
       "max                             4.847058    1.707079e+00  "
      ]
     },
     "execution_count": 10,
     "metadata": {},
     "output_type": "execute_result"
    }
   ],
   "source": [
    "X_train_scaled.describe()"
   ]
  },
  {
   "cell_type": "markdown",
   "id": "8bdf2595",
   "metadata": {},
   "source": [
    "## Models"
   ]
  },
  {
   "cell_type": "code",
   "execution_count": 11,
   "id": "dba54009",
   "metadata": {},
   "outputs": [],
   "source": [
    "from recurrent_health_events_prediction.training.train_traditional_classifier import train_test_classifier\n",
    "\n",
    "y_pred_proba_dict, y_pred_dict = {}, {}"
   ]
  },
  {
   "cell_type": "markdown",
   "id": "dcd917a8",
   "metadata": {},
   "source": [
    "### Logistic Regression"
   ]
  },
  {
   "cell_type": "code",
   "execution_count": 12,
   "id": "e516827a",
   "metadata": {},
   "outputs": [
    {
     "name": "stdout",
     "output_type": "stream",
     "text": [
      "\n",
      "Training Logistic Regression with hyperparameter search...\n"
     ]
    },
    {
     "name": "stdout",
     "output_type": "stream",
     "text": [
      "Train AUC for best Logistic Regression:  0.6345003989536306\n",
      "Best threshold for F1 score in train set: 0.2546 with F1: 0.4646\n",
      "20 candidates of Logistic regression trained and validated with cross-validation on 5 folds.\n",
      "Best parameters: {'solver': 'liblinear', 'penalty': 'l2', 'fit_intercept': False, 'C': np.float64(0.007220809018385471)}\n",
      "Validation Score - Logistic regression: 0.608 ± 0.042\n",
      "Logistic Regression model evaluation:\n",
      "AUC:  0.6092609680395938\n",
      "F1 Score: 0.3986\n",
      "Recall: 0.6374\n",
      "Accuracy: 0.5042\n",
      "Precision: 0.2900\n"
     ]
    },
    {
     "data": {
      "image/png": "[encoded data removed]",
      "text/plain": [
       "<Figure size 1000x600 with 1 Axes>"
      ]
     },
     "metadata": {},
     "output_type": "display_data"
    },
    {
     "name": "stdout",
     "output_type": "stream",
     "text": [
      "Calculating SHAP values for 1412 samples...\n"
     ]
    },
    {
     "data": {
      "image/png": "[encoded data removed]",
      "text/plain": [
       "<Figure size 800x950 with 2 Axes>"
      ]
     },
     "metadata": {},
     "output_type": "display_data"
    },
    {
     "name": "stdout",
     "output_type": "stream",
     "text": [
      "Finished training and evaluation of Logistic Regression.\n",
      "\n"
     ]
    }
   ],
   "source": [
    "# ===== Logistic Regression =====\n",
    "from sklearn.linear_model import LogisticRegression\n",
    "\n",
    "if \"logistic_regression\" in models_to_train:\n",
    "    additional_params: dict = model_config.get(\"log_reg\", {}).get(\"additional_params\", {})\n",
    "    logreg_model = LogisticRegression(random_state=random_state, **additional_params)\n",
    "\n",
    "    param_distributions = model_config[\"logistic_regression\"][\"param_distributions\"]\n",
    "    param_distributions[\"C\"] = np.logspace(-4, 4, 100)  # 100 values between 1e-4 and 1e4\n",
    "    rand_search_config = model_config[\"logistic_regression\"][\"rand_search_config\"]\n",
    "\n",
    "    y_pred_proba_logreg, y_pred_logreg, eval_results_logreg, cv_search_results_logreg = train_test_classifier(\n",
    "        logreg_model,\n",
    "        \"Logistic Regression\",\n",
    "        X_train_scaled,\n",
    "        y_train,\n",
    "        X_test_scaled,\n",
    "        y_test,\n",
    "        param_distributions,\n",
    "        rand_search_config,\n",
    "        neptune_run=None,\n",
    "        verbose=True,\n",
    "        plot_shap=plot_shap,\n",
    "        random_state=random_state,\n",
    "        class_names=class_names,\n",
    "        show_plots=True,\n",
    "    )\n",
    "    y_pred_proba_dict[\"logreg\"], y_pred_dict[\"logreg\"] = y_pred_proba_logreg, y_pred_logreg\n"
   ]
  },
  {
   "cell_type": "code",
   "execution_count": 13,
   "id": "f6256a48",
   "metadata": {},
   "outputs": [
    {
     "data": {
      "application/vnd.plotly.v1+json": {
       "config": {
        "plotlyServerURL": "https://plot.ly"
       },
       "data": [
        {
         "bingroup": "x",
         "hovertemplate": "class=No Readmission<br>Predicted Probability=%{x}<br>count=%{y}<extra></extra>",
         "legendgroup": "No Readmission",
         "marker": {
          "color": "#636efa",
          "opacity": 0.5,
          "pattern": {
           "shape": ""
          }
         },
         "name": "No Readmission",
         "nbinsx": 50,
         "orientation": "v",
         "showlegend": true,
         "type": "histogram",
         "x": {
          "bdata": "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",
          "dtype": "f8"
         },
         "xaxis": "x",
         "yaxis": "y"
        },
        {
         "bingroup": "x",
         "hovertemplate": "class=Readmission<br>Predicted Probability=%{x}<br>count=%{y}<extra></extra>",
         "legendgroup": "Readmission",
         "marker": {
          "color": "#EF553B",
          "opacity": 0.5,
          "pattern": {
           "shape": ""
          }
         },
         "name": "Readmission",
         "nbinsx": 50,
         "orientation": "v",
         "showlegend": true,
         "type": "histogram",
         "x": {
          "bdata": "yVNALrhq0j9xdR9gLjLWP71zUXWXYdg/fzle+PRrzz8MXPMI3HDgP85oOkcz78Y/bR6jOJ1r4D98qZ16udnDPy1DY9ZQ8cA/rwblkKsK1D+bOvK34mbSP5uBq0vmj9Y/0jrIpZxkyz+PD/nfxcvgP8IequMUINQ/UB2IjYt20T8Im1nXYRPhPzdoYRrsL9U/V9SQYn6fzT9z41/7at3LP8GMR6BjHNA/ytzAMvZ12D8sVVBexEPXPyA+/C4HldA/yiowVGq93D8nz6J1aqTVP+mDE2bDSc4/GglAflxb2z/6RHWsi57RP95k6RkBvtM/WGZTEN2zzT+fETNndFXXP3C06cRr484/r3FNyGbm2D94pxQ+Co3KP+Sv+9UXydc/jCElE9BB0z+ot4Ed93vdP2iJrnLxXtA/7tk9+5vpyT+R4YAr11jGP94XTG50H9A/fC9l7iWQ1z/UmRc431DNP8yZmsczZdo/ASH3xlSRzD+w+OMT2OPWP2QOqfv+qM4/9EzsLvFxwT/YCpxITnTHP594/I+N1do/TcvcTLIY1D+yTnbHo5PTPyW1K434t9Y/WFBxvVKK1z+v9V3iyXXSP2cpq6hKjtY/GaGzKH4d0D8UBeel8czcP2vBGOgMa8g/CkhenXMB1z/fbn719GXEP6TTs1edeMw/n0hHuQdw1j/WQQy4PvjcPwhkAhKB59Y/eE49Iugx1D+yo8YorjHKP9g/xY5ctdg/0ln9bNcUyD+gv4skAqXXP1JsgMhr19A/oKHwgmQw3z8QGpMzG4XRPzexLIZ9Isw/I4DnSSCA0z/DWFVSBezJP3kRBJymidA/1NY2DO8J1T/D85j7ZuDYP8r8wpvL5tY/v29IggUm0D8tx+KkyVraPzWxFDx6KNY//sPErT2dzT8E+anjhU3WP1YwChP0y88/TC7sLUsI1j+Phmg/BVrGP9XLlTEkk8w/oBiIg7Vb2j8=",
          "dtype": "f8"
         },
         "xaxis": "x",
         "yaxis": "y"
        }
       ],
       "layout": {
        "barmode": "overlay",
        "height": 400,
        "legend": {
         "title": {
          "text": "class"
         },
         "tracegroupgap": 0
        },
        "template": {
         "data": {
          "bar": [
           {
            "error_x": {
             "color": "#2a3f5f"
            },
            "error_y": {
             "color": "#2a3f5f"
            },
            "marker": {
             "line": {
              "color": "white",
              "width": 0.5
             },
             "pattern": {
              "fillmode": "overlay",
              "size": 10,
              "solidity": 0.2
             }
            },
            "type": "bar"
           }
          ],
          "barpolar": [
           {
            "marker": {
             "line": {
              "color": "white",
              "width": 0.5
             },
             "pattern": {
              "fillmode": "overlay",
              "size": 10,
              "solidity": 0.2
             }
            },
            "type": "barpolar"
           }
          ],
          "carpet": [
           {
            "aaxis": {
             "endlinecolor": "#2a3f5f",
             "gridcolor": "#C8D4E3",
             "linecolor": "#C8D4E3",
             "minorgridcolor": "#C8D4E3",
             "startlinecolor": "#2a3f5f"
            },
            "baxis": {
             "endlinecolor": "#2a3f5f",
             "gridcolor": "#C8D4E3",
             "linecolor": "#C8D4E3",
             "minorgridcolor": "#C8D4E3",
             "startlinecolor": "#2a3f5f"
            },
            "type": "carpet"
           }
          ],
          "choropleth": [
           {
            "colorbar": {
             "outlinewidth": 0,
             "ticks": ""
            },
            "type": "choropleth"
           }
          ],
          "contour": [
           {
            "colorbar": {
             "outlinewidth": 0,
             "ticks": ""
            },
            "colorscale": [
             [
              0,
              "#0d0887"
             ],
             [
              0.1111111111111111,
              "#46039f"
             ],
             [
              0.2222222222222222,
              "#7201a8"
             ],
             [
              0.3333333333333333,
              "#9c179e"
             ],
             [
              0.4444444444444444,
              "#bd3786"
             ],
             [
              0.5555555555555556,
              "#d8576b"
             ],
             [
              0.6666666666666666,
              "#ed7953"
             ],
             [
              0.7777777777777778,
              "#fb9f3a"
             ],
             [
              0.8888888888888888,
              "#fdca26"
             ],
             [
              1,
              "#f0f921"
             ]
            ],
            "type": "contour"
           }
          ],
          "contourcarpet": [
           {
            "colorbar": {
             "outlinewidth": 0,
             "ticks": ""
            },
            "type": "contourcarpet"
           }
          ],
          "heatmap": [
           {
            "colorbar": {
             "outlinewidth": 0,
             "ticks": ""
            },
            "colorscale": [
             [
              0,
              "#0d0887"
             ],
             [
              0.1111111111111111,
              "#46039f"
             ],
             [
              0.2222222222222222,
              "#7201a8"
             ],
             [
              0.3333333333333333,
              "#9c179e"
             ],
             [
              0.4444444444444444,
              "#bd3786"
             ],
             [
              0.5555555555555556,
              "#d8576b"
             ],
             [
              0.6666666666666666,
              "#ed7953"
             ],
             [
              0.7777777777777778,
              "#fb9f3a"
             ],
             [
              0.8888888888888888,
              "#fdca26"
             ],
             [
              1,
              "#f0f921"
             ]
            ],
            "type": "heatmap"
           }
          ],
          "histogram": [
           {
            "marker": {
             "pattern": {
              "fillmode": "overlay",
              "size": 10,
              "solidity": 0.2
             }
            },
            "type": "histogram"
           }
          ],
          "histogram2d": [
           {
            "colorbar": {
             "outlinewidth": 0,
             "ticks": ""
            },
            "colorscale": [
             [
              0,
              "#0d0887"
             ],
             [
              0.1111111111111111,
              "#46039f"
             ],
             [
              0.2222222222222222,
              "#7201a8"
             ],
             [
              0.3333333333333333,
              "#9c179e"
             ],
             [
              0.4444444444444444,
              "#bd3786"
             ],
             [
              0.5555555555555556,
              "#d8576b"
             ],
             [
              0.6666666666666666,
              "#ed7953"
             ],
             [
              0.7777777777777778,
              "#fb9f3a"
             ],
             [
              0.8888888888888888,
              "#fdca26"
             ],
             [
              1,
              "#f0f921"
             ]
            ],
            "type": "histogram2d"
           }
          ],
          "histogram2dcontour": [
           {
            "colorbar": {
             "outlinewidth": 0,
             "ticks": ""
            },
            "colorscale": [
             [
              0,
              "#0d0887"
             ],
             [
              0.1111111111111111,
              "#46039f"
             ],
             [
              0.2222222222222222,
              "#7201a8"
             ],
             [
              0.3333333333333333,
              "#9c179e"
             ],
             [
              0.4444444444444444,
              "#bd3786"
             ],
             [
              0.5555555555555556,
              "#d8576b"
             ],
             [
              0.6666666666666666,
              "#ed7953"
             ],
             [
              0.7777777777777778,
              "#fb9f3a"
             ],
             [
              0.8888888888888888,
              "#fdca26"
             ],
             [
              1,
              "#f0f921"
             ]
            ],
            "type": "histogram2dcontour"
           }
          ],
          "mesh3d": [
           {
            "colorbar": {
             "outlinewidth": 0,
             "ticks": ""
            },
            "type": "mesh3d"
           }
          ],
          "parcoords": [
           {
            "line": {
             "colorbar": {
              "outlinewidth": 0,
              "ticks": ""
             }
            },
            "type": "parcoords"
           }
          ],
          "pie": [
           {
            "automargin": true,
            "type": "pie"
           }
          ],
          "scatter": [
           {
            "fillpattern": {
             "fillmode": "overlay",
             "size": 10,
             "solidity": 0.2
            },
            "type": "scatter"
           }
          ],
          "scatter3d": [
           {
            "line": {
             "colorbar": {
              "outlinewidth": 0,
              "ticks": ""
             }
            },
            "marker": {
             "colorbar": {
              "outlinewidth": 0,
              "ticks": ""
             }
            },
            "type": "scatter3d"
           }
          ],
          "scattercarpet": [
           {
            "marker": {
             "colorbar": {
              "outlinewidth": 0,
              "ticks": ""
             }
            },
            "type": "scattercarpet"
           }
          ],
          "scattergeo": [
           {
            "marker": {
             "colorbar": {
              "outlinewidth": 0,
              "ticks": ""
             }
            },
            "type": "scattergeo"
           }
          ],
          "scattergl": [
           {
            "marker": {
             "colorbar": {
              "outlinewidth": 0,
              "ticks": ""
             }
            },
            "type": "scattergl"
           }
          ],
          "scattermap": [
           {
            "marker": {
             "colorbar": {
              "outlinewidth": 0,
              "ticks": ""
             }
            },
            "type": "scattermap"
           }
          ],
          "scattermapbox": [
           {
            "marker": {
             "colorbar": {
              "outlinewidth": 0,
              "ticks": ""
             }
            },
            "type": "scattermapbox"
           }
          ],
          "scatterpolar": [
           {
            "marker": {
             "colorbar": {
              "outlinewidth": 0,
              "ticks": ""
             }
            },
            "type": "scatterpolar"
           }
          ],
          "scatterpolargl": [
           {
            "marker": {
             "colorbar": {
              "outlinewidth": 0,
              "ticks": ""
             }
            },
            "type": "scatterpolargl"
           }
          ],
          "scatterternary": [
           {
            "marker": {
             "colorbar": {
              "outlinewidth": 0,
              "ticks": ""
             }
            },
            "type": "scatterternary"
           }
          ],
          "surface": [
           {
            "colorbar": {
             "outlinewidth": 0,
             "ticks": ""
            },
            "colorscale": [
             [
              0,
              "#0d0887"
             ],
             [
              0.1111111111111111,
              "#46039f"
             ],
             [
              0.2222222222222222,
              "#7201a8"
             ],
             [
              0.3333333333333333,
              "#9c179e"
             ],
             [
              0.4444444444444444,
              "#bd3786"
             ],
             [
              0.5555555555555556,
              "#d8576b"
             ],
             [
              0.6666666666666666,
              "#ed7953"
             ],
             [
              0.7777777777777778,
              "#fb9f3a"
             ],
             [
              0.8888888888888888,
              "#fdca26"
             ],
             [
              1,
              "#f0f921"
             ]
            ],
            "type": "surface"
           }
          ],
          "table": [
           {
            "cells": {
             "fill": {
              "color": "#EBF0F8"
             },
             "line": {
              "color": "white"
             }
            },
            "header": {
             "fill": {
              "color": "#C8D4E3"
             },
             "line": {
              "color": "white"
             }
            },
            "type": "table"
           }
          ]
         },
         "layout": {
          "annotationdefaults": {
           "arrowcolor": "#2a3f5f",
           "arrowhead": 0,
           "arrowwidth": 1
          },
          "autotypenumbers": "strict",
          "coloraxis": {
           "colorbar": {
            "outlinewidth": 0,
            "ticks": ""
           }
          },
          "colorscale": {
           "diverging": [
            [
             0,
             "#8e0152"
            ],
            [
             0.1,
             "#c51b7d"
            ],
            [
             0.2,
             "#de77ae"
            ],
            [
             0.3,
             "#f1b6da"
            ],
            [
             0.4,
             "#fde0ef"
            ],
            [
             0.5,
             "#f7f7f7"
            ],
            [
             0.6,
             "#e6f5d0"
            ],
            [
             0.7,
             "#b8e186"
            ],
            [
             0.8,
             "#7fbc41"
            ],
            [
             0.9,
             "#4d9221"
            ],
            [
             1,
             "#276419"
            ]
           ],
           "sequential": [
            [
             0,
             "#0d0887"
            ],
            [
             0.1111111111111111,
             "#46039f"
            ],
            [
             0.2222222222222222,
             "#7201a8"
            ],
            [
             0.3333333333333333,
             "#9c179e"
            ],
            [
             0.4444444444444444,
             "#bd3786"
            ],
            [
             0.5555555555555556,
             "#d8576b"
            ],
            [
             0.6666666666666666,
             "#ed7953"
            ],
            [
             0.7777777777777778,
             "#fb9f3a"
            ],
            [
             0.8888888888888888,
             "#fdca26"
            ],
            [
             1,
             "#f0f921"
            ]
           ],
           "sequentialminus": [
            [
             0,
             "#0d0887"
            ],
            [
             0.1111111111111111,
             "#46039f"
            ],
            [
             0.2222222222222222,
             "#7201a8"
            ],
            [
             0.3333333333333333,
             "#9c179e"
            ],
            [
             0.4444444444444444,
             "#bd3786"
            ],
            [
             0.5555555555555556,
             "#d8576b"
            ],
            [
             0.6666666666666666,
             "#ed7953"
            ],
            [
             0.7777777777777778,
             "#fb9f3a"
            ],
            [
             0.8888888888888888,
             "#fdca26"
            ],
            [
             1,
             "#f0f921"
            ]
           ]
          },
          "colorway": [
           "#636efa",
           "#EF553B",
           "#00cc96",
           "#ab63fa",
           "#FFA15A",
           "#19d3f3",
           "#FF6692",
           "#B6E880",
           "#FF97FF",
           "#FECB52"
          ],
          "font": {
           "color": "#2a3f5f"
          },
          "geo": {
           "bgcolor": "white",
           "lakecolor": "white",
           "landcolor": "white",
           "showlakes": true,
           "showland": true,
           "subunitcolor": "#C8D4E3"
          },
          "hoverlabel": {
           "align": "left"
          },
          "hovermode": "closest",
          "mapbox": {
           "style": "light"
          },
          "paper_bgcolor": "white",
          "plot_bgcolor": "white",
          "polar": {
           "angularaxis": {
            "gridcolor": "#EBF0F8",
            "linecolor": "#EBF0F8",
            "ticks": ""
           },
           "bgcolor": "white",
           "radialaxis": {
            "gridcolor": "#EBF0F8",
            "linecolor": "#EBF0F8",
            "ticks": ""
           }
          },
          "scene": {
           "xaxis": {
            "backgroundcolor": "white",
            "gridcolor": "#DFE8F3",
            "gridwidth": 2,
            "linecolor": "#EBF0F8",
            "showbackground": true,
            "ticks": "",
            "zerolinecolor": "#EBF0F8"
           },
           "yaxis": {
            "backgroundcolor": "white",
            "gridcolor": "#DFE8F3",
            "gridwidth": 2,
            "linecolor": "#EBF0F8",
            "showbackground": true,
            "ticks": "",
            "zerolinecolor": "#EBF0F8"
           },
           "zaxis": {
            "backgroundcolor": "white",
            "gridcolor": "#DFE8F3",
            "gridwidth": 2,
            "linecolor": "#EBF0F8",
            "showbackground": true,
            "ticks": "",
            "zerolinecolor": "#EBF0F8"
           }
          },
          "shapedefaults": {
           "line": {
            "color": "#2a3f5f"
           }
          },
          "ternary": {
           "aaxis": {
            "gridcolor": "#DFE8F3",
            "linecolor": "#A2B1C6",
            "ticks": ""
           },
           "baxis": {
            "gridcolor": "#DFE8F3",
            "linecolor": "#A2B1C6",
            "ticks": ""
           },
           "bgcolor": "white",
           "caxis": {
            "gridcolor": "#DFE8F3",
            "linecolor": "#A2B1C6",
            "ticks": ""
           }
          },
          "title": {
           "x": 0.05
          },
          "xaxis": {
           "automargin": true,
           "gridcolor": "#EBF0F8",
           "linecolor": "#EBF0F8",
           "ticks": "",
           "title": {
            "standoff": 15
           },
           "zerolinecolor": "#EBF0F8",
           "zerolinewidth": 2
          },
          "yaxis": {
           "automargin": true,
           "gridcolor": "#EBF0F8",
           "linecolor": "#EBF0F8",
           "ticks": "",
           "title": {
            "standoff": 15
           },
           "zerolinecolor": "#EBF0F8",
           "zerolinewidth": 2
          }
         }
        },
        "title": {
         "text": "Histogram of Predicted Probabilities by True Labels - Logistic Regression"
        },
        "width": 800,
        "xaxis": {
         "anchor": "y",
         "domain": [
          0,
          1
         ],
         "title": {
          "text": "Predicted Probability"
         }
        },
        "yaxis": {
         "anchor": "x",
         "domain": [
          0,
          1
         ],
         "title": {
          "text": "count"
         }
        }
       }
      }
     },
     "metadata": {},
     "output_type": "display_data"
    }
   ],
   "source": [
    "from recurrent_health_events_prediction.training.utils import plot_pred_proba_distribution\n",
    "\n",
    "fig_hist = plot_pred_proba_distribution(y_test, y_pred_proba_logreg, show_plot=False, class_names=class_names_dict)\n",
    "\n",
    "fig_hist.update_layout(template=\"plotly_white\", title =\"Histogram of Predicted Probabilities by True Labels - Logistic Regression\")\n",
    "fig_hist.show()"
   ]
  },
  {
   "cell_type": "code",
   "execution_count": 14,
   "id": "7cdaba97",
   "metadata": {},
   "outputs": [
    {
     "data": {
      "application/vnd.plotly.v1+json": {
       "config": {
        "plotlyServerURL": "https://plot.ly"
       },
       "data": [
        {
         "mode": "lines+markers",
         "name": "Calibration Curve",
         "type": "scatter",
         "x": {
          "bdata": "5AdZQDFGxj+5JLrjHxjSPwZwZPGYat0/",
          "dtype": "f8"
         },
         "y": {
          "bdata": "QnsJ7SW0xz8BXT1AVw/QPwAAAAAAANw/",
          "dtype": "f8"
         }
        },
        {
         "line": {
          "dash": "dash"
         },
         "mode": "lines",
         "name": "Perfectly Calibrated",
         "type": "scatter",
         "x": [
          0,
          1
         ],
         "y": [
          0,
          1
         ]
        }
       ],
       "layout": {
        "height": 400,
        "legend": {
         "title": {
          "text": "Legend"
         }
        },
        "template": {
         "data": {
          "bar": [
           {
            "error_x": {
             "color": "#2a3f5f"
            },
            "error_y": {
             "color": "#2a3f5f"
            },
            "marker": {
             "line": {
              "color": "white",
              "width": 0.5
             },
             "pattern": {
              "fillmode": "overlay",
              "size": 10,
              "solidity": 0.2
             }
            },
            "type": "bar"
           }
          ],
          "barpolar": [
           {
            "marker": {
             "line": {
              "color": "white",
              "width": 0.5
             },
             "pattern": {
              "fillmode": "overlay",
              "size": 10,
              "solidity": 0.2
             }
            },
            "type": "barpolar"
           }
          ],
          "carpet": [
           {
            "aaxis": {
             "endlinecolor": "#2a3f5f",
             "gridcolor": "#C8D4E3",
             "linecolor": "#C8D4E3",
             "minorgridcolor": "#C8D4E3",
             "startlinecolor": "#2a3f5f"
            },
            "baxis": {
             "endlinecolor": "#2a3f5f",
             "gridcolor": "#C8D4E3",
             "linecolor": "#C8D4E3",
             "minorgridcolor": "#C8D4E3",
             "startlinecolor": "#2a3f5f"
            },
            "type": "carpet"
           }
          ],
          "choropleth": [
           {
            "colorbar": {
             "outlinewidth": 0,
             "ticks": ""
            },
            "type": "choropleth"
           }
          ],
          "contour": [
           {
            "colorbar": {
             "outlinewidth": 0,
             "ticks": ""
            },
            "colorscale": [
             [
              0,
              "#0d0887"
             ],
             [
              0.1111111111111111,
              "#46039f"
             ],
             [
              0.2222222222222222,
              "#7201a8"
             ],
             [
              0.3333333333333333,
              "#9c179e"
             ],
             [
              0.4444444444444444,
              "#bd3786"
             ],
             [
              0.5555555555555556,
              "#d8576b"
             ],
             [
              0.6666666666666666,
              "#ed7953"
             ],
             [
              0.7777777777777778,
              "#fb9f3a"
             ],
             [
              0.8888888888888888,
              "#fdca26"
             ],
             [
              1,
              "#f0f921"
             ]
            ],
            "type": "contour"
           }
          ],
          "contourcarpet": [
           {
            "colorbar": {
             "outlinewidth": 0,
             "ticks": ""
            },
            "type": "contourcarpet"
           }
          ],
          "heatmap": [
           {
            "colorbar": {
             "outlinewidth": 0,
             "ticks": ""
            },
            "colorscale": [
             [
              0,
              "#0d0887"
             ],
             [
              0.1111111111111111,
              "#46039f"
             ],
             [
              0.2222222222222222,
              "#7201a8"
             ],
             [
              0.3333333333333333,
              "#9c179e"
             ],
             [
              0.4444444444444444,
              "#bd3786"
             ],
             [
              0.5555555555555556,
              "#d8576b"
             ],
             [
              0.6666666666666666,
              "#ed7953"
             ],
             [
              0.7777777777777778,
              "#fb9f3a"
             ],
             [
              0.8888888888888888,
              "#fdca26"
             ],
             [
              1,
              "#f0f921"
             ]
            ],
            "type": "heatmap"
           }
          ],
          "histogram": [
           {
            "marker": {
             "pattern": {
              "fillmode": "overlay",
              "size": 10,
              "solidity": 0.2
             }
            },
            "type": "histogram"
           }
          ],
          "histogram2d": [
           {
            "colorbar": {
             "outlinewidth": 0,
             "ticks": ""
            },
            "colorscale": [
             [
              0,
              "#0d0887"
             ],
             [
              0.1111111111111111,
              "#46039f"
             ],
             [
              0.2222222222222222,
              "#7201a8"
             ],
             [
              0.3333333333333333,
              "#9c179e"
             ],
             [
              0.4444444444444444,
              "#bd3786"
             ],
             [
              0.5555555555555556,
              "#d8576b"
             ],
             [
              0.6666666666666666,
              "#ed7953"
             ],
             [
              0.7777777777777778,
              "#fb9f3a"
             ],
             [
              0.8888888888888888,
              "#fdca26"
             ],
             [
              1,
              "#f0f921"
             ]
            ],
            "type": "histogram2d"
           }
          ],
          "histogram2dcontour": [
           {
            "colorbar": {
             "outlinewidth": 0,
             "ticks": ""
            },
            "colorscale": [
             [
              0,
              "#0d0887"
             ],
             [
              0.1111111111111111,
              "#46039f"
             ],
             [
              0.2222222222222222,
              "#7201a8"
             ],
             [
              0.3333333333333333,
              "#9c179e"
             ],
             [
              0.4444444444444444,
              "#bd3786"
             ],
             [
              0.5555555555555556,
              "#d8576b"
             ],
             [
              0.6666666666666666,
              "#ed7953"
             ],
             [
              0.7777777777777778,
              "#fb9f3a"
             ],
             [
              0.8888888888888888,
              "#fdca26"
             ],
             [
              1,
              "#f0f921"
             ]
            ],
            "type": "histogram2dcontour"
           }
          ],
          "mesh3d": [
           {
            "colorbar": {
             "outlinewidth": 0,
             "ticks": ""
            },
            "type": "mesh3d"
           }
          ],
          "parcoords": [
           {
            "line": {
             "colorbar": {
              "outlinewidth": 0,
              "ticks": ""
             }
            },
            "type": "parcoords"
           }
          ],
          "pie": [
           {
            "automargin": true,
            "type": "pie"
           }
          ],
          "scatter": [
           {
            "fillpattern": {
             "fillmode": "overlay",
             "size": 10,
             "solidity": 0.2
            },
            "type": "scatter"
           }
          ],
          "scatter3d": [
           {
            "line": {
             "colorbar": {
              "outlinewidth": 0,
              "ticks": ""
             }
            },
            "marker": {
             "colorbar": {
              "outlinewidth": 0,
              "ticks": ""
             }
            },
            "type": "scatter3d"
           }
          ],
          "scattercarpet": [
           {
            "marker": {
             "colorbar": {
              "outlinewidth": 0,
              "ticks": ""
             }
            },
            "type": "scattercarpet"
           }
          ],
          "scattergeo": [
           {
            "marker": {
             "colorbar": {
              "outlinewidth": 0,
              "ticks": ""
             }
            },
            "type": "scattergeo"
           }
          ],
          "scattergl": [
           {
            "marker": {
             "colorbar": {
              "outlinewidth": 0,
              "ticks": ""
             }
            },
            "type": "scattergl"
           }
          ],
          "scattermap": [
           {
            "marker": {
             "colorbar": {
              "outlinewidth": 0,
              "ticks": ""
             }
            },
            "type": "scattermap"
           }
          ],
          "scattermapbox": [
           {
            "marker": {
             "colorbar": {
              "outlinewidth": 0,
              "ticks": ""
             }
            },
            "type": "scattermapbox"
           }
          ],
          "scatterpolar": [
           {
            "marker": {
             "colorbar": {
              "outlinewidth": 0,
              "ticks": ""
             }
            },
            "type": "scatterpolar"
           }
          ],
          "scatterpolargl": [
           {
            "marker": {
             "colorbar": {
              "outlinewidth": 0,
              "ticks": ""
             }
            },
            "type": "scatterpolargl"
           }
          ],
          "scatterternary": [
           {
            "marker": {
             "colorbar": {
              "outlinewidth": 0,
              "ticks": ""
             }
            },
            "type": "scatterternary"
           }
          ],
          "surface": [
           {
            "colorbar": {
             "outlinewidth": 0,
             "ticks": ""
            },
            "colorscale": [
             [
              0,
              "#0d0887"
             ],
             [
              0.1111111111111111,
              "#46039f"
             ],
             [
              0.2222222222222222,
              "#7201a8"
             ],
             [
              0.3333333333333333,
              "#9c179e"
             ],
             [
              0.4444444444444444,
              "#bd3786"
             ],
             [
              0.5555555555555556,
              "#d8576b"
             ],
             [
              0.6666666666666666,
              "#ed7953"
             ],
             [
              0.7777777777777778,
              "#fb9f3a"
             ],
             [
              0.8888888888888888,
              "#fdca26"
             ],
             [
              1,
              "#f0f921"
             ]
            ],
            "type": "surface"
           }
          ],
          "table": [
           {
            "cells": {
             "fill": {
              "color": "#EBF0F8"
             },
             "line": {
              "color": "white"
             }
            },
            "header": {
             "fill": {
              "color": "#C8D4E3"
             },
             "line": {
              "color": "white"
             }
            },
            "type": "table"
           }
          ]
         },
         "layout": {
          "annotationdefaults": {
           "arrowcolor": "#2a3f5f",
           "arrowhead": 0,
           "arrowwidth": 1
          },
          "autotypenumbers": "strict",
          "coloraxis": {
           "colorbar": {
            "outlinewidth": 0,
            "ticks": ""
           }
          },
          "colorscale": {
           "diverging": [
            [
             0,
             "#8e0152"
            ],
            [
             0.1,
             "#c51b7d"
            ],
            [
             0.2,
             "#de77ae"
            ],
            [
             0.3,
             "#f1b6da"
            ],
            [
             0.4,
             "#fde0ef"
            ],
            [
             0.5,
             "#f7f7f7"
            ],
            [
             0.6,
             "#e6f5d0"
            ],
            [
             0.7,
             "#b8e186"
            ],
            [
             0.8,
             "#7fbc41"
            ],
            [
             0.9,
             "#4d9221"
            ],
            [
             1,
             "#276419"
            ]
           ],
           "sequential": [
            [
             0,
             "#0d0887"
            ],
            [
             0.1111111111111111,
             "#46039f"
            ],
            [
             0.2222222222222222,
             "#7201a8"
            ],
            [
             0.3333333333333333,
             "#9c179e"
            ],
            [
             0.4444444444444444,
             "#bd3786"
            ],
            [
             0.5555555555555556,
             "#d8576b"
            ],
            [
             0.6666666666666666,
             "#ed7953"
            ],
            [
             0.7777777777777778,
             "#fb9f3a"
            ],
            [
             0.8888888888888888,
             "#fdca26"
            ],
            [
             1,
             "#f0f921"
            ]
           ],
           "sequentialminus": [
            [
             0,
             "#0d0887"
            ],
            [
             0.1111111111111111,
             "#46039f"
            ],
            [
             0.2222222222222222,
             "#7201a8"
            ],
            [
             0.3333333333333333,
             "#9c179e"
            ],
            [
             0.4444444444444444,
             "#bd3786"
            ],
            [
             0.5555555555555556,
             "#d8576b"
            ],
            [
             0.6666666666666666,
             "#ed7953"
            ],
            [
             0.7777777777777778,
             "#fb9f3a"
            ],
            [
             0.8888888888888888,
             "#fdca26"
            ],
            [
             1,
             "#f0f921"
            ]
           ]
          },
          "colorway": [
           "#636efa",
           "#EF553B",
           "#00cc96",
           "#ab63fa",
           "#FFA15A",
           "#19d3f3",
           "#FF6692",
           "#B6E880",
           "#FF97FF",
           "#FECB52"
          ],
          "font": {
           "color": "#2a3f5f"
          },
          "geo": {
           "bgcolor": "white",
           "lakecolor": "white",
           "landcolor": "white",
           "showlakes": true,
           "showland": true,
           "subunitcolor": "#C8D4E3"
          },
          "hoverlabel": {
           "align": "left"
          },
          "hovermode": "closest",
          "mapbox": {
           "style": "light"
          },
          "paper_bgcolor": "white",
          "plot_bgcolor": "white",
          "polar": {
           "angularaxis": {
            "gridcolor": "#EBF0F8",
            "linecolor": "#EBF0F8",
            "ticks": ""
           },
           "bgcolor": "white",
           "radialaxis": {
            "gridcolor": "#EBF0F8",
            "linecolor": "#EBF0F8",
            "ticks": ""
           }
          },
          "scene": {
           "xaxis": {
            "backgroundcolor": "white",
            "gridcolor": "#DFE8F3",
            "gridwidth": 2,
            "linecolor": "#EBF0F8",
            "showbackground": true,
            "ticks": "",
            "zerolinecolor": "#EBF0F8"
           },
           "yaxis": {
            "backgroundcolor": "white",
            "gridcolor": "#DFE8F3",
            "gridwidth": 2,
            "linecolor": "#EBF0F8",
            "showbackground": true,
            "ticks": "",
            "zerolinecolor": "#EBF0F8"
           },
           "zaxis": {
            "backgroundcolor": "white",
            "gridcolor": "#DFE8F3",
            "gridwidth": 2,
            "linecolor": "#EBF0F8",
            "showbackground": true,
            "ticks": "",
            "zerolinecolor": "#EBF0F8"
           }
          },
          "shapedefaults": {
           "line": {
            "color": "#2a3f5f"
           }
          },
          "ternary": {
           "aaxis": {
            "gridcolor": "#DFE8F3",
            "linecolor": "#A2B1C6",
            "ticks": ""
           },
           "baxis": {
            "gridcolor": "#DFE8F3",
            "linecolor": "#A2B1C6",
            "ticks": ""
           },
           "bgcolor": "white",
           "caxis": {
            "gridcolor": "#DFE8F3",
            "linecolor": "#A2B1C6",
            "ticks": ""
           }
          },
          "title": {
           "x": 0.05
          },
          "xaxis": {
           "automargin": true,
           "gridcolor": "#EBF0F8",
           "linecolor": "#EBF0F8",
           "ticks": "",
           "title": {
            "standoff": 15
           },
           "zerolinecolor": "#EBF0F8",
           "zerolinewidth": 2
          },
          "yaxis": {
           "automargin": true,
           "gridcolor": "#EBF0F8",
           "linecolor": "#EBF0F8",
           "ticks": "",
           "title": {
            "standoff": 15
           },
           "zerolinecolor": "#EBF0F8",
           "zerolinewidth": 2
          }
         }
        },
        "title": {
         "text": "Calibration Curve - Logistic Regression"
        },
        "width": 800,
        "xaxis": {
         "title": {
          "text": "Mean Predicted Probability"
         }
        },
        "yaxis": {
         "title": {
          "text": "Fraction of Positives"
         }
        }
       }
      }
     },
     "metadata": {},
     "output_type": "display_data"
    }
   ],
   "source": [
    "from recurrent_health_events_prediction.training.utils import plot_calibration_curve\n",
    "\n",
    "fig = plot_calibration_curve(y_test, y_pred_proba_logreg, show_plot=False, title =\"Calibration Curve - Logistic Regression\")\n",
    "fig.show()"
   ]
  },
  {
   "cell_type": "markdown",
   "id": "7a137034",
   "metadata": {},
   "source": [
    "## Random Forest"
   ]
  },
  {
   "cell_type": "code",
   "execution_count": 16,
   "id": "1f917cd5",
   "metadata": {},
   "outputs": [
    {
     "name": "stdout",
     "output_type": "stream",
     "text": [
      "\n",
      "Training Random Forest with hyperparameter search...\n",
      "Train AUC for best Random Forest:  0.7098268844246484\n",
      "Best threshold for F1 score in train set: 0.4725 with F1: 0.5090\n",
      "15 candidates of Random forest trained and validated with cross-validation on 5 folds.\n",
      "Best parameters: {'n_estimators': 200, 'min_samples_split': 5, 'min_samples_leaf': 1, 'max_features': 'log2', 'max_depth': 3}\n",
      "Validation Score - Random forest: 0.623 ± 0.044\n",
      "Random Forest model evaluation:\n",
      "AUC:  0.6239409445516316\n",
      "F1 Score: 0.4155\n",
      "Recall: 0.6484\n",
      "Accuracy: 0.5297\n",
      "Precision: 0.3057\n"
     ]
    },
    {
     "data": {
      "image/png": "[encoded data removed]",
      "text/plain": [
       "<Figure size 1000x600 with 1 Axes>"
      ]
     },
     "metadata": {},
     "output_type": "display_data"
    },
    {
     "data": {
      "image/png": "[encoded data removed]",
      "text/plain": [
       "<Figure size 1000x600 with 1 Axes>"
      ]
     },
     "metadata": {},
     "output_type": "display_data"
    },
    {
     "name": "stdout",
     "output_type": "stream",
     "text": [
      "Calculating SHAP values for 1412 samples...\n"
     ]
    },
    {
     "data": {
      "image/png": "[encoded data removed]",
      "text/plain": [
       "<Figure size 800x950 with 2 Axes>"
      ]
     },
     "metadata": {},
     "output_type": "display_data"
    },
    {
     "name": "stdout",
     "output_type": "stream",
     "text": [
      "Finished training and evaluation of Random Forest.\n",
      "\n"
     ]
    }
   ],
   "source": [
    "# ===== Random Forest =====\n",
    "from sklearn.ensemble import RandomForestClassifier\n",
    "\n",
    "if \"random_forest\" in models_to_train:\n",
    "    additional_params: dict = model_config.get(\"random_forest\", {}).get(\"additional_params\", {})\n",
    "    rf_model = RandomForestClassifier(random_state=random_state, **additional_params)\n",
    "\n",
    "    param_distributions = model_config[\"random_forest\"][\"param_distributions\"]\n",
    "    rand_search_config = model_config[\"random_forest\"][\"rand_search_config\"]\n",
    "\n",
    "    y_pred_proba_rf, y_pred_rf, eval_results_rf, cv_search_results_rf = train_test_classifier(\n",
    "        rf_model,\n",
    "        \"Random Forest\",\n",
    "        X_train,\n",
    "        y_train,\n",
    "        X_test,\n",
    "        y_test,\n",
    "        param_distributions,\n",
    "        rand_search_config,\n",
    "        neptune_run=None,\n",
    "        verbose=True,\n",
    "        plot_shap=plot_shap,\n",
    "        random_state=random_state,\n",
    "        class_names=class_names,\n",
    "        show_plots=True,\n",
    "    )\n",
    "    y_pred_proba_dict[\"rf\"], y_pred_dict[\"rf\"] = y_pred_proba_rf, y_pred_rf\n"
   ]
  },
  {
   "cell_type": "code",
   "execution_count": 17,
   "id": "7bed2f41",
   "metadata": {},
   "outputs": [
    {
     "data": {
      "application/vnd.plotly.v1+json": {
       "config": {
        "plotlyServerURL": "https://plot.ly"
       },
       "data": [
        {
         "bingroup": "x",
         "hovertemplate": "class=No Readmission<br>Predicted Probability=%{x}<br>count=%{y}<extra></extra>",
         "legendgroup": "No Readmission",
         "marker": {
          "color": "#636efa",
          "opacity": 0.5,
          "pattern": {
           "shape": ""
          }
         },
         "name": "No Readmission",
         "nbinsx": 50,
         "orientation": "v",
         "showlegend": true,
         "type": "histogram",
         "x": {
          "bdata": "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",
          "dtype": "f8"
         },
         "xaxis": "x",
         "yaxis": "y"
        },
        {
         "bingroup": "x",
         "hovertemplate": "class=Readmission<br>Predicted Probability=%{x}<br>count=%{y}<extra></extra>",
         "legendgroup": "Readmission",
         "marker": {
          "color": "#EF553B",
          "opacity": 0.5,
          "pattern": {
           "shape": ""
          }
         },
         "name": "Readmission",
         "nbinsx": 50,
         "orientation": "v",
         "showlegend": true,
         "type": "histogram",
         "x": {
          "bdata": "pqXEH8ws4D88TSEbjdbiP1Jr0nyPgeE/ZZiFHrCG3D/pqfzqSbLkP9+mu3JvJdk/iDtFkQuZ5D+yfDOEwgzWPzvSzLczfNc/QTrCOSNe4D/XIEKfEJ/gPxEype94p+E/Cf/cfxF62T/v8ANCC+7jP8ZUsDNXh+E/6DQvOH9l3z+sYWBlTf/kP2a88IHRsuA/SRFE47g42D9AJka4ZjfdPxiaJe12W9w/hvzdlr0z4z+kNy3Bq+TgP/gzqtfQ2d4/mVRNvr664T8NPLheVW7gPybTHWKo6Nw/CRJkZiIu4z/uXSZKpPDgP4wer62zaeE/zfJJhIef2T9vOSFQyvXhP8XEFIyWmNs/uB0v0pzx4j+/JH0JXQreP32QDtt87+I/to+zepOt2z+EngaioAjjP9Sa9HgdFto/padKCSQX3j+K0bGOTvjbP0xyITTVzdo/g3L+R/rX5D+mZYj3LfTcP70eHUYdyuM/r5fCBIZz4D8XCO6fhHniP6yf7gwU9N4/ssLab+zS2j+hDjrZWvnZP9SCy2XSh+I/+JeALOXj4D/uFcD06WXfP136sy3vneE/OAh66V6j4T+zXaCCdSLhP5tfw8BfPeI/7ipHYiyc2j99pM1vjJniPy931TlTwtk/swqMWx6x4z/S0mPqbrHYP2aSx+8f99c/8UeKrYUC4D/EmdArcTfkP8agw63aFeE/2mkg1frg3z/FLbPcQ+HYP7lwyO69P+M/22mRrcQP2z8UZUxIxHbkP84FSuStwto/3ffMrdXI4j/ppTMJ3pjgP7vYblG/Nd8/gUlMSL3D3T+aUuk43IHZP+3mhHK11d8/P1pH8czx4D/aIuooRBLjPyWMi/cf3OI/GkV3+F673j96rtVU6VzjP97HnwwPYOA/qhV35Z083T/9qWTUmgXiP/5P+eP75eA/6qZb1jca5D93JZN44j7YP6VVKdyL7Nk/rwwBxMnN4j8=",
          "dtype": "f8"
         },
         "xaxis": "x",
         "yaxis": "y"
        }
       ],
       "layout": {
        "barmode": "overlay",
        "height": 400,
        "legend": {
         "title": {
          "text": "class"
         },
         "tracegroupgap": 0
        },
        "template": {
         "data": {
          "bar": [
           {
            "error_x": {
             "color": "#2a3f5f"
            },
            "error_y": {
             "color": "#2a3f5f"
            },
            "marker": {
             "line": {
              "color": "white",
              "width": 0.5
             },
             "pattern": {
              "fillmode": "overlay",
              "size": 10,
              "solidity": 0.2
             }
            },
            "type": "bar"
           }
          ],
          "barpolar": [
           {
            "marker": {
             "line": {
              "color": "white",
              "width": 0.5
             },
             "pattern": {
              "fillmode": "overlay",
              "size": 10,
              "solidity": 0.2
             }
            },
            "type": "barpolar"
           }
          ],
          "carpet": [
           {
            "aaxis": {
             "endlinecolor": "#2a3f5f",
             "gridcolor": "#C8D4E3",
             "linecolor": "#C8D4E3",
             "minorgridcolor": "#C8D4E3",
             "startlinecolor": "#2a3f5f"
            },
            "baxis": {
             "endlinecolor": "#2a3f5f",
             "gridcolor": "#C8D4E3",
             "linecolor": "#C8D4E3",
             "minorgridcolor": "#C8D4E3",
             "startlinecolor": "#2a3f5f"
            },
            "type": "carpet"
           }
          ],
          "choropleth": [
           {
            "colorbar": {
             "outlinewidth": 0,
             "ticks": ""
            },
            "type": "choropleth"
           }
          ],
          "contour": [
           {
            "colorbar": {
             "outlinewidth": 0,
             "ticks": ""
            },
            "colorscale": [
             [
              0,
              "#0d0887"
             ],
             [
              0.1111111111111111,
              "#46039f"
             ],
             [
              0.2222222222222222,
              "#7201a8"
             ],
             [
              0.3333333333333333,
              "#9c179e"
             ],
             [
              0.4444444444444444,
              "#bd3786"
             ],
             [
              0.5555555555555556,
              "#d8576b"
             ],
             [
              0.6666666666666666,
              "#ed7953"
             ],
             [
              0.7777777777777778,
              "#fb9f3a"
             ],
             [
              0.8888888888888888,
              "#fdca26"
             ],
             [
              1,
              "#f0f921"
             ]
            ],
            "type": "contour"
           }
          ],
          "contourcarpet": [
           {
            "colorbar": {
             "outlinewidth": 0,
             "ticks": ""
            },
            "type": "contourcarpet"
           }
          ],
          "heatmap": [
           {
            "colorbar": {
             "outlinewidth": 0,
             "ticks": ""
            },
            "colorscale": [
             [
              0,
              "#0d0887"
             ],
             [
              0.1111111111111111,
              "#46039f"
             ],
             [
              0.2222222222222222,
              "#7201a8"
             ],
             [
              0.3333333333333333,
              "#9c179e"
             ],
             [
              0.4444444444444444,
              "#bd3786"
             ],
             [
              0.5555555555555556,
              "#d8576b"
             ],
             [
              0.6666666666666666,
              "#ed7953"
             ],
             [
              0.7777777777777778,
              "#fb9f3a"
             ],
             [
              0.8888888888888888,
              "#fdca26"
             ],
             [
              1,
              "#f0f921"
             ]
            ],
            "type": "heatmap"
           }
          ],
          "histogram": [
           {
            "marker": {
             "pattern": {
              "fillmode": "overlay",
              "size": 10,
              "solidity": 0.2
             }
            },
            "type": "histogram"
           }
          ],
          "histogram2d": [
           {
            "colorbar": {
             "outlinewidth": 0,
             "ticks": ""
            },
            "colorscale": [
             [
              0,
              "#0d0887"
             ],
             [
              0.1111111111111111,
              "#46039f"
             ],
             [
              0.2222222222222222,
              "#7201a8"
             ],
             [
              0.3333333333333333,
              "#9c179e"
             ],
             [
              0.4444444444444444,
              "#bd3786"
             ],
             [
              0.5555555555555556,
              "#d8576b"
             ],
             [
              0.6666666666666666,
              "#ed7953"
             ],
             [
              0.7777777777777778,
              "#fb9f3a"
             ],
             [
              0.8888888888888888,
              "#fdca26"
             ],
             [
              1,
              "#f0f921"
             ]
            ],
            "type": "histogram2d"
           }
          ],
          "histogram2dcontour": [
           {
            "colorbar": {
             "outlinewidth": 0,
             "ticks": ""
            },
            "colorscale": [
             [
              0,
              "#0d0887"
             ],
             [
              0.1111111111111111,
              "#46039f"
             ],
             [
              0.2222222222222222,
              "#7201a8"
             ],
             [
              0.3333333333333333,
              "#9c179e"
             ],
             [
              0.4444444444444444,
              "#bd3786"
             ],
             [
              0.5555555555555556,
              "#d8576b"
             ],
             [
              0.6666666666666666,
              "#ed7953"
             ],
             [
              0.7777777777777778,
              "#fb9f3a"
             ],
             [
              0.8888888888888888,
              "#fdca26"
             ],
             [
              1,
              "#f0f921"
             ]
            ],
            "type": "histogram2dcontour"
           }
          ],
          "mesh3d": [
           {
            "colorbar": {
             "outlinewidth": 0,
             "ticks": ""
            },
            "type": "mesh3d"
           }
          ],
          "parcoords": [
           {
            "line": {
             "colorbar": {
              "outlinewidth": 0,
              "ticks": ""
             }
            },
            "type": "parcoords"
           }
          ],
          "pie": [
           {
            "automargin": true,
            "type": "pie"
           }
          ],
          "scatter": [
           {
            "fillpattern": {
             "fillmode": "overlay",
             "size": 10,
             "solidity": 0.2
            },
            "type": "scatter"
           }
          ],
          "scatter3d": [
           {
            "line": {
             "colorbar": {
              "outlinewidth": 0,
              "ticks": ""
             }
            },
            "marker": {
             "colorbar": {
              "outlinewidth": 0,
              "ticks": ""
             }
            },
            "type": "scatter3d"
           }
          ],
          "scattercarpet": [
           {
            "marker": {
             "colorbar": {
              "outlinewidth": 0,
              "ticks": ""
             }
            },
            "type": "scattercarpet"
           }
          ],
          "scattergeo": [
           {
            "marker": {
             "colorbar": {
              "outlinewidth": 0,
              "ticks": ""
             }
            },
            "type": "scattergeo"
           }
          ],
          "scattergl": [
           {
            "marker": {
             "colorbar": {
              "outlinewidth": 0,
              "ticks": ""
             }
            },
            "type": "scattergl"
           }
          ],
          "scattermap": [
           {
            "marker": {
             "colorbar": {
              "outlinewidth": 0,
              "ticks": ""
             }
            },
            "type": "scattermap"
           }
          ],
          "scattermapbox": [
           {
            "marker": {
             "colorbar": {
              "outlinewidth": 0,
              "ticks": ""
             }
            },
            "type": "scattermapbox"
           }
          ],
          "scatterpolar": [
           {
            "marker": {
             "colorbar": {
              "outlinewidth": 0,
              "ticks": ""
             }
            },
            "type": "scatterpolar"
           }
          ],
          "scatterpolargl": [
           {
            "marker": {
             "colorbar": {
              "outlinewidth": 0,
              "ticks": ""
             }
            },
            "type": "scatterpolargl"
           }
          ],
          "scatterternary": [
           {
            "marker": {
             "colorbar": {
              "outlinewidth": 0,
              "ticks": ""
             }
            },
            "type": "scatterternary"
           }
          ],
          "surface": [
           {
            "colorbar": {
             "outlinewidth": 0,
             "ticks": ""
            },
            "colorscale": [
             [
              0,
              "#0d0887"
             ],
             [
              0.1111111111111111,
              "#46039f"
             ],
             [
              0.2222222222222222,
              "#7201a8"
             ],
             [
              0.3333333333333333,
              "#9c179e"
             ],
             [
              0.4444444444444444,
              "#bd3786"
             ],
             [
              0.5555555555555556,
              "#d8576b"
             ],
             [
              0.6666666666666666,
              "#ed7953"
             ],
             [
              0.7777777777777778,
              "#fb9f3a"
             ],
             [
              0.8888888888888888,
              "#fdca26"
             ],
             [
              1,
              "#f0f921"
             ]
            ],
            "type": "surface"
           }
          ],
          "table": [
           {
            "cells": {
             "fill": {
              "color": "#EBF0F8"
             },
             "line": {
              "color": "white"
             }
            },
            "header": {
             "fill": {
              "color": "#C8D4E3"
             },
             "line": {
              "color": "white"
             }
            },
            "type": "table"
           }
          ]
         },
         "layout": {
          "annotationdefaults": {
           "arrowcolor": "#2a3f5f",
           "arrowhead": 0,
           "arrowwidth": 1
          },
          "autotypenumbers": "strict",
          "coloraxis": {
           "colorbar": {
            "outlinewidth": 0,
            "ticks": ""
           }
          },
          "colorscale": {
           "diverging": [
            [
             0,
             "#8e0152"
            ],
            [
             0.1,
             "#c51b7d"
            ],
            [
             0.2,
             "#de77ae"
            ],
            [
             0.3,
             "#f1b6da"
            ],
            [
             0.4,
             "#fde0ef"
            ],
            [
             0.5,
             "#f7f7f7"
            ],
            [
             0.6,
             "#e6f5d0"
            ],
            [
             0.7,
             "#b8e186"
            ],
            [
             0.8,
             "#7fbc41"
            ],
            [
             0.9,
             "#4d9221"
            ],
            [
             1,
             "#276419"
            ]
           ],
           "sequential": [
            [
             0,
             "#0d0887"
            ],
            [
             0.1111111111111111,
             "#46039f"
            ],
            [
             0.2222222222222222,
             "#7201a8"
            ],
            [
             0.3333333333333333,
             "#9c179e"
            ],
            [
             0.4444444444444444,
             "#bd3786"
            ],
            [
             0.5555555555555556,
             "#d8576b"
            ],
            [
             0.6666666666666666,
             "#ed7953"
            ],
            [
             0.7777777777777778,
             "#fb9f3a"
            ],
            [
             0.8888888888888888,
             "#fdca26"
            ],
            [
             1,
             "#f0f921"
            ]
           ],
           "sequentialminus": [
            [
             0,
             "#0d0887"
            ],
            [
             0.1111111111111111,
             "#46039f"
            ],
            [
             0.2222222222222222,
             "#7201a8"
            ],
            [
             0.3333333333333333,
             "#9c179e"
            ],
            [
             0.4444444444444444,
             "#bd3786"
            ],
            [
             0.5555555555555556,
             "#d8576b"
            ],
            [
             0.6666666666666666,
             "#ed7953"
            ],
            [
             0.7777777777777778,
             "#fb9f3a"
            ],
            [
             0.8888888888888888,
             "#fdca26"
            ],
            [
             1,
             "#f0f921"
            ]
           ]
          },
          "colorway": [
           "#636efa",
           "#EF553B",
           "#00cc96",
           "#ab63fa",
           "#FFA15A",
           "#19d3f3",
           "#FF6692",
           "#B6E880",
           "#FF97FF",
           "#FECB52"
          ],
          "font": {
           "color": "#2a3f5f"
          },
          "geo": {
           "bgcolor": "white",
           "lakecolor": "white",
           "landcolor": "white",
           "showlakes": true,
           "showland": true,
           "subunitcolor": "#C8D4E3"
          },
          "hoverlabel": {
           "align": "left"
          },
          "hovermode": "closest",
          "mapbox": {
           "style": "light"
          },
          "paper_bgcolor": "white",
          "plot_bgcolor": "white",
          "polar": {
           "angularaxis": {
            "gridcolor": "#EBF0F8",
            "linecolor": "#EBF0F8",
            "ticks": ""
           },
           "bgcolor": "white",
           "radialaxis": {
            "gridcolor": "#EBF0F8",
            "linecolor": "#EBF0F8",
            "ticks": ""
           }
          },
          "scene": {
           "xaxis": {
            "backgroundcolor": "white",
            "gridcolor": "#DFE8F3",
            "gridwidth": 2,
            "linecolor": "#EBF0F8",
            "showbackground": true,
            "ticks": "",
            "zerolinecolor": "#EBF0F8"
           },
           "yaxis": {
            "backgroundcolor": "white",
            "gridcolor": "#DFE8F3",
            "gridwidth": 2,
            "linecolor": "#EBF0F8",
            "showbackground": true,
            "ticks": "",
            "zerolinecolor": "#EBF0F8"
           },
           "zaxis": {
            "backgroundcolor": "white",
            "gridcolor": "#DFE8F3",
            "gridwidth": 2,
            "linecolor": "#EBF0F8",
            "showbackground": true,
            "ticks": "",
            "zerolinecolor": "#EBF0F8"
           }
          },
          "shapedefaults": {
           "line": {
            "color": "#2a3f5f"
           }
          },
          "ternary": {
           "aaxis": {
            "gridcolor": "#DFE8F3",
            "linecolor": "#A2B1C6",
            "ticks": ""
           },
           "baxis": {
            "gridcolor": "#DFE8F3",
            "linecolor": "#A2B1C6",
            "ticks": ""
           },
           "bgcolor": "white",
           "caxis": {
            "gridcolor": "#DFE8F3",
            "linecolor": "#A2B1C6",
            "ticks": ""
           }
          },
          "title": {
           "x": 0.05
          },
          "xaxis": {
           "automargin": true,
           "gridcolor": "#EBF0F8",
           "linecolor": "#EBF0F8",
           "ticks": "",
           "title": {
            "standoff": 15
           },
           "zerolinecolor": "#EBF0F8",
           "zerolinewidth": 2
          },
          "yaxis": {
           "automargin": true,
           "gridcolor": "#EBF0F8",
           "linecolor": "#EBF0F8",
           "ticks": "",
           "title": {
            "standoff": 15
           },
           "zerolinecolor": "#EBF0F8",
           "zerolinewidth": 2
          }
         }
        },
        "title": {
         "text": "Histogram of Predicted Probabilities by True Labels - Random Forest"
        },
        "width": 800,
        "xaxis": {
         "anchor": "y",
         "domain": [
          0,
          1
         ],
         "title": {
          "text": "Predicted Probability"
         }
        },
        "yaxis": {
         "anchor": "x",
         "domain": [
          0,
          1
         ],
         "title": {
          "text": "count"
         }
        }
       }
      }
     },
     "metadata": {},
     "output_type": "display_data"
    }
   ],
   "source": [
    "from recurrent_health_events_prediction.training.utils import plot_pred_proba_distribution\n",
    "\n",
    "fig_hist = plot_pred_proba_distribution(y_test, y_pred_proba_rf, show_plot=False, class_names=class_names_dict)\n",
    "\n",
    "fig_hist.update_layout(title =\"Histogram of Predicted Probabilities by True Labels - Random Forest\", height=400)\n",
    "fig_hist.show()"
   ]
  },
  {
   "cell_type": "markdown",
   "id": "e98b2271",
   "metadata": {},
   "source": [
    "## LightGBM"
   ]
  },
  {
   "cell_type": "code",
   "execution_count": 17,
   "id": "d85a1364",
   "metadata": {},
   "outputs": [],
   "source": [
    "# ===== LightGBM =====\n",
    "from lightgbm import LGBMClassifier\n",
    "\n",
    "if \"lgbm\" in models_to_train:\n",
    "    additional_params: dict = model_config.get(\"lgbm\", {}).get(\"additional_params\", {})\n",
    "    lgbm = LGBMClassifier(random_state=random_state, **additional_params)\n",
    "\n",
    "    param_distributions = model_config[\"lgbm\"][\"param_distributions\"]\n",
    "    rand_search_config = model_config[\"lgbm\"][\"rand_search_config\"]\n",
    "\n",
    "    y_pred_proba_lgbm, y_pred_lgbm, eval_results_lgbm, cv_search_results_lgbm = train_test_classifier(\n",
    "        lgbm,\n",
    "        \"LightGBM\",\n",
    "        X_train,\n",
    "        y_train,\n",
    "        X_test,\n",
    "        y_test,\n",
    "        param_distributions,\n",
    "        rand_search_config,\n",
    "        neptune_run=None,\n",
    "        verbose=True,\n",
    "        plot_shap=plot_shap,\n",
    "        random_state=random_state,\n",
    "        class_names=class_names,\n",
    "    )\n",
    "    y_pred_proba_dict[\"lgbm\"], y_pred_dict[\"lgbm\"] = y_pred_proba_lgbm, y_pred_lgbm\n"
   ]
  },
  {
   "cell_type": "markdown",
   "id": "5b7fbc65",
   "metadata": {},
   "source": [
    "## Final Results & Comparison"
   ]
  },
  {
   "cell_type": "code",
   "execution_count": 18,
   "id": "913c5155",
   "metadata": {},
   "outputs": [
    {
     "name": "stdout",
     "output_type": "stream",
     "text": [
      "\n",
      "Saving test predictions...\n",
      "Output path for test predictions:  /workspaces/msc-thesis-recurrent-health-modeling/_models/mimic/classifier_baselines/test_predictions.csv\n"
     ]
    }
   ],
   "source": [
    "# ===== Save All Predictions =====\n",
    "from recurrent_health_events_prediction.training.utils_traditional_classifier import save_test_predictions\n",
    "\n",
    "pred_test_output_filepath = os.path.join(output_dir, \"test_predictions.csv\")\n",
    "print(\"\\nSaving test predictions...\")\n",
    "print(\"Output path for test predictions: \", pred_test_output_filepath)\n",
    "predictions_df = save_test_predictions(\n",
    "    out_path=pred_test_output_filepath,\n",
    "    id_series=test_ids,\n",
    "    y_true=y_test,\n",
    "    proba_dict=y_pred_proba_dict,\n",
    "    pred_dict=y_pred_dict,\n",
    "    file_format=\"csv\",\n",
    ")"
   ]
  },
  {
   "cell_type": "code",
   "execution_count": 19,
   "id": "9681fab1",
   "metadata": {},
   "outputs": [
    {
     "data": {
      "application/vnd.microsoft.datawrangler.viewer.v0+json": {
       "columns": [
        {
         "name": "index",
         "rawType": "int64",
         "type": "integer"
        },
        {
         "name": "sample_id",
         "rawType": "int64",
         "type": "integer"
        },
        {
         "name": "y_true",
         "rawType": "int64",
         "type": "integer"
        },
        {
         "name": "y_pred_proba_logreg",
         "rawType": "float64",
         "type": "float"
        },
        {
         "name": "y_pred_proba_rf",
         "rawType": "float64",
         "type": "float"
        },
        {
         "name": "y_pred_logreg",
         "rawType": "int64",
         "type": "integer"
        },
        {
         "name": "y_pred_rf",
         "rawType": "int64",
         "type": "integer"
        }
       ],
       "ref": "117fe60d-bd9a-416e-8a2c-20f5bb4aac8e",
       "rows": [
        [
         "0",
         "182383",
         "0",
         "0.17188092513607048",
         "0.39601870207591305",
         "0",
         "0"
        ],
        [
         "1",
         "164735",
         "0",
         "0.26702823653617225",
         "0.43720614884685965",
         "1",
         "0"
        ],
        [
         "2",
         "155036",
         "0",
         "0.2627464430528304",
         "0.4917003976806144",
         "1",
         "1"
        ],
        [
         "3",
         "160425",
         "1",
         "0.2877636386559144",
         "0.5054684277030688",
         "1",
         "1"
        ],
        [
         "4",
         "191344",
         "0",
         "0.1568570318580179",
         "0.38402688351509395",
         "0",
         "0"
        ]
       ],
       "shape": {
        "columns": 6,
        "rows": 5
       }
      },
      "text/html": [
       "<div>\n",
       "<style scoped>\n",
       "    .dataframe tbody tr th:only-of-type {\n",
       "        vertical-align: middle;\n",
       "    }\n",
       "\n",
       "    .dataframe tbody tr th {\n",
       "        vertical-align: top;\n",
       "    }\n",
       "\n",
       "    .dataframe thead th {\n",
       "        text-align: right;\n",
       "    }\n",
       "</style>\n",
       "<table border=\"1\" class=\"dataframe\">\n",
       "  <thead>\n",
       "    <tr style=\"text-align: right;\">\n",
       "      <th></th>\n",
       "      <th>sample_id</th>\n",
       "      <th>y_true</th>\n",
       "      <th>y_pred_proba_logreg</th>\n",
       "      <th>y_pred_proba_rf</th>\n",
       "      <th>y_pred_logreg</th>\n",
       "      <th>y_pred_rf</th>\n",
       "    </tr>\n",
       "  </thead>\n",
       "  <tbody>\n",
       "    <tr>\n",
       "      <th>0</th>\n",
       "      <td>182383</td>\n",
       "      <td>0</td>\n",
       "      <td>0.171881</td>\n",
       "      <td>0.396019</td>\n",
       "      <td>0</td>\n",
       "      <td>0</td>\n",
       "    </tr>\n",
       "    <tr>\n",
       "      <th>1</th>\n",
       "      <td>164735</td>\n",
       "      <td>0</td>\n",
       "      <td>0.267028</td>\n",
       "      <td>0.437206</td>\n",
       "      <td>1</td>\n",
       "      <td>0</td>\n",
       "    </tr>\n",
       "    <tr>\n",
       "      <th>2</th>\n",
       "      <td>155036</td>\n",
       "      <td>0</td>\n",
       "      <td>0.262746</td>\n",
       "      <td>0.491700</td>\n",
       "      <td>1</td>\n",
       "      <td>1</td>\n",
       "    </tr>\n",
       "    <tr>\n",
       "      <th>3</th>\n",
       "      <td>160425</td>\n",
       "      <td>1</td>\n",
       "      <td>0.287764</td>\n",
       "      <td>0.505468</td>\n",
       "      <td>1</td>\n",
       "      <td>1</td>\n",
       "    </tr>\n",
       "    <tr>\n",
       "      <th>4</th>\n",
       "      <td>191344</td>\n",
       "      <td>0</td>\n",
       "      <td>0.156857</td>\n",
       "      <td>0.384027</td>\n",
       "      <td>0</td>\n",
       "      <td>0</td>\n",
       "    </tr>\n",
       "  </tbody>\n",
       "</table>\n",
       "</div>"
      ],
      "text/plain": [
       "   sample_id  y_true  y_pred_proba_logreg  y_pred_proba_rf  y_pred_logreg  \\\n",
       "0     182383       0             0.171881         0.396019              0   \n",
       "1     164735       0             0.267028         0.437206              1   \n",
       "2     155036       0             0.262746         0.491700              1   \n",
       "3     160425       1             0.287764         0.505468              1   \n",
       "4     191344       0             0.156857         0.384027              0   \n",
       "\n",
       "   y_pred_rf  \n",
       "0          0  \n",
       "1          0  \n",
       "2          1  \n",
       "3          1  \n",
       "4          0  "
      ]
     },
     "execution_count": 19,
     "metadata": {},
     "output_type": "execute_result"
    }
   ],
   "source": [
    "predictions_df.head()"
   ]
  },
  {
   "cell_type": "code",
   "execution_count": 20,
   "id": "163a803d",
   "metadata": {},
   "outputs": [],
   "source": [
    "results_df = pd.DataFrame()"
   ]
  },
  {
   "cell_type": "code",
   "execution_count": 21,
   "id": "68ef5217",
   "metadata": {},
   "outputs": [
    {
     "data": {
      "application/vnd.microsoft.datawrangler.viewer.v0+json": {
       "columns": [
        {
         "name": "index",
         "rawType": "int64",
         "type": "integer"
        },
        {
         "name": "model_name",
         "rawType": "object",
         "type": "string"
        },
        {
         "name": "mean_auc_val",
         "rawType": "float64",
         "type": "float"
        },
        {
         "name": "std_auc_val",
         "rawType": "float64",
         "type": "float"
        },
        {
         "name": "auc_eval",
         "rawType": "float64",
         "type": "float"
        },
        {
         "name": "accuracy_eval",
         "rawType": "float64",
         "type": "float"
        },
        {
         "name": "precision_eval",
         "rawType": "float64",
         "type": "float"
        },
        {
         "name": "recall_eval",
         "rawType": "float64",
         "type": "float"
        },
        {
         "name": "f1_eval",
         "rawType": "float64",
         "type": "float"
        }
       ],
       "ref": "c7a41a08-7ac1-487d-843c-e990adf00af6",
       "rows": [
        [
         "0",
         "Logistic Regression",
         "0.6081835963389361",
         "0.04200487822884988",
         "0.6092609680395938",
         "0.5042492917847026",
         "0.29",
         "0.6373626373626373",
         "0.39862542955326463"
        ],
        [
         "1",
         "Random Forest",
         "0.6227135008806807",
         "0.043883989365381904",
         "0.6239409445516316",
         "0.5297450424929179",
         "0.30569948186528495",
         "0.6483516483516484",
         "0.4154929577464789"
        ]
       ],
       "shape": {
        "columns": 8,
        "rows": 2
       }
      },
      "text/html": [
       "<div>\n",
       "<style scoped>\n",
       "    .dataframe tbody tr th:only-of-type {\n",
       "        vertical-align: middle;\n",
       "    }\n",
       "\n",
       "    .dataframe tbody tr th {\n",
       "        vertical-align: top;\n",
       "    }\n",
       "\n",
       "    .dataframe thead th {\n",
       "        text-align: right;\n",
       "    }\n",
       "</style>\n",
       "<table border=\"1\" class=\"dataframe\">\n",
       "  <thead>\n",
       "    <tr style=\"text-align: right;\">\n",
       "      <th></th>\n",
       "      <th>model_name</th>\n",
       "      <th>mean_auc_val</th>\n",
       "      <th>std_auc_val</th>\n",
       "      <th>auc_eval</th>\n",
       "      <th>accuracy_eval</th>\n",
       "      <th>precision_eval</th>\n",
       "      <th>recall_eval</th>\n",
       "      <th>f1_eval</th>\n",
       "    </tr>\n",
       "  </thead>\n",
       "  <tbody>\n",
       "    <tr>\n",
       "      <th>0</th>\n",
       "      <td>Logistic Regression</td>\n",
       "      <td>0.608184</td>\n",
       "      <td>0.042005</td>\n",
       "      <td>0.609261</td>\n",
       "      <td>0.504249</td>\n",
       "      <td>0.290000</td>\n",
       "      <td>0.637363</td>\n",
       "      <td>0.398625</td>\n",
       "    </tr>\n",
       "    <tr>\n",
       "      <th>1</th>\n",
       "      <td>Random Forest</td>\n",
       "      <td>0.622714</td>\n",
       "      <td>0.043884</td>\n",
       "      <td>0.623941</td>\n",
       "      <td>0.529745</td>\n",
       "      <td>0.305699</td>\n",
       "      <td>0.648352</td>\n",
       "      <td>0.415493</td>\n",
       "    </tr>\n",
       "  </tbody>\n",
       "</table>\n",
       "</div>"
      ],
      "text/plain": [
       "            model_name  mean_auc_val  std_auc_val  auc_eval  accuracy_eval  \\\n",
       "0  Logistic Regression      0.608184     0.042005  0.609261       0.504249   \n",
       "1        Random Forest      0.622714     0.043884  0.623941       0.529745   \n",
       "\n",
       "   precision_eval  recall_eval   f1_eval  \n",
       "0        0.290000     0.637363  0.398625  \n",
       "1        0.305699     0.648352  0.415493  "
      ]
     },
     "execution_count": 21,
     "metadata": {},
     "output_type": "execute_result"
    }
   ],
   "source": [
    "from recurrent_health_events_prediction.training.utils_traditional_classifier import extract_results\n",
    "\n",
    "if \"logistic_regression\" in models_to_train:\n",
    "    dict_logreg_metrics = extract_results(eval_results_logreg, cv_search_results_logreg)\n",
    "    results_df = pd.concat([results_df, pd.DataFrame([dict_logreg_metrics])], ignore_index=True)\n",
    "\n",
    "if \"random_forest\" in models_to_train:\n",
    "    dict_rf_metrics = extract_results(eval_results_rf, cv_search_results_rf)\n",
    "    results_df = pd.concat([results_df, pd.DataFrame([dict_rf_metrics])], ignore_index=True)\n",
    "\n",
    "if \"lgbm\" in models_to_train:\n",
    "    dict_lgbm_metrics = extract_results(eval_results_lgbm, cv_search_results_lgbm)\n",
    "    results_df = pd.concat([results_df, pd.DataFrame([dict_lgbm_metrics])], ignore_index=True)\n",
    "\n",
    "results_df"
   ]
  },
  {
   "cell_type": "code",
   "execution_count": 22,
   "id": "45171087",
   "metadata": {},
   "outputs": [
    {
     "name": "stdout",
     "output_type": "stream",
     "text": [
      "\n",
      "Saving performance results...\n",
      "Output path for performance results:  /workspaces/msc-thesis-recurrent-health-modeling/_models/mimic/classifier_baselines/performance_results.csv\n"
     ]
    }
   ],
   "source": [
    "results_output_filepath = os.path.join(output_dir, \"performance_results.csv\")\n",
    "print(\"\\nSaving performance results...\")\n",
    "print(\"Output path for performance results: \", results_output_filepath)\n",
    "results_df.to_csv(results_output_filepath, index=False)"
   ]
  }
 ],
 "metadata": {
  "kernelspec": {
   "display_name": "recurrent-health-events-prediction-nvorhdTT-py3.10",
   "language": "python",
   "name": "python3"
  },
  "language_info": {
   "codemirror_mode": {
    "name": "ipython",
    "version": 3
   },
   "file_extension": ".py",
   "mimetype": "text/x-python",
   "name": "python",
   "nbconvert_exporter": "python",
   "pygments_lexer": "ipython3",
   "version": "3.10.14"
  }
 },
 "nbformat": 4,
 "nbformat_minor": 5
}
