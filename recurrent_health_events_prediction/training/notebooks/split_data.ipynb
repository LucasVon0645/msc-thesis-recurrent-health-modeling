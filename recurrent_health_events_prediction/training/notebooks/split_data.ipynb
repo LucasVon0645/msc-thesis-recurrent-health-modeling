{
 "cells": [
  {
   "cell_type": "markdown",
   "id": "2a6a00e1",
   "metadata": {},
   "source": [
    "# Create Train and Test Dataframes"
   ]
  },
  {
   "cell_type": "code",
   "execution_count": null,
   "id": "f9c8f07a",
   "metadata": {},
   "outputs": [
    {
     "name": "stdout",
     "output_type": "stream",
     "text": [
      "Full data path: /workspaces/msc-thesis-recurrent-health-modeling/data/mimic-iii-preprocessed/copd_hf_renal_diabetes/all_events.csv\n"
     ]
    }
   ],
   "source": [
    "from importlib import resources as impresources\n",
    "from recurrent_health_events_prediction import configs\n",
    "import os\n",
    "import yaml\n",
    "import pandas as pd\n",
    "\n",
    "with open((impresources.files(configs) / 'data_config.yaml')) as f:\n",
    "    data_config = yaml.safe_load(f)\n",
    "\n",
    "DATASET = \"mimic\"\n",
    "training_data_config = data_config['training_data'][DATASET]\n",
    "data_directory = training_data_config['preprocessed_output_path_1st_round']\n",
    "\n",
    "full_data_path = os.path.join(data_directory, \"all_events.csv\")\n",
    "print(f\"Full data path: {full_data_path}\")"
   ]
  },
  {
   "cell_type": "markdown",
   "id": "2c0b557b",
   "metadata": {},
   "source": [
    "## Load Preprocessed Data (1st round)"
   ]
  },
  {
   "cell_type": "code",
   "execution_count": 4,
   "id": "7fd985fd",
   "metadata": {},
   "outputs": [
    {
     "data": {
      "application/vnd.microsoft.datawrangler.viewer.v0+json": {
       "columns": [
        {
         "name": "index",
         "rawType": "int64",
         "type": "integer"
        },
        {
         "name": "SUBJECT_ID",
         "rawType": "int64",
         "type": "integer"
        },
        {
         "name": "HADM_ID",
         "rawType": "int64",
         "type": "integer"
        },
        {
         "name": "ADMITTIME",
         "rawType": "datetime64[ns]",
         "type": "datetime"
        },
        {
         "name": "DISCHTIME",
         "rawType": "object",
         "type": "string"
        },
        {
         "name": "ADMISSION_TYPE",
         "rawType": "object",
         "type": "string"
        },
        {
         "name": "ETHNICITY",
         "rawType": "object",
         "type": "string"
        },
        {
         "name": "DISCHARGE_LOCATION",
         "rawType": "object",
         "type": "string"
        },
        {
         "name": "INSURANCE",
         "rawType": "object",
         "type": "string"
        },
        {
         "name": "HOSPITALIZATION_DAYS",
         "rawType": "float64",
         "type": "float"
        },
        {
         "name": "NUM_COMORBIDITIES",
         "rawType": "int64",
         "type": "integer"
        },
        {
         "name": "TYPES_COMORBIDITIES",
         "rawType": "object",
         "type": "string"
        },
        {
         "name": "HAS_DIABETES",
         "rawType": "bool",
         "type": "boolean"
        },
        {
         "name": "HAS_COPD",
         "rawType": "bool",
         "type": "boolean"
        },
        {
         "name": "HAS_CONGESTIVE_HF",
         "rawType": "bool",
         "type": "boolean"
        },
        {
         "name": "NEXT_ADMISSION_TYPE",
         "rawType": "object",
         "type": "unknown"
        },
        {
         "name": "NUM_PREV_HOSPITALIZATIONS",
         "rawType": "int64",
         "type": "integer"
        },
        {
         "name": "PREV_DISCHTIME",
         "rawType": "object",
         "type": "unknown"
        },
        {
         "name": "NEXT_ADMITTIME",
         "rawType": "object",
         "type": "unknown"
        },
        {
         "name": "DAYS_SINCE_LAST_HOSPITALIZATION",
         "rawType": "float64",
         "type": "float"
        },
        {
         "name": "DAYS_UNTIL_NEXT_HOSPITALIZATION",
         "rawType": "float64",
         "type": "float"
        },
        {
         "name": "LOG_DAYS_SINCE_LAST_HOSPITALIZATION",
         "rawType": "float64",
         "type": "float"
        },
        {
         "name": "LOG_DAYS_UNTIL_NEXT_HOSPITALIZATION",
         "rawType": "float64",
         "type": "float"
        },
        {
         "name": "PREV_READMISSION_30_DAYS",
         "rawType": "int64",
         "type": "integer"
        },
        {
         "name": "READMISSION_30_DAYS",
         "rawType": "int64",
         "type": "integer"
        },
        {
         "name": "READM_30_DAYS_PAST_MEAN",
         "rawType": "float64",
         "type": "float"
        },
        {
         "name": "READM_30_DAYS_PAST_SUM",
         "rawType": "float64",
         "type": "float"
        },
        {
         "name": "LOG_DAYS_UNTIL_NEXT_HOSP_PAST_MEAN",
         "rawType": "float64",
         "type": "float"
        },
        {
         "name": "LOG_DAYS_UNTIL_NEXT_HOSP_PAST_MEDIAN",
         "rawType": "float64",
         "type": "float"
        },
        {
         "name": "LOG_DAYS_UNTIL_NEXT_HOSP_PAST_STD",
         "rawType": "float64",
         "type": "float"
        },
        {
         "name": "TOTAL_HOSPITALIZATIONS",
         "rawType": "int64",
         "type": "integer"
        },
        {
         "name": "DAYS_IN_ICU",
         "rawType": "float64",
         "type": "float"
        },
        {
         "name": "NUM_DRUGS",
         "rawType": "int64",
         "type": "integer"
        },
        {
         "name": "NUM_PROCEDURES",
         "rawType": "int64",
         "type": "integer"
        },
        {
         "name": "GENDER",
         "rawType": "object",
         "type": "string"
        },
        {
         "name": "DOB",
         "rawType": "object",
         "type": "string"
        },
        {
         "name": "DOD",
         "rawType": "object",
         "type": "unknown"
        },
        {
         "name": "DOD_HOSP",
         "rawType": "object",
         "type": "unknown"
        },
        {
         "name": "AGE",
         "rawType": "int64",
         "type": "integer"
        },
        {
         "name": "CHARLSON_INDEX",
         "rawType": "int64",
         "type": "integer"
        },
        {
         "name": "FIRST_ADMITTIME",
         "rawType": "object",
         "type": "string"
        },
        {
         "name": "LAST_DISCHTIME",
         "rawType": "object",
         "type": "string"
        },
        {
         "name": "PARTICIPATION_DAYS",
         "rawType": "int64",
         "type": "integer"
        },
        {
         "name": "TOTAL_PARTICIPATION_DAYS",
         "rawType": "int64",
         "type": "integer"
        },
        {
         "name": "DEATH_TIME_AFTER_LAST_DISCHARGE",
         "rawType": "float64",
         "type": "float"
        },
        {
         "name": "READMISSION_EVENT",
         "rawType": "int64",
         "type": "integer"
        },
        {
         "name": "EVENT_DURATION",
         "rawType": "float64",
         "type": "float"
        },
        {
         "name": "IN_HOSP_DEATH_EVENT",
         "rawType": "int64",
         "type": "integer"
        },
        {
         "name": "AFTER_HOSP_DEATH_EVENT",
         "rawType": "int64",
         "type": "integer"
        },
        {
         "name": "LOG_HOSPITALIZATION_DAYS",
         "rawType": "float64",
         "type": "float"
        },
        {
         "name": "LOG_DAYS_IN_ICU",
         "rawType": "float64",
         "type": "float"
        },
        {
         "name": "LOG_NUM_PREV_HOSPITALIZATIONS",
         "rawType": "float64",
         "type": "float"
        },
        {
         "name": "LOG_PARTICIPATION_DAYS",
         "rawType": "float64",
         "type": "float"
        },
        {
         "name": "LOG_NUM_DRUGS",
         "rawType": "float64",
         "type": "float"
        },
        {
         "name": "IS_LAST_EVENT",
         "rawType": "int64",
         "type": "integer"
        },
        {
         "name": "IS_HISTORICAL_EVENT",
         "rawType": "int64",
         "type": "integer"
        },
        {
         "name": "READMISSION_TIME_CAT",
         "rawType": "object",
         "type": "string"
        },
        {
         "name": "READMISSION_TIME_CAT_ENCODED",
         "rawType": "int64",
         "type": "integer"
        }
       ],
       "ref": "658db1e9-9b95-4b0d-936a-68dc6a922e57",
       "rows": [
        [
         "0",
         "6",
         "107064",
         "2175-05-30 07:15:00",
         "2175-06-15 16:00:00",
         "ELECTIVE",
         "WHITE",
         "HOME HEALTH CARE",
         "Medicare",
         "16.364583333333332",
         "2",
         "['other', 'renal_disease']",
         "False",
         "False",
         "False",
         null,
         "0",
         null,
         null,
         null,
         null,
         null,
         null,
         "-1",
         "0",
         null,
         null,
         null,
         null,
         null,
         "1",
         "3.672916666666667",
         "37",
         "5",
         "F",
         "2109-06-21",
         null,
         null,
         "66",
         "4",
         "2175-05-30 07:15:00",
         "2175-06-15 16:00:00",
         "16",
         "16",
         null,
         "0",
         "120.0",
         "0",
         "0",
         "2.8544326912829576",
         "1.5417834306182718",
         "0.0",
         "2.833213344056216",
         "3.6375861597263857",
         "1",
         "0",
         "120+",
         "2"
        ],
        [
         "1",
         "21",
         "109451",
         "2134-09-11 12:17:00",
         "2134-09-24 16:15:00",
         "EMERGENCY",
         "WHITE",
         "REHAB/DISTINCT PART HOSP",
         "Medicare",
         "13.165277777777776",
         "6",
         "['myocardial_infarct', 'other', 'cerebrovascular_disease', 'congestive_heart_failure', 'diabetes_without_cc', 'renal_disease']",
         "True",
         "False",
         "True",
         "EMERGENCY",
         "0",
         null,
         "2135-01-30 20:50:00",
         null,
         "128.19097222222223",
         null,
         "4.861291714466165",
         "-1",
         "0",
         null,
         null,
         null,
         null,
         null,
         "2",
         "5.901712962962963",
         "52",
         "12",
         "M",
         "2047-04-04",
         "2135-02-08",
         "2135-02-08",
         "87",
         "10",
         "2134-09-11 12:17:00",
         "2135-02-08 02:08:00",
         "13",
         "149",
         "0.0",
         "0",
         "120.0",
         "0",
         "0",
         "2.650793743240417",
         "1.9317696362947945",
         "0.0",
         "2.639057329615259",
         "3.970291913552122",
         "1",
         "0",
         "120+",
         "2"
        ],
        [
         "2",
         "26",
         "197661",
         "2126-05-06 15:16:00",
         "2126-05-13 15:00:00",
         "EMERGENCY",
         "UNKNOWN/NOT SPECIFIED",
         "HOME",
         "Medicare",
         "6.988888888888888",
         "3",
         "['other', 'congestive_heart_failure', 'myocardial_infarct']",
         "False",
         "False",
         "True",
         null,
         "0",
         null,
         null,
         null,
         null,
         null,
         null,
         "-1",
         "0",
         null,
         null,
         null,
         null,
         null,
         "1",
         "2.1406828703703704",
         "30",
         "2",
         "M",
         "2054-05-04",
         "2128-02-25",
         null,
         "72",
         "5",
         "2126-05-06 15:16:00",
         "2126-05-13 15:00:00",
         "6",
         "659",
         "652.375",
         "0",
         "120.0",
         "0",
         "1",
         "2.078051687390781",
         "1.1444402509162257",
         "0.0",
         "1.9459101490553128",
         "3.4339872044851463",
         "1",
         "0",
         "120+",
         "2"
        ],
        [
         "3",
         "28",
         "162569",
         "2177-09-01 07:15:00",
         "2177-09-06 16:00:00",
         "ELECTIVE",
         "WHITE",
         "HOME HEALTH CARE",
         "Medicare",
         "5.364583333333333",
         "4",
         "['other', 'diabetes_without_cc', 'myocardial_infarct', 'chronic_pulmonary_disease']",
         "True",
         "True",
         "False",
         null,
         "0",
         null,
         null,
         null,
         null,
         null,
         null,
         "-1",
         "0",
         null,
         null,
         null,
         null,
         null,
         "1",
         "1.1224074074074075",
         "44",
         "10",
         "M",
         "2103-04-15",
         null,
         null,
         "74",
         "6",
         "2177-09-01 07:15:00",
         "2177-09-06 16:00:00",
         "5",
         "5",
         null,
         "0",
         "120.0",
         "0",
         "0",
         "1.850748767703759",
         "0.7525510139443334",
         "0.0",
         "1.791759469228055",
         "3.80666248977032",
         "1",
         "0",
         "120+",
         "2"
        ],
        [
         "4",
         "30",
         "104557",
         "2172-10-14 14:17:00",
         "2172-10-19 14:37:00",
         "URGENT",
         "UNKNOWN/NOT SPECIFIED",
         "HOME HEALTH CARE",
         "Medicare",
         "5.013888888888888",
         "2",
         "['other', 'congestive_heart_failure']",
         "False",
         "False",
         "True",
         null,
         "0",
         null,
         null,
         null,
         null,
         null,
         null,
         "-1",
         "0",
         null,
         null,
         null,
         null,
         null,
         "1",
         "1.8472222222222223",
         "0",
         "4",
         "M",
         "1872-10-14",
         null,
         null,
         "30",
         "1",
         "2172-10-14 14:17:00",
         "2172-10-19 14:37:00",
         "5",
         "5",
         null,
         "0",
         "120.0",
         "0",
         "0",
         "1.7940716089864344",
         "1.046343860122353",
         "0.0",
         "1.791759469228055",
         "0.0",
         "1",
         "0",
         "120+",
         "2"
        ]
       ],
       "shape": {
        "columns": 57,
        "rows": 5
       }
      },
      "text/html": [
       "<div>\n",
       "<style scoped>\n",
       "    .dataframe tbody tr th:only-of-type {\n",
       "        vertical-align: middle;\n",
       "    }\n",
       "\n",
       "    .dataframe tbody tr th {\n",
       "        vertical-align: top;\n",
       "    }\n",
       "\n",
       "    .dataframe thead th {\n",
       "        text-align: right;\n",
       "    }\n",
       "</style>\n",
       "<table border=\"1\" class=\"dataframe\">\n",
       "  <thead>\n",
       "    <tr style=\"text-align: right;\">\n",
       "      <th></th>\n",
       "      <th>SUBJECT_ID</th>\n",
       "      <th>HADM_ID</th>\n",
       "      <th>ADMITTIME</th>\n",
       "      <th>DISCHTIME</th>\n",
       "      <th>ADMISSION_TYPE</th>\n",
       "      <th>ETHNICITY</th>\n",
       "      <th>DISCHARGE_LOCATION</th>\n",
       "      <th>INSURANCE</th>\n",
       "      <th>HOSPITALIZATION_DAYS</th>\n",
       "      <th>NUM_COMORBIDITIES</th>\n",
       "      <th>...</th>\n",
       "      <th>AFTER_HOSP_DEATH_EVENT</th>\n",
       "      <th>LOG_HOSPITALIZATION_DAYS</th>\n",
       "      <th>LOG_DAYS_IN_ICU</th>\n",
       "      <th>LOG_NUM_PREV_HOSPITALIZATIONS</th>\n",
       "      <th>LOG_PARTICIPATION_DAYS</th>\n",
       "      <th>LOG_NUM_DRUGS</th>\n",
       "      <th>IS_LAST_EVENT</th>\n",
       "      <th>IS_HISTORICAL_EVENT</th>\n",
       "      <th>READMISSION_TIME_CAT</th>\n",
       "      <th>READMISSION_TIME_CAT_ENCODED</th>\n",
       "    </tr>\n",
       "  </thead>\n",
       "  <tbody>\n",
       "    <tr>\n",
       "      <th>0</th>\n",
       "      <td>6</td>\n",
       "      <td>107064</td>\n",
       "      <td>2175-05-30 07:15:00</td>\n",
       "      <td>2175-06-15 16:00:00</td>\n",
       "      <td>ELECTIVE</td>\n",
       "      <td>WHITE</td>\n",
       "      <td>HOME HEALTH CARE</td>\n",
       "      <td>Medicare</td>\n",
       "      <td>16.364583</td>\n",
       "      <td>2</td>\n",
       "      <td>...</td>\n",
       "      <td>0</td>\n",
       "      <td>2.854433</td>\n",
       "      <td>1.541783</td>\n",
       "      <td>0.0</td>\n",
       "      <td>2.833213</td>\n",
       "      <td>3.637586</td>\n",
       "      <td>1</td>\n",
       "      <td>0</td>\n",
       "      <td>120+</td>\n",
       "      <td>2</td>\n",
       "    </tr>\n",
       "    <tr>\n",
       "      <th>1</th>\n",
       "      <td>21</td>\n",
       "      <td>109451</td>\n",
       "      <td>2134-09-11 12:17:00</td>\n",
       "      <td>2134-09-24 16:15:00</td>\n",
       "      <td>EMERGENCY</td>\n",
       "      <td>WHITE</td>\n",
       "      <td>REHAB/DISTINCT PART HOSP</td>\n",
       "      <td>Medicare</td>\n",
       "      <td>13.165278</td>\n",
       "      <td>6</td>\n",
       "      <td>...</td>\n",
       "      <td>0</td>\n",
       "      <td>2.650794</td>\n",
       "      <td>1.931770</td>\n",
       "      <td>0.0</td>\n",
       "      <td>2.639057</td>\n",
       "      <td>3.970292</td>\n",
       "      <td>1</td>\n",
       "      <td>0</td>\n",
       "      <td>120+</td>\n",
       "      <td>2</td>\n",
       "    </tr>\n",
       "    <tr>\n",
       "      <th>2</th>\n",
       "      <td>26</td>\n",
       "      <td>197661</td>\n",
       "      <td>2126-05-06 15:16:00</td>\n",
       "      <td>2126-05-13 15:00:00</td>\n",
       "      <td>EMERGENCY</td>\n",
       "      <td>UNKNOWN/NOT SPECIFIED</td>\n",
       "      <td>HOME</td>\n",
       "      <td>Medicare</td>\n",
       "      <td>6.988889</td>\n",
       "      <td>3</td>\n",
       "      <td>...</td>\n",
       "      <td>1</td>\n",
       "      <td>2.078052</td>\n",
       "      <td>1.144440</td>\n",
       "      <td>0.0</td>\n",
       "      <td>1.945910</td>\n",
       "      <td>3.433987</td>\n",
       "      <td>1</td>\n",
       "      <td>0</td>\n",
       "      <td>120+</td>\n",
       "      <td>2</td>\n",
       "    </tr>\n",
       "    <tr>\n",
       "      <th>3</th>\n",
       "      <td>28</td>\n",
       "      <td>162569</td>\n",
       "      <td>2177-09-01 07:15:00</td>\n",
       "      <td>2177-09-06 16:00:00</td>\n",
       "      <td>ELECTIVE</td>\n",
       "      <td>WHITE</td>\n",
       "      <td>HOME HEALTH CARE</td>\n",
       "      <td>Medicare</td>\n",
       "      <td>5.364583</td>\n",
       "      <td>4</td>\n",
       "      <td>...</td>\n",
       "      <td>0</td>\n",
       "      <td>1.850749</td>\n",
       "      <td>0.752551</td>\n",
       "      <td>0.0</td>\n",
       "      <td>1.791759</td>\n",
       "      <td>3.806662</td>\n",
       "      <td>1</td>\n",
       "      <td>0</td>\n",
       "      <td>120+</td>\n",
       "      <td>2</td>\n",
       "    </tr>\n",
       "    <tr>\n",
       "      <th>4</th>\n",
       "      <td>30</td>\n",
       "      <td>104557</td>\n",
       "      <td>2172-10-14 14:17:00</td>\n",
       "      <td>2172-10-19 14:37:00</td>\n",
       "      <td>URGENT</td>\n",
       "      <td>UNKNOWN/NOT SPECIFIED</td>\n",
       "      <td>HOME HEALTH CARE</td>\n",
       "      <td>Medicare</td>\n",
       "      <td>5.013889</td>\n",
       "      <td>2</td>\n",
       "      <td>...</td>\n",
       "      <td>0</td>\n",
       "      <td>1.794072</td>\n",
       "      <td>1.046344</td>\n",
       "      <td>0.0</td>\n",
       "      <td>1.791759</td>\n",
       "      <td>0.000000</td>\n",
       "      <td>1</td>\n",
       "      <td>0</td>\n",
       "      <td>120+</td>\n",
       "      <td>2</td>\n",
       "    </tr>\n",
       "  </tbody>\n",
       "</table>\n",
       "<p>5 rows × 57 columns</p>\n",
       "</div>"
      ],
      "text/plain": [
       "   SUBJECT_ID  HADM_ID           ADMITTIME            DISCHTIME  \\\n",
       "0           6   107064 2175-05-30 07:15:00  2175-06-15 16:00:00   \n",
       "1          21   109451 2134-09-11 12:17:00  2134-09-24 16:15:00   \n",
       "2          26   197661 2126-05-06 15:16:00  2126-05-13 15:00:00   \n",
       "3          28   162569 2177-09-01 07:15:00  2177-09-06 16:00:00   \n",
       "4          30   104557 2172-10-14 14:17:00  2172-10-19 14:37:00   \n",
       "\n",
       "  ADMISSION_TYPE              ETHNICITY        DISCHARGE_LOCATION INSURANCE  \\\n",
       "0       ELECTIVE                  WHITE          HOME HEALTH CARE  Medicare   \n",
       "1      EMERGENCY                  WHITE  REHAB/DISTINCT PART HOSP  Medicare   \n",
       "2      EMERGENCY  UNKNOWN/NOT SPECIFIED                      HOME  Medicare   \n",
       "3       ELECTIVE                  WHITE          HOME HEALTH CARE  Medicare   \n",
       "4         URGENT  UNKNOWN/NOT SPECIFIED          HOME HEALTH CARE  Medicare   \n",
       "\n",
       "   HOSPITALIZATION_DAYS  NUM_COMORBIDITIES  ... AFTER_HOSP_DEATH_EVENT  \\\n",
       "0             16.364583                  2  ...                      0   \n",
       "1             13.165278                  6  ...                      0   \n",
       "2              6.988889                  3  ...                      1   \n",
       "3              5.364583                  4  ...                      0   \n",
       "4              5.013889                  2  ...                      0   \n",
       "\n",
       "   LOG_HOSPITALIZATION_DAYS  LOG_DAYS_IN_ICU  LOG_NUM_PREV_HOSPITALIZATIONS  \\\n",
       "0                  2.854433         1.541783                            0.0   \n",
       "1                  2.650794         1.931770                            0.0   \n",
       "2                  2.078052         1.144440                            0.0   \n",
       "3                  1.850749         0.752551                            0.0   \n",
       "4                  1.794072         1.046344                            0.0   \n",
       "\n",
       "  LOG_PARTICIPATION_DAYS  LOG_NUM_DRUGS IS_LAST_EVENT IS_HISTORICAL_EVENT  \\\n",
       "0               2.833213       3.637586             1                   0   \n",
       "1               2.639057       3.970292             1                   0   \n",
       "2               1.945910       3.433987             1                   0   \n",
       "3               1.791759       3.806662             1                   0   \n",
       "4               1.791759       0.000000             1                   0   \n",
       "\n",
       "   READMISSION_TIME_CAT  READMISSION_TIME_CAT_ENCODED  \n",
       "0                  120+                             2  \n",
       "1                  120+                             2  \n",
       "2                  120+                             2  \n",
       "3                  120+                             2  \n",
       "4                  120+                             2  \n",
       "\n",
       "[5 rows x 57 columns]"
      ]
     },
     "execution_count": 4,
     "metadata": {},
     "output_type": "execute_result"
    }
   ],
   "source": [
    "df = pd.read_csv(full_data_path)\n",
    "df[\"ADMITTIME\"] = pd.to_datetime(df[\"ADMITTIME\"])\n",
    "df.head()"
   ]
  },
  {
   "cell_type": "code",
   "execution_count": 5,
   "id": "e3813a18",
   "metadata": {},
   "outputs": [],
   "source": [
    "assert df['IN_HOSP_DEATH_EVENT'].sum().item() == 0, \"There are in-hospital death events in the dataset!\"\n",
    "assert (df['IS_HISTORICAL_EVENT'] + df['IS_LAST_EVENT']).sum().item() != 0, \"There are events that are neither historical nor last events, or both!\""
   ]
  },
  {
   "cell_type": "markdown",
   "id": "9b80f3dc",
   "metadata": {},
   "source": [
    "## Remap Some Categorical Features"
   ]
  },
  {
   "cell_type": "code",
   "execution_count": 6,
   "id": "0055acc5",
   "metadata": {},
   "outputs": [],
   "source": [
    "from recurrent_health_events_prediction.preprocessing.utils import remap_discharge_location, remap_mimic_races\n",
    "\n",
    "df = remap_discharge_location(df)\n",
    "df = remap_mimic_races(df)"
   ]
  },
  {
   "cell_type": "markdown",
   "id": "43a82140",
   "metadata": {},
   "source": [
    "## One-Hot Encode Features"
   ]
  },
  {
   "cell_type": "code",
   "execution_count": 7,
   "id": "5bab853a",
   "metadata": {},
   "outputs": [
    {
     "data": {
      "application/vnd.microsoft.datawrangler.viewer.v0+json": {
       "columns": [
        {
         "name": "index",
         "rawType": "int64",
         "type": "integer"
        },
        {
         "name": "ADMISSION_TYPE_ELECTIVE",
         "rawType": "bool",
         "type": "boolean"
        },
        {
         "name": "ADMISSION_TYPE_URGENT",
         "rawType": "bool",
         "type": "boolean"
        },
        {
         "name": "DISCHARGE_LOCATION_HOME",
         "rawType": "bool",
         "type": "boolean"
        },
        {
         "name": "DISCHARGE_LOCATION_POST_ACUTE_CARE",
         "rawType": "bool",
         "type": "boolean"
        },
        {
         "name": "ETHNICITY_BLACK",
         "rawType": "bool",
         "type": "boolean"
        },
        {
         "name": "ETHNICITY_HISPANIC",
         "rawType": "bool",
         "type": "boolean"
        },
        {
         "name": "ETHNICITY_WHITE",
         "rawType": "bool",
         "type": "boolean"
        },
        {
         "name": "GENDER_M",
         "rawType": "bool",
         "type": "boolean"
        },
        {
         "name": "INSURANCE_GOVERNMENT",
         "rawType": "bool",
         "type": "boolean"
        },
        {
         "name": "INSURANCE_MEDICAID",
         "rawType": "bool",
         "type": "boolean"
        },
        {
         "name": "INSURANCE_MEDICARE",
         "rawType": "bool",
         "type": "boolean"
        },
        {
         "name": "INSURANCE_PRIVATE",
         "rawType": "bool",
         "type": "boolean"
        }
       ],
       "ref": "96e0f9c5-f4c1-4c54-b14a-65665c829d55",
       "rows": [
        [
         "0",
         "True",
         "False",
         "True",
         "False",
         "False",
         "False",
         "True",
         "False",
         "False",
         "False",
         "True",
         "False"
        ],
        [
         "1",
         "False",
         "False",
         "False",
         "True",
         "False",
         "False",
         "True",
         "True",
         "False",
         "False",
         "True",
         "False"
        ],
        [
         "2",
         "False",
         "False",
         "True",
         "False",
         "False",
         "False",
         "False",
         "True",
         "False",
         "False",
         "True",
         "False"
        ],
        [
         "3",
         "True",
         "False",
         "True",
         "False",
         "False",
         "False",
         "True",
         "True",
         "False",
         "False",
         "True",
         "False"
        ],
        [
         "4",
         "False",
         "True",
         "True",
         "False",
         "False",
         "False",
         "False",
         "True",
         "False",
         "False",
         "True",
         "False"
        ]
       ],
       "shape": {
        "columns": 12,
        "rows": 5
       }
      },
      "text/html": [
       "<div>\n",
       "<style scoped>\n",
       "    .dataframe tbody tr th:only-of-type {\n",
       "        vertical-align: middle;\n",
       "    }\n",
       "\n",
       "    .dataframe tbody tr th {\n",
       "        vertical-align: top;\n",
       "    }\n",
       "\n",
       "    .dataframe thead th {\n",
       "        text-align: right;\n",
       "    }\n",
       "</style>\n",
       "<table border=\"1\" class=\"dataframe\">\n",
       "  <thead>\n",
       "    <tr style=\"text-align: right;\">\n",
       "      <th></th>\n",
       "      <th>ADMISSION_TYPE_ELECTIVE</th>\n",
       "      <th>ADMISSION_TYPE_URGENT</th>\n",
       "      <th>DISCHARGE_LOCATION_HOME</th>\n",
       "      <th>DISCHARGE_LOCATION_POST_ACUTE_CARE</th>\n",
       "      <th>ETHNICITY_BLACK</th>\n",
       "      <th>ETHNICITY_HISPANIC</th>\n",
       "      <th>ETHNICITY_WHITE</th>\n",
       "      <th>GENDER_M</th>\n",
       "      <th>INSURANCE_GOVERNMENT</th>\n",
       "      <th>INSURANCE_MEDICAID</th>\n",
       "      <th>INSURANCE_MEDICARE</th>\n",
       "      <th>INSURANCE_PRIVATE</th>\n",
       "    </tr>\n",
       "  </thead>\n",
       "  <tbody>\n",
       "    <tr>\n",
       "      <th>0</th>\n",
       "      <td>True</td>\n",
       "      <td>False</td>\n",
       "      <td>True</td>\n",
       "      <td>False</td>\n",
       "      <td>False</td>\n",
       "      <td>False</td>\n",
       "      <td>True</td>\n",
       "      <td>False</td>\n",
       "      <td>False</td>\n",
       "      <td>False</td>\n",
       "      <td>True</td>\n",
       "      <td>False</td>\n",
       "    </tr>\n",
       "    <tr>\n",
       "      <th>1</th>\n",
       "      <td>False</td>\n",
       "      <td>False</td>\n",
       "      <td>False</td>\n",
       "      <td>True</td>\n",
       "      <td>False</td>\n",
       "      <td>False</td>\n",
       "      <td>True</td>\n",
       "      <td>True</td>\n",
       "      <td>False</td>\n",
       "      <td>False</td>\n",
       "      <td>True</td>\n",
       "      <td>False</td>\n",
       "    </tr>\n",
       "    <tr>\n",
       "      <th>2</th>\n",
       "      <td>False</td>\n",
       "      <td>False</td>\n",
       "      <td>True</td>\n",
       "      <td>False</td>\n",
       "      <td>False</td>\n",
       "      <td>False</td>\n",
       "      <td>False</td>\n",
       "      <td>True</td>\n",
       "      <td>False</td>\n",
       "      <td>False</td>\n",
       "      <td>True</td>\n",
       "      <td>False</td>\n",
       "    </tr>\n",
       "    <tr>\n",
       "      <th>3</th>\n",
       "      <td>True</td>\n",
       "      <td>False</td>\n",
       "      <td>True</td>\n",
       "      <td>False</td>\n",
       "      <td>False</td>\n",
       "      <td>False</td>\n",
       "      <td>True</td>\n",
       "      <td>True</td>\n",
       "      <td>False</td>\n",
       "      <td>False</td>\n",
       "      <td>True</td>\n",
       "      <td>False</td>\n",
       "    </tr>\n",
       "    <tr>\n",
       "      <th>4</th>\n",
       "      <td>False</td>\n",
       "      <td>True</td>\n",
       "      <td>True</td>\n",
       "      <td>False</td>\n",
       "      <td>False</td>\n",
       "      <td>False</td>\n",
       "      <td>False</td>\n",
       "      <td>True</td>\n",
       "      <td>False</td>\n",
       "      <td>False</td>\n",
       "      <td>True</td>\n",
       "      <td>False</td>\n",
       "    </tr>\n",
       "  </tbody>\n",
       "</table>\n",
       "</div>"
      ],
      "text/plain": [
       "   ADMISSION_TYPE_ELECTIVE  ADMISSION_TYPE_URGENT  DISCHARGE_LOCATION_HOME  \\\n",
       "0                     True                  False                     True   \n",
       "1                    False                  False                    False   \n",
       "2                    False                  False                     True   \n",
       "3                     True                  False                     True   \n",
       "4                    False                   True                     True   \n",
       "\n",
       "   DISCHARGE_LOCATION_POST_ACUTE_CARE  ETHNICITY_BLACK  ETHNICITY_HISPANIC  \\\n",
       "0                               False            False               False   \n",
       "1                                True            False               False   \n",
       "2                               False            False               False   \n",
       "3                               False            False               False   \n",
       "4                               False            False               False   \n",
       "\n",
       "   ETHNICITY_WHITE  GENDER_M  INSURANCE_GOVERNMENT  INSURANCE_MEDICAID  \\\n",
       "0             True     False                 False               False   \n",
       "1             True      True                 False               False   \n",
       "2            False      True                 False               False   \n",
       "3             True      True                 False               False   \n",
       "4            False      True                 False               False   \n",
       "\n",
       "   INSURANCE_MEDICARE  INSURANCE_PRIVATE  \n",
       "0                True              False  \n",
       "1                True              False  \n",
       "2                True              False  \n",
       "3                True              False  \n",
       "4                True              False  "
      ]
     },
     "execution_count": 7,
     "metadata": {},
     "output_type": "execute_result"
    }
   ],
   "source": [
    "from recurrent_health_events_prediction.training.utils import (\n",
    "    preprocess_features_to_one_hot_encode,\n",
    ")\n",
    "\n",
    "features_to_one_hot_encode = training_data_config[\"features_to_one_hot_encode\"]\n",
    "one_hot_cols_to_drop = training_data_config[\"one_hot_cols_to_drop\"]\n",
    "\n",
    "df, new_cols = preprocess_features_to_one_hot_encode(\n",
    "    df,\n",
    "    features_to_encode=features_to_one_hot_encode,\n",
    "    one_hot_cols_to_drop=one_hot_cols_to_drop,\n",
    ")\n",
    "df[new_cols].head()"
   ]
  },
  {
   "cell_type": "markdown",
   "id": "ffb24955",
   "metadata": {},
   "source": [
    "## Split Train and Test Sets"
   ]
  },
  {
   "cell_type": "code",
   "execution_count": 8,
   "id": "0e76dd05",
   "metadata": {},
   "outputs": [
    {
     "data": {
      "application/vnd.microsoft.datawrangler.viewer.v0+json": {
       "columns": [
        {
         "name": "index",
         "rawType": "object",
         "type": "string"
        },
        {
         "name": "patients",
         "rawType": "float64",
         "type": "float"
        },
        {
         "name": "num_visits_mean",
         "rawType": "float64",
         "type": "float"
        },
        {
         "name": "num_visits_median",
         "rawType": "float64",
         "type": "float"
        },
        {
         "name": "any_readmission_rate",
         "rawType": "float64",
         "type": "float"
        },
        {
         "name": "mean_readmission_mean",
         "rawType": "float64",
         "type": "float"
        },
        {
         "name": "mean_charlson_mean",
         "rawType": "float64",
         "type": "float"
        }
       ],
       "ref": "9798fa6a-3fa8-4b0c-89e9-a9b96c1be0e2",
       "rows": [
        [
         "train",
         "10826.0",
         "1.2995566229447626",
         "1.0",
         "0.11998891557361907",
         "0.08382140147149099",
         "4.889161013043546"
        ],
        [
         "test",
         "2707.0",
         "1.3066124861470263",
         "1.0",
         "0.1207979312892501",
         "0.08498518884555087",
         "4.890816384596399"
        ]
       ],
       "shape": {
        "columns": 6,
        "rows": 2
       }
      },
      "text/html": [
       "<div>\n",
       "<style scoped>\n",
       "    .dataframe tbody tr th:only-of-type {\n",
       "        vertical-align: middle;\n",
       "    }\n",
       "\n",
       "    .dataframe tbody tr th {\n",
       "        vertical-align: top;\n",
       "    }\n",
       "\n",
       "    .dataframe thead th {\n",
       "        text-align: right;\n",
       "    }\n",
       "</style>\n",
       "<table border=\"1\" class=\"dataframe\">\n",
       "  <thead>\n",
       "    <tr style=\"text-align: right;\">\n",
       "      <th></th>\n",
       "      <th>patients</th>\n",
       "      <th>num_visits_mean</th>\n",
       "      <th>num_visits_median</th>\n",
       "      <th>any_readmission_rate</th>\n",
       "      <th>mean_readmission_mean</th>\n",
       "      <th>mean_charlson_mean</th>\n",
       "    </tr>\n",
       "  </thead>\n",
       "  <tbody>\n",
       "    <tr>\n",
       "      <th>train</th>\n",
       "      <td>10826.0</td>\n",
       "      <td>1.299557</td>\n",
       "      <td>1.0</td>\n",
       "      <td>0.119989</td>\n",
       "      <td>0.083821</td>\n",
       "      <td>4.889161</td>\n",
       "    </tr>\n",
       "    <tr>\n",
       "      <th>test</th>\n",
       "      <td>2707.0</td>\n",
       "      <td>1.306612</td>\n",
       "      <td>1.0</td>\n",
       "      <td>0.120798</td>\n",
       "      <td>0.084985</td>\n",
       "      <td>4.890816</td>\n",
       "    </tr>\n",
       "  </tbody>\n",
       "</table>\n",
       "</div>"
      ],
      "text/plain": [
       "       patients  num_visits_mean  num_visits_median  any_readmission_rate  \\\n",
       "train   10826.0         1.299557                1.0              0.119989   \n",
       "test     2707.0         1.306612                1.0              0.120798   \n",
       "\n",
       "       mean_readmission_mean  mean_charlson_mean  \n",
       "train               0.083821            4.889161  \n",
       "test                0.084985            4.890816  "
      ]
     },
     "execution_count": 8,
     "metadata": {},
     "output_type": "execute_result"
    }
   ],
   "source": [
    "from recurrent_health_events_prediction.training.split import split_train_test_stratified_group\n",
    "\n",
    "res = split_train_test_stratified_group(\n",
    "    df,\n",
    "    subject_id_col=\"SUBJECT_ID\",\n",
    "    label_col=\"READMISSION_30_DAYS\",\n",
    "    charlson_col=\"CHARLSON_INDEX\",\n",
    "    test_size=0.2,\n",
    "    random_state=42,\n",
    "    min_stratum_size=2,\n",
    ")\n",
    "\n",
    "res.balance_report"
   ]
  },
  {
   "cell_type": "code",
   "execution_count": 9,
   "id": "78869e5a",
   "metadata": {},
   "outputs": [
    {
     "data": {
      "application/vnd.microsoft.datawrangler.viewer.v0+json": {
       "columns": [
        {
         "name": "index",
         "rawType": "int64",
         "type": "integer"
        },
        {
         "name": "SUBJECT_ID",
         "rawType": "int64",
         "type": "integer"
        },
        {
         "name": "num_visits",
         "rawType": "int64",
         "type": "integer"
        },
        {
         "name": "any_readmission",
         "rawType": "int64",
         "type": "integer"
        },
        {
         "name": "mean_readmission",
         "rawType": "float64",
         "type": "float"
        },
        {
         "name": "mean_CHARLSON_INDEX",
         "rawType": "float64",
         "type": "float"
        },
        {
         "name": "b_num_visits",
         "rawType": "object",
         "type": "string"
        },
        {
         "name": "b_mean_readmission",
         "rawType": "object",
         "type": "string"
        },
        {
         "name": "b_mean_charlson",
         "rawType": "object",
         "type": "string"
        },
        {
         "name": "b_any_readm",
         "rawType": "object",
         "type": "string"
        },
        {
         "name": "strata",
         "rawType": "object",
         "type": "string"
        }
       ],
       "ref": "175ba82b-4b8a-46f7-83b7-c098257b16d0",
       "rows": [
        [
         "0",
         "6",
         "1",
         "0",
         "0.0",
         "4.0",
         "1",
         "0",
         "2-4",
         "0",
         "1|0|0|2-4"
        ],
        [
         "1",
         "21",
         "1",
         "0",
         "0.0",
         "10.0",
         "1",
         "0",
         "8-10",
         "0",
         "1|0|0|8-10"
        ],
        [
         "2",
         "26",
         "1",
         "0",
         "0.0",
         "5.0",
         "1",
         "0",
         "4-6",
         "0",
         "1|0|0|4-6"
        ],
        [
         "3",
         "28",
         "1",
         "0",
         "0.0",
         "6.0",
         "1",
         "0",
         "4-6",
         "0",
         "1|0|0|4-6"
        ],
        [
         "4",
         "30",
         "1",
         "0",
         "0.0",
         "1.0",
         "1",
         "0",
         "0-2",
         "0",
         "1|0|0|0-2"
        ],
        [
         "5",
         "32",
         "1",
         "0",
         "0.0",
         "1.0",
         "1",
         "0",
         "0-2",
         "0",
         "1|0|0|0-2"
        ],
        [
         "6",
         "33",
         "1",
         "0",
         "0.0",
         "5.0",
         "1",
         "0",
         "4-6",
         "0",
         "1|0|0|4-6"
        ],
        [
         "7",
         "34",
         "1",
         "0",
         "0.0",
         "2.0",
         "1",
         "0",
         "0-2",
         "0",
         "1|0|0|0-2"
        ],
        [
         "8",
         "36",
         "2",
         "1",
         "0.5",
         "3.0",
         "2",
         "(0.3,0.6]",
         "2-4",
         "1",
         "2|(0.3,0.6]|1|2-4"
        ],
        [
         "9",
         "37",
         "1",
         "0",
         "0.0",
         "6.0",
         "1",
         "0",
         "4-6",
         "0",
         "1|0|0|4-6"
        ]
       ],
       "shape": {
        "columns": 10,
        "rows": 10
       }
      },
      "text/html": [
       "<div>\n",
       "<style scoped>\n",
       "    .dataframe tbody tr th:only-of-type {\n",
       "        vertical-align: middle;\n",
       "    }\n",
       "\n",
       "    .dataframe tbody tr th {\n",
       "        vertical-align: top;\n",
       "    }\n",
       "\n",
       "    .dataframe thead th {\n",
       "        text-align: right;\n",
       "    }\n",
       "</style>\n",
       "<table border=\"1\" class=\"dataframe\">\n",
       "  <thead>\n",
       "    <tr style=\"text-align: right;\">\n",
       "      <th></th>\n",
       "      <th>SUBJECT_ID</th>\n",
       "      <th>num_visits</th>\n",
       "      <th>any_readmission</th>\n",
       "      <th>mean_readmission</th>\n",
       "      <th>mean_CHARLSON_INDEX</th>\n",
       "      <th>b_num_visits</th>\n",
       "      <th>b_mean_readmission</th>\n",
       "      <th>b_mean_charlson</th>\n",
       "      <th>b_any_readm</th>\n",
       "      <th>strata</th>\n",
       "    </tr>\n",
       "  </thead>\n",
       "  <tbody>\n",
       "    <tr>\n",
       "      <th>0</th>\n",
       "      <td>6</td>\n",
       "      <td>1</td>\n",
       "      <td>0</td>\n",
       "      <td>0.0</td>\n",
       "      <td>4.0</td>\n",
       "      <td>1</td>\n",
       "      <td>0</td>\n",
       "      <td>2-4</td>\n",
       "      <td>0</td>\n",
       "      <td>1|0|0|2-4</td>\n",
       "    </tr>\n",
       "    <tr>\n",
       "      <th>1</th>\n",
       "      <td>21</td>\n",
       "      <td>1</td>\n",
       "      <td>0</td>\n",
       "      <td>0.0</td>\n",
       "      <td>10.0</td>\n",
       "      <td>1</td>\n",
       "      <td>0</td>\n",
       "      <td>8-10</td>\n",
       "      <td>0</td>\n",
       "      <td>1|0|0|8-10</td>\n",
       "    </tr>\n",
       "    <tr>\n",
       "      <th>2</th>\n",
       "      <td>26</td>\n",
       "      <td>1</td>\n",
       "      <td>0</td>\n",
       "      <td>0.0</td>\n",
       "      <td>5.0</td>\n",
       "      <td>1</td>\n",
       "      <td>0</td>\n",
       "      <td>4-6</td>\n",
       "      <td>0</td>\n",
       "      <td>1|0|0|4-6</td>\n",
       "    </tr>\n",
       "    <tr>\n",
       "      <th>3</th>\n",
       "      <td>28</td>\n",
       "      <td>1</td>\n",
       "      <td>0</td>\n",
       "      <td>0.0</td>\n",
       "      <td>6.0</td>\n",
       "      <td>1</td>\n",
       "      <td>0</td>\n",
       "      <td>4-6</td>\n",
       "      <td>0</td>\n",
       "      <td>1|0|0|4-6</td>\n",
       "    </tr>\n",
       "    <tr>\n",
       "      <th>4</th>\n",
       "      <td>30</td>\n",
       "      <td>1</td>\n",
       "      <td>0</td>\n",
       "      <td>0.0</td>\n",
       "      <td>1.0</td>\n",
       "      <td>1</td>\n",
       "      <td>0</td>\n",
       "      <td>0-2</td>\n",
       "      <td>0</td>\n",
       "      <td>1|0|0|0-2</td>\n",
       "    </tr>\n",
       "    <tr>\n",
       "      <th>5</th>\n",
       "      <td>32</td>\n",
       "      <td>1</td>\n",
       "      <td>0</td>\n",
       "      <td>0.0</td>\n",
       "      <td>1.0</td>\n",
       "      <td>1</td>\n",
       "      <td>0</td>\n",
       "      <td>0-2</td>\n",
       "      <td>0</td>\n",
       "      <td>1|0|0|0-2</td>\n",
       "    </tr>\n",
       "    <tr>\n",
       "      <th>6</th>\n",
       "      <td>33</td>\n",
       "      <td>1</td>\n",
       "      <td>0</td>\n",
       "      <td>0.0</td>\n",
       "      <td>5.0</td>\n",
       "      <td>1</td>\n",
       "      <td>0</td>\n",
       "      <td>4-6</td>\n",
       "      <td>0</td>\n",
       "      <td>1|0|0|4-6</td>\n",
       "    </tr>\n",
       "    <tr>\n",
       "      <th>7</th>\n",
       "      <td>34</td>\n",
       "      <td>1</td>\n",
       "      <td>0</td>\n",
       "      <td>0.0</td>\n",
       "      <td>2.0</td>\n",
       "      <td>1</td>\n",
       "      <td>0</td>\n",
       "      <td>0-2</td>\n",
       "      <td>0</td>\n",
       "      <td>1|0|0|0-2</td>\n",
       "    </tr>\n",
       "    <tr>\n",
       "      <th>8</th>\n",
       "      <td>36</td>\n",
       "      <td>2</td>\n",
       "      <td>1</td>\n",
       "      <td>0.5</td>\n",
       "      <td>3.0</td>\n",
       "      <td>2</td>\n",
       "      <td>(0.3,0.6]</td>\n",
       "      <td>2-4</td>\n",
       "      <td>1</td>\n",
       "      <td>2|(0.3,0.6]|1|2-4</td>\n",
       "    </tr>\n",
       "    <tr>\n",
       "      <th>9</th>\n",
       "      <td>37</td>\n",
       "      <td>1</td>\n",
       "      <td>0</td>\n",
       "      <td>0.0</td>\n",
       "      <td>6.0</td>\n",
       "      <td>1</td>\n",
       "      <td>0</td>\n",
       "      <td>4-6</td>\n",
       "      <td>0</td>\n",
       "      <td>1|0|0|4-6</td>\n",
       "    </tr>\n",
       "  </tbody>\n",
       "</table>\n",
       "</div>"
      ],
      "text/plain": [
       "   SUBJECT_ID  num_visits  any_readmission  mean_readmission  \\\n",
       "0           6           1                0               0.0   \n",
       "1          21           1                0               0.0   \n",
       "2          26           1                0               0.0   \n",
       "3          28           1                0               0.0   \n",
       "4          30           1                0               0.0   \n",
       "5          32           1                0               0.0   \n",
       "6          33           1                0               0.0   \n",
       "7          34           1                0               0.0   \n",
       "8          36           2                1               0.5   \n",
       "9          37           1                0               0.0   \n",
       "\n",
       "   mean_CHARLSON_INDEX b_num_visits b_mean_readmission b_mean_charlson  \\\n",
       "0                  4.0            1                  0             2-4   \n",
       "1                 10.0            1                  0            8-10   \n",
       "2                  5.0            1                  0             4-6   \n",
       "3                  6.0            1                  0             4-6   \n",
       "4                  1.0            1                  0             0-2   \n",
       "5                  1.0            1                  0             0-2   \n",
       "6                  5.0            1                  0             4-6   \n",
       "7                  2.0            1                  0             0-2   \n",
       "8                  3.0            2          (0.3,0.6]             2-4   \n",
       "9                  6.0            1                  0             4-6   \n",
       "\n",
       "  b_any_readm             strata  \n",
       "0           0          1|0|0|2-4  \n",
       "1           0         1|0|0|8-10  \n",
       "2           0          1|0|0|4-6  \n",
       "3           0          1|0|0|4-6  \n",
       "4           0          1|0|0|0-2  \n",
       "5           0          1|0|0|0-2  \n",
       "6           0          1|0|0|4-6  \n",
       "7           0          1|0|0|0-2  \n",
       "8           1  2|(0.3,0.6]|1|2-4  \n",
       "9           0          1|0|0|4-6  "
      ]
     },
     "execution_count": 9,
     "metadata": {},
     "output_type": "execute_result"
    }
   ],
   "source": [
    "res.table.head(10)"
   ]
  },
  {
   "cell_type": "code",
   "execution_count": 10,
   "id": "98fa3ed6",
   "metadata": {},
   "outputs": [],
   "source": [
    "train_df = df[df['SUBJECT_ID'].isin(res.train_ids)]\n",
    "test_df = df[df['SUBJECT_ID'].isin(res.test_ids)]"
   ]
  },
  {
   "cell_type": "code",
   "execution_count": 11,
   "id": "c6051615",
   "metadata": {},
   "outputs": [],
   "source": [
    "train_df = train_df.sort_values(by=['SUBJECT_ID', 'ADMITTIME'])\n",
    "test_df = test_df.sort_values(by=['SUBJECT_ID', 'ADMITTIME'])"
   ]
  },
  {
   "cell_type": "code",
   "execution_count": 12,
   "id": "20c98723",
   "metadata": {},
   "outputs": [
    {
     "name": "stdout",
     "output_type": "stream",
     "text": [
      "/workspaces/msc-thesis-recurrent-health-modeling/data/mimic-iii-preprocessed/copd_hf_renal_diabetes\n"
     ]
    }
   ],
   "source": [
    "train_test_data_dir = os.path.dirname(full_data_path)\n",
    "print(train_test_data_dir)"
   ]
  },
  {
   "cell_type": "code",
   "execution_count": 13,
   "id": "c9376d7c",
   "metadata": {},
   "outputs": [],
   "source": [
    "train_df.to_csv(train_test_data_dir + \"/train_events.csv\", index=False)\n",
    "test_df.to_csv(train_test_data_dir + \"/test_events.csv\", index=False)"
   ]
  },
  {
   "cell_type": "code",
   "execution_count": null,
   "id": "7fb299eb",
   "metadata": {},
   "outputs": [],
   "source": []
  },
  {
   "cell_type": "markdown",
   "id": "673ca09a",
   "metadata": {},
   "source": [
    "## Additional metrics comparison"
   ]
  },
  {
   "cell_type": "markdown",
   "id": "d813a26a",
   "metadata": {},
   "source": [
    "### Admission Type"
   ]
  },
  {
   "cell_type": "code",
   "execution_count": 15,
   "id": "f6804837",
   "metadata": {},
   "outputs": [
    {
     "data": {
      "text/plain": [
       "(np.float64(0.15686971355462365), np.float64(0.16115351993214588))"
      ]
     },
     "execution_count": 15,
     "metadata": {},
     "output_type": "execute_result"
    }
   ],
   "source": [
    "train_df['ADMISSION_TYPE_ELECTIVE'].mean(), test_df['ADMISSION_TYPE_ELECTIVE'].mean()"
   ]
  },
  {
   "cell_type": "markdown",
   "id": "9f469d13",
   "metadata": {},
   "source": [
    "### Readmission Duration Category"
   ]
  },
  {
   "cell_type": "code",
   "execution_count": 16,
   "id": "61be012d",
   "metadata": {},
   "outputs": [
    {
     "data": {
      "application/vnd.microsoft.datawrangler.viewer.v0+json": {
       "columns": [
        {
         "name": "READMISSION_TIME_CAT",
         "rawType": "object",
         "type": "string"
        },
        {
         "name": "proportion",
         "rawType": "float64",
         "type": "float"
        }
       ],
       "ref": "07b16a6c-2f4f-4950-83df-1cd389487aca",
       "rows": [
        [
         "120+",
         "0.7579074561091762"
        ],
        [
         "0-30",
         "0.12324969791740706"
        ],
        [
         "30-120",
         "0.11884284597341674"
        ]
       ],
       "shape": {
        "columns": 1,
        "rows": 3
       }
      },
      "text/plain": [
       "READMISSION_TIME_CAT\n",
       "120+      0.757907\n",
       "0-30      0.123250\n",
       "30-120    0.118843\n",
       "Name: proportion, dtype: float64"
      ]
     },
     "execution_count": 16,
     "metadata": {},
     "output_type": "execute_result"
    }
   ],
   "source": [
    "train_df['READMISSION_TIME_CAT'].value_counts(normalize=True)"
   ]
  },
  {
   "cell_type": "code",
   "execution_count": 17,
   "id": "80f97185",
   "metadata": {},
   "outputs": [
    {
     "data": {
      "application/vnd.microsoft.datawrangler.viewer.v0+json": {
       "columns": [
        {
         "name": "READMISSION_TIME_CAT",
         "rawType": "object",
         "type": "string"
        },
        {
         "name": "proportion",
         "rawType": "float64",
         "type": "float"
        }
       ],
       "ref": "b86eaab1-1dcc-4ac7-9bcc-8c36e924e95f",
       "rows": [
        [
         "120+",
         "0.7520497596833474"
        ],
        [
         "0-30",
         "0.12468193384223919"
        ],
        [
         "30-120",
         "0.12326830647441335"
        ]
       ],
       "shape": {
        "columns": 1,
        "rows": 3
       }
      },
      "text/plain": [
       "READMISSION_TIME_CAT\n",
       "120+      0.752050\n",
       "0-30      0.124682\n",
       "30-120    0.123268\n",
       "Name: proportion, dtype: float64"
      ]
     },
     "execution_count": 17,
     "metadata": {},
     "output_type": "execute_result"
    }
   ],
   "source": [
    "test_df['READMISSION_TIME_CAT'].value_counts(normalize=True)"
   ]
  }
 ],
 "metadata": {
  "kernelspec": {
   "display_name": "recurrent-health-events-prediction-nvorhdTT-py3.10",
   "language": "python",
   "name": "python3"
  },
  "language_info": {
   "codemirror_mode": {
    "name": "ipython",
    "version": 3
   },
   "file_extension": ".py",
   "mimetype": "text/x-python",
   "name": "python",
   "nbconvert_exporter": "python",
   "pygments_lexer": "ipython3",
   "version": "3.10.14"
  }
 },
 "nbformat": 4,
 "nbformat_minor": 5
}
