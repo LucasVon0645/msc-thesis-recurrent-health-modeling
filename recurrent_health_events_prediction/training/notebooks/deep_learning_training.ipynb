{
 "cells": [
  {
   "cell_type": "markdown",
   "id": "9b33f1ff",
   "metadata": {},
   "source": [
    "# Train and Evaluate Deep Learning Models for MIMIC Dataset"
   ]
  },
  {
   "cell_type": "code",
   "execution_count": null,
   "id": "6a643448",
   "metadata": {},
   "outputs": [],
   "source": [
    "from importlib import resources as impresources\n",
    "import os\n",
    "\n",
    "import torch\n",
    "\n",
    "from recurrent_health_events_prediction.utils.general_utils import import_yaml_config\n",
    "from recurrent_health_events_prediction import configs\n",
    "\n",
    "data_config = import_yaml_config(\n",
    "    impresources.files(configs) / \"data_config.yaml\"\n",
    ")\n",
    "\n",
    "training_data_config = data_config['training_data'][\"mimic\"]\n",
    "data_directory = training_data_config['data_directory']\n",
    "\n",
    "OVERWRITE_PREPROCESSED = False"
   ]
  },
  {
   "cell_type": "code",
   "execution_count": 2,
   "id": "63868b12",
   "metadata": {},
   "outputs": [
    {
     "name": "stdout",
     "output_type": "stream",
     "text": [
      "Train and test data directory: /workspaces/msc-thesis-recurrent-health-modeling/data/mimic-iii-preprocessed/copd_hf_renal_diabetes/multiple_hosp_patients/train_test\n"
     ]
    }
   ],
   "source": [
    "print(\"Train and test data directory:\", data_directory)"
   ]
  },
  {
   "cell_type": "code",
   "execution_count": 3,
   "id": "47d49738",
   "metadata": {},
   "outputs": [
    {
     "name": "stdout",
     "output_type": "stream",
     "text": [
      "model_name: GRU Duration Aware Minimal\n",
      "batch_size: 64\n",
      "num_epochs: 100\n",
      "learning_rate: 0.01\n",
      "model_class: GRUNet\n",
      "longitudinal_feat_cols: ['LOG_DAYS_IN_ICU', 'CHARLSON_INDEX', 'DISCHARGE_LOCATION_POST_ACUTE_CARE', 'LOG_DAYS_UNTIL_NEXT_HOSPITALIZATION']\n",
      "current_feat_cols: ['LOG_DAYS_IN_ICU', 'CHARLSON_INDEX', 'LOG_NUM_DRUGS', 'NUM_PROCEDURES', 'DISCHARGE_LOCATION_POST_ACUTE_CARE', 'LOG_PARTICIPATION_DAYS', 'AGE', 'GENDER_M', 'ADMISSION_TYPE_ELECTIVE', 'ETHNICITY_WHITE']\n",
      "max_sequence_length: 4\n",
      "no_elective: True\n",
      "reverse_chronological_order: False\n",
      "model_params: {'input_size_curr': 10, 'hidden_size_head': 32, 'input_size_seq': 4, 'hidden_size_seq': 16, 'num_layers_seq': 1, 'dropout': 0.1}\n"
     ]
    }
   ],
   "source": [
    "model_name = \"gru_duration_aware_min\"\n",
    "model_config_path =f\"/workspaces/msc-thesis-recurrent-health-modeling/_models/mimic/deep_learning/{model_name}/{model_name}_config.yaml\"\n",
    " \n",
    "model_config = import_yaml_config(model_config_path)\n",
    "for key, value in model_config.items():\n",
    "    print(f\"{key}: {value}\")\n",
    "\n",
    "model_params_dict = model_config['model_params']\n",
    "assert model_params_dict['input_size_curr'] == len(model_config['current_feat_cols'])\n",
    "assert model_params_dict['input_size_seq'] == len(model_config['longitudinal_feat_cols'])"
   ]
  },
  {
   "cell_type": "code",
   "execution_count": 4,
   "id": "e1185bb7",
   "metadata": {},
   "outputs": [
    {
     "name": "stdout",
     "output_type": "stream",
     "text": [
      "Model results will be saved to: /workspaces/msc-thesis-recurrent-health-modeling/_models/mimic/deep_learning/gru_duration_aware_min/multiple_hosp_patients\n"
     ]
    }
   ],
   "source": [
    "save_results_dir = os.path.dirname(model_config_path) + \"/multiple_hosp_patients\"\n",
    "print(\"Model results will be saved to:\", save_results_dir)"
   ]
  },
  {
   "cell_type": "code",
   "execution_count": 5,
   "id": "5d33817b",
   "metadata": {},
   "outputs": [
    {
     "name": "stdout",
     "output_type": "stream",
     "text": [
      "Preparing train and test datasets...\n",
      "Creating new PyTorch datasets...\n",
      "Test dataset (all events) size: 1085\n",
      "Test dataset (last events only) size: 353\n",
      "Saved PyTorch datasets to /workspaces/msc-thesis-recurrent-health-modeling/_models/mimic/deep_learning/gru_duration_aware_min/multiple_hosp_patients\n"
     ]
    }
   ],
   "source": [
    "# Prepare datasets (load existing or create + save new)\n",
    "from recurrent_health_events_prediction.training.train_deep_learning_models import prepare_train_test_datasets\n",
    "\n",
    "\n",
    "train_dataset, test_dataset, last_events_test_dataset, train_df_path, test_df_path = prepare_train_test_datasets(\n",
    "    data_directory=data_directory,\n",
    "    training_data_config=training_data_config,\n",
    "    model_config=model_config,\n",
    "    save_output_dir_path=save_results_dir,\n",
    "    save_scaler_dir_path=None,\n",
    "    overwrite_preprocessed=OVERWRITE_PREPROCESSED,\n",
    ")"
   ]
  },
  {
   "cell_type": "markdown",
   "id": "fc3283af",
   "metadata": {},
   "source": [
    "## Inspect Train Data"
   ]
  },
  {
   "cell_type": "code",
   "execution_count": 6,
   "id": "c48d32ae",
   "metadata": {},
   "outputs": [
    {
     "data": {
      "application/vnd.microsoft.datawrangler.viewer.v0+json": {
       "columns": [
        {
         "name": "index",
         "rawType": "object",
         "type": "string"
        },
        {
         "name": "LOG_DAYS_IN_ICU",
         "rawType": "float64",
         "type": "float"
        },
        {
         "name": "CHARLSON_INDEX",
         "rawType": "float64",
         "type": "float"
        },
        {
         "name": "LOG_NUM_DRUGS",
         "rawType": "float64",
         "type": "float"
        },
        {
         "name": "NUM_PROCEDURES",
         "rawType": "float64",
         "type": "float"
        },
        {
         "name": "LOG_PARTICIPATION_DAYS",
         "rawType": "float64",
         "type": "float"
        },
        {
         "name": "AGE",
         "rawType": "float64",
         "type": "float"
        }
       ],
       "ref": "ea9108c6-59b0-492d-9424-3869e36b38dd",
       "rows": [
        [
         "count",
         "4792.0",
         "4792.0",
         "4792.0",
         "4792.0",
         "4792.0",
         "4792.0"
        ],
        [
         "mean",
         "-1.5420793931354428e-16",
         "-1.5420793931354428e-16",
         "-2.965537294491236e-17",
         "8.896611883473709e-17",
         "0.0",
         "3.4103678886649215e-17"
        ],
        [
         "std",
         "1.0001043569008843",
         "1.000104356900884",
         "1.0001043569008843",
         "1.0001043569008843",
         "1.0001043569008843",
         "1.0001043569008843"
        ],
        [
         "min",
         "-1.7769590786019176",
         "-1.986906428202256",
         "-2.987183050398288",
         "-1.0490717762936492",
         "-1.94136451543699",
         "-2.623989483242348"
        ],
        [
         "25%",
         "-0.7121230694535902",
         "-0.785789283766125",
         "-0.0695839258892671",
         "-0.7709598072740006",
         "-0.9414016464428028",
         "-0.6492784546536708"
        ],
        [
         "50%",
         "-0.19271518562304146",
         "0.0149554791912956",
         "0.2501775887060719",
         "-0.2147358692347035",
         "0.1480441361218952",
         "0.091238181067083"
        ],
        [
         "75%",
         "0.4891051079821768",
         "0.8157002421487162",
         "0.5276852881385061",
         "0.3414880688045935",
         "0.903392387863177",
         "0.7700450971444407"
        ],
        [
         "max",
         "4.729544870760188",
         "4.018679293978398",
         "1.594262866933085",
         "5.347503511158267",
         "1.6269684092202756",
         "1.7574006114387792"
        ]
       ],
       "shape": {
        "columns": 6,
        "rows": 8
       }
      },
      "text/html": [
       "<div>\n",
       "<style scoped>\n",
       "    .dataframe tbody tr th:only-of-type {\n",
       "        vertical-align: middle;\n",
       "    }\n",
       "\n",
       "    .dataframe tbody tr th {\n",
       "        vertical-align: top;\n",
       "    }\n",
       "\n",
       "    .dataframe thead th {\n",
       "        text-align: right;\n",
       "    }\n",
       "</style>\n",
       "<table border=\"1\" class=\"dataframe\">\n",
       "  <thead>\n",
       "    <tr style=\"text-align: right;\">\n",
       "      <th></th>\n",
       "      <th>LOG_DAYS_IN_ICU</th>\n",
       "      <th>CHARLSON_INDEX</th>\n",
       "      <th>LOG_NUM_DRUGS</th>\n",
       "      <th>NUM_PROCEDURES</th>\n",
       "      <th>LOG_PARTICIPATION_DAYS</th>\n",
       "      <th>AGE</th>\n",
       "    </tr>\n",
       "  </thead>\n",
       "  <tbody>\n",
       "    <tr>\n",
       "      <th>count</th>\n",
       "      <td>4.792000e+03</td>\n",
       "      <td>4.792000e+03</td>\n",
       "      <td>4.792000e+03</td>\n",
       "      <td>4.792000e+03</td>\n",
       "      <td>4792.000000</td>\n",
       "      <td>4.792000e+03</td>\n",
       "    </tr>\n",
       "    <tr>\n",
       "      <th>mean</th>\n",
       "      <td>-1.542079e-16</td>\n",
       "      <td>-1.542079e-16</td>\n",
       "      <td>-2.965537e-17</td>\n",
       "      <td>8.896612e-17</td>\n",
       "      <td>0.000000</td>\n",
       "      <td>3.410368e-17</td>\n",
       "    </tr>\n",
       "    <tr>\n",
       "      <th>std</th>\n",
       "      <td>1.000104e+00</td>\n",
       "      <td>1.000104e+00</td>\n",
       "      <td>1.000104e+00</td>\n",
       "      <td>1.000104e+00</td>\n",
       "      <td>1.000104</td>\n",
       "      <td>1.000104e+00</td>\n",
       "    </tr>\n",
       "    <tr>\n",
       "      <th>min</th>\n",
       "      <td>-1.776959e+00</td>\n",
       "      <td>-1.986906e+00</td>\n",
       "      <td>-2.987183e+00</td>\n",
       "      <td>-1.049072e+00</td>\n",
       "      <td>-1.941365</td>\n",
       "      <td>-2.623989e+00</td>\n",
       "    </tr>\n",
       "    <tr>\n",
       "      <th>25%</th>\n",
       "      <td>-7.121231e-01</td>\n",
       "      <td>-7.857893e-01</td>\n",
       "      <td>-6.958393e-02</td>\n",
       "      <td>-7.709598e-01</td>\n",
       "      <td>-0.941402</td>\n",
       "      <td>-6.492785e-01</td>\n",
       "    </tr>\n",
       "    <tr>\n",
       "      <th>50%</th>\n",
       "      <td>-1.927152e-01</td>\n",
       "      <td>1.495548e-02</td>\n",
       "      <td>2.501776e-01</td>\n",
       "      <td>-2.147359e-01</td>\n",
       "      <td>0.148044</td>\n",
       "      <td>9.123818e-02</td>\n",
       "    </tr>\n",
       "    <tr>\n",
       "      <th>75%</th>\n",
       "      <td>4.891051e-01</td>\n",
       "      <td>8.157002e-01</td>\n",
       "      <td>5.276853e-01</td>\n",
       "      <td>3.414881e-01</td>\n",
       "      <td>0.903392</td>\n",
       "      <td>7.700451e-01</td>\n",
       "    </tr>\n",
       "    <tr>\n",
       "      <th>max</th>\n",
       "      <td>4.729545e+00</td>\n",
       "      <td>4.018679e+00</td>\n",
       "      <td>1.594263e+00</td>\n",
       "      <td>5.347504e+00</td>\n",
       "      <td>1.626968</td>\n",
       "      <td>1.757401e+00</td>\n",
       "    </tr>\n",
       "  </tbody>\n",
       "</table>\n",
       "</div>"
      ],
      "text/plain": [
       "       LOG_DAYS_IN_ICU  CHARLSON_INDEX  LOG_NUM_DRUGS  NUM_PROCEDURES  \\\n",
       "count     4.792000e+03    4.792000e+03   4.792000e+03    4.792000e+03   \n",
       "mean     -1.542079e-16   -1.542079e-16  -2.965537e-17    8.896612e-17   \n",
       "std       1.000104e+00    1.000104e+00   1.000104e+00    1.000104e+00   \n",
       "min      -1.776959e+00   -1.986906e+00  -2.987183e+00   -1.049072e+00   \n",
       "25%      -7.121231e-01   -7.857893e-01  -6.958393e-02   -7.709598e-01   \n",
       "50%      -1.927152e-01    1.495548e-02   2.501776e-01   -2.147359e-01   \n",
       "75%       4.891051e-01    8.157002e-01   5.276853e-01    3.414881e-01   \n",
       "max       4.729545e+00    4.018679e+00   1.594263e+00    5.347504e+00   \n",
       "\n",
       "       LOG_PARTICIPATION_DAYS           AGE  \n",
       "count             4792.000000  4.792000e+03  \n",
       "mean                 0.000000  3.410368e-17  \n",
       "std                  1.000104  1.000104e+00  \n",
       "min                 -1.941365 -2.623989e+00  \n",
       "25%                 -0.941402 -6.492785e-01  \n",
       "50%                  0.148044  9.123818e-02  \n",
       "75%                  0.903392  7.700451e-01  \n",
       "max                  1.626968  1.757401e+00  "
      ]
     },
     "execution_count": 6,
     "metadata": {},
     "output_type": "execute_result"
    }
   ],
   "source": [
    "import pandas as pd\n",
    "\n",
    "train_df = pd.read_csv(train_df_path)\n",
    "\n",
    "train_df[model_config['current_feat_cols']].describe()"
   ]
  },
  {
   "cell_type": "code",
   "execution_count": 7,
   "id": "3b5bcf49",
   "metadata": {},
   "outputs": [
    {
     "data": {
      "application/vnd.microsoft.datawrangler.viewer.v0+json": {
       "columns": [
        {
         "name": "index",
         "rawType": "object",
         "type": "string"
        },
        {
         "name": "LOG_DAYS_IN_ICU",
         "rawType": "float64",
         "type": "float"
        },
        {
         "name": "CHARLSON_INDEX",
         "rawType": "float64",
         "type": "float"
        },
        {
         "name": "LOG_DAYS_UNTIL_NEXT_HOSPITALIZATION",
         "rawType": "float64",
         "type": "float"
        }
       ],
       "ref": "d00a431a-b51c-43a5-ac57-01938f93b105",
       "rows": [
        [
         "count",
         "4792.0",
         "4792.0",
         "4792.0"
        ],
        [
         "mean",
         "-1.5420793931354428e-16",
         "-1.5420793931354428e-16",
         "-3.5586447533894834e-17"
        ],
        [
         "std",
         "1.0001043569008843",
         "1.000104356900884",
         "1.0001043569008843"
        ],
        [
         "min",
         "-1.7769590786019176",
         "-1.986906428202256",
         "-2.3413077403031903"
        ],
        [
         "25%",
         "-0.7121230694535902",
         "-0.785789283766125",
         "-0.7434079228622257"
        ],
        [
         "50%",
         "-0.19271518562304146",
         "0.0149554791912956",
         "0.0570767186358025"
        ],
        [
         "75%",
         "0.4891051079821768",
         "0.8157002421487162",
         "0.8074353077896823"
        ],
        [
         "max",
         "4.729544870760188",
         "4.018679293978398",
         "2.081791448518337"
        ]
       ],
       "shape": {
        "columns": 3,
        "rows": 8
       }
      },
      "text/html": [
       "<div>\n",
       "<style scoped>\n",
       "    .dataframe tbody tr th:only-of-type {\n",
       "        vertical-align: middle;\n",
       "    }\n",
       "\n",
       "    .dataframe tbody tr th {\n",
       "        vertical-align: top;\n",
       "    }\n",
       "\n",
       "    .dataframe thead th {\n",
       "        text-align: right;\n",
       "    }\n",
       "</style>\n",
       "<table border=\"1\" class=\"dataframe\">\n",
       "  <thead>\n",
       "    <tr style=\"text-align: right;\">\n",
       "      <th></th>\n",
       "      <th>LOG_DAYS_IN_ICU</th>\n",
       "      <th>CHARLSON_INDEX</th>\n",
       "      <th>LOG_DAYS_UNTIL_NEXT_HOSPITALIZATION</th>\n",
       "    </tr>\n",
       "  </thead>\n",
       "  <tbody>\n",
       "    <tr>\n",
       "      <th>count</th>\n",
       "      <td>4.792000e+03</td>\n",
       "      <td>4.792000e+03</td>\n",
       "      <td>4.792000e+03</td>\n",
       "    </tr>\n",
       "    <tr>\n",
       "      <th>mean</th>\n",
       "      <td>-1.542079e-16</td>\n",
       "      <td>-1.542079e-16</td>\n",
       "      <td>-3.558645e-17</td>\n",
       "    </tr>\n",
       "    <tr>\n",
       "      <th>std</th>\n",
       "      <td>1.000104e+00</td>\n",
       "      <td>1.000104e+00</td>\n",
       "      <td>1.000104e+00</td>\n",
       "    </tr>\n",
       "    <tr>\n",
       "      <th>min</th>\n",
       "      <td>-1.776959e+00</td>\n",
       "      <td>-1.986906e+00</td>\n",
       "      <td>-2.341308e+00</td>\n",
       "    </tr>\n",
       "    <tr>\n",
       "      <th>25%</th>\n",
       "      <td>-7.121231e-01</td>\n",
       "      <td>-7.857893e-01</td>\n",
       "      <td>-7.434079e-01</td>\n",
       "    </tr>\n",
       "    <tr>\n",
       "      <th>50%</th>\n",
       "      <td>-1.927152e-01</td>\n",
       "      <td>1.495548e-02</td>\n",
       "      <td>5.707672e-02</td>\n",
       "    </tr>\n",
       "    <tr>\n",
       "      <th>75%</th>\n",
       "      <td>4.891051e-01</td>\n",
       "      <td>8.157002e-01</td>\n",
       "      <td>8.074353e-01</td>\n",
       "    </tr>\n",
       "    <tr>\n",
       "      <th>max</th>\n",
       "      <td>4.729545e+00</td>\n",
       "      <td>4.018679e+00</td>\n",
       "      <td>2.081791e+00</td>\n",
       "    </tr>\n",
       "  </tbody>\n",
       "</table>\n",
       "</div>"
      ],
      "text/plain": [
       "       LOG_DAYS_IN_ICU  CHARLSON_INDEX  LOG_DAYS_UNTIL_NEXT_HOSPITALIZATION\n",
       "count     4.792000e+03    4.792000e+03                         4.792000e+03\n",
       "mean     -1.542079e-16   -1.542079e-16                        -3.558645e-17\n",
       "std       1.000104e+00    1.000104e+00                         1.000104e+00\n",
       "min      -1.776959e+00   -1.986906e+00                        -2.341308e+00\n",
       "25%      -7.121231e-01   -7.857893e-01                        -7.434079e-01\n",
       "50%      -1.927152e-01    1.495548e-02                         5.707672e-02\n",
       "75%       4.891051e-01    8.157002e-01                         8.074353e-01\n",
       "max       4.729545e+00    4.018679e+00                         2.081791e+00"
      ]
     },
     "execution_count": 7,
     "metadata": {},
     "output_type": "execute_result"
    }
   ],
   "source": [
    "train_df[model_config[\"longitudinal_feat_cols\"]].describe()"
   ]
  },
  {
   "cell_type": "code",
   "execution_count": 8,
   "id": "0a3590cd",
   "metadata": {},
   "outputs": [
    {
     "data": {
      "application/vnd.microsoft.datawrangler.viewer.v0+json": {
       "columns": [
        {
         "name": "index",
         "rawType": "object",
         "type": "string"
        },
        {
         "name": "LOG_DAYS_IN_ICU",
         "rawType": "float64",
         "type": "float"
        },
        {
         "name": "CHARLSON_INDEX",
         "rawType": "float64",
         "type": "float"
        },
        {
         "name": "LOG_NUM_DRUGS",
         "rawType": "float64",
         "type": "float"
        },
        {
         "name": "NUM_PROCEDURES",
         "rawType": "float64",
         "type": "float"
        },
        {
         "name": "LOG_PARTICIPATION_DAYS",
         "rawType": "float64",
         "type": "float"
        },
        {
         "name": "AGE",
         "rawType": "float64",
         "type": "float"
        }
       ],
       "ref": "851d7548-1af5-48e5-b4d0-ebb24c586295",
       "rows": [
        [
         "count",
         "1159.0",
         "1159.0",
         "1159.0",
         "1159.0",
         "1159.0",
         "1159.0"
        ],
        [
         "mean",
         "0.03940202641328782",
         "0.0028648550741645533",
         "0.004980767238519558",
         "-0.011490970391181236",
         "-0.04970699554665153",
         "0.10231291936374085"
        ],
        [
         "std",
         "1.0081523395143068",
         "0.9952753993169116",
         "1.0040778100008434",
         "0.9961981445129082",
         "0.9931211612405918",
         "0.9512313617454963"
        ],
        [
         "min",
         "-1.7769590786019176",
         "-1.986906428202256",
         "-2.987183050398288",
         "-1.0490717762936492",
         "-1.94136451543699",
         "-2.623989483242348"
        ],
        [
         "25%",
         "-0.7004779543187568",
         "-0.785789283766125",
         "-0.0695839258892671",
         "-0.7709598072740006",
         "-0.9998851165595134",
         "-0.5258590153668785"
        ],
        [
         "50%",
         "-0.17521277517519",
         "0.0149554791912956",
         "0.2501775887060719",
         "-0.2147358692347035",
         "0.0569416094142675",
         "0.2146576203538753"
        ],
        [
         "75%",
         "0.5735551151056275",
         "0.4153278606700059",
         "0.5276852881385061",
         "0.3414880688045935",
         "0.8546756355080253",
         "0.893464536431233"
        ],
        [
         "max",
         "3.629249864022007",
         "4.018679293978398",
         "1.4380564283667665",
         "5.347503511158267",
         "1.5590358638950583",
         "1.695690891795383"
        ]
       ],
       "shape": {
        "columns": 6,
        "rows": 8
       }
      },
      "text/html": [
       "<div>\n",
       "<style scoped>\n",
       "    .dataframe tbody tr th:only-of-type {\n",
       "        vertical-align: middle;\n",
       "    }\n",
       "\n",
       "    .dataframe tbody tr th {\n",
       "        vertical-align: top;\n",
       "    }\n",
       "\n",
       "    .dataframe thead th {\n",
       "        text-align: right;\n",
       "    }\n",
       "</style>\n",
       "<table border=\"1\" class=\"dataframe\">\n",
       "  <thead>\n",
       "    <tr style=\"text-align: right;\">\n",
       "      <th></th>\n",
       "      <th>LOG_DAYS_IN_ICU</th>\n",
       "      <th>CHARLSON_INDEX</th>\n",
       "      <th>LOG_NUM_DRUGS</th>\n",
       "      <th>NUM_PROCEDURES</th>\n",
       "      <th>LOG_PARTICIPATION_DAYS</th>\n",
       "      <th>AGE</th>\n",
       "    </tr>\n",
       "  </thead>\n",
       "  <tbody>\n",
       "    <tr>\n",
       "      <th>count</th>\n",
       "      <td>1159.000000</td>\n",
       "      <td>1159.000000</td>\n",
       "      <td>1159.000000</td>\n",
       "      <td>1159.000000</td>\n",
       "      <td>1159.000000</td>\n",
       "      <td>1159.000000</td>\n",
       "    </tr>\n",
       "    <tr>\n",
       "      <th>mean</th>\n",
       "      <td>0.039402</td>\n",
       "      <td>0.002865</td>\n",
       "      <td>0.004981</td>\n",
       "      <td>-0.011491</td>\n",
       "      <td>-0.049707</td>\n",
       "      <td>0.102313</td>\n",
       "    </tr>\n",
       "    <tr>\n",
       "      <th>std</th>\n",
       "      <td>1.008152</td>\n",
       "      <td>0.995275</td>\n",
       "      <td>1.004078</td>\n",
       "      <td>0.996198</td>\n",
       "      <td>0.993121</td>\n",
       "      <td>0.951231</td>\n",
       "    </tr>\n",
       "    <tr>\n",
       "      <th>min</th>\n",
       "      <td>-1.776959</td>\n",
       "      <td>-1.986906</td>\n",
       "      <td>-2.987183</td>\n",
       "      <td>-1.049072</td>\n",
       "      <td>-1.941365</td>\n",
       "      <td>-2.623989</td>\n",
       "    </tr>\n",
       "    <tr>\n",
       "      <th>25%</th>\n",
       "      <td>-0.700478</td>\n",
       "      <td>-0.785789</td>\n",
       "      <td>-0.069584</td>\n",
       "      <td>-0.770960</td>\n",
       "      <td>-0.999885</td>\n",
       "      <td>-0.525859</td>\n",
       "    </tr>\n",
       "    <tr>\n",
       "      <th>50%</th>\n",
       "      <td>-0.175213</td>\n",
       "      <td>0.014955</td>\n",
       "      <td>0.250178</td>\n",
       "      <td>-0.214736</td>\n",
       "      <td>0.056942</td>\n",
       "      <td>0.214658</td>\n",
       "    </tr>\n",
       "    <tr>\n",
       "      <th>75%</th>\n",
       "      <td>0.573555</td>\n",
       "      <td>0.415328</td>\n",
       "      <td>0.527685</td>\n",
       "      <td>0.341488</td>\n",
       "      <td>0.854676</td>\n",
       "      <td>0.893465</td>\n",
       "    </tr>\n",
       "    <tr>\n",
       "      <th>max</th>\n",
       "      <td>3.629250</td>\n",
       "      <td>4.018679</td>\n",
       "      <td>1.438056</td>\n",
       "      <td>5.347504</td>\n",
       "      <td>1.559036</td>\n",
       "      <td>1.695691</td>\n",
       "    </tr>\n",
       "  </tbody>\n",
       "</table>\n",
       "</div>"
      ],
      "text/plain": [
       "       LOG_DAYS_IN_ICU  CHARLSON_INDEX  LOG_NUM_DRUGS  NUM_PROCEDURES  \\\n",
       "count      1159.000000     1159.000000    1159.000000     1159.000000   \n",
       "mean          0.039402        0.002865       0.004981       -0.011491   \n",
       "std           1.008152        0.995275       1.004078        0.996198   \n",
       "min          -1.776959       -1.986906      -2.987183       -1.049072   \n",
       "25%          -0.700478       -0.785789      -0.069584       -0.770960   \n",
       "50%          -0.175213        0.014955       0.250178       -0.214736   \n",
       "75%           0.573555        0.415328       0.527685        0.341488   \n",
       "max           3.629250        4.018679       1.438056        5.347504   \n",
       "\n",
       "       LOG_PARTICIPATION_DAYS          AGE  \n",
       "count             1159.000000  1159.000000  \n",
       "mean                -0.049707     0.102313  \n",
       "std                  0.993121     0.951231  \n",
       "min                 -1.941365    -2.623989  \n",
       "25%                 -0.999885    -0.525859  \n",
       "50%                  0.056942     0.214658  \n",
       "75%                  0.854676     0.893465  \n",
       "max                  1.559036     1.695691  "
      ]
     },
     "execution_count": 8,
     "metadata": {},
     "output_type": "execute_result"
    }
   ],
   "source": [
    "test_df = pd.read_csv(test_df_path)\n",
    "\n",
    "test_df[model_config['current_feat_cols']].describe()"
   ]
  },
  {
   "cell_type": "markdown",
   "id": "126628c1",
   "metadata": {},
   "source": [
    "### Create PyTorch Datasets"
   ]
  },
  {
   "cell_type": "code",
   "execution_count": 9,
   "id": "247faede",
   "metadata": {},
   "outputs": [
    {
     "name": "stdout",
     "output_type": "stream",
     "text": [
      "Output directory for model results: /workspaces/msc-thesis-recurrent-health-modeling/_models/mimic/deep_learning/gru_duration_aware_min/multiple_hosp_patients\n"
     ]
    }
   ],
   "source": [
    "print(\"Output directory for model results:\", save_results_dir)"
   ]
  },
  {
   "cell_type": "markdown",
   "id": "08fe2ae6",
   "metadata": {},
   "source": [
    "## Train the Model"
   ]
  },
  {
   "cell_type": "code",
   "execution_count": 10,
   "id": "61e81333",
   "metadata": {},
   "outputs": [
    {
     "name": "stdout",
     "output_type": "stream",
     "text": [
      "\n",
      "Using provided model class: GRUNet\n",
      "\n",
      "Model initialized and ready for training.\n",
      "Model parameters:\n",
      "  input_size_curr: 10\n",
      "  hidden_size_head: 32\n",
      "  input_size_seq: 4\n",
      "  hidden_size_seq: 16\n",
      "  num_layers_seq: 1\n",
      "  dropout: 0.1\n",
      "\n",
      "Starting training...\n",
      "Number of training samples: 4434\n",
      "Batch size: 64\n",
      "Learning rate: 0.01\n",
      "Optimizer: Adam\n",
      "Loss function: BCEWithLogitsLoss\n",
      "\n",
      "Epoch 1/100, Loss: 0.5740983013595854\n",
      "Epoch 2/100, Loss: 0.5565393779958997\n",
      "Epoch 3/100, Loss: 0.552387033190046\n",
      "Epoch 4/100, Loss: 0.5506070826734816\n",
      "Epoch 5/100, Loss: 0.5499934758458819\n",
      "Epoch 6/100, Loss: 0.5460280350276402\n",
      "Epoch 7/100, Loss: 0.5448526054620743\n",
      "Epoch 8/100, Loss: 0.5364257897649493\n",
      "Epoch 9/100, Loss: 0.5342697752373559\n",
      "Epoch 10/100, Loss: 0.5311442932912281\n",
      "Epoch 11/100, Loss: 0.5241317693676267\n",
      "Epoch 12/100, Loss: 0.5180675395897456\n",
      "Epoch 13/100, Loss: 0.516165384224483\n",
      "Epoch 14/100, Loss: 0.5145107580082757\n",
      "Epoch 15/100, Loss: 0.5047499882323402\n",
      "Epoch 16/100, Loss: 0.5021996987717492\n",
      "Epoch 17/100, Loss: 0.5017981882606234\n",
      "Epoch 18/100, Loss: 0.4975648373365402\n",
      "Epoch 19/100, Loss: 0.48960676320961544\n",
      "Epoch 20/100, Loss: 0.485515171289444\n",
      "Epoch 21/100, Loss: 0.479907135452543\n",
      "Epoch 22/100, Loss: 0.47953453063964846\n",
      "Epoch 23/100, Loss: 0.46577564435345786\n",
      "Epoch 24/100, Loss: 0.4675408546413694\n",
      "Epoch 25/100, Loss: 0.46195011734962466\n",
      "Epoch 26/100, Loss: 0.4588003958974566\n",
      "Epoch 27/100, Loss: 0.44965385113443646\n",
      "Epoch 28/100, Loss: 0.43985028139182497\n",
      "Epoch 29/100, Loss: 0.44528099851948877\n",
      "Epoch 30/100, Loss: 0.4357524233204978\n",
      "Epoch 31/100, Loss: 0.4296263358422688\n",
      "Epoch 32/100, Loss: 0.43135365077427457\n",
      "Epoch 33/100, Loss: 0.4283645851271493\n",
      "Epoch 34/100, Loss: 0.4231130919286183\n",
      "Epoch 35/100, Loss: 0.41751050161463876\n",
      "Epoch 36/100, Loss: 0.4149255348103387\n",
      "Epoch 37/100, Loss: 0.410495297397886\n",
      "Epoch 38/100, Loss: 0.4078813080276762\n",
      "Epoch 39/100, Loss: 0.4017327917473657\n",
      "Epoch 40/100, Loss: 0.40337428280285426\n",
      "Epoch 41/100, Loss: 0.3997921756335667\n",
      "Epoch 42/100, Loss: 0.3964270144701004\n",
      "Epoch 43/100, Loss: 0.39891828170844484\n",
      "Epoch 44/100, Loss: 0.39400995544024875\n",
      "Epoch 45/100, Loss: 0.39306469602244243\n",
      "Epoch 46/100, Loss: 0.39960888475179673\n",
      "Epoch 47/100, Loss: 0.39741301238536836\n",
      "Epoch 48/100, Loss: 0.3844460408602442\n",
      "Epoch 49/100, Loss: 0.3843873939343861\n",
      "Epoch 50/100, Loss: 0.38591981657913754\n",
      "Epoch 51/100, Loss: 0.38182016078914915\n",
      "Epoch 52/100, Loss: 0.3761933247957911\n",
      "Epoch 53/100, Loss: 0.37562090499060496\n",
      "Epoch 54/100, Loss: 0.37713766992092135\n",
      "Epoch 55/100, Loss: 0.3765021388019834\n",
      "Epoch 56/100, Loss: 0.38148712686129976\n",
      "Epoch 57/100, Loss: 0.37500726580619814\n",
      "Epoch 58/100, Loss: 0.3652557298541069\n",
      "Epoch 59/100, Loss: 0.3716562977858952\n",
      "Epoch 60/100, Loss: 0.361378801720483\n",
      "Epoch 61/100, Loss: 0.36313986693109784\n",
      "Epoch 62/100, Loss: 0.3644331653203283\n",
      "Epoch 63/100, Loss: 0.36945961458342413\n",
      "Epoch 64/100, Loss: 0.3590227557080133\n",
      "Epoch 65/100, Loss: 0.3576191301856722\n",
      "Epoch 66/100, Loss: 0.3661115335566657\n",
      "Epoch 67/100, Loss: 0.35763162012611116\n",
      "Epoch 68/100, Loss: 0.3600428889904703\n",
      "Epoch 69/100, Loss: 0.35671672161136353\n",
      "Epoch 70/100, Loss: 0.35958361072199685\n",
      "Epoch 71/100, Loss: 0.36221440264156884\n",
      "Epoch 72/100, Loss: 0.3702126302889415\n",
      "Epoch 73/100, Loss: 0.3663424227918897\n",
      "Epoch 74/100, Loss: 0.35590271673032214\n",
      "Epoch 75/100, Loss: 0.3522767669388226\n",
      "Epoch 76/100, Loss: 0.3573744718517576\n",
      "Epoch 77/100, Loss: 0.3575041475040572\n",
      "Epoch 78/100, Loss: 0.3540468752384186\n",
      "Epoch 79/100, Loss: 0.34728634847061973\n",
      "Epoch 80/100, Loss: 0.3383208096027374\n",
      "Epoch 81/100, Loss: 0.3481729584080832\n",
      "Epoch 82/100, Loss: 0.34793887585401534\n",
      "Epoch 83/100, Loss: 0.3522223662052836\n",
      "Epoch 84/100, Loss: 0.3498391038605145\n",
      "Epoch 85/100, Loss: 0.3378618138177054\n",
      "Epoch 86/100, Loss: 0.35568852105310983\n",
      "Epoch 87/100, Loss: 0.3545972019433975\n",
      "Epoch 88/100, Loss: 0.3626753664442471\n",
      "Epoch 89/100, Loss: 0.34103310619081767\n",
      "Epoch 90/100, Loss: 0.3349283627101353\n",
      "Epoch 91/100, Loss: 0.3298971027135849\n",
      "Epoch 92/100, Loss: 0.3420134195259639\n",
      "Epoch 93/100, Loss: 0.34339137630803246\n",
      "Epoch 94/100, Loss: 0.3468458982450621\n",
      "Epoch 95/100, Loss: 0.3438666337302753\n",
      "Epoch 96/100, Loss: 0.33307993433305194\n",
      "Epoch 97/100, Loss: 0.33036417003188817\n",
      "Epoch 98/100, Loss: 0.3312781921454838\n",
      "Epoch 99/100, Loss: 0.33218032526118413\n",
      "Epoch 100/100, Loss: 0.3363811107618468\n",
      "\n",
      "Training complete.\n"
     ]
    }
   ],
   "source": [
    "from recurrent_health_events_prediction.training.train_deep_learning_models import train\n",
    "from recurrent_health_events_prediction.model.RecurrentHealthEventsDL import GRUNet\n",
    "\n",
    "model, loss_epochs = train(\n",
    "    train_dataset=train_dataset,\n",
    "    model_config=model_config,\n",
    "    ModelClass=GRUNet\n",
    ")"
   ]
  },
  {
   "cell_type": "code",
   "execution_count": 20,
   "id": "31f0bff2",
   "metadata": {},
   "outputs": [
    {
     "data": {
      "application/vnd.plotly.v1+json": {
       "config": {
        "plotlyServerURL": "https://plot.ly"
       },
       "data": [
        {
         "mode": "lines+markers",
         "name": "Training Loss",
         "type": "scatter",
         "x": [
          1,
          2,
          3,
          4,
          5,
          6,
          7,
          8,
          9,
          10,
          11,
          12,
          13,
          14,
          15,
          16,
          17,
          18,
          19,
          20,
          21,
          22,
          23,
          24,
          25,
          26,
          27,
          28,
          29,
          30,
          31,
          32,
          33,
          34,
          35,
          36,
          37,
          38,
          39,
          40,
          41,
          42,
          43,
          44,
          45,
          46,
          47,
          48,
          49,
          50,
          51,
          52,
          53,
          54,
          55,
          56,
          57,
          58,
          59,
          60,
          61,
          62,
          63,
          64,
          65,
          66,
          67,
          68,
          69,
          70,
          71,
          72,
          73,
          74,
          75,
          76,
          77,
          78,
          79,
          80,
          81,
          82,
          83,
          84,
          85,
          86,
          87,
          88,
          89,
          90,
          91,
          92,
          93,
          94,
          95,
          96,
          97,
          98,
          99,
          100
         ],
         "y": [
          0.5740983013595854,
          0.5565393779958997,
          0.552387033190046,
          0.5506070826734816,
          0.5499934758458819,
          0.5460280350276402,
          0.5448526054620743,
          0.5364257897649493,
          0.5342697752373559,
          0.5311442932912281,
          0.5241317693676267,
          0.5180675395897456,
          0.516165384224483,
          0.5145107580082757,
          0.5047499882323402,
          0.5021996987717492,
          0.5017981882606234,
          0.4975648373365402,
          0.48960676320961544,
          0.485515171289444,
          0.479907135452543,
          0.47953453063964846,
          0.46577564435345786,
          0.4675408546413694,
          0.46195011734962466,
          0.4588003958974566,
          0.44965385113443646,
          0.43985028139182497,
          0.44528099851948877,
          0.4357524233204978,
          0.4296263358422688,
          0.43135365077427457,
          0.4283645851271493,
          0.4231130919286183,
          0.41751050161463876,
          0.4149255348103387,
          0.410495297397886,
          0.4078813080276762,
          0.4017327917473657,
          0.40337428280285426,
          0.3997921756335667,
          0.3964270144701004,
          0.39891828170844484,
          0.39400995544024875,
          0.39306469602244243,
          0.39960888475179673,
          0.39741301238536836,
          0.3844460408602442,
          0.3843873939343861,
          0.38591981657913754,
          0.38182016078914915,
          0.3761933247957911,
          0.37562090499060496,
          0.37713766992092135,
          0.3765021388019834,
          0.38148712686129976,
          0.37500726580619814,
          0.3652557298541069,
          0.3716562977858952,
          0.361378801720483,
          0.36313986693109784,
          0.3644331653203283,
          0.36945961458342413,
          0.3590227557080133,
          0.3576191301856722,
          0.3661115335566657,
          0.35763162012611116,
          0.3600428889904703,
          0.35671672161136353,
          0.35958361072199685,
          0.36221440264156884,
          0.3702126302889415,
          0.3663424227918897,
          0.35590271673032214,
          0.3522767669388226,
          0.3573744718517576,
          0.3575041475040572,
          0.3540468752384186,
          0.34728634847061973,
          0.3383208096027374,
          0.3481729584080832,
          0.34793887585401534,
          0.3522223662052836,
          0.3498391038605145,
          0.3378618138177054,
          0.35568852105310983,
          0.3545972019433975,
          0.3626753664442471,
          0.34103310619081767,
          0.3349283627101353,
          0.3298971027135849,
          0.3420134195259639,
          0.34339137630803246,
          0.3468458982450621,
          0.3438666337302753,
          0.33307993433305194,
          0.33036417003188817,
          0.3312781921454838,
          0.33218032526118413,
          0.3363811107618468
         ]
        }
       ],
       "layout": {
        "template": {
         "data": {
          "bar": [
           {
            "error_x": {
             "color": "#2a3f5f"
            },
            "error_y": {
             "color": "#2a3f5f"
            },
            "marker": {
             "line": {
              "color": "white",
              "width": 0.5
             },
             "pattern": {
              "fillmode": "overlay",
              "size": 10,
              "solidity": 0.2
             }
            },
            "type": "bar"
           }
          ],
          "barpolar": [
           {
            "marker": {
             "line": {
              "color": "white",
              "width": 0.5
             },
             "pattern": {
              "fillmode": "overlay",
              "size": 10,
              "solidity": 0.2
             }
            },
            "type": "barpolar"
           }
          ],
          "carpet": [
           {
            "aaxis": {
             "endlinecolor": "#2a3f5f",
             "gridcolor": "#C8D4E3",
             "linecolor": "#C8D4E3",
             "minorgridcolor": "#C8D4E3",
             "startlinecolor": "#2a3f5f"
            },
            "baxis": {
             "endlinecolor": "#2a3f5f",
             "gridcolor": "#C8D4E3",
             "linecolor": "#C8D4E3",
             "minorgridcolor": "#C8D4E3",
             "startlinecolor": "#2a3f5f"
            },
            "type": "carpet"
           }
          ],
          "choropleth": [
           {
            "colorbar": {
             "outlinewidth": 0,
             "ticks": ""
            },
            "type": "choropleth"
           }
          ],
          "contour": [
           {
            "colorbar": {
             "outlinewidth": 0,
             "ticks": ""
            },
            "colorscale": [
             [
              0,
              "#0d0887"
             ],
             [
              0.1111111111111111,
              "#46039f"
             ],
             [
              0.2222222222222222,
              "#7201a8"
             ],
             [
              0.3333333333333333,
              "#9c179e"
             ],
             [
              0.4444444444444444,
              "#bd3786"
             ],
             [
              0.5555555555555556,
              "#d8576b"
             ],
             [
              0.6666666666666666,
              "#ed7953"
             ],
             [
              0.7777777777777778,
              "#fb9f3a"
             ],
             [
              0.8888888888888888,
              "#fdca26"
             ],
             [
              1,
              "#f0f921"
             ]
            ],
            "type": "contour"
           }
          ],
          "contourcarpet": [
           {
            "colorbar": {
             "outlinewidth": 0,
             "ticks": ""
            },
            "type": "contourcarpet"
           }
          ],
          "heatmap": [
           {
            "colorbar": {
             "outlinewidth": 0,
             "ticks": ""
            },
            "colorscale": [
             [
              0,
              "#0d0887"
             ],
             [
              0.1111111111111111,
              "#46039f"
             ],
             [
              0.2222222222222222,
              "#7201a8"
             ],
             [
              0.3333333333333333,
              "#9c179e"
             ],
             [
              0.4444444444444444,
              "#bd3786"
             ],
             [
              0.5555555555555556,
              "#d8576b"
             ],
             [
              0.6666666666666666,
              "#ed7953"
             ],
             [
              0.7777777777777778,
              "#fb9f3a"
             ],
             [
              0.8888888888888888,
              "#fdca26"
             ],
             [
              1,
              "#f0f921"
             ]
            ],
            "type": "heatmap"
           }
          ],
          "histogram": [
           {
            "marker": {
             "pattern": {
              "fillmode": "overlay",
              "size": 10,
              "solidity": 0.2
             }
            },
            "type": "histogram"
           }
          ],
          "histogram2d": [
           {
            "colorbar": {
             "outlinewidth": 0,
             "ticks": ""
            },
            "colorscale": [
             [
              0,
              "#0d0887"
             ],
             [
              0.1111111111111111,
              "#46039f"
             ],
             [
              0.2222222222222222,
              "#7201a8"
             ],
             [
              0.3333333333333333,
              "#9c179e"
             ],
             [
              0.4444444444444444,
              "#bd3786"
             ],
             [
              0.5555555555555556,
              "#d8576b"
             ],
             [
              0.6666666666666666,
              "#ed7953"
             ],
             [
              0.7777777777777778,
              "#fb9f3a"
             ],
             [
              0.8888888888888888,
              "#fdca26"
             ],
             [
              1,
              "#f0f921"
             ]
            ],
            "type": "histogram2d"
           }
          ],
          "histogram2dcontour": [
           {
            "colorbar": {
             "outlinewidth": 0,
             "ticks": ""
            },
            "colorscale": [
             [
              0,
              "#0d0887"
             ],
             [
              0.1111111111111111,
              "#46039f"
             ],
             [
              0.2222222222222222,
              "#7201a8"
             ],
             [
              0.3333333333333333,
              "#9c179e"
             ],
             [
              0.4444444444444444,
              "#bd3786"
             ],
             [
              0.5555555555555556,
              "#d8576b"
             ],
             [
              0.6666666666666666,
              "#ed7953"
             ],
             [
              0.7777777777777778,
              "#fb9f3a"
             ],
             [
              0.8888888888888888,
              "#fdca26"
             ],
             [
              1,
              "#f0f921"
             ]
            ],
            "type": "histogram2dcontour"
           }
          ],
          "mesh3d": [
           {
            "colorbar": {
             "outlinewidth": 0,
             "ticks": ""
            },
            "type": "mesh3d"
           }
          ],
          "parcoords": [
           {
            "line": {
             "colorbar": {
              "outlinewidth": 0,
              "ticks": ""
             }
            },
            "type": "parcoords"
           }
          ],
          "pie": [
           {
            "automargin": true,
            "type": "pie"
           }
          ],
          "scatter": [
           {
            "fillpattern": {
             "fillmode": "overlay",
             "size": 10,
             "solidity": 0.2
            },
            "type": "scatter"
           }
          ],
          "scatter3d": [
           {
            "line": {
             "colorbar": {
              "outlinewidth": 0,
              "ticks": ""
             }
            },
            "marker": {
             "colorbar": {
              "outlinewidth": 0,
              "ticks": ""
             }
            },
            "type": "scatter3d"
           }
          ],
          "scattercarpet": [
           {
            "marker": {
             "colorbar": {
              "outlinewidth": 0,
              "ticks": ""
             }
            },
            "type": "scattercarpet"
           }
          ],
          "scattergeo": [
           {
            "marker": {
             "colorbar": {
              "outlinewidth": 0,
              "ticks": ""
             }
            },
            "type": "scattergeo"
           }
          ],
          "scattergl": [
           {
            "marker": {
             "colorbar": {
              "outlinewidth": 0,
              "ticks": ""
             }
            },
            "type": "scattergl"
           }
          ],
          "scattermap": [
           {
            "marker": {
             "colorbar": {
              "outlinewidth": 0,
              "ticks": ""
             }
            },
            "type": "scattermap"
           }
          ],
          "scattermapbox": [
           {
            "marker": {
             "colorbar": {
              "outlinewidth": 0,
              "ticks": ""
             }
            },
            "type": "scattermapbox"
           }
          ],
          "scatterpolar": [
           {
            "marker": {
             "colorbar": {
              "outlinewidth": 0,
              "ticks": ""
             }
            },
            "type": "scatterpolar"
           }
          ],
          "scatterpolargl": [
           {
            "marker": {
             "colorbar": {
              "outlinewidth": 0,
              "ticks": ""
             }
            },
            "type": "scatterpolargl"
           }
          ],
          "scatterternary": [
           {
            "marker": {
             "colorbar": {
              "outlinewidth": 0,
              "ticks": ""
             }
            },
            "type": "scatterternary"
           }
          ],
          "surface": [
           {
            "colorbar": {
             "outlinewidth": 0,
             "ticks": ""
            },
            "colorscale": [
             [
              0,
              "#0d0887"
             ],
             [
              0.1111111111111111,
              "#46039f"
             ],
             [
              0.2222222222222222,
              "#7201a8"
             ],
             [
              0.3333333333333333,
              "#9c179e"
             ],
             [
              0.4444444444444444,
              "#bd3786"
             ],
             [
              0.5555555555555556,
              "#d8576b"
             ],
             [
              0.6666666666666666,
              "#ed7953"
             ],
             [
              0.7777777777777778,
              "#fb9f3a"
             ],
             [
              0.8888888888888888,
              "#fdca26"
             ],
             [
              1,
              "#f0f921"
             ]
            ],
            "type": "surface"
           }
          ],
          "table": [
           {
            "cells": {
             "fill": {
              "color": "#EBF0F8"
             },
             "line": {
              "color": "white"
             }
            },
            "header": {
             "fill": {
              "color": "#C8D4E3"
             },
             "line": {
              "color": "white"
             }
            },
            "type": "table"
           }
          ]
         },
         "layout": {
          "annotationdefaults": {
           "arrowcolor": "#2a3f5f",
           "arrowhead": 0,
           "arrowwidth": 1
          },
          "autotypenumbers": "strict",
          "coloraxis": {
           "colorbar": {
            "outlinewidth": 0,
            "ticks": ""
           }
          },
          "colorscale": {
           "diverging": [
            [
             0,
             "#8e0152"
            ],
            [
             0.1,
             "#c51b7d"
            ],
            [
             0.2,
             "#de77ae"
            ],
            [
             0.3,
             "#f1b6da"
            ],
            [
             0.4,
             "#fde0ef"
            ],
            [
             0.5,
             "#f7f7f7"
            ],
            [
             0.6,
             "#e6f5d0"
            ],
            [
             0.7,
             "#b8e186"
            ],
            [
             0.8,
             "#7fbc41"
            ],
            [
             0.9,
             "#4d9221"
            ],
            [
             1,
             "#276419"
            ]
           ],
           "sequential": [
            [
             0,
             "#0d0887"
            ],
            [
             0.1111111111111111,
             "#46039f"
            ],
            [
             0.2222222222222222,
             "#7201a8"
            ],
            [
             0.3333333333333333,
             "#9c179e"
            ],
            [
             0.4444444444444444,
             "#bd3786"
            ],
            [
             0.5555555555555556,
             "#d8576b"
            ],
            [
             0.6666666666666666,
             "#ed7953"
            ],
            [
             0.7777777777777778,
             "#fb9f3a"
            ],
            [
             0.8888888888888888,
             "#fdca26"
            ],
            [
             1,
             "#f0f921"
            ]
           ],
           "sequentialminus": [
            [
             0,
             "#0d0887"
            ],
            [
             0.1111111111111111,
             "#46039f"
            ],
            [
             0.2222222222222222,
             "#7201a8"
            ],
            [
             0.3333333333333333,
             "#9c179e"
            ],
            [
             0.4444444444444444,
             "#bd3786"
            ],
            [
             0.5555555555555556,
             "#d8576b"
            ],
            [
             0.6666666666666666,
             "#ed7953"
            ],
            [
             0.7777777777777778,
             "#fb9f3a"
            ],
            [
             0.8888888888888888,
             "#fdca26"
            ],
            [
             1,
             "#f0f921"
            ]
           ]
          },
          "colorway": [
           "#636efa",
           "#EF553B",
           "#00cc96",
           "#ab63fa",
           "#FFA15A",
           "#19d3f3",
           "#FF6692",
           "#B6E880",
           "#FF97FF",
           "#FECB52"
          ],
          "font": {
           "color": "#2a3f5f"
          },
          "geo": {
           "bgcolor": "white",
           "lakecolor": "white",
           "landcolor": "white",
           "showlakes": true,
           "showland": true,
           "subunitcolor": "#C8D4E3"
          },
          "hoverlabel": {
           "align": "left"
          },
          "hovermode": "closest",
          "mapbox": {
           "style": "light"
          },
          "paper_bgcolor": "white",
          "plot_bgcolor": "white",
          "polar": {
           "angularaxis": {
            "gridcolor": "#EBF0F8",
            "linecolor": "#EBF0F8",
            "ticks": ""
           },
           "bgcolor": "white",
           "radialaxis": {
            "gridcolor": "#EBF0F8",
            "linecolor": "#EBF0F8",
            "ticks": ""
           }
          },
          "scene": {
           "xaxis": {
            "backgroundcolor": "white",
            "gridcolor": "#DFE8F3",
            "gridwidth": 2,
            "linecolor": "#EBF0F8",
            "showbackground": true,
            "ticks": "",
            "zerolinecolor": "#EBF0F8"
           },
           "yaxis": {
            "backgroundcolor": "white",
            "gridcolor": "#DFE8F3",
            "gridwidth": 2,
            "linecolor": "#EBF0F8",
            "showbackground": true,
            "ticks": "",
            "zerolinecolor": "#EBF0F8"
           },
           "zaxis": {
            "backgroundcolor": "white",
            "gridcolor": "#DFE8F3",
            "gridwidth": 2,
            "linecolor": "#EBF0F8",
            "showbackground": true,
            "ticks": "",
            "zerolinecolor": "#EBF0F8"
           }
          },
          "shapedefaults": {
           "line": {
            "color": "#2a3f5f"
           }
          },
          "ternary": {
           "aaxis": {
            "gridcolor": "#DFE8F3",
            "linecolor": "#A2B1C6",
            "ticks": ""
           },
           "baxis": {
            "gridcolor": "#DFE8F3",
            "linecolor": "#A2B1C6",
            "ticks": ""
           },
           "bgcolor": "white",
           "caxis": {
            "gridcolor": "#DFE8F3",
            "linecolor": "#A2B1C6",
            "ticks": ""
           }
          },
          "title": {
           "x": 0.05
          },
          "xaxis": {
           "automargin": true,
           "gridcolor": "#EBF0F8",
           "linecolor": "#EBF0F8",
           "ticks": "",
           "title": {
            "standoff": 15
           },
           "zerolinecolor": "#EBF0F8",
           "zerolinewidth": 2
          },
          "yaxis": {
           "automargin": true,
           "gridcolor": "#EBF0F8",
           "linecolor": "#EBF0F8",
           "ticks": "",
           "title": {
            "standoff": 15
           },
           "zerolinecolor": "#EBF0F8",
           "zerolinewidth": 2
          }
         }
        },
        "title": {
         "text": "Training Loss per Epoch (Batch size: 64, Train samples: 4434)"
        },
        "xaxis": {
         "title": {
          "text": "Epoch"
         }
        },
        "yaxis": {
         "title": {
          "text": "Loss"
         }
        }
       }
      }
     },
     "metadata": {},
     "output_type": "display_data"
    }
   ],
   "source": [
    "import plotly.graph_objects as go\n",
    "\n",
    "batch_size = model_config['batch_size']\n",
    "num_samples = len(train_dataset)\n",
    "\n",
    "fig = go.Figure()\n",
    "fig.add_trace(go.Scatter(\n",
    "    y=loss_epochs,\n",
    "    x=list(range(1, len(loss_epochs) + 1)),\n",
    "    mode='lines+markers',\n",
    "    name='Training Loss'\n",
    "))\n",
    "fig.update_layout(\n",
    "    title=f\"Training Loss per Epoch (Batch size: {batch_size}, Train samples: {num_samples})\",\n",
    "    xaxis_title=\"Epoch\",\n",
    "    yaxis_title=\"Loss\",\n",
    "    template=\"plotly_white\"\n",
    ")\n",
    "fig.write_html(os.path.join(save_results_dir, \"training_loss.html\"))\n",
    "fig.show()"
   ]
  },
  {
   "cell_type": "code",
   "execution_count": null,
   "id": "242a2b65",
   "metadata": {},
   "outputs": [],
   "source": []
  },
  {
   "cell_type": "code",
   "execution_count": 21,
   "id": "7d57d9cb",
   "metadata": {},
   "outputs": [
    {
     "name": "stdout",
     "output_type": "stream",
     "text": [
      "Model saved to /workspaces/msc-thesis-recurrent-health-modeling/_models/mimic/deep_learning/gru_duration_aware_min/multiple_hosp_patients/gru_duration_aware_min.pt\n"
     ]
    }
   ],
   "source": [
    "import torch\n",
    "\n",
    "model_save_path = os.path.join(save_results_dir, f\"{model_name}.pt\")\n",
    "torch.save(model.state_dict(), model_save_path)\n",
    "print(f\"Model saved to {model_save_path}\")"
   ]
  },
  {
   "cell_type": "markdown",
   "id": "994367be",
   "metadata": {},
   "source": [
    "## Load Model"
   ]
  },
  {
   "cell_type": "code",
   "execution_count": 22,
   "id": "111273f8",
   "metadata": {},
   "outputs": [
    {
     "data": {
      "text/plain": [
       "GRUNet(\n",
       "  (gru): GRU(4, 16, batch_first=True)\n",
       "  (classifier_head): Sequential(\n",
       "    (fc1): Linear(in_features=26, out_features=32, bias=True)\n",
       "    (relu1): ReLU()\n",
       "    (dropout1): Dropout(p=0.1, inplace=False)\n",
       "    (fc2): Linear(in_features=32, out_features=1, bias=True)\n",
       "  )\n",
       ")"
      ]
     },
     "execution_count": 22,
     "metadata": {},
     "output_type": "execute_result"
    }
   ],
   "source": [
    "from recurrent_health_events_prediction.model.RecurrentHealthEventsDL import GRUNet\n",
    "\n",
    "model_save_path = os.path.join(save_results_dir, f\"{model_name}.pt\")\n",
    "model = GRUNet(**model_params_dict)\n",
    "model.load_state_dict(torch.load(model_save_path))\n",
    "model.eval()"
   ]
  },
  {
   "cell_type": "markdown",
   "id": "abede2f8",
   "metadata": {},
   "source": [
    "## Evaluate the Model"
   ]
  },
  {
   "cell_type": "markdown",
   "id": "87e9ce47",
   "metadata": {},
   "source": [
    "## Train Set"
   ]
  },
  {
   "cell_type": "code",
   "execution_count": 29,
   "id": "301b699c",
   "metadata": {},
   "outputs": [
    {
     "name": "stdout",
     "output_type": "stream",
     "text": [
      "Starting evaluation...\n",
      "Number of test samples: 4434\n",
      "Batch size: 32\n",
      "\n",
      "f1_score: 0.7418\n",
      "auroc: 0.9210\n",
      "best_threshold: 0.2973\n",
      "confusion_matrix: [[2870  396]\n",
      " [ 246  922]]\n",
      "recall: 0.7894\n",
      "accuracy: 0.8552\n",
      "precision: 0.6995\n"
     ]
    }
   ],
   "source": [
    "from recurrent_health_events_prediction.training.train_deep_learning_models import evaluate\n",
    "\n",
    "test_metrics, all_pred_labels, all_pred_probs, all_labels = evaluate(\n",
    "    model=model,\n",
    "    test_dataset=train_dataset,\n",
    "    batch_size=32\n",
    ")\n",
    "for key, value in test_metrics.items():\n",
    "    if isinstance(value, float):\n",
    "        print(f\"{key}: {value:.4f}\")\n",
    "    else:\n",
    "        print(f\"{key}: {value}\")"
   ]
  },
  {
   "cell_type": "markdown",
   "id": "4c9d2d29",
   "metadata": {},
   "source": [
    "### Test Set Evaluation"
   ]
  },
  {
   "cell_type": "markdown",
   "id": "ba76af16",
   "metadata": {},
   "source": [
    "#### All Events"
   ]
  },
  {
   "cell_type": "code",
   "execution_count": 30,
   "id": "7dde5ec6",
   "metadata": {},
   "outputs": [
    {
     "name": "stdout",
     "output_type": "stream",
     "text": [
      "Starting evaluation...\n",
      "Number of test samples: 1085\n",
      "Batch size: 32\n",
      "\n",
      "f1_score: 0.3905\n",
      "auroc: 0.5422\n",
      "best_threshold: 0.1211\n",
      "confusion_matrix: [[409 397]\n",
      " [115 164]]\n",
      "recall: 0.5878\n",
      "accuracy: 0.5281\n",
      "precision: 0.2923\n"
     ]
    }
   ],
   "source": [
    "from recurrent_health_events_prediction.training.train_deep_learning_models import evaluate\n",
    "\n",
    "test_metrics, all_pred_labels, all_pred_probs, all_labels = evaluate(\n",
    "    model=model,\n",
    "    test_dataset=test_dataset,\n",
    "    batch_size=32\n",
    ")\n",
    "for key, value in test_metrics.items():\n",
    "    if isinstance(value, float):\n",
    "        print(f\"{key}: {value:.4f}\")\n",
    "    else:\n",
    "        print(f\"{key}: {value}\")"
   ]
  },
  {
   "cell_type": "markdown",
   "id": "05bff89c",
   "metadata": {},
   "source": [
    "#### Last Events"
   ]
  },
  {
   "cell_type": "code",
   "execution_count": 31,
   "id": "0a415590",
   "metadata": {},
   "outputs": [
    {
     "name": "stdout",
     "output_type": "stream",
     "text": [
      "Starting evaluation...\n",
      "Number of test samples: 353\n",
      "Batch size: 32\n",
      "\n",
      "f1_score: 0.4089\n",
      "auroc: 0.5576\n",
      "best_threshold: 0.1062\n",
      "confusion_matrix: [[139 123]\n",
      " [ 36  55]]\n",
      "recall: 0.6044\n",
      "accuracy: 0.5496\n",
      "precision: 0.3090\n"
     ]
    }
   ],
   "source": [
    "test_metrics_last_events, all_pred_labels, all_pred_probs, all_labels = evaluate(\n",
    "    model=model,\n",
    "    test_dataset=last_events_test_dataset,\n",
    "    batch_size=32\n",
    ")\n",
    "for key, value in test_metrics_last_events.items():\n",
    "    if isinstance(value, float):\n",
    "        print(f\"{key}: {value:.4f}\")\n",
    "    else:\n",
    "        print(f\"{key}: {value}\")"
   ]
  },
  {
   "cell_type": "code",
   "execution_count": 26,
   "id": "1de22ddd",
   "metadata": {},
   "outputs": [],
   "source": [
    "test_pred_df = pd.DataFrame({\n",
    "    \"true_label\": all_labels,\n",
    "    \"pred_label\": all_pred_labels,\n",
    "    \"pred_prob\": all_pred_probs\n",
    "})\n",
    "\n",
    "test_pred_df.to_csv(os.path.join(save_results_dir, \"test_predictions.csv\"), index=False)"
   ]
  },
  {
   "cell_type": "code",
   "execution_count": 27,
   "id": "2d3b6b5f",
   "metadata": {},
   "outputs": [
    {
     "data": {
      "application/vnd.plotly.v1+json": {
       "config": {
        "plotlyServerURL": "https://plot.ly"
       },
       "data": [
        {
         "bingroup": "x",
         "hovertemplate": "True Label=0.0<br>Predicted Probability=%{x}<br>count=%{y}<extra></extra>",
         "legendgroup": "0.0",
         "marker": {
          "color": "#636efa",
          "opacity": 0.5,
          "pattern": {
           "shape": ""
          }
         },
         "name": "0.0",
         "nbinsx": 50,
         "orientation": "v",
         "showlegend": true,
         "type": "histogram",
         "x": {
          "bdata": "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",
          "dtype": "f8"
         },
         "xaxis": "x",
         "yaxis": "y"
        },
        {
         "bingroup": "x",
         "hovertemplate": "True Label=1.0<br>Predicted Probability=%{x}<br>count=%{y}<extra></extra>",
         "legendgroup": "1.0",
         "marker": {
          "color": "#EF553B",
          "opacity": 0.5,
          "pattern": {
           "shape": ""
          }
         },
         "name": "1.0",
         "nbinsx": 50,
         "orientation": "v",
         "showlegend": true,
         "type": "histogram",
         "x": {
          "bdata": "AAAAoLzbpz4AAABgYP7sPwAAAODmzOc/AAAAQG6x9D4AAABA7ODtPwAAAGCdhbU/AAAAILAd6T8AAAAAZCaMPwAAAOCLSL8/AAAAINjzVz8AAACAJTnjPgAAACCJGow/AAAA4Ax44j8AAACg3U6vPwAAAOBufOA/AAAAoF7+7z8AAABgG+7oPwAAAOBdn+o/AAAAYEspaT8AAADA7tTbPwAAAIBtC94/AAAAIAju7T8AAADgcHTuPwAAAEBX84o/AAAA4LWmtT4AAADg/HjuPwAAAAC3Ctw+AAAAYAcc6T8AAACAijzlPwAAAKAY9O8/AAAA4OKj7z8AAABA2l/GPwAAAGDcg7s/AAAAQDNA4z8AAABgeWLQPwAAAODNS3o/AAAAwEzz6T8AAADgvfvXPgAAAOBHvvA+AAAAwDwH0j8AAABAlscVPgAAAIBEino/AAAAwLD/7z8AAABg3ghlPwAAACBdNc4+AAAAwELvzz8AAAAgNtMiPwAAAECQELE/AAAA4OeDsD8AAACgQ4yQPwAAAAATh8M/AAAAgMti3D8AAABAcKfdPwAAAKCig+Y/AAAAQOUZdT4AAACgZQzIPwAAACB5f9g/AAAAoAzoyj8AAABAh136PgAAAMD0pkk/AAAAIFJB2j8AAACgJGPsPwAAAIAuUrE+AAAAAG1hyD8AAAAgxgPOPwAAAIDLr7s/AAAA4Hw8vT8AAAAAoALBPwAAAMCvLtI/AAAA4NSNfD8AAACg2prlPwAAAMD0tPM+AAAA4G584D8AAADgG6TgPwAAAIC5wM4/AAAAgNJecD8AAAAAFjZbPwAAAEAlFtk/AAAAwE8L2T8AAADAzWeDPwAAAICSAes/AAAAgDTm0z8AAAAguSqMPwAAAMBz+9Y/AAAAwIFj1z8AAAAgYEzbPwAAAOCx274/AAAAQF0yqz8AAACAPwXlPwAAAGB0RH4+AAAA4KlAtz8=",
          "dtype": "f8"
         },
         "xaxis": "x",
         "yaxis": "y"
        }
       ],
       "layout": {
        "barmode": "overlay",
        "height": 400,
        "legend": {
         "title": {
          "text": "True Label"
         },
         "tracegroupgap": 0
        },
        "template": {
         "data": {
          "bar": [
           {
            "error_x": {
             "color": "#2a3f5f"
            },
            "error_y": {
             "color": "#2a3f5f"
            },
            "marker": {
             "line": {
              "color": "white",
              "width": 0.5
             },
             "pattern": {
              "fillmode": "overlay",
              "size": 10,
              "solidity": 0.2
             }
            },
            "type": "bar"
           }
          ],
          "barpolar": [
           {
            "marker": {
             "line": {
              "color": "white",
              "width": 0.5
             },
             "pattern": {
              "fillmode": "overlay",
              "size": 10,
              "solidity": 0.2
             }
            },
            "type": "barpolar"
           }
          ],
          "carpet": [
           {
            "aaxis": {
             "endlinecolor": "#2a3f5f",
             "gridcolor": "#C8D4E3",
             "linecolor": "#C8D4E3",
             "minorgridcolor": "#C8D4E3",
             "startlinecolor": "#2a3f5f"
            },
            "baxis": {
             "endlinecolor": "#2a3f5f",
             "gridcolor": "#C8D4E3",
             "linecolor": "#C8D4E3",
             "minorgridcolor": "#C8D4E3",
             "startlinecolor": "#2a3f5f"
            },
            "type": "carpet"
           }
          ],
          "choropleth": [
           {
            "colorbar": {
             "outlinewidth": 0,
             "ticks": ""
            },
            "type": "choropleth"
           }
          ],
          "contour": [
           {
            "colorbar": {
             "outlinewidth": 0,
             "ticks": ""
            },
            "colorscale": [
             [
              0,
              "#0d0887"
             ],
             [
              0.1111111111111111,
              "#46039f"
             ],
             [
              0.2222222222222222,
              "#7201a8"
             ],
             [
              0.3333333333333333,
              "#9c179e"
             ],
             [
              0.4444444444444444,
              "#bd3786"
             ],
             [
              0.5555555555555556,
              "#d8576b"
             ],
             [
              0.6666666666666666,
              "#ed7953"
             ],
             [
              0.7777777777777778,
              "#fb9f3a"
             ],
             [
              0.8888888888888888,
              "#fdca26"
             ],
             [
              1,
              "#f0f921"
             ]
            ],
            "type": "contour"
           }
          ],
          "contourcarpet": [
           {
            "colorbar": {
             "outlinewidth": 0,
             "ticks": ""
            },
            "type": "contourcarpet"
           }
          ],
          "heatmap": [
           {
            "colorbar": {
             "outlinewidth": 0,
             "ticks": ""
            },
            "colorscale": [
             [
              0,
              "#0d0887"
             ],
             [
              0.1111111111111111,
              "#46039f"
             ],
             [
              0.2222222222222222,
              "#7201a8"
             ],
             [
              0.3333333333333333,
              "#9c179e"
             ],
             [
              0.4444444444444444,
              "#bd3786"
             ],
             [
              0.5555555555555556,
              "#d8576b"
             ],
             [
              0.6666666666666666,
              "#ed7953"
             ],
             [
              0.7777777777777778,
              "#fb9f3a"
             ],
             [
              0.8888888888888888,
              "#fdca26"
             ],
             [
              1,
              "#f0f921"
             ]
            ],
            "type": "heatmap"
           }
          ],
          "histogram": [
           {
            "marker": {
             "pattern": {
              "fillmode": "overlay",
              "size": 10,
              "solidity": 0.2
             }
            },
            "type": "histogram"
           }
          ],
          "histogram2d": [
           {
            "colorbar": {
             "outlinewidth": 0,
             "ticks": ""
            },
            "colorscale": [
             [
              0,
              "#0d0887"
             ],
             [
              0.1111111111111111,
              "#46039f"
             ],
             [
              0.2222222222222222,
              "#7201a8"
             ],
             [
              0.3333333333333333,
              "#9c179e"
             ],
             [
              0.4444444444444444,
              "#bd3786"
             ],
             [
              0.5555555555555556,
              "#d8576b"
             ],
             [
              0.6666666666666666,
              "#ed7953"
             ],
             [
              0.7777777777777778,
              "#fb9f3a"
             ],
             [
              0.8888888888888888,
              "#fdca26"
             ],
             [
              1,
              "#f0f921"
             ]
            ],
            "type": "histogram2d"
           }
          ],
          "histogram2dcontour": [
           {
            "colorbar": {
             "outlinewidth": 0,
             "ticks": ""
            },
            "colorscale": [
             [
              0,
              "#0d0887"
             ],
             [
              0.1111111111111111,
              "#46039f"
             ],
             [
              0.2222222222222222,
              "#7201a8"
             ],
             [
              0.3333333333333333,
              "#9c179e"
             ],
             [
              0.4444444444444444,
              "#bd3786"
             ],
             [
              0.5555555555555556,
              "#d8576b"
             ],
             [
              0.6666666666666666,
              "#ed7953"
             ],
             [
              0.7777777777777778,
              "#fb9f3a"
             ],
             [
              0.8888888888888888,
              "#fdca26"
             ],
             [
              1,
              "#f0f921"
             ]
            ],
            "type": "histogram2dcontour"
           }
          ],
          "mesh3d": [
           {
            "colorbar": {
             "outlinewidth": 0,
             "ticks": ""
            },
            "type": "mesh3d"
           }
          ],
          "parcoords": [
           {
            "line": {
             "colorbar": {
              "outlinewidth": 0,
              "ticks": ""
             }
            },
            "type": "parcoords"
           }
          ],
          "pie": [
           {
            "automargin": true,
            "type": "pie"
           }
          ],
          "scatter": [
           {
            "fillpattern": {
             "fillmode": "overlay",
             "size": 10,
             "solidity": 0.2
            },
            "type": "scatter"
           }
          ],
          "scatter3d": [
           {
            "line": {
             "colorbar": {
              "outlinewidth": 0,
              "ticks": ""
             }
            },
            "marker": {
             "colorbar": {
              "outlinewidth": 0,
              "ticks": ""
             }
            },
            "type": "scatter3d"
           }
          ],
          "scattercarpet": [
           {
            "marker": {
             "colorbar": {
              "outlinewidth": 0,
              "ticks": ""
             }
            },
            "type": "scattercarpet"
           }
          ],
          "scattergeo": [
           {
            "marker": {
             "colorbar": {
              "outlinewidth": 0,
              "ticks": ""
             }
            },
            "type": "scattergeo"
           }
          ],
          "scattergl": [
           {
            "marker": {
             "colorbar": {
              "outlinewidth": 0,
              "ticks": ""
             }
            },
            "type": "scattergl"
           }
          ],
          "scattermap": [
           {
            "marker": {
             "colorbar": {
              "outlinewidth": 0,
              "ticks": ""
             }
            },
            "type": "scattermap"
           }
          ],
          "scattermapbox": [
           {
            "marker": {
             "colorbar": {
              "outlinewidth": 0,
              "ticks": ""
             }
            },
            "type": "scattermapbox"
           }
          ],
          "scatterpolar": [
           {
            "marker": {
             "colorbar": {
              "outlinewidth": 0,
              "ticks": ""
             }
            },
            "type": "scatterpolar"
           }
          ],
          "scatterpolargl": [
           {
            "marker": {
             "colorbar": {
              "outlinewidth": 0,
              "ticks": ""
             }
            },
            "type": "scatterpolargl"
           }
          ],
          "scatterternary": [
           {
            "marker": {
             "colorbar": {
              "outlinewidth": 0,
              "ticks": ""
             }
            },
            "type": "scatterternary"
           }
          ],
          "surface": [
           {
            "colorbar": {
             "outlinewidth": 0,
             "ticks": ""
            },
            "colorscale": [
             [
              0,
              "#0d0887"
             ],
             [
              0.1111111111111111,
              "#46039f"
             ],
             [
              0.2222222222222222,
              "#7201a8"
             ],
             [
              0.3333333333333333,
              "#9c179e"
             ],
             [
              0.4444444444444444,
              "#bd3786"
             ],
             [
              0.5555555555555556,
              "#d8576b"
             ],
             [
              0.6666666666666666,
              "#ed7953"
             ],
             [
              0.7777777777777778,
              "#fb9f3a"
             ],
             [
              0.8888888888888888,
              "#fdca26"
             ],
             [
              1,
              "#f0f921"
             ]
            ],
            "type": "surface"
           }
          ],
          "table": [
           {
            "cells": {
             "fill": {
              "color": "#EBF0F8"
             },
             "line": {
              "color": "white"
             }
            },
            "header": {
             "fill": {
              "color": "#C8D4E3"
             },
             "line": {
              "color": "white"
             }
            },
            "type": "table"
           }
          ]
         },
         "layout": {
          "annotationdefaults": {
           "arrowcolor": "#2a3f5f",
           "arrowhead": 0,
           "arrowwidth": 1
          },
          "autotypenumbers": "strict",
          "coloraxis": {
           "colorbar": {
            "outlinewidth": 0,
            "ticks": ""
           }
          },
          "colorscale": {
           "diverging": [
            [
             0,
             "#8e0152"
            ],
            [
             0.1,
             "#c51b7d"
            ],
            [
             0.2,
             "#de77ae"
            ],
            [
             0.3,
             "#f1b6da"
            ],
            [
             0.4,
             "#fde0ef"
            ],
            [
             0.5,
             "#f7f7f7"
            ],
            [
             0.6,
             "#e6f5d0"
            ],
            [
             0.7,
             "#b8e186"
            ],
            [
             0.8,
             "#7fbc41"
            ],
            [
             0.9,
             "#4d9221"
            ],
            [
             1,
             "#276419"
            ]
           ],
           "sequential": [
            [
             0,
             "#0d0887"
            ],
            [
             0.1111111111111111,
             "#46039f"
            ],
            [
             0.2222222222222222,
             "#7201a8"
            ],
            [
             0.3333333333333333,
             "#9c179e"
            ],
            [
             0.4444444444444444,
             "#bd3786"
            ],
            [
             0.5555555555555556,
             "#d8576b"
            ],
            [
             0.6666666666666666,
             "#ed7953"
            ],
            [
             0.7777777777777778,
             "#fb9f3a"
            ],
            [
             0.8888888888888888,
             "#fdca26"
            ],
            [
             1,
             "#f0f921"
            ]
           ],
           "sequentialminus": [
            [
             0,
             "#0d0887"
            ],
            [
             0.1111111111111111,
             "#46039f"
            ],
            [
             0.2222222222222222,
             "#7201a8"
            ],
            [
             0.3333333333333333,
             "#9c179e"
            ],
            [
             0.4444444444444444,
             "#bd3786"
            ],
            [
             0.5555555555555556,
             "#d8576b"
            ],
            [
             0.6666666666666666,
             "#ed7953"
            ],
            [
             0.7777777777777778,
             "#fb9f3a"
            ],
            [
             0.8888888888888888,
             "#fdca26"
            ],
            [
             1,
             "#f0f921"
            ]
           ]
          },
          "colorway": [
           "#636efa",
           "#EF553B",
           "#00cc96",
           "#ab63fa",
           "#FFA15A",
           "#19d3f3",
           "#FF6692",
           "#B6E880",
           "#FF97FF",
           "#FECB52"
          ],
          "font": {
           "color": "#2a3f5f"
          },
          "geo": {
           "bgcolor": "white",
           "lakecolor": "white",
           "landcolor": "white",
           "showlakes": true,
           "showland": true,
           "subunitcolor": "#C8D4E3"
          },
          "hoverlabel": {
           "align": "left"
          },
          "hovermode": "closest",
          "mapbox": {
           "style": "light"
          },
          "paper_bgcolor": "white",
          "plot_bgcolor": "white",
          "polar": {
           "angularaxis": {
            "gridcolor": "#EBF0F8",
            "linecolor": "#EBF0F8",
            "ticks": ""
           },
           "bgcolor": "white",
           "radialaxis": {
            "gridcolor": "#EBF0F8",
            "linecolor": "#EBF0F8",
            "ticks": ""
           }
          },
          "scene": {
           "xaxis": {
            "backgroundcolor": "white",
            "gridcolor": "#DFE8F3",
            "gridwidth": 2,
            "linecolor": "#EBF0F8",
            "showbackground": true,
            "ticks": "",
            "zerolinecolor": "#EBF0F8"
           },
           "yaxis": {
            "backgroundcolor": "white",
            "gridcolor": "#DFE8F3",
            "gridwidth": 2,
            "linecolor": "#EBF0F8",
            "showbackground": true,
            "ticks": "",
            "zerolinecolor": "#EBF0F8"
           },
           "zaxis": {
            "backgroundcolor": "white",
            "gridcolor": "#DFE8F3",
            "gridwidth": 2,
            "linecolor": "#EBF0F8",
            "showbackground": true,
            "ticks": "",
            "zerolinecolor": "#EBF0F8"
           }
          },
          "shapedefaults": {
           "line": {
            "color": "#2a3f5f"
           }
          },
          "ternary": {
           "aaxis": {
            "gridcolor": "#DFE8F3",
            "linecolor": "#A2B1C6",
            "ticks": ""
           },
           "baxis": {
            "gridcolor": "#DFE8F3",
            "linecolor": "#A2B1C6",
            "ticks": ""
           },
           "bgcolor": "white",
           "caxis": {
            "gridcolor": "#DFE8F3",
            "linecolor": "#A2B1C6",
            "ticks": ""
           }
          },
          "title": {
           "x": 0.05
          },
          "xaxis": {
           "automargin": true,
           "gridcolor": "#EBF0F8",
           "linecolor": "#EBF0F8",
           "ticks": "",
           "title": {
            "standoff": 15
           },
           "zerolinecolor": "#EBF0F8",
           "zerolinewidth": 2
          },
          "yaxis": {
           "automargin": true,
           "gridcolor": "#EBF0F8",
           "linecolor": "#EBF0F8",
           "ticks": "",
           "title": {
            "standoff": 15
           },
           "zerolinecolor": "#EBF0F8",
           "zerolinewidth": 2
          }
         }
        },
        "title": {
         "text": "Histogram of Predicted Probabilities by True Labels"
        },
        "width": 800,
        "xaxis": {
         "anchor": "y",
         "domain": [
          0,
          1
         ],
         "title": {
          "text": "Predicted Probability"
         }
        },
        "yaxis": {
         "anchor": "x",
         "domain": [
          0,
          1
         ],
         "title": {
          "text": "count"
         }
        }
       }
      }
     },
     "metadata": {},
     "output_type": "display_data"
    }
   ],
   "source": [
    "from recurrent_health_events_prediction.training.utils import plot_pred_proba_distribution\n",
    "\n",
    "plot_pred_proba_distribution(test_pred_df[\"true_label\"], test_pred_df[\"pred_prob\"], show_plot=False)"
   ]
  },
  {
   "cell_type": "code",
   "execution_count": 28,
   "id": "f24456ff",
   "metadata": {},
   "outputs": [
    {
     "data": {
      "image/png": "[encoded data removed]",
      "text/plain": [
       "<Figure size 640x480 with 2 Axes>"
      ]
     },
     "execution_count": 28,
     "metadata": {},
     "output_type": "execute_result"
    }
   ],
   "source": [
    "from recurrent_health_events_prediction.training.utils import plot_confusion_matrix\n",
    "\n",
    "class_names=training_data_config[\"class_names\"]\n",
    "plot_confusion_matrix(test_metrics[\"confusion_matrix\"], class_names)"
   ]
  }
 ],
 "metadata": {
  "kernelspec": {
   "display_name": "recurrent-health-events-prediction-nvorhdTT-py3.10",
   "language": "python",
   "name": "python3"
  },
  "language_info": {
   "codemirror_mode": {
    "name": "ipython",
    "version": 3
   },
   "file_extension": ".py",
   "mimetype": "text/x-python",
   "name": "python",
   "nbconvert_exporter": "python",
   "pygments_lexer": "ipython3",
   "version": "3.10.14"
  }
 },
 "nbformat": 4,
 "nbformat_minor": 5
}
