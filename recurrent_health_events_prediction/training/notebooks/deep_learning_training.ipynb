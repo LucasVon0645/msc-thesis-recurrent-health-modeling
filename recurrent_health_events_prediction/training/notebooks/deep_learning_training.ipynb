{
 "cells": [
  {
   "cell_type": "markdown",
   "id": "9b33f1ff",
   "metadata": {},
   "source": [
    "# Train and Evaluate Deep Learning Models for MIMIC Dataset"
   ]
  },
  {
   "cell_type": "code",
   "execution_count": null,
   "id": "6a643448",
   "metadata": {},
   "outputs": [],
   "source": [
    "from importlib import resources as impresources\n",
    "import os\n",
    "\n",
    "import torch\n",
    "\n",
    "from recurrent_health_events_prediction.utils.general_utils import import_yaml_config\n",
    "from recurrent_health_events_prediction import configs\n",
    "\n",
    "data_config = import_yaml_config(\n",
    "    impresources.files(configs) / \"data_config.yaml\"\n",
    ")\n",
    "\n",
    "training_data_config = data_config['training_data'][\"mimic\"]\n",
    "data_directory = training_data_config['data_directory']\n",
    "\n",
    "OVERWRITE_PREPROCESSED = True"
   ]
  },
  {
   "cell_type": "code",
   "execution_count": 2,
   "id": "63868b12",
   "metadata": {},
   "outputs": [
    {
     "name": "stdout",
     "output_type": "stream",
     "text": [
      "Train and test data directory: /workspaces/msc-thesis-recurrent-health-modeling/data/mimic-iii-preprocessed/copd_hf_renal_diabetes/multiple_hosp_patients/train_test\n"
     ]
    }
   ],
   "source": [
    "print(\"Train and test data directory:\", data_directory)"
   ]
  },
  {
   "cell_type": "code",
   "execution_count": 3,
   "id": "47d49738",
   "metadata": {},
   "outputs": [
    {
     "name": "stdout",
     "output_type": "stream",
     "text": [
      "batch_size: 64\n",
      "num_epochs: 100\n",
      "learning_rate: 0.01\n",
      "model_class: GRUNet\n",
      "longitudinal_feat_cols: ['LOG_DAYS_IN_ICU', 'CHARLSON_INDEX', 'DISCHARGE_LOCATION_POST_ACUTE_CARE', 'LOG_DAYS_UNTIL_NEXT_HOSPITALIZATION']\n",
      "current_feat_cols: ['LOG_DAYS_IN_ICU', 'CHARLSON_INDEX', 'LOG_NUM_DRUGS', 'NUM_PROCEDURES', 'DISCHARGE_LOCATION_POST_ACUTE_CARE', 'LOG_PARTICIPATION_DAYS', 'AGE', 'GENDER_M', 'ADMISSION_TYPE_ELECTIVE', 'ETHNICITY_WHITE']\n",
      "max_sequence_length: 4\n",
      "no_elective: True\n",
      "reverse_chronological_order: False\n",
      "model_params: {'input_size_curr': 10, 'hidden_size_head': 32, 'input_size_seq': 4, 'hidden_size_seq': 16, 'num_layers_seq': 1, 'dropout': 0.0}\n"
     ]
    }
   ],
   "source": [
    "model_name = \"gru_duration_aware_min\"\n",
    "model_config_path =f\"/workspaces/msc-thesis-recurrent-health-modeling/_models/mimic/deep_learning/{model_name}/{model_name}_config.yaml\"\n",
    " \n",
    "model_config = import_yaml_config(model_config_path)\n",
    "for key, value in model_config.items():\n",
    "    print(f\"{key}: {value}\")\n",
    "\n",
    "model_params_dict = model_config['model_params']\n",
    "assert model_params_dict['input_size_curr'] == len(model_config['current_feat_cols'])\n",
    "assert model_params_dict['input_size_seq'] == len(model_config['longitudinal_feat_cols'])"
   ]
  },
  {
   "cell_type": "code",
   "execution_count": 4,
   "id": "e1185bb7",
   "metadata": {},
   "outputs": [
    {
     "name": "stdout",
     "output_type": "stream",
     "text": [
      "Model results will be saved to: /workspaces/msc-thesis-recurrent-health-modeling/_models/mimic/deep_learning/gru_duration_aware_min/multiple_hosp_patients_results\n"
     ]
    }
   ],
   "source": [
    "save_results_dir = os.path.dirname(model_config_path) + \"/multiple_hosp_patients_results\"\n",
    "print(\"Model results will be saved to:\", save_results_dir)"
   ]
  },
  {
   "cell_type": "code",
   "execution_count": 5,
   "id": "5d33817b",
   "metadata": {},
   "outputs": [
    {
     "name": "stdout",
     "output_type": "stream",
     "text": [
      "Preparing train and test datasets...\n",
      "Creating new PyTorch datasets...\n",
      "Test dataset (all events) size: 1085\n",
      "Test dataset (last events only) size: 353\n",
      "Saved PyTorch datasets to /workspaces/msc-thesis-recurrent-health-modeling/_models/mimic/deep_learning/gru_duration_aware_min/multiple_hosp_patients_results\n"
     ]
    }
   ],
   "source": [
    "# Prepare datasets (load existing or create + save new)\n",
    "from recurrent_health_events_prediction.training.train_deep_learning_models import prepare_train_test_datasets\n",
    "\n",
    "\n",
    "train_dataset, test_dataset, last_events_test_dataset, train_df_path, test_df_path = prepare_train_test_datasets(\n",
    "    data_directory=data_directory,\n",
    "    training_data_config=training_data_config,\n",
    "    model_config=model_config,\n",
    "    save_output_dir_path=save_results_dir,\n",
    "    save_scaler_dir_path=None,\n",
    "    overwrite_preprocessed=OVERWRITE_PREPROCESSED,\n",
    ")"
   ]
  },
  {
   "cell_type": "markdown",
   "id": "fc3283af",
   "metadata": {},
   "source": [
    "## Inspect Train Data"
   ]
  },
  {
   "cell_type": "code",
   "execution_count": 6,
   "id": "c48d32ae",
   "metadata": {},
   "outputs": [
    {
     "data": {
      "application/vnd.microsoft.datawrangler.viewer.v0+json": {
       "columns": [
        {
         "name": "index",
         "rawType": "object",
         "type": "string"
        },
        {
         "name": "LOG_DAYS_IN_ICU",
         "rawType": "float64",
         "type": "float"
        },
        {
         "name": "CHARLSON_INDEX",
         "rawType": "float64",
         "type": "float"
        },
        {
         "name": "LOG_NUM_DRUGS",
         "rawType": "float64",
         "type": "float"
        },
        {
         "name": "NUM_PROCEDURES",
         "rawType": "float64",
         "type": "float"
        },
        {
         "name": "LOG_PARTICIPATION_DAYS",
         "rawType": "float64",
         "type": "float"
        },
        {
         "name": "AGE",
         "rawType": "float64",
         "type": "float"
        }
       ],
       "ref": "e71dd713-e896-4544-9597-f041152aeb95",
       "rows": [
        [
         "count",
         "4792.0",
         "4792.0",
         "4792.0",
         "4792.0",
         "4792.0",
         "4792.0"
        ],
        [
         "mean",
         "-1.5420793931354428e-16",
         "-1.5420793931354428e-16",
         "-2.965537294491236e-17",
         "8.896611883473709e-17",
         "0.0",
         "3.4103678886649215e-17"
        ],
        [
         "std",
         "1.0001043569008843",
         "1.000104356900884",
         "1.0001043569008843",
         "1.0001043569008843",
         "1.0001043569008843",
         "1.0001043569008843"
        ],
        [
         "min",
         "-1.7769590786019176",
         "-1.986906428202256",
         "-2.987183050398288",
         "-1.0490717762936492",
         "-1.94136451543699",
         "-2.623989483242348"
        ],
        [
         "25%",
         "-0.7121230694535902",
         "-0.785789283766125",
         "-0.0695839258892671",
         "-0.7709598072740006",
         "-0.9414016464428028",
         "-0.6492784546536708"
        ],
        [
         "50%",
         "-0.19271518562304146",
         "0.0149554791912956",
         "0.2501775887060719",
         "-0.2147358692347035",
         "0.1480441361218952",
         "0.091238181067083"
        ],
        [
         "75%",
         "0.4891051079821768",
         "0.8157002421487162",
         "0.5276852881385061",
         "0.3414880688045935",
         "0.903392387863177",
         "0.7700450971444407"
        ],
        [
         "max",
         "4.729544870760188",
         "4.018679293978398",
         "1.594262866933085",
         "5.347503511158267",
         "1.6269684092202756",
         "1.7574006114387792"
        ]
       ],
       "shape": {
        "columns": 6,
        "rows": 8
       }
      },
      "text/html": [
       "<div>\n",
       "<style scoped>\n",
       "    .dataframe tbody tr th:only-of-type {\n",
       "        vertical-align: middle;\n",
       "    }\n",
       "\n",
       "    .dataframe tbody tr th {\n",
       "        vertical-align: top;\n",
       "    }\n",
       "\n",
       "    .dataframe thead th {\n",
       "        text-align: right;\n",
       "    }\n",
       "</style>\n",
       "<table border=\"1\" class=\"dataframe\">\n",
       "  <thead>\n",
       "    <tr style=\"text-align: right;\">\n",
       "      <th></th>\n",
       "      <th>LOG_DAYS_IN_ICU</th>\n",
       "      <th>CHARLSON_INDEX</th>\n",
       "      <th>LOG_NUM_DRUGS</th>\n",
       "      <th>NUM_PROCEDURES</th>\n",
       "      <th>LOG_PARTICIPATION_DAYS</th>\n",
       "      <th>AGE</th>\n",
       "    </tr>\n",
       "  </thead>\n",
       "  <tbody>\n",
       "    <tr>\n",
       "      <th>count</th>\n",
       "      <td>4.792000e+03</td>\n",
       "      <td>4.792000e+03</td>\n",
       "      <td>4.792000e+03</td>\n",
       "      <td>4.792000e+03</td>\n",
       "      <td>4792.000000</td>\n",
       "      <td>4.792000e+03</td>\n",
       "    </tr>\n",
       "    <tr>\n",
       "      <th>mean</th>\n",
       "      <td>-1.542079e-16</td>\n",
       "      <td>-1.542079e-16</td>\n",
       "      <td>-2.965537e-17</td>\n",
       "      <td>8.896612e-17</td>\n",
       "      <td>0.000000</td>\n",
       "      <td>3.410368e-17</td>\n",
       "    </tr>\n",
       "    <tr>\n",
       "      <th>std</th>\n",
       "      <td>1.000104e+00</td>\n",
       "      <td>1.000104e+00</td>\n",
       "      <td>1.000104e+00</td>\n",
       "      <td>1.000104e+00</td>\n",
       "      <td>1.000104</td>\n",
       "      <td>1.000104e+00</td>\n",
       "    </tr>\n",
       "    <tr>\n",
       "      <th>min</th>\n",
       "      <td>-1.776959e+00</td>\n",
       "      <td>-1.986906e+00</td>\n",
       "      <td>-2.987183e+00</td>\n",
       "      <td>-1.049072e+00</td>\n",
       "      <td>-1.941365</td>\n",
       "      <td>-2.623989e+00</td>\n",
       "    </tr>\n",
       "    <tr>\n",
       "      <th>25%</th>\n",
       "      <td>-7.121231e-01</td>\n",
       "      <td>-7.857893e-01</td>\n",
       "      <td>-6.958393e-02</td>\n",
       "      <td>-7.709598e-01</td>\n",
       "      <td>-0.941402</td>\n",
       "      <td>-6.492785e-01</td>\n",
       "    </tr>\n",
       "    <tr>\n",
       "      <th>50%</th>\n",
       "      <td>-1.927152e-01</td>\n",
       "      <td>1.495548e-02</td>\n",
       "      <td>2.501776e-01</td>\n",
       "      <td>-2.147359e-01</td>\n",
       "      <td>0.148044</td>\n",
       "      <td>9.123818e-02</td>\n",
       "    </tr>\n",
       "    <tr>\n",
       "      <th>75%</th>\n",
       "      <td>4.891051e-01</td>\n",
       "      <td>8.157002e-01</td>\n",
       "      <td>5.276853e-01</td>\n",
       "      <td>3.414881e-01</td>\n",
       "      <td>0.903392</td>\n",
       "      <td>7.700451e-01</td>\n",
       "    </tr>\n",
       "    <tr>\n",
       "      <th>max</th>\n",
       "      <td>4.729545e+00</td>\n",
       "      <td>4.018679e+00</td>\n",
       "      <td>1.594263e+00</td>\n",
       "      <td>5.347504e+00</td>\n",
       "      <td>1.626968</td>\n",
       "      <td>1.757401e+00</td>\n",
       "    </tr>\n",
       "  </tbody>\n",
       "</table>\n",
       "</div>"
      ],
      "text/plain": [
       "       LOG_DAYS_IN_ICU  CHARLSON_INDEX  LOG_NUM_DRUGS  NUM_PROCEDURES  \\\n",
       "count     4.792000e+03    4.792000e+03   4.792000e+03    4.792000e+03   \n",
       "mean     -1.542079e-16   -1.542079e-16  -2.965537e-17    8.896612e-17   \n",
       "std       1.000104e+00    1.000104e+00   1.000104e+00    1.000104e+00   \n",
       "min      -1.776959e+00   -1.986906e+00  -2.987183e+00   -1.049072e+00   \n",
       "25%      -7.121231e-01   -7.857893e-01  -6.958393e-02   -7.709598e-01   \n",
       "50%      -1.927152e-01    1.495548e-02   2.501776e-01   -2.147359e-01   \n",
       "75%       4.891051e-01    8.157002e-01   5.276853e-01    3.414881e-01   \n",
       "max       4.729545e+00    4.018679e+00   1.594263e+00    5.347504e+00   \n",
       "\n",
       "       LOG_PARTICIPATION_DAYS           AGE  \n",
       "count             4792.000000  4.792000e+03  \n",
       "mean                 0.000000  3.410368e-17  \n",
       "std                  1.000104  1.000104e+00  \n",
       "min                 -1.941365 -2.623989e+00  \n",
       "25%                 -0.941402 -6.492785e-01  \n",
       "50%                  0.148044  9.123818e-02  \n",
       "75%                  0.903392  7.700451e-01  \n",
       "max                  1.626968  1.757401e+00  "
      ]
     },
     "execution_count": 6,
     "metadata": {},
     "output_type": "execute_result"
    }
   ],
   "source": [
    "import pandas as pd\n",
    "\n",
    "train_df = pd.read_csv(train_df_path)\n",
    "\n",
    "train_df[model_config['current_feat_cols']].describe()"
   ]
  },
  {
   "cell_type": "code",
   "execution_count": 7,
   "id": "3b5bcf49",
   "metadata": {},
   "outputs": [
    {
     "data": {
      "application/vnd.microsoft.datawrangler.viewer.v0+json": {
       "columns": [
        {
         "name": "index",
         "rawType": "object",
         "type": "string"
        },
        {
         "name": "LOG_DAYS_IN_ICU",
         "rawType": "float64",
         "type": "float"
        },
        {
         "name": "CHARLSON_INDEX",
         "rawType": "float64",
         "type": "float"
        },
        {
         "name": "LOG_DAYS_UNTIL_NEXT_HOSPITALIZATION",
         "rawType": "float64",
         "type": "float"
        }
       ],
       "ref": "42a438db-6e5b-4856-bfba-215c9611a1c2",
       "rows": [
        [
         "count",
         "4792.0",
         "4792.0",
         "4792.0"
        ],
        [
         "mean",
         "-1.5420793931354428e-16",
         "-1.5420793931354428e-16",
         "-3.5586447533894834e-17"
        ],
        [
         "std",
         "1.0001043569008843",
         "1.000104356900884",
         "1.0001043569008843"
        ],
        [
         "min",
         "-1.7769590786019176",
         "-1.986906428202256",
         "-2.3413077403031903"
        ],
        [
         "25%",
         "-0.7121230694535902",
         "-0.785789283766125",
         "-0.7434079228622257"
        ],
        [
         "50%",
         "-0.19271518562304146",
         "0.0149554791912956",
         "0.0570767186358025"
        ],
        [
         "75%",
         "0.4891051079821768",
         "0.8157002421487162",
         "0.8074353077896823"
        ],
        [
         "max",
         "4.729544870760188",
         "4.018679293978398",
         "2.081791448518337"
        ]
       ],
       "shape": {
        "columns": 3,
        "rows": 8
       }
      },
      "text/html": [
       "<div>\n",
       "<style scoped>\n",
       "    .dataframe tbody tr th:only-of-type {\n",
       "        vertical-align: middle;\n",
       "    }\n",
       "\n",
       "    .dataframe tbody tr th {\n",
       "        vertical-align: top;\n",
       "    }\n",
       "\n",
       "    .dataframe thead th {\n",
       "        text-align: right;\n",
       "    }\n",
       "</style>\n",
       "<table border=\"1\" class=\"dataframe\">\n",
       "  <thead>\n",
       "    <tr style=\"text-align: right;\">\n",
       "      <th></th>\n",
       "      <th>LOG_DAYS_IN_ICU</th>\n",
       "      <th>CHARLSON_INDEX</th>\n",
       "      <th>LOG_DAYS_UNTIL_NEXT_HOSPITALIZATION</th>\n",
       "    </tr>\n",
       "  </thead>\n",
       "  <tbody>\n",
       "    <tr>\n",
       "      <th>count</th>\n",
       "      <td>4.792000e+03</td>\n",
       "      <td>4.792000e+03</td>\n",
       "      <td>4.792000e+03</td>\n",
       "    </tr>\n",
       "    <tr>\n",
       "      <th>mean</th>\n",
       "      <td>-1.542079e-16</td>\n",
       "      <td>-1.542079e-16</td>\n",
       "      <td>-3.558645e-17</td>\n",
       "    </tr>\n",
       "    <tr>\n",
       "      <th>std</th>\n",
       "      <td>1.000104e+00</td>\n",
       "      <td>1.000104e+00</td>\n",
       "      <td>1.000104e+00</td>\n",
       "    </tr>\n",
       "    <tr>\n",
       "      <th>min</th>\n",
       "      <td>-1.776959e+00</td>\n",
       "      <td>-1.986906e+00</td>\n",
       "      <td>-2.341308e+00</td>\n",
       "    </tr>\n",
       "    <tr>\n",
       "      <th>25%</th>\n",
       "      <td>-7.121231e-01</td>\n",
       "      <td>-7.857893e-01</td>\n",
       "      <td>-7.434079e-01</td>\n",
       "    </tr>\n",
       "    <tr>\n",
       "      <th>50%</th>\n",
       "      <td>-1.927152e-01</td>\n",
       "      <td>1.495548e-02</td>\n",
       "      <td>5.707672e-02</td>\n",
       "    </tr>\n",
       "    <tr>\n",
       "      <th>75%</th>\n",
       "      <td>4.891051e-01</td>\n",
       "      <td>8.157002e-01</td>\n",
       "      <td>8.074353e-01</td>\n",
       "    </tr>\n",
       "    <tr>\n",
       "      <th>max</th>\n",
       "      <td>4.729545e+00</td>\n",
       "      <td>4.018679e+00</td>\n",
       "      <td>2.081791e+00</td>\n",
       "    </tr>\n",
       "  </tbody>\n",
       "</table>\n",
       "</div>"
      ],
      "text/plain": [
       "       LOG_DAYS_IN_ICU  CHARLSON_INDEX  LOG_DAYS_UNTIL_NEXT_HOSPITALIZATION\n",
       "count     4.792000e+03    4.792000e+03                         4.792000e+03\n",
       "mean     -1.542079e-16   -1.542079e-16                        -3.558645e-17\n",
       "std       1.000104e+00    1.000104e+00                         1.000104e+00\n",
       "min      -1.776959e+00   -1.986906e+00                        -2.341308e+00\n",
       "25%      -7.121231e-01   -7.857893e-01                        -7.434079e-01\n",
       "50%      -1.927152e-01    1.495548e-02                         5.707672e-02\n",
       "75%       4.891051e-01    8.157002e-01                         8.074353e-01\n",
       "max       4.729545e+00    4.018679e+00                         2.081791e+00"
      ]
     },
     "execution_count": 7,
     "metadata": {},
     "output_type": "execute_result"
    }
   ],
   "source": [
    "train_df[model_config[\"longitudinal_feat_cols\"]].describe()"
   ]
  },
  {
   "cell_type": "code",
   "execution_count": 8,
   "id": "0a3590cd",
   "metadata": {},
   "outputs": [
    {
     "data": {
      "application/vnd.microsoft.datawrangler.viewer.v0+json": {
       "columns": [
        {
         "name": "index",
         "rawType": "object",
         "type": "string"
        },
        {
         "name": "LOG_DAYS_IN_ICU",
         "rawType": "float64",
         "type": "float"
        },
        {
         "name": "CHARLSON_INDEX",
         "rawType": "float64",
         "type": "float"
        },
        {
         "name": "LOG_NUM_DRUGS",
         "rawType": "float64",
         "type": "float"
        },
        {
         "name": "NUM_PROCEDURES",
         "rawType": "float64",
         "type": "float"
        },
        {
         "name": "LOG_PARTICIPATION_DAYS",
         "rawType": "float64",
         "type": "float"
        },
        {
         "name": "AGE",
         "rawType": "float64",
         "type": "float"
        }
       ],
       "ref": "8952e176-6311-400f-9ca1-21ac63a6989e",
       "rows": [
        [
         "count",
         "1159.0",
         "1159.0",
         "1159.0",
         "1159.0",
         "1159.0",
         "1159.0"
        ],
        [
         "mean",
         "0.03940202641328782",
         "0.0028648550741645533",
         "0.004980767238519558",
         "-0.011490970391181236",
         "-0.04970699554665153",
         "0.10231291936374085"
        ],
        [
         "std",
         "1.0081523395143068",
         "0.9952753993169116",
         "1.0040778100008434",
         "0.9961981445129082",
         "0.9931211612405918",
         "0.9512313617454963"
        ],
        [
         "min",
         "-1.7769590786019176",
         "-1.986906428202256",
         "-2.987183050398288",
         "-1.0490717762936492",
         "-1.94136451543699",
         "-2.623989483242348"
        ],
        [
         "25%",
         "-0.7004779543187568",
         "-0.785789283766125",
         "-0.0695839258892671",
         "-0.7709598072740006",
         "-0.9998851165595134",
         "-0.5258590153668785"
        ],
        [
         "50%",
         "-0.17521277517519",
         "0.0149554791912956",
         "0.2501775887060719",
         "-0.2147358692347035",
         "0.0569416094142675",
         "0.2146576203538753"
        ],
        [
         "75%",
         "0.5735551151056275",
         "0.4153278606700059",
         "0.5276852881385061",
         "0.3414880688045935",
         "0.8546756355080253",
         "0.893464536431233"
        ],
        [
         "max",
         "3.629249864022007",
         "4.018679293978398",
         "1.4380564283667665",
         "5.347503511158267",
         "1.5590358638950583",
         "1.695690891795383"
        ]
       ],
       "shape": {
        "columns": 6,
        "rows": 8
       }
      },
      "text/html": [
       "<div>\n",
       "<style scoped>\n",
       "    .dataframe tbody tr th:only-of-type {\n",
       "        vertical-align: middle;\n",
       "    }\n",
       "\n",
       "    .dataframe tbody tr th {\n",
       "        vertical-align: top;\n",
       "    }\n",
       "\n",
       "    .dataframe thead th {\n",
       "        text-align: right;\n",
       "    }\n",
       "</style>\n",
       "<table border=\"1\" class=\"dataframe\">\n",
       "  <thead>\n",
       "    <tr style=\"text-align: right;\">\n",
       "      <th></th>\n",
       "      <th>LOG_DAYS_IN_ICU</th>\n",
       "      <th>CHARLSON_INDEX</th>\n",
       "      <th>LOG_NUM_DRUGS</th>\n",
       "      <th>NUM_PROCEDURES</th>\n",
       "      <th>LOG_PARTICIPATION_DAYS</th>\n",
       "      <th>AGE</th>\n",
       "    </tr>\n",
       "  </thead>\n",
       "  <tbody>\n",
       "    <tr>\n",
       "      <th>count</th>\n",
       "      <td>1159.000000</td>\n",
       "      <td>1159.000000</td>\n",
       "      <td>1159.000000</td>\n",
       "      <td>1159.000000</td>\n",
       "      <td>1159.000000</td>\n",
       "      <td>1159.000000</td>\n",
       "    </tr>\n",
       "    <tr>\n",
       "      <th>mean</th>\n",
       "      <td>0.039402</td>\n",
       "      <td>0.002865</td>\n",
       "      <td>0.004981</td>\n",
       "      <td>-0.011491</td>\n",
       "      <td>-0.049707</td>\n",
       "      <td>0.102313</td>\n",
       "    </tr>\n",
       "    <tr>\n",
       "      <th>std</th>\n",
       "      <td>1.008152</td>\n",
       "      <td>0.995275</td>\n",
       "      <td>1.004078</td>\n",
       "      <td>0.996198</td>\n",
       "      <td>0.993121</td>\n",
       "      <td>0.951231</td>\n",
       "    </tr>\n",
       "    <tr>\n",
       "      <th>min</th>\n",
       "      <td>-1.776959</td>\n",
       "      <td>-1.986906</td>\n",
       "      <td>-2.987183</td>\n",
       "      <td>-1.049072</td>\n",
       "      <td>-1.941365</td>\n",
       "      <td>-2.623989</td>\n",
       "    </tr>\n",
       "    <tr>\n",
       "      <th>25%</th>\n",
       "      <td>-0.700478</td>\n",
       "      <td>-0.785789</td>\n",
       "      <td>-0.069584</td>\n",
       "      <td>-0.770960</td>\n",
       "      <td>-0.999885</td>\n",
       "      <td>-0.525859</td>\n",
       "    </tr>\n",
       "    <tr>\n",
       "      <th>50%</th>\n",
       "      <td>-0.175213</td>\n",
       "      <td>0.014955</td>\n",
       "      <td>0.250178</td>\n",
       "      <td>-0.214736</td>\n",
       "      <td>0.056942</td>\n",
       "      <td>0.214658</td>\n",
       "    </tr>\n",
       "    <tr>\n",
       "      <th>75%</th>\n",
       "      <td>0.573555</td>\n",
       "      <td>0.415328</td>\n",
       "      <td>0.527685</td>\n",
       "      <td>0.341488</td>\n",
       "      <td>0.854676</td>\n",
       "      <td>0.893465</td>\n",
       "    </tr>\n",
       "    <tr>\n",
       "      <th>max</th>\n",
       "      <td>3.629250</td>\n",
       "      <td>4.018679</td>\n",
       "      <td>1.438056</td>\n",
       "      <td>5.347504</td>\n",
       "      <td>1.559036</td>\n",
       "      <td>1.695691</td>\n",
       "    </tr>\n",
       "  </tbody>\n",
       "</table>\n",
       "</div>"
      ],
      "text/plain": [
       "       LOG_DAYS_IN_ICU  CHARLSON_INDEX  LOG_NUM_DRUGS  NUM_PROCEDURES  \\\n",
       "count      1159.000000     1159.000000    1159.000000     1159.000000   \n",
       "mean          0.039402        0.002865       0.004981       -0.011491   \n",
       "std           1.008152        0.995275       1.004078        0.996198   \n",
       "min          -1.776959       -1.986906      -2.987183       -1.049072   \n",
       "25%          -0.700478       -0.785789      -0.069584       -0.770960   \n",
       "50%          -0.175213        0.014955       0.250178       -0.214736   \n",
       "75%           0.573555        0.415328       0.527685        0.341488   \n",
       "max           3.629250        4.018679       1.438056        5.347504   \n",
       "\n",
       "       LOG_PARTICIPATION_DAYS          AGE  \n",
       "count             1159.000000  1159.000000  \n",
       "mean                -0.049707     0.102313  \n",
       "std                  0.993121     0.951231  \n",
       "min                 -1.941365    -2.623989  \n",
       "25%                 -0.999885    -0.525859  \n",
       "50%                  0.056942     0.214658  \n",
       "75%                  0.854676     0.893465  \n",
       "max                  1.559036     1.695691  "
      ]
     },
     "execution_count": 8,
     "metadata": {},
     "output_type": "execute_result"
    }
   ],
   "source": [
    "test_df = pd.read_csv(test_df_path)\n",
    "\n",
    "test_df[model_config['current_feat_cols']].describe()"
   ]
  },
  {
   "cell_type": "markdown",
   "id": "126628c1",
   "metadata": {},
   "source": [
    "### Create PyTorch Datasets"
   ]
  },
  {
   "cell_type": "code",
   "execution_count": 9,
   "id": "247faede",
   "metadata": {},
   "outputs": [
    {
     "name": "stdout",
     "output_type": "stream",
     "text": [
      "Output directory for model results: /workspaces/msc-thesis-recurrent-health-modeling/_models/mimic/deep_learning/gru_duration_aware_min/multiple_hosp_patients_results\n"
     ]
    }
   ],
   "source": [
    "print(\"Output directory for model results:\", save_results_dir)"
   ]
  },
  {
   "cell_type": "markdown",
   "id": "08fe2ae6",
   "metadata": {},
   "source": [
    "## Train the Model"
   ]
  },
  {
   "cell_type": "code",
   "execution_count": 10,
   "id": "61e81333",
   "metadata": {},
   "outputs": [
    {
     "name": "stdout",
     "output_type": "stream",
     "text": [
      "\n",
      "Using provided model class: GRUNet\n",
      "\n",
      "Model initialized and ready for training.\n",
      "Model parameters:\n",
      "  input_size_curr: 10\n",
      "  hidden_size_head: 32\n",
      "  input_size_seq: 4\n",
      "  hidden_size_seq: 16\n",
      "  num_layers_seq: 1\n",
      "  dropout: 0.0\n",
      "\n",
      "Starting training...\n",
      "Number of training samples: 4434\n",
      "Batch size: 64\n",
      "Learning rate: 0.01\n",
      "Optimizer: Adam\n",
      "Loss function: BCEWithLogitsLoss\n",
      "\n",
      "Epoch 1/100, Loss: 0.5695295763867242\n",
      "Epoch 2/100, Loss: 0.5536727956363133\n",
      "Epoch 3/100, Loss: 0.5493240552289146\n",
      "Epoch 4/100, Loss: 0.5452691065413612\n",
      "Epoch 5/100, Loss: 0.5473663964441844\n",
      "Epoch 6/100, Loss: 0.5437548590557916\n",
      "Epoch 7/100, Loss: 0.5402295461722783\n",
      "Epoch 8/100, Loss: 0.5350936715091977\n",
      "Epoch 9/100, Loss: 0.5331932727779661\n",
      "Epoch 10/100, Loss: 0.5318361827305385\n",
      "Epoch 11/100, Loss: 0.5263014393193381\n",
      "Epoch 12/100, Loss: 0.5190287321805954\n",
      "Epoch 13/100, Loss: 0.5190845868417195\n",
      "Epoch 14/100, Loss: 0.5132717204945428\n",
      "Epoch 15/100, Loss: 0.5071103236504964\n",
      "Epoch 16/100, Loss: 0.5012048636163984\n",
      "Epoch 17/100, Loss: 0.4979111394711903\n",
      "Epoch 18/100, Loss: 0.4913669156176703\n",
      "Epoch 19/100, Loss: 0.4803188524075917\n",
      "Epoch 20/100, Loss: 0.47327345056193215\n",
      "Epoch 21/100, Loss: 0.4703253137213843\n",
      "Epoch 22/100, Loss: 0.4597291848489216\n",
      "Epoch 23/100, Loss: 0.4573044913155692\n",
      "Epoch 24/100, Loss: 0.45056037987981523\n",
      "Epoch 25/100, Loss: 0.44593320318630764\n",
      "Epoch 26/100, Loss: 0.4393726710762296\n",
      "Epoch 27/100, Loss: 0.43404853897435325\n",
      "Epoch 28/100, Loss: 0.4292722782918385\n",
      "Epoch 29/100, Loss: 0.4226458008800234\n",
      "Epoch 30/100, Loss: 0.4169597408601216\n",
      "Epoch 31/100, Loss: 0.4167022172893797\n",
      "Epoch 32/100, Loss: 0.4031841056687491\n",
      "Epoch 33/100, Loss: 0.3994809589215687\n",
      "Epoch 34/100, Loss: 0.3922840999705451\n",
      "Epoch 35/100, Loss: 0.39286146121365684\n",
      "Epoch 36/100, Loss: 0.39399739227124625\n",
      "Epoch 37/100, Loss: 0.3849049410649708\n",
      "Epoch 38/100, Loss: 0.3803725370338985\n",
      "Epoch 39/100, Loss: 0.3773130504148347\n",
      "Epoch 40/100, Loss: 0.3674104556441307\n",
      "Epoch 41/100, Loss: 0.36283672813858303\n",
      "Epoch 42/100, Loss: 0.36446290612220766\n",
      "Epoch 43/100, Loss: 0.3589046944464956\n",
      "Epoch 44/100, Loss: 0.35812163778713774\n",
      "Epoch 45/100, Loss: 0.356610036109175\n",
      "Epoch 46/100, Loss: 0.35280350169965197\n",
      "Epoch 47/100, Loss: 0.34838107845612937\n",
      "Epoch 48/100, Loss: 0.3460966091070856\n",
      "Epoch 49/100, Loss: 0.33854616944278987\n",
      "Epoch 50/100, Loss: 0.34440304998840604\n",
      "Epoch 51/100, Loss: 0.3407995287861143\n",
      "Epoch 52/100, Loss: 0.3284984331045832\n",
      "Epoch 53/100, Loss: 0.32953503557613917\n",
      "Epoch 54/100, Loss: 0.3270078586680549\n",
      "Epoch 55/100, Loss: 0.3189692165170397\n",
      "Epoch 56/100, Loss: 0.31949287333658766\n",
      "Epoch 57/100, Loss: 0.3402936863047736\n",
      "Epoch 58/100, Loss: 0.32092653172356744\n",
      "Epoch 59/100, Loss: 0.32256493291684557\n",
      "Epoch 60/100, Loss: 0.3176424829023225\n",
      "Epoch 61/100, Loss: 0.31554270344121116\n",
      "Epoch 62/100, Loss: 0.30801100581884383\n",
      "Epoch 63/100, Loss: 0.31626232010977606\n",
      "Epoch 64/100, Loss: 0.3249405228665897\n",
      "Epoch 65/100, Loss: 0.35513947712523597\n",
      "Epoch 66/100, Loss: 0.32432127978120534\n",
      "Epoch 67/100, Loss: 0.3132009159241404\n",
      "Epoch 68/100, Loss: 0.3030359023383686\n",
      "Epoch 69/100, Loss: 0.3048666087644441\n",
      "Epoch 70/100, Loss: 0.30401002424103873\n",
      "Epoch 71/100, Loss: 0.30265552955014363\n",
      "Epoch 72/100, Loss: 0.2990277160491262\n",
      "Epoch 73/100, Loss: 0.2952253443854196\n",
      "Epoch 74/100, Loss: 0.28840331243617195\n",
      "Epoch 75/100, Loss: 0.28665131160191126\n",
      "Epoch 76/100, Loss: 0.2867097101041249\n",
      "Epoch 77/100, Loss: 0.2891769496457917\n",
      "Epoch 78/100, Loss: 0.28256429731845856\n",
      "Epoch 79/100, Loss: 0.28110478562968116\n",
      "Epoch 80/100, Loss: 0.2769687710063798\n",
      "Epoch 81/100, Loss: 0.2766843929886818\n",
      "Epoch 82/100, Loss: 0.27570737664188655\n",
      "Epoch 83/100, Loss: 0.28204207654510227\n",
      "Epoch 84/100, Loss: 0.2890098111970084\n",
      "Epoch 85/100, Loss: 0.31469725178820745\n",
      "Epoch 86/100, Loss: 0.3260997340083122\n",
      "Epoch 87/100, Loss: 0.32300720193556376\n",
      "Epoch 88/100, Loss: 0.3216705356325422\n",
      "Epoch 89/100, Loss: 0.2944443155612264\n",
      "Epoch 90/100, Loss: 0.2796723587172372\n",
      "Epoch 91/100, Loss: 0.2711223602294922\n",
      "Epoch 92/100, Loss: 0.27533604225942065\n",
      "Epoch 93/100, Loss: 0.27621420749596187\n",
      "Epoch 94/100, Loss: 0.29526798065219606\n",
      "Epoch 95/100, Loss: 0.2756329236286027\n",
      "Epoch 96/100, Loss: 0.26738623455166816\n",
      "Epoch 97/100, Loss: 0.27419927205358235\n",
      "Epoch 98/100, Loss: 0.27054979471223695\n",
      "Epoch 99/100, Loss: 0.2743699455899852\n",
      "Epoch 100/100, Loss: 0.28339633090155464\n",
      "\n",
      "Training complete.\n"
     ]
    }
   ],
   "source": [
    "from recurrent_health_events_prediction.training.train_deep_learning_models import train\n",
    "from recurrent_health_events_prediction.model.RecurrentHealthEventsDL import GRUNet\n",
    "\n",
    "model, loss_epochs = train(\n",
    "    train_dataset=train_dataset,\n",
    "    model_config=model_config,\n",
    "    ModelClass=GRUNet\n",
    ")"
   ]
  },
  {
   "cell_type": "code",
   "execution_count": 11,
   "id": "31f0bff2",
   "metadata": {},
   "outputs": [
    {
     "data": {
      "application/vnd.plotly.v1+json": {
       "config": {
        "plotlyServerURL": "https://plot.ly"
       },
       "data": [
        {
         "mode": "lines+markers",
         "name": "Training Loss",
         "type": "scatter",
         "x": [
          1,
          2,
          3,
          4,
          5,
          6,
          7,
          8,
          9,
          10,
          11,
          12,
          13,
          14,
          15,
          16,
          17,
          18,
          19,
          20,
          21,
          22,
          23,
          24,
          25,
          26,
          27,
          28,
          29,
          30,
          31,
          32,
          33,
          34,
          35,
          36,
          37,
          38,
          39,
          40,
          41,
          42,
          43,
          44,
          45,
          46,
          47,
          48,
          49,
          50,
          51,
          52,
          53,
          54,
          55,
          56,
          57,
          58,
          59,
          60,
          61,
          62,
          63,
          64,
          65,
          66,
          67,
          68,
          69,
          70,
          71,
          72,
          73,
          74,
          75,
          76,
          77,
          78,
          79,
          80,
          81,
          82,
          83,
          84,
          85,
          86,
          87,
          88,
          89,
          90,
          91,
          92,
          93,
          94,
          95,
          96,
          97,
          98,
          99,
          100
         ],
         "y": [
          0.5695295763867242,
          0.5536727956363133,
          0.5493240552289146,
          0.5452691065413612,
          0.5473663964441844,
          0.5437548590557916,
          0.5402295461722783,
          0.5350936715091977,
          0.5331932727779661,
          0.5318361827305385,
          0.5263014393193381,
          0.5190287321805954,
          0.5190845868417195,
          0.5132717204945428,
          0.5071103236504964,
          0.5012048636163984,
          0.4979111394711903,
          0.4913669156176703,
          0.4803188524075917,
          0.47327345056193215,
          0.4703253137213843,
          0.4597291848489216,
          0.4573044913155692,
          0.45056037987981523,
          0.44593320318630764,
          0.4393726710762296,
          0.43404853897435325,
          0.4292722782918385,
          0.4226458008800234,
          0.4169597408601216,
          0.4167022172893797,
          0.4031841056687491,
          0.3994809589215687,
          0.3922840999705451,
          0.39286146121365684,
          0.39399739227124625,
          0.3849049410649708,
          0.3803725370338985,
          0.3773130504148347,
          0.3674104556441307,
          0.36283672813858303,
          0.36446290612220766,
          0.3589046944464956,
          0.35812163778713774,
          0.356610036109175,
          0.35280350169965197,
          0.34838107845612937,
          0.3460966091070856,
          0.33854616944278987,
          0.34440304998840604,
          0.3407995287861143,
          0.3284984331045832,
          0.32953503557613917,
          0.3270078586680549,
          0.3189692165170397,
          0.31949287333658766,
          0.3402936863047736,
          0.32092653172356744,
          0.32256493291684557,
          0.3176424829023225,
          0.31554270344121116,
          0.30801100581884383,
          0.31626232010977606,
          0.3249405228665897,
          0.35513947712523597,
          0.32432127978120534,
          0.3132009159241404,
          0.3030359023383686,
          0.3048666087644441,
          0.30401002424103873,
          0.30265552955014363,
          0.2990277160491262,
          0.2952253443854196,
          0.28840331243617195,
          0.28665131160191126,
          0.2867097101041249,
          0.2891769496457917,
          0.28256429731845856,
          0.28110478562968116,
          0.2769687710063798,
          0.2766843929886818,
          0.27570737664188655,
          0.28204207654510227,
          0.2890098111970084,
          0.31469725178820745,
          0.3260997340083122,
          0.32300720193556376,
          0.3216705356325422,
          0.2944443155612264,
          0.2796723587172372,
          0.2711223602294922,
          0.27533604225942065,
          0.27621420749596187,
          0.29526798065219606,
          0.2756329236286027,
          0.26738623455166816,
          0.27419927205358235,
          0.27054979471223695,
          0.2743699455899852,
          0.28339633090155464
         ]
        }
       ],
       "layout": {
        "template": {
         "data": {
          "bar": [
           {
            "error_x": {
             "color": "#2a3f5f"
            },
            "error_y": {
             "color": "#2a3f5f"
            },
            "marker": {
             "line": {
              "color": "white",
              "width": 0.5
             },
             "pattern": {
              "fillmode": "overlay",
              "size": 10,
              "solidity": 0.2
             }
            },
            "type": "bar"
           }
          ],
          "barpolar": [
           {
            "marker": {
             "line": {
              "color": "white",
              "width": 0.5
             },
             "pattern": {
              "fillmode": "overlay",
              "size": 10,
              "solidity": 0.2
             }
            },
            "type": "barpolar"
           }
          ],
          "carpet": [
           {
            "aaxis": {
             "endlinecolor": "#2a3f5f",
             "gridcolor": "#C8D4E3",
             "linecolor": "#C8D4E3",
             "minorgridcolor": "#C8D4E3",
             "startlinecolor": "#2a3f5f"
            },
            "baxis": {
             "endlinecolor": "#2a3f5f",
             "gridcolor": "#C8D4E3",
             "linecolor": "#C8D4E3",
             "minorgridcolor": "#C8D4E3",
             "startlinecolor": "#2a3f5f"
            },
            "type": "carpet"
           }
          ],
          "choropleth": [
           {
            "colorbar": {
             "outlinewidth": 0,
             "ticks": ""
            },
            "type": "choropleth"
           }
          ],
          "contour": [
           {
            "colorbar": {
             "outlinewidth": 0,
             "ticks": ""
            },
            "colorscale": [
             [
              0,
              "#0d0887"
             ],
             [
              0.1111111111111111,
              "#46039f"
             ],
             [
              0.2222222222222222,
              "#7201a8"
             ],
             [
              0.3333333333333333,
              "#9c179e"
             ],
             [
              0.4444444444444444,
              "#bd3786"
             ],
             [
              0.5555555555555556,
              "#d8576b"
             ],
             [
              0.6666666666666666,
              "#ed7953"
             ],
             [
              0.7777777777777778,
              "#fb9f3a"
             ],
             [
              0.8888888888888888,
              "#fdca26"
             ],
             [
              1,
              "#f0f921"
             ]
            ],
            "type": "contour"
           }
          ],
          "contourcarpet": [
           {
            "colorbar": {
             "outlinewidth": 0,
             "ticks": ""
            },
            "type": "contourcarpet"
           }
          ],
          "heatmap": [
           {
            "colorbar": {
             "outlinewidth": 0,
             "ticks": ""
            },
            "colorscale": [
             [
              0,
              "#0d0887"
             ],
             [
              0.1111111111111111,
              "#46039f"
             ],
             [
              0.2222222222222222,
              "#7201a8"
             ],
             [
              0.3333333333333333,
              "#9c179e"
             ],
             [
              0.4444444444444444,
              "#bd3786"
             ],
             [
              0.5555555555555556,
              "#d8576b"
             ],
             [
              0.6666666666666666,
              "#ed7953"
             ],
             [
              0.7777777777777778,
              "#fb9f3a"
             ],
             [
              0.8888888888888888,
              "#fdca26"
             ],
             [
              1,
              "#f0f921"
             ]
            ],
            "type": "heatmap"
           }
          ],
          "histogram": [
           {
            "marker": {
             "pattern": {
              "fillmode": "overlay",
              "size": 10,
              "solidity": 0.2
             }
            },
            "type": "histogram"
           }
          ],
          "histogram2d": [
           {
            "colorbar": {
             "outlinewidth": 0,
             "ticks": ""
            },
            "colorscale": [
             [
              0,
              "#0d0887"
             ],
             [
              0.1111111111111111,
              "#46039f"
             ],
             [
              0.2222222222222222,
              "#7201a8"
             ],
             [
              0.3333333333333333,
              "#9c179e"
             ],
             [
              0.4444444444444444,
              "#bd3786"
             ],
             [
              0.5555555555555556,
              "#d8576b"
             ],
             [
              0.6666666666666666,
              "#ed7953"
             ],
             [
              0.7777777777777778,
              "#fb9f3a"
             ],
             [
              0.8888888888888888,
              "#fdca26"
             ],
             [
              1,
              "#f0f921"
             ]
            ],
            "type": "histogram2d"
           }
          ],
          "histogram2dcontour": [
           {
            "colorbar": {
             "outlinewidth": 0,
             "ticks": ""
            },
            "colorscale": [
             [
              0,
              "#0d0887"
             ],
             [
              0.1111111111111111,
              "#46039f"
             ],
             [
              0.2222222222222222,
              "#7201a8"
             ],
             [
              0.3333333333333333,
              "#9c179e"
             ],
             [
              0.4444444444444444,
              "#bd3786"
             ],
             [
              0.5555555555555556,
              "#d8576b"
             ],
             [
              0.6666666666666666,
              "#ed7953"
             ],
             [
              0.7777777777777778,
              "#fb9f3a"
             ],
             [
              0.8888888888888888,
              "#fdca26"
             ],
             [
              1,
              "#f0f921"
             ]
            ],
            "type": "histogram2dcontour"
           }
          ],
          "mesh3d": [
           {
            "colorbar": {
             "outlinewidth": 0,
             "ticks": ""
            },
            "type": "mesh3d"
           }
          ],
          "parcoords": [
           {
            "line": {
             "colorbar": {
              "outlinewidth": 0,
              "ticks": ""
             }
            },
            "type": "parcoords"
           }
          ],
          "pie": [
           {
            "automargin": true,
            "type": "pie"
           }
          ],
          "scatter": [
           {
            "fillpattern": {
             "fillmode": "overlay",
             "size": 10,
             "solidity": 0.2
            },
            "type": "scatter"
           }
          ],
          "scatter3d": [
           {
            "line": {
             "colorbar": {
              "outlinewidth": 0,
              "ticks": ""
             }
            },
            "marker": {
             "colorbar": {
              "outlinewidth": 0,
              "ticks": ""
             }
            },
            "type": "scatter3d"
           }
          ],
          "scattercarpet": [
           {
            "marker": {
             "colorbar": {
              "outlinewidth": 0,
              "ticks": ""
             }
            },
            "type": "scattercarpet"
           }
          ],
          "scattergeo": [
           {
            "marker": {
             "colorbar": {
              "outlinewidth": 0,
              "ticks": ""
             }
            },
            "type": "scattergeo"
           }
          ],
          "scattergl": [
           {
            "marker": {
             "colorbar": {
              "outlinewidth": 0,
              "ticks": ""
             }
            },
            "type": "scattergl"
           }
          ],
          "scattermap": [
           {
            "marker": {
             "colorbar": {
              "outlinewidth": 0,
              "ticks": ""
             }
            },
            "type": "scattermap"
           }
          ],
          "scattermapbox": [
           {
            "marker": {
             "colorbar": {
              "outlinewidth": 0,
              "ticks": ""
             }
            },
            "type": "scattermapbox"
           }
          ],
          "scatterpolar": [
           {
            "marker": {
             "colorbar": {
              "outlinewidth": 0,
              "ticks": ""
             }
            },
            "type": "scatterpolar"
           }
          ],
          "scatterpolargl": [
           {
            "marker": {
             "colorbar": {
              "outlinewidth": 0,
              "ticks": ""
             }
            },
            "type": "scatterpolargl"
           }
          ],
          "scatterternary": [
           {
            "marker": {
             "colorbar": {
              "outlinewidth": 0,
              "ticks": ""
             }
            },
            "type": "scatterternary"
           }
          ],
          "surface": [
           {
            "colorbar": {
             "outlinewidth": 0,
             "ticks": ""
            },
            "colorscale": [
             [
              0,
              "#0d0887"
             ],
             [
              0.1111111111111111,
              "#46039f"
             ],
             [
              0.2222222222222222,
              "#7201a8"
             ],
             [
              0.3333333333333333,
              "#9c179e"
             ],
             [
              0.4444444444444444,
              "#bd3786"
             ],
             [
              0.5555555555555556,
              "#d8576b"
             ],
             [
              0.6666666666666666,
              "#ed7953"
             ],
             [
              0.7777777777777778,
              "#fb9f3a"
             ],
             [
              0.8888888888888888,
              "#fdca26"
             ],
             [
              1,
              "#f0f921"
             ]
            ],
            "type": "surface"
           }
          ],
          "table": [
           {
            "cells": {
             "fill": {
              "color": "#EBF0F8"
             },
             "line": {
              "color": "white"
             }
            },
            "header": {
             "fill": {
              "color": "#C8D4E3"
             },
             "line": {
              "color": "white"
             }
            },
            "type": "table"
           }
          ]
         },
         "layout": {
          "annotationdefaults": {
           "arrowcolor": "#2a3f5f",
           "arrowhead": 0,
           "arrowwidth": 1
          },
          "autotypenumbers": "strict",
          "coloraxis": {
           "colorbar": {
            "outlinewidth": 0,
            "ticks": ""
           }
          },
          "colorscale": {
           "diverging": [
            [
             0,
             "#8e0152"
            ],
            [
             0.1,
             "#c51b7d"
            ],
            [
             0.2,
             "#de77ae"
            ],
            [
             0.3,
             "#f1b6da"
            ],
            [
             0.4,
             "#fde0ef"
            ],
            [
             0.5,
             "#f7f7f7"
            ],
            [
             0.6,
             "#e6f5d0"
            ],
            [
             0.7,
             "#b8e186"
            ],
            [
             0.8,
             "#7fbc41"
            ],
            [
             0.9,
             "#4d9221"
            ],
            [
             1,
             "#276419"
            ]
           ],
           "sequential": [
            [
             0,
             "#0d0887"
            ],
            [
             0.1111111111111111,
             "#46039f"
            ],
            [
             0.2222222222222222,
             "#7201a8"
            ],
            [
             0.3333333333333333,
             "#9c179e"
            ],
            [
             0.4444444444444444,
             "#bd3786"
            ],
            [
             0.5555555555555556,
             "#d8576b"
            ],
            [
             0.6666666666666666,
             "#ed7953"
            ],
            [
             0.7777777777777778,
             "#fb9f3a"
            ],
            [
             0.8888888888888888,
             "#fdca26"
            ],
            [
             1,
             "#f0f921"
            ]
           ],
           "sequentialminus": [
            [
             0,
             "#0d0887"
            ],
            [
             0.1111111111111111,
             "#46039f"
            ],
            [
             0.2222222222222222,
             "#7201a8"
            ],
            [
             0.3333333333333333,
             "#9c179e"
            ],
            [
             0.4444444444444444,
             "#bd3786"
            ],
            [
             0.5555555555555556,
             "#d8576b"
            ],
            [
             0.6666666666666666,
             "#ed7953"
            ],
            [
             0.7777777777777778,
             "#fb9f3a"
            ],
            [
             0.8888888888888888,
             "#fdca26"
            ],
            [
             1,
             "#f0f921"
            ]
           ]
          },
          "colorway": [
           "#636efa",
           "#EF553B",
           "#00cc96",
           "#ab63fa",
           "#FFA15A",
           "#19d3f3",
           "#FF6692",
           "#B6E880",
           "#FF97FF",
           "#FECB52"
          ],
          "font": {
           "color": "#2a3f5f"
          },
          "geo": {
           "bgcolor": "white",
           "lakecolor": "white",
           "landcolor": "white",
           "showlakes": true,
           "showland": true,
           "subunitcolor": "#C8D4E3"
          },
          "hoverlabel": {
           "align": "left"
          },
          "hovermode": "closest",
          "mapbox": {
           "style": "light"
          },
          "paper_bgcolor": "white",
          "plot_bgcolor": "white",
          "polar": {
           "angularaxis": {
            "gridcolor": "#EBF0F8",
            "linecolor": "#EBF0F8",
            "ticks": ""
           },
           "bgcolor": "white",
           "radialaxis": {
            "gridcolor": "#EBF0F8",
            "linecolor": "#EBF0F8",
            "ticks": ""
           }
          },
          "scene": {
           "xaxis": {
            "backgroundcolor": "white",
            "gridcolor": "#DFE8F3",
            "gridwidth": 2,
            "linecolor": "#EBF0F8",
            "showbackground": true,
            "ticks": "",
            "zerolinecolor": "#EBF0F8"
           },
           "yaxis": {
            "backgroundcolor": "white",
            "gridcolor": "#DFE8F3",
            "gridwidth": 2,
            "linecolor": "#EBF0F8",
            "showbackground": true,
            "ticks": "",
            "zerolinecolor": "#EBF0F8"
           },
           "zaxis": {
            "backgroundcolor": "white",
            "gridcolor": "#DFE8F3",
            "gridwidth": 2,
            "linecolor": "#EBF0F8",
            "showbackground": true,
            "ticks": "",
            "zerolinecolor": "#EBF0F8"
           }
          },
          "shapedefaults": {
           "line": {
            "color": "#2a3f5f"
           }
          },
          "ternary": {
           "aaxis": {
            "gridcolor": "#DFE8F3",
            "linecolor": "#A2B1C6",
            "ticks": ""
           },
           "baxis": {
            "gridcolor": "#DFE8F3",
            "linecolor": "#A2B1C6",
            "ticks": ""
           },
           "bgcolor": "white",
           "caxis": {
            "gridcolor": "#DFE8F3",
            "linecolor": "#A2B1C6",
            "ticks": ""
           }
          },
          "title": {
           "x": 0.05
          },
          "xaxis": {
           "automargin": true,
           "gridcolor": "#EBF0F8",
           "linecolor": "#EBF0F8",
           "ticks": "",
           "title": {
            "standoff": 15
           },
           "zerolinecolor": "#EBF0F8",
           "zerolinewidth": 2
          },
          "yaxis": {
           "automargin": true,
           "gridcolor": "#EBF0F8",
           "linecolor": "#EBF0F8",
           "ticks": "",
           "title": {
            "standoff": 15
           },
           "zerolinecolor": "#EBF0F8",
           "zerolinewidth": 2
          }
         }
        },
        "title": {
         "text": "Training Loss per Epoch (Batch size: 64, Train samples: 4434)"
        },
        "xaxis": {
         "title": {
          "text": "Epoch"
         }
        },
        "yaxis": {
         "title": {
          "text": "Loss"
         }
        }
       }
      }
     },
     "metadata": {},
     "output_type": "display_data"
    }
   ],
   "source": [
    "import plotly.graph_objects as go\n",
    "\n",
    "batch_size = model_config['batch_size']\n",
    "num_samples = len(train_dataset)\n",
    "\n",
    "fig = go.Figure()\n",
    "fig.add_trace(go.Scatter(\n",
    "    y=loss_epochs,\n",
    "    x=list(range(1, len(loss_epochs) + 1)),\n",
    "    mode='lines+markers',\n",
    "    name='Training Loss'\n",
    "))\n",
    "fig.update_layout(\n",
    "    title=f\"Training Loss per Epoch (Batch size: {batch_size}, Train samples: {num_samples})\",\n",
    "    xaxis_title=\"Epoch\",\n",
    "    yaxis_title=\"Loss\",\n",
    "    template=\"plotly_white\"\n",
    ")\n",
    "fig.write_html(os.path.join(save_results_dir, \"training_loss.html\"))\n",
    "fig.show()"
   ]
  },
  {
   "cell_type": "code",
   "execution_count": 12,
   "id": "7d57d9cb",
   "metadata": {},
   "outputs": [
    {
     "name": "stdout",
     "output_type": "stream",
     "text": [
      "Model saved to /workspaces/msc-thesis-recurrent-health-modeling/_models/mimic/deep_learning/gru_duration_aware_min/multiple_hosp_patients_results/gru_model.pt\n"
     ]
    }
   ],
   "source": [
    "import torch\n",
    "\n",
    "model_save_path = os.path.join(save_results_dir, \"gru_model.pt\")\n",
    "torch.save(model.state_dict(), model_save_path)\n",
    "print(f\"Model saved to {model_save_path}\")"
   ]
  },
  {
   "cell_type": "markdown",
   "id": "994367be",
   "metadata": {},
   "source": [
    "## Load Model"
   ]
  },
  {
   "cell_type": "code",
   "execution_count": 13,
   "id": "111273f8",
   "metadata": {},
   "outputs": [
    {
     "data": {
      "text/plain": [
       "GRUNet(\n",
       "  (gru): GRU(4, 16, batch_first=True)\n",
       "  (classifier_head): Sequential(\n",
       "    (fc1): Linear(in_features=26, out_features=32, bias=True)\n",
       "    (relu1): ReLU()\n",
       "    (dropout1): Dropout(p=0.0, inplace=False)\n",
       "    (fc2): Linear(in_features=32, out_features=1, bias=True)\n",
       "  )\n",
       ")"
      ]
     },
     "execution_count": 13,
     "metadata": {},
     "output_type": "execute_result"
    }
   ],
   "source": [
    "from recurrent_health_events_prediction.model.RecurrentHealthEventsDL import GRUNet\n",
    "\n",
    "save_results_dir = os.path.dirname(model_config_path)\n",
    "model_save_path = os.path.join(save_results_dir, \"gru_model.pt\")\n",
    "model = GRUNet(**model_params_dict)\n",
    "model.load_state_dict(torch.load(model_save_path))\n",
    "model.eval()"
   ]
  },
  {
   "cell_type": "code",
   "execution_count": 14,
   "id": "28216ca7",
   "metadata": {},
   "outputs": [
    {
     "data": {
      "text/plain": [
       "torch.Size([1, 4, 4])"
      ]
     },
     "execution_count": 14,
     "metadata": {},
     "output_type": "execute_result"
    }
   ],
   "source": [
    "# Get a sample input from the train_dataset\n",
    "sample_input = train_dataset[0][:-1]  # all elements except the last one are the model inputs\n",
    "sample_input[1].unsqueeze(0).shape"
   ]
  },
  {
   "cell_type": "markdown",
   "id": "abede2f8",
   "metadata": {},
   "source": [
    "## Evaluate the Model"
   ]
  },
  {
   "cell_type": "code",
   "execution_count": null,
   "id": "7dde5ec6",
   "metadata": {},
   "outputs": [
    {
     "name": "stdout",
     "output_type": "stream",
     "text": [
      "Starting evaluation...\n",
      "Number of test samples: 1085\n",
      "Batch size: 32\n",
      "\n",
      "Evaluation results - AUROC: 0.6933127045631409, Best F1-Score: 0.4896755162241888, Best Threshold: 0.16685834111102707\n",
      "f1_score: 0.4897\n",
      "auroc: 0.6933\n",
      "best_threshold: 0.1669\n",
      "confusion_matrix: [[573 233]\n",
      " [113 166]]\n",
      "recall: 0.5950\n",
      "accuracy: 0.6811\n",
      "precision: 0.4160\n"
     ]
    }
   ],
   "source": [
    "from recurrent_health_events_prediction.training.train_deep_learning_models import evaluate\n",
    "\n",
    "test_metrics, all_pred_labels, all_pred_probs, all_labels = evaluate(\n",
    "    model=model,\n",
    "    test_dataset=test_dataset,\n",
    "    batch_size=32\n",
    ")\n",
    "JJ\n",
    "for key, value in test_metrics.items():\n",
    "    if isinstance(value, float):\n",
    "        print(f\"{key}: {value:.4f}\")\n",
    "    else:\n",
    "        print(f\"{key}: {value}\")"
   ]
  },
  {
   "cell_type": "code",
   "execution_count": 16,
   "id": "1de22ddd",
   "metadata": {},
   "outputs": [],
   "source": [
    "test_pred_df = pd.DataFrame({\n",
    "    \"true_label\": all_labels,\n",
    "    \"pred_label\": all_pred_labels,\n",
    "    \"pred_prob\": all_pred_probs\n",
    "})\n",
    "\n",
    "test_pred_df.to_csv(os.path.join(save_results_dir, \"test_predictions.csv\"), index=False)"
   ]
  },
  {
   "cell_type": "code",
   "execution_count": 17,
   "id": "2d3b6b5f",
   "metadata": {},
   "outputs": [
    {
     "data": {
      "application/vnd.plotly.v1+json": {
       "config": {
        "plotlyServerURL": "https://plot.ly"
       },
       "data": [
        {
         "bingroup": "x",
         "hovertemplate": "True Label=1.0<br>Predicted Probability=%{x}<br>count=%{y}<extra></extra>",
         "legendgroup": "1.0",
         "marker": {
          "color": "#636efa",
          "opacity": 0.5,
          "pattern": {
           "shape": ""
          }
         },
         "name": "1.0",
         "nbinsx": 50,
         "orientation": "v",
         "showlegend": true,
         "type": "histogram",
         "x": {
          "bdata": "AAAAoHEHnj8AAACgLFbbPwAAAGCHx9Y/AAAAALFDuj8AAABgUXXfPwAAAABL8NM/AAAAQHgOvj8AAABAJLinPwAAAMAyecU/AAAAQPqExz8AAADg4lK8PwAAAEDeQeQ/AAAAgGscxj8AAADA9xvoPwAAAID+qe4/AAAAYOWm7z8AAADAew29PwAAAMDN0dk/AAAAoM+N3j8AAAAg21PiPwAAAMCqe+8/AAAAQLjKyD8AAABgmSvjPwAAAABMW+Q/AAAAwGIRoj8AAACgJ93EPwAAAMA3Q7o/AAAAYJfEzj8AAABghxPPPwAAACDjrIw/AAAAoKQ4pT8AAACgWHrAPwAAAIBfMs4/AAAAAOWojT8AAADATETXPwAAAOCXGsg/AAAAgF94wj8AAAAg1VrHPwAAAIAN374/AAAAoAVZ2D8AAABgAifbPwAAAECdBtI/AAAAIIbn6z8AAAAgF37oPwAAAADa78U/AAAAADY+zz8AAAAgJJCTPwAAAKAcVcs/AAAAoI24gD8AAAAA9Ld4PwAAAGDNmKc/AAAAoOW7vT8AAACg90DTPwAAAOBfpOw/AAAAwApHfT8AAACgOPDFPwAAAGCvFtI/AAAAYC875D8AAABgQM6+PwAAAMD3xuE/AAAAQCHV2j8AAADgR7OZPwAAAKAaBsg/AAAAwAzm3j8AAADgIkraPwAAAIDNq9A/AAAAYMpp2z8AAABggna4PwAAACCKtdU/AAAAwPmVmD8AAABgrADRPwAAAOD6Q80/AAAAIKZQ7j8AAACAtTy6PwAAAGCgHuo/AAAAwGyK0z8AAACgiM6gPwAAAEC21Mc/AAAAQMDUrz8AAADgMJ2fPwAAAIAxD9g/AAAAINDT3D8AAABAWU+bPwAAAOCnusA/AAAAQE036T8AAABA/Q7uPwAAAOCFV+8/AAAAwO9njT8AAAAgyD7UPwAAAAAS77g/AAAA4FNE1z8AAAAggA7ePwAAAGAJ0bc/AAAAQLz8qT8AAAAg/xuVPwAAAAByzs8/AAAAYFAewD8AAAAA6D+8PwAAAIC//8o/AAAAwFK52z8AAAAAg1DQPwAAAOAaBZM/AAAA4Ji9vT8AAAAgr46PPwAAAKDVhOw/AAAAgH7C5D8AAAAgHM3iPwAAAEACy9Y/AAAAIOonxj8AAAAAVN7XPwAAAEDUqOw/AAAAIAjj7j8AAACASkjAPwAAAKCY09c/AAAAQAFy5z8AAAAgsBPYPwAAAKDhaec/AAAAgCRB6D8AAACAcUbuPwAAAOD9N5s/AAAAQBYY4j8AAAAATeFfPwAAAGAOzdY/AAAA4HI94j8AAAAAVB3dPwAAAEDUD88/AAAAwO3u4j8AAADAlZHiPwAAAKCJdKc/AAAAwMbnyT8AAABgbWChPwAAAICGqpM/AAAAoNBesj8AAACgOsBFPwAAAMAnxt0/AAAAgHckwT8AAABA9MznPwAAAOCCie8/AAAAoMpg4D8AAACAUVixPwAAAOAF99A/AAAAIFbE5T8AAAAgGQHvPwAAAADLu7A/AAAAQFgmyD8AAADg75jTPwAAAECOJ8I/AAAAQDnqzT8AAADAOALePwAAAGDp4uk/AAAA4J2j5z8AAAAA0yvgPwAAAEBbA9E/AAAAoIts0D8AAAAAyY+yPwAAAGBhkuA/AAAAgIWv3D8AAAAgh2bHPwAAAAAvW7E/AAAAwBzOjD8AAADg8DXRPwAAAGDQ2LI/AAAA4HuGzj8AAABA5wnKPwAAAKANltY/AAAAwFnZvT8AAABACliqPwAAAGBix8E/AAAAQNsZ5z8AAAAA1JGlPwAAAIDwmMw/AAAAwFge2D8AAACAC4vaPwAAAGAmSNM/AAAAYMrv6j8AAAAAdoPiPwAAAGC9Kpw/AAAAICQUvD8AAABgMozRPwAAACC+c9k/AAAAIKPS5j8AAADg+9LTPwAAAAAJ19Q/AAAA4N6uwD8AAACAbmXvPwAAAAAxiMQ/AAAAQKY96z8AAACAg2jrPwAAAKB5x8w/AAAA4Dtu5D8AAABgyfXCPwAAACDazr0/AAAAwOjj5D8AAABgH8GzPwAAAOCHG8o/AAAA4BlcyT8AAACAvrTKPwAAAODTD7M/AAAA4LCudD8AAABgpxzEPwAAAODlAug/AAAAIHI4zj8AAADgPt3PPwAAAMAwpKI/AAAAwIKF0T8AAABAx3vAPwAAAGCg56Q/AAAAIE+p0z8AAADA5eeyPwAAAMAA0cM/AAAAYGL2uD8AAAAAMXOzPwAAAGBce7M/AAAAQCF4zD8AAADgv1+wPwAAAIBy8to/AAAAgOis1T8AAADA6xG5PwAAAKDb78g/AAAAwEL1iD8AAAAAmJ+pPwAAAKCZ2dk/AAAAwDAbWz8AAAAgJznSPwAAAMB0les/AAAAYAIquT8AAAAgjpPVPwAAAMBARas/AAAAoO2o0j8AAABAVDCpPwAAAIASacA/AAAAIIHXaj8AAAAg4BfRPwAAAICif5I/AAAAABc8xj8AAACgV0DJPwAAAGAmS+M/AAAAgFgo0z8AAABAHCrRPwAAAEB9TZc/AAAAoLLLoj8AAACgKKDTPwAAAIB2f7o/AAAA4AC4wT8AAABATE3gPwAAAMA3dZw/AAAAAMAQtT8AAADgw7XQPwAAAKBOWMA/AAAAAAH+oz8AAABgw/zFPwAAAEDrkdU/AAAAYG6huT8AAADgQUziPwAAAGDYbMM/AAAAoP884D8AAACg62zSPwAAAEDj8Ho/AAAAgP/6wT8AAADAAgXAPwAAAOAnE6g/AAAAYBP/0D8AAAAAcYTWPwAAAED8Tp0/AAAAwNEU0j8AAAAAH9bBPwAAAMAMsaY/AAAAwJOr0z8AAADA3I7BPwAAAADiF98/AAAAAP90xj8AAACgd5nhPwAAACASLOU/AAAAwCGnuT8AAADgsR+xPwAAAIDwFdE/AAAAoFhyhj8AAADgpUmzPwAAAEBJMrk/",
          "dtype": "f8"
         },
         "xaxis": "x",
         "yaxis": "y"
        },
        {
         "bingroup": "x",
         "hovertemplate": "True Label=0.0<br>Predicted Probability=%{x}<br>count=%{y}<extra></extra>",
         "legendgroup": "0.0",
         "marker": {
          "color": "#EF553B",
          "opacity": 0.5,
          "pattern": {
           "shape": ""
          }
         },
         "name": "0.0",
         "nbinsx": 50,
         "orientation": "v",
         "showlegend": true,
         "type": "histogram",
         "x": {
          "bdata": "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",
          "dtype": "f8"
         },
         "xaxis": "x",
         "yaxis": "y"
        }
       ],
       "layout": {
        "barmode": "overlay",
        "legend": {
         "title": {
          "text": "True Label"
         },
         "tracegroupgap": 0
        },
        "template": {
         "data": {
          "bar": [
           {
            "error_x": {
             "color": "#2a3f5f"
            },
            "error_y": {
             "color": "#2a3f5f"
            },
            "marker": {
             "line": {
              "color": "white",
              "width": 0.5
             },
             "pattern": {
              "fillmode": "overlay",
              "size": 10,
              "solidity": 0.2
             }
            },
            "type": "bar"
           }
          ],
          "barpolar": [
           {
            "marker": {
             "line": {
              "color": "white",
              "width": 0.5
             },
             "pattern": {
              "fillmode": "overlay",
              "size": 10,
              "solidity": 0.2
             }
            },
            "type": "barpolar"
           }
          ],
          "carpet": [
           {
            "aaxis": {
             "endlinecolor": "#2a3f5f",
             "gridcolor": "#C8D4E3",
             "linecolor": "#C8D4E3",
             "minorgridcolor": "#C8D4E3",
             "startlinecolor": "#2a3f5f"
            },
            "baxis": {
             "endlinecolor": "#2a3f5f",
             "gridcolor": "#C8D4E3",
             "linecolor": "#C8D4E3",
             "minorgridcolor": "#C8D4E3",
             "startlinecolor": "#2a3f5f"
            },
            "type": "carpet"
           }
          ],
          "choropleth": [
           {
            "colorbar": {
             "outlinewidth": 0,
             "ticks": ""
            },
            "type": "choropleth"
           }
          ],
          "contour": [
           {
            "colorbar": {
             "outlinewidth": 0,
             "ticks": ""
            },
            "colorscale": [
             [
              0,
              "#0d0887"
             ],
             [
              0.1111111111111111,
              "#46039f"
             ],
             [
              0.2222222222222222,
              "#7201a8"
             ],
             [
              0.3333333333333333,
              "#9c179e"
             ],
             [
              0.4444444444444444,
              "#bd3786"
             ],
             [
              0.5555555555555556,
              "#d8576b"
             ],
             [
              0.6666666666666666,
              "#ed7953"
             ],
             [
              0.7777777777777778,
              "#fb9f3a"
             ],
             [
              0.8888888888888888,
              "#fdca26"
             ],
             [
              1,
              "#f0f921"
             ]
            ],
            "type": "contour"
           }
          ],
          "contourcarpet": [
           {
            "colorbar": {
             "outlinewidth": 0,
             "ticks": ""
            },
            "type": "contourcarpet"
           }
          ],
          "heatmap": [
           {
            "colorbar": {
             "outlinewidth": 0,
             "ticks": ""
            },
            "colorscale": [
             [
              0,
              "#0d0887"
             ],
             [
              0.1111111111111111,
              "#46039f"
             ],
             [
              0.2222222222222222,
              "#7201a8"
             ],
             [
              0.3333333333333333,
              "#9c179e"
             ],
             [
              0.4444444444444444,
              "#bd3786"
             ],
             [
              0.5555555555555556,
              "#d8576b"
             ],
             [
              0.6666666666666666,
              "#ed7953"
             ],
             [
              0.7777777777777778,
              "#fb9f3a"
             ],
             [
              0.8888888888888888,
              "#fdca26"
             ],
             [
              1,
              "#f0f921"
             ]
            ],
            "type": "heatmap"
           }
          ],
          "histogram": [
           {
            "marker": {
             "pattern": {
              "fillmode": "overlay",
              "size": 10,
              "solidity": 0.2
             }
            },
            "type": "histogram"
           }
          ],
          "histogram2d": [
           {
            "colorbar": {
             "outlinewidth": 0,
             "ticks": ""
            },
            "colorscale": [
             [
              0,
              "#0d0887"
             ],
             [
              0.1111111111111111,
              "#46039f"
             ],
             [
              0.2222222222222222,
              "#7201a8"
             ],
             [
              0.3333333333333333,
              "#9c179e"
             ],
             [
              0.4444444444444444,
              "#bd3786"
             ],
             [
              0.5555555555555556,
              "#d8576b"
             ],
             [
              0.6666666666666666,
              "#ed7953"
             ],
             [
              0.7777777777777778,
              "#fb9f3a"
             ],
             [
              0.8888888888888888,
              "#fdca26"
             ],
             [
              1,
              "#f0f921"
             ]
            ],
            "type": "histogram2d"
           }
          ],
          "histogram2dcontour": [
           {
            "colorbar": {
             "outlinewidth": 0,
             "ticks": ""
            },
            "colorscale": [
             [
              0,
              "#0d0887"
             ],
             [
              0.1111111111111111,
              "#46039f"
             ],
             [
              0.2222222222222222,
              "#7201a8"
             ],
             [
              0.3333333333333333,
              "#9c179e"
             ],
             [
              0.4444444444444444,
              "#bd3786"
             ],
             [
              0.5555555555555556,
              "#d8576b"
             ],
             [
              0.6666666666666666,
              "#ed7953"
             ],
             [
              0.7777777777777778,
              "#fb9f3a"
             ],
             [
              0.8888888888888888,
              "#fdca26"
             ],
             [
              1,
              "#f0f921"
             ]
            ],
            "type": "histogram2dcontour"
           }
          ],
          "mesh3d": [
           {
            "colorbar": {
             "outlinewidth": 0,
             "ticks": ""
            },
            "type": "mesh3d"
           }
          ],
          "parcoords": [
           {
            "line": {
             "colorbar": {
              "outlinewidth": 0,
              "ticks": ""
             }
            },
            "type": "parcoords"
           }
          ],
          "pie": [
           {
            "automargin": true,
            "type": "pie"
           }
          ],
          "scatter": [
           {
            "fillpattern": {
             "fillmode": "overlay",
             "size": 10,
             "solidity": 0.2
            },
            "type": "scatter"
           }
          ],
          "scatter3d": [
           {
            "line": {
             "colorbar": {
              "outlinewidth": 0,
              "ticks": ""
             }
            },
            "marker": {
             "colorbar": {
              "outlinewidth": 0,
              "ticks": ""
             }
            },
            "type": "scatter3d"
           }
          ],
          "scattercarpet": [
           {
            "marker": {
             "colorbar": {
              "outlinewidth": 0,
              "ticks": ""
             }
            },
            "type": "scattercarpet"
           }
          ],
          "scattergeo": [
           {
            "marker": {
             "colorbar": {
              "outlinewidth": 0,
              "ticks": ""
             }
            },
            "type": "scattergeo"
           }
          ],
          "scattergl": [
           {
            "marker": {
             "colorbar": {
              "outlinewidth": 0,
              "ticks": ""
             }
            },
            "type": "scattergl"
           }
          ],
          "scattermap": [
           {
            "marker": {
             "colorbar": {
              "outlinewidth": 0,
              "ticks": ""
             }
            },
            "type": "scattermap"
           }
          ],
          "scattermapbox": [
           {
            "marker": {
             "colorbar": {
              "outlinewidth": 0,
              "ticks": ""
             }
            },
            "type": "scattermapbox"
           }
          ],
          "scatterpolar": [
           {
            "marker": {
             "colorbar": {
              "outlinewidth": 0,
              "ticks": ""
             }
            },
            "type": "scatterpolar"
           }
          ],
          "scatterpolargl": [
           {
            "marker": {
             "colorbar": {
              "outlinewidth": 0,
              "ticks": ""
             }
            },
            "type": "scatterpolargl"
           }
          ],
          "scatterternary": [
           {
            "marker": {
             "colorbar": {
              "outlinewidth": 0,
              "ticks": ""
             }
            },
            "type": "scatterternary"
           }
          ],
          "surface": [
           {
            "colorbar": {
             "outlinewidth": 0,
             "ticks": ""
            },
            "colorscale": [
             [
              0,
              "#0d0887"
             ],
             [
              0.1111111111111111,
              "#46039f"
             ],
             [
              0.2222222222222222,
              "#7201a8"
             ],
             [
              0.3333333333333333,
              "#9c179e"
             ],
             [
              0.4444444444444444,
              "#bd3786"
             ],
             [
              0.5555555555555556,
              "#d8576b"
             ],
             [
              0.6666666666666666,
              "#ed7953"
             ],
             [
              0.7777777777777778,
              "#fb9f3a"
             ],
             [
              0.8888888888888888,
              "#fdca26"
             ],
             [
              1,
              "#f0f921"
             ]
            ],
            "type": "surface"
           }
          ],
          "table": [
           {
            "cells": {
             "fill": {
              "color": "#EBF0F8"
             },
             "line": {
              "color": "white"
             }
            },
            "header": {
             "fill": {
              "color": "#C8D4E3"
             },
             "line": {
              "color": "white"
             }
            },
            "type": "table"
           }
          ]
         },
         "layout": {
          "annotationdefaults": {
           "arrowcolor": "#2a3f5f",
           "arrowhead": 0,
           "arrowwidth": 1
          },
          "autotypenumbers": "strict",
          "coloraxis": {
           "colorbar": {
            "outlinewidth": 0,
            "ticks": ""
           }
          },
          "colorscale": {
           "diverging": [
            [
             0,
             "#8e0152"
            ],
            [
             0.1,
             "#c51b7d"
            ],
            [
             0.2,
             "#de77ae"
            ],
            [
             0.3,
             "#f1b6da"
            ],
            [
             0.4,
             "#fde0ef"
            ],
            [
             0.5,
             "#f7f7f7"
            ],
            [
             0.6,
             "#e6f5d0"
            ],
            [
             0.7,
             "#b8e186"
            ],
            [
             0.8,
             "#7fbc41"
            ],
            [
             0.9,
             "#4d9221"
            ],
            [
             1,
             "#276419"
            ]
           ],
           "sequential": [
            [
             0,
             "#0d0887"
            ],
            [
             0.1111111111111111,
             "#46039f"
            ],
            [
             0.2222222222222222,
             "#7201a8"
            ],
            [
             0.3333333333333333,
             "#9c179e"
            ],
            [
             0.4444444444444444,
             "#bd3786"
            ],
            [
             0.5555555555555556,
             "#d8576b"
            ],
            [
             0.6666666666666666,
             "#ed7953"
            ],
            [
             0.7777777777777778,
             "#fb9f3a"
            ],
            [
             0.8888888888888888,
             "#fdca26"
            ],
            [
             1,
             "#f0f921"
            ]
           ],
           "sequentialminus": [
            [
             0,
             "#0d0887"
            ],
            [
             0.1111111111111111,
             "#46039f"
            ],
            [
             0.2222222222222222,
             "#7201a8"
            ],
            [
             0.3333333333333333,
             "#9c179e"
            ],
            [
             0.4444444444444444,
             "#bd3786"
            ],
            [
             0.5555555555555556,
             "#d8576b"
            ],
            [
             0.6666666666666666,
             "#ed7953"
            ],
            [
             0.7777777777777778,
             "#fb9f3a"
            ],
            [
             0.8888888888888888,
             "#fdca26"
            ],
            [
             1,
             "#f0f921"
            ]
           ]
          },
          "colorway": [
           "#636efa",
           "#EF553B",
           "#00cc96",
           "#ab63fa",
           "#FFA15A",
           "#19d3f3",
           "#FF6692",
           "#B6E880",
           "#FF97FF",
           "#FECB52"
          ],
          "font": {
           "color": "#2a3f5f"
          },
          "geo": {
           "bgcolor": "white",
           "lakecolor": "white",
           "landcolor": "white",
           "showlakes": true,
           "showland": true,
           "subunitcolor": "#C8D4E3"
          },
          "hoverlabel": {
           "align": "left"
          },
          "hovermode": "closest",
          "mapbox": {
           "style": "light"
          },
          "paper_bgcolor": "white",
          "plot_bgcolor": "white",
          "polar": {
           "angularaxis": {
            "gridcolor": "#EBF0F8",
            "linecolor": "#EBF0F8",
            "ticks": ""
           },
           "bgcolor": "white",
           "radialaxis": {
            "gridcolor": "#EBF0F8",
            "linecolor": "#EBF0F8",
            "ticks": ""
           }
          },
          "scene": {
           "xaxis": {
            "backgroundcolor": "white",
            "gridcolor": "#DFE8F3",
            "gridwidth": 2,
            "linecolor": "#EBF0F8",
            "showbackground": true,
            "ticks": "",
            "zerolinecolor": "#EBF0F8"
           },
           "yaxis": {
            "backgroundcolor": "white",
            "gridcolor": "#DFE8F3",
            "gridwidth": 2,
            "linecolor": "#EBF0F8",
            "showbackground": true,
            "ticks": "",
            "zerolinecolor": "#EBF0F8"
           },
           "zaxis": {
            "backgroundcolor": "white",
            "gridcolor": "#DFE8F3",
            "gridwidth": 2,
            "linecolor": "#EBF0F8",
            "showbackground": true,
            "ticks": "",
            "zerolinecolor": "#EBF0F8"
           }
          },
          "shapedefaults": {
           "line": {
            "color": "#2a3f5f"
           }
          },
          "ternary": {
           "aaxis": {
            "gridcolor": "#DFE8F3",
            "linecolor": "#A2B1C6",
            "ticks": ""
           },
           "baxis": {
            "gridcolor": "#DFE8F3",
            "linecolor": "#A2B1C6",
            "ticks": ""
           },
           "bgcolor": "white",
           "caxis": {
            "gridcolor": "#DFE8F3",
            "linecolor": "#A2B1C6",
            "ticks": ""
           }
          },
          "title": {
           "x": 0.05
          },
          "xaxis": {
           "automargin": true,
           "gridcolor": "#EBF0F8",
           "linecolor": "#EBF0F8",
           "ticks": "",
           "title": {
            "standoff": 15
           },
           "zerolinecolor": "#EBF0F8",
           "zerolinewidth": 2
          },
          "yaxis": {
           "automargin": true,
           "gridcolor": "#EBF0F8",
           "linecolor": "#EBF0F8",
           "ticks": "",
           "title": {
            "standoff": 15
           },
           "zerolinecolor": "#EBF0F8",
           "zerolinewidth": 2
          }
         }
        },
        "title": {
         "text": "Histogram of Predicted Probabilities by True Labels"
        },
        "xaxis": {
         "anchor": "y",
         "domain": [
          0,
          1
         ],
         "title": {
          "text": "Predicted Probability"
         }
        },
        "yaxis": {
         "anchor": "x",
         "domain": [
          0,
          1
         ],
         "title": {
          "text": "count"
         }
        }
       }
      }
     },
     "metadata": {},
     "output_type": "display_data"
    }
   ],
   "source": [
    "from recurrent_health_events_prediction.training.utils import plot_pred_proba_distribution\n",
    "\n",
    "plot_pred_proba_distribution(test_pred_df[\"true_label\"], test_pred_df[\"pred_prob\"], show_plot=False)"
   ]
  },
  {
   "cell_type": "code",
   "execution_count": 18,
   "id": "f24456ff",
   "metadata": {},
   "outputs": [
    {
     "data": {
      "image/png": "[encoded data removed]",
      "text/plain": [
       "<Figure size 640x480 with 2 Axes>"
      ]
     },
     "execution_count": 18,
     "metadata": {},
     "output_type": "execute_result"
    }
   ],
   "source": [
    "from recurrent_health_events_prediction.training.utils import plot_confusion_matrix\n",
    "\n",
    "class_names=training_data_config[\"class_names\"]\n",
    "plot_confusion_matrix(test_metrics[\"confusion_matrix\"], class_names)"
   ]
  }
 ],
 "metadata": {
  "kernelspec": {
   "display_name": "recurrent-health-events-prediction-nvorhdTT-py3.10",
   "language": "python",
   "name": "python3"
  },
  "language_info": {
   "codemirror_mode": {
    "name": "ipython",
    "version": 3
   },
   "file_extension": ".py",
   "mimetype": "text/x-python",
   "name": "python",
   "nbconvert_exporter": "python",
   "pygments_lexer": "ipython3",
   "version": "3.10.14"
  }
 },
 "nbformat": 4,
 "nbformat_minor": 5
}
