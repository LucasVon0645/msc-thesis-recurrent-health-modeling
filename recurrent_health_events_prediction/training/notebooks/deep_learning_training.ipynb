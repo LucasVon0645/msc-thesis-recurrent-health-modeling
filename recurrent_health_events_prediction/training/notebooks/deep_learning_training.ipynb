{
 "cells": [
  {
   "cell_type": "markdown",
   "id": "9b33f1ff",
   "metadata": {},
   "source": [
    "# Train and Evaluate Deep Learning Models for MIMIC Dataset"
   ]
  },
  {
   "cell_type": "code",
   "execution_count": 1,
   "id": "6a643448",
   "metadata": {},
   "outputs": [],
   "source": [
    "from importlib import resources as impresources\n",
    "import os\n",
    "\n",
    "from recurrent_health_events_prediction.utils.general_utils import import_yaml_config\n",
    "from recurrent_health_events_prediction import configs\n",
    "\n",
    "data_config = import_yaml_config(\n",
    "    impresources.files(configs) / \"data_config.yaml\"\n",
    ")\n",
    "\n",
    "training_data_config = data_config['training_data'][\"mimic\"]\n",
    "data_directory = training_data_config['data_directory']\n",
    "\n",
    "OVERWRITE_PREPROCESSED = True"
   ]
  },
  {
   "cell_type": "code",
   "execution_count": 2,
   "id": "63868b12",
   "metadata": {},
   "outputs": [
    {
     "name": "stdout",
     "output_type": "stream",
     "text": [
      "Train and test data directory: /workspaces/msc-thesis-recurrent-health-modeling/data/mimic-iii-preprocessed/copd_hf_renal_diabetes/multiple_hosp_patients/train_test\n"
     ]
    }
   ],
   "source": [
    "print(\"Train and test data directory:\", data_directory)"
   ]
  },
  {
   "cell_type": "code",
   "execution_count": 3,
   "id": "47d49738",
   "metadata": {},
   "outputs": [
    {
     "name": "stdout",
     "output_type": "stream",
     "text": [
      "model_name: Attention Pooling\n",
      "batch_size: 64\n",
      "num_epochs: 30\n",
      "learning_rate: 0.001\n",
      "model_class: AttentionPoolingNet\n",
      "longitudinal_feat_cols: ['LOG_HOSPITALIZATION_DAYS', 'LOG_DAYS_IN_ICU', 'CHARLSON_INDEX', 'LOG_NUM_DRUGS', 'DISCHARGE_LOCATION_POST_ACUTE_CARE', 'LOG_DAYS_UNTIL_NEXT_HOSPITALIZATION']\n",
      "current_feat_cols: ['LOG_DAYS_IN_ICU', 'CHARLSON_INDEX', 'LOG_NUM_DRUGS', 'NUM_PROCEDURES', 'DISCHARGE_LOCATION_POST_ACUTE_CARE', 'LOG_PARTICIPATION_DAYS', 'AGE', 'GENDER_M', 'ADMISSION_TYPE_ELECTIVE', 'ETHNICITY_WHITE']\n",
      "max_sequence_length: 4\n",
      "no_elective: True\n",
      "reverse_chronological_order: False\n",
      "model_params: {'input_size_curr': 10, 'hidden_size_head': 16, 'input_size_seq': 6, 'hidden_size_seq': 4, 'dropout': 0.1}\n"
     ]
    }
   ],
   "source": [
    "model_name = \"attention_pooling\"\n",
    "model_config_path =f\"/workspaces/msc-thesis-recurrent-health-modeling/_models/mimic/deep_learning/{model_name}/{model_name}_config.yaml\"\n",
    " \n",
    "model_config = import_yaml_config(model_config_path)\n",
    "for key, value in model_config.items():\n",
    "    print(f\"{key}: {value}\")\n",
    "\n",
    "model_params_dict = model_config['model_params']\n",
    "assert model_params_dict['input_size_curr'] == len(model_config['current_feat_cols'])\n",
    "assert model_params_dict['input_size_seq'] == len(model_config['longitudinal_feat_cols'])"
   ]
  },
  {
   "cell_type": "code",
   "execution_count": 4,
   "id": "e1185bb7",
   "metadata": {},
   "outputs": [
    {
     "name": "stdout",
     "output_type": "stream",
     "text": [
      "Model results will be saved to: /workspaces/msc-thesis-recurrent-health-modeling/_models/mimic/deep_learning/attention_pooling/multiple_hosp_patients\n"
     ]
    }
   ],
   "source": [
    "save_results_dir = os.path.dirname(model_config_path) + \"/multiple_hosp_patients\"\n",
    "print(\"Model results will be saved to:\", save_results_dir)"
   ]
  },
  {
   "cell_type": "code",
   "execution_count": 5,
   "id": "5d33817b",
   "metadata": {},
   "outputs": [
    {
     "name": "stdout",
     "output_type": "stream",
     "text": [
      "Preparing train and test datasets...\n",
      "Creating new PyTorch datasets...\n",
      "Test dataset (all events) size: 1085\n",
      "Test dataset (last events only) size: 353\n",
      "Saved PyTorch datasets to /workspaces/msc-thesis-recurrent-health-modeling/_models/mimic/deep_learning/attention_pooling/multiple_hosp_patients\n"
     ]
    }
   ],
   "source": [
    "# Prepare datasets (load existing or create + save new)\n",
    "from recurrent_health_events_prediction.training.train_deep_learning_models import prepare_train_test_datasets\n",
    "\n",
    "\n",
    "train_dataset, test_dataset, last_events_test_dataset, train_df_path, test_df_path = prepare_train_test_datasets(\n",
    "    data_directory=data_directory,\n",
    "    training_data_config=training_data_config,\n",
    "    model_config=model_config,\n",
    "    save_output_dir_path=save_results_dir,\n",
    "    save_scaler_dir_path=None,\n",
    "    overwrite_preprocessed=OVERWRITE_PREPROCESSED,\n",
    ")"
   ]
  },
  {
   "cell_type": "markdown",
   "id": "fc3283af",
   "metadata": {},
   "source": [
    "## Inspect Train Data"
   ]
  },
  {
   "cell_type": "code",
   "execution_count": 6,
   "id": "c48d32ae",
   "metadata": {},
   "outputs": [
    {
     "data": {
      "application/vnd.microsoft.datawrangler.viewer.v0+json": {
       "columns": [
        {
         "name": "index",
         "rawType": "object",
         "type": "string"
        },
        {
         "name": "LOG_DAYS_IN_ICU",
         "rawType": "float64",
         "type": "float"
        },
        {
         "name": "CHARLSON_INDEX",
         "rawType": "float64",
         "type": "float"
        },
        {
         "name": "LOG_NUM_DRUGS",
         "rawType": "float64",
         "type": "float"
        },
        {
         "name": "NUM_PROCEDURES",
         "rawType": "float64",
         "type": "float"
        },
        {
         "name": "LOG_PARTICIPATION_DAYS",
         "rawType": "float64",
         "type": "float"
        },
        {
         "name": "AGE",
         "rawType": "float64",
         "type": "float"
        }
       ],
       "ref": "355d5ad3-bc6d-4b75-910a-46d5360426da",
       "rows": [
        [
         "count",
         "4792.0",
         "4792.0",
         "4792.0",
         "4792.0",
         "4792.0",
         "4792.0"
        ],
        [
         "mean",
         "-1.5420793931354428e-16",
         "-1.5420793931354428e-16",
         "-2.965537294491236e-17",
         "8.896611883473709e-17",
         "0.0",
         "3.4103678886649215e-17"
        ],
        [
         "std",
         "1.0001043569008843",
         "1.000104356900884",
         "1.0001043569008843",
         "1.0001043569008843",
         "1.0001043569008843",
         "1.0001043569008843"
        ],
        [
         "min",
         "-1.7769590786019176",
         "-1.986906428202256",
         "-2.987183050398288",
         "-1.0490717762936492",
         "-1.94136451543699",
         "-2.623989483242348"
        ],
        [
         "25%",
         "-0.7121230694535902",
         "-0.785789283766125",
         "-0.0695839258892671",
         "-0.7709598072740006",
         "-0.9414016464428028",
         "-0.6492784546536708"
        ],
        [
         "50%",
         "-0.19271518562304146",
         "0.0149554791912956",
         "0.2501775887060719",
         "-0.2147358692347035",
         "0.1480441361218952",
         "0.091238181067083"
        ],
        [
         "75%",
         "0.4891051079821768",
         "0.8157002421487162",
         "0.5276852881385061",
         "0.3414880688045935",
         "0.903392387863177",
         "0.7700450971444407"
        ],
        [
         "max",
         "4.729544870760188",
         "4.018679293978398",
         "1.594262866933085",
         "5.347503511158267",
         "1.6269684092202756",
         "1.7574006114387792"
        ]
       ],
       "shape": {
        "columns": 6,
        "rows": 8
       }
      },
      "text/html": [
       "<div>\n",
       "<style scoped>\n",
       "    .dataframe tbody tr th:only-of-type {\n",
       "        vertical-align: middle;\n",
       "    }\n",
       "\n",
       "    .dataframe tbody tr th {\n",
       "        vertical-align: top;\n",
       "    }\n",
       "\n",
       "    .dataframe thead th {\n",
       "        text-align: right;\n",
       "    }\n",
       "</style>\n",
       "<table border=\"1\" class=\"dataframe\">\n",
       "  <thead>\n",
       "    <tr style=\"text-align: right;\">\n",
       "      <th></th>\n",
       "      <th>LOG_DAYS_IN_ICU</th>\n",
       "      <th>CHARLSON_INDEX</th>\n",
       "      <th>LOG_NUM_DRUGS</th>\n",
       "      <th>NUM_PROCEDURES</th>\n",
       "      <th>LOG_PARTICIPATION_DAYS</th>\n",
       "      <th>AGE</th>\n",
       "    </tr>\n",
       "  </thead>\n",
       "  <tbody>\n",
       "    <tr>\n",
       "      <th>count</th>\n",
       "      <td>4.792000e+03</td>\n",
       "      <td>4.792000e+03</td>\n",
       "      <td>4.792000e+03</td>\n",
       "      <td>4.792000e+03</td>\n",
       "      <td>4792.000000</td>\n",
       "      <td>4.792000e+03</td>\n",
       "    </tr>\n",
       "    <tr>\n",
       "      <th>mean</th>\n",
       "      <td>-1.542079e-16</td>\n",
       "      <td>-1.542079e-16</td>\n",
       "      <td>-2.965537e-17</td>\n",
       "      <td>8.896612e-17</td>\n",
       "      <td>0.000000</td>\n",
       "      <td>3.410368e-17</td>\n",
       "    </tr>\n",
       "    <tr>\n",
       "      <th>std</th>\n",
       "      <td>1.000104e+00</td>\n",
       "      <td>1.000104e+00</td>\n",
       "      <td>1.000104e+00</td>\n",
       "      <td>1.000104e+00</td>\n",
       "      <td>1.000104</td>\n",
       "      <td>1.000104e+00</td>\n",
       "    </tr>\n",
       "    <tr>\n",
       "      <th>min</th>\n",
       "      <td>-1.776959e+00</td>\n",
       "      <td>-1.986906e+00</td>\n",
       "      <td>-2.987183e+00</td>\n",
       "      <td>-1.049072e+00</td>\n",
       "      <td>-1.941365</td>\n",
       "      <td>-2.623989e+00</td>\n",
       "    </tr>\n",
       "    <tr>\n",
       "      <th>25%</th>\n",
       "      <td>-7.121231e-01</td>\n",
       "      <td>-7.857893e-01</td>\n",
       "      <td>-6.958393e-02</td>\n",
       "      <td>-7.709598e-01</td>\n",
       "      <td>-0.941402</td>\n",
       "      <td>-6.492785e-01</td>\n",
       "    </tr>\n",
       "    <tr>\n",
       "      <th>50%</th>\n",
       "      <td>-1.927152e-01</td>\n",
       "      <td>1.495548e-02</td>\n",
       "      <td>2.501776e-01</td>\n",
       "      <td>-2.147359e-01</td>\n",
       "      <td>0.148044</td>\n",
       "      <td>9.123818e-02</td>\n",
       "    </tr>\n",
       "    <tr>\n",
       "      <th>75%</th>\n",
       "      <td>4.891051e-01</td>\n",
       "      <td>8.157002e-01</td>\n",
       "      <td>5.276853e-01</td>\n",
       "      <td>3.414881e-01</td>\n",
       "      <td>0.903392</td>\n",
       "      <td>7.700451e-01</td>\n",
       "    </tr>\n",
       "    <tr>\n",
       "      <th>max</th>\n",
       "      <td>4.729545e+00</td>\n",
       "      <td>4.018679e+00</td>\n",
       "      <td>1.594263e+00</td>\n",
       "      <td>5.347504e+00</td>\n",
       "      <td>1.626968</td>\n",
       "      <td>1.757401e+00</td>\n",
       "    </tr>\n",
       "  </tbody>\n",
       "</table>\n",
       "</div>"
      ],
      "text/plain": [
       "       LOG_DAYS_IN_ICU  CHARLSON_INDEX  LOG_NUM_DRUGS  NUM_PROCEDURES  \\\n",
       "count     4.792000e+03    4.792000e+03   4.792000e+03    4.792000e+03   \n",
       "mean     -1.542079e-16   -1.542079e-16  -2.965537e-17    8.896612e-17   \n",
       "std       1.000104e+00    1.000104e+00   1.000104e+00    1.000104e+00   \n",
       "min      -1.776959e+00   -1.986906e+00  -2.987183e+00   -1.049072e+00   \n",
       "25%      -7.121231e-01   -7.857893e-01  -6.958393e-02   -7.709598e-01   \n",
       "50%      -1.927152e-01    1.495548e-02   2.501776e-01   -2.147359e-01   \n",
       "75%       4.891051e-01    8.157002e-01   5.276853e-01    3.414881e-01   \n",
       "max       4.729545e+00    4.018679e+00   1.594263e+00    5.347504e+00   \n",
       "\n",
       "       LOG_PARTICIPATION_DAYS           AGE  \n",
       "count             4792.000000  4.792000e+03  \n",
       "mean                 0.000000  3.410368e-17  \n",
       "std                  1.000104  1.000104e+00  \n",
       "min                 -1.941365 -2.623989e+00  \n",
       "25%                 -0.941402 -6.492785e-01  \n",
       "50%                  0.148044  9.123818e-02  \n",
       "75%                  0.903392  7.700451e-01  \n",
       "max                  1.626968  1.757401e+00  "
      ]
     },
     "execution_count": 6,
     "metadata": {},
     "output_type": "execute_result"
    }
   ],
   "source": [
    "import pandas as pd\n",
    "\n",
    "train_df = pd.read_csv(train_df_path)\n",
    "\n",
    "train_df[model_config['current_feat_cols']].describe()"
   ]
  },
  {
   "cell_type": "code",
   "execution_count": 7,
   "id": "3b5bcf49",
   "metadata": {},
   "outputs": [
    {
     "data": {
      "application/vnd.microsoft.datawrangler.viewer.v0+json": {
       "columns": [
        {
         "name": "index",
         "rawType": "object",
         "type": "string"
        },
        {
         "name": "LOG_HOSPITALIZATION_DAYS",
         "rawType": "float64",
         "type": "float"
        },
        {
         "name": "LOG_DAYS_IN_ICU",
         "rawType": "float64",
         "type": "float"
        },
        {
         "name": "CHARLSON_INDEX",
         "rawType": "float64",
         "type": "float"
        },
        {
         "name": "LOG_NUM_DRUGS",
         "rawType": "float64",
         "type": "float"
        },
        {
         "name": "LOG_DAYS_UNTIL_NEXT_HOSPITALIZATION",
         "rawType": "float64",
         "type": "float"
        }
       ],
       "ref": "62fd011c-0805-4500-ad6c-3bd139e09466",
       "rows": [
        [
         "count",
         "4792.0",
         "4792.0",
         "4792.0",
         "4792.0",
         "4792.0"
        ],
        [
         "mean",
         "-2.0313930467264968e-16",
         "-1.5420793931354428e-16",
         "-1.5420793931354428e-16",
         "-2.965537294491236e-17",
         "-3.5586447533894834e-17"
        ],
        [
         "std",
         "1.0001043569008843",
         "1.0001043569008843",
         "1.000104356900884",
         "1.0001043569008843",
         "1.0001043569008843"
        ],
        [
         "min",
         "-2.4320855303396844",
         "-1.7769590786019176",
         "-1.986906428202256",
         "-2.987183050398288",
         "-2.3413077403031903"
        ],
        [
         "25%",
         "-0.6674366092357455",
         "-0.7121230694535902",
         "-0.785789283766125",
         "-0.0695839258892671",
         "-0.7434079228622257"
        ],
        [
         "50%",
         "-0.08346424200477434",
         "-0.19271518562304146",
         "0.0149554791912956",
         "0.2501775887060719",
         "0.0570767186358025"
        ],
        [
         "75%",
         "0.6023691055534774",
         "0.4891051079821768",
         "0.8157002421487162",
         "0.5276852881385061",
         "0.8074353077896823"
        ],
        [
         "max",
         "4.061836253760895",
         "4.729544870760188",
         "4.018679293978398",
         "1.594262866933085",
         "2.081791448518337"
        ]
       ],
       "shape": {
        "columns": 5,
        "rows": 8
       }
      },
      "text/html": [
       "<div>\n",
       "<style scoped>\n",
       "    .dataframe tbody tr th:only-of-type {\n",
       "        vertical-align: middle;\n",
       "    }\n",
       "\n",
       "    .dataframe tbody tr th {\n",
       "        vertical-align: top;\n",
       "    }\n",
       "\n",
       "    .dataframe thead th {\n",
       "        text-align: right;\n",
       "    }\n",
       "</style>\n",
       "<table border=\"1\" class=\"dataframe\">\n",
       "  <thead>\n",
       "    <tr style=\"text-align: right;\">\n",
       "      <th></th>\n",
       "      <th>LOG_HOSPITALIZATION_DAYS</th>\n",
       "      <th>LOG_DAYS_IN_ICU</th>\n",
       "      <th>CHARLSON_INDEX</th>\n",
       "      <th>LOG_NUM_DRUGS</th>\n",
       "      <th>LOG_DAYS_UNTIL_NEXT_HOSPITALIZATION</th>\n",
       "    </tr>\n",
       "  </thead>\n",
       "  <tbody>\n",
       "    <tr>\n",
       "      <th>count</th>\n",
       "      <td>4.792000e+03</td>\n",
       "      <td>4.792000e+03</td>\n",
       "      <td>4.792000e+03</td>\n",
       "      <td>4.792000e+03</td>\n",
       "      <td>4.792000e+03</td>\n",
       "    </tr>\n",
       "    <tr>\n",
       "      <th>mean</th>\n",
       "      <td>-2.031393e-16</td>\n",
       "      <td>-1.542079e-16</td>\n",
       "      <td>-1.542079e-16</td>\n",
       "      <td>-2.965537e-17</td>\n",
       "      <td>-3.558645e-17</td>\n",
       "    </tr>\n",
       "    <tr>\n",
       "      <th>std</th>\n",
       "      <td>1.000104e+00</td>\n",
       "      <td>1.000104e+00</td>\n",
       "      <td>1.000104e+00</td>\n",
       "      <td>1.000104e+00</td>\n",
       "      <td>1.000104e+00</td>\n",
       "    </tr>\n",
       "    <tr>\n",
       "      <th>min</th>\n",
       "      <td>-2.432086e+00</td>\n",
       "      <td>-1.776959e+00</td>\n",
       "      <td>-1.986906e+00</td>\n",
       "      <td>-2.987183e+00</td>\n",
       "      <td>-2.341308e+00</td>\n",
       "    </tr>\n",
       "    <tr>\n",
       "      <th>25%</th>\n",
       "      <td>-6.674366e-01</td>\n",
       "      <td>-7.121231e-01</td>\n",
       "      <td>-7.857893e-01</td>\n",
       "      <td>-6.958393e-02</td>\n",
       "      <td>-7.434079e-01</td>\n",
       "    </tr>\n",
       "    <tr>\n",
       "      <th>50%</th>\n",
       "      <td>-8.346424e-02</td>\n",
       "      <td>-1.927152e-01</td>\n",
       "      <td>1.495548e-02</td>\n",
       "      <td>2.501776e-01</td>\n",
       "      <td>5.707672e-02</td>\n",
       "    </tr>\n",
       "    <tr>\n",
       "      <th>75%</th>\n",
       "      <td>6.023691e-01</td>\n",
       "      <td>4.891051e-01</td>\n",
       "      <td>8.157002e-01</td>\n",
       "      <td>5.276853e-01</td>\n",
       "      <td>8.074353e-01</td>\n",
       "    </tr>\n",
       "    <tr>\n",
       "      <th>max</th>\n",
       "      <td>4.061836e+00</td>\n",
       "      <td>4.729545e+00</td>\n",
       "      <td>4.018679e+00</td>\n",
       "      <td>1.594263e+00</td>\n",
       "      <td>2.081791e+00</td>\n",
       "    </tr>\n",
       "  </tbody>\n",
       "</table>\n",
       "</div>"
      ],
      "text/plain": [
       "       LOG_HOSPITALIZATION_DAYS  LOG_DAYS_IN_ICU  CHARLSON_INDEX  \\\n",
       "count              4.792000e+03     4.792000e+03    4.792000e+03   \n",
       "mean              -2.031393e-16    -1.542079e-16   -1.542079e-16   \n",
       "std                1.000104e+00     1.000104e+00    1.000104e+00   \n",
       "min               -2.432086e+00    -1.776959e+00   -1.986906e+00   \n",
       "25%               -6.674366e-01    -7.121231e-01   -7.857893e-01   \n",
       "50%               -8.346424e-02    -1.927152e-01    1.495548e-02   \n",
       "75%                6.023691e-01     4.891051e-01    8.157002e-01   \n",
       "max                4.061836e+00     4.729545e+00    4.018679e+00   \n",
       "\n",
       "       LOG_NUM_DRUGS  LOG_DAYS_UNTIL_NEXT_HOSPITALIZATION  \n",
       "count   4.792000e+03                         4.792000e+03  \n",
       "mean   -2.965537e-17                        -3.558645e-17  \n",
       "std     1.000104e+00                         1.000104e+00  \n",
       "min    -2.987183e+00                        -2.341308e+00  \n",
       "25%    -6.958393e-02                        -7.434079e-01  \n",
       "50%     2.501776e-01                         5.707672e-02  \n",
       "75%     5.276853e-01                         8.074353e-01  \n",
       "max     1.594263e+00                         2.081791e+00  "
      ]
     },
     "execution_count": 7,
     "metadata": {},
     "output_type": "execute_result"
    }
   ],
   "source": [
    "train_df[model_config[\"longitudinal_feat_cols\"]].describe()"
   ]
  },
  {
   "cell_type": "code",
   "execution_count": 8,
   "id": "0a3590cd",
   "metadata": {},
   "outputs": [
    {
     "data": {
      "application/vnd.microsoft.datawrangler.viewer.v0+json": {
       "columns": [
        {
         "name": "index",
         "rawType": "object",
         "type": "string"
        },
        {
         "name": "LOG_DAYS_IN_ICU",
         "rawType": "float64",
         "type": "float"
        },
        {
         "name": "CHARLSON_INDEX",
         "rawType": "float64",
         "type": "float"
        },
        {
         "name": "LOG_NUM_DRUGS",
         "rawType": "float64",
         "type": "float"
        },
        {
         "name": "NUM_PROCEDURES",
         "rawType": "float64",
         "type": "float"
        },
        {
         "name": "LOG_PARTICIPATION_DAYS",
         "rawType": "float64",
         "type": "float"
        },
        {
         "name": "AGE",
         "rawType": "float64",
         "type": "float"
        }
       ],
       "ref": "1d0a83c8-d320-4f44-b331-3a2586a6e89d",
       "rows": [
        [
         "count",
         "1159.0",
         "1159.0",
         "1159.0",
         "1159.0",
         "1159.0",
         "1159.0"
        ],
        [
         "mean",
         "0.03940202641328782",
         "0.0028648550741645533",
         "0.004980767238519558",
         "-0.011490970391181236",
         "-0.04970699554665153",
         "0.10231291936374085"
        ],
        [
         "std",
         "1.0081523395143068",
         "0.9952753993169116",
         "1.0040778100008434",
         "0.9961981445129082",
         "0.9931211612405918",
         "0.9512313617454963"
        ],
        [
         "min",
         "-1.7769590786019176",
         "-1.986906428202256",
         "-2.987183050398288",
         "-1.0490717762936492",
         "-1.94136451543699",
         "-2.623989483242348"
        ],
        [
         "25%",
         "-0.7004779543187568",
         "-0.785789283766125",
         "-0.0695839258892671",
         "-0.7709598072740006",
         "-0.9998851165595134",
         "-0.5258590153668785"
        ],
        [
         "50%",
         "-0.17521277517519",
         "0.0149554791912956",
         "0.2501775887060719",
         "-0.2147358692347035",
         "0.0569416094142675",
         "0.2146576203538753"
        ],
        [
         "75%",
         "0.5735551151056275",
         "0.4153278606700059",
         "0.5276852881385061",
         "0.3414880688045935",
         "0.8546756355080253",
         "0.893464536431233"
        ],
        [
         "max",
         "3.629249864022007",
         "4.018679293978398",
         "1.4380564283667665",
         "5.347503511158267",
         "1.5590358638950583",
         "1.695690891795383"
        ]
       ],
       "shape": {
        "columns": 6,
        "rows": 8
       }
      },
      "text/html": [
       "<div>\n",
       "<style scoped>\n",
       "    .dataframe tbody tr th:only-of-type {\n",
       "        vertical-align: middle;\n",
       "    }\n",
       "\n",
       "    .dataframe tbody tr th {\n",
       "        vertical-align: top;\n",
       "    }\n",
       "\n",
       "    .dataframe thead th {\n",
       "        text-align: right;\n",
       "    }\n",
       "</style>\n",
       "<table border=\"1\" class=\"dataframe\">\n",
       "  <thead>\n",
       "    <tr style=\"text-align: right;\">\n",
       "      <th></th>\n",
       "      <th>LOG_DAYS_IN_ICU</th>\n",
       "      <th>CHARLSON_INDEX</th>\n",
       "      <th>LOG_NUM_DRUGS</th>\n",
       "      <th>NUM_PROCEDURES</th>\n",
       "      <th>LOG_PARTICIPATION_DAYS</th>\n",
       "      <th>AGE</th>\n",
       "    </tr>\n",
       "  </thead>\n",
       "  <tbody>\n",
       "    <tr>\n",
       "      <th>count</th>\n",
       "      <td>1159.000000</td>\n",
       "      <td>1159.000000</td>\n",
       "      <td>1159.000000</td>\n",
       "      <td>1159.000000</td>\n",
       "      <td>1159.000000</td>\n",
       "      <td>1159.000000</td>\n",
       "    </tr>\n",
       "    <tr>\n",
       "      <th>mean</th>\n",
       "      <td>0.039402</td>\n",
       "      <td>0.002865</td>\n",
       "      <td>0.004981</td>\n",
       "      <td>-0.011491</td>\n",
       "      <td>-0.049707</td>\n",
       "      <td>0.102313</td>\n",
       "    </tr>\n",
       "    <tr>\n",
       "      <th>std</th>\n",
       "      <td>1.008152</td>\n",
       "      <td>0.995275</td>\n",
       "      <td>1.004078</td>\n",
       "      <td>0.996198</td>\n",
       "      <td>0.993121</td>\n",
       "      <td>0.951231</td>\n",
       "    </tr>\n",
       "    <tr>\n",
       "      <th>min</th>\n",
       "      <td>-1.776959</td>\n",
       "      <td>-1.986906</td>\n",
       "      <td>-2.987183</td>\n",
       "      <td>-1.049072</td>\n",
       "      <td>-1.941365</td>\n",
       "      <td>-2.623989</td>\n",
       "    </tr>\n",
       "    <tr>\n",
       "      <th>25%</th>\n",
       "      <td>-0.700478</td>\n",
       "      <td>-0.785789</td>\n",
       "      <td>-0.069584</td>\n",
       "      <td>-0.770960</td>\n",
       "      <td>-0.999885</td>\n",
       "      <td>-0.525859</td>\n",
       "    </tr>\n",
       "    <tr>\n",
       "      <th>50%</th>\n",
       "      <td>-0.175213</td>\n",
       "      <td>0.014955</td>\n",
       "      <td>0.250178</td>\n",
       "      <td>-0.214736</td>\n",
       "      <td>0.056942</td>\n",
       "      <td>0.214658</td>\n",
       "    </tr>\n",
       "    <tr>\n",
       "      <th>75%</th>\n",
       "      <td>0.573555</td>\n",
       "      <td>0.415328</td>\n",
       "      <td>0.527685</td>\n",
       "      <td>0.341488</td>\n",
       "      <td>0.854676</td>\n",
       "      <td>0.893465</td>\n",
       "    </tr>\n",
       "    <tr>\n",
       "      <th>max</th>\n",
       "      <td>3.629250</td>\n",
       "      <td>4.018679</td>\n",
       "      <td>1.438056</td>\n",
       "      <td>5.347504</td>\n",
       "      <td>1.559036</td>\n",
       "      <td>1.695691</td>\n",
       "    </tr>\n",
       "  </tbody>\n",
       "</table>\n",
       "</div>"
      ],
      "text/plain": [
       "       LOG_DAYS_IN_ICU  CHARLSON_INDEX  LOG_NUM_DRUGS  NUM_PROCEDURES  \\\n",
       "count      1159.000000     1159.000000    1159.000000     1159.000000   \n",
       "mean          0.039402        0.002865       0.004981       -0.011491   \n",
       "std           1.008152        0.995275       1.004078        0.996198   \n",
       "min          -1.776959       -1.986906      -2.987183       -1.049072   \n",
       "25%          -0.700478       -0.785789      -0.069584       -0.770960   \n",
       "50%          -0.175213        0.014955       0.250178       -0.214736   \n",
       "75%           0.573555        0.415328       0.527685        0.341488   \n",
       "max           3.629250        4.018679       1.438056        5.347504   \n",
       "\n",
       "       LOG_PARTICIPATION_DAYS          AGE  \n",
       "count             1159.000000  1159.000000  \n",
       "mean                -0.049707     0.102313  \n",
       "std                  0.993121     0.951231  \n",
       "min                 -1.941365    -2.623989  \n",
       "25%                 -0.999885    -0.525859  \n",
       "50%                  0.056942     0.214658  \n",
       "75%                  0.854676     0.893465  \n",
       "max                  1.559036     1.695691  "
      ]
     },
     "execution_count": 8,
     "metadata": {},
     "output_type": "execute_result"
    }
   ],
   "source": [
    "test_df = pd.read_csv(test_df_path)\n",
    "\n",
    "test_df[model_config['current_feat_cols']].describe()"
   ]
  },
  {
   "cell_type": "code",
   "execution_count": 9,
   "id": "d7cfc96e",
   "metadata": {},
   "outputs": [
    {
     "data": {
      "application/vnd.microsoft.datawrangler.viewer.v0+json": {
       "columns": [
        {
         "name": "index",
         "rawType": "int64",
         "type": "integer"
        },
        {
         "name": "SUBJECT_ID",
         "rawType": "int64",
         "type": "integer"
        },
        {
         "name": "HADM_ID",
         "rawType": "int64",
         "type": "integer"
        },
        {
         "name": "ADMITTIME",
         "rawType": "object",
         "type": "string"
        },
        {
         "name": "DISCHTIME",
         "rawType": "object",
         "type": "string"
        },
        {
         "name": "HOSPITALIZATION_DAYS",
         "rawType": "float64",
         "type": "float"
        },
        {
         "name": "NUM_COMORBIDITIES",
         "rawType": "float64",
         "type": "float"
        },
        {
         "name": "TYPES_COMORBIDITIES",
         "rawType": "object",
         "type": "string"
        },
        {
         "name": "HAS_DIABETES",
         "rawType": "bool",
         "type": "boolean"
        },
        {
         "name": "HAS_COPD",
         "rawType": "bool",
         "type": "boolean"
        },
        {
         "name": "HAS_CONGESTIVE_HF",
         "rawType": "bool",
         "type": "boolean"
        },
        {
         "name": "NEXT_ADMISSION_TYPE",
         "rawType": "object",
         "type": "string"
        },
        {
         "name": "NUM_PREV_HOSPITALIZATIONS",
         "rawType": "float64",
         "type": "float"
        },
        {
         "name": "PREV_DISCHTIME",
         "rawType": "object",
         "type": "unknown"
        },
        {
         "name": "NEXT_ADMITTIME",
         "rawType": "object",
         "type": "string"
        },
        {
         "name": "DAYS_SINCE_LAST_HOSPITALIZATION",
         "rawType": "float64",
         "type": "float"
        },
        {
         "name": "DAYS_UNTIL_NEXT_HOSPITALIZATION",
         "rawType": "float64",
         "type": "float"
        },
        {
         "name": "LOG_DAYS_SINCE_LAST_HOSPITALIZATION",
         "rawType": "float64",
         "type": "float"
        },
        {
         "name": "LOG_DAYS_UNTIL_NEXT_HOSPITALIZATION",
         "rawType": "float64",
         "type": "float"
        },
        {
         "name": "PREV_READMISSION_30_DAYS",
         "rawType": "int64",
         "type": "integer"
        },
        {
         "name": "READMISSION_30_DAYS",
         "rawType": "int64",
         "type": "integer"
        },
        {
         "name": "READM_30_DAYS_PAST_MEAN",
         "rawType": "float64",
         "type": "float"
        },
        {
         "name": "READM_30_DAYS_PAST_SUM",
         "rawType": "float64",
         "type": "float"
        },
        {
         "name": "LOG_DAYS_UNTIL_NEXT_HOSP_PAST_MEAN",
         "rawType": "float64",
         "type": "float"
        },
        {
         "name": "LOG_DAYS_UNTIL_NEXT_HOSP_PAST_MEDIAN",
         "rawType": "float64",
         "type": "float"
        },
        {
         "name": "LOG_DAYS_UNTIL_NEXT_HOSP_PAST_STD",
         "rawType": "float64",
         "type": "float"
        },
        {
         "name": "TOTAL_HOSPITALIZATIONS",
         "rawType": "int64",
         "type": "integer"
        },
        {
         "name": "DAYS_IN_ICU",
         "rawType": "float64",
         "type": "float"
        },
        {
         "name": "NUM_DRUGS",
         "rawType": "int64",
         "type": "integer"
        },
        {
         "name": "NUM_PROCEDURES",
         "rawType": "float64",
         "type": "float"
        },
        {
         "name": "DOB",
         "rawType": "object",
         "type": "string"
        },
        {
         "name": "DOD",
         "rawType": "object",
         "type": "unknown"
        },
        {
         "name": "DOD_HOSP",
         "rawType": "object",
         "type": "unknown"
        },
        {
         "name": "AGE",
         "rawType": "float64",
         "type": "float"
        },
        {
         "name": "CHARLSON_INDEX",
         "rawType": "float64",
         "type": "float"
        },
        {
         "name": "FIRST_ADMITTIME",
         "rawType": "object",
         "type": "string"
        },
        {
         "name": "LAST_DISCHTIME",
         "rawType": "object",
         "type": "string"
        },
        {
         "name": "PARTICIPATION_DAYS",
         "rawType": "float64",
         "type": "float"
        },
        {
         "name": "TOTAL_PARTICIPATION_DAYS",
         "rawType": "int64",
         "type": "integer"
        },
        {
         "name": "DEATH_TIME_AFTER_LAST_DISCHARGE",
         "rawType": "float64",
         "type": "float"
        },
        {
         "name": "READMISSION_EVENT",
         "rawType": "int64",
         "type": "integer"
        },
        {
         "name": "EVENT_DURATION",
         "rawType": "float64",
         "type": "float"
        },
        {
         "name": "IN_HOSP_DEATH_EVENT",
         "rawType": "int64",
         "type": "integer"
        },
        {
         "name": "AFTER_HOSP_DEATH_EVENT",
         "rawType": "int64",
         "type": "integer"
        },
        {
         "name": "LOG_HOSPITALIZATION_DAYS",
         "rawType": "float64",
         "type": "float"
        },
        {
         "name": "LOG_DAYS_IN_ICU",
         "rawType": "float64",
         "type": "float"
        },
        {
         "name": "LOG_NUM_PREV_HOSPITALIZATIONS",
         "rawType": "float64",
         "type": "float"
        },
        {
         "name": "LOG_PARTICIPATION_DAYS",
         "rawType": "float64",
         "type": "float"
        },
        {
         "name": "LOG_NUM_DRUGS",
         "rawType": "float64",
         "type": "float"
        },
        {
         "name": "IS_LAST_EVENT",
         "rawType": "int64",
         "type": "integer"
        },
        {
         "name": "IS_HISTORICAL_EVENT",
         "rawType": "int64",
         "type": "integer"
        },
        {
         "name": "READMISSION_TIME_CAT",
         "rawType": "object",
         "type": "string"
        },
        {
         "name": "READMISSION_TIME_CAT_ENCODED",
         "rawType": "int64",
         "type": "integer"
        },
        {
         "name": "GENDER_M",
         "rawType": "bool",
         "type": "boolean"
        },
        {
         "name": "ADMISSION_TYPE_ELECTIVE",
         "rawType": "bool",
         "type": "boolean"
        },
        {
         "name": "ADMISSION_TYPE_URGENT",
         "rawType": "bool",
         "type": "boolean"
        },
        {
         "name": "INSURANCE_GOVERNMENT",
         "rawType": "bool",
         "type": "boolean"
        },
        {
         "name": "INSURANCE_MEDICAID",
         "rawType": "bool",
         "type": "boolean"
        },
        {
         "name": "INSURANCE_MEDICARE",
         "rawType": "bool",
         "type": "boolean"
        },
        {
         "name": "INSURANCE_PRIVATE",
         "rawType": "bool",
         "type": "boolean"
        },
        {
         "name": "ETHNICITY_BLACK",
         "rawType": "bool",
         "type": "boolean"
        },
        {
         "name": "ETHNICITY_HISPANIC",
         "rawType": "bool",
         "type": "boolean"
        },
        {
         "name": "ETHNICITY_WHITE",
         "rawType": "bool",
         "type": "boolean"
        },
        {
         "name": "DISCHARGE_LOCATION_HOME",
         "rawType": "bool",
         "type": "boolean"
        },
        {
         "name": "DISCHARGE_LOCATION_POST_ACUTE_CARE",
         "rawType": "bool",
         "type": "boolean"
        }
       ],
       "ref": "303d2d81-f8de-46a4-a337-edb7204b1818",
       "rows": [
        [
         "0",
         "36",
         "182104",
         "2131-04-30 07:15:00",
         "2131-05-08 14:00:00",
         "8.28125",
         "-1.0742214136357284",
         "['other', 'chronic_pulmonary_disease']",
         "False",
         "True",
         "False",
         "EMERGENCY",
         "-0.5798640702623373",
         null,
         "2131-05-12 19:49:00",
         null,
         "4.242361111111111",
         null,
         "-1.7785555969487403",
         "-1",
         "1",
         null,
         null,
         null,
         null,
         null,
         "3",
         "1.1095949074074074",
         "51",
         "1.1758239758635394",
         "2061-08-17",
         null,
         null,
         "0.5849159382142523",
         "-0.785789283766125",
         "2131-04-30 07:15:00",
         "2134-05-20 13:16:00",
         "-0.7174295131837568",
         "1116",
         null,
         "1",
         "4.242361111111111",
         "0",
         "0",
         "0.055470867989458",
         "-0.7983062339823461",
         "0.0",
         "-1.2385724361432544",
         "0.6402398409228435",
         "0",
         "1",
         "0-30",
         "0",
         "True",
         "False",
         "False",
         "False",
         "False",
         "True",
         "False",
         "False",
         "False",
         "True",
         "True",
         "False"
        ],
        [
         "1",
         "36",
         "122659",
         "2131-05-12 19:49:00",
         "2131-05-25 13:30:00",
         "12.736805555555556",
         "-1.0742214136357284",
         "['other', 'chronic_pulmonary_disease']",
         "False",
         "True",
         "False",
         "ELECTIVE",
         "-0.2950143906419252",
         "2131-05-08 14:00:00",
         "2134-05-10 11:30:00",
         "4.242361111111111",
         "1080.9166666666667",
         "1.6567719905695786",
         "1.340709905619386",
         "1",
         "0",
         "1.0",
         "1.0",
         "1.6567719905695786",
         "1.6567719905695786",
         null,
         "3",
         "6.859548611111111",
         "72",
         "1.1758239758635394",
         "2061-08-17",
         null,
         null,
         "0.5849159382142523",
         "-0.785789283766125",
         "2131-04-30 07:15:00",
         "2134-05-20 13:16:00",
         "-0.695945721832606",
         "1116",
         null,
         "0",
         "120.0",
         "0",
         "0",
         "0.5906208003205757",
         "0.9259586594039648",
         "0.6931471805599453",
         "-0.7428716080393143",
         "0.951655426691166",
         "1",
         "0",
         "120+",
         "2",
         "True",
         "False",
         "False",
         "False",
         "False",
         "True",
         "False",
         "False",
         "False",
         "True",
         "False",
         "True"
        ],
        [
         "2",
         "107",
         "191941",
         "2115-02-20 17:41:00",
         "2115-02-21 16:30:00",
         "0.9506944444444444",
         "-1.0742214136357284",
         "['other', 'renal_disease']",
         "False",
         "False",
         "False",
         "EMERGENCY",
         "-0.5798640702623373",
         null,
         "2121-11-30 19:24:00",
         null,
         "2474.1208333333334",
         null,
         "1.8250440125016976",
         "-1",
         "0",
         null,
         null,
         null,
         null,
         null,
         "3",
         "1.018599537037037",
         "10",
         "0.3414880688045935",
         "2052-04-02",
         null,
         null,
         "0.1529479007104791",
         "-0.3854169022874147",
         "2115-02-20 17:41:00",
         "2122-05-18 15:11:00",
         "-0.7262757802107013",
         "2643",
         null,
         "0",
         "120.0",
         "0",
         "0",
         "-2.073500911964969",
         "-0.856110609084031",
         "0.0",
         "-1.94136451543699",
         "-0.7858052506349383",
         "0",
         "1",
         "120+",
         "2",
         "True",
         "False",
         "False",
         "False",
         "False",
         "False",
         "True",
         "False",
         "True",
         "False",
         "True",
         "False"
        ],
        [
         "3",
         "107",
         "182383",
         "2121-11-30 19:24:00",
         "2121-12-05 14:18:00",
         "4.7875000000000005",
         "0.4185055732114257",
         "['other', 'congestive_heart_failure', 'myocardial_infarct', 'renal_disease']",
         "False",
         "False",
         "True",
         "EMERGENCY",
         "-0.2950143906419252",
         "2115-02-21 16:30:00",
         "2122-05-14 19:37:00",
         "2474.1208333333334",
         "160.22152777777777",
         "7.814044495359879",
         "0.2265463111234164",
         "0",
         "0",
         "0.0",
         "0.0",
         "7.814044495359879",
         "7.814044495359879",
         null,
         "3",
         "1.0805671296296298",
         "21",
         "-0.7709598072740006",
         "2052-04-02",
         null,
         null,
         "0.5232062185708561",
         "0.4153278606700059",
         "2115-02-20 17:41:00",
         "2122-05-18 15:11:00",
         "2.40530274732764",
         "2643",
         null,
         "0",
         "120.0",
         "0",
         "0",
         "-0.5891614581651905",
         "-0.8164706368996977",
         "0.6931471805599453",
         "1.3868513597953132",
         "-0.1494643592862916",
         "1",
         "0",
         "120+",
         "2",
         "True",
         "False",
         "False",
         "False",
         "False",
         "True",
         "False",
         "False",
         "True",
         "False",
         "True",
         "False"
        ],
        [
         "4",
         "188",
         "160697",
         "2157-01-11 16:56:00",
         "2157-01-19 14:58:00",
         "7.918055555555555",
         "0.4185055732114257",
         "['mild_liver_disease', 'malignant_cancer', 'severe_liver_disease', 'other']",
         "False",
         "False",
         "False",
         "EMERGENCY",
         "-0.5798640702623373",
         null,
         "2157-03-07 11:08:00",
         null,
         "46.84027777777778",
         null,
         "-0.4844916413252836",
         "-1",
         "0",
         null,
         null,
         null,
         null,
         null,
         "7",
         "1.9475925925925928",
         "39",
         "1.1758239758635394",
         "2105-05-18",
         "2162-01-17",
         "2162-01-17",
         "-0.5258590153668785",
         "0.4153278606700059",
         "2157-01-11 16:56:00",
         "2162-01-17 05:50:00",
         "-0.7186932656161774",
         "1831",
         "0.0",
         "1",
         "46.84027777777778",
         "0",
         "0",
         "0.0009867378692989",
         "-0.3597876351674478",
         "0.0",
         "-1.293607492658229",
         "0.3993774171957409",
         "0",
         "1",
         "30-120",
         "1",
         "True",
         "False",
         "False",
         "False",
         "False",
         "False",
         "True",
         "False",
         "False",
         "True",
         "True",
         "False"
        ]
       ],
       "shape": {
        "columns": 64,
        "rows": 5
       }
      },
      "text/html": [
       "<div>\n",
       "<style scoped>\n",
       "    .dataframe tbody tr th:only-of-type {\n",
       "        vertical-align: middle;\n",
       "    }\n",
       "\n",
       "    .dataframe tbody tr th {\n",
       "        vertical-align: top;\n",
       "    }\n",
       "\n",
       "    .dataframe thead th {\n",
       "        text-align: right;\n",
       "    }\n",
       "</style>\n",
       "<table border=\"1\" class=\"dataframe\">\n",
       "  <thead>\n",
       "    <tr style=\"text-align: right;\">\n",
       "      <th></th>\n",
       "      <th>SUBJECT_ID</th>\n",
       "      <th>HADM_ID</th>\n",
       "      <th>ADMITTIME</th>\n",
       "      <th>DISCHTIME</th>\n",
       "      <th>HOSPITALIZATION_DAYS</th>\n",
       "      <th>NUM_COMORBIDITIES</th>\n",
       "      <th>TYPES_COMORBIDITIES</th>\n",
       "      <th>HAS_DIABETES</th>\n",
       "      <th>HAS_COPD</th>\n",
       "      <th>HAS_CONGESTIVE_HF</th>\n",
       "      <th>...</th>\n",
       "      <th>ADMISSION_TYPE_URGENT</th>\n",
       "      <th>INSURANCE_GOVERNMENT</th>\n",
       "      <th>INSURANCE_MEDICAID</th>\n",
       "      <th>INSURANCE_MEDICARE</th>\n",
       "      <th>INSURANCE_PRIVATE</th>\n",
       "      <th>ETHNICITY_BLACK</th>\n",
       "      <th>ETHNICITY_HISPANIC</th>\n",
       "      <th>ETHNICITY_WHITE</th>\n",
       "      <th>DISCHARGE_LOCATION_HOME</th>\n",
       "      <th>DISCHARGE_LOCATION_POST_ACUTE_CARE</th>\n",
       "    </tr>\n",
       "  </thead>\n",
       "  <tbody>\n",
       "    <tr>\n",
       "      <th>0</th>\n",
       "      <td>36</td>\n",
       "      <td>182104</td>\n",
       "      <td>2131-04-30 07:15:00</td>\n",
       "      <td>2131-05-08 14:00:00</td>\n",
       "      <td>8.281250</td>\n",
       "      <td>-1.074221</td>\n",
       "      <td>['other', 'chronic_pulmonary_disease']</td>\n",
       "      <td>False</td>\n",
       "      <td>True</td>\n",
       "      <td>False</td>\n",
       "      <td>...</td>\n",
       "      <td>False</td>\n",
       "      <td>False</td>\n",
       "      <td>False</td>\n",
       "      <td>True</td>\n",
       "      <td>False</td>\n",
       "      <td>False</td>\n",
       "      <td>False</td>\n",
       "      <td>True</td>\n",
       "      <td>True</td>\n",
       "      <td>False</td>\n",
       "    </tr>\n",
       "    <tr>\n",
       "      <th>1</th>\n",
       "      <td>36</td>\n",
       "      <td>122659</td>\n",
       "      <td>2131-05-12 19:49:00</td>\n",
       "      <td>2131-05-25 13:30:00</td>\n",
       "      <td>12.736806</td>\n",
       "      <td>-1.074221</td>\n",
       "      <td>['other', 'chronic_pulmonary_disease']</td>\n",
       "      <td>False</td>\n",
       "      <td>True</td>\n",
       "      <td>False</td>\n",
       "      <td>...</td>\n",
       "      <td>False</td>\n",
       "      <td>False</td>\n",
       "      <td>False</td>\n",
       "      <td>True</td>\n",
       "      <td>False</td>\n",
       "      <td>False</td>\n",
       "      <td>False</td>\n",
       "      <td>True</td>\n",
       "      <td>False</td>\n",
       "      <td>True</td>\n",
       "    </tr>\n",
       "    <tr>\n",
       "      <th>2</th>\n",
       "      <td>107</td>\n",
       "      <td>191941</td>\n",
       "      <td>2115-02-20 17:41:00</td>\n",
       "      <td>2115-02-21 16:30:00</td>\n",
       "      <td>0.950694</td>\n",
       "      <td>-1.074221</td>\n",
       "      <td>['other', 'renal_disease']</td>\n",
       "      <td>False</td>\n",
       "      <td>False</td>\n",
       "      <td>False</td>\n",
       "      <td>...</td>\n",
       "      <td>False</td>\n",
       "      <td>False</td>\n",
       "      <td>False</td>\n",
       "      <td>False</td>\n",
       "      <td>True</td>\n",
       "      <td>False</td>\n",
       "      <td>True</td>\n",
       "      <td>False</td>\n",
       "      <td>True</td>\n",
       "      <td>False</td>\n",
       "    </tr>\n",
       "    <tr>\n",
       "      <th>3</th>\n",
       "      <td>107</td>\n",
       "      <td>182383</td>\n",
       "      <td>2121-11-30 19:24:00</td>\n",
       "      <td>2121-12-05 14:18:00</td>\n",
       "      <td>4.787500</td>\n",
       "      <td>0.418506</td>\n",
       "      <td>['other', 'congestive_heart_failure', 'myocard...</td>\n",
       "      <td>False</td>\n",
       "      <td>False</td>\n",
       "      <td>True</td>\n",
       "      <td>...</td>\n",
       "      <td>False</td>\n",
       "      <td>False</td>\n",
       "      <td>False</td>\n",
       "      <td>True</td>\n",
       "      <td>False</td>\n",
       "      <td>False</td>\n",
       "      <td>True</td>\n",
       "      <td>False</td>\n",
       "      <td>True</td>\n",
       "      <td>False</td>\n",
       "    </tr>\n",
       "    <tr>\n",
       "      <th>4</th>\n",
       "      <td>188</td>\n",
       "      <td>160697</td>\n",
       "      <td>2157-01-11 16:56:00</td>\n",
       "      <td>2157-01-19 14:58:00</td>\n",
       "      <td>7.918056</td>\n",
       "      <td>0.418506</td>\n",
       "      <td>['mild_liver_disease', 'malignant_cancer', 'se...</td>\n",
       "      <td>False</td>\n",
       "      <td>False</td>\n",
       "      <td>False</td>\n",
       "      <td>...</td>\n",
       "      <td>False</td>\n",
       "      <td>False</td>\n",
       "      <td>False</td>\n",
       "      <td>False</td>\n",
       "      <td>True</td>\n",
       "      <td>False</td>\n",
       "      <td>False</td>\n",
       "      <td>True</td>\n",
       "      <td>True</td>\n",
       "      <td>False</td>\n",
       "    </tr>\n",
       "  </tbody>\n",
       "</table>\n",
       "<p>5 rows × 64 columns</p>\n",
       "</div>"
      ],
      "text/plain": [
       "   SUBJECT_ID  HADM_ID            ADMITTIME            DISCHTIME  \\\n",
       "0          36   182104  2131-04-30 07:15:00  2131-05-08 14:00:00   \n",
       "1          36   122659  2131-05-12 19:49:00  2131-05-25 13:30:00   \n",
       "2         107   191941  2115-02-20 17:41:00  2115-02-21 16:30:00   \n",
       "3         107   182383  2121-11-30 19:24:00  2121-12-05 14:18:00   \n",
       "4         188   160697  2157-01-11 16:56:00  2157-01-19 14:58:00   \n",
       "\n",
       "   HOSPITALIZATION_DAYS  NUM_COMORBIDITIES  \\\n",
       "0              8.281250          -1.074221   \n",
       "1             12.736806          -1.074221   \n",
       "2              0.950694          -1.074221   \n",
       "3              4.787500           0.418506   \n",
       "4              7.918056           0.418506   \n",
       "\n",
       "                                 TYPES_COMORBIDITIES  HAS_DIABETES  HAS_COPD  \\\n",
       "0             ['other', 'chronic_pulmonary_disease']         False      True   \n",
       "1             ['other', 'chronic_pulmonary_disease']         False      True   \n",
       "2                         ['other', 'renal_disease']         False     False   \n",
       "3  ['other', 'congestive_heart_failure', 'myocard...         False     False   \n",
       "4  ['mild_liver_disease', 'malignant_cancer', 'se...         False     False   \n",
       "\n",
       "   HAS_CONGESTIVE_HF  ... ADMISSION_TYPE_URGENT  INSURANCE_GOVERNMENT  \\\n",
       "0              False  ...                 False                 False   \n",
       "1              False  ...                 False                 False   \n",
       "2              False  ...                 False                 False   \n",
       "3               True  ...                 False                 False   \n",
       "4              False  ...                 False                 False   \n",
       "\n",
       "  INSURANCE_MEDICAID INSURANCE_MEDICARE  INSURANCE_PRIVATE  ETHNICITY_BLACK  \\\n",
       "0              False               True              False            False   \n",
       "1              False               True              False            False   \n",
       "2              False              False               True            False   \n",
       "3              False               True              False            False   \n",
       "4              False              False               True            False   \n",
       "\n",
       "   ETHNICITY_HISPANIC  ETHNICITY_WHITE  DISCHARGE_LOCATION_HOME  \\\n",
       "0               False             True                     True   \n",
       "1               False             True                    False   \n",
       "2                True            False                     True   \n",
       "3                True            False                     True   \n",
       "4               False             True                     True   \n",
       "\n",
       "   DISCHARGE_LOCATION_POST_ACUTE_CARE  \n",
       "0                               False  \n",
       "1                                True  \n",
       "2                               False  \n",
       "3                               False  \n",
       "4                               False  \n",
       "\n",
       "[5 rows x 64 columns]"
      ]
     },
     "execution_count": 9,
     "metadata": {},
     "output_type": "execute_result"
    }
   ],
   "source": [
    "test_df = pd.read_csv(test_df_path)\n",
    "test_df.head()"
   ]
  },
  {
   "cell_type": "code",
   "execution_count": 10,
   "id": "1eaa7e02",
   "metadata": {},
   "outputs": [
    {
     "data": {
      "application/vnd.microsoft.datawrangler.viewer.v0+json": {
       "columns": [
        {
         "name": "index",
         "rawType": "int64",
         "type": "integer"
        },
        {
         "name": "SUBJECT_ID",
         "rawType": "int64",
         "type": "integer"
        },
        {
         "name": "HADM_ID",
         "rawType": "int64",
         "type": "integer"
        },
        {
         "name": "ADMITTIME",
         "rawType": "object",
         "type": "string"
        },
        {
         "name": "DISCHTIME",
         "rawType": "object",
         "type": "string"
        },
        {
         "name": "HOSPITALIZATION_DAYS",
         "rawType": "float64",
         "type": "float"
        },
        {
         "name": "NUM_COMORBIDITIES",
         "rawType": "float64",
         "type": "float"
        },
        {
         "name": "TYPES_COMORBIDITIES",
         "rawType": "object",
         "type": "string"
        },
        {
         "name": "HAS_DIABETES",
         "rawType": "bool",
         "type": "boolean"
        },
        {
         "name": "HAS_COPD",
         "rawType": "bool",
         "type": "boolean"
        },
        {
         "name": "HAS_CONGESTIVE_HF",
         "rawType": "bool",
         "type": "boolean"
        },
        {
         "name": "NEXT_ADMISSION_TYPE",
         "rawType": "object",
         "type": "string"
        },
        {
         "name": "NUM_PREV_HOSPITALIZATIONS",
         "rawType": "float64",
         "type": "float"
        },
        {
         "name": "PREV_DISCHTIME",
         "rawType": "object",
         "type": "unknown"
        },
        {
         "name": "NEXT_ADMITTIME",
         "rawType": "object",
         "type": "string"
        },
        {
         "name": "DAYS_SINCE_LAST_HOSPITALIZATION",
         "rawType": "float64",
         "type": "float"
        },
        {
         "name": "DAYS_UNTIL_NEXT_HOSPITALIZATION",
         "rawType": "float64",
         "type": "float"
        },
        {
         "name": "LOG_DAYS_SINCE_LAST_HOSPITALIZATION",
         "rawType": "float64",
         "type": "float"
        },
        {
         "name": "LOG_DAYS_UNTIL_NEXT_HOSPITALIZATION",
         "rawType": "float64",
         "type": "float"
        },
        {
         "name": "PREV_READMISSION_30_DAYS",
         "rawType": "int64",
         "type": "integer"
        },
        {
         "name": "READMISSION_30_DAYS",
         "rawType": "int64",
         "type": "integer"
        },
        {
         "name": "READM_30_DAYS_PAST_MEAN",
         "rawType": "float64",
         "type": "float"
        },
        {
         "name": "READM_30_DAYS_PAST_SUM",
         "rawType": "float64",
         "type": "float"
        },
        {
         "name": "LOG_DAYS_UNTIL_NEXT_HOSP_PAST_MEAN",
         "rawType": "float64",
         "type": "float"
        },
        {
         "name": "LOG_DAYS_UNTIL_NEXT_HOSP_PAST_MEDIAN",
         "rawType": "float64",
         "type": "float"
        },
        {
         "name": "LOG_DAYS_UNTIL_NEXT_HOSP_PAST_STD",
         "rawType": "float64",
         "type": "float"
        },
        {
         "name": "TOTAL_HOSPITALIZATIONS",
         "rawType": "int64",
         "type": "integer"
        },
        {
         "name": "DAYS_IN_ICU",
         "rawType": "float64",
         "type": "float"
        },
        {
         "name": "NUM_DRUGS",
         "rawType": "int64",
         "type": "integer"
        },
        {
         "name": "NUM_PROCEDURES",
         "rawType": "float64",
         "type": "float"
        },
        {
         "name": "DOB",
         "rawType": "object",
         "type": "string"
        },
        {
         "name": "DOD",
         "rawType": "object",
         "type": "string"
        },
        {
         "name": "DOD_HOSP",
         "rawType": "object",
         "type": "string"
        },
        {
         "name": "AGE",
         "rawType": "float64",
         "type": "float"
        },
        {
         "name": "CHARLSON_INDEX",
         "rawType": "float64",
         "type": "float"
        },
        {
         "name": "FIRST_ADMITTIME",
         "rawType": "object",
         "type": "string"
        },
        {
         "name": "LAST_DISCHTIME",
         "rawType": "object",
         "type": "string"
        },
        {
         "name": "PARTICIPATION_DAYS",
         "rawType": "float64",
         "type": "float"
        },
        {
         "name": "TOTAL_PARTICIPATION_DAYS",
         "rawType": "int64",
         "type": "integer"
        },
        {
         "name": "DEATH_TIME_AFTER_LAST_DISCHARGE",
         "rawType": "float64",
         "type": "float"
        },
        {
         "name": "READMISSION_EVENT",
         "rawType": "int64",
         "type": "integer"
        },
        {
         "name": "EVENT_DURATION",
         "rawType": "float64",
         "type": "float"
        },
        {
         "name": "IN_HOSP_DEATH_EVENT",
         "rawType": "int64",
         "type": "integer"
        },
        {
         "name": "AFTER_HOSP_DEATH_EVENT",
         "rawType": "int64",
         "type": "integer"
        },
        {
         "name": "LOG_HOSPITALIZATION_DAYS",
         "rawType": "float64",
         "type": "float"
        },
        {
         "name": "LOG_DAYS_IN_ICU",
         "rawType": "float64",
         "type": "float"
        },
        {
         "name": "LOG_NUM_PREV_HOSPITALIZATIONS",
         "rawType": "float64",
         "type": "float"
        },
        {
         "name": "LOG_PARTICIPATION_DAYS",
         "rawType": "float64",
         "type": "float"
        },
        {
         "name": "LOG_NUM_DRUGS",
         "rawType": "float64",
         "type": "float"
        },
        {
         "name": "IS_LAST_EVENT",
         "rawType": "int64",
         "type": "integer"
        },
        {
         "name": "IS_HISTORICAL_EVENT",
         "rawType": "int64",
         "type": "integer"
        },
        {
         "name": "READMISSION_TIME_CAT",
         "rawType": "object",
         "type": "string"
        },
        {
         "name": "READMISSION_TIME_CAT_ENCODED",
         "rawType": "int64",
         "type": "integer"
        },
        {
         "name": "GENDER_M",
         "rawType": "bool",
         "type": "boolean"
        },
        {
         "name": "ADMISSION_TYPE_ELECTIVE",
         "rawType": "bool",
         "type": "boolean"
        },
        {
         "name": "ADMISSION_TYPE_URGENT",
         "rawType": "bool",
         "type": "boolean"
        },
        {
         "name": "INSURANCE_GOVERNMENT",
         "rawType": "bool",
         "type": "boolean"
        },
        {
         "name": "INSURANCE_MEDICAID",
         "rawType": "bool",
         "type": "boolean"
        },
        {
         "name": "INSURANCE_MEDICARE",
         "rawType": "bool",
         "type": "boolean"
        },
        {
         "name": "INSURANCE_PRIVATE",
         "rawType": "bool",
         "type": "boolean"
        },
        {
         "name": "ETHNICITY_BLACK",
         "rawType": "bool",
         "type": "boolean"
        },
        {
         "name": "ETHNICITY_HISPANIC",
         "rawType": "bool",
         "type": "boolean"
        },
        {
         "name": "ETHNICITY_WHITE",
         "rawType": "bool",
         "type": "boolean"
        },
        {
         "name": "DISCHARGE_LOCATION_HOME",
         "rawType": "bool",
         "type": "boolean"
        },
        {
         "name": "DISCHARGE_LOCATION_POST_ACUTE_CARE",
         "rawType": "bool",
         "type": "boolean"
        }
       ],
       "ref": "559121d8-24fd-412a-abf2-7ad13eb721e3",
       "rows": [
        [
         "4",
         "188",
         "160697",
         "2157-01-11 16:56:00",
         "2157-01-19 14:58:00",
         "7.918055555555555",
         "0.4185055732114257",
         "['mild_liver_disease', 'malignant_cancer', 'severe_liver_disease', 'other']",
         "False",
         "False",
         "False",
         "EMERGENCY",
         "-0.5798640702623373",
         null,
         "2157-03-07 11:08:00",
         null,
         "46.84027777777778",
         null,
         "-0.4844916413252836",
         "-1",
         "0",
         null,
         null,
         null,
         null,
         null,
         "7",
         "1.9475925925925928",
         "39",
         "1.1758239758635394",
         "2105-05-18",
         "2162-01-17",
         "2162-01-17",
         "-0.5258590153668785",
         "0.4153278606700059",
         "2157-01-11 16:56:00",
         "2162-01-17 05:50:00",
         "-0.7186932656161774",
         "1831",
         "0.0",
         "1",
         "46.84027777777778",
         "0",
         "0",
         "0.0009867378692989",
         "-0.3597876351674478",
         "0.0",
         "-1.293607492658229",
         "0.3993774171957409",
         "0",
         "1",
         "30-120",
         "1",
         "True",
         "False",
         "False",
         "False",
         "False",
         "False",
         "True",
         "False",
         "False",
         "True",
         "True",
         "False"
        ],
        [
         "5",
         "188",
         "191517",
         "2157-03-07 11:08:00",
         "2157-03-10 13:50:00",
         "3.1125000000000003",
         "-0.3278579202121514",
         "['other', 'mild_liver_disease', 'diabetes_without_cc']",
         "True",
         "False",
         "False",
         "EMERGENCY",
         "-0.2950143906419252",
         "2157-01-19 14:58:00",
         "2157-11-17 12:11:00",
         "46.84027777777778",
         "251.93125",
         "3.8678679160171954",
         "0.4901109139756831",
         "0",
         "0",
         "0.0",
         "0.0",
         "3.8678679160171954",
         "3.8678679160171954",
         null,
         "7",
         "1.1900347222222225",
         "32",
         "-0.4928478382543521",
         "2105-05-18",
         "2162-01-17",
         "2162-01-17",
         "-0.5258590153668785",
         "-0.785789283766125",
         "2157-01-11 16:56:00",
         "2162-01-17 05:50:00",
         "-0.6555056439951455",
         "1831",
         "0.0",
         "0",
         "120.0",
         "0",
         "0",
         "-1.0555028273632074",
         "-0.7492468716429345",
         "0.6931471805599453",
         "-0.3679688623771707",
         "0.2227711998281416",
         "0",
         "1",
         "120+",
         "2",
         "True",
         "False",
         "False",
         "False",
         "False",
         "False",
         "True",
         "False",
         "False",
         "True",
         "True",
         "False"
        ],
        [
         "6",
         "188",
         "150463",
         "2157-11-17 12:11:00",
         "2157-11-20 13:05:00",
         "3.0375",
         "-1.0742214136357284",
         "['other', 'mild_liver_disease']",
         "False",
         "False",
         "False",
         "EMERGENCY",
         "-0.010164711021513",
         "2157-03-10 13:50:00",
         "2160-11-25 21:55:00",
         "251.93125",
         "1101.3680555555554",
         "5.533117712669318",
         "1.3516697503699453",
         "0",
         "0",
         "0.0",
         "0.0",
         "4.7004928143432565",
         "4.7004928143432565",
         "1.1775094235822354",
         "7",
         "1.1781944444444443",
         "21",
         "0.063376099784945",
         "2105-05-18",
         "2162-01-17",
         "2162-01-17",
         "-0.5258590153668785",
         "-1.1861616652448352",
         "2157-01-11 16:56:00",
         "2162-01-17 05:50:00",
         "-0.3332487737278828",
         "1831",
         "0.0",
         "0",
         "120.0",
         "0",
         "0",
         "-1.0806242304202571",
         "-0.7563539114461506",
         "1.0986122886681096",
         "0.4197159367080745",
         "-0.1494643592862916",
         "0",
         "1",
         "120+",
         "2",
         "True",
         "False",
         "False",
         "False",
         "False",
         "False",
         "True",
         "False",
         "False",
         "True",
         "True",
         "False"
        ],
        [
         "7",
         "188",
         "192557",
         "2160-11-25 21:55:00",
         "2160-11-28 12:42:00",
         "2.615972222222222",
         "0.4185055732114257",
         "['other', 'mild_liver_disease', 'diabetes_without_cc', 'renal_disease']",
         "True",
         "False",
         "False",
         "EMERGENCY",
         "0.274684968598899",
         "2157-11-20 13:05:00",
         "2160-12-31 12:34:00",
         "1101.3680555555554",
         "32.99444444444445",
         "7.005215922658447",
         "-0.6844575796358969",
         "0",
         "0",
         "0.0",
         "0.0",
         "5.46873385044832",
         "5.533117712669318",
         "1.5696646425207612",
         "7",
         "0.9391435185185184",
         "21",
         "-1.0490717762936492",
         "2105-05-18",
         "2162-01-17",
         "2162-01-17",
         "-0.34072985643669",
         "0.0149554791912956",
         "2157-01-11 16:56:00",
         "2162-01-17 05:50:00",
         "1.0619339116645017",
         "1831",
         "0.0",
         "1",
         "32.99444444444445",
         "0",
         "0",
         "-1.2311238421140704",
         "-0.9087570198972732",
         "1.3862943611198906",
         "1.1253193444889955",
         "-0.1494643592862916",
         "0",
         "1",
         "30-120",
         "1",
         "True",
         "False",
         "False",
         "False",
         "False",
         "False",
         "True",
         "False",
         "False",
         "True",
         "True",
         "False"
        ],
        [
         "8",
         "188",
         "123860",
         "2160-12-31 12:34:00",
         "2161-01-08 19:50:00",
         "8.302777777777779",
         "1.1648690666350028",
         "['other', 'mild_liver_disease', 'diabetes_without_cc', 'severe_liver_disease', 'renal_disease']",
         "True",
         "False",
         "False",
         "EMERGENCY",
         "0.5595346482193111",
         "2160-11-28 12:42:00",
         "2161-07-01 19:44:00",
         "32.99444444444445",
         "173.9958333333333",
         "3.5261971125723304",
         "0.2745274864317478",
         "0",
         "0",
         "0.0",
         "0.0",
         "4.9830996659793225",
         "4.7004928143432565",
         "1.6080817675580716",
         "7",
         "3.167569444444444",
         "40",
         "-0.2147358692347035",
         "2105-05-18",
         "2162-01-17",
         "2162-01-17",
         "-0.34072985643669",
         "0.8157002421487162",
         "2157-01-11 16:56:00",
         "2162-01-17 05:50:00",
         "1.1150115138261685",
         "1831",
         "0.0",
         "0",
         "120.0",
         "0",
         "0",
         "0.0586330548304217",
         "0.0942681054397797",
         "1.6094379124341005",
         "1.138967625443717",
         "0.4220463676671124",
         "0",
         "1",
         "120+",
         "2",
         "True",
         "False",
         "False",
         "False",
         "False",
         "False",
         "True",
         "False",
         "False",
         "True",
         "True",
         "False"
        ],
        [
         "9",
         "188",
         "164735",
         "2161-07-01 19:44:00",
         "2161-07-10 20:00:00",
         "9.011111111111113",
         "0.4185055732114257",
         "['other', 'mild_liver_disease', 'diabetes_without_cc', 'renal_disease']",
         "True",
         "False",
         "False",
         "EMERGENCY",
         "0.8443843278397233",
         "2161-01-08 19:50:00",
         "2161-11-01 17:48:00",
         "173.9958333333333",
         "113.90833333333336",
         "5.1647621641162536",
         "0.0283514512494997",
         "0",
         "0",
         "0.0",
         "0.0",
         "5.019432165606709",
         "5.1647621641162536",
         "1.395007340844624",
         "7",
         "4.246458333333334",
         "46",
         "1.7320479139028364",
         "2105-05-18",
         "2162-01-17",
         "2162-01-17",
         "-0.2790201367932939",
         "0.0149554791912956",
         "2157-01-11 16:56:00",
         "2162-01-17 05:50:00",
         "1.346278208959145",
         "1831",
         "0.0",
         "1",
         "113.90833333333336",
         "0",
         "0",
         "0.1587922339357561",
         "0.3960858205411794",
         "1.791759469228055",
         "1.194180569775296",
         "0.5474289705535147",
         "1",
         "0",
         "30-120",
         "1",
         "True",
         "False",
         "False",
         "False",
         "False",
         "False",
         "True",
         "False",
         "False",
         "True",
         "True",
         "False"
        ],
        [
         "12",
         "773",
         "171563",
         "2103-07-19 21:18:00",
         "2103-08-12 08:08:00",
         "23.45138888888889",
         "-1.8205849070593056",
         "['other']",
         "False",
         "False",
         "False",
         "EMERGENCY",
         "-0.5798640702623373",
         null,
         "2108-12-25 23:57:00",
         null,
         "1962.6590277777773",
         null,
         "1.6895684568741591",
         "-1",
         "0",
         null,
         null,
         null,
         null,
         null,
         "4",
         "14.954861111111112",
         "0",
         "0.3414880688045935",
         "2051-06-10",
         "2109-03-17",
         "2109-03-17",
         "-0.5258590153668785",
         "-1.5865340467235456",
         "2103-07-19 21:18:00",
         "2109-03-17 20:25:00",
         "-0.6984732266974472",
         "2067",
         "0.0",
         "0",
         "120.0",
         "0",
         "0",
         "1.3776282346351183",
         "1.8541885660302015",
         "0.0",
         "-0.780272197316671",
         "-2.987183050398288",
         "0",
         "1",
         "120+",
         "2",
         "True",
         "False",
         "False",
         "False",
         "False",
         "False",
         "True",
         "False",
         "False",
         "True",
         "False",
         "True"
        ],
        [
         "13",
         "773",
         "183287",
         "2108-12-25 23:57:00",
         "2108-12-29 15:05:00",
         "3.630555555555556",
         "1.1648690666350028",
         "['other', 'malignant_cancer', 'mild_liver_disease', 'congestive_heart_failure', 'severe_liver_disease']",
         "False",
         "False",
         "True",
         "EMERGENCY",
         "-0.2950143906419252",
         "2103-08-12 08:08:00",
         "2109-01-23 21:51:00",
         "1962.6590277777773",
         "25.281944444444445",
         "7.582564862731147",
         "-0.835053478775066",
         "0",
         "1",
         "0.0",
         "0.0",
         "7.582564862731147",
         "7.582564862731147",
         null,
         "4",
         "2.6594560185185183",
         "21",
         "-0.4928478382543521",
         "2051-06-10",
         "2109-03-17",
         "2109-03-17",
         "-0.2173104171498977",
         "0.8157002421487162",
         "2103-07-19 21:18:00",
         "2109-03-17 20:25:00",
         "1.786064055441527",
         "2067",
         "0.0",
         "1",
         "25.281944444444445",
         "0",
         "0",
         "-0.893564326979462",
         "-0.076185555710169",
         "0.6931471805599453",
         "1.2839967136294792",
         "-0.1494643592862916",
         "0",
         "1",
         "0-30",
         "0",
         "True",
         "False",
         "False",
         "False",
         "False",
         "False",
         "True",
         "False",
         "False",
         "True",
         "True",
         "False"
        ],
        [
         "14",
         "773",
         "160425",
         "2109-01-23 21:51:00",
         "2109-01-28 17:00:00",
         "4.797916666666667",
         "1.91123256005858",
         "['peptic_ulcer_disease', 'other', 'malignant_cancer', 'mild_liver_disease', 'congestive_heart_failure', 'severe_liver_disease']",
         "False",
         "False",
         "True",
         "EMERGENCY",
         "-0.010164711021513",
         "2108-12-29 15:05:00",
         "2109-02-18 06:04:00",
         "25.281944444444445",
         "20.544444444444444",
         "3.2688821803939496",
         "-0.9513820279261456",
         "1",
         "1",
         "0.5",
         "1.0",
         "5.425723521562548",
         "5.425723521562548",
         "3.050234276567608",
         "4",
         "1.6037384259259255",
         "18",
         "0.063376099784945",
         "2051-06-10",
         "2109-03-17",
         "2109-03-17",
         "-0.1556006975065015",
         "1.2160726236274264",
         "2103-07-19 21:18:00",
         "2109-03-17 20:25:00",
         "1.823976628414146",
         "2067",
         "0.0",
         "1",
         "20.544444444444444",
         "0",
         "0",
         "-0.5867070589505352",
         "-0.5224041744127909",
         "1.0986122886681096",
         "1.290988234427021",
         "-0.2840530701091565",
         "1",
         "0",
         "0-30",
         "0",
         "True",
         "False",
         "False",
         "False",
         "False",
         "False",
         "True",
         "False",
         "False",
         "True",
         "True",
         "False"
        ],
        [
         "19",
         "878",
         "105643",
         "2131-05-16 18:32:00",
         "2131-05-30 14:30:00",
         "13.831944444444444",
         "-0.3278579202121514",
         "['other', 'congestive_heart_failure', 'chronic_pulmonary_disease']",
         "False",
         "True",
         "True",
         "EMERGENCY",
         "-0.5798640702623373",
         null,
         "2136-06-06 00:45:00",
         null,
         "1833.4270833333333",
         null,
         "1.6497255599556797",
         "-1",
         "0",
         null,
         null,
         null,
         null,
         null,
         "4",
         "4.967256944444444",
         "33",
         "-0.7709598072740006",
         "2061-08-17",
         "2137-12-11",
         "2137-12-11",
         "0.5849159382142523",
         "-0.3854169022874147",
         "2131-05-16 18:32:00",
         "2137-12-03 16:14:00",
         "-0.7111107510216536",
         "2400",
         "7.323611111111112",
         "0",
         "120.0",
         "0",
         "0",
         "0.6953140789028124",
         "0.5648556540394677",
         "0.0",
         "-1.0321225823393227",
         "0.2501775887060719",
         "0",
         "1",
         "120+",
         "2",
         "False",
         "False",
         "False",
         "False",
         "False",
         "True",
         "False",
         "True",
         "False",
         "False",
         "True",
         "False"
        ]
       ],
       "shape": {
        "columns": 64,
        "rows": 10
       }
      },
      "text/html": [
       "<div>\n",
       "<style scoped>\n",
       "    .dataframe tbody tr th:only-of-type {\n",
       "        vertical-align: middle;\n",
       "    }\n",
       "\n",
       "    .dataframe tbody tr th {\n",
       "        vertical-align: top;\n",
       "    }\n",
       "\n",
       "    .dataframe thead th {\n",
       "        text-align: right;\n",
       "    }\n",
       "</style>\n",
       "<table border=\"1\" class=\"dataframe\">\n",
       "  <thead>\n",
       "    <tr style=\"text-align: right;\">\n",
       "      <th></th>\n",
       "      <th>SUBJECT_ID</th>\n",
       "      <th>HADM_ID</th>\n",
       "      <th>ADMITTIME</th>\n",
       "      <th>DISCHTIME</th>\n",
       "      <th>HOSPITALIZATION_DAYS</th>\n",
       "      <th>NUM_COMORBIDITIES</th>\n",
       "      <th>TYPES_COMORBIDITIES</th>\n",
       "      <th>HAS_DIABETES</th>\n",
       "      <th>HAS_COPD</th>\n",
       "      <th>HAS_CONGESTIVE_HF</th>\n",
       "      <th>...</th>\n",
       "      <th>ADMISSION_TYPE_URGENT</th>\n",
       "      <th>INSURANCE_GOVERNMENT</th>\n",
       "      <th>INSURANCE_MEDICAID</th>\n",
       "      <th>INSURANCE_MEDICARE</th>\n",
       "      <th>INSURANCE_PRIVATE</th>\n",
       "      <th>ETHNICITY_BLACK</th>\n",
       "      <th>ETHNICITY_HISPANIC</th>\n",
       "      <th>ETHNICITY_WHITE</th>\n",
       "      <th>DISCHARGE_LOCATION_HOME</th>\n",
       "      <th>DISCHARGE_LOCATION_POST_ACUTE_CARE</th>\n",
       "    </tr>\n",
       "  </thead>\n",
       "  <tbody>\n",
       "    <tr>\n",
       "      <th>4</th>\n",
       "      <td>188</td>\n",
       "      <td>160697</td>\n",
       "      <td>2157-01-11 16:56:00</td>\n",
       "      <td>2157-01-19 14:58:00</td>\n",
       "      <td>7.918056</td>\n",
       "      <td>0.418506</td>\n",
       "      <td>['mild_liver_disease', 'malignant_cancer', 'se...</td>\n",
       "      <td>False</td>\n",
       "      <td>False</td>\n",
       "      <td>False</td>\n",
       "      <td>...</td>\n",
       "      <td>False</td>\n",
       "      <td>False</td>\n",
       "      <td>False</td>\n",
       "      <td>False</td>\n",
       "      <td>True</td>\n",
       "      <td>False</td>\n",
       "      <td>False</td>\n",
       "      <td>True</td>\n",
       "      <td>True</td>\n",
       "      <td>False</td>\n",
       "    </tr>\n",
       "    <tr>\n",
       "      <th>5</th>\n",
       "      <td>188</td>\n",
       "      <td>191517</td>\n",
       "      <td>2157-03-07 11:08:00</td>\n",
       "      <td>2157-03-10 13:50:00</td>\n",
       "      <td>3.112500</td>\n",
       "      <td>-0.327858</td>\n",
       "      <td>['other', 'mild_liver_disease', 'diabetes_with...</td>\n",
       "      <td>True</td>\n",
       "      <td>False</td>\n",
       "      <td>False</td>\n",
       "      <td>...</td>\n",
       "      <td>False</td>\n",
       "      <td>False</td>\n",
       "      <td>False</td>\n",
       "      <td>False</td>\n",
       "      <td>True</td>\n",
       "      <td>False</td>\n",
       "      <td>False</td>\n",
       "      <td>True</td>\n",
       "      <td>True</td>\n",
       "      <td>False</td>\n",
       "    </tr>\n",
       "    <tr>\n",
       "      <th>6</th>\n",
       "      <td>188</td>\n",
       "      <td>150463</td>\n",
       "      <td>2157-11-17 12:11:00</td>\n",
       "      <td>2157-11-20 13:05:00</td>\n",
       "      <td>3.037500</td>\n",
       "      <td>-1.074221</td>\n",
       "      <td>['other', 'mild_liver_disease']</td>\n",
       "      <td>False</td>\n",
       "      <td>False</td>\n",
       "      <td>False</td>\n",
       "      <td>...</td>\n",
       "      <td>False</td>\n",
       "      <td>False</td>\n",
       "      <td>False</td>\n",
       "      <td>False</td>\n",
       "      <td>True</td>\n",
       "      <td>False</td>\n",
       "      <td>False</td>\n",
       "      <td>True</td>\n",
       "      <td>True</td>\n",
       "      <td>False</td>\n",
       "    </tr>\n",
       "    <tr>\n",
       "      <th>7</th>\n",
       "      <td>188</td>\n",
       "      <td>192557</td>\n",
       "      <td>2160-11-25 21:55:00</td>\n",
       "      <td>2160-11-28 12:42:00</td>\n",
       "      <td>2.615972</td>\n",
       "      <td>0.418506</td>\n",
       "      <td>['other', 'mild_liver_disease', 'diabetes_with...</td>\n",
       "      <td>True</td>\n",
       "      <td>False</td>\n",
       "      <td>False</td>\n",
       "      <td>...</td>\n",
       "      <td>False</td>\n",
       "      <td>False</td>\n",
       "      <td>False</td>\n",
       "      <td>False</td>\n",
       "      <td>True</td>\n",
       "      <td>False</td>\n",
       "      <td>False</td>\n",
       "      <td>True</td>\n",
       "      <td>True</td>\n",
       "      <td>False</td>\n",
       "    </tr>\n",
       "    <tr>\n",
       "      <th>8</th>\n",
       "      <td>188</td>\n",
       "      <td>123860</td>\n",
       "      <td>2160-12-31 12:34:00</td>\n",
       "      <td>2161-01-08 19:50:00</td>\n",
       "      <td>8.302778</td>\n",
       "      <td>1.164869</td>\n",
       "      <td>['other', 'mild_liver_disease', 'diabetes_with...</td>\n",
       "      <td>True</td>\n",
       "      <td>False</td>\n",
       "      <td>False</td>\n",
       "      <td>...</td>\n",
       "      <td>False</td>\n",
       "      <td>False</td>\n",
       "      <td>False</td>\n",
       "      <td>False</td>\n",
       "      <td>True</td>\n",
       "      <td>False</td>\n",
       "      <td>False</td>\n",
       "      <td>True</td>\n",
       "      <td>True</td>\n",
       "      <td>False</td>\n",
       "    </tr>\n",
       "    <tr>\n",
       "      <th>9</th>\n",
       "      <td>188</td>\n",
       "      <td>164735</td>\n",
       "      <td>2161-07-01 19:44:00</td>\n",
       "      <td>2161-07-10 20:00:00</td>\n",
       "      <td>9.011111</td>\n",
       "      <td>0.418506</td>\n",
       "      <td>['other', 'mild_liver_disease', 'diabetes_with...</td>\n",
       "      <td>True</td>\n",
       "      <td>False</td>\n",
       "      <td>False</td>\n",
       "      <td>...</td>\n",
       "      <td>False</td>\n",
       "      <td>False</td>\n",
       "      <td>False</td>\n",
       "      <td>False</td>\n",
       "      <td>True</td>\n",
       "      <td>False</td>\n",
       "      <td>False</td>\n",
       "      <td>True</td>\n",
       "      <td>True</td>\n",
       "      <td>False</td>\n",
       "    </tr>\n",
       "    <tr>\n",
       "      <th>12</th>\n",
       "      <td>773</td>\n",
       "      <td>171563</td>\n",
       "      <td>2103-07-19 21:18:00</td>\n",
       "      <td>2103-08-12 08:08:00</td>\n",
       "      <td>23.451389</td>\n",
       "      <td>-1.820585</td>\n",
       "      <td>['other']</td>\n",
       "      <td>False</td>\n",
       "      <td>False</td>\n",
       "      <td>False</td>\n",
       "      <td>...</td>\n",
       "      <td>False</td>\n",
       "      <td>False</td>\n",
       "      <td>False</td>\n",
       "      <td>False</td>\n",
       "      <td>True</td>\n",
       "      <td>False</td>\n",
       "      <td>False</td>\n",
       "      <td>True</td>\n",
       "      <td>False</td>\n",
       "      <td>True</td>\n",
       "    </tr>\n",
       "    <tr>\n",
       "      <th>13</th>\n",
       "      <td>773</td>\n",
       "      <td>183287</td>\n",
       "      <td>2108-12-25 23:57:00</td>\n",
       "      <td>2108-12-29 15:05:00</td>\n",
       "      <td>3.630556</td>\n",
       "      <td>1.164869</td>\n",
       "      <td>['other', 'malignant_cancer', 'mild_liver_dise...</td>\n",
       "      <td>False</td>\n",
       "      <td>False</td>\n",
       "      <td>True</td>\n",
       "      <td>...</td>\n",
       "      <td>False</td>\n",
       "      <td>False</td>\n",
       "      <td>False</td>\n",
       "      <td>False</td>\n",
       "      <td>True</td>\n",
       "      <td>False</td>\n",
       "      <td>False</td>\n",
       "      <td>True</td>\n",
       "      <td>True</td>\n",
       "      <td>False</td>\n",
       "    </tr>\n",
       "    <tr>\n",
       "      <th>14</th>\n",
       "      <td>773</td>\n",
       "      <td>160425</td>\n",
       "      <td>2109-01-23 21:51:00</td>\n",
       "      <td>2109-01-28 17:00:00</td>\n",
       "      <td>4.797917</td>\n",
       "      <td>1.911233</td>\n",
       "      <td>['peptic_ulcer_disease', 'other', 'malignant_c...</td>\n",
       "      <td>False</td>\n",
       "      <td>False</td>\n",
       "      <td>True</td>\n",
       "      <td>...</td>\n",
       "      <td>False</td>\n",
       "      <td>False</td>\n",
       "      <td>False</td>\n",
       "      <td>False</td>\n",
       "      <td>True</td>\n",
       "      <td>False</td>\n",
       "      <td>False</td>\n",
       "      <td>True</td>\n",
       "      <td>True</td>\n",
       "      <td>False</td>\n",
       "    </tr>\n",
       "    <tr>\n",
       "      <th>19</th>\n",
       "      <td>878</td>\n",
       "      <td>105643</td>\n",
       "      <td>2131-05-16 18:32:00</td>\n",
       "      <td>2131-05-30 14:30:00</td>\n",
       "      <td>13.831944</td>\n",
       "      <td>-0.327858</td>\n",
       "      <td>['other', 'congestive_heart_failure', 'chronic...</td>\n",
       "      <td>False</td>\n",
       "      <td>True</td>\n",
       "      <td>True</td>\n",
       "      <td>...</td>\n",
       "      <td>False</td>\n",
       "      <td>False</td>\n",
       "      <td>False</td>\n",
       "      <td>True</td>\n",
       "      <td>False</td>\n",
       "      <td>True</td>\n",
       "      <td>False</td>\n",
       "      <td>False</td>\n",
       "      <td>True</td>\n",
       "      <td>False</td>\n",
       "    </tr>\n",
       "  </tbody>\n",
       "</table>\n",
       "<p>10 rows × 64 columns</p>\n",
       "</div>"
      ],
      "text/plain": [
       "    SUBJECT_ID  HADM_ID            ADMITTIME            DISCHTIME  \\\n",
       "4          188   160697  2157-01-11 16:56:00  2157-01-19 14:58:00   \n",
       "5          188   191517  2157-03-07 11:08:00  2157-03-10 13:50:00   \n",
       "6          188   150463  2157-11-17 12:11:00  2157-11-20 13:05:00   \n",
       "7          188   192557  2160-11-25 21:55:00  2160-11-28 12:42:00   \n",
       "8          188   123860  2160-12-31 12:34:00  2161-01-08 19:50:00   \n",
       "9          188   164735  2161-07-01 19:44:00  2161-07-10 20:00:00   \n",
       "12         773   171563  2103-07-19 21:18:00  2103-08-12 08:08:00   \n",
       "13         773   183287  2108-12-25 23:57:00  2108-12-29 15:05:00   \n",
       "14         773   160425  2109-01-23 21:51:00  2109-01-28 17:00:00   \n",
       "19         878   105643  2131-05-16 18:32:00  2131-05-30 14:30:00   \n",
       "\n",
       "    HOSPITALIZATION_DAYS  NUM_COMORBIDITIES  \\\n",
       "4               7.918056           0.418506   \n",
       "5               3.112500          -0.327858   \n",
       "6               3.037500          -1.074221   \n",
       "7               2.615972           0.418506   \n",
       "8               8.302778           1.164869   \n",
       "9               9.011111           0.418506   \n",
       "12             23.451389          -1.820585   \n",
       "13              3.630556           1.164869   \n",
       "14              4.797917           1.911233   \n",
       "19             13.831944          -0.327858   \n",
       "\n",
       "                                  TYPES_COMORBIDITIES  HAS_DIABETES  HAS_COPD  \\\n",
       "4   ['mild_liver_disease', 'malignant_cancer', 'se...         False     False   \n",
       "5   ['other', 'mild_liver_disease', 'diabetes_with...          True     False   \n",
       "6                     ['other', 'mild_liver_disease']         False     False   \n",
       "7   ['other', 'mild_liver_disease', 'diabetes_with...          True     False   \n",
       "8   ['other', 'mild_liver_disease', 'diabetes_with...          True     False   \n",
       "9   ['other', 'mild_liver_disease', 'diabetes_with...          True     False   \n",
       "12                                          ['other']         False     False   \n",
       "13  ['other', 'malignant_cancer', 'mild_liver_dise...         False     False   \n",
       "14  ['peptic_ulcer_disease', 'other', 'malignant_c...         False     False   \n",
       "19  ['other', 'congestive_heart_failure', 'chronic...         False      True   \n",
       "\n",
       "    HAS_CONGESTIVE_HF  ... ADMISSION_TYPE_URGENT  INSURANCE_GOVERNMENT  \\\n",
       "4               False  ...                 False                 False   \n",
       "5               False  ...                 False                 False   \n",
       "6               False  ...                 False                 False   \n",
       "7               False  ...                 False                 False   \n",
       "8               False  ...                 False                 False   \n",
       "9               False  ...                 False                 False   \n",
       "12              False  ...                 False                 False   \n",
       "13               True  ...                 False                 False   \n",
       "14               True  ...                 False                 False   \n",
       "19               True  ...                 False                 False   \n",
       "\n",
       "   INSURANCE_MEDICAID INSURANCE_MEDICARE  INSURANCE_PRIVATE  ETHNICITY_BLACK  \\\n",
       "4               False              False               True            False   \n",
       "5               False              False               True            False   \n",
       "6               False              False               True            False   \n",
       "7               False              False               True            False   \n",
       "8               False              False               True            False   \n",
       "9               False              False               True            False   \n",
       "12              False              False               True            False   \n",
       "13              False              False               True            False   \n",
       "14              False              False               True            False   \n",
       "19              False               True              False             True   \n",
       "\n",
       "    ETHNICITY_HISPANIC  ETHNICITY_WHITE  DISCHARGE_LOCATION_HOME  \\\n",
       "4                False             True                     True   \n",
       "5                False             True                     True   \n",
       "6                False             True                     True   \n",
       "7                False             True                     True   \n",
       "8                False             True                     True   \n",
       "9                False             True                     True   \n",
       "12               False             True                    False   \n",
       "13               False             True                     True   \n",
       "14               False             True                     True   \n",
       "19               False            False                     True   \n",
       "\n",
       "    DISCHARGE_LOCATION_POST_ACUTE_CARE  \n",
       "4                                False  \n",
       "5                                False  \n",
       "6                                False  \n",
       "7                                False  \n",
       "8                                False  \n",
       "9                                False  \n",
       "12                                True  \n",
       "13                               False  \n",
       "14                               False  \n",
       "19                               False  \n",
       "\n",
       "[10 rows x 64 columns]"
      ]
     },
     "execution_count": 10,
     "metadata": {},
     "output_type": "execute_result"
    }
   ],
   "source": [
    "# select patients (SUBJECT_ID) with more than 2 past hospitalizations\n",
    "counts = test_df['SUBJECT_ID'].value_counts()\n",
    "subject_ids_multi = counts[counts > 2].index\n",
    "\n",
    "# use .isin to create a row-aligned boolean mask\n",
    "test_mult_past_df = test_df[test_df['SUBJECT_ID'].isin(subject_ids_multi)]\n",
    "test_mult_past_df.head(10)"
   ]
  },
  {
   "cell_type": "markdown",
   "id": "126628c1",
   "metadata": {},
   "source": [
    "### Create PyTorch Datasets"
   ]
  },
  {
   "cell_type": "code",
   "execution_count": 11,
   "id": "247faede",
   "metadata": {},
   "outputs": [
    {
     "name": "stdout",
     "output_type": "stream",
     "text": [
      "Output directory for model results: /workspaces/msc-thesis-recurrent-health-modeling/_models/mimic/deep_learning/attention_pooling/multiple_hosp_patients\n"
     ]
    }
   ],
   "source": [
    "print(\"Output directory for model results:\", save_results_dir)"
   ]
  },
  {
   "cell_type": "markdown",
   "id": "08fe2ae6",
   "metadata": {},
   "source": [
    "## Train the Model"
   ]
  },
  {
   "cell_type": "code",
   "execution_count": 12,
   "id": "61e81333",
   "metadata": {},
   "outputs": [
    {
     "name": "stdout",
     "output_type": "stream",
     "text": [
      "\n",
      "Using model class: AttentionPoolingNet\n",
      "\n",
      "Model initialized and ready for training.\n",
      "Model parameters:\n",
      "  input_size_curr: 10\n",
      "  hidden_size_head: 16\n",
      "  input_size_seq: 6\n",
      "  hidden_size_seq: 4\n",
      "  dropout: 0.1\n",
      "\n",
      "Starting training...\n",
      "Number of training samples: 4434\n",
      "Batch size: 64\n",
      "Learning rate: 0.001\n",
      "Optimizer: Adam\n",
      "Loss function: BCEWithLogitsLoss\n",
      "\n",
      "Epoch 1/30, Loss: 0.6111659850393023\n",
      "Epoch 2/30, Loss: 0.5772927331072943\n",
      "Epoch 3/30, Loss: 0.5681049644947052\n",
      "Epoch 4/30, Loss: 0.5651509523391723\n",
      "Epoch 5/30, Loss: 0.5620740813868387\n",
      "Epoch 6/30, Loss: 0.5597144024712699\n",
      "Epoch 7/30, Loss: 0.5601154897894178\n",
      "Epoch 8/30, Loss: 0.5555257414068494\n",
      "Epoch 9/30, Loss: 0.5541444467646736\n",
      "Epoch 10/30, Loss: 0.5551484171833311\n",
      "Epoch 11/30, Loss: 0.5502634478466851\n",
      "Epoch 12/30, Loss: 0.5508540953908648\n",
      "Epoch 13/30, Loss: 0.5491658513035093\n",
      "Epoch 14/30, Loss: 0.5489523781197412\n",
      "Epoch 15/30, Loss: 0.54972037928445\n",
      "Epoch 16/30, Loss: 0.5479484396321433\n",
      "Epoch 17/30, Loss: 0.5486318409442902\n",
      "Epoch 18/30, Loss: 0.5474836072751454\n",
      "Epoch 19/30, Loss: 0.5483682700565883\n",
      "Epoch 20/30, Loss: 0.5478546236242566\n",
      "Epoch 21/30, Loss: 0.5496682401214327\n",
      "Epoch 22/30, Loss: 0.5492275608437401\n",
      "Epoch 23/30, Loss: 0.5452646340642656\n",
      "Epoch 24/30, Loss: 0.5465325530086245\n",
      "Epoch 25/30, Loss: 0.5455083225454603\n",
      "Epoch 26/30, Loss: 0.5453535910163607\n",
      "Epoch 27/30, Loss: 0.544625877056803\n",
      "Epoch 28/30, Loss: 0.5468255536896842\n",
      "Epoch 29/30, Loss: 0.5440348493201392\n",
      "Epoch 30/30, Loss: 0.5433661669492722\n",
      "\n",
      "Training complete.\n"
     ]
    }
   ],
   "source": [
    "from recurrent_health_events_prediction.training.train_deep_learning_models import train\n",
    "from recurrent_health_events_prediction.model.RecurrentHealthEventsDL import GRUNet\n",
    "\n",
    "model, loss_epochs = train(\n",
    "    train_dataset=train_dataset,\n",
    "    model_config=model_config,\n",
    ")"
   ]
  },
  {
   "cell_type": "code",
   "execution_count": 13,
   "id": "31f0bff2",
   "metadata": {},
   "outputs": [
    {
     "data": {
      "application/vnd.plotly.v1+json": {
       "config": {
        "plotlyServerURL": "https://plot.ly"
       },
       "data": [
        {
         "mode": "lines+markers",
         "name": "Training Loss",
         "type": "scatter",
         "x": [
          1,
          2,
          3,
          4,
          5,
          6,
          7,
          8,
          9,
          10,
          11,
          12,
          13,
          14,
          15,
          16,
          17,
          18,
          19,
          20,
          21,
          22,
          23,
          24,
          25,
          26,
          27,
          28,
          29,
          30
         ],
         "y": [
          0.6111659850393023,
          0.5772927331072943,
          0.5681049644947052,
          0.5651509523391723,
          0.5620740813868387,
          0.5597144024712699,
          0.5601154897894178,
          0.5555257414068494,
          0.5541444467646736,
          0.5551484171833311,
          0.5502634478466851,
          0.5508540953908648,
          0.5491658513035093,
          0.5489523781197412,
          0.54972037928445,
          0.5479484396321433,
          0.5486318409442902,
          0.5474836072751454,
          0.5483682700565883,
          0.5478546236242566,
          0.5496682401214327,
          0.5492275608437401,
          0.5452646340642656,
          0.5465325530086245,
          0.5455083225454603,
          0.5453535910163607,
          0.544625877056803,
          0.5468255536896842,
          0.5440348493201392,
          0.5433661669492722
         ]
        }
       ],
       "layout": {
        "template": {
         "data": {
          "bar": [
           {
            "error_x": {
             "color": "#2a3f5f"
            },
            "error_y": {
             "color": "#2a3f5f"
            },
            "marker": {
             "line": {
              "color": "white",
              "width": 0.5
             },
             "pattern": {
              "fillmode": "overlay",
              "size": 10,
              "solidity": 0.2
             }
            },
            "type": "bar"
           }
          ],
          "barpolar": [
           {
            "marker": {
             "line": {
              "color": "white",
              "width": 0.5
             },
             "pattern": {
              "fillmode": "overlay",
              "size": 10,
              "solidity": 0.2
             }
            },
            "type": "barpolar"
           }
          ],
          "carpet": [
           {
            "aaxis": {
             "endlinecolor": "#2a3f5f",
             "gridcolor": "#C8D4E3",
             "linecolor": "#C8D4E3",
             "minorgridcolor": "#C8D4E3",
             "startlinecolor": "#2a3f5f"
            },
            "baxis": {
             "endlinecolor": "#2a3f5f",
             "gridcolor": "#C8D4E3",
             "linecolor": "#C8D4E3",
             "minorgridcolor": "#C8D4E3",
             "startlinecolor": "#2a3f5f"
            },
            "type": "carpet"
           }
          ],
          "choropleth": [
           {
            "colorbar": {
             "outlinewidth": 0,
             "ticks": ""
            },
            "type": "choropleth"
           }
          ],
          "contour": [
           {
            "colorbar": {
             "outlinewidth": 0,
             "ticks": ""
            },
            "colorscale": [
             [
              0,
              "#0d0887"
             ],
             [
              0.1111111111111111,
              "#46039f"
             ],
             [
              0.2222222222222222,
              "#7201a8"
             ],
             [
              0.3333333333333333,
              "#9c179e"
             ],
             [
              0.4444444444444444,
              "#bd3786"
             ],
             [
              0.5555555555555556,
              "#d8576b"
             ],
             [
              0.6666666666666666,
              "#ed7953"
             ],
             [
              0.7777777777777778,
              "#fb9f3a"
             ],
             [
              0.8888888888888888,
              "#fdca26"
             ],
             [
              1,
              "#f0f921"
             ]
            ],
            "type": "contour"
           }
          ],
          "contourcarpet": [
           {
            "colorbar": {
             "outlinewidth": 0,
             "ticks": ""
            },
            "type": "contourcarpet"
           }
          ],
          "heatmap": [
           {
            "colorbar": {
             "outlinewidth": 0,
             "ticks": ""
            },
            "colorscale": [
             [
              0,
              "#0d0887"
             ],
             [
              0.1111111111111111,
              "#46039f"
             ],
             [
              0.2222222222222222,
              "#7201a8"
             ],
             [
              0.3333333333333333,
              "#9c179e"
             ],
             [
              0.4444444444444444,
              "#bd3786"
             ],
             [
              0.5555555555555556,
              "#d8576b"
             ],
             [
              0.6666666666666666,
              "#ed7953"
             ],
             [
              0.7777777777777778,
              "#fb9f3a"
             ],
             [
              0.8888888888888888,
              "#fdca26"
             ],
             [
              1,
              "#f0f921"
             ]
            ],
            "type": "heatmap"
           }
          ],
          "histogram": [
           {
            "marker": {
             "pattern": {
              "fillmode": "overlay",
              "size": 10,
              "solidity": 0.2
             }
            },
            "type": "histogram"
           }
          ],
          "histogram2d": [
           {
            "colorbar": {
             "outlinewidth": 0,
             "ticks": ""
            },
            "colorscale": [
             [
              0,
              "#0d0887"
             ],
             [
              0.1111111111111111,
              "#46039f"
             ],
             [
              0.2222222222222222,
              "#7201a8"
             ],
             [
              0.3333333333333333,
              "#9c179e"
             ],
             [
              0.4444444444444444,
              "#bd3786"
             ],
             [
              0.5555555555555556,
              "#d8576b"
             ],
             [
              0.6666666666666666,
              "#ed7953"
             ],
             [
              0.7777777777777778,
              "#fb9f3a"
             ],
             [
              0.8888888888888888,
              "#fdca26"
             ],
             [
              1,
              "#f0f921"
             ]
            ],
            "type": "histogram2d"
           }
          ],
          "histogram2dcontour": [
           {
            "colorbar": {
             "outlinewidth": 0,
             "ticks": ""
            },
            "colorscale": [
             [
              0,
              "#0d0887"
             ],
             [
              0.1111111111111111,
              "#46039f"
             ],
             [
              0.2222222222222222,
              "#7201a8"
             ],
             [
              0.3333333333333333,
              "#9c179e"
             ],
             [
              0.4444444444444444,
              "#bd3786"
             ],
             [
              0.5555555555555556,
              "#d8576b"
             ],
             [
              0.6666666666666666,
              "#ed7953"
             ],
             [
              0.7777777777777778,
              "#fb9f3a"
             ],
             [
              0.8888888888888888,
              "#fdca26"
             ],
             [
              1,
              "#f0f921"
             ]
            ],
            "type": "histogram2dcontour"
           }
          ],
          "mesh3d": [
           {
            "colorbar": {
             "outlinewidth": 0,
             "ticks": ""
            },
            "type": "mesh3d"
           }
          ],
          "parcoords": [
           {
            "line": {
             "colorbar": {
              "outlinewidth": 0,
              "ticks": ""
             }
            },
            "type": "parcoords"
           }
          ],
          "pie": [
           {
            "automargin": true,
            "type": "pie"
           }
          ],
          "scatter": [
           {
            "fillpattern": {
             "fillmode": "overlay",
             "size": 10,
             "solidity": 0.2
            },
            "type": "scatter"
           }
          ],
          "scatter3d": [
           {
            "line": {
             "colorbar": {
              "outlinewidth": 0,
              "ticks": ""
             }
            },
            "marker": {
             "colorbar": {
              "outlinewidth": 0,
              "ticks": ""
             }
            },
            "type": "scatter3d"
           }
          ],
          "scattercarpet": [
           {
            "marker": {
             "colorbar": {
              "outlinewidth": 0,
              "ticks": ""
             }
            },
            "type": "scattercarpet"
           }
          ],
          "scattergeo": [
           {
            "marker": {
             "colorbar": {
              "outlinewidth": 0,
              "ticks": ""
             }
            },
            "type": "scattergeo"
           }
          ],
          "scattergl": [
           {
            "marker": {
             "colorbar": {
              "outlinewidth": 0,
              "ticks": ""
             }
            },
            "type": "scattergl"
           }
          ],
          "scattermap": [
           {
            "marker": {
             "colorbar": {
              "outlinewidth": 0,
              "ticks": ""
             }
            },
            "type": "scattermap"
           }
          ],
          "scattermapbox": [
           {
            "marker": {
             "colorbar": {
              "outlinewidth": 0,
              "ticks": ""
             }
            },
            "type": "scattermapbox"
           }
          ],
          "scatterpolar": [
           {
            "marker": {
             "colorbar": {
              "outlinewidth": 0,
              "ticks": ""
             }
            },
            "type": "scatterpolar"
           }
          ],
          "scatterpolargl": [
           {
            "marker": {
             "colorbar": {
              "outlinewidth": 0,
              "ticks": ""
             }
            },
            "type": "scatterpolargl"
           }
          ],
          "scatterternary": [
           {
            "marker": {
             "colorbar": {
              "outlinewidth": 0,
              "ticks": ""
             }
            },
            "type": "scatterternary"
           }
          ],
          "surface": [
           {
            "colorbar": {
             "outlinewidth": 0,
             "ticks": ""
            },
            "colorscale": [
             [
              0,
              "#0d0887"
             ],
             [
              0.1111111111111111,
              "#46039f"
             ],
             [
              0.2222222222222222,
              "#7201a8"
             ],
             [
              0.3333333333333333,
              "#9c179e"
             ],
             [
              0.4444444444444444,
              "#bd3786"
             ],
             [
              0.5555555555555556,
              "#d8576b"
             ],
             [
              0.6666666666666666,
              "#ed7953"
             ],
             [
              0.7777777777777778,
              "#fb9f3a"
             ],
             [
              0.8888888888888888,
              "#fdca26"
             ],
             [
              1,
              "#f0f921"
             ]
            ],
            "type": "surface"
           }
          ],
          "table": [
           {
            "cells": {
             "fill": {
              "color": "#EBF0F8"
             },
             "line": {
              "color": "white"
             }
            },
            "header": {
             "fill": {
              "color": "#C8D4E3"
             },
             "line": {
              "color": "white"
             }
            },
            "type": "table"
           }
          ]
         },
         "layout": {
          "annotationdefaults": {
           "arrowcolor": "#2a3f5f",
           "arrowhead": 0,
           "arrowwidth": 1
          },
          "autotypenumbers": "strict",
          "coloraxis": {
           "colorbar": {
            "outlinewidth": 0,
            "ticks": ""
           }
          },
          "colorscale": {
           "diverging": [
            [
             0,
             "#8e0152"
            ],
            [
             0.1,
             "#c51b7d"
            ],
            [
             0.2,
             "#de77ae"
            ],
            [
             0.3,
             "#f1b6da"
            ],
            [
             0.4,
             "#fde0ef"
            ],
            [
             0.5,
             "#f7f7f7"
            ],
            [
             0.6,
             "#e6f5d0"
            ],
            [
             0.7,
             "#b8e186"
            ],
            [
             0.8,
             "#7fbc41"
            ],
            [
             0.9,
             "#4d9221"
            ],
            [
             1,
             "#276419"
            ]
           ],
           "sequential": [
            [
             0,
             "#0d0887"
            ],
            [
             0.1111111111111111,
             "#46039f"
            ],
            [
             0.2222222222222222,
             "#7201a8"
            ],
            [
             0.3333333333333333,
             "#9c179e"
            ],
            [
             0.4444444444444444,
             "#bd3786"
            ],
            [
             0.5555555555555556,
             "#d8576b"
            ],
            [
             0.6666666666666666,
             "#ed7953"
            ],
            [
             0.7777777777777778,
             "#fb9f3a"
            ],
            [
             0.8888888888888888,
             "#fdca26"
            ],
            [
             1,
             "#f0f921"
            ]
           ],
           "sequentialminus": [
            [
             0,
             "#0d0887"
            ],
            [
             0.1111111111111111,
             "#46039f"
            ],
            [
             0.2222222222222222,
             "#7201a8"
            ],
            [
             0.3333333333333333,
             "#9c179e"
            ],
            [
             0.4444444444444444,
             "#bd3786"
            ],
            [
             0.5555555555555556,
             "#d8576b"
            ],
            [
             0.6666666666666666,
             "#ed7953"
            ],
            [
             0.7777777777777778,
             "#fb9f3a"
            ],
            [
             0.8888888888888888,
             "#fdca26"
            ],
            [
             1,
             "#f0f921"
            ]
           ]
          },
          "colorway": [
           "#636efa",
           "#EF553B",
           "#00cc96",
           "#ab63fa",
           "#FFA15A",
           "#19d3f3",
           "#FF6692",
           "#B6E880",
           "#FF97FF",
           "#FECB52"
          ],
          "font": {
           "color": "#2a3f5f"
          },
          "geo": {
           "bgcolor": "white",
           "lakecolor": "white",
           "landcolor": "white",
           "showlakes": true,
           "showland": true,
           "subunitcolor": "#C8D4E3"
          },
          "hoverlabel": {
           "align": "left"
          },
          "hovermode": "closest",
          "mapbox": {
           "style": "light"
          },
          "paper_bgcolor": "white",
          "plot_bgcolor": "white",
          "polar": {
           "angularaxis": {
            "gridcolor": "#EBF0F8",
            "linecolor": "#EBF0F8",
            "ticks": ""
           },
           "bgcolor": "white",
           "radialaxis": {
            "gridcolor": "#EBF0F8",
            "linecolor": "#EBF0F8",
            "ticks": ""
           }
          },
          "scene": {
           "xaxis": {
            "backgroundcolor": "white",
            "gridcolor": "#DFE8F3",
            "gridwidth": 2,
            "linecolor": "#EBF0F8",
            "showbackground": true,
            "ticks": "",
            "zerolinecolor": "#EBF0F8"
           },
           "yaxis": {
            "backgroundcolor": "white",
            "gridcolor": "#DFE8F3",
            "gridwidth": 2,
            "linecolor": "#EBF0F8",
            "showbackground": true,
            "ticks": "",
            "zerolinecolor": "#EBF0F8"
           },
           "zaxis": {
            "backgroundcolor": "white",
            "gridcolor": "#DFE8F3",
            "gridwidth": 2,
            "linecolor": "#EBF0F8",
            "showbackground": true,
            "ticks": "",
            "zerolinecolor": "#EBF0F8"
           }
          },
          "shapedefaults": {
           "line": {
            "color": "#2a3f5f"
           }
          },
          "ternary": {
           "aaxis": {
            "gridcolor": "#DFE8F3",
            "linecolor": "#A2B1C6",
            "ticks": ""
           },
           "baxis": {
            "gridcolor": "#DFE8F3",
            "linecolor": "#A2B1C6",
            "ticks": ""
           },
           "bgcolor": "white",
           "caxis": {
            "gridcolor": "#DFE8F3",
            "linecolor": "#A2B1C6",
            "ticks": ""
           }
          },
          "title": {
           "x": 0.05
          },
          "xaxis": {
           "automargin": true,
           "gridcolor": "#EBF0F8",
           "linecolor": "#EBF0F8",
           "ticks": "",
           "title": {
            "standoff": 15
           },
           "zerolinecolor": "#EBF0F8",
           "zerolinewidth": 2
          },
          "yaxis": {
           "automargin": true,
           "gridcolor": "#EBF0F8",
           "linecolor": "#EBF0F8",
           "ticks": "",
           "title": {
            "standoff": 15
           },
           "zerolinecolor": "#EBF0F8",
           "zerolinewidth": 2
          }
         }
        },
        "title": {
         "text": "Training Loss per Epoch (Batch size: 64, Train samples: 4434)"
        },
        "xaxis": {
         "title": {
          "text": "Epoch"
         }
        },
        "yaxis": {
         "title": {
          "text": "Loss"
         }
        }
       }
      }
     },
     "metadata": {},
     "output_type": "display_data"
    }
   ],
   "source": [
    "import plotly.graph_objects as go\n",
    "\n",
    "batch_size = model_config['batch_size']\n",
    "num_samples = len(train_dataset)\n",
    "\n",
    "fig = go.Figure()\n",
    "fig.add_trace(go.Scatter(\n",
    "    y=loss_epochs,\n",
    "    x=list(range(1, len(loss_epochs) + 1)),\n",
    "    mode='lines+markers',\n",
    "    name='Training Loss'\n",
    "))\n",
    "fig.update_layout(\n",
    "    title=f\"Training Loss per Epoch (Batch size: {batch_size}, Train samples: {num_samples})\",\n",
    "    xaxis_title=\"Epoch\",\n",
    "    yaxis_title=\"Loss\",\n",
    "    template=\"plotly_white\"\n",
    ")\n",
    "fig.write_html(os.path.join(save_results_dir, \"training_loss.html\"))\n",
    "fig.show()"
   ]
  },
  {
   "cell_type": "code",
   "execution_count": 14,
   "id": "7d57d9cb",
   "metadata": {},
   "outputs": [
    {
     "name": "stdout",
     "output_type": "stream",
     "text": [
      "Model saved to /workspaces/msc-thesis-recurrent-health-modeling/_models/mimic/deep_learning/attention_pooling/multiple_hosp_patients/attention_pooling.pt\n"
     ]
    }
   ],
   "source": [
    "import torch\n",
    "\n",
    "model_save_path = os.path.join(save_results_dir, f\"{model_name}.pt\")\n",
    "torch.save(model.state_dict(), model_save_path)\n",
    "print(f\"Model saved to {model_save_path}\")"
   ]
  },
  {
   "cell_type": "markdown",
   "id": "994367be",
   "metadata": {},
   "source": [
    "## Load Model"
   ]
  },
  {
   "cell_type": "code",
   "execution_count": 15,
   "id": "111273f8",
   "metadata": {},
   "outputs": [
    {
     "data": {
      "text/plain": [
       "AttentionPoolingNet(\n",
       "  (proj): Linear(in_features=6, out_features=4, bias=False)\n",
       "  (classifier_head): Sequential(\n",
       "    (fc1): Linear(in_features=14, out_features=16, bias=True)\n",
       "    (relu1): ReLU()\n",
       "    (dropout1): Dropout(p=0.1, inplace=False)\n",
       "    (fc2): Linear(in_features=16, out_features=1, bias=True)\n",
       "  )\n",
       ")"
      ]
     },
     "execution_count": 15,
     "metadata": {},
     "output_type": "execute_result"
    }
   ],
   "source": [
    "from recurrent_health_events_prediction.model.RecurrentHealthEventsDL import GRUNet, AttentionPoolingNet\n",
    "\n",
    "model_save_path = os.path.join(save_results_dir, f\"{model_name}.pt\")\n",
    "model = AttentionPoolingNet(**model_params_dict)\n",
    "model.load_state_dict(torch.load(model_save_path))\n",
    "model.eval()"
   ]
  },
  {
   "cell_type": "markdown",
   "id": "abede2f8",
   "metadata": {},
   "source": [
    "## Evaluate the Model"
   ]
  },
  {
   "cell_type": "markdown",
   "id": "87e9ce47",
   "metadata": {},
   "source": [
    "### Train Set"
   ]
  },
  {
   "cell_type": "code",
   "execution_count": 16,
   "id": "301b699c",
   "metadata": {},
   "outputs": [
    {
     "name": "stdout",
     "output_type": "stream",
     "text": [
      "Starting evaluation...\n",
      "Number of test samples: 4434\n",
      "Batch size: 32\n",
      "\n",
      "f1_score: 0.4781\n",
      "auroc: 0.6680\n",
      "best_threshold: 0.2560\n",
      "confusion_matrix: [[1878 1388]\n",
      " [ 365  803]]\n",
      "recall: 0.6875\n",
      "accuracy: 0.6046\n",
      "precision: 0.3665\n"
     ]
    }
   ],
   "source": [
    "from recurrent_health_events_prediction.training.train_deep_learning_models import evaluate\n",
    "\n",
    "test_metrics, all_pred_labels, all_pred_probs, all_labels, all_attention_scores = evaluate(\n",
    "    model=model,\n",
    "    test_dataset=train_dataset,\n",
    "    batch_size=32\n",
    ")\n",
    "for key, value in test_metrics.items():\n",
    "    if isinstance(value, float):\n",
    "        print(f\"{key}: {value:.4f}\")\n",
    "    else:\n",
    "        print(f\"{key}: {value}\")"
   ]
  },
  {
   "cell_type": "markdown",
   "id": "4c9d2d29",
   "metadata": {},
   "source": [
    "### Test Set Evaluation"
   ]
  },
  {
   "cell_type": "markdown",
   "id": "ba76af16",
   "metadata": {},
   "source": [
    "#### All Events"
   ]
  },
  {
   "cell_type": "code",
   "execution_count": 17,
   "id": "7dde5ec6",
   "metadata": {},
   "outputs": [
    {
     "name": "stdout",
     "output_type": "stream",
     "text": [
      "Starting evaluation...\n",
      "Number of test samples: 1085\n",
      "Batch size: 32\n",
      "\n",
      "f1_score: 0.4194\n",
      "auroc: 0.5869\n",
      "best_threshold: 0.1789\n",
      "confusion_matrix: [[207 599]\n",
      " [ 46 233]]\n",
      "recall: 0.8351\n",
      "accuracy: 0.4055\n",
      "precision: 0.2800\n"
     ]
    }
   ],
   "source": [
    "from recurrent_health_events_prediction.training.train_deep_learning_models import evaluate\n",
    "\n",
    "test_metrics, all_pred_labels, all_pred_probs, all_labels, all_attention_scores = evaluate(\n",
    "    model=model,\n",
    "    test_dataset=test_dataset,\n",
    "    batch_size=32\n",
    ")\n",
    "for key, value in test_metrics.items():\n",
    "    if isinstance(value, float):\n",
    "        print(f\"{key}: {value:.4f}\")\n",
    "    else:\n",
    "        print(f\"{key}: {value}\")"
   ]
  },
  {
   "cell_type": "markdown",
   "id": "05bff89c",
   "metadata": {},
   "source": [
    "#### Last Events"
   ]
  },
  {
   "cell_type": "code",
   "execution_count": 18,
   "id": "0a415590",
   "metadata": {},
   "outputs": [
    {
     "name": "stdout",
     "output_type": "stream",
     "text": [
      "Starting evaluation...\n",
      "Number of test samples: 353\n",
      "Batch size: 32\n",
      "\n",
      "f1_score: 0.4286\n",
      "auroc: 0.6010\n",
      "best_threshold: 0.1830\n",
      "confusion_matrix: [[ 56 206]\n",
      " [ 10  81]]\n",
      "recall: 0.8901\n",
      "accuracy: 0.3881\n",
      "precision: 0.2822\n"
     ]
    }
   ],
   "source": [
    "test_metrics_last_events, all_pred_labels, all_pred_probs, all_labels, all_attention_scores = evaluate(\n",
    "    model=model,\n",
    "    test_dataset=last_events_test_dataset,\n",
    "    batch_size=32\n",
    ")\n",
    "for key, value in test_metrics_last_events.items():\n",
    "    if isinstance(value, float):\n",
    "        print(f\"{key}: {value:.4f}\")\n",
    "    else:\n",
    "        print(f\"{key}: {value}\")"
   ]
  },
  {
   "cell_type": "code",
   "execution_count": 19,
   "id": "1de22ddd",
   "metadata": {},
   "outputs": [],
   "source": [
    "test_pred_df = pd.DataFrame({\n",
    "    \"true_label\": all_labels,\n",
    "    \"pred_label\": all_pred_labels,\n",
    "    \"pred_prob\": all_pred_probs\n",
    "})\n",
    "\n",
    "test_pred_df.to_csv(os.path.join(save_results_dir, \"test_predictions.csv\"), index=False)"
   ]
  },
  {
   "cell_type": "code",
   "execution_count": 20,
   "id": "2d3b6b5f",
   "metadata": {},
   "outputs": [
    {
     "data": {
      "application/vnd.plotly.v1+json": {
       "config": {
        "plotlyServerURL": "https://plot.ly"
       },
       "data": [
        {
         "bingroup": "x",
         "hovertemplate": "True Label=0.0<br>Predicted Probability=%{x}<br>count=%{y}<extra></extra>",
         "legendgroup": "0.0",
         "marker": {
          "color": "#636efa",
          "opacity": 0.5,
          "pattern": {
           "shape": ""
          }
         },
         "name": "0.0",
         "nbinsx": 50,
         "orientation": "v",
         "showlegend": true,
         "type": "histogram",
         "x": {
          "bdata": "B2aDPrrHkD4krpE+MsiwPXCHZj7OVzw+DUYTP1tSLj4a+jo+q9GFPn47iT6izqk+iKNAPtUPgz4ejus+FMJ7Pmp72D4UUpE+/V4IPiAjlz5668s+C5f0PZVAsT51ZRQ+U0KePvxjUT4ZdJk+FFd/PiXG3z1fUBU+R2OJPiII3T6iFXE++fiiPgebyT7b5as+TuGLPikZVD6HKYY+SR2gPV/Q5T75nnM+AWG0Pi4crT4+mqA+GYgwPrJDRD7xvGQ+ZHCnPvForj7DrCI+Y1KnPmR3DT8qURQ+JDE5PrzcPz5QfkE+G1y4Pqtz5z2nt/496tR9Pizppz54ECU+SltaPonVeT5T3tQ+/FFlPgv5IT5ft10+70qIPotzcj7Pth4+SsrMPr9Iij7NhME+tAcxPkRi0z7tFac+1eYjPh3khz43CYI+dilrPto2KT4cXIA+Lh2MPp2ORz5LQjo+VT2vPqOnlT6tiJs+7DXHPpWKMz5ttb0+MGKSPuZywj6DOrk+IpsIP593+z1PPeg9RF+WPussoz6LZ6s+Iy7kPgFDVT5EmKE+2KGAPvVhrj7VHYk+FmfLPvT9Vz6CBcM+1wMfPhFnoj6Uxms+u1GJPu//yz4jqDM+THFZPtlh1D5pnSI+4Fo2PtWBbz7MXaI+JpdOPl0Dnz5dO1E+zpkCPqCJez6Et94++rTzPjNy4z76jB0+iIKKPkKXUD76STA+vmUuPtFX0z7A8gs/ixpzPluNZj5XJX8+EAU6PvVkaj7O/1M+O1auPT3b+D7xSJw+RJCHPptimD4SPfM9dYUtPtn0qz52wU0+gheEPspGSD4BRxY+l5FsPha1Cz9AnGk+eQePPigjDD9/Osc9GjyXPnNTgz5rAqY+KKWIPjrrvz6/bqI+h5uKPv98jz65kno+xTK8PnjwZz6RTbU+KCLxPr5WnD4D5hk+Z0r/PUaczT2Ye48+DOiPPqP7yT6DpLc+VBX+PqI+jj6gQYc+9BJJPvIUqj6aDtI+kcC4Pol+DD5Tstw+UjazPRrKrD50W5U+vOwmPv1wqD7CeT4+iSBdPlDGHz5TCIc+E0KmPuFAiD5Qxwc/CllvPs8tuj5vWys+hU6pPjbBnT42a6s+nKC+PdgRKj5MsbM+A/jDPjHs7T4+gSs+nmp8Pu48KT6JR0c+fBVwPu8cvD5oKL0+s/TyPhFYrD5Bb4c+aFGnPhO5oj46toI+iYuXPmCRTj7Lom4+h9upPnucKT5P+AM/R/QyPtXP2T6ckFc+JMQHP37r7D44VCg+rFtyPppY/T6tE4I++sDEPrkagj49k6E+StHdPpnKzj4SL44+kMWKPqhVET6k8qo+yMnQPoB6uT4Hw5E+zIedPt8d2D4scwo+S59vPuIm2j4C1ko+xT7pPg==",
          "dtype": "f4"
         },
         "xaxis": "x",
         "yaxis": "y"
        },
        {
         "bingroup": "x",
         "hovertemplate": "True Label=1.0<br>Predicted Probability=%{x}<br>count=%{y}<extra></extra>",
         "legendgroup": "1.0",
         "marker": {
          "color": "#EF553B",
          "opacity": 0.5,
          "pattern": {
           "shape": ""
          }
         },
         "name": "1.0",
         "nbinsx": 50,
         "orientation": "v",
         "showlegend": true,
         "type": "histogram",
         "x": {
          "bdata": "F0toPmIWzT4wse8+crCrPv5zBD+Fhi4+OBsMPxiTrT3NcKA9/rKgPjvXgD4q4eQ+bgqUPtzDCj+BaZE+lXyPPp+2Cj/43sY+iN9yPiNsRD5b7ow+X4OVPhD+vT5j2rA+ArACP/2NsT5lOSQ+MRMWP6bNyT7G5Iw+GaRRPt780j5Xv2g+/WD6PpdpSj6k3b4+cWqiPk7//j4ppVA+uuRBPp1TET4QgG4+QOm/PmLvWj4hsNw+52fNPvVePT7iRpk+U837PR40Ej6HQtM+bHq3PiD6cD74VAg/Y4CqPmPszj5nQ6E+9DNIPulG2T5/TVk+RSjpPmHCPD5yonw+xJLaPhzK0j78LLk+8aF0PqqaNz5dLsU+bw0fPq4vwj5HxFs+WLAyP3o9vj47/5U+TMqrPmPNWj4nJpE+FXCOPovCtD4/0Os+Bny3PvnZ5j49kbk+DOOZPjCRjj55v5s+2oq3Pl20LD7ik04+40a1Pg==",
          "dtype": "f4"
         },
         "xaxis": "x",
         "yaxis": "y"
        }
       ],
       "layout": {
        "barmode": "overlay",
        "height": 400,
        "legend": {
         "title": {
          "text": "True Label"
         },
         "tracegroupgap": 0
        },
        "template": {
         "data": {
          "bar": [
           {
            "error_x": {
             "color": "#2a3f5f"
            },
            "error_y": {
             "color": "#2a3f5f"
            },
            "marker": {
             "line": {
              "color": "white",
              "width": 0.5
             },
             "pattern": {
              "fillmode": "overlay",
              "size": 10,
              "solidity": 0.2
             }
            },
            "type": "bar"
           }
          ],
          "barpolar": [
           {
            "marker": {
             "line": {
              "color": "white",
              "width": 0.5
             },
             "pattern": {
              "fillmode": "overlay",
              "size": 10,
              "solidity": 0.2
             }
            },
            "type": "barpolar"
           }
          ],
          "carpet": [
           {
            "aaxis": {
             "endlinecolor": "#2a3f5f",
             "gridcolor": "#C8D4E3",
             "linecolor": "#C8D4E3",
             "minorgridcolor": "#C8D4E3",
             "startlinecolor": "#2a3f5f"
            },
            "baxis": {
             "endlinecolor": "#2a3f5f",
             "gridcolor": "#C8D4E3",
             "linecolor": "#C8D4E3",
             "minorgridcolor": "#C8D4E3",
             "startlinecolor": "#2a3f5f"
            },
            "type": "carpet"
           }
          ],
          "choropleth": [
           {
            "colorbar": {
             "outlinewidth": 0,
             "ticks": ""
            },
            "type": "choropleth"
           }
          ],
          "contour": [
           {
            "colorbar": {
             "outlinewidth": 0,
             "ticks": ""
            },
            "colorscale": [
             [
              0,
              "#0d0887"
             ],
             [
              0.1111111111111111,
              "#46039f"
             ],
             [
              0.2222222222222222,
              "#7201a8"
             ],
             [
              0.3333333333333333,
              "#9c179e"
             ],
             [
              0.4444444444444444,
              "#bd3786"
             ],
             [
              0.5555555555555556,
              "#d8576b"
             ],
             [
              0.6666666666666666,
              "#ed7953"
             ],
             [
              0.7777777777777778,
              "#fb9f3a"
             ],
             [
              0.8888888888888888,
              "#fdca26"
             ],
             [
              1,
              "#f0f921"
             ]
            ],
            "type": "contour"
           }
          ],
          "contourcarpet": [
           {
            "colorbar": {
             "outlinewidth": 0,
             "ticks": ""
            },
            "type": "contourcarpet"
           }
          ],
          "heatmap": [
           {
            "colorbar": {
             "outlinewidth": 0,
             "ticks": ""
            },
            "colorscale": [
             [
              0,
              "#0d0887"
             ],
             [
              0.1111111111111111,
              "#46039f"
             ],
             [
              0.2222222222222222,
              "#7201a8"
             ],
             [
              0.3333333333333333,
              "#9c179e"
             ],
             [
              0.4444444444444444,
              "#bd3786"
             ],
             [
              0.5555555555555556,
              "#d8576b"
             ],
             [
              0.6666666666666666,
              "#ed7953"
             ],
             [
              0.7777777777777778,
              "#fb9f3a"
             ],
             [
              0.8888888888888888,
              "#fdca26"
             ],
             [
              1,
              "#f0f921"
             ]
            ],
            "type": "heatmap"
           }
          ],
          "histogram": [
           {
            "marker": {
             "pattern": {
              "fillmode": "overlay",
              "size": 10,
              "solidity": 0.2
             }
            },
            "type": "histogram"
           }
          ],
          "histogram2d": [
           {
            "colorbar": {
             "outlinewidth": 0,
             "ticks": ""
            },
            "colorscale": [
             [
              0,
              "#0d0887"
             ],
             [
              0.1111111111111111,
              "#46039f"
             ],
             [
              0.2222222222222222,
              "#7201a8"
             ],
             [
              0.3333333333333333,
              "#9c179e"
             ],
             [
              0.4444444444444444,
              "#bd3786"
             ],
             [
              0.5555555555555556,
              "#d8576b"
             ],
             [
              0.6666666666666666,
              "#ed7953"
             ],
             [
              0.7777777777777778,
              "#fb9f3a"
             ],
             [
              0.8888888888888888,
              "#fdca26"
             ],
             [
              1,
              "#f0f921"
             ]
            ],
            "type": "histogram2d"
           }
          ],
          "histogram2dcontour": [
           {
            "colorbar": {
             "outlinewidth": 0,
             "ticks": ""
            },
            "colorscale": [
             [
              0,
              "#0d0887"
             ],
             [
              0.1111111111111111,
              "#46039f"
             ],
             [
              0.2222222222222222,
              "#7201a8"
             ],
             [
              0.3333333333333333,
              "#9c179e"
             ],
             [
              0.4444444444444444,
              "#bd3786"
             ],
             [
              0.5555555555555556,
              "#d8576b"
             ],
             [
              0.6666666666666666,
              "#ed7953"
             ],
             [
              0.7777777777777778,
              "#fb9f3a"
             ],
             [
              0.8888888888888888,
              "#fdca26"
             ],
             [
              1,
              "#f0f921"
             ]
            ],
            "type": "histogram2dcontour"
           }
          ],
          "mesh3d": [
           {
            "colorbar": {
             "outlinewidth": 0,
             "ticks": ""
            },
            "type": "mesh3d"
           }
          ],
          "parcoords": [
           {
            "line": {
             "colorbar": {
              "outlinewidth": 0,
              "ticks": ""
             }
            },
            "type": "parcoords"
           }
          ],
          "pie": [
           {
            "automargin": true,
            "type": "pie"
           }
          ],
          "scatter": [
           {
            "fillpattern": {
             "fillmode": "overlay",
             "size": 10,
             "solidity": 0.2
            },
            "type": "scatter"
           }
          ],
          "scatter3d": [
           {
            "line": {
             "colorbar": {
              "outlinewidth": 0,
              "ticks": ""
             }
            },
            "marker": {
             "colorbar": {
              "outlinewidth": 0,
              "ticks": ""
             }
            },
            "type": "scatter3d"
           }
          ],
          "scattercarpet": [
           {
            "marker": {
             "colorbar": {
              "outlinewidth": 0,
              "ticks": ""
             }
            },
            "type": "scattercarpet"
           }
          ],
          "scattergeo": [
           {
            "marker": {
             "colorbar": {
              "outlinewidth": 0,
              "ticks": ""
             }
            },
            "type": "scattergeo"
           }
          ],
          "scattergl": [
           {
            "marker": {
             "colorbar": {
              "outlinewidth": 0,
              "ticks": ""
             }
            },
            "type": "scattergl"
           }
          ],
          "scattermap": [
           {
            "marker": {
             "colorbar": {
              "outlinewidth": 0,
              "ticks": ""
             }
            },
            "type": "scattermap"
           }
          ],
          "scattermapbox": [
           {
            "marker": {
             "colorbar": {
              "outlinewidth": 0,
              "ticks": ""
             }
            },
            "type": "scattermapbox"
           }
          ],
          "scatterpolar": [
           {
            "marker": {
             "colorbar": {
              "outlinewidth": 0,
              "ticks": ""
             }
            },
            "type": "scatterpolar"
           }
          ],
          "scatterpolargl": [
           {
            "marker": {
             "colorbar": {
              "outlinewidth": 0,
              "ticks": ""
             }
            },
            "type": "scatterpolargl"
           }
          ],
          "scatterternary": [
           {
            "marker": {
             "colorbar": {
              "outlinewidth": 0,
              "ticks": ""
             }
            },
            "type": "scatterternary"
           }
          ],
          "surface": [
           {
            "colorbar": {
             "outlinewidth": 0,
             "ticks": ""
            },
            "colorscale": [
             [
              0,
              "#0d0887"
             ],
             [
              0.1111111111111111,
              "#46039f"
             ],
             [
              0.2222222222222222,
              "#7201a8"
             ],
             [
              0.3333333333333333,
              "#9c179e"
             ],
             [
              0.4444444444444444,
              "#bd3786"
             ],
             [
              0.5555555555555556,
              "#d8576b"
             ],
             [
              0.6666666666666666,
              "#ed7953"
             ],
             [
              0.7777777777777778,
              "#fb9f3a"
             ],
             [
              0.8888888888888888,
              "#fdca26"
             ],
             [
              1,
              "#f0f921"
             ]
            ],
            "type": "surface"
           }
          ],
          "table": [
           {
            "cells": {
             "fill": {
              "color": "#EBF0F8"
             },
             "line": {
              "color": "white"
             }
            },
            "header": {
             "fill": {
              "color": "#C8D4E3"
             },
             "line": {
              "color": "white"
             }
            },
            "type": "table"
           }
          ]
         },
         "layout": {
          "annotationdefaults": {
           "arrowcolor": "#2a3f5f",
           "arrowhead": 0,
           "arrowwidth": 1
          },
          "autotypenumbers": "strict",
          "coloraxis": {
           "colorbar": {
            "outlinewidth": 0,
            "ticks": ""
           }
          },
          "colorscale": {
           "diverging": [
            [
             0,
             "#8e0152"
            ],
            [
             0.1,
             "#c51b7d"
            ],
            [
             0.2,
             "#de77ae"
            ],
            [
             0.3,
             "#f1b6da"
            ],
            [
             0.4,
             "#fde0ef"
            ],
            [
             0.5,
             "#f7f7f7"
            ],
            [
             0.6,
             "#e6f5d0"
            ],
            [
             0.7,
             "#b8e186"
            ],
            [
             0.8,
             "#7fbc41"
            ],
            [
             0.9,
             "#4d9221"
            ],
            [
             1,
             "#276419"
            ]
           ],
           "sequential": [
            [
             0,
             "#0d0887"
            ],
            [
             0.1111111111111111,
             "#46039f"
            ],
            [
             0.2222222222222222,
             "#7201a8"
            ],
            [
             0.3333333333333333,
             "#9c179e"
            ],
            [
             0.4444444444444444,
             "#bd3786"
            ],
            [
             0.5555555555555556,
             "#d8576b"
            ],
            [
             0.6666666666666666,
             "#ed7953"
            ],
            [
             0.7777777777777778,
             "#fb9f3a"
            ],
            [
             0.8888888888888888,
             "#fdca26"
            ],
            [
             1,
             "#f0f921"
            ]
           ],
           "sequentialminus": [
            [
             0,
             "#0d0887"
            ],
            [
             0.1111111111111111,
             "#46039f"
            ],
            [
             0.2222222222222222,
             "#7201a8"
            ],
            [
             0.3333333333333333,
             "#9c179e"
            ],
            [
             0.4444444444444444,
             "#bd3786"
            ],
            [
             0.5555555555555556,
             "#d8576b"
            ],
            [
             0.6666666666666666,
             "#ed7953"
            ],
            [
             0.7777777777777778,
             "#fb9f3a"
            ],
            [
             0.8888888888888888,
             "#fdca26"
            ],
            [
             1,
             "#f0f921"
            ]
           ]
          },
          "colorway": [
           "#636efa",
           "#EF553B",
           "#00cc96",
           "#ab63fa",
           "#FFA15A",
           "#19d3f3",
           "#FF6692",
           "#B6E880",
           "#FF97FF",
           "#FECB52"
          ],
          "font": {
           "color": "#2a3f5f"
          },
          "geo": {
           "bgcolor": "white",
           "lakecolor": "white",
           "landcolor": "white",
           "showlakes": true,
           "showland": true,
           "subunitcolor": "#C8D4E3"
          },
          "hoverlabel": {
           "align": "left"
          },
          "hovermode": "closest",
          "mapbox": {
           "style": "light"
          },
          "paper_bgcolor": "white",
          "plot_bgcolor": "white",
          "polar": {
           "angularaxis": {
            "gridcolor": "#EBF0F8",
            "linecolor": "#EBF0F8",
            "ticks": ""
           },
           "bgcolor": "white",
           "radialaxis": {
            "gridcolor": "#EBF0F8",
            "linecolor": "#EBF0F8",
            "ticks": ""
           }
          },
          "scene": {
           "xaxis": {
            "backgroundcolor": "white",
            "gridcolor": "#DFE8F3",
            "gridwidth": 2,
            "linecolor": "#EBF0F8",
            "showbackground": true,
            "ticks": "",
            "zerolinecolor": "#EBF0F8"
           },
           "yaxis": {
            "backgroundcolor": "white",
            "gridcolor": "#DFE8F3",
            "gridwidth": 2,
            "linecolor": "#EBF0F8",
            "showbackground": true,
            "ticks": "",
            "zerolinecolor": "#EBF0F8"
           },
           "zaxis": {
            "backgroundcolor": "white",
            "gridcolor": "#DFE8F3",
            "gridwidth": 2,
            "linecolor": "#EBF0F8",
            "showbackground": true,
            "ticks": "",
            "zerolinecolor": "#EBF0F8"
           }
          },
          "shapedefaults": {
           "line": {
            "color": "#2a3f5f"
           }
          },
          "ternary": {
           "aaxis": {
            "gridcolor": "#DFE8F3",
            "linecolor": "#A2B1C6",
            "ticks": ""
           },
           "baxis": {
            "gridcolor": "#DFE8F3",
            "linecolor": "#A2B1C6",
            "ticks": ""
           },
           "bgcolor": "white",
           "caxis": {
            "gridcolor": "#DFE8F3",
            "linecolor": "#A2B1C6",
            "ticks": ""
           }
          },
          "title": {
           "x": 0.05
          },
          "xaxis": {
           "automargin": true,
           "gridcolor": "#EBF0F8",
           "linecolor": "#EBF0F8",
           "ticks": "",
           "title": {
            "standoff": 15
           },
           "zerolinecolor": "#EBF0F8",
           "zerolinewidth": 2
          },
          "yaxis": {
           "automargin": true,
           "gridcolor": "#EBF0F8",
           "linecolor": "#EBF0F8",
           "ticks": "",
           "title": {
            "standoff": 15
           },
           "zerolinecolor": "#EBF0F8",
           "zerolinewidth": 2
          }
         }
        },
        "title": {
         "text": "Histogram of Predicted Probabilities by True Labels"
        },
        "width": 800,
        "xaxis": {
         "anchor": "y",
         "domain": [
          0,
          1
         ],
         "title": {
          "text": "Predicted Probability"
         }
        },
        "yaxis": {
         "anchor": "x",
         "domain": [
          0,
          1
         ],
         "title": {
          "text": "count"
         }
        }
       }
      }
     },
     "metadata": {},
     "output_type": "display_data"
    }
   ],
   "source": [
    "from recurrent_health_events_prediction.training.utils import plot_pred_proba_distribution\n",
    "\n",
    "plot_pred_proba_distribution(test_pred_df[\"true_label\"], test_pred_df[\"pred_prob\"], show_plot=False)"
   ]
  },
  {
   "cell_type": "code",
   "execution_count": 21,
   "id": "f24456ff",
   "metadata": {},
   "outputs": [
    {
     "data": {
      "image/png": "[encoded data removed]",
      "text/plain": [
       "<Figure size 640x480 with 2 Axes>"
      ]
     },
     "execution_count": 21,
     "metadata": {},
     "output_type": "execute_result"
    }
   ],
   "source": [
    "from recurrent_health_events_prediction.training.utils import plot_confusion_matrix\n",
    "\n",
    "class_names=training_data_config[\"class_names\"]\n",
    "plot_confusion_matrix(test_metrics[\"confusion_matrix\"], class_names)"
   ]
  },
  {
   "cell_type": "markdown",
   "id": "842a97b9",
   "metadata": {},
   "source": [
    "### Inspect Visit-Level Attention Scores"
   ]
  },
  {
   "cell_type": "code",
   "execution_count": 22,
   "id": "be863308",
   "metadata": {},
   "outputs": [
    {
     "data": {
      "text/plain": [
       "array([[1.        , 0.        , 0.        , 0.        ],\n",
       "       [0.2665479 , 0.2763644 , 0.27937517, 0.17771254],\n",
       "       [1.        , 0.        , 0.        , 0.        ],\n",
       "       [0.41978684, 0.5802131 , 0.        , 0.        ],\n",
       "       [1.        , 0.        , 0.        , 0.        ]], dtype=float32)"
      ]
     },
     "execution_count": 22,
     "metadata": {},
     "output_type": "execute_result"
    }
   ],
   "source": [
    "all_attention_scores[:5]"
   ]
  },
  {
   "cell_type": "code",
   "execution_count": 23,
   "id": "95eb4f3b",
   "metadata": {},
   "outputs": [
    {
     "name": "stdout",
     "output_type": "stream",
     "text": [
      "Subject ID: 188\n",
      "True label: 0.0\n",
      "Sample:  {'x_past': array([[-1.0555028 , -0.7492469 , -0.7857893 ,  0.2227712 ,  0.        ,\n",
      "         0.4901109 ],\n",
      "       [-1.0806242 , -0.7563539 , -1.1861616 , -0.14946435,  0.        ,\n",
      "         1.3516698 ],\n",
      "       [-1.2311238 , -0.90875703,  0.01495548, -0.14946435,  0.        ,\n",
      "        -0.6844576 ],\n",
      "       [ 0.05863306,  0.09426811,  0.81570023,  0.42204636,  0.        ,\n",
      "         0.2745275 ]], dtype=float32), 'x_current': array([ 0.39608583,  0.01495548,  0.54742897,  1.7320479 ,  0.        ,\n",
      "        1.1941806 , -0.27902013,  1.        ,  0.        ,  1.        ],\n",
      "      dtype=float32), 'mask_past': array([ True,  True,  True,  True]), 'y': 0.0, 'subject_id': 188, 'seq_len': 4, 't_index': 6}\n"
     ]
    }
   ],
   "source": [
    "idx = 1  # index of the sample to inspect\n",
    "selected_sample = last_events_test_dataset.samples[idx]\n",
    "subject_id = selected_sample['subject_id']\n",
    "print(\"Subject ID:\", subject_id)\n",
    "print(\"True label:\", selected_sample['y'])\n",
    "print(\"Sample: \", selected_sample)"
   ]
  },
  {
   "cell_type": "code",
   "execution_count": 24,
   "id": "a405c0bf",
   "metadata": {},
   "outputs": [
    {
     "data": {
      "text/plain": [
       "['LOG_HOSPITALIZATION_DAYS',\n",
       " 'LOG_DAYS_IN_ICU',\n",
       " 'CHARLSON_INDEX',\n",
       " 'LOG_NUM_DRUGS',\n",
       " 'DISCHARGE_LOCATION_POST_ACUTE_CARE',\n",
       " 'LOG_DAYS_UNTIL_NEXT_HOSPITALIZATION']"
      ]
     },
     "execution_count": 24,
     "metadata": {},
     "output_type": "execute_result"
    }
   ],
   "source": [
    "long_feat_cols = model_config['longitudinal_feat_cols']\n",
    "long_feat_cols"
   ]
  },
  {
   "cell_type": "code",
   "execution_count": 25,
   "id": "e42f3e10",
   "metadata": {},
   "outputs": [
    {
     "data": {
      "application/vnd.microsoft.datawrangler.viewer.v0+json": {
       "columns": [
        {
         "name": "index",
         "rawType": "int64",
         "type": "integer"
        },
        {
         "name": "HADM_ID",
         "rawType": "int64",
         "type": "integer"
        },
        {
         "name": "ADMITTIME",
         "rawType": "object",
         "type": "string"
        },
        {
         "name": "LOG_HOSPITALIZATION_DAYS",
         "rawType": "float64",
         "type": "float"
        },
        {
         "name": "LOG_DAYS_IN_ICU",
         "rawType": "float64",
         "type": "float"
        },
        {
         "name": "CHARLSON_INDEX",
         "rawType": "float64",
         "type": "float"
        },
        {
         "name": "LOG_NUM_DRUGS",
         "rawType": "float64",
         "type": "float"
        },
        {
         "name": "DISCHARGE_LOCATION_POST_ACUTE_CARE",
         "rawType": "bool",
         "type": "boolean"
        },
        {
         "name": "LOG_DAYS_UNTIL_NEXT_HOSPITALIZATION",
         "rawType": "float64",
         "type": "float"
        }
       ],
       "ref": "99300d48-e9c4-400d-9477-ed008801427b",
       "rows": [
        [
         "5",
         "191517",
         "2157-03-07 11:08:00",
         "-1.0555028273632074",
         "-0.7492468716429345",
         "-0.785789283766125",
         "0.2227711998281416",
         "False",
         "0.4901109139756831"
        ],
        [
         "6",
         "150463",
         "2157-11-17 12:11:00",
         "-1.0806242304202571",
         "-0.7563539114461506",
         "-1.1861616652448352",
         "-0.1494643592862916",
         "False",
         "1.3516697503699453"
        ],
        [
         "7",
         "192557",
         "2160-11-25 21:55:00",
         "-1.2311238421140704",
         "-0.9087570198972732",
         "0.0149554791912956",
         "-0.1494643592862916",
         "False",
         "-0.6844575796358969"
        ],
        [
         "8",
         "123860",
         "2160-12-31 12:34:00",
         "0.0586330548304217",
         "0.0942681054397797",
         "0.8157002421487162",
         "0.4220463676671124",
         "False",
         "0.2745274864317478"
        ],
        [
         "9",
         "164735",
         "2161-07-01 19:44:00",
         "0.1587922339357561",
         "0.3960858205411794",
         "0.0149554791912956",
         "0.5474289705535147",
         "False",
         "0.0283514512494997"
        ]
       ],
       "shape": {
        "columns": 8,
        "rows": 5
       }
      },
      "text/html": [
       "<div>\n",
       "<style scoped>\n",
       "    .dataframe tbody tr th:only-of-type {\n",
       "        vertical-align: middle;\n",
       "    }\n",
       "\n",
       "    .dataframe tbody tr th {\n",
       "        vertical-align: top;\n",
       "    }\n",
       "\n",
       "    .dataframe thead th {\n",
       "        text-align: right;\n",
       "    }\n",
       "</style>\n",
       "<table border=\"1\" class=\"dataframe\">\n",
       "  <thead>\n",
       "    <tr style=\"text-align: right;\">\n",
       "      <th></th>\n",
       "      <th>HADM_ID</th>\n",
       "      <th>ADMITTIME</th>\n",
       "      <th>LOG_HOSPITALIZATION_DAYS</th>\n",
       "      <th>LOG_DAYS_IN_ICU</th>\n",
       "      <th>CHARLSON_INDEX</th>\n",
       "      <th>LOG_NUM_DRUGS</th>\n",
       "      <th>DISCHARGE_LOCATION_POST_ACUTE_CARE</th>\n",
       "      <th>LOG_DAYS_UNTIL_NEXT_HOSPITALIZATION</th>\n",
       "    </tr>\n",
       "  </thead>\n",
       "  <tbody>\n",
       "    <tr>\n",
       "      <th>5</th>\n",
       "      <td>191517</td>\n",
       "      <td>2157-03-07 11:08:00</td>\n",
       "      <td>-1.055503</td>\n",
       "      <td>-0.749247</td>\n",
       "      <td>-0.785789</td>\n",
       "      <td>0.222771</td>\n",
       "      <td>False</td>\n",
       "      <td>0.490111</td>\n",
       "    </tr>\n",
       "    <tr>\n",
       "      <th>6</th>\n",
       "      <td>150463</td>\n",
       "      <td>2157-11-17 12:11:00</td>\n",
       "      <td>-1.080624</td>\n",
       "      <td>-0.756354</td>\n",
       "      <td>-1.186162</td>\n",
       "      <td>-0.149464</td>\n",
       "      <td>False</td>\n",
       "      <td>1.351670</td>\n",
       "    </tr>\n",
       "    <tr>\n",
       "      <th>7</th>\n",
       "      <td>192557</td>\n",
       "      <td>2160-11-25 21:55:00</td>\n",
       "      <td>-1.231124</td>\n",
       "      <td>-0.908757</td>\n",
       "      <td>0.014955</td>\n",
       "      <td>-0.149464</td>\n",
       "      <td>False</td>\n",
       "      <td>-0.684458</td>\n",
       "    </tr>\n",
       "    <tr>\n",
       "      <th>8</th>\n",
       "      <td>123860</td>\n",
       "      <td>2160-12-31 12:34:00</td>\n",
       "      <td>0.058633</td>\n",
       "      <td>0.094268</td>\n",
       "      <td>0.815700</td>\n",
       "      <td>0.422046</td>\n",
       "      <td>False</td>\n",
       "      <td>0.274527</td>\n",
       "    </tr>\n",
       "    <tr>\n",
       "      <th>9</th>\n",
       "      <td>164735</td>\n",
       "      <td>2161-07-01 19:44:00</td>\n",
       "      <td>0.158792</td>\n",
       "      <td>0.396086</td>\n",
       "      <td>0.014955</td>\n",
       "      <td>0.547429</td>\n",
       "      <td>False</td>\n",
       "      <td>0.028351</td>\n",
       "    </tr>\n",
       "  </tbody>\n",
       "</table>\n",
       "</div>"
      ],
      "text/plain": [
       "   HADM_ID            ADMITTIME  LOG_HOSPITALIZATION_DAYS  LOG_DAYS_IN_ICU  \\\n",
       "5   191517  2157-03-07 11:08:00                 -1.055503        -0.749247   \n",
       "6   150463  2157-11-17 12:11:00                 -1.080624        -0.756354   \n",
       "7   192557  2160-11-25 21:55:00                 -1.231124        -0.908757   \n",
       "8   123860  2160-12-31 12:34:00                  0.058633         0.094268   \n",
       "9   164735  2161-07-01 19:44:00                  0.158792         0.396086   \n",
       "\n",
       "   CHARLSON_INDEX  LOG_NUM_DRUGS  DISCHARGE_LOCATION_POST_ACUTE_CARE  \\\n",
       "5       -0.785789       0.222771                               False   \n",
       "6       -1.186162      -0.149464                               False   \n",
       "7        0.014955      -0.149464                               False   \n",
       "8        0.815700       0.422046                               False   \n",
       "9        0.014955       0.547429                               False   \n",
       "\n",
       "   LOG_DAYS_UNTIL_NEXT_HOSPITALIZATION  \n",
       "5                             0.490111  \n",
       "6                             1.351670  \n",
       "7                            -0.684458  \n",
       "8                             0.274527  \n",
       "9                             0.028351  "
      ]
     },
     "execution_count": 25,
     "metadata": {},
     "output_type": "execute_result"
    }
   ],
   "source": [
    "test_df.loc[test_df['SUBJECT_ID'] == subject_id, [\"HADM_ID\", \"ADMITTIME\"] + long_feat_cols].tail(5)"
   ]
  },
  {
   "cell_type": "code",
   "execution_count": 26,
   "id": "b078a5eb",
   "metadata": {},
   "outputs": [
    {
     "data": {
      "text/plain": [
       "array([0.2665479 , 0.2763644 , 0.27937517, 0.17771254], dtype=float32)"
      ]
     },
     "execution_count": 26,
     "metadata": {},
     "output_type": "execute_result"
    }
   ],
   "source": [
    "all_attention_scores[idx]"
   ]
  },
  {
   "cell_type": "code",
   "execution_count": 27,
   "id": "43228872",
   "metadata": {},
   "outputs": [
    {
     "data": {
      "text/plain": [
       "AttentionPoolingNet(\n",
       "  (proj): Linear(in_features=6, out_features=4, bias=False)\n",
       "  (classifier_head): Sequential(\n",
       "    (fc1): Linear(in_features=14, out_features=16, bias=True)\n",
       "    (relu1): ReLU()\n",
       "    (dropout1): Dropout(p=0.1, inplace=False)\n",
       "    (fc2): Linear(in_features=16, out_features=1, bias=True)\n",
       "  )\n",
       ")"
      ]
     },
     "execution_count": 27,
     "metadata": {},
     "output_type": "execute_result"
    }
   ],
   "source": [
    "model"
   ]
  }
 ],
 "metadata": {
  "kernelspec": {
   "display_name": "recurrent-health-events-prediction-nvorhdTT-py3.10",
   "language": "python",
   "name": "python3"
  },
  "language_info": {
   "codemirror_mode": {
    "name": "ipython",
    "version": 3
   },
   "file_extension": ".py",
   "mimetype": "text/x-python",
   "name": "python",
   "nbconvert_exporter": "python",
   "pygments_lexer": "ipython3",
   "version": "3.10.14"
  }
 },
 "nbformat": 4,
 "nbformat_minor": 5
}
