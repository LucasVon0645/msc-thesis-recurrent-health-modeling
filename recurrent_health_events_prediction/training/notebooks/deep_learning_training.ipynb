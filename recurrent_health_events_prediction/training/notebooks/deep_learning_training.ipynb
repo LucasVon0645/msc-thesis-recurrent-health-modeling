{
 "cells": [
  {
   "cell_type": "markdown",
   "id": "9b33f1ff",
   "metadata": {},
   "source": [
    "# Train and Evaluate Deep Learning Models for MIMIC Dataset"
   ]
  },
  {
   "cell_type": "code",
   "execution_count": 1,
   "id": "6a643448",
   "metadata": {},
   "outputs": [],
   "source": [
    "from importlib import resources as impresources\n",
    "import os\n",
    "\n",
    "import torch\n",
    "\n",
    "from recurrent_health_events_prediction.utils.general_utils import import_yaml_config\n",
    "from recurrent_health_events_prediction import configs\n",
    "\n",
    "data_config = import_yaml_config(\n",
    "    impresources.files(configs) / \"data_config.yaml\"\n",
    ")\n",
    "\n",
    "training_data_config = data_config['training_data'][\"mimic\"]\n",
    "data_directory = training_data_config['data_directory']\n",
    "\n",
    "OVERWRITE_PREPROCESSED = True"
   ]
  },
  {
   "cell_type": "code",
   "execution_count": 2,
   "id": "63868b12",
   "metadata": {},
   "outputs": [
    {
     "name": "stdout",
     "output_type": "stream",
     "text": [
      "Train and test data directory: /workspaces/msc-thesis-recurrent-health-modeling/data/mimic-iii-preprocessed/copd_hf_renal_diabetes/mimic_cleaned_v2\n"
     ]
    }
   ],
   "source": [
    "print(\"Train and test data directory:\", data_directory)"
   ]
  },
  {
   "cell_type": "code",
   "execution_count": 4,
   "id": "47d49738",
   "metadata": {},
   "outputs": [
    {
     "name": "stdout",
     "output_type": "stream",
     "text": [
      "model_config_dir_path: /workspaces/msc-thesis-recurrent-health-modeling/_models/mimic/deep_learning/gru_duration_aware\n",
      "model_class: GRUNet\n",
      "max_sequence_length: 4\n",
      "reverse_chronological_order: False\n",
      "longitudinal_feat_cols: ['LOG_HOSPITALIZATION_DAYS', 'LOG_DAYS_IN_ICU', 'CHARLSON_INDEX', 'NUM_PROCEDURES', 'LOG_NUM_DRUGS', 'DISCHARGE_LOCATION_POST_ACUTE_CARE', 'LOG_DAYS_UNTIL_NEXT_HOSPITALIZATION']\n",
      "current_feat_cols: ['LOG_HOSPITALIZATION_DAYS', 'LOG_DAYS_IN_ICU', 'CHARLSON_INDEX', 'NUM_PROCEDURES', 'LOG_NUM_DRUGS', 'DISCHARGE_LOCATION_POST_ACUTE_CARE', 'ADMISSION_TYPE_ELECTIVE', 'PARTICIPATION_DAYS', 'AGE', 'INSURANCE_MEDICARE', 'INSURANCE_PRIVATE', 'ETHNICITY_WHITE', 'ETHNICITY_BLACK']\n",
      "batch_size: 64\n",
      "num_epochs: 50\n",
      "learning_rate: 0.001\n",
      "model_params: {'input_size_curr': 13, 'hidden_size_head': 32, 'input_size_seq': 7, 'hidden_size_seq': 16, 'num_layers_seq': 1, 'dropout': 0.2}\n"
     ]
    }
   ],
   "source": [
    "model_name = \"gru_duration_aware\"\n",
    "model_config_path =f\"/workspaces/msc-thesis-recurrent-health-modeling/_models/mimic/deep_learning/{model_name}/{model_name}_config.yaml\"\n",
    " \n",
    "model_config = import_yaml_config(model_config_path)\n",
    "for key, value in model_config.items():\n",
    "    print(f\"{key}: {value}\")\n",
    "\n",
    "model_params_dict = model_config['model_params']\n",
    "assert model_params_dict['input_size_curr'] == len(model_config['current_feat_cols'])\n",
    "assert model_params_dict['input_size_seq'] == len(model_config['longitudinal_feat_cols'])"
   ]
  },
  {
   "cell_type": "code",
   "execution_count": 6,
   "id": "7aba0769",
   "metadata": {},
   "outputs": [
    {
     "name": "stdout",
     "output_type": "stream",
     "text": [
      "Preprocessed data created.\n"
     ]
    }
   ],
   "source": [
    "# Load and preprocess data\n",
    "train_df_path = os.path.join(data_directory, \"train_events_preprocessed.csv\")\n",
    "test_df_path = os.path.join(data_directory, \"test_events_preprocessed.csv\")\n",
    "if not os.path.exists(train_df_path) or not os.path.exists(test_df_path) or OVERWRITE_PREPROCESSED:\n",
    "    from recurrent_health_events_prediction.training.train_deep_learning_models import create_preprocessed_data\n",
    "    train_df_path, test_df_path = create_preprocessed_data(data_directory, training_data_config)\n",
    "    print(\"Preprocessed data created.\")\n",
    "else:\n",
    "    print(\"Using existing preprocessed data.\")"
   ]
  },
  {
   "cell_type": "markdown",
   "id": "fc3283af",
   "metadata": {},
   "source": [
    "## Inspect Train Data"
   ]
  },
  {
   "cell_type": "code",
   "execution_count": 7,
   "id": "c48d32ae",
   "metadata": {},
   "outputs": [
    {
     "data": {
      "application/vnd.microsoft.datawrangler.viewer.v0+json": {
       "columns": [
        {
         "name": "index",
         "rawType": "object",
         "type": "string"
        },
        {
         "name": "LOG_HOSPITALIZATION_DAYS",
         "rawType": "float64",
         "type": "float"
        },
        {
         "name": "LOG_DAYS_IN_ICU",
         "rawType": "float64",
         "type": "float"
        },
        {
         "name": "CHARLSON_INDEX",
         "rawType": "float64",
         "type": "float"
        },
        {
         "name": "NUM_PROCEDURES",
         "rawType": "float64",
         "type": "float"
        },
        {
         "name": "LOG_NUM_DRUGS",
         "rawType": "float64",
         "type": "float"
        },
        {
         "name": "PARTICIPATION_DAYS",
         "rawType": "float64",
         "type": "float"
        },
        {
         "name": "AGE",
         "rawType": "float64",
         "type": "float"
        }
       ],
       "ref": "b1d8467c-1815-4283-b103-44c5ad6f66ec",
       "rows": [
        [
         "count",
         "14069.0",
         "14069.0",
         "14069.0",
         "14069.0",
         "14069.0",
         "14069.0",
         "14069.0"
        ],
        [
         "mean",
         "-1.1312927202378453e-16",
         "-3.636298029335931e-17",
         "-4.04033114370659e-17",
         "-7.272596058671861e-17",
         "1.7777457032308996e-16",
         "3.232264914965272e-17",
         "3.636298029335931e-17"
        ],
        [
         "std",
         "1.0000355410232373",
         "1.000035541023237",
         "1.0000355410232373",
         "1.000035541023237",
         "1.0000355410232373",
         "1.0000355410232373",
         "1.0000355410232373"
        ],
        [
         "min",
         "-2.576391415465809",
         "-1.8657956793426973",
         "-2.035783087892232",
         "-1.1613821449412856",
         "-3.003269336697259",
         "-0.3751914261231639",
         "-2.745736082010574"
        ],
        [
         "25%",
         "-0.6457672883868749",
         "-0.7506508049992245",
         "-0.7893834709804063",
         "-0.8850599269006485",
         "-0.0670483439590284",
         "-0.3677265904766451",
         "-0.6042271997372916"
        ],
        [
         "50%",
         "-0.0561287188846541",
         "-0.2241725265816374",
         "0.0415496069608107",
         "-0.3324154908193746",
         "0.2655748522209884",
         "-0.3602617548301263",
         "0.1300044170421194"
        ],
        [
         "75%",
         "0.6120513209977901",
         "0.5143846958778319",
         "0.4570161459314192",
         "0.4965511633025363",
         "0.5468037574535773",
         "-0.3192051587742728",
         "0.8030500657565796"
        ],
        [
         "max",
         "4.373521801647981",
         "5.781556007245844",
         "4.611681535637504",
         "6.851962178237186",
         "1.6543145851234908",
         "7.27999752938188",
         "1.5984676506009414"
        ]
       ],
       "shape": {
        "columns": 7,
        "rows": 8
       }
      },
      "text/html": [
       "<div>\n",
       "<style scoped>\n",
       "    .dataframe tbody tr th:only-of-type {\n",
       "        vertical-align: middle;\n",
       "    }\n",
       "\n",
       "    .dataframe tbody tr th {\n",
       "        vertical-align: top;\n",
       "    }\n",
       "\n",
       "    .dataframe thead th {\n",
       "        text-align: right;\n",
       "    }\n",
       "</style>\n",
       "<table border=\"1\" class=\"dataframe\">\n",
       "  <thead>\n",
       "    <tr style=\"text-align: right;\">\n",
       "      <th></th>\n",
       "      <th>LOG_HOSPITALIZATION_DAYS</th>\n",
       "      <th>LOG_DAYS_IN_ICU</th>\n",
       "      <th>CHARLSON_INDEX</th>\n",
       "      <th>NUM_PROCEDURES</th>\n",
       "      <th>LOG_NUM_DRUGS</th>\n",
       "      <th>PARTICIPATION_DAYS</th>\n",
       "      <th>AGE</th>\n",
       "    </tr>\n",
       "  </thead>\n",
       "  <tbody>\n",
       "    <tr>\n",
       "      <th>count</th>\n",
       "      <td>1.406900e+04</td>\n",
       "      <td>1.406900e+04</td>\n",
       "      <td>1.406900e+04</td>\n",
       "      <td>1.406900e+04</td>\n",
       "      <td>1.406900e+04</td>\n",
       "      <td>1.406900e+04</td>\n",
       "      <td>1.406900e+04</td>\n",
       "    </tr>\n",
       "    <tr>\n",
       "      <th>mean</th>\n",
       "      <td>-1.131293e-16</td>\n",
       "      <td>-3.636298e-17</td>\n",
       "      <td>-4.040331e-17</td>\n",
       "      <td>-7.272596e-17</td>\n",
       "      <td>1.777746e-16</td>\n",
       "      <td>3.232265e-17</td>\n",
       "      <td>3.636298e-17</td>\n",
       "    </tr>\n",
       "    <tr>\n",
       "      <th>std</th>\n",
       "      <td>1.000036e+00</td>\n",
       "      <td>1.000036e+00</td>\n",
       "      <td>1.000036e+00</td>\n",
       "      <td>1.000036e+00</td>\n",
       "      <td>1.000036e+00</td>\n",
       "      <td>1.000036e+00</td>\n",
       "      <td>1.000036e+00</td>\n",
       "    </tr>\n",
       "    <tr>\n",
       "      <th>min</th>\n",
       "      <td>-2.576391e+00</td>\n",
       "      <td>-1.865796e+00</td>\n",
       "      <td>-2.035783e+00</td>\n",
       "      <td>-1.161382e+00</td>\n",
       "      <td>-3.003269e+00</td>\n",
       "      <td>-3.751914e-01</td>\n",
       "      <td>-2.745736e+00</td>\n",
       "    </tr>\n",
       "    <tr>\n",
       "      <th>25%</th>\n",
       "      <td>-6.457673e-01</td>\n",
       "      <td>-7.506508e-01</td>\n",
       "      <td>-7.893835e-01</td>\n",
       "      <td>-8.850599e-01</td>\n",
       "      <td>-6.704834e-02</td>\n",
       "      <td>-3.677266e-01</td>\n",
       "      <td>-6.042272e-01</td>\n",
       "    </tr>\n",
       "    <tr>\n",
       "      <th>50%</th>\n",
       "      <td>-5.612872e-02</td>\n",
       "      <td>-2.241725e-01</td>\n",
       "      <td>4.154961e-02</td>\n",
       "      <td>-3.324155e-01</td>\n",
       "      <td>2.655749e-01</td>\n",
       "      <td>-3.602618e-01</td>\n",
       "      <td>1.300044e-01</td>\n",
       "    </tr>\n",
       "    <tr>\n",
       "      <th>75%</th>\n",
       "      <td>6.120513e-01</td>\n",
       "      <td>5.143847e-01</td>\n",
       "      <td>4.570161e-01</td>\n",
       "      <td>4.965512e-01</td>\n",
       "      <td>5.468038e-01</td>\n",
       "      <td>-3.192052e-01</td>\n",
       "      <td>8.030501e-01</td>\n",
       "    </tr>\n",
       "    <tr>\n",
       "      <th>max</th>\n",
       "      <td>4.373522e+00</td>\n",
       "      <td>5.781556e+00</td>\n",
       "      <td>4.611682e+00</td>\n",
       "      <td>6.851962e+00</td>\n",
       "      <td>1.654315e+00</td>\n",
       "      <td>7.279998e+00</td>\n",
       "      <td>1.598468e+00</td>\n",
       "    </tr>\n",
       "  </tbody>\n",
       "</table>\n",
       "</div>"
      ],
      "text/plain": [
       "       LOG_HOSPITALIZATION_DAYS  LOG_DAYS_IN_ICU  CHARLSON_INDEX  \\\n",
       "count              1.406900e+04     1.406900e+04    1.406900e+04   \n",
       "mean              -1.131293e-16    -3.636298e-17   -4.040331e-17   \n",
       "std                1.000036e+00     1.000036e+00    1.000036e+00   \n",
       "min               -2.576391e+00    -1.865796e+00   -2.035783e+00   \n",
       "25%               -6.457673e-01    -7.506508e-01   -7.893835e-01   \n",
       "50%               -5.612872e-02    -2.241725e-01    4.154961e-02   \n",
       "75%                6.120513e-01     5.143847e-01    4.570161e-01   \n",
       "max                4.373522e+00     5.781556e+00    4.611682e+00   \n",
       "\n",
       "       NUM_PROCEDURES  LOG_NUM_DRUGS  PARTICIPATION_DAYS           AGE  \n",
       "count    1.406900e+04   1.406900e+04        1.406900e+04  1.406900e+04  \n",
       "mean    -7.272596e-17   1.777746e-16        3.232265e-17  3.636298e-17  \n",
       "std      1.000036e+00   1.000036e+00        1.000036e+00  1.000036e+00  \n",
       "min     -1.161382e+00  -3.003269e+00       -3.751914e-01 -2.745736e+00  \n",
       "25%     -8.850599e-01  -6.704834e-02       -3.677266e-01 -6.042272e-01  \n",
       "50%     -3.324155e-01   2.655749e-01       -3.602618e-01  1.300044e-01  \n",
       "75%      4.965512e-01   5.468038e-01       -3.192052e-01  8.030501e-01  \n",
       "max      6.851962e+00   1.654315e+00        7.279998e+00  1.598468e+00  "
      ]
     },
     "execution_count": 7,
     "metadata": {},
     "output_type": "execute_result"
    }
   ],
   "source": [
    "import pandas as pd\n",
    "\n",
    "train_df = pd.read_csv(train_df_path)\n",
    "\n",
    "train_df[model_config['current_feat_cols']].describe()"
   ]
  },
  {
   "cell_type": "code",
   "execution_count": 10,
   "id": "3b5bcf49",
   "metadata": {},
   "outputs": [
    {
     "data": {
      "application/vnd.microsoft.datawrangler.viewer.v0+json": {
       "columns": [
        {
         "name": "index",
         "rawType": "object",
         "type": "string"
        },
        {
         "name": "LOG_HOSPITALIZATION_DAYS",
         "rawType": "float64",
         "type": "float"
        },
        {
         "name": "LOG_DAYS_IN_ICU",
         "rawType": "float64",
         "type": "float"
        },
        {
         "name": "CHARLSON_INDEX",
         "rawType": "float64",
         "type": "float"
        },
        {
         "name": "NUM_PROCEDURES",
         "rawType": "float64",
         "type": "float"
        },
        {
         "name": "LOG_NUM_DRUGS",
         "rawType": "float64",
         "type": "float"
        },
        {
         "name": "LOG_DAYS_UNTIL_NEXT_HOSPITALIZATION",
         "rawType": "float64",
         "type": "float"
        }
       ],
       "ref": "ecd0bb4b-9a0f-4f9f-9732-17d540da9c29",
       "rows": [
        [
         "count",
         "14069.0",
         "14069.0",
         "14069.0",
         "14069.0",
         "14069.0",
         "7236.0"
        ],
        [
         "mean",
         "-1.1312927202378453e-16",
         "-3.636298029335931e-17",
         "-4.04033114370659e-17",
         "-7.272596058671861e-17",
         "1.7777457032308996e-16",
         "-1.0997897513146935e-16"
        ],
        [
         "std",
         "1.0000355410232373",
         "1.000035541023237",
         "1.0000355410232373",
         "1.000035541023237",
         "1.0000355410232373",
         "1.000069106112518"
        ],
        [
         "min",
         "-2.576391415465809",
         "-1.8657956793426973",
         "-2.035783087892232",
         "-1.1613821449412856",
         "-3.003269336697259",
         "-2.3092232758278137"
        ],
        [
         "25%",
         "-0.6457672883868749",
         "-0.7506508049992245",
         "-0.7893834709804063",
         "-0.8850599269006485",
         "-0.0670483439590284",
         "-0.749905030644165"
        ],
        [
         "50%",
         "-0.0561287188846541",
         "-0.2241725265816374",
         "0.0415496069608107",
         "-0.3324154908193746",
         "0.2655748522209884",
         "0.06372261160363185"
        ],
        [
         "75%",
         "0.6120513209977901",
         "0.5143846958778319",
         "0.4570161459314192",
         "0.4965511633025363",
         "0.5468037574535773",
         "0.8197050365413059"
        ],
        [
         "max",
         "4.373521801647981",
         "5.781556007245844",
         "4.611681535637504",
         "6.851962178237186",
         "1.6543145851234908",
         "1.9336334616845945"
        ]
       ],
       "shape": {
        "columns": 6,
        "rows": 8
       }
      },
      "text/html": [
       "<div>\n",
       "<style scoped>\n",
       "    .dataframe tbody tr th:only-of-type {\n",
       "        vertical-align: middle;\n",
       "    }\n",
       "\n",
       "    .dataframe tbody tr th {\n",
       "        vertical-align: top;\n",
       "    }\n",
       "\n",
       "    .dataframe thead th {\n",
       "        text-align: right;\n",
       "    }\n",
       "</style>\n",
       "<table border=\"1\" class=\"dataframe\">\n",
       "  <thead>\n",
       "    <tr style=\"text-align: right;\">\n",
       "      <th></th>\n",
       "      <th>LOG_HOSPITALIZATION_DAYS</th>\n",
       "      <th>LOG_DAYS_IN_ICU</th>\n",
       "      <th>CHARLSON_INDEX</th>\n",
       "      <th>NUM_PROCEDURES</th>\n",
       "      <th>LOG_NUM_DRUGS</th>\n",
       "      <th>LOG_DAYS_UNTIL_NEXT_HOSPITALIZATION</th>\n",
       "    </tr>\n",
       "  </thead>\n",
       "  <tbody>\n",
       "    <tr>\n",
       "      <th>count</th>\n",
       "      <td>1.406900e+04</td>\n",
       "      <td>1.406900e+04</td>\n",
       "      <td>1.406900e+04</td>\n",
       "      <td>1.406900e+04</td>\n",
       "      <td>1.406900e+04</td>\n",
       "      <td>7.236000e+03</td>\n",
       "    </tr>\n",
       "    <tr>\n",
       "      <th>mean</th>\n",
       "      <td>-1.131293e-16</td>\n",
       "      <td>-3.636298e-17</td>\n",
       "      <td>-4.040331e-17</td>\n",
       "      <td>-7.272596e-17</td>\n",
       "      <td>1.777746e-16</td>\n",
       "      <td>-1.099790e-16</td>\n",
       "    </tr>\n",
       "    <tr>\n",
       "      <th>std</th>\n",
       "      <td>1.000036e+00</td>\n",
       "      <td>1.000036e+00</td>\n",
       "      <td>1.000036e+00</td>\n",
       "      <td>1.000036e+00</td>\n",
       "      <td>1.000036e+00</td>\n",
       "      <td>1.000069e+00</td>\n",
       "    </tr>\n",
       "    <tr>\n",
       "      <th>min</th>\n",
       "      <td>-2.576391e+00</td>\n",
       "      <td>-1.865796e+00</td>\n",
       "      <td>-2.035783e+00</td>\n",
       "      <td>-1.161382e+00</td>\n",
       "      <td>-3.003269e+00</td>\n",
       "      <td>-2.309223e+00</td>\n",
       "    </tr>\n",
       "    <tr>\n",
       "      <th>25%</th>\n",
       "      <td>-6.457673e-01</td>\n",
       "      <td>-7.506508e-01</td>\n",
       "      <td>-7.893835e-01</td>\n",
       "      <td>-8.850599e-01</td>\n",
       "      <td>-6.704834e-02</td>\n",
       "      <td>-7.499050e-01</td>\n",
       "    </tr>\n",
       "    <tr>\n",
       "      <th>50%</th>\n",
       "      <td>-5.612872e-02</td>\n",
       "      <td>-2.241725e-01</td>\n",
       "      <td>4.154961e-02</td>\n",
       "      <td>-3.324155e-01</td>\n",
       "      <td>2.655749e-01</td>\n",
       "      <td>6.372261e-02</td>\n",
       "    </tr>\n",
       "    <tr>\n",
       "      <th>75%</th>\n",
       "      <td>6.120513e-01</td>\n",
       "      <td>5.143847e-01</td>\n",
       "      <td>4.570161e-01</td>\n",
       "      <td>4.965512e-01</td>\n",
       "      <td>5.468038e-01</td>\n",
       "      <td>8.197050e-01</td>\n",
       "    </tr>\n",
       "    <tr>\n",
       "      <th>max</th>\n",
       "      <td>4.373522e+00</td>\n",
       "      <td>5.781556e+00</td>\n",
       "      <td>4.611682e+00</td>\n",
       "      <td>6.851962e+00</td>\n",
       "      <td>1.654315e+00</td>\n",
       "      <td>1.933633e+00</td>\n",
       "    </tr>\n",
       "  </tbody>\n",
       "</table>\n",
       "</div>"
      ],
      "text/plain": [
       "       LOG_HOSPITALIZATION_DAYS  LOG_DAYS_IN_ICU  CHARLSON_INDEX  \\\n",
       "count              1.406900e+04     1.406900e+04    1.406900e+04   \n",
       "mean              -1.131293e-16    -3.636298e-17   -4.040331e-17   \n",
       "std                1.000036e+00     1.000036e+00    1.000036e+00   \n",
       "min               -2.576391e+00    -1.865796e+00   -2.035783e+00   \n",
       "25%               -6.457673e-01    -7.506508e-01   -7.893835e-01   \n",
       "50%               -5.612872e-02    -2.241725e-01    4.154961e-02   \n",
       "75%                6.120513e-01     5.143847e-01    4.570161e-01   \n",
       "max                4.373522e+00     5.781556e+00    4.611682e+00   \n",
       "\n",
       "       NUM_PROCEDURES  LOG_NUM_DRUGS  LOG_DAYS_UNTIL_NEXT_HOSPITALIZATION  \n",
       "count    1.406900e+04   1.406900e+04                         7.236000e+03  \n",
       "mean    -7.272596e-17   1.777746e-16                        -1.099790e-16  \n",
       "std      1.000036e+00   1.000036e+00                         1.000069e+00  \n",
       "min     -1.161382e+00  -3.003269e+00                        -2.309223e+00  \n",
       "25%     -8.850599e-01  -6.704834e-02                        -7.499050e-01  \n",
       "50%     -3.324155e-01   2.655749e-01                         6.372261e-02  \n",
       "75%      4.965512e-01   5.468038e-01                         8.197050e-01  \n",
       "max      6.851962e+00   1.654315e+00                         1.933633e+00  "
      ]
     },
     "execution_count": 10,
     "metadata": {},
     "output_type": "execute_result"
    }
   ],
   "source": [
    "train_df[model_config[\"longitudinal_feat_cols\"]].describe()"
   ]
  },
  {
   "cell_type": "code",
   "execution_count": 8,
   "id": "0a3590cd",
   "metadata": {},
   "outputs": [
    {
     "data": {
      "application/vnd.microsoft.datawrangler.viewer.v0+json": {
       "columns": [
        {
         "name": "index",
         "rawType": "object",
         "type": "string"
        },
        {
         "name": "LOG_HOSPITALIZATION_DAYS",
         "rawType": "float64",
         "type": "float"
        },
        {
         "name": "LOG_DAYS_IN_ICU",
         "rawType": "float64",
         "type": "float"
        },
        {
         "name": "CHARLSON_INDEX",
         "rawType": "float64",
         "type": "float"
        },
        {
         "name": "NUM_PROCEDURES",
         "rawType": "float64",
         "type": "float"
        },
        {
         "name": "LOG_NUM_DRUGS",
         "rawType": "float64",
         "type": "float"
        },
        {
         "name": "PARTICIPATION_DAYS",
         "rawType": "float64",
         "type": "float"
        },
        {
         "name": "AGE",
         "rawType": "float64",
         "type": "float"
        }
       ],
       "ref": "78ff13b4-fcd7-4696-a1ef-227e17684187",
       "rows": [
        [
         "count",
         "3537.0",
         "3537.0",
         "3537.0",
         "3537.0",
         "3537.0",
         "3537.0",
         "3537.0"
        ],
        [
         "mean",
         "0.017070717364587613",
         "0.004439871534787581",
         "-0.004613341813701354",
         "-0.0010944484924474628",
         "-0.0032654192717534573",
         "-0.04239788846062286",
         "-0.005566527748669474"
        ],
        [
         "std",
         "0.9861791107571984",
         "0.9766367144211979",
         "0.994128191730205",
         "0.9815098438972782",
         "1.0180924411835033",
         "0.887098173716477",
         "1.0246373602000394"
        ],
        [
         "min",
         "-2.576391415465809",
         "-1.8657956793426973",
         "-2.035783087892232",
         "-1.1613821449412856",
         "-3.003269336697259",
         "-0.3751914261231639",
         "-2.745736082010574"
        ],
        [
         "25%",
         "-0.631302413003543",
         "-0.734097010260194",
         "-0.7893834709804063",
         "-0.8850599269006485",
         "-0.0670483439590284",
         "-0.3677265904766451",
         "-0.6042271997372916"
        ],
        [
         "50%",
         "-0.020102657411472",
         "-0.212857862446067",
         "0.0415496069608107",
         "-0.3324154908193746",
         "0.2655748522209884",
         "-0.3583955459184966",
         "0.1300044170421194"
        ],
        [
         "75%",
         "0.6497559625326393",
         "0.4966839504281971",
         "0.4570161459314192",
         "0.4965511633025363",
         "0.5652324314886423",
         "-0.3192051587742728",
         "0.8030500657565796"
        ],
        [
         "max",
         "3.990325120485621",
         "3.812307595842377",
         "5.027148074608113",
         "5.194028869993364",
         "1.54894507646503",
         "7.358378303670328",
         "1.5984676506009414"
        ]
       ],
       "shape": {
        "columns": 7,
        "rows": 8
       }
      },
      "text/html": [
       "<div>\n",
       "<style scoped>\n",
       "    .dataframe tbody tr th:only-of-type {\n",
       "        vertical-align: middle;\n",
       "    }\n",
       "\n",
       "    .dataframe tbody tr th {\n",
       "        vertical-align: top;\n",
       "    }\n",
       "\n",
       "    .dataframe thead th {\n",
       "        text-align: right;\n",
       "    }\n",
       "</style>\n",
       "<table border=\"1\" class=\"dataframe\">\n",
       "  <thead>\n",
       "    <tr style=\"text-align: right;\">\n",
       "      <th></th>\n",
       "      <th>LOG_HOSPITALIZATION_DAYS</th>\n",
       "      <th>LOG_DAYS_IN_ICU</th>\n",
       "      <th>CHARLSON_INDEX</th>\n",
       "      <th>NUM_PROCEDURES</th>\n",
       "      <th>LOG_NUM_DRUGS</th>\n",
       "      <th>PARTICIPATION_DAYS</th>\n",
       "      <th>AGE</th>\n",
       "    </tr>\n",
       "  </thead>\n",
       "  <tbody>\n",
       "    <tr>\n",
       "      <th>count</th>\n",
       "      <td>3537.000000</td>\n",
       "      <td>3537.000000</td>\n",
       "      <td>3537.000000</td>\n",
       "      <td>3537.000000</td>\n",
       "      <td>3537.000000</td>\n",
       "      <td>3537.000000</td>\n",
       "      <td>3537.000000</td>\n",
       "    </tr>\n",
       "    <tr>\n",
       "      <th>mean</th>\n",
       "      <td>0.017071</td>\n",
       "      <td>0.004440</td>\n",
       "      <td>-0.004613</td>\n",
       "      <td>-0.001094</td>\n",
       "      <td>-0.003265</td>\n",
       "      <td>-0.042398</td>\n",
       "      <td>-0.005567</td>\n",
       "    </tr>\n",
       "    <tr>\n",
       "      <th>std</th>\n",
       "      <td>0.986179</td>\n",
       "      <td>0.976637</td>\n",
       "      <td>0.994128</td>\n",
       "      <td>0.981510</td>\n",
       "      <td>1.018092</td>\n",
       "      <td>0.887098</td>\n",
       "      <td>1.024637</td>\n",
       "    </tr>\n",
       "    <tr>\n",
       "      <th>min</th>\n",
       "      <td>-2.576391</td>\n",
       "      <td>-1.865796</td>\n",
       "      <td>-2.035783</td>\n",
       "      <td>-1.161382</td>\n",
       "      <td>-3.003269</td>\n",
       "      <td>-0.375191</td>\n",
       "      <td>-2.745736</td>\n",
       "    </tr>\n",
       "    <tr>\n",
       "      <th>25%</th>\n",
       "      <td>-0.631302</td>\n",
       "      <td>-0.734097</td>\n",
       "      <td>-0.789383</td>\n",
       "      <td>-0.885060</td>\n",
       "      <td>-0.067048</td>\n",
       "      <td>-0.367727</td>\n",
       "      <td>-0.604227</td>\n",
       "    </tr>\n",
       "    <tr>\n",
       "      <th>50%</th>\n",
       "      <td>-0.020103</td>\n",
       "      <td>-0.212858</td>\n",
       "      <td>0.041550</td>\n",
       "      <td>-0.332415</td>\n",
       "      <td>0.265575</td>\n",
       "      <td>-0.358396</td>\n",
       "      <td>0.130004</td>\n",
       "    </tr>\n",
       "    <tr>\n",
       "      <th>75%</th>\n",
       "      <td>0.649756</td>\n",
       "      <td>0.496684</td>\n",
       "      <td>0.457016</td>\n",
       "      <td>0.496551</td>\n",
       "      <td>0.565232</td>\n",
       "      <td>-0.319205</td>\n",
       "      <td>0.803050</td>\n",
       "    </tr>\n",
       "    <tr>\n",
       "      <th>max</th>\n",
       "      <td>3.990325</td>\n",
       "      <td>3.812308</td>\n",
       "      <td>5.027148</td>\n",
       "      <td>5.194029</td>\n",
       "      <td>1.548945</td>\n",
       "      <td>7.358378</td>\n",
       "      <td>1.598468</td>\n",
       "    </tr>\n",
       "  </tbody>\n",
       "</table>\n",
       "</div>"
      ],
      "text/plain": [
       "       LOG_HOSPITALIZATION_DAYS  LOG_DAYS_IN_ICU  CHARLSON_INDEX  \\\n",
       "count               3537.000000      3537.000000     3537.000000   \n",
       "mean                   0.017071         0.004440       -0.004613   \n",
       "std                    0.986179         0.976637        0.994128   \n",
       "min                   -2.576391        -1.865796       -2.035783   \n",
       "25%                   -0.631302        -0.734097       -0.789383   \n",
       "50%                   -0.020103        -0.212858        0.041550   \n",
       "75%                    0.649756         0.496684        0.457016   \n",
       "max                    3.990325         3.812308        5.027148   \n",
       "\n",
       "       NUM_PROCEDURES  LOG_NUM_DRUGS  PARTICIPATION_DAYS          AGE  \n",
       "count     3537.000000    3537.000000         3537.000000  3537.000000  \n",
       "mean        -0.001094      -0.003265           -0.042398    -0.005567  \n",
       "std          0.981510       1.018092            0.887098     1.024637  \n",
       "min         -1.161382      -3.003269           -0.375191    -2.745736  \n",
       "25%         -0.885060      -0.067048           -0.367727    -0.604227  \n",
       "50%         -0.332415       0.265575           -0.358396     0.130004  \n",
       "75%          0.496551       0.565232           -0.319205     0.803050  \n",
       "max          5.194029       1.548945            7.358378     1.598468  "
      ]
     },
     "execution_count": 8,
     "metadata": {},
     "output_type": "execute_result"
    }
   ],
   "source": [
    "test_df = pd.read_csv(test_df_path)\n",
    "\n",
    "test_df[model_config['current_feat_cols']].describe()"
   ]
  },
  {
   "cell_type": "markdown",
   "id": "126628c1",
   "metadata": {},
   "source": [
    "### Create PyTorch Datasets"
   ]
  },
  {
   "cell_type": "code",
   "execution_count": 9,
   "id": "815d7162",
   "metadata": {},
   "outputs": [
    {
     "name": "stdout",
     "output_type": "stream",
     "text": [
      "Creating PyTorch datasets...\n",
      "Train dataset saved to /workspaces/msc-thesis-recurrent-health-modeling/_models/mimic/deep_learning/gru_duration_aware/train_dataset.pt\n",
      "Test dataset saved to /workspaces/msc-thesis-recurrent-health-modeling/_models/mimic/deep_learning/gru_duration_aware/test_dataset.pt\n"
     ]
    }
   ],
   "source": [
    "pytorch_train_dataset_path = os.path.join(model_config[\"model_config_dir_path\"], \"train_dataset.pt\")\n",
    "pytorch_test_dataset_path = os.path.join(model_config[\"model_config_dir_path\"], \"test_dataset.pt\")\n",
    "\n",
    "if os.path.exists(pytorch_train_dataset_path) and os.path.exists(pytorch_test_dataset_path) and not OVERWRITE_PREPROCESSED:\n",
    "    print(\"Loading existing PyTorch datasets...\")\n",
    "    train_dataset = torch.load(pytorch_train_dataset_path, weights_only=False)\n",
    "    test_dataset = torch.load(pytorch_test_dataset_path, weights_only=False)\n",
    "    print(\"Datasets loaded.\")\n",
    "else:\n",
    "    print(\"Creating PyTorch datasets...\")\n",
    "\n",
    "    from recurrent_health_events_prediction.training.train_deep_learning_models import get_train_test_datasets\n",
    "\n",
    "    train_dataset, test_dataset = get_train_test_datasets(\n",
    "        train_df_path,\n",
    "        test_df_path,\n",
    "        model_config,\n",
    "        training_data_config\n",
    "    )\n",
    "    \n",
    "    torch.save(train_dataset, pytorch_train_dataset_path)\n",
    "    torch.save(test_dataset, pytorch_test_dataset_path)\n",
    "\n",
    "    print(f\"Train dataset saved to {pytorch_train_dataset_path}\")\n",
    "    print(f\"Test dataset saved to {pytorch_test_dataset_path}\")"
   ]
  },
  {
   "cell_type": "markdown",
   "id": "08fe2ae6",
   "metadata": {},
   "source": [
    "## Train the Model"
   ]
  },
  {
   "cell_type": "code",
   "execution_count": 11,
   "id": "61e81333",
   "metadata": {},
   "outputs": [
    {
     "name": "stdout",
     "output_type": "stream",
     "text": [
      "\n",
      "Using provided model class: GRUNet\n",
      "\n",
      "Model initialized and ready for training.\n",
      "Model parameters:\n",
      "  input_size_curr: 13\n",
      "  hidden_size_head: 32\n",
      "  input_size_seq: 7\n",
      "  hidden_size_seq: 16\n",
      "  num_layers_seq: 1\n",
      "  dropout: 0.2\n",
      "\n",
      "Starting training...\n",
      "Number of training samples: 13415\n",
      "Batch size: 64\n",
      "Learning rate: 0.001\n",
      "Optimizer: Adam\n",
      "Loss function: CrossEntropyLoss\n",
      "\n",
      "Epoch 1/50, Loss: 0.45157796477987655\n",
      "Epoch 2/50, Loss: 0.35931548249153866\n",
      "Epoch 3/50, Loss: 0.3495931325923829\n",
      "Epoch 4/50, Loss: 0.3451975075261933\n",
      "Epoch 5/50, Loss: 0.3427916115238553\n",
      "Epoch 6/50, Loss: 0.3402510474125544\n",
      "Epoch 7/50, Loss: 0.3387349426036789\n",
      "Epoch 8/50, Loss: 0.3383906929975464\n",
      "Epoch 9/50, Loss: 0.336984153517655\n",
      "Epoch 10/50, Loss: 0.33522810900495165\n",
      "Epoch 11/50, Loss: 0.33513779384749276\n",
      "Epoch 12/50, Loss: 0.3350298990805944\n",
      "Epoch 13/50, Loss: 0.3335432998481251\n",
      "Epoch 14/50, Loss: 0.33287374944913956\n",
      "Epoch 15/50, Loss: 0.33218870893830343\n",
      "Epoch 16/50, Loss: 0.33038564239229473\n",
      "Epoch 17/50, Loss: 0.3313611151207061\n",
      "Epoch 18/50, Loss: 0.3303955588312376\n",
      "Epoch 19/50, Loss: 0.32986531640802114\n",
      "Epoch 20/50, Loss: 0.3296643193988573\n",
      "Epoch 21/50, Loss: 0.3286488251317115\n",
      "Epoch 22/50, Loss: 0.3278351441735313\n",
      "Epoch 23/50, Loss: 0.3287811068551881\n",
      "Epoch 24/50, Loss: 0.328676641980807\n",
      "Epoch 25/50, Loss: 0.32650251062143415\n",
      "Epoch 26/50, Loss: 0.3262441234219642\n",
      "Epoch 27/50, Loss: 0.3246819580239909\n",
      "Epoch 28/50, Loss: 0.3252807531328428\n",
      "Epoch 29/50, Loss: 0.3246291164131392\n",
      "Epoch 30/50, Loss: 0.32417656857342947\n",
      "Epoch 31/50, Loss: 0.3226793308343206\n",
      "Epoch 32/50, Loss: 0.324369604175999\n",
      "Epoch 33/50, Loss: 0.3235640918215116\n",
      "Epoch 34/50, Loss: 0.32203610376233144\n",
      "Epoch 35/50, Loss: 0.32054628772395\n",
      "Epoch 36/50, Loss: 0.32192983975013095\n",
      "Epoch 37/50, Loss: 0.32050132538591114\n",
      "Epoch 38/50, Loss: 0.31891517695926486\n",
      "Epoch 39/50, Loss: 0.31950748254145894\n",
      "Epoch 40/50, Loss: 0.32009769344613664\n",
      "Epoch 41/50, Loss: 0.31935551336833407\n",
      "Epoch 42/50, Loss: 0.3189032799076466\n",
      "Epoch 43/50, Loss: 0.31650882682629994\n",
      "Epoch 44/50, Loss: 0.3165250009014493\n",
      "Epoch 45/50, Loss: 0.3151041369353022\n",
      "Epoch 46/50, Loss: 0.3156637994306428\n",
      "Epoch 47/50, Loss: 0.31613497251556033\n",
      "Epoch 48/50, Loss: 0.31266891285777093\n",
      "Epoch 49/50, Loss: 0.31357950206313817\n",
      "Epoch 50/50, Loss: 0.3141147758989107\n",
      "\n",
      "Training complete.\n"
     ]
    }
   ],
   "source": [
    "from recurrent_health_events_prediction.training.train_deep_learning_models import train\n",
    "from recurrent_health_events_prediction.model.RecurrentHealthEventsDL import GRUNet\n",
    "\n",
    "model, loss_epochs = train(\n",
    "    train_dataset=train_dataset,\n",
    "    model_config=model_config,\n",
    "    ModelClass=GRUNet\n",
    ")"
   ]
  },
  {
   "cell_type": "code",
   "execution_count": 13,
   "id": "31f0bff2",
   "metadata": {},
   "outputs": [
    {
     "data": {
      "application/vnd.plotly.v1+json": {
       "config": {
        "plotlyServerURL": "https://plot.ly"
       },
       "data": [
        {
         "mode": "lines+markers",
         "name": "Training Loss",
         "type": "scatter",
         "x": [
          1,
          2,
          3,
          4,
          5,
          6,
          7,
          8,
          9,
          10,
          11,
          12,
          13,
          14,
          15,
          16,
          17,
          18,
          19,
          20,
          21,
          22,
          23,
          24,
          25,
          26,
          27,
          28,
          29,
          30,
          31,
          32,
          33,
          34,
          35,
          36,
          37,
          38,
          39,
          40,
          41,
          42,
          43,
          44,
          45,
          46,
          47,
          48,
          49,
          50
         ],
         "y": [
          0.45157796477987655,
          0.35931548249153866,
          0.3495931325923829,
          0.3451975075261933,
          0.3427916115238553,
          0.3402510474125544,
          0.3387349426036789,
          0.3383906929975464,
          0.336984153517655,
          0.33522810900495165,
          0.33513779384749276,
          0.3350298990805944,
          0.3335432998481251,
          0.33287374944913956,
          0.33218870893830343,
          0.33038564239229473,
          0.3313611151207061,
          0.3303955588312376,
          0.32986531640802114,
          0.3296643193988573,
          0.3286488251317115,
          0.3278351441735313,
          0.3287811068551881,
          0.328676641980807,
          0.32650251062143415,
          0.3262441234219642,
          0.3246819580239909,
          0.3252807531328428,
          0.3246291164131392,
          0.32417656857342947,
          0.3226793308343206,
          0.324369604175999,
          0.3235640918215116,
          0.32203610376233144,
          0.32054628772395,
          0.32192983975013095,
          0.32050132538591114,
          0.31891517695926486,
          0.31950748254145894,
          0.32009769344613664,
          0.31935551336833407,
          0.3189032799076466,
          0.31650882682629994,
          0.3165250009014493,
          0.3151041369353022,
          0.3156637994306428,
          0.31613497251556033,
          0.31266891285777093,
          0.31357950206313817,
          0.3141147758989107
         ]
        }
       ],
       "layout": {
        "template": {
         "data": {
          "bar": [
           {
            "error_x": {
             "color": "#2a3f5f"
            },
            "error_y": {
             "color": "#2a3f5f"
            },
            "marker": {
             "line": {
              "color": "white",
              "width": 0.5
             },
             "pattern": {
              "fillmode": "overlay",
              "size": 10,
              "solidity": 0.2
             }
            },
            "type": "bar"
           }
          ],
          "barpolar": [
           {
            "marker": {
             "line": {
              "color": "white",
              "width": 0.5
             },
             "pattern": {
              "fillmode": "overlay",
              "size": 10,
              "solidity": 0.2
             }
            },
            "type": "barpolar"
           }
          ],
          "carpet": [
           {
            "aaxis": {
             "endlinecolor": "#2a3f5f",
             "gridcolor": "#C8D4E3",
             "linecolor": "#C8D4E3",
             "minorgridcolor": "#C8D4E3",
             "startlinecolor": "#2a3f5f"
            },
            "baxis": {
             "endlinecolor": "#2a3f5f",
             "gridcolor": "#C8D4E3",
             "linecolor": "#C8D4E3",
             "minorgridcolor": "#C8D4E3",
             "startlinecolor": "#2a3f5f"
            },
            "type": "carpet"
           }
          ],
          "choropleth": [
           {
            "colorbar": {
             "outlinewidth": 0,
             "ticks": ""
            },
            "type": "choropleth"
           }
          ],
          "contour": [
           {
            "colorbar": {
             "outlinewidth": 0,
             "ticks": ""
            },
            "colorscale": [
             [
              0,
              "#0d0887"
             ],
             [
              0.1111111111111111,
              "#46039f"
             ],
             [
              0.2222222222222222,
              "#7201a8"
             ],
             [
              0.3333333333333333,
              "#9c179e"
             ],
             [
              0.4444444444444444,
              "#bd3786"
             ],
             [
              0.5555555555555556,
              "#d8576b"
             ],
             [
              0.6666666666666666,
              "#ed7953"
             ],
             [
              0.7777777777777778,
              "#fb9f3a"
             ],
             [
              0.8888888888888888,
              "#fdca26"
             ],
             [
              1,
              "#f0f921"
             ]
            ],
            "type": "contour"
           }
          ],
          "contourcarpet": [
           {
            "colorbar": {
             "outlinewidth": 0,
             "ticks": ""
            },
            "type": "contourcarpet"
           }
          ],
          "heatmap": [
           {
            "colorbar": {
             "outlinewidth": 0,
             "ticks": ""
            },
            "colorscale": [
             [
              0,
              "#0d0887"
             ],
             [
              0.1111111111111111,
              "#46039f"
             ],
             [
              0.2222222222222222,
              "#7201a8"
             ],
             [
              0.3333333333333333,
              "#9c179e"
             ],
             [
              0.4444444444444444,
              "#bd3786"
             ],
             [
              0.5555555555555556,
              "#d8576b"
             ],
             [
              0.6666666666666666,
              "#ed7953"
             ],
             [
              0.7777777777777778,
              "#fb9f3a"
             ],
             [
              0.8888888888888888,
              "#fdca26"
             ],
             [
              1,
              "#f0f921"
             ]
            ],
            "type": "heatmap"
           }
          ],
          "histogram": [
           {
            "marker": {
             "pattern": {
              "fillmode": "overlay",
              "size": 10,
              "solidity": 0.2
             }
            },
            "type": "histogram"
           }
          ],
          "histogram2d": [
           {
            "colorbar": {
             "outlinewidth": 0,
             "ticks": ""
            },
            "colorscale": [
             [
              0,
              "#0d0887"
             ],
             [
              0.1111111111111111,
              "#46039f"
             ],
             [
              0.2222222222222222,
              "#7201a8"
             ],
             [
              0.3333333333333333,
              "#9c179e"
             ],
             [
              0.4444444444444444,
              "#bd3786"
             ],
             [
              0.5555555555555556,
              "#d8576b"
             ],
             [
              0.6666666666666666,
              "#ed7953"
             ],
             [
              0.7777777777777778,
              "#fb9f3a"
             ],
             [
              0.8888888888888888,
              "#fdca26"
             ],
             [
              1,
              "#f0f921"
             ]
            ],
            "type": "histogram2d"
           }
          ],
          "histogram2dcontour": [
           {
            "colorbar": {
             "outlinewidth": 0,
             "ticks": ""
            },
            "colorscale": [
             [
              0,
              "#0d0887"
             ],
             [
              0.1111111111111111,
              "#46039f"
             ],
             [
              0.2222222222222222,
              "#7201a8"
             ],
             [
              0.3333333333333333,
              "#9c179e"
             ],
             [
              0.4444444444444444,
              "#bd3786"
             ],
             [
              0.5555555555555556,
              "#d8576b"
             ],
             [
              0.6666666666666666,
              "#ed7953"
             ],
             [
              0.7777777777777778,
              "#fb9f3a"
             ],
             [
              0.8888888888888888,
              "#fdca26"
             ],
             [
              1,
              "#f0f921"
             ]
            ],
            "type": "histogram2dcontour"
           }
          ],
          "mesh3d": [
           {
            "colorbar": {
             "outlinewidth": 0,
             "ticks": ""
            },
            "type": "mesh3d"
           }
          ],
          "parcoords": [
           {
            "line": {
             "colorbar": {
              "outlinewidth": 0,
              "ticks": ""
             }
            },
            "type": "parcoords"
           }
          ],
          "pie": [
           {
            "automargin": true,
            "type": "pie"
           }
          ],
          "scatter": [
           {
            "fillpattern": {
             "fillmode": "overlay",
             "size": 10,
             "solidity": 0.2
            },
            "type": "scatter"
           }
          ],
          "scatter3d": [
           {
            "line": {
             "colorbar": {
              "outlinewidth": 0,
              "ticks": ""
             }
            },
            "marker": {
             "colorbar": {
              "outlinewidth": 0,
              "ticks": ""
             }
            },
            "type": "scatter3d"
           }
          ],
          "scattercarpet": [
           {
            "marker": {
             "colorbar": {
              "outlinewidth": 0,
              "ticks": ""
             }
            },
            "type": "scattercarpet"
           }
          ],
          "scattergeo": [
           {
            "marker": {
             "colorbar": {
              "outlinewidth": 0,
              "ticks": ""
             }
            },
            "type": "scattergeo"
           }
          ],
          "scattergl": [
           {
            "marker": {
             "colorbar": {
              "outlinewidth": 0,
              "ticks": ""
             }
            },
            "type": "scattergl"
           }
          ],
          "scattermap": [
           {
            "marker": {
             "colorbar": {
              "outlinewidth": 0,
              "ticks": ""
             }
            },
            "type": "scattermap"
           }
          ],
          "scattermapbox": [
           {
            "marker": {
             "colorbar": {
              "outlinewidth": 0,
              "ticks": ""
             }
            },
            "type": "scattermapbox"
           }
          ],
          "scatterpolar": [
           {
            "marker": {
             "colorbar": {
              "outlinewidth": 0,
              "ticks": ""
             }
            },
            "type": "scatterpolar"
           }
          ],
          "scatterpolargl": [
           {
            "marker": {
             "colorbar": {
              "outlinewidth": 0,
              "ticks": ""
             }
            },
            "type": "scatterpolargl"
           }
          ],
          "scatterternary": [
           {
            "marker": {
             "colorbar": {
              "outlinewidth": 0,
              "ticks": ""
             }
            },
            "type": "scatterternary"
           }
          ],
          "surface": [
           {
            "colorbar": {
             "outlinewidth": 0,
             "ticks": ""
            },
            "colorscale": [
             [
              0,
              "#0d0887"
             ],
             [
              0.1111111111111111,
              "#46039f"
             ],
             [
              0.2222222222222222,
              "#7201a8"
             ],
             [
              0.3333333333333333,
              "#9c179e"
             ],
             [
              0.4444444444444444,
              "#bd3786"
             ],
             [
              0.5555555555555556,
              "#d8576b"
             ],
             [
              0.6666666666666666,
              "#ed7953"
             ],
             [
              0.7777777777777778,
              "#fb9f3a"
             ],
             [
              0.8888888888888888,
              "#fdca26"
             ],
             [
              1,
              "#f0f921"
             ]
            ],
            "type": "surface"
           }
          ],
          "table": [
           {
            "cells": {
             "fill": {
              "color": "#EBF0F8"
             },
             "line": {
              "color": "white"
             }
            },
            "header": {
             "fill": {
              "color": "#C8D4E3"
             },
             "line": {
              "color": "white"
             }
            },
            "type": "table"
           }
          ]
         },
         "layout": {
          "annotationdefaults": {
           "arrowcolor": "#2a3f5f",
           "arrowhead": 0,
           "arrowwidth": 1
          },
          "autotypenumbers": "strict",
          "coloraxis": {
           "colorbar": {
            "outlinewidth": 0,
            "ticks": ""
           }
          },
          "colorscale": {
           "diverging": [
            [
             0,
             "#8e0152"
            ],
            [
             0.1,
             "#c51b7d"
            ],
            [
             0.2,
             "#de77ae"
            ],
            [
             0.3,
             "#f1b6da"
            ],
            [
             0.4,
             "#fde0ef"
            ],
            [
             0.5,
             "#f7f7f7"
            ],
            [
             0.6,
             "#e6f5d0"
            ],
            [
             0.7,
             "#b8e186"
            ],
            [
             0.8,
             "#7fbc41"
            ],
            [
             0.9,
             "#4d9221"
            ],
            [
             1,
             "#276419"
            ]
           ],
           "sequential": [
            [
             0,
             "#0d0887"
            ],
            [
             0.1111111111111111,
             "#46039f"
            ],
            [
             0.2222222222222222,
             "#7201a8"
            ],
            [
             0.3333333333333333,
             "#9c179e"
            ],
            [
             0.4444444444444444,
             "#bd3786"
            ],
            [
             0.5555555555555556,
             "#d8576b"
            ],
            [
             0.6666666666666666,
             "#ed7953"
            ],
            [
             0.7777777777777778,
             "#fb9f3a"
            ],
            [
             0.8888888888888888,
             "#fdca26"
            ],
            [
             1,
             "#f0f921"
            ]
           ],
           "sequentialminus": [
            [
             0,
             "#0d0887"
            ],
            [
             0.1111111111111111,
             "#46039f"
            ],
            [
             0.2222222222222222,
             "#7201a8"
            ],
            [
             0.3333333333333333,
             "#9c179e"
            ],
            [
             0.4444444444444444,
             "#bd3786"
            ],
            [
             0.5555555555555556,
             "#d8576b"
            ],
            [
             0.6666666666666666,
             "#ed7953"
            ],
            [
             0.7777777777777778,
             "#fb9f3a"
            ],
            [
             0.8888888888888888,
             "#fdca26"
            ],
            [
             1,
             "#f0f921"
            ]
           ]
          },
          "colorway": [
           "#636efa",
           "#EF553B",
           "#00cc96",
           "#ab63fa",
           "#FFA15A",
           "#19d3f3",
           "#FF6692",
           "#B6E880",
           "#FF97FF",
           "#FECB52"
          ],
          "font": {
           "color": "#2a3f5f"
          },
          "geo": {
           "bgcolor": "white",
           "lakecolor": "white",
           "landcolor": "white",
           "showlakes": true,
           "showland": true,
           "subunitcolor": "#C8D4E3"
          },
          "hoverlabel": {
           "align": "left"
          },
          "hovermode": "closest",
          "mapbox": {
           "style": "light"
          },
          "paper_bgcolor": "white",
          "plot_bgcolor": "white",
          "polar": {
           "angularaxis": {
            "gridcolor": "#EBF0F8",
            "linecolor": "#EBF0F8",
            "ticks": ""
           },
           "bgcolor": "white",
           "radialaxis": {
            "gridcolor": "#EBF0F8",
            "linecolor": "#EBF0F8",
            "ticks": ""
           }
          },
          "scene": {
           "xaxis": {
            "backgroundcolor": "white",
            "gridcolor": "#DFE8F3",
            "gridwidth": 2,
            "linecolor": "#EBF0F8",
            "showbackground": true,
            "ticks": "",
            "zerolinecolor": "#EBF0F8"
           },
           "yaxis": {
            "backgroundcolor": "white",
            "gridcolor": "#DFE8F3",
            "gridwidth": 2,
            "linecolor": "#EBF0F8",
            "showbackground": true,
            "ticks": "",
            "zerolinecolor": "#EBF0F8"
           },
           "zaxis": {
            "backgroundcolor": "white",
            "gridcolor": "#DFE8F3",
            "gridwidth": 2,
            "linecolor": "#EBF0F8",
            "showbackground": true,
            "ticks": "",
            "zerolinecolor": "#EBF0F8"
           }
          },
          "shapedefaults": {
           "line": {
            "color": "#2a3f5f"
           }
          },
          "ternary": {
           "aaxis": {
            "gridcolor": "#DFE8F3",
            "linecolor": "#A2B1C6",
            "ticks": ""
           },
           "baxis": {
            "gridcolor": "#DFE8F3",
            "linecolor": "#A2B1C6",
            "ticks": ""
           },
           "bgcolor": "white",
           "caxis": {
            "gridcolor": "#DFE8F3",
            "linecolor": "#A2B1C6",
            "ticks": ""
           }
          },
          "title": {
           "x": 0.05
          },
          "xaxis": {
           "automargin": true,
           "gridcolor": "#EBF0F8",
           "linecolor": "#EBF0F8",
           "ticks": "",
           "title": {
            "standoff": 15
           },
           "zerolinecolor": "#EBF0F8",
           "zerolinewidth": 2
          },
          "yaxis": {
           "automargin": true,
           "gridcolor": "#EBF0F8",
           "linecolor": "#EBF0F8",
           "ticks": "",
           "title": {
            "standoff": 15
           },
           "zerolinecolor": "#EBF0F8",
           "zerolinewidth": 2
          }
         }
        },
        "title": {
         "text": "Training Loss per Epoch (Batch size: 64, Train samples: 13415)"
        },
        "xaxis": {
         "title": {
          "text": "Epoch"
         }
        },
        "yaxis": {
         "title": {
          "text": "Loss"
         }
        }
       }
      }
     },
     "metadata": {},
     "output_type": "display_data"
    }
   ],
   "source": [
    "import plotly.graph_objects as go\n",
    "\n",
    "batch_size = model_config['batch_size']\n",
    "num_samples = len(train_dataset)\n",
    "\n",
    "fig = go.Figure()\n",
    "fig.add_trace(go.Scatter(\n",
    "    y=loss_epochs,\n",
    "    x=list(range(1, len(loss_epochs) + 1)),\n",
    "    mode='lines+markers',\n",
    "    name='Training Loss'\n",
    "))\n",
    "fig.update_layout(\n",
    "    title=f\"Training Loss per Epoch (Batch size: {batch_size}, Train samples: {num_samples})\",\n",
    "    xaxis_title=\"Epoch\",\n",
    "    yaxis_title=\"Loss\",\n",
    "    template=\"plotly_white\"\n",
    ")\n",
    "fig.write_html(os.path.join(model_config[\"model_config_dir_path\"], \"training_loss.html\"))\n",
    "fig.show()"
   ]
  },
  {
   "cell_type": "code",
   "execution_count": 14,
   "id": "7d57d9cb",
   "metadata": {},
   "outputs": [
    {
     "name": "stdout",
     "output_type": "stream",
     "text": [
      "Model saved to /workspaces/msc-thesis-recurrent-health-modeling/_models/mimic/deep_learning/gru_duration_aware/gru_model.pt\n"
     ]
    }
   ],
   "source": [
    "import torch\n",
    "\n",
    "model_save_path = os.path.join(model_config[\"model_config_dir_path\"], \"gru_model.pt\")\n",
    "torch.save(model.state_dict(), model_save_path)\n",
    "print(f\"Model saved to {model_save_path}\")"
   ]
  },
  {
   "cell_type": "markdown",
   "id": "994367be",
   "metadata": {},
   "source": [
    "## Load Model"
   ]
  },
  {
   "cell_type": "code",
   "execution_count": 15,
   "id": "111273f8",
   "metadata": {},
   "outputs": [
    {
     "data": {
      "text/plain": [
       "GRUNet(\n",
       "  (gru): GRU(7, 16, batch_first=True)\n",
       "  (classifier_head): Sequential(\n",
       "    (0): Linear(in_features=29, out_features=32, bias=True)\n",
       "    (1): ReLU()\n",
       "    (2): Dropout(p=0.2, inplace=False)\n",
       "    (3): Linear(in_features=32, out_features=1, bias=True)\n",
       "  )\n",
       ")"
      ]
     },
     "execution_count": 15,
     "metadata": {},
     "output_type": "execute_result"
    }
   ],
   "source": [
    "from recurrent_health_events_prediction.model.RecurrentHealthEventsDL import GRUNet\n",
    "\n",
    "model_save_path = os.path.join(model_config[\"model_config_dir_path\"], \"gru_model.pt\")\n",
    "model = GRUNet(**model_params_dict)\n",
    "model.load_state_dict(torch.load(model_save_path))\n",
    "model.eval()"
   ]
  },
  {
   "cell_type": "markdown",
   "id": "abede2f8",
   "metadata": {},
   "source": [
    "## Evaluate the Model"
   ]
  },
  {
   "cell_type": "code",
   "execution_count": 16,
   "id": "7dde5ec6",
   "metadata": {},
   "outputs": [
    {
     "name": "stdout",
     "output_type": "stream",
     "text": [
      "Starting evaluation...\n",
      "Number of test samples: 3360\n",
      "Batch size: 32\n",
      "\n",
      "Evaluation results - Accuracy: 0.8660714030265808, F1 Score: 0.13461539149284363, AUROC: 0.7140387892723083\n"
     ]
    }
   ],
   "source": [
    "from recurrent_health_events_prediction.training.train_deep_learning_models import evaluate\n",
    "\n",
    "test_metrics = evaluate(\n",
    "    model=model,\n",
    "    test_dataset=test_dataset,\n",
    "    batch_size=32\n",
    ")"
   ]
  }
 ],
 "metadata": {
  "kernelspec": {
   "display_name": "recurrent-health-events-prediction-py3.10",
   "language": "python",
   "name": "python3"
  },
  "language_info": {
   "codemirror_mode": {
    "name": "ipython",
    "version": 3
   },
   "file_extension": ".py",
   "mimetype": "text/x-python",
   "name": "python",
   "nbconvert_exporter": "python",
   "pygments_lexer": "ipython3",
   "version": "3.10.14"
  }
 },
 "nbformat": 4,
 "nbformat_minor": 5
}
