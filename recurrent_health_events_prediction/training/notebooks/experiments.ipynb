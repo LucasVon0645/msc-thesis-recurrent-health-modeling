{
 "cells": [
  {
   "cell_type": "code",
   "execution_count": 1,
   "id": "3e10931f",
   "metadata": {},
   "outputs": [],
   "source": [
    "import pandas as pd\n",
    "import numpy as np\n",
    "import yaml\n",
    "from importlib import resources as impresources\n",
    "from recurrent_health_events_prediction import configs"
   ]
  },
  {
   "cell_type": "code",
   "execution_count": 3,
   "id": "9fb8a120",
   "metadata": {},
   "outputs": [
    {
     "data": {
      "text/plain": [
       "{'current_feat_cols': ['AGE',\n",
       "  'CHARLSON_INDEX',\n",
       "  'NUM_PREV_HOSPITALIZATIONS',\n",
       "  'NUM_PROCEDURES',\n",
       "  'LOG_DAYS_IN_ICU',\n",
       "  'NUM_DRUGS',\n",
       "  'LOG_PARTICIPATION_DAYS',\n",
       "  'HAS_DIABETES',\n",
       "  'HAS_COPD',\n",
       "  'HAS_CONGESTIVE_HF',\n",
       "  'DISCHARGE_LOCATION_POST_ACUTE_CARE',\n",
       "  'GENDER_M',\n",
       "  'ADMISSION_TYPE_ELECTIVE',\n",
       "  'ETHNICITY_WHITE',\n",
       "  'ETHNICITY_BLACK',\n",
       "  'ETHNICITY_HISPANIC',\n",
       "  'INSURANCE_MEDICAID',\n",
       "  'INSURANCE_PRIVATE'],\n",
       " 'past_summary_feat_cols': ['LOG_DAYS_SINCE_LAST_HOSPITALIZATION',\n",
       "  'READM_30_DAYS_PAST_MEAN',\n",
       "  'READM_30_DAYS_PAST_SUM',\n",
       "  'LOG_DAYS_UNTIL_NEXT_HOSP_PAST_MEDIAN',\n",
       "  'LOG_DAYS_UNTIL_NEXT_HOSP_PAST_STD'],\n",
       " 'missing_features': {'READM_30_DAYS_PAST_MEAN': 'median',\n",
       "  'READM_30_DAYS_PAST_SUM': 'median',\n",
       "  'LOG_DAYS_SINCE_LAST_HOSPITALIZATION': 'median',\n",
       "  'LOG_DAYS_UNTIL_NEXT_HOSP_PAST_MEDIAN': 'median',\n",
       "  'LOG_DAYS_UNTIL_NEXT_HOSP_PAST_STD': 'median'},\n",
       " 'logistic_regression': {'param_distributions': {'penalty': ['l2', 'l1'],\n",
       "   'solver': ['liblinear'],\n",
       "   'fit_intercept': [True, False]},\n",
       "  'rand_search_config': {'n_iter': 20,\n",
       "   'cv': 5,\n",
       "   'scoring': 'roc_auc',\n",
       "   'n_jobs': 4},\n",
       "  'additional_params': {'max_iter': 1000, 'class_weight': 'balanced'}},\n",
       " 'random_forest': {'param_distributions': {'n_estimators': [50, 100, 200],\n",
       "   'max_depth': ['None', 3, 5, 10, 12],\n",
       "   'min_samples_split': [2, 5, 10, 15, 20],\n",
       "   'min_samples_leaf': [1, 2, 4],\n",
       "   'max_features': ['sqrt', 'log2']},\n",
       "  'rand_search_config': {'n_iter': 20,\n",
       "   'cv': 5,\n",
       "   'scoring': 'roc_auc',\n",
       "   'n_jobs': 4},\n",
       "  'additional_params': {'class_weight': 'balanced'}},\n",
       " 'lgbm': {'param_distributions': {'n_estimators': [50, 100, 200],\n",
       "   'max_depth': [3, 4, 6, -1],\n",
       "   'min_child_samples': [5, 10, 20, 30],\n",
       "   'num_leaves': [7, 15, 31],\n",
       "   'subsample': [0.6, 0.8, 1.0],\n",
       "   'feature_fraction': [0.6, 0.8, 1.0]},\n",
       "  'rand_search_config': {'n_iter': 5,\n",
       "   'cv': 5,\n",
       "   'scoring': 'roc_auc',\n",
       "   'n_jobs': 4},\n",
       "  'additional_params': {'class_weight': 'balanced',\n",
       "   'importance_type': 'gain',\n",
       "   'verbose': -1}}}"
      ]
     },
     "execution_count": 3,
     "metadata": {},
     "output_type": "execute_result"
    }
   ],
   "source": [
    "from recurrent_health_events_prediction.utils.general_utils import import_yaml_config\n",
    "\n",
    "\n",
    "import_yaml_config(\"/workspaces/msc-thesis-recurrent-health-modeling/_models/mimic/classifier_baselines/config.yaml\")"
   ]
  }
 ],
 "metadata": {
  "kernelspec": {
   "display_name": "recurrent-health-events-prediction-nvorhdTT-py3.10",
   "language": "python",
   "name": "python3"
  },
  "language_info": {
   "codemirror_mode": {
    "name": "ipython",
    "version": 3
   },
   "file_extension": ".py",
   "mimetype": "text/x-python",
   "name": "python",
   "nbconvert_exporter": "python",
   "pygments_lexer": "ipython3",
   "version": "3.10.14"
  }
 },
 "nbformat": 4,
 "nbformat_minor": 5
}
