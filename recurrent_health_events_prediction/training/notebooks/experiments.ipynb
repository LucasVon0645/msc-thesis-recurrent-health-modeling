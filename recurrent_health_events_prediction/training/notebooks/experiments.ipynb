{
 "cells": [
  {
   "cell_type": "code",
   "execution_count": 9,
   "id": "3e10931f",
   "metadata": {},
   "outputs": [],
   "source": [
    "import pandas as pd\n",
    "import numpy as np\n",
    "import yaml\n",
    "from importlib import resources as impresources\n",
    "from recurrent_health_events_prediction import configs"
   ]
  },
  {
   "cell_type": "code",
   "execution_count": 2,
   "id": "b7d6f805",
   "metadata": {},
   "outputs": [],
   "source": [
    "train_df = pd.read_csv(\"/workspaces/msc-thesis-recurrent-health-modeling/data/mimic-iii-preprocessed/copd_hf_renal_diabetes/multiple_hosp_patients/train_test/train_events.csv\")\n",
    "validation_df = pd.read_csv(\"/workspaces/msc-thesis-recurrent-health-modeling/data/mimic-iii-preprocessed/copd_hf_renal_diabetes/multiple_hosp_patients/train_test/validation_events.csv\")\n",
    "full_train_df = pd.read_csv(\"/workspaces/msc-thesis-recurrent-health-modeling/data/mimic-iii-preprocessed/copd_hf_renal_diabetes/multiple_hosp_patients/train_test/train_full_events.csv\")"
   ]
  },
  {
   "cell_type": "code",
   "execution_count": 10,
   "id": "6c3cee54",
   "metadata": {},
   "outputs": [],
   "source": [
    "assert train_df.shape[0] + validation_df.shape[0] == full_train_df.shape[0], \"Train and validation sets do not sum up to full training set.\""
   ]
  },
  {
   "cell_type": "code",
   "execution_count": 8,
   "id": "0ec0ca35",
   "metadata": {},
   "outputs": [],
   "source": [
    "train_event_ids = set(train_df['HADM_ID'].tolist())\n",
    "validation_event_ids = set(validation_df['HADM_ID'].tolist())\n",
    "full_train_event_ids = set(full_train_df['HADM_ID'].tolist())\n",
    "\n",
    "subject_ids_in_train = set(train_df['SUBJECT_ID'].tolist())\n",
    "subject_ids_in_validation = set(validation_df['SUBJECT_ID'].tolist())\n",
    "subject_ids_in_full_train = set(full_train_df['SUBJECT_ID'].tolist())\n",
    "\n",
    "assert subject_ids_in_train.isdisjoint(subject_ids_in_validation), \"Train and validation sets have overlapping SUBJECT_IDs.\"\n",
    "assert subject_ids_in_train.union(subject_ids_in_validation) == subject_ids_in_full_train, \"Union of train and validation sets does not equal full training set.\"\n",
    "assert train_event_ids.isdisjoint(validation_event_ids), \"Train and validation sets have overlapping HADM_IDs.\"\n",
    "assert train_event_ids.union(validation_event_ids) == full_train_event_ids, \"Union of train and validation event IDs does not equal full training event IDs.\""
   ]
  }
 ],
 "metadata": {
  "kernelspec": {
   "display_name": "recurrent-health-events-prediction-nvorhdTT-py3.10",
   "language": "python",
   "name": "python3"
  },
  "language_info": {
   "codemirror_mode": {
    "name": "ipython",
    "version": 3
   },
   "file_extension": ".py",
   "mimetype": "text/x-python",
   "name": "python",
   "nbconvert_exporter": "python",
   "pygments_lexer": "ipython3",
   "version": "3.10.14"
  }
 },
 "nbformat": 4,
 "nbformat_minor": 5
}
