{
 "cells": [
  {
   "cell_type": "markdown",
   "metadata": {},
   "source": [
    "# Baseline vs Models - Drug Relapse Dataset - Boostrap Test Set"
   ]
  },
  {
   "cell_type": "code",
   "execution_count": 1,
   "metadata": {},
   "outputs": [],
   "source": [
    "import pandas as pd\n",
    "import yaml\n",
    "from importlib import resources as impresources\n",
    "from recurrent_health_events_prediction import configs\n",
    "import plotly.express as px\n",
    "import os\n",
    "from recurrent_health_events_prediction.model_analysis.utils import MetricEnum"
   ]
  },
  {
   "cell_type": "code",
   "execution_count": 2,
   "metadata": {},
   "outputs": [],
   "source": [
    "with open((impresources.files(configs) / 'model_config.yaml')) as f:\n",
    "    model_config = yaml.safe_load(f)\n",
    "with open((impresources.files(configs) / 'data_config.yaml')) as f:\n",
    "    data_config = yaml.safe_load(f)"
   ]
  },
  {
   "cell_type": "code",
   "execution_count": 3,
   "metadata": {},
   "outputs": [],
   "source": [
    "SAVE_RESULTS_DIR = data_config['final_results'][\"relapse_path\"]\n",
    "filename = \"hmm_vs_baseline\""
   ]
  },
  {
   "cell_type": "code",
   "execution_count": 14,
   "metadata": {},
   "outputs": [],
   "source": [
    "DATASET = \"relapse\"\n",
    "BASELINE_RESULTS_DIR = \"/workspaces/master-thesis-recurrent-health-events-prediction/_models/drug_relapse/classifiers_baselines\"\n",
    "BASE_MODEL_DIR = model_config[DATASET][\"hidden_markov\"][\"save_model_path\"]\n",
    "CLASSIFIER = \"lgbm\"\n",
    "METRIC = MetricEnum.AUC.value\n",
    "N_BOOTSTRAPS = 5000\n",
    "RANDOM_STATE = 42\n",
    "THRESHOLD = 0.5 # probability threshold for classification"
   ]
  },
  {
   "cell_type": "code",
   "execution_count": 15,
   "metadata": {},
   "outputs": [],
   "source": [
    "filename = f\"hmm_vs_baseline_{DATASET}_{CLASSIFIER}_{METRIC}.csv\""
   ]
  },
  {
   "cell_type": "markdown",
   "metadata": {},
   "source": [
    "## hmm_binary_relapse_30_days"
   ]
  },
  {
   "cell_type": "code",
   "execution_count": 30,
   "metadata": {},
   "outputs": [
    {
     "data": {
      "text/plain": [
       "{'continuous_event_time_col': 'LOG_TIME_UNTIL_NEXT_POSITIVE',\n",
       " 'event_id_col': 'COLLECTION_ID',\n",
       " 'event_name': 'relapse',\n",
       " 'event_time_cat_col': 'RELAPSE_DURATION_CATEGORY',\n",
       " 'event_time_cat_order': ['0-30', '30-90', '90-180', '180+'],\n",
       " 'event_time_feature_col': 'RELAPSE_30_DAYS',\n",
       " 'feature_define_state_labels': 'RELAPSE_30_DAYS',\n",
       " 'features': {'LOG_TIME_SINCE_LAST_POSITIVE': 'gaussian',\n",
       "  'NUM_POSITIVES_SINCE_LAST_NEGATIVE': 'poisson',\n",
       "  'RELAPSE_30_DAYS': 'bernoulli'},\n",
       " 'hidden_state_labels': ['low', 'medium_1', 'medium_2', 'high'],\n",
       " 'id_col': 'DONOR_ID',\n",
       " 'model_name': 'hmm_binary_relapse_30_days',\n",
       " 'n_states': 4,\n",
       " 'save_model_path': '/workspaces/master-thesis-recurrent-health-events-prediction/_models/drug_relapse/hmm',\n",
       " 'time_col': 'RELAPSE_START',\n",
       " 'use_only_sequences_gte_2_steps': False}"
      ]
     },
     "execution_count": 30,
     "metadata": {},
     "output_type": "execute_result"
    }
   ],
   "source": [
    "from recurrent_health_events_prediction.model_analysis.utils import get_model_config\n",
    "\n",
    "\n",
    "model_name = \"hmm_binary_relapse_30_days\"\n",
    "\n",
    "get_model_config(model_name, BASE_MODEL_DIR)"
   ]
  },
  {
   "cell_type": "code",
   "execution_count": 31,
   "metadata": {},
   "outputs": [
    {
     "name": "stdout",
     "output_type": "stream",
     "text": [
      "Comparing hmm_binary_relapse_30_days with baseline using auc metric...\n",
      "Number of predictions in baseline: 2458\n",
      "Number of predictions in hmm_binary_relapse_30_days: 2458\n",
      "Number of common predictions: 2458\n",
      "Evaluating HMM Features with classifier:  lgbm\n",
      "Calculating  auc  with  5000  bootstrap samples...\n",
      "\n"
     ]
    },
    {
     "name": "stderr",
     "output_type": "stream",
     "text": [
      "  0%|          | 0/5000 [00:00<?, ?it/s]"
     ]
    },
    {
     "name": "stderr",
     "output_type": "stream",
     "text": [
      "100%|██████████| 5000/5000 [00:15<00:00, 320.57it/s]\n"
     ]
    }
   ],
   "source": [
    "from recurrent_health_events_prediction.model_analysis.utils import compare_classifier_with_baseline\n",
    "\n",
    "results1_df = compare_classifier_with_baseline(\n",
    "    model_name=model_name,\n",
    "    base_model_dir=BASE_MODEL_DIR,\n",
    "    baseline_results_dir=BASELINE_RESULTS_DIR,\n",
    "    classifier=CLASSIFIER,\n",
    "    metric=METRIC,\n",
    "    n_boot=N_BOOTSTRAPS,\n",
    "    random_state=RANDOM_STATE,\n",
    "    threshold = THRESHOLD,\n",
    ")"
   ]
  },
  {
   "cell_type": "code",
   "execution_count": 32,
   "metadata": {},
   "outputs": [
    {
     "data": {
      "application/vnd.microsoft.datawrangler.viewer.v0+json": {
       "columns": [
        {
         "name": "index",
         "rawType": "int64",
         "type": "integer"
        },
        {
         "name": "model_name",
         "rawType": "object",
         "type": "string"
        },
        {
         "name": "n_states",
         "rawType": "int64",
         "type": "integer"
        },
        {
         "name": "classifier",
         "rawType": "object",
         "type": "string"
        },
        {
         "name": "metric",
         "rawType": "object",
         "type": "string"
        },
        {
         "name": "obs_delta",
         "rawType": "float64",
         "type": "float"
        },
        {
         "name": "delta_mean",
         "rawType": "float64",
         "type": "float"
        },
        {
         "name": "ci_low",
         "rawType": "float64",
         "type": "float"
        },
        {
         "name": "ci_high",
         "rawType": "float64",
         "type": "float"
        },
        {
         "name": "p_value",
         "rawType": "float64",
         "type": "float"
        },
        {
         "name": "n_boot",
         "rawType": "int64",
         "type": "integer"
        }
       ],
       "ref": "f157d332-0882-4e6e-bd28-be8f938720c5",
       "rows": [
        [
         "0",
         "hmm_binary_relapse_30_days",
         "4",
         "lgbm",
         "auc",
         "-0.005379699668368265",
         "-0.00524659531882955",
         "-0.015042847960438402",
         "0.004627356820807064",
         "0.2948",
         "5000"
        ]
       ],
       "shape": {
        "columns": 10,
        "rows": 1
       }
      },
      "text/html": [
       "<div>\n",
       "<style scoped>\n",
       "    .dataframe tbody tr th:only-of-type {\n",
       "        vertical-align: middle;\n",
       "    }\n",
       "\n",
       "    .dataframe tbody tr th {\n",
       "        vertical-align: top;\n",
       "    }\n",
       "\n",
       "    .dataframe thead th {\n",
       "        text-align: right;\n",
       "    }\n",
       "</style>\n",
       "<table border=\"1\" class=\"dataframe\">\n",
       "  <thead>\n",
       "    <tr style=\"text-align: right;\">\n",
       "      <th></th>\n",
       "      <th>model_name</th>\n",
       "      <th>n_states</th>\n",
       "      <th>classifier</th>\n",
       "      <th>metric</th>\n",
       "      <th>obs_delta</th>\n",
       "      <th>delta_mean</th>\n",
       "      <th>ci_low</th>\n",
       "      <th>ci_high</th>\n",
       "      <th>p_value</th>\n",
       "      <th>n_boot</th>\n",
       "    </tr>\n",
       "  </thead>\n",
       "  <tbody>\n",
       "    <tr>\n",
       "      <th>0</th>\n",
       "      <td>hmm_binary_relapse_30_days</td>\n",
       "      <td>4</td>\n",
       "      <td>lgbm</td>\n",
       "      <td>auc</td>\n",
       "      <td>-0.00538</td>\n",
       "      <td>-0.005247</td>\n",
       "      <td>-0.015043</td>\n",
       "      <td>0.004627</td>\n",
       "      <td>0.2948</td>\n",
       "      <td>5000</td>\n",
       "    </tr>\n",
       "  </tbody>\n",
       "</table>\n",
       "</div>"
      ],
      "text/plain": [
       "                   model_name  n_states classifier metric  obs_delta  \\\n",
       "0  hmm_binary_relapse_30_days         4       lgbm    auc   -0.00538   \n",
       "\n",
       "   delta_mean    ci_low   ci_high  p_value  n_boot  \n",
       "0   -0.005247 -0.015043  0.004627   0.2948    5000  "
      ]
     },
     "execution_count": 32,
     "metadata": {},
     "output_type": "execute_result"
    }
   ],
   "source": [
    "results1_df"
   ]
  },
  {
   "cell_type": "markdown",
   "metadata": {},
   "source": [
    "## hmm_categorical_relapse_time"
   ]
  },
  {
   "cell_type": "code",
   "execution_count": 33,
   "metadata": {},
   "outputs": [
    {
     "data": {
      "text/plain": [
       "{'add_distribution_params': {'RELAPSE_DURATION_CATEGORY_ENCODED': {'labels': ['0-30',\n",
       "    '30-90',\n",
       "    '90-180',\n",
       "    '180+'],\n",
       "   'n_categories': 4}},\n",
       " 'continuous_event_time_col': 'LOG_TIME_UNTIL_NEXT_POSITIVE',\n",
       " 'event_id_col': 'COLLECTION_ID',\n",
       " 'event_name': 'relapse',\n",
       " 'event_time_cat_col': 'RELAPSE_DURATION_CATEGORY',\n",
       " 'event_time_cat_order': ['0-30', '30-90', '90-180', '180+'],\n",
       " 'event_time_feature_col': 'RELAPSE_DURATION_CATEGORY_ENCODED',\n",
       " 'feature_define_state_labels': 'RELAPSE_DURATION_CATEGORY_ENCODED',\n",
       " 'features': {'LOG_TIME_SINCE_LAST_POSITIVE': 'gaussian',\n",
       "  'NUM_POSITIVES_SINCE_LAST_NEGATIVE': 'poisson',\n",
       "  'RELAPSE_DURATION_CATEGORY_ENCODED': 'categorical'},\n",
       " 'hidden_state_labels': ['high', 'medium', 'low'],\n",
       " 'id_col': 'DONOR_ID',\n",
       " 'model_name': 'hmm_categorical_relapse_time',\n",
       " 'n_states': 3,\n",
       " 'save_model_path': '/workspaces/master-thesis-recurrent-health-events-prediction/_models/drug_relapse/hmm',\n",
       " 'time_col': 'RELAPSE_START',\n",
       " 'use_only_sequences_gte_2_steps': False}"
      ]
     },
     "execution_count": 33,
     "metadata": {},
     "output_type": "execute_result"
    }
   ],
   "source": [
    "from recurrent_health_events_prediction.model_analysis.utils import get_model_config\n",
    "\n",
    "\n",
    "model_name = \"hmm_categorical_relapse_time\"\n",
    "\n",
    "get_model_config(model_name, BASE_MODEL_DIR)"
   ]
  },
  {
   "cell_type": "code",
   "execution_count": 34,
   "metadata": {},
   "outputs": [
    {
     "name": "stdout",
     "output_type": "stream",
     "text": [
      "Comparing hmm_categorical_relapse_time with baseline using auc metric...\n",
      "Number of predictions in baseline: 2458\n",
      "Number of predictions in hmm_categorical_relapse_time: 2458\n",
      "Number of common predictions: 2458\n",
      "Evaluating HMM Features with classifier:  lgbm\n",
      "Calculating  auc  with  5000  bootstrap samples...\n",
      "\n"
     ]
    },
    {
     "name": "stderr",
     "output_type": "stream",
     "text": [
      "  0%|          | 0/5000 [00:00<?, ?it/s]"
     ]
    },
    {
     "name": "stderr",
     "output_type": "stream",
     "text": [
      "100%|██████████| 5000/5000 [00:18<00:00, 267.20it/s]\n"
     ]
    }
   ],
   "source": [
    "from recurrent_health_events_prediction.model_analysis.utils import compare_classifier_with_baseline\n",
    "\n",
    "results6_df = compare_classifier_with_baseline(\n",
    "    model_name=model_name,\n",
    "    base_model_dir=BASE_MODEL_DIR,\n",
    "    baseline_results_dir=BASELINE_RESULTS_DIR,\n",
    "    classifier=CLASSIFIER,\n",
    "    metric=METRIC,\n",
    "    n_boot=N_BOOTSTRAPS,\n",
    "    random_state=RANDOM_STATE,\n",
    "    threshold = THRESHOLD,\n",
    ")"
   ]
  },
  {
   "cell_type": "code",
   "execution_count": 35,
   "metadata": {},
   "outputs": [
    {
     "data": {
      "application/vnd.microsoft.datawrangler.viewer.v0+json": {
       "columns": [
        {
         "name": "index",
         "rawType": "int64",
         "type": "integer"
        },
        {
         "name": "model_name",
         "rawType": "object",
         "type": "string"
        },
        {
         "name": "n_states",
         "rawType": "int64",
         "type": "integer"
        },
        {
         "name": "classifier",
         "rawType": "object",
         "type": "string"
        },
        {
         "name": "metric",
         "rawType": "object",
         "type": "string"
        },
        {
         "name": "obs_delta",
         "rawType": "float64",
         "type": "float"
        },
        {
         "name": "delta_mean",
         "rawType": "float64",
         "type": "float"
        },
        {
         "name": "ci_low",
         "rawType": "float64",
         "type": "float"
        },
        {
         "name": "ci_high",
         "rawType": "float64",
         "type": "float"
        },
        {
         "name": "p_value",
         "rawType": "float64",
         "type": "float"
        },
        {
         "name": "n_boot",
         "rawType": "int64",
         "type": "integer"
        }
       ],
       "ref": "d0acb8c0-6092-43e2-aea4-130f22560ead",
       "rows": [
        [
         "0",
         "hmm_categorical_relapse_time",
         "3",
         "lgbm",
         "auc",
         "-0.009995195864983875",
         "-0.009930155861577035",
         "-0.02026441706279725",
         "0.000315404438967607",
         "0.0584",
         "5000"
        ]
       ],
       "shape": {
        "columns": 10,
        "rows": 1
       }
      },
      "text/html": [
       "<div>\n",
       "<style scoped>\n",
       "    .dataframe tbody tr th:only-of-type {\n",
       "        vertical-align: middle;\n",
       "    }\n",
       "\n",
       "    .dataframe tbody tr th {\n",
       "        vertical-align: top;\n",
       "    }\n",
       "\n",
       "    .dataframe thead th {\n",
       "        text-align: right;\n",
       "    }\n",
       "</style>\n",
       "<table border=\"1\" class=\"dataframe\">\n",
       "  <thead>\n",
       "    <tr style=\"text-align: right;\">\n",
       "      <th></th>\n",
       "      <th>model_name</th>\n",
       "      <th>n_states</th>\n",
       "      <th>classifier</th>\n",
       "      <th>metric</th>\n",
       "      <th>obs_delta</th>\n",
       "      <th>delta_mean</th>\n",
       "      <th>ci_low</th>\n",
       "      <th>ci_high</th>\n",
       "      <th>p_value</th>\n",
       "      <th>n_boot</th>\n",
       "    </tr>\n",
       "  </thead>\n",
       "  <tbody>\n",
       "    <tr>\n",
       "      <th>0</th>\n",
       "      <td>hmm_categorical_relapse_time</td>\n",
       "      <td>3</td>\n",
       "      <td>lgbm</td>\n",
       "      <td>auc</td>\n",
       "      <td>-0.009995</td>\n",
       "      <td>-0.00993</td>\n",
       "      <td>-0.020264</td>\n",
       "      <td>0.000315</td>\n",
       "      <td>0.0584</td>\n",
       "      <td>5000</td>\n",
       "    </tr>\n",
       "  </tbody>\n",
       "</table>\n",
       "</div>"
      ],
      "text/plain": [
       "                     model_name  n_states classifier metric  obs_delta  \\\n",
       "0  hmm_categorical_relapse_time         3       lgbm    auc  -0.009995   \n",
       "\n",
       "   delta_mean    ci_low   ci_high  p_value  n_boot  \n",
       "0    -0.00993 -0.020264  0.000315   0.0584    5000  "
      ]
     },
     "execution_count": 35,
     "metadata": {},
     "output_type": "execute_result"
    }
   ],
   "source": [
    "results6_df"
   ]
  },
  {
   "cell_type": "markdown",
   "metadata": {},
   "source": [
    "## hmm_log_normal_relapse_time_drug_vars"
   ]
  },
  {
   "cell_type": "code",
   "execution_count": 27,
   "metadata": {},
   "outputs": [
    {
     "data": {
      "text/plain": [
       "{'continuous_event_time_col': 'LOG_TIME_UNTIL_NEXT_POSITIVE',\n",
       " 'event_id_col': 'COLLECTION_ID',\n",
       " 'event_name': 'relapse',\n",
       " 'event_time_cat_col': 'RELAPSE_DURATION_CATEGORY',\n",
       " 'event_time_cat_order': ['0-30', '30-90', '90-180', '180+'],\n",
       " 'event_time_feature_col': 'LOG_TIME_UNTIL_NEXT_POSITIVE',\n",
       " 'feature_define_state_labels': 'LOG_TIME_UNTIL_NEXT_POSITIVE',\n",
       " 'features': {'ALCOHOL_POS': 'bernoulli',\n",
       "  'BUPRENORPHINE_POS': 'bernoulli',\n",
       "  'LOG_TIME_SINCE_LAST_NEGATIVE': 'gaussian',\n",
       "  'LOG_TIME_SINCE_LAST_POSITIVE': 'gaussian',\n",
       "  'LOG_TIME_UNTIL_NEXT_POSITIVE': 'gaussian',\n",
       "  'NUM_POSITIVES_SINCE_LAST_NEGATIVE': 'poisson'},\n",
       " 'hidden_state_labels': ['high', 'medium', 'low'],\n",
       " 'id_col': 'DONOR_ID',\n",
       " 'model_name': 'hmm_log_normal_relapse_time_drug_vars',\n",
       " 'n_states': 3,\n",
       " 'save_model_path': '/workspaces/master-thesis-recurrent-health-events-prediction/_models/drug_relapse/hmm',\n",
       " 'time_col': 'RELAPSE_START',\n",
       " 'use_only_sequences_gte_2_steps': False}"
      ]
     },
     "execution_count": 27,
     "metadata": {},
     "output_type": "execute_result"
    }
   ],
   "source": [
    "from recurrent_health_events_prediction.model_analysis.utils import get_model_config\n",
    "\n",
    "\n",
    "model_name = \"hmm_log_normal_relapse_time_drug_vars\"\n",
    "\n",
    "get_model_config(model_name, BASE_MODEL_DIR)"
   ]
  },
  {
   "cell_type": "code",
   "execution_count": 28,
   "metadata": {},
   "outputs": [
    {
     "name": "stdout",
     "output_type": "stream",
     "text": [
      "Comparing hmm_log_normal_relapse_time_drug_vars with baseline using auc metric...\n",
      "Number of predictions in baseline: 2458\n",
      "Number of predictions in hmm_log_normal_relapse_time_drug_vars: 2458\n",
      "Number of common predictions: 2458\n",
      "Evaluating HMM Features with classifier:  lgbm\n",
      "Calculating  auc  with  5000  bootstrap samples...\n",
      "\n"
     ]
    },
    {
     "name": "stderr",
     "output_type": "stream",
     "text": [
      "100%|██████████| 5000/5000 [00:17<00:00, 282.08it/s]\n"
     ]
    }
   ],
   "source": [
    "from recurrent_health_events_prediction.model_analysis.utils import compare_classifier_with_baseline\n",
    "\n",
    "results2_df = compare_classifier_with_baseline(\n",
    "    model_name=model_name,\n",
    "    base_model_dir=BASE_MODEL_DIR,\n",
    "    baseline_results_dir=BASELINE_RESULTS_DIR,\n",
    "    classifier=CLASSIFIER,\n",
    "    metric=METRIC,\n",
    "    n_boot=N_BOOTSTRAPS,\n",
    "    random_state=RANDOM_STATE,\n",
    "    threshold = THRESHOLD,\n",
    ")"
   ]
  },
  {
   "cell_type": "code",
   "execution_count": 29,
   "metadata": {},
   "outputs": [
    {
     "data": {
      "application/vnd.microsoft.datawrangler.viewer.v0+json": {
       "columns": [
        {
         "name": "index",
         "rawType": "int64",
         "type": "integer"
        },
        {
         "name": "model_name",
         "rawType": "object",
         "type": "string"
        },
        {
         "name": "n_states",
         "rawType": "int64",
         "type": "integer"
        },
        {
         "name": "classifier",
         "rawType": "object",
         "type": "string"
        },
        {
         "name": "metric",
         "rawType": "object",
         "type": "string"
        },
        {
         "name": "obs_delta",
         "rawType": "float64",
         "type": "float"
        },
        {
         "name": "delta_mean",
         "rawType": "float64",
         "type": "float"
        },
        {
         "name": "ci_low",
         "rawType": "float64",
         "type": "float"
        },
        {
         "name": "ci_high",
         "rawType": "float64",
         "type": "float"
        },
        {
         "name": "p_value",
         "rawType": "float64",
         "type": "float"
        },
        {
         "name": "n_boot",
         "rawType": "int64",
         "type": "integer"
        }
       ],
       "ref": "e8a1142a-64a1-44f5-952e-1d1f8df97c6b",
       "rows": [
        [
         "0",
         "hmm_log_normal_relapse_time_drug_vars",
         "3",
         "lgbm",
         "auc",
         "-0.005028372343087173",
         "-0.004925038260078038",
         "-0.014613528297819122",
         "0.004877203447798508",
         "0.3184",
         "5000"
        ]
       ],
       "shape": {
        "columns": 10,
        "rows": 1
       }
      },
      "text/html": [
       "<div>\n",
       "<style scoped>\n",
       "    .dataframe tbody tr th:only-of-type {\n",
       "        vertical-align: middle;\n",
       "    }\n",
       "\n",
       "    .dataframe tbody tr th {\n",
       "        vertical-align: top;\n",
       "    }\n",
       "\n",
       "    .dataframe thead th {\n",
       "        text-align: right;\n",
       "    }\n",
       "</style>\n",
       "<table border=\"1\" class=\"dataframe\">\n",
       "  <thead>\n",
       "    <tr style=\"text-align: right;\">\n",
       "      <th></th>\n",
       "      <th>model_name</th>\n",
       "      <th>n_states</th>\n",
       "      <th>classifier</th>\n",
       "      <th>metric</th>\n",
       "      <th>obs_delta</th>\n",
       "      <th>delta_mean</th>\n",
       "      <th>ci_low</th>\n",
       "      <th>ci_high</th>\n",
       "      <th>p_value</th>\n",
       "      <th>n_boot</th>\n",
       "    </tr>\n",
       "  </thead>\n",
       "  <tbody>\n",
       "    <tr>\n",
       "      <th>0</th>\n",
       "      <td>hmm_log_normal_relapse_time_drug_vars</td>\n",
       "      <td>3</td>\n",
       "      <td>lgbm</td>\n",
       "      <td>auc</td>\n",
       "      <td>-0.005028</td>\n",
       "      <td>-0.004925</td>\n",
       "      <td>-0.014614</td>\n",
       "      <td>0.004877</td>\n",
       "      <td>0.3184</td>\n",
       "      <td>5000</td>\n",
       "    </tr>\n",
       "  </tbody>\n",
       "</table>\n",
       "</div>"
      ],
      "text/plain": [
       "                              model_name  n_states classifier metric  \\\n",
       "0  hmm_log_normal_relapse_time_drug_vars         3       lgbm    auc   \n",
       "\n",
       "   obs_delta  delta_mean    ci_low   ci_high  p_value  n_boot  \n",
       "0  -0.005028   -0.004925 -0.014614  0.004877   0.3184    5000  "
      ]
     },
     "execution_count": 29,
     "metadata": {},
     "output_type": "execute_result"
    }
   ],
   "source": [
    "results2_df"
   ]
  },
  {
   "cell_type": "markdown",
   "metadata": {},
   "source": [
    "## hmm_binary_relapse_30_days_drug_vars"
   ]
  },
  {
   "cell_type": "code",
   "execution_count": 37,
   "metadata": {},
   "outputs": [
    {
     "data": {
      "text/plain": [
       "{'continuous_event_time_col': 'LOG_TIME_UNTIL_NEXT_POSITIVE',\n",
       " 'event_id_col': 'COLLECTION_ID',\n",
       " 'event_name': 'relapse',\n",
       " 'event_time_cat_col': 'RELAPSE_DURATION_CATEGORY',\n",
       " 'event_time_cat_order': ['0-30', '30-90', '90-180', '180+'],\n",
       " 'event_time_feature_col': 'RELAPSE_30_DAYS',\n",
       " 'feature_define_state_labels': 'RELAPSE_30_DAYS',\n",
       " 'features': {'ALCOHOL_POS': 'bernoulli',\n",
       "  'BUPRENORPHINE_POS': 'bernoulli',\n",
       "  'LOG_TIME_SINCE_LAST_NEGATIVE': 'gaussian',\n",
       "  'LOG_TIME_SINCE_LAST_POSITIVE': 'gaussian',\n",
       "  'NUM_POSITIVES_SINCE_LAST_NEGATIVE': 'poisson',\n",
       "  'RELAPSE_30_DAYS': 'bernoulli'},\n",
       " 'hidden_state_labels': ['low', 'medium', 'high'],\n",
       " 'id_col': 'DONOR_ID',\n",
       " 'model_name': 'hmm_binary_relapse_30_days_drug_vars',\n",
       " 'n_states': 3,\n",
       " 'save_model_path': '/workspaces/master-thesis-recurrent-health-events-prediction/_models/drug_relapse/hmm',\n",
       " 'time_col': 'RELAPSE_START',\n",
       " 'use_only_sequences_gte_2_steps': False}"
      ]
     },
     "execution_count": 37,
     "metadata": {},
     "output_type": "execute_result"
    }
   ],
   "source": [
    "from recurrent_health_events_prediction.model_analysis.utils import get_model_config\n",
    "\n",
    "\n",
    "model_name = \"hmm_binary_relapse_30_days_drug_vars\"\n",
    "\n",
    "get_model_config(model_name, BASE_MODEL_DIR)"
   ]
  },
  {
   "cell_type": "code",
   "execution_count": 38,
   "metadata": {},
   "outputs": [
    {
     "name": "stdout",
     "output_type": "stream",
     "text": [
      "Comparing hmm_binary_relapse_30_days_drug_vars with baseline using auc metric...\n",
      "Number of predictions in baseline: 2458\n",
      "Number of predictions in hmm_binary_relapse_30_days_drug_vars: 2458\n",
      "Number of common predictions: 2458\n",
      "Evaluating HMM Features with classifier:  lgbm\n",
      "Calculating  auc  with  5000  bootstrap samples...\n",
      "\n"
     ]
    },
    {
     "name": "stderr",
     "output_type": "stream",
     "text": [
      "100%|██████████| 5000/5000 [00:31<00:00, 160.24it/s]\n"
     ]
    }
   ],
   "source": [
    "from recurrent_health_events_prediction.model_analysis.utils import compare_classifier_with_baseline\n",
    "\n",
    "results3_df = compare_classifier_with_baseline(\n",
    "    model_name=model_name,\n",
    "    base_model_dir=BASE_MODEL_DIR,\n",
    "    baseline_results_dir=BASELINE_RESULTS_DIR,\n",
    "    classifier=CLASSIFIER,\n",
    "    metric=METRIC,\n",
    "    n_boot=N_BOOTSTRAPS,\n",
    "    random_state=RANDOM_STATE,\n",
    "    threshold = THRESHOLD,\n",
    ")"
   ]
  },
  {
   "cell_type": "code",
   "execution_count": 39,
   "metadata": {},
   "outputs": [
    {
     "data": {
      "application/vnd.microsoft.datawrangler.viewer.v0+json": {
       "columns": [
        {
         "name": "index",
         "rawType": "int64",
         "type": "integer"
        },
        {
         "name": "model_name",
         "rawType": "object",
         "type": "string"
        },
        {
         "name": "n_states",
         "rawType": "int64",
         "type": "integer"
        },
        {
         "name": "classifier",
         "rawType": "object",
         "type": "string"
        },
        {
         "name": "metric",
         "rawType": "object",
         "type": "string"
        },
        {
         "name": "obs_delta",
         "rawType": "float64",
         "type": "float"
        },
        {
         "name": "delta_mean",
         "rawType": "float64",
         "type": "float"
        },
        {
         "name": "ci_low",
         "rawType": "float64",
         "type": "float"
        },
        {
         "name": "ci_high",
         "rawType": "float64",
         "type": "float"
        },
        {
         "name": "p_value",
         "rawType": "float64",
         "type": "float"
        },
        {
         "name": "n_boot",
         "rawType": "int64",
         "type": "integer"
        }
       ],
       "ref": "cba2b1ff-dd03-4a4c-9295-05d09973bd5b",
       "rows": [
        [
         "0",
         "hmm_binary_relapse_30_days_drug_vars",
         "3",
         "lgbm",
         "auc",
         "-0.008040272225445788",
         "-0.00790115678514205",
         "-0.017450804193570767",
         "0.0015259366732496144",
         "0.1064",
         "5000"
        ]
       ],
       "shape": {
        "columns": 10,
        "rows": 1
       }
      },
      "text/html": [
       "<div>\n",
       "<style scoped>\n",
       "    .dataframe tbody tr th:only-of-type {\n",
       "        vertical-align: middle;\n",
       "    }\n",
       "\n",
       "    .dataframe tbody tr th {\n",
       "        vertical-align: top;\n",
       "    }\n",
       "\n",
       "    .dataframe thead th {\n",
       "        text-align: right;\n",
       "    }\n",
       "</style>\n",
       "<table border=\"1\" class=\"dataframe\">\n",
       "  <thead>\n",
       "    <tr style=\"text-align: right;\">\n",
       "      <th></th>\n",
       "      <th>model_name</th>\n",
       "      <th>n_states</th>\n",
       "      <th>classifier</th>\n",
       "      <th>metric</th>\n",
       "      <th>obs_delta</th>\n",
       "      <th>delta_mean</th>\n",
       "      <th>ci_low</th>\n",
       "      <th>ci_high</th>\n",
       "      <th>p_value</th>\n",
       "      <th>n_boot</th>\n",
       "    </tr>\n",
       "  </thead>\n",
       "  <tbody>\n",
       "    <tr>\n",
       "      <th>0</th>\n",
       "      <td>hmm_binary_relapse_30_days_drug_vars</td>\n",
       "      <td>3</td>\n",
       "      <td>lgbm</td>\n",
       "      <td>auc</td>\n",
       "      <td>-0.00804</td>\n",
       "      <td>-0.007901</td>\n",
       "      <td>-0.017451</td>\n",
       "      <td>0.001526</td>\n",
       "      <td>0.1064</td>\n",
       "      <td>5000</td>\n",
       "    </tr>\n",
       "  </tbody>\n",
       "</table>\n",
       "</div>"
      ],
      "text/plain": [
       "                             model_name  n_states classifier metric  \\\n",
       "0  hmm_binary_relapse_30_days_drug_vars         3       lgbm    auc   \n",
       "\n",
       "   obs_delta  delta_mean    ci_low   ci_high  p_value  n_boot  \n",
       "0   -0.00804   -0.007901 -0.017451  0.001526   0.1064    5000  "
      ]
     },
     "execution_count": 39,
     "metadata": {},
     "output_type": "execute_result"
    }
   ],
   "source": [
    "results3_df"
   ]
  },
  {
   "cell_type": "markdown",
   "metadata": {},
   "source": [
    "## hmm_gamma_relapse_time"
   ]
  },
  {
   "cell_type": "code",
   "execution_count": 24,
   "metadata": {},
   "outputs": [
    {
     "data": {
      "text/plain": [
       "{'continuous_event_time_col': 'LOG_TIME_UNTIL_NEXT_POSITIVE',\n",
       " 'event_id_col': 'COLLECTION_ID',\n",
       " 'event_name': 'relapse',\n",
       " 'event_time_cat_col': 'RELAPSE_DURATION_CATEGORY',\n",
       " 'event_time_cat_order': ['0-30', '30-90', '90-180', '180+'],\n",
       " 'event_time_feature_col': 'LOG_TIME_UNTIL_NEXT_POSITIVE',\n",
       " 'feature_define_state_labels': 'LOG_TIME_UNTIL_NEXT_POSITIVE',\n",
       " 'features': {'LOG_TIME_SINCE_LAST_NEGATIVE': 'gaussian',\n",
       "  'LOG_TIME_UNTIL_NEXT_POSITIVE': 'gamma',\n",
       "  'NUM_POSITIVES_SINCE_LAST_NEGATIVE': 'poisson'},\n",
       " 'hidden_state_labels': ['high_2', 'high_1', 'medium', 'low_2', 'low_1'],\n",
       " 'id_col': 'DONOR_ID',\n",
       " 'model_name': 'hmm_gamma_relapse_time',\n",
       " 'n_states': 5,\n",
       " 'save_model_path': '/workspaces/master-thesis-recurrent-health-events-prediction/_models/drug_relapse/hmm',\n",
       " 'time_col': 'RELAPSE_START',\n",
       " 'use_only_sequences_gte_2_steps': False}"
      ]
     },
     "execution_count": 24,
     "metadata": {},
     "output_type": "execute_result"
    }
   ],
   "source": [
    "from recurrent_health_events_prediction.model_analysis.utils import get_model_config\n",
    "\n",
    "\n",
    "model_name = \"hmm_gamma_relapse_time\"\n",
    "\n",
    "get_model_config(model_name, BASE_MODEL_DIR)"
   ]
  },
  {
   "cell_type": "code",
   "execution_count": 25,
   "metadata": {},
   "outputs": [
    {
     "name": "stdout",
     "output_type": "stream",
     "text": [
      "Comparing hmm_gamma_relapse_time with baseline using auc metric...\n",
      "Number of predictions in baseline: 2458\n",
      "Number of predictions in hmm_gamma_relapse_time: 2458\n",
      "Number of common predictions: 2458\n",
      "Evaluating HMM Features with classifier:  lgbm\n",
      "Calculating  auc  with  5000  bootstrap samples...\n",
      "\n"
     ]
    },
    {
     "name": "stderr",
     "output_type": "stream",
     "text": [
      "  0%|          | 0/5000 [00:00<?, ?it/s]"
     ]
    },
    {
     "name": "stderr",
     "output_type": "stream",
     "text": [
      "100%|██████████| 5000/5000 [00:14<00:00, 337.81it/s]\n"
     ]
    }
   ],
   "source": [
    "from recurrent_health_events_prediction.model_analysis.utils import compare_classifier_with_baseline\n",
    "\n",
    "results4_df = compare_classifier_with_baseline(\n",
    "    model_name=model_name,\n",
    "    base_model_dir=BASE_MODEL_DIR,\n",
    "    baseline_results_dir=BASELINE_RESULTS_DIR,\n",
    "    classifier=CLASSIFIER,\n",
    "    metric=METRIC,\n",
    "    n_boot=N_BOOTSTRAPS,\n",
    "    random_state=RANDOM_STATE,\n",
    "    threshold = THRESHOLD,\n",
    ")"
   ]
  },
  {
   "cell_type": "code",
   "execution_count": 26,
   "metadata": {},
   "outputs": [
    {
     "data": {
      "application/vnd.microsoft.datawrangler.viewer.v0+json": {
       "columns": [
        {
         "name": "index",
         "rawType": "int64",
         "type": "integer"
        },
        {
         "name": "model_name",
         "rawType": "object",
         "type": "string"
        },
        {
         "name": "n_states",
         "rawType": "int64",
         "type": "integer"
        },
        {
         "name": "classifier",
         "rawType": "object",
         "type": "string"
        },
        {
         "name": "metric",
         "rawType": "object",
         "type": "string"
        },
        {
         "name": "obs_delta",
         "rawType": "float64",
         "type": "float"
        },
        {
         "name": "delta_mean",
         "rawType": "float64",
         "type": "float"
        },
        {
         "name": "ci_low",
         "rawType": "float64",
         "type": "float"
        },
        {
         "name": "ci_high",
         "rawType": "float64",
         "type": "float"
        },
        {
         "name": "p_value",
         "rawType": "float64",
         "type": "float"
        },
        {
         "name": "n_boot",
         "rawType": "int64",
         "type": "integer"
        }
       ],
       "ref": "1a9aeabc-1e8d-49a4-bbaa-b0685a01c041",
       "rows": [
        [
         "0",
         "hmm_gamma_relapse_time",
         "5",
         "lgbm",
         "auc",
         "-0.009274575612560398",
         "-0.009136012847401507",
         "-0.01944510244385412",
         "0.0007924078031928583",
         "0.0708",
         "5000"
        ]
       ],
       "shape": {
        "columns": 10,
        "rows": 1
       }
      },
      "text/html": [
       "<div>\n",
       "<style scoped>\n",
       "    .dataframe tbody tr th:only-of-type {\n",
       "        vertical-align: middle;\n",
       "    }\n",
       "\n",
       "    .dataframe tbody tr th {\n",
       "        vertical-align: top;\n",
       "    }\n",
       "\n",
       "    .dataframe thead th {\n",
       "        text-align: right;\n",
       "    }\n",
       "</style>\n",
       "<table border=\"1\" class=\"dataframe\">\n",
       "  <thead>\n",
       "    <tr style=\"text-align: right;\">\n",
       "      <th></th>\n",
       "      <th>model_name</th>\n",
       "      <th>n_states</th>\n",
       "      <th>classifier</th>\n",
       "      <th>metric</th>\n",
       "      <th>obs_delta</th>\n",
       "      <th>delta_mean</th>\n",
       "      <th>ci_low</th>\n",
       "      <th>ci_high</th>\n",
       "      <th>p_value</th>\n",
       "      <th>n_boot</th>\n",
       "    </tr>\n",
       "  </thead>\n",
       "  <tbody>\n",
       "    <tr>\n",
       "      <th>0</th>\n",
       "      <td>hmm_gamma_relapse_time</td>\n",
       "      <td>5</td>\n",
       "      <td>lgbm</td>\n",
       "      <td>auc</td>\n",
       "      <td>-0.009275</td>\n",
       "      <td>-0.009136</td>\n",
       "      <td>-0.019445</td>\n",
       "      <td>0.000792</td>\n",
       "      <td>0.0708</td>\n",
       "      <td>5000</td>\n",
       "    </tr>\n",
       "  </tbody>\n",
       "</table>\n",
       "</div>"
      ],
      "text/plain": [
       "               model_name  n_states classifier metric  obs_delta  delta_mean  \\\n",
       "0  hmm_gamma_relapse_time         5       lgbm    auc  -0.009275   -0.009136   \n",
       "\n",
       "     ci_low   ci_high  p_value  n_boot  \n",
       "0 -0.019445  0.000792   0.0708    5000  "
      ]
     },
     "execution_count": 26,
     "metadata": {},
     "output_type": "execute_result"
    }
   ],
   "source": [
    "results4_df"
   ]
  },
  {
   "cell_type": "markdown",
   "metadata": {},
   "source": [
    "## hmm_student_t_relapse_time"
   ]
  },
  {
   "cell_type": "code",
   "execution_count": 21,
   "metadata": {},
   "outputs": [
    {
     "data": {
      "text/plain": [
       "{'continuous_event_time_col': 'LOG_TIME_UNTIL_NEXT_POSITIVE',\n",
       " 'dof': 10,\n",
       " 'event_id_col': 'COLLECTION_ID',\n",
       " 'event_name': 'relapse',\n",
       " 'event_time_cat_col': 'RELAPSE_DURATION_CATEGORY',\n",
       " 'event_time_cat_order': ['0-30', '30-90', '90-180', '180+'],\n",
       " 'event_time_feature_col': 'LOG_TIME_UNTIL_NEXT_POSITIVE',\n",
       " 'feature_define_state_labels': 'LOG_TIME_UNTIL_NEXT_POSITIVE',\n",
       " 'features': {'LOG_TIME_SINCE_LAST_POSITIVE': 'student_t',\n",
       "  'LOG_TIME_UNTIL_NEXT_POSITIVE': 'student_t',\n",
       "  'NUM_POSITIVES_SINCE_LAST_NEGATIVE': 'poisson'},\n",
       " 'hidden_state_labels': ['high_2', 'high_1', 'medium', 'low_2', 'low_1'],\n",
       " 'id_col': 'DONOR_ID',\n",
       " 'model_name': 'hmm_student_t_relapse_time',\n",
       " 'n_states': 5,\n",
       " 'save_model_path': '/workspaces/master-thesis-recurrent-health-events-prediction/_models/drug_relapse/hmm',\n",
       " 'time_col': 'RELAPSE_START',\n",
       " 'use_only_sequences_gte_2_steps': False}"
      ]
     },
     "execution_count": 21,
     "metadata": {},
     "output_type": "execute_result"
    }
   ],
   "source": [
    "from recurrent_health_events_prediction.model_analysis.utils import get_model_config\n",
    "\n",
    "\n",
    "model_name = \"hmm_student_t_relapse_time\"\n",
    "\n",
    "get_model_config(model_name, BASE_MODEL_DIR)"
   ]
  },
  {
   "cell_type": "code",
   "execution_count": 22,
   "metadata": {},
   "outputs": [
    {
     "name": "stdout",
     "output_type": "stream",
     "text": [
      "Comparing hmm_student_t_relapse_time with baseline using auc metric...\n",
      "Number of predictions in baseline: 2458\n",
      "Number of predictions in hmm_student_t_relapse_time: 2458\n",
      "Number of common predictions: 2458\n",
      "Evaluating HMM Features with classifier:  lgbm\n",
      "Calculating  auc  with  5000  bootstrap samples...\n",
      "\n"
     ]
    },
    {
     "name": "stderr",
     "output_type": "stream",
     "text": [
      "  0%|          | 0/5000 [00:00<?, ?it/s]"
     ]
    },
    {
     "name": "stderr",
     "output_type": "stream",
     "text": [
      "100%|██████████| 5000/5000 [00:14<00:00, 338.00it/s]\n"
     ]
    }
   ],
   "source": [
    "from recurrent_health_events_prediction.model_analysis.utils import compare_classifier_with_baseline\n",
    "\n",
    "results5_df = compare_classifier_with_baseline(\n",
    "    model_name=model_name,\n",
    "    base_model_dir=BASE_MODEL_DIR,\n",
    "    baseline_results_dir=BASELINE_RESULTS_DIR,\n",
    "    classifier=CLASSIFIER,\n",
    "    metric=METRIC,\n",
    "    n_boot=N_BOOTSTRAPS,\n",
    "    random_state=RANDOM_STATE,\n",
    "    threshold = THRESHOLD,\n",
    ")"
   ]
  },
  {
   "cell_type": "code",
   "execution_count": 23,
   "metadata": {},
   "outputs": [
    {
     "data": {
      "application/vnd.microsoft.datawrangler.viewer.v0+json": {
       "columns": [
        {
         "name": "index",
         "rawType": "int64",
         "type": "integer"
        },
        {
         "name": "model_name",
         "rawType": "object",
         "type": "string"
        },
        {
         "name": "n_states",
         "rawType": "int64",
         "type": "integer"
        },
        {
         "name": "classifier",
         "rawType": "object",
         "type": "string"
        },
        {
         "name": "metric",
         "rawType": "object",
         "type": "string"
        },
        {
         "name": "obs_delta",
         "rawType": "float64",
         "type": "float"
        },
        {
         "name": "delta_mean",
         "rawType": "float64",
         "type": "float"
        },
        {
         "name": "ci_low",
         "rawType": "float64",
         "type": "float"
        },
        {
         "name": "ci_high",
         "rawType": "float64",
         "type": "float"
        },
        {
         "name": "p_value",
         "rawType": "float64",
         "type": "float"
        },
        {
         "name": "n_boot",
         "rawType": "int64",
         "type": "integer"
        }
       ],
       "ref": "cd8e1153-c63c-4dd3-b282-b8df5909e13c",
       "rows": [
        [
         "0",
         "hmm_student_t_relapse_time",
         "5",
         "lgbm",
         "auc",
         "-0.005411971212451738",
         "-0.005364900603644222",
         "-0.015190149260881762",
         "0.004424478598310526",
         "0.2772",
         "5000"
        ]
       ],
       "shape": {
        "columns": 10,
        "rows": 1
       }
      },
      "text/html": [
       "<div>\n",
       "<style scoped>\n",
       "    .dataframe tbody tr th:only-of-type {\n",
       "        vertical-align: middle;\n",
       "    }\n",
       "\n",
       "    .dataframe tbody tr th {\n",
       "        vertical-align: top;\n",
       "    }\n",
       "\n",
       "    .dataframe thead th {\n",
       "        text-align: right;\n",
       "    }\n",
       "</style>\n",
       "<table border=\"1\" class=\"dataframe\">\n",
       "  <thead>\n",
       "    <tr style=\"text-align: right;\">\n",
       "      <th></th>\n",
       "      <th>model_name</th>\n",
       "      <th>n_states</th>\n",
       "      <th>classifier</th>\n",
       "      <th>metric</th>\n",
       "      <th>obs_delta</th>\n",
       "      <th>delta_mean</th>\n",
       "      <th>ci_low</th>\n",
       "      <th>ci_high</th>\n",
       "      <th>p_value</th>\n",
       "      <th>n_boot</th>\n",
       "    </tr>\n",
       "  </thead>\n",
       "  <tbody>\n",
       "    <tr>\n",
       "      <th>0</th>\n",
       "      <td>hmm_student_t_relapse_time</td>\n",
       "      <td>5</td>\n",
       "      <td>lgbm</td>\n",
       "      <td>auc</td>\n",
       "      <td>-0.005412</td>\n",
       "      <td>-0.005365</td>\n",
       "      <td>-0.01519</td>\n",
       "      <td>0.004424</td>\n",
       "      <td>0.2772</td>\n",
       "      <td>5000</td>\n",
       "    </tr>\n",
       "  </tbody>\n",
       "</table>\n",
       "</div>"
      ],
      "text/plain": [
       "                   model_name  n_states classifier metric  obs_delta  \\\n",
       "0  hmm_student_t_relapse_time         5       lgbm    auc  -0.005412   \n",
       "\n",
       "   delta_mean   ci_low   ci_high  p_value  n_boot  \n",
       "0   -0.005365 -0.01519  0.004424   0.2772    5000  "
      ]
     },
     "execution_count": 23,
     "metadata": {},
     "output_type": "execute_result"
    }
   ],
   "source": [
    "results5_df"
   ]
  },
  {
   "cell_type": "markdown",
   "metadata": {},
   "source": [
    "## hmm_log_normal_relapse_time"
   ]
  },
  {
   "cell_type": "code",
   "execution_count": 18,
   "metadata": {},
   "outputs": [
    {
     "data": {
      "text/plain": [
       "{'continuous_event_time_col': 'LOG_TIME_UNTIL_NEXT_POSITIVE',\n",
       " 'event_id_col': 'COLLECTION_ID',\n",
       " 'event_name': 'relapse',\n",
       " 'event_time_cat_col': 'RELAPSE_DURATION_CATEGORY',\n",
       " 'event_time_cat_order': ['0-30', '30-90', '90-180', '180+'],\n",
       " 'event_time_feature_col': 'LOG_TIME_UNTIL_NEXT_POSITIVE',\n",
       " 'feature_define_state_labels': 'LOG_TIME_UNTIL_NEXT_POSITIVE',\n",
       " 'features': {'LOG_TIME_SINCE_LAST_POSITIVE': 'gaussian',\n",
       "  'LOG_TIME_UNTIL_NEXT_POSITIVE': 'gaussian',\n",
       "  'NUM_POSITIVES_SINCE_LAST_NEGATIVE': 'poisson'},\n",
       " 'hidden_state_labels': ['high', 'medium_2', 'medium_1', 'low'],\n",
       " 'id_col': 'DONOR_ID',\n",
       " 'model_name': 'hmm_log_normal_relapse_time',\n",
       " 'n_states': 4,\n",
       " 'save_model_path': '/workspaces/master-thesis-recurrent-health-events-prediction/_models/drug_relapse/hmm',\n",
       " 'time_col': 'RELAPSE_START',\n",
       " 'use_only_sequences_gte_2_steps': False}"
      ]
     },
     "execution_count": 18,
     "metadata": {},
     "output_type": "execute_result"
    }
   ],
   "source": [
    "from recurrent_health_events_prediction.model_analysis.utils import get_model_config\n",
    "\n",
    "\n",
    "model_name = \"hmm_log_normal_relapse_time\"\n",
    "\n",
    "get_model_config(model_name, BASE_MODEL_DIR)"
   ]
  },
  {
   "cell_type": "code",
   "execution_count": 19,
   "metadata": {},
   "outputs": [
    {
     "name": "stdout",
     "output_type": "stream",
     "text": [
      "Comparing hmm_log_normal_relapse_time with baseline using auc metric...\n",
      "Number of predictions in baseline: 2458\n",
      "Number of predictions in hmm_log_normal_relapse_time: 2458\n",
      "Number of common predictions: 2458\n",
      "Evaluating HMM Features with classifier:  lgbm\n",
      "Calculating  auc  with  5000  bootstrap samples...\n",
      "\n"
     ]
    },
    {
     "name": "stderr",
     "output_type": "stream",
     "text": [
      "100%|██████████| 5000/5000 [00:16<00:00, 296.52it/s]\n"
     ]
    }
   ],
   "source": [
    "from recurrent_health_events_prediction.model_analysis.utils import compare_classifier_with_baseline\n",
    "\n",
    "results8_df = compare_classifier_with_baseline(\n",
    "    model_name=model_name,\n",
    "    base_model_dir=BASE_MODEL_DIR,\n",
    "    baseline_results_dir=BASELINE_RESULTS_DIR,\n",
    "    classifier=CLASSIFIER,\n",
    "    metric=METRIC,\n",
    "    n_boot=N_BOOTSTRAPS,\n",
    "    random_state=RANDOM_STATE,\n",
    "    threshold = THRESHOLD,\n",
    ")"
   ]
  },
  {
   "cell_type": "code",
   "execution_count": 20,
   "metadata": {},
   "outputs": [
    {
     "data": {
      "application/vnd.microsoft.datawrangler.viewer.v0+json": {
       "columns": [
        {
         "name": "index",
         "rawType": "int64",
         "type": "integer"
        },
        {
         "name": "model_name",
         "rawType": "object",
         "type": "string"
        },
        {
         "name": "n_states",
         "rawType": "int64",
         "type": "integer"
        },
        {
         "name": "classifier",
         "rawType": "object",
         "type": "string"
        },
        {
         "name": "metric",
         "rawType": "object",
         "type": "string"
        },
        {
         "name": "obs_delta",
         "rawType": "float64",
         "type": "float"
        },
        {
         "name": "delta_mean",
         "rawType": "float64",
         "type": "float"
        },
        {
         "name": "ci_low",
         "rawType": "float64",
         "type": "float"
        },
        {
         "name": "ci_high",
         "rawType": "float64",
         "type": "float"
        },
        {
         "name": "p_value",
         "rawType": "float64",
         "type": "float"
        },
        {
         "name": "n_boot",
         "rawType": "int64",
         "type": "integer"
        }
       ],
       "ref": "0b2f76f7-4c39-4518-bd90-14e07362d435",
       "rows": [
        [
         "0",
         "hmm_log_normal_relapse_time",
         "4",
         "lgbm",
         "auc",
         "-0.006788335932800593",
         "-0.006716360208986526",
         "-0.01587807378139989",
         "0.0023666769358932135",
         "0.1444",
         "5000"
        ]
       ],
       "shape": {
        "columns": 10,
        "rows": 1
       }
      },
      "text/html": [
       "<div>\n",
       "<style scoped>\n",
       "    .dataframe tbody tr th:only-of-type {\n",
       "        vertical-align: middle;\n",
       "    }\n",
       "\n",
       "    .dataframe tbody tr th {\n",
       "        vertical-align: top;\n",
       "    }\n",
       "\n",
       "    .dataframe thead th {\n",
       "        text-align: right;\n",
       "    }\n",
       "</style>\n",
       "<table border=\"1\" class=\"dataframe\">\n",
       "  <thead>\n",
       "    <tr style=\"text-align: right;\">\n",
       "      <th></th>\n",
       "      <th>model_name</th>\n",
       "      <th>n_states</th>\n",
       "      <th>classifier</th>\n",
       "      <th>metric</th>\n",
       "      <th>obs_delta</th>\n",
       "      <th>delta_mean</th>\n",
       "      <th>ci_low</th>\n",
       "      <th>ci_high</th>\n",
       "      <th>p_value</th>\n",
       "      <th>n_boot</th>\n",
       "    </tr>\n",
       "  </thead>\n",
       "  <tbody>\n",
       "    <tr>\n",
       "      <th>0</th>\n",
       "      <td>hmm_log_normal_relapse_time</td>\n",
       "      <td>4</td>\n",
       "      <td>lgbm</td>\n",
       "      <td>auc</td>\n",
       "      <td>-0.006788</td>\n",
       "      <td>-0.006716</td>\n",
       "      <td>-0.015878</td>\n",
       "      <td>0.002367</td>\n",
       "      <td>0.1444</td>\n",
       "      <td>5000</td>\n",
       "    </tr>\n",
       "  </tbody>\n",
       "</table>\n",
       "</div>"
      ],
      "text/plain": [
       "                    model_name  n_states classifier metric  obs_delta  \\\n",
       "0  hmm_log_normal_relapse_time         4       lgbm    auc  -0.006788   \n",
       "\n",
       "   delta_mean    ci_low   ci_high  p_value  n_boot  \n",
       "0   -0.006716 -0.015878  0.002367   0.1444    5000  "
      ]
     },
     "execution_count": 20,
     "metadata": {},
     "output_type": "execute_result"
    }
   ],
   "source": [
    "results8_df"
   ]
  },
  {
   "cell_type": "markdown",
   "metadata": {},
   "source": [
    "## Reduced Features Set - hmm_log_normal_relapse_time"
   ]
  },
  {
   "cell_type": "code",
   "execution_count": 16,
   "metadata": {},
   "outputs": [
    {
     "data": {
      "text/plain": [
       "{'continuous_event_time_col': 'LOG_TIME_UNTIL_NEXT_POSITIVE',\n",
       " 'event_id_col': 'COLLECTION_ID',\n",
       " 'event_name': 'relapse',\n",
       " 'event_time_cat_col': 'RELAPSE_DURATION_CATEGORY',\n",
       " 'event_time_cat_order': ['0-30', '30-90', '90-180', '180+'],\n",
       " 'event_time_feature_col': 'LOG_TIME_UNTIL_NEXT_POSITIVE',\n",
       " 'feature_define_state_labels': 'LOG_TIME_UNTIL_NEXT_POSITIVE',\n",
       " 'features': {'ALCOHOL_POS': 'bernoulli',\n",
       "  'BUPRENORPHINE_POS': 'bernoulli',\n",
       "  'LOG_TIME_SINCE_LAST_NEGATIVE': 'gaussian',\n",
       "  'LOG_TIME_SINCE_LAST_POSITIVE': 'gaussian',\n",
       "  'LOG_TIME_UNTIL_NEXT_POSITIVE': 'gaussian',\n",
       "  'NUM_POSITIVES_SINCE_LAST_NEGATIVE': 'poisson'},\n",
       " 'hidden_state_labels': ['high', 'medium', 'low'],\n",
       " 'id_col': 'DONOR_ID',\n",
       " 'model_name': 'hmm_relapse_reduced_feats_set',\n",
       " 'n_states': 3,\n",
       " 'save_model_path': '/workspaces/master-thesis-recurrent-health-events-prediction/_models/drug_relapse/hmm',\n",
       " 'time_col': 'RELAPSE_START',\n",
       " 'use_only_sequences_gte_2_steps': False}"
      ]
     },
     "execution_count": 16,
     "metadata": {},
     "output_type": "execute_result"
    }
   ],
   "source": [
    "from recurrent_health_events_prediction.model_analysis.utils import get_model_config\n",
    "\n",
    "\n",
    "model_name = \"hmm_relapse_reduced_feats_set\"\n",
    "\n",
    "get_model_config(model_name, BASE_MODEL_DIR)"
   ]
  },
  {
   "cell_type": "code",
   "execution_count": 17,
   "metadata": {},
   "outputs": [
    {
     "name": "stdout",
     "output_type": "stream",
     "text": [
      "Comparing hmm_relapse_reduced_feats_set with baseline using auc metric...\n",
      "Number of predictions in baseline: 2458\n",
      "Number of predictions in hmm_relapse_reduced_feats_set: 2458\n",
      "Number of common predictions: 2458\n",
      "Evaluating HMM Features with classifier:  lgbm\n",
      "Calculating  auc  with  5000  bootstrap samples...\n",
      "\n"
     ]
    },
    {
     "name": "stderr",
     "output_type": "stream",
     "text": [
      "100%|██████████| 5000/5000 [00:12<00:00, 386.92it/s]\n"
     ]
    }
   ],
   "source": [
    "from recurrent_health_events_prediction.model_analysis.utils import compare_classifier_with_baseline\n",
    "\n",
    "results7_df = compare_classifier_with_baseline(\n",
    "    model_name=model_name,\n",
    "    base_model_dir=BASE_MODEL_DIR,\n",
    "    baseline_results_dir=BASELINE_RESULTS_DIR,\n",
    "    classifier=CLASSIFIER,\n",
    "    metric=METRIC,\n",
    "    n_boot=N_BOOTSTRAPS,\n",
    "    random_state=RANDOM_STATE,\n",
    "    threshold = THRESHOLD,\n",
    ")"
   ]
  },
  {
   "cell_type": "code",
   "execution_count": 13,
   "metadata": {},
   "outputs": [
    {
     "data": {
      "application/vnd.microsoft.datawrangler.viewer.v0+json": {
       "columns": [
        {
         "name": "index",
         "rawType": "int64",
         "type": "integer"
        },
        {
         "name": "model_name",
         "rawType": "object",
         "type": "string"
        },
        {
         "name": "n_states",
         "rawType": "int64",
         "type": "integer"
        },
        {
         "name": "classifier",
         "rawType": "object",
         "type": "string"
        },
        {
         "name": "metric",
         "rawType": "object",
         "type": "string"
        },
        {
         "name": "obs_delta",
         "rawType": "float64",
         "type": "float"
        },
        {
         "name": "delta_mean",
         "rawType": "float64",
         "type": "float"
        },
        {
         "name": "ci_low",
         "rawType": "float64",
         "type": "float"
        },
        {
         "name": "ci_high",
         "rawType": "float64",
         "type": "float"
        },
        {
         "name": "p_value",
         "rawType": "float64",
         "type": "float"
        },
        {
         "name": "n_boot",
         "rawType": "int64",
         "type": "integer"
        }
       ],
       "ref": "ffb8af15-ee31-42ae-99be-d42bd8189c51",
       "rows": [
        [
         "0",
         "hmm_relapse_reduced_feats_set",
         "3",
         "lgbm",
         "auc",
         "-0.013584989273870307",
         "-0.013703421981379652",
         "-0.024357172467116276",
         "-0.002747289855689586",
         "0.0192",
         "2500"
        ]
       ],
       "shape": {
        "columns": 10,
        "rows": 1
       }
      },
      "text/html": [
       "<div>\n",
       "<style scoped>\n",
       "    .dataframe tbody tr th:only-of-type {\n",
       "        vertical-align: middle;\n",
       "    }\n",
       "\n",
       "    .dataframe tbody tr th {\n",
       "        vertical-align: top;\n",
       "    }\n",
       "\n",
       "    .dataframe thead th {\n",
       "        text-align: right;\n",
       "    }\n",
       "</style>\n",
       "<table border=\"1\" class=\"dataframe\">\n",
       "  <thead>\n",
       "    <tr style=\"text-align: right;\">\n",
       "      <th></th>\n",
       "      <th>model_name</th>\n",
       "      <th>n_states</th>\n",
       "      <th>classifier</th>\n",
       "      <th>metric</th>\n",
       "      <th>obs_delta</th>\n",
       "      <th>delta_mean</th>\n",
       "      <th>ci_low</th>\n",
       "      <th>ci_high</th>\n",
       "      <th>p_value</th>\n",
       "      <th>n_boot</th>\n",
       "    </tr>\n",
       "  </thead>\n",
       "  <tbody>\n",
       "    <tr>\n",
       "      <th>0</th>\n",
       "      <td>hmm_relapse_reduced_feats_set</td>\n",
       "      <td>3</td>\n",
       "      <td>lgbm</td>\n",
       "      <td>auc</td>\n",
       "      <td>-0.013585</td>\n",
       "      <td>-0.013703</td>\n",
       "      <td>-0.024357</td>\n",
       "      <td>-0.002747</td>\n",
       "      <td>0.0192</td>\n",
       "      <td>2500</td>\n",
       "    </tr>\n",
       "  </tbody>\n",
       "</table>\n",
       "</div>"
      ],
      "text/plain": [
       "                      model_name  n_states classifier metric  obs_delta  \\\n",
       "0  hmm_relapse_reduced_feats_set         3       lgbm    auc  -0.013585   \n",
       "\n",
       "   delta_mean    ci_low   ci_high  p_value  n_boot  \n",
       "0   -0.013703 -0.024357 -0.002747   0.0192    2500  "
      ]
     },
     "execution_count": 13,
     "metadata": {},
     "output_type": "execute_result"
    }
   ],
   "source": [
    "results7_df"
   ]
  },
  {
   "cell_type": "markdown",
   "metadata": {},
   "source": [
    "## All Results"
   ]
  },
  {
   "cell_type": "code",
   "execution_count": 40,
   "metadata": {},
   "outputs": [],
   "source": [
    "all_results_df_list = [results1_df, results2_df, results3_df, results4_df, results5_df, results6_df, results7_df, results8_df]\n",
    "all_results_df = pd.concat(all_results_df_list, ignore_index=True).sort_values(by=\"delta_mean\")\n"
   ]
  },
  {
   "cell_type": "code",
   "execution_count": 41,
   "metadata": {},
   "outputs": [
    {
     "data": {
      "application/vnd.microsoft.datawrangler.viewer.v0+json": {
       "columns": [
        {
         "name": "index",
         "rawType": "int64",
         "type": "integer"
        },
        {
         "name": "model_name",
         "rawType": "object",
         "type": "string"
        },
        {
         "name": "n_states",
         "rawType": "int64",
         "type": "integer"
        },
        {
         "name": "classifier",
         "rawType": "object",
         "type": "string"
        },
        {
         "name": "metric",
         "rawType": "object",
         "type": "string"
        },
        {
         "name": "obs_delta",
         "rawType": "float64",
         "type": "float"
        },
        {
         "name": "delta_mean",
         "rawType": "float64",
         "type": "float"
        },
        {
         "name": "ci_low",
         "rawType": "float64",
         "type": "float"
        },
        {
         "name": "ci_high",
         "rawType": "float64",
         "type": "float"
        },
        {
         "name": "p_value",
         "rawType": "float64",
         "type": "float"
        },
        {
         "name": "n_boot",
         "rawType": "int64",
         "type": "integer"
        }
       ],
       "ref": "7b85eb9e-cd08-482f-927b-1dedb956a698",
       "rows": [
        [
         "6",
         "hmm_relapse_reduced_feats_set",
         "3",
         "lgbm",
         "auc",
         "-0.013584989273870307",
         "-0.013551393465311753",
         "-0.024398834365135416",
         "-0.0025442452850274414",
         "0.0192",
         "5000"
        ],
        [
         "5",
         "hmm_categorical_relapse_time",
         "3",
         "lgbm",
         "auc",
         "-0.009995195864983875",
         "-0.009930155861577035",
         "-0.02026441706279725",
         "0.000315404438967607",
         "0.0584",
         "5000"
        ],
        [
         "3",
         "hmm_gamma_relapse_time",
         "5",
         "lgbm",
         "auc",
         "-0.009274575612560398",
         "-0.009136012847401507",
         "-0.01944510244385412",
         "0.0007924078031928583",
         "0.0708",
         "5000"
        ],
        [
         "2",
         "hmm_binary_relapse_30_days_drug_vars",
         "3",
         "lgbm",
         "auc",
         "-0.008040272225445788",
         "-0.00790115678514205",
         "-0.017450804193570767",
         "0.0015259366732496144",
         "0.1064",
         "5000"
        ],
        [
         "7",
         "hmm_log_normal_relapse_time",
         "4",
         "lgbm",
         "auc",
         "-0.006788335932800593",
         "-0.006716360208986526",
         "-0.01587807378139989",
         "0.0023666769358932135",
         "0.1444",
         "5000"
        ],
        [
         "4",
         "hmm_student_t_relapse_time",
         "5",
         "lgbm",
         "auc",
         "-0.005411971212451738",
         "-0.005364900603644222",
         "-0.015190149260881762",
         "0.004424478598310526",
         "0.2772",
         "5000"
        ],
        [
         "0",
         "hmm_binary_relapse_30_days",
         "4",
         "lgbm",
         "auc",
         "-0.005379699668368265",
         "-0.00524659531882955",
         "-0.015042847960438402",
         "0.004627356820807064",
         "0.2948",
         "5000"
        ],
        [
         "1",
         "hmm_log_normal_relapse_time_drug_vars",
         "3",
         "lgbm",
         "auc",
         "-0.005028372343087173",
         "-0.004925038260078038",
         "-0.014613528297819122",
         "0.004877203447798508",
         "0.3184",
         "5000"
        ]
       ],
       "shape": {
        "columns": 10,
        "rows": 8
       }
      },
      "text/html": [
       "<div>\n",
       "<style scoped>\n",
       "    .dataframe tbody tr th:only-of-type {\n",
       "        vertical-align: middle;\n",
       "    }\n",
       "\n",
       "    .dataframe tbody tr th {\n",
       "        vertical-align: top;\n",
       "    }\n",
       "\n",
       "    .dataframe thead th {\n",
       "        text-align: right;\n",
       "    }\n",
       "</style>\n",
       "<table border=\"1\" class=\"dataframe\">\n",
       "  <thead>\n",
       "    <tr style=\"text-align: right;\">\n",
       "      <th></th>\n",
       "      <th>model_name</th>\n",
       "      <th>n_states</th>\n",
       "      <th>classifier</th>\n",
       "      <th>metric</th>\n",
       "      <th>obs_delta</th>\n",
       "      <th>delta_mean</th>\n",
       "      <th>ci_low</th>\n",
       "      <th>ci_high</th>\n",
       "      <th>p_value</th>\n",
       "      <th>n_boot</th>\n",
       "    </tr>\n",
       "  </thead>\n",
       "  <tbody>\n",
       "    <tr>\n",
       "      <th>6</th>\n",
       "      <td>hmm_relapse_reduced_feats_set</td>\n",
       "      <td>3</td>\n",
       "      <td>lgbm</td>\n",
       "      <td>auc</td>\n",
       "      <td>-0.013585</td>\n",
       "      <td>-0.013551</td>\n",
       "      <td>-0.024399</td>\n",
       "      <td>-0.002544</td>\n",
       "      <td>0.0192</td>\n",
       "      <td>5000</td>\n",
       "    </tr>\n",
       "    <tr>\n",
       "      <th>5</th>\n",
       "      <td>hmm_categorical_relapse_time</td>\n",
       "      <td>3</td>\n",
       "      <td>lgbm</td>\n",
       "      <td>auc</td>\n",
       "      <td>-0.009995</td>\n",
       "      <td>-0.009930</td>\n",
       "      <td>-0.020264</td>\n",
       "      <td>0.000315</td>\n",
       "      <td>0.0584</td>\n",
       "      <td>5000</td>\n",
       "    </tr>\n",
       "    <tr>\n",
       "      <th>3</th>\n",
       "      <td>hmm_gamma_relapse_time</td>\n",
       "      <td>5</td>\n",
       "      <td>lgbm</td>\n",
       "      <td>auc</td>\n",
       "      <td>-0.009275</td>\n",
       "      <td>-0.009136</td>\n",
       "      <td>-0.019445</td>\n",
       "      <td>0.000792</td>\n",
       "      <td>0.0708</td>\n",
       "      <td>5000</td>\n",
       "    </tr>\n",
       "    <tr>\n",
       "      <th>2</th>\n",
       "      <td>hmm_binary_relapse_30_days_drug_vars</td>\n",
       "      <td>3</td>\n",
       "      <td>lgbm</td>\n",
       "      <td>auc</td>\n",
       "      <td>-0.008040</td>\n",
       "      <td>-0.007901</td>\n",
       "      <td>-0.017451</td>\n",
       "      <td>0.001526</td>\n",
       "      <td>0.1064</td>\n",
       "      <td>5000</td>\n",
       "    </tr>\n",
       "    <tr>\n",
       "      <th>7</th>\n",
       "      <td>hmm_log_normal_relapse_time</td>\n",
       "      <td>4</td>\n",
       "      <td>lgbm</td>\n",
       "      <td>auc</td>\n",
       "      <td>-0.006788</td>\n",
       "      <td>-0.006716</td>\n",
       "      <td>-0.015878</td>\n",
       "      <td>0.002367</td>\n",
       "      <td>0.1444</td>\n",
       "      <td>5000</td>\n",
       "    </tr>\n",
       "    <tr>\n",
       "      <th>4</th>\n",
       "      <td>hmm_student_t_relapse_time</td>\n",
       "      <td>5</td>\n",
       "      <td>lgbm</td>\n",
       "      <td>auc</td>\n",
       "      <td>-0.005412</td>\n",
       "      <td>-0.005365</td>\n",
       "      <td>-0.015190</td>\n",
       "      <td>0.004424</td>\n",
       "      <td>0.2772</td>\n",
       "      <td>5000</td>\n",
       "    </tr>\n",
       "    <tr>\n",
       "      <th>0</th>\n",
       "      <td>hmm_binary_relapse_30_days</td>\n",
       "      <td>4</td>\n",
       "      <td>lgbm</td>\n",
       "      <td>auc</td>\n",
       "      <td>-0.005380</td>\n",
       "      <td>-0.005247</td>\n",
       "      <td>-0.015043</td>\n",
       "      <td>0.004627</td>\n",
       "      <td>0.2948</td>\n",
       "      <td>5000</td>\n",
       "    </tr>\n",
       "    <tr>\n",
       "      <th>1</th>\n",
       "      <td>hmm_log_normal_relapse_time_drug_vars</td>\n",
       "      <td>3</td>\n",
       "      <td>lgbm</td>\n",
       "      <td>auc</td>\n",
       "      <td>-0.005028</td>\n",
       "      <td>-0.004925</td>\n",
       "      <td>-0.014614</td>\n",
       "      <td>0.004877</td>\n",
       "      <td>0.3184</td>\n",
       "      <td>5000</td>\n",
       "    </tr>\n",
       "  </tbody>\n",
       "</table>\n",
       "</div>"
      ],
      "text/plain": [
       "                              model_name  n_states classifier metric  \\\n",
       "6          hmm_relapse_reduced_feats_set         3       lgbm    auc   \n",
       "5           hmm_categorical_relapse_time         3       lgbm    auc   \n",
       "3                 hmm_gamma_relapse_time         5       lgbm    auc   \n",
       "2   hmm_binary_relapse_30_days_drug_vars         3       lgbm    auc   \n",
       "7            hmm_log_normal_relapse_time         4       lgbm    auc   \n",
       "4             hmm_student_t_relapse_time         5       lgbm    auc   \n",
       "0             hmm_binary_relapse_30_days         4       lgbm    auc   \n",
       "1  hmm_log_normal_relapse_time_drug_vars         3       lgbm    auc   \n",
       "\n",
       "   obs_delta  delta_mean    ci_low   ci_high  p_value  n_boot  \n",
       "6  -0.013585   -0.013551 -0.024399 -0.002544   0.0192    5000  \n",
       "5  -0.009995   -0.009930 -0.020264  0.000315   0.0584    5000  \n",
       "3  -0.009275   -0.009136 -0.019445  0.000792   0.0708    5000  \n",
       "2  -0.008040   -0.007901 -0.017451  0.001526   0.1064    5000  \n",
       "7  -0.006788   -0.006716 -0.015878  0.002367   0.1444    5000  \n",
       "4  -0.005412   -0.005365 -0.015190  0.004424   0.2772    5000  \n",
       "0  -0.005380   -0.005247 -0.015043  0.004627   0.2948    5000  \n",
       "1  -0.005028   -0.004925 -0.014614  0.004877   0.3184    5000  "
      ]
     },
     "execution_count": 41,
     "metadata": {},
     "output_type": "execute_result"
    }
   ],
   "source": [
    "all_results_df"
   ]
  },
  {
   "cell_type": "code",
   "execution_count": 42,
   "metadata": {},
   "outputs": [],
   "source": [
    "if not os.path.exists(SAVE_RESULTS_DIR):\n",
    "    os.makedirs(SAVE_RESULTS_DIR, exist_ok=True)\n",
    "all_results_df.to_csv(os.path.join(SAVE_RESULTS_DIR, filename), index=False)"
   ]
  }
 ],
 "metadata": {
  "kernelspec": {
   "display_name": "recurrent-health-events-prediction-py3.10 (3.10.14)",
   "language": "python",
   "name": "python3"
  },
  "language_info": {
   "codemirror_mode": {
    "name": "ipython",
    "version": 3
   },
   "file_extension": ".py",
   "mimetype": "text/x-python",
   "name": "python",
   "nbconvert_exporter": "python",
   "pygments_lexer": "ipython3",
   "version": "3.10.14"
  }
 },
 "nbformat": 4,
 "nbformat_minor": 2
}
