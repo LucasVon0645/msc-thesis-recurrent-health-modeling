{
 "cells": [
  {
   "cell_type": "markdown",
   "metadata": {},
   "source": [
    "# Baseline vs Models - MIMIC Dataset - Boostrap Test Set"
   ]
  },
  {
   "cell_type": "code",
   "execution_count": 1,
   "metadata": {},
   "outputs": [],
   "source": [
    "import pandas as pd\n",
    "import numpy as np\n",
    "import yaml\n",
    "import os\n",
    "from importlib import resources as impresources\n",
    "from recurrent_health_events_prediction import configs\n",
    "import plotly.express as px\n",
    "from recurrent_health_events_prediction.model_analysis.utils import MetricEnum"
   ]
  },
  {
   "cell_type": "code",
   "execution_count": 2,
   "metadata": {},
   "outputs": [],
   "source": [
    "with open((impresources.files(configs) / 'model_config.yaml')) as f:\n",
    "    model_config = yaml.safe_load(f)\n",
    "with open((impresources.files(configs) / 'data_config.yaml')) as f:\n",
    "    data_config = yaml.safe_load(f)"
   ]
  },
  {
   "cell_type": "code",
   "execution_count": 3,
   "metadata": {},
   "outputs": [],
   "source": [
    "SAVE_RESULTS_DIR = data_config['final_results'][\"mimic_path\"]"
   ]
  },
  {
   "cell_type": "code",
   "execution_count": 4,
   "metadata": {},
   "outputs": [],
   "source": [
    "DATASET = \"mimic\"\n",
    "BASELINE_RESULTS_DIR = \"/workspaces/master-thesis-recurrent-health-events-prediction/_models/mimic/classifiers_baselines\"\n",
    "BASE_MODEL_DIR = model_config[DATASET][\"hidden_markov\"][\"save_model_path\"]\n",
    "CLASSIFIER = \"lgbm\"\n",
    "METRIC = MetricEnum.AUC.value\n",
    "N_BOOTSTRAPS = 5000\n",
    "RANDOM_STATE = 42\n",
    "THRESHOLD = 0.5 # probability threshold for classification"
   ]
  },
  {
   "cell_type": "code",
   "execution_count": 5,
   "metadata": {},
   "outputs": [
    {
     "name": "stdout",
     "output_type": "stream",
     "text": [
      "Saving results to /workspaces/master-thesis-recurrent-health-events-prediction/results/mimic/hmm_vs_baseline_mimic_lgbm_auc.csv\n"
     ]
    }
   ],
   "source": [
    "filename = f\"hmm_vs_baseline_{DATASET}_{CLASSIFIER}_{METRIC}.csv\"\n",
    "print(f\"Saving results to {os.path.join(SAVE_RESULTS_DIR, filename)}\")"
   ]
  },
  {
   "cell_type": "markdown",
   "metadata": {},
   "source": [
    "## hmm_mimic_time_log_normal_v1"
   ]
  },
  {
   "cell_type": "code",
   "execution_count": 6,
   "metadata": {},
   "outputs": [
    {
     "data": {
      "text/plain": [
       "{'continuous_event_time_col': 'LOG_DAYS_UNTIL_NEXT_HOSPITALIZATION',\n",
       " 'event_id_col': 'HADM_ID',\n",
       " 'event_name': 'readmission',\n",
       " 'event_time_cat_col': 'READMISSION_TIME_CAT',\n",
       " 'event_time_feature_col': 'LOG_DAYS_UNTIL_NEXT_HOSPITALIZATION',\n",
       " 'feature_define_state_labels': 'LOG_DAYS_UNTIL_NEXT_HOSPITALIZATION',\n",
       " 'features': {'DISCHARGE_LOCATION_POST_ACUTE_CARE': 'bernoulli',\n",
       "  'LOG_DAYS_IN_ICU': 'gaussian',\n",
       "  'LOG_DAYS_UNTIL_NEXT_HOSPITALIZATION': 'gaussian',\n",
       "  'LOG_NUM_DRUGS': 'gaussian',\n",
       "  'CHARLSON_INDEX': 'poisson'},\n",
       " 'hidden_state_labels': ['high', 'medium', 'low'],\n",
       " 'id_col': 'SUBJECT_ID',\n",
       " 'model_name': 'hmm_mimic_time_log_normal_v1',\n",
       " 'n_states': 3,\n",
       " 'save_model_path': '/workspaces/master-thesis-recurrent-health-events-prediction/_models/mimic/hmm',\n",
       " 'time_col': 'ADMITTIME',\n",
       " 'use_only_sequences_gte_2_steps': False}"
      ]
     },
     "execution_count": 6,
     "metadata": {},
     "output_type": "execute_result"
    }
   ],
   "source": [
    "from recurrent_health_events_prediction.model_analysis.utils import get_model_config\n",
    "\n",
    "\n",
    "model_name = \"hmm_mimic_time_log_normal_v1\"\n",
    "\n",
    "get_model_config(model_name, BASE_MODEL_DIR)"
   ]
  },
  {
   "cell_type": "code",
   "execution_count": 7,
   "metadata": {},
   "outputs": [
    {
     "name": "stdout",
     "output_type": "stream",
     "text": [
      "Comparing hmm_mimic_time_log_normal_v1 with baseline using auc metric...\n",
      "Number of predictions in baseline: 274\n",
      "Number of predictions in hmm_mimic_time_log_normal_v1: 274\n",
      "Number of common predictions: 274\n",
      "Evaluating HMM Features with classifier:  lgbm\n",
      "Calculating  auc  with  5000  bootstrap samples...\n",
      "\n"
     ]
    },
    {
     "name": "stderr",
     "output_type": "stream",
     "text": [
      "  2%|▏         | 102/5000 [00:00<00:09, 507.18it/s]"
     ]
    },
    {
     "name": "stderr",
     "output_type": "stream",
     "text": [
      "100%|██████████| 5000/5000 [00:10<00:00, 498.63it/s]\n"
     ]
    }
   ],
   "source": [
    "from recurrent_health_events_prediction.model_analysis.utils import compare_classifier_with_baseline\n",
    "\n",
    "results1_df = compare_classifier_with_baseline(\n",
    "    model_name=model_name,\n",
    "    base_model_dir=BASE_MODEL_DIR,\n",
    "    baseline_results_dir=BASELINE_RESULTS_DIR,\n",
    "    classifier=CLASSIFIER,\n",
    "    metric=METRIC,\n",
    "    n_boot=N_BOOTSTRAPS,\n",
    "    random_state=RANDOM_STATE,\n",
    "    threshold = THRESHOLD,\n",
    ")"
   ]
  },
  {
   "cell_type": "code",
   "execution_count": 8,
   "metadata": {},
   "outputs": [
    {
     "data": {
      "application/vnd.microsoft.datawrangler.viewer.v0+json": {
       "columns": [
        {
         "name": "index",
         "rawType": "int64",
         "type": "integer"
        },
        {
         "name": "model_name",
         "rawType": "object",
         "type": "string"
        },
        {
         "name": "n_states",
         "rawType": "int64",
         "type": "integer"
        },
        {
         "name": "classifier",
         "rawType": "object",
         "type": "string"
        },
        {
         "name": "metric",
         "rawType": "object",
         "type": "string"
        },
        {
         "name": "obs_delta",
         "rawType": "float64",
         "type": "float"
        },
        {
         "name": "delta_mean",
         "rawType": "float64",
         "type": "float"
        },
        {
         "name": "ci_low",
         "rawType": "float64",
         "type": "float"
        },
        {
         "name": "ci_high",
         "rawType": "float64",
         "type": "float"
        },
        {
         "name": "p_value",
         "rawType": "float64",
         "type": "float"
        },
        {
         "name": "n_boot",
         "rawType": "int64",
         "type": "integer"
        }
       ],
       "ref": "34387afb-94ef-41b3-bd9d-898ff0a56af2",
       "rows": [
        [
         "0",
         "hmm_mimic_time_log_normal_v1",
         "3",
         "lgbm",
         "auc",
         "-0.00034690904044965",
         "-0.0007452577534170544",
         "-0.08034413376812599",
         "0.08000416290848535",
         "0.9884",
         "5000"
        ]
       ],
       "shape": {
        "columns": 10,
        "rows": 1
       }
      },
      "text/html": [
       "<div>\n",
       "<style scoped>\n",
       "    .dataframe tbody tr th:only-of-type {\n",
       "        vertical-align: middle;\n",
       "    }\n",
       "\n",
       "    .dataframe tbody tr th {\n",
       "        vertical-align: top;\n",
       "    }\n",
       "\n",
       "    .dataframe thead th {\n",
       "        text-align: right;\n",
       "    }\n",
       "</style>\n",
       "<table border=\"1\" class=\"dataframe\">\n",
       "  <thead>\n",
       "    <tr style=\"text-align: right;\">\n",
       "      <th></th>\n",
       "      <th>model_name</th>\n",
       "      <th>n_states</th>\n",
       "      <th>classifier</th>\n",
       "      <th>metric</th>\n",
       "      <th>obs_delta</th>\n",
       "      <th>delta_mean</th>\n",
       "      <th>ci_low</th>\n",
       "      <th>ci_high</th>\n",
       "      <th>p_value</th>\n",
       "      <th>n_boot</th>\n",
       "    </tr>\n",
       "  </thead>\n",
       "  <tbody>\n",
       "    <tr>\n",
       "      <th>0</th>\n",
       "      <td>hmm_mimic_time_log_normal_v1</td>\n",
       "      <td>3</td>\n",
       "      <td>lgbm</td>\n",
       "      <td>auc</td>\n",
       "      <td>-0.000347</td>\n",
       "      <td>-0.000745</td>\n",
       "      <td>-0.080344</td>\n",
       "      <td>0.080004</td>\n",
       "      <td>0.9884</td>\n",
       "      <td>5000</td>\n",
       "    </tr>\n",
       "  </tbody>\n",
       "</table>\n",
       "</div>"
      ],
      "text/plain": [
       "                     model_name  n_states classifier metric  obs_delta  \\\n",
       "0  hmm_mimic_time_log_normal_v1         3       lgbm    auc  -0.000347   \n",
       "\n",
       "   delta_mean    ci_low   ci_high  p_value  n_boot  \n",
       "0   -0.000745 -0.080344  0.080004   0.9884    5000  "
      ]
     },
     "execution_count": 8,
     "metadata": {},
     "output_type": "execute_result"
    }
   ],
   "source": [
    "results1_df"
   ]
  },
  {
   "cell_type": "markdown",
   "metadata": {},
   "source": [
    "## hmm_mimic_reduced_feats_set"
   ]
  },
  {
   "cell_type": "code",
   "execution_count": 9,
   "metadata": {},
   "outputs": [
    {
     "data": {
      "text/plain": [
       "{'continuous_event_time_col': 'LOG_DAYS_UNTIL_NEXT_HOSPITALIZATION',\n",
       " 'event_id_col': 'HADM_ID',\n",
       " 'event_name': 'readmission',\n",
       " 'event_time_cat_col': 'READMISSION_TIME_CAT',\n",
       " 'event_time_feature_col': 'LOG_DAYS_UNTIL_NEXT_HOSPITALIZATION',\n",
       " 'feature_define_state_labels': 'LOG_DAYS_UNTIL_NEXT_HOSPITALIZATION',\n",
       " 'features': {'CHARLSON_INDEX': 'poisson',\n",
       "  'DISCHARGE_LOCATION_POST_ACUTE_CARE': 'bernoulli',\n",
       "  'LOG_DAYS_IN_ICU': 'gaussian',\n",
       "  'LOG_DAYS_UNTIL_NEXT_HOSPITALIZATION': 'gaussian',\n",
       "  'LOG_NUM_DRUGS': 'gaussian'},\n",
       " 'hidden_state_labels': ['high', 'medium', 'low'],\n",
       " 'id_col': 'SUBJECT_ID',\n",
       " 'model_name': 'hmm_mimic_reduced_feats_set',\n",
       " 'n_states': 3,\n",
       " 'save_model_path': '/workspaces/master-thesis-recurrent-health-events-prediction/_models/mimic/hmm',\n",
       " 'time_col': 'ADMITTIME',\n",
       " 'use_only_sequences_gte_2_steps': False}"
      ]
     },
     "execution_count": 9,
     "metadata": {},
     "output_type": "execute_result"
    }
   ],
   "source": [
    "from recurrent_health_events_prediction.model_analysis.utils import get_model_config\n",
    "\n",
    "model_name = \"hmm_mimic_reduced_feats_set\"\n",
    "\n",
    "get_model_config(model_name, BASE_MODEL_DIR)"
   ]
  },
  {
   "cell_type": "code",
   "execution_count": 10,
   "metadata": {},
   "outputs": [
    {
     "name": "stdout",
     "output_type": "stream",
     "text": [
      "Comparing hmm_mimic_reduced_feats_set with baseline using auc metric...\n",
      "Number of predictions in baseline: 274\n",
      "Number of predictions in hmm_mimic_reduced_feats_set: 274\n",
      "Number of common predictions: 274\n",
      "Evaluating HMM Features with classifier:  lgbm\n",
      "Calculating  auc  with  5000  bootstrap samples...\n",
      "\n"
     ]
    },
    {
     "name": "stderr",
     "output_type": "stream",
     "text": [
      "  0%|          | 0/5000 [00:00<?, ?it/s]"
     ]
    },
    {
     "name": "stderr",
     "output_type": "stream",
     "text": [
      "100%|██████████| 5000/5000 [00:11<00:00, 441.90it/s]\n"
     ]
    }
   ],
   "source": [
    "from recurrent_health_events_prediction.model_analysis.utils import compare_classifier_with_baseline\n",
    "\n",
    "results_reduced_set_df = compare_classifier_with_baseline(\n",
    "    model_name=model_name,\n",
    "    base_model_dir=BASE_MODEL_DIR,\n",
    "    baseline_results_dir=BASELINE_RESULTS_DIR,\n",
    "    classifier=CLASSIFIER,\n",
    "    metric=METRIC,\n",
    "    n_boot=N_BOOTSTRAPS,\n",
    "    random_state=RANDOM_STATE,\n",
    "    threshold = THRESHOLD,\n",
    ")"
   ]
  },
  {
   "cell_type": "code",
   "execution_count": 11,
   "metadata": {},
   "outputs": [
    {
     "data": {
      "application/vnd.microsoft.datawrangler.viewer.v0+json": {
       "columns": [
        {
         "name": "index",
         "rawType": "int64",
         "type": "integer"
        },
        {
         "name": "model_name",
         "rawType": "object",
         "type": "string"
        },
        {
         "name": "n_states",
         "rawType": "int64",
         "type": "integer"
        },
        {
         "name": "classifier",
         "rawType": "object",
         "type": "string"
        },
        {
         "name": "metric",
         "rawType": "object",
         "type": "string"
        },
        {
         "name": "obs_delta",
         "rawType": "float64",
         "type": "float"
        },
        {
         "name": "delta_mean",
         "rawType": "float64",
         "type": "float"
        },
        {
         "name": "ci_low",
         "rawType": "float64",
         "type": "float"
        },
        {
         "name": "ci_high",
         "rawType": "float64",
         "type": "float"
        },
        {
         "name": "p_value",
         "rawType": "float64",
         "type": "float"
        },
        {
         "name": "n_boot",
         "rawType": "int64",
         "type": "integer"
        }
       ],
       "ref": "d109db86-8ec3-4388-859d-0af42e79ad8f",
       "rows": [
        [
         "0",
         "hmm_mimic_reduced_feats_set",
         "3",
         "lgbm",
         "auc",
         "-0.0350378130854091",
         "-0.03602633733435094",
         "-0.12974571567335025",
         "0.06148268923888141",
         "0.4512",
         "5000"
        ]
       ],
       "shape": {
        "columns": 10,
        "rows": 1
       }
      },
      "text/html": [
       "<div>\n",
       "<style scoped>\n",
       "    .dataframe tbody tr th:only-of-type {\n",
       "        vertical-align: middle;\n",
       "    }\n",
       "\n",
       "    .dataframe tbody tr th {\n",
       "        vertical-align: top;\n",
       "    }\n",
       "\n",
       "    .dataframe thead th {\n",
       "        text-align: right;\n",
       "    }\n",
       "</style>\n",
       "<table border=\"1\" class=\"dataframe\">\n",
       "  <thead>\n",
       "    <tr style=\"text-align: right;\">\n",
       "      <th></th>\n",
       "      <th>model_name</th>\n",
       "      <th>n_states</th>\n",
       "      <th>classifier</th>\n",
       "      <th>metric</th>\n",
       "      <th>obs_delta</th>\n",
       "      <th>delta_mean</th>\n",
       "      <th>ci_low</th>\n",
       "      <th>ci_high</th>\n",
       "      <th>p_value</th>\n",
       "      <th>n_boot</th>\n",
       "    </tr>\n",
       "  </thead>\n",
       "  <tbody>\n",
       "    <tr>\n",
       "      <th>0</th>\n",
       "      <td>hmm_mimic_reduced_feats_set</td>\n",
       "      <td>3</td>\n",
       "      <td>lgbm</td>\n",
       "      <td>auc</td>\n",
       "      <td>-0.035038</td>\n",
       "      <td>-0.036026</td>\n",
       "      <td>-0.129746</td>\n",
       "      <td>0.061483</td>\n",
       "      <td>0.4512</td>\n",
       "      <td>5000</td>\n",
       "    </tr>\n",
       "  </tbody>\n",
       "</table>\n",
       "</div>"
      ],
      "text/plain": [
       "                    model_name  n_states classifier metric  obs_delta  \\\n",
       "0  hmm_mimic_reduced_feats_set         3       lgbm    auc  -0.035038   \n",
       "\n",
       "   delta_mean    ci_low   ci_high  p_value  n_boot  \n",
       "0   -0.036026 -0.129746  0.061483   0.4512    5000  "
      ]
     },
     "execution_count": 11,
     "metadata": {},
     "output_type": "execute_result"
    }
   ],
   "source": [
    "results_reduced_set_df"
   ]
  },
  {
   "cell_type": "markdown",
   "metadata": {},
   "source": [
    "## hmm_mimic_time_log_normal_v2"
   ]
  },
  {
   "cell_type": "code",
   "execution_count": 12,
   "metadata": {},
   "outputs": [
    {
     "data": {
      "text/plain": [
       "{'continuous_event_time_col': 'LOG_DAYS_UNTIL_NEXT_HOSPITALIZATION',\n",
       " 'event_id_col': 'HADM_ID',\n",
       " 'event_name': 'readmission',\n",
       " 'event_time_cat_col': 'READMISSION_TIME_CAT',\n",
       " 'event_time_feature_col': 'LOG_DAYS_UNTIL_NEXT_HOSPITALIZATION',\n",
       " 'feature_define_state_labels': 'LOG_DAYS_UNTIL_NEXT_HOSPITALIZATION',\n",
       " 'features': {'HAS_COPD': 'bernoulli',\n",
       "  'LOG_DAYS_IN_ICU': 'gaussian',\n",
       "  'LOG_DAYS_UNTIL_NEXT_HOSPITALIZATION': 'gaussian',\n",
       "  'LOG_NUM_DRUGS': 'gaussian',\n",
       "  'NUM_COMORBIDITIES': 'poisson'},\n",
       " 'hidden_state_labels': ['high_2', 'high_1', 'medium', 'low_2', 'low_1'],\n",
       " 'id_col': 'SUBJECT_ID',\n",
       " 'model_name': 'hmm_mimic_time_log_normal_v2',\n",
       " 'n_states': 5,\n",
       " 'save_model_path': '/workspaces/master-thesis-recurrent-health-events-prediction/_models/mimic/hmm',\n",
       " 'time_col': 'ADMITTIME',\n",
       " 'use_only_sequences_gte_2_steps': False}"
      ]
     },
     "execution_count": 12,
     "metadata": {},
     "output_type": "execute_result"
    }
   ],
   "source": [
    "from recurrent_health_events_prediction.model_analysis.utils import get_model_config\n",
    "\n",
    "\n",
    "model_name = \"hmm_mimic_time_log_normal_v2\"\n",
    "\n",
    "get_model_config(model_name, BASE_MODEL_DIR)"
   ]
  },
  {
   "cell_type": "code",
   "execution_count": 13,
   "metadata": {},
   "outputs": [
    {
     "name": "stdout",
     "output_type": "stream",
     "text": [
      "Comparing hmm_mimic_time_log_normal_v2 with baseline using auc metric...\n",
      "Number of predictions in baseline: 274\n",
      "Number of predictions in hmm_mimic_time_log_normal_v2: 274\n",
      "Number of common predictions: 274\n",
      "Evaluating HMM Features with classifier:  lgbm\n",
      "Calculating  auc  with  5000  bootstrap samples...\n",
      "\n"
     ]
    },
    {
     "name": "stderr",
     "output_type": "stream",
     "text": [
      "  0%|          | 21/5000 [00:00<00:23, 207.68it/s]"
     ]
    },
    {
     "name": "stderr",
     "output_type": "stream",
     "text": [
      "100%|██████████| 5000/5000 [00:11<00:00, 430.80it/s]\n"
     ]
    }
   ],
   "source": [
    "from recurrent_health_events_prediction.model_analysis.utils import compare_classifier_with_baseline\n",
    "\n",
    "results6_df = compare_classifier_with_baseline(\n",
    "    model_name=model_name,\n",
    "    base_model_dir=BASE_MODEL_DIR,\n",
    "    baseline_results_dir=BASELINE_RESULTS_DIR,\n",
    "    classifier=CLASSIFIER,\n",
    "    metric=METRIC,\n",
    "    n_boot=N_BOOTSTRAPS,\n",
    "    random_state=RANDOM_STATE,\n",
    "    threshold = THRESHOLD,\n",
    ")"
   ]
  },
  {
   "cell_type": "code",
   "execution_count": 14,
   "metadata": {},
   "outputs": [
    {
     "data": {
      "application/vnd.microsoft.datawrangler.viewer.v0+json": {
       "columns": [
        {
         "name": "index",
         "rawType": "int64",
         "type": "integer"
        },
        {
         "name": "model_name",
         "rawType": "object",
         "type": "string"
        },
        {
         "name": "n_states",
         "rawType": "int64",
         "type": "integer"
        },
        {
         "name": "classifier",
         "rawType": "object",
         "type": "string"
        },
        {
         "name": "metric",
         "rawType": "object",
         "type": "string"
        },
        {
         "name": "obs_delta",
         "rawType": "float64",
         "type": "float"
        },
        {
         "name": "delta_mean",
         "rawType": "float64",
         "type": "float"
        },
        {
         "name": "ci_low",
         "rawType": "float64",
         "type": "float"
        },
        {
         "name": "ci_high",
         "rawType": "float64",
         "type": "float"
        },
        {
         "name": "p_value",
         "rawType": "float64",
         "type": "float"
        },
        {
         "name": "n_boot",
         "rawType": "int64",
         "type": "integer"
        }
       ],
       "ref": "3397a998-0a51-4c70-b96d-512fcf263dc5",
       "rows": [
        [
         "0",
         "hmm_mimic_time_log_normal_v2",
         "5",
         "lgbm",
         "auc",
         "-0.014708943315062895",
         "-0.014601859432456813",
         "-0.08471518767779085",
         "0.05529730104766517",
         "0.678",
         "5000"
        ]
       ],
       "shape": {
        "columns": 10,
        "rows": 1
       }
      },
      "text/html": [
       "<div>\n",
       "<style scoped>\n",
       "    .dataframe tbody tr th:only-of-type {\n",
       "        vertical-align: middle;\n",
       "    }\n",
       "\n",
       "    .dataframe tbody tr th {\n",
       "        vertical-align: top;\n",
       "    }\n",
       "\n",
       "    .dataframe thead th {\n",
       "        text-align: right;\n",
       "    }\n",
       "</style>\n",
       "<table border=\"1\" class=\"dataframe\">\n",
       "  <thead>\n",
       "    <tr style=\"text-align: right;\">\n",
       "      <th></th>\n",
       "      <th>model_name</th>\n",
       "      <th>n_states</th>\n",
       "      <th>classifier</th>\n",
       "      <th>metric</th>\n",
       "      <th>obs_delta</th>\n",
       "      <th>delta_mean</th>\n",
       "      <th>ci_low</th>\n",
       "      <th>ci_high</th>\n",
       "      <th>p_value</th>\n",
       "      <th>n_boot</th>\n",
       "    </tr>\n",
       "  </thead>\n",
       "  <tbody>\n",
       "    <tr>\n",
       "      <th>0</th>\n",
       "      <td>hmm_mimic_time_log_normal_v2</td>\n",
       "      <td>5</td>\n",
       "      <td>lgbm</td>\n",
       "      <td>auc</td>\n",
       "      <td>-0.014709</td>\n",
       "      <td>-0.014602</td>\n",
       "      <td>-0.084715</td>\n",
       "      <td>0.055297</td>\n",
       "      <td>0.678</td>\n",
       "      <td>5000</td>\n",
       "    </tr>\n",
       "  </tbody>\n",
       "</table>\n",
       "</div>"
      ],
      "text/plain": [
       "                     model_name  n_states classifier metric  obs_delta  \\\n",
       "0  hmm_mimic_time_log_normal_v2         5       lgbm    auc  -0.014709   \n",
       "\n",
       "   delta_mean    ci_low   ci_high  p_value  n_boot  \n",
       "0   -0.014602 -0.084715  0.055297    0.678    5000  "
      ]
     },
     "execution_count": 14,
     "metadata": {},
     "output_type": "execute_result"
    }
   ],
   "source": [
    "results6_df"
   ]
  },
  {
   "cell_type": "markdown",
   "metadata": {},
   "source": [
    "## hmm_mimic_time_log_gamma"
   ]
  },
  {
   "cell_type": "code",
   "execution_count": 15,
   "metadata": {},
   "outputs": [
    {
     "data": {
      "text/plain": [
       "{'continuous_event_time_col': 'LOG_DAYS_UNTIL_NEXT_HOSPITALIZATION',\n",
       " 'event_id_col': 'HADM_ID',\n",
       " 'event_name': 'readmission',\n",
       " 'event_time_cat_col': 'READMISSION_TIME_CAT',\n",
       " 'event_time_feature_col': 'LOG_DAYS_UNTIL_NEXT_HOSPITALIZATION',\n",
       " 'feature_define_state_labels': 'LOG_DAYS_UNTIL_NEXT_HOSPITALIZATION',\n",
       " 'features': {'CHARLSON_INDEX': 'poisson',\n",
       "  'DISCHARGE_LOCATION_POST_ACUTE_CARE': 'bernoulli',\n",
       "  'LOG_DAYS_IN_ICU': 'gaussian',\n",
       "  'LOG_DAYS_UNTIL_NEXT_HOSPITALIZATION': 'gamma'},\n",
       " 'hidden_state_labels': ['high', 'medium', 'low'],\n",
       " 'id_col': 'SUBJECT_ID',\n",
       " 'model_name': 'hmm_mimic_time_log_gamma',\n",
       " 'n_states': 3,\n",
       " 'save_model_path': '/workspaces/master-thesis-recurrent-health-events-prediction/_models/mimic/hmm',\n",
       " 'time_col': 'ADMITTIME',\n",
       " 'use_only_sequences_gte_2_steps': False}"
      ]
     },
     "execution_count": 15,
     "metadata": {},
     "output_type": "execute_result"
    }
   ],
   "source": [
    "from recurrent_health_events_prediction.model_analysis.utils import get_model_config\n",
    "\n",
    "\n",
    "model_name = \"hmm_mimic_time_log_gamma\"\n",
    "\n",
    "get_model_config(model_name, BASE_MODEL_DIR)"
   ]
  },
  {
   "cell_type": "code",
   "execution_count": 16,
   "metadata": {},
   "outputs": [
    {
     "name": "stdout",
     "output_type": "stream",
     "text": [
      "Comparing hmm_mimic_time_log_gamma with baseline using auc metric...\n",
      "Number of predictions in baseline: 274\n",
      "Number of predictions in hmm_mimic_time_log_gamma: 274\n",
      "Number of common predictions: 274\n",
      "Evaluating HMM Features with classifier:  lgbm\n",
      "Calculating  auc  with  5000  bootstrap samples...\n",
      "\n"
     ]
    },
    {
     "name": "stderr",
     "output_type": "stream",
     "text": [
      "100%|██████████| 5000/5000 [00:10<00:00, 459.25it/s]\n"
     ]
    }
   ],
   "source": [
    "from recurrent_health_events_prediction.model_analysis.utils import compare_classifier_with_baseline\n",
    "\n",
    "results2_df = compare_classifier_with_baseline(\n",
    "    model_name=model_name,\n",
    "    base_model_dir=BASE_MODEL_DIR,\n",
    "    baseline_results_dir=BASELINE_RESULTS_DIR,\n",
    "    classifier=CLASSIFIER,\n",
    "    metric=METRIC,\n",
    "    n_boot=N_BOOTSTRAPS,\n",
    "    random_state=RANDOM_STATE,\n",
    "    threshold = THRESHOLD,\n",
    ")"
   ]
  },
  {
   "cell_type": "code",
   "execution_count": 17,
   "metadata": {},
   "outputs": [
    {
     "data": {
      "application/vnd.microsoft.datawrangler.viewer.v0+json": {
       "columns": [
        {
         "name": "index",
         "rawType": "int64",
         "type": "integer"
        },
        {
         "name": "model_name",
         "rawType": "object",
         "type": "string"
        },
        {
         "name": "n_states",
         "rawType": "int64",
         "type": "integer"
        },
        {
         "name": "classifier",
         "rawType": "object",
         "type": "string"
        },
        {
         "name": "metric",
         "rawType": "object",
         "type": "string"
        },
        {
         "name": "obs_delta",
         "rawType": "float64",
         "type": "float"
        },
        {
         "name": "delta_mean",
         "rawType": "float64",
         "type": "float"
        },
        {
         "name": "ci_low",
         "rawType": "float64",
         "type": "float"
        },
        {
         "name": "ci_high",
         "rawType": "float64",
         "type": "float"
        },
        {
         "name": "p_value",
         "rawType": "float64",
         "type": "float"
        },
        {
         "name": "n_boot",
         "rawType": "int64",
         "type": "integer"
        }
       ],
       "ref": "58d63f2a-55c4-4524-aabb-d9ff57c116be",
       "rows": [
        [
         "0",
         "hmm_mimic_time_log_gamma",
         "3",
         "lgbm",
         "auc",
         "-0.04225352112676073",
         "-0.04219771040033304",
         "-0.10254631235689993",
         "0.017348921112884164",
         "0.1628",
         "5000"
        ]
       ],
       "shape": {
        "columns": 10,
        "rows": 1
       }
      },
      "text/html": [
       "<div>\n",
       "<style scoped>\n",
       "    .dataframe tbody tr th:only-of-type {\n",
       "        vertical-align: middle;\n",
       "    }\n",
       "\n",
       "    .dataframe tbody tr th {\n",
       "        vertical-align: top;\n",
       "    }\n",
       "\n",
       "    .dataframe thead th {\n",
       "        text-align: right;\n",
       "    }\n",
       "</style>\n",
       "<table border=\"1\" class=\"dataframe\">\n",
       "  <thead>\n",
       "    <tr style=\"text-align: right;\">\n",
       "      <th></th>\n",
       "      <th>model_name</th>\n",
       "      <th>n_states</th>\n",
       "      <th>classifier</th>\n",
       "      <th>metric</th>\n",
       "      <th>obs_delta</th>\n",
       "      <th>delta_mean</th>\n",
       "      <th>ci_low</th>\n",
       "      <th>ci_high</th>\n",
       "      <th>p_value</th>\n",
       "      <th>n_boot</th>\n",
       "    </tr>\n",
       "  </thead>\n",
       "  <tbody>\n",
       "    <tr>\n",
       "      <th>0</th>\n",
       "      <td>hmm_mimic_time_log_gamma</td>\n",
       "      <td>3</td>\n",
       "      <td>lgbm</td>\n",
       "      <td>auc</td>\n",
       "      <td>-0.042254</td>\n",
       "      <td>-0.042198</td>\n",
       "      <td>-0.102546</td>\n",
       "      <td>0.017349</td>\n",
       "      <td>0.1628</td>\n",
       "      <td>5000</td>\n",
       "    </tr>\n",
       "  </tbody>\n",
       "</table>\n",
       "</div>"
      ],
      "text/plain": [
       "                 model_name  n_states classifier metric  obs_delta  \\\n",
       "0  hmm_mimic_time_log_gamma         3       lgbm    auc  -0.042254   \n",
       "\n",
       "   delta_mean    ci_low   ci_high  p_value  n_boot  \n",
       "0   -0.042198 -0.102546  0.017349   0.1628    5000  "
      ]
     },
     "execution_count": 17,
     "metadata": {},
     "output_type": "execute_result"
    }
   ],
   "source": [
    "results2_df"
   ]
  },
  {
   "cell_type": "markdown",
   "metadata": {},
   "source": [
    "## hmm_mimic_time_binary_30_days"
   ]
  },
  {
   "cell_type": "code",
   "execution_count": 18,
   "metadata": {},
   "outputs": [
    {
     "data": {
      "text/plain": [
       "{'continuous_event_time_col': 'READMISSION_30_DAYS',\n",
       " 'event_id_col': 'HADM_ID',\n",
       " 'event_name': 'readmission',\n",
       " 'event_time_cat_col': 'READMISSION_TIME_CAT',\n",
       " 'event_time_feature_col': 'READMISSION_30_DAYS',\n",
       " 'feature_define_state_labels': 'READMISSION_30_DAYS',\n",
       " 'features': {'DISCHARGE_LOCATION_POST_ACUTE_CARE': 'bernoulli',\n",
       "  'LOG_DAYS_IN_ICU': 'gaussian',\n",
       "  'LOG_NUM_DRUGS': 'gaussian',\n",
       "  'NUM_COMORBIDITIES': 'poisson',\n",
       "  'READMISSION_30_DAYS': 'bernoulli'},\n",
       " 'hidden_state_labels': ['low', 'medium_1', 'medium_2', 'high'],\n",
       " 'id_col': 'SUBJECT_ID',\n",
       " 'model_name': 'hmm_mimic_time_binary_30_days',\n",
       " 'n_states': 4,\n",
       " 'save_model_path': '/workspaces/master-thesis-recurrent-health-events-prediction/_models/mimic/hmm',\n",
       " 'time_col': 'ADMITTIME',\n",
       " 'use_only_sequences_gte_2_steps': False}"
      ]
     },
     "execution_count": 18,
     "metadata": {},
     "output_type": "execute_result"
    }
   ],
   "source": [
    "from recurrent_health_events_prediction.model_analysis.utils import get_model_config\n",
    "\n",
    "\n",
    "model_name = \"hmm_mimic_time_binary_30_days\"\n",
    "\n",
    "get_model_config(model_name, BASE_MODEL_DIR)"
   ]
  },
  {
   "cell_type": "code",
   "execution_count": 19,
   "metadata": {},
   "outputs": [
    {
     "name": "stdout",
     "output_type": "stream",
     "text": [
      "Comparing hmm_mimic_time_binary_30_days with baseline using auc metric...\n",
      "Number of predictions in baseline: 274\n",
      "Number of predictions in hmm_mimic_time_binary_30_days: 274\n",
      "Number of common predictions: 274\n",
      "Evaluating HMM Features with classifier:  lgbm\n",
      "Calculating  auc  with  5000  bootstrap samples...\n",
      "\n"
     ]
    },
    {
     "name": "stderr",
     "output_type": "stream",
     "text": [
      "  0%|          | 0/5000 [00:00<?, ?it/s]"
     ]
    },
    {
     "name": "stderr",
     "output_type": "stream",
     "text": [
      "100%|██████████| 5000/5000 [00:09<00:00, 528.49it/s]\n"
     ]
    }
   ],
   "source": [
    "from recurrent_health_events_prediction.model_analysis.utils import compare_classifier_with_baseline\n",
    "\n",
    "results3_df = compare_classifier_with_baseline(\n",
    "    model_name=model_name,\n",
    "    base_model_dir=BASE_MODEL_DIR,\n",
    "    baseline_results_dir=BASELINE_RESULTS_DIR,\n",
    "    classifier=CLASSIFIER,\n",
    "    metric=METRIC,\n",
    "    n_boot=N_BOOTSTRAPS,\n",
    "    random_state=RANDOM_STATE,\n",
    "    threshold = THRESHOLD,\n",
    ")"
   ]
  },
  {
   "cell_type": "code",
   "execution_count": 20,
   "metadata": {},
   "outputs": [
    {
     "data": {
      "application/vnd.microsoft.datawrangler.viewer.v0+json": {
       "columns": [
        {
         "name": "index",
         "rawType": "int64",
         "type": "integer"
        },
        {
         "name": "model_name",
         "rawType": "object",
         "type": "string"
        },
        {
         "name": "n_states",
         "rawType": "int64",
         "type": "integer"
        },
        {
         "name": "classifier",
         "rawType": "object",
         "type": "string"
        },
        {
         "name": "metric",
         "rawType": "object",
         "type": "string"
        },
        {
         "name": "obs_delta",
         "rawType": "float64",
         "type": "float"
        },
        {
         "name": "delta_mean",
         "rawType": "float64",
         "type": "float"
        },
        {
         "name": "ci_low",
         "rawType": "float64",
         "type": "float"
        },
        {
         "name": "ci_high",
         "rawType": "float64",
         "type": "float"
        },
        {
         "name": "p_value",
         "rawType": "float64",
         "type": "float"
        },
        {
         "name": "n_boot",
         "rawType": "int64",
         "type": "integer"
        }
       ],
       "ref": "3f2d133d-0a92-45a0-a8a9-cf039cc9eb6c",
       "rows": [
        [
         "0",
         "hmm_mimic_time_binary_30_days",
         "4",
         "lgbm",
         "auc",
         "-0.021577742315964876",
         "-0.02240220634149726",
         "-0.09755082217442568",
         "0.05307881773399023",
         "0.5768",
         "5000"
        ]
       ],
       "shape": {
        "columns": 10,
        "rows": 1
       }
      },
      "text/html": [
       "<div>\n",
       "<style scoped>\n",
       "    .dataframe tbody tr th:only-of-type {\n",
       "        vertical-align: middle;\n",
       "    }\n",
       "\n",
       "    .dataframe tbody tr th {\n",
       "        vertical-align: top;\n",
       "    }\n",
       "\n",
       "    .dataframe thead th {\n",
       "        text-align: right;\n",
       "    }\n",
       "</style>\n",
       "<table border=\"1\" class=\"dataframe\">\n",
       "  <thead>\n",
       "    <tr style=\"text-align: right;\">\n",
       "      <th></th>\n",
       "      <th>model_name</th>\n",
       "      <th>n_states</th>\n",
       "      <th>classifier</th>\n",
       "      <th>metric</th>\n",
       "      <th>obs_delta</th>\n",
       "      <th>delta_mean</th>\n",
       "      <th>ci_low</th>\n",
       "      <th>ci_high</th>\n",
       "      <th>p_value</th>\n",
       "      <th>n_boot</th>\n",
       "    </tr>\n",
       "  </thead>\n",
       "  <tbody>\n",
       "    <tr>\n",
       "      <th>0</th>\n",
       "      <td>hmm_mimic_time_binary_30_days</td>\n",
       "      <td>4</td>\n",
       "      <td>lgbm</td>\n",
       "      <td>auc</td>\n",
       "      <td>-0.021578</td>\n",
       "      <td>-0.022402</td>\n",
       "      <td>-0.097551</td>\n",
       "      <td>0.053079</td>\n",
       "      <td>0.5768</td>\n",
       "      <td>5000</td>\n",
       "    </tr>\n",
       "  </tbody>\n",
       "</table>\n",
       "</div>"
      ],
      "text/plain": [
       "                      model_name  n_states classifier metric  obs_delta  \\\n",
       "0  hmm_mimic_time_binary_30_days         4       lgbm    auc  -0.021578   \n",
       "\n",
       "   delta_mean    ci_low   ci_high  p_value  n_boot  \n",
       "0   -0.022402 -0.097551  0.053079   0.5768    5000  "
      ]
     },
     "execution_count": 20,
     "metadata": {},
     "output_type": "execute_result"
    }
   ],
   "source": [
    "results3_df"
   ]
  },
  {
   "cell_type": "markdown",
   "metadata": {},
   "source": [
    "## hmm_mimic_time_log_normal_min_emissions"
   ]
  },
  {
   "cell_type": "code",
   "execution_count": 21,
   "metadata": {},
   "outputs": [
    {
     "data": {
      "text/plain": [
       "{'continuous_event_time_col': 'LOG_DAYS_UNTIL_NEXT_HOSPITALIZATION',\n",
       " 'event_id_col': 'HADM_ID',\n",
       " 'event_name': 'readmission',\n",
       " 'event_time_cat_col': 'READMISSION_TIME_CAT',\n",
       " 'event_time_feature_col': 'LOG_DAYS_UNTIL_NEXT_HOSPITALIZATION',\n",
       " 'feature_define_state_labels': 'LOG_DAYS_UNTIL_NEXT_HOSPITALIZATION',\n",
       " 'features': {'DISCHARGE_LOCATION_POST_ACUTE_CARE': 'bernoulli',\n",
       "  'LOG_DAYS_IN_ICU': 'gaussian',\n",
       "  'LOG_DAYS_UNTIL_NEXT_HOSPITALIZATION': 'gaussian'},\n",
       " 'hidden_state_labels': ['high', 'medium_2', 'medium_1', 'low'],\n",
       " 'id_col': 'SUBJECT_ID',\n",
       " 'model_name': 'hmm_mimic_time_log_normal_min_emissions',\n",
       " 'n_states': 4,\n",
       " 'save_model_path': '/workspaces/master-thesis-recurrent-health-events-prediction/_models/mimic/hmm',\n",
       " 'time_col': 'ADMITTIME',\n",
       " 'use_only_sequences_gte_2_steps': False}"
      ]
     },
     "execution_count": 21,
     "metadata": {},
     "output_type": "execute_result"
    }
   ],
   "source": [
    "from recurrent_health_events_prediction.model_analysis.utils import get_model_config\n",
    "\n",
    "\n",
    "model_name = \"hmm_mimic_time_log_normal_min_emissions\"\n",
    "\n",
    "get_model_config(model_name, BASE_MODEL_DIR)"
   ]
  },
  {
   "cell_type": "code",
   "execution_count": 22,
   "metadata": {},
   "outputs": [
    {
     "name": "stdout",
     "output_type": "stream",
     "text": [
      "Comparing hmm_mimic_time_log_normal_min_emissions with baseline using auc metric...\n",
      "Number of predictions in baseline: 274\n",
      "Number of predictions in hmm_mimic_time_log_normal_min_emissions: 274\n",
      "Number of common predictions: 274\n",
      "Evaluating HMM Features with classifier:  lgbm\n",
      "Calculating  auc  with  5000  bootstrap samples...\n",
      "\n"
     ]
    },
    {
     "name": "stderr",
     "output_type": "stream",
     "text": [
      "  1%|▏         | 66/5000 [00:00<00:15, 315.81it/s]"
     ]
    },
    {
     "name": "stderr",
     "output_type": "stream",
     "text": [
      "100%|██████████| 5000/5000 [00:10<00:00, 460.16it/s]\n"
     ]
    }
   ],
   "source": [
    "from recurrent_health_events_prediction.model_analysis.utils import compare_classifier_with_baseline\n",
    "\n",
    "results4_df = compare_classifier_with_baseline(\n",
    "    model_name=model_name,\n",
    "    base_model_dir=BASE_MODEL_DIR,\n",
    "    baseline_results_dir=BASELINE_RESULTS_DIR,\n",
    "    classifier=CLASSIFIER,\n",
    "    metric=METRIC,\n",
    "    n_boot=N_BOOTSTRAPS,\n",
    "    random_state=RANDOM_STATE,\n",
    "    threshold = THRESHOLD,\n",
    ")"
   ]
  },
  {
   "cell_type": "code",
   "execution_count": 23,
   "metadata": {},
   "outputs": [
    {
     "data": {
      "application/vnd.microsoft.datawrangler.viewer.v0+json": {
       "columns": [
        {
         "name": "index",
         "rawType": "int64",
         "type": "integer"
        },
        {
         "name": "model_name",
         "rawType": "object",
         "type": "string"
        },
        {
         "name": "n_states",
         "rawType": "int64",
         "type": "integer"
        },
        {
         "name": "classifier",
         "rawType": "object",
         "type": "string"
        },
        {
         "name": "metric",
         "rawType": "object",
         "type": "string"
        },
        {
         "name": "obs_delta",
         "rawType": "float64",
         "type": "float"
        },
        {
         "name": "delta_mean",
         "rawType": "float64",
         "type": "float"
        },
        {
         "name": "ci_low",
         "rawType": "float64",
         "type": "float"
        },
        {
         "name": "ci_high",
         "rawType": "float64",
         "type": "float"
        },
        {
         "name": "p_value",
         "rawType": "float64",
         "type": "float"
        },
        {
         "name": "n_boot",
         "rawType": "int64",
         "type": "integer"
        }
       ],
       "ref": "eedfc534-9537-4566-a389-e2bdd99c907b",
       "rows": [
        [
         "0",
         "hmm_mimic_time_log_normal_min_emissions",
         "4",
         "lgbm",
         "auc",
         "-0.0007631998889893188",
         "-0.001160507874835211",
         "-0.08048463192950817",
         "0.07903281759522642",
         "0.9748",
         "5000"
        ]
       ],
       "shape": {
        "columns": 10,
        "rows": 1
       }
      },
      "text/html": [
       "<div>\n",
       "<style scoped>\n",
       "    .dataframe tbody tr th:only-of-type {\n",
       "        vertical-align: middle;\n",
       "    }\n",
       "\n",
       "    .dataframe tbody tr th {\n",
       "        vertical-align: top;\n",
       "    }\n",
       "\n",
       "    .dataframe thead th {\n",
       "        text-align: right;\n",
       "    }\n",
       "</style>\n",
       "<table border=\"1\" class=\"dataframe\">\n",
       "  <thead>\n",
       "    <tr style=\"text-align: right;\">\n",
       "      <th></th>\n",
       "      <th>model_name</th>\n",
       "      <th>n_states</th>\n",
       "      <th>classifier</th>\n",
       "      <th>metric</th>\n",
       "      <th>obs_delta</th>\n",
       "      <th>delta_mean</th>\n",
       "      <th>ci_low</th>\n",
       "      <th>ci_high</th>\n",
       "      <th>p_value</th>\n",
       "      <th>n_boot</th>\n",
       "    </tr>\n",
       "  </thead>\n",
       "  <tbody>\n",
       "    <tr>\n",
       "      <th>0</th>\n",
       "      <td>hmm_mimic_time_log_normal_min_emissions</td>\n",
       "      <td>4</td>\n",
       "      <td>lgbm</td>\n",
       "      <td>auc</td>\n",
       "      <td>-0.000763</td>\n",
       "      <td>-0.001161</td>\n",
       "      <td>-0.080485</td>\n",
       "      <td>0.079033</td>\n",
       "      <td>0.9748</td>\n",
       "      <td>5000</td>\n",
       "    </tr>\n",
       "  </tbody>\n",
       "</table>\n",
       "</div>"
      ],
      "text/plain": [
       "                                model_name  n_states classifier metric  \\\n",
       "0  hmm_mimic_time_log_normal_min_emissions         4       lgbm    auc   \n",
       "\n",
       "   obs_delta  delta_mean    ci_low   ci_high  p_value  n_boot  \n",
       "0  -0.000763   -0.001161 -0.080485  0.079033   0.9748    5000  "
      ]
     },
     "execution_count": 23,
     "metadata": {},
     "output_type": "execute_result"
    }
   ],
   "source": [
    "results4_df"
   ]
  },
  {
   "cell_type": "markdown",
   "metadata": {},
   "source": [
    "## hmm_mimic_time_log_student_t"
   ]
  },
  {
   "cell_type": "code",
   "execution_count": 24,
   "metadata": {},
   "outputs": [
    {
     "data": {
      "text/plain": [
       "{'continuous_event_time_col': 'LOG_DAYS_UNTIL_NEXT_HOSPITALIZATION',\n",
       " 'dof': 5,\n",
       " 'event_id_col': 'HADM_ID',\n",
       " 'event_name': 'readmission',\n",
       " 'event_time_cat_col': 'READMISSION_TIME_CAT',\n",
       " 'event_time_feature_col': 'LOG_DAYS_UNTIL_NEXT_HOSPITALIZATION',\n",
       " 'feature_define_state_labels': 'LOG_DAYS_UNTIL_NEXT_HOSPITALIZATION',\n",
       " 'features': {'DISCHARGE_LOCATION_POST_ACUTE_CARE': 'bernoulli',\n",
       "  'LOG_DAYS_IN_ICU': 'student_t',\n",
       "  'LOG_DAYS_UNTIL_NEXT_HOSPITALIZATION': 'student_t',\n",
       "  'LOG_NUM_DRUGS': 'gaussian',\n",
       "  'NUM_COMORBIDITIES': 'poisson'},\n",
       " 'hidden_state_labels': ['high', 'medium', 'low'],\n",
       " 'id_col': 'SUBJECT_ID',\n",
       " 'model_name': 'hmm_mimic_time_log_student_t',\n",
       " 'n_states': 3,\n",
       " 'save_model_path': '/workspaces/master-thesis-recurrent-health-events-prediction/_models/mimic/hmm',\n",
       " 'time_col': 'ADMITTIME',\n",
       " 'use_only_sequences_gte_2_steps': False}"
      ]
     },
     "execution_count": 24,
     "metadata": {},
     "output_type": "execute_result"
    }
   ],
   "source": [
    "from recurrent_health_events_prediction.model_analysis.utils import get_model_config\n",
    "\n",
    "\n",
    "model_name = \"hmm_mimic_time_log_student_t\"\n",
    "\n",
    "get_model_config(model_name, BASE_MODEL_DIR)"
   ]
  },
  {
   "cell_type": "code",
   "execution_count": 25,
   "metadata": {},
   "outputs": [
    {
     "name": "stdout",
     "output_type": "stream",
     "text": [
      "Comparing hmm_mimic_time_log_student_t with baseline using auc metric...\n",
      "Number of predictions in baseline: 274\n",
      "Number of predictions in hmm_mimic_time_log_student_t: 274\n",
      "Number of common predictions: 274\n",
      "Evaluating HMM Features with classifier:  lgbm\n",
      "Calculating  auc  with  5000  bootstrap samples...\n",
      "\n"
     ]
    },
    {
     "name": "stderr",
     "output_type": "stream",
     "text": [
      "  0%|          | 0/5000 [00:00<?, ?it/s]"
     ]
    },
    {
     "name": "stderr",
     "output_type": "stream",
     "text": [
      "100%|██████████| 5000/5000 [00:11<00:00, 426.90it/s]\n"
     ]
    }
   ],
   "source": [
    "from recurrent_health_events_prediction.model_analysis.utils import compare_classifier_with_baseline\n",
    "\n",
    "results5_df = compare_classifier_with_baseline(\n",
    "    model_name=model_name,\n",
    "    base_model_dir=BASE_MODEL_DIR,\n",
    "    baseline_results_dir=BASELINE_RESULTS_DIR,\n",
    "    classifier=CLASSIFIER,\n",
    "    metric=METRIC,\n",
    "    n_boot=N_BOOTSTRAPS,\n",
    "    random_state=RANDOM_STATE,\n",
    "    threshold = THRESHOLD,\n",
    ")"
   ]
  },
  {
   "cell_type": "code",
   "execution_count": 26,
   "metadata": {},
   "outputs": [
    {
     "data": {
      "application/vnd.microsoft.datawrangler.viewer.v0+json": {
       "columns": [
        {
         "name": "index",
         "rawType": "int64",
         "type": "integer"
        },
        {
         "name": "model_name",
         "rawType": "object",
         "type": "string"
        },
        {
         "name": "n_states",
         "rawType": "int64",
         "type": "integer"
        },
        {
         "name": "classifier",
         "rawType": "object",
         "type": "string"
        },
        {
         "name": "metric",
         "rawType": "object",
         "type": "string"
        },
        {
         "name": "obs_delta",
         "rawType": "float64",
         "type": "float"
        },
        {
         "name": "delta_mean",
         "rawType": "float64",
         "type": "float"
        },
        {
         "name": "ci_low",
         "rawType": "float64",
         "type": "float"
        },
        {
         "name": "ci_high",
         "rawType": "float64",
         "type": "float"
        },
        {
         "name": "p_value",
         "rawType": "float64",
         "type": "float"
        },
        {
         "name": "n_boot",
         "rawType": "int64",
         "type": "integer"
        }
       ],
       "ref": "b80c926e-ffb0-49cb-9684-9d171f737ef9",
       "rows": [
        [
         "0",
         "hmm_mimic_time_log_student_t",
         "3",
         "lgbm",
         "auc",
         "-0.034829667661139374",
         "-0.035228571428571435",
         "-0.10463123569000204",
         "0.03323735516547561",
         "0.324",
         "5000"
        ]
       ],
       "shape": {
        "columns": 10,
        "rows": 1
       }
      },
      "text/html": [
       "<div>\n",
       "<style scoped>\n",
       "    .dataframe tbody tr th:only-of-type {\n",
       "        vertical-align: middle;\n",
       "    }\n",
       "\n",
       "    .dataframe tbody tr th {\n",
       "        vertical-align: top;\n",
       "    }\n",
       "\n",
       "    .dataframe thead th {\n",
       "        text-align: right;\n",
       "    }\n",
       "</style>\n",
       "<table border=\"1\" class=\"dataframe\">\n",
       "  <thead>\n",
       "    <tr style=\"text-align: right;\">\n",
       "      <th></th>\n",
       "      <th>model_name</th>\n",
       "      <th>n_states</th>\n",
       "      <th>classifier</th>\n",
       "      <th>metric</th>\n",
       "      <th>obs_delta</th>\n",
       "      <th>delta_mean</th>\n",
       "      <th>ci_low</th>\n",
       "      <th>ci_high</th>\n",
       "      <th>p_value</th>\n",
       "      <th>n_boot</th>\n",
       "    </tr>\n",
       "  </thead>\n",
       "  <tbody>\n",
       "    <tr>\n",
       "      <th>0</th>\n",
       "      <td>hmm_mimic_time_log_student_t</td>\n",
       "      <td>3</td>\n",
       "      <td>lgbm</td>\n",
       "      <td>auc</td>\n",
       "      <td>-0.03483</td>\n",
       "      <td>-0.035229</td>\n",
       "      <td>-0.104631</td>\n",
       "      <td>0.033237</td>\n",
       "      <td>0.324</td>\n",
       "      <td>5000</td>\n",
       "    </tr>\n",
       "  </tbody>\n",
       "</table>\n",
       "</div>"
      ],
      "text/plain": [
       "                     model_name  n_states classifier metric  obs_delta  \\\n",
       "0  hmm_mimic_time_log_student_t         3       lgbm    auc   -0.03483   \n",
       "\n",
       "   delta_mean    ci_low   ci_high  p_value  n_boot  \n",
       "0   -0.035229 -0.104631  0.033237    0.324    5000  "
      ]
     },
     "execution_count": 26,
     "metadata": {},
     "output_type": "execute_result"
    }
   ],
   "source": [
    "results5_df"
   ]
  },
  {
   "cell_type": "markdown",
   "metadata": {},
   "source": [
    "## All Results"
   ]
  },
  {
   "cell_type": "code",
   "execution_count": 27,
   "metadata": {},
   "outputs": [],
   "source": [
    "all_results_df_list = [results_reduced_set_df, results1_df, results2_df, results3_df, results4_df, results5_df, results6_df]\n",
    "all_results_df = pd.concat(all_results_df_list, ignore_index=True).sort_values(by=\"delta_mean\")\n"
   ]
  },
  {
   "cell_type": "code",
   "execution_count": 28,
   "metadata": {},
   "outputs": [
    {
     "data": {
      "application/vnd.microsoft.datawrangler.viewer.v0+json": {
       "columns": [
        {
         "name": "index",
         "rawType": "int64",
         "type": "integer"
        },
        {
         "name": "model_name",
         "rawType": "object",
         "type": "string"
        },
        {
         "name": "n_states",
         "rawType": "int64",
         "type": "integer"
        },
        {
         "name": "classifier",
         "rawType": "object",
         "type": "string"
        },
        {
         "name": "metric",
         "rawType": "object",
         "type": "string"
        },
        {
         "name": "obs_delta",
         "rawType": "float64",
         "type": "float"
        },
        {
         "name": "delta_mean",
         "rawType": "float64",
         "type": "float"
        },
        {
         "name": "ci_low",
         "rawType": "float64",
         "type": "float"
        },
        {
         "name": "ci_high",
         "rawType": "float64",
         "type": "float"
        },
        {
         "name": "p_value",
         "rawType": "float64",
         "type": "float"
        },
        {
         "name": "n_boot",
         "rawType": "int64",
         "type": "integer"
        }
       ],
       "ref": "7c5fe36a-72d9-4b45-af31-91d6b443f117",
       "rows": [
        [
         "2",
         "hmm_mimic_time_log_gamma",
         "3",
         "lgbm",
         "auc",
         "-0.04225352112676073",
         "-0.04219771040033304",
         "-0.10254631235689993",
         "0.017348921112884164",
         "0.1628",
         "5000"
        ],
        [
         "0",
         "hmm_mimic_reduced_feats_set",
         "3",
         "lgbm",
         "auc",
         "-0.0350378130854091",
         "-0.03602633733435094",
         "-0.12974571567335025",
         "0.06148268923888141",
         "0.4512",
         "5000"
        ],
        [
         "5",
         "hmm_mimic_time_log_student_t",
         "3",
         "lgbm",
         "auc",
         "-0.034829667661139374",
         "-0.035228571428571435",
         "-0.10463123569000204",
         "0.03323735516547561",
         "0.324",
         "5000"
        ],
        [
         "3",
         "hmm_mimic_time_binary_30_days",
         "4",
         "lgbm",
         "auc",
         "-0.021577742315964876",
         "-0.02240220634149726",
         "-0.09755082217442568",
         "0.05307881773399023",
         "0.5768",
         "5000"
        ],
        [
         "6",
         "hmm_mimic_time_log_normal_v2",
         "5",
         "lgbm",
         "auc",
         "-0.014708943315062895",
         "-0.014601859432456813",
         "-0.08471518767779085",
         "0.05529730104766517",
         "0.678",
         "5000"
        ],
        [
         "4",
         "hmm_mimic_time_log_normal_min_emissions",
         "4",
         "lgbm",
         "auc",
         "-0.0007631998889893188",
         "-0.001160507874835211",
         "-0.08048463192950817",
         "0.07903281759522642",
         "0.9748",
         "5000"
        ],
        [
         "1",
         "hmm_mimic_time_log_normal_v1",
         "3",
         "lgbm",
         "auc",
         "-0.00034690904044965",
         "-0.0007452577534170544",
         "-0.08034413376812599",
         "0.08000416290848535",
         "0.9884",
         "5000"
        ]
       ],
       "shape": {
        "columns": 10,
        "rows": 7
       }
      },
      "text/html": [
       "<div>\n",
       "<style scoped>\n",
       "    .dataframe tbody tr th:only-of-type {\n",
       "        vertical-align: middle;\n",
       "    }\n",
       "\n",
       "    .dataframe tbody tr th {\n",
       "        vertical-align: top;\n",
       "    }\n",
       "\n",
       "    .dataframe thead th {\n",
       "        text-align: right;\n",
       "    }\n",
       "</style>\n",
       "<table border=\"1\" class=\"dataframe\">\n",
       "  <thead>\n",
       "    <tr style=\"text-align: right;\">\n",
       "      <th></th>\n",
       "      <th>model_name</th>\n",
       "      <th>n_states</th>\n",
       "      <th>classifier</th>\n",
       "      <th>metric</th>\n",
       "      <th>obs_delta</th>\n",
       "      <th>delta_mean</th>\n",
       "      <th>ci_low</th>\n",
       "      <th>ci_high</th>\n",
       "      <th>p_value</th>\n",
       "      <th>n_boot</th>\n",
       "    </tr>\n",
       "  </thead>\n",
       "  <tbody>\n",
       "    <tr>\n",
       "      <th>2</th>\n",
       "      <td>hmm_mimic_time_log_gamma</td>\n",
       "      <td>3</td>\n",
       "      <td>lgbm</td>\n",
       "      <td>auc</td>\n",
       "      <td>-0.042254</td>\n",
       "      <td>-0.042198</td>\n",
       "      <td>-0.102546</td>\n",
       "      <td>0.017349</td>\n",
       "      <td>0.1628</td>\n",
       "      <td>5000</td>\n",
       "    </tr>\n",
       "    <tr>\n",
       "      <th>0</th>\n",
       "      <td>hmm_mimic_reduced_feats_set</td>\n",
       "      <td>3</td>\n",
       "      <td>lgbm</td>\n",
       "      <td>auc</td>\n",
       "      <td>-0.035038</td>\n",
       "      <td>-0.036026</td>\n",
       "      <td>-0.129746</td>\n",
       "      <td>0.061483</td>\n",
       "      <td>0.4512</td>\n",
       "      <td>5000</td>\n",
       "    </tr>\n",
       "    <tr>\n",
       "      <th>5</th>\n",
       "      <td>hmm_mimic_time_log_student_t</td>\n",
       "      <td>3</td>\n",
       "      <td>lgbm</td>\n",
       "      <td>auc</td>\n",
       "      <td>-0.034830</td>\n",
       "      <td>-0.035229</td>\n",
       "      <td>-0.104631</td>\n",
       "      <td>0.033237</td>\n",
       "      <td>0.3240</td>\n",
       "      <td>5000</td>\n",
       "    </tr>\n",
       "    <tr>\n",
       "      <th>3</th>\n",
       "      <td>hmm_mimic_time_binary_30_days</td>\n",
       "      <td>4</td>\n",
       "      <td>lgbm</td>\n",
       "      <td>auc</td>\n",
       "      <td>-0.021578</td>\n",
       "      <td>-0.022402</td>\n",
       "      <td>-0.097551</td>\n",
       "      <td>0.053079</td>\n",
       "      <td>0.5768</td>\n",
       "      <td>5000</td>\n",
       "    </tr>\n",
       "    <tr>\n",
       "      <th>6</th>\n",
       "      <td>hmm_mimic_time_log_normal_v2</td>\n",
       "      <td>5</td>\n",
       "      <td>lgbm</td>\n",
       "      <td>auc</td>\n",
       "      <td>-0.014709</td>\n",
       "      <td>-0.014602</td>\n",
       "      <td>-0.084715</td>\n",
       "      <td>0.055297</td>\n",
       "      <td>0.6780</td>\n",
       "      <td>5000</td>\n",
       "    </tr>\n",
       "    <tr>\n",
       "      <th>4</th>\n",
       "      <td>hmm_mimic_time_log_normal_min_emissions</td>\n",
       "      <td>4</td>\n",
       "      <td>lgbm</td>\n",
       "      <td>auc</td>\n",
       "      <td>-0.000763</td>\n",
       "      <td>-0.001161</td>\n",
       "      <td>-0.080485</td>\n",
       "      <td>0.079033</td>\n",
       "      <td>0.9748</td>\n",
       "      <td>5000</td>\n",
       "    </tr>\n",
       "    <tr>\n",
       "      <th>1</th>\n",
       "      <td>hmm_mimic_time_log_normal_v1</td>\n",
       "      <td>3</td>\n",
       "      <td>lgbm</td>\n",
       "      <td>auc</td>\n",
       "      <td>-0.000347</td>\n",
       "      <td>-0.000745</td>\n",
       "      <td>-0.080344</td>\n",
       "      <td>0.080004</td>\n",
       "      <td>0.9884</td>\n",
       "      <td>5000</td>\n",
       "    </tr>\n",
       "  </tbody>\n",
       "</table>\n",
       "</div>"
      ],
      "text/plain": [
       "                                model_name  n_states classifier metric  \\\n",
       "2                 hmm_mimic_time_log_gamma         3       lgbm    auc   \n",
       "0              hmm_mimic_reduced_feats_set         3       lgbm    auc   \n",
       "5             hmm_mimic_time_log_student_t         3       lgbm    auc   \n",
       "3            hmm_mimic_time_binary_30_days         4       lgbm    auc   \n",
       "6             hmm_mimic_time_log_normal_v2         5       lgbm    auc   \n",
       "4  hmm_mimic_time_log_normal_min_emissions         4       lgbm    auc   \n",
       "1             hmm_mimic_time_log_normal_v1         3       lgbm    auc   \n",
       "\n",
       "   obs_delta  delta_mean    ci_low   ci_high  p_value  n_boot  \n",
       "2  -0.042254   -0.042198 -0.102546  0.017349   0.1628    5000  \n",
       "0  -0.035038   -0.036026 -0.129746  0.061483   0.4512    5000  \n",
       "5  -0.034830   -0.035229 -0.104631  0.033237   0.3240    5000  \n",
       "3  -0.021578   -0.022402 -0.097551  0.053079   0.5768    5000  \n",
       "6  -0.014709   -0.014602 -0.084715  0.055297   0.6780    5000  \n",
       "4  -0.000763   -0.001161 -0.080485  0.079033   0.9748    5000  \n",
       "1  -0.000347   -0.000745 -0.080344  0.080004   0.9884    5000  "
      ]
     },
     "execution_count": 28,
     "metadata": {},
     "output_type": "execute_result"
    }
   ],
   "source": [
    "all_results_df"
   ]
  },
  {
   "cell_type": "code",
   "execution_count": 29,
   "metadata": {},
   "outputs": [],
   "source": [
    "if not os.path.exists(SAVE_RESULTS_DIR):\n",
    "    os.makedirs(SAVE_RESULTS_DIR, exist_ok=True)\n",
    "all_results_df.to_csv(os.path.join(SAVE_RESULTS_DIR, filename), index=False)"
   ]
  }
 ],
 "metadata": {
  "kernelspec": {
   "display_name": "recurrent-health-events-prediction-py3.10 (3.10.14)",
   "language": "python",
   "name": "python3"
  },
  "language_info": {
   "codemirror_mode": {
    "name": "ipython",
    "version": 3
   },
   "file_extension": ".py",
   "mimetype": "text/x-python",
   "name": "python",
   "nbconvert_exporter": "python",
   "pygments_lexer": "ipython3",
   "version": "3.10.14"
  }
 },
 "nbformat": 4,
 "nbformat_minor": 2
}
