{
 "cells": [
  {
   "cell_type": "markdown",
   "metadata": {},
   "source": [
    "# Model Performance - MIMIC Dataset"
   ]
  },
  {
   "cell_type": "code",
   "execution_count": 1,
   "metadata": {},
   "outputs": [],
   "source": [
    "import pandas as pd\n",
    "import numpy as np\n",
    "import yaml\n",
    "import os\n",
    "from importlib import resources as impresources\n",
    "from recurrent_health_events_prediction import configs\n",
    "import plotly.express as px\n",
    "from recurrent_health_events_prediction.model_analysis.utils import subset_metric_report, add_pred_cols, bin_numeric_column, stratified_bootstrap_delta\n",
    "from sklearn.metrics import classification_report, roc_auc_score, balanced_accuracy_score"
   ]
  },
  {
   "cell_type": "code",
   "execution_count": 2,
   "metadata": {},
   "outputs": [],
   "source": [
    "with open((impresources.files(configs) / 'model_config.yaml')) as f:\n",
    "    model_config = yaml.safe_load(f)\n",
    "with open((impresources.files(configs) / 'data_config.yaml')) as f:\n",
    "    data_config = yaml.safe_load(f)"
   ]
  },
  {
   "cell_type": "code",
   "execution_count": 3,
   "metadata": {},
   "outputs": [],
   "source": [
    "DATASET = \"mimic\"\n",
    "BASELINE_RESULTS_DIR = \"/workspaces/master-thesis-recurrent-health-events-prediction/_models/mimic/classifiers_baselines\"\n",
    "event_id_col = \"HADM_ID\"\n"
   ]
  },
  {
   "cell_type": "markdown",
   "metadata": {},
   "source": [
    "## Import Model and Predicted Probs"
   ]
  },
  {
   "cell_type": "code",
   "execution_count": 4,
   "metadata": {},
   "outputs": [],
   "source": [
    "model_name = \"hmm_mimic_time_log_normal\"\n",
    "base_model_dir = model_config[DATASET][\"hidden_markov\"][\"save_model_path\"]\n",
    "model_dir = os.path.join(base_model_dir, model_name)\n",
    "config_path = os.path.join(model_dir, f\"{model_name}_config.yaml\")\n",
    "with open(config_path, \"r\") as f:\n",
    "    hmm_config = yaml.safe_load(f)"
   ]
  },
  {
   "cell_type": "code",
   "execution_count": 5,
   "metadata": {},
   "outputs": [],
   "source": [
    "probs_pred_hmm_feat_df = pd.read_csv(os.path.join(model_dir, \"prob_predictions.csv\"))\n",
    "probs_pred_baseline_df = pd.read_csv(os.path.join(BASELINE_RESULTS_DIR, \"prob_predictions.csv\"))\n",
    "full_training_df = pd.read_csv(os.path.join(model_dir, \"last_events_with_hidden_states.csv\")).drop(columns=[\"index\"])\n",
    "\n",
    "pred_cols = [col for col in probs_pred_hmm_feat_df.columns if col.startswith(\"y_pred_\")]\n",
    "pred_cols_hmm_renamed = ['hmm_' + col for col in pred_cols]\n",
    "pred_cols_baseline_renamed = ['baseline_' + col for col in pred_cols]\n",
    "\n",
    "probs_pred_hmm_feat_df.rename(columns=dict(zip(pred_cols, pred_cols_hmm_renamed)), inplace=True)\n",
    "probs_pred_baseline_df.rename(columns=dict(zip(pred_cols, pred_cols_baseline_renamed)), inplace=True)"
   ]
  },
  {
   "cell_type": "code",
   "execution_count": 6,
   "metadata": {},
   "outputs": [
    {
     "name": "stdout",
     "output_type": "stream",
     "text": [
      "Number of rows in full training data: 1369\n",
      "Number of rows in HMM-based features predictions set: 274\n",
      "Number of rows in baseline predictions set: 274\n"
     ]
    }
   ],
   "source": [
    "print(\"Number of rows in full training data:\", len(full_training_df))\n",
    "print(\"Number of rows in HMM-based features predictions set:\", len(probs_pred_hmm_feat_df))\n",
    "print(\"Number of rows in baseline predictions set:\", len(probs_pred_baseline_df))"
   ]
  },
  {
   "cell_type": "code",
   "execution_count": 7,
   "metadata": {},
   "outputs": [
    {
     "name": "stdout",
     "output_type": "stream",
     "text": [
      "<class 'pandas.core.frame.DataFrame'>\n",
      "RangeIndex: 1369 entries, 0 to 1368\n",
      "Data columns (total 64 columns):\n",
      " #   Column                                Non-Null Count  Dtype  \n",
      "---  ------                                --------------  -----  \n",
      " 0   SUBJECT_ID                            1369 non-null   int64  \n",
      " 1   HADM_ID                               1369 non-null   int64  \n",
      " 2   ADMITTIME                             1369 non-null   object \n",
      " 3   DISCHTIME                             1369 non-null   object \n",
      " 4   ADMISSION_TYPE                        1369 non-null   object \n",
      " 5   ETHNICITY                             1369 non-null   object \n",
      " 6   INSURANCE                             1369 non-null   object \n",
      " 7   HOSPITALIZATION_DAYS                  1369 non-null   float64\n",
      " 8   NUM_COMORBIDITIES                     1369 non-null   int64  \n",
      " 9   TYPES_COMORBIDITIES                   1369 non-null   object \n",
      " 10  HAS_DIABETES                          1369 non-null   bool   \n",
      " 11  HAS_COPD                              1369 non-null   bool   \n",
      " 12  HAS_CONGESTIVE_HF                     1369 non-null   bool   \n",
      " 13  NEXT_ADMISSION_TYPE                   1369 non-null   object \n",
      " 14  NUM_PREV_HOSPITALIZATIONS             1369 non-null   int64  \n",
      " 15  PREV_DISCHTIME                        1369 non-null   object \n",
      " 16  NEXT_ADMITTIME                        1369 non-null   object \n",
      " 17  DAYS_SINCE_LAST_HOSPITALIZATION       1369 non-null   float64\n",
      " 18  DAYS_UNTIL_NEXT_HOSPITALIZATION       1369 non-null   float64\n",
      " 19  LOG_DAYS_SINCE_LAST_HOSPITALIZATION   1369 non-null   float64\n",
      " 20  LOG_DAYS_UNTIL_NEXT_HOSPITALIZATION   1369 non-null   float64\n",
      " 21  PREV_READMISSION_30_DAYS              1369 non-null   int64  \n",
      " 22  READMISSION_30_DAYS                   1369 non-null   int64  \n",
      " 23  READM_30_DAYS_PAST_MEAN               1369 non-null   float64\n",
      " 24  READM_30_DAYS_PAST_SUM                1369 non-null   float64\n",
      " 25  LOG_DAYS_UNTIL_NEXT_HOSP_PAST_MEAN    1369 non-null   float64\n",
      " 26  LOG_DAYS_UNTIL_NEXT_HOSP_PAST_MEDIAN  1369 non-null   float64\n",
      " 27  LOG_DAYS_UNTIL_NEXT_HOSP_PAST_STD     666 non-null    float64\n",
      " 28  TOTAL_HOSPITALIZATIONS                1369 non-null   int64  \n",
      " 29  DAYS_IN_ICU                           1369 non-null   float64\n",
      " 30  NUM_DRUGS                             1369 non-null   int64  \n",
      " 31  NUM_PROCEDURES                        1369 non-null   int64  \n",
      " 32  GENDER                                1369 non-null   object \n",
      " 33  DOB                                   1369 non-null   object \n",
      " 34  DOD                                   903 non-null    object \n",
      " 35  DOD_HOSP                              704 non-null    object \n",
      " 36  AGE                                   1369 non-null   int64  \n",
      " 37  CHARLSON_INDEX                        1369 non-null   int64  \n",
      " 38  FIRST_ADMITTIME                       1369 non-null   object \n",
      " 39  LAST_DISCHTIME                        1369 non-null   object \n",
      " 40  PARTICIPATION_DAYS                    1369 non-null   int64  \n",
      " 41  TOTAL_PARTICIPATION_DAYS              1369 non-null   int64  \n",
      " 42  DEATH_TIME_AFTER_LAST_DISCHARGE       903 non-null    float64\n",
      " 43  READMISSION_EVENT                     1369 non-null   int64  \n",
      " 44  EVENT_DURATION                        1369 non-null   float64\n",
      " 45  IN_HOSP_DEATH_EVENT                   1369 non-null   int64  \n",
      " 46  AFTER_HOSP_DEATH_EVENT                1369 non-null   int64  \n",
      " 47  LOG_HOSPITALIZATION_DAYS              1369 non-null   float64\n",
      " 48  LOG_DAYS_IN_ICU                       1369 non-null   float64\n",
      " 49  LOG_NUM_PREV_HOSPITALIZATIONS         1369 non-null   float64\n",
      " 50  LOG_NUM_DRUGS                         1369 non-null   float64\n",
      " 51  IS_LAST_EVENT                         1369 non-null   int64  \n",
      " 52  IS_HISTORICAL_EVENT                   1369 non-null   int64  \n",
      " 53  READMISSION_TIME_CAT                  1369 non-null   object \n",
      " 54  READMISSION_TIME_CAT_ENCODED          1369 non-null   int64  \n",
      " 55  DISCHARGE_LOCATION_HOME               1369 non-null   int64  \n",
      " 56  DISCHARGE_LOCATION_POST_ACUTE_CARE    1369 non-null   int64  \n",
      " 57  HEALTH_HIDDEN_RISK                    1369 non-null   object \n",
      " 58  PROB_HIDDEN_RISK_HIGH                 1369 non-null   float64\n",
      " 59  PROB_HIDDEN_RISK_MEDIUM               1369 non-null   float64\n",
      " 60  PROB_HIDDEN_RISK_LOW                  1369 non-null   float64\n",
      " 61  PAST_COUNT_HIDDEN_RISK_HIGH           1369 non-null   int64  \n",
      " 62  PAST_COUNT_HIDDEN_RISK_LOW            1369 non-null   int64  \n",
      " 63  PAST_COUNT_HIDDEN_RISK_MEDIUM         1369 non-null   int64  \n",
      "dtypes: bool(3), float64(20), int64(24), object(17)\n",
      "memory usage: 656.5+ KB\n"
     ]
    }
   ],
   "source": [
    "full_training_df.info()"
   ]
  },
  {
   "cell_type": "code",
   "execution_count": 8,
   "metadata": {},
   "outputs": [
    {
     "data": {
      "application/vnd.microsoft.datawrangler.viewer.v0+json": {
       "columns": [
        {
         "name": "index",
         "rawType": "int64",
         "type": "integer"
        },
        {
         "name": "sample_id",
         "rawType": "int64",
         "type": "integer"
        },
        {
         "name": "y_true",
         "rawType": "int64",
         "type": "integer"
        },
        {
         "name": "hmm_y_pred_proba_logreg",
         "rawType": "float64",
         "type": "float"
        },
        {
         "name": "hmm_y_pred_proba_rf",
         "rawType": "float64",
         "type": "float"
        },
        {
         "name": "hmm_y_pred_proba_lgbm",
         "rawType": "float64",
         "type": "float"
        }
       ],
       "ref": "48011bb0-e8fc-4253-b611-59e4d1000c15",
       "rows": [
        [
         "0",
         "182562",
         "0",
         "0.3555522550832629",
         "0.3595466287043319",
         "0.032618221697428"
        ],
        [
         "1",
         "125726",
         "0",
         "0.3755180880237297",
         "0.3668749257984915",
         "0.0296217175410859"
        ],
        [
         "2",
         "195290",
         "0",
         "0.5069800343261615",
         "0.4896016514954304",
         "0.1905858981027791"
        ],
        [
         "3",
         "155036",
         "0",
         "0.4636035578647148",
         "0.4644184921665473",
         "0.1918919105884671"
        ],
        [
         "4",
         "160425",
         "1",
         "0.5231306652101587",
         "0.534879610223629",
         "0.256178148666961"
        ]
       ],
       "shape": {
        "columns": 5,
        "rows": 5
       }
      },
      "text/html": [
       "<div>\n",
       "<style scoped>\n",
       "    .dataframe tbody tr th:only-of-type {\n",
       "        vertical-align: middle;\n",
       "    }\n",
       "\n",
       "    .dataframe tbody tr th {\n",
       "        vertical-align: top;\n",
       "    }\n",
       "\n",
       "    .dataframe thead th {\n",
       "        text-align: right;\n",
       "    }\n",
       "</style>\n",
       "<table border=\"1\" class=\"dataframe\">\n",
       "  <thead>\n",
       "    <tr style=\"text-align: right;\">\n",
       "      <th></th>\n",
       "      <th>sample_id</th>\n",
       "      <th>y_true</th>\n",
       "      <th>hmm_y_pred_proba_logreg</th>\n",
       "      <th>hmm_y_pred_proba_rf</th>\n",
       "      <th>hmm_y_pred_proba_lgbm</th>\n",
       "    </tr>\n",
       "  </thead>\n",
       "  <tbody>\n",
       "    <tr>\n",
       "      <th>0</th>\n",
       "      <td>182562</td>\n",
       "      <td>0</td>\n",
       "      <td>0.355552</td>\n",
       "      <td>0.359547</td>\n",
       "      <td>0.032618</td>\n",
       "    </tr>\n",
       "    <tr>\n",
       "      <th>1</th>\n",
       "      <td>125726</td>\n",
       "      <td>0</td>\n",
       "      <td>0.375518</td>\n",
       "      <td>0.366875</td>\n",
       "      <td>0.029622</td>\n",
       "    </tr>\n",
       "    <tr>\n",
       "      <th>2</th>\n",
       "      <td>195290</td>\n",
       "      <td>0</td>\n",
       "      <td>0.506980</td>\n",
       "      <td>0.489602</td>\n",
       "      <td>0.190586</td>\n",
       "    </tr>\n",
       "    <tr>\n",
       "      <th>3</th>\n",
       "      <td>155036</td>\n",
       "      <td>0</td>\n",
       "      <td>0.463604</td>\n",
       "      <td>0.464418</td>\n",
       "      <td>0.191892</td>\n",
       "    </tr>\n",
       "    <tr>\n",
       "      <th>4</th>\n",
       "      <td>160425</td>\n",
       "      <td>1</td>\n",
       "      <td>0.523131</td>\n",
       "      <td>0.534880</td>\n",
       "      <td>0.256178</td>\n",
       "    </tr>\n",
       "  </tbody>\n",
       "</table>\n",
       "</div>"
      ],
      "text/plain": [
       "   sample_id  y_true  hmm_y_pred_proba_logreg  hmm_y_pred_proba_rf  \\\n",
       "0     182562       0                 0.355552             0.359547   \n",
       "1     125726       0                 0.375518             0.366875   \n",
       "2     195290       0                 0.506980             0.489602   \n",
       "3     155036       0                 0.463604             0.464418   \n",
       "4     160425       1                 0.523131             0.534880   \n",
       "\n",
       "   hmm_y_pred_proba_lgbm  \n",
       "0               0.032618  \n",
       "1               0.029622  \n",
       "2               0.190586  \n",
       "3               0.191892  \n",
       "4               0.256178  "
      ]
     },
     "execution_count": 8,
     "metadata": {},
     "output_type": "execute_result"
    }
   ],
   "source": [
    "probs_pred_hmm_feat_df.head()"
   ]
  },
  {
   "cell_type": "code",
   "execution_count": 9,
   "metadata": {},
   "outputs": [
    {
     "data": {
      "application/vnd.microsoft.datawrangler.viewer.v0+json": {
       "columns": [
        {
         "name": "index",
         "rawType": "int64",
         "type": "integer"
        },
        {
         "name": "sample_id",
         "rawType": "int64",
         "type": "integer"
        },
        {
         "name": "y_true",
         "rawType": "int64",
         "type": "integer"
        },
        {
         "name": "baseline_y_pred_proba_logreg",
         "rawType": "float64",
         "type": "float"
        },
        {
         "name": "baseline_y_pred_proba_rf",
         "rawType": "float64",
         "type": "float"
        },
        {
         "name": "baseline_y_pred_proba_lgbm",
         "rawType": "float64",
         "type": "float"
        }
       ],
       "ref": "77d10617-fa60-46ca-ad35-65016b79f893",
       "rows": [
        [
         "0",
         "182562",
         "0",
         "0.42964451144179",
         "0.3680820029597776",
         "0.0893342182467409"
        ],
        [
         "1",
         "125726",
         "0",
         "0.4395981278422702",
         "0.3813076790904861",
         "0.1480347786968887"
        ],
        [
         "2",
         "195290",
         "0",
         "0.5181213431335622",
         "0.5247248070575796",
         "0.0889329439293431"
        ],
        [
         "3",
         "155036",
         "0",
         "0.4779958433138814",
         "0.499452692569834",
         "0.0764922444559187"
        ],
        [
         "4",
         "160425",
         "1",
         "0.5140057645804478",
         "0.4555280513512461",
         "0.1992126164127985"
        ]
       ],
       "shape": {
        "columns": 5,
        "rows": 5
       }
      },
      "text/html": [
       "<div>\n",
       "<style scoped>\n",
       "    .dataframe tbody tr th:only-of-type {\n",
       "        vertical-align: middle;\n",
       "    }\n",
       "\n",
       "    .dataframe tbody tr th {\n",
       "        vertical-align: top;\n",
       "    }\n",
       "\n",
       "    .dataframe thead th {\n",
       "        text-align: right;\n",
       "    }\n",
       "</style>\n",
       "<table border=\"1\" class=\"dataframe\">\n",
       "  <thead>\n",
       "    <tr style=\"text-align: right;\">\n",
       "      <th></th>\n",
       "      <th>sample_id</th>\n",
       "      <th>y_true</th>\n",
       "      <th>baseline_y_pred_proba_logreg</th>\n",
       "      <th>baseline_y_pred_proba_rf</th>\n",
       "      <th>baseline_y_pred_proba_lgbm</th>\n",
       "    </tr>\n",
       "  </thead>\n",
       "  <tbody>\n",
       "    <tr>\n",
       "      <th>0</th>\n",
       "      <td>182562</td>\n",
       "      <td>0</td>\n",
       "      <td>0.429645</td>\n",
       "      <td>0.368082</td>\n",
       "      <td>0.089334</td>\n",
       "    </tr>\n",
       "    <tr>\n",
       "      <th>1</th>\n",
       "      <td>125726</td>\n",
       "      <td>0</td>\n",
       "      <td>0.439598</td>\n",
       "      <td>0.381308</td>\n",
       "      <td>0.148035</td>\n",
       "    </tr>\n",
       "    <tr>\n",
       "      <th>2</th>\n",
       "      <td>195290</td>\n",
       "      <td>0</td>\n",
       "      <td>0.518121</td>\n",
       "      <td>0.524725</td>\n",
       "      <td>0.088933</td>\n",
       "    </tr>\n",
       "    <tr>\n",
       "      <th>3</th>\n",
       "      <td>155036</td>\n",
       "      <td>0</td>\n",
       "      <td>0.477996</td>\n",
       "      <td>0.499453</td>\n",
       "      <td>0.076492</td>\n",
       "    </tr>\n",
       "    <tr>\n",
       "      <th>4</th>\n",
       "      <td>160425</td>\n",
       "      <td>1</td>\n",
       "      <td>0.514006</td>\n",
       "      <td>0.455528</td>\n",
       "      <td>0.199213</td>\n",
       "    </tr>\n",
       "  </tbody>\n",
       "</table>\n",
       "</div>"
      ],
      "text/plain": [
       "   sample_id  y_true  baseline_y_pred_proba_logreg  baseline_y_pred_proba_rf  \\\n",
       "0     182562       0                      0.429645                  0.368082   \n",
       "1     125726       0                      0.439598                  0.381308   \n",
       "2     195290       0                      0.518121                  0.524725   \n",
       "3     155036       0                      0.477996                  0.499453   \n",
       "4     160425       1                      0.514006                  0.455528   \n",
       "\n",
       "   baseline_y_pred_proba_lgbm  \n",
       "0                    0.089334  \n",
       "1                    0.148035  \n",
       "2                    0.088933  \n",
       "3                    0.076492  \n",
       "4                    0.199213  "
      ]
     },
     "execution_count": 9,
     "metadata": {},
     "output_type": "execute_result"
    }
   ],
   "source": [
    "probs_pred_baseline_df.head()"
   ]
  },
  {
   "cell_type": "markdown",
   "metadata": {},
   "source": [
    "## Comparison Dataframe and Sub-Groups to Analyze"
   ]
  },
  {
   "cell_type": "code",
   "execution_count": 10,
   "metadata": {},
   "outputs": [],
   "source": [
    "subgroup_cols = [\n",
    "    \"NUM_COMORBIDITIES\",\n",
    "    \"NUM_PREV_HOSPITALIZATIONS\",\n",
    "    \"READM_30_DAYS_PAST_SUM\",\n",
    "    \"LOG_DAYS_UNTIL_NEXT_HOSP_PAST_MEDIAN\",\n",
    "    \"HAS_COPD\",\n",
    "    \"HAS_DIABETES\",\n",
    "    \"HAS_CONGESTIVE_HF\"\n",
    "]\n",
    "\n",
    "comparison_df = pd.merge(\n",
    "    probs_pred_hmm_feat_df,\n",
    "    full_training_df[[event_id_col] + subgroup_cols],\n",
    "    left_on=\"sample_id\",\n",
    "    right_on=event_id_col,\n",
    "    how=\"left\",\n",
    ").drop(columns=[event_id_col])\n",
    "\n",
    "comparison_df = pd.merge(\n",
    "    comparison_df,\n",
    "    probs_pred_baseline_df.drop(columns=[\"y_true\"]),\n",
    "    on=\"sample_id\",\n",
    "    how=\"inner\",\n",
    ")"
   ]
  },
  {
   "cell_type": "code",
   "execution_count": 11,
   "metadata": {},
   "outputs": [
    {
     "data": {
      "text/plain": [
       "Index(['sample_id', 'y_true', 'hmm_y_pred_proba_logreg', 'hmm_y_pred_proba_rf',\n",
       "       'hmm_y_pred_proba_lgbm', 'NUM_COMORBIDITIES',\n",
       "       'NUM_PREV_HOSPITALIZATIONS', 'READM_30_DAYS_PAST_SUM',\n",
       "       'LOG_DAYS_UNTIL_NEXT_HOSP_PAST_MEDIAN', 'HAS_COPD', 'HAS_DIABETES',\n",
       "       'HAS_CONGESTIVE_HF', 'baseline_y_pred_proba_logreg',\n",
       "       'baseline_y_pred_proba_rf', 'baseline_y_pred_proba_lgbm'],\n",
       "      dtype='object')"
      ]
     },
     "execution_count": 11,
     "metadata": {},
     "output_type": "execute_result"
    }
   ],
   "source": [
    "comparison_df.columns"
   ]
  },
  {
   "cell_type": "code",
   "execution_count": 12,
   "metadata": {},
   "outputs": [
    {
     "data": {
      "application/vnd.microsoft.datawrangler.viewer.v0+json": {
       "columns": [
        {
         "name": "index",
         "rawType": "int64",
         "type": "integer"
        },
        {
         "name": "sample_id",
         "rawType": "int64",
         "type": "integer"
        },
        {
         "name": "y_true",
         "rawType": "int64",
         "type": "integer"
        },
        {
         "name": "hmm_y_pred_proba_logreg",
         "rawType": "float64",
         "type": "float"
        },
        {
         "name": "hmm_y_pred_proba_rf",
         "rawType": "float64",
         "type": "float"
        },
        {
         "name": "hmm_y_pred_proba_lgbm",
         "rawType": "float64",
         "type": "float"
        },
        {
         "name": "NUM_COMORBIDITIES",
         "rawType": "int64",
         "type": "integer"
        },
        {
         "name": "NUM_PREV_HOSPITALIZATIONS",
         "rawType": "int64",
         "type": "integer"
        },
        {
         "name": "READM_30_DAYS_PAST_SUM",
         "rawType": "float64",
         "type": "float"
        },
        {
         "name": "LOG_DAYS_UNTIL_NEXT_HOSP_PAST_MEDIAN",
         "rawType": "float64",
         "type": "float"
        },
        {
         "name": "HAS_COPD",
         "rawType": "bool",
         "type": "boolean"
        },
        {
         "name": "HAS_DIABETES",
         "rawType": "bool",
         "type": "boolean"
        },
        {
         "name": "HAS_CONGESTIVE_HF",
         "rawType": "bool",
         "type": "boolean"
        },
        {
         "name": "baseline_y_pred_proba_logreg",
         "rawType": "float64",
         "type": "float"
        },
        {
         "name": "baseline_y_pred_proba_rf",
         "rawType": "float64",
         "type": "float"
        },
        {
         "name": "baseline_y_pred_proba_lgbm",
         "rawType": "float64",
         "type": "float"
        },
        {
         "name": "hmm_y_pred_logreg",
         "rawType": "int64",
         "type": "integer"
        },
        {
         "name": "hmm_y_pred_rf",
         "rawType": "int64",
         "type": "integer"
        },
        {
         "name": "hmm_y_pred_lgbm",
         "rawType": "int64",
         "type": "integer"
        },
        {
         "name": "baseline_y_pred_logreg",
         "rawType": "int64",
         "type": "integer"
        },
        {
         "name": "baseline_y_pred_rf",
         "rawType": "int64",
         "type": "integer"
        },
        {
         "name": "baseline_y_pred_lgbm",
         "rawType": "int64",
         "type": "integer"
        }
       ],
       "ref": "81335f0d-aab6-4a0d-97a9-ba42b61d50f7",
       "rows": [
        [
         "0",
         "182562",
         "0",
         "0.3555522550832629",
         "0.3595466287043319",
         "0.032618221697428",
         "2",
         "1",
         "0.0",
         "5.410802442148159",
         "False",
         "False",
         "False",
         "0.42964451144179",
         "0.3680820029597776",
         "0.0893342182467409",
         "0",
         "0",
         "0",
         "0",
         "0",
         "0"
        ],
        [
         "1",
         "125726",
         "0",
         "0.3755180880237297",
         "0.3668749257984915",
         "0.0296217175410859",
         "4",
         "1",
         "0.0",
         "7.290957736416313",
         "False",
         "False",
         "False",
         "0.4395981278422702",
         "0.3813076790904861",
         "0.1480347786968887",
         "0",
         "0",
         "0",
         "0",
         "0",
         "0"
        ],
        [
         "2",
         "195290",
         "0",
         "0.5069800343261615",
         "0.4896016514954304",
         "0.1905858981027791",
         "2",
         "2",
         "1.0",
         "4.38469686969354",
         "True",
         "False",
         "False",
         "0.5181213431335622",
         "0.5247248070575796",
         "0.0889329439293431",
         "1",
         "0",
         "0",
         "1",
         "1",
         "0"
        ],
        [
         "3",
         "155036",
         "0",
         "0.4636035578647148",
         "0.4644184921665473",
         "0.1918919105884671",
         "3",
         "1",
         "0.0",
         "5.560657592265061",
         "False",
         "False",
         "True",
         "0.4779958433138814",
         "0.499452692569834",
         "0.0764922444559187",
         "0",
         "0",
         "0",
         "0",
         "0",
         "0"
        ],
        [
         "4",
         "160425",
         "1",
         "0.5231306652101587",
         "0.534879610223629",
         "0.256178148666961",
         "6",
         "2",
         "1.0",
         "5.425723521562548",
         "False",
         "False",
         "True",
         "0.5140057645804478",
         "0.4555280513512461",
         "0.1992126164127985",
         "1",
         "1",
         "0",
         "1",
         "0",
         "0"
        ]
       ],
       "shape": {
        "columns": 21,
        "rows": 5
       }
      },
      "text/html": [
       "<div>\n",
       "<style scoped>\n",
       "    .dataframe tbody tr th:only-of-type {\n",
       "        vertical-align: middle;\n",
       "    }\n",
       "\n",
       "    .dataframe tbody tr th {\n",
       "        vertical-align: top;\n",
       "    }\n",
       "\n",
       "    .dataframe thead th {\n",
       "        text-align: right;\n",
       "    }\n",
       "</style>\n",
       "<table border=\"1\" class=\"dataframe\">\n",
       "  <thead>\n",
       "    <tr style=\"text-align: right;\">\n",
       "      <th></th>\n",
       "      <th>sample_id</th>\n",
       "      <th>y_true</th>\n",
       "      <th>hmm_y_pred_proba_logreg</th>\n",
       "      <th>hmm_y_pred_proba_rf</th>\n",
       "      <th>hmm_y_pred_proba_lgbm</th>\n",
       "      <th>NUM_COMORBIDITIES</th>\n",
       "      <th>NUM_PREV_HOSPITALIZATIONS</th>\n",
       "      <th>READM_30_DAYS_PAST_SUM</th>\n",
       "      <th>LOG_DAYS_UNTIL_NEXT_HOSP_PAST_MEDIAN</th>\n",
       "      <th>HAS_COPD</th>\n",
       "      <th>...</th>\n",
       "      <th>HAS_CONGESTIVE_HF</th>\n",
       "      <th>baseline_y_pred_proba_logreg</th>\n",
       "      <th>baseline_y_pred_proba_rf</th>\n",
       "      <th>baseline_y_pred_proba_lgbm</th>\n",
       "      <th>hmm_y_pred_logreg</th>\n",
       "      <th>hmm_y_pred_rf</th>\n",
       "      <th>hmm_y_pred_lgbm</th>\n",
       "      <th>baseline_y_pred_logreg</th>\n",
       "      <th>baseline_y_pred_rf</th>\n",
       "      <th>baseline_y_pred_lgbm</th>\n",
       "    </tr>\n",
       "  </thead>\n",
       "  <tbody>\n",
       "    <tr>\n",
       "      <th>0</th>\n",
       "      <td>182562</td>\n",
       "      <td>0</td>\n",
       "      <td>0.355552</td>\n",
       "      <td>0.359547</td>\n",
       "      <td>0.032618</td>\n",
       "      <td>2</td>\n",
       "      <td>1</td>\n",
       "      <td>0.0</td>\n",
       "      <td>5.410802</td>\n",
       "      <td>False</td>\n",
       "      <td>...</td>\n",
       "      <td>False</td>\n",
       "      <td>0.429645</td>\n",
       "      <td>0.368082</td>\n",
       "      <td>0.089334</td>\n",
       "      <td>0</td>\n",
       "      <td>0</td>\n",
       "      <td>0</td>\n",
       "      <td>0</td>\n",
       "      <td>0</td>\n",
       "      <td>0</td>\n",
       "    </tr>\n",
       "    <tr>\n",
       "      <th>1</th>\n",
       "      <td>125726</td>\n",
       "      <td>0</td>\n",
       "      <td>0.375518</td>\n",
       "      <td>0.366875</td>\n",
       "      <td>0.029622</td>\n",
       "      <td>4</td>\n",
       "      <td>1</td>\n",
       "      <td>0.0</td>\n",
       "      <td>7.290958</td>\n",
       "      <td>False</td>\n",
       "      <td>...</td>\n",
       "      <td>False</td>\n",
       "      <td>0.439598</td>\n",
       "      <td>0.381308</td>\n",
       "      <td>0.148035</td>\n",
       "      <td>0</td>\n",
       "      <td>0</td>\n",
       "      <td>0</td>\n",
       "      <td>0</td>\n",
       "      <td>0</td>\n",
       "      <td>0</td>\n",
       "    </tr>\n",
       "    <tr>\n",
       "      <th>2</th>\n",
       "      <td>195290</td>\n",
       "      <td>0</td>\n",
       "      <td>0.506980</td>\n",
       "      <td>0.489602</td>\n",
       "      <td>0.190586</td>\n",
       "      <td>2</td>\n",
       "      <td>2</td>\n",
       "      <td>1.0</td>\n",
       "      <td>4.384697</td>\n",
       "      <td>True</td>\n",
       "      <td>...</td>\n",
       "      <td>False</td>\n",
       "      <td>0.518121</td>\n",
       "      <td>0.524725</td>\n",
       "      <td>0.088933</td>\n",
       "      <td>1</td>\n",
       "      <td>0</td>\n",
       "      <td>0</td>\n",
       "      <td>1</td>\n",
       "      <td>1</td>\n",
       "      <td>0</td>\n",
       "    </tr>\n",
       "    <tr>\n",
       "      <th>3</th>\n",
       "      <td>155036</td>\n",
       "      <td>0</td>\n",
       "      <td>0.463604</td>\n",
       "      <td>0.464418</td>\n",
       "      <td>0.191892</td>\n",
       "      <td>3</td>\n",
       "      <td>1</td>\n",
       "      <td>0.0</td>\n",
       "      <td>5.560658</td>\n",
       "      <td>False</td>\n",
       "      <td>...</td>\n",
       "      <td>True</td>\n",
       "      <td>0.477996</td>\n",
       "      <td>0.499453</td>\n",
       "      <td>0.076492</td>\n",
       "      <td>0</td>\n",
       "      <td>0</td>\n",
       "      <td>0</td>\n",
       "      <td>0</td>\n",
       "      <td>0</td>\n",
       "      <td>0</td>\n",
       "    </tr>\n",
       "    <tr>\n",
       "      <th>4</th>\n",
       "      <td>160425</td>\n",
       "      <td>1</td>\n",
       "      <td>0.523131</td>\n",
       "      <td>0.534880</td>\n",
       "      <td>0.256178</td>\n",
       "      <td>6</td>\n",
       "      <td>2</td>\n",
       "      <td>1.0</td>\n",
       "      <td>5.425724</td>\n",
       "      <td>False</td>\n",
       "      <td>...</td>\n",
       "      <td>True</td>\n",
       "      <td>0.514006</td>\n",
       "      <td>0.455528</td>\n",
       "      <td>0.199213</td>\n",
       "      <td>1</td>\n",
       "      <td>1</td>\n",
       "      <td>0</td>\n",
       "      <td>1</td>\n",
       "      <td>0</td>\n",
       "      <td>0</td>\n",
       "    </tr>\n",
       "  </tbody>\n",
       "</table>\n",
       "<p>5 rows × 21 columns</p>\n",
       "</div>"
      ],
      "text/plain": [
       "   sample_id  y_true  hmm_y_pred_proba_logreg  hmm_y_pred_proba_rf  \\\n",
       "0     182562       0                 0.355552             0.359547   \n",
       "1     125726       0                 0.375518             0.366875   \n",
       "2     195290       0                 0.506980             0.489602   \n",
       "3     155036       0                 0.463604             0.464418   \n",
       "4     160425       1                 0.523131             0.534880   \n",
       "\n",
       "   hmm_y_pred_proba_lgbm  NUM_COMORBIDITIES  NUM_PREV_HOSPITALIZATIONS  \\\n",
       "0               0.032618                  2                          1   \n",
       "1               0.029622                  4                          1   \n",
       "2               0.190586                  2                          2   \n",
       "3               0.191892                  3                          1   \n",
       "4               0.256178                  6                          2   \n",
       "\n",
       "   READM_30_DAYS_PAST_SUM  LOG_DAYS_UNTIL_NEXT_HOSP_PAST_MEDIAN  HAS_COPD  \\\n",
       "0                     0.0                              5.410802     False   \n",
       "1                     0.0                              7.290958     False   \n",
       "2                     1.0                              4.384697      True   \n",
       "3                     0.0                              5.560658     False   \n",
       "4                     1.0                              5.425724     False   \n",
       "\n",
       "   ...  HAS_CONGESTIVE_HF  baseline_y_pred_proba_logreg  \\\n",
       "0  ...              False                      0.429645   \n",
       "1  ...              False                      0.439598   \n",
       "2  ...              False                      0.518121   \n",
       "3  ...               True                      0.477996   \n",
       "4  ...               True                      0.514006   \n",
       "\n",
       "   baseline_y_pred_proba_rf  baseline_y_pred_proba_lgbm  hmm_y_pred_logreg  \\\n",
       "0                  0.368082                    0.089334                  0   \n",
       "1                  0.381308                    0.148035                  0   \n",
       "2                  0.524725                    0.088933                  1   \n",
       "3                  0.499453                    0.076492                  0   \n",
       "4                  0.455528                    0.199213                  1   \n",
       "\n",
       "   hmm_y_pred_rf  hmm_y_pred_lgbm  baseline_y_pred_logreg  baseline_y_pred_rf  \\\n",
       "0              0                0                       0                   0   \n",
       "1              0                0                       0                   0   \n",
       "2              0                0                       1                   1   \n",
       "3              0                0                       0                   0   \n",
       "4              1                0                       1                   0   \n",
       "\n",
       "   baseline_y_pred_lgbm  \n",
       "0                     0  \n",
       "1                     0  \n",
       "2                     0  \n",
       "3                     0  \n",
       "4                     0  \n",
       "\n",
       "[5 rows x 21 columns]"
      ]
     },
     "execution_count": 12,
     "metadata": {},
     "output_type": "execute_result"
    }
   ],
   "source": [
    "comparison_df = add_pred_cols(comparison_df, 0.5)\n",
    "comparison_df.head()"
   ]
  },
  {
   "cell_type": "code",
   "execution_count": 13,
   "metadata": {},
   "outputs": [],
   "source": [
    "from pandas.api.types import is_numeric_dtype, is_bool_dtype\n",
    "\n",
    "for col in subgroup_cols:\n",
    "    if is_numeric_dtype(comparison_df[col]) and not is_bool_dtype(comparison_df[col]):\n",
    "        comparison_df = bin_numeric_column(comparison_df, col, num_bins=3, strategy=\"quantile\")"
   ]
  },
  {
   "cell_type": "code",
   "execution_count": 14,
   "metadata": {},
   "outputs": [
    {
     "data": {
      "text/plain": [
       "['NUM_COMORBIDITIES_SUBGROUP',\n",
       " 'NUM_PREV_HOSPITALIZATIONS_SUBGROUP',\n",
       " 'READM_30_DAYS_PAST_SUM_SUBGROUP',\n",
       " 'LOG_DAYS_UNTIL_NEXT_HOSP_PAST_MEDIAN_SUBGROUP',\n",
       " 'HAS_COPD',\n",
       " 'HAS_DIABETES',\n",
       " 'HAS_CONGESTIVE_HF']"
      ]
     },
     "execution_count": 14,
     "metadata": {},
     "output_type": "execute_result"
    }
   ],
   "source": [
    "subgroup_cols = [col for col in comparison_df.columns if col.endswith(\"_SUBGROUP\")]\n",
    "subgroup_cols += [\"HAS_COPD\", \"HAS_DIABETES\", \"HAS_CONGESTIVE_HF\"]\n",
    "subgroup_cols"
   ]
  },
  {
   "cell_type": "code",
   "execution_count": 15,
   "metadata": {},
   "outputs": [
    {
     "data": {
      "application/vnd.microsoft.datawrangler.viewer.v0+json": {
       "columns": [
        {
         "name": "index",
         "rawType": "int64",
         "type": "integer"
        },
        {
         "name": "sample_id",
         "rawType": "int64",
         "type": "integer"
        },
        {
         "name": "y_true",
         "rawType": "int64",
         "type": "integer"
        },
        {
         "name": "NUM_COMORBIDITIES_SUBGROUP",
         "rawType": "category",
         "type": "unknown"
        },
        {
         "name": "NUM_PREV_HOSPITALIZATIONS_SUBGROUP",
         "rawType": "category",
         "type": "unknown"
        },
        {
         "name": "READM_30_DAYS_PAST_SUM_SUBGROUP",
         "rawType": "category",
         "type": "unknown"
        },
        {
         "name": "LOG_DAYS_UNTIL_NEXT_HOSP_PAST_MEDIAN_SUBGROUP",
         "rawType": "category",
         "type": "unknown"
        },
        {
         "name": "HAS_COPD",
         "rawType": "bool",
         "type": "boolean"
        },
        {
         "name": "HAS_DIABETES",
         "rawType": "bool",
         "type": "boolean"
        },
        {
         "name": "HAS_CONGESTIVE_HF",
         "rawType": "bool",
         "type": "boolean"
        },
        {
         "name": "hmm_y_pred_proba_rf",
         "rawType": "float64",
         "type": "float"
        },
        {
         "name": "baseline_y_pred_proba_rf",
         "rawType": "float64",
         "type": "float"
        },
        {
         "name": "hmm_y_pred_rf",
         "rawType": "int64",
         "type": "integer"
        },
        {
         "name": "baseline_y_pred_rf",
         "rawType": "int64",
         "type": "integer"
        }
       ],
       "ref": "547e8380-5068-4217-971b-18cb36324f85",
       "rows": [
        [
         "0",
         "182562",
         "0",
         "(0.999, 3.0]",
         "(0.999, 2.0]",
         "(-0.001, 1.0]",
         "(4.332, 5.579]",
         "False",
         "False",
         "False",
         "0.3595466287043319",
         "0.3680820029597776",
         "0",
         "0"
        ],
        [
         "1",
         "125726",
         "0",
         "(3.0, 4.0]",
         "(0.999, 2.0]",
         "(-0.001, 1.0]",
         "(5.579, 8.126]",
         "False",
         "False",
         "False",
         "0.3668749257984915",
         "0.3813076790904861",
         "0",
         "0"
        ],
        [
         "2",
         "195290",
         "0",
         "(0.999, 3.0]",
         "(0.999, 2.0]",
         "(-0.001, 1.0]",
         "(4.332, 5.579]",
         "True",
         "False",
         "False",
         "0.4896016514954304",
         "0.5247248070575796",
         "0",
         "1"
        ],
        [
         "3",
         "155036",
         "0",
         "(0.999, 3.0]",
         "(0.999, 2.0]",
         "(-0.001, 1.0]",
         "(4.332, 5.579]",
         "False",
         "False",
         "True",
         "0.4644184921665473",
         "0.499452692569834",
         "0",
         "0"
        ],
        [
         "4",
         "160425",
         "1",
         "(4.0, 8.0]",
         "(0.999, 2.0]",
         "(-0.001, 1.0]",
         "(4.332, 5.579]",
         "False",
         "False",
         "True",
         "0.534879610223629",
         "0.4555280513512461",
         "1",
         "0"
        ]
       ],
       "shape": {
        "columns": 13,
        "rows": 5
       }
      },
      "text/html": [
       "<div>\n",
       "<style scoped>\n",
       "    .dataframe tbody tr th:only-of-type {\n",
       "        vertical-align: middle;\n",
       "    }\n",
       "\n",
       "    .dataframe tbody tr th {\n",
       "        vertical-align: top;\n",
       "    }\n",
       "\n",
       "    .dataframe thead th {\n",
       "        text-align: right;\n",
       "    }\n",
       "</style>\n",
       "<table border=\"1\" class=\"dataframe\">\n",
       "  <thead>\n",
       "    <tr style=\"text-align: right;\">\n",
       "      <th></th>\n",
       "      <th>sample_id</th>\n",
       "      <th>y_true</th>\n",
       "      <th>NUM_COMORBIDITIES_SUBGROUP</th>\n",
       "      <th>NUM_PREV_HOSPITALIZATIONS_SUBGROUP</th>\n",
       "      <th>READM_30_DAYS_PAST_SUM_SUBGROUP</th>\n",
       "      <th>LOG_DAYS_UNTIL_NEXT_HOSP_PAST_MEDIAN_SUBGROUP</th>\n",
       "      <th>HAS_COPD</th>\n",
       "      <th>HAS_DIABETES</th>\n",
       "      <th>HAS_CONGESTIVE_HF</th>\n",
       "      <th>hmm_y_pred_proba_rf</th>\n",
       "      <th>baseline_y_pred_proba_rf</th>\n",
       "      <th>hmm_y_pred_rf</th>\n",
       "      <th>baseline_y_pred_rf</th>\n",
       "    </tr>\n",
       "  </thead>\n",
       "  <tbody>\n",
       "    <tr>\n",
       "      <th>0</th>\n",
       "      <td>182562</td>\n",
       "      <td>0</td>\n",
       "      <td>(0.999, 3.0]</td>\n",
       "      <td>(0.999, 2.0]</td>\n",
       "      <td>(-0.001, 1.0]</td>\n",
       "      <td>(4.332, 5.579]</td>\n",
       "      <td>False</td>\n",
       "      <td>False</td>\n",
       "      <td>False</td>\n",
       "      <td>0.359547</td>\n",
       "      <td>0.368082</td>\n",
       "      <td>0</td>\n",
       "      <td>0</td>\n",
       "    </tr>\n",
       "    <tr>\n",
       "      <th>1</th>\n",
       "      <td>125726</td>\n",
       "      <td>0</td>\n",
       "      <td>(3.0, 4.0]</td>\n",
       "      <td>(0.999, 2.0]</td>\n",
       "      <td>(-0.001, 1.0]</td>\n",
       "      <td>(5.579, 8.126]</td>\n",
       "      <td>False</td>\n",
       "      <td>False</td>\n",
       "      <td>False</td>\n",
       "      <td>0.366875</td>\n",
       "      <td>0.381308</td>\n",
       "      <td>0</td>\n",
       "      <td>0</td>\n",
       "    </tr>\n",
       "    <tr>\n",
       "      <th>2</th>\n",
       "      <td>195290</td>\n",
       "      <td>0</td>\n",
       "      <td>(0.999, 3.0]</td>\n",
       "      <td>(0.999, 2.0]</td>\n",
       "      <td>(-0.001, 1.0]</td>\n",
       "      <td>(4.332, 5.579]</td>\n",
       "      <td>True</td>\n",
       "      <td>False</td>\n",
       "      <td>False</td>\n",
       "      <td>0.489602</td>\n",
       "      <td>0.524725</td>\n",
       "      <td>0</td>\n",
       "      <td>1</td>\n",
       "    </tr>\n",
       "    <tr>\n",
       "      <th>3</th>\n",
       "      <td>155036</td>\n",
       "      <td>0</td>\n",
       "      <td>(0.999, 3.0]</td>\n",
       "      <td>(0.999, 2.0]</td>\n",
       "      <td>(-0.001, 1.0]</td>\n",
       "      <td>(4.332, 5.579]</td>\n",
       "      <td>False</td>\n",
       "      <td>False</td>\n",
       "      <td>True</td>\n",
       "      <td>0.464418</td>\n",
       "      <td>0.499453</td>\n",
       "      <td>0</td>\n",
       "      <td>0</td>\n",
       "    </tr>\n",
       "    <tr>\n",
       "      <th>4</th>\n",
       "      <td>160425</td>\n",
       "      <td>1</td>\n",
       "      <td>(4.0, 8.0]</td>\n",
       "      <td>(0.999, 2.0]</td>\n",
       "      <td>(-0.001, 1.0]</td>\n",
       "      <td>(4.332, 5.579]</td>\n",
       "      <td>False</td>\n",
       "      <td>False</td>\n",
       "      <td>True</td>\n",
       "      <td>0.534880</td>\n",
       "      <td>0.455528</td>\n",
       "      <td>1</td>\n",
       "      <td>0</td>\n",
       "    </tr>\n",
       "  </tbody>\n",
       "</table>\n",
       "</div>"
      ],
      "text/plain": [
       "   sample_id  y_true NUM_COMORBIDITIES_SUBGROUP  \\\n",
       "0     182562       0               (0.999, 3.0]   \n",
       "1     125726       0                 (3.0, 4.0]   \n",
       "2     195290       0               (0.999, 3.0]   \n",
       "3     155036       0               (0.999, 3.0]   \n",
       "4     160425       1                 (4.0, 8.0]   \n",
       "\n",
       "  NUM_PREV_HOSPITALIZATIONS_SUBGROUP READM_30_DAYS_PAST_SUM_SUBGROUP  \\\n",
       "0                       (0.999, 2.0]                   (-0.001, 1.0]   \n",
       "1                       (0.999, 2.0]                   (-0.001, 1.0]   \n",
       "2                       (0.999, 2.0]                   (-0.001, 1.0]   \n",
       "3                       (0.999, 2.0]                   (-0.001, 1.0]   \n",
       "4                       (0.999, 2.0]                   (-0.001, 1.0]   \n",
       "\n",
       "  LOG_DAYS_UNTIL_NEXT_HOSP_PAST_MEDIAN_SUBGROUP  HAS_COPD  HAS_DIABETES  \\\n",
       "0                                (4.332, 5.579]     False         False   \n",
       "1                                (5.579, 8.126]     False         False   \n",
       "2                                (4.332, 5.579]      True         False   \n",
       "3                                (4.332, 5.579]     False         False   \n",
       "4                                (4.332, 5.579]     False         False   \n",
       "\n",
       "   HAS_CONGESTIVE_HF  hmm_y_pred_proba_rf  baseline_y_pred_proba_rf  \\\n",
       "0              False             0.359547                  0.368082   \n",
       "1              False             0.366875                  0.381308   \n",
       "2              False             0.489602                  0.524725   \n",
       "3               True             0.464418                  0.499453   \n",
       "4               True             0.534880                  0.455528   \n",
       "\n",
       "   hmm_y_pred_rf  baseline_y_pred_rf  \n",
       "0              0                   0  \n",
       "1              0                   0  \n",
       "2              0                   1  \n",
       "3              0                   0  \n",
       "4              1                   0  "
      ]
     },
     "execution_count": 15,
     "metadata": {},
     "output_type": "execute_result"
    }
   ],
   "source": [
    "model_to_analyze = \"rf\" # Change this to the model you want to analyze 'logreg', 'lgbm', 'rf'\n",
    "\n",
    "cols = ['sample_id', 'y_true'] +  subgroup_cols + [col for col in comparison_df.columns if model_to_analyze in col]\n",
    "comparison_model_df = comparison_df[cols]\n",
    "comparison_model_df.head()"
   ]
  },
  {
   "cell_type": "code",
   "execution_count": 16,
   "metadata": {},
   "outputs": [
    {
     "data": {
      "text/plain": [
       "Index(['sample_id', 'y_true', 'NUM_COMORBIDITIES_SUBGROUP',\n",
       "       'NUM_PREV_HOSPITALIZATIONS_SUBGROUP', 'READM_30_DAYS_PAST_SUM_SUBGROUP',\n",
       "       'LOG_DAYS_UNTIL_NEXT_HOSP_PAST_MEDIAN_SUBGROUP', 'HAS_COPD',\n",
       "       'HAS_DIABETES', 'HAS_CONGESTIVE_HF', 'hmm_y_pred_proba_rf',\n",
       "       'baseline_y_pred_proba_rf', 'hmm_y_pred_rf', 'baseline_y_pred_rf'],\n",
       "      dtype='object')"
      ]
     },
     "execution_count": 16,
     "metadata": {},
     "output_type": "execute_result"
    }
   ],
   "source": [
    "comparison_model_df.columns"
   ]
  },
  {
   "cell_type": "code",
   "execution_count": 17,
   "metadata": {},
   "outputs": [],
   "source": [
    "hmm_pred_proba_col = \"hmm_y_pred_proba_\" + model_to_analyze\n",
    "baseline_pred_proba_col = \"baseline_y_pred_proba_\" + model_to_analyze\n",
    "hmm_pred_col = \"hmm_y_pred_\" + model_to_analyze\n",
    "baseline_pred_col = \"baseline_y_pred_\" + model_to_analyze"
   ]
  },
  {
   "cell_type": "markdown",
   "metadata": {},
   "source": [
    "## Results"
   ]
  },
  {
   "cell_type": "code",
   "execution_count": 18,
   "metadata": {},
   "outputs": [
    {
     "name": "stdout",
     "output_type": "stream",
     "text": [
      "AUC HMM-based features: 0.6511482689238881\n",
      "Weighted Acc. Baseline model: 0.6194754735308403\n",
      "HMM-based features classification report:\n",
      "              precision    recall  f1-score   support\n",
      "\n",
      "           0       0.81      0.69      0.75       203\n",
      "           1       0.38      0.55      0.45        71\n",
      "\n",
      "    accuracy                           0.65       274\n",
      "   macro avg       0.60      0.62      0.60       274\n",
      "weighted avg       0.70      0.65      0.67       274\n",
      "\n"
     ]
    }
   ],
   "source": [
    "print(\"AUC HMM-based features:\", roc_auc_score(comparison_model_df['y_true'], comparison_model_df[hmm_pred_proba_col]))\n",
    "print(\"Weighted Acc. Baseline model:\", balanced_accuracy_score(comparison_model_df['y_true'], comparison_model_df[hmm_pred_col]))\n",
    "print(\"HMM-based features classification report:\")\n",
    "print(classification_report(comparison_model_df['y_true'], comparison_model_df[hmm_pred_col], zero_division=0))"
   ]
  },
  {
   "cell_type": "code",
   "execution_count": 19,
   "metadata": {},
   "outputs": [
    {
     "name": "stdout",
     "output_type": "stream",
     "text": [
      "AUC Baseline model: 0.6480954693679317\n",
      "Weighted Acc. Baseline model: 0.6046971484076875\n",
      "Baseline classification report:\n",
      "              precision    recall  f1-score   support\n",
      "\n",
      "           0       0.81      0.66      0.73       203\n",
      "           1       0.36      0.55      0.44        71\n",
      "\n",
      "    accuracy                           0.63       274\n",
      "   macro avg       0.58      0.60      0.58       274\n",
      "weighted avg       0.69      0.63      0.65       274\n",
      "\n"
     ]
    }
   ],
   "source": [
    "print(\"AUC Baseline model:\", roc_auc_score(comparison_model_df['y_true'], comparison_model_df[baseline_pred_proba_col]))\n",
    "print(\"Weighted Acc. Baseline model:\", balanced_accuracy_score(comparison_model_df['y_true'], comparison_model_df[baseline_pred_col]))\n",
    "print(\"Baseline classification report:\")\n",
    "print(classification_report(comparison_model_df['y_true'], comparison_model_df[baseline_pred_col], zero_division=0))"
   ]
  },
  {
   "cell_type": "code",
   "execution_count": 20,
   "metadata": {},
   "outputs": [
    {
     "name": "stderr",
     "output_type": "stream",
     "text": [
      "100%|██████████| 5000/5000 [00:09<00:00, 553.70it/s]\n"
     ]
    },
    {
     "data": {
      "text/plain": [
       "{'metric': 'auc',\n",
       " 'obs_delta': 0.003052799555956387,\n",
       " 'delta_mean': 0.0030540900575869046,\n",
       " 'ci_low': -0.0280996322764171,\n",
       " 'ci_high': 0.035386456671060856,\n",
       " 'p_value': 0.8696,\n",
       " 'n_boot': 5000}"
      ]
     },
     "execution_count": 20,
     "metadata": {},
     "output_type": "execute_result"
    }
   ],
   "source": [
    "stratified_bootstrap_delta(\n",
    "    df=comparison_model_df,\n",
    "    y_col=\"y_true\",\n",
    "    base_col=baseline_pred_proba_col,\n",
    "    hmm_col=hmm_pred_proba_col,\n",
    "    metric=\"auc\",\n",
    "    n_boot=5000,\n",
    "    threshold=0.5,\n",
    ")"
   ]
  },
  {
   "cell_type": "code",
   "execution_count": 21,
   "metadata": {},
   "outputs": [
    {
     "name": "stderr",
     "output_type": "stream",
     "text": [
      "100%|██████████| 5000/5000 [00:05<00:00, 951.06it/s]\n"
     ]
    },
    {
     "data": {
      "text/plain": [
       "{'metric': 'acc',\n",
       " 'obs_delta': 0.014778325123152802,\n",
       " 'delta_mean': 0.014914917088739333,\n",
       " 'ci_low': -0.027822105044057466,\n",
       " 'ci_high': 0.05984180947755502,\n",
       " 'p_value': 0.5112,\n",
       " 'n_boot': 5000}"
      ]
     },
     "execution_count": 21,
     "metadata": {},
     "output_type": "execute_result"
    }
   ],
   "source": [
    "stratified_bootstrap_delta(\n",
    "    df=comparison_model_df,\n",
    "    y_col=\"y_true\",\n",
    "    base_col=baseline_pred_proba_col,\n",
    "    hmm_col=hmm_pred_proba_col,\n",
    "    metric=\"acc\",\n",
    "    n_boot=5000,\n",
    "    threshold=0.5,\n",
    ")"
   ]
  },
  {
   "cell_type": "markdown",
   "metadata": {},
   "source": [
    "### NUM_COMORBIDITIES_SUBGROUP"
   ]
  },
  {
   "cell_type": "code",
   "execution_count": 22,
   "metadata": {},
   "outputs": [
    {
     "name": "stderr",
     "output_type": "stream",
     "text": [
      "/workspaces/master-thesis-recurrent-health-events-prediction/recurrent_health_events_prediction/model_analysis/utils.py:155: FutureWarning: The default of observed=False is deprecated and will be changed to True in a future version of pandas. Pass observed=False to retain current behavior or observed=True to adopt the future default and silence this warning.\n",
      "  df.groupby(group_by, dropna=False, group_keys=False)\n"
     ]
    },
    {
     "data": {
      "application/vnd.microsoft.datawrangler.viewer.v0+json": {
       "columns": [
        {
         "name": "index",
         "rawType": "int64",
         "type": "integer"
        },
        {
         "name": "NUM_COMORBIDITIES_SUBGROUP",
         "rawType": "category",
         "type": "unknown"
        },
        {
         "name": "n",
         "rawType": "float64",
         "type": "float"
        },
        {
         "name": "f1_baseline",
         "rawType": "float64",
         "type": "float"
        },
        {
         "name": "f1_hmm",
         "rawType": "float64",
         "type": "float"
        },
        {
         "name": "delta",
         "rawType": "float64",
         "type": "float"
        }
       ],
       "ref": "06c5c21d-9b99-4b57-9546-67b6cdeebfad",
       "rows": [
        [
         "0",
         "(0.999, 3.0]",
         "138.0",
         "0.6770460622328658",
         "0.7124719330475607",
         "0.03542587081469495"
        ],
        [
         "1",
         "(3.0, 4.0]",
         "53.0",
         "0.6041824872948186",
         "0.5694682675814751",
         "-0.03471421971334354"
        ],
        [
         "2",
         "(4.0, 8.0]",
         "83.0",
         "0.6324120009449563",
         "0.6550345301802745",
         "0.022622529235318156"
        ]
       ],
       "shape": {
        "columns": 5,
        "rows": 3
       }
      },
      "text/html": [
       "<div>\n",
       "<style scoped>\n",
       "    .dataframe tbody tr th:only-of-type {\n",
       "        vertical-align: middle;\n",
       "    }\n",
       "\n",
       "    .dataframe tbody tr th {\n",
       "        vertical-align: top;\n",
       "    }\n",
       "\n",
       "    .dataframe thead th {\n",
       "        text-align: right;\n",
       "    }\n",
       "</style>\n",
       "<table border=\"1\" class=\"dataframe\">\n",
       "  <thead>\n",
       "    <tr style=\"text-align: right;\">\n",
       "      <th></th>\n",
       "      <th>NUM_COMORBIDITIES_SUBGROUP</th>\n",
       "      <th>n</th>\n",
       "      <th>f1_baseline</th>\n",
       "      <th>f1_hmm</th>\n",
       "      <th>delta</th>\n",
       "    </tr>\n",
       "  </thead>\n",
       "  <tbody>\n",
       "    <tr>\n",
       "      <th>0</th>\n",
       "      <td>(0.999, 3.0]</td>\n",
       "      <td>138.0</td>\n",
       "      <td>0.677046</td>\n",
       "      <td>0.712472</td>\n",
       "      <td>0.035426</td>\n",
       "    </tr>\n",
       "    <tr>\n",
       "      <th>1</th>\n",
       "      <td>(3.0, 4.0]</td>\n",
       "      <td>53.0</td>\n",
       "      <td>0.604182</td>\n",
       "      <td>0.569468</td>\n",
       "      <td>-0.034714</td>\n",
       "    </tr>\n",
       "    <tr>\n",
       "      <th>2</th>\n",
       "      <td>(4.0, 8.0]</td>\n",
       "      <td>83.0</td>\n",
       "      <td>0.632412</td>\n",
       "      <td>0.655035</td>\n",
       "      <td>0.022623</td>\n",
       "    </tr>\n",
       "  </tbody>\n",
       "</table>\n",
       "</div>"
      ],
      "text/plain": [
       "  NUM_COMORBIDITIES_SUBGROUP      n  f1_baseline    f1_hmm     delta\n",
       "0               (0.999, 3.0]  138.0     0.677046  0.712472  0.035426\n",
       "1                 (3.0, 4.0]   53.0     0.604182  0.569468 -0.034714\n",
       "2                 (4.0, 8.0]   83.0     0.632412  0.655035  0.022623"
      ]
     },
     "execution_count": 22,
     "metadata": {},
     "output_type": "execute_result"
    }
   ],
   "source": [
    "group_col = \"NUM_COMORBIDITIES_SUBGROUP\"\n",
    "subset_metric_report(comparison_model_df, group_by=group_col, metric=\"f1\",\n",
    "                     y_col=\"y_true\",\n",
    "                     base_col=baseline_pred_col, hmm_col=hmm_pred_col)"
   ]
  },
  {
   "cell_type": "markdown",
   "metadata": {},
   "source": [
    "### NUM_PREV_HOSPITALIZATIONS_SUBGROUP"
   ]
  },
  {
   "cell_type": "code",
   "execution_count": 27,
   "metadata": {},
   "outputs": [
    {
     "name": "stderr",
     "output_type": "stream",
     "text": [
      "/workspaces/master-thesis-recurrent-health-events-prediction/recurrent_health_events_prediction/model_analysis/utils.py:155: FutureWarning: The default of observed=False is deprecated and will be changed to True in a future version of pandas. Pass observed=False to retain current behavior or observed=True to adopt the future default and silence this warning.\n",
      "  df.groupby(group_by, dropna=False, group_keys=False)\n"
     ]
    },
    {
     "data": {
      "application/vnd.microsoft.datawrangler.viewer.v0+json": {
       "columns": [
        {
         "name": "index",
         "rawType": "int64",
         "type": "integer"
        },
        {
         "name": "NUM_PREV_HOSPITALIZATIONS_SUBGROUP",
         "rawType": "category",
         "type": "unknown"
        },
        {
         "name": "n",
         "rawType": "float64",
         "type": "float"
        },
        {
         "name": "f1_baseline",
         "rawType": "float64",
         "type": "float"
        },
        {
         "name": "f1_hmm",
         "rawType": "float64",
         "type": "float"
        },
        {
         "name": "delta",
         "rawType": "float64",
         "type": "float"
        }
       ],
       "ref": "bbc06dc3-758d-4d44-82f2-52d4348649ed",
       "rows": [
        [
         "0",
         "(0.999, 2.0]",
         "203.0",
         "0.6829373132616441",
         "0.6914783594208678",
         "0.008541046159223686"
        ],
        [
         "1",
         "(2.0, 10.0]",
         "71.0",
         "0.5604776484996938",
         "0.6109537660747091",
         "0.050476117575015245"
        ]
       ],
       "shape": {
        "columns": 5,
        "rows": 2
       }
      },
      "text/html": [
       "<div>\n",
       "<style scoped>\n",
       "    .dataframe tbody tr th:only-of-type {\n",
       "        vertical-align: middle;\n",
       "    }\n",
       "\n",
       "    .dataframe tbody tr th {\n",
       "        vertical-align: top;\n",
       "    }\n",
       "\n",
       "    .dataframe thead th {\n",
       "        text-align: right;\n",
       "    }\n",
       "</style>\n",
       "<table border=\"1\" class=\"dataframe\">\n",
       "  <thead>\n",
       "    <tr style=\"text-align: right;\">\n",
       "      <th></th>\n",
       "      <th>NUM_PREV_HOSPITALIZATIONS_SUBGROUP</th>\n",
       "      <th>n</th>\n",
       "      <th>f1_baseline</th>\n",
       "      <th>f1_hmm</th>\n",
       "      <th>delta</th>\n",
       "    </tr>\n",
       "  </thead>\n",
       "  <tbody>\n",
       "    <tr>\n",
       "      <th>0</th>\n",
       "      <td>(0.999, 2.0]</td>\n",
       "      <td>203.0</td>\n",
       "      <td>0.682937</td>\n",
       "      <td>0.691478</td>\n",
       "      <td>0.008541</td>\n",
       "    </tr>\n",
       "    <tr>\n",
       "      <th>1</th>\n",
       "      <td>(2.0, 10.0]</td>\n",
       "      <td>71.0</td>\n",
       "      <td>0.560478</td>\n",
       "      <td>0.610954</td>\n",
       "      <td>0.050476</td>\n",
       "    </tr>\n",
       "  </tbody>\n",
       "</table>\n",
       "</div>"
      ],
      "text/plain": [
       "  NUM_PREV_HOSPITALIZATIONS_SUBGROUP      n  f1_baseline    f1_hmm     delta\n",
       "0                       (0.999, 2.0]  203.0     0.682937  0.691478  0.008541\n",
       "1                        (2.0, 10.0]   71.0     0.560478  0.610954  0.050476"
      ]
     },
     "execution_count": 27,
     "metadata": {},
     "output_type": "execute_result"
    }
   ],
   "source": [
    "group_col = \"NUM_PREV_HOSPITALIZATIONS_SUBGROUP\"\n",
    "subset_metric_report(comparison_model_df, group_by=group_col, metric=\"f1\",\n",
    "                        y_col=\"y_true\",\n",
    "                        base_col=baseline_pred_col, hmm_col=hmm_pred_col)"
   ]
  },
  {
   "cell_type": "code",
   "execution_count": 28,
   "metadata": {},
   "outputs": [
    {
     "name": "stdout",
     "output_type": "stream",
     "text": [
      "Group categories: IntervalIndex([(0.999, 2.0], (2.0, 10.0]], dtype='interval[float64, right]')\n"
     ]
    }
   ],
   "source": [
    "group_categories = comparison_model_df[group_col].cat.categories\n",
    "print(\"Group categories:\", group_categories)"
   ]
  },
  {
   "cell_type": "code",
   "execution_count": 29,
   "metadata": {},
   "outputs": [
    {
     "name": "stdout",
     "output_type": "stream",
     "text": [
      "Selected group for analysis: (2.0, 10.0]\n"
     ]
    }
   ],
   "source": [
    "group_selected = group_categories[-1]  # Change this to the group you want to analyze\n",
    "print(\"Selected group for analysis:\", group_selected)"
   ]
  },
  {
   "cell_type": "code",
   "execution_count": 30,
   "metadata": {},
   "outputs": [
    {
     "data": {
      "application/vnd.microsoft.datawrangler.viewer.v0+json": {
       "columns": [
        {
         "name": "index",
         "rawType": "int64",
         "type": "integer"
        },
        {
         "name": "sample_id",
         "rawType": "int64",
         "type": "integer"
        },
        {
         "name": "y_true",
         "rawType": "int64",
         "type": "integer"
        },
        {
         "name": "NUM_COMORBIDITIES_SUBGROUP",
         "rawType": "category",
         "type": "unknown"
        },
        {
         "name": "NUM_PREV_HOSPITALIZATIONS_SUBGROUP",
         "rawType": "category",
         "type": "unknown"
        },
        {
         "name": "READM_30_DAYS_PAST_SUM_SUBGROUP",
         "rawType": "category",
         "type": "unknown"
        },
        {
         "name": "LOG_DAYS_UNTIL_NEXT_HOSP_PAST_MEDIAN_SUBGROUP",
         "rawType": "category",
         "type": "unknown"
        },
        {
         "name": "HAS_COPD",
         "rawType": "bool",
         "type": "boolean"
        },
        {
         "name": "HAS_DIABETES",
         "rawType": "bool",
         "type": "boolean"
        },
        {
         "name": "HAS_CONGESTIVE_HF",
         "rawType": "bool",
         "type": "boolean"
        },
        {
         "name": "hmm_y_pred_proba_rf",
         "rawType": "float64",
         "type": "float"
        },
        {
         "name": "baseline_y_pred_proba_rf",
         "rawType": "float64",
         "type": "float"
        },
        {
         "name": "hmm_y_pred_rf",
         "rawType": "int64",
         "type": "integer"
        },
        {
         "name": "baseline_y_pred_rf",
         "rawType": "int64",
         "type": "integer"
        }
       ],
       "ref": "a7a0f047-babc-4a55-aa0f-943b6016e583",
       "rows": [
        [
         "9",
         "110184",
         "0",
         "(3.0, 4.0]",
         "(2.0, 10.0]",
         "(-0.001, 1.0]",
         "(4.332, 5.579]",
         "True",
         "False",
         "True",
         "0.5786481370080176",
         "0.5786165103335735",
         "1",
         "1"
        ],
        [
         "10",
         "171650",
         "0",
         "(0.999, 3.0]",
         "(2.0, 10.0]",
         "(-0.001, 1.0]",
         "(4.332, 5.579]",
         "False",
         "False",
         "False",
         "0.4938874330666474",
         "0.4874671228408989",
         "0",
         "0"
        ],
        [
         "11",
         "148880",
         "0",
         "(4.0, 8.0]",
         "(2.0, 10.0]",
         "(-0.001, 1.0]",
         "(5.579, 8.126]",
         "True",
         "True",
         "True",
         "0.4241624951398921",
         "0.3877437335113249",
         "0",
         "0"
        ],
        [
         "16",
         "184536",
         "0",
         "(4.0, 8.0]",
         "(2.0, 10.0]",
         "(-0.001, 1.0]",
         "(5.579, 8.126]",
         "False",
         "False",
         "True",
         "0.4720111348742384",
         "0.4946762803140867",
         "0",
         "0"
        ],
        [
         "23",
         "175797",
         "0",
         "(3.0, 4.0]",
         "(2.0, 10.0]",
         "(-0.001, 1.0]",
         "(1.465, 4.332]",
         "True",
         "False",
         "False",
         "0.4627190027294308",
         "0.4139087446845412",
         "0",
         "0"
        ]
       ],
       "shape": {
        "columns": 13,
        "rows": 5
       }
      },
      "text/html": [
       "<div>\n",
       "<style scoped>\n",
       "    .dataframe tbody tr th:only-of-type {\n",
       "        vertical-align: middle;\n",
       "    }\n",
       "\n",
       "    .dataframe tbody tr th {\n",
       "        vertical-align: top;\n",
       "    }\n",
       "\n",
       "    .dataframe thead th {\n",
       "        text-align: right;\n",
       "    }\n",
       "</style>\n",
       "<table border=\"1\" class=\"dataframe\">\n",
       "  <thead>\n",
       "    <tr style=\"text-align: right;\">\n",
       "      <th></th>\n",
       "      <th>sample_id</th>\n",
       "      <th>y_true</th>\n",
       "      <th>NUM_COMORBIDITIES_SUBGROUP</th>\n",
       "      <th>NUM_PREV_HOSPITALIZATIONS_SUBGROUP</th>\n",
       "      <th>READM_30_DAYS_PAST_SUM_SUBGROUP</th>\n",
       "      <th>LOG_DAYS_UNTIL_NEXT_HOSP_PAST_MEDIAN_SUBGROUP</th>\n",
       "      <th>HAS_COPD</th>\n",
       "      <th>HAS_DIABETES</th>\n",
       "      <th>HAS_CONGESTIVE_HF</th>\n",
       "      <th>hmm_y_pred_proba_rf</th>\n",
       "      <th>baseline_y_pred_proba_rf</th>\n",
       "      <th>hmm_y_pred_rf</th>\n",
       "      <th>baseline_y_pred_rf</th>\n",
       "    </tr>\n",
       "  </thead>\n",
       "  <tbody>\n",
       "    <tr>\n",
       "      <th>9</th>\n",
       "      <td>110184</td>\n",
       "      <td>0</td>\n",
       "      <td>(3.0, 4.0]</td>\n",
       "      <td>(2.0, 10.0]</td>\n",
       "      <td>(-0.001, 1.0]</td>\n",
       "      <td>(4.332, 5.579]</td>\n",
       "      <td>True</td>\n",
       "      <td>False</td>\n",
       "      <td>True</td>\n",
       "      <td>0.578648</td>\n",
       "      <td>0.578617</td>\n",
       "      <td>1</td>\n",
       "      <td>1</td>\n",
       "    </tr>\n",
       "    <tr>\n",
       "      <th>10</th>\n",
       "      <td>171650</td>\n",
       "      <td>0</td>\n",
       "      <td>(0.999, 3.0]</td>\n",
       "      <td>(2.0, 10.0]</td>\n",
       "      <td>(-0.001, 1.0]</td>\n",
       "      <td>(4.332, 5.579]</td>\n",
       "      <td>False</td>\n",
       "      <td>False</td>\n",
       "      <td>False</td>\n",
       "      <td>0.493887</td>\n",
       "      <td>0.487467</td>\n",
       "      <td>0</td>\n",
       "      <td>0</td>\n",
       "    </tr>\n",
       "    <tr>\n",
       "      <th>11</th>\n",
       "      <td>148880</td>\n",
       "      <td>0</td>\n",
       "      <td>(4.0, 8.0]</td>\n",
       "      <td>(2.0, 10.0]</td>\n",
       "      <td>(-0.001, 1.0]</td>\n",
       "      <td>(5.579, 8.126]</td>\n",
       "      <td>True</td>\n",
       "      <td>True</td>\n",
       "      <td>True</td>\n",
       "      <td>0.424162</td>\n",
       "      <td>0.387744</td>\n",
       "      <td>0</td>\n",
       "      <td>0</td>\n",
       "    </tr>\n",
       "    <tr>\n",
       "      <th>16</th>\n",
       "      <td>184536</td>\n",
       "      <td>0</td>\n",
       "      <td>(4.0, 8.0]</td>\n",
       "      <td>(2.0, 10.0]</td>\n",
       "      <td>(-0.001, 1.0]</td>\n",
       "      <td>(5.579, 8.126]</td>\n",
       "      <td>False</td>\n",
       "      <td>False</td>\n",
       "      <td>True</td>\n",
       "      <td>0.472011</td>\n",
       "      <td>0.494676</td>\n",
       "      <td>0</td>\n",
       "      <td>0</td>\n",
       "    </tr>\n",
       "    <tr>\n",
       "      <th>23</th>\n",
       "      <td>175797</td>\n",
       "      <td>0</td>\n",
       "      <td>(3.0, 4.0]</td>\n",
       "      <td>(2.0, 10.0]</td>\n",
       "      <td>(-0.001, 1.0]</td>\n",
       "      <td>(1.465, 4.332]</td>\n",
       "      <td>True</td>\n",
       "      <td>False</td>\n",
       "      <td>False</td>\n",
       "      <td>0.462719</td>\n",
       "      <td>0.413909</td>\n",
       "      <td>0</td>\n",
       "      <td>0</td>\n",
       "    </tr>\n",
       "  </tbody>\n",
       "</table>\n",
       "</div>"
      ],
      "text/plain": [
       "    sample_id  y_true NUM_COMORBIDITIES_SUBGROUP  \\\n",
       "9      110184       0                 (3.0, 4.0]   \n",
       "10     171650       0               (0.999, 3.0]   \n",
       "11     148880       0                 (4.0, 8.0]   \n",
       "16     184536       0                 (4.0, 8.0]   \n",
       "23     175797       0                 (3.0, 4.0]   \n",
       "\n",
       "   NUM_PREV_HOSPITALIZATIONS_SUBGROUP READM_30_DAYS_PAST_SUM_SUBGROUP  \\\n",
       "9                         (2.0, 10.0]                   (-0.001, 1.0]   \n",
       "10                        (2.0, 10.0]                   (-0.001, 1.0]   \n",
       "11                        (2.0, 10.0]                   (-0.001, 1.0]   \n",
       "16                        (2.0, 10.0]                   (-0.001, 1.0]   \n",
       "23                        (2.0, 10.0]                   (-0.001, 1.0]   \n",
       "\n",
       "   LOG_DAYS_UNTIL_NEXT_HOSP_PAST_MEDIAN_SUBGROUP  HAS_COPD  HAS_DIABETES  \\\n",
       "9                                 (4.332, 5.579]      True         False   \n",
       "10                                (4.332, 5.579]     False         False   \n",
       "11                                (5.579, 8.126]      True          True   \n",
       "16                                (5.579, 8.126]     False         False   \n",
       "23                                (1.465, 4.332]      True         False   \n",
       "\n",
       "    HAS_CONGESTIVE_HF  hmm_y_pred_proba_rf  baseline_y_pred_proba_rf  \\\n",
       "9                True             0.578648                  0.578617   \n",
       "10              False             0.493887                  0.487467   \n",
       "11               True             0.424162                  0.387744   \n",
       "16               True             0.472011                  0.494676   \n",
       "23              False             0.462719                  0.413909   \n",
       "\n",
       "    hmm_y_pred_rf  baseline_y_pred_rf  \n",
       "9               1                   1  \n",
       "10              0                   0  \n",
       "11              0                   0  \n",
       "16              0                   0  \n",
       "23              0                   0  "
      ]
     },
     "execution_count": 30,
     "metadata": {},
     "output_type": "execute_result"
    }
   ],
   "source": [
    "subset_group_df = comparison_model_df[comparison_model_df[group_col] == group_selected]\n",
    "subset_group_df.head()"
   ]
  },
  {
   "cell_type": "code",
   "execution_count": 31,
   "metadata": {},
   "outputs": [
    {
     "name": "stderr",
     "output_type": "stream",
     "text": [
      "  0%|          | 0/5000 [00:00<?, ?it/s]"
     ]
    },
    {
     "name": "stderr",
     "output_type": "stream",
     "text": [
      "100%|██████████| 5000/5000 [00:12<00:00, 414.01it/s]\n"
     ]
    },
    {
     "data": {
      "text/plain": [
       "{'metric': 'f1',\n",
       " 'obs_delta': 0.050476117575015245,\n",
       " 'delta_mean': 0.05037779152727397,\n",
       " 'ci_low': -0.004312480489025315,\n",
       " 'ci_high': 0.11482528087726279,\n",
       " 'p_value': 0.1156,\n",
       " 'n_boot': 5000}"
      ]
     },
     "execution_count": 31,
     "metadata": {},
     "output_type": "execute_result"
    }
   ],
   "source": [
    "stratified_bootstrap_delta(\n",
    "    df=subset_group_df,\n",
    "    y_col=\"y_true\",\n",
    "    base_col=baseline_pred_proba_col,\n",
    "    hmm_col=hmm_pred_proba_col,\n",
    "    metric=\"f1\",\n",
    "    n_boot=5000,\n",
    "    threshold=0.5,\n",
    ")"
   ]
  },
  {
   "cell_type": "markdown",
   "metadata": {},
   "source": [
    "### LOG_DAYS_UNTIL_NEXT_HOSP_PAST_MEDIAN_SUBGROUP"
   ]
  },
  {
   "cell_type": "code",
   "execution_count": 24,
   "metadata": {},
   "outputs": [
    {
     "name": "stderr",
     "output_type": "stream",
     "text": [
      "/workspaces/master-thesis-recurrent-health-events-prediction/recurrent_health_events_prediction/model_analysis/utils.py:155: FutureWarning: The default of observed=False is deprecated and will be changed to True in a future version of pandas. Pass observed=False to retain current behavior or observed=True to adopt the future default and silence this warning.\n",
      "  df.groupby(group_by, dropna=False, group_keys=False)\n"
     ]
    },
    {
     "data": {
      "application/vnd.microsoft.datawrangler.viewer.v0+json": {
       "columns": [
        {
         "name": "index",
         "rawType": "int64",
         "type": "integer"
        },
        {
         "name": "LOG_DAYS_UNTIL_NEXT_HOSP_PAST_MEDIAN_SUBGROUP",
         "rawType": "category",
         "type": "unknown"
        },
        {
         "name": "n",
         "rawType": "float64",
         "type": "float"
        },
        {
         "name": "f1_baseline",
         "rawType": "float64",
         "type": "float"
        },
        {
         "name": "f1_hmm",
         "rawType": "float64",
         "type": "float"
        },
        {
         "name": "delta",
         "rawType": "float64",
         "type": "float"
        }
       ],
       "ref": "3bdf4ef3-3717-4c52-b0a2-1fb3726397a1",
       "rows": [
        [
         "0",
         "(1.465, 4.332]",
         "92.0",
         "0.4957446808510638",
         "0.5162497107448641",
         "0.02050502989380032"
        ],
        [
         "1",
         "(4.332, 5.579]",
         "91.0",
         "0.6599953238251111",
         "0.7100137713948456",
         "0.0500184475697345"
        ],
        [
         "2",
         "(5.579, 8.126]",
         "91.0",
         "0.7395090289827131",
         "0.7395090289827131",
         "0.0"
        ]
       ],
       "shape": {
        "columns": 5,
        "rows": 3
       }
      },
      "text/html": [
       "<div>\n",
       "<style scoped>\n",
       "    .dataframe tbody tr th:only-of-type {\n",
       "        vertical-align: middle;\n",
       "    }\n",
       "\n",
       "    .dataframe tbody tr th {\n",
       "        vertical-align: top;\n",
       "    }\n",
       "\n",
       "    .dataframe thead th {\n",
       "        text-align: right;\n",
       "    }\n",
       "</style>\n",
       "<table border=\"1\" class=\"dataframe\">\n",
       "  <thead>\n",
       "    <tr style=\"text-align: right;\">\n",
       "      <th></th>\n",
       "      <th>LOG_DAYS_UNTIL_NEXT_HOSP_PAST_MEDIAN_SUBGROUP</th>\n",
       "      <th>n</th>\n",
       "      <th>f1_baseline</th>\n",
       "      <th>f1_hmm</th>\n",
       "      <th>delta</th>\n",
       "    </tr>\n",
       "  </thead>\n",
       "  <tbody>\n",
       "    <tr>\n",
       "      <th>0</th>\n",
       "      <td>(1.465, 4.332]</td>\n",
       "      <td>92.0</td>\n",
       "      <td>0.495745</td>\n",
       "      <td>0.516250</td>\n",
       "      <td>0.020505</td>\n",
       "    </tr>\n",
       "    <tr>\n",
       "      <th>1</th>\n",
       "      <td>(4.332, 5.579]</td>\n",
       "      <td>91.0</td>\n",
       "      <td>0.659995</td>\n",
       "      <td>0.710014</td>\n",
       "      <td>0.050018</td>\n",
       "    </tr>\n",
       "    <tr>\n",
       "      <th>2</th>\n",
       "      <td>(5.579, 8.126]</td>\n",
       "      <td>91.0</td>\n",
       "      <td>0.739509</td>\n",
       "      <td>0.739509</td>\n",
       "      <td>0.000000</td>\n",
       "    </tr>\n",
       "  </tbody>\n",
       "</table>\n",
       "</div>"
      ],
      "text/plain": [
       "  LOG_DAYS_UNTIL_NEXT_HOSP_PAST_MEDIAN_SUBGROUP     n  f1_baseline    f1_hmm  \\\n",
       "0                                (1.465, 4.332]  92.0     0.495745  0.516250   \n",
       "1                                (4.332, 5.579]  91.0     0.659995  0.710014   \n",
       "2                                (5.579, 8.126]  91.0     0.739509  0.739509   \n",
       "\n",
       "      delta  \n",
       "0  0.020505  \n",
       "1  0.050018  \n",
       "2  0.000000  "
      ]
     },
     "execution_count": 24,
     "metadata": {},
     "output_type": "execute_result"
    }
   ],
   "source": [
    "group_col = \"LOG_DAYS_UNTIL_NEXT_HOSP_PAST_MEDIAN_SUBGROUP\"\n",
    "subset_metric_report(comparison_model_df, group_by=group_col, metric=\"f1\",\n",
    "                     y_col=\"y_true\",\n",
    "                     base_col=baseline_pred_col, hmm_col=hmm_pred_col)"
   ]
  },
  {
   "cell_type": "markdown",
   "metadata": {},
   "source": [
    "### READM_30_DAYS_PAST_SUM_SUBGROUP"
   ]
  },
  {
   "cell_type": "code",
   "execution_count": 32,
   "metadata": {},
   "outputs": [
    {
     "name": "stderr",
     "output_type": "stream",
     "text": [
      "/workspaces/master-thesis-recurrent-health-events-prediction/recurrent_health_events_prediction/model_analysis/utils.py:155: FutureWarning: The default of observed=False is deprecated and will be changed to True in a future version of pandas. Pass observed=False to retain current behavior or observed=True to adopt the future default and silence this warning.\n",
      "  df.groupby(group_by, dropna=False, group_keys=False)\n"
     ]
    },
    {
     "data": {
      "application/vnd.microsoft.datawrangler.viewer.v0+json": {
       "columns": [
        {
         "name": "index",
         "rawType": "int64",
         "type": "integer"
        },
        {
         "name": "READM_30_DAYS_PAST_SUM_SUBGROUP",
         "rawType": "category",
         "type": "unknown"
        },
        {
         "name": "n",
         "rawType": "float64",
         "type": "float"
        },
        {
         "name": "f1_baseline",
         "rawType": "float64",
         "type": "float"
        },
        {
         "name": "f1_hmm",
         "rawType": "float64",
         "type": "float"
        },
        {
         "name": "delta",
         "rawType": "float64",
         "type": "float"
        }
       ],
       "ref": "ada17258-6ef6-402e-842f-bcc6191ab831",
       "rows": [
        [
         "0",
         "(-0.001, 1.0]",
         "254.0",
         "0.6630348486894491",
         "0.6795241315057224",
         "0.016489282816273376"
        ],
        [
         "1",
         "(1.0, 5.0]",
         "20.0",
         "0.32934472934472936",
         "0.4175824175824176",
         "0.08823768823768824"
        ]
       ],
       "shape": {
        "columns": 5,
        "rows": 2
       }
      },
      "text/html": [
       "<div>\n",
       "<style scoped>\n",
       "    .dataframe tbody tr th:only-of-type {\n",
       "        vertical-align: middle;\n",
       "    }\n",
       "\n",
       "    .dataframe tbody tr th {\n",
       "        vertical-align: top;\n",
       "    }\n",
       "\n",
       "    .dataframe thead th {\n",
       "        text-align: right;\n",
       "    }\n",
       "</style>\n",
       "<table border=\"1\" class=\"dataframe\">\n",
       "  <thead>\n",
       "    <tr style=\"text-align: right;\">\n",
       "      <th></th>\n",
       "      <th>READM_30_DAYS_PAST_SUM_SUBGROUP</th>\n",
       "      <th>n</th>\n",
       "      <th>f1_baseline</th>\n",
       "      <th>f1_hmm</th>\n",
       "      <th>delta</th>\n",
       "    </tr>\n",
       "  </thead>\n",
       "  <tbody>\n",
       "    <tr>\n",
       "      <th>0</th>\n",
       "      <td>(-0.001, 1.0]</td>\n",
       "      <td>254.0</td>\n",
       "      <td>0.663035</td>\n",
       "      <td>0.679524</td>\n",
       "      <td>0.016489</td>\n",
       "    </tr>\n",
       "    <tr>\n",
       "      <th>1</th>\n",
       "      <td>(1.0, 5.0]</td>\n",
       "      <td>20.0</td>\n",
       "      <td>0.329345</td>\n",
       "      <td>0.417582</td>\n",
       "      <td>0.088238</td>\n",
       "    </tr>\n",
       "  </tbody>\n",
       "</table>\n",
       "</div>"
      ],
      "text/plain": [
       "  READM_30_DAYS_PAST_SUM_SUBGROUP      n  f1_baseline    f1_hmm     delta\n",
       "0                   (-0.001, 1.0]  254.0     0.663035  0.679524  0.016489\n",
       "1                      (1.0, 5.0]   20.0     0.329345  0.417582  0.088238"
      ]
     },
     "execution_count": 32,
     "metadata": {},
     "output_type": "execute_result"
    }
   ],
   "source": [
    "group_col = \"READM_30_DAYS_PAST_SUM_SUBGROUP\"\n",
    "subset_metric_report(comparison_model_df, group_by=group_col, metric=\"f1\",\n",
    "                     y_col=\"y_true\",\n",
    "                     base_col=baseline_pred_col, hmm_col=hmm_pred_col)"
   ]
  },
  {
   "cell_type": "code",
   "execution_count": 33,
   "metadata": {},
   "outputs": [
    {
     "name": "stdout",
     "output_type": "stream",
     "text": [
      "Group categories: IntervalIndex([(-0.001, 1.0], (1.0, 5.0]], dtype='interval[float64, right]')\n"
     ]
    }
   ],
   "source": [
    "group_categories = comparison_model_df[group_col].cat.categories\n",
    "print(\"Group categories:\", group_categories)"
   ]
  },
  {
   "cell_type": "code",
   "execution_count": 34,
   "metadata": {},
   "outputs": [
    {
     "name": "stdout",
     "output_type": "stream",
     "text": [
      "Selected group for analysis: (1.0, 5.0]\n"
     ]
    }
   ],
   "source": [
    "group_selected = group_categories[-1]  # Change this to the group you want to analyze\n",
    "print(\"Selected group for analysis:\", group_selected)"
   ]
  },
  {
   "cell_type": "code",
   "execution_count": 35,
   "metadata": {},
   "outputs": [
    {
     "data": {
      "application/vnd.microsoft.datawrangler.viewer.v0+json": {
       "columns": [
        {
         "name": "index",
         "rawType": "int64",
         "type": "integer"
        },
        {
         "name": "sample_id",
         "rawType": "int64",
         "type": "integer"
        },
        {
         "name": "y_true",
         "rawType": "int64",
         "type": "integer"
        },
        {
         "name": "NUM_COMORBIDITIES_SUBGROUP",
         "rawType": "category",
         "type": "unknown"
        },
        {
         "name": "NUM_PREV_HOSPITALIZATIONS_SUBGROUP",
         "rawType": "category",
         "type": "unknown"
        },
        {
         "name": "READM_30_DAYS_PAST_SUM_SUBGROUP",
         "rawType": "category",
         "type": "unknown"
        },
        {
         "name": "LOG_DAYS_UNTIL_NEXT_HOSP_PAST_MEDIAN_SUBGROUP",
         "rawType": "category",
         "type": "unknown"
        },
        {
         "name": "HAS_COPD",
         "rawType": "bool",
         "type": "boolean"
        },
        {
         "name": "HAS_DIABETES",
         "rawType": "bool",
         "type": "boolean"
        },
        {
         "name": "HAS_CONGESTIVE_HF",
         "rawType": "bool",
         "type": "boolean"
        },
        {
         "name": "hmm_y_pred_proba_rf",
         "rawType": "float64",
         "type": "float"
        },
        {
         "name": "baseline_y_pred_proba_rf",
         "rawType": "float64",
         "type": "float"
        },
        {
         "name": "hmm_y_pred_rf",
         "rawType": "int64",
         "type": "integer"
        },
        {
         "name": "baseline_y_pred_rf",
         "rawType": "int64",
         "type": "integer"
        }
       ],
       "ref": "637e08eb-2edb-405c-8887-9e2d85153f28",
       "rows": [
        [
         "25",
         "190483",
         "0",
         "(0.999, 3.0]",
         "(2.0, 10.0]",
         "(1.0, 5.0]",
         "(1.465, 4.332]",
         "False",
         "False",
         "True",
         "0.6287970238892688",
         "0.632307452572174",
         "1",
         "1"
        ],
        [
         "27",
         "119090",
         "0",
         "(0.999, 3.0]",
         "(2.0, 10.0]",
         "(1.0, 5.0]",
         "(4.332, 5.579]",
         "False",
         "False",
         "True",
         "0.5464045234514294",
         "0.5073465500980159",
         "1",
         "1"
        ],
        [
         "30",
         "154157",
         "0",
         "(3.0, 4.0]",
         "(2.0, 10.0]",
         "(1.0, 5.0]",
         "(1.465, 4.332]",
         "False",
         "True",
         "True",
         "0.6077892992214542",
         "0.6243462856156884",
         "1",
         "1"
        ],
        [
         "36",
         "142808",
         "0",
         "(0.999, 3.0]",
         "(2.0, 10.0]",
         "(1.0, 5.0]",
         "(4.332, 5.579]",
         "False",
         "True",
         "True",
         "0.4796763047582286",
         "0.4396053436751567",
         "0",
         "0"
        ],
        [
         "41",
         "148246",
         "0",
         "(0.999, 3.0]",
         "(2.0, 10.0]",
         "(1.0, 5.0]",
         "(1.465, 4.332]",
         "True",
         "True",
         "False",
         "0.5132300805210174",
         "0.5321781031258752",
         "1",
         "1"
        ]
       ],
       "shape": {
        "columns": 13,
        "rows": 5
       }
      },
      "text/html": [
       "<div>\n",
       "<style scoped>\n",
       "    .dataframe tbody tr th:only-of-type {\n",
       "        vertical-align: middle;\n",
       "    }\n",
       "\n",
       "    .dataframe tbody tr th {\n",
       "        vertical-align: top;\n",
       "    }\n",
       "\n",
       "    .dataframe thead th {\n",
       "        text-align: right;\n",
       "    }\n",
       "</style>\n",
       "<table border=\"1\" class=\"dataframe\">\n",
       "  <thead>\n",
       "    <tr style=\"text-align: right;\">\n",
       "      <th></th>\n",
       "      <th>sample_id</th>\n",
       "      <th>y_true</th>\n",
       "      <th>NUM_COMORBIDITIES_SUBGROUP</th>\n",
       "      <th>NUM_PREV_HOSPITALIZATIONS_SUBGROUP</th>\n",
       "      <th>READM_30_DAYS_PAST_SUM_SUBGROUP</th>\n",
       "      <th>LOG_DAYS_UNTIL_NEXT_HOSP_PAST_MEDIAN_SUBGROUP</th>\n",
       "      <th>HAS_COPD</th>\n",
       "      <th>HAS_DIABETES</th>\n",
       "      <th>HAS_CONGESTIVE_HF</th>\n",
       "      <th>hmm_y_pred_proba_rf</th>\n",
       "      <th>baseline_y_pred_proba_rf</th>\n",
       "      <th>hmm_y_pred_rf</th>\n",
       "      <th>baseline_y_pred_rf</th>\n",
       "    </tr>\n",
       "  </thead>\n",
       "  <tbody>\n",
       "    <tr>\n",
       "      <th>25</th>\n",
       "      <td>190483</td>\n",
       "      <td>0</td>\n",
       "      <td>(0.999, 3.0]</td>\n",
       "      <td>(2.0, 10.0]</td>\n",
       "      <td>(1.0, 5.0]</td>\n",
       "      <td>(1.465, 4.332]</td>\n",
       "      <td>False</td>\n",
       "      <td>False</td>\n",
       "      <td>True</td>\n",
       "      <td>0.628797</td>\n",
       "      <td>0.632307</td>\n",
       "      <td>1</td>\n",
       "      <td>1</td>\n",
       "    </tr>\n",
       "    <tr>\n",
       "      <th>27</th>\n",
       "      <td>119090</td>\n",
       "      <td>0</td>\n",
       "      <td>(0.999, 3.0]</td>\n",
       "      <td>(2.0, 10.0]</td>\n",
       "      <td>(1.0, 5.0]</td>\n",
       "      <td>(4.332, 5.579]</td>\n",
       "      <td>False</td>\n",
       "      <td>False</td>\n",
       "      <td>True</td>\n",
       "      <td>0.546405</td>\n",
       "      <td>0.507347</td>\n",
       "      <td>1</td>\n",
       "      <td>1</td>\n",
       "    </tr>\n",
       "    <tr>\n",
       "      <th>30</th>\n",
       "      <td>154157</td>\n",
       "      <td>0</td>\n",
       "      <td>(3.0, 4.0]</td>\n",
       "      <td>(2.0, 10.0]</td>\n",
       "      <td>(1.0, 5.0]</td>\n",
       "      <td>(1.465, 4.332]</td>\n",
       "      <td>False</td>\n",
       "      <td>True</td>\n",
       "      <td>True</td>\n",
       "      <td>0.607789</td>\n",
       "      <td>0.624346</td>\n",
       "      <td>1</td>\n",
       "      <td>1</td>\n",
       "    </tr>\n",
       "    <tr>\n",
       "      <th>36</th>\n",
       "      <td>142808</td>\n",
       "      <td>0</td>\n",
       "      <td>(0.999, 3.0]</td>\n",
       "      <td>(2.0, 10.0]</td>\n",
       "      <td>(1.0, 5.0]</td>\n",
       "      <td>(4.332, 5.579]</td>\n",
       "      <td>False</td>\n",
       "      <td>True</td>\n",
       "      <td>True</td>\n",
       "      <td>0.479676</td>\n",
       "      <td>0.439605</td>\n",
       "      <td>0</td>\n",
       "      <td>0</td>\n",
       "    </tr>\n",
       "    <tr>\n",
       "      <th>41</th>\n",
       "      <td>148246</td>\n",
       "      <td>0</td>\n",
       "      <td>(0.999, 3.0]</td>\n",
       "      <td>(2.0, 10.0]</td>\n",
       "      <td>(1.0, 5.0]</td>\n",
       "      <td>(1.465, 4.332]</td>\n",
       "      <td>True</td>\n",
       "      <td>True</td>\n",
       "      <td>False</td>\n",
       "      <td>0.513230</td>\n",
       "      <td>0.532178</td>\n",
       "      <td>1</td>\n",
       "      <td>1</td>\n",
       "    </tr>\n",
       "  </tbody>\n",
       "</table>\n",
       "</div>"
      ],
      "text/plain": [
       "    sample_id  y_true NUM_COMORBIDITIES_SUBGROUP  \\\n",
       "25     190483       0               (0.999, 3.0]   \n",
       "27     119090       0               (0.999, 3.0]   \n",
       "30     154157       0                 (3.0, 4.0]   \n",
       "36     142808       0               (0.999, 3.0]   \n",
       "41     148246       0               (0.999, 3.0]   \n",
       "\n",
       "   NUM_PREV_HOSPITALIZATIONS_SUBGROUP READM_30_DAYS_PAST_SUM_SUBGROUP  \\\n",
       "25                        (2.0, 10.0]                      (1.0, 5.0]   \n",
       "27                        (2.0, 10.0]                      (1.0, 5.0]   \n",
       "30                        (2.0, 10.0]                      (1.0, 5.0]   \n",
       "36                        (2.0, 10.0]                      (1.0, 5.0]   \n",
       "41                        (2.0, 10.0]                      (1.0, 5.0]   \n",
       "\n",
       "   LOG_DAYS_UNTIL_NEXT_HOSP_PAST_MEDIAN_SUBGROUP  HAS_COPD  HAS_DIABETES  \\\n",
       "25                                (1.465, 4.332]     False         False   \n",
       "27                                (4.332, 5.579]     False         False   \n",
       "30                                (1.465, 4.332]     False          True   \n",
       "36                                (4.332, 5.579]     False          True   \n",
       "41                                (1.465, 4.332]      True          True   \n",
       "\n",
       "    HAS_CONGESTIVE_HF  hmm_y_pred_proba_rf  baseline_y_pred_proba_rf  \\\n",
       "25               True             0.628797                  0.632307   \n",
       "27               True             0.546405                  0.507347   \n",
       "30               True             0.607789                  0.624346   \n",
       "36               True             0.479676                  0.439605   \n",
       "41              False             0.513230                  0.532178   \n",
       "\n",
       "    hmm_y_pred_rf  baseline_y_pred_rf  \n",
       "25              1                   1  \n",
       "27              1                   1  \n",
       "30              1                   1  \n",
       "36              0                   0  \n",
       "41              1                   1  "
      ]
     },
     "execution_count": 35,
     "metadata": {},
     "output_type": "execute_result"
    }
   ],
   "source": [
    "subset_group_df = comparison_model_df[comparison_model_df[group_col] == group_selected]\n",
    "subset_group_df.head()"
   ]
  },
  {
   "cell_type": "code",
   "execution_count": 37,
   "metadata": {},
   "outputs": [
    {
     "name": "stderr",
     "output_type": "stream",
     "text": [
      "100%|██████████| 10000/10000 [00:23<00:00, 421.50it/s]\n"
     ]
    },
    {
     "data": {
      "text/plain": [
       "{'metric': 'f1',\n",
       " 'obs_delta': 0.08823768823768824,\n",
       " 'delta_mean': 0.08537313884796849,\n",
       " 'ci_low': 0.0,\n",
       " 'ci_high': 0.26742857142857157,\n",
       " 'p_value': 0.7124,\n",
       " 'n_boot': 10000}"
      ]
     },
     "execution_count": 37,
     "metadata": {},
     "output_type": "execute_result"
    }
   ],
   "source": [
    "stratified_bootstrap_delta(\n",
    "    df=subset_group_df,\n",
    "    y_col=\"y_true\",\n",
    "    base_col=baseline_pred_proba_col,\n",
    "    hmm_col=hmm_pred_proba_col,\n",
    "    metric=\"f1\",\n",
    "    n_boot=10000,\n",
    "    threshold=0.5,\n",
    ")"
   ]
  }
 ],
 "metadata": {
  "kernelspec": {
   "display_name": "recurrent-health-events-prediction-py3.10",
   "language": "python",
   "name": "python3"
  },
  "language_info": {
   "codemirror_mode": {
    "name": "ipython",
    "version": 3
   },
   "file_extension": ".py",
   "mimetype": "text/x-python",
   "name": "python",
   "nbconvert_exporter": "python",
   "pygments_lexer": "ipython3",
   "version": "3.10.14"
  }
 },
 "nbformat": 4,
 "nbformat_minor": 2
}
