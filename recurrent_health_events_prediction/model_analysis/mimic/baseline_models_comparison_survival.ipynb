{
 "cells": [
  {
   "cell_type": "markdown",
   "metadata": {},
   "source": [
    "# Survival Models vs Baseline - MIMIC Dataset - Boostrap Test Set"
   ]
  },
  {
   "cell_type": "code",
   "execution_count": 1,
   "metadata": {},
   "outputs": [],
   "source": [
    "import pandas as pd\n",
    "import numpy as np\n",
    "import yaml\n",
    "import os\n",
    "from importlib import resources as impresources\n",
    "from recurrent_health_events_prediction import configs\n",
    "import plotly.express as px\n",
    "from recurrent_health_events_prediction.model_analysis.utils import MetricEnum"
   ]
  },
  {
   "cell_type": "code",
   "execution_count": 2,
   "metadata": {},
   "outputs": [],
   "source": [
    "with open((impresources.files(configs) / 'model_config.yaml')) as f:\n",
    "    model_config = yaml.safe_load(f)\n",
    "with open((impresources.files(configs) / 'data_config.yaml')) as f:\n",
    "    data_config = yaml.safe_load(f)"
   ]
  },
  {
   "cell_type": "code",
   "execution_count": 3,
   "metadata": {},
   "outputs": [],
   "source": [
    "SAVE_RESULTS_DIR = data_config['final_results'][\"mimic_path\"]"
   ]
  },
  {
   "cell_type": "code",
   "execution_count": 4,
   "metadata": {},
   "outputs": [],
   "source": [
    "DATASET = \"mimic\"\n",
    "BASELINE_SURVIVAL_BASE_DIR = model_config[DATASET][\"next_event_model\"][\"last_event_based\"][\"save_model_path\"]\n",
    "BASELINE = \"baseline_cox_ph_model\"\n",
    "\n",
    "HMM_SURVIVAL_BASE_DIR = model_config[DATASET][\"next_event_model\"][\"hmm_based\"][\"save_model_path\"]\n",
    "METRIC = MetricEnum.C_INDEX.value\n",
    "N_BOOTSTRAPS = 5000\n",
    "RANDOM_STATE = 42\n",
    "DURATION_COL = \"EVENT_DURATION\"\n",
    "EVENT_COL = \"READMISSION_EVENT\"\n",
    "EVENT_ID_COL = \"HADM_ID\""
   ]
  },
  {
   "cell_type": "code",
   "execution_count": 5,
   "metadata": {},
   "outputs": [
    {
     "name": "stdout",
     "output_type": "stream",
     "text": [
      "Saving results to /workspaces/master-thesis-recurrent-health-events-prediction/results/mimic/hmm_survival_vs_baseline_cox_ph_model_mimic_c_index.csv\n"
     ]
    }
   ],
   "source": [
    "filename = f\"hmm_survival_vs_{BASELINE}_{DATASET}_{METRIC}.csv\"\n",
    "print(f\"Saving results to {os.path.join(SAVE_RESULTS_DIR, filename)}\")"
   ]
  },
  {
   "cell_type": "markdown",
   "metadata": {},
   "source": [
    "## cox_ph_with_hmm_log_time_covs_model"
   ]
  },
  {
   "cell_type": "code",
   "execution_count": 10,
   "metadata": {},
   "outputs": [
    {
     "data": {
      "text/plain": [
       "{'model_name': 'Cox PH with HMM Log Gamma Covs Model',\n",
       " 'base_hmm_name': 'hmm_mimic_time_log_gamma',\n",
       " 'model_type': 'cox_ph',\n",
       " 'save_model_path': '/workspaces/master-thesis-recurrent-health-events-prediction/_models/mimic/hmm_survival',\n",
       " 'strata_col': None,\n",
       " 'event_col': 'READMISSION_EVENT',\n",
       " 'event_id_col': 'HADM_ID',\n",
       " 'duration_col': 'EVENT_DURATION',\n",
       " 'cluster_col': None,\n",
       " 'event_name': 'readmission',\n",
       " 'features': ['AGE',\n",
       "  'DISCHARGE_LOCATION_POST_ACUTE_CARE',\n",
       "  'LOG_DAYS_IN_ICU',\n",
       "  'CHARLSON_INDEX',\n",
       "  'HAS_CONGESTIVE_HF',\n",
       "  'PROB_HIDDEN_RISK_HIGH',\n",
       "  'PROB_HIDDEN_RISK_MEDIUM',\n",
       "  'PAST_COUNT_HIDDEN_RISK_HIGH',\n",
       "  'PAST_COUNT_HIDDEN_RISK_MEDIUM',\n",
       "  'PAST_COUNT_HIDDEN_RISK_LOW',\n",
       "  'RANDOM_FEATURE'],\n",
       " 'features_not_to_scale': ['HAS_CONGESTIVE_HF',\n",
       "  'DISCHARGE_LOCATION_POST_ACUTE_CARE'],\n",
       " 'evaluation_times': [30, 60, 90, 100],\n",
       " 'main_evaluation_time': 30,\n",
       " 'scale_features': True,\n",
       " 'strata_remap': None}"
      ]
     },
     "execution_count": 10,
     "metadata": {},
     "output_type": "execute_result"
    }
   ],
   "source": [
    "from recurrent_health_events_prediction.model_analysis.utils import get_model_config\n",
    "\n",
    "\n",
    "model_name = \"cox_ph_with_hmm_log_gamma_covs_model\"\n",
    "\n",
    "get_model_config(model_name, HMM_SURVIVAL_BASE_DIR)"
   ]
  },
  {
   "cell_type": "code",
   "execution_count": 11,
   "metadata": {},
   "outputs": [
    {
     "data": {
      "application/vnd.microsoft.datawrangler.viewer.v0+json": {
       "columns": [
        {
         "name": "index",
         "rawType": "int64",
         "type": "integer"
        },
        {
         "name": "baseline_partial_hazard",
         "rawType": "float64",
         "type": "float"
        },
        {
         "name": "HADM_ID",
         "rawType": "int64",
         "type": "integer"
        },
        {
         "name": "hmm_partial_hazard",
         "rawType": "float64",
         "type": "float"
        },
        {
         "name": "READMISSION_EVENT",
         "rawType": "int64",
         "type": "integer"
        },
        {
         "name": "EVENT_DURATION",
         "rawType": "float64",
         "type": "float"
        }
       ],
       "ref": "33641184-58a8-42a7-89df-3b4db4cb37ca",
       "rows": [
        [
         "0",
         "0.5702107703763918",
         "182562",
         "0.5028028048014129",
         "0",
         "120.0"
        ],
        [
         "1",
         "0.7098490307796759",
         "125726",
         "0.6650413304923569",
         "0",
         "120.0"
        ],
        [
         "2",
         "1.1102147433056675",
         "195290",
         "1.3325353888474984",
         "0",
         "120.0"
        ],
        [
         "3",
         "0.9886555536656932",
         "155036",
         "1.0374721976503856",
         "0",
         "120.0"
        ],
        [
         "4",
         "1.1798226300591212",
         "160425",
         "0.9778221915651456",
         "1",
         "20.544444444444444"
        ]
       ],
       "shape": {
        "columns": 5,
        "rows": 5
       }
      },
      "text/html": [
       "<div>\n",
       "<style scoped>\n",
       "    .dataframe tbody tr th:only-of-type {\n",
       "        vertical-align: middle;\n",
       "    }\n",
       "\n",
       "    .dataframe tbody tr th {\n",
       "        vertical-align: top;\n",
       "    }\n",
       "\n",
       "    .dataframe thead th {\n",
       "        text-align: right;\n",
       "    }\n",
       "</style>\n",
       "<table border=\"1\" class=\"dataframe\">\n",
       "  <thead>\n",
       "    <tr style=\"text-align: right;\">\n",
       "      <th></th>\n",
       "      <th>baseline_partial_hazard</th>\n",
       "      <th>HADM_ID</th>\n",
       "      <th>hmm_partial_hazard</th>\n",
       "      <th>READMISSION_EVENT</th>\n",
       "      <th>EVENT_DURATION</th>\n",
       "    </tr>\n",
       "  </thead>\n",
       "  <tbody>\n",
       "    <tr>\n",
       "      <th>0</th>\n",
       "      <td>0.570211</td>\n",
       "      <td>182562</td>\n",
       "      <td>0.502803</td>\n",
       "      <td>0</td>\n",
       "      <td>120.000000</td>\n",
       "    </tr>\n",
       "    <tr>\n",
       "      <th>1</th>\n",
       "      <td>0.709849</td>\n",
       "      <td>125726</td>\n",
       "      <td>0.665041</td>\n",
       "      <td>0</td>\n",
       "      <td>120.000000</td>\n",
       "    </tr>\n",
       "    <tr>\n",
       "      <th>2</th>\n",
       "      <td>1.110215</td>\n",
       "      <td>195290</td>\n",
       "      <td>1.332535</td>\n",
       "      <td>0</td>\n",
       "      <td>120.000000</td>\n",
       "    </tr>\n",
       "    <tr>\n",
       "      <th>3</th>\n",
       "      <td>0.988656</td>\n",
       "      <td>155036</td>\n",
       "      <td>1.037472</td>\n",
       "      <td>0</td>\n",
       "      <td>120.000000</td>\n",
       "    </tr>\n",
       "    <tr>\n",
       "      <th>4</th>\n",
       "      <td>1.179823</td>\n",
       "      <td>160425</td>\n",
       "      <td>0.977822</td>\n",
       "      <td>1</td>\n",
       "      <td>20.544444</td>\n",
       "    </tr>\n",
       "  </tbody>\n",
       "</table>\n",
       "</div>"
      ],
      "text/plain": [
       "   baseline_partial_hazard  HADM_ID  hmm_partial_hazard  READMISSION_EVENT  \\\n",
       "0                 0.570211   182562            0.502803                  0   \n",
       "1                 0.709849   125726            0.665041                  0   \n",
       "2                 1.110215   195290            1.332535                  0   \n",
       "3                 0.988656   155036            1.037472                  0   \n",
       "4                 1.179823   160425            0.977822                  1   \n",
       "\n",
       "   EVENT_DURATION  \n",
       "0      120.000000  \n",
       "1      120.000000  \n",
       "2      120.000000  \n",
       "3      120.000000  \n",
       "4       20.544444  "
      ]
     },
     "execution_count": 11,
     "metadata": {},
     "output_type": "execute_result"
    }
   ],
   "source": [
    "from recurrent_health_events_prediction.model_analysis.utils import get_partial_hazard_pred_df, get_compare_partial_hazard_df\n",
    "\n",
    "partial_harzards_hmm_df = get_partial_hazard_pred_df(HMM_SURVIVAL_BASE_DIR, model_name, baseline=False)\n",
    "partial_harzards_baseline_df = get_partial_hazard_pred_df(BASELINE_SURVIVAL_BASE_DIR, BASELINE, baseline=True)\n",
    "events_df = pd.read_csv(\"/workspaces/master-thesis-recurrent-health-events-prediction/data/mimic-iii-preprocessed/copd_heart_failure/multiple_hosp_patients/last_events.csv\")\n",
    "\n",
    "compare_partial_hazards_df = get_compare_partial_hazard_df(events_df, partial_harzards_baseline_df, partial_harzards_hmm_df)\n",
    "compare_partial_hazards_df.head()"
   ]
  },
  {
   "cell_type": "code",
   "execution_count": 12,
   "metadata": {},
   "outputs": [
    {
     "name": "stderr",
     "output_type": "stream",
     "text": [
      "  0%|          | 0/5000 [00:00<?, ?it/s]"
     ]
    },
    {
     "name": "stderr",
     "output_type": "stream",
     "text": [
      "100%|██████████| 5000/5000 [00:10<00:00, 460.87it/s]\n"
     ]
    }
   ],
   "source": [
    "from recurrent_health_events_prediction.model_analysis.utils import stratified_bootstrap_delta_cindex_lifelines\n",
    "\n",
    "\n",
    "results_dict = stratified_bootstrap_delta_cindex_lifelines(compare_partial_hazards_df,\n",
    "                                                      DURATION_COL, EVENT_COL,\n",
    "                                                      base_pred_col=\"baseline_partial_hazard\",\n",
    "                                                      hmm_pred_col=\"hmm_partial_hazard\",\n",
    "                                                      n_boot=N_BOOTSTRAPS, random_state=RANDOM_STATE)"
   ]
  },
  {
   "cell_type": "code",
   "execution_count": 13,
   "metadata": {},
   "outputs": [
    {
     "data": {
      "text/plain": [
       "{'metric': 'c_index',\n",
       " 'obs_c_base': 0.6396177175906334,\n",
       " 'obs_c_hmm': 0.6184934405416843,\n",
       " 'obs_delta': -0.021124277048949036,\n",
       " 'delta_mean': -0.021220275029422423,\n",
       " 'ci_low': -0.043720212281982376,\n",
       " 'ci_high': 0.001382500741884117,\n",
       " 'p_value': 0.0636,\n",
       " 'n_boot_kept': 5000,\n",
       " 'n_boot': 5000,\n",
       " 'stratified': True}"
      ]
     },
     "execution_count": 13,
     "metadata": {},
     "output_type": "execute_result"
    }
   ],
   "source": [
    "results_dict"
   ]
  },
  {
   "cell_type": "markdown",
   "metadata": {},
   "source": [
    "## All Results"
   ]
  },
  {
   "cell_type": "code",
   "execution_count": 32,
   "metadata": {},
   "outputs": [],
   "source": [
    "all_results_df_list = [results1_df, results2_df, results3_df, results4_df, results5_df, results6_df]\n",
    "all_results_df = pd.concat(all_results_df_list, ignore_index=True).sort_values(by=\"delta_mean\")\n"
   ]
  },
  {
   "cell_type": "code",
   "execution_count": 33,
   "metadata": {},
   "outputs": [
    {
     "data": {
      "application/vnd.microsoft.datawrangler.viewer.v0+json": {
       "columns": [
        {
         "name": "index",
         "rawType": "int64",
         "type": "integer"
        },
        {
         "name": "model_name",
         "rawType": "object",
         "type": "string"
        },
        {
         "name": "n_states",
         "rawType": "int64",
         "type": "integer"
        },
        {
         "name": "classifier",
         "rawType": "object",
         "type": "string"
        },
        {
         "name": "metric",
         "rawType": "object",
         "type": "string"
        },
        {
         "name": "obs_delta",
         "rawType": "float64",
         "type": "float"
        },
        {
         "name": "delta_mean",
         "rawType": "float64",
         "type": "float"
        },
        {
         "name": "ci_low",
         "rawType": "float64",
         "type": "float"
        },
        {
         "name": "ci_high",
         "rawType": "float64",
         "type": "float"
        },
        {
         "name": "p_value",
         "rawType": "float64",
         "type": "float"
        },
        {
         "name": "n_boot",
         "rawType": "int64",
         "type": "integer"
        }
       ],
       "ref": "036c71f3-8d38-436a-8aff-1a4c3645b2ce",
       "rows": [
        [
         "4",
         "hmm_mimic_time_log_student_t",
         "3",
         "lgbm",
         "f1",
         "-0.039253637594309554",
         "-0.03947627594890906",
         "-0.08302164166777834",
         "0.0026650514384332236",
         "0.0688",
         "5000"
        ],
        [
         "2",
         "hmm_mimic_time_binary_30_days",
         "4",
         "lgbm",
         "f1",
         "-0.02878001301494504",
         "-0.029314393734155907",
         "-0.07929408122833585",
         "0.020821034390278083",
         "0.2572",
         "5000"
        ],
        [
         "0",
         "hmm_mimic_time_log_normal_v1",
         "3",
         "lgbm",
         "f1",
         "-0.014757101801672001",
         "-0.015006089190121835",
         "-0.07179377317714317",
         "0.040291426739804875",
         "0.5956",
         "5000"
        ],
        [
         "5",
         "hmm_mimic_time_log_normal_v2",
         "5",
         "lgbm",
         "f1",
         "-0.002788521840675684",
         "-0.0027924886714486502",
         "-0.05529545916767443",
         "0.052265483287249205",
         "0.9056",
         "5000"
        ],
        [
         "1",
         "hmm_mimic_time_log_gamma",
         "3",
         "lgbm",
         "f1",
         "0.005263248432312406",
         "0.0052705193886291085",
         "-0.03957880450382662",
         "0.050386522433376824",
         "0.8256",
         "5000"
        ],
        [
         "3",
         "hmm_mimic_time_log_normal_min_emissions",
         "4",
         "lgbm",
         "f1",
         "0.005583083318695281",
         "0.005501953857773745",
         "-0.048995659306688914",
         "0.05886522375546811",
         "0.8536",
         "5000"
        ]
       ],
       "shape": {
        "columns": 10,
        "rows": 6
       }
      },
      "text/html": [
       "<div>\n",
       "<style scoped>\n",
       "    .dataframe tbody tr th:only-of-type {\n",
       "        vertical-align: middle;\n",
       "    }\n",
       "\n",
       "    .dataframe tbody tr th {\n",
       "        vertical-align: top;\n",
       "    }\n",
       "\n",
       "    .dataframe thead th {\n",
       "        text-align: right;\n",
       "    }\n",
       "</style>\n",
       "<table border=\"1\" class=\"dataframe\">\n",
       "  <thead>\n",
       "    <tr style=\"text-align: right;\">\n",
       "      <th></th>\n",
       "      <th>model_name</th>\n",
       "      <th>n_states</th>\n",
       "      <th>classifier</th>\n",
       "      <th>metric</th>\n",
       "      <th>obs_delta</th>\n",
       "      <th>delta_mean</th>\n",
       "      <th>ci_low</th>\n",
       "      <th>ci_high</th>\n",
       "      <th>p_value</th>\n",
       "      <th>n_boot</th>\n",
       "    </tr>\n",
       "  </thead>\n",
       "  <tbody>\n",
       "    <tr>\n",
       "      <th>4</th>\n",
       "      <td>hmm_mimic_time_log_student_t</td>\n",
       "      <td>3</td>\n",
       "      <td>lgbm</td>\n",
       "      <td>f1</td>\n",
       "      <td>-0.039254</td>\n",
       "      <td>-0.039476</td>\n",
       "      <td>-0.083022</td>\n",
       "      <td>0.002665</td>\n",
       "      <td>0.0688</td>\n",
       "      <td>5000</td>\n",
       "    </tr>\n",
       "    <tr>\n",
       "      <th>2</th>\n",
       "      <td>hmm_mimic_time_binary_30_days</td>\n",
       "      <td>4</td>\n",
       "      <td>lgbm</td>\n",
       "      <td>f1</td>\n",
       "      <td>-0.028780</td>\n",
       "      <td>-0.029314</td>\n",
       "      <td>-0.079294</td>\n",
       "      <td>0.020821</td>\n",
       "      <td>0.2572</td>\n",
       "      <td>5000</td>\n",
       "    </tr>\n",
       "    <tr>\n",
       "      <th>0</th>\n",
       "      <td>hmm_mimic_time_log_normal_v1</td>\n",
       "      <td>3</td>\n",
       "      <td>lgbm</td>\n",
       "      <td>f1</td>\n",
       "      <td>-0.014757</td>\n",
       "      <td>-0.015006</td>\n",
       "      <td>-0.071794</td>\n",
       "      <td>0.040291</td>\n",
       "      <td>0.5956</td>\n",
       "      <td>5000</td>\n",
       "    </tr>\n",
       "    <tr>\n",
       "      <th>5</th>\n",
       "      <td>hmm_mimic_time_log_normal_v2</td>\n",
       "      <td>5</td>\n",
       "      <td>lgbm</td>\n",
       "      <td>f1</td>\n",
       "      <td>-0.002789</td>\n",
       "      <td>-0.002792</td>\n",
       "      <td>-0.055295</td>\n",
       "      <td>0.052265</td>\n",
       "      <td>0.9056</td>\n",
       "      <td>5000</td>\n",
       "    </tr>\n",
       "    <tr>\n",
       "      <th>1</th>\n",
       "      <td>hmm_mimic_time_log_gamma</td>\n",
       "      <td>3</td>\n",
       "      <td>lgbm</td>\n",
       "      <td>f1</td>\n",
       "      <td>0.005263</td>\n",
       "      <td>0.005271</td>\n",
       "      <td>-0.039579</td>\n",
       "      <td>0.050387</td>\n",
       "      <td>0.8256</td>\n",
       "      <td>5000</td>\n",
       "    </tr>\n",
       "    <tr>\n",
       "      <th>3</th>\n",
       "      <td>hmm_mimic_time_log_normal_min_emissions</td>\n",
       "      <td>4</td>\n",
       "      <td>lgbm</td>\n",
       "      <td>f1</td>\n",
       "      <td>0.005583</td>\n",
       "      <td>0.005502</td>\n",
       "      <td>-0.048996</td>\n",
       "      <td>0.058865</td>\n",
       "      <td>0.8536</td>\n",
       "      <td>5000</td>\n",
       "    </tr>\n",
       "  </tbody>\n",
       "</table>\n",
       "</div>"
      ],
      "text/plain": [
       "                                model_name  n_states classifier metric  \\\n",
       "4             hmm_mimic_time_log_student_t         3       lgbm     f1   \n",
       "2            hmm_mimic_time_binary_30_days         4       lgbm     f1   \n",
       "0             hmm_mimic_time_log_normal_v1         3       lgbm     f1   \n",
       "5             hmm_mimic_time_log_normal_v2         5       lgbm     f1   \n",
       "1                 hmm_mimic_time_log_gamma         3       lgbm     f1   \n",
       "3  hmm_mimic_time_log_normal_min_emissions         4       lgbm     f1   \n",
       "\n",
       "   obs_delta  delta_mean    ci_low   ci_high  p_value  n_boot  \n",
       "4  -0.039254   -0.039476 -0.083022  0.002665   0.0688    5000  \n",
       "2  -0.028780   -0.029314 -0.079294  0.020821   0.2572    5000  \n",
       "0  -0.014757   -0.015006 -0.071794  0.040291   0.5956    5000  \n",
       "5  -0.002789   -0.002792 -0.055295  0.052265   0.9056    5000  \n",
       "1   0.005263    0.005271 -0.039579  0.050387   0.8256    5000  \n",
       "3   0.005583    0.005502 -0.048996  0.058865   0.8536    5000  "
      ]
     },
     "execution_count": 33,
     "metadata": {},
     "output_type": "execute_result"
    }
   ],
   "source": [
    "all_results_df"
   ]
  },
  {
   "cell_type": "code",
   "execution_count": 34,
   "metadata": {},
   "outputs": [],
   "source": [
    "if not os.path.exists(SAVE_RESULTS_DIR):\n",
    "    os.makedirs(SAVE_RESULTS_DIR, exist_ok=True)\n",
    "all_results_df.to_csv(os.path.join(SAVE_RESULTS_DIR, filename), index=False)"
   ]
  }
 ],
 "metadata": {
  "kernelspec": {
   "display_name": "recurrent-health-events-prediction-py3.10 (3.10.14)",
   "language": "python",
   "name": "python3"
  },
  "language_info": {
   "codemirror_mode": {
    "name": "ipython",
    "version": 3
   },
   "file_extension": ".py",
   "mimetype": "text/x-python",
   "name": "python",
   "nbconvert_exporter": "python",
   "pygments_lexer": "ipython3",
   "version": "3.10.14"
  }
 },
 "nbformat": 4,
 "nbformat_minor": 2
}
