{
 "cells": [
  {
   "cell_type": "code",
   "execution_count": 1,
   "metadata": {},
   "outputs": [],
   "source": [
    "import numpy as np\n",
    "import pandas as pd\n",
    "import seaborn as sns\n",
    "import matplotlib.pyplot as plt\n",
    "import plotly.express as px\n",
    "import os\n",
    "\n",
    "from recurrent_health_events_prediction.visualization.utils import plot_hidden_risk_over_time\n",
    "\n",
    "# Define the color palette using Plotly's qualitative colors\n",
    "plotly_colors = px.colors.qualitative.Plotly\n",
    "sns.set_palette(plotly_colors)"
   ]
  },
  {
   "cell_type": "markdown",
   "metadata": {},
   "source": [
    "## Last Events with HMM Features"
   ]
  },
  {
   "cell_type": "code",
   "execution_count": 14,
   "metadata": {},
   "outputs": [
    {
     "name": "stdout",
     "output_type": "stream",
     "text": [
      "Loadding last events with hidden states from: /workspaces/master-thesis-recurrent-health-events-prediction/_models/mimic/hmm/hmm_mimic_time_log_gamma/last_events_with_hidden_states.csv\n"
     ]
    }
   ],
   "source": [
    "file_dir = \"/workspaces/master-thesis-recurrent-health-events-prediction/_models/mimic/hmm/hmm_mimic_time_log_gamma\"\n",
    "filename = \"last_events_with_hidden_states.csv\"\n",
    "filepath = os.path.join(file_dir, filename)\n",
    "print(\"Loadding last events with hidden states from:\", filepath)\n",
    "last_events_hmm_features_df = pd.read_csv(filepath)"
   ]
  },
  {
   "cell_type": "code",
   "execution_count": 15,
   "metadata": {},
   "outputs": [
    {
     "data": {
      "text/plain": [
       "count    1369.000000\n",
       "mean       77.910881\n",
       "std        46.308373\n",
       "min         2.075000\n",
       "25%        28.319444\n",
       "50%       103.786111\n",
       "75%       120.000000\n",
       "max       120.000000\n",
       "Name: EVENT_DURATION, dtype: float64"
      ]
     },
     "execution_count": 15,
     "metadata": {},
     "output_type": "execute_result"
    }
   ],
   "source": [
    "last_events_hmm_features_df[\"EVENT_DURATION\"].describe()"
   ]
  },
  {
   "cell_type": "code",
   "execution_count": 16,
   "metadata": {},
   "outputs": [
    {
     "data": {
      "text/plain": [
       "Index(['index', 'SUBJECT_ID', 'HADM_ID', 'ADMITTIME', 'DISCHTIME',\n",
       "       'ADMISSION_TYPE', 'ETHNICITY', 'INSURANCE', 'HOSPITALIZATION_DAYS',\n",
       "       'NUM_COMORBIDITIES', 'TYPES_COMORBIDITIES', 'HAS_DIABETES', 'HAS_COPD',\n",
       "       'HAS_CONGESTIVE_HF', 'NEXT_ADMISSION_TYPE', 'NUM_PREV_HOSPITALIZATIONS',\n",
       "       'PREV_DISCHTIME', 'NEXT_ADMITTIME', 'DAYS_SINCE_LAST_HOSPITALIZATION',\n",
       "       'DAYS_UNTIL_NEXT_HOSPITALIZATION',\n",
       "       'LOG_DAYS_SINCE_LAST_HOSPITALIZATION',\n",
       "       'LOG_DAYS_UNTIL_NEXT_HOSPITALIZATION', 'PREV_READMISSION_30_DAYS',\n",
       "       'READMISSION_30_DAYS', 'READM_30_DAYS_PAST_MEAN',\n",
       "       'READM_30_DAYS_PAST_SUM', 'LOG_DAYS_UNTIL_NEXT_HOSP_PAST_MEAN',\n",
       "       'LOG_DAYS_UNTIL_NEXT_HOSP_PAST_MEDIAN',\n",
       "       'LOG_DAYS_UNTIL_NEXT_HOSP_PAST_STD', 'TOTAL_HOSPITALIZATIONS',\n",
       "       'DAYS_IN_ICU', 'NUM_DRUGS', 'NUM_PROCEDURES', 'GENDER', 'DOB', 'DOD',\n",
       "       'DOD_HOSP', 'AGE', 'CHARLSON_INDEX', 'FIRST_ADMITTIME',\n",
       "       'LAST_DISCHTIME', 'PARTICIPATION_DAYS', 'TOTAL_PARTICIPATION_DAYS',\n",
       "       'DEATH_TIME_AFTER_LAST_DISCHARGE', 'READMISSION_EVENT',\n",
       "       'EVENT_DURATION', 'IN_HOSP_DEATH_EVENT', 'AFTER_HOSP_DEATH_EVENT',\n",
       "       'LOG_HOSPITALIZATION_DAYS', 'LOG_DAYS_IN_ICU',\n",
       "       'LOG_NUM_PREV_HOSPITALIZATIONS', 'LOG_NUM_DRUGS', 'IS_LAST_EVENT',\n",
       "       'IS_HISTORICAL_EVENT', 'READMISSION_TIME_CAT',\n",
       "       'READMISSION_TIME_CAT_ENCODED', 'DISCHARGE_LOCATION_HOME',\n",
       "       'DISCHARGE_LOCATION_POST_ACUTE_CARE', 'HEALTH_HIDDEN_RISK',\n",
       "       'PROB_HIDDEN_RISK_HIGH', 'PROB_HIDDEN_RISK_MEDIUM',\n",
       "       'PROB_HIDDEN_RISK_LOW', 'PAST_COUNT_HIDDEN_RISK_HIGH',\n",
       "       'PAST_COUNT_HIDDEN_RISK_LOW', 'PAST_COUNT_HIDDEN_RISK_MEDIUM'],\n",
       "      dtype='object')"
      ]
     },
     "execution_count": 16,
     "metadata": {},
     "output_type": "execute_result"
    }
   ],
   "source": [
    "last_events_hmm_features_df.columns"
   ]
  },
  {
   "cell_type": "code",
   "execution_count": 17,
   "metadata": {},
   "outputs": [
    {
     "name": "stdout",
     "output_type": "stream",
     "text": [
      "Unique hidden states ordered: ['high', 'medium', 'low']\n"
     ]
    }
   ],
   "source": [
    "from recurrent_health_events_prediction.training.utils_hmm import sort_state_labels_by_severity\n",
    "\n",
    "hidden_states_ordered = last_events_hmm_features_df[\"HEALTH_HIDDEN_RISK\"].unique()\n",
    "hidden_states_ordered = sort_state_labels_by_severity(hidden_states_ordered)\n",
    "print(\"Unique hidden states ordered:\", hidden_states_ordered)"
   ]
  },
  {
   "cell_type": "code",
   "execution_count": 18,
   "metadata": {},
   "outputs": [
    {
     "data": {
      "text/html": [
       "<div>\n",
       "<style scoped>\n",
       "    .dataframe tbody tr th:only-of-type {\n",
       "        vertical-align: middle;\n",
       "    }\n",
       "\n",
       "    .dataframe tbody tr th {\n",
       "        vertical-align: top;\n",
       "    }\n",
       "\n",
       "    .dataframe thead th {\n",
       "        text-align: right;\n",
       "    }\n",
       "</style>\n",
       "<table border=\"1\" class=\"dataframe\">\n",
       "  <thead>\n",
       "    <tr style=\"text-align: right;\">\n",
       "      <th></th>\n",
       "      <th>Readmission</th>\n",
       "      <th>No Readmission</th>\n",
       "    </tr>\n",
       "    <tr>\n",
       "      <th>HEALTH_HIDDEN_RISK</th>\n",
       "      <th></th>\n",
       "      <th></th>\n",
       "    </tr>\n",
       "  </thead>\n",
       "  <tbody>\n",
       "    <tr>\n",
       "      <th>high</th>\n",
       "      <td>245</td>\n",
       "      <td>172</td>\n",
       "    </tr>\n",
       "    <tr>\n",
       "      <th>low</th>\n",
       "      <td>125</td>\n",
       "      <td>214</td>\n",
       "    </tr>\n",
       "    <tr>\n",
       "      <th>medium</th>\n",
       "      <td>351</td>\n",
       "      <td>262</td>\n",
       "    </tr>\n",
       "  </tbody>\n",
       "</table>\n",
       "</div>"
      ],
      "text/plain": [
       "                    Readmission  No Readmission\n",
       "HEALTH_HIDDEN_RISK                             \n",
       "high                        245             172\n",
       "low                         125             214\n",
       "medium                      351             262"
      ]
     },
     "execution_count": 18,
     "metadata": {},
     "output_type": "execute_result"
    }
   ],
   "source": [
    "last_readmissions_with_hmm_features_df = last_events_hmm_features_df[last_events_hmm_features_df['READMISSION_EVENT'] == 1]\n",
    "last_hosp_no_readmissions_with_hmm_features_df = last_events_hmm_features_df[last_events_hmm_features_df['READMISSION_EVENT'] == 0]\n",
    "hidden_states_count_patients_readmission_s = last_readmissions_with_hmm_features_df[\"HEALTH_HIDDEN_RISK\"].value_counts()\n",
    "hidden_states_count_patients_no_readmission_s = last_hosp_no_readmissions_with_hmm_features_df[\"HEALTH_HIDDEN_RISK\"].value_counts()\n",
    "\n",
    "compare_df = pd.DataFrame({\n",
    "    'Readmission': hidden_states_count_patients_readmission_s,\n",
    "    'No Readmission': hidden_states_count_patients_no_readmission_s\n",
    "})\n",
    "compare_df"
   ]
  },
  {
   "cell_type": "markdown",
   "metadata": {},
   "source": [
    "### Event Duration Dist. per Hidden State"
   ]
  },
  {
   "cell_type": "code",
   "execution_count": 19,
   "metadata": {},
   "outputs": [
    {
     "data": {
      "image/png": "[encoded data removed]",
      "text/plain": [
       "<Figure size 1000x500 with 1 Axes>"
      ]
     },
     "metadata": {},
     "output_type": "display_data"
    }
   ],
   "source": [
    "plt.figure(figsize=(10, 5))\n",
    "sns.kdeplot(\n",
    "    last_events_hmm_features_df,\n",
    "    x='EVENT_DURATION',\n",
    "    hue='HEALTH_HIDDEN_RISK',\n",
    "    common_norm=False,\n",
    "    hue_order=hidden_states_ordered,\n",
    ")\n",
    "plt.title('Distribution of Event Duration by Pred. Health Hidden Risk')\n",
    "plt.xlabel('Event Duration (days)')\n",
    "plt.ylabel('Density')\n",
    "plt.show()"
   ]
  },
  {
   "cell_type": "code",
   "execution_count": 20,
   "metadata": {},
   "outputs": [
    {
     "name": "stdout",
     "output_type": "stream",
     "text": [
      "Categorical time:  ['120+' '30-120' '0-30']\n"
     ]
    }
   ],
   "source": [
    "print(\"Categorical time: \", last_events_hmm_features_df['READMISSION_TIME_CAT'].unique())"
   ]
  },
  {
   "cell_type": "code",
   "execution_count": 21,
   "metadata": {},
   "outputs": [
    {
     "data": {
      "image/png": "[encoded data removed]",
      "text/plain": [
       "<Figure size 1200x600 with 1 Axes>"
      ]
     },
     "metadata": {},
     "output_type": "display_data"
    }
   ],
   "source": [
    "from recurrent_health_events_prediction.training.utils_hmm import plot_cat_event_time_by_hidden_state\n",
    "\n",
    "fig = plot_cat_event_time_by_hidden_state(\n",
    "    last_events_hmm_features_df,\n",
    "    time_cat_col=\"READMISSION_TIME_CAT\",\n",
    "    title_suffix=\" (Target Event)\",\n",
    "    event_name=\"readmission\",\n",
    "    hue_order=['0-30', '30-120', '120+'],\n",
    "    hidden_states_order=hidden_states_ordered,\n",
    "    show_plot=True,\n",
    ")"
   ]
  },
  {
   "cell_type": "code",
   "execution_count": 22,
   "metadata": {},
   "outputs": [
    {
     "data": {
      "image/png": "[encoded data removed]",
      "text/plain": [
       "<Figure size 1000x500 with 1 Axes>"
      ]
     },
     "metadata": {},
     "output_type": "display_data"
    }
   ],
   "source": [
    "plt.figure(figsize=(10, 5))\n",
    "sns.kdeplot(\n",
    "    last_readmissions_with_hmm_features_df,\n",
    "    x=\"EVENT_DURATION\",\n",
    "    hue=\"HEALTH_HIDDEN_RISK\",\n",
    "    common_norm=False,\n",
    "    hue_order=hidden_states_ordered,\n",
    ")\n",
    "plt.title(\n",
    "    f\"Dist. of Readmission Time by Pred. Health Hidden Risk\\nNon-censored Events, {len(last_readmissions_with_hmm_features_df)} Samples\",\n",
    "    pad=10\n",
    ")\n",
    "plt.xlabel(\"Event Duration (days)\")\n",
    "plt.ylabel(\"Density\")\n",
    "plt.show()"
   ]
  },
  {
   "cell_type": "code",
   "execution_count": 23,
   "metadata": {},
   "outputs": [
    {
     "data": {
      "application/vnd.plotly.v1+json": {
       "config": {
        "plotlyServerURL": "https://plot.ly"
       },
       "data": [
        {
         "alignmentgroup": "True",
         "hovertemplate": "Health Hidden Risk=%{x}<br>Readmission Time (days)=%{y}<extra></extra>",
         "legendgroup": "high",
         "marker": {
          "color": "#636efa"
         },
         "name": "high",
         "notched": false,
         "offsetgroup": "high",
         "orientation": "v",
         "showlegend": true,
         "type": "box",
         "x": [
          "high",
          "high",
          "high",
          "high",
          "high",
          "high",
          "high",
          "high",
          "high",
          "high",
          "high",
          "high",
          "high",
          "high",
          "high",
          "high",
          "high",
          "high",
          "high",
          "high",
          "high",
          "high",
          "high",
          "high",
          "high",
          "high",
          "high",
          "high",
          "high",
          "high",
          "high",
          "high",
          "high",
          "high",
          "high",
          "high",
          "high",
          "high",
          "high",
          "high",
          "high",
          "high",
          "high",
          "high",
          "high",
          "high",
          "high",
          "high",
          "high",
          "high",
          "high",
          "high",
          "high",
          "high",
          "high",
          "high",
          "high",
          "high",
          "high",
          "high",
          "high",
          "high",
          "high",
          "high",
          "high",
          "high",
          "high",
          "high",
          "high",
          "high",
          "high",
          "high",
          "high",
          "high",
          "high",
          "high",
          "high",
          "high",
          "high",
          "high",
          "high",
          "high",
          "high",
          "high",
          "high",
          "high",
          "high",
          "high",
          "high",
          "high",
          "high",
          "high",
          "high",
          "high",
          "high",
          "high",
          "high",
          "high",
          "high",
          "high",
          "high",
          "high",
          "high",
          "high",
          "high",
          "high",
          "high",
          "high",
          "high",
          "high",
          "high",
          "high",
          "high",
          "high",
          "high",
          "high",
          "high",
          "high",
          "high",
          "high",
          "high",
          "high",
          "high",
          "high",
          "high",
          "high",
          "high",
          "high",
          "high",
          "high",
          "high",
          "high",
          "high",
          "high",
          "high",
          "high",
          "high",
          "high",
          "high",
          "high",
          "high",
          "high",
          "high",
          "high",
          "high",
          "high",
          "high",
          "high",
          "high",
          "high",
          "high",
          "high",
          "high",
          "high",
          "high",
          "high",
          "high",
          "high",
          "high",
          "high",
          "high",
          "high",
          "high",
          "high",
          "high",
          "high",
          "high",
          "high",
          "high",
          "high",
          "high",
          "high",
          "high",
          "high",
          "high",
          "high",
          "high",
          "high",
          "high",
          "high",
          "high",
          "high",
          "high",
          "high",
          "high",
          "high",
          "high",
          "high",
          "high",
          "high",
          "high",
          "high",
          "high",
          "high",
          "high",
          "high",
          "high",
          "high",
          "high",
          "high",
          "high",
          "high",
          "high",
          "high",
          "high",
          "high",
          "high",
          "high",
          "high",
          "high",
          "high",
          "high",
          "high",
          "high",
          "high",
          "high",
          "high",
          "high",
          "high",
          "high",
          "high",
          "high",
          "high",
          "high",
          "high",
          "high",
          "high",
          "high",
          "high",
          "high",
          "high",
          "high",
          "high",
          "high",
          "high",
          "high",
          "high",
          "high",
          "high",
          "high",
          "high",
          "high",
          "high",
          "high",
          "high"
         ],
         "x0": " ",
         "xaxis": "x",
         "y": {
          "bdata": "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",
          "dtype": "f8"
         },
         "y0": " ",
         "yaxis": "y"
        },
        {
         "alignmentgroup": "True",
         "hovertemplate": "Health Hidden Risk=%{x}<br>Readmission Time (days)=%{y}<extra></extra>",
         "legendgroup": "medium",
         "marker": {
          "color": "#EF553B"
         },
         "name": "medium",
         "notched": false,
         "offsetgroup": "medium",
         "orientation": "v",
         "showlegend": true,
         "type": "box",
         "x": [
          "medium",
          "medium",
          "medium",
          "medium",
          "medium",
          "medium",
          "medium",
          "medium",
          "medium",
          "medium",
          "medium",
          "medium",
          "medium",
          "medium",
          "medium",
          "medium",
          "medium",
          "medium",
          "medium",
          "medium",
          "medium",
          "medium",
          "medium",
          "medium",
          "medium",
          "medium",
          "medium",
          "medium",
          "medium",
          "medium",
          "medium",
          "medium",
          "medium",
          "medium",
          "medium",
          "medium",
          "medium",
          "medium",
          "medium",
          "medium",
          "medium",
          "medium",
          "medium",
          "medium",
          "medium",
          "medium",
          "medium",
          "medium",
          "medium",
          "medium",
          "medium",
          "medium",
          "medium",
          "medium",
          "medium",
          "medium",
          "medium",
          "medium",
          "medium",
          "medium",
          "medium",
          "medium",
          "medium",
          "medium",
          "medium",
          "medium",
          "medium",
          "medium",
          "medium",
          "medium",
          "medium",
          "medium",
          "medium",
          "medium",
          "medium",
          "medium",
          "medium",
          "medium",
          "medium",
          "medium",
          "medium",
          "medium",
          "medium",
          "medium",
          "medium",
          "medium",
          "medium",
          "medium",
          "medium",
          "medium",
          "medium",
          "medium",
          "medium",
          "medium",
          "medium",
          "medium",
          "medium",
          "medium",
          "medium",
          "medium",
          "medium",
          "medium",
          "medium",
          "medium",
          "medium",
          "medium",
          "medium",
          "medium",
          "medium",
          "medium",
          "medium",
          "medium",
          "medium",
          "medium",
          "medium",
          "medium",
          "medium",
          "medium",
          "medium",
          "medium",
          "medium",
          "medium",
          "medium",
          "medium",
          "medium",
          "medium",
          "medium",
          "medium",
          "medium",
          "medium",
          "medium",
          "medium",
          "medium",
          "medium",
          "medium",
          "medium",
          "medium",
          "medium",
          "medium",
          "medium",
          "medium",
          "medium",
          "medium",
          "medium",
          "medium",
          "medium",
          "medium",
          "medium",
          "medium",
          "medium",
          "medium",
          "medium",
          "medium",
          "medium",
          "medium",
          "medium",
          "medium",
          "medium",
          "medium",
          "medium",
          "medium",
          "medium",
          "medium",
          "medium",
          "medium",
          "medium",
          "medium",
          "medium",
          "medium",
          "medium",
          "medium",
          "medium",
          "medium",
          "medium",
          "medium",
          "medium",
          "medium",
          "medium",
          "medium",
          "medium",
          "medium",
          "medium",
          "medium",
          "medium",
          "medium",
          "medium",
          "medium",
          "medium",
          "medium",
          "medium",
          "medium",
          "medium",
          "medium",
          "medium",
          "medium",
          "medium",
          "medium",
          "medium",
          "medium",
          "medium",
          "medium",
          "medium",
          "medium",
          "medium",
          "medium",
          "medium",
          "medium",
          "medium",
          "medium",
          "medium",
          "medium",
          "medium",
          "medium",
          "medium",
          "medium",
          "medium",
          "medium",
          "medium",
          "medium",
          "medium",
          "medium",
          "medium",
          "medium",
          "medium",
          "medium",
          "medium",
          "medium",
          "medium",
          "medium",
          "medium",
          "medium",
          "medium",
          "medium",
          "medium",
          "medium",
          "medium",
          "medium",
          "medium",
          "medium",
          "medium",
          "medium",
          "medium",
          "medium",
          "medium",
          "medium",
          "medium",
          "medium",
          "medium",
          "medium",
          "medium",
          "medium",
          "medium",
          "medium",
          "medium",
          "medium",
          "medium",
          "medium",
          "medium",
          "medium",
          "medium",
          "medium",
          "medium",
          "medium",
          "medium",
          "medium",
          "medium",
          "medium",
          "medium",
          "medium",
          "medium",
          "medium",
          "medium",
          "medium",
          "medium",
          "medium",
          "medium",
          "medium",
          "medium",
          "medium",
          "medium",
          "medium",
          "medium",
          "medium",
          "medium",
          "medium",
          "medium",
          "medium",
          "medium",
          "medium",
          "medium",
          "medium",
          "medium",
          "medium",
          "medium",
          "medium",
          "medium",
          "medium",
          "medium",
          "medium",
          "medium",
          "medium",
          "medium",
          "medium",
          "medium",
          "medium",
          "medium",
          "medium",
          "medium",
          "medium",
          "medium",
          "medium",
          "medium",
          "medium",
          "medium",
          "medium",
          "medium",
          "medium",
          "medium",
          "medium",
          "medium",
          "medium",
          "medium",
          "medium",
          "medium",
          "medium",
          "medium",
          "medium",
          "medium",
          "medium",
          "medium",
          "medium",
          "medium",
          "medium",
          "medium",
          "medium",
          "medium",
          "medium",
          "medium",
          "medium",
          "medium",
          "medium",
          "medium",
          "medium",
          "medium",
          "medium",
          "medium",
          "medium",
          "medium",
          "medium",
          "medium",
          "medium"
         ],
         "x0": " ",
         "xaxis": "x",
         "y": {
          "bdata": "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",
          "dtype": "f8"
         },
         "y0": " ",
         "yaxis": "y"
        },
        {
         "alignmentgroup": "True",
         "hovertemplate": "Health Hidden Risk=%{x}<br>Readmission Time (days)=%{y}<extra></extra>",
         "legendgroup": "low",
         "marker": {
          "color": "#00cc96"
         },
         "name": "low",
         "notched": false,
         "offsetgroup": "low",
         "orientation": "v",
         "showlegend": true,
         "type": "box",
         "x": [
          "low",
          "low",
          "low",
          "low",
          "low",
          "low",
          "low",
          "low",
          "low",
          "low",
          "low",
          "low",
          "low",
          "low",
          "low",
          "low",
          "low",
          "low",
          "low",
          "low",
          "low",
          "low",
          "low",
          "low",
          "low",
          "low",
          "low",
          "low",
          "low",
          "low",
          "low",
          "low",
          "low",
          "low",
          "low",
          "low",
          "low",
          "low",
          "low",
          "low",
          "low",
          "low",
          "low",
          "low",
          "low",
          "low",
          "low",
          "low",
          "low",
          "low",
          "low",
          "low",
          "low",
          "low",
          "low",
          "low",
          "low",
          "low",
          "low",
          "low",
          "low",
          "low",
          "low",
          "low",
          "low",
          "low",
          "low",
          "low",
          "low",
          "low",
          "low",
          "low",
          "low",
          "low",
          "low",
          "low",
          "low",
          "low",
          "low",
          "low",
          "low",
          "low",
          "low",
          "low",
          "low",
          "low",
          "low",
          "low",
          "low",
          "low",
          "low",
          "low",
          "low",
          "low",
          "low",
          "low",
          "low",
          "low",
          "low",
          "low",
          "low",
          "low",
          "low",
          "low",
          "low",
          "low",
          "low",
          "low",
          "low",
          "low",
          "low",
          "low",
          "low",
          "low",
          "low",
          "low",
          "low",
          "low",
          "low",
          "low",
          "low",
          "low",
          "low",
          "low",
          "low"
         ],
         "x0": " ",
         "xaxis": "x",
         "y": {
          "bdata": "q6qqqqo2UUAREREREXVFQCMiIiIiekpAfdInfdJFXUBUVVVVVfUyQIiIiIiIKEdA3N3d3d1BXUDYgi3YglFAQFuwBVuwE1NApU/6pE96EkDe3d3d3RUxQDMzMzMzgyRAT/qkT/pMUUDjOI7jOB4wQEmf9EmftB5AP+mTPul3UUCf9Emf9GkTQGzBFmzBVgFALdiCLdiyTkCDLdiCLcJaQBhswRZsw1hAiIiIiIj4TEC8u7u7uxsfQDmO4ziOj1NAIyIiIiKaTUD9pE/6pF8/QJmZmZmZF1BA4ziO4zjCQ0DSJ33SJ+0jQPNJn/RJHwlAKH3SJ31yLUCkT/qkT9ovQGELtmALYkZAq6qqqqr0UUAt2IIt2IxYQBhswRZsHVlAOY7jOI4XTEDpkz7pk/xTQMdxHMdxnE5A+qRP+qTFXEDHcRzHcRwXQCMiIiIiSj9A+6RP+qSvJUARERERET1SQJmZmZmZU1ZA+qRP+qSPEEAt2IIt2A5KQI/jOI7jgEhAwRZswRaMH0DHcRzHcQw4QIMt2IIt8D1AmpmZmZlBO0D0SZ/0Sc1cQPqkT/qkSVlAmpmZmZlZA0C3YAu2YGsWQMEWbMEW3FNAVFVVVVX1NEAFW7AFW3ALQGELtmALok9AERERERGBTkCrqqqqqs5GQCh90id9EgdAMzMzMzNrQkAt2IIt2DI1QEmf9Emf1CpAfdInfdLnTUD1SZ/0SR9FQM3MzMzMxlFAF2zBFmwVUUCUPumTPidXQGZmZmZmnFdAZ2ZmZmYGEUCO4ziO4/JUQJQ+6ZM+6RxAERERERHRHUAzMzMzM3dYQPVJn/RJLyFAq6qqqqomT0BR+qRP+nQqQJ/0SZ/0sU5AKH3SJ30qPkBhC7ZgC8pIQMEWbMEWQlZA5TiO4ziYWEAREREREcFGQFH6pE/6XDVAAAAAAACmUEAiIiIiIpZAQM3MzMzMjCFAgy3Ygi2oJUCO4ziO44gzQIiIiIiIeDZAVFVVVVWNTECUPumTPgFLQIMt2IItIDZASZ/0SZ9ELEDpkz7pk+5PQGELtmALHjNAG8dxHMcxJkDBFmzBFkpWQNMnfdIntVBAj+M4juP4BUBxHMdxHIcLQHd3d3d3PzRASZ/0SZ+EJUC8u7u7u1sYQEREREREJCBAoPRJn/SFWUBUVVVVVVFHQMdxHMdxnABAYQu2YAsWQUB4d3d3d4csQNMnfdIn4UBAmpmZmZk5EEDd3d3d3T02QDMzMzMzkyxAXLAFW7AdO0BERERERJQvQLy7u7u7yy9AiIiIiIh4KkD9pE/6pGc2QOiTPumTdFlAu7u7u7uzOECZmZmZmUVVQA==",
          "dtype": "f8"
         },
         "y0": " ",
         "yaxis": "y"
        }
       ],
       "layout": {
        "boxmode": "overlay",
        "legend": {
         "title": {
          "text": "Health Hidden Risk"
         },
         "tracegroupgap": 0
        },
        "template": {
         "data": {
          "bar": [
           {
            "error_x": {
             "color": "#2a3f5f"
            },
            "error_y": {
             "color": "#2a3f5f"
            },
            "marker": {
             "line": {
              "color": "#E5ECF6",
              "width": 0.5
             },
             "pattern": {
              "fillmode": "overlay",
              "size": 10,
              "solidity": 0.2
             }
            },
            "type": "bar"
           }
          ],
          "barpolar": [
           {
            "marker": {
             "line": {
              "color": "#E5ECF6",
              "width": 0.5
             },
             "pattern": {
              "fillmode": "overlay",
              "size": 10,
              "solidity": 0.2
             }
            },
            "type": "barpolar"
           }
          ],
          "carpet": [
           {
            "aaxis": {
             "endlinecolor": "#2a3f5f",
             "gridcolor": "white",
             "linecolor": "white",
             "minorgridcolor": "white",
             "startlinecolor": "#2a3f5f"
            },
            "baxis": {
             "endlinecolor": "#2a3f5f",
             "gridcolor": "white",
             "linecolor": "white",
             "minorgridcolor": "white",
             "startlinecolor": "#2a3f5f"
            },
            "type": "carpet"
           }
          ],
          "choropleth": [
           {
            "colorbar": {
             "outlinewidth": 0,
             "ticks": ""
            },
            "type": "choropleth"
           }
          ],
          "contour": [
           {
            "colorbar": {
             "outlinewidth": 0,
             "ticks": ""
            },
            "colorscale": [
             [
              0,
              "#0d0887"
             ],
             [
              0.1111111111111111,
              "#46039f"
             ],
             [
              0.2222222222222222,
              "#7201a8"
             ],
             [
              0.3333333333333333,
              "#9c179e"
             ],
             [
              0.4444444444444444,
              "#bd3786"
             ],
             [
              0.5555555555555556,
              "#d8576b"
             ],
             [
              0.6666666666666666,
              "#ed7953"
             ],
             [
              0.7777777777777778,
              "#fb9f3a"
             ],
             [
              0.8888888888888888,
              "#fdca26"
             ],
             [
              1,
              "#f0f921"
             ]
            ],
            "type": "contour"
           }
          ],
          "contourcarpet": [
           {
            "colorbar": {
             "outlinewidth": 0,
             "ticks": ""
            },
            "type": "contourcarpet"
           }
          ],
          "heatmap": [
           {
            "colorbar": {
             "outlinewidth": 0,
             "ticks": ""
            },
            "colorscale": [
             [
              0,
              "#0d0887"
             ],
             [
              0.1111111111111111,
              "#46039f"
             ],
             [
              0.2222222222222222,
              "#7201a8"
             ],
             [
              0.3333333333333333,
              "#9c179e"
             ],
             [
              0.4444444444444444,
              "#bd3786"
             ],
             [
              0.5555555555555556,
              "#d8576b"
             ],
             [
              0.6666666666666666,
              "#ed7953"
             ],
             [
              0.7777777777777778,
              "#fb9f3a"
             ],
             [
              0.8888888888888888,
              "#fdca26"
             ],
             [
              1,
              "#f0f921"
             ]
            ],
            "type": "heatmap"
           }
          ],
          "histogram": [
           {
            "marker": {
             "pattern": {
              "fillmode": "overlay",
              "size": 10,
              "solidity": 0.2
             }
            },
            "type": "histogram"
           }
          ],
          "histogram2d": [
           {
            "colorbar": {
             "outlinewidth": 0,
             "ticks": ""
            },
            "colorscale": [
             [
              0,
              "#0d0887"
             ],
             [
              0.1111111111111111,
              "#46039f"
             ],
             [
              0.2222222222222222,
              "#7201a8"
             ],
             [
              0.3333333333333333,
              "#9c179e"
             ],
             [
              0.4444444444444444,
              "#bd3786"
             ],
             [
              0.5555555555555556,
              "#d8576b"
             ],
             [
              0.6666666666666666,
              "#ed7953"
             ],
             [
              0.7777777777777778,
              "#fb9f3a"
             ],
             [
              0.8888888888888888,
              "#fdca26"
             ],
             [
              1,
              "#f0f921"
             ]
            ],
            "type": "histogram2d"
           }
          ],
          "histogram2dcontour": [
           {
            "colorbar": {
             "outlinewidth": 0,
             "ticks": ""
            },
            "colorscale": [
             [
              0,
              "#0d0887"
             ],
             [
              0.1111111111111111,
              "#46039f"
             ],
             [
              0.2222222222222222,
              "#7201a8"
             ],
             [
              0.3333333333333333,
              "#9c179e"
             ],
             [
              0.4444444444444444,
              "#bd3786"
             ],
             [
              0.5555555555555556,
              "#d8576b"
             ],
             [
              0.6666666666666666,
              "#ed7953"
             ],
             [
              0.7777777777777778,
              "#fb9f3a"
             ],
             [
              0.8888888888888888,
              "#fdca26"
             ],
             [
              1,
              "#f0f921"
             ]
            ],
            "type": "histogram2dcontour"
           }
          ],
          "mesh3d": [
           {
            "colorbar": {
             "outlinewidth": 0,
             "ticks": ""
            },
            "type": "mesh3d"
           }
          ],
          "parcoords": [
           {
            "line": {
             "colorbar": {
              "outlinewidth": 0,
              "ticks": ""
             }
            },
            "type": "parcoords"
           }
          ],
          "pie": [
           {
            "automargin": true,
            "type": "pie"
           }
          ],
          "scatter": [
           {
            "fillpattern": {
             "fillmode": "overlay",
             "size": 10,
             "solidity": 0.2
            },
            "type": "scatter"
           }
          ],
          "scatter3d": [
           {
            "line": {
             "colorbar": {
              "outlinewidth": 0,
              "ticks": ""
             }
            },
            "marker": {
             "colorbar": {
              "outlinewidth": 0,
              "ticks": ""
             }
            },
            "type": "scatter3d"
           }
          ],
          "scattercarpet": [
           {
            "marker": {
             "colorbar": {
              "outlinewidth": 0,
              "ticks": ""
             }
            },
            "type": "scattercarpet"
           }
          ],
          "scattergeo": [
           {
            "marker": {
             "colorbar": {
              "outlinewidth": 0,
              "ticks": ""
             }
            },
            "type": "scattergeo"
           }
          ],
          "scattergl": [
           {
            "marker": {
             "colorbar": {
              "outlinewidth": 0,
              "ticks": ""
             }
            },
            "type": "scattergl"
           }
          ],
          "scattermap": [
           {
            "marker": {
             "colorbar": {
              "outlinewidth": 0,
              "ticks": ""
             }
            },
            "type": "scattermap"
           }
          ],
          "scattermapbox": [
           {
            "marker": {
             "colorbar": {
              "outlinewidth": 0,
              "ticks": ""
             }
            },
            "type": "scattermapbox"
           }
          ],
          "scatterpolar": [
           {
            "marker": {
             "colorbar": {
              "outlinewidth": 0,
              "ticks": ""
             }
            },
            "type": "scatterpolar"
           }
          ],
          "scatterpolargl": [
           {
            "marker": {
             "colorbar": {
              "outlinewidth": 0,
              "ticks": ""
             }
            },
            "type": "scatterpolargl"
           }
          ],
          "scatterternary": [
           {
            "marker": {
             "colorbar": {
              "outlinewidth": 0,
              "ticks": ""
             }
            },
            "type": "scatterternary"
           }
          ],
          "surface": [
           {
            "colorbar": {
             "outlinewidth": 0,
             "ticks": ""
            },
            "colorscale": [
             [
              0,
              "#0d0887"
             ],
             [
              0.1111111111111111,
              "#46039f"
             ],
             [
              0.2222222222222222,
              "#7201a8"
             ],
             [
              0.3333333333333333,
              "#9c179e"
             ],
             [
              0.4444444444444444,
              "#bd3786"
             ],
             [
              0.5555555555555556,
              "#d8576b"
             ],
             [
              0.6666666666666666,
              "#ed7953"
             ],
             [
              0.7777777777777778,
              "#fb9f3a"
             ],
             [
              0.8888888888888888,
              "#fdca26"
             ],
             [
              1,
              "#f0f921"
             ]
            ],
            "type": "surface"
           }
          ],
          "table": [
           {
            "cells": {
             "fill": {
              "color": "#EBF0F8"
             },
             "line": {
              "color": "white"
             }
            },
            "header": {
             "fill": {
              "color": "#C8D4E3"
             },
             "line": {
              "color": "white"
             }
            },
            "type": "table"
           }
          ]
         },
         "layout": {
          "annotationdefaults": {
           "arrowcolor": "#2a3f5f",
           "arrowhead": 0,
           "arrowwidth": 1
          },
          "autotypenumbers": "strict",
          "coloraxis": {
           "colorbar": {
            "outlinewidth": 0,
            "ticks": ""
           }
          },
          "colorscale": {
           "diverging": [
            [
             0,
             "#8e0152"
            ],
            [
             0.1,
             "#c51b7d"
            ],
            [
             0.2,
             "#de77ae"
            ],
            [
             0.3,
             "#f1b6da"
            ],
            [
             0.4,
             "#fde0ef"
            ],
            [
             0.5,
             "#f7f7f7"
            ],
            [
             0.6,
             "#e6f5d0"
            ],
            [
             0.7,
             "#b8e186"
            ],
            [
             0.8,
             "#7fbc41"
            ],
            [
             0.9,
             "#4d9221"
            ],
            [
             1,
             "#276419"
            ]
           ],
           "sequential": [
            [
             0,
             "#0d0887"
            ],
            [
             0.1111111111111111,
             "#46039f"
            ],
            [
             0.2222222222222222,
             "#7201a8"
            ],
            [
             0.3333333333333333,
             "#9c179e"
            ],
            [
             0.4444444444444444,
             "#bd3786"
            ],
            [
             0.5555555555555556,
             "#d8576b"
            ],
            [
             0.6666666666666666,
             "#ed7953"
            ],
            [
             0.7777777777777778,
             "#fb9f3a"
            ],
            [
             0.8888888888888888,
             "#fdca26"
            ],
            [
             1,
             "#f0f921"
            ]
           ],
           "sequentialminus": [
            [
             0,
             "#0d0887"
            ],
            [
             0.1111111111111111,
             "#46039f"
            ],
            [
             0.2222222222222222,
             "#7201a8"
            ],
            [
             0.3333333333333333,
             "#9c179e"
            ],
            [
             0.4444444444444444,
             "#bd3786"
            ],
            [
             0.5555555555555556,
             "#d8576b"
            ],
            [
             0.6666666666666666,
             "#ed7953"
            ],
            [
             0.7777777777777778,
             "#fb9f3a"
            ],
            [
             0.8888888888888888,
             "#fdca26"
            ],
            [
             1,
             "#f0f921"
            ]
           ]
          },
          "colorway": [
           "#636efa",
           "#EF553B",
           "#00cc96",
           "#ab63fa",
           "#FFA15A",
           "#19d3f3",
           "#FF6692",
           "#B6E880",
           "#FF97FF",
           "#FECB52"
          ],
          "font": {
           "color": "#2a3f5f"
          },
          "geo": {
           "bgcolor": "white",
           "lakecolor": "white",
           "landcolor": "#E5ECF6",
           "showlakes": true,
           "showland": true,
           "subunitcolor": "white"
          },
          "hoverlabel": {
           "align": "left"
          },
          "hovermode": "closest",
          "mapbox": {
           "style": "light"
          },
          "paper_bgcolor": "white",
          "plot_bgcolor": "#E5ECF6",
          "polar": {
           "angularaxis": {
            "gridcolor": "white",
            "linecolor": "white",
            "ticks": ""
           },
           "bgcolor": "#E5ECF6",
           "radialaxis": {
            "gridcolor": "white",
            "linecolor": "white",
            "ticks": ""
           }
          },
          "scene": {
           "xaxis": {
            "backgroundcolor": "#E5ECF6",
            "gridcolor": "white",
            "gridwidth": 2,
            "linecolor": "white",
            "showbackground": true,
            "ticks": "",
            "zerolinecolor": "white"
           },
           "yaxis": {
            "backgroundcolor": "#E5ECF6",
            "gridcolor": "white",
            "gridwidth": 2,
            "linecolor": "white",
            "showbackground": true,
            "ticks": "",
            "zerolinecolor": "white"
           },
           "zaxis": {
            "backgroundcolor": "#E5ECF6",
            "gridcolor": "white",
            "gridwidth": 2,
            "linecolor": "white",
            "showbackground": true,
            "ticks": "",
            "zerolinecolor": "white"
           }
          },
          "shapedefaults": {
           "line": {
            "color": "#2a3f5f"
           }
          },
          "ternary": {
           "aaxis": {
            "gridcolor": "white",
            "linecolor": "white",
            "ticks": ""
           },
           "baxis": {
            "gridcolor": "white",
            "linecolor": "white",
            "ticks": ""
           },
           "bgcolor": "#E5ECF6",
           "caxis": {
            "gridcolor": "white",
            "linecolor": "white",
            "ticks": ""
           }
          },
          "title": {
           "x": 0.05
          },
          "xaxis": {
           "automargin": true,
           "gridcolor": "white",
           "linecolor": "white",
           "ticks": "",
           "title": {
            "standoff": 15
           },
           "zerolinecolor": "white",
           "zerolinewidth": 2
          },
          "yaxis": {
           "automargin": true,
           "gridcolor": "white",
           "linecolor": "white",
           "ticks": "",
           "title": {
            "standoff": 15
           },
           "zerolinecolor": "white",
           "zerolinewidth": 2
          }
         }
        },
        "title": {
         "text": "Readmission Time by Pred. Hidden Risk State<br>Non-censored Events, 721 Samples"
        },
        "xaxis": {
         "anchor": "y",
         "categoryarray": [
          "high",
          "medium",
          "low"
         ],
         "categoryorder": "array",
         "domain": [
          0,
          1
         ],
         "title": {
          "text": "Health Hidden Risk"
         }
        },
        "yaxis": {
         "anchor": "x",
         "domain": [
          0,
          1
         ],
         "title": {
          "text": "Readmission Time (days)"
         }
        }
       }
      }
     },
     "metadata": {},
     "output_type": "display_data"
    }
   ],
   "source": [
    "import plotly.express as px\n",
    "\n",
    "px.box(last_readmissions_with_hmm_features_df,\n",
    "        x='HEALTH_HIDDEN_RISK', y='EVENT_DURATION',\n",
    "        color='HEALTH_HIDDEN_RISK',\n",
    "        category_orders={'HEALTH_HIDDEN_RISK': hidden_states_ordered},\n",
    "        title=f\"Readmission Time by Pred. Hidden Risk State<br>Non-censored Events, {len(last_readmissions_with_hmm_features_df)} Samples\",\n",
    "        labels={'HEALTH_HIDDEN_RISK': 'Health Hidden Risk', 'EVENT_DURATION': 'Readmission Time (days)'},)"
   ]
  },
  {
   "cell_type": "markdown",
   "metadata": {},
   "source": [
    "### Correlation of HMM Features with Readmission Time"
   ]
  },
  {
   "cell_type": "code",
   "execution_count": 24,
   "metadata": {},
   "outputs": [
    {
     "name": "stdout",
     "output_type": "stream",
     "text": [
      "HMM numerical features to analyze: ['PROB_HIDDEN_RISK_HIGH', 'PROB_HIDDEN_RISK_MEDIUM', 'PROB_HIDDEN_RISK_LOW', 'PAST_COUNT_HIDDEN_RISK_HIGH', 'PAST_COUNT_HIDDEN_RISK_LOW', 'PAST_COUNT_HIDDEN_RISK_MEDIUM']\n"
     ]
    }
   ],
   "source": [
    "hmm_features = [col for col in last_readmissions_with_hmm_features_df.columns if 'PROB_HIDDEN_RISK' in col or 'PAST_COUNT' in col]\n",
    "print(\"HMM numerical features to analyze:\", hmm_features)"
   ]
  },
  {
   "cell_type": "code",
   "execution_count": 25,
   "metadata": {},
   "outputs": [
    {
     "data": {
      "image/png": "[encoded data removed]",
      "text/plain": [
       "<Figure size 1000x600 with 1 Axes>"
      ]
     },
     "metadata": {},
     "output_type": "display_data"
    }
   ],
   "source": [
    "from recurrent_health_events_prediction.eda.utils import plot_spearman_vs_target\n",
    "\n",
    "fig, corr_df = plot_spearman_vs_target(df=last_readmissions_with_hmm_features_df, numerical_features=hmm_features, target='EVENT_DURATION')"
   ]
  },
  {
   "cell_type": "markdown",
   "metadata": {},
   "source": [
    "#### Kruskal-Wallis H-Test: Statistical Background"
   ]
  },
  {
   "cell_type": "markdown",
   "metadata": {},
   "source": [
    "The **Kruskal-Wallis H-test** is a **non-parametric statistical test** used to determine whether there are statistically significant differences between the distributions of a continuous variable across three or more independent groups.\n",
    "\n",
    "**What is the statistic being tested?**\n",
    "\n",
    "* The test statistic, **H**, compares the mean ranks of the groups.\n",
    "* It tests the **null hypothesis ($H_0$):** all groups come from the same distribution (i.e., their population medians are equal).\n",
    "\n",
    "**Distributional Assumptions:**\n",
    "\n",
    "* The Kruskal-Wallis test **does not assume normality**.\n",
    "* It is appropriate for data that are **not normally distributed** and is often used as a non-parametric alternative to one-way ANOVA.\n",
    "* The only assumptions are:\n",
    "\n",
    "  * The observations are independent.\n",
    "  * The variable is at least ordinal.\n",
    "  * The distributions have the same shape (though the test is robust to differences in shape).\n",
    "\n",
    "**Summary:**\n",
    "The Kruskal-Wallis test is ideal when comparing more than two groups with continuous or ordinal data, especially when the normality assumption is questionable."
   ]
  },
  {
   "cell_type": "code",
   "execution_count": 26,
   "metadata": {},
   "outputs": [
    {
     "name": "stdout",
     "output_type": "stream",
     "text": [
      "Performing Kruskal-Wallis test for Event Duration by Health Hidden Risk State...\n",
      "Groups for Kruskal-Wallis test: dict_keys(['high', 'medium', 'low'])\n",
      "Number of samples in each group:\n",
      "high: 245 sample(s)\n",
      "medium: 351 sample(s)\n",
      "low: 125 sample(s)\n",
      "Kruskal-Wallis H=0.7153975821869029, p=0.6992836737585637\n"
     ]
    }
   ],
   "source": [
    "from scipy.stats import kruskal\n",
    "\n",
    "# Create a dictionary to store groups for the Kruskal-Wallis test\n",
    "groups = {state: last_readmissions_with_hmm_features_df[last_readmissions_with_hmm_features_df['HEALTH_HIDDEN_RISK'] == state]['EVENT_DURATION'] for state in hidden_states_ordered}\n",
    "print(\"Performing Kruskal-Wallis test for Event Duration by Health Hidden Risk State...\")\n",
    "print(\"Groups for Kruskal-Wallis test:\", groups.keys())\n",
    "# Check if all groups have more than one sample\n",
    "for state, group in groups.items():\n",
    "    if len(group) < 2:\n",
    "        print(f\"Warning: Group '{state}' has only {len(group)} sample(s), which may affect the test results.\")\n",
    "print(\"Number of samples in each group:\")\n",
    "for state, group in groups.items():\n",
    "    print(f\"{state}: {len(group)} sample(s)\")\n",
    "# Perform the Kruskal-Wallis test\n",
    "H, p = kruskal(*groups.values())\n",
    "print(f\"Kruskal-Wallis H={H}, p={p}\")"
   ]
  },
  {
   "cell_type": "code",
   "execution_count": 27,
   "metadata": {},
   "outputs": [
    {
     "name": "stdout",
     "output_type": "stream",
     "text": [
      "                    count       mean        std       min        25%  \\\n",
      "HEALTH_HIDDEN_RISK                                                     \n",
      "high                245.0  39.711984  32.049031  2.136111  13.005556   \n",
      "low                 125.0  42.622144  33.608299  2.076389  13.235417   \n",
      "medium              351.0  39.438155  32.174981  2.075000  11.345833   \n",
      "\n",
      "                          50%        75%         max  \n",
      "HEALTH_HIDDEN_RISK                                    \n",
      "high                29.344444  55.009722  119.238194  \n",
      "low                 33.172917  66.830556  117.090972  \n",
      "medium              30.203472  60.185417  119.997222  \n"
     ]
    }
   ],
   "source": [
    "print(last_readmissions_with_hmm_features_df.groupby('HEALTH_HIDDEN_RISK')['EVENT_DURATION'].describe())"
   ]
  },
  {
   "cell_type": "markdown",
   "metadata": {},
   "source": [
    "### Distributions of Hidden States"
   ]
  },
  {
   "cell_type": "code",
   "execution_count": 28,
   "metadata": {},
   "outputs": [
    {
     "data": {
      "application/vnd.plotly.v1+json": {
       "config": {
        "plotlyServerURL": "https://plot.ly"
       },
       "data": [
        {
         "bingroup": "x",
         "hovertemplate": "Health Hidden Risk=%{x}<br>count=%{y}<extra></extra>",
         "legendgroup": "high",
         "marker": {
          "color": "#636EFA",
          "pattern": {
           "shape": ""
          }
         },
         "name": "high",
         "orientation": "v",
         "showlegend": true,
         "texttemplate": "%{value}",
         "type": "histogram",
         "x": [
          "high",
          "high",
          "high",
          "high",
          "high",
          "high",
          "high",
          "high",
          "high",
          "high",
          "high",
          "high",
          "high",
          "high",
          "high",
          "high",
          "high",
          "high",
          "high",
          "high",
          "high",
          "high",
          "high",
          "high",
          "high",
          "high",
          "high",
          "high",
          "high",
          "high",
          "high",
          "high",
          "high",
          "high",
          "high",
          "high",
          "high",
          "high",
          "high",
          "high",
          "high",
          "high",
          "high",
          "high",
          "high",
          "high",
          "high",
          "high",
          "high",
          "high",
          "high",
          "high",
          "high",
          "high",
          "high",
          "high",
          "high",
          "high",
          "high",
          "high",
          "high",
          "high",
          "high",
          "high",
          "high",
          "high",
          "high",
          "high",
          "high",
          "high",
          "high",
          "high",
          "high",
          "high",
          "high",
          "high",
          "high",
          "high",
          "high",
          "high",
          "high",
          "high",
          "high",
          "high",
          "high",
          "high",
          "high",
          "high",
          "high",
          "high",
          "high",
          "high",
          "high",
          "high",
          "high",
          "high",
          "high",
          "high",
          "high",
          "high",
          "high",
          "high",
          "high",
          "high",
          "high",
          "high",
          "high",
          "high",
          "high",
          "high",
          "high",
          "high",
          "high",
          "high",
          "high",
          "high",
          "high",
          "high",
          "high",
          "high",
          "high",
          "high",
          "high",
          "high",
          "high",
          "high",
          "high",
          "high",
          "high",
          "high",
          "high",
          "high",
          "high",
          "high",
          "high",
          "high",
          "high",
          "high",
          "high",
          "high",
          "high",
          "high",
          "high",
          "high",
          "high",
          "high",
          "high",
          "high",
          "high",
          "high",
          "high",
          "high",
          "high",
          "high",
          "high",
          "high",
          "high",
          "high",
          "high",
          "high",
          "high",
          "high",
          "high",
          "high",
          "high",
          "high",
          "high",
          "high",
          "high",
          "high",
          "high",
          "high",
          "high",
          "high",
          "high",
          "high",
          "high",
          "high",
          "high",
          "high",
          "high",
          "high",
          "high",
          "high",
          "high",
          "high",
          "high",
          "high",
          "high",
          "high",
          "high",
          "high",
          "high",
          "high",
          "high",
          "high",
          "high",
          "high",
          "high",
          "high",
          "high",
          "high",
          "high",
          "high",
          "high",
          "high",
          "high",
          "high",
          "high",
          "high",
          "high",
          "high",
          "high",
          "high",
          "high",
          "high",
          "high",
          "high",
          "high",
          "high",
          "high",
          "high",
          "high",
          "high",
          "high",
          "high",
          "high",
          "high",
          "high",
          "high",
          "high",
          "high",
          "high",
          "high",
          "high",
          "high",
          "high",
          "high",
          "high",
          "high",
          "high",
          "high",
          "high",
          "high",
          "high",
          "high",
          "high",
          "high",
          "high",
          "high",
          "high",
          "high",
          "high",
          "high",
          "high",
          "high",
          "high",
          "high",
          "high",
          "high",
          "high",
          "high",
          "high",
          "high",
          "high",
          "high",
          "high",
          "high",
          "high",
          "high",
          "high",
          "high",
          "high",
          "high",
          "high",
          "high",
          "high",
          "high",
          "high",
          "high",
          "high",
          "high",
          "high",
          "high",
          "high",
          "high",
          "high",
          "high",
          "high",
          "high",
          "high",
          "high",
          "high",
          "high",
          "high",
          "high",
          "high",
          "high",
          "high",
          "high",
          "high",
          "high",
          "high",
          "high",
          "high",
          "high",
          "high",
          "high",
          "high",
          "high",
          "high",
          "high",
          "high",
          "high",
          "high",
          "high",
          "high",
          "high",
          "high",
          "high",
          "high",
          "high",
          "high",
          "high",
          "high",
          "high",
          "high",
          "high",
          "high",
          "high",
          "high",
          "high",
          "high",
          "high",
          "high",
          "high",
          "high",
          "high",
          "high",
          "high",
          "high",
          "high",
          "high",
          "high",
          "high",
          "high",
          "high",
          "high",
          "high",
          "high",
          "high",
          "high",
          "high",
          "high",
          "high",
          "high",
          "high",
          "high",
          "high",
          "high",
          "high",
          "high",
          "high",
          "high",
          "high",
          "high",
          "high",
          "high",
          "high",
          "high",
          "high",
          "high",
          "high",
          "high",
          "high",
          "high",
          "high",
          "high",
          "high",
          "high",
          "high",
          "high",
          "high",
          "high",
          "high",
          "high",
          "high",
          "high",
          "high",
          "high",
          "high",
          "high",
          "high",
          "high",
          "high",
          "high",
          "high",
          "high",
          "high",
          "high",
          "high",
          "high",
          "high",
          "high",
          "high",
          "high",
          "high",
          "high",
          "high",
          "high",
          "high",
          "high",
          "high",
          "high",
          "high",
          "high",
          "high"
         ],
         "xaxis": "x",
         "yaxis": "y"
        },
        {
         "bingroup": "x",
         "hovertemplate": "Health Hidden Risk=%{x}<br>count=%{y}<extra></extra>",
         "legendgroup": "medium",
         "marker": {
          "color": "#EF553B",
          "pattern": {
           "shape": ""
          }
         },
         "name": "medium",
         "orientation": "v",
         "showlegend": true,
         "texttemplate": "%{value}",
         "type": "histogram",
         "x": [
          "medium",
          "medium",
          "medium",
          "medium",
          "medium",
          "medium",
          "medium",
          "medium",
          "medium",
          "medium",
          "medium",
          "medium",
          "medium",
          "medium",
          "medium",
          "medium",
          "medium",
          "medium",
          "medium",
          "medium",
          "medium",
          "medium",
          "medium",
          "medium",
          "medium",
          "medium",
          "medium",
          "medium",
          "medium",
          "medium",
          "medium",
          "medium",
          "medium",
          "medium",
          "medium",
          "medium",
          "medium",
          "medium",
          "medium",
          "medium",
          "medium",
          "medium",
          "medium",
          "medium",
          "medium",
          "medium",
          "medium",
          "medium",
          "medium",
          "medium",
          "medium",
          "medium",
          "medium",
          "medium",
          "medium",
          "medium",
          "medium",
          "medium",
          "medium",
          "medium",
          "medium",
          "medium",
          "medium",
          "medium",
          "medium",
          "medium",
          "medium",
          "medium",
          "medium",
          "medium",
          "medium",
          "medium",
          "medium",
          "medium",
          "medium",
          "medium",
          "medium",
          "medium",
          "medium",
          "medium",
          "medium",
          "medium",
          "medium",
          "medium",
          "medium",
          "medium",
          "medium",
          "medium",
          "medium",
          "medium",
          "medium",
          "medium",
          "medium",
          "medium",
          "medium",
          "medium",
          "medium",
          "medium",
          "medium",
          "medium",
          "medium",
          "medium",
          "medium",
          "medium",
          "medium",
          "medium",
          "medium",
          "medium",
          "medium",
          "medium",
          "medium",
          "medium",
          "medium",
          "medium",
          "medium",
          "medium",
          "medium",
          "medium",
          "medium",
          "medium",
          "medium",
          "medium",
          "medium",
          "medium",
          "medium",
          "medium",
          "medium",
          "medium",
          "medium",
          "medium",
          "medium",
          "medium",
          "medium",
          "medium",
          "medium",
          "medium",
          "medium",
          "medium",
          "medium",
          "medium",
          "medium",
          "medium",
          "medium",
          "medium",
          "medium",
          "medium",
          "medium",
          "medium",
          "medium",
          "medium",
          "medium",
          "medium",
          "medium",
          "medium",
          "medium",
          "medium",
          "medium",
          "medium",
          "medium",
          "medium",
          "medium",
          "medium",
          "medium",
          "medium",
          "medium",
          "medium",
          "medium",
          "medium",
          "medium",
          "medium",
          "medium",
          "medium",
          "medium",
          "medium",
          "medium",
          "medium",
          "medium",
          "medium",
          "medium",
          "medium",
          "medium",
          "medium",
          "medium",
          "medium",
          "medium",
          "medium",
          "medium",
          "medium",
          "medium",
          "medium",
          "medium",
          "medium",
          "medium",
          "medium",
          "medium",
          "medium",
          "medium",
          "medium",
          "medium",
          "medium",
          "medium",
          "medium",
          "medium",
          "medium",
          "medium",
          "medium",
          "medium",
          "medium",
          "medium",
          "medium",
          "medium",
          "medium",
          "medium",
          "medium",
          "medium",
          "medium",
          "medium",
          "medium",
          "medium",
          "medium",
          "medium",
          "medium",
          "medium",
          "medium",
          "medium",
          "medium",
          "medium",
          "medium",
          "medium",
          "medium",
          "medium",
          "medium",
          "medium",
          "medium",
          "medium",
          "medium",
          "medium",
          "medium",
          "medium",
          "medium",
          "medium",
          "medium",
          "medium",
          "medium",
          "medium",
          "medium",
          "medium",
          "medium",
          "medium",
          "medium",
          "medium",
          "medium",
          "medium",
          "medium",
          "medium",
          "medium",
          "medium",
          "medium",
          "medium",
          "medium",
          "medium",
          "medium",
          "medium",
          "medium",
          "medium",
          "medium",
          "medium",
          "medium",
          "medium",
          "medium",
          "medium",
          "medium",
          "medium",
          "medium",
          "medium",
          "medium",
          "medium",
          "medium",
          "medium",
          "medium",
          "medium",
          "medium",
          "medium",
          "medium",
          "medium",
          "medium",
          "medium",
          "medium",
          "medium",
          "medium",
          "medium",
          "medium",
          "medium",
          "medium",
          "medium",
          "medium",
          "medium",
          "medium",
          "medium",
          "medium",
          "medium",
          "medium",
          "medium",
          "medium",
          "medium",
          "medium",
          "medium",
          "medium",
          "medium",
          "medium",
          "medium",
          "medium",
          "medium",
          "medium",
          "medium",
          "medium",
          "medium",
          "medium",
          "medium",
          "medium",
          "medium",
          "medium",
          "medium",
          "medium",
          "medium",
          "medium",
          "medium",
          "medium",
          "medium",
          "medium",
          "medium",
          "medium",
          "medium",
          "medium",
          "medium",
          "medium",
          "medium",
          "medium",
          "medium",
          "medium",
          "medium",
          "medium",
          "medium",
          "medium",
          "medium",
          "medium",
          "medium",
          "medium",
          "medium",
          "medium",
          "medium",
          "medium",
          "medium",
          "medium",
          "medium",
          "medium",
          "medium",
          "medium",
          "medium",
          "medium",
          "medium",
          "medium",
          "medium",
          "medium",
          "medium",
          "medium",
          "medium",
          "medium",
          "medium",
          "medium",
          "medium",
          "medium",
          "medium",
          "medium",
          "medium",
          "medium",
          "medium",
          "medium",
          "medium",
          "medium",
          "medium",
          "medium",
          "medium",
          "medium",
          "medium",
          "medium",
          "medium",
          "medium",
          "medium",
          "medium",
          "medium",
          "medium",
          "medium",
          "medium",
          "medium",
          "medium",
          "medium",
          "medium",
          "medium",
          "medium",
          "medium",
          "medium",
          "medium",
          "medium",
          "medium",
          "medium",
          "medium",
          "medium",
          "medium",
          "medium",
          "medium",
          "medium",
          "medium",
          "medium",
          "medium",
          "medium",
          "medium",
          "medium",
          "medium",
          "medium",
          "medium",
          "medium",
          "medium",
          "medium",
          "medium",
          "medium",
          "medium",
          "medium",
          "medium",
          "medium",
          "medium",
          "medium",
          "medium",
          "medium",
          "medium",
          "medium",
          "medium",
          "medium",
          "medium",
          "medium",
          "medium",
          "medium",
          "medium",
          "medium",
          "medium",
          "medium",
          "medium",
          "medium",
          "medium",
          "medium",
          "medium",
          "medium",
          "medium",
          "medium",
          "medium",
          "medium",
          "medium",
          "medium",
          "medium",
          "medium",
          "medium",
          "medium",
          "medium",
          "medium",
          "medium",
          "medium",
          "medium",
          "medium",
          "medium",
          "medium",
          "medium",
          "medium",
          "medium",
          "medium",
          "medium",
          "medium",
          "medium",
          "medium",
          "medium",
          "medium",
          "medium",
          "medium",
          "medium",
          "medium",
          "medium",
          "medium",
          "medium",
          "medium",
          "medium",
          "medium",
          "medium",
          "medium",
          "medium",
          "medium",
          "medium",
          "medium",
          "medium",
          "medium",
          "medium",
          "medium",
          "medium",
          "medium",
          "medium",
          "medium",
          "medium",
          "medium",
          "medium",
          "medium",
          "medium",
          "medium",
          "medium",
          "medium",
          "medium",
          "medium",
          "medium",
          "medium",
          "medium",
          "medium",
          "medium",
          "medium",
          "medium",
          "medium",
          "medium",
          "medium",
          "medium",
          "medium",
          "medium",
          "medium",
          "medium",
          "medium",
          "medium",
          "medium",
          "medium",
          "medium",
          "medium",
          "medium",
          "medium",
          "medium",
          "medium",
          "medium",
          "medium",
          "medium",
          "medium",
          "medium",
          "medium",
          "medium",
          "medium",
          "medium",
          "medium",
          "medium",
          "medium",
          "medium",
          "medium",
          "medium",
          "medium",
          "medium",
          "medium",
          "medium",
          "medium",
          "medium",
          "medium",
          "medium",
          "medium",
          "medium",
          "medium",
          "medium",
          "medium",
          "medium",
          "medium",
          "medium",
          "medium",
          "medium",
          "medium",
          "medium",
          "medium",
          "medium",
          "medium",
          "medium",
          "medium",
          "medium",
          "medium",
          "medium",
          "medium",
          "medium",
          "medium",
          "medium",
          "medium",
          "medium",
          "medium",
          "medium",
          "medium",
          "medium",
          "medium",
          "medium",
          "medium",
          "medium",
          "medium",
          "medium",
          "medium",
          "medium",
          "medium",
          "medium",
          "medium",
          "medium",
          "medium",
          "medium",
          "medium",
          "medium",
          "medium",
          "medium",
          "medium",
          "medium",
          "medium"
         ],
         "xaxis": "x",
         "yaxis": "y"
        },
        {
         "bingroup": "x",
         "hovertemplate": "Health Hidden Risk=%{x}<br>count=%{y}<extra></extra>",
         "legendgroup": "low",
         "marker": {
          "color": "#00CC96",
          "pattern": {
           "shape": ""
          }
         },
         "name": "low",
         "orientation": "v",
         "showlegend": true,
         "texttemplate": "%{value}",
         "type": "histogram",
         "x": [
          "low",
          "low",
          "low",
          "low",
          "low",
          "low",
          "low",
          "low",
          "low",
          "low",
          "low",
          "low",
          "low",
          "low",
          "low",
          "low",
          "low",
          "low",
          "low",
          "low",
          "low",
          "low",
          "low",
          "low",
          "low",
          "low",
          "low",
          "low",
          "low",
          "low",
          "low",
          "low",
          "low",
          "low",
          "low",
          "low",
          "low",
          "low",
          "low",
          "low",
          "low",
          "low",
          "low",
          "low",
          "low",
          "low",
          "low",
          "low",
          "low",
          "low",
          "low",
          "low",
          "low",
          "low",
          "low",
          "low",
          "low",
          "low",
          "low",
          "low",
          "low",
          "low",
          "low",
          "low",
          "low",
          "low",
          "low",
          "low",
          "low",
          "low",
          "low",
          "low",
          "low",
          "low",
          "low",
          "low",
          "low",
          "low",
          "low",
          "low",
          "low",
          "low",
          "low",
          "low",
          "low",
          "low",
          "low",
          "low",
          "low",
          "low",
          "low",
          "low",
          "low",
          "low",
          "low",
          "low",
          "low",
          "low",
          "low",
          "low",
          "low",
          "low",
          "low",
          "low",
          "low",
          "low",
          "low",
          "low",
          "low",
          "low",
          "low",
          "low",
          "low",
          "low",
          "low",
          "low",
          "low",
          "low",
          "low",
          "low",
          "low",
          "low",
          "low",
          "low",
          "low",
          "low",
          "low",
          "low",
          "low",
          "low",
          "low",
          "low",
          "low",
          "low",
          "low",
          "low",
          "low",
          "low",
          "low",
          "low",
          "low",
          "low",
          "low",
          "low",
          "low",
          "low",
          "low",
          "low",
          "low",
          "low",
          "low",
          "low",
          "low",
          "low",
          "low",
          "low",
          "low",
          "low",
          "low",
          "low",
          "low",
          "low",
          "low",
          "low",
          "low",
          "low",
          "low",
          "low",
          "low",
          "low",
          "low",
          "low",
          "low",
          "low",
          "low",
          "low",
          "low",
          "low",
          "low",
          "low",
          "low",
          "low",
          "low",
          "low",
          "low",
          "low",
          "low",
          "low",
          "low",
          "low",
          "low",
          "low",
          "low",
          "low",
          "low",
          "low",
          "low",
          "low",
          "low",
          "low",
          "low",
          "low",
          "low",
          "low",
          "low",
          "low",
          "low",
          "low",
          "low",
          "low",
          "low",
          "low",
          "low",
          "low",
          "low",
          "low",
          "low",
          "low",
          "low",
          "low",
          "low",
          "low",
          "low",
          "low",
          "low",
          "low",
          "low",
          "low",
          "low",
          "low",
          "low",
          "low",
          "low",
          "low",
          "low",
          "low",
          "low",
          "low",
          "low",
          "low",
          "low",
          "low",
          "low",
          "low",
          "low",
          "low",
          "low",
          "low",
          "low",
          "low",
          "low",
          "low",
          "low",
          "low",
          "low",
          "low",
          "low",
          "low",
          "low",
          "low",
          "low",
          "low",
          "low",
          "low",
          "low",
          "low",
          "low",
          "low",
          "low",
          "low",
          "low",
          "low",
          "low",
          "low",
          "low",
          "low",
          "low",
          "low",
          "low",
          "low",
          "low",
          "low",
          "low",
          "low",
          "low",
          "low",
          "low",
          "low",
          "low",
          "low",
          "low",
          "low",
          "low",
          "low",
          "low",
          "low",
          "low",
          "low",
          "low",
          "low",
          "low",
          "low",
          "low",
          "low",
          "low",
          "low",
          "low",
          "low",
          "low",
          "low",
          "low",
          "low",
          "low",
          "low",
          "low",
          "low",
          "low",
          "low",
          "low",
          "low",
          "low",
          "low",
          "low",
          "low",
          "low",
          "low",
          "low",
          "low",
          "low",
          "low",
          "low",
          "low",
          "low",
          "low",
          "low",
          "low",
          "low",
          "low",
          "low"
         ],
         "xaxis": "x",
         "yaxis": "y"
        }
       ],
       "layout": {
        "barmode": "relative",
        "legend": {
         "title": {
          "text": "Health Hidden Risk"
         },
         "tracegroupgap": 0
        },
        "template": {
         "data": {
          "bar": [
           {
            "error_x": {
             "color": "#2a3f5f"
            },
            "error_y": {
             "color": "#2a3f5f"
            },
            "marker": {
             "line": {
              "color": "#E5ECF6",
              "width": 0.5
             },
             "pattern": {
              "fillmode": "overlay",
              "size": 10,
              "solidity": 0.2
             }
            },
            "type": "bar"
           }
          ],
          "barpolar": [
           {
            "marker": {
             "line": {
              "color": "#E5ECF6",
              "width": 0.5
             },
             "pattern": {
              "fillmode": "overlay",
              "size": 10,
              "solidity": 0.2
             }
            },
            "type": "barpolar"
           }
          ],
          "carpet": [
           {
            "aaxis": {
             "endlinecolor": "#2a3f5f",
             "gridcolor": "white",
             "linecolor": "white",
             "minorgridcolor": "white",
             "startlinecolor": "#2a3f5f"
            },
            "baxis": {
             "endlinecolor": "#2a3f5f",
             "gridcolor": "white",
             "linecolor": "white",
             "minorgridcolor": "white",
             "startlinecolor": "#2a3f5f"
            },
            "type": "carpet"
           }
          ],
          "choropleth": [
           {
            "colorbar": {
             "outlinewidth": 0,
             "ticks": ""
            },
            "type": "choropleth"
           }
          ],
          "contour": [
           {
            "colorbar": {
             "outlinewidth": 0,
             "ticks": ""
            },
            "colorscale": [
             [
              0,
              "#0d0887"
             ],
             [
              0.1111111111111111,
              "#46039f"
             ],
             [
              0.2222222222222222,
              "#7201a8"
             ],
             [
              0.3333333333333333,
              "#9c179e"
             ],
             [
              0.4444444444444444,
              "#bd3786"
             ],
             [
              0.5555555555555556,
              "#d8576b"
             ],
             [
              0.6666666666666666,
              "#ed7953"
             ],
             [
              0.7777777777777778,
              "#fb9f3a"
             ],
             [
              0.8888888888888888,
              "#fdca26"
             ],
             [
              1,
              "#f0f921"
             ]
            ],
            "type": "contour"
           }
          ],
          "contourcarpet": [
           {
            "colorbar": {
             "outlinewidth": 0,
             "ticks": ""
            },
            "type": "contourcarpet"
           }
          ],
          "heatmap": [
           {
            "colorbar": {
             "outlinewidth": 0,
             "ticks": ""
            },
            "colorscale": [
             [
              0,
              "#0d0887"
             ],
             [
              0.1111111111111111,
              "#46039f"
             ],
             [
              0.2222222222222222,
              "#7201a8"
             ],
             [
              0.3333333333333333,
              "#9c179e"
             ],
             [
              0.4444444444444444,
              "#bd3786"
             ],
             [
              0.5555555555555556,
              "#d8576b"
             ],
             [
              0.6666666666666666,
              "#ed7953"
             ],
             [
              0.7777777777777778,
              "#fb9f3a"
             ],
             [
              0.8888888888888888,
              "#fdca26"
             ],
             [
              1,
              "#f0f921"
             ]
            ],
            "type": "heatmap"
           }
          ],
          "histogram": [
           {
            "marker": {
             "pattern": {
              "fillmode": "overlay",
              "size": 10,
              "solidity": 0.2
             }
            },
            "type": "histogram"
           }
          ],
          "histogram2d": [
           {
            "colorbar": {
             "outlinewidth": 0,
             "ticks": ""
            },
            "colorscale": [
             [
              0,
              "#0d0887"
             ],
             [
              0.1111111111111111,
              "#46039f"
             ],
             [
              0.2222222222222222,
              "#7201a8"
             ],
             [
              0.3333333333333333,
              "#9c179e"
             ],
             [
              0.4444444444444444,
              "#bd3786"
             ],
             [
              0.5555555555555556,
              "#d8576b"
             ],
             [
              0.6666666666666666,
              "#ed7953"
             ],
             [
              0.7777777777777778,
              "#fb9f3a"
             ],
             [
              0.8888888888888888,
              "#fdca26"
             ],
             [
              1,
              "#f0f921"
             ]
            ],
            "type": "histogram2d"
           }
          ],
          "histogram2dcontour": [
           {
            "colorbar": {
             "outlinewidth": 0,
             "ticks": ""
            },
            "colorscale": [
             [
              0,
              "#0d0887"
             ],
             [
              0.1111111111111111,
              "#46039f"
             ],
             [
              0.2222222222222222,
              "#7201a8"
             ],
             [
              0.3333333333333333,
              "#9c179e"
             ],
             [
              0.4444444444444444,
              "#bd3786"
             ],
             [
              0.5555555555555556,
              "#d8576b"
             ],
             [
              0.6666666666666666,
              "#ed7953"
             ],
             [
              0.7777777777777778,
              "#fb9f3a"
             ],
             [
              0.8888888888888888,
              "#fdca26"
             ],
             [
              1,
              "#f0f921"
             ]
            ],
            "type": "histogram2dcontour"
           }
          ],
          "mesh3d": [
           {
            "colorbar": {
             "outlinewidth": 0,
             "ticks": ""
            },
            "type": "mesh3d"
           }
          ],
          "parcoords": [
           {
            "line": {
             "colorbar": {
              "outlinewidth": 0,
              "ticks": ""
             }
            },
            "type": "parcoords"
           }
          ],
          "pie": [
           {
            "automargin": true,
            "type": "pie"
           }
          ],
          "scatter": [
           {
            "fillpattern": {
             "fillmode": "overlay",
             "size": 10,
             "solidity": 0.2
            },
            "type": "scatter"
           }
          ],
          "scatter3d": [
           {
            "line": {
             "colorbar": {
              "outlinewidth": 0,
              "ticks": ""
             }
            },
            "marker": {
             "colorbar": {
              "outlinewidth": 0,
              "ticks": ""
             }
            },
            "type": "scatter3d"
           }
          ],
          "scattercarpet": [
           {
            "marker": {
             "colorbar": {
              "outlinewidth": 0,
              "ticks": ""
             }
            },
            "type": "scattercarpet"
           }
          ],
          "scattergeo": [
           {
            "marker": {
             "colorbar": {
              "outlinewidth": 0,
              "ticks": ""
             }
            },
            "type": "scattergeo"
           }
          ],
          "scattergl": [
           {
            "marker": {
             "colorbar": {
              "outlinewidth": 0,
              "ticks": ""
             }
            },
            "type": "scattergl"
           }
          ],
          "scattermap": [
           {
            "marker": {
             "colorbar": {
              "outlinewidth": 0,
              "ticks": ""
             }
            },
            "type": "scattermap"
           }
          ],
          "scattermapbox": [
           {
            "marker": {
             "colorbar": {
              "outlinewidth": 0,
              "ticks": ""
             }
            },
            "type": "scattermapbox"
           }
          ],
          "scatterpolar": [
           {
            "marker": {
             "colorbar": {
              "outlinewidth": 0,
              "ticks": ""
             }
            },
            "type": "scatterpolar"
           }
          ],
          "scatterpolargl": [
           {
            "marker": {
             "colorbar": {
              "outlinewidth": 0,
              "ticks": ""
             }
            },
            "type": "scatterpolargl"
           }
          ],
          "scatterternary": [
           {
            "marker": {
             "colorbar": {
              "outlinewidth": 0,
              "ticks": ""
             }
            },
            "type": "scatterternary"
           }
          ],
          "surface": [
           {
            "colorbar": {
             "outlinewidth": 0,
             "ticks": ""
            },
            "colorscale": [
             [
              0,
              "#0d0887"
             ],
             [
              0.1111111111111111,
              "#46039f"
             ],
             [
              0.2222222222222222,
              "#7201a8"
             ],
             [
              0.3333333333333333,
              "#9c179e"
             ],
             [
              0.4444444444444444,
              "#bd3786"
             ],
             [
              0.5555555555555556,
              "#d8576b"
             ],
             [
              0.6666666666666666,
              "#ed7953"
             ],
             [
              0.7777777777777778,
              "#fb9f3a"
             ],
             [
              0.8888888888888888,
              "#fdca26"
             ],
             [
              1,
              "#f0f921"
             ]
            ],
            "type": "surface"
           }
          ],
          "table": [
           {
            "cells": {
             "fill": {
              "color": "#EBF0F8"
             },
             "line": {
              "color": "white"
             }
            },
            "header": {
             "fill": {
              "color": "#C8D4E3"
             },
             "line": {
              "color": "white"
             }
            },
            "type": "table"
           }
          ]
         },
         "layout": {
          "annotationdefaults": {
           "arrowcolor": "#2a3f5f",
           "arrowhead": 0,
           "arrowwidth": 1
          },
          "autotypenumbers": "strict",
          "coloraxis": {
           "colorbar": {
            "outlinewidth": 0,
            "ticks": ""
           }
          },
          "colorscale": {
           "diverging": [
            [
             0,
             "#8e0152"
            ],
            [
             0.1,
             "#c51b7d"
            ],
            [
             0.2,
             "#de77ae"
            ],
            [
             0.3,
             "#f1b6da"
            ],
            [
             0.4,
             "#fde0ef"
            ],
            [
             0.5,
             "#f7f7f7"
            ],
            [
             0.6,
             "#e6f5d0"
            ],
            [
             0.7,
             "#b8e186"
            ],
            [
             0.8,
             "#7fbc41"
            ],
            [
             0.9,
             "#4d9221"
            ],
            [
             1,
             "#276419"
            ]
           ],
           "sequential": [
            [
             0,
             "#0d0887"
            ],
            [
             0.1111111111111111,
             "#46039f"
            ],
            [
             0.2222222222222222,
             "#7201a8"
            ],
            [
             0.3333333333333333,
             "#9c179e"
            ],
            [
             0.4444444444444444,
             "#bd3786"
            ],
            [
             0.5555555555555556,
             "#d8576b"
            ],
            [
             0.6666666666666666,
             "#ed7953"
            ],
            [
             0.7777777777777778,
             "#fb9f3a"
            ],
            [
             0.8888888888888888,
             "#fdca26"
            ],
            [
             1,
             "#f0f921"
            ]
           ],
           "sequentialminus": [
            [
             0,
             "#0d0887"
            ],
            [
             0.1111111111111111,
             "#46039f"
            ],
            [
             0.2222222222222222,
             "#7201a8"
            ],
            [
             0.3333333333333333,
             "#9c179e"
            ],
            [
             0.4444444444444444,
             "#bd3786"
            ],
            [
             0.5555555555555556,
             "#d8576b"
            ],
            [
             0.6666666666666666,
             "#ed7953"
            ],
            [
             0.7777777777777778,
             "#fb9f3a"
            ],
            [
             0.8888888888888888,
             "#fdca26"
            ],
            [
             1,
             "#f0f921"
            ]
           ]
          },
          "colorway": [
           "#636efa",
           "#EF553B",
           "#00cc96",
           "#ab63fa",
           "#FFA15A",
           "#19d3f3",
           "#FF6692",
           "#B6E880",
           "#FF97FF",
           "#FECB52"
          ],
          "font": {
           "color": "#2a3f5f"
          },
          "geo": {
           "bgcolor": "white",
           "lakecolor": "white",
           "landcolor": "#E5ECF6",
           "showlakes": true,
           "showland": true,
           "subunitcolor": "white"
          },
          "hoverlabel": {
           "align": "left"
          },
          "hovermode": "closest",
          "mapbox": {
           "style": "light"
          },
          "paper_bgcolor": "white",
          "plot_bgcolor": "#E5ECF6",
          "polar": {
           "angularaxis": {
            "gridcolor": "white",
            "linecolor": "white",
            "ticks": ""
           },
           "bgcolor": "#E5ECF6",
           "radialaxis": {
            "gridcolor": "white",
            "linecolor": "white",
            "ticks": ""
           }
          },
          "scene": {
           "xaxis": {
            "backgroundcolor": "#E5ECF6",
            "gridcolor": "white",
            "gridwidth": 2,
            "linecolor": "white",
            "showbackground": true,
            "ticks": "",
            "zerolinecolor": "white"
           },
           "yaxis": {
            "backgroundcolor": "#E5ECF6",
            "gridcolor": "white",
            "gridwidth": 2,
            "linecolor": "white",
            "showbackground": true,
            "ticks": "",
            "zerolinecolor": "white"
           },
           "zaxis": {
            "backgroundcolor": "#E5ECF6",
            "gridcolor": "white",
            "gridwidth": 2,
            "linecolor": "white",
            "showbackground": true,
            "ticks": "",
            "zerolinecolor": "white"
           }
          },
          "shapedefaults": {
           "line": {
            "color": "#2a3f5f"
           }
          },
          "ternary": {
           "aaxis": {
            "gridcolor": "white",
            "linecolor": "white",
            "ticks": ""
           },
           "baxis": {
            "gridcolor": "white",
            "linecolor": "white",
            "ticks": ""
           },
           "bgcolor": "#E5ECF6",
           "caxis": {
            "gridcolor": "white",
            "linecolor": "white",
            "ticks": ""
           }
          },
          "title": {
           "x": 0.05
          },
          "xaxis": {
           "automargin": true,
           "gridcolor": "white",
           "linecolor": "white",
           "ticks": "",
           "title": {
            "standoff": 15
           },
           "zerolinecolor": "white",
           "zerolinewidth": 2
          },
          "yaxis": {
           "automargin": true,
           "gridcolor": "white",
           "linecolor": "white",
           "ticks": "",
           "title": {
            "standoff": 15
           },
           "zerolinecolor": "white",
           "zerolinewidth": 2
          }
         }
        },
        "title": {
         "text": "Distribution of Pred. Health Hidden Risk States for Readmitted Patients within 120 days (Target Event)"
        },
        "xaxis": {
         "anchor": "y",
         "categoryarray": [
          "high",
          "medium",
          "low"
         ],
         "categoryorder": "array",
         "domain": [
          0,
          1
         ],
         "title": {
          "text": "Health Hidden Risk"
         }
        },
        "yaxis": {
         "anchor": "x",
         "domain": [
          0,
          1
         ],
         "title": {
          "text": "Count"
         }
        }
       }
      }
     },
     "metadata": {},
     "output_type": "display_data"
    }
   ],
   "source": [
    "import plotly.express as px\n",
    "\n",
    "px.histogram(last_events_hmm_features_df, x='HEALTH_HIDDEN_RISK', color='HEALTH_HIDDEN_RISK',\n",
    "    title=\"Distribution of Pred. Health Hidden Risk States for Readmitted Patients within 120 days (Target Event)\",\n",
    "    labels={'HEALTH_HIDDEN_RISK': 'Health Hidden Risk'},\n",
    "    category_orders={'HEALTH_HIDDEN_RISK': hidden_states_ordered},\n",
    "    text_auto=True,\n",
    "    color_discrete_sequence=px.colors.qualitative.Plotly\n",
    ").update_layout(\n",
    "    xaxis_title=\"Health Hidden Risk\",\n",
    "    yaxis_title=\"Count\",\n",
    "    legend_title_text=\"Health Hidden Risk\"\n",
    ").show()"
   ]
  },
  {
   "cell_type": "code",
   "execution_count": 29,
   "metadata": {},
   "outputs": [
    {
     "data": {
      "application/vnd.plotly.v1+json": {
       "config": {
        "plotlyServerURL": "https://plot.ly"
       },
       "data": [
        {
         "alignmentgroup": "True",
         "hovertemplate": "Health Hidden Risk=%{x}<br>Probability of Hidden Risk State=%{y}<extra></extra>",
         "legendgroup": "high",
         "marker": {
          "color": "#636EFA"
         },
         "name": "high",
         "notched": false,
         "offsetgroup": "high",
         "orientation": "v",
         "showlegend": true,
         "type": "box",
         "x": [
          "high",
          "high",
          "high",
          "high",
          "high",
          "high",
          "high",
          "high",
          "high",
          "high",
          "high",
          "high",
          "high",
          "high",
          "high",
          "high",
          "high",
          "high",
          "high",
          "high",
          "high",
          "high",
          "high",
          "high",
          "high",
          "high",
          "high",
          "high",
          "high",
          "high",
          "high",
          "high",
          "high",
          "high",
          "high",
          "high",
          "high",
          "high",
          "high",
          "high",
          "high",
          "high",
          "high",
          "high",
          "high",
          "high",
          "high",
          "high",
          "high",
          "high",
          "high",
          "high",
          "high",
          "high",
          "high",
          "high",
          "high",
          "high",
          "high",
          "high",
          "high",
          "high",
          "high",
          "high",
          "high",
          "high",
          "high",
          "high",
          "high",
          "high",
          "high",
          "high",
          "high",
          "high",
          "high",
          "high",
          "high",
          "high",
          "high",
          "high",
          "high",
          "high",
          "high",
          "high",
          "high",
          "high",
          "high",
          "high",
          "high",
          "high",
          "high",
          "high",
          "high",
          "high",
          "high",
          "high",
          "high",
          "high",
          "high",
          "high",
          "high",
          "high",
          "high",
          "high",
          "high",
          "high",
          "high",
          "high",
          "high",
          "high",
          "high",
          "high",
          "high",
          "high",
          "high",
          "high",
          "high",
          "high",
          "high",
          "high",
          "high",
          "high",
          "high",
          "high",
          "high",
          "high",
          "high",
          "high",
          "high",
          "high",
          "high",
          "high",
          "high",
          "high",
          "high",
          "high",
          "high",
          "high",
          "high",
          "high",
          "high",
          "high",
          "high",
          "high",
          "high",
          "high",
          "high",
          "high",
          "high",
          "high",
          "high",
          "high",
          "high",
          "high",
          "high",
          "high",
          "high",
          "high",
          "high",
          "high",
          "high",
          "high",
          "high",
          "high",
          "high",
          "high",
          "high",
          "high",
          "high",
          "high",
          "high",
          "high",
          "high",
          "high",
          "high",
          "high",
          "high",
          "high",
          "high",
          "high",
          "high",
          "high",
          "high",
          "high",
          "high",
          "high",
          "high",
          "high",
          "high",
          "high",
          "high",
          "high",
          "high",
          "high",
          "high",
          "high",
          "high",
          "high",
          "high",
          "high",
          "high",
          "high",
          "high",
          "high",
          "high",
          "high",
          "high",
          "high",
          "high",
          "high",
          "high",
          "high",
          "high",
          "high",
          "high",
          "high",
          "high",
          "high",
          "high",
          "high",
          "high",
          "high",
          "high",
          "high",
          "high",
          "high",
          "high",
          "high",
          "high",
          "high",
          "high",
          "high",
          "high",
          "high",
          "high",
          "high",
          "high",
          "high",
          "high",
          "high",
          "high",
          "high",
          "high",
          "high",
          "high"
         ],
         "x0": " ",
         "xaxis": "x",
         "y": {
          "bdata": "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",
          "dtype": "f8"
         },
         "y0": " ",
         "yaxis": "y"
        },
        {
         "alignmentgroup": "True",
         "hovertemplate": "Health Hidden Risk=%{x}<br>Probability of Hidden Risk State=%{y}<extra></extra>",
         "legendgroup": "medium",
         "marker": {
          "color": "#EF553B"
         },
         "name": "medium",
         "notched": false,
         "offsetgroup": "medium",
         "orientation": "v",
         "showlegend": true,
         "type": "box",
         "x": [
          "medium",
          "medium",
          "medium",
          "medium",
          "medium",
          "medium",
          "medium",
          "medium",
          "medium",
          "medium",
          "medium",
          "medium",
          "medium",
          "medium",
          "medium",
          "medium",
          "medium",
          "medium",
          "medium",
          "medium",
          "medium",
          "medium",
          "medium",
          "medium",
          "medium",
          "medium",
          "medium",
          "medium",
          "medium",
          "medium",
          "medium",
          "medium",
          "medium",
          "medium",
          "medium",
          "medium",
          "medium",
          "medium",
          "medium",
          "medium",
          "medium",
          "medium",
          "medium",
          "medium",
          "medium",
          "medium",
          "medium",
          "medium",
          "medium",
          "medium",
          "medium",
          "medium",
          "medium",
          "medium",
          "medium",
          "medium",
          "medium",
          "medium",
          "medium",
          "medium",
          "medium",
          "medium",
          "medium",
          "medium",
          "medium",
          "medium",
          "medium",
          "medium",
          "medium",
          "medium",
          "medium",
          "medium",
          "medium",
          "medium",
          "medium",
          "medium",
          "medium",
          "medium",
          "medium",
          "medium",
          "medium",
          "medium",
          "medium",
          "medium",
          "medium",
          "medium",
          "medium",
          "medium",
          "medium",
          "medium",
          "medium",
          "medium",
          "medium",
          "medium",
          "medium",
          "medium",
          "medium",
          "medium",
          "medium",
          "medium",
          "medium",
          "medium",
          "medium",
          "medium",
          "medium",
          "medium",
          "medium",
          "medium",
          "medium",
          "medium",
          "medium",
          "medium",
          "medium",
          "medium",
          "medium",
          "medium",
          "medium",
          "medium",
          "medium",
          "medium",
          "medium",
          "medium",
          "medium",
          "medium",
          "medium",
          "medium",
          "medium",
          "medium",
          "medium",
          "medium",
          "medium",
          "medium",
          "medium",
          "medium",
          "medium",
          "medium",
          "medium",
          "medium",
          "medium",
          "medium",
          "medium",
          "medium",
          "medium",
          "medium",
          "medium",
          "medium",
          "medium",
          "medium",
          "medium",
          "medium",
          "medium",
          "medium",
          "medium",
          "medium",
          "medium",
          "medium",
          "medium",
          "medium",
          "medium",
          "medium",
          "medium",
          "medium",
          "medium",
          "medium",
          "medium",
          "medium",
          "medium",
          "medium",
          "medium",
          "medium",
          "medium",
          "medium",
          "medium",
          "medium",
          "medium",
          "medium",
          "medium",
          "medium",
          "medium",
          "medium",
          "medium",
          "medium",
          "medium",
          "medium",
          "medium",
          "medium",
          "medium",
          "medium",
          "medium",
          "medium",
          "medium",
          "medium",
          "medium",
          "medium",
          "medium",
          "medium",
          "medium",
          "medium",
          "medium",
          "medium",
          "medium",
          "medium",
          "medium",
          "medium",
          "medium",
          "medium",
          "medium",
          "medium",
          "medium",
          "medium",
          "medium",
          "medium",
          "medium",
          "medium",
          "medium",
          "medium",
          "medium",
          "medium",
          "medium",
          "medium",
          "medium",
          "medium",
          "medium",
          "medium",
          "medium",
          "medium",
          "medium",
          "medium",
          "medium",
          "medium",
          "medium",
          "medium",
          "medium",
          "medium",
          "medium",
          "medium",
          "medium",
          "medium",
          "medium",
          "medium",
          "medium",
          "medium",
          "medium",
          "medium",
          "medium",
          "medium",
          "medium",
          "medium",
          "medium",
          "medium",
          "medium",
          "medium",
          "medium",
          "medium",
          "medium",
          "medium",
          "medium",
          "medium",
          "medium",
          "medium",
          "medium",
          "medium",
          "medium",
          "medium",
          "medium",
          "medium",
          "medium",
          "medium",
          "medium",
          "medium",
          "medium",
          "medium",
          "medium",
          "medium",
          "medium",
          "medium",
          "medium",
          "medium",
          "medium",
          "medium",
          "medium",
          "medium",
          "medium",
          "medium",
          "medium",
          "medium",
          "medium",
          "medium",
          "medium",
          "medium",
          "medium",
          "medium",
          "medium",
          "medium",
          "medium",
          "medium",
          "medium",
          "medium",
          "medium",
          "medium",
          "medium",
          "medium",
          "medium",
          "medium",
          "medium",
          "medium",
          "medium",
          "medium",
          "medium",
          "medium",
          "medium",
          "medium",
          "medium",
          "medium",
          "medium",
          "medium",
          "medium",
          "medium",
          "medium",
          "medium",
          "medium",
          "medium",
          "medium",
          "medium",
          "medium",
          "medium",
          "medium",
          "medium",
          "medium",
          "medium",
          "medium",
          "medium",
          "medium",
          "medium",
          "medium",
          "medium",
          "medium",
          "medium",
          "medium",
          "medium",
          "medium",
          "medium",
          "medium",
          "medium",
          "medium",
          "medium",
          "medium",
          "medium",
          "medium",
          "medium",
          "medium"
         ],
         "x0": " ",
         "xaxis": "x",
         "y": {
          "bdata": "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",
          "dtype": "f8"
         },
         "y0": " ",
         "yaxis": "y"
        },
        {
         "alignmentgroup": "True",
         "hovertemplate": "Health Hidden Risk=%{x}<br>Probability of Hidden Risk State=%{y}<extra></extra>",
         "legendgroup": "low",
         "marker": {
          "color": "#00CC96"
         },
         "name": "low",
         "notched": false,
         "offsetgroup": "low",
         "orientation": "v",
         "showlegend": true,
         "type": "box",
         "x": [
          "low",
          "low",
          "low",
          "low",
          "low",
          "low",
          "low",
          "low",
          "low",
          "low",
          "low",
          "low",
          "low",
          "low",
          "low",
          "low",
          "low",
          "low",
          "low",
          "low",
          "low",
          "low",
          "low",
          "low",
          "low",
          "low",
          "low",
          "low",
          "low",
          "low",
          "low",
          "low",
          "low",
          "low",
          "low",
          "low",
          "low",
          "low",
          "low",
          "low",
          "low",
          "low",
          "low",
          "low",
          "low",
          "low",
          "low",
          "low",
          "low",
          "low",
          "low",
          "low",
          "low",
          "low",
          "low",
          "low",
          "low",
          "low",
          "low",
          "low",
          "low",
          "low",
          "low",
          "low",
          "low",
          "low",
          "low",
          "low",
          "low",
          "low",
          "low",
          "low",
          "low",
          "low",
          "low",
          "low",
          "low",
          "low",
          "low",
          "low",
          "low",
          "low",
          "low",
          "low",
          "low",
          "low",
          "low",
          "low",
          "low",
          "low",
          "low",
          "low",
          "low",
          "low",
          "low",
          "low",
          "low",
          "low",
          "low",
          "low",
          "low",
          "low",
          "low",
          "low",
          "low",
          "low",
          "low",
          "low",
          "low",
          "low",
          "low",
          "low",
          "low",
          "low",
          "low",
          "low",
          "low",
          "low",
          "low",
          "low",
          "low",
          "low",
          "low",
          "low",
          "low"
         ],
         "x0": " ",
         "xaxis": "x",
         "y": {
          "bdata": "AAAAwD064D////9/ctnYPwAAAICcNuM/////X3HI2j////+/3DTdP////3+Nuds/AAAAADHF2j8AAAAgRLfZP/////8l490/////nwcN2z8AAADAfAjZPwAAAEDQ998/////31FJ2D8AAABgREDiPwAAAMAUpOM/AAAAgHC13T8AAABA+xbhPwAAAEAgjNo/AAAAAFHm4T/////fys7ePwAAAECMkeE/////3wwx2j8AAAAAvXTgPwAAAGAM8uE/AAAAoI5f5T8AAAAgF07cPwAAAEAKz9o/////f0wg3D8AAABgpTzfP////183t9s/AAAAQANW3z//////l77dPwAAAACOCuE/////X7mz3z8AAADgM8DiPwAAAIBA3OA/AAAA4MCR3j8AAADgE4HgPwAAAMBpyt8/////f8ix3j8AAABgkznaP////385Qts/AAAAwKSE4j////8/euPdPwAAAOAuqt8/AAAAYJrZ2z////9/+q3dPwAAAOD3ZN0/AAAAwL+03j8AAABg3J7gPwAAAKA4NOA/////v9CQ2T8AAAAAj0zgPwAAAGAOv9c/AAAAYBuA1z////9/gWzePwAAAABKCdg/////XwJk2D8AAADgXWDgP////78Kyds/AAAAQO7D4z8AAABgNBzgP////z8tT9k/AAAAIIMI2j8AAADAn4LmPwAAAABds+M/AAAAoF4C3T8AAAAA9qDdPwAAAGDa/ts/AAAAYM4r2j8AAACA7SvmPwAAAAAMZOU/AAAAoHaz4T/////f1WHdPwAAAIBO5OM/AAAAYGeQ4T8AAADAE6vjP/////9THtk/AAAA4P1U4j////8f5sLbP////7/cFdo/AAAAoDRt3D8AAACgNBrfPwAAAEA+buQ/AAAAADPA4D8AAADAfkDbPwAAAADSbuY/AAAAAFF44j//////1zDfPwAAAKAu/eA/AAAAoCk53j8AAABgT3/gPwAAAOAQeuI/////HyKE2z8AAABg+MDhPwAAAOANxeM/AAAAAOT95D8AAADgf6bdPwAAAAC7Vto/AAAAYKUW4D8AAAAg1s3jP////x8wY9s/AAAAYINe4D8AAABgwyvhPwAAAMDFpuA/AAAAINlL5T8AAADgZjDYPwAAAABGFts/AAAAwFYW5T8AAABAIOLePwAAAGDksts/AAAAQMZ73D8AAABARlviP////78Ri98/AAAAgNDg3T8AAACAKmLcPwAAACDK7eM/AAAAAI024D8AAADASuTgPwAAAGBWwNc/AAAAwHur4T/////fYVzdPwAAAMAZJ+A/AAAAwPJG2D8AAAAgOADfPw==",
          "dtype": "f8"
         },
         "y0": " ",
         "yaxis": "y"
        }
       ],
       "layout": {
        "boxmode": "overlay",
        "legend": {
         "title": {
          "text": "Health Hidden Risk"
         },
         "tracegroupgap": 0
        },
        "template": {
         "data": {
          "bar": [
           {
            "error_x": {
             "color": "#2a3f5f"
            },
            "error_y": {
             "color": "#2a3f5f"
            },
            "marker": {
             "line": {
              "color": "#E5ECF6",
              "width": 0.5
             },
             "pattern": {
              "fillmode": "overlay",
              "size": 10,
              "solidity": 0.2
             }
            },
            "type": "bar"
           }
          ],
          "barpolar": [
           {
            "marker": {
             "line": {
              "color": "#E5ECF6",
              "width": 0.5
             },
             "pattern": {
              "fillmode": "overlay",
              "size": 10,
              "solidity": 0.2
             }
            },
            "type": "barpolar"
           }
          ],
          "carpet": [
           {
            "aaxis": {
             "endlinecolor": "#2a3f5f",
             "gridcolor": "white",
             "linecolor": "white",
             "minorgridcolor": "white",
             "startlinecolor": "#2a3f5f"
            },
            "baxis": {
             "endlinecolor": "#2a3f5f",
             "gridcolor": "white",
             "linecolor": "white",
             "minorgridcolor": "white",
             "startlinecolor": "#2a3f5f"
            },
            "type": "carpet"
           }
          ],
          "choropleth": [
           {
            "colorbar": {
             "outlinewidth": 0,
             "ticks": ""
            },
            "type": "choropleth"
           }
          ],
          "contour": [
           {
            "colorbar": {
             "outlinewidth": 0,
             "ticks": ""
            },
            "colorscale": [
             [
              0,
              "#0d0887"
             ],
             [
              0.1111111111111111,
              "#46039f"
             ],
             [
              0.2222222222222222,
              "#7201a8"
             ],
             [
              0.3333333333333333,
              "#9c179e"
             ],
             [
              0.4444444444444444,
              "#bd3786"
             ],
             [
              0.5555555555555556,
              "#d8576b"
             ],
             [
              0.6666666666666666,
              "#ed7953"
             ],
             [
              0.7777777777777778,
              "#fb9f3a"
             ],
             [
              0.8888888888888888,
              "#fdca26"
             ],
             [
              1,
              "#f0f921"
             ]
            ],
            "type": "contour"
           }
          ],
          "contourcarpet": [
           {
            "colorbar": {
             "outlinewidth": 0,
             "ticks": ""
            },
            "type": "contourcarpet"
           }
          ],
          "heatmap": [
           {
            "colorbar": {
             "outlinewidth": 0,
             "ticks": ""
            },
            "colorscale": [
             [
              0,
              "#0d0887"
             ],
             [
              0.1111111111111111,
              "#46039f"
             ],
             [
              0.2222222222222222,
              "#7201a8"
             ],
             [
              0.3333333333333333,
              "#9c179e"
             ],
             [
              0.4444444444444444,
              "#bd3786"
             ],
             [
              0.5555555555555556,
              "#d8576b"
             ],
             [
              0.6666666666666666,
              "#ed7953"
             ],
             [
              0.7777777777777778,
              "#fb9f3a"
             ],
             [
              0.8888888888888888,
              "#fdca26"
             ],
             [
              1,
              "#f0f921"
             ]
            ],
            "type": "heatmap"
           }
          ],
          "histogram": [
           {
            "marker": {
             "pattern": {
              "fillmode": "overlay",
              "size": 10,
              "solidity": 0.2
             }
            },
            "type": "histogram"
           }
          ],
          "histogram2d": [
           {
            "colorbar": {
             "outlinewidth": 0,
             "ticks": ""
            },
            "colorscale": [
             [
              0,
              "#0d0887"
             ],
             [
              0.1111111111111111,
              "#46039f"
             ],
             [
              0.2222222222222222,
              "#7201a8"
             ],
             [
              0.3333333333333333,
              "#9c179e"
             ],
             [
              0.4444444444444444,
              "#bd3786"
             ],
             [
              0.5555555555555556,
              "#d8576b"
             ],
             [
              0.6666666666666666,
              "#ed7953"
             ],
             [
              0.7777777777777778,
              "#fb9f3a"
             ],
             [
              0.8888888888888888,
              "#fdca26"
             ],
             [
              1,
              "#f0f921"
             ]
            ],
            "type": "histogram2d"
           }
          ],
          "histogram2dcontour": [
           {
            "colorbar": {
             "outlinewidth": 0,
             "ticks": ""
            },
            "colorscale": [
             [
              0,
              "#0d0887"
             ],
             [
              0.1111111111111111,
              "#46039f"
             ],
             [
              0.2222222222222222,
              "#7201a8"
             ],
             [
              0.3333333333333333,
              "#9c179e"
             ],
             [
              0.4444444444444444,
              "#bd3786"
             ],
             [
              0.5555555555555556,
              "#d8576b"
             ],
             [
              0.6666666666666666,
              "#ed7953"
             ],
             [
              0.7777777777777778,
              "#fb9f3a"
             ],
             [
              0.8888888888888888,
              "#fdca26"
             ],
             [
              1,
              "#f0f921"
             ]
            ],
            "type": "histogram2dcontour"
           }
          ],
          "mesh3d": [
           {
            "colorbar": {
             "outlinewidth": 0,
             "ticks": ""
            },
            "type": "mesh3d"
           }
          ],
          "parcoords": [
           {
            "line": {
             "colorbar": {
              "outlinewidth": 0,
              "ticks": ""
             }
            },
            "type": "parcoords"
           }
          ],
          "pie": [
           {
            "automargin": true,
            "type": "pie"
           }
          ],
          "scatter": [
           {
            "fillpattern": {
             "fillmode": "overlay",
             "size": 10,
             "solidity": 0.2
            },
            "type": "scatter"
           }
          ],
          "scatter3d": [
           {
            "line": {
             "colorbar": {
              "outlinewidth": 0,
              "ticks": ""
             }
            },
            "marker": {
             "colorbar": {
              "outlinewidth": 0,
              "ticks": ""
             }
            },
            "type": "scatter3d"
           }
          ],
          "scattercarpet": [
           {
            "marker": {
             "colorbar": {
              "outlinewidth": 0,
              "ticks": ""
             }
            },
            "type": "scattercarpet"
           }
          ],
          "scattergeo": [
           {
            "marker": {
             "colorbar": {
              "outlinewidth": 0,
              "ticks": ""
             }
            },
            "type": "scattergeo"
           }
          ],
          "scattergl": [
           {
            "marker": {
             "colorbar": {
              "outlinewidth": 0,
              "ticks": ""
             }
            },
            "type": "scattergl"
           }
          ],
          "scattermap": [
           {
            "marker": {
             "colorbar": {
              "outlinewidth": 0,
              "ticks": ""
             }
            },
            "type": "scattermap"
           }
          ],
          "scattermapbox": [
           {
            "marker": {
             "colorbar": {
              "outlinewidth": 0,
              "ticks": ""
             }
            },
            "type": "scattermapbox"
           }
          ],
          "scatterpolar": [
           {
            "marker": {
             "colorbar": {
              "outlinewidth": 0,
              "ticks": ""
             }
            },
            "type": "scatterpolar"
           }
          ],
          "scatterpolargl": [
           {
            "marker": {
             "colorbar": {
              "outlinewidth": 0,
              "ticks": ""
             }
            },
            "type": "scatterpolargl"
           }
          ],
          "scatterternary": [
           {
            "marker": {
             "colorbar": {
              "outlinewidth": 0,
              "ticks": ""
             }
            },
            "type": "scatterternary"
           }
          ],
          "surface": [
           {
            "colorbar": {
             "outlinewidth": 0,
             "ticks": ""
            },
            "colorscale": [
             [
              0,
              "#0d0887"
             ],
             [
              0.1111111111111111,
              "#46039f"
             ],
             [
              0.2222222222222222,
              "#7201a8"
             ],
             [
              0.3333333333333333,
              "#9c179e"
             ],
             [
              0.4444444444444444,
              "#bd3786"
             ],
             [
              0.5555555555555556,
              "#d8576b"
             ],
             [
              0.6666666666666666,
              "#ed7953"
             ],
             [
              0.7777777777777778,
              "#fb9f3a"
             ],
             [
              0.8888888888888888,
              "#fdca26"
             ],
             [
              1,
              "#f0f921"
             ]
            ],
            "type": "surface"
           }
          ],
          "table": [
           {
            "cells": {
             "fill": {
              "color": "#EBF0F8"
             },
             "line": {
              "color": "white"
             }
            },
            "header": {
             "fill": {
              "color": "#C8D4E3"
             },
             "line": {
              "color": "white"
             }
            },
            "type": "table"
           }
          ]
         },
         "layout": {
          "annotationdefaults": {
           "arrowcolor": "#2a3f5f",
           "arrowhead": 0,
           "arrowwidth": 1
          },
          "autotypenumbers": "strict",
          "coloraxis": {
           "colorbar": {
            "outlinewidth": 0,
            "ticks": ""
           }
          },
          "colorscale": {
           "diverging": [
            [
             0,
             "#8e0152"
            ],
            [
             0.1,
             "#c51b7d"
            ],
            [
             0.2,
             "#de77ae"
            ],
            [
             0.3,
             "#f1b6da"
            ],
            [
             0.4,
             "#fde0ef"
            ],
            [
             0.5,
             "#f7f7f7"
            ],
            [
             0.6,
             "#e6f5d0"
            ],
            [
             0.7,
             "#b8e186"
            ],
            [
             0.8,
             "#7fbc41"
            ],
            [
             0.9,
             "#4d9221"
            ],
            [
             1,
             "#276419"
            ]
           ],
           "sequential": [
            [
             0,
             "#0d0887"
            ],
            [
             0.1111111111111111,
             "#46039f"
            ],
            [
             0.2222222222222222,
             "#7201a8"
            ],
            [
             0.3333333333333333,
             "#9c179e"
            ],
            [
             0.4444444444444444,
             "#bd3786"
            ],
            [
             0.5555555555555556,
             "#d8576b"
            ],
            [
             0.6666666666666666,
             "#ed7953"
            ],
            [
             0.7777777777777778,
             "#fb9f3a"
            ],
            [
             0.8888888888888888,
             "#fdca26"
            ],
            [
             1,
             "#f0f921"
            ]
           ],
           "sequentialminus": [
            [
             0,
             "#0d0887"
            ],
            [
             0.1111111111111111,
             "#46039f"
            ],
            [
             0.2222222222222222,
             "#7201a8"
            ],
            [
             0.3333333333333333,
             "#9c179e"
            ],
            [
             0.4444444444444444,
             "#bd3786"
            ],
            [
             0.5555555555555556,
             "#d8576b"
            ],
            [
             0.6666666666666666,
             "#ed7953"
            ],
            [
             0.7777777777777778,
             "#fb9f3a"
            ],
            [
             0.8888888888888888,
             "#fdca26"
            ],
            [
             1,
             "#f0f921"
            ]
           ]
          },
          "colorway": [
           "#636efa",
           "#EF553B",
           "#00cc96",
           "#ab63fa",
           "#FFA15A",
           "#19d3f3",
           "#FF6692",
           "#B6E880",
           "#FF97FF",
           "#FECB52"
          ],
          "font": {
           "color": "#2a3f5f"
          },
          "geo": {
           "bgcolor": "white",
           "lakecolor": "white",
           "landcolor": "#E5ECF6",
           "showlakes": true,
           "showland": true,
           "subunitcolor": "white"
          },
          "hoverlabel": {
           "align": "left"
          },
          "hovermode": "closest",
          "mapbox": {
           "style": "light"
          },
          "paper_bgcolor": "white",
          "plot_bgcolor": "#E5ECF6",
          "polar": {
           "angularaxis": {
            "gridcolor": "white",
            "linecolor": "white",
            "ticks": ""
           },
           "bgcolor": "#E5ECF6",
           "radialaxis": {
            "gridcolor": "white",
            "linecolor": "white",
            "ticks": ""
           }
          },
          "scene": {
           "xaxis": {
            "backgroundcolor": "#E5ECF6",
            "gridcolor": "white",
            "gridwidth": 2,
            "linecolor": "white",
            "showbackground": true,
            "ticks": "",
            "zerolinecolor": "white"
           },
           "yaxis": {
            "backgroundcolor": "#E5ECF6",
            "gridcolor": "white",
            "gridwidth": 2,
            "linecolor": "white",
            "showbackground": true,
            "ticks": "",
            "zerolinecolor": "white"
           },
           "zaxis": {
            "backgroundcolor": "#E5ECF6",
            "gridcolor": "white",
            "gridwidth": 2,
            "linecolor": "white",
            "showbackground": true,
            "ticks": "",
            "zerolinecolor": "white"
           }
          },
          "shapedefaults": {
           "line": {
            "color": "#2a3f5f"
           }
          },
          "ternary": {
           "aaxis": {
            "gridcolor": "white",
            "linecolor": "white",
            "ticks": ""
           },
           "baxis": {
            "gridcolor": "white",
            "linecolor": "white",
            "ticks": ""
           },
           "bgcolor": "#E5ECF6",
           "caxis": {
            "gridcolor": "white",
            "linecolor": "white",
            "ticks": ""
           }
          },
          "title": {
           "x": 0.05
          },
          "xaxis": {
           "automargin": true,
           "gridcolor": "white",
           "linecolor": "white",
           "ticks": "",
           "title": {
            "standoff": 15
           },
           "zerolinecolor": "white",
           "zerolinewidth": 2
          },
          "yaxis": {
           "automargin": true,
           "gridcolor": "white",
           "linecolor": "white",
           "ticks": "",
           "title": {
            "standoff": 15
           },
           "zerolinecolor": "white",
           "zerolinewidth": 2
          }
         }
        },
        "title": {
         "text": "Probability of Pred. Hidden Risk State for Readmitted Patients within 120 days (Target Event)"
        },
        "xaxis": {
         "anchor": "y",
         "categoryarray": [
          "high",
          "medium",
          "low"
         ],
         "categoryorder": "array",
         "domain": [
          0,
          1
         ],
         "title": {
          "text": "Health Hidden Risk"
         }
        },
        "yaxis": {
         "anchor": "x",
         "domain": [
          0,
          1
         ],
         "title": {
          "text": "Probability of Hidden Risk State"
         }
        }
       }
      }
     },
     "metadata": {},
     "output_type": "display_data"
    },
    {
     "data": {
      "text/html": [
       "<div>\n",
       "<style scoped>\n",
       "    .dataframe tbody tr th:only-of-type {\n",
       "        vertical-align: middle;\n",
       "    }\n",
       "\n",
       "    .dataframe tbody tr th {\n",
       "        vertical-align: top;\n",
       "    }\n",
       "\n",
       "    .dataframe thead th {\n",
       "        text-align: right;\n",
       "    }\n",
       "</style>\n",
       "<table border=\"1\" class=\"dataframe\">\n",
       "  <thead>\n",
       "    <tr style=\"text-align: right;\">\n",
       "      <th></th>\n",
       "      <th>index</th>\n",
       "      <th>SUBJECT_ID</th>\n",
       "      <th>HADM_ID</th>\n",
       "      <th>ADMITTIME</th>\n",
       "      <th>DISCHTIME</th>\n",
       "      <th>ADMISSION_TYPE</th>\n",
       "      <th>ETHNICITY</th>\n",
       "      <th>INSURANCE</th>\n",
       "      <th>HOSPITALIZATION_DAYS</th>\n",
       "      <th>NUM_COMORBIDITIES</th>\n",
       "      <th>...</th>\n",
       "      <th>DISCHARGE_LOCATION_HOME</th>\n",
       "      <th>DISCHARGE_LOCATION_POST_ACUTE_CARE</th>\n",
       "      <th>HEALTH_HIDDEN_RISK</th>\n",
       "      <th>PROB_HIDDEN_RISK_HIGH</th>\n",
       "      <th>PROB_HIDDEN_RISK_MEDIUM</th>\n",
       "      <th>PROB_HIDDEN_RISK_LOW</th>\n",
       "      <th>PAST_COUNT_HIDDEN_RISK_HIGH</th>\n",
       "      <th>PAST_COUNT_HIDDEN_RISK_LOW</th>\n",
       "      <th>PAST_COUNT_HIDDEN_RISK_MEDIUM</th>\n",
       "      <th>HIDDEN_STATE_PROB</th>\n",
       "    </tr>\n",
       "  </thead>\n",
       "  <tbody>\n",
       "    <tr>\n",
       "      <th>3</th>\n",
       "      <td>3</td>\n",
       "      <td>256</td>\n",
       "      <td>188869</td>\n",
       "      <td>2170-06-15 03:06:00</td>\n",
       "      <td>2170-06-27 16:17:00</td>\n",
       "      <td>EMERGENCY</td>\n",
       "      <td>WHITE</td>\n",
       "      <td>Medicare</td>\n",
       "      <td>12.549306</td>\n",
       "      <td>4</td>\n",
       "      <td>...</td>\n",
       "      <td>0</td>\n",
       "      <td>1</td>\n",
       "      <td>high</td>\n",
       "      <td>0.642921</td>\n",
       "      <td>0.245272</td>\n",
       "      <td>0.111807</td>\n",
       "      <td>0</td>\n",
       "      <td>2</td>\n",
       "      <td>0</td>\n",
       "      <td>0.642921</td>\n",
       "    </tr>\n",
       "    <tr>\n",
       "      <th>6</th>\n",
       "      <td>6</td>\n",
       "      <td>323</td>\n",
       "      <td>128132</td>\n",
       "      <td>2119-09-21 20:34:00</td>\n",
       "      <td>2119-10-06 18:50:00</td>\n",
       "      <td>EMERGENCY</td>\n",
       "      <td>WHITE</td>\n",
       "      <td>Medicare</td>\n",
       "      <td>14.927778</td>\n",
       "      <td>4</td>\n",
       "      <td>...</td>\n",
       "      <td>0</td>\n",
       "      <td>1</td>\n",
       "      <td>high</td>\n",
       "      <td>0.852940</td>\n",
       "      <td>0.052581</td>\n",
       "      <td>0.094478</td>\n",
       "      <td>0</td>\n",
       "      <td>2</td>\n",
       "      <td>0</td>\n",
       "      <td>0.852940</td>\n",
       "    </tr>\n",
       "    <tr>\n",
       "      <th>8</th>\n",
       "      <td>8</td>\n",
       "      <td>357</td>\n",
       "      <td>101651</td>\n",
       "      <td>2199-10-20 12:05:00</td>\n",
       "      <td>2199-10-23 17:30:00</td>\n",
       "      <td>EMERGENCY</td>\n",
       "      <td>WHITE</td>\n",
       "      <td>Private</td>\n",
       "      <td>3.225694</td>\n",
       "      <td>5</td>\n",
       "      <td>...</td>\n",
       "      <td>0</td>\n",
       "      <td>1</td>\n",
       "      <td>medium</td>\n",
       "      <td>0.367048</td>\n",
       "      <td>0.474163</td>\n",
       "      <td>0.158788</td>\n",
       "      <td>2</td>\n",
       "      <td>0</td>\n",
       "      <td>1</td>\n",
       "      <td>0.474163</td>\n",
       "    </tr>\n",
       "    <tr>\n",
       "      <th>12</th>\n",
       "      <td>12</td>\n",
       "      <td>518</td>\n",
       "      <td>185375</td>\n",
       "      <td>2111-07-06 14:36:00</td>\n",
       "      <td>2111-07-14 19:30:00</td>\n",
       "      <td>EMERGENCY</td>\n",
       "      <td>BLACK/AFRICAN</td>\n",
       "      <td>Medicare</td>\n",
       "      <td>8.204167</td>\n",
       "      <td>3</td>\n",
       "      <td>...</td>\n",
       "      <td>1</td>\n",
       "      <td>0</td>\n",
       "      <td>low</td>\n",
       "      <td>0.224567</td>\n",
       "      <td>0.268323</td>\n",
       "      <td>0.507110</td>\n",
       "      <td>0</td>\n",
       "      <td>1</td>\n",
       "      <td>6</td>\n",
       "      <td>0.507110</td>\n",
       "    </tr>\n",
       "    <tr>\n",
       "      <th>15</th>\n",
       "      <td>15</td>\n",
       "      <td>665</td>\n",
       "      <td>152089</td>\n",
       "      <td>2119-02-25 20:13:00</td>\n",
       "      <td>2119-02-27 20:53:00</td>\n",
       "      <td>EMERGENCY</td>\n",
       "      <td>BLACK/AFRICAN AMERICAN</td>\n",
       "      <td>Medicaid</td>\n",
       "      <td>2.027778</td>\n",
       "      <td>4</td>\n",
       "      <td>...</td>\n",
       "      <td>1</td>\n",
       "      <td>0</td>\n",
       "      <td>low</td>\n",
       "      <td>0.229609</td>\n",
       "      <td>0.382118</td>\n",
       "      <td>0.388272</td>\n",
       "      <td>0</td>\n",
       "      <td>1</td>\n",
       "      <td>0</td>\n",
       "      <td>0.388272</td>\n",
       "    </tr>\n",
       "    <tr>\n",
       "      <th>...</th>\n",
       "      <td>...</td>\n",
       "      <td>...</td>\n",
       "      <td>...</td>\n",
       "      <td>...</td>\n",
       "      <td>...</td>\n",
       "      <td>...</td>\n",
       "      <td>...</td>\n",
       "      <td>...</td>\n",
       "      <td>...</td>\n",
       "      <td>...</td>\n",
       "      <td>...</td>\n",
       "      <td>...</td>\n",
       "      <td>...</td>\n",
       "      <td>...</td>\n",
       "      <td>...</td>\n",
       "      <td>...</td>\n",
       "      <td>...</td>\n",
       "      <td>...</td>\n",
       "      <td>...</td>\n",
       "      <td>...</td>\n",
       "      <td>...</td>\n",
       "    </tr>\n",
       "    <tr>\n",
       "      <th>1360</th>\n",
       "      <td>1360</td>\n",
       "      <td>98593</td>\n",
       "      <td>176136</td>\n",
       "      <td>2193-02-21 16:51:00</td>\n",
       "      <td>2193-03-05 19:30:00</td>\n",
       "      <td>EMERGENCY</td>\n",
       "      <td>WHITE</td>\n",
       "      <td>Private</td>\n",
       "      <td>12.110417</td>\n",
       "      <td>5</td>\n",
       "      <td>...</td>\n",
       "      <td>0</td>\n",
       "      <td>1</td>\n",
       "      <td>high</td>\n",
       "      <td>0.537195</td>\n",
       "      <td>0.345755</td>\n",
       "      <td>0.117050</td>\n",
       "      <td>1</td>\n",
       "      <td>0</td>\n",
       "      <td>0</td>\n",
       "      <td>0.537195</td>\n",
       "    </tr>\n",
       "    <tr>\n",
       "      <th>1362</th>\n",
       "      <td>1362</td>\n",
       "      <td>99346</td>\n",
       "      <td>177015</td>\n",
       "      <td>2142-05-13 13:17:00</td>\n",
       "      <td>2142-05-24 17:20:00</td>\n",
       "      <td>EMERGENCY</td>\n",
       "      <td>WHITE</td>\n",
       "      <td>Medicare</td>\n",
       "      <td>11.168750</td>\n",
       "      <td>4</td>\n",
       "      <td>...</td>\n",
       "      <td>0</td>\n",
       "      <td>1</td>\n",
       "      <td>medium</td>\n",
       "      <td>0.383782</td>\n",
       "      <td>0.492548</td>\n",
       "      <td>0.123670</td>\n",
       "      <td>0</td>\n",
       "      <td>0</td>\n",
       "      <td>1</td>\n",
       "      <td>0.492548</td>\n",
       "    </tr>\n",
       "    <tr>\n",
       "      <th>1363</th>\n",
       "      <td>1363</td>\n",
       "      <td>99384</td>\n",
       "      <td>168087</td>\n",
       "      <td>2117-12-15 18:12:00</td>\n",
       "      <td>2117-12-23 15:25:00</td>\n",
       "      <td>EMERGENCY</td>\n",
       "      <td>WHITE</td>\n",
       "      <td>Medicare</td>\n",
       "      <td>7.884028</td>\n",
       "      <td>6</td>\n",
       "      <td>...</td>\n",
       "      <td>0</td>\n",
       "      <td>1</td>\n",
       "      <td>medium</td>\n",
       "      <td>0.222486</td>\n",
       "      <td>0.754957</td>\n",
       "      <td>0.022557</td>\n",
       "      <td>0</td>\n",
       "      <td>0</td>\n",
       "      <td>1</td>\n",
       "      <td>0.754957</td>\n",
       "    </tr>\n",
       "    <tr>\n",
       "      <th>1364</th>\n",
       "      <td>1364</td>\n",
       "      <td>99439</td>\n",
       "      <td>152370</td>\n",
       "      <td>2179-09-29 16:19:00</td>\n",
       "      <td>2179-10-04 16:45:00</td>\n",
       "      <td>EMERGENCY</td>\n",
       "      <td>BLACK/AFRICAN AMERICAN</td>\n",
       "      <td>Medicare</td>\n",
       "      <td>5.018056</td>\n",
       "      <td>6</td>\n",
       "      <td>...</td>\n",
       "      <td>0</td>\n",
       "      <td>1</td>\n",
       "      <td>medium</td>\n",
       "      <td>0.236987</td>\n",
       "      <td>0.714489</td>\n",
       "      <td>0.048524</td>\n",
       "      <td>1</td>\n",
       "      <td>0</td>\n",
       "      <td>2</td>\n",
       "      <td>0.714489</td>\n",
       "    </tr>\n",
       "    <tr>\n",
       "      <th>1368</th>\n",
       "      <td>1368</td>\n",
       "      <td>99982</td>\n",
       "      <td>112748</td>\n",
       "      <td>2157-01-05 17:27:00</td>\n",
       "      <td>2157-01-12 13:00:00</td>\n",
       "      <td>EMERGENCY</td>\n",
       "      <td>WHITE</td>\n",
       "      <td>Medicare</td>\n",
       "      <td>6.814583</td>\n",
       "      <td>3</td>\n",
       "      <td>...</td>\n",
       "      <td>1</td>\n",
       "      <td>0</td>\n",
       "      <td>medium</td>\n",
       "      <td>0.197584</td>\n",
       "      <td>0.414840</td>\n",
       "      <td>0.387575</td>\n",
       "      <td>1</td>\n",
       "      <td>0</td>\n",
       "      <td>0</td>\n",
       "      <td>0.414840</td>\n",
       "    </tr>\n",
       "  </tbody>\n",
       "</table>\n",
       "<p>721 rows × 66 columns</p>\n",
       "</div>"
      ],
      "text/plain": [
       "      index  SUBJECT_ID  HADM_ID            ADMITTIME            DISCHTIME  \\\n",
       "3         3         256   188869  2170-06-15 03:06:00  2170-06-27 16:17:00   \n",
       "6         6         323   128132  2119-09-21 20:34:00  2119-10-06 18:50:00   \n",
       "8         8         357   101651  2199-10-20 12:05:00  2199-10-23 17:30:00   \n",
       "12       12         518   185375  2111-07-06 14:36:00  2111-07-14 19:30:00   \n",
       "15       15         665   152089  2119-02-25 20:13:00  2119-02-27 20:53:00   \n",
       "...     ...         ...      ...                  ...                  ...   \n",
       "1360   1360       98593   176136  2193-02-21 16:51:00  2193-03-05 19:30:00   \n",
       "1362   1362       99346   177015  2142-05-13 13:17:00  2142-05-24 17:20:00   \n",
       "1363   1363       99384   168087  2117-12-15 18:12:00  2117-12-23 15:25:00   \n",
       "1364   1364       99439   152370  2179-09-29 16:19:00  2179-10-04 16:45:00   \n",
       "1368   1368       99982   112748  2157-01-05 17:27:00  2157-01-12 13:00:00   \n",
       "\n",
       "     ADMISSION_TYPE               ETHNICITY INSURANCE  HOSPITALIZATION_DAYS  \\\n",
       "3         EMERGENCY                   WHITE  Medicare             12.549306   \n",
       "6         EMERGENCY                   WHITE  Medicare             14.927778   \n",
       "8         EMERGENCY                   WHITE   Private              3.225694   \n",
       "12        EMERGENCY           BLACK/AFRICAN  Medicare              8.204167   \n",
       "15        EMERGENCY  BLACK/AFRICAN AMERICAN  Medicaid              2.027778   \n",
       "...             ...                     ...       ...                   ...   \n",
       "1360      EMERGENCY                   WHITE   Private             12.110417   \n",
       "1362      EMERGENCY                   WHITE  Medicare             11.168750   \n",
       "1363      EMERGENCY                   WHITE  Medicare              7.884028   \n",
       "1364      EMERGENCY  BLACK/AFRICAN AMERICAN  Medicare              5.018056   \n",
       "1368      EMERGENCY                   WHITE  Medicare              6.814583   \n",
       "\n",
       "      NUM_COMORBIDITIES  ... DISCHARGE_LOCATION_HOME  \\\n",
       "3                     4  ...                       0   \n",
       "6                     4  ...                       0   \n",
       "8                     5  ...                       0   \n",
       "12                    3  ...                       1   \n",
       "15                    4  ...                       1   \n",
       "...                 ...  ...                     ...   \n",
       "1360                  5  ...                       0   \n",
       "1362                  4  ...                       0   \n",
       "1363                  6  ...                       0   \n",
       "1364                  6  ...                       0   \n",
       "1368                  3  ...                       1   \n",
       "\n",
       "      DISCHARGE_LOCATION_POST_ACUTE_CARE  HEALTH_HIDDEN_RISK  \\\n",
       "3                                      1                high   \n",
       "6                                      1                high   \n",
       "8                                      1              medium   \n",
       "12                                     0                 low   \n",
       "15                                     0                 low   \n",
       "...                                  ...                 ...   \n",
       "1360                                   1                high   \n",
       "1362                                   1              medium   \n",
       "1363                                   1              medium   \n",
       "1364                                   1              medium   \n",
       "1368                                   0              medium   \n",
       "\n",
       "      PROB_HIDDEN_RISK_HIGH PROB_HIDDEN_RISK_MEDIUM  PROB_HIDDEN_RISK_LOW  \\\n",
       "3                  0.642921                0.245272              0.111807   \n",
       "6                  0.852940                0.052581              0.094478   \n",
       "8                  0.367048                0.474163              0.158788   \n",
       "12                 0.224567                0.268323              0.507110   \n",
       "15                 0.229609                0.382118              0.388272   \n",
       "...                     ...                     ...                   ...   \n",
       "1360               0.537195                0.345755              0.117050   \n",
       "1362               0.383782                0.492548              0.123670   \n",
       "1363               0.222486                0.754957              0.022557   \n",
       "1364               0.236987                0.714489              0.048524   \n",
       "1368               0.197584                0.414840              0.387575   \n",
       "\n",
       "     PAST_COUNT_HIDDEN_RISK_HIGH PAST_COUNT_HIDDEN_RISK_LOW  \\\n",
       "3                              0                          2   \n",
       "6                              0                          2   \n",
       "8                              2                          0   \n",
       "12                             0                          1   \n",
       "15                             0                          1   \n",
       "...                          ...                        ...   \n",
       "1360                           1                          0   \n",
       "1362                           0                          0   \n",
       "1363                           0                          0   \n",
       "1364                           1                          0   \n",
       "1368                           1                          0   \n",
       "\n",
       "      PAST_COUNT_HIDDEN_RISK_MEDIUM  HIDDEN_STATE_PROB  \n",
       "3                                 0           0.642921  \n",
       "6                                 0           0.852940  \n",
       "8                                 1           0.474163  \n",
       "12                                6           0.507110  \n",
       "15                                0           0.388272  \n",
       "...                             ...                ...  \n",
       "1360                              0           0.537195  \n",
       "1362                              1           0.492548  \n",
       "1363                              1           0.754957  \n",
       "1364                              2           0.714489  \n",
       "1368                              0           0.414840  \n",
       "\n",
       "[721 rows x 66 columns]"
      ]
     },
     "execution_count": 29,
     "metadata": {},
     "output_type": "execute_result"
    }
   ],
   "source": [
    "import plotly.express as px\n",
    "\n",
    "probs_last_readmissions_df = last_readmissions_with_hmm_features_df.copy()\n",
    "prob_cols = [col for col in probs_last_readmissions_df.columns if col.startswith(\"PROB_HIDDEN_RISK_\")]\n",
    "probs_last_readmissions_df['HIDDEN_STATE_PROB'] = probs_last_readmissions_df[prob_cols].max(axis=1)\n",
    "\n",
    "px.box(probs_last_readmissions_df, x='HEALTH_HIDDEN_RISK', y='HIDDEN_STATE_PROB', color='HEALTH_HIDDEN_RISK',\n",
    "    title=\"Probability of Pred. Hidden Risk State for Readmitted Patients within 120 days (Target Event)\",\n",
    "    labels={'HEALTH_HIDDEN_RISK': 'Health Hidden Risk', 'HIDDEN_STATE_PROB': 'Probability of Hidden Risk State'},\n",
    "    category_orders={'HEALTH_HIDDEN_RISK': hidden_states_ordered},\n",
    "    color_discrete_sequence=px.colors.qualitative.Plotly\n",
    ").update_layout(\n",
    "    xaxis_title=\"Health Hidden Risk\",\n",
    "    yaxis_title=\"Probability of Hidden Risk State\",\n",
    "    legend_title_text=\"Health Hidden Risk\"\n",
    ").show()\n",
    "\n",
    "probs_last_readmissions_df"
   ]
  },
  {
   "cell_type": "code",
   "execution_count": 30,
   "metadata": {},
   "outputs": [
    {
     "data": {
      "text/html": [
       "<div>\n",
       "<style scoped>\n",
       "    .dataframe tbody tr th:only-of-type {\n",
       "        vertical-align: middle;\n",
       "    }\n",
       "\n",
       "    .dataframe tbody tr th {\n",
       "        vertical-align: top;\n",
       "    }\n",
       "\n",
       "    .dataframe thead th {\n",
       "        text-align: right;\n",
       "    }\n",
       "</style>\n",
       "<table border=\"1\" class=\"dataframe\">\n",
       "  <thead>\n",
       "    <tr style=\"text-align: right;\">\n",
       "      <th></th>\n",
       "      <th>HEALTH_HIDDEN_RISK</th>\n",
       "      <th>HIGH</th>\n",
       "      <th>HIGH_STD</th>\n",
       "      <th>MEDIUM</th>\n",
       "      <th>MEDIUM_STD</th>\n",
       "      <th>LOW</th>\n",
       "      <th>LOW_STD</th>\n",
       "      <th>Count</th>\n",
       "    </tr>\n",
       "  </thead>\n",
       "  <tbody>\n",
       "    <tr>\n",
       "      <th>0</th>\n",
       "      <td>high</td>\n",
       "      <td>0.651401</td>\n",
       "      <td>0.197122</td>\n",
       "      <td>0.189206</td>\n",
       "      <td>0.132553</td>\n",
       "      <td>0.158959</td>\n",
       "      <td>0.103901</td>\n",
       "      <td>245</td>\n",
       "    </tr>\n",
       "    <tr>\n",
       "      <th>1</th>\n",
       "      <td>low</td>\n",
       "      <td>0.246567</td>\n",
       "      <td>0.064013</td>\n",
       "      <td>0.257861</td>\n",
       "      <td>0.077834</td>\n",
       "      <td>0.495572</td>\n",
       "      <td>0.081899</td>\n",
       "      <td>125</td>\n",
       "    </tr>\n",
       "    <tr>\n",
       "      <th>2</th>\n",
       "      <td>medium</td>\n",
       "      <td>0.255107</td>\n",
       "      <td>0.089058</td>\n",
       "      <td>0.563665</td>\n",
       "      <td>0.117805</td>\n",
       "      <td>0.181228</td>\n",
       "      <td>0.097158</td>\n",
       "      <td>351</td>\n",
       "    </tr>\n",
       "  </tbody>\n",
       "</table>\n",
       "</div>"
      ],
      "text/plain": [
       "  HEALTH_HIDDEN_RISK      HIGH  HIGH_STD    MEDIUM  MEDIUM_STD       LOW  \\\n",
       "0               high  0.651401  0.197122  0.189206    0.132553  0.158959   \n",
       "1                low  0.246567  0.064013  0.257861    0.077834  0.495572   \n",
       "2             medium  0.255107  0.089058  0.563665    0.117805  0.181228   \n",
       "\n",
       "    LOW_STD  Count  \n",
       "0  0.103901    245  \n",
       "1  0.081899    125  \n",
       "2  0.097158    351  "
      ]
     },
     "execution_count": 30,
     "metadata": {},
     "output_type": "execute_result"
    }
   ],
   "source": [
    "prob_cols = [col for col in probs_last_readmissions_df.columns if col.startswith(\"PROB_HIDDEN_RISK_\")]\n",
    "agg_dict = {col: ['mean', 'std'] for col in prob_cols}\n",
    "agg_dict['HADM_ID'] = 'count'\n",
    "\n",
    "probs_per_hidden_state_summary_df = probs_last_readmissions_df.groupby('HEALTH_HIDDEN_RISK').agg(agg_dict).reset_index().rename(columns={\n",
    "    'HADM_ID': 'Count'})\n",
    "\n",
    "# Flatten the multi-index columns for easier plotting\n",
    "probs_per_hidden_state_summary_df.columns = ['_'.join(col).strip() for col in probs_per_hidden_state_summary_df.columns.values]\n",
    "\n",
    "# Rename columns for clarity\n",
    "mean_cols = [col for col in probs_per_hidden_state_summary_df.columns if '_mean' in col]\n",
    "std_cols = [col for col in probs_per_hidden_state_summary_df.columns if '_std' in col]\n",
    "rename_mean_dict = {col: col.replace('_mean', '').replace('PROB_HIDDEN_RISK_', '') for col in mean_cols}\n",
    "rename_std_dict = {col: col.replace('_std', '_STD').replace('PROB_HIDDEN_RISK_', '') for col in std_cols}\n",
    "rename_dict = {**rename_mean_dict, **rename_std_dict, 'HEALTH_HIDDEN_RISK_': 'HEALTH_HIDDEN_RISK', 'Count_count': 'Count'}\n",
    "probs_per_hidden_state_summary_df = probs_per_hidden_state_summary_df.rename(columns=rename_dict)\n",
    "probs_per_hidden_state_summary_df\n"
   ]
  },
  {
   "cell_type": "code",
   "execution_count": 31,
   "metadata": {},
   "outputs": [
    {
     "data": {
      "application/vnd.plotly.v1+json": {
       "config": {
        "plotlyServerURL": "https://plot.ly"
       },
       "data": [
        {
         "error_y": {
          "array": {
           "bdata": "ETavsE07yT8=",
           "dtype": "f8"
          }
         },
         "hovertemplate": "Probability Hidden Risk=%{x}<br>Health Hidden Risk=high<br>Mean Probability=%{y}<extra></extra>",
         "legendgroup": "HIGH",
         "marker": {
          "color": "#636EFA",
          "pattern": {
           "shape": ""
          }
         },
         "name": "HIGH",
         "orientation": "v",
         "showlegend": true,
         "textposition": "auto",
         "type": "bar",
         "x": [
          "HIGH"
         ],
         "xaxis": "x3",
         "y": {
          "bdata": "btu2HUbY5D8=",
          "dtype": "f8"
         },
         "yaxis": "y3"
        },
        {
         "error_y": {
          "array": {
           "bdata": "bw9oq4L3wD8=",
           "dtype": "f8"
          }
         },
         "hovertemplate": "Probability Hidden Risk=%{x}<br>Health Hidden Risk=high<br>Mean Probability=%{y}<extra></extra>",
         "legendgroup": "MEDIUM",
         "marker": {
          "color": "#EF553B",
          "pattern": {
           "shape": ""
          }
         },
         "name": "MEDIUM",
         "orientation": "v",
         "showlegend": true,
         "textposition": "auto",
         "type": "bar",
         "x": [
          "MEDIUM"
         ],
         "xaxis": "x3",
         "y": {
          "bdata": "bDhiXOc3yD8=",
          "dtype": "f8"
         },
         "yaxis": "y3"
        },
        {
         "error_y": {
          "array": {
           "bdata": "fS700USZuj8=",
           "dtype": "f8"
          }
         },
         "hovertemplate": "Probability Hidden Risk=%{x}<br>Health Hidden Risk=high<br>Mean Probability=%{y}<extra></extra>",
         "legendgroup": "LOW",
         "marker": {
          "color": "#00CC96",
          "pattern": {
           "shape": ""
          }
         },
         "name": "LOW",
         "orientation": "v",
         "showlegend": true,
         "textposition": "auto",
         "type": "bar",
         "x": [
          "LOW"
         ],
         "xaxis": "x3",
         "y": {
          "bdata": "NRwxz8RYxD8=",
          "dtype": "f8"
         },
         "yaxis": "y3"
        },
        {
         "error_y": {
          "array": {
           "bdata": "xvTYu3/Mtj8=",
           "dtype": "f8"
          }
         },
         "hovertemplate": "Probability Hidden Risk=%{x}<br>Health Hidden Risk=medium<br>Mean Probability=%{y}<extra></extra>",
         "legendgroup": "HIGH",
         "marker": {
          "color": "#636EFA",
          "pattern": {
           "shape": ""
          }
         },
         "name": "HIGH",
         "orientation": "v",
         "showlegend": false,
         "textposition": "auto",
         "type": "bar",
         "x": [
          "HIGH"
         ],
         "xaxis": "x4",
         "y": {
          "bdata": "1yg41apT0D8=",
          "dtype": "f8"
         },
         "yaxis": "y4"
        },
        {
         "error_y": {
          "array": {
           "bdata": "RvZodHgovj8=",
           "dtype": "f8"
          }
         },
         "hovertemplate": "Probability Hidden Risk=%{x}<br>Health Hidden Risk=medium<br>Mean Probability=%{y}<extra></extra>",
         "legendgroup": "MEDIUM",
         "marker": {
          "color": "#EF553B",
          "pattern": {
           "shape": ""
          }
         },
         "name": "MEDIUM",
         "orientation": "v",
         "showlegend": false,
         "textposition": "auto",
         "type": "bar",
         "x": [
          "MEDIUM"
         ],
         "xaxis": "x4",
         "y": {
          "bdata": "LLzC+4oJ4j8=",
          "dtype": "f8"
         },
         "yaxis": "y4"
        },
        {
         "error_y": {
          "array": {
           "bdata": "c0/0B1LfuD8=",
           "dtype": "f8"
          }
         },
         "hovertemplate": "Probability Hidden Risk=%{x}<br>Health Hidden Risk=medium<br>Mean Probability=%{y}<extra></extra>",
         "legendgroup": "LOW",
         "marker": {
          "color": "#00CC96",
          "pattern": {
           "shape": ""
          }
         },
         "name": "LOW",
         "orientation": "v",
         "showlegend": false,
         "textposition": "auto",
         "type": "bar",
         "x": [
          "LOW"
         ],
         "xaxis": "x4",
         "y": {
          "bdata": "M0iDOHsyxz8=",
          "dtype": "f8"
         },
         "yaxis": "y4"
        },
        {
         "error_y": {
          "array": {
           "bdata": "rucVAyJjsD8=",
           "dtype": "f8"
          }
         },
         "hovertemplate": "Probability Hidden Risk=%{x}<br>Health Hidden Risk=low<br>Mean Probability=%{y}<extra></extra>",
         "legendgroup": "HIGH",
         "marker": {
          "color": "#636EFA",
          "pattern": {
           "shape": ""
          }
         },
         "name": "HIGH",
         "orientation": "v",
         "showlegend": false,
         "textposition": "auto",
         "type": "bar",
         "x": [
          "HIGH"
         ],
         "xaxis": "x",
         "y": {
          "bdata": "NolBgIGPzz8=",
          "dtype": "f8"
         },
         "yaxis": "y"
        },
        {
         "error_y": {
          "array": {
           "bdata": "snBA6PTssz8=",
           "dtype": "f8"
          }
         },
         "hovertemplate": "Probability Hidden Risk=%{x}<br>Health Hidden Risk=low<br>Mean Probability=%{y}<extra></extra>",
         "legendgroup": "MEDIUM",
         "marker": {
          "color": "#EF553B",
          "pattern": {
           "shape": ""
          }
         },
         "name": "MEDIUM",
         "orientation": "v",
         "showlegend": false,
         "textposition": "auto",
         "type": "bar",
         "x": [
          "MEDIUM"
         ],
         "xaxis": "x",
         "y": {
          "bdata": "2vl+2sqA0D8=",
          "dtype": "f8"
         },
         "yaxis": "y"
        },
        {
         "error_y": {
          "array": {
           "bdata": "a9bvBVz3tD8=",
           "dtype": "f8"
          }
         },
         "hovertemplate": "Probability Hidden Risk=%{x}<br>Health Hidden Risk=low<br>Mean Probability=%{y}<extra></extra>",
         "legendgroup": "LOW",
         "marker": {
          "color": "#00CC96",
          "pattern": {
           "shape": ""
          }
         },
         "name": "LOW",
         "orientation": "v",
         "showlegend": false,
         "textposition": "auto",
         "type": "bar",
         "x": [
          "LOW"
         ],
         "xaxis": "x",
         "y": {
          "bdata": "c2iRzXK33z8=",
          "dtype": "f8"
         },
         "yaxis": "y"
        }
       ],
       "layout": {
        "annotations": [
         {
          "font": {},
          "showarrow": false,
          "text": "Health Hidden Risk=low",
          "x": 0.245,
          "xanchor": "center",
          "xref": "paper",
          "y": 0.46499999999999997,
          "yanchor": "bottom",
          "yref": "paper"
         },
         {
          "font": {},
          "showarrow": false,
          "text": "Health Hidden Risk=high",
          "x": 0.245,
          "xanchor": "center",
          "xref": "paper",
          "y": 0.9999999999999999,
          "yanchor": "bottom",
          "yref": "paper"
         },
         {
          "font": {},
          "showarrow": false,
          "text": "Health Hidden Risk=medium",
          "x": 0.755,
          "xanchor": "center",
          "xref": "paper",
          "y": 0.9999999999999999,
          "yanchor": "bottom",
          "yref": "paper"
         }
        ],
        "barmode": "relative",
        "height": 600,
        "legend": {
         "title": {
          "text": "Probability Hidden Risk"
         },
         "tracegroupgap": 0
        },
        "template": {
         "data": {
          "bar": [
           {
            "error_x": {
             "color": "#2a3f5f"
            },
            "error_y": {
             "color": "#2a3f5f"
            },
            "marker": {
             "line": {
              "color": "#E5ECF6",
              "width": 0.5
             },
             "pattern": {
              "fillmode": "overlay",
              "size": 10,
              "solidity": 0.2
             }
            },
            "type": "bar"
           }
          ],
          "barpolar": [
           {
            "marker": {
             "line": {
              "color": "#E5ECF6",
              "width": 0.5
             },
             "pattern": {
              "fillmode": "overlay",
              "size": 10,
              "solidity": 0.2
             }
            },
            "type": "barpolar"
           }
          ],
          "carpet": [
           {
            "aaxis": {
             "endlinecolor": "#2a3f5f",
             "gridcolor": "white",
             "linecolor": "white",
             "minorgridcolor": "white",
             "startlinecolor": "#2a3f5f"
            },
            "baxis": {
             "endlinecolor": "#2a3f5f",
             "gridcolor": "white",
             "linecolor": "white",
             "minorgridcolor": "white",
             "startlinecolor": "#2a3f5f"
            },
            "type": "carpet"
           }
          ],
          "choropleth": [
           {
            "colorbar": {
             "outlinewidth": 0,
             "ticks": ""
            },
            "type": "choropleth"
           }
          ],
          "contour": [
           {
            "colorbar": {
             "outlinewidth": 0,
             "ticks": ""
            },
            "colorscale": [
             [
              0,
              "#0d0887"
             ],
             [
              0.1111111111111111,
              "#46039f"
             ],
             [
              0.2222222222222222,
              "#7201a8"
             ],
             [
              0.3333333333333333,
              "#9c179e"
             ],
             [
              0.4444444444444444,
              "#bd3786"
             ],
             [
              0.5555555555555556,
              "#d8576b"
             ],
             [
              0.6666666666666666,
              "#ed7953"
             ],
             [
              0.7777777777777778,
              "#fb9f3a"
             ],
             [
              0.8888888888888888,
              "#fdca26"
             ],
             [
              1,
              "#f0f921"
             ]
            ],
            "type": "contour"
           }
          ],
          "contourcarpet": [
           {
            "colorbar": {
             "outlinewidth": 0,
             "ticks": ""
            },
            "type": "contourcarpet"
           }
          ],
          "heatmap": [
           {
            "colorbar": {
             "outlinewidth": 0,
             "ticks": ""
            },
            "colorscale": [
             [
              0,
              "#0d0887"
             ],
             [
              0.1111111111111111,
              "#46039f"
             ],
             [
              0.2222222222222222,
              "#7201a8"
             ],
             [
              0.3333333333333333,
              "#9c179e"
             ],
             [
              0.4444444444444444,
              "#bd3786"
             ],
             [
              0.5555555555555556,
              "#d8576b"
             ],
             [
              0.6666666666666666,
              "#ed7953"
             ],
             [
              0.7777777777777778,
              "#fb9f3a"
             ],
             [
              0.8888888888888888,
              "#fdca26"
             ],
             [
              1,
              "#f0f921"
             ]
            ],
            "type": "heatmap"
           }
          ],
          "histogram": [
           {
            "marker": {
             "pattern": {
              "fillmode": "overlay",
              "size": 10,
              "solidity": 0.2
             }
            },
            "type": "histogram"
           }
          ],
          "histogram2d": [
           {
            "colorbar": {
             "outlinewidth": 0,
             "ticks": ""
            },
            "colorscale": [
             [
              0,
              "#0d0887"
             ],
             [
              0.1111111111111111,
              "#46039f"
             ],
             [
              0.2222222222222222,
              "#7201a8"
             ],
             [
              0.3333333333333333,
              "#9c179e"
             ],
             [
              0.4444444444444444,
              "#bd3786"
             ],
             [
              0.5555555555555556,
              "#d8576b"
             ],
             [
              0.6666666666666666,
              "#ed7953"
             ],
             [
              0.7777777777777778,
              "#fb9f3a"
             ],
             [
              0.8888888888888888,
              "#fdca26"
             ],
             [
              1,
              "#f0f921"
             ]
            ],
            "type": "histogram2d"
           }
          ],
          "histogram2dcontour": [
           {
            "colorbar": {
             "outlinewidth": 0,
             "ticks": ""
            },
            "colorscale": [
             [
              0,
              "#0d0887"
             ],
             [
              0.1111111111111111,
              "#46039f"
             ],
             [
              0.2222222222222222,
              "#7201a8"
             ],
             [
              0.3333333333333333,
              "#9c179e"
             ],
             [
              0.4444444444444444,
              "#bd3786"
             ],
             [
              0.5555555555555556,
              "#d8576b"
             ],
             [
              0.6666666666666666,
              "#ed7953"
             ],
             [
              0.7777777777777778,
              "#fb9f3a"
             ],
             [
              0.8888888888888888,
              "#fdca26"
             ],
             [
              1,
              "#f0f921"
             ]
            ],
            "type": "histogram2dcontour"
           }
          ],
          "mesh3d": [
           {
            "colorbar": {
             "outlinewidth": 0,
             "ticks": ""
            },
            "type": "mesh3d"
           }
          ],
          "parcoords": [
           {
            "line": {
             "colorbar": {
              "outlinewidth": 0,
              "ticks": ""
             }
            },
            "type": "parcoords"
           }
          ],
          "pie": [
           {
            "automargin": true,
            "type": "pie"
           }
          ],
          "scatter": [
           {
            "fillpattern": {
             "fillmode": "overlay",
             "size": 10,
             "solidity": 0.2
            },
            "type": "scatter"
           }
          ],
          "scatter3d": [
           {
            "line": {
             "colorbar": {
              "outlinewidth": 0,
              "ticks": ""
             }
            },
            "marker": {
             "colorbar": {
              "outlinewidth": 0,
              "ticks": ""
             }
            },
            "type": "scatter3d"
           }
          ],
          "scattercarpet": [
           {
            "marker": {
             "colorbar": {
              "outlinewidth": 0,
              "ticks": ""
             }
            },
            "type": "scattercarpet"
           }
          ],
          "scattergeo": [
           {
            "marker": {
             "colorbar": {
              "outlinewidth": 0,
              "ticks": ""
             }
            },
            "type": "scattergeo"
           }
          ],
          "scattergl": [
           {
            "marker": {
             "colorbar": {
              "outlinewidth": 0,
              "ticks": ""
             }
            },
            "type": "scattergl"
           }
          ],
          "scattermap": [
           {
            "marker": {
             "colorbar": {
              "outlinewidth": 0,
              "ticks": ""
             }
            },
            "type": "scattermap"
           }
          ],
          "scattermapbox": [
           {
            "marker": {
             "colorbar": {
              "outlinewidth": 0,
              "ticks": ""
             }
            },
            "type": "scattermapbox"
           }
          ],
          "scatterpolar": [
           {
            "marker": {
             "colorbar": {
              "outlinewidth": 0,
              "ticks": ""
             }
            },
            "type": "scatterpolar"
           }
          ],
          "scatterpolargl": [
           {
            "marker": {
             "colorbar": {
              "outlinewidth": 0,
              "ticks": ""
             }
            },
            "type": "scatterpolargl"
           }
          ],
          "scatterternary": [
           {
            "marker": {
             "colorbar": {
              "outlinewidth": 0,
              "ticks": ""
             }
            },
            "type": "scatterternary"
           }
          ],
          "surface": [
           {
            "colorbar": {
             "outlinewidth": 0,
             "ticks": ""
            },
            "colorscale": [
             [
              0,
              "#0d0887"
             ],
             [
              0.1111111111111111,
              "#46039f"
             ],
             [
              0.2222222222222222,
              "#7201a8"
             ],
             [
              0.3333333333333333,
              "#9c179e"
             ],
             [
              0.4444444444444444,
              "#bd3786"
             ],
             [
              0.5555555555555556,
              "#d8576b"
             ],
             [
              0.6666666666666666,
              "#ed7953"
             ],
             [
              0.7777777777777778,
              "#fb9f3a"
             ],
             [
              0.8888888888888888,
              "#fdca26"
             ],
             [
              1,
              "#f0f921"
             ]
            ],
            "type": "surface"
           }
          ],
          "table": [
           {
            "cells": {
             "fill": {
              "color": "#EBF0F8"
             },
             "line": {
              "color": "white"
             }
            },
            "header": {
             "fill": {
              "color": "#C8D4E3"
             },
             "line": {
              "color": "white"
             }
            },
            "type": "table"
           }
          ]
         },
         "layout": {
          "annotationdefaults": {
           "arrowcolor": "#2a3f5f",
           "arrowhead": 0,
           "arrowwidth": 1
          },
          "autotypenumbers": "strict",
          "coloraxis": {
           "colorbar": {
            "outlinewidth": 0,
            "ticks": ""
           }
          },
          "colorscale": {
           "diverging": [
            [
             0,
             "#8e0152"
            ],
            [
             0.1,
             "#c51b7d"
            ],
            [
             0.2,
             "#de77ae"
            ],
            [
             0.3,
             "#f1b6da"
            ],
            [
             0.4,
             "#fde0ef"
            ],
            [
             0.5,
             "#f7f7f7"
            ],
            [
             0.6,
             "#e6f5d0"
            ],
            [
             0.7,
             "#b8e186"
            ],
            [
             0.8,
             "#7fbc41"
            ],
            [
             0.9,
             "#4d9221"
            ],
            [
             1,
             "#276419"
            ]
           ],
           "sequential": [
            [
             0,
             "#0d0887"
            ],
            [
             0.1111111111111111,
             "#46039f"
            ],
            [
             0.2222222222222222,
             "#7201a8"
            ],
            [
             0.3333333333333333,
             "#9c179e"
            ],
            [
             0.4444444444444444,
             "#bd3786"
            ],
            [
             0.5555555555555556,
             "#d8576b"
            ],
            [
             0.6666666666666666,
             "#ed7953"
            ],
            [
             0.7777777777777778,
             "#fb9f3a"
            ],
            [
             0.8888888888888888,
             "#fdca26"
            ],
            [
             1,
             "#f0f921"
            ]
           ],
           "sequentialminus": [
            [
             0,
             "#0d0887"
            ],
            [
             0.1111111111111111,
             "#46039f"
            ],
            [
             0.2222222222222222,
             "#7201a8"
            ],
            [
             0.3333333333333333,
             "#9c179e"
            ],
            [
             0.4444444444444444,
             "#bd3786"
            ],
            [
             0.5555555555555556,
             "#d8576b"
            ],
            [
             0.6666666666666666,
             "#ed7953"
            ],
            [
             0.7777777777777778,
             "#fb9f3a"
            ],
            [
             0.8888888888888888,
             "#fdca26"
            ],
            [
             1,
             "#f0f921"
            ]
           ]
          },
          "colorway": [
           "#636efa",
           "#EF553B",
           "#00cc96",
           "#ab63fa",
           "#FFA15A",
           "#19d3f3",
           "#FF6692",
           "#B6E880",
           "#FF97FF",
           "#FECB52"
          ],
          "font": {
           "color": "#2a3f5f"
          },
          "geo": {
           "bgcolor": "white",
           "lakecolor": "white",
           "landcolor": "#E5ECF6",
           "showlakes": true,
           "showland": true,
           "subunitcolor": "white"
          },
          "hoverlabel": {
           "align": "left"
          },
          "hovermode": "closest",
          "mapbox": {
           "style": "light"
          },
          "paper_bgcolor": "white",
          "plot_bgcolor": "#E5ECF6",
          "polar": {
           "angularaxis": {
            "gridcolor": "white",
            "linecolor": "white",
            "ticks": ""
           },
           "bgcolor": "#E5ECF6",
           "radialaxis": {
            "gridcolor": "white",
            "linecolor": "white",
            "ticks": ""
           }
          },
          "scene": {
           "xaxis": {
            "backgroundcolor": "#E5ECF6",
            "gridcolor": "white",
            "gridwidth": 2,
            "linecolor": "white",
            "showbackground": true,
            "ticks": "",
            "zerolinecolor": "white"
           },
           "yaxis": {
            "backgroundcolor": "#E5ECF6",
            "gridcolor": "white",
            "gridwidth": 2,
            "linecolor": "white",
            "showbackground": true,
            "ticks": "",
            "zerolinecolor": "white"
           },
           "zaxis": {
            "backgroundcolor": "#E5ECF6",
            "gridcolor": "white",
            "gridwidth": 2,
            "linecolor": "white",
            "showbackground": true,
            "ticks": "",
            "zerolinecolor": "white"
           }
          },
          "shapedefaults": {
           "line": {
            "color": "#2a3f5f"
           }
          },
          "ternary": {
           "aaxis": {
            "gridcolor": "white",
            "linecolor": "white",
            "ticks": ""
           },
           "baxis": {
            "gridcolor": "white",
            "linecolor": "white",
            "ticks": ""
           },
           "bgcolor": "#E5ECF6",
           "caxis": {
            "gridcolor": "white",
            "linecolor": "white",
            "ticks": ""
           }
          },
          "title": {
           "x": 0.05
          },
          "xaxis": {
           "automargin": true,
           "gridcolor": "white",
           "linecolor": "white",
           "ticks": "",
           "title": {
            "standoff": 15
           },
           "zerolinecolor": "white",
           "zerolinewidth": 2
          },
          "yaxis": {
           "automargin": true,
           "gridcolor": "white",
           "linecolor": "white",
           "ticks": "",
           "title": {
            "standoff": 15
           },
           "zerolinecolor": "white",
           "zerolinewidth": 2
          }
         }
        },
        "title": {
         "text": "Distribution of Probabilities with Standard Deviation"
        },
        "xaxis": {
         "anchor": "y",
         "categoryarray": [
          "HIGH",
          "MEDIUM",
          "LOW"
         ],
         "categoryorder": "array",
         "domain": [
          0,
          0.49
         ],
         "tickangle": -45,
         "title": {
          "text": "Probability Hidden Risk"
         }
        },
        "xaxis2": {
         "anchor": "y2",
         "categoryarray": [
          "HIGH",
          "MEDIUM",
          "LOW"
         ],
         "categoryorder": "array",
         "domain": [
          0.51,
          1
         ],
         "matches": "x",
         "tickangle": -45,
         "title": {
          "text": "Probability Hidden Risk"
         }
        },
        "xaxis3": {
         "anchor": "y3",
         "domain": [
          0,
          0.49
         ],
         "matches": "x",
         "showticklabels": false,
         "tickangle": -45
        },
        "xaxis4": {
         "anchor": "y4",
         "domain": [
          0.51,
          1
         ],
         "matches": "x",
         "showticklabels": false,
         "tickangle": -45
        },
        "yaxis": {
         "anchor": "x",
         "domain": [
          0,
          0.46499999999999997
         ],
         "title": {
          "text": "Mean Probability"
         }
        },
        "yaxis2": {
         "anchor": "x2",
         "domain": [
          0,
          0.46499999999999997
         ],
         "matches": "y",
         "showticklabels": false
        },
        "yaxis3": {
         "anchor": "x3",
         "domain": [
          0.5349999999999999,
          0.9999999999999999
         ],
         "matches": "y",
         "title": {
          "text": "Mean Probability"
         }
        },
        "yaxis4": {
         "anchor": "x4",
         "domain": [
          0.5349999999999999,
          0.9999999999999999
         ],
         "matches": "y",
         "showticklabels": false
        }
       }
      }
     },
     "metadata": {},
     "output_type": "display_data"
    }
   ],
   "source": [
    "\n",
    "# Melt the dataframe for easier plotting\n",
    "melted_df = probs_per_hidden_state_summary_df.melt(\n",
    "    id_vars=['HEALTH_HIDDEN_RISK'],\n",
    "    value_vars=[label for label in rename_mean_dict.values()],\n",
    "    var_name='Probability_Type',\n",
    "    value_name='Mean_Probability'\n",
    ")\n",
    "\n",
    "# Add standard deviation values\n",
    "std_values = probs_per_hidden_state_summary_df.melt(\n",
    "    id_vars=['HEALTH_HIDDEN_RISK'],\n",
    "    value_vars=[label for label in rename_std_dict.values()],\n",
    "    var_name='Probability_Type_Std',\n",
    "    value_name='Std_Deviation'\n",
    ")\n",
    "\n",
    "# Merge mean and std data\n",
    "melted_df['Std_Deviation'] = std_values['Std_Deviation']\n",
    "\n",
    "# Plot using Plotly\n",
    "fig = px.bar(\n",
    "    melted_df,\n",
    "    x='Probability_Type',\n",
    "    y='Mean_Probability',\n",
    "    error_y='Std_Deviation',\n",
    "    color='Probability_Type',\n",
    "    facet_col='HEALTH_HIDDEN_RISK',\n",
    "    facet_col_wrap=2,\n",
    "    title=\"Distribution of Probabilities with Standard Deviation\",\n",
    "    labels={'Probability_Type': 'Probability Hidden Risk', 'Mean_Probability': 'Mean Probability', 'HEALTH_HIDDEN_RISK': 'Health Hidden Risk'},\n",
    "    category_orders={'HEALTH_HIDDEN_RISK': hidden_states_ordered},\n",
    "    color_discrete_sequence=px.colors.qualitative.Plotly,\n",
    "    height=600\n",
    ")\n",
    "\n",
    "fig.update_layout(\n",
    "    xaxis_title=\"Probability Hidden Risk\",\n",
    "    yaxis_title=\"Mean Probability\",\n",
    "    legend_title_text=\"Probability Hidden Risk\",\n",
    ")\n",
    "\n",
    "# Apply tick angle to all x-axes in the facets\n",
    "for axis in fig.layout:\n",
    "    if axis.startswith('xaxis'):\n",
    "        fig.layout[axis].tickangle = -45\n",
    "\n",
    "fig.show()"
   ]
  },
  {
   "cell_type": "markdown",
   "metadata": {},
   "source": [
    "## Historical Events with HMM Features"
   ]
  },
  {
   "cell_type": "code",
   "execution_count": 2,
   "metadata": {},
   "outputs": [],
   "source": [
    "model_name = \"hmm_mimic_time_log_gamma\"\n",
    "model_dir = f\"/workspaces/master-thesis-recurrent-health-events-prediction/_models/mimic/hmm/{model_name}\"\n",
    "filepath = os.path.join(model_dir, \"training_seq_with_probs.csv\")\n",
    "historical_events_hmm_features_df = pd.read_csv(filepath)"
   ]
  },
  {
   "cell_type": "code",
   "execution_count": 3,
   "metadata": {},
   "outputs": [],
   "source": [
    "historical_events_hmm_features_df['ADMITTIME'] = pd.to_datetime(historical_events_hmm_features_df['ADMITTIME'])\n",
    "historical_events_hmm_features_df['DISCHTIME'] = pd.to_datetime(historical_events_hmm_features_df['DISCHTIME'])"
   ]
  },
  {
   "cell_type": "code",
   "execution_count": 4,
   "metadata": {},
   "outputs": [
    {
     "name": "stdout",
     "output_type": "stream",
     "text": [
      "Loading model from /workspaces/master-thesis-recurrent-health-events-prediction/_models/mimic/hmm/hmm_mimic_time_log_gamma/hmm_mimic_time_log_gamma.pkl\n"
     ]
    }
   ],
   "source": [
    "from recurrent_health_events_prediction.model.RecurrentHealthEventsHMM import RecurrentHealthEventsHMM\n",
    "from recurrent_health_events_prediction.model.utils import load_model\n",
    "\n",
    "model_path = os.path.join(model_dir, f\"{model_name}.pkl\")\n",
    "print(f\"Loading model from {model_path}\")\n",
    "hmm_feature_extractor_model: RecurrentHealthEventsHMM = load_model(model_path)"
   ]
  },
  {
   "cell_type": "code",
   "execution_count": 5,
   "metadata": {},
   "outputs": [
    {
     "data": {
      "text/html": [
       "<style type=\"text/css\">\n",
       "#T_f2a39 th {\n",
       "  font-size: 12px;\n",
       "  text-align: center;\n",
       "}\n",
       "#T_f2a39 td {\n",
       "  font-size: 12px;\n",
       "  text-align: center;\n",
       "}\n",
       "#T_f2a39_row0_col0, #T_f2a39_row0_col1, #T_f2a39_row0_col2, #T_f2a39_row0_col3, #T_f2a39_row0_col4, #T_f2a39_row0_col5, #T_f2a39_row0_col6, #T_f2a39_row0_col7, #T_f2a39_row0_col8, #T_f2a39_row1_col0, #T_f2a39_row1_col1, #T_f2a39_row1_col2, #T_f2a39_row1_col3, #T_f2a39_row1_col4, #T_f2a39_row1_col5, #T_f2a39_row1_col6, #T_f2a39_row1_col7, #T_f2a39_row1_col8, #T_f2a39_row2_col0, #T_f2a39_row2_col1, #T_f2a39_row2_col2, #T_f2a39_row2_col3, #T_f2a39_row2_col4, #T_f2a39_row2_col5, #T_f2a39_row2_col6, #T_f2a39_row2_col7, #T_f2a39_row2_col8 {\n",
       "  border: 1px solid black;\n",
       "  padding: 5px;\n",
       "}\n",
       "</style>\n",
       "<table id=\"T_f2a39\">\n",
       "  <thead>\n",
       "    <tr>\n",
       "      <th class=\"blank level0\" >&nbsp;</th>\n",
       "      <th id=\"T_f2a39_level0_col0\" class=\"col_heading level0 col0\" >State</th>\n",
       "      <th id=\"T_f2a39_level0_col1\" class=\"col_heading level0 col1\" >State Label</th>\n",
       "      <th id=\"T_f2a39_level0_col2\" class=\"col_heading level0 col2\" >CHARLSON_INDEX</th>\n",
       "      <th id=\"T_f2a39_level0_col3\" class=\"col_heading level0 col3\" >DISCHARGE_LOCATION_POST_ACUTE_CARE</th>\n",
       "      <th id=\"T_f2a39_level0_col4\" class=\"col_heading level0 col4\" colspan=\"2\">LOG_DAYS_IN_ICU</th>\n",
       "      <th id=\"T_f2a39_level0_col6\" class=\"col_heading level0 col6\" colspan=\"3\">LOG_DAYS_UNTIL_NEXT_HOSPITALIZATION</th>\n",
       "    </tr>\n",
       "    <tr>\n",
       "      <th class=\"blank level1\" >&nbsp;</th>\n",
       "      <th id=\"T_f2a39_level1_col0\" class=\"col_heading level1 col0\" ></th>\n",
       "      <th id=\"T_f2a39_level1_col1\" class=\"col_heading level1 col1\" ></th>\n",
       "      <th id=\"T_f2a39_level1_col2\" class=\"col_heading level1 col2\" >Lambda</th>\n",
       "      <th id=\"T_f2a39_level1_col3\" class=\"col_heading level1 col3\" >Probability</th>\n",
       "      <th id=\"T_f2a39_level1_col4\" class=\"col_heading level1 col4\" >Mean</th>\n",
       "      <th id=\"T_f2a39_level1_col5\" class=\"col_heading level1 col5\" >Cov</th>\n",
       "      <th id=\"T_f2a39_level1_col6\" class=\"col_heading level1 col6\" >Shape</th>\n",
       "      <th id=\"T_f2a39_level1_col7\" class=\"col_heading level1 col7\" >Rate</th>\n",
       "      <th id=\"T_f2a39_level1_col8\" class=\"col_heading level1 col8\" >Expected Value</th>\n",
       "    </tr>\n",
       "  </thead>\n",
       "  <tbody>\n",
       "    <tr>\n",
       "      <th id=\"T_f2a39_level0_row0\" class=\"row_heading level0 row0\" >0</th>\n",
       "      <td id=\"T_f2a39_row0_col0\" class=\"data row0 col0\" >0</td>\n",
       "      <td id=\"T_f2a39_row0_col1\" class=\"data row0 col1\" >low</td>\n",
       "      <td id=\"T_f2a39_row0_col2\" class=\"data row0 col2\" >4.031627</td>\n",
       "      <td id=\"T_f2a39_row0_col3\" class=\"data row0 col3\" >0.266962</td>\n",
       "      <td id=\"T_f2a39_row0_col4\" class=\"data row0 col4\" >1.216634</td>\n",
       "      <td id=\"T_f2a39_row0_col5\" class=\"data row0 col5\" >0.439425</td>\n",
       "      <td id=\"T_f2a39_row0_col6\" class=\"data row0 col6\" >52.166698</td>\n",
       "      <td id=\"T_f2a39_row0_col7\" class=\"data row0 col7\" >8.413348</td>\n",
       "      <td id=\"T_f2a39_row0_col8\" class=\"data row0 col8\" >6.200000</td>\n",
       "    </tr>\n",
       "    <tr>\n",
       "      <th id=\"T_f2a39_level0_row1\" class=\"row_heading level0 row1\" >1</th>\n",
       "      <td id=\"T_f2a39_row1_col0\" class=\"data row1 col0\" >1</td>\n",
       "      <td id=\"T_f2a39_row1_col1\" class=\"data row1 col1\" >medium</td>\n",
       "      <td id=\"T_f2a39_row1_col2\" class=\"data row1 col2\" >5.968959</td>\n",
       "      <td id=\"T_f2a39_row1_col3\" class=\"data row1 col3\" >0.373696</td>\n",
       "      <td id=\"T_f2a39_row1_col4\" class=\"data row1 col4\" >1.221458</td>\n",
       "      <td id=\"T_f2a39_row1_col5\" class=\"data row1 col5\" >0.300973</td>\n",
       "      <td id=\"T_f2a39_row1_col6\" class=\"data row1 col6\" >8.796892</td>\n",
       "      <td id=\"T_f2a39_row1_col7\" class=\"data row1 col7\" >2.128296</td>\n",
       "      <td id=\"T_f2a39_row1_col8\" class=\"data row1 col8\" >4.130000</td>\n",
       "    </tr>\n",
       "    <tr>\n",
       "      <th id=\"T_f2a39_level0_row2\" class=\"row_heading level0 row2\" >2</th>\n",
       "      <td id=\"T_f2a39_row2_col0\" class=\"data row2 col0\" >2</td>\n",
       "      <td id=\"T_f2a39_row2_col1\" class=\"data row2 col1\" >high</td>\n",
       "      <td id=\"T_f2a39_row2_col2\" class=\"data row2 col2\" >4.659466</td>\n",
       "      <td id=\"T_f2a39_row2_col3\" class=\"data row2 col3\" >0.512560</td>\n",
       "      <td id=\"T_f2a39_row2_col4\" class=\"data row2 col4\" >1.641680</td>\n",
       "      <td id=\"T_f2a39_row2_col5\" class=\"data row2 col5\" >0.815844</td>\n",
       "      <td id=\"T_f2a39_row2_col6\" class=\"data row2 col6\" >6.749841</td>\n",
       "      <td id=\"T_f2a39_row2_col7\" class=\"data row2 col7\" >1.776254</td>\n",
       "      <td id=\"T_f2a39_row2_col8\" class=\"data row2 col8\" >3.800000</td>\n",
       "    </tr>\n",
       "  </tbody>\n",
       "</table>\n"
      ],
      "text/plain": [
       "<pandas.io.formats.style.Styler at 0x775e2f56dfc0>"
      ]
     },
     "execution_count": 5,
     "metadata": {},
     "output_type": "execute_result"
    }
   ],
   "source": [
    "distributions_params_df = hmm_feature_extractor_model.get_features_dist_df(include_state_labels=True)\n",
    "styled_df = distributions_params_df.style.set_table_styles(\n",
    "    [{'selector': 'th', 'props': [('font-size', '12px'), ('text-align', 'center')]},\n",
    "     {'selector': 'td', 'props': [('font-size', '12px'), ('text-align', 'center')]}]\n",
    ").set_properties(**{'border': '1px solid black', 'padding': '5px'})\n",
    "\n",
    "styled_df"
   ]
  },
  {
   "cell_type": "code",
   "execution_count": 6,
   "metadata": {},
   "outputs": [],
   "source": [
    "from recurrent_health_events_prediction.training.utils_hmm import sort_state_labels_by_severity\n",
    "\n",
    "hidden_state_labels_order = sort_state_labels_by_severity(list(hmm_feature_extractor_model.get_hidden_state_labels().values()))"
   ]
  },
  {
   "cell_type": "code",
   "execution_count": 7,
   "metadata": {},
   "outputs": [
    {
     "data": {
      "application/vnd.plotly.v1+json": {
       "config": {
        "plotlyServerURL": "https://plot.ly"
       },
       "data": [
        {
         "alignmentgroup": "True",
         "hovertemplate": "Health Hidden Risk=%{x}<br>True Days Until Next Hospitalization=%{y}<extra></extra>",
         "legendgroup": "high",
         "marker": {
          "color": "#636efa"
         },
         "name": "high",
         "notched": false,
         "offsetgroup": "high",
         "orientation": "v",
         "showlegend": true,
         "type": "box",
         "x": [
          "high",
          "high",
          "high",
          "high",
          "high",
          "high",
          "high",
          "high",
          "high",
          "high",
          "high",
          "high",
          "high",
          "high",
          "high",
          "high",
          "high",
          "high",
          "high",
          "high",
          "high",
          "high",
          "high",
          "high",
          "high",
          "high",
          "high",
          "high",
          "high",
          "high",
          "high",
          "high",
          "high",
          "high",
          "high",
          "high",
          "high",
          "high",
          "high",
          "high",
          "high",
          "high",
          "high",
          "high",
          "high",
          "high",
          "high",
          "high",
          "high",
          "high",
          "high",
          "high",
          "high",
          "high",
          "high",
          "high",
          "high",
          "high",
          "high",
          "high",
          "high",
          "high",
          "high",
          "high",
          "high",
          "high",
          "high",
          "high",
          "high",
          "high",
          "high",
          "high",
          "high",
          "high",
          "high",
          "high",
          "high",
          "high",
          "high",
          "high",
          "high",
          "high",
          "high",
          "high",
          "high",
          "high",
          "high",
          "high",
          "high",
          "high",
          "high",
          "high",
          "high",
          "high",
          "high",
          "high",
          "high",
          "high",
          "high",
          "high",
          "high",
          "high",
          "high",
          "high",
          "high",
          "high",
          "high",
          "high",
          "high",
          "high",
          "high",
          "high",
          "high",
          "high",
          "high",
          "high",
          "high",
          "high",
          "high",
          "high",
          "high",
          "high",
          "high",
          "high",
          "high",
          "high",
          "high",
          "high",
          "high",
          "high",
          "high",
          "high",
          "high",
          "high",
          "high",
          "high",
          "high",
          "high",
          "high",
          "high",
          "high",
          "high",
          "high",
          "high",
          "high",
          "high",
          "high",
          "high",
          "high",
          "high",
          "high",
          "high",
          "high",
          "high",
          "high",
          "high",
          "high",
          "high",
          "high",
          "high",
          "high",
          "high",
          "high",
          "high",
          "high",
          "high",
          "high",
          "high",
          "high",
          "high",
          "high",
          "high",
          "high",
          "high",
          "high",
          "high",
          "high",
          "high",
          "high",
          "high",
          "high",
          "high",
          "high",
          "high",
          "high",
          "high",
          "high",
          "high",
          "high",
          "high",
          "high",
          "high",
          "high",
          "high",
          "high",
          "high",
          "high",
          "high",
          "high",
          "high",
          "high",
          "high",
          "high",
          "high",
          "high",
          "high",
          "high",
          "high",
          "high",
          "high",
          "high",
          "high",
          "high",
          "high",
          "high",
          "high",
          "high",
          "high",
          "high",
          "high",
          "high",
          "high",
          "high",
          "high",
          "high",
          "high",
          "high",
          "high",
          "high",
          "high",
          "high",
          "high",
          "high",
          "high",
          "high",
          "high",
          "high",
          "high",
          "high",
          "high",
          "high",
          "high",
          "high",
          "high",
          "high",
          "high",
          "high",
          "high",
          "high",
          "high",
          "high",
          "high",
          "high",
          "high",
          "high",
          "high",
          "high",
          "high",
          "high",
          "high",
          "high",
          "high",
          "high",
          "high",
          "high",
          "high",
          "high",
          "high",
          "high",
          "high",
          "high",
          "high",
          "high",
          "high",
          "high",
          "high",
          "high",
          "high",
          "high",
          "high",
          "high",
          "high",
          "high",
          "high",
          "high",
          "high",
          "high",
          "high",
          "high",
          "high",
          "high",
          "high",
          "high",
          "high",
          "high",
          "high",
          "high",
          "high",
          "high",
          "high",
          "high",
          "high",
          "high",
          "high",
          "high",
          "high",
          "high",
          "high",
          "high",
          "high",
          "high",
          "high",
          "high",
          "high",
          "high",
          "high",
          "high",
          "high",
          "high",
          "high",
          "high",
          "high",
          "high",
          "high",
          "high",
          "high",
          "high",
          "high",
          "high",
          "high",
          "high",
          "high",
          "high",
          "high",
          "high",
          "high",
          "high",
          "high",
          "high",
          "high",
          "high",
          "high",
          "high",
          "high",
          "high",
          "high",
          "high",
          "high",
          "high",
          "high",
          "high",
          "high",
          "high",
          "high",
          "high",
          "high",
          "high",
          "high",
          "high",
          "high",
          "high",
          "high",
          "high",
          "high",
          "high",
          "high",
          "high",
          "high",
          "high",
          "high",
          "high",
          "high",
          "high",
          "high",
          "high",
          "high",
          "high",
          "high",
          "high",
          "high",
          "high",
          "high",
          "high",
          "high",
          "high",
          "high",
          "high",
          "high",
          "high",
          "high",
          "high",
          "high",
          "high",
          "high",
          "high",
          "high",
          "high",
          "high",
          "high",
          "high",
          "high",
          "high",
          "high",
          "high",
          "high",
          "high",
          "high",
          "high",
          "high",
          "high",
          "high",
          "high",
          "high",
          "high",
          "high",
          "high",
          "high",
          "high",
          "high",
          "high",
          "high",
          "high",
          "high",
          "high",
          "high",
          "high",
          "high",
          "high",
          "high",
          "high",
          "high",
          "high",
          "high",
          "high",
          "high",
          "high",
          "high",
          "high",
          "high",
          "high",
          "high",
          "high",
          "high",
          "high",
          "high",
          "high",
          "high",
          "high",
          "high",
          "high",
          "high",
          "high",
          "high",
          "high",
          "high",
          "high",
          "high",
          "high",
          "high",
          "high",
          "high",
          "high",
          "high",
          "high",
          "high",
          "high",
          "high",
          "high",
          "high",
          "high",
          "high",
          "high",
          "high",
          "high",
          "high",
          "high",
          "high",
          "high",
          "high",
          "high",
          "high",
          "high",
          "high",
          "high",
          "high",
          "high",
          "high",
          "high",
          "high",
          "high",
          "high",
          "high",
          "high",
          "high",
          "high",
          "high",
          "high",
          "high",
          "high",
          "high",
          "high",
          "high",
          "high",
          "high",
          "high",
          "high",
          "high",
          "high",
          "high",
          "high",
          "high",
          "high",
          "high",
          "high",
          "high",
          "high",
          "high",
          "high",
          "high",
          "high",
          "high",
          "high",
          "high",
          "high",
          "high",
          "high",
          "high",
          "high",
          "high",
          "high",
          "high",
          "high",
          "high",
          "high",
          "high",
          "high",
          "high",
          "high",
          "high",
          "high",
          "high",
          "high",
          "high",
          "high",
          "high",
          "high",
          "high",
          "high",
          "high",
          "high",
          "high",
          "high",
          "high",
          "high",
          "high",
          "high",
          "high",
          "high",
          "high",
          "high",
          "high",
          "high",
          "high",
          "high",
          "high",
          "high",
          "high",
          "high",
          "high",
          "high",
          "high",
          "high",
          "high",
          "high",
          "high",
          "high",
          "high",
          "high",
          "high",
          "high",
          "high",
          "high",
          "high",
          "high",
          "high",
          "high",
          "high",
          "high",
          "high",
          "high",
          "high",
          "high",
          "high",
          "high",
          "high",
          "high",
          "high",
          "high",
          "high",
          "high",
          "high",
          "high",
          "high",
          "high",
          "high",
          "high",
          "high",
          "high",
          "high",
          "high",
          "high",
          "high",
          "high",
          "high",
          "high",
          "high",
          "high",
          "high",
          "high",
          "high",
          "high",
          "high",
          "high",
          "high",
          "high",
          "high",
          "high",
          "high",
          "high",
          "high",
          "high",
          "high",
          "high",
          "high",
          "high",
          "high",
          "high",
          "high",
          "high",
          "high",
          "high",
          "high",
          "high",
          "high",
          "high",
          "high",
          "high",
          "high",
          "high",
          "high",
          "high",
          "high",
          "high",
          "high",
          "high",
          "high",
          "high",
          "high",
          "high",
          "high",
          "high",
          "high",
          "high",
          "high",
          "high",
          "high",
          "high",
          "high",
          "high",
          "high",
          "high",
          "high",
          "high",
          "high",
          "high",
          "high",
          "high",
          "high",
          "high",
          "high",
          "high",
          "high",
          "high",
          "high",
          "high",
          "high",
          "high",
          "high",
          "high",
          "high",
          "high",
          "high",
          "high",
          "high",
          "high",
          "high",
          "high",
          "high",
          "high",
          "high",
          "high",
          "high",
          "high",
          "high",
          "high",
          "high",
          "high",
          "high",
          "high",
          "high",
          "high",
          "high",
          "high",
          "high",
          "high",
          "high",
          "high",
          "high",
          "high",
          "high",
          "high",
          "high",
          "high",
          "high",
          "high",
          "high",
          "high",
          "high",
          "high",
          "high",
          "high",
          "high",
          "high",
          "high",
          "high",
          "high",
          "high",
          "high",
          "high",
          "high",
          "high",
          "high",
          "high",
          "high",
          "high",
          "high",
          "high",
          "high",
          "high",
          "high",
          "high",
          "high",
          "high",
          "high",
          "high",
          "high",
          "high",
          "high",
          "high",
          "high",
          "high",
          "high",
          "high",
          "high",
          "high",
          "high",
          "high",
          "high",
          "high",
          "high",
          "high",
          "high",
          "high",
          "high",
          "high",
          "high",
          "high",
          "high",
          "high",
          "high",
          "high",
          "high",
          "high",
          "high",
          "high",
          "high",
          "high",
          "high",
          "high",
          "high",
          "high",
          "high",
          "high",
          "high",
          "high",
          "high",
          "high",
          "high",
          "high",
          "high",
          "high",
          "high",
          "high",
          "high",
          "high",
          "high",
          "high",
          "high",
          "high",
          "high",
          "high",
          "high",
          "high",
          "high",
          "high",
          "high",
          "high",
          "high",
          "high",
          "high",
          "high",
          "high",
          "high",
          "high",
          "high",
          "high",
          "high",
          "high",
          "high",
          "high",
          "high",
          "high",
          "high",
          "high",
          "high",
          "high",
          "high",
          "high",
          "high",
          "high",
          "high",
          "high",
          "high",
          "high",
          "high",
          "high",
          "high",
          "high",
          "high",
          "high",
          "high",
          "high",
          "high",
          "high",
          "high",
          "high",
          "high",
          "high",
          "high",
          "high",
          "high",
          "high",
          "high",
          "high",
          "high",
          "high",
          "high",
          "high",
          "high",
          "high",
          "high",
          "high",
          "high",
          "high",
          "high",
          "high",
          "high",
          "high",
          "high",
          "high",
          "high",
          "high",
          "high",
          "high",
          "high",
          "high",
          "high",
          "high",
          "high",
          "high",
          "high",
          "high",
          "high",
          "high",
          "high",
          "high",
          "high",
          "high",
          "high",
          "high",
          "high",
          "high",
          "high",
          "high",
          "high",
          "high",
          "high",
          "high",
          "high",
          "high",
          "high",
          "high",
          "high",
          "high",
          "high",
          "high",
          "high",
          "high",
          "high",
          "high",
          "high",
          "high",
          "high",
          "high",
          "high",
          "high",
          "high",
          "high",
          "high",
          "high",
          "high",
          "high",
          "high",
          "high",
          "high",
          "high",
          "high",
          "high",
          "high",
          "high",
          "high",
          "high",
          "high",
          "high",
          "high",
          "high",
          "high",
          "high",
          "high",
          "high",
          "high",
          "high",
          "high",
          "high",
          "high",
          "high",
          "high",
          "high",
          "high",
          "high",
          "high",
          "high",
          "high",
          "high",
          "high",
          "high",
          "high",
          "high",
          "high",
          "high",
          "high",
          "high",
          "high",
          "high",
          "high",
          "high",
          "high",
          "high",
          "high",
          "high",
          "high",
          "high",
          "high",
          "high",
          "high",
          "high",
          "high",
          "high",
          "high",
          "high",
          "high",
          "high",
          "high",
          "high",
          "high",
          "high",
          "high",
          "high",
          "high",
          "high",
          "high",
          "high",
          "high",
          "high",
          "high",
          "high",
          "high",
          "high",
          "high",
          "high",
          "high",
          "high",
          "high",
          "high",
          "high",
          "high",
          "high",
          "high",
          "high",
          "high",
          "high",
          "high",
          "high",
          "high",
          "high",
          "high",
          "high",
          "high",
          "high",
          "high",
          "high",
          "high",
          "high",
          "high",
          "high",
          "high",
          "high",
          "high",
          "high",
          "high",
          "high",
          "high",
          "high",
          "high",
          "high",
          "high",
          "high",
          "high",
          "high",
          "high",
          "high",
          "high",
          "high",
          "high",
          "high",
          "high",
          "high",
          "high",
          "high",
          "high",
          "high",
          "high",
          "high",
          "high",
          "high",
          "high",
          "high",
          "high",
          "high",
          "high",
          "high",
          "high",
          "high",
          "high",
          "high",
          "high",
          "high",
          "high",
          "high",
          "high",
          "high",
          "high",
          "high",
          "high",
          "high",
          "high",
          "high",
          "high"
         ],
         "x0": " ",
         "xaxis": "x",
         "y": {
          "bdata": "gy3Ygi34EEA5juM4jl9IQGzBFmzBU2pAfdInfdJHGUCIiIiIiD5aQMdxHMdx7E9AZ2ZmZmZBYEC7u7u7u2syQBdswRbspHRA1oIt2KKqnkAGW7AFW7ACQFVVVVVVVRlAcRzHcRxnK0CrqqqqqsoqQDMzMzMzsxRA2IIt2ILtL0C8u7u7uxseQLAFW7AFl0tAVVVVVVW5gUDe3d3d3YdTQLhgC7ZgD1pA1Cd90iekekBnZmZmZrpUQOiTPumTyFpAMzMzMzMzCUDNzMzMzHQ5QFywBVuwRTRAZmZmZmaSS0AzMzMzMyNAQLy7u7u7UVxAC7ZgC7ZAJEAdx3Ecx8EiQLAFW7AFeztA+6RP+qSPD0CUPumTPmkeQDMzMzMzV1hAKH3SJ31SIEBQ+qRP+gV3QAy2YAs2hnVA+6RP+qTPFUBhC7ZgC1Y+QLZgC7YA9ZRA6ZM+6ZMuIUDSJ33SZyCOQCh90id98jpAu7u7u7sjNUDv7u7u7kJQQAu2YAu2YAJAgy3Ygi0wQUDHcRzHcRwCQGZmZmZmRllAn/RJn/QJM0DBFmzBFlBHQEREREREDDBAGGzBFmzpM0AMtmALtpxLQHh3d3d3dwtABluwBVtgMUCwBVuwhXKGQPRJn/RJDydAmpmZmZnhNUBcsAVbsDlJQDmO4ziO4whAx3Ecx3EkPUBgC7ZgC3hYQI/jOI7jQldAgy3Ygi0QN0Acx3Ecxzk2QAAAAAAAYCVAlD7pkz5ZRkCmT/qkTxJHQFiwBVuwZG1AERERERHfVEARERERETFTQAAAAAAAIC5AERERERHxGED7pE/6pENPQI/jOI7ju21AAAAAAACWaEBUVVVVVeVKQN7d3d3dPTRAvLu7u7vuZED1SZ/0STczQNMnfdInPRFA6ZM+6ZN/Z0DjOI7jOHJyQAu2YAu2mDRAP+mTPukLMUCxBVuwBUBjQFywBVuwlUZA0yd90icJZkCwBVuwBZdWQMEWbMEWLAhAgy3Ygi2wTEBhC7ZgC949QAZbsAVbYCBA9Umf9EmnM0B90id90v9CQLAFW7AFGwxAvLu7u7tDMEB90id90h82QIiIiIiICAtAOY7jOI6jEkCamZmZmRkyQO/u7u7ujWpA/aRP+qTnOUAAAAAAAGRMQJqZmZmZiTNA6ZM+6ZMKUUBUVVVVVcdfQJmZmZmZGVRAG8dxHMcBLEBnZmZmZuYXQEREREREfDhAF2zBFmwBFEAcx3Ecx1k1QAAAAAAAZElAG8dxHMeRK0CrqqqqqnopQAAAAAAAQCtAC7ZgC7ZAIEAGW7AFW2REQFywBVuwtTNA+6RP+qQfJEAdx3Ecxw9VQEREREREVDVABluwBVueYUCxBVuwBZlRQFywBVuwfT1AP+mTPulTHEC8u7u7u+dlQLu7u7u7+zxAXLAFW7AhRECUPumTvtJ0QCl90if9YXhAgy3Ygi3oOEAzMzMzMwtEQGZmZmZmTjJARERERETYX0Crqqqqqg1/QOM4juM47hRAMzMzMzM7NECUPumTPjkgQGdmZmZm5hZAHcdxHMcpMkBhC7ZgC92cQOmTPumT2lFAERERERHzVUBmZmZmZjYiQPVJn/RJB0BAlD7pkz5hPkAXbMEWbFVLQHd3d3d3b0JA7+7u7u4uGUC8u7u7uwspQAVbsAVbECRAF2zBFmwJQUAYbMEWbIEIQE/6pE/6pmBAhC3Ygi3YAEAjIiIiIqqKQGELtmALViRAIiIiIiJ6QkDBFmzBFoZXQCMiIiIidk1ALdiCLdjCE0BJn/RJn1hVQBERERER0VVAOY7jOI5LUEA5juM4jlNMQPqkT/qkW0RAcRzHcRwbTUAt2IIt2IIEQJqZmZmZyTJAF2zBFmzhJkAjIiIiInpLQM3MzMwMTZRAlD7pkz4ZQUDYgi3YgklDQCd90id9Ql5A6ZM+6ZMuJECamZmZmVVGQDmO4ziO71RA6ZM+6ZO+M0CyBVuwBXMyQPukT/qkz0VARERERESkL0B3d3d3d2VjQAAAAAAA0CVAW7AFW7DFAEAdx3EcxzERQBdswRZsKUxAMzMzMzOLN0DHcRzHcYwoQH3SJ33S5xhAAAAAAAC6YEB3d3d3d6NEQHIcx3EcD0NAC7ZgC7ZEQUALtmALNq5yQHEcx3Gc339AGGzBFmxZO0BJn/RJnzQIQKZP+qRPGklAOY7jOI7/RkAYbMEWbLNeQIQt2IItWABAP+mTPulLOEAREREREZEBQHIcx3EcRVFAOY7jOI7+c0DYgi3YgvhgQIiIiIiIqElApk/6pE8GREB90id90rcnQLAFW7AFozpALtiCLdhiLEBhC7ZgC9YYQGzBFmzBViFAUfqkT/pkDEAzMzMzMzMsQDmO4zgORnlAMzMzMzMfRUA5juM4zuWHQEREREREjEpAfdInfdKDQkAkIiIiIkJaQGzBFmzBFFJAERERERFRFEDpkz7pk7hTQCh90id9YjpAvLu7u7sTUEC2YAu2YJskQH3SJ33SF0VAZ2ZmZmamE0B90id90kVTQIiIiIiIaW9AmZmZmdkzgEBnZmZmprGBQCl90if9y3BAZmZmZmZra0Dpkz7pkzJLQKVP+qRPujFAt2ALtmCPRkCwBVuwBXdZQLy7u7u7d0BAbMEWbMEWI0DjOI7jOF4iQEREREREhApAVVVVVaWopECJiIiIiAgRQIMt2IIt6DxAMzMzMzPzL0D0SZ/0SfdYQM3MzMzMWldApk/6pE9CV0De3d3d3ZFBQKuqqqoKQ5RA+6RP+qRPCkAQERERETk3QM3MzMzM/CdAzczMzMxMBECvBVuwBWsmQM3MzMzMQF1A9Umf9Ek/IEDHcRzH8TRwQDMzMzMzi0BAfdInfRKAjUC8u7u7u9sqQKuqqqqqgjFA3d3d3d1dLkBhC7ZgC7YCQBERERERMRtAgy3Ygi24FEDYgi3YAjCCQGzBFmzBel5AYQu2YAv2CECP4ziO41gpQGELtmALR2BAAAAAAAAkf0D7pE/6pORmQNMnfdInRT5AZ2ZmZmaSQUAofdInfXITQN3d3d3dBUxAKH3SJ33iKEDpkz7pkwJJQC3Ygi3YiGBAYQu2YAu2HEBQ+qRP+qQcQGzBFmzBVFJAZ2ZmZmZOMUCrqqqqqopVQFRVVVVVDVhAbMEWbMGWHECIiIiIiIgaQIMt2IItGCZAMzMzMzPzE0CrqqqqquofQE/6pE/6sFRAYQu2YAt2JkCDLdiCLWBcQNMnfdInPVVAsQVbsAUjMUCELdiCLRgHQHd3d3d3Z0JAUfqkT/orbkBswRZswdBRQFRVVVVVOU9AvLu7u7vzVED7pE/6pO8XQGELtmALNjdA0yd90iclVUDv7u7u7vZBQB3HcRzH8RBALtiCLdjSI0BERERERIw4QMdxHMdxrCxA3t3d3d31M0DTJ33SJ/llQOU4juM4vF1AfdInfVKDkECrqqqqaveAQCh90id9UixApU/6pE8yMECDLdiCLcFgQH3SJ33Sj1VAmpmZmZnNV0CvBVuwBesnQMEWbMEWBmxAAAAAAACyWkBcsAVbcPmNQD/pkz7pky1A/aRP+qS/O0BKn/RJnyxFQAVbsAWb84xAcRzHcRz3JkDZgi3YgsNZQDMzMzMz1GFAqaqqqqpIa0BwHMdxHDc2QGZmZmZmikpAF2zBFmzhEkDpkz7pk9pVQImIiIiI3WJAXLAFW7CdQ0B3d3d3dzcAQI/jOI7jqCpAZ2ZmZmaQUkD1SZ/0SeRgQFywBVuw5SpAP+mTPunzFEB4d3d3d/c3QEmf9EmfgEhAmZmZmZkDUUDv7u7u7k4RQIMt2IItcDFAVFVVVVUVSkAzMzMzM/MYQAVbsAVbcE5AERERERGFREAbx3Ecx1EqQDmO4ziOA09AIyIiIiJDaEBswRZswVYEQM3MzMzMDAlAiYiIiIiScUALtmALttJSQFH6pE/6nnVAtmALtmBLIEB90id90oc7QGzBFmzBdh9AAAAAAACYYEBKn/RJH66gQGELtmALCkJA0yd90ieJTUCDLdiCLTBVQD/pkz7pEyhA7+7u7u5OE0BUVVVVVelCQFVVVVVVCUFABluwBfuPo0Cf9Emf9M1HQPqkT/qk7zBAMzMzMzM7OEDjOI7jOC4wQIMt2IIt+CVAUfqkT/o8PEDd3d3d3Y1CQC3Ygi3YSjNA7+7u7u4WZkDYgi3YgqFNQPukT/qktHlAZmZmZmZIXEAcx3Ecx/E6QGdmZmZmJgpAC7ZgC7YQM0Dpkz7pk6pOQFuwBVuwLVBAsAVbsAWLOED9pE/6pL89QIiIiIiIJlZAsQVbsAX/VEDkOI7jOG9lQD/pkz7pQ2FAvLu7u7sbIkA5juM4jtNAQMEWbMEWUElA+6RP+qQfKUBUVVVVVf1FQJQ+6ZM+KQRASp/0SZ8cRUD6pE/6pKFdQAZbsAVbsAFAeHd3d3ffNkBKn/RJnxRTQGzBFmzB1hBApU/6pM8mckBswRZswdYIQJQ+6ZM+JUBAMzMzMzNjIEDd3d3d3X0VQFywBVuwnTlA4ziO4ziOIEC8u7u7uyJ9QCh90id9siJA3d3d3d3tK0Dv7u7u7iNgQNiCLdiCjTdAAAAAAABALkBhC7ZgC5YqQLAFW7AFt09AzczMzMxmUkDpkz7pE5JwQNQnfdInPQZAZmZmZmZVnUCvBVuwBTssQE/6pE/65DFA3t3d3d0lMkBcsAVbsO04QKD0SZ/0PVlAx3Ecx3EwQkBhC7ZgC/YKQEREREREnE1AXLAFW7D1MkAREREREfEcQNMnfdInHUFAJn3SJ31taUBIn/RJn+J3QKuqqqqqDkBA3t3d3d31MkCjT/qkT5o+QAAAAAAAwDxADLZgC7Z6akDHcRzHcbw2QMEWbMEWbApAiIiIiIiEWkAYbMEWbCE5QHIcx3EcFyJAW7AFW7CZU0BP+qRP+hZlQKRP+qRPiiZAsQVbsAX7IUDYgi3Ygu0FQOU4juM4vkpAsQVbsAUbAEAXbMEWbOkwQLEFW7AFyVBAXLAFW7CNM0CP4ziO44xLQAu2YAu2YBBAzczMzMwQSUAREREREWVCQLAFW7AFu0VAj+M4juMIKECf9Emf9MVUQFRVVVVVGUxA1Cd90ie9BEDBFmzBFkRNQLy7u7u7uwBAERERERERFEDv7u7u7opPQOmTPumTxFBAvLu7u7uqa0Dd3d3d3a0qQLAFW7AFo0ZA7+7u7u4uF0BVVVVVVVUsQOmTPumT8mBA7+7u7u4uCUALtmALttpgQCIiIiIisiJA5TiO4zhGPUDTJ33SJ+05QPRJn/RJD15AAAAAAAB4TEAQEREREcEjQHIcx3EcH0VAd3d3d3fCYEB4d3d3d5tGQHh3d3d3kVxAKX3SJ/2fdUByHMdxHOcSQMEWbMEW4GRAfdInfdIAYkCP4ziO4zpdQOU4juM41jtAwRZswRatYEA5juM4jtdEQDmO4ziOIzlAYAu2YAuiVkCf9Emf9AFQQOmTPumT62hABluwBVuIQEAYbMEWbEtZQEmf9EmftCVAfdInfdI3MkDd3d3d3R0/QImIiIiISEJAzczMzMxsEEBhC7ZgC4Y9QFD6pE/6cE5AjuM4juMYFUDTJ33SJ9ZxQIiIiIiIaCxAHcdxHMcNVUClT/qkT1oRQJ/0SZ/0jUpAOY7jOI4jJ0Dd3d3d3WN2QDMzMzMzDWpADLZgC7asSUBP+qRP+uxBQDmO4ziO0z5A9Emf9EkTTEBQ+qRP+nBJQO/u7u7urhVAOY7jOI6jGUCUPumTPr5jQI7jOI7juBRAlD7pkz7ZP0D6pE/6pJNbQJmZmZmZx2NAu7u7u7vzO0BhC7ZgCxYsQNiCLdiCCUtAsQVbsAVzUUDd3d3d3QU3QOmTPumTXlNAVVVVVVUVA0A/6ZM+6dMJQIMt2IItWBlAj+M4juMgP0A/6ZM+6f9YQN3d3d3dCU9AZmZmZmY6XUAjIiIiIuIHQAy2YAu2gCxAeHd3d3fRWED0SZ/0SQdIQMEWbMEWnEpAVFVVVVUlNECwBVuwBa9NQNzd3d3dA1dAERERERGxFUAAAAAAAHAuQC7Ygi3YsidAlD7pkz4pLkAREREREdERQLAFW7AF0VlAeHd3d3ePNkDjOI7jOB5EQAu2YAu2gWNAOY7jOC7Wk0CP4ziO491oQDMzMzMzUxRAKH3SJ33eYkBmZmZmZkZZQJQ+6ZM+BUFAiYiIiIjcQkB4d3d3d4clQCIiIiIiwiRAAAAAAADcQ0C8u7u7uzsAQPukT/qkDw1AMzMzMzNDJECrqqqqqspQQBARERERSTNA2IIt2IJ+Y0At2IItWF+CQEqf9EmfNBJA0yd90iflPkB4d3d3d3leQEqf9EmffENA4ziO4zjKUkC7u7u7u1M1QBARERERkSZA9Emf9EmoZkB90id90p85QNMnfdKHqpBABVuwBVvwCkCyBVuwBTsiQJQ+6ZM+aRNAwRZswZaid0CamZmZmZkjQMEWbMEW7BdAiIiIiIgoO0Dpkz7pk64tQPVJn/RJh2NAgy3Ygi08S0A/6ZM+6a9NQI7jOI7jDERAW7AFW7AxQEAAAAAAAMxOQAVbsAVbsBtAfdInfdLQYUCamZmZmd5uQLZgC7bgYYBAOY7jOI73SkAzMzMzM6MsQE/6pE/6ClRAbMEWbMGOVkCDLdiCLfgaQEqf9EmfRFBAu7u7u7ubPECP4ziO43xYQKVP+qRPMFRA6ZM+6ZOqVUBhC7ZgCzYBQJQ+6ZM+gTlAlD7pkz6pC0AGW7AFWxZQQMdxHMdxTDNAmpmZmZk5KEAFW7AFW3g7QKqqqqqqqgZA6ZM+6ZOCQkAiIiIiImhRQHEcx3EcZypAUfqkT/ocNkAkIiIiItZXQNiCLdiCFTVAKH3SJ32STEB90id90utBQHEcx3EcdylAtmALtmD7QUAGW7AFW/hEQI/jOI7j8E1A6ZM+6ZPwVEB90id90q9OQPRJn/RJdz1AjuM4juPoIUDTJ33SJwlAQPukT/qkjwpABVuwBVsYTkCZmZmZmR9WQN3d3d3dvRtAT/qkT/qEUkCDLdiCLbRQQImIiIiISBRA3t3d3d0dAkBxHMdxHElYQHd3d3d3l1JAu7u7u7sTMkD0SZ/0SY9OQDmO4ziOoxxAERERERHtSEDNzMzMzFwoQI/jOI7jeAdAiIiIiIjYJUCUPumTPg9QQI/jOI7jil1ADLZgC7bUXEAdx3Ecx/EQQIMt2IItOCpAwRZswRakSUCamZmZmTkkQAy2YAu2oAhAvLu7u7s7EEBhC7ZgC6Y+QOmTPumTPiZALtiCLdjiK0B90id90rchQB3HcRzHRWVAAAAAAAD4N0CxBVuwBfsQQKuqqqoqO3lAvLu7u7umYUB4d3d3d39eQKNP+qRP+j1Aq6qqqqoCN0AAAAAAAIBKQHIcx3Ec/0JA8O7u7u7OLkA5juM4jttIQJQ+6ZM+wTlAq6qqqqq5ZEBKn/RJn9QxQJqZmZmZOT1A3t3d3d35UkCf9Emf9NlQQB3HcRzHS4BAF2zBFmwRQkCxBVuwhSFxQHIcx3EcR0RAbMEWbMFMUEBR+qRP+oQ/QI/jOI7jPmlAeHd3d3enKkA/6ZM+6WszQGzBFmzBHjNA0yd90ifdH0Cf9Emf9FkqQB3HcRzH8QBARERERERsV0AAAAAAwByEQFywBVuw/U1AP+mTPmlYdkAXbMEWbEEbQGdmZmZmAFFAHcdxHMdBNUBcsAVbsOUjQGELtmALJjxA6ZM+6ZMgVECwBVuwBfsYQNMnfdInxU5AOY7jOI5jBkCmT/qkr0imQLdgC7Zga0tAn/RJn/TJO0D1SZ/0SR8CQGZmZmZmLktAbMEWbMFoZUDNzMzMzLwnQO/u7u7upkFA2IIt2IKtBUCIiIiIiIg/QBARERERaT5Agy3Ygi3wRUB90id90mcLQHd3d3d3BzVABVuwBVu4TEC7u7u7uxs+QEqf9EmftlRAmpmZmZmVTUAt2IIt2FI9QHIcx3EcBzNA5TiO4ziuKUCZmZmZmYkhQAAAAAAA4EJALtiCLdhyKUAAAAAAABAuQIiIiIiIHEtAW7AFW7BFCUD6pE/6pJ9ZQKuqqqqq6k5AVVVVVVW1F0DHcRzHcUwiQDmO4ziOMz5AF2zBFmzBJkCO4ziO46ggQOmTPumT/iFApU/6pE82U0C8u7u7uwNUQNQnfdInPQlAMzMzMzNzI0De3d3d3b0QQDMzMzMzBWNAAAAAAAAuUkC2YAu2YKtEQLZgC7ZguVRAC7ZgC7YKUUBswRZswQpAQHIcx3EcJyBAVVVVVVWDU0C8u7u7u1scQH3SJ33SGVVAYQu2YAvgYkD1SZ/0SR8xQDmO4ziOowpApE/6pE8aKEDBFmzBFmxDQI7jOI7j/FJAiIiIiIiWVkCyBVuwBRdAQKuqqqqqSk9AP+mTPulTOEDpkz7pk25tQBERERERnURAF2zBFmyhS0AAAAAAAOAfQJ/0SZ/0HUZABVuwBVsQI0A/6ZM+6TswQKD0SZ/0SV5ABluwBVs5YEC2YAu2YMBhQIMt2IIt0FVAeHd3d3eHSEBKn/RJnzQBQJ/0SZ/0aRFAERERERElSkBnZmZmZqYZQKNP+qRP6jxAC7ZgC7YAIkCJiIiIiChQQDmO4ziOIVFAx3Ecx3HAZEBP+qRP+iRjQKqqqqqqKgZABluwBVsoUkAREREREXpgQCh90id91kBAP+mTPulTM0AXbMEWbGEaQCMiIiIiVklAlD7pkz6JFECwBVuwBaNPQFRVVVVVwUlAAAAAAADAP0ByHMdxHBFSQFywBVuwRT5AsAVbsAWbFUBUVVVVVQ0yQAu2YAu2wBRAAAAAAADQIUAREREREXEgQKVP+qRPWhtA4ziO4zgKRUDHcRzHcSNtQBARERERoTtA+qRP+qQLUUA/6ZM+6TMYQM3MzMzMBDJAF2zBFmwRLEDNzMzMzJwjQIiIiIiIvFZA7+7u7m7uckBmZmZmZiZHQFRVVVVV4UNAZ2ZmZmbmGUCDLdiCLSBEQCMiIiIilmlAgy3Ygi1QMUBUVVVVVVloQPNJn/RJnwlAKH3SJ336NEDYgi3YgklUQLhgC7ZgXmpALtiCLdgSJUAFW7AFWzAsQKuqqqqqCiBAd3d3dzfIgEBcsAVbsGUzQI/jOI7jUD9Aq6qqqqqSOEAzMzMzM4NAQFywBVuwRSpAsAVbsAW7H0AAAAAAAIxCQBEREREREQhAjuM4juMgQ0B3d3d3d1dSQNQnfdInvQJAx3Ecx3F8EkCJiIiIiCgSQJQ+6ZM+3UJAMzMzMzOPSkCg9Emf9EtZQPVJn/RJHwJAYQu2YAvuMkBhC7ZgCx5EQAy2YAu2TnlAMzMzMzNjQkCwBVuwBSNMQMEWbMEWzDVAHcdxHMdFUEDBFmzBFoJZQJqZmZmZ9UJAgy3Ygi14IECxBVuwBdsAQN3d3d3dHTlAwRZswRYFYUBO+qRP+nxCQPVJn/RJnxFA6ZM+6ZO+E0CDLdiCLTgqQJ/0SZ/0CR9AAAAAAAB4X0CamZmZmZk9QPRJn/RJmVtASp/0SZ+UIEAAAAAAAGBCQGZmZmZm/F1Agy3Ygi1pYEAiIiIiok50QFywBVuwMUVAbMEWbMFWG0DNzMzMzAwOQLy7u7u7RVJA7u7u7u7MVkDv7u7u7p5AQN7d3d3dtWFA7+7u7u5GOkAYbMEWbAteQOmTPumT+klA1Cd90ie7bEClT/qkT5oZQBhswRZscTxA+qRP+qQXM0DYgi3YgkU6QH3SJ33SxyBAXLAFWzClf0Adx3Ecx6lRQBERERERATJAP+mTPumTH0B90id90m84QERERERERBxAsAVbsAWbRkBswRZswdYTQAu2YAu2uDFAVVVVVVXVD0ByHMdxHOcTQCMiIiIidk5AwRZswRZMKkDkOI7jOAJWQBdswRZsYRNAVVVVVVXVCEAt2IIt2IITQH3SJ33SLzdAfdInfdInAUB3d3d3dwdTQHh3d3d320xAgy3Ygi3YI0BbsAVbsHVQQFD6pE/6fEVAj+M4juO4JkAt2IIt2LRZQFD6pE/6pB9A7+7u7u5uEkCrqqqqqsI4QDmO4ziOT0tAAAAAAAA4VUBUVVVVVT1HQBdswRZsxGBAzczMzMwkNUAREREREbFEQJqZmZmZKTNAERERERGlYEC3YAu2YLspQGzBFmzBhiJAMzMzMzMnSEC8u7u7u1NfQKZP+qRPmk9AAAAAAADwKUA/6ZM+6bMrQAVbsAVbcAhAZmZmZmbqZ0CO4ziO45BSQPDu7u7u7ilA2IIt2IJDUkBIn/RJnwhYQIMt2IItTltAG8dxHMfBKUBJn/RJn2Q/QAVbsAVbAE1AtmALtuAbdEAAAAAAAMASQJQ+6ZM+6SNABVuwBVvwHECxBVuwBZsTQFVVVVVVVS5Ax3Ecx3F8JECf9Emf9DlNQGdmZmZmqFNA3t3d3d0tIkC7u7u7u2M+QGZmZmZmakRAGGzBFmwpPEBR+qRP+gQ/QGZmZmZmJg9AmpmZmZkxN0AXbMEWbBFLQCh90id9DkpAx3Ecx3EMJkBJn/RJnzQHQDMzMzMzcwBAzczMzMwMHkDYgi3YgktRQFVVVVVVBSBALdiCLdiCIUDHcRzHcRhDQFVVVVVVhS9ALdiCLdjqSUBhC7ZgC7YlQEmf9EmfdC5AwRZswRbsEUBswRZswVYzQH3SJ33SpxhAmpmZmZl5GECjT/qkTzo8QBzHcRzHhU1AtmALtmC7IkCxBVuwBQtRQFVVVVVVFQhAIiIiIiIKM0BVVVVVVQ9RQMEWbMEW/CJAgy3Ygi3oO0CJiIiIiBJQQFRVVVVVGURAW7AFW7AdMUCUPumTPlExQEmf9EmfgElAgy3Ygi0QQUAXbMEWbGEiQKyqqqqq5FpAq6qqqqq6JkDTJ33SJ3VNQH3SJ33S9zdAmpmZmZlpOUDHcRzHcUQ/QKuqqqqqWmFAZ2ZmZmYmCkB4d3d3d7caQIiIiIiIyF1AXLAFW7DdOkAAAAAAAIAAQD/pkz7pwytA3t3d3d1dAkAAAAAAANAzQM3MzMzMBDJAIiIiIqKwdEBcsAVbsNUrQPRJn/RJp1pAUfqkT/qsOkBKn/RJnyRBQCIiIiIiFkNAcRzHcRzFVUCrqqqqqqoUQHd3d3d3/GBAzczMzMw0OECrqqqqqm5DQBhswRZsQT9AUPqkT/pkFEDUJ33SJ9VoQFRVVVVVxU1AvLu7u7srSkBswRZswUYmQPqkT/qkRzBAn/RJn/QhREBERERERMJWQGELtmAL/jRAbMEWbMF2IkBcsAVbsOURQCMiIiIisj1AbMEWbMGWH0ALtmALtsAkQOmTPumTvhdAYQu2YAvBY0DNzMzMzB57QGZmZmZmFipArKqqqqqIXUAAAAAAAEAdQEqf9EmfzDBAeHd3d3d3CkDNzMzMzJBGQNMnfdInDTpAvLu7u7v/QEC2YAu2YPMwQKuqqqqqyjBAOY7jOI5zLEBVVVVVVZUcQCh90id98hRA7+7u7u5uPkBhC7ZgCwYnQOQ4juM4zg1AHcdxHMcxA0CwBVuwBbscQAu2YAu2SDBAiIiIiIiICUBERERERGQQQAy2YAu28CtA3t3d3d1PUUCwBVuwBRsIQFRVVVVV1TZAVVVVVVV1HEB4d3d3dyc8QA==",
          "dtype": "f8"
         },
         "y0": " ",
         "yaxis": "y"
        },
        {
         "alignmentgroup": "True",
         "hovertemplate": "Health Hidden Risk=%{x}<br>True Days Until Next Hospitalization=%{y}<extra></extra>",
         "legendgroup": "medium",
         "marker": {
          "color": "#EF553B"
         },
         "name": "medium",
         "notched": false,
         "offsetgroup": "medium",
         "orientation": "v",
         "showlegend": true,
         "type": "box",
         "x": [
          "medium",
          "medium",
          "medium",
          "medium",
          "medium",
          "medium",
          "medium",
          "medium",
          "medium",
          "medium",
          "medium",
          "medium",
          "medium",
          "medium",
          "medium",
          "medium",
          "medium",
          "medium",
          "medium",
          "medium",
          "medium",
          "medium",
          "medium",
          "medium",
          "medium",
          "medium",
          "medium",
          "medium",
          "medium",
          "medium",
          "medium",
          "medium",
          "medium",
          "medium",
          "medium",
          "medium",
          "medium",
          "medium",
          "medium",
          "medium",
          "medium",
          "medium",
          "medium",
          "medium",
          "medium",
          "medium",
          "medium",
          "medium",
          "medium",
          "medium",
          "medium",
          "medium",
          "medium",
          "medium",
          "medium",
          "medium",
          "medium",
          "medium",
          "medium",
          "medium",
          "medium",
          "medium",
          "medium",
          "medium",
          "medium",
          "medium",
          "medium",
          "medium",
          "medium",
          "medium",
          "medium",
          "medium",
          "medium",
          "medium",
          "medium",
          "medium",
          "medium",
          "medium",
          "medium",
          "medium",
          "medium",
          "medium",
          "medium",
          "medium",
          "medium",
          "medium",
          "medium",
          "medium",
          "medium",
          "medium",
          "medium",
          "medium",
          "medium",
          "medium",
          "medium",
          "medium",
          "medium",
          "medium",
          "medium",
          "medium",
          "medium",
          "medium",
          "medium",
          "medium",
          "medium",
          "medium",
          "medium",
          "medium",
          "medium",
          "medium",
          "medium",
          "medium",
          "medium",
          "medium",
          "medium",
          "medium",
          "medium",
          "medium",
          "medium",
          "medium",
          "medium",
          "medium",
          "medium",
          "medium",
          "medium",
          "medium",
          "medium",
          "medium",
          "medium",
          "medium",
          "medium",
          "medium",
          "medium",
          "medium",
          "medium",
          "medium",
          "medium",
          "medium",
          "medium",
          "medium",
          "medium",
          "medium",
          "medium",
          "medium",
          "medium",
          "medium",
          "medium",
          "medium",
          "medium",
          "medium",
          "medium",
          "medium",
          "medium",
          "medium",
          "medium",
          "medium",
          "medium",
          "medium",
          "medium",
          "medium",
          "medium",
          "medium",
          "medium",
          "medium",
          "medium",
          "medium",
          "medium",
          "medium",
          "medium",
          "medium",
          "medium",
          "medium",
          "medium",
          "medium",
          "medium",
          "medium",
          "medium",
          "medium",
          "medium",
          "medium",
          "medium",
          "medium",
          "medium",
          "medium",
          "medium",
          "medium",
          "medium",
          "medium",
          "medium",
          "medium",
          "medium",
          "medium",
          "medium",
          "medium",
          "medium",
          "medium",
          "medium",
          "medium",
          "medium",
          "medium",
          "medium",
          "medium",
          "medium",
          "medium",
          "medium",
          "medium",
          "medium",
          "medium",
          "medium",
          "medium",
          "medium",
          "medium",
          "medium",
          "medium",
          "medium",
          "medium",
          "medium",
          "medium",
          "medium",
          "medium",
          "medium",
          "medium",
          "medium",
          "medium",
          "medium",
          "medium",
          "medium",
          "medium",
          "medium",
          "medium",
          "medium",
          "medium",
          "medium",
          "medium",
          "medium",
          "medium",
          "medium",
          "medium",
          "medium",
          "medium",
          "medium",
          "medium",
          "medium",
          "medium",
          "medium",
          "medium",
          "medium",
          "medium",
          "medium",
          "medium",
          "medium",
          "medium",
          "medium",
          "medium",
          "medium",
          "medium",
          "medium",
          "medium",
          "medium",
          "medium",
          "medium",
          "medium",
          "medium",
          "medium",
          "medium",
          "medium",
          "medium",
          "medium",
          "medium",
          "medium",
          "medium",
          "medium",
          "medium",
          "medium",
          "medium",
          "medium",
          "medium",
          "medium",
          "medium",
          "medium",
          "medium",
          "medium",
          "medium",
          "medium",
          "medium",
          "medium",
          "medium",
          "medium",
          "medium",
          "medium",
          "medium",
          "medium",
          "medium",
          "medium",
          "medium",
          "medium",
          "medium",
          "medium",
          "medium",
          "medium",
          "medium",
          "medium",
          "medium",
          "medium",
          "medium",
          "medium",
          "medium",
          "medium",
          "medium",
          "medium",
          "medium",
          "medium",
          "medium",
          "medium",
          "medium",
          "medium",
          "medium",
          "medium",
          "medium",
          "medium",
          "medium",
          "medium",
          "medium",
          "medium",
          "medium",
          "medium",
          "medium",
          "medium",
          "medium",
          "medium",
          "medium",
          "medium",
          "medium",
          "medium",
          "medium",
          "medium",
          "medium",
          "medium",
          "medium",
          "medium",
          "medium",
          "medium",
          "medium",
          "medium",
          "medium",
          "medium",
          "medium",
          "medium",
          "medium",
          "medium",
          "medium",
          "medium",
          "medium",
          "medium",
          "medium",
          "medium",
          "medium",
          "medium",
          "medium",
          "medium",
          "medium",
          "medium",
          "medium",
          "medium",
          "medium",
          "medium",
          "medium",
          "medium",
          "medium",
          "medium",
          "medium",
          "medium",
          "medium",
          "medium",
          "medium",
          "medium",
          "medium",
          "medium",
          "medium",
          "medium",
          "medium",
          "medium",
          "medium",
          "medium",
          "medium",
          "medium",
          "medium",
          "medium",
          "medium",
          "medium",
          "medium",
          "medium",
          "medium",
          "medium",
          "medium",
          "medium",
          "medium",
          "medium",
          "medium",
          "medium",
          "medium",
          "medium",
          "medium",
          "medium",
          "medium",
          "medium",
          "medium",
          "medium",
          "medium",
          "medium",
          "medium",
          "medium",
          "medium",
          "medium",
          "medium",
          "medium",
          "medium",
          "medium",
          "medium",
          "medium",
          "medium",
          "medium",
          "medium",
          "medium",
          "medium",
          "medium",
          "medium",
          "medium",
          "medium",
          "medium",
          "medium",
          "medium",
          "medium",
          "medium",
          "medium",
          "medium",
          "medium",
          "medium",
          "medium",
          "medium",
          "medium",
          "medium",
          "medium",
          "medium",
          "medium",
          "medium",
          "medium",
          "medium",
          "medium",
          "medium",
          "medium",
          "medium",
          "medium",
          "medium",
          "medium",
          "medium",
          "medium",
          "medium",
          "medium",
          "medium",
          "medium",
          "medium",
          "medium",
          "medium",
          "medium",
          "medium",
          "medium",
          "medium",
          "medium",
          "medium",
          "medium",
          "medium",
          "medium",
          "medium",
          "medium",
          "medium",
          "medium",
          "medium",
          "medium",
          "medium",
          "medium",
          "medium",
          "medium",
          "medium",
          "medium",
          "medium",
          "medium",
          "medium",
          "medium",
          "medium",
          "medium",
          "medium",
          "medium",
          "medium",
          "medium",
          "medium",
          "medium",
          "medium",
          "medium",
          "medium",
          "medium",
          "medium",
          "medium",
          "medium",
          "medium",
          "medium",
          "medium",
          "medium",
          "medium",
          "medium",
          "medium",
          "medium",
          "medium",
          "medium",
          "medium",
          "medium",
          "medium",
          "medium",
          "medium",
          "medium",
          "medium",
          "medium",
          "medium",
          "medium",
          "medium",
          "medium",
          "medium",
          "medium",
          "medium",
          "medium",
          "medium",
          "medium",
          "medium",
          "medium",
          "medium",
          "medium",
          "medium",
          "medium",
          "medium",
          "medium",
          "medium",
          "medium",
          "medium",
          "medium",
          "medium",
          "medium",
          "medium",
          "medium",
          "medium",
          "medium",
          "medium",
          "medium",
          "medium",
          "medium",
          "medium",
          "medium",
          "medium",
          "medium",
          "medium",
          "medium",
          "medium",
          "medium",
          "medium",
          "medium",
          "medium",
          "medium",
          "medium",
          "medium",
          "medium",
          "medium",
          "medium",
          "medium",
          "medium",
          "medium",
          "medium",
          "medium",
          "medium",
          "medium",
          "medium",
          "medium",
          "medium",
          "medium",
          "medium",
          "medium",
          "medium",
          "medium",
          "medium",
          "medium",
          "medium",
          "medium",
          "medium",
          "medium",
          "medium",
          "medium",
          "medium",
          "medium",
          "medium",
          "medium",
          "medium",
          "medium",
          "medium",
          "medium",
          "medium",
          "medium",
          "medium",
          "medium",
          "medium",
          "medium",
          "medium",
          "medium",
          "medium",
          "medium",
          "medium",
          "medium",
          "medium",
          "medium",
          "medium",
          "medium",
          "medium",
          "medium",
          "medium",
          "medium",
          "medium",
          "medium",
          "medium",
          "medium",
          "medium",
          "medium",
          "medium",
          "medium",
          "medium",
          "medium",
          "medium",
          "medium",
          "medium",
          "medium",
          "medium",
          "medium",
          "medium",
          "medium",
          "medium",
          "medium",
          "medium",
          "medium",
          "medium",
          "medium",
          "medium",
          "medium",
          "medium",
          "medium",
          "medium",
          "medium",
          "medium",
          "medium",
          "medium",
          "medium",
          "medium",
          "medium",
          "medium",
          "medium",
          "medium",
          "medium",
          "medium",
          "medium",
          "medium",
          "medium",
          "medium",
          "medium",
          "medium",
          "medium",
          "medium",
          "medium",
          "medium",
          "medium",
          "medium",
          "medium",
          "medium",
          "medium",
          "medium",
          "medium",
          "medium",
          "medium",
          "medium",
          "medium",
          "medium",
          "medium",
          "medium",
          "medium",
          "medium",
          "medium",
          "medium",
          "medium",
          "medium",
          "medium",
          "medium",
          "medium",
          "medium",
          "medium",
          "medium",
          "medium",
          "medium",
          "medium",
          "medium",
          "medium",
          "medium",
          "medium",
          "medium",
          "medium",
          "medium",
          "medium",
          "medium",
          "medium",
          "medium",
          "medium",
          "medium",
          "medium",
          "medium",
          "medium",
          "medium",
          "medium",
          "medium",
          "medium",
          "medium",
          "medium",
          "medium",
          "medium",
          "medium",
          "medium",
          "medium",
          "medium",
          "medium",
          "medium",
          "medium",
          "medium",
          "medium",
          "medium",
          "medium",
          "medium",
          "medium",
          "medium",
          "medium",
          "medium",
          "medium",
          "medium",
          "medium",
          "medium",
          "medium",
          "medium",
          "medium",
          "medium",
          "medium",
          "medium",
          "medium",
          "medium",
          "medium",
          "medium",
          "medium",
          "medium",
          "medium",
          "medium",
          "medium",
          "medium",
          "medium",
          "medium",
          "medium",
          "medium",
          "medium",
          "medium",
          "medium",
          "medium",
          "medium",
          "medium",
          "medium",
          "medium",
          "medium",
          "medium",
          "medium",
          "medium",
          "medium",
          "medium",
          "medium",
          "medium",
          "medium",
          "medium",
          "medium",
          "medium",
          "medium",
          "medium",
          "medium",
          "medium",
          "medium",
          "medium",
          "medium",
          "medium",
          "medium",
          "medium",
          "medium",
          "medium",
          "medium",
          "medium",
          "medium",
          "medium",
          "medium",
          "medium",
          "medium",
          "medium",
          "medium",
          "medium",
          "medium",
          "medium",
          "medium",
          "medium",
          "medium",
          "medium",
          "medium",
          "medium",
          "medium",
          "medium",
          "medium",
          "medium",
          "medium",
          "medium",
          "medium",
          "medium",
          "medium",
          "medium",
          "medium",
          "medium",
          "medium",
          "medium",
          "medium",
          "medium",
          "medium",
          "medium",
          "medium",
          "medium",
          "medium",
          "medium",
          "medium",
          "medium",
          "medium"
         ],
         "x0": " ",
         "xaxis": "x",
         "y": {
          "bdata": "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",
          "dtype": "f8"
         },
         "y0": " ",
         "yaxis": "y"
        },
        {
         "alignmentgroup": "True",
         "hovertemplate": "Health Hidden Risk=%{x}<br>True Days Until Next Hospitalization=%{y}<extra></extra>",
         "legendgroup": "low",
         "marker": {
          "color": "#00cc96"
         },
         "name": "low",
         "notched": false,
         "offsetgroup": "low",
         "orientation": "v",
         "showlegend": true,
         "type": "box",
         "x": [
          "low",
          "low",
          "low",
          "low",
          "low",
          "low",
          "low",
          "low",
          "low",
          "low",
          "low",
          "low",
          "low",
          "low",
          "low",
          "low",
          "low",
          "low",
          "low",
          "low",
          "low",
          "low",
          "low",
          "low",
          "low",
          "low",
          "low",
          "low",
          "low",
          "low",
          "low",
          "low",
          "low",
          "low",
          "low",
          "low",
          "low",
          "low",
          "low",
          "low",
          "low",
          "low",
          "low",
          "low",
          "low",
          "low",
          "low",
          "low",
          "low",
          "low",
          "low",
          "low",
          "low",
          "low",
          "low",
          "low",
          "low",
          "low",
          "low",
          "low",
          "low",
          "low",
          "low",
          "low",
          "low",
          "low",
          "low",
          "low",
          "low",
          "low",
          "low",
          "low",
          "low",
          "low",
          "low",
          "low",
          "low",
          "low",
          "low",
          "low",
          "low",
          "low",
          "low",
          "low",
          "low",
          "low",
          "low",
          "low",
          "low",
          "low",
          "low",
          "low",
          "low",
          "low",
          "low",
          "low",
          "low",
          "low",
          "low",
          "low",
          "low",
          "low",
          "low",
          "low",
          "low",
          "low",
          "low",
          "low",
          "low",
          "low",
          "low",
          "low",
          "low",
          "low",
          "low",
          "low",
          "low",
          "low",
          "low",
          "low",
          "low",
          "low",
          "low",
          "low",
          "low",
          "low",
          "low",
          "low",
          "low",
          "low",
          "low",
          "low",
          "low",
          "low",
          "low",
          "low",
          "low",
          "low",
          "low",
          "low",
          "low",
          "low",
          "low",
          "low",
          "low",
          "low",
          "low",
          "low",
          "low",
          "low",
          "low",
          "low",
          "low",
          "low",
          "low",
          "low",
          "low",
          "low",
          "low",
          "low",
          "low",
          "low",
          "low",
          "low",
          "low",
          "low",
          "low",
          "low",
          "low",
          "low",
          "low",
          "low",
          "low",
          "low",
          "low",
          "low",
          "low",
          "low",
          "low",
          "low",
          "low",
          "low",
          "low",
          "low",
          "low",
          "low",
          "low",
          "low",
          "low",
          "low",
          "low",
          "low",
          "low",
          "low",
          "low",
          "low",
          "low",
          "low",
          "low",
          "low",
          "low",
          "low",
          "low",
          "low",
          "low",
          "low",
          "low",
          "low",
          "low",
          "low",
          "low",
          "low",
          "low",
          "low",
          "low",
          "low",
          "low",
          "low",
          "low",
          "low",
          "low",
          "low",
          "low",
          "low",
          "low",
          "low",
          "low",
          "low",
          "low",
          "low",
          "low",
          "low",
          "low",
          "low",
          "low",
          "low",
          "low",
          "low",
          "low",
          "low",
          "low",
          "low",
          "low",
          "low",
          "low",
          "low",
          "low",
          "low",
          "low",
          "low",
          "low",
          "low",
          "low",
          "low",
          "low",
          "low",
          "low",
          "low",
          "low",
          "low",
          "low",
          "low",
          "low",
          "low",
          "low",
          "low",
          "low",
          "low",
          "low",
          "low",
          "low",
          "low",
          "low",
          "low",
          "low",
          "low",
          "low",
          "low",
          "low",
          "low",
          "low",
          "low",
          "low",
          "low",
          "low",
          "low",
          "low",
          "low",
          "low",
          "low",
          "low",
          "low",
          "low",
          "low",
          "low",
          "low",
          "low",
          "low",
          "low",
          "low",
          "low",
          "low",
          "low",
          "low",
          "low",
          "low",
          "low",
          "low",
          "low",
          "low",
          "low",
          "low",
          "low",
          "low",
          "low",
          "low",
          "low",
          "low",
          "low",
          "low",
          "low",
          "low",
          "low",
          "low",
          "low",
          "low",
          "low",
          "low",
          "low",
          "low",
          "low",
          "low",
          "low",
          "low",
          "low",
          "low",
          "low",
          "low",
          "low",
          "low",
          "low",
          "low",
          "low",
          "low",
          "low",
          "low",
          "low",
          "low",
          "low",
          "low",
          "low",
          "low",
          "low",
          "low",
          "low",
          "low",
          "low",
          "low",
          "low",
          "low",
          "low",
          "low",
          "low",
          "low",
          "low",
          "low",
          "low",
          "low",
          "low",
          "low",
          "low",
          "low",
          "low",
          "low",
          "low",
          "low",
          "low",
          "low",
          "low",
          "low",
          "low",
          "low",
          "low",
          "low",
          "low",
          "low",
          "low",
          "low",
          "low",
          "low",
          "low",
          "low",
          "low",
          "low",
          "low",
          "low",
          "low",
          "low",
          "low",
          "low",
          "low",
          "low",
          "low",
          "low",
          "low",
          "low",
          "low",
          "low",
          "low",
          "low",
          "low",
          "low",
          "low",
          "low",
          "low",
          "low",
          "low",
          "low",
          "low",
          "low",
          "low",
          "low",
          "low",
          "low",
          "low",
          "low",
          "low",
          "low",
          "low",
          "low",
          "low",
          "low",
          "low",
          "low",
          "low",
          "low",
          "low",
          "low",
          "low",
          "low",
          "low",
          "low",
          "low",
          "low",
          "low",
          "low",
          "low",
          "low",
          "low",
          "low",
          "low",
          "low",
          "low",
          "low",
          "low",
          "low",
          "low",
          "low",
          "low",
          "low",
          "low",
          "low",
          "low",
          "low",
          "low",
          "low",
          "low",
          "low",
          "low",
          "low",
          "low",
          "low",
          "low",
          "low",
          "low",
          "low",
          "low",
          "low",
          "low",
          "low",
          "low",
          "low",
          "low",
          "low",
          "low",
          "low",
          "low",
          "low",
          "low",
          "low",
          "low",
          "low",
          "low",
          "low",
          "low",
          "low",
          "low",
          "low",
          "low",
          "low",
          "low",
          "low",
          "low",
          "low",
          "low",
          "low",
          "low",
          "low",
          "low",
          "low",
          "low",
          "low",
          "low",
          "low",
          "low",
          "low",
          "low",
          "low",
          "low",
          "low",
          "low",
          "low",
          "low",
          "low",
          "low",
          "low",
          "low",
          "low",
          "low",
          "low",
          "low",
          "low",
          "low",
          "low",
          "low",
          "low",
          "low",
          "low",
          "low",
          "low",
          "low",
          "low",
          "low",
          "low",
          "low",
          "low",
          "low",
          "low",
          "low",
          "low",
          "low",
          "low",
          "low",
          "low",
          "low",
          "low",
          "low",
          "low",
          "low",
          "low",
          "low",
          "low",
          "low",
          "low",
          "low",
          "low",
          "low",
          "low",
          "low",
          "low",
          "low",
          "low",
          "low",
          "low",
          "low",
          "low",
          "low",
          "low",
          "low",
          "low",
          "low",
          "low",
          "low",
          "low",
          "low",
          "low",
          "low",
          "low",
          "low",
          "low",
          "low",
          "low",
          "low",
          "low",
          "low",
          "low",
          "low",
          "low",
          "low",
          "low",
          "low",
          "low",
          "low",
          "low",
          "low",
          "low",
          "low",
          "low",
          "low",
          "low",
          "low",
          "low",
          "low",
          "low",
          "low",
          "low",
          "low",
          "low",
          "low",
          "low",
          "low",
          "low",
          "low",
          "low",
          "low",
          "low",
          "low",
          "low",
          "low",
          "low",
          "low",
          "low",
          "low",
          "low",
          "low",
          "low",
          "low",
          "low",
          "low",
          "low",
          "low",
          "low",
          "low",
          "low",
          "low",
          "low",
          "low",
          "low",
          "low",
          "low",
          "low",
          "low",
          "low",
          "low",
          "low",
          "low",
          "low",
          "low",
          "low",
          "low",
          "low",
          "low",
          "low",
          "low",
          "low",
          "low",
          "low",
          "low",
          "low",
          "low",
          "low",
          "low",
          "low",
          "low",
          "low",
          "low",
          "low",
          "low",
          "low",
          "low",
          "low",
          "low",
          "low",
          "low",
          "low",
          "low",
          "low",
          "low",
          "low",
          "low",
          "low",
          "low",
          "low",
          "low",
          "low",
          "low",
          "low",
          "low",
          "low",
          "low",
          "low",
          "low",
          "low",
          "low",
          "low",
          "low",
          "low",
          "low",
          "low",
          "low",
          "low",
          "low",
          "low",
          "low",
          "low",
          "low",
          "low",
          "low",
          "low",
          "low",
          "low",
          "low",
          "low",
          "low",
          "low",
          "low",
          "low",
          "low",
          "low",
          "low",
          "low",
          "low",
          "low",
          "low",
          "low",
          "low",
          "low",
          "low",
          "low",
          "low",
          "low",
          "low",
          "low",
          "low",
          "low",
          "low",
          "low",
          "low",
          "low",
          "low",
          "low",
          "low",
          "low",
          "low",
          "low",
          "low",
          "low",
          "low",
          "low",
          "low",
          "low",
          "low",
          "low",
          "low",
          "low",
          "low",
          "low",
          "low",
          "low",
          "low",
          "low",
          "low",
          "low",
          "low",
          "low",
          "low",
          "low",
          "low",
          "low",
          "low",
          "low",
          "low",
          "low",
          "low",
          "low",
          "low",
          "low",
          "low",
          "low",
          "low",
          "low",
          "low",
          "low",
          "low",
          "low",
          "low",
          "low",
          "low",
          "low",
          "low",
          "low",
          "low",
          "low",
          "low",
          "low",
          "low",
          "low",
          "low",
          "low",
          "low",
          "low",
          "low",
          "low",
          "low",
          "low",
          "low",
          "low",
          "low",
          "low",
          "low",
          "low",
          "low",
          "low",
          "low",
          "low",
          "low",
          "low",
          "low",
          "low",
          "low",
          "low",
          "low",
          "low",
          "low",
          "low",
          "low",
          "low",
          "low",
          "low",
          "low",
          "low",
          "low",
          "low",
          "low",
          "low",
          "low",
          "low",
          "low",
          "low",
          "low",
          "low",
          "low",
          "low",
          "low",
          "low",
          "low",
          "low",
          "low",
          "low",
          "low",
          "low",
          "low",
          "low",
          "low",
          "low",
          "low",
          "low",
          "low",
          "low",
          "low",
          "low",
          "low",
          "low",
          "low",
          "low",
          "low",
          "low",
          "low",
          "low",
          "low",
          "low",
          "low",
          "low",
          "low",
          "low",
          "low",
          "low",
          "low",
          "low",
          "low",
          "low",
          "low",
          "low",
          "low",
          "low",
          "low",
          "low",
          "low",
          "low",
          "low",
          "low",
          "low",
          "low",
          "low",
          "low",
          "low",
          "low",
          "low",
          "low",
          "low",
          "low",
          "low",
          "low",
          "low",
          "low",
          "low",
          "low",
          "low",
          "low",
          "low",
          "low",
          "low",
          "low",
          "low",
          "low",
          "low",
          "low",
          "low",
          "low",
          "low",
          "low",
          "low",
          "low",
          "low",
          "low",
          "low",
          "low",
          "low",
          "low",
          "low",
          "low",
          "low",
          "low",
          "low",
          "low",
          "low",
          "low",
          "low",
          "low",
          "low",
          "low",
          "low",
          "low",
          "low",
          "low",
          "low",
          "low",
          "low",
          "low",
          "low",
          "low",
          "low",
          "low",
          "low",
          "low",
          "low",
          "low",
          "low",
          "low",
          "low",
          "low",
          "low",
          "low",
          "low",
          "low",
          "low",
          "low",
          "low",
          "low",
          "low",
          "low",
          "low",
          "low",
          "low",
          "low",
          "low",
          "low",
          "low",
          "low",
          "low",
          "low",
          "low",
          "low",
          "low",
          "low",
          "low",
          "low",
          "low",
          "low",
          "low",
          "low",
          "low",
          "low",
          "low",
          "low",
          "low",
          "low",
          "low",
          "low",
          "low",
          "low",
          "low",
          "low",
          "low",
          "low",
          "low",
          "low",
          "low",
          "low",
          "low",
          "low",
          "low",
          "low",
          "low",
          "low",
          "low",
          "low",
          "low",
          "low",
          "low",
          "low",
          "low",
          "low",
          "low",
          "low",
          "low",
          "low",
          "low",
          "low",
          "low",
          "low",
          "low",
          "low",
          "low",
          "low",
          "low",
          "low",
          "low",
          "low",
          "low",
          "low",
          "low",
          "low",
          "low",
          "low",
          "low",
          "low",
          "low",
          "low",
          "low",
          "low",
          "low",
          "low",
          "low",
          "low",
          "low",
          "low",
          "low",
          "low",
          "low",
          "low",
          "low",
          "low",
          "low",
          "low",
          "low",
          "low",
          "low",
          "low",
          "low",
          "low",
          "low",
          "low",
          "low",
          "low",
          "low",
          "low",
          "low",
          "low",
          "low",
          "low",
          "low",
          "low",
          "low",
          "low",
          "low",
          "low",
          "low",
          "low",
          "low",
          "low",
          "low",
          "low",
          "low",
          "low",
          "low",
          "low",
          "low",
          "low",
          "low",
          "low",
          "low",
          "low",
          "low",
          "low",
          "low",
          "low",
          "low",
          "low",
          "low",
          "low",
          "low",
          "low",
          "low",
          "low",
          "low",
          "low",
          "low",
          "low",
          "low",
          "low",
          "low",
          "low",
          "low",
          "low",
          "low",
          "low",
          "low",
          "low",
          "low",
          "low",
          "low",
          "low",
          "low",
          "low",
          "low",
          "low",
          "low",
          "low",
          "low",
          "low",
          "low",
          "low",
          "low",
          "low",
          "low",
          "low",
          "low",
          "low",
          "low",
          "low",
          "low",
          "low",
          "low",
          "low",
          "low",
          "low",
          "low",
          "low",
          "low",
          "low",
          "low",
          "low",
          "low",
          "low",
          "low",
          "low",
          "low",
          "low",
          "low",
          "low",
          "low",
          "low",
          "low",
          "low",
          "low",
          "low",
          "low",
          "low",
          "low",
          "low",
          "low",
          "low",
          "low",
          "low",
          "low",
          "low",
          "low",
          "low",
          "low",
          "low",
          "low",
          "low",
          "low",
          "low",
          "low",
          "low",
          "low",
          "low",
          "low",
          "low",
          "low",
          "low",
          "low",
          "low",
          "low",
          "low",
          "low",
          "low",
          "low",
          "low",
          "low",
          "low",
          "low",
          "low",
          "low",
          "low",
          "low",
          "low",
          "low",
          "low",
          "low",
          "low",
          "low",
          "low",
          "low",
          "low",
          "low",
          "low",
          "low",
          "low",
          "low",
          "low",
          "low",
          "low",
          "low",
          "low",
          "low",
          "low",
          "low",
          "low",
          "low",
          "low",
          "low",
          "low",
          "low",
          "low",
          "low",
          "low",
          "low",
          "low",
          "low",
          "low",
          "low",
          "low",
          "low",
          "low",
          "low",
          "low",
          "low",
          "low",
          "low",
          "low",
          "low",
          "low",
          "low",
          "low",
          "low",
          "low",
          "low",
          "low",
          "low",
          "low",
          "low",
          "low",
          "low",
          "low",
          "low",
          "low",
          "low",
          "low",
          "low",
          "low",
          "low",
          "low",
          "low",
          "low",
          "low",
          "low",
          "low",
          "low",
          "low",
          "low",
          "low",
          "low",
          "low",
          "low",
          "low",
          "low",
          "low",
          "low",
          "low",
          "low",
          "low",
          "low",
          "low",
          "low",
          "low",
          "low",
          "low",
          "low",
          "low",
          "low",
          "low",
          "low",
          "low",
          "low",
          "low",
          "low",
          "low",
          "low",
          "low",
          "low",
          "low",
          "low",
          "low",
          "low",
          "low",
          "low",
          "low",
          "low",
          "low",
          "low",
          "low",
          "low",
          "low",
          "low",
          "low",
          "low",
          "low",
          "low",
          "low",
          "low",
          "low",
          "low",
          "low",
          "low",
          "low",
          "low",
          "low",
          "low",
          "low",
          "low",
          "low",
          "low",
          "low",
          "low",
          "low",
          "low",
          "low",
          "low",
          "low",
          "low",
          "low",
          "low",
          "low",
          "low",
          "low",
          "low",
          "low",
          "low",
          "low",
          "low",
          "low",
          "low",
          "low",
          "low",
          "low",
          "low",
          "low",
          "low",
          "low",
          "low",
          "low",
          "low",
          "low",
          "low",
          "low",
          "low",
          "low",
          "low",
          "low",
          "low",
          "low",
          "low",
          "low",
          "low",
          "low",
          "low",
          "low",
          "low",
          "low",
          "low",
          "low",
          "low",
          "low",
          "low",
          "low",
          "low",
          "low",
          "low",
          "low",
          "low",
          "low",
          "low",
          "low",
          "low",
          "low",
          "low",
          "low",
          "low",
          "low",
          "low",
          "low",
          "low",
          "low",
          "low",
          "low",
          "low",
          "low",
          "low",
          "low",
          "low",
          "low",
          "low",
          "low",
          "low"
         ],
         "x0": " ",
         "xaxis": "x",
         "y": {
          "bdata": "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",
          "dtype": "f8"
         },
         "y0": " ",
         "yaxis": "y"
        }
       ],
       "layout": {
        "boxmode": "overlay",
        "legend": {
         "title": {
          "text": "Health Hidden Risk"
         },
         "tracegroupgap": 0
        },
        "template": {
         "data": {
          "bar": [
           {
            "error_x": {
             "color": "#2a3f5f"
            },
            "error_y": {
             "color": "#2a3f5f"
            },
            "marker": {
             "line": {
              "color": "#E5ECF6",
              "width": 0.5
             },
             "pattern": {
              "fillmode": "overlay",
              "size": 10,
              "solidity": 0.2
             }
            },
            "type": "bar"
           }
          ],
          "barpolar": [
           {
            "marker": {
             "line": {
              "color": "#E5ECF6",
              "width": 0.5
             },
             "pattern": {
              "fillmode": "overlay",
              "size": 10,
              "solidity": 0.2
             }
            },
            "type": "barpolar"
           }
          ],
          "carpet": [
           {
            "aaxis": {
             "endlinecolor": "#2a3f5f",
             "gridcolor": "white",
             "linecolor": "white",
             "minorgridcolor": "white",
             "startlinecolor": "#2a3f5f"
            },
            "baxis": {
             "endlinecolor": "#2a3f5f",
             "gridcolor": "white",
             "linecolor": "white",
             "minorgridcolor": "white",
             "startlinecolor": "#2a3f5f"
            },
            "type": "carpet"
           }
          ],
          "choropleth": [
           {
            "colorbar": {
             "outlinewidth": 0,
             "ticks": ""
            },
            "type": "choropleth"
           }
          ],
          "contour": [
           {
            "colorbar": {
             "outlinewidth": 0,
             "ticks": ""
            },
            "colorscale": [
             [
              0,
              "#0d0887"
             ],
             [
              0.1111111111111111,
              "#46039f"
             ],
             [
              0.2222222222222222,
              "#7201a8"
             ],
             [
              0.3333333333333333,
              "#9c179e"
             ],
             [
              0.4444444444444444,
              "#bd3786"
             ],
             [
              0.5555555555555556,
              "#d8576b"
             ],
             [
              0.6666666666666666,
              "#ed7953"
             ],
             [
              0.7777777777777778,
              "#fb9f3a"
             ],
             [
              0.8888888888888888,
              "#fdca26"
             ],
             [
              1,
              "#f0f921"
             ]
            ],
            "type": "contour"
           }
          ],
          "contourcarpet": [
           {
            "colorbar": {
             "outlinewidth": 0,
             "ticks": ""
            },
            "type": "contourcarpet"
           }
          ],
          "heatmap": [
           {
            "colorbar": {
             "outlinewidth": 0,
             "ticks": ""
            },
            "colorscale": [
             [
              0,
              "#0d0887"
             ],
             [
              0.1111111111111111,
              "#46039f"
             ],
             [
              0.2222222222222222,
              "#7201a8"
             ],
             [
              0.3333333333333333,
              "#9c179e"
             ],
             [
              0.4444444444444444,
              "#bd3786"
             ],
             [
              0.5555555555555556,
              "#d8576b"
             ],
             [
              0.6666666666666666,
              "#ed7953"
             ],
             [
              0.7777777777777778,
              "#fb9f3a"
             ],
             [
              0.8888888888888888,
              "#fdca26"
             ],
             [
              1,
              "#f0f921"
             ]
            ],
            "type": "heatmap"
           }
          ],
          "histogram": [
           {
            "marker": {
             "pattern": {
              "fillmode": "overlay",
              "size": 10,
              "solidity": 0.2
             }
            },
            "type": "histogram"
           }
          ],
          "histogram2d": [
           {
            "colorbar": {
             "outlinewidth": 0,
             "ticks": ""
            },
            "colorscale": [
             [
              0,
              "#0d0887"
             ],
             [
              0.1111111111111111,
              "#46039f"
             ],
             [
              0.2222222222222222,
              "#7201a8"
             ],
             [
              0.3333333333333333,
              "#9c179e"
             ],
             [
              0.4444444444444444,
              "#bd3786"
             ],
             [
              0.5555555555555556,
              "#d8576b"
             ],
             [
              0.6666666666666666,
              "#ed7953"
             ],
             [
              0.7777777777777778,
              "#fb9f3a"
             ],
             [
              0.8888888888888888,
              "#fdca26"
             ],
             [
              1,
              "#f0f921"
             ]
            ],
            "type": "histogram2d"
           }
          ],
          "histogram2dcontour": [
           {
            "colorbar": {
             "outlinewidth": 0,
             "ticks": ""
            },
            "colorscale": [
             [
              0,
              "#0d0887"
             ],
             [
              0.1111111111111111,
              "#46039f"
             ],
             [
              0.2222222222222222,
              "#7201a8"
             ],
             [
              0.3333333333333333,
              "#9c179e"
             ],
             [
              0.4444444444444444,
              "#bd3786"
             ],
             [
              0.5555555555555556,
              "#d8576b"
             ],
             [
              0.6666666666666666,
              "#ed7953"
             ],
             [
              0.7777777777777778,
              "#fb9f3a"
             ],
             [
              0.8888888888888888,
              "#fdca26"
             ],
             [
              1,
              "#f0f921"
             ]
            ],
            "type": "histogram2dcontour"
           }
          ],
          "mesh3d": [
           {
            "colorbar": {
             "outlinewidth": 0,
             "ticks": ""
            },
            "type": "mesh3d"
           }
          ],
          "parcoords": [
           {
            "line": {
             "colorbar": {
              "outlinewidth": 0,
              "ticks": ""
             }
            },
            "type": "parcoords"
           }
          ],
          "pie": [
           {
            "automargin": true,
            "type": "pie"
           }
          ],
          "scatter": [
           {
            "fillpattern": {
             "fillmode": "overlay",
             "size": 10,
             "solidity": 0.2
            },
            "type": "scatter"
           }
          ],
          "scatter3d": [
           {
            "line": {
             "colorbar": {
              "outlinewidth": 0,
              "ticks": ""
             }
            },
            "marker": {
             "colorbar": {
              "outlinewidth": 0,
              "ticks": ""
             }
            },
            "type": "scatter3d"
           }
          ],
          "scattercarpet": [
           {
            "marker": {
             "colorbar": {
              "outlinewidth": 0,
              "ticks": ""
             }
            },
            "type": "scattercarpet"
           }
          ],
          "scattergeo": [
           {
            "marker": {
             "colorbar": {
              "outlinewidth": 0,
              "ticks": ""
             }
            },
            "type": "scattergeo"
           }
          ],
          "scattergl": [
           {
            "marker": {
             "colorbar": {
              "outlinewidth": 0,
              "ticks": ""
             }
            },
            "type": "scattergl"
           }
          ],
          "scattermap": [
           {
            "marker": {
             "colorbar": {
              "outlinewidth": 0,
              "ticks": ""
             }
            },
            "type": "scattermap"
           }
          ],
          "scattermapbox": [
           {
            "marker": {
             "colorbar": {
              "outlinewidth": 0,
              "ticks": ""
             }
            },
            "type": "scattermapbox"
           }
          ],
          "scatterpolar": [
           {
            "marker": {
             "colorbar": {
              "outlinewidth": 0,
              "ticks": ""
             }
            },
            "type": "scatterpolar"
           }
          ],
          "scatterpolargl": [
           {
            "marker": {
             "colorbar": {
              "outlinewidth": 0,
              "ticks": ""
             }
            },
            "type": "scatterpolargl"
           }
          ],
          "scatterternary": [
           {
            "marker": {
             "colorbar": {
              "outlinewidth": 0,
              "ticks": ""
             }
            },
            "type": "scatterternary"
           }
          ],
          "surface": [
           {
            "colorbar": {
             "outlinewidth": 0,
             "ticks": ""
            },
            "colorscale": [
             [
              0,
              "#0d0887"
             ],
             [
              0.1111111111111111,
              "#46039f"
             ],
             [
              0.2222222222222222,
              "#7201a8"
             ],
             [
              0.3333333333333333,
              "#9c179e"
             ],
             [
              0.4444444444444444,
              "#bd3786"
             ],
             [
              0.5555555555555556,
              "#d8576b"
             ],
             [
              0.6666666666666666,
              "#ed7953"
             ],
             [
              0.7777777777777778,
              "#fb9f3a"
             ],
             [
              0.8888888888888888,
              "#fdca26"
             ],
             [
              1,
              "#f0f921"
             ]
            ],
            "type": "surface"
           }
          ],
          "table": [
           {
            "cells": {
             "fill": {
              "color": "#EBF0F8"
             },
             "line": {
              "color": "white"
             }
            },
            "header": {
             "fill": {
              "color": "#C8D4E3"
             },
             "line": {
              "color": "white"
             }
            },
            "type": "table"
           }
          ]
         },
         "layout": {
          "annotationdefaults": {
           "arrowcolor": "#2a3f5f",
           "arrowhead": 0,
           "arrowwidth": 1
          },
          "autotypenumbers": "strict",
          "coloraxis": {
           "colorbar": {
            "outlinewidth": 0,
            "ticks": ""
           }
          },
          "colorscale": {
           "diverging": [
            [
             0,
             "#8e0152"
            ],
            [
             0.1,
             "#c51b7d"
            ],
            [
             0.2,
             "#de77ae"
            ],
            [
             0.3,
             "#f1b6da"
            ],
            [
             0.4,
             "#fde0ef"
            ],
            [
             0.5,
             "#f7f7f7"
            ],
            [
             0.6,
             "#e6f5d0"
            ],
            [
             0.7,
             "#b8e186"
            ],
            [
             0.8,
             "#7fbc41"
            ],
            [
             0.9,
             "#4d9221"
            ],
            [
             1,
             "#276419"
            ]
           ],
           "sequential": [
            [
             0,
             "#0d0887"
            ],
            [
             0.1111111111111111,
             "#46039f"
            ],
            [
             0.2222222222222222,
             "#7201a8"
            ],
            [
             0.3333333333333333,
             "#9c179e"
            ],
            [
             0.4444444444444444,
             "#bd3786"
            ],
            [
             0.5555555555555556,
             "#d8576b"
            ],
            [
             0.6666666666666666,
             "#ed7953"
            ],
            [
             0.7777777777777778,
             "#fb9f3a"
            ],
            [
             0.8888888888888888,
             "#fdca26"
            ],
            [
             1,
             "#f0f921"
            ]
           ],
           "sequentialminus": [
            [
             0,
             "#0d0887"
            ],
            [
             0.1111111111111111,
             "#46039f"
            ],
            [
             0.2222222222222222,
             "#7201a8"
            ],
            [
             0.3333333333333333,
             "#9c179e"
            ],
            [
             0.4444444444444444,
             "#bd3786"
            ],
            [
             0.5555555555555556,
             "#d8576b"
            ],
            [
             0.6666666666666666,
             "#ed7953"
            ],
            [
             0.7777777777777778,
             "#fb9f3a"
            ],
            [
             0.8888888888888888,
             "#fdca26"
            ],
            [
             1,
             "#f0f921"
            ]
           ]
          },
          "colorway": [
           "#636efa",
           "#EF553B",
           "#00cc96",
           "#ab63fa",
           "#FFA15A",
           "#19d3f3",
           "#FF6692",
           "#B6E880",
           "#FF97FF",
           "#FECB52"
          ],
          "font": {
           "color": "#2a3f5f"
          },
          "geo": {
           "bgcolor": "white",
           "lakecolor": "white",
           "landcolor": "#E5ECF6",
           "showlakes": true,
           "showland": true,
           "subunitcolor": "white"
          },
          "hoverlabel": {
           "align": "left"
          },
          "hovermode": "closest",
          "mapbox": {
           "style": "light"
          },
          "paper_bgcolor": "white",
          "plot_bgcolor": "#E5ECF6",
          "polar": {
           "angularaxis": {
            "gridcolor": "white",
            "linecolor": "white",
            "ticks": ""
           },
           "bgcolor": "#E5ECF6",
           "radialaxis": {
            "gridcolor": "white",
            "linecolor": "white",
            "ticks": ""
           }
          },
          "scene": {
           "xaxis": {
            "backgroundcolor": "#E5ECF6",
            "gridcolor": "white",
            "gridwidth": 2,
            "linecolor": "white",
            "showbackground": true,
            "ticks": "",
            "zerolinecolor": "white"
           },
           "yaxis": {
            "backgroundcolor": "#E5ECF6",
            "gridcolor": "white",
            "gridwidth": 2,
            "linecolor": "white",
            "showbackground": true,
            "ticks": "",
            "zerolinecolor": "white"
           },
           "zaxis": {
            "backgroundcolor": "#E5ECF6",
            "gridcolor": "white",
            "gridwidth": 2,
            "linecolor": "white",
            "showbackground": true,
            "ticks": "",
            "zerolinecolor": "white"
           }
          },
          "shapedefaults": {
           "line": {
            "color": "#2a3f5f"
           }
          },
          "ternary": {
           "aaxis": {
            "gridcolor": "white",
            "linecolor": "white",
            "ticks": ""
           },
           "baxis": {
            "gridcolor": "white",
            "linecolor": "white",
            "ticks": ""
           },
           "bgcolor": "#E5ECF6",
           "caxis": {
            "gridcolor": "white",
            "linecolor": "white",
            "ticks": ""
           }
          },
          "title": {
           "x": 0.05
          },
          "xaxis": {
           "automargin": true,
           "gridcolor": "white",
           "linecolor": "white",
           "ticks": "",
           "title": {
            "standoff": 15
           },
           "zerolinecolor": "white",
           "zerolinewidth": 2
          },
          "yaxis": {
           "automargin": true,
           "gridcolor": "white",
           "linecolor": "white",
           "ticks": "",
           "title": {
            "standoff": 15
           },
           "zerolinecolor": "white",
           "zerolinewidth": 2
          }
         }
        },
        "title": {
         "text": "True Days Until Next Hospit by Pred. Hidden Risk State - Training Data HMM"
        },
        "xaxis": {
         "anchor": "y",
         "categoryarray": [
          "high",
          "medium",
          "low"
         ],
         "categoryorder": "array",
         "domain": [
          0,
          1
         ],
         "title": {
          "text": "Health Hidden Risk"
         }
        },
        "yaxis": {
         "anchor": "x",
         "domain": [
          0,
          1
         ],
         "title": {
          "text": "True Days Until Next Hospitalization"
         }
        }
       }
      }
     },
     "metadata": {},
     "output_type": "display_data"
    }
   ],
   "source": [
    "import plotly.express as px\n",
    "\n",
    "px.box(historical_events_hmm_features_df,\n",
    "        x='HEALTH_HIDDEN_RISK', y='DAYS_UNTIL_NEXT_HOSPITALIZATION',\n",
    "        color='HEALTH_HIDDEN_RISK',\n",
    "        category_orders={'HEALTH_HIDDEN_RISK': hidden_state_labels_order},\n",
    "        title=\"True Days Until Next Hospit by Pred. Hidden Risk State - Training Data HMM\",\n",
    "        labels={'HEALTH_HIDDEN_RISK': 'Health Hidden Risk', 'DAYS_UNTIL_NEXT_HOSPITALIZATION': 'True Days Until Next Hospitalization'})"
   ]
  },
  {
   "cell_type": "code",
   "execution_count": 8,
   "metadata": {},
   "outputs": [
    {
     "data": {
      "application/vnd.plotly.v1+json": {
       "config": {
        "plotlyServerURL": "https://plot.ly"
       },
       "data": [
        {
         "alignmentgroup": "True",
         "hovertemplate": "Pred. Health Hidden Risk=%{x}<br>Pred. Probability of Hidden Risk State=%{y}<extra></extra>",
         "legendgroup": "high",
         "marker": {
          "color": "#636EFA"
         },
         "name": "high",
         "notched": false,
         "offsetgroup": "high",
         "orientation": "v",
         "showlegend": true,
         "type": "box",
         "x": [
          "high",
          "high",
          "high",
          "high",
          "high",
          "high",
          "high",
          "high",
          "high",
          "high",
          "high",
          "high",
          "high",
          "high",
          "high",
          "high",
          "high",
          "high",
          "high",
          "high",
          "high",
          "high",
          "high",
          "high",
          "high",
          "high",
          "high",
          "high",
          "high",
          "high",
          "high",
          "high",
          "high",
          "high",
          "high",
          "high",
          "high",
          "high",
          "high",
          "high",
          "high",
          "high",
          "high",
          "high",
          "high",
          "high",
          "high",
          "high",
          "high",
          "high",
          "high",
          "high",
          "high",
          "high",
          "high",
          "high",
          "high",
          "high",
          "high",
          "high",
          "high",
          "high",
          "high",
          "high",
          "high",
          "high",
          "high",
          "high",
          "high",
          "high",
          "high",
          "high",
          "high",
          "high",
          "high",
          "high",
          "high",
          "high",
          "high",
          "high",
          "high",
          "high",
          "high",
          "high",
          "high",
          "high",
          "high",
          "high",
          "high",
          "high",
          "high",
          "high",
          "high",
          "high",
          "high",
          "high",
          "high",
          "high",
          "high",
          "high",
          "high",
          "high",
          "high",
          "high",
          "high",
          "high",
          "high",
          "high",
          "high",
          "high",
          "high",
          "high",
          "high",
          "high",
          "high",
          "high",
          "high",
          "high",
          "high",
          "high",
          "high",
          "high",
          "high",
          "high",
          "high",
          "high",
          "high",
          "high",
          "high",
          "high",
          "high",
          "high",
          "high",
          "high",
          "high",
          "high",
          "high",
          "high",
          "high",
          "high",
          "high",
          "high",
          "high",
          "high",
          "high",
          "high",
          "high",
          "high",
          "high",
          "high",
          "high",
          "high",
          "high",
          "high",
          "high",
          "high",
          "high",
          "high",
          "high",
          "high",
          "high",
          "high",
          "high",
          "high",
          "high",
          "high",
          "high",
          "high",
          "high",
          "high",
          "high",
          "high",
          "high",
          "high",
          "high",
          "high",
          "high",
          "high",
          "high",
          "high",
          "high",
          "high",
          "high",
          "high",
          "high",
          "high",
          "high",
          "high",
          "high",
          "high",
          "high",
          "high",
          "high",
          "high",
          "high",
          "high",
          "high",
          "high",
          "high",
          "high",
          "high",
          "high",
          "high",
          "high",
          "high",
          "high",
          "high",
          "high",
          "high",
          "high",
          "high",
          "high",
          "high",
          "high",
          "high",
          "high",
          "high",
          "high",
          "high",
          "high",
          "high",
          "high",
          "high",
          "high",
          "high",
          "high",
          "high",
          "high",
          "high",
          "high",
          "high",
          "high",
          "high",
          "high",
          "high",
          "high",
          "high",
          "high",
          "high",
          "high",
          "high",
          "high",
          "high",
          "high",
          "high",
          "high",
          "high",
          "high",
          "high",
          "high",
          "high",
          "high",
          "high",
          "high",
          "high",
          "high",
          "high",
          "high",
          "high",
          "high",
          "high",
          "high",
          "high",
          "high",
          "high",
          "high",
          "high",
          "high",
          "high",
          "high",
          "high",
          "high",
          "high",
          "high",
          "high",
          "high",
          "high",
          "high",
          "high",
          "high",
          "high",
          "high",
          "high",
          "high",
          "high",
          "high",
          "high",
          "high",
          "high",
          "high",
          "high",
          "high",
          "high",
          "high",
          "high",
          "high",
          "high",
          "high",
          "high",
          "high",
          "high",
          "high",
          "high",
          "high",
          "high",
          "high",
          "high",
          "high",
          "high",
          "high",
          "high",
          "high",
          "high",
          "high",
          "high",
          "high",
          "high",
          "high",
          "high",
          "high",
          "high",
          "high",
          "high",
          "high",
          "high",
          "high",
          "high",
          "high",
          "high",
          "high",
          "high",
          "high",
          "high",
          "high",
          "high",
          "high",
          "high",
          "high",
          "high",
          "high",
          "high",
          "high",
          "high",
          "high",
          "high",
          "high",
          "high",
          "high",
          "high",
          "high",
          "high",
          "high",
          "high",
          "high",
          "high",
          "high",
          "high",
          "high",
          "high",
          "high",
          "high",
          "high",
          "high",
          "high",
          "high",
          "high",
          "high",
          "high",
          "high",
          "high",
          "high",
          "high",
          "high",
          "high",
          "high",
          "high",
          "high",
          "high",
          "high",
          "high",
          "high",
          "high",
          "high",
          "high",
          "high",
          "high",
          "high",
          "high",
          "high",
          "high",
          "high",
          "high",
          "high",
          "high",
          "high",
          "high",
          "high",
          "high",
          "high",
          "high",
          "high",
          "high",
          "high",
          "high",
          "high",
          "high",
          "high",
          "high",
          "high",
          "high",
          "high",
          "high",
          "high",
          "high",
          "high",
          "high",
          "high",
          "high",
          "high",
          "high",
          "high",
          "high",
          "high",
          "high",
          "high",
          "high",
          "high",
          "high",
          "high",
          "high",
          "high",
          "high",
          "high",
          "high",
          "high",
          "high",
          "high",
          "high",
          "high",
          "high",
          "high",
          "high",
          "high",
          "high",
          "high",
          "high",
          "high",
          "high",
          "high",
          "high",
          "high",
          "high",
          "high",
          "high",
          "high",
          "high",
          "high",
          "high",
          "high",
          "high",
          "high",
          "high",
          "high",
          "high",
          "high",
          "high",
          "high",
          "high",
          "high",
          "high",
          "high",
          "high",
          "high",
          "high",
          "high",
          "high",
          "high",
          "high",
          "high",
          "high",
          "high",
          "high",
          "high",
          "high",
          "high",
          "high",
          "high",
          "high",
          "high",
          "high",
          "high",
          "high",
          "high",
          "high",
          "high",
          "high",
          "high",
          "high",
          "high",
          "high",
          "high",
          "high",
          "high",
          "high",
          "high",
          "high",
          "high",
          "high",
          "high",
          "high",
          "high",
          "high",
          "high",
          "high",
          "high",
          "high",
          "high",
          "high",
          "high",
          "high",
          "high",
          "high",
          "high",
          "high",
          "high",
          "high",
          "high",
          "high",
          "high",
          "high",
          "high",
          "high",
          "high",
          "high",
          "high",
          "high",
          "high",
          "high",
          "high",
          "high",
          "high",
          "high",
          "high",
          "high",
          "high",
          "high",
          "high",
          "high",
          "high",
          "high",
          "high",
          "high",
          "high",
          "high",
          "high",
          "high",
          "high",
          "high",
          "high",
          "high",
          "high",
          "high",
          "high",
          "high",
          "high",
          "high",
          "high",
          "high",
          "high",
          "high",
          "high",
          "high",
          "high",
          "high",
          "high",
          "high",
          "high",
          "high",
          "high",
          "high",
          "high",
          "high",
          "high",
          "high",
          "high",
          "high",
          "high",
          "high",
          "high",
          "high",
          "high",
          "high",
          "high",
          "high",
          "high",
          "high",
          "high",
          "high",
          "high",
          "high",
          "high",
          "high",
          "high",
          "high",
          "high",
          "high",
          "high",
          "high",
          "high",
          "high",
          "high",
          "high",
          "high",
          "high",
          "high",
          "high",
          "high",
          "high",
          "high",
          "high",
          "high",
          "high",
          "high",
          "high",
          "high",
          "high",
          "high",
          "high",
          "high",
          "high",
          "high",
          "high",
          "high",
          "high",
          "high",
          "high",
          "high",
          "high",
          "high",
          "high",
          "high",
          "high",
          "high",
          "high",
          "high",
          "high",
          "high",
          "high",
          "high",
          "high",
          "high",
          "high",
          "high",
          "high",
          "high",
          "high",
          "high",
          "high",
          "high",
          "high",
          "high",
          "high",
          "high",
          "high",
          "high",
          "high",
          "high",
          "high",
          "high",
          "high",
          "high",
          "high",
          "high",
          "high",
          "high",
          "high",
          "high",
          "high",
          "high",
          "high",
          "high",
          "high",
          "high",
          "high",
          "high",
          "high",
          "high",
          "high",
          "high",
          "high",
          "high",
          "high",
          "high",
          "high",
          "high",
          "high",
          "high",
          "high",
          "high",
          "high",
          "high",
          "high",
          "high",
          "high",
          "high",
          "high",
          "high",
          "high",
          "high",
          "high",
          "high",
          "high",
          "high",
          "high",
          "high",
          "high",
          "high",
          "high",
          "high",
          "high",
          "high",
          "high",
          "high",
          "high",
          "high",
          "high",
          "high",
          "high",
          "high",
          "high",
          "high",
          "high",
          "high",
          "high",
          "high",
          "high",
          "high",
          "high",
          "high",
          "high",
          "high",
          "high",
          "high",
          "high",
          "high",
          "high",
          "high",
          "high",
          "high",
          "high",
          "high",
          "high",
          "high",
          "high",
          "high",
          "high",
          "high",
          "high",
          "high",
          "high",
          "high",
          "high",
          "high",
          "high",
          "high",
          "high",
          "high",
          "high",
          "high",
          "high",
          "high",
          "high",
          "high",
          "high",
          "high",
          "high",
          "high",
          "high",
          "high",
          "high",
          "high",
          "high",
          "high",
          "high",
          "high",
          "high",
          "high",
          "high",
          "high",
          "high",
          "high",
          "high",
          "high",
          "high",
          "high",
          "high",
          "high",
          "high",
          "high",
          "high",
          "high",
          "high",
          "high",
          "high",
          "high",
          "high",
          "high",
          "high",
          "high",
          "high",
          "high",
          "high",
          "high",
          "high",
          "high",
          "high",
          "high",
          "high",
          "high",
          "high",
          "high",
          "high",
          "high",
          "high",
          "high",
          "high",
          "high",
          "high",
          "high",
          "high",
          "high",
          "high",
          "high",
          "high",
          "high",
          "high",
          "high",
          "high",
          "high",
          "high",
          "high",
          "high",
          "high",
          "high",
          "high",
          "high",
          "high",
          "high",
          "high",
          "high",
          "high",
          "high",
          "high",
          "high",
          "high",
          "high",
          "high",
          "high",
          "high",
          "high",
          "high",
          "high",
          "high",
          "high",
          "high",
          "high",
          "high",
          "high",
          "high",
          "high",
          "high",
          "high",
          "high",
          "high",
          "high",
          "high",
          "high",
          "high",
          "high",
          "high",
          "high",
          "high",
          "high",
          "high",
          "high",
          "high",
          "high",
          "high",
          "high",
          "high",
          "high",
          "high",
          "high",
          "high",
          "high",
          "high",
          "high",
          "high",
          "high",
          "high",
          "high",
          "high",
          "high",
          "high",
          "high",
          "high",
          "high",
          "high",
          "high",
          "high",
          "high",
          "high",
          "high",
          "high",
          "high",
          "high",
          "high",
          "high",
          "high",
          "high",
          "high",
          "high",
          "high",
          "high",
          "high",
          "high",
          "high",
          "high",
          "high",
          "high",
          "high",
          "high",
          "high",
          "high",
          "high",
          "high",
          "high",
          "high",
          "high",
          "high",
          "high",
          "high",
          "high",
          "high",
          "high",
          "high",
          "high",
          "high",
          "high",
          "high",
          "high",
          "high",
          "high",
          "high",
          "high",
          "high",
          "high",
          "high",
          "high",
          "high",
          "high",
          "high",
          "high",
          "high",
          "high",
          "high",
          "high",
          "high",
          "high",
          "high",
          "high",
          "high",
          "high",
          "high",
          "high",
          "high",
          "high",
          "high",
          "high",
          "high",
          "high",
          "high",
          "high",
          "high",
          "high",
          "high",
          "high",
          "high",
          "high",
          "high",
          "high",
          "high",
          "high",
          "high",
          "high",
          "high",
          "high",
          "high",
          "high",
          "high",
          "high",
          "high",
          "high",
          "high",
          "high",
          "high",
          "high",
          "high",
          "high",
          "high",
          "high",
          "high",
          "high",
          "high",
          "high",
          "high",
          "high",
          "high",
          "high",
          "high",
          "high",
          "high",
          "high",
          "high",
          "high",
          "high",
          "high",
          "high",
          "high",
          "high",
          "high",
          "high",
          "high",
          "high",
          "high",
          "high",
          "high",
          "high",
          "high",
          "high",
          "high",
          "high",
          "high",
          "high",
          "high",
          "high",
          "high",
          "high",
          "high",
          "high",
          "high",
          "high",
          "high",
          "high",
          "high",
          "high",
          "high",
          "high",
          "high",
          "high",
          "high",
          "high",
          "high",
          "high",
          "high",
          "high",
          "high",
          "high",
          "high",
          "high",
          "high",
          "high",
          "high",
          "high",
          "high",
          "high",
          "high",
          "high",
          "high",
          "high",
          "high",
          "high",
          "high",
          "high",
          "high",
          "high",
          "high",
          "high"
         ],
         "x0": " ",
         "xaxis": "x",
         "y": {
          "bdata": "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",
          "dtype": "f8"
         },
         "y0": " ",
         "yaxis": "y"
        },
        {
         "alignmentgroup": "True",
         "hovertemplate": "Pred. Health Hidden Risk=%{x}<br>Pred. Probability of Hidden Risk State=%{y}<extra></extra>",
         "legendgroup": "medium",
         "marker": {
          "color": "#EF553B"
         },
         "name": "medium",
         "notched": false,
         "offsetgroup": "medium",
         "orientation": "v",
         "showlegend": true,
         "type": "box",
         "x": [
          "medium",
          "medium",
          "medium",
          "medium",
          "medium",
          "medium",
          "medium",
          "medium",
          "medium",
          "medium",
          "medium",
          "medium",
          "medium",
          "medium",
          "medium",
          "medium",
          "medium",
          "medium",
          "medium",
          "medium",
          "medium",
          "medium",
          "medium",
          "medium",
          "medium",
          "medium",
          "medium",
          "medium",
          "medium",
          "medium",
          "medium",
          "medium",
          "medium",
          "medium",
          "medium",
          "medium",
          "medium",
          "medium",
          "medium",
          "medium",
          "medium",
          "medium",
          "medium",
          "medium",
          "medium",
          "medium",
          "medium",
          "medium",
          "medium",
          "medium",
          "medium",
          "medium",
          "medium",
          "medium",
          "medium",
          "medium",
          "medium",
          "medium",
          "medium",
          "medium",
          "medium",
          "medium",
          "medium",
          "medium",
          "medium",
          "medium",
          "medium",
          "medium",
          "medium",
          "medium",
          "medium",
          "medium",
          "medium",
          "medium",
          "medium",
          "medium",
          "medium",
          "medium",
          "medium",
          "medium",
          "medium",
          "medium",
          "medium",
          "medium",
          "medium",
          "medium",
          "medium",
          "medium",
          "medium",
          "medium",
          "medium",
          "medium",
          "medium",
          "medium",
          "medium",
          "medium",
          "medium",
          "medium",
          "medium",
          "medium",
          "medium",
          "medium",
          "medium",
          "medium",
          "medium",
          "medium",
          "medium",
          "medium",
          "medium",
          "medium",
          "medium",
          "medium",
          "medium",
          "medium",
          "medium",
          "medium",
          "medium",
          "medium",
          "medium",
          "medium",
          "medium",
          "medium",
          "medium",
          "medium",
          "medium",
          "medium",
          "medium",
          "medium",
          "medium",
          "medium",
          "medium",
          "medium",
          "medium",
          "medium",
          "medium",
          "medium",
          "medium",
          "medium",
          "medium",
          "medium",
          "medium",
          "medium",
          "medium",
          "medium",
          "medium",
          "medium",
          "medium",
          "medium",
          "medium",
          "medium",
          "medium",
          "medium",
          "medium",
          "medium",
          "medium",
          "medium",
          "medium",
          "medium",
          "medium",
          "medium",
          "medium",
          "medium",
          "medium",
          "medium",
          "medium",
          "medium",
          "medium",
          "medium",
          "medium",
          "medium",
          "medium",
          "medium",
          "medium",
          "medium",
          "medium",
          "medium",
          "medium",
          "medium",
          "medium",
          "medium",
          "medium",
          "medium",
          "medium",
          "medium",
          "medium",
          "medium",
          "medium",
          "medium",
          "medium",
          "medium",
          "medium",
          "medium",
          "medium",
          "medium",
          "medium",
          "medium",
          "medium",
          "medium",
          "medium",
          "medium",
          "medium",
          "medium",
          "medium",
          "medium",
          "medium",
          "medium",
          "medium",
          "medium",
          "medium",
          "medium",
          "medium",
          "medium",
          "medium",
          "medium",
          "medium",
          "medium",
          "medium",
          "medium",
          "medium",
          "medium",
          "medium",
          "medium",
          "medium",
          "medium",
          "medium",
          "medium",
          "medium",
          "medium",
          "medium",
          "medium",
          "medium",
          "medium",
          "medium",
          "medium",
          "medium",
          "medium",
          "medium",
          "medium",
          "medium",
          "medium",
          "medium",
          "medium",
          "medium",
          "medium",
          "medium",
          "medium",
          "medium",
          "medium",
          "medium",
          "medium",
          "medium",
          "medium",
          "medium",
          "medium",
          "medium",
          "medium",
          "medium",
          "medium",
          "medium",
          "medium",
          "medium",
          "medium",
          "medium",
          "medium",
          "medium",
          "medium",
          "medium",
          "medium",
          "medium",
          "medium",
          "medium",
          "medium",
          "medium",
          "medium",
          "medium",
          "medium",
          "medium",
          "medium",
          "medium",
          "medium",
          "medium",
          "medium",
          "medium",
          "medium",
          "medium",
          "medium",
          "medium",
          "medium",
          "medium",
          "medium",
          "medium",
          "medium",
          "medium",
          "medium",
          "medium",
          "medium",
          "medium",
          "medium",
          "medium",
          "medium",
          "medium",
          "medium",
          "medium",
          "medium",
          "medium",
          "medium",
          "medium",
          "medium",
          "medium",
          "medium",
          "medium",
          "medium",
          "medium",
          "medium",
          "medium",
          "medium",
          "medium",
          "medium",
          "medium",
          "medium",
          "medium",
          "medium",
          "medium",
          "medium",
          "medium",
          "medium",
          "medium",
          "medium",
          "medium",
          "medium",
          "medium",
          "medium",
          "medium",
          "medium",
          "medium",
          "medium",
          "medium",
          "medium",
          "medium",
          "medium",
          "medium",
          "medium",
          "medium",
          "medium",
          "medium",
          "medium",
          "medium",
          "medium",
          "medium",
          "medium",
          "medium",
          "medium",
          "medium",
          "medium",
          "medium",
          "medium",
          "medium",
          "medium",
          "medium",
          "medium",
          "medium",
          "medium",
          "medium",
          "medium",
          "medium",
          "medium",
          "medium",
          "medium",
          "medium",
          "medium",
          "medium",
          "medium",
          "medium",
          "medium",
          "medium",
          "medium",
          "medium",
          "medium",
          "medium",
          "medium",
          "medium",
          "medium",
          "medium",
          "medium",
          "medium",
          "medium",
          "medium",
          "medium",
          "medium",
          "medium",
          "medium",
          "medium",
          "medium",
          "medium",
          "medium",
          "medium",
          "medium",
          "medium",
          "medium",
          "medium",
          "medium",
          "medium",
          "medium",
          "medium",
          "medium",
          "medium",
          "medium",
          "medium",
          "medium",
          "medium",
          "medium",
          "medium",
          "medium",
          "medium",
          "medium",
          "medium",
          "medium",
          "medium",
          "medium",
          "medium",
          "medium",
          "medium",
          "medium",
          "medium",
          "medium",
          "medium",
          "medium",
          "medium",
          "medium",
          "medium",
          "medium",
          "medium",
          "medium",
          "medium",
          "medium",
          "medium",
          "medium",
          "medium",
          "medium",
          "medium",
          "medium",
          "medium",
          "medium",
          "medium",
          "medium",
          "medium",
          "medium",
          "medium",
          "medium",
          "medium",
          "medium",
          "medium",
          "medium",
          "medium",
          "medium",
          "medium",
          "medium",
          "medium",
          "medium",
          "medium",
          "medium",
          "medium",
          "medium",
          "medium",
          "medium",
          "medium",
          "medium",
          "medium",
          "medium",
          "medium",
          "medium",
          "medium",
          "medium",
          "medium",
          "medium",
          "medium",
          "medium",
          "medium",
          "medium",
          "medium",
          "medium",
          "medium",
          "medium",
          "medium",
          "medium",
          "medium",
          "medium",
          "medium",
          "medium",
          "medium",
          "medium",
          "medium",
          "medium",
          "medium",
          "medium",
          "medium",
          "medium",
          "medium",
          "medium",
          "medium",
          "medium",
          "medium",
          "medium",
          "medium",
          "medium",
          "medium",
          "medium",
          "medium",
          "medium",
          "medium",
          "medium",
          "medium",
          "medium",
          "medium",
          "medium",
          "medium",
          "medium",
          "medium",
          "medium",
          "medium",
          "medium",
          "medium",
          "medium",
          "medium",
          "medium",
          "medium",
          "medium",
          "medium",
          "medium",
          "medium",
          "medium",
          "medium",
          "medium",
          "medium",
          "medium",
          "medium",
          "medium",
          "medium",
          "medium",
          "medium",
          "medium",
          "medium",
          "medium",
          "medium",
          "medium",
          "medium",
          "medium",
          "medium",
          "medium",
          "medium",
          "medium",
          "medium",
          "medium",
          "medium",
          "medium",
          "medium",
          "medium",
          "medium",
          "medium",
          "medium",
          "medium",
          "medium",
          "medium",
          "medium",
          "medium",
          "medium",
          "medium",
          "medium",
          "medium",
          "medium",
          "medium",
          "medium",
          "medium",
          "medium",
          "medium",
          "medium",
          "medium",
          "medium",
          "medium",
          "medium",
          "medium",
          "medium",
          "medium",
          "medium",
          "medium",
          "medium",
          "medium",
          "medium",
          "medium",
          "medium",
          "medium",
          "medium",
          "medium",
          "medium",
          "medium",
          "medium",
          "medium",
          "medium",
          "medium",
          "medium",
          "medium",
          "medium",
          "medium",
          "medium",
          "medium",
          "medium",
          "medium",
          "medium",
          "medium",
          "medium",
          "medium",
          "medium",
          "medium",
          "medium",
          "medium",
          "medium",
          "medium",
          "medium",
          "medium",
          "medium",
          "medium",
          "medium",
          "medium",
          "medium",
          "medium",
          "medium",
          "medium",
          "medium",
          "medium",
          "medium",
          "medium",
          "medium",
          "medium",
          "medium",
          "medium",
          "medium",
          "medium",
          "medium",
          "medium",
          "medium",
          "medium",
          "medium",
          "medium",
          "medium",
          "medium",
          "medium",
          "medium",
          "medium",
          "medium",
          "medium",
          "medium",
          "medium",
          "medium",
          "medium",
          "medium",
          "medium",
          "medium",
          "medium",
          "medium",
          "medium",
          "medium",
          "medium",
          "medium",
          "medium",
          "medium",
          "medium",
          "medium",
          "medium",
          "medium",
          "medium",
          "medium",
          "medium",
          "medium",
          "medium",
          "medium",
          "medium",
          "medium",
          "medium",
          "medium",
          "medium",
          "medium",
          "medium",
          "medium",
          "medium",
          "medium",
          "medium",
          "medium",
          "medium",
          "medium",
          "medium",
          "medium",
          "medium",
          "medium",
          "medium",
          "medium",
          "medium",
          "medium",
          "medium",
          "medium",
          "medium",
          "medium",
          "medium",
          "medium",
          "medium",
          "medium",
          "medium",
          "medium",
          "medium",
          "medium",
          "medium",
          "medium",
          "medium",
          "medium",
          "medium",
          "medium",
          "medium",
          "medium",
          "medium",
          "medium",
          "medium",
          "medium",
          "medium",
          "medium",
          "medium",
          "medium",
          "medium",
          "medium",
          "medium",
          "medium",
          "medium",
          "medium",
          "medium",
          "medium",
          "medium",
          "medium",
          "medium",
          "medium",
          "medium",
          "medium",
          "medium",
          "medium",
          "medium",
          "medium",
          "medium",
          "medium",
          "medium",
          "medium",
          "medium",
          "medium",
          "medium",
          "medium",
          "medium",
          "medium",
          "medium",
          "medium",
          "medium",
          "medium",
          "medium",
          "medium",
          "medium",
          "medium",
          "medium",
          "medium",
          "medium",
          "medium",
          "medium",
          "medium",
          "medium",
          "medium",
          "medium",
          "medium",
          "medium",
          "medium",
          "medium",
          "medium",
          "medium",
          "medium",
          "medium",
          "medium",
          "medium",
          "medium",
          "medium",
          "medium",
          "medium",
          "medium",
          "medium",
          "medium",
          "medium",
          "medium",
          "medium",
          "medium",
          "medium",
          "medium",
          "medium",
          "medium",
          "medium",
          "medium",
          "medium",
          "medium",
          "medium",
          "medium",
          "medium",
          "medium",
          "medium",
          "medium",
          "medium",
          "medium",
          "medium",
          "medium",
          "medium",
          "medium",
          "medium",
          "medium",
          "medium",
          "medium",
          "medium",
          "medium",
          "medium",
          "medium",
          "medium",
          "medium",
          "medium",
          "medium",
          "medium",
          "medium",
          "medium",
          "medium",
          "medium",
          "medium",
          "medium",
          "medium",
          "medium",
          "medium",
          "medium",
          "medium",
          "medium",
          "medium",
          "medium",
          "medium",
          "medium",
          "medium"
         ],
         "x0": " ",
         "xaxis": "x",
         "y": {
          "bdata": "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",
          "dtype": "f8"
         },
         "y0": " ",
         "yaxis": "y"
        },
        {
         "alignmentgroup": "True",
         "hovertemplate": "Pred. Health Hidden Risk=%{x}<br>Pred. Probability of Hidden Risk State=%{y}<extra></extra>",
         "legendgroup": "low",
         "marker": {
          "color": "#00CC96"
         },
         "name": "low",
         "notched": false,
         "offsetgroup": "low",
         "orientation": "v",
         "showlegend": true,
         "type": "box",
         "x": [
          "low",
          "low",
          "low",
          "low",
          "low",
          "low",
          "low",
          "low",
          "low",
          "low",
          "low",
          "low",
          "low",
          "low",
          "low",
          "low",
          "low",
          "low",
          "low",
          "low",
          "low",
          "low",
          "low",
          "low",
          "low",
          "low",
          "low",
          "low",
          "low",
          "low",
          "low",
          "low",
          "low",
          "low",
          "low",
          "low",
          "low",
          "low",
          "low",
          "low",
          "low",
          "low",
          "low",
          "low",
          "low",
          "low",
          "low",
          "low",
          "low",
          "low",
          "low",
          "low",
          "low",
          "low",
          "low",
          "low",
          "low",
          "low",
          "low",
          "low",
          "low",
          "low",
          "low",
          "low",
          "low",
          "low",
          "low",
          "low",
          "low",
          "low",
          "low",
          "low",
          "low",
          "low",
          "low",
          "low",
          "low",
          "low",
          "low",
          "low",
          "low",
          "low",
          "low",
          "low",
          "low",
          "low",
          "low",
          "low",
          "low",
          "low",
          "low",
          "low",
          "low",
          "low",
          "low",
          "low",
          "low",
          "low",
          "low",
          "low",
          "low",
          "low",
          "low",
          "low",
          "low",
          "low",
          "low",
          "low",
          "low",
          "low",
          "low",
          "low",
          "low",
          "low",
          "low",
          "low",
          "low",
          "low",
          "low",
          "low",
          "low",
          "low",
          "low",
          "low",
          "low",
          "low",
          "low",
          "low",
          "low",
          "low",
          "low",
          "low",
          "low",
          "low",
          "low",
          "low",
          "low",
          "low",
          "low",
          "low",
          "low",
          "low",
          "low",
          "low",
          "low",
          "low",
          "low",
          "low",
          "low",
          "low",
          "low",
          "low",
          "low",
          "low",
          "low",
          "low",
          "low",
          "low",
          "low",
          "low",
          "low",
          "low",
          "low",
          "low",
          "low",
          "low",
          "low",
          "low",
          "low",
          "low",
          "low",
          "low",
          "low",
          "low",
          "low",
          "low",
          "low",
          "low",
          "low",
          "low",
          "low",
          "low",
          "low",
          "low",
          "low",
          "low",
          "low",
          "low",
          "low",
          "low",
          "low",
          "low",
          "low",
          "low",
          "low",
          "low",
          "low",
          "low",
          "low",
          "low",
          "low",
          "low",
          "low",
          "low",
          "low",
          "low",
          "low",
          "low",
          "low",
          "low",
          "low",
          "low",
          "low",
          "low",
          "low",
          "low",
          "low",
          "low",
          "low",
          "low",
          "low",
          "low",
          "low",
          "low",
          "low",
          "low",
          "low",
          "low",
          "low",
          "low",
          "low",
          "low",
          "low",
          "low",
          "low",
          "low",
          "low",
          "low",
          "low",
          "low",
          "low",
          "low",
          "low",
          "low",
          "low",
          "low",
          "low",
          "low",
          "low",
          "low",
          "low",
          "low",
          "low",
          "low",
          "low",
          "low",
          "low",
          "low",
          "low",
          "low",
          "low",
          "low",
          "low",
          "low",
          "low",
          "low",
          "low",
          "low",
          "low",
          "low",
          "low",
          "low",
          "low",
          "low",
          "low",
          "low",
          "low",
          "low",
          "low",
          "low",
          "low",
          "low",
          "low",
          "low",
          "low",
          "low",
          "low",
          "low",
          "low",
          "low",
          "low",
          "low",
          "low",
          "low",
          "low",
          "low",
          "low",
          "low",
          "low",
          "low",
          "low",
          "low",
          "low",
          "low",
          "low",
          "low",
          "low",
          "low",
          "low",
          "low",
          "low",
          "low",
          "low",
          "low",
          "low",
          "low",
          "low",
          "low",
          "low",
          "low",
          "low",
          "low",
          "low",
          "low",
          "low",
          "low",
          "low",
          "low",
          "low",
          "low",
          "low",
          "low",
          "low",
          "low",
          "low",
          "low",
          "low",
          "low",
          "low",
          "low",
          "low",
          "low",
          "low",
          "low",
          "low",
          "low",
          "low",
          "low",
          "low",
          "low",
          "low",
          "low",
          "low",
          "low",
          "low",
          "low",
          "low",
          "low",
          "low",
          "low",
          "low",
          "low",
          "low",
          "low",
          "low",
          "low",
          "low",
          "low",
          "low",
          "low",
          "low",
          "low",
          "low",
          "low",
          "low",
          "low",
          "low",
          "low",
          "low",
          "low",
          "low",
          "low",
          "low",
          "low",
          "low",
          "low",
          "low",
          "low",
          "low",
          "low",
          "low",
          "low",
          "low",
          "low",
          "low",
          "low",
          "low",
          "low",
          "low",
          "low",
          "low",
          "low",
          "low",
          "low",
          "low",
          "low",
          "low",
          "low",
          "low",
          "low",
          "low",
          "low",
          "low",
          "low",
          "low",
          "low",
          "low",
          "low",
          "low",
          "low",
          "low",
          "low",
          "low",
          "low",
          "low",
          "low",
          "low",
          "low",
          "low",
          "low",
          "low",
          "low",
          "low",
          "low",
          "low",
          "low",
          "low",
          "low",
          "low",
          "low",
          "low",
          "low",
          "low",
          "low",
          "low",
          "low",
          "low",
          "low",
          "low",
          "low",
          "low",
          "low",
          "low",
          "low",
          "low",
          "low",
          "low",
          "low",
          "low",
          "low",
          "low",
          "low",
          "low",
          "low",
          "low",
          "low",
          "low",
          "low",
          "low",
          "low",
          "low",
          "low",
          "low",
          "low",
          "low",
          "low",
          "low",
          "low",
          "low",
          "low",
          "low",
          "low",
          "low",
          "low",
          "low",
          "low",
          "low",
          "low",
          "low",
          "low",
          "low",
          "low",
          "low",
          "low",
          "low",
          "low",
          "low",
          "low",
          "low",
          "low",
          "low",
          "low",
          "low",
          "low",
          "low",
          "low",
          "low",
          "low",
          "low",
          "low",
          "low",
          "low",
          "low",
          "low",
          "low",
          "low",
          "low",
          "low",
          "low",
          "low",
          "low",
          "low",
          "low",
          "low",
          "low",
          "low",
          "low",
          "low",
          "low",
          "low",
          "low",
          "low",
          "low",
          "low",
          "low",
          "low",
          "low",
          "low",
          "low",
          "low",
          "low",
          "low",
          "low",
          "low",
          "low",
          "low",
          "low",
          "low",
          "low",
          "low",
          "low",
          "low",
          "low",
          "low",
          "low",
          "low",
          "low",
          "low",
          "low",
          "low",
          "low",
          "low",
          "low",
          "low",
          "low",
          "low",
          "low",
          "low",
          "low",
          "low",
          "low",
          "low",
          "low",
          "low",
          "low",
          "low",
          "low",
          "low",
          "low",
          "low",
          "low",
          "low",
          "low",
          "low",
          "low",
          "low",
          "low",
          "low",
          "low",
          "low",
          "low",
          "low",
          "low",
          "low",
          "low",
          "low",
          "low",
          "low",
          "low",
          "low",
          "low",
          "low",
          "low",
          "low",
          "low",
          "low",
          "low",
          "low",
          "low",
          "low",
          "low",
          "low",
          "low",
          "low",
          "low",
          "low",
          "low",
          "low",
          "low",
          "low",
          "low",
          "low",
          "low",
          "low",
          "low",
          "low",
          "low",
          "low",
          "low",
          "low",
          "low",
          "low",
          "low",
          "low",
          "low",
          "low",
          "low",
          "low",
          "low",
          "low",
          "low",
          "low",
          "low",
          "low",
          "low",
          "low",
          "low",
          "low",
          "low",
          "low",
          "low",
          "low",
          "low",
          "low",
          "low",
          "low",
          "low",
          "low",
          "low",
          "low",
          "low",
          "low",
          "low",
          "low",
          "low",
          "low",
          "low",
          "low",
          "low",
          "low",
          "low",
          "low",
          "low",
          "low",
          "low",
          "low",
          "low",
          "low",
          "low",
          "low",
          "low",
          "low",
          "low",
          "low",
          "low",
          "low",
          "low",
          "low",
          "low",
          "low",
          "low",
          "low",
          "low",
          "low",
          "low",
          "low",
          "low",
          "low",
          "low",
          "low",
          "low",
          "low",
          "low",
          "low",
          "low",
          "low",
          "low",
          "low",
          "low",
          "low",
          "low",
          "low",
          "low",
          "low",
          "low",
          "low",
          "low",
          "low",
          "low",
          "low",
          "low",
          "low",
          "low",
          "low",
          "low",
          "low",
          "low",
          "low",
          "low",
          "low",
          "low",
          "low",
          "low",
          "low",
          "low",
          "low",
          "low",
          "low",
          "low",
          "low",
          "low",
          "low",
          "low",
          "low",
          "low",
          "low",
          "low",
          "low",
          "low",
          "low",
          "low",
          "low",
          "low",
          "low",
          "low",
          "low",
          "low",
          "low",
          "low",
          "low",
          "low",
          "low",
          "low",
          "low",
          "low",
          "low",
          "low",
          "low",
          "low",
          "low",
          "low",
          "low",
          "low",
          "low",
          "low",
          "low",
          "low",
          "low",
          "low",
          "low",
          "low",
          "low",
          "low",
          "low",
          "low",
          "low",
          "low",
          "low",
          "low",
          "low",
          "low",
          "low",
          "low",
          "low",
          "low",
          "low",
          "low",
          "low",
          "low",
          "low",
          "low",
          "low",
          "low",
          "low",
          "low",
          "low",
          "low",
          "low",
          "low",
          "low",
          "low",
          "low",
          "low",
          "low",
          "low",
          "low",
          "low",
          "low",
          "low",
          "low",
          "low",
          "low",
          "low",
          "low",
          "low",
          "low",
          "low",
          "low",
          "low",
          "low",
          "low",
          "low",
          "low",
          "low",
          "low",
          "low",
          "low",
          "low",
          "low",
          "low",
          "low",
          "low",
          "low",
          "low",
          "low",
          "low",
          "low",
          "low",
          "low",
          "low",
          "low",
          "low",
          "low",
          "low",
          "low",
          "low",
          "low",
          "low",
          "low",
          "low",
          "low",
          "low",
          "low",
          "low",
          "low",
          "low",
          "low",
          "low",
          "low",
          "low",
          "low",
          "low",
          "low",
          "low",
          "low",
          "low",
          "low",
          "low",
          "low",
          "low",
          "low",
          "low",
          "low",
          "low",
          "low",
          "low",
          "low",
          "low",
          "low",
          "low",
          "low",
          "low",
          "low",
          "low",
          "low",
          "low",
          "low",
          "low",
          "low",
          "low",
          "low",
          "low",
          "low",
          "low",
          "low",
          "low",
          "low",
          "low",
          "low",
          "low",
          "low",
          "low",
          "low",
          "low",
          "low",
          "low",
          "low",
          "low",
          "low",
          "low",
          "low",
          "low",
          "low",
          "low",
          "low",
          "low",
          "low",
          "low",
          "low",
          "low",
          "low",
          "low",
          "low",
          "low",
          "low",
          "low",
          "low",
          "low",
          "low",
          "low",
          "low",
          "low",
          "low",
          "low",
          "low",
          "low",
          "low",
          "low",
          "low",
          "low",
          "low",
          "low",
          "low",
          "low",
          "low",
          "low",
          "low",
          "low",
          "low",
          "low",
          "low",
          "low",
          "low",
          "low",
          "low",
          "low",
          "low",
          "low",
          "low",
          "low",
          "low",
          "low",
          "low",
          "low",
          "low",
          "low",
          "low",
          "low",
          "low",
          "low",
          "low",
          "low",
          "low",
          "low",
          "low",
          "low",
          "low",
          "low",
          "low",
          "low",
          "low",
          "low",
          "low",
          "low",
          "low",
          "low",
          "low",
          "low",
          "low",
          "low",
          "low",
          "low",
          "low",
          "low",
          "low",
          "low",
          "low",
          "low",
          "low",
          "low",
          "low",
          "low",
          "low",
          "low",
          "low",
          "low",
          "low",
          "low",
          "low",
          "low",
          "low",
          "low",
          "low",
          "low",
          "low",
          "low",
          "low",
          "low",
          "low",
          "low",
          "low",
          "low",
          "low",
          "low",
          "low",
          "low",
          "low",
          "low",
          "low",
          "low",
          "low",
          "low",
          "low",
          "low",
          "low",
          "low",
          "low",
          "low",
          "low",
          "low",
          "low",
          "low",
          "low",
          "low",
          "low",
          "low",
          "low",
          "low",
          "low",
          "low",
          "low",
          "low",
          "low",
          "low",
          "low",
          "low",
          "low",
          "low",
          "low",
          "low",
          "low",
          "low",
          "low",
          "low",
          "low",
          "low",
          "low",
          "low",
          "low",
          "low",
          "low",
          "low",
          "low",
          "low",
          "low",
          "low",
          "low",
          "low",
          "low",
          "low",
          "low",
          "low",
          "low",
          "low",
          "low",
          "low",
          "low",
          "low",
          "low",
          "low",
          "low",
          "low",
          "low",
          "low",
          "low",
          "low",
          "low",
          "low",
          "low",
          "low",
          "low",
          "low",
          "low",
          "low",
          "low",
          "low",
          "low",
          "low",
          "low",
          "low",
          "low",
          "low",
          "low",
          "low",
          "low",
          "low",
          "low",
          "low",
          "low",
          "low",
          "low",
          "low",
          "low",
          "low",
          "low",
          "low",
          "low",
          "low",
          "low",
          "low",
          "low",
          "low",
          "low",
          "low",
          "low",
          "low",
          "low",
          "low",
          "low",
          "low",
          "low",
          "low",
          "low",
          "low",
          "low",
          "low",
          "low",
          "low",
          "low",
          "low",
          "low",
          "low",
          "low",
          "low",
          "low",
          "low",
          "low",
          "low",
          "low",
          "low",
          "low",
          "low",
          "low",
          "low",
          "low",
          "low",
          "low",
          "low",
          "low",
          "low",
          "low",
          "low",
          "low",
          "low",
          "low",
          "low",
          "low",
          "low",
          "low",
          "low",
          "low",
          "low",
          "low",
          "low",
          "low",
          "low",
          "low",
          "low",
          "low",
          "low",
          "low",
          "low",
          "low",
          "low",
          "low",
          "low",
          "low",
          "low",
          "low",
          "low",
          "low",
          "low",
          "low",
          "low",
          "low",
          "low",
          "low",
          "low",
          "low",
          "low",
          "low",
          "low",
          "low",
          "low",
          "low",
          "low",
          "low",
          "low",
          "low",
          "low",
          "low",
          "low",
          "low",
          "low",
          "low",
          "low",
          "low",
          "low",
          "low",
          "low",
          "low",
          "low",
          "low",
          "low",
          "low",
          "low",
          "low",
          "low",
          "low",
          "low",
          "low",
          "low",
          "low",
          "low",
          "low",
          "low",
          "low",
          "low",
          "low",
          "low",
          "low",
          "low",
          "low",
          "low",
          "low",
          "low",
          "low",
          "low",
          "low",
          "low",
          "low",
          "low",
          "low",
          "low",
          "low",
          "low",
          "low",
          "low",
          "low",
          "low",
          "low",
          "low",
          "low",
          "low",
          "low",
          "low",
          "low",
          "low",
          "low",
          "low",
          "low",
          "low",
          "low",
          "low",
          "low",
          "low",
          "low",
          "low",
          "low",
          "low",
          "low",
          "low",
          "low",
          "low",
          "low",
          "low",
          "low",
          "low",
          "low",
          "low",
          "low",
          "low",
          "low",
          "low",
          "low",
          "low",
          "low",
          "low",
          "low",
          "low",
          "low",
          "low",
          "low",
          "low",
          "low",
          "low",
          "low",
          "low",
          "low",
          "low",
          "low",
          "low",
          "low",
          "low",
          "low",
          "low",
          "low",
          "low",
          "low",
          "low",
          "low",
          "low",
          "low",
          "low",
          "low",
          "low",
          "low",
          "low",
          "low",
          "low",
          "low",
          "low",
          "low",
          "low",
          "low",
          "low",
          "low",
          "low",
          "low",
          "low",
          "low",
          "low",
          "low",
          "low",
          "low",
          "low",
          "low",
          "low",
          "low",
          "low",
          "low",
          "low",
          "low",
          "low",
          "low",
          "low",
          "low",
          "low",
          "low",
          "low",
          "low",
          "low",
          "low",
          "low",
          "low",
          "low",
          "low",
          "low",
          "low",
          "low",
          "low",
          "low",
          "low",
          "low",
          "low",
          "low",
          "low",
          "low",
          "low",
          "low",
          "low",
          "low",
          "low",
          "low",
          "low",
          "low",
          "low",
          "low",
          "low",
          "low",
          "low",
          "low",
          "low",
          "low",
          "low",
          "low",
          "low",
          "low",
          "low",
          "low",
          "low",
          "low",
          "low",
          "low",
          "low",
          "low",
          "low",
          "low",
          "low",
          "low",
          "low",
          "low",
          "low",
          "low",
          "low",
          "low",
          "low",
          "low",
          "low",
          "low",
          "low",
          "low",
          "low",
          "low",
          "low",
          "low",
          "low"
         ],
         "x0": " ",
         "xaxis": "x",
         "y": {
          "bdata": "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",
          "dtype": "f8"
         },
         "y0": " ",
         "yaxis": "y"
        }
       ],
       "layout": {
        "boxmode": "overlay",
        "legend": {
         "title": {
          "text": "Pred. Health Hidden Risk"
         },
         "tracegroupgap": 0
        },
        "template": {
         "data": {
          "bar": [
           {
            "error_x": {
             "color": "#2a3f5f"
            },
            "error_y": {
             "color": "#2a3f5f"
            },
            "marker": {
             "line": {
              "color": "#E5ECF6",
              "width": 0.5
             },
             "pattern": {
              "fillmode": "overlay",
              "size": 10,
              "solidity": 0.2
             }
            },
            "type": "bar"
           }
          ],
          "barpolar": [
           {
            "marker": {
             "line": {
              "color": "#E5ECF6",
              "width": 0.5
             },
             "pattern": {
              "fillmode": "overlay",
              "size": 10,
              "solidity": 0.2
             }
            },
            "type": "barpolar"
           }
          ],
          "carpet": [
           {
            "aaxis": {
             "endlinecolor": "#2a3f5f",
             "gridcolor": "white",
             "linecolor": "white",
             "minorgridcolor": "white",
             "startlinecolor": "#2a3f5f"
            },
            "baxis": {
             "endlinecolor": "#2a3f5f",
             "gridcolor": "white",
             "linecolor": "white",
             "minorgridcolor": "white",
             "startlinecolor": "#2a3f5f"
            },
            "type": "carpet"
           }
          ],
          "choropleth": [
           {
            "colorbar": {
             "outlinewidth": 0,
             "ticks": ""
            },
            "type": "choropleth"
           }
          ],
          "contour": [
           {
            "colorbar": {
             "outlinewidth": 0,
             "ticks": ""
            },
            "colorscale": [
             [
              0,
              "#0d0887"
             ],
             [
              0.1111111111111111,
              "#46039f"
             ],
             [
              0.2222222222222222,
              "#7201a8"
             ],
             [
              0.3333333333333333,
              "#9c179e"
             ],
             [
              0.4444444444444444,
              "#bd3786"
             ],
             [
              0.5555555555555556,
              "#d8576b"
             ],
             [
              0.6666666666666666,
              "#ed7953"
             ],
             [
              0.7777777777777778,
              "#fb9f3a"
             ],
             [
              0.8888888888888888,
              "#fdca26"
             ],
             [
              1,
              "#f0f921"
             ]
            ],
            "type": "contour"
           }
          ],
          "contourcarpet": [
           {
            "colorbar": {
             "outlinewidth": 0,
             "ticks": ""
            },
            "type": "contourcarpet"
           }
          ],
          "heatmap": [
           {
            "colorbar": {
             "outlinewidth": 0,
             "ticks": ""
            },
            "colorscale": [
             [
              0,
              "#0d0887"
             ],
             [
              0.1111111111111111,
              "#46039f"
             ],
             [
              0.2222222222222222,
              "#7201a8"
             ],
             [
              0.3333333333333333,
              "#9c179e"
             ],
             [
              0.4444444444444444,
              "#bd3786"
             ],
             [
              0.5555555555555556,
              "#d8576b"
             ],
             [
              0.6666666666666666,
              "#ed7953"
             ],
             [
              0.7777777777777778,
              "#fb9f3a"
             ],
             [
              0.8888888888888888,
              "#fdca26"
             ],
             [
              1,
              "#f0f921"
             ]
            ],
            "type": "heatmap"
           }
          ],
          "histogram": [
           {
            "marker": {
             "pattern": {
              "fillmode": "overlay",
              "size": 10,
              "solidity": 0.2
             }
            },
            "type": "histogram"
           }
          ],
          "histogram2d": [
           {
            "colorbar": {
             "outlinewidth": 0,
             "ticks": ""
            },
            "colorscale": [
             [
              0,
              "#0d0887"
             ],
             [
              0.1111111111111111,
              "#46039f"
             ],
             [
              0.2222222222222222,
              "#7201a8"
             ],
             [
              0.3333333333333333,
              "#9c179e"
             ],
             [
              0.4444444444444444,
              "#bd3786"
             ],
             [
              0.5555555555555556,
              "#d8576b"
             ],
             [
              0.6666666666666666,
              "#ed7953"
             ],
             [
              0.7777777777777778,
              "#fb9f3a"
             ],
             [
              0.8888888888888888,
              "#fdca26"
             ],
             [
              1,
              "#f0f921"
             ]
            ],
            "type": "histogram2d"
           }
          ],
          "histogram2dcontour": [
           {
            "colorbar": {
             "outlinewidth": 0,
             "ticks": ""
            },
            "colorscale": [
             [
              0,
              "#0d0887"
             ],
             [
              0.1111111111111111,
              "#46039f"
             ],
             [
              0.2222222222222222,
              "#7201a8"
             ],
             [
              0.3333333333333333,
              "#9c179e"
             ],
             [
              0.4444444444444444,
              "#bd3786"
             ],
             [
              0.5555555555555556,
              "#d8576b"
             ],
             [
              0.6666666666666666,
              "#ed7953"
             ],
             [
              0.7777777777777778,
              "#fb9f3a"
             ],
             [
              0.8888888888888888,
              "#fdca26"
             ],
             [
              1,
              "#f0f921"
             ]
            ],
            "type": "histogram2dcontour"
           }
          ],
          "mesh3d": [
           {
            "colorbar": {
             "outlinewidth": 0,
             "ticks": ""
            },
            "type": "mesh3d"
           }
          ],
          "parcoords": [
           {
            "line": {
             "colorbar": {
              "outlinewidth": 0,
              "ticks": ""
             }
            },
            "type": "parcoords"
           }
          ],
          "pie": [
           {
            "automargin": true,
            "type": "pie"
           }
          ],
          "scatter": [
           {
            "fillpattern": {
             "fillmode": "overlay",
             "size": 10,
             "solidity": 0.2
            },
            "type": "scatter"
           }
          ],
          "scatter3d": [
           {
            "line": {
             "colorbar": {
              "outlinewidth": 0,
              "ticks": ""
             }
            },
            "marker": {
             "colorbar": {
              "outlinewidth": 0,
              "ticks": ""
             }
            },
            "type": "scatter3d"
           }
          ],
          "scattercarpet": [
           {
            "marker": {
             "colorbar": {
              "outlinewidth": 0,
              "ticks": ""
             }
            },
            "type": "scattercarpet"
           }
          ],
          "scattergeo": [
           {
            "marker": {
             "colorbar": {
              "outlinewidth": 0,
              "ticks": ""
             }
            },
            "type": "scattergeo"
           }
          ],
          "scattergl": [
           {
            "marker": {
             "colorbar": {
              "outlinewidth": 0,
              "ticks": ""
             }
            },
            "type": "scattergl"
           }
          ],
          "scattermap": [
           {
            "marker": {
             "colorbar": {
              "outlinewidth": 0,
              "ticks": ""
             }
            },
            "type": "scattermap"
           }
          ],
          "scattermapbox": [
           {
            "marker": {
             "colorbar": {
              "outlinewidth": 0,
              "ticks": ""
             }
            },
            "type": "scattermapbox"
           }
          ],
          "scatterpolar": [
           {
            "marker": {
             "colorbar": {
              "outlinewidth": 0,
              "ticks": ""
             }
            },
            "type": "scatterpolar"
           }
          ],
          "scatterpolargl": [
           {
            "marker": {
             "colorbar": {
              "outlinewidth": 0,
              "ticks": ""
             }
            },
            "type": "scatterpolargl"
           }
          ],
          "scatterternary": [
           {
            "marker": {
             "colorbar": {
              "outlinewidth": 0,
              "ticks": ""
             }
            },
            "type": "scatterternary"
           }
          ],
          "surface": [
           {
            "colorbar": {
             "outlinewidth": 0,
             "ticks": ""
            },
            "colorscale": [
             [
              0,
              "#0d0887"
             ],
             [
              0.1111111111111111,
              "#46039f"
             ],
             [
              0.2222222222222222,
              "#7201a8"
             ],
             [
              0.3333333333333333,
              "#9c179e"
             ],
             [
              0.4444444444444444,
              "#bd3786"
             ],
             [
              0.5555555555555556,
              "#d8576b"
             ],
             [
              0.6666666666666666,
              "#ed7953"
             ],
             [
              0.7777777777777778,
              "#fb9f3a"
             ],
             [
              0.8888888888888888,
              "#fdca26"
             ],
             [
              1,
              "#f0f921"
             ]
            ],
            "type": "surface"
           }
          ],
          "table": [
           {
            "cells": {
             "fill": {
              "color": "#EBF0F8"
             },
             "line": {
              "color": "white"
             }
            },
            "header": {
             "fill": {
              "color": "#C8D4E3"
             },
             "line": {
              "color": "white"
             }
            },
            "type": "table"
           }
          ]
         },
         "layout": {
          "annotationdefaults": {
           "arrowcolor": "#2a3f5f",
           "arrowhead": 0,
           "arrowwidth": 1
          },
          "autotypenumbers": "strict",
          "coloraxis": {
           "colorbar": {
            "outlinewidth": 0,
            "ticks": ""
           }
          },
          "colorscale": {
           "diverging": [
            [
             0,
             "#8e0152"
            ],
            [
             0.1,
             "#c51b7d"
            ],
            [
             0.2,
             "#de77ae"
            ],
            [
             0.3,
             "#f1b6da"
            ],
            [
             0.4,
             "#fde0ef"
            ],
            [
             0.5,
             "#f7f7f7"
            ],
            [
             0.6,
             "#e6f5d0"
            ],
            [
             0.7,
             "#b8e186"
            ],
            [
             0.8,
             "#7fbc41"
            ],
            [
             0.9,
             "#4d9221"
            ],
            [
             1,
             "#276419"
            ]
           ],
           "sequential": [
            [
             0,
             "#0d0887"
            ],
            [
             0.1111111111111111,
             "#46039f"
            ],
            [
             0.2222222222222222,
             "#7201a8"
            ],
            [
             0.3333333333333333,
             "#9c179e"
            ],
            [
             0.4444444444444444,
             "#bd3786"
            ],
            [
             0.5555555555555556,
             "#d8576b"
            ],
            [
             0.6666666666666666,
             "#ed7953"
            ],
            [
             0.7777777777777778,
             "#fb9f3a"
            ],
            [
             0.8888888888888888,
             "#fdca26"
            ],
            [
             1,
             "#f0f921"
            ]
           ],
           "sequentialminus": [
            [
             0,
             "#0d0887"
            ],
            [
             0.1111111111111111,
             "#46039f"
            ],
            [
             0.2222222222222222,
             "#7201a8"
            ],
            [
             0.3333333333333333,
             "#9c179e"
            ],
            [
             0.4444444444444444,
             "#bd3786"
            ],
            [
             0.5555555555555556,
             "#d8576b"
            ],
            [
             0.6666666666666666,
             "#ed7953"
            ],
            [
             0.7777777777777778,
             "#fb9f3a"
            ],
            [
             0.8888888888888888,
             "#fdca26"
            ],
            [
             1,
             "#f0f921"
            ]
           ]
          },
          "colorway": [
           "#636efa",
           "#EF553B",
           "#00cc96",
           "#ab63fa",
           "#FFA15A",
           "#19d3f3",
           "#FF6692",
           "#B6E880",
           "#FF97FF",
           "#FECB52"
          ],
          "font": {
           "color": "#2a3f5f"
          },
          "geo": {
           "bgcolor": "white",
           "lakecolor": "white",
           "landcolor": "#E5ECF6",
           "showlakes": true,
           "showland": true,
           "subunitcolor": "white"
          },
          "hoverlabel": {
           "align": "left"
          },
          "hovermode": "closest",
          "mapbox": {
           "style": "light"
          },
          "paper_bgcolor": "white",
          "plot_bgcolor": "#E5ECF6",
          "polar": {
           "angularaxis": {
            "gridcolor": "white",
            "linecolor": "white",
            "ticks": ""
           },
           "bgcolor": "#E5ECF6",
           "radialaxis": {
            "gridcolor": "white",
            "linecolor": "white",
            "ticks": ""
           }
          },
          "scene": {
           "xaxis": {
            "backgroundcolor": "#E5ECF6",
            "gridcolor": "white",
            "gridwidth": 2,
            "linecolor": "white",
            "showbackground": true,
            "ticks": "",
            "zerolinecolor": "white"
           },
           "yaxis": {
            "backgroundcolor": "#E5ECF6",
            "gridcolor": "white",
            "gridwidth": 2,
            "linecolor": "white",
            "showbackground": true,
            "ticks": "",
            "zerolinecolor": "white"
           },
           "zaxis": {
            "backgroundcolor": "#E5ECF6",
            "gridcolor": "white",
            "gridwidth": 2,
            "linecolor": "white",
            "showbackground": true,
            "ticks": "",
            "zerolinecolor": "white"
           }
          },
          "shapedefaults": {
           "line": {
            "color": "#2a3f5f"
           }
          },
          "ternary": {
           "aaxis": {
            "gridcolor": "white",
            "linecolor": "white",
            "ticks": ""
           },
           "baxis": {
            "gridcolor": "white",
            "linecolor": "white",
            "ticks": ""
           },
           "bgcolor": "#E5ECF6",
           "caxis": {
            "gridcolor": "white",
            "linecolor": "white",
            "ticks": ""
           }
          },
          "title": {
           "x": 0.05
          },
          "xaxis": {
           "automargin": true,
           "gridcolor": "white",
           "linecolor": "white",
           "ticks": "",
           "title": {
            "standoff": 15
           },
           "zerolinecolor": "white",
           "zerolinewidth": 2
          },
          "yaxis": {
           "automargin": true,
           "gridcolor": "white",
           "linecolor": "white",
           "ticks": "",
           "title": {
            "standoff": 15
           },
           "zerolinecolor": "white",
           "zerolinewidth": 2
          }
         }
        },
        "title": {
         "text": "Probability of Pred. Hidden Risk State - Training Data HMM"
        },
        "xaxis": {
         "anchor": "y",
         "categoryarray": [
          "high",
          "medium",
          "low",
          "very_low"
         ],
         "categoryorder": "array",
         "domain": [
          0,
          1
         ],
         "title": {
          "text": "Pred. Health Hidden Risk"
         }
        },
        "yaxis": {
         "anchor": "x",
         "domain": [
          0,
          1
         ],
         "title": {
          "text": "Pred. Probability of Hidden Risk State"
         }
        }
       }
      }
     },
     "metadata": {},
     "output_type": "display_data"
    },
    {
     "data": {
      "text/html": [
       "<div>\n",
       "<style scoped>\n",
       "    .dataframe tbody tr th:only-of-type {\n",
       "        vertical-align: middle;\n",
       "    }\n",
       "\n",
       "    .dataframe tbody tr th {\n",
       "        vertical-align: top;\n",
       "    }\n",
       "\n",
       "    .dataframe thead th {\n",
       "        text-align: right;\n",
       "    }\n",
       "</style>\n",
       "<table border=\"1\" class=\"dataframe\">\n",
       "  <thead>\n",
       "    <tr style=\"text-align: right;\">\n",
       "      <th></th>\n",
       "      <th>SUBJECT_ID</th>\n",
       "      <th>HADM_ID</th>\n",
       "      <th>ADMITTIME</th>\n",
       "      <th>DISCHTIME</th>\n",
       "      <th>ADMISSION_TYPE</th>\n",
       "      <th>ETHNICITY</th>\n",
       "      <th>INSURANCE</th>\n",
       "      <th>HOSPITALIZATION_DAYS</th>\n",
       "      <th>NUM_COMORBIDITIES</th>\n",
       "      <th>TYPES_COMORBIDITIES</th>\n",
       "      <th>...</th>\n",
       "      <th>IS_HISTORICAL_EVENT</th>\n",
       "      <th>READMISSION_TIME_CAT</th>\n",
       "      <th>READMISSION_TIME_CAT_ENCODED</th>\n",
       "      <th>DISCHARGE_LOCATION_HOME</th>\n",
       "      <th>DISCHARGE_LOCATION_POST_ACUTE_CARE</th>\n",
       "      <th>HEALTH_HIDDEN_RISK</th>\n",
       "      <th>PROB_HIDDEN_RISK_LOW</th>\n",
       "      <th>PROB_HIDDEN_RISK_MEDIUM</th>\n",
       "      <th>PROB_HIDDEN_RISK_HIGH</th>\n",
       "      <th>HIDDEN_STATE_PROB</th>\n",
       "    </tr>\n",
       "  </thead>\n",
       "  <tbody>\n",
       "    <tr>\n",
       "      <th>0</th>\n",
       "      <td>36</td>\n",
       "      <td>182104</td>\n",
       "      <td>2131-04-30 07:15:00</td>\n",
       "      <td>2131-05-08 14:00:00</td>\n",
       "      <td>EMERGENCY</td>\n",
       "      <td>WHITE</td>\n",
       "      <td>Medicare</td>\n",
       "      <td>8.281250</td>\n",
       "      <td>2</td>\n",
       "      <td>['other', 'chronic_pulmonary_disease']</td>\n",
       "      <td>...</td>\n",
       "      <td>1</td>\n",
       "      <td>0-30</td>\n",
       "      <td>0</td>\n",
       "      <td>1</td>\n",
       "      <td>0</td>\n",
       "      <td>high</td>\n",
       "      <td>2.514377e-12</td>\n",
       "      <td>0.285634</td>\n",
       "      <td>0.714366</td>\n",
       "      <td>0.714366</td>\n",
       "    </tr>\n",
       "    <tr>\n",
       "      <th>1</th>\n",
       "      <td>107</td>\n",
       "      <td>191941</td>\n",
       "      <td>2115-02-20 17:41:00</td>\n",
       "      <td>2115-02-21 16:30:00</td>\n",
       "      <td>EMERGENCY</td>\n",
       "      <td>HISPANIC OR LATINO</td>\n",
       "      <td>Private</td>\n",
       "      <td>0.950694</td>\n",
       "      <td>2</td>\n",
       "      <td>['other', 'renal_disease']</td>\n",
       "      <td>...</td>\n",
       "      <td>1</td>\n",
       "      <td>120+</td>\n",
       "      <td>2</td>\n",
       "      <td>1</td>\n",
       "      <td>0</td>\n",
       "      <td>low</td>\n",
       "      <td>8.999964e-01</td>\n",
       "      <td>0.057818</td>\n",
       "      <td>0.042186</td>\n",
       "      <td>0.899996</td>\n",
       "    </tr>\n",
       "    <tr>\n",
       "      <th>2</th>\n",
       "      <td>124</td>\n",
       "      <td>172461</td>\n",
       "      <td>2160-06-24 21:25:00</td>\n",
       "      <td>2160-07-15 15:10:00</td>\n",
       "      <td>EMERGENCY</td>\n",
       "      <td>WHITE</td>\n",
       "      <td>Private</td>\n",
       "      <td>20.739583</td>\n",
       "      <td>3</td>\n",
       "      <td>['other', 'chronic_pulmonary_disease', 'cerebr...</td>\n",
       "      <td>...</td>\n",
       "      <td>1</td>\n",
       "      <td>120+</td>\n",
       "      <td>2</td>\n",
       "      <td>1</td>\n",
       "      <td>0</td>\n",
       "      <td>low</td>\n",
       "      <td>9.155658e-01</td>\n",
       "      <td>0.042237</td>\n",
       "      <td>0.042198</td>\n",
       "      <td>0.915566</td>\n",
       "    </tr>\n",
       "    <tr>\n",
       "      <th>3</th>\n",
       "      <td>124</td>\n",
       "      <td>112906</td>\n",
       "      <td>2161-12-17 03:39:00</td>\n",
       "      <td>2161-12-24 15:35:00</td>\n",
       "      <td>EMERGENCY</td>\n",
       "      <td>WHITE</td>\n",
       "      <td>Medicare</td>\n",
       "      <td>7.497222</td>\n",
       "      <td>3</td>\n",
       "      <td>['peripheral_vascular_disease', 'other', 'chro...</td>\n",
       "      <td>...</td>\n",
       "      <td>1</td>\n",
       "      <td>120+</td>\n",
       "      <td>2</td>\n",
       "      <td>1</td>\n",
       "      <td>0</td>\n",
       "      <td>low</td>\n",
       "      <td>7.850250e-01</td>\n",
       "      <td>0.076159</td>\n",
       "      <td>0.138815</td>\n",
       "      <td>0.785025</td>\n",
       "    </tr>\n",
       "    <tr>\n",
       "      <th>4</th>\n",
       "      <td>138</td>\n",
       "      <td>108120</td>\n",
       "      <td>2131-10-31 08:00:00</td>\n",
       "      <td>2131-11-06 12:54:00</td>\n",
       "      <td>ELECTIVE</td>\n",
       "      <td>WHITE</td>\n",
       "      <td>Private</td>\n",
       "      <td>6.204167</td>\n",
       "      <td>4</td>\n",
       "      <td>['congestive_heart_failure', 'myocardial_infar...</td>\n",
       "      <td>...</td>\n",
       "      <td>1</td>\n",
       "      <td>120+</td>\n",
       "      <td>2</td>\n",
       "      <td>1</td>\n",
       "      <td>0</td>\n",
       "      <td>low</td>\n",
       "      <td>9.450083e-01</td>\n",
       "      <td>0.029305</td>\n",
       "      <td>0.025686</td>\n",
       "      <td>0.945008</td>\n",
       "    </tr>\n",
       "    <tr>\n",
       "      <th>...</th>\n",
       "      <td>...</td>\n",
       "      <td>...</td>\n",
       "      <td>...</td>\n",
       "      <td>...</td>\n",
       "      <td>...</td>\n",
       "      <td>...</td>\n",
       "      <td>...</td>\n",
       "      <td>...</td>\n",
       "      <td>...</td>\n",
       "      <td>...</td>\n",
       "      <td>...</td>\n",
       "      <td>...</td>\n",
       "      <td>...</td>\n",
       "      <td>...</td>\n",
       "      <td>...</td>\n",
       "      <td>...</td>\n",
       "      <td>...</td>\n",
       "      <td>...</td>\n",
       "      <td>...</td>\n",
       "      <td>...</td>\n",
       "      <td>...</td>\n",
       "    </tr>\n",
       "    <tr>\n",
       "      <th>3371</th>\n",
       "      <td>99469</td>\n",
       "      <td>189343</td>\n",
       "      <td>2181-10-16 16:02:00</td>\n",
       "      <td>2181-10-23 15:35:00</td>\n",
       "      <td>EMERGENCY</td>\n",
       "      <td>WHITE</td>\n",
       "      <td>Medicare</td>\n",
       "      <td>6.981250</td>\n",
       "      <td>4</td>\n",
       "      <td>['congestive_heart_failure', 'other', 'chronic...</td>\n",
       "      <td>...</td>\n",
       "      <td>1</td>\n",
       "      <td>120+</td>\n",
       "      <td>2</td>\n",
       "      <td>1</td>\n",
       "      <td>0</td>\n",
       "      <td>low</td>\n",
       "      <td>4.833263e-01</td>\n",
       "      <td>0.343950</td>\n",
       "      <td>0.172724</td>\n",
       "      <td>0.483326</td>\n",
       "    </tr>\n",
       "    <tr>\n",
       "      <th>3372</th>\n",
       "      <td>99503</td>\n",
       "      <td>132396</td>\n",
       "      <td>2124-04-13 12:00:00</td>\n",
       "      <td>2124-04-13 17:14:00</td>\n",
       "      <td>ELECTIVE</td>\n",
       "      <td>WHITE</td>\n",
       "      <td>Medicare</td>\n",
       "      <td>0.500000</td>\n",
       "      <td>2</td>\n",
       "      <td>['other', 'renal_disease']</td>\n",
       "      <td>...</td>\n",
       "      <td>1</td>\n",
       "      <td>120+</td>\n",
       "      <td>2</td>\n",
       "      <td>1</td>\n",
       "      <td>0</td>\n",
       "      <td>low</td>\n",
       "      <td>9.239952e-01</td>\n",
       "      <td>0.032653</td>\n",
       "      <td>0.043352</td>\n",
       "      <td>0.923995</td>\n",
       "    </tr>\n",
       "    <tr>\n",
       "      <th>3373</th>\n",
       "      <td>99556</td>\n",
       "      <td>107452</td>\n",
       "      <td>2165-12-25 12:44:00</td>\n",
       "      <td>2166-01-08 16:53:00</td>\n",
       "      <td>EMERGENCY</td>\n",
       "      <td>WHITE</td>\n",
       "      <td>Medicare</td>\n",
       "      <td>14.172917</td>\n",
       "      <td>5</td>\n",
       "      <td>['myocardial_infarct', 'other', 'congestive_he...</td>\n",
       "      <td>...</td>\n",
       "      <td>1</td>\n",
       "      <td>120+</td>\n",
       "      <td>2</td>\n",
       "      <td>0</td>\n",
       "      <td>1</td>\n",
       "      <td>medium</td>\n",
       "      <td>3.667355e-01</td>\n",
       "      <td>0.374888</td>\n",
       "      <td>0.258377</td>\n",
       "      <td>0.374888</td>\n",
       "    </tr>\n",
       "    <tr>\n",
       "      <th>3374</th>\n",
       "      <td>99650</td>\n",
       "      <td>190854</td>\n",
       "      <td>2152-06-07 11:30:00</td>\n",
       "      <td>2152-06-13 15:00:00</td>\n",
       "      <td>ELECTIVE</td>\n",
       "      <td>WHITE</td>\n",
       "      <td>Medicare</td>\n",
       "      <td>6.145833</td>\n",
       "      <td>5</td>\n",
       "      <td>['chronic_pulmonary_disease', 'other', 'periph...</td>\n",
       "      <td>...</td>\n",
       "      <td>1</td>\n",
       "      <td>120+</td>\n",
       "      <td>2</td>\n",
       "      <td>1</td>\n",
       "      <td>0</td>\n",
       "      <td>low</td>\n",
       "      <td>8.775163e-01</td>\n",
       "      <td>0.067609</td>\n",
       "      <td>0.054875</td>\n",
       "      <td>0.877516</td>\n",
       "    </tr>\n",
       "    <tr>\n",
       "      <th>3375</th>\n",
       "      <td>99982</td>\n",
       "      <td>151454</td>\n",
       "      <td>2156-11-28 11:56:00</td>\n",
       "      <td>2156-12-08 13:45:00</td>\n",
       "      <td>EMERGENCY</td>\n",
       "      <td>WHITE</td>\n",
       "      <td>Medicare</td>\n",
       "      <td>10.075694</td>\n",
       "      <td>2</td>\n",
       "      <td>['congestive_heart_failure', 'other']</td>\n",
       "      <td>...</td>\n",
       "      <td>1</td>\n",
       "      <td>0-30</td>\n",
       "      <td>0</td>\n",
       "      <td>1</td>\n",
       "      <td>0</td>\n",
       "      <td>high</td>\n",
       "      <td>1.107634e-03</td>\n",
       "      <td>0.173432</td>\n",
       "      <td>0.825460</td>\n",
       "      <td>0.825460</td>\n",
       "    </tr>\n",
       "  </tbody>\n",
       "</table>\n",
       "<p>3376 rows × 62 columns</p>\n",
       "</div>"
      ],
      "text/plain": [
       "      SUBJECT_ID  HADM_ID           ADMITTIME           DISCHTIME  \\\n",
       "0             36   182104 2131-04-30 07:15:00 2131-05-08 14:00:00   \n",
       "1            107   191941 2115-02-20 17:41:00 2115-02-21 16:30:00   \n",
       "2            124   172461 2160-06-24 21:25:00 2160-07-15 15:10:00   \n",
       "3            124   112906 2161-12-17 03:39:00 2161-12-24 15:35:00   \n",
       "4            138   108120 2131-10-31 08:00:00 2131-11-06 12:54:00   \n",
       "...          ...      ...                 ...                 ...   \n",
       "3371       99469   189343 2181-10-16 16:02:00 2181-10-23 15:35:00   \n",
       "3372       99503   132396 2124-04-13 12:00:00 2124-04-13 17:14:00   \n",
       "3373       99556   107452 2165-12-25 12:44:00 2166-01-08 16:53:00   \n",
       "3374       99650   190854 2152-06-07 11:30:00 2152-06-13 15:00:00   \n",
       "3375       99982   151454 2156-11-28 11:56:00 2156-12-08 13:45:00   \n",
       "\n",
       "     ADMISSION_TYPE           ETHNICITY INSURANCE  HOSPITALIZATION_DAYS  \\\n",
       "0         EMERGENCY               WHITE  Medicare              8.281250   \n",
       "1         EMERGENCY  HISPANIC OR LATINO   Private              0.950694   \n",
       "2         EMERGENCY               WHITE   Private             20.739583   \n",
       "3         EMERGENCY               WHITE  Medicare              7.497222   \n",
       "4          ELECTIVE               WHITE   Private              6.204167   \n",
       "...             ...                 ...       ...                   ...   \n",
       "3371      EMERGENCY               WHITE  Medicare              6.981250   \n",
       "3372       ELECTIVE               WHITE  Medicare              0.500000   \n",
       "3373      EMERGENCY               WHITE  Medicare             14.172917   \n",
       "3374       ELECTIVE               WHITE  Medicare              6.145833   \n",
       "3375      EMERGENCY               WHITE  Medicare             10.075694   \n",
       "\n",
       "      NUM_COMORBIDITIES                                TYPES_COMORBIDITIES  \\\n",
       "0                     2             ['other', 'chronic_pulmonary_disease']   \n",
       "1                     2                         ['other', 'renal_disease']   \n",
       "2                     3  ['other', 'chronic_pulmonary_disease', 'cerebr...   \n",
       "3                     3  ['peripheral_vascular_disease', 'other', 'chro...   \n",
       "4                     4  ['congestive_heart_failure', 'myocardial_infar...   \n",
       "...                 ...                                                ...   \n",
       "3371                  4  ['congestive_heart_failure', 'other', 'chronic...   \n",
       "3372                  2                         ['other', 'renal_disease']   \n",
       "3373                  5  ['myocardial_infarct', 'other', 'congestive_he...   \n",
       "3374                  5  ['chronic_pulmonary_disease', 'other', 'periph...   \n",
       "3375                  2              ['congestive_heart_failure', 'other']   \n",
       "\n",
       "      ...  IS_HISTORICAL_EVENT  READMISSION_TIME_CAT  \\\n",
       "0     ...                    1                  0-30   \n",
       "1     ...                    1                  120+   \n",
       "2     ...                    1                  120+   \n",
       "3     ...                    1                  120+   \n",
       "4     ...                    1                  120+   \n",
       "...   ...                  ...                   ...   \n",
       "3371  ...                    1                  120+   \n",
       "3372  ...                    1                  120+   \n",
       "3373  ...                    1                  120+   \n",
       "3374  ...                    1                  120+   \n",
       "3375  ...                    1                  0-30   \n",
       "\n",
       "      READMISSION_TIME_CAT_ENCODED DISCHARGE_LOCATION_HOME  \\\n",
       "0                                0                       1   \n",
       "1                                2                       1   \n",
       "2                                2                       1   \n",
       "3                                2                       1   \n",
       "4                                2                       1   \n",
       "...                            ...                     ...   \n",
       "3371                             2                       1   \n",
       "3372                             2                       1   \n",
       "3373                             2                       0   \n",
       "3374                             2                       1   \n",
       "3375                             0                       1   \n",
       "\n",
       "      DISCHARGE_LOCATION_POST_ACUTE_CARE HEALTH_HIDDEN_RISK  \\\n",
       "0                                      0               high   \n",
       "1                                      0                low   \n",
       "2                                      0                low   \n",
       "3                                      0                low   \n",
       "4                                      0                low   \n",
       "...                                  ...                ...   \n",
       "3371                                   0                low   \n",
       "3372                                   0                low   \n",
       "3373                                   1             medium   \n",
       "3374                                   0                low   \n",
       "3375                                   0               high   \n",
       "\n",
       "     PROB_HIDDEN_RISK_LOW  PROB_HIDDEN_RISK_MEDIUM  PROB_HIDDEN_RISK_HIGH  \\\n",
       "0            2.514377e-12                 0.285634               0.714366   \n",
       "1            8.999964e-01                 0.057818               0.042186   \n",
       "2            9.155658e-01                 0.042237               0.042198   \n",
       "3            7.850250e-01                 0.076159               0.138815   \n",
       "4            9.450083e-01                 0.029305               0.025686   \n",
       "...                   ...                      ...                    ...   \n",
       "3371         4.833263e-01                 0.343950               0.172724   \n",
       "3372         9.239952e-01                 0.032653               0.043352   \n",
       "3373         3.667355e-01                 0.374888               0.258377   \n",
       "3374         8.775163e-01                 0.067609               0.054875   \n",
       "3375         1.107634e-03                 0.173432               0.825460   \n",
       "\n",
       "      HIDDEN_STATE_PROB  \n",
       "0              0.714366  \n",
       "1              0.899996  \n",
       "2              0.915566  \n",
       "3              0.785025  \n",
       "4              0.945008  \n",
       "...                 ...  \n",
       "3371           0.483326  \n",
       "3372           0.923995  \n",
       "3373           0.374888  \n",
       "3374           0.877516  \n",
       "3375           0.825460  \n",
       "\n",
       "[3376 rows x 62 columns]"
      ]
     },
     "execution_count": 8,
     "metadata": {},
     "output_type": "execute_result"
    }
   ],
   "source": [
    "import plotly.express as px\n",
    "\n",
    "probs_hist_readmissions_df = historical_events_hmm_features_df.copy()\n",
    "probs_hist_readmissions_df['HIDDEN_STATE_PROB'] = probs_hist_readmissions_df[[col for col in probs_hist_readmissions_df.columns if col.startswith(\"PROB_HIDDEN_RISK_\")]].max(axis=1)\n",
    "\n",
    "px.box(probs_hist_readmissions_df, x='HEALTH_HIDDEN_RISK', y='HIDDEN_STATE_PROB', color='HEALTH_HIDDEN_RISK',\n",
    "    title=\"Probability of Pred. Hidden Risk State - Training Data HMM\",\n",
    "    labels={'HEALTH_HIDDEN_RISK': 'Pred. Health Hidden Risk', 'HIDDEN_STATE_PROB': 'Pred. Probability of Hidden Risk State'},\n",
    "    category_orders={'HEALTH_HIDDEN_RISK': ['high', 'medium', 'low', 'very_low']},\n",
    "    color_discrete_sequence=px.colors.qualitative.Plotly\n",
    ").update_layout(\n",
    "    legend_title_text=\"Pred. Health Hidden Risk\"\n",
    ").show()\n",
    "\n",
    "probs_hist_readmissions_df"
   ]
  },
  {
   "cell_type": "code",
   "execution_count": 9,
   "metadata": {},
   "outputs": [],
   "source": [
    "subject_id = 5901\n",
    "prob_cols = [col for col in historical_events_hmm_features_df.columns if col.startswith(\"PROB_HIDDEN_RISK_\")]\n",
    "time_col = ['ADMITTIME']\n",
    "subject_df = historical_events_hmm_features_df.loc[historical_events_hmm_features_df['SUBJECT_ID'] == subject_id, time_col + prob_cols]"
   ]
  },
  {
   "cell_type": "code",
   "execution_count": 10,
   "metadata": {},
   "outputs": [
    {
     "data": {
      "text/plain": [
       "['CHARLSON_INDEX',\n",
       " 'DISCHARGE_LOCATION_POST_ACUTE_CARE',\n",
       " 'LOG_DAYS_IN_ICU',\n",
       " 'LOG_DAYS_UNTIL_NEXT_HOSPITALIZATION']"
      ]
     },
     "execution_count": 10,
     "metadata": {},
     "output_type": "execute_result"
    }
   ],
   "source": [
    "list(hmm_feature_extractor_model.config['features'].keys())"
   ]
  },
  {
   "cell_type": "code",
   "execution_count": 11,
   "metadata": {},
   "outputs": [
    {
     "name": "stdout",
     "output_type": "stream",
     "text": [
      "Plot saved as /workspaces/master-thesis-recurrent-health-events-prediction/assets/plots/eda/mimic/readmission_evolution_5901.html\n"
     ]
    },
    {
     "data": {
      "application/vnd.plotly.v1+json": {
       "config": {
        "plotlyServerURL": "https://plot.ly"
       },
       "data": [
        {
         "base": [
          "2107-07-18T23:29:00.000000000",
          "2107-08-20T18:07:00.000000000",
          "2107-09-23T02:08:00.000000000",
          "2107-07-18T23:29:00.000000000",
          "2107-08-20T18:07:00.000000000",
          "2107-09-23T02:08:00.000000000",
          "2107-07-18T23:29:00.000000000",
          "2107-08-20T18:07:00.000000000",
          "2107-09-23T02:08:00.000000000",
          "2107-07-18T23:29:00.000000000",
          "2107-08-20T18:07:00.000000000",
          "2107-09-23T02:08:00.000000000",
          "2107-07-18T23:29:00.000000000",
          "2107-08-20T18:07:00.000000000",
          "2107-09-23T02:08:00.000000000"
         ],
         "hovertemplate": "ADMISSION_TYPE=EMERGENCY<br>ADMITTIME=%{base}<br>DISCHTIME=%{x}<br>Feature=%{y}<br>Value=%{text}<extra></extra>",
         "legendgroup": "EMERGENCY",
         "marker": {
          "color": "orange",
          "pattern": {
           "shape": ""
          }
         },
         "name": "EMERGENCY",
         "orientation": "h",
         "showlegend": true,
         "text": [
          "6.00",
          "5.00",
          "5.00",
          "1.00",
          "1.00",
          "1.00",
          "11.90",
          "4.11",
          "1.59",
          "65.00",
          "34.00",
          "29.00",
          "10.17",
          "27.42",
          "582.87"
         ],
         "textfont": {
          "size": 10
         },
         "textposition": "auto",
         "type": "bar",
         "x": {
          "bdata": "gOhtdCAKex5g9zYIgOhtdCAKex5g9zYIgOhtdCAKex5g9zYIgOhtdCAKex5g9zYIgOhtdCAKex5g9zYI",
          "dtype": "i4"
         },
         "xaxis": "x",
         "y": [
          "CHARLSON_INDEX",
          "CHARLSON_INDEX",
          "CHARLSON_INDEX",
          "DISCHARGE_LOCATION_POST_ACUTE_CARE",
          "DISCHARGE_LOCATION_POST_ACUTE_CARE",
          "DISCHARGE_LOCATION_POST_ACUTE_CARE",
          "DAYS_IN_ICU",
          "DAYS_IN_ICU",
          "DAYS_IN_ICU",
          "NUM_DRUGS",
          "NUM_DRUGS",
          "NUM_DRUGS",
          "DAYS_UNTIL_NEXT_HOSPITALIZATION",
          "DAYS_UNTIL_NEXT_HOSPITALIZATION",
          "DAYS_UNTIL_NEXT_HOSPITALIZATION"
         ],
         "yaxis": "y"
        }
       ],
       "layout": {
        "barmode": "overlay",
        "height": 600,
        "legend": {
         "title": {
          "text": "ADMISSION_TYPE"
         },
         "tracegroupgap": 0
        },
        "margin": {
         "b": 50,
         "l": 100,
         "r": 100,
         "t": 50
        },
        "template": {
         "data": {
          "bar": [
           {
            "error_x": {
             "color": "#2a3f5f"
            },
            "error_y": {
             "color": "#2a3f5f"
            },
            "marker": {
             "line": {
              "color": "#E5ECF6",
              "width": 0.5
             },
             "pattern": {
              "fillmode": "overlay",
              "size": 10,
              "solidity": 0.2
             }
            },
            "type": "bar"
           }
          ],
          "barpolar": [
           {
            "marker": {
             "line": {
              "color": "#E5ECF6",
              "width": 0.5
             },
             "pattern": {
              "fillmode": "overlay",
              "size": 10,
              "solidity": 0.2
             }
            },
            "type": "barpolar"
           }
          ],
          "carpet": [
           {
            "aaxis": {
             "endlinecolor": "#2a3f5f",
             "gridcolor": "white",
             "linecolor": "white",
             "minorgridcolor": "white",
             "startlinecolor": "#2a3f5f"
            },
            "baxis": {
             "endlinecolor": "#2a3f5f",
             "gridcolor": "white",
             "linecolor": "white",
             "minorgridcolor": "white",
             "startlinecolor": "#2a3f5f"
            },
            "type": "carpet"
           }
          ],
          "choropleth": [
           {
            "colorbar": {
             "outlinewidth": 0,
             "ticks": ""
            },
            "type": "choropleth"
           }
          ],
          "contour": [
           {
            "colorbar": {
             "outlinewidth": 0,
             "ticks": ""
            },
            "colorscale": [
             [
              0,
              "#0d0887"
             ],
             [
              0.1111111111111111,
              "#46039f"
             ],
             [
              0.2222222222222222,
              "#7201a8"
             ],
             [
              0.3333333333333333,
              "#9c179e"
             ],
             [
              0.4444444444444444,
              "#bd3786"
             ],
             [
              0.5555555555555556,
              "#d8576b"
             ],
             [
              0.6666666666666666,
              "#ed7953"
             ],
             [
              0.7777777777777778,
              "#fb9f3a"
             ],
             [
              0.8888888888888888,
              "#fdca26"
             ],
             [
              1,
              "#f0f921"
             ]
            ],
            "type": "contour"
           }
          ],
          "contourcarpet": [
           {
            "colorbar": {
             "outlinewidth": 0,
             "ticks": ""
            },
            "type": "contourcarpet"
           }
          ],
          "heatmap": [
           {
            "colorbar": {
             "outlinewidth": 0,
             "ticks": ""
            },
            "colorscale": [
             [
              0,
              "#0d0887"
             ],
             [
              0.1111111111111111,
              "#46039f"
             ],
             [
              0.2222222222222222,
              "#7201a8"
             ],
             [
              0.3333333333333333,
              "#9c179e"
             ],
             [
              0.4444444444444444,
              "#bd3786"
             ],
             [
              0.5555555555555556,
              "#d8576b"
             ],
             [
              0.6666666666666666,
              "#ed7953"
             ],
             [
              0.7777777777777778,
              "#fb9f3a"
             ],
             [
              0.8888888888888888,
              "#fdca26"
             ],
             [
              1,
              "#f0f921"
             ]
            ],
            "type": "heatmap"
           }
          ],
          "histogram": [
           {
            "marker": {
             "pattern": {
              "fillmode": "overlay",
              "size": 10,
              "solidity": 0.2
             }
            },
            "type": "histogram"
           }
          ],
          "histogram2d": [
           {
            "colorbar": {
             "outlinewidth": 0,
             "ticks": ""
            },
            "colorscale": [
             [
              0,
              "#0d0887"
             ],
             [
              0.1111111111111111,
              "#46039f"
             ],
             [
              0.2222222222222222,
              "#7201a8"
             ],
             [
              0.3333333333333333,
              "#9c179e"
             ],
             [
              0.4444444444444444,
              "#bd3786"
             ],
             [
              0.5555555555555556,
              "#d8576b"
             ],
             [
              0.6666666666666666,
              "#ed7953"
             ],
             [
              0.7777777777777778,
              "#fb9f3a"
             ],
             [
              0.8888888888888888,
              "#fdca26"
             ],
             [
              1,
              "#f0f921"
             ]
            ],
            "type": "histogram2d"
           }
          ],
          "histogram2dcontour": [
           {
            "colorbar": {
             "outlinewidth": 0,
             "ticks": ""
            },
            "colorscale": [
             [
              0,
              "#0d0887"
             ],
             [
              0.1111111111111111,
              "#46039f"
             ],
             [
              0.2222222222222222,
              "#7201a8"
             ],
             [
              0.3333333333333333,
              "#9c179e"
             ],
             [
              0.4444444444444444,
              "#bd3786"
             ],
             [
              0.5555555555555556,
              "#d8576b"
             ],
             [
              0.6666666666666666,
              "#ed7953"
             ],
             [
              0.7777777777777778,
              "#fb9f3a"
             ],
             [
              0.8888888888888888,
              "#fdca26"
             ],
             [
              1,
              "#f0f921"
             ]
            ],
            "type": "histogram2dcontour"
           }
          ],
          "mesh3d": [
           {
            "colorbar": {
             "outlinewidth": 0,
             "ticks": ""
            },
            "type": "mesh3d"
           }
          ],
          "parcoords": [
           {
            "line": {
             "colorbar": {
              "outlinewidth": 0,
              "ticks": ""
             }
            },
            "type": "parcoords"
           }
          ],
          "pie": [
           {
            "automargin": true,
            "type": "pie"
           }
          ],
          "scatter": [
           {
            "fillpattern": {
             "fillmode": "overlay",
             "size": 10,
             "solidity": 0.2
            },
            "type": "scatter"
           }
          ],
          "scatter3d": [
           {
            "line": {
             "colorbar": {
              "outlinewidth": 0,
              "ticks": ""
             }
            },
            "marker": {
             "colorbar": {
              "outlinewidth": 0,
              "ticks": ""
             }
            },
            "type": "scatter3d"
           }
          ],
          "scattercarpet": [
           {
            "marker": {
             "colorbar": {
              "outlinewidth": 0,
              "ticks": ""
             }
            },
            "type": "scattercarpet"
           }
          ],
          "scattergeo": [
           {
            "marker": {
             "colorbar": {
              "outlinewidth": 0,
              "ticks": ""
             }
            },
            "type": "scattergeo"
           }
          ],
          "scattergl": [
           {
            "marker": {
             "colorbar": {
              "outlinewidth": 0,
              "ticks": ""
             }
            },
            "type": "scattergl"
           }
          ],
          "scattermap": [
           {
            "marker": {
             "colorbar": {
              "outlinewidth": 0,
              "ticks": ""
             }
            },
            "type": "scattermap"
           }
          ],
          "scattermapbox": [
           {
            "marker": {
             "colorbar": {
              "outlinewidth": 0,
              "ticks": ""
             }
            },
            "type": "scattermapbox"
           }
          ],
          "scatterpolar": [
           {
            "marker": {
             "colorbar": {
              "outlinewidth": 0,
              "ticks": ""
             }
            },
            "type": "scatterpolar"
           }
          ],
          "scatterpolargl": [
           {
            "marker": {
             "colorbar": {
              "outlinewidth": 0,
              "ticks": ""
             }
            },
            "type": "scatterpolargl"
           }
          ],
          "scatterternary": [
           {
            "marker": {
             "colorbar": {
              "outlinewidth": 0,
              "ticks": ""
             }
            },
            "type": "scatterternary"
           }
          ],
          "surface": [
           {
            "colorbar": {
             "outlinewidth": 0,
             "ticks": ""
            },
            "colorscale": [
             [
              0,
              "#0d0887"
             ],
             [
              0.1111111111111111,
              "#46039f"
             ],
             [
              0.2222222222222222,
              "#7201a8"
             ],
             [
              0.3333333333333333,
              "#9c179e"
             ],
             [
              0.4444444444444444,
              "#bd3786"
             ],
             [
              0.5555555555555556,
              "#d8576b"
             ],
             [
              0.6666666666666666,
              "#ed7953"
             ],
             [
              0.7777777777777778,
              "#fb9f3a"
             ],
             [
              0.8888888888888888,
              "#fdca26"
             ],
             [
              1,
              "#f0f921"
             ]
            ],
            "type": "surface"
           }
          ],
          "table": [
           {
            "cells": {
             "fill": {
              "color": "#EBF0F8"
             },
             "line": {
              "color": "white"
             }
            },
            "header": {
             "fill": {
              "color": "#C8D4E3"
             },
             "line": {
              "color": "white"
             }
            },
            "type": "table"
           }
          ]
         },
         "layout": {
          "annotationdefaults": {
           "arrowcolor": "#2a3f5f",
           "arrowhead": 0,
           "arrowwidth": 1
          },
          "autotypenumbers": "strict",
          "coloraxis": {
           "colorbar": {
            "outlinewidth": 0,
            "ticks": ""
           }
          },
          "colorscale": {
           "diverging": [
            [
             0,
             "#8e0152"
            ],
            [
             0.1,
             "#c51b7d"
            ],
            [
             0.2,
             "#de77ae"
            ],
            [
             0.3,
             "#f1b6da"
            ],
            [
             0.4,
             "#fde0ef"
            ],
            [
             0.5,
             "#f7f7f7"
            ],
            [
             0.6,
             "#e6f5d0"
            ],
            [
             0.7,
             "#b8e186"
            ],
            [
             0.8,
             "#7fbc41"
            ],
            [
             0.9,
             "#4d9221"
            ],
            [
             1,
             "#276419"
            ]
           ],
           "sequential": [
            [
             0,
             "#0d0887"
            ],
            [
             0.1111111111111111,
             "#46039f"
            ],
            [
             0.2222222222222222,
             "#7201a8"
            ],
            [
             0.3333333333333333,
             "#9c179e"
            ],
            [
             0.4444444444444444,
             "#bd3786"
            ],
            [
             0.5555555555555556,
             "#d8576b"
            ],
            [
             0.6666666666666666,
             "#ed7953"
            ],
            [
             0.7777777777777778,
             "#fb9f3a"
            ],
            [
             0.8888888888888888,
             "#fdca26"
            ],
            [
             1,
             "#f0f921"
            ]
           ],
           "sequentialminus": [
            [
             0,
             "#0d0887"
            ],
            [
             0.1111111111111111,
             "#46039f"
            ],
            [
             0.2222222222222222,
             "#7201a8"
            ],
            [
             0.3333333333333333,
             "#9c179e"
            ],
            [
             0.4444444444444444,
             "#bd3786"
            ],
            [
             0.5555555555555556,
             "#d8576b"
            ],
            [
             0.6666666666666666,
             "#ed7953"
            ],
            [
             0.7777777777777778,
             "#fb9f3a"
            ],
            [
             0.8888888888888888,
             "#fdca26"
            ],
            [
             1,
             "#f0f921"
            ]
           ]
          },
          "colorway": [
           "#636efa",
           "#EF553B",
           "#00cc96",
           "#ab63fa",
           "#FFA15A",
           "#19d3f3",
           "#FF6692",
           "#B6E880",
           "#FF97FF",
           "#FECB52"
          ],
          "font": {
           "color": "#2a3f5f"
          },
          "geo": {
           "bgcolor": "white",
           "lakecolor": "white",
           "landcolor": "#E5ECF6",
           "showlakes": true,
           "showland": true,
           "subunitcolor": "white"
          },
          "hoverlabel": {
           "align": "left"
          },
          "hovermode": "closest",
          "mapbox": {
           "style": "light"
          },
          "paper_bgcolor": "white",
          "plot_bgcolor": "#E5ECF6",
          "polar": {
           "angularaxis": {
            "gridcolor": "white",
            "linecolor": "white",
            "ticks": ""
           },
           "bgcolor": "#E5ECF6",
           "radialaxis": {
            "gridcolor": "white",
            "linecolor": "white",
            "ticks": ""
           }
          },
          "scene": {
           "xaxis": {
            "backgroundcolor": "#E5ECF6",
            "gridcolor": "white",
            "gridwidth": 2,
            "linecolor": "white",
            "showbackground": true,
            "ticks": "",
            "zerolinecolor": "white"
           },
           "yaxis": {
            "backgroundcolor": "#E5ECF6",
            "gridcolor": "white",
            "gridwidth": 2,
            "linecolor": "white",
            "showbackground": true,
            "ticks": "",
            "zerolinecolor": "white"
           },
           "zaxis": {
            "backgroundcolor": "#E5ECF6",
            "gridcolor": "white",
            "gridwidth": 2,
            "linecolor": "white",
            "showbackground": true,
            "ticks": "",
            "zerolinecolor": "white"
           }
          },
          "shapedefaults": {
           "line": {
            "color": "#2a3f5f"
           }
          },
          "ternary": {
           "aaxis": {
            "gridcolor": "white",
            "linecolor": "white",
            "ticks": ""
           },
           "baxis": {
            "gridcolor": "white",
            "linecolor": "white",
            "ticks": ""
           },
           "bgcolor": "#E5ECF6",
           "caxis": {
            "gridcolor": "white",
            "linecolor": "white",
            "ticks": ""
           }
          },
          "title": {
           "x": 0.05
          },
          "xaxis": {
           "automargin": true,
           "gridcolor": "white",
           "linecolor": "white",
           "ticks": "",
           "title": {
            "standoff": 15
           },
           "zerolinecolor": "white",
           "zerolinewidth": 2
          },
          "yaxis": {
           "automargin": true,
           "gridcolor": "white",
           "linecolor": "white",
           "ticks": "",
           "title": {
            "standoff": 15
           },
           "zerolinecolor": "white",
           "zerolinewidth": 2
          }
         }
        },
        "title": {
         "text": "Evolution of SUBJECT_ID 5901"
        },
        "xaxis": {
         "anchor": "y",
         "domain": [
          0,
          1
         ],
         "range": [
          "2107-04-09T23:29:00",
          "2107-10-24T16:25:00"
         ],
         "title": {
          "text": "Time"
         },
         "type": "date"
        },
        "yaxis": {
         "anchor": "x",
         "domain": [
          0,
          1
         ],
         "title": {
          "text": "Feature"
         }
        }
       }
      }
     },
     "metadata": {},
     "output_type": "display_data"
    }
   ],
   "source": [
    "from recurrent_health_events_prediction.visualization.utils import plot_subject_evolution\n",
    "\n",
    "\n",
    "features_to_plot = [\n",
    "    'CHARLSON_INDEX',\n",
    "    'DISCHARGE_LOCATION_POST_ACUTE_CARE',\n",
    "    'DAYS_IN_ICU',\n",
    "    'NUM_DRUGS',\n",
    "    'DAYS_UNTIL_NEXT_HOSPITALIZATION',\n",
    "]\n",
    "\n",
    "filename = \"readmission_evolution_5901.html\"\n",
    "file_path = os.path.join(\"/workspaces/master-thesis-recurrent-health-events-prediction/assets/plots/eda/mimic\", filename)\n",
    "plot_subject_evolution(historical_events_hmm_features_df, subject_id, features_to_plot=features_to_plot, textposition='auto', extend_time_horizon_by=30, save_html_file_path=file_path)"
   ]
  },
  {
   "cell_type": "code",
   "execution_count": 12,
   "metadata": {},
   "outputs": [
    {
     "name": "stdout",
     "output_type": "stream",
     "text": [
      "Plot saved as /workspaces/master-thesis-recurrent-health-events-prediction/assets/plots/eda/mimic/prob_hidden_risk_over_time_donor_10219.html\n"
     ]
    },
    {
     "data": {
      "application/vnd.plotly.v1+json": {
       "config": {
        "plotlyServerURL": "https://plot.ly"
       },
       "data": [
        {
         "mode": "lines+markers",
         "name": "PROB_HIDDEN_RISK_HIGH",
         "type": "scatter",
         "x": [
          1,
          2,
          3
         ],
         "y": {
          "bdata": "AAAAoLKc7T8AAACAoIDTP/3//58KRco/",
          "dtype": "f8"
         }
        },
        {
         "mode": "lines+markers",
         "name": "PROB_HIDDEN_RISK_LOW",
         "type": "scatter",
         "x": [
          1,
          2,
          3
         ],
         "y": {
          "bdata": "AAAAgDzsWj4G+f+f09YwPwAAAAA21uM/",
          "dtype": "f8"
         }
        },
        {
         "mode": "lines+markers",
         "name": "PROB_HIDDEN_RISK_MEDIUM",
         "type": "scatter",
         "x": [
          1,
          2,
          3
         ],
         "y": {
          "bdata": "+///H3casz8AAADglj3mP/7//z8XYsY/",
          "dtype": "f8"
         }
        }
       ],
       "layout": {
        "legend": {
         "title": {
          "text": "Latent Risk State"
         }
        },
        "template": {
         "data": {
          "bar": [
           {
            "error_x": {
             "color": "#2a3f5f"
            },
            "error_y": {
             "color": "#2a3f5f"
            },
            "marker": {
             "line": {
              "color": "white",
              "width": 0.5
             },
             "pattern": {
              "fillmode": "overlay",
              "size": 10,
              "solidity": 0.2
             }
            },
            "type": "bar"
           }
          ],
          "barpolar": [
           {
            "marker": {
             "line": {
              "color": "white",
              "width": 0.5
             },
             "pattern": {
              "fillmode": "overlay",
              "size": 10,
              "solidity": 0.2
             }
            },
            "type": "barpolar"
           }
          ],
          "carpet": [
           {
            "aaxis": {
             "endlinecolor": "#2a3f5f",
             "gridcolor": "#C8D4E3",
             "linecolor": "#C8D4E3",
             "minorgridcolor": "#C8D4E3",
             "startlinecolor": "#2a3f5f"
            },
            "baxis": {
             "endlinecolor": "#2a3f5f",
             "gridcolor": "#C8D4E3",
             "linecolor": "#C8D4E3",
             "minorgridcolor": "#C8D4E3",
             "startlinecolor": "#2a3f5f"
            },
            "type": "carpet"
           }
          ],
          "choropleth": [
           {
            "colorbar": {
             "outlinewidth": 0,
             "ticks": ""
            },
            "type": "choropleth"
           }
          ],
          "contour": [
           {
            "colorbar": {
             "outlinewidth": 0,
             "ticks": ""
            },
            "colorscale": [
             [
              0,
              "#0d0887"
             ],
             [
              0.1111111111111111,
              "#46039f"
             ],
             [
              0.2222222222222222,
              "#7201a8"
             ],
             [
              0.3333333333333333,
              "#9c179e"
             ],
             [
              0.4444444444444444,
              "#bd3786"
             ],
             [
              0.5555555555555556,
              "#d8576b"
             ],
             [
              0.6666666666666666,
              "#ed7953"
             ],
             [
              0.7777777777777778,
              "#fb9f3a"
             ],
             [
              0.8888888888888888,
              "#fdca26"
             ],
             [
              1,
              "#f0f921"
             ]
            ],
            "type": "contour"
           }
          ],
          "contourcarpet": [
           {
            "colorbar": {
             "outlinewidth": 0,
             "ticks": ""
            },
            "type": "contourcarpet"
           }
          ],
          "heatmap": [
           {
            "colorbar": {
             "outlinewidth": 0,
             "ticks": ""
            },
            "colorscale": [
             [
              0,
              "#0d0887"
             ],
             [
              0.1111111111111111,
              "#46039f"
             ],
             [
              0.2222222222222222,
              "#7201a8"
             ],
             [
              0.3333333333333333,
              "#9c179e"
             ],
             [
              0.4444444444444444,
              "#bd3786"
             ],
             [
              0.5555555555555556,
              "#d8576b"
             ],
             [
              0.6666666666666666,
              "#ed7953"
             ],
             [
              0.7777777777777778,
              "#fb9f3a"
             ],
             [
              0.8888888888888888,
              "#fdca26"
             ],
             [
              1,
              "#f0f921"
             ]
            ],
            "type": "heatmap"
           }
          ],
          "histogram": [
           {
            "marker": {
             "pattern": {
              "fillmode": "overlay",
              "size": 10,
              "solidity": 0.2
             }
            },
            "type": "histogram"
           }
          ],
          "histogram2d": [
           {
            "colorbar": {
             "outlinewidth": 0,
             "ticks": ""
            },
            "colorscale": [
             [
              0,
              "#0d0887"
             ],
             [
              0.1111111111111111,
              "#46039f"
             ],
             [
              0.2222222222222222,
              "#7201a8"
             ],
             [
              0.3333333333333333,
              "#9c179e"
             ],
             [
              0.4444444444444444,
              "#bd3786"
             ],
             [
              0.5555555555555556,
              "#d8576b"
             ],
             [
              0.6666666666666666,
              "#ed7953"
             ],
             [
              0.7777777777777778,
              "#fb9f3a"
             ],
             [
              0.8888888888888888,
              "#fdca26"
             ],
             [
              1,
              "#f0f921"
             ]
            ],
            "type": "histogram2d"
           }
          ],
          "histogram2dcontour": [
           {
            "colorbar": {
             "outlinewidth": 0,
             "ticks": ""
            },
            "colorscale": [
             [
              0,
              "#0d0887"
             ],
             [
              0.1111111111111111,
              "#46039f"
             ],
             [
              0.2222222222222222,
              "#7201a8"
             ],
             [
              0.3333333333333333,
              "#9c179e"
             ],
             [
              0.4444444444444444,
              "#bd3786"
             ],
             [
              0.5555555555555556,
              "#d8576b"
             ],
             [
              0.6666666666666666,
              "#ed7953"
             ],
             [
              0.7777777777777778,
              "#fb9f3a"
             ],
             [
              0.8888888888888888,
              "#fdca26"
             ],
             [
              1,
              "#f0f921"
             ]
            ],
            "type": "histogram2dcontour"
           }
          ],
          "mesh3d": [
           {
            "colorbar": {
             "outlinewidth": 0,
             "ticks": ""
            },
            "type": "mesh3d"
           }
          ],
          "parcoords": [
           {
            "line": {
             "colorbar": {
              "outlinewidth": 0,
              "ticks": ""
             }
            },
            "type": "parcoords"
           }
          ],
          "pie": [
           {
            "automargin": true,
            "type": "pie"
           }
          ],
          "scatter": [
           {
            "fillpattern": {
             "fillmode": "overlay",
             "size": 10,
             "solidity": 0.2
            },
            "type": "scatter"
           }
          ],
          "scatter3d": [
           {
            "line": {
             "colorbar": {
              "outlinewidth": 0,
              "ticks": ""
             }
            },
            "marker": {
             "colorbar": {
              "outlinewidth": 0,
              "ticks": ""
             }
            },
            "type": "scatter3d"
           }
          ],
          "scattercarpet": [
           {
            "marker": {
             "colorbar": {
              "outlinewidth": 0,
              "ticks": ""
             }
            },
            "type": "scattercarpet"
           }
          ],
          "scattergeo": [
           {
            "marker": {
             "colorbar": {
              "outlinewidth": 0,
              "ticks": ""
             }
            },
            "type": "scattergeo"
           }
          ],
          "scattergl": [
           {
            "marker": {
             "colorbar": {
              "outlinewidth": 0,
              "ticks": ""
             }
            },
            "type": "scattergl"
           }
          ],
          "scattermap": [
           {
            "marker": {
             "colorbar": {
              "outlinewidth": 0,
              "ticks": ""
             }
            },
            "type": "scattermap"
           }
          ],
          "scattermapbox": [
           {
            "marker": {
             "colorbar": {
              "outlinewidth": 0,
              "ticks": ""
             }
            },
            "type": "scattermapbox"
           }
          ],
          "scatterpolar": [
           {
            "marker": {
             "colorbar": {
              "outlinewidth": 0,
              "ticks": ""
             }
            },
            "type": "scatterpolar"
           }
          ],
          "scatterpolargl": [
           {
            "marker": {
             "colorbar": {
              "outlinewidth": 0,
              "ticks": ""
             }
            },
            "type": "scatterpolargl"
           }
          ],
          "scatterternary": [
           {
            "marker": {
             "colorbar": {
              "outlinewidth": 0,
              "ticks": ""
             }
            },
            "type": "scatterternary"
           }
          ],
          "surface": [
           {
            "colorbar": {
             "outlinewidth": 0,
             "ticks": ""
            },
            "colorscale": [
             [
              0,
              "#0d0887"
             ],
             [
              0.1111111111111111,
              "#46039f"
             ],
             [
              0.2222222222222222,
              "#7201a8"
             ],
             [
              0.3333333333333333,
              "#9c179e"
             ],
             [
              0.4444444444444444,
              "#bd3786"
             ],
             [
              0.5555555555555556,
              "#d8576b"
             ],
             [
              0.6666666666666666,
              "#ed7953"
             ],
             [
              0.7777777777777778,
              "#fb9f3a"
             ],
             [
              0.8888888888888888,
              "#fdca26"
             ],
             [
              1,
              "#f0f921"
             ]
            ],
            "type": "surface"
           }
          ],
          "table": [
           {
            "cells": {
             "fill": {
              "color": "#EBF0F8"
             },
             "line": {
              "color": "white"
             }
            },
            "header": {
             "fill": {
              "color": "#C8D4E3"
             },
             "line": {
              "color": "white"
             }
            },
            "type": "table"
           }
          ]
         },
         "layout": {
          "annotationdefaults": {
           "arrowcolor": "#2a3f5f",
           "arrowhead": 0,
           "arrowwidth": 1
          },
          "autotypenumbers": "strict",
          "coloraxis": {
           "colorbar": {
            "outlinewidth": 0,
            "ticks": ""
           }
          },
          "colorscale": {
           "diverging": [
            [
             0,
             "#8e0152"
            ],
            [
             0.1,
             "#c51b7d"
            ],
            [
             0.2,
             "#de77ae"
            ],
            [
             0.3,
             "#f1b6da"
            ],
            [
             0.4,
             "#fde0ef"
            ],
            [
             0.5,
             "#f7f7f7"
            ],
            [
             0.6,
             "#e6f5d0"
            ],
            [
             0.7,
             "#b8e186"
            ],
            [
             0.8,
             "#7fbc41"
            ],
            [
             0.9,
             "#4d9221"
            ],
            [
             1,
             "#276419"
            ]
           ],
           "sequential": [
            [
             0,
             "#0d0887"
            ],
            [
             0.1111111111111111,
             "#46039f"
            ],
            [
             0.2222222222222222,
             "#7201a8"
            ],
            [
             0.3333333333333333,
             "#9c179e"
            ],
            [
             0.4444444444444444,
             "#bd3786"
            ],
            [
             0.5555555555555556,
             "#d8576b"
            ],
            [
             0.6666666666666666,
             "#ed7953"
            ],
            [
             0.7777777777777778,
             "#fb9f3a"
            ],
            [
             0.8888888888888888,
             "#fdca26"
            ],
            [
             1,
             "#f0f921"
            ]
           ],
           "sequentialminus": [
            [
             0,
             "#0d0887"
            ],
            [
             0.1111111111111111,
             "#46039f"
            ],
            [
             0.2222222222222222,
             "#7201a8"
            ],
            [
             0.3333333333333333,
             "#9c179e"
            ],
            [
             0.4444444444444444,
             "#bd3786"
            ],
            [
             0.5555555555555556,
             "#d8576b"
            ],
            [
             0.6666666666666666,
             "#ed7953"
            ],
            [
             0.7777777777777778,
             "#fb9f3a"
            ],
            [
             0.8888888888888888,
             "#fdca26"
            ],
            [
             1,
             "#f0f921"
            ]
           ]
          },
          "colorway": [
           "#636efa",
           "#EF553B",
           "#00cc96",
           "#ab63fa",
           "#FFA15A",
           "#19d3f3",
           "#FF6692",
           "#B6E880",
           "#FF97FF",
           "#FECB52"
          ],
          "font": {
           "color": "#2a3f5f"
          },
          "geo": {
           "bgcolor": "white",
           "lakecolor": "white",
           "landcolor": "white",
           "showlakes": true,
           "showland": true,
           "subunitcolor": "#C8D4E3"
          },
          "hoverlabel": {
           "align": "left"
          },
          "hovermode": "closest",
          "mapbox": {
           "style": "light"
          },
          "paper_bgcolor": "white",
          "plot_bgcolor": "white",
          "polar": {
           "angularaxis": {
            "gridcolor": "#EBF0F8",
            "linecolor": "#EBF0F8",
            "ticks": ""
           },
           "bgcolor": "white",
           "radialaxis": {
            "gridcolor": "#EBF0F8",
            "linecolor": "#EBF0F8",
            "ticks": ""
           }
          },
          "scene": {
           "xaxis": {
            "backgroundcolor": "white",
            "gridcolor": "#DFE8F3",
            "gridwidth": 2,
            "linecolor": "#EBF0F8",
            "showbackground": true,
            "ticks": "",
            "zerolinecolor": "#EBF0F8"
           },
           "yaxis": {
            "backgroundcolor": "white",
            "gridcolor": "#DFE8F3",
            "gridwidth": 2,
            "linecolor": "#EBF0F8",
            "showbackground": true,
            "ticks": "",
            "zerolinecolor": "#EBF0F8"
           },
           "zaxis": {
            "backgroundcolor": "white",
            "gridcolor": "#DFE8F3",
            "gridwidth": 2,
            "linecolor": "#EBF0F8",
            "showbackground": true,
            "ticks": "",
            "zerolinecolor": "#EBF0F8"
           }
          },
          "shapedefaults": {
           "line": {
            "color": "#2a3f5f"
           }
          },
          "ternary": {
           "aaxis": {
            "gridcolor": "#DFE8F3",
            "linecolor": "#A2B1C6",
            "ticks": ""
           },
           "baxis": {
            "gridcolor": "#DFE8F3",
            "linecolor": "#A2B1C6",
            "ticks": ""
           },
           "bgcolor": "white",
           "caxis": {
            "gridcolor": "#DFE8F3",
            "linecolor": "#A2B1C6",
            "ticks": ""
           }
          },
          "title": {
           "x": 0.05
          },
          "xaxis": {
           "automargin": true,
           "gridcolor": "#EBF0F8",
           "linecolor": "#EBF0F8",
           "ticks": "",
           "title": {
            "standoff": 15
           },
           "zerolinecolor": "#EBF0F8",
           "zerolinewidth": 2
          },
          "yaxis": {
           "automargin": true,
           "gridcolor": "#EBF0F8",
           "linecolor": "#EBF0F8",
           "ticks": "",
           "title": {
            "standoff": 15
           },
           "zerolinecolor": "#EBF0F8",
           "zerolinewidth": 2
          }
         }
        },
        "title": {
         "text": "Hidden State Probabilities Over Time - Subject ID: 5901<br>Historical Events - Hosp. Readmission Dataset"
        },
        "xaxis": {
         "dtick": 1,
         "tick0": 1,
         "tickmode": "linear",
         "title": {
          "text": "Hospitalization"
         }
        },
        "yaxis": {
         "range": [
          0,
          1
         ],
         "title": {
          "text": "Probability"
         }
        }
       }
      }
     },
     "metadata": {},
     "output_type": "display_data"
    }
   ],
   "source": [
    "filename = \"prob_hidden_risk_over_time_donor_10219.html\"\n",
    "filepath = os.path.join(\"/workspaces/master-thesis-recurrent-health-events-prediction/assets/plots/eda/mimic\", filename)\n",
    "fig = plot_hidden_risk_over_time(\n",
    "    subject_df,\n",
    "    time_col=\"ADMITTIME\",\n",
    "    event_name=\"Hospitalization\",\n",
    "    title=f\"Hidden State Probabilities Over Time - Subject ID: {subject_id}\",\n",
    "    subtitle=\"Historical Events - Hosp. Readmission Dataset\",\n",
    "    save_html_file_path=filepath,  # or \"hidden_risk_plot.html\"\n",
    ")\n"
   ]
  },
  {
   "cell_type": "code",
   "execution_count": null,
   "metadata": {},
   "outputs": [],
   "source": [
    "mask = last_events_hmm_features_df[\"SUBJECT_ID\"] == subject_id\n",
    "cols = [\n",
    "    \"PROB_HIDDEN_RISK_HIGH\",\n",
    "    \"PROB_HIDDEN_RISK_MEDIUM\",\n",
    "    \"PROB_HIDDEN_RISK_LOW\",\n",
    "    \"PAST_COUNT_HIDDEN_RISK_HIGH\",\n",
    "    \"PAST_COUNT_HIDDEN_RISK_MEDIUM\",\n",
    "    \"PAST_COUNT_HIDDEN_RISK_LOW\"\n",
    "]\n",
    "last_events_hmm_features_df.loc[mask, [\"SUBJECT_ID\", \"HADM_ID\", \"READMISSION_TIME_CAT\", \"HEALTH_HIDDEN_RISK\"] + cols]"
   ]
  }
 ],
 "metadata": {
  "kernelspec": {
   "display_name": "recurrent-health-events-prediction-py3.10 (3.10.14)",
   "language": "python",
   "name": "python3"
  },
  "language_info": {
   "codemirror_mode": {
    "name": "ipython",
    "version": 3
   },
   "file_extension": ".py",
   "mimetype": "text/x-python",
   "name": "python",
   "nbconvert_exporter": "python",
   "pygments_lexer": "ipython3",
   "version": "3.10.14"
  }
 },
 "nbformat": 4,
 "nbformat_minor": 2
}
