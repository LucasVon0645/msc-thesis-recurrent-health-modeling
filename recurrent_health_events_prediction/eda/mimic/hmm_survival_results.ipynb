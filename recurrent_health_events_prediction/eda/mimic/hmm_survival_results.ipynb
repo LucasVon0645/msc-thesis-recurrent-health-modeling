{
 "cells": [
  {
   "cell_type": "code",
   "execution_count": 1,
   "id": "be113a59",
   "metadata": {},
   "outputs": [],
   "source": [
    "import numpy as np\n",
    "import pandas as pd\n",
    "import seaborn as sns\n",
    "import matplotlib.pyplot as plt\n",
    "import plotly.express as px\n",
    "import os\n",
    "\n",
    "from recurrent_health_events_prediction.visualization.utils import plot_hidden_risk_over_time\n",
    "\n",
    "# Define the color palette using Plotly's qualitative colors\n",
    "plotly_colors = px.colors.qualitative.Plotly\n",
    "sns.set_palette(plotly_colors)"
   ]
  },
  {
   "cell_type": "code",
   "execution_count": 2,
   "id": "e3ad85d1",
   "metadata": {},
   "outputs": [
    {
     "name": "stdout",
     "output_type": "stream",
     "text": [
      "Loadding last events with hidden states from: /workspaces/master-thesis-recurrent-health-events-prediction/_models/mimic/hmm_survival/cox_ph_with_hmm_log_time_covs_model/last_events_with_hidden_states.csv\n"
     ]
    }
   ],
   "source": [
    "file_dir = \"/workspaces/master-thesis-recurrent-health-events-prediction/_models/mimic/hmm_survival/cox_ph_with_hmm_log_time_covs_model\"\n",
    "filename = \"last_events_with_hidden_states.csv\"\n",
    "filepath = os.path.join(file_dir, filename)\n",
    "print(\"Loadding last events with hidden states from:\", filepath)\n",
    "last_events_hmm_features_df = pd.read_csv(filepath)"
   ]
  },
  {
   "cell_type": "code",
   "execution_count": 3,
   "id": "fb932ec6",
   "metadata": {},
   "outputs": [
    {
     "data": {
      "text/plain": [
       "Index(['index', 'SUBJECT_ID', 'HADM_ID', 'ADMITTIME', 'DISCHTIME',\n",
       "       'ADMISSION_TYPE', 'ETHNICITY', 'INSURANCE', 'HOSPITALIZATION_DAYS',\n",
       "       'NUM_COMORBIDITIES', 'TYPES_COMORBIDITIES', 'HAS_DIABETES', 'HAS_COPD',\n",
       "       'HAS_CONGESTIVE_HF', 'NEXT_ADMISSION_TYPE', 'NUM_PREV_HOSPITALIZATIONS',\n",
       "       'PREV_DISCHTIME', 'NEXT_ADMITTIME', 'DAYS_SINCE_LAST_HOSPITALIZATION',\n",
       "       'DAYS_UNTIL_NEXT_HOSPITALIZATION',\n",
       "       'LOG_DAYS_SINCE_LAST_HOSPITALIZATION',\n",
       "       'LOG_DAYS_UNTIL_NEXT_HOSPITALIZATION', 'PREV_READMISSION_30_DAYS',\n",
       "       'READMISSION_30_DAYS', 'READM_30_DAYS_PAST_MEAN',\n",
       "       'READM_30_DAYS_PAST_SUM', 'LOG_DAYS_UNTIL_NEXT_HOSP_PAST_MEAN',\n",
       "       'LOG_DAYS_UNTIL_NEXT_HOSP_PAST_MEDIAN',\n",
       "       'LOG_DAYS_UNTIL_NEXT_HOSP_PAST_STD', 'TOTAL_HOSPITALIZATIONS',\n",
       "       'DAYS_IN_ICU', 'NUM_DRUGS', 'NUM_PROCEDURES', 'GENDER', 'DOB', 'DOD',\n",
       "       'DOD_HOSP', 'AGE', 'CHARLSON_INDEX', 'FIRST_ADMITTIME',\n",
       "       'LAST_DISCHTIME', 'PARTICIPATION_DAYS', 'TOTAL_PARTICIPATION_DAYS',\n",
       "       'DEATH_TIME_AFTER_LAST_DISCHARGE', 'READMISSION_EVENT',\n",
       "       'EVENT_DURATION', 'IN_HOSP_DEATH_EVENT', 'AFTER_HOSP_DEATH_EVENT',\n",
       "       'LOG_HOSPITALIZATION_DAYS', 'LOG_DAYS_IN_ICU',\n",
       "       'LOG_NUM_PREV_HOSPITALIZATIONS', 'LOG_NUM_DRUGS', 'IS_LAST_EVENT',\n",
       "       'IS_HISTORICAL_EVENT', 'READMISSION_TIME_CAT',\n",
       "       'READMISSION_TIME_CAT_ENCODED', 'DISCHARGE_LOCATION_HOME',\n",
       "       'DISCHARGE_LOCATION_POST_ACUTE_CARE', 'HEALTH_HIDDEN_RISK',\n",
       "       'PROB_HIDDEN_RISK_HIGH', 'PROB_HIDDEN_RISK_MEDIUM',\n",
       "       'PROB_HIDDEN_RISK_LOW', 'PAST_COUNT_HIDDEN_RISK_HIGH',\n",
       "       'PAST_COUNT_HIDDEN_RISK_LOW', 'PAST_COUNT_HIDDEN_RISK_MEDIUM'],\n",
       "      dtype='object')"
      ]
     },
     "execution_count": 3,
     "metadata": {},
     "output_type": "execute_result"
    }
   ],
   "source": [
    "last_events_hmm_features_df.columns"
   ]
  },
  {
   "cell_type": "code",
   "execution_count": 4,
   "id": "7a6c87ed",
   "metadata": {},
   "outputs": [
    {
     "name": "stdout",
     "output_type": "stream",
     "text": [
      "Unique hidden states ordered: ['high', 'medium', 'low']\n"
     ]
    }
   ],
   "source": [
    "from recurrent_health_events_prediction.training.utils_hmm import sort_state_labels_by_severity\n",
    "\n",
    "hidden_states_ordered = last_events_hmm_features_df[\"HEALTH_HIDDEN_RISK\"].unique()\n",
    "hidden_states_ordered = sort_state_labels_by_severity(hidden_states_ordered)\n",
    "print(\"Unique hidden states ordered:\", hidden_states_ordered)"
   ]
  },
  {
   "cell_type": "code",
   "execution_count": 5,
   "id": "d3c01a08",
   "metadata": {},
   "outputs": [
    {
     "name": "stdout",
     "output_type": "stream",
     "text": [
      "Loading model from /workspaces/master-thesis-recurrent-health-events-prediction/_models/mimic/hmm_survival/cox_ph_with_hmm_log_time_covs_model/cox_ph_with_hmm_log_time_covs_model.pkl\n"
     ]
    }
   ],
   "source": [
    "from recurrent_health_events_prediction.model.NextEventPredictionModel import NextEventPredictionModel\n",
    "from recurrent_health_events_prediction.model.utils import load_model\n",
    "\n",
    "model_name = \"cox_ph_with_hmm_log_time_covs_model\"\n",
    "model_dir = f\"/workspaces/master-thesis-recurrent-health-events-prediction/_models/mimic/hmm_survival/{model_name}\"\n",
    "model_path = os.path.join(model_dir, f\"{model_name}.pkl\")\n",
    "print(f\"Loading model from {model_path}\")\n",
    "next_event_prediction_model: NextEventPredictionModel = load_model(model_path)"
   ]
  },
  {
   "cell_type": "code",
   "execution_count": 6,
   "id": "20c3265d",
   "metadata": {},
   "outputs": [
    {
     "data": {
      "text/plain": [
       "{'model_name': 'Cox PH with HMM Log Time Covs Model',\n",
       " 'base_hmm_name': 'hmm_mimic_time_log_normal_v1',\n",
       " 'model_type': 'cox_ph',\n",
       " 'save_model_path': '/workspaces/master-thesis-recurrent-health-events-prediction/_models/mimic/hmm_survival',\n",
       " 'strata_col': None,\n",
       " 'event_col': 'READMISSION_EVENT',\n",
       " 'event_id_col': 'HADM_ID',\n",
       " 'duration_col': 'EVENT_DURATION',\n",
       " 'cluster_col': None,\n",
       " 'event_name': 'readmission',\n",
       " 'features': ['AGE',\n",
       "  'DISCHARGE_LOCATION_POST_ACUTE_CARE',\n",
       "  'LOG_DAYS_IN_ICU',\n",
       "  'CHARLSON_INDEX',\n",
       "  'HAS_CONGESTIVE_HF',\n",
       "  'PROB_HIDDEN_RISK_HIGH',\n",
       "  'PROB_HIDDEN_RISK_MEDIUM',\n",
       "  'PAST_COUNT_HIDDEN_RISK_HIGH',\n",
       "  'PAST_COUNT_HIDDEN_RISK_MEDIUM',\n",
       "  'PAST_COUNT_HIDDEN_RISK_LOW',\n",
       "  'RANDOM_FEATURE'],\n",
       " 'features_not_to_scale': ['HAS_CONGESTIVE_HF',\n",
       "  'DISCHARGE_LOCATION_POST_ACUTE_CARE'],\n",
       " 'evaluation_times': [30, 60, 90, 100],\n",
       " 'main_evaluation_time': 30,\n",
       " 'scale_features': True,\n",
       " 'strata_remap': None,\n",
       " 'model_params': {'penalizer': np.float64(0.13315789473684211),\n",
       "  'l1_ratio': np.float64(0.1536842105263158)}}"
      ]
     },
     "execution_count": 6,
     "metadata": {},
     "output_type": "execute_result"
    }
   ],
   "source": [
    "next_event_prediction_model.model_config"
   ]
  },
  {
   "cell_type": "code",
   "execution_count": 7,
   "id": "43bc3a59",
   "metadata": {},
   "outputs": [],
   "source": [
    "random_state = 42\n",
    "split_csv_path = \"/workspaces/master-thesis-recurrent-health-events-prediction/data/mimic-iii-preprocessed/copd_heart_failure/multiple_hosp_patients/train_test_split.csv\"\n",
    "use_fixed_train_test_split = True\n",
    "features_not_to_scale = next_event_prediction_model.model_config[\"features_not_to_scale\"]\n",
    "strata_col = next_event_prediction_model.model_config[\"strata_col\"]\n",
    "event_id_col = next_event_prediction_model.model_config[\"event_id_col\"]\n",
    "features_cols = next_event_prediction_model.model_config[\"features\"]\n",
    "duration_col = next_event_prediction_model.model_config[\"duration_col\"]\n",
    "event_col = next_event_prediction_model.model_config[\"event_col\"]\n",
    "cluster_col = next_event_prediction_model.model_config[\"cluster_col\"]\n",
    "scale_features = next_event_prediction_model.model_config['scale_features']"
   ]
  },
  {
   "cell_type": "code",
   "execution_count": 8,
   "id": "067e81c4",
   "metadata": {},
   "outputs": [
    {
     "name": "stdout",
     "output_type": "stream",
     "text": [
      "Using fixed train-test split from /workspaces/master-thesis-recurrent-health-events-prediction/data/mimic-iii-preprocessed/copd_heart_failure/multiple_hosp_patients/train_test_split.csv\n",
      "Scaling features: ['AGE', 'LOG_DAYS_IN_ICU', 'CHARLSON_INDEX', 'PROB_HIDDEN_RISK_HIGH', 'PROB_HIDDEN_RISK_MEDIUM', 'PAST_COUNT_HIDDEN_RISK_HIGH', 'PAST_COUNT_HIDDEN_RISK_MEDIUM', 'PAST_COUNT_HIDDEN_RISK_LOW', 'RANDOM_FEATURE']\n"
     ]
    }
   ],
   "source": [
    "# Add a random feature for reference\n",
    "from recurrent_health_events_prediction.training.train_traditional_survival_model import prepare_data\n",
    "\n",
    "scale_features \n",
    "\n",
    "np.random.seed(random_state)  # Ensure reproducibility\n",
    "last_events_hmm_features_df['RANDOM_FEATURE'] = np.random.rand(len(last_events_hmm_features_df))\n",
    "cols = [event_id_col] + features_cols + [duration_col, event_col]\n",
    "if strata_col:\n",
    "    cols.append(strata_col)\n",
    "if cluster_col:\n",
    "    cols.append(cluster_col)\n",
    "\n",
    "X = last_events_hmm_features_df[cols]\n",
    "\n",
    "X_train, X_test = prepare_data(\n",
    "    X,\n",
    "    scale_features,\n",
    "    duration_col,\n",
    "    event_col,\n",
    "    event_id_col,\n",
    "    features_not_to_scale=features_not_to_scale,\n",
    "    q_bins=1,\n",
    "    use_fixed_train_test_split=use_fixed_train_test_split,\n",
    "    split_csv_path=split_csv_path,\n",
    ")"
   ]
  },
  {
   "cell_type": "code",
   "execution_count": 9,
   "id": "5bf8e331",
   "metadata": {},
   "outputs": [],
   "source": [
    "train_ids = X_train[event_id_col].unique()\n",
    "test_ids = X_test[event_id_col].unique()"
   ]
  },
  {
   "cell_type": "code",
   "execution_count": 10,
   "id": "edcb55be",
   "metadata": {},
   "outputs": [],
   "source": [
    "subject_id = 5901\n",
    "mask = last_events_hmm_features_df[\"SUBJECT_ID\"] == 5901\n",
    "event_id_of_subject = last_events_hmm_features_df.loc[mask, \"HADM_ID\"].values[0].item()"
   ]
  },
  {
   "cell_type": "code",
   "execution_count": 11,
   "id": "7c782192",
   "metadata": {},
   "outputs": [
    {
     "data": {
      "text/plain": [
       "148246"
      ]
     },
     "execution_count": 11,
     "metadata": {},
     "output_type": "execute_result"
    }
   ],
   "source": [
    "event_id_of_subject"
   ]
  },
  {
   "cell_type": "code",
   "execution_count": 12,
   "id": "38284d86",
   "metadata": {},
   "outputs": [],
   "source": [
    "if event_id_of_subject in train_ids:\n",
    "    subject_df = X_train[X_train[event_id_col] == event_id_of_subject]\n",
    "else:\n",
    "    subject_df = X_test[X_test[event_id_col] == event_id_of_subject]"
   ]
  },
  {
   "cell_type": "code",
   "execution_count": 13,
   "id": "b8eaed80",
   "metadata": {},
   "outputs": [
    {
     "data": {
      "text/html": [
       "<div>\n",
       "<style scoped>\n",
       "    .dataframe tbody tr th:only-of-type {\n",
       "        vertical-align: middle;\n",
       "    }\n",
       "\n",
       "    .dataframe tbody tr th {\n",
       "        vertical-align: top;\n",
       "    }\n",
       "\n",
       "    .dataframe thead th {\n",
       "        text-align: right;\n",
       "    }\n",
       "</style>\n",
       "<table border=\"1\" class=\"dataframe\">\n",
       "  <thead>\n",
       "    <tr style=\"text-align: right;\">\n",
       "      <th></th>\n",
       "      <th>HADM_ID</th>\n",
       "      <th>AGE</th>\n",
       "      <th>DISCHARGE_LOCATION_POST_ACUTE_CARE</th>\n",
       "      <th>LOG_DAYS_IN_ICU</th>\n",
       "      <th>CHARLSON_INDEX</th>\n",
       "      <th>HAS_CONGESTIVE_HF</th>\n",
       "      <th>PROB_HIDDEN_RISK_HIGH</th>\n",
       "      <th>PROB_HIDDEN_RISK_MEDIUM</th>\n",
       "      <th>PAST_COUNT_HIDDEN_RISK_HIGH</th>\n",
       "      <th>PAST_COUNT_HIDDEN_RISK_MEDIUM</th>\n",
       "      <th>PAST_COUNT_HIDDEN_RISK_LOW</th>\n",
       "      <th>RANDOM_FEATURE</th>\n",
       "      <th>EVENT_DURATION</th>\n",
       "      <th>READMISSION_EVENT</th>\n",
       "    </tr>\n",
       "  </thead>\n",
       "  <tbody>\n",
       "    <tr>\n",
       "      <th>181</th>\n",
       "      <td>148246</td>\n",
       "      <td>0.727775</td>\n",
       "      <td>1</td>\n",
       "      <td>-0.423291</td>\n",
       "      <td>-0.214493</td>\n",
       "      <td>False</td>\n",
       "      <td>0.757865</td>\n",
       "      <td>-0.512714</td>\n",
       "      <td>0.848389</td>\n",
       "      <td>-0.472732</td>\n",
       "      <td>0.006726</td>\n",
       "      <td>-1.279279</td>\n",
       "      <td>57.747917</td>\n",
       "      <td>1</td>\n",
       "    </tr>\n",
       "  </tbody>\n",
       "</table>\n",
       "</div>"
      ],
      "text/plain": [
       "     HADM_ID       AGE  DISCHARGE_LOCATION_POST_ACUTE_CARE  LOG_DAYS_IN_ICU  \\\n",
       "181   148246  0.727775                                   1        -0.423291   \n",
       "\n",
       "     CHARLSON_INDEX  HAS_CONGESTIVE_HF  PROB_HIDDEN_RISK_HIGH  \\\n",
       "181       -0.214493              False               0.757865   \n",
       "\n",
       "     PROB_HIDDEN_RISK_MEDIUM  PAST_COUNT_HIDDEN_RISK_HIGH  \\\n",
       "181                -0.512714                     0.848389   \n",
       "\n",
       "     PAST_COUNT_HIDDEN_RISK_MEDIUM  PAST_COUNT_HIDDEN_RISK_LOW  \\\n",
       "181                      -0.472732                    0.006726   \n",
       "\n",
       "     RANDOM_FEATURE  EVENT_DURATION  READMISSION_EVENT  \n",
       "181       -1.279279       57.747917                  1  "
      ]
     },
     "execution_count": 13,
     "metadata": {},
     "output_type": "execute_result"
    }
   ],
   "source": [
    "subject_df"
   ]
  },
  {
   "cell_type": "code",
   "execution_count": 14,
   "id": "91ff2de3",
   "metadata": {},
   "outputs": [
    {
     "data": {
      "application/vnd.plotly.v1+json": {
       "config": {
        "plotlyServerURL": "https://plot.ly"
       },
       "data": [
        {
         "hovertemplate": "HADM_ID=148246<br>Time=%{x}<br>Survival probability=%{y}<extra></extra>",
         "legendgroup": "148246",
         "line": {
          "color": "#636efa",
          "dash": "solid"
         },
         "marker": {
          "symbol": "circle"
         },
         "mode": "lines",
         "name": "Surv. Curve Event 148246",
         "orientation": "v",
         "showlegend": true,
         "type": "scatter",
         "x": {
          "bdata": "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",
          "dtype": "f8"
         },
         "xaxis": "x",
         "y": {
          "bdata": "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",
          "dtype": "f8"
         },
         "yaxis": "y"
        },
        {
         "hovertemplate": "<b>Event ID:</b> 148246<br><b>True Duration:</b> 57.7479<br><b>Survival Probability:</b> 0.5805<br><b>Event:</b> 1<extra></extra>",
         "marker": {
          "color": "black",
          "size": 8,
          "symbol": "circle"
         },
         "mode": "markers",
         "name": "Event 148246: Obs",
         "showlegend": true,
         "type": "scatter",
         "x": [
          57.7479
         ],
         "y": [
          0.5805
         ]
        }
       ],
       "layout": {
        "legend": {
         "title": {
          "text": ""
         },
         "tracegroupgap": 0
        },
        "template": {
         "data": {
          "bar": [
           {
            "error_x": {
             "color": "#2a3f5f"
            },
            "error_y": {
             "color": "#2a3f5f"
            },
            "marker": {
             "line": {
              "color": "#E5ECF6",
              "width": 0.5
             },
             "pattern": {
              "fillmode": "overlay",
              "size": 10,
              "solidity": 0.2
             }
            },
            "type": "bar"
           }
          ],
          "barpolar": [
           {
            "marker": {
             "line": {
              "color": "#E5ECF6",
              "width": 0.5
             },
             "pattern": {
              "fillmode": "overlay",
              "size": 10,
              "solidity": 0.2
             }
            },
            "type": "barpolar"
           }
          ],
          "carpet": [
           {
            "aaxis": {
             "endlinecolor": "#2a3f5f",
             "gridcolor": "white",
             "linecolor": "white",
             "minorgridcolor": "white",
             "startlinecolor": "#2a3f5f"
            },
            "baxis": {
             "endlinecolor": "#2a3f5f",
             "gridcolor": "white",
             "linecolor": "white",
             "minorgridcolor": "white",
             "startlinecolor": "#2a3f5f"
            },
            "type": "carpet"
           }
          ],
          "choropleth": [
           {
            "colorbar": {
             "outlinewidth": 0,
             "ticks": ""
            },
            "type": "choropleth"
           }
          ],
          "contour": [
           {
            "colorbar": {
             "outlinewidth": 0,
             "ticks": ""
            },
            "colorscale": [
             [
              0,
              "#0d0887"
             ],
             [
              0.1111111111111111,
              "#46039f"
             ],
             [
              0.2222222222222222,
              "#7201a8"
             ],
             [
              0.3333333333333333,
              "#9c179e"
             ],
             [
              0.4444444444444444,
              "#bd3786"
             ],
             [
              0.5555555555555556,
              "#d8576b"
             ],
             [
              0.6666666666666666,
              "#ed7953"
             ],
             [
              0.7777777777777778,
              "#fb9f3a"
             ],
             [
              0.8888888888888888,
              "#fdca26"
             ],
             [
              1,
              "#f0f921"
             ]
            ],
            "type": "contour"
           }
          ],
          "contourcarpet": [
           {
            "colorbar": {
             "outlinewidth": 0,
             "ticks": ""
            },
            "type": "contourcarpet"
           }
          ],
          "heatmap": [
           {
            "colorbar": {
             "outlinewidth": 0,
             "ticks": ""
            },
            "colorscale": [
             [
              0,
              "#0d0887"
             ],
             [
              0.1111111111111111,
              "#46039f"
             ],
             [
              0.2222222222222222,
              "#7201a8"
             ],
             [
              0.3333333333333333,
              "#9c179e"
             ],
             [
              0.4444444444444444,
              "#bd3786"
             ],
             [
              0.5555555555555556,
              "#d8576b"
             ],
             [
              0.6666666666666666,
              "#ed7953"
             ],
             [
              0.7777777777777778,
              "#fb9f3a"
             ],
             [
              0.8888888888888888,
              "#fdca26"
             ],
             [
              1,
              "#f0f921"
             ]
            ],
            "type": "heatmap"
           }
          ],
          "histogram": [
           {
            "marker": {
             "pattern": {
              "fillmode": "overlay",
              "size": 10,
              "solidity": 0.2
             }
            },
            "type": "histogram"
           }
          ],
          "histogram2d": [
           {
            "colorbar": {
             "outlinewidth": 0,
             "ticks": ""
            },
            "colorscale": [
             [
              0,
              "#0d0887"
             ],
             [
              0.1111111111111111,
              "#46039f"
             ],
             [
              0.2222222222222222,
              "#7201a8"
             ],
             [
              0.3333333333333333,
              "#9c179e"
             ],
             [
              0.4444444444444444,
              "#bd3786"
             ],
             [
              0.5555555555555556,
              "#d8576b"
             ],
             [
              0.6666666666666666,
              "#ed7953"
             ],
             [
              0.7777777777777778,
              "#fb9f3a"
             ],
             [
              0.8888888888888888,
              "#fdca26"
             ],
             [
              1,
              "#f0f921"
             ]
            ],
            "type": "histogram2d"
           }
          ],
          "histogram2dcontour": [
           {
            "colorbar": {
             "outlinewidth": 0,
             "ticks": ""
            },
            "colorscale": [
             [
              0,
              "#0d0887"
             ],
             [
              0.1111111111111111,
              "#46039f"
             ],
             [
              0.2222222222222222,
              "#7201a8"
             ],
             [
              0.3333333333333333,
              "#9c179e"
             ],
             [
              0.4444444444444444,
              "#bd3786"
             ],
             [
              0.5555555555555556,
              "#d8576b"
             ],
             [
              0.6666666666666666,
              "#ed7953"
             ],
             [
              0.7777777777777778,
              "#fb9f3a"
             ],
             [
              0.8888888888888888,
              "#fdca26"
             ],
             [
              1,
              "#f0f921"
             ]
            ],
            "type": "histogram2dcontour"
           }
          ],
          "mesh3d": [
           {
            "colorbar": {
             "outlinewidth": 0,
             "ticks": ""
            },
            "type": "mesh3d"
           }
          ],
          "parcoords": [
           {
            "line": {
             "colorbar": {
              "outlinewidth": 0,
              "ticks": ""
             }
            },
            "type": "parcoords"
           }
          ],
          "pie": [
           {
            "automargin": true,
            "type": "pie"
           }
          ],
          "scatter": [
           {
            "fillpattern": {
             "fillmode": "overlay",
             "size": 10,
             "solidity": 0.2
            },
            "type": "scatter"
           }
          ],
          "scatter3d": [
           {
            "line": {
             "colorbar": {
              "outlinewidth": 0,
              "ticks": ""
             }
            },
            "marker": {
             "colorbar": {
              "outlinewidth": 0,
              "ticks": ""
             }
            },
            "type": "scatter3d"
           }
          ],
          "scattercarpet": [
           {
            "marker": {
             "colorbar": {
              "outlinewidth": 0,
              "ticks": ""
             }
            },
            "type": "scattercarpet"
           }
          ],
          "scattergeo": [
           {
            "marker": {
             "colorbar": {
              "outlinewidth": 0,
              "ticks": ""
             }
            },
            "type": "scattergeo"
           }
          ],
          "scattergl": [
           {
            "marker": {
             "colorbar": {
              "outlinewidth": 0,
              "ticks": ""
             }
            },
            "type": "scattergl"
           }
          ],
          "scattermap": [
           {
            "marker": {
             "colorbar": {
              "outlinewidth": 0,
              "ticks": ""
             }
            },
            "type": "scattermap"
           }
          ],
          "scattermapbox": [
           {
            "marker": {
             "colorbar": {
              "outlinewidth": 0,
              "ticks": ""
             }
            },
            "type": "scattermapbox"
           }
          ],
          "scatterpolar": [
           {
            "marker": {
             "colorbar": {
              "outlinewidth": 0,
              "ticks": ""
             }
            },
            "type": "scatterpolar"
           }
          ],
          "scatterpolargl": [
           {
            "marker": {
             "colorbar": {
              "outlinewidth": 0,
              "ticks": ""
             }
            },
            "type": "scatterpolargl"
           }
          ],
          "scatterternary": [
           {
            "marker": {
             "colorbar": {
              "outlinewidth": 0,
              "ticks": ""
             }
            },
            "type": "scatterternary"
           }
          ],
          "surface": [
           {
            "colorbar": {
             "outlinewidth": 0,
             "ticks": ""
            },
            "colorscale": [
             [
              0,
              "#0d0887"
             ],
             [
              0.1111111111111111,
              "#46039f"
             ],
             [
              0.2222222222222222,
              "#7201a8"
             ],
             [
              0.3333333333333333,
              "#9c179e"
             ],
             [
              0.4444444444444444,
              "#bd3786"
             ],
             [
              0.5555555555555556,
              "#d8576b"
             ],
             [
              0.6666666666666666,
              "#ed7953"
             ],
             [
              0.7777777777777778,
              "#fb9f3a"
             ],
             [
              0.8888888888888888,
              "#fdca26"
             ],
             [
              1,
              "#f0f921"
             ]
            ],
            "type": "surface"
           }
          ],
          "table": [
           {
            "cells": {
             "fill": {
              "color": "#EBF0F8"
             },
             "line": {
              "color": "white"
             }
            },
            "header": {
             "fill": {
              "color": "#C8D4E3"
             },
             "line": {
              "color": "white"
             }
            },
            "type": "table"
           }
          ]
         },
         "layout": {
          "annotationdefaults": {
           "arrowcolor": "#2a3f5f",
           "arrowhead": 0,
           "arrowwidth": 1
          },
          "autotypenumbers": "strict",
          "coloraxis": {
           "colorbar": {
            "outlinewidth": 0,
            "ticks": ""
           }
          },
          "colorscale": {
           "diverging": [
            [
             0,
             "#8e0152"
            ],
            [
             0.1,
             "#c51b7d"
            ],
            [
             0.2,
             "#de77ae"
            ],
            [
             0.3,
             "#f1b6da"
            ],
            [
             0.4,
             "#fde0ef"
            ],
            [
             0.5,
             "#f7f7f7"
            ],
            [
             0.6,
             "#e6f5d0"
            ],
            [
             0.7,
             "#b8e186"
            ],
            [
             0.8,
             "#7fbc41"
            ],
            [
             0.9,
             "#4d9221"
            ],
            [
             1,
             "#276419"
            ]
           ],
           "sequential": [
            [
             0,
             "#0d0887"
            ],
            [
             0.1111111111111111,
             "#46039f"
            ],
            [
             0.2222222222222222,
             "#7201a8"
            ],
            [
             0.3333333333333333,
             "#9c179e"
            ],
            [
             0.4444444444444444,
             "#bd3786"
            ],
            [
             0.5555555555555556,
             "#d8576b"
            ],
            [
             0.6666666666666666,
             "#ed7953"
            ],
            [
             0.7777777777777778,
             "#fb9f3a"
            ],
            [
             0.8888888888888888,
             "#fdca26"
            ],
            [
             1,
             "#f0f921"
            ]
           ],
           "sequentialminus": [
            [
             0,
             "#0d0887"
            ],
            [
             0.1111111111111111,
             "#46039f"
            ],
            [
             0.2222222222222222,
             "#7201a8"
            ],
            [
             0.3333333333333333,
             "#9c179e"
            ],
            [
             0.4444444444444444,
             "#bd3786"
            ],
            [
             0.5555555555555556,
             "#d8576b"
            ],
            [
             0.6666666666666666,
             "#ed7953"
            ],
            [
             0.7777777777777778,
             "#fb9f3a"
            ],
            [
             0.8888888888888888,
             "#fdca26"
            ],
            [
             1,
             "#f0f921"
            ]
           ]
          },
          "colorway": [
           "#636efa",
           "#EF553B",
           "#00cc96",
           "#ab63fa",
           "#FFA15A",
           "#19d3f3",
           "#FF6692",
           "#B6E880",
           "#FF97FF",
           "#FECB52"
          ],
          "font": {
           "color": "#2a3f5f"
          },
          "geo": {
           "bgcolor": "white",
           "lakecolor": "white",
           "landcolor": "#E5ECF6",
           "showlakes": true,
           "showland": true,
           "subunitcolor": "white"
          },
          "hoverlabel": {
           "align": "left"
          },
          "hovermode": "closest",
          "mapbox": {
           "style": "light"
          },
          "paper_bgcolor": "white",
          "plot_bgcolor": "#E5ECF6",
          "polar": {
           "angularaxis": {
            "gridcolor": "white",
            "linecolor": "white",
            "ticks": ""
           },
           "bgcolor": "#E5ECF6",
           "radialaxis": {
            "gridcolor": "white",
            "linecolor": "white",
            "ticks": ""
           }
          },
          "scene": {
           "xaxis": {
            "backgroundcolor": "#E5ECF6",
            "gridcolor": "white",
            "gridwidth": 2,
            "linecolor": "white",
            "showbackground": true,
            "ticks": "",
            "zerolinecolor": "white"
           },
           "yaxis": {
            "backgroundcolor": "#E5ECF6",
            "gridcolor": "white",
            "gridwidth": 2,
            "linecolor": "white",
            "showbackground": true,
            "ticks": "",
            "zerolinecolor": "white"
           },
           "zaxis": {
            "backgroundcolor": "#E5ECF6",
            "gridcolor": "white",
            "gridwidth": 2,
            "linecolor": "white",
            "showbackground": true,
            "ticks": "",
            "zerolinecolor": "white"
           }
          },
          "shapedefaults": {
           "line": {
            "color": "#2a3f5f"
           }
          },
          "ternary": {
           "aaxis": {
            "gridcolor": "white",
            "linecolor": "white",
            "ticks": ""
           },
           "baxis": {
            "gridcolor": "white",
            "linecolor": "white",
            "ticks": ""
           },
           "bgcolor": "#E5ECF6",
           "caxis": {
            "gridcolor": "white",
            "linecolor": "white",
            "ticks": ""
           }
          },
          "title": {
           "x": 0.05
          },
          "xaxis": {
           "automargin": true,
           "gridcolor": "white",
           "linecolor": "white",
           "ticks": "",
           "title": {
            "standoff": 15
           },
           "zerolinecolor": "white",
           "zerolinewidth": 2
          },
          "yaxis": {
           "automargin": true,
           "gridcolor": "white",
           "linecolor": "white",
           "ticks": "",
           "title": {
            "standoff": 15
           },
           "zerolinecolor": "white",
           "zerolinewidth": 2
          }
         }
        },
        "title": {
         "text": "Survival Function for Subject 5901"
        },
        "xaxis": {
         "anchor": "y",
         "domain": [
          0,
          1
         ],
         "title": {
          "text": "Time (days)"
         }
        },
        "yaxis": {
         "anchor": "x",
         "domain": [
          0,
          1
         ],
         "title": {
          "text": "Survival Probability"
         }
        }
       }
      }
     },
     "metadata": {},
     "output_type": "display_data"
    }
   ],
   "source": [
    "fig = next_event_prediction_model.plot_survival_function(subject_df, title=\"Survival Function for Subject 5901\", duration_col = \"EVENT_DURATION\", event_col = \"READMISSION_EVENT\")"
   ]
  },
  {
   "cell_type": "code",
   "execution_count": 38,
   "id": "a5a0245e",
   "metadata": {},
   "outputs": [],
   "source": [
    "filepath = os.path.join(\"/workspaces/master-thesis-recurrent-health-events-prediction/assets/plots/eda/mimic\", \"survival_function_subject_5901.html\")\n",
    "fig.write_html(filepath)"
   ]
  },
  {
   "cell_type": "code",
   "execution_count": 15,
   "id": "045313e6",
   "metadata": {},
   "outputs": [
    {
     "data": {
      "text/plain": [
       "['AGE',\n",
       " 'DISCHARGE_LOCATION_POST_ACUTE_CARE',\n",
       " 'LOG_DAYS_IN_ICU',\n",
       " 'CHARLSON_INDEX',\n",
       " 'HAS_CONGESTIVE_HF',\n",
       " 'PROB_HIDDEN_RISK_HIGH',\n",
       " 'PROB_HIDDEN_RISK_MEDIUM',\n",
       " 'PAST_COUNT_HIDDEN_RISK_HIGH',\n",
       " 'PAST_COUNT_HIDDEN_RISK_MEDIUM',\n",
       " 'PAST_COUNT_HIDDEN_RISK_LOW',\n",
       " 'RANDOM_FEATURE']"
      ]
     },
     "execution_count": 15,
     "metadata": {},
     "output_type": "execute_result"
    }
   ],
   "source": [
    "next_event_prediction_model.feature_names_in_"
   ]
  },
  {
   "cell_type": "code",
   "execution_count": 21,
   "metadata": {},
   "outputs": [
    {
     "name": "stderr",
     "output_type": "stream",
     "text": [
      "WARNING\tshap:_kernel.py:__init__()- Using 1000 background data samples could cause slower run times. Consider using shap.sample(data, K) or shap.kmeans(data, K) to summarize the background as K samples.\n"
     ]
    },
    {
     "data": {
      "application/vnd.jupyter.widget-view+json": {
       "model_id": "ebed1d6111d34acbb700714e6e60931c",
       "version_major": 2,
       "version_minor": 0
      },
      "text/plain": [
       "  0%|          | 0/1 [00:00<?, ?it/s]"
      ]
     },
     "metadata": {},
     "output_type": "display_data"
    },
    {
     "data": {
      "image/png": "[encoded data removed]",
      "text/plain": [
       "<Figure size 800x650 with 3 Axes>"
      ]
     },
     "metadata": {},
     "output_type": "display_data"
    }
   ],
   "source": [
    "# Get SHAP values\n",
    "from recurrent_health_events_prediction.model.explainers import explain_survival_model_prob, plot_waterfall\n",
    "\n",
    "feature_names = next_event_prediction_model.feature_names_in_\n",
    "X_explain = subject_df[feature_names]\n",
    "X_background = X_train.iloc[:1000][feature_names]\n",
    "\n",
    "shap_values, explainer = explain_survival_model_prob(\n",
    "    next_event_prediction_model, X_background, X_explain, t=30\n",
    ")\n",
    "feature_names = next_event_prediction_model.feature_names_in_\n",
    "plot_waterfall(explainer, X_explain, shap_values[0], feature_names)"
   ]
  },
  {
   "cell_type": "code",
   "execution_count": null,
   "id": "b4965084",
   "metadata": {},
   "outputs": [],
   "source": [
    "# Initialize the model with the configuration\n",
    "next_event_model_km = NextEventPredictionModel(next_event_model_config['last_event_based'], model_type=SurvivalModelType.KAPLAN_MEIER)\n",
    "next_event_model_km.model_name = \"Kaplan Meier Estimator\""
   ]
  }
 ],
 "metadata": {
  "kernelspec": {
   "display_name": "recurrent-health-events-prediction-py3.10 (3.10.14)",
   "language": "python",
   "name": "python3"
  },
  "language_info": {
   "codemirror_mode": {
    "name": "ipython",
    "version": 3
   },
   "file_extension": ".py",
   "mimetype": "text/x-python",
   "name": "python",
   "nbconvert_exporter": "python",
   "pygments_lexer": "ipython3",
   "version": "3.10.14"
  }
 },
 "nbformat": 4,
 "nbformat_minor": 5
}
