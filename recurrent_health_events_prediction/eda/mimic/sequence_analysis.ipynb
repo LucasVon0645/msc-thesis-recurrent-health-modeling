{
 "cells": [
  {
   "cell_type": "code",
   "execution_count": 1,
   "id": "6771da82",
   "metadata": {},
   "outputs": [],
   "source": [
    "import numpy as np\n",
    "import pandas as pd\n",
    "import seaborn as sns\n",
    "import matplotlib.pyplot as plt\n",
    "import plotly.express as px\n",
    "import os\n",
    "\n",
    "\n",
    "# Define the color palette using Plotly's qualitative colors\n",
    "plotly_colors = px.colors.qualitative.Plotly\n",
    "sns.set_palette(plotly_colors)"
   ]
  },
  {
   "cell_type": "markdown",
   "id": "8b6f5885",
   "metadata": {},
   "source": [
    "## Import Data"
   ]
  },
  {
   "cell_type": "code",
   "execution_count": 2,
   "id": "9db396b8",
   "metadata": {},
   "outputs": [
    {
     "name": "stdout",
     "output_type": "stream",
     "text": [
      "Loading training data from /workspaces/master-thesis-recurrent-health-events-prediction/data/mimic-iii-preprocessed/copd_heart_failure\n"
     ]
    }
   ],
   "source": [
    "from importlib import resources as impresources\n",
    "from recurrent_health_events_prediction import configs\n",
    "import yaml\n",
    "\n",
    "with open((impresources.files(configs) / 'data_config.yaml')) as f:\n",
    "    data_config = yaml.safe_load(f)\n",
    "training_data_config = data_config[\"training_data\"][\"mimic\"]\n",
    "training_data_path = training_data_config[\"preprocessed_path\"]\n",
    "print(f\"Loading training data from {training_data_path}\")\n"
   ]
  },
  {
   "cell_type": "code",
   "execution_count": 3,
   "id": "23fdb82d",
   "metadata": {},
   "outputs": [
    {
     "name": "stdout",
     "output_type": "stream",
     "text": [
      "Loading data from /workspaces/master-thesis-recurrent-health-events-prediction/data/mimic-iii-preprocessed/copd_heart_failure/mimic_cleaned\n"
     ]
    }
   ],
   "source": [
    "subdir = \"mimic_cleaned\"\n",
    "training_data_path = os.path.join(training_data_path, subdir)\n",
    "print(f\"Loading data from {training_data_path}\")"
   ]
  },
  {
   "cell_type": "code",
   "execution_count": 4,
   "id": "c6908bd7",
   "metadata": {},
   "outputs": [],
   "source": [
    "all_events_df = pd.read_csv(training_data_path + '/all_events.csv')\n",
    "all_events_df['ADMITTIME'] = pd.to_datetime(all_events_df['ADMITTIME'])\n",
    "all_events_df['DISCHTIME'] = pd.to_datetime(all_events_df['DISCHTIME'])\n",
    "all_events_df['DOD'] = pd.to_datetime(all_events_df['DOD'])"
   ]
  },
  {
   "cell_type": "code",
   "execution_count": 5,
   "id": "82a6ea18",
   "metadata": {},
   "outputs": [],
   "source": [
    "all_events_df.sort_values(by=['SUBJECT_ID', 'ADMITTIME'], inplace=True)"
   ]
  },
  {
   "cell_type": "code",
   "execution_count": 6,
   "id": "28b20814",
   "metadata": {},
   "outputs": [],
   "source": [
    "def classify_event(row):\n",
    "    if row['READMISSION_EVENT'] == 1:\n",
    "        return 'Readmission after Discharge'\n",
    "    elif row['IN_HOSP_DEATH_EVENT'] == 1:\n",
    "        return 'In-Hospital Death'\n",
    "    elif row['AFTER_HOSP_DEATH_EVENT'] == 1:\n",
    "        return 'Death After Hospital Discharge'\n",
    "    else:\n",
    "        return 'No Readmission or No Death after Discharge'\n",
    "\n",
    "all_events_df['EVENT_TYPE'] = all_events_df.apply(classify_event, axis=1)"
   ]
  },
  {
   "cell_type": "code",
   "execution_count": 7,
   "id": "24513175",
   "metadata": {},
   "outputs": [
    {
     "data": {
      "application/vnd.plotly.v1+json": {
       "config": {
        "plotlyServerURL": "https://plot.ly"
       },
       "data": [],
       "layout": {
        "barmode": "overlay",
        "height": 600,
        "legend": {
         "tracegroupgap": 0
        },
        "margin": {
         "b": 50,
         "l": 100,
         "r": 100,
         "t": 50
        },
        "template": {
         "data": {
          "bar": [
           {
            "error_x": {
             "color": "#2a3f5f"
            },
            "error_y": {
             "color": "#2a3f5f"
            },
            "marker": {
             "line": {
              "color": "#E5ECF6",
              "width": 0.5
             },
             "pattern": {
              "fillmode": "overlay",
              "size": 10,
              "solidity": 0.2
             }
            },
            "type": "bar"
           }
          ],
          "barpolar": [
           {
            "marker": {
             "line": {
              "color": "#E5ECF6",
              "width": 0.5
             },
             "pattern": {
              "fillmode": "overlay",
              "size": 10,
              "solidity": 0.2
             }
            },
            "type": "barpolar"
           }
          ],
          "carpet": [
           {
            "aaxis": {
             "endlinecolor": "#2a3f5f",
             "gridcolor": "white",
             "linecolor": "white",
             "minorgridcolor": "white",
             "startlinecolor": "#2a3f5f"
            },
            "baxis": {
             "endlinecolor": "#2a3f5f",
             "gridcolor": "white",
             "linecolor": "white",
             "minorgridcolor": "white",
             "startlinecolor": "#2a3f5f"
            },
            "type": "carpet"
           }
          ],
          "choropleth": [
           {
            "colorbar": {
             "outlinewidth": 0,
             "ticks": ""
            },
            "type": "choropleth"
           }
          ],
          "contour": [
           {
            "colorbar": {
             "outlinewidth": 0,
             "ticks": ""
            },
            "colorscale": [
             [
              0,
              "#0d0887"
             ],
             [
              0.1111111111111111,
              "#46039f"
             ],
             [
              0.2222222222222222,
              "#7201a8"
             ],
             [
              0.3333333333333333,
              "#9c179e"
             ],
             [
              0.4444444444444444,
              "#bd3786"
             ],
             [
              0.5555555555555556,
              "#d8576b"
             ],
             [
              0.6666666666666666,
              "#ed7953"
             ],
             [
              0.7777777777777778,
              "#fb9f3a"
             ],
             [
              0.8888888888888888,
              "#fdca26"
             ],
             [
              1,
              "#f0f921"
             ]
            ],
            "type": "contour"
           }
          ],
          "contourcarpet": [
           {
            "colorbar": {
             "outlinewidth": 0,
             "ticks": ""
            },
            "type": "contourcarpet"
           }
          ],
          "heatmap": [
           {
            "colorbar": {
             "outlinewidth": 0,
             "ticks": ""
            },
            "colorscale": [
             [
              0,
              "#0d0887"
             ],
             [
              0.1111111111111111,
              "#46039f"
             ],
             [
              0.2222222222222222,
              "#7201a8"
             ],
             [
              0.3333333333333333,
              "#9c179e"
             ],
             [
              0.4444444444444444,
              "#bd3786"
             ],
             [
              0.5555555555555556,
              "#d8576b"
             ],
             [
              0.6666666666666666,
              "#ed7953"
             ],
             [
              0.7777777777777778,
              "#fb9f3a"
             ],
             [
              0.8888888888888888,
              "#fdca26"
             ],
             [
              1,
              "#f0f921"
             ]
            ],
            "type": "heatmap"
           }
          ],
          "histogram": [
           {
            "marker": {
             "pattern": {
              "fillmode": "overlay",
              "size": 10,
              "solidity": 0.2
             }
            },
            "type": "histogram"
           }
          ],
          "histogram2d": [
           {
            "colorbar": {
             "outlinewidth": 0,
             "ticks": ""
            },
            "colorscale": [
             [
              0,
              "#0d0887"
             ],
             [
              0.1111111111111111,
              "#46039f"
             ],
             [
              0.2222222222222222,
              "#7201a8"
             ],
             [
              0.3333333333333333,
              "#9c179e"
             ],
             [
              0.4444444444444444,
              "#bd3786"
             ],
             [
              0.5555555555555556,
              "#d8576b"
             ],
             [
              0.6666666666666666,
              "#ed7953"
             ],
             [
              0.7777777777777778,
              "#fb9f3a"
             ],
             [
              0.8888888888888888,
              "#fdca26"
             ],
             [
              1,
              "#f0f921"
             ]
            ],
            "type": "histogram2d"
           }
          ],
          "histogram2dcontour": [
           {
            "colorbar": {
             "outlinewidth": 0,
             "ticks": ""
            },
            "colorscale": [
             [
              0,
              "#0d0887"
             ],
             [
              0.1111111111111111,
              "#46039f"
             ],
             [
              0.2222222222222222,
              "#7201a8"
             ],
             [
              0.3333333333333333,
              "#9c179e"
             ],
             [
              0.4444444444444444,
              "#bd3786"
             ],
             [
              0.5555555555555556,
              "#d8576b"
             ],
             [
              0.6666666666666666,
              "#ed7953"
             ],
             [
              0.7777777777777778,
              "#fb9f3a"
             ],
             [
              0.8888888888888888,
              "#fdca26"
             ],
             [
              1,
              "#f0f921"
             ]
            ],
            "type": "histogram2dcontour"
           }
          ],
          "mesh3d": [
           {
            "colorbar": {
             "outlinewidth": 0,
             "ticks": ""
            },
            "type": "mesh3d"
           }
          ],
          "parcoords": [
           {
            "line": {
             "colorbar": {
              "outlinewidth": 0,
              "ticks": ""
             }
            },
            "type": "parcoords"
           }
          ],
          "pie": [
           {
            "automargin": true,
            "type": "pie"
           }
          ],
          "scatter": [
           {
            "fillpattern": {
             "fillmode": "overlay",
             "size": 10,
             "solidity": 0.2
            },
            "type": "scatter"
           }
          ],
          "scatter3d": [
           {
            "line": {
             "colorbar": {
              "outlinewidth": 0,
              "ticks": ""
             }
            },
            "marker": {
             "colorbar": {
              "outlinewidth": 0,
              "ticks": ""
             }
            },
            "type": "scatter3d"
           }
          ],
          "scattercarpet": [
           {
            "marker": {
             "colorbar": {
              "outlinewidth": 0,
              "ticks": ""
             }
            },
            "type": "scattercarpet"
           }
          ],
          "scattergeo": [
           {
            "marker": {
             "colorbar": {
              "outlinewidth": 0,
              "ticks": ""
             }
            },
            "type": "scattergeo"
           }
          ],
          "scattergl": [
           {
            "marker": {
             "colorbar": {
              "outlinewidth": 0,
              "ticks": ""
             }
            },
            "type": "scattergl"
           }
          ],
          "scattermap": [
           {
            "marker": {
             "colorbar": {
              "outlinewidth": 0,
              "ticks": ""
             }
            },
            "type": "scattermap"
           }
          ],
          "scattermapbox": [
           {
            "marker": {
             "colorbar": {
              "outlinewidth": 0,
              "ticks": ""
             }
            },
            "type": "scattermapbox"
           }
          ],
          "scatterpolar": [
           {
            "marker": {
             "colorbar": {
              "outlinewidth": 0,
              "ticks": ""
             }
            },
            "type": "scatterpolar"
           }
          ],
          "scatterpolargl": [
           {
            "marker": {
             "colorbar": {
              "outlinewidth": 0,
              "ticks": ""
             }
            },
            "type": "scatterpolargl"
           }
          ],
          "scatterternary": [
           {
            "marker": {
             "colorbar": {
              "outlinewidth": 0,
              "ticks": ""
             }
            },
            "type": "scatterternary"
           }
          ],
          "surface": [
           {
            "colorbar": {
             "outlinewidth": 0,
             "ticks": ""
            },
            "colorscale": [
             [
              0,
              "#0d0887"
             ],
             [
              0.1111111111111111,
              "#46039f"
             ],
             [
              0.2222222222222222,
              "#7201a8"
             ],
             [
              0.3333333333333333,
              "#9c179e"
             ],
             [
              0.4444444444444444,
              "#bd3786"
             ],
             [
              0.5555555555555556,
              "#d8576b"
             ],
             [
              0.6666666666666666,
              "#ed7953"
             ],
             [
              0.7777777777777778,
              "#fb9f3a"
             ],
             [
              0.8888888888888888,
              "#fdca26"
             ],
             [
              1,
              "#f0f921"
             ]
            ],
            "type": "surface"
           }
          ],
          "table": [
           {
            "cells": {
             "fill": {
              "color": "#EBF0F8"
             },
             "line": {
              "color": "white"
             }
            },
            "header": {
             "fill": {
              "color": "#C8D4E3"
             },
             "line": {
              "color": "white"
             }
            },
            "type": "table"
           }
          ]
         },
         "layout": {
          "annotationdefaults": {
           "arrowcolor": "#2a3f5f",
           "arrowhead": 0,
           "arrowwidth": 1
          },
          "autotypenumbers": "strict",
          "coloraxis": {
           "colorbar": {
            "outlinewidth": 0,
            "ticks": ""
           }
          },
          "colorscale": {
           "diverging": [
            [
             0,
             "#8e0152"
            ],
            [
             0.1,
             "#c51b7d"
            ],
            [
             0.2,
             "#de77ae"
            ],
            [
             0.3,
             "#f1b6da"
            ],
            [
             0.4,
             "#fde0ef"
            ],
            [
             0.5,
             "#f7f7f7"
            ],
            [
             0.6,
             "#e6f5d0"
            ],
            [
             0.7,
             "#b8e186"
            ],
            [
             0.8,
             "#7fbc41"
            ],
            [
             0.9,
             "#4d9221"
            ],
            [
             1,
             "#276419"
            ]
           ],
           "sequential": [
            [
             0,
             "#0d0887"
            ],
            [
             0.1111111111111111,
             "#46039f"
            ],
            [
             0.2222222222222222,
             "#7201a8"
            ],
            [
             0.3333333333333333,
             "#9c179e"
            ],
            [
             0.4444444444444444,
             "#bd3786"
            ],
            [
             0.5555555555555556,
             "#d8576b"
            ],
            [
             0.6666666666666666,
             "#ed7953"
            ],
            [
             0.7777777777777778,
             "#fb9f3a"
            ],
            [
             0.8888888888888888,
             "#fdca26"
            ],
            [
             1,
             "#f0f921"
            ]
           ],
           "sequentialminus": [
            [
             0,
             "#0d0887"
            ],
            [
             0.1111111111111111,
             "#46039f"
            ],
            [
             0.2222222222222222,
             "#7201a8"
            ],
            [
             0.3333333333333333,
             "#9c179e"
            ],
            [
             0.4444444444444444,
             "#bd3786"
            ],
            [
             0.5555555555555556,
             "#d8576b"
            ],
            [
             0.6666666666666666,
             "#ed7953"
            ],
            [
             0.7777777777777778,
             "#fb9f3a"
            ],
            [
             0.8888888888888888,
             "#fdca26"
            ],
            [
             1,
             "#f0f921"
            ]
           ]
          },
          "colorway": [
           "#636efa",
           "#EF553B",
           "#00cc96",
           "#ab63fa",
           "#FFA15A",
           "#19d3f3",
           "#FF6692",
           "#B6E880",
           "#FF97FF",
           "#FECB52"
          ],
          "font": {
           "color": "#2a3f5f"
          },
          "geo": {
           "bgcolor": "white",
           "lakecolor": "white",
           "landcolor": "#E5ECF6",
           "showlakes": true,
           "showland": true,
           "subunitcolor": "white"
          },
          "hoverlabel": {
           "align": "left"
          },
          "hovermode": "closest",
          "mapbox": {
           "style": "light"
          },
          "paper_bgcolor": "white",
          "plot_bgcolor": "#E5ECF6",
          "polar": {
           "angularaxis": {
            "gridcolor": "white",
            "linecolor": "white",
            "ticks": ""
           },
           "bgcolor": "#E5ECF6",
           "radialaxis": {
            "gridcolor": "white",
            "linecolor": "white",
            "ticks": ""
           }
          },
          "scene": {
           "xaxis": {
            "backgroundcolor": "#E5ECF6",
            "gridcolor": "white",
            "gridwidth": 2,
            "linecolor": "white",
            "showbackground": true,
            "ticks": "",
            "zerolinecolor": "white"
           },
           "yaxis": {
            "backgroundcolor": "#E5ECF6",
            "gridcolor": "white",
            "gridwidth": 2,
            "linecolor": "white",
            "showbackground": true,
            "ticks": "",
            "zerolinecolor": "white"
           },
           "zaxis": {
            "backgroundcolor": "#E5ECF6",
            "gridcolor": "white",
            "gridwidth": 2,
            "linecolor": "white",
            "showbackground": true,
            "ticks": "",
            "zerolinecolor": "white"
           }
          },
          "shapedefaults": {
           "line": {
            "color": "#2a3f5f"
           }
          },
          "ternary": {
           "aaxis": {
            "gridcolor": "white",
            "linecolor": "white",
            "ticks": ""
           },
           "baxis": {
            "gridcolor": "white",
            "linecolor": "white",
            "ticks": ""
           },
           "bgcolor": "#E5ECF6",
           "caxis": {
            "gridcolor": "white",
            "linecolor": "white",
            "ticks": ""
           }
          },
          "title": {
           "x": 0.05
          },
          "xaxis": {
           "automargin": true,
           "gridcolor": "white",
           "linecolor": "white",
           "ticks": "",
           "title": {
            "standoff": 15
           },
           "zerolinecolor": "white",
           "zerolinewidth": 2
          },
          "yaxis": {
           "automargin": true,
           "gridcolor": "white",
           "linecolor": "white",
           "ticks": "",
           "title": {
            "standoff": 15
           },
           "zerolinecolor": "white",
           "zerolinewidth": 2
          }
         }
        },
        "title": {
         "text": "Evolution of SUBJECT_ID 29633"
        },
        "xaxis": {
         "anchor": "y",
         "domain": [
          0,
          1
         ],
         "range": [
          null,
          null
         ],
         "title": {
          "text": "Time"
         },
         "type": "date"
        },
        "yaxis": {
         "anchor": "x",
         "domain": [
          0,
          1
         ],
         "title": {
          "text": "Feature"
         }
        }
       }
      }
     },
     "metadata": {},
     "output_type": "display_data"
    }
   ],
   "source": [
    "from recurrent_health_events_prediction.visualization.utils import plot_subject_evolution\n",
    "\n",
    "plot_subject_evolution(\n",
    "    all_events_df,\n",
    "    29633,\n",
    "    features_to_plot=[\n",
    "        'HOSPITALIZATION_DAYS', 'DAYS_IN_ICU', 'DAYS_UNTIL_NEXT_HOSPITALIZATION',\n",
    "    ],\n",
    "    textposition=\"auto\",\n",
    "    extend_time_horizon_by=90\n",
    ")"
   ]
  },
  {
   "cell_type": "markdown",
   "id": "59b3120e",
   "metadata": {},
   "source": [
    "## Extract Sequences"
   ]
  },
  {
   "cell_type": "code",
   "execution_count": 8,
   "id": "341c87c6",
   "metadata": {},
   "outputs": [],
   "source": [
    "def define_state(row):\n",
    "    if row['READMISSION_EVENT'] == 1:\n",
    "        if row['DAYS_UNTIL_NEXT_HOSPITALIZATION'] > 120:\n",
    "            return '120+'\n",
    "        elif row['DAYS_UNTIL_NEXT_HOSPITALIZATION'] <= 90 and row['DAYS_UNTIL_NEXT_HOSPITALIZATION'] > 30:\n",
    "            return '30-120'\n",
    "        elif row['DAYS_UNTIL_NEXT_HOSPITALIZATION'] <= 30:\n",
    "            return '<30'\n",
    "    else:\n",
    "        return '120+'"
   ]
  },
  {
   "cell_type": "code",
   "execution_count": 9,
   "id": "bfa8cedb",
   "metadata": {},
   "outputs": [],
   "source": [
    "all_events_df['READMISSION_STATE'] = all_events_df.apply(define_state, axis=1)\n",
    "all_events_df['READMISSION_STATE'] = pd.Categorical(\n",
    "    all_events_df['READMISSION_STATE'],\n",
    "    categories=['<30', '30-120', '120+'],\n",
    "    ordered=True\n",
    ")\n"
   ]
  },
  {
   "cell_type": "code",
   "execution_count": 10,
   "id": "bf475f0b",
   "metadata": {},
   "outputs": [
    {
     "data": {
      "application/vnd.microsoft.datawrangler.viewer.v0+json": {
       "columns": [
        {
         "name": "index",
         "rawType": "int64",
         "type": "integer"
        },
        {
         "name": "SUBJECT_ID",
         "rawType": "int64",
         "type": "integer"
        },
        {
         "name": "HADM_ID",
         "rawType": "int64",
         "type": "integer"
        },
        {
         "name": "EVENT_TYPE",
         "rawType": "object",
         "type": "string"
        },
        {
         "name": "READMISSION_STATE",
         "rawType": "category",
         "type": "unknown"
        },
        {
         "name": "NUM_EVENTS",
         "rawType": "int64",
         "type": "integer"
        }
       ],
       "ref": "afd60a37-cfe3-4f76-a525-7d1d2358d5fa",
       "rows": [
        [
         "0",
         "21",
         "109451",
         "No Readmission or No Death after Discharge",
         "120+",
         "1"
        ],
        [
         "1",
         "26",
         "197661",
         "Death After Hospital Discharge",
         "120+",
         "1"
        ],
        [
         "2",
         "30",
         "104557",
         "No Readmission or No Death after Discharge",
         "120+",
         "1"
        ],
        [
         "3",
         "33",
         "176176",
         "No Readmission or No Death after Discharge",
         "120+",
         "1"
        ],
        [
         "4",
         "34",
         "115799",
         "No Readmission or No Death after Discharge",
         "120+",
         "1"
        ]
       ],
       "shape": {
        "columns": 5,
        "rows": 5
       }
      },
      "text/html": [
       "<div>\n",
       "<style scoped>\n",
       "    .dataframe tbody tr th:only-of-type {\n",
       "        vertical-align: middle;\n",
       "    }\n",
       "\n",
       "    .dataframe tbody tr th {\n",
       "        vertical-align: top;\n",
       "    }\n",
       "\n",
       "    .dataframe thead th {\n",
       "        text-align: right;\n",
       "    }\n",
       "</style>\n",
       "<table border=\"1\" class=\"dataframe\">\n",
       "  <thead>\n",
       "    <tr style=\"text-align: right;\">\n",
       "      <th></th>\n",
       "      <th>SUBJECT_ID</th>\n",
       "      <th>HADM_ID</th>\n",
       "      <th>EVENT_TYPE</th>\n",
       "      <th>READMISSION_STATE</th>\n",
       "      <th>NUM_EVENTS</th>\n",
       "    </tr>\n",
       "  </thead>\n",
       "  <tbody>\n",
       "    <tr>\n",
       "      <th>0</th>\n",
       "      <td>21</td>\n",
       "      <td>109451</td>\n",
       "      <td>No Readmission or No Death after Discharge</td>\n",
       "      <td>120+</td>\n",
       "      <td>1</td>\n",
       "    </tr>\n",
       "    <tr>\n",
       "      <th>1</th>\n",
       "      <td>26</td>\n",
       "      <td>197661</td>\n",
       "      <td>Death After Hospital Discharge</td>\n",
       "      <td>120+</td>\n",
       "      <td>1</td>\n",
       "    </tr>\n",
       "    <tr>\n",
       "      <th>2</th>\n",
       "      <td>30</td>\n",
       "      <td>104557</td>\n",
       "      <td>No Readmission or No Death after Discharge</td>\n",
       "      <td>120+</td>\n",
       "      <td>1</td>\n",
       "    </tr>\n",
       "    <tr>\n",
       "      <th>3</th>\n",
       "      <td>33</td>\n",
       "      <td>176176</td>\n",
       "      <td>No Readmission or No Death after Discharge</td>\n",
       "      <td>120+</td>\n",
       "      <td>1</td>\n",
       "    </tr>\n",
       "    <tr>\n",
       "      <th>4</th>\n",
       "      <td>34</td>\n",
       "      <td>115799</td>\n",
       "      <td>No Readmission or No Death after Discharge</td>\n",
       "      <td>120+</td>\n",
       "      <td>1</td>\n",
       "    </tr>\n",
       "  </tbody>\n",
       "</table>\n",
       "</div>"
      ],
      "text/plain": [
       "   SUBJECT_ID  HADM_ID                                  EVENT_TYPE  \\\n",
       "0          21   109451  No Readmission or No Death after Discharge   \n",
       "1          26   197661              Death After Hospital Discharge   \n",
       "2          30   104557  No Readmission or No Death after Discharge   \n",
       "3          33   176176  No Readmission or No Death after Discharge   \n",
       "4          34   115799  No Readmission or No Death after Discharge   \n",
       "\n",
       "  READMISSION_STATE  NUM_EVENTS  \n",
       "0              120+           1  \n",
       "1              120+           1  \n",
       "2              120+           1  \n",
       "3              120+           1  \n",
       "4              120+           1  "
      ]
     },
     "execution_count": 10,
     "metadata": {},
     "output_type": "execute_result"
    }
   ],
   "source": [
    "all_events_df['NUM_EVENTS'] = all_events_df.groupby('SUBJECT_ID')['HADM_ID'].transform('count')\n",
    "all_events_df['NUM_EVENTS'] = all_events_df['NUM_EVENTS'].astype(int)\n",
    "all_events_df[['SUBJECT_ID', 'HADM_ID', 'EVENT_TYPE', 'READMISSION_STATE', 'NUM_EVENTS']].head()"
   ]
  },
  {
   "cell_type": "code",
   "execution_count": 11,
   "id": "c906932c",
   "metadata": {},
   "outputs": [],
   "source": [
    "patients_with_seq_gt_2_mask = (all_events_df['NUM_EVENTS'] >= 2)\n",
    "patients_with_seq_gt_2_df = all_events_df[patients_with_seq_gt_2_mask]"
   ]
  },
  {
   "cell_type": "code",
   "execution_count": 12,
   "id": "9751b319",
   "metadata": {},
   "outputs": [],
   "source": [
    "patients_with_seq_gt_2_df = patients_with_seq_gt_2_df.sort_values(by=['SUBJECT_ID', 'ADMITTIME'])"
   ]
  },
  {
   "cell_type": "code",
   "execution_count": 13,
   "id": "94c538a6",
   "metadata": {},
   "outputs": [
    {
     "data": {
      "application/vnd.microsoft.datawrangler.viewer.v0+json": {
       "columns": [
        {
         "name": "index",
         "rawType": "int64",
         "type": "integer"
        },
        {
         "name": "SUBJECT_ID",
         "rawType": "int64",
         "type": "integer"
        },
        {
         "name": "DAYS_UNTIL_NEXT_HOSPITALIZATION",
         "rawType": "float64",
         "type": "float"
        },
        {
         "name": "READMISSION_STATE",
         "rawType": "category",
         "type": "unknown"
        }
       ],
       "ref": "45cd61a5-363a-43f1-92a5-2911567a186f",
       "rows": [
        [
         "12",
         "107",
         "2474.1208333333334",
         "120+"
        ],
        [
         "13",
         "107",
         "160.22152777777777",
         "120+"
        ],
        [
         "39",
         "236",
         "222.8111111111111",
         "120+"
        ],
        [
         "40",
         "236",
         "1361.9027777777778",
         "120+"
        ],
        [
         "42",
         "249",
         "1860.2229166666664",
         "120+"
        ]
       ],
       "shape": {
        "columns": 3,
        "rows": 5
       }
      },
      "text/html": [
       "<div>\n",
       "<style scoped>\n",
       "    .dataframe tbody tr th:only-of-type {\n",
       "        vertical-align: middle;\n",
       "    }\n",
       "\n",
       "    .dataframe tbody tr th {\n",
       "        vertical-align: top;\n",
       "    }\n",
       "\n",
       "    .dataframe thead th {\n",
       "        text-align: right;\n",
       "    }\n",
       "</style>\n",
       "<table border=\"1\" class=\"dataframe\">\n",
       "  <thead>\n",
       "    <tr style=\"text-align: right;\">\n",
       "      <th></th>\n",
       "      <th>SUBJECT_ID</th>\n",
       "      <th>DAYS_UNTIL_NEXT_HOSPITALIZATION</th>\n",
       "      <th>READMISSION_STATE</th>\n",
       "    </tr>\n",
       "  </thead>\n",
       "  <tbody>\n",
       "    <tr>\n",
       "      <th>12</th>\n",
       "      <td>107</td>\n",
       "      <td>2474.120833</td>\n",
       "      <td>120+</td>\n",
       "    </tr>\n",
       "    <tr>\n",
       "      <th>13</th>\n",
       "      <td>107</td>\n",
       "      <td>160.221528</td>\n",
       "      <td>120+</td>\n",
       "    </tr>\n",
       "    <tr>\n",
       "      <th>39</th>\n",
       "      <td>236</td>\n",
       "      <td>222.811111</td>\n",
       "      <td>120+</td>\n",
       "    </tr>\n",
       "    <tr>\n",
       "      <th>40</th>\n",
       "      <td>236</td>\n",
       "      <td>1361.902778</td>\n",
       "      <td>120+</td>\n",
       "    </tr>\n",
       "    <tr>\n",
       "      <th>42</th>\n",
       "      <td>249</td>\n",
       "      <td>1860.222917</td>\n",
       "      <td>120+</td>\n",
       "    </tr>\n",
       "  </tbody>\n",
       "</table>\n",
       "</div>"
      ],
      "text/plain": [
       "    SUBJECT_ID  DAYS_UNTIL_NEXT_HOSPITALIZATION READMISSION_STATE\n",
       "12         107                      2474.120833              120+\n",
       "13         107                       160.221528              120+\n",
       "39         236                       222.811111              120+\n",
       "40         236                      1361.902778              120+\n",
       "42         249                      1860.222917              120+"
      ]
     },
     "execution_count": 13,
     "metadata": {},
     "output_type": "execute_result"
    }
   ],
   "source": [
    "patients_with_seq_gt_2_df[['SUBJECT_ID', 'DAYS_UNTIL_NEXT_HOSPITALIZATION', 'READMISSION_STATE']].head()"
   ]
  },
  {
   "cell_type": "code",
   "execution_count": 14,
   "id": "2ab26f89",
   "metadata": {},
   "outputs": [
    {
     "data": {
      "application/vnd.microsoft.datawrangler.viewer.v0+json": {
       "columns": [
        {
         "name": "READMISSION_STATE",
         "rawType": "category",
         "type": "unknown"
        },
        {
         "name": "proportion",
         "rawType": "float64",
         "type": "float"
        }
       ],
       "ref": "552de587-26ac-4816-a98b-cbfe1147a58b",
       "rows": [
        [
         "<30",
         "0.2565837158733994"
        ],
        [
         "30-120",
         "0.2138197632278328"
        ],
        [
         "120+",
         "0.5295965208987679"
        ]
       ],
       "shape": {
        "columns": 1,
        "rows": 3
       }
      },
      "text/plain": [
       "READMISSION_STATE\n",
       "<30       0.256584\n",
       "30-120    0.213820\n",
       "120+      0.529597\n",
       "Name: proportion, dtype: float64"
      ]
     },
     "execution_count": 14,
     "metadata": {},
     "output_type": "execute_result"
    }
   ],
   "source": [
    "patients_with_seq_gt_2_df['READMISSION_STATE'].value_counts(normalize=True).sort_index()"
   ]
  },
  {
   "cell_type": "markdown",
   "id": "582afae4",
   "metadata": {},
   "source": [
    "## Analysis of Markov Memory and Predictability in Readmission States\n",
    "\n",
    "In this analysis, we explore the **sequential dynamics** of patient readmission states by:\n",
    "\n",
    "1. **Comparing first- and second-order Markov transition probabilities** to assess whether the process exhibits significant \"memory\" beyond the current state.\n",
    "2. **Calculating the entropy of next states** to measure how predictable the system is and compare it to the entropy of an independent (random) process.\n"
   ]
  },
  {
   "cell_type": "code",
   "execution_count": 15,
   "id": "31c8cd91",
   "metadata": {},
   "outputs": [],
   "source": [
    "states_to_consider = ['<30', '30-120', '120+']\n",
    "only_states_to_consider = True"
   ]
  },
  {
   "cell_type": "code",
   "execution_count": 16,
   "id": "a1abc663",
   "metadata": {},
   "outputs": [],
   "source": [
    "markov_df = patients_with_seq_gt_2_df.copy()\n",
    "# Assume df is sorted by subject and time as before\n",
    "# Create state transition columns\n",
    "markov_df['NEXT_STATE'] = markov_df.groupby('SUBJECT_ID')['READMISSION_STATE'].shift(-1)\n",
    "markov_df['CURRENT_STATE'] = markov_df['READMISSION_STATE']\n",
    "markov_df['PREV_STATE'] = markov_df.groupby('SUBJECT_ID')['READMISSION_STATE'].shift(1)\n",
    "\n",
    "mask = markov_df['CURRENT_STATE'].isin(states_to_consider) & markov_df['NEXT_STATE'].isin(states_to_consider)\n",
    "if only_states_to_consider:\n",
    "    markov_df = markov_df[mask]"
   ]
  },
  {
   "cell_type": "code",
   "execution_count": 17,
   "id": "c116b003",
   "metadata": {},
   "outputs": [
    {
     "name": "stderr",
     "output_type": "stream",
     "text": [
      "/tmp/ipykernel_4105/3349036067.py:12: FutureWarning:\n",
      "\n",
      "The default of observed=False is deprecated and will be changed to True in a future version of pandas. Pass observed=False to retain current behavior or observed=True to adopt the future default and silence this warning.\n",
      "\n"
     ]
    }
   ],
   "source": [
    "# Drop rows where previous or next state is missing\n",
    "markov_df = markov_df.dropna(subset=['PREV_STATE', 'CURRENT_STATE', 'NEXT_STATE'])\n",
    "\n",
    "# Calculate first-order transition probabilities\n",
    "first_order_df = pd.crosstab(\n",
    "    markov_df['CURRENT_STATE'], \n",
    "    markov_df['NEXT_STATE'], \n",
    "    normalize='index'\n",
    ")\n",
    "\n",
    "# Calculate second-order transition probabilities\n",
    "second_order_df = markov_df.groupby(\n",
    "    ['PREV_STATE', 'CURRENT_STATE', 'NEXT_STATE']\n",
    ").size().unstack(fill_value=0)\n",
    "second_order_df = second_order_df.div(second_order_df.sum(axis=1), axis=0)"
   ]
  },
  {
   "cell_type": "code",
   "execution_count": 18,
   "id": "3d497b9d",
   "metadata": {},
   "outputs": [
    {
     "data": {
      "text/plain": [
       "CategoricalIndex(['<30', '30-120', '120+'], categories=['<30', '30-120', '120+'], ordered=True, dtype='category', name='NEXT_STATE')"
      ]
     },
     "execution_count": 18,
     "metadata": {},
     "output_type": "execute_result"
    }
   ],
   "source": [
    "second_order_df.columns"
   ]
  },
  {
   "cell_type": "code",
   "execution_count": 19,
   "id": "4abd9fe1",
   "metadata": {},
   "outputs": [
    {
     "name": "stdout",
     "output_type": "stream",
     "text": [
      "Number of unique sequences: 608\n",
      "Number of transitions: 1367\n"
     ]
    }
   ],
   "source": [
    "print(\"Number of unique sequences:\", markov_df['SUBJECT_ID'].nunique())\n",
    "print(\"Number of transitions:\", len(markov_df))"
   ]
  },
  {
   "cell_type": "markdown",
   "id": "ac1dbe2d",
   "metadata": {},
   "source": [
    "#### First Order Analysis"
   ]
  },
  {
   "cell_type": "code",
   "execution_count": 20,
   "id": "1d581a25",
   "metadata": {},
   "outputs": [
    {
     "data": {
      "text/plain": [
       "<Axes: xlabel='NEXT_STATE', ylabel='CURRENT_STATE'>"
      ]
     },
     "execution_count": 20,
     "metadata": {},
     "output_type": "execute_result"
    },
    {
     "data": {
      "image/png": "[encoded data removed]",
      "text/plain": [
       "<Figure size 640x480 with 2 Axes>"
      ]
     },
     "metadata": {},
     "output_type": "display_data"
    }
   ],
   "source": [
    "sns.heatmap(first_order_df,\n",
    "            annot=True, fmt=\".2f\", cmap=\"Blues\", cbar_kws={'label': 'Transition Probability'})"
   ]
  },
  {
   "cell_type": "code",
   "execution_count": 21,
   "id": "9e36489c",
   "metadata": {},
   "outputs": [
    {
     "data": {
      "application/vnd.microsoft.datawrangler.viewer.v0+json": {
       "columns": [
        {
         "name": "CURRENT_STATE",
         "rawType": "category",
         "type": "unknown"
        },
        {
         "name": "<30",
         "rawType": "float64",
         "type": "float"
        },
        {
         "name": "30-120",
         "rawType": "float64",
         "type": "float"
        },
        {
         "name": "120+",
         "rawType": "float64",
         "type": "float"
        }
       ],
       "ref": "28d5d6d1-ea7c-4445-889c-45386310b41a",
       "rows": [
        [
         "<30",
         "0.39466666666666667",
         "0.2693333333333333",
         "0.336"
        ],
        [
         "30-120",
         "0.2737752161383285",
         "0.3112391930835735",
         "0.414985590778098"
        ],
        [
         "120+",
         "0.24806201550387597",
         "0.2310077519379845",
         "0.5209302325581395"
        ]
       ],
       "shape": {
        "columns": 3,
        "rows": 3
       }
      },
      "text/html": [
       "<div>\n",
       "<style scoped>\n",
       "    .dataframe tbody tr th:only-of-type {\n",
       "        vertical-align: middle;\n",
       "    }\n",
       "\n",
       "    .dataframe tbody tr th {\n",
       "        vertical-align: top;\n",
       "    }\n",
       "\n",
       "    .dataframe thead th {\n",
       "        text-align: right;\n",
       "    }\n",
       "</style>\n",
       "<table border=\"1\" class=\"dataframe\">\n",
       "  <thead>\n",
       "    <tr style=\"text-align: right;\">\n",
       "      <th>NEXT_STATE</th>\n",
       "      <th>&lt;30</th>\n",
       "      <th>30-120</th>\n",
       "      <th>120+</th>\n",
       "    </tr>\n",
       "    <tr>\n",
       "      <th>CURRENT_STATE</th>\n",
       "      <th></th>\n",
       "      <th></th>\n",
       "      <th></th>\n",
       "    </tr>\n",
       "  </thead>\n",
       "  <tbody>\n",
       "    <tr>\n",
       "      <th>&lt;30</th>\n",
       "      <td>0.394667</td>\n",
       "      <td>0.269333</td>\n",
       "      <td>0.336000</td>\n",
       "    </tr>\n",
       "    <tr>\n",
       "      <th>30-120</th>\n",
       "      <td>0.273775</td>\n",
       "      <td>0.311239</td>\n",
       "      <td>0.414986</td>\n",
       "    </tr>\n",
       "    <tr>\n",
       "      <th>120+</th>\n",
       "      <td>0.248062</td>\n",
       "      <td>0.231008</td>\n",
       "      <td>0.520930</td>\n",
       "    </tr>\n",
       "  </tbody>\n",
       "</table>\n",
       "</div>"
      ],
      "text/plain": [
       "NEXT_STATE          <30    30-120      120+\n",
       "CURRENT_STATE                              \n",
       "<30            0.394667  0.269333  0.336000\n",
       "30-120         0.273775  0.311239  0.414986\n",
       "120+           0.248062  0.231008  0.520930"
      ]
     },
     "execution_count": 21,
     "metadata": {},
     "output_type": "execute_result"
    }
   ],
   "source": [
    "first_order_df"
   ]
  },
  {
   "cell_type": "markdown",
   "id": "6924622b",
   "metadata": {},
   "source": [
    "#### Second Order Analysis"
   ]
  },
  {
   "cell_type": "code",
   "execution_count": 22,
   "id": "65884762",
   "metadata": {},
   "outputs": [
    {
     "name": "stdout",
     "output_type": "stream",
     "text": [
      "NEXT_STATE                     <30    30-120      120+\n",
      "PREV_STATE CURRENT_STATE                              \n",
      "<30        <30            0.504132  0.214876  0.280992\n",
      "30-120     <30            0.369048  0.309524  0.321429\n",
      "120+       <30            0.329412  0.288235  0.382353\n",
      "<30        30-120         0.260870  0.358696  0.380435\n",
      "30-120     30-120         0.329787  0.319149  0.351064\n",
      "120+       30-120         0.248447  0.279503  0.472050\n",
      "<30        120+           0.268908  0.277311  0.453782\n",
      "30-120     120+           0.214286  0.150794  0.634921\n",
      "120+       120+           0.252500  0.242500  0.505000\n"
     ]
    }
   ],
   "source": [
    "print(second_order_df.sort_index(level=[1, 0]))"
   ]
  },
  {
   "cell_type": "markdown",
   "id": "8f834d75",
   "metadata": {},
   "source": [
    "### 1. Does the process exhibit significant second-order memory?\n",
    "\n",
    "To determine whether knowing both the previous and current state improves our ability to predict the next state (i.e., whether the process is truly \"second-order\"), we compare the **second-order** transition probabilities with the **first-order** transition probabilities using **Kullback-Leibler (KL) divergence**. It quantifies in this case how much information the previous state adds to the prediction of the next state (together with the current one).\n",
    "\n",
    "- **Low KL divergence** indicates little additional information is gained from the previous state, supporting a first-order Markov process.\n",
    "- **High KL divergence** suggests the previous state provides additional predictive power, indicating second-order memory.\n"
   ]
  },
  {
   "cell_type": "code",
   "execution_count": 23,
   "id": "3ab3deb3",
   "metadata": {},
   "outputs": [
    {
     "name": "stdout",
     "output_type": "stream",
     "text": [
      "Mean KL divergence (second vs. first order): 0.0112\n"
     ]
    }
   ],
   "source": [
    "import numpy as np\n",
    "\n",
    "kl_list = []\n",
    "for (prev_state, curr_state), row in second_order_df.iterrows():\n",
    "    p = row[states_to_consider].values\n",
    "    q = first_order_df.loc[curr_state].values\n",
    "    p = np.clip(p, 1e-12, 1)  # avoid log(0)\n",
    "    q = np.clip(q, 1e-12, 1)\n",
    "    kl = np.sum(p * np.log(p / q))\n",
    "    kl_list.append(kl)\n",
    "\n",
    "mean_kl = np.mean(kl_list)\n",
    "print(f\"Mean KL divergence (second vs. first order): {mean_kl:.4f}\")"
   ]
  },
  {
   "cell_type": "markdown",
   "id": "d0597bc0",
   "metadata": {},
   "source": [
    "**Interpretation:**\n",
    "\n",
    "- If the **mean KL divergence** is close to 0 (for example, < 0.05), the process is well-described by a first-order Markov model.\n",
    "- If it is much higher, then second-order (memory) effects are present and should be considered in your modeling.\n"
   ]
  },
  {
   "cell_type": "markdown",
   "id": "1bf42eb4",
   "metadata": {},
   "source": [
    "### 2. How predictable are the next states? (Entropy Analysis)\n",
    "\n",
    "To further characterize the process, we calculate the **Shannon entropy** of the next state distribution:\n",
    "- **High entropy:** More random, less predictable.\n",
    "- **Low entropy:** More structure, greater predictability.\n",
    "\n",
    "We calculate entropy for both first-order and second-order models. If entropy drops substantially from first to second order, it means including the previous state adds a lot of predictive power.\n"
   ]
  },
  {
   "cell_type": "code",
   "execution_count": 24,
   "id": "b1ec8e34",
   "metadata": {},
   "outputs": [
    {
     "data": {
      "application/vnd.microsoft.datawrangler.viewer.v0+json": {
       "columns": [
        {
         "name": "CURRENT_STATE",
         "rawType": "category",
         "type": "unknown"
        },
        {
         "name": "<30",
         "rawType": "float64",
         "type": "float"
        },
        {
         "name": "30-120",
         "rawType": "float64",
         "type": "float"
        },
        {
         "name": "120+",
         "rawType": "float64",
         "type": "float"
        }
       ],
       "ref": "b8d95ebd-58a8-4fd2-a229-0556ef7e7d1e",
       "rows": [
        [
         "<30",
         "0.39466666666666667",
         "0.2693333333333333",
         "0.336"
        ],
        [
         "30-120",
         "0.2737752161383285",
         "0.3112391930835735",
         "0.414985590778098"
        ],
        [
         "120+",
         "0.24806201550387597",
         "0.2310077519379845",
         "0.5209302325581395"
        ]
       ],
       "shape": {
        "columns": 3,
        "rows": 3
       }
      },
      "text/html": [
       "<div>\n",
       "<style scoped>\n",
       "    .dataframe tbody tr th:only-of-type {\n",
       "        vertical-align: middle;\n",
       "    }\n",
       "\n",
       "    .dataframe tbody tr th {\n",
       "        vertical-align: top;\n",
       "    }\n",
       "\n",
       "    .dataframe thead th {\n",
       "        text-align: right;\n",
       "    }\n",
       "</style>\n",
       "<table border=\"1\" class=\"dataframe\">\n",
       "  <thead>\n",
       "    <tr style=\"text-align: right;\">\n",
       "      <th>NEXT_STATE</th>\n",
       "      <th>&lt;30</th>\n",
       "      <th>30-120</th>\n",
       "      <th>120+</th>\n",
       "    </tr>\n",
       "    <tr>\n",
       "      <th>CURRENT_STATE</th>\n",
       "      <th></th>\n",
       "      <th></th>\n",
       "      <th></th>\n",
       "    </tr>\n",
       "  </thead>\n",
       "  <tbody>\n",
       "    <tr>\n",
       "      <th>&lt;30</th>\n",
       "      <td>0.394667</td>\n",
       "      <td>0.269333</td>\n",
       "      <td>0.336000</td>\n",
       "    </tr>\n",
       "    <tr>\n",
       "      <th>30-120</th>\n",
       "      <td>0.273775</td>\n",
       "      <td>0.311239</td>\n",
       "      <td>0.414986</td>\n",
       "    </tr>\n",
       "    <tr>\n",
       "      <th>120+</th>\n",
       "      <td>0.248062</td>\n",
       "      <td>0.231008</td>\n",
       "      <td>0.520930</td>\n",
       "    </tr>\n",
       "  </tbody>\n",
       "</table>\n",
       "</div>"
      ],
      "text/plain": [
       "NEXT_STATE          <30    30-120      120+\n",
       "CURRENT_STATE                              \n",
       "<30            0.394667  0.269333  0.336000\n",
       "30-120         0.273775  0.311239  0.414986\n",
       "120+           0.248062  0.231008  0.520930"
      ]
     },
     "execution_count": 24,
     "metadata": {},
     "output_type": "execute_result"
    }
   ],
   "source": [
    "first_order_df"
   ]
  },
  {
   "cell_type": "code",
   "execution_count": 25,
   "id": "a33ed58e",
   "metadata": {},
   "outputs": [
    {
     "name": "stdout",
     "output_type": "stream",
     "text": [
      "Marginal entropy (no memory): 1.0716\n",
      "Weighted mean entropy (first-order): 1.0562\n"
     ]
    }
   ],
   "source": [
    "from scipy.stats import entropy\n",
    "\n",
    "# First-order entropy: for each READMISSION_STATE\n",
    "first_order_entropies = first_order_df.apply(lambda row: entropy(row[states_to_consider].values), axis=1)\n",
    "first_order_entropies = first_order_entropies.sort_index()\n",
    "current_state_probs = markov_df[\"CURRENT_STATE\"].value_counts(normalize=True).sort_index()\n",
    "weighted_first_order_entropy = (current_state_probs * first_order_entropies).sum()\n",
    "\n",
    "# Second-order entropy: for each (PREV_STATE, READMISSION_STATE)\n",
    "#second_order_entropies = second_order_filtered_df.apply(lambda row: entropy(row[states_to_consider].values), axis=1)\n",
    "\n",
    "# Marginal entropy (fully independent process)\n",
    "next_state_counts = markov_df['NEXT_STATE'].value_counts(normalize=True).drop('death', errors='ignore')\n",
    "marginal_entropy = entropy(next_state_counts[states_to_consider].values)\n",
    "\n",
    "print(f\"Marginal entropy (no memory): {marginal_entropy:.4f}\")\n",
    "print(f\"Weighted mean entropy (first-order): {weighted_first_order_entropy:.4f}\")\n",
    "#print(f\"Mean entropy (second-order): {second_order_entropies.mean():.4f}\")"
   ]
  },
  {
   "cell_type": "code",
   "execution_count": 26,
   "id": "fca47ae9",
   "metadata": {},
   "outputs": [
    {
     "name": "stdout",
     "output_type": "stream",
     "text": [
      "First order entropies:\n"
     ]
    },
    {
     "data": {
      "application/vnd.microsoft.datawrangler.viewer.v0+json": {
       "columns": [
        {
         "name": "CURRENT_STATE",
         "rawType": "category",
         "type": "unknown"
        },
        {
         "name": "First Order Entropy",
         "rawType": "float64",
         "type": "float"
        }
       ],
       "ref": "8f4fc6c9-b821-4bc0-93b0-ff2348eea7bb",
       "rows": [
        [
         "<30",
         "1.0866964019865641"
        ],
        [
         "30-120",
         "1.0829224964586426"
        ],
        [
         "120+",
         "1.0240330148253503"
        ]
       ],
       "shape": {
        "columns": 1,
        "rows": 3
       }
      },
      "text/plain": [
       "CURRENT_STATE\n",
       "<30       1.086696\n",
       "30-120    1.082922\n",
       "120+      1.024033\n",
       "Name: First Order Entropy, dtype: float64"
      ]
     },
     "execution_count": 26,
     "metadata": {},
     "output_type": "execute_result"
    }
   ],
   "source": [
    "print(\"First order entropies:\")\n",
    "first_order_entropies.name = 'First Order Entropy'\n",
    "first_order_entropies"
   ]
  },
  {
   "cell_type": "code",
   "execution_count": 27,
   "id": "9aae99dc",
   "metadata": {},
   "outputs": [
    {
     "name": "stdout",
     "output_type": "stream",
     "text": [
      "Marginal probabilities of next states:\n"
     ]
    },
    {
     "data": {
      "application/vnd.microsoft.datawrangler.viewer.v0+json": {
       "columns": [
        {
         "name": "NEXT_STATE",
         "rawType": "category",
         "type": "unknown"
        },
        {
         "name": "proportion",
         "rawType": "float64",
         "type": "float"
        }
       ],
       "ref": "2963d7b7-7877-47a6-96c2-f68167046429",
       "rows": [
        [
         "120+",
         "0.44330651060716897"
        ],
        [
         "<30",
         "0.2948061448427213"
        ],
        [
         "30-120",
         "0.2618873445501097"
        ]
       ],
       "shape": {
        "columns": 1,
        "rows": 3
       }
      },
      "text/plain": [
       "NEXT_STATE\n",
       "120+      0.443307\n",
       "<30       0.294806\n",
       "30-120    0.261887\n",
       "Name: proportion, dtype: float64"
      ]
     },
     "execution_count": 27,
     "metadata": {},
     "output_type": "execute_result"
    }
   ],
   "source": [
    "print(\"Marginal probabilities of next states:\")\n",
    "next_state_counts"
   ]
  },
  {
   "cell_type": "code",
   "execution_count": 28,
   "id": "c7ef3578",
   "metadata": {},
   "outputs": [
    {
     "data": {
      "application/vnd.microsoft.datawrangler.viewer.v0+json": {
       "columns": [
        {
         "name": "index",
         "rawType": "int64",
         "type": "integer"
        },
        {
         "name": "SUBJECT_ID",
         "rawType": "int64",
         "type": "integer"
        },
        {
         "name": "HADM_ID",
         "rawType": "int64",
         "type": "integer"
        },
        {
         "name": "ADMITTIME",
         "rawType": "datetime64[ns]",
         "type": "datetime"
        },
        {
         "name": "DISCHTIME",
         "rawType": "datetime64[ns]",
         "type": "datetime"
        },
        {
         "name": "ADMISSION_TYPE",
         "rawType": "object",
         "type": "string"
        },
        {
         "name": "ETHNICITY",
         "rawType": "object",
         "type": "string"
        },
        {
         "name": "DISCHARGE_LOCATION",
         "rawType": "object",
         "type": "string"
        },
        {
         "name": "INSURANCE",
         "rawType": "object",
         "type": "string"
        },
        {
         "name": "HOSPITALIZATION_DAYS",
         "rawType": "float64",
         "type": "float"
        },
        {
         "name": "NUM_COMORBIDITIES",
         "rawType": "int64",
         "type": "integer"
        },
        {
         "name": "TYPES_COMORBIDITIES",
         "rawType": "object",
         "type": "string"
        },
        {
         "name": "HAS_DIABETES",
         "rawType": "bool",
         "type": "boolean"
        },
        {
         "name": "HAS_COPD",
         "rawType": "bool",
         "type": "boolean"
        },
        {
         "name": "HAS_CONGESTIVE_HF",
         "rawType": "bool",
         "type": "boolean"
        },
        {
         "name": "NEXT_ADMISSION_TYPE",
         "rawType": "object",
         "type": "string"
        },
        {
         "name": "NUM_PREV_HOSPITALIZATIONS",
         "rawType": "int64",
         "type": "integer"
        },
        {
         "name": "PREV_DISCHTIME",
         "rawType": "object",
         "type": "string"
        },
        {
         "name": "NEXT_ADMITTIME",
         "rawType": "object",
         "type": "string"
        },
        {
         "name": "DAYS_SINCE_LAST_HOSPITALIZATION",
         "rawType": "float64",
         "type": "float"
        },
        {
         "name": "DAYS_UNTIL_NEXT_HOSPITALIZATION",
         "rawType": "float64",
         "type": "float"
        },
        {
         "name": "LOG_DAYS_SINCE_LAST_HOSPITALIZATION",
         "rawType": "float64",
         "type": "float"
        },
        {
         "name": "LOG_DAYS_UNTIL_NEXT_HOSPITALIZATION",
         "rawType": "float64",
         "type": "float"
        },
        {
         "name": "PREV_READMISSION_30_DAYS",
         "rawType": "int64",
         "type": "integer"
        },
        {
         "name": "READMISSION_30_DAYS",
         "rawType": "int64",
         "type": "integer"
        },
        {
         "name": "READM_30_DAYS_PAST_MEAN",
         "rawType": "float64",
         "type": "float"
        },
        {
         "name": "READM_30_DAYS_PAST_SUM",
         "rawType": "float64",
         "type": "float"
        },
        {
         "name": "LOG_DAYS_UNTIL_NEXT_HOSP_PAST_MEAN",
         "rawType": "float64",
         "type": "float"
        },
        {
         "name": "LOG_DAYS_UNTIL_NEXT_HOSP_PAST_MEDIAN",
         "rawType": "float64",
         "type": "float"
        },
        {
         "name": "LOG_DAYS_UNTIL_NEXT_HOSP_PAST_STD",
         "rawType": "float64",
         "type": "float"
        },
        {
         "name": "TOTAL_HOSPITALIZATIONS",
         "rawType": "int64",
         "type": "integer"
        },
        {
         "name": "DAYS_IN_ICU",
         "rawType": "float64",
         "type": "float"
        },
        {
         "name": "NUM_DRUGS",
         "rawType": "int64",
         "type": "integer"
        },
        {
         "name": "NUM_PROCEDURES",
         "rawType": "int64",
         "type": "integer"
        },
        {
         "name": "GENDER",
         "rawType": "object",
         "type": "string"
        },
        {
         "name": "DOB",
         "rawType": "object",
         "type": "string"
        },
        {
         "name": "DOD",
         "rawType": "datetime64[ns]",
         "type": "datetime"
        },
        {
         "name": "DOD_HOSP",
         "rawType": "object",
         "type": "unknown"
        },
        {
         "name": "AGE",
         "rawType": "int64",
         "type": "integer"
        },
        {
         "name": "CHARLSON_INDEX",
         "rawType": "int64",
         "type": "integer"
        },
        {
         "name": "FIRST_ADMITTIME",
         "rawType": "object",
         "type": "string"
        },
        {
         "name": "LAST_DISCHTIME",
         "rawType": "object",
         "type": "string"
        },
        {
         "name": "PARTICIPATION_DAYS",
         "rawType": "int64",
         "type": "integer"
        },
        {
         "name": "TOTAL_PARTICIPATION_DAYS",
         "rawType": "int64",
         "type": "integer"
        },
        {
         "name": "DEATH_TIME_AFTER_LAST_DISCHARGE",
         "rawType": "float64",
         "type": "float"
        },
        {
         "name": "READMISSION_EVENT",
         "rawType": "int64",
         "type": "integer"
        },
        {
         "name": "EVENT_DURATION",
         "rawType": "float64",
         "type": "float"
        },
        {
         "name": "IN_HOSP_DEATH_EVENT",
         "rawType": "int64",
         "type": "integer"
        },
        {
         "name": "AFTER_HOSP_DEATH_EVENT",
         "rawType": "int64",
         "type": "integer"
        },
        {
         "name": "LOG_HOSPITALIZATION_DAYS",
         "rawType": "float64",
         "type": "float"
        },
        {
         "name": "LOG_DAYS_IN_ICU",
         "rawType": "float64",
         "type": "float"
        },
        {
         "name": "LOG_NUM_PREV_HOSPITALIZATIONS",
         "rawType": "float64",
         "type": "float"
        },
        {
         "name": "LOG_NUM_DRUGS",
         "rawType": "float64",
         "type": "float"
        },
        {
         "name": "IS_LAST_EVENT",
         "rawType": "int64",
         "type": "integer"
        },
        {
         "name": "IS_HISTORICAL_EVENT",
         "rawType": "int64",
         "type": "integer"
        },
        {
         "name": "READMISSION_TIME_CAT",
         "rawType": "object",
         "type": "string"
        },
        {
         "name": "READMISSION_TIME_CAT_ENCODED",
         "rawType": "int64",
         "type": "integer"
        },
        {
         "name": "EVENT_TYPE",
         "rawType": "object",
         "type": "string"
        },
        {
         "name": "READMISSION_STATE",
         "rawType": "category",
         "type": "unknown"
        },
        {
         "name": "NUM_EVENTS",
         "rawType": "int64",
         "type": "integer"
        },
        {
         "name": "NEXT_STATE",
         "rawType": "category",
         "type": "unknown"
        },
        {
         "name": "CURRENT_STATE",
         "rawType": "category",
         "type": "unknown"
        },
        {
         "name": "PREV_STATE",
         "rawType": "category",
         "type": "unknown"
        }
       ],
       "ref": "715a99f6-9187-43b1-9274-808aa198d806",
       "rows": [
        [
         "46",
         "256",
         "153771",
         "2166-07-21 23:38:00",
         "2166-07-28 12:45:00",
         "EMERGENCY",
         "WHITE",
         "SNF",
         "Medicare",
         "6.546527777777778",
         "3",
         "['peripheral_vascular_disease', 'other', 'chronic_pulmonary_disease']",
         "False",
         "True",
         "False",
         "EMERGENCY",
         "1",
         "2163-08-02 14:14:00",
         "2170-06-15 03:06:00",
         "1084.3916666666669",
         "1417.5979166666666",
         "6.9896961839387535",
         "7.257424280182858",
         "0",
         "0",
         "0.0",
         "0.0",
         "6.9896961839387535",
         "6.9896961839387535",
         null,
         "4",
         "3.589409722222222",
         "31",
         "2",
         "M",
         "2086-07-31",
         null,
         null,
         "80",
         "5",
         "2163-07-26 10:30:00",
         "2170-08-22 18:00:00",
         "1098",
         "2584",
         null,
         "0",
         "120.0",
         "0",
         "0",
         "2.0210875604928056",
         "1.5237514149796136",
         "0.6931471805599453",
         "3.4657359027997265",
         "0",
         "1",
         "120+",
         "2",
         "No Readmission or No Death after Discharge",
         "120+",
         "3",
         "30-120",
         "120+",
         "120+"
        ],
        [
         "57",
         "305",
         "108015",
         "2125-12-31 18:40:00",
         "2126-01-10 11:30:00",
         "EMERGENCY",
         "WHITE",
         "SNF",
         "Medicare",
         "9.70138888888889",
         "4",
         "['congestive_heart_failure', 'myocardial_infarct', 'other', 'diabetes_without_cc']",
         "True",
         "False",
         "True",
         "EMERGENCY",
         "1",
         "2125-05-03 18:12:00",
         "2127-06-19 23:49:00",
         "242.0194444444444",
         "525.5131944444445",
         "5.49314145842915",
         "6.266276391933226",
         "0",
         "0",
         "0.0",
         "0.0",
         "5.49314145842915",
         "5.49314145842915",
         null,
         "4",
         "4.943819444444444",
         "54",
         "7",
         "F",
         "2052-10-24",
         "2129-09-07 00:00:00",
         "2129-09-07",
         "73",
         "6",
         "2125-04-26 11:45:00",
         "2129-09-07 17:55:00",
         "258",
         "1594",
         "0.0",
         "0",
         "120.0",
         "0",
         "0",
         "2.370373535744115",
         "1.7823519308512088",
         "0.6931471805599453",
         "4.007333185232471",
         "0",
         "1",
         "120+",
         "2",
         "No Readmission or No Death after Discharge",
         "120+",
         "3",
         "120+",
         "120+",
         "120+"
        ],
        [
         "75",
         "353",
         "108923",
         "2151-03-28 16:01:00",
         "2151-04-13 16:10:00",
         "EMERGENCY",
         "WHITE",
         "HOME",
         "Medicare",
         "16.006249999999998",
         "4",
         "['peripheral_vascular_disease', 'diabetes_with_cc', 'other', 'renal_disease']",
         "True",
         "False",
         "False",
         "EMERGENCY",
         "1",
         "2148-07-04 17:48:00",
         "2151-06-23 22:18:00",
         "996.9256944444444",
         "71.25555555555556",
         "6.905678819075108",
         "4.280209217538887",
         "0",
         "0",
         "0.0",
         "0.0",
         "6.905678819075108",
         "6.905678819075108",
         null,
         "5",
         "0.9663078703703704",
         "31",
         "4",
         "M",
         "2089-07-23",
         "2153-07-07 00:00:00",
         "2153-07-07",
         "62",
         "7",
         "2148-06-15 11:04:00",
         "2153-07-07 10:30:00",
         "1032",
         "1847",
         "0.0",
         "1",
         "71.25555555555556",
         "0",
         "0",
         "2.833580923549419",
         "0.6761576068048558",
         "0.6931471805599453",
         "3.4657359027997265",
         "0",
         "1",
         "30-120",
         "1",
         "Readmission after Discharge",
         "30-120",
         "4",
         "30-120",
         "30-120",
         "120+"
        ],
        [
         "76",
         "353",
         "112976",
         "2151-06-23 22:18:00",
         "2151-07-04 13:22:00",
         "EMERGENCY",
         "WHITE",
         "HOME",
         "Medicare",
         "10.627777777777778",
         "3",
         "['diabetes_with_cc', 'other', 'renal_disease']",
         "True",
         "False",
         "False",
         "EMERGENCY",
         "2",
         "2151-04-13 16:10:00",
         "2151-10-01 20:42:00",
         "71.25555555555556",
         "89.30555555555556",
         "4.280209217538887",
         "4.503198981847795",
         "0",
         "0",
         "0.0",
         "0.0",
         "5.592944018306998",
         "5.592944018306998",
         "1.8564873590454047",
         "5",
         "3.696921296296296",
         "38",
         "3",
         "M",
         "2089-07-23",
         "2153-07-07 00:00:00",
         "2153-07-07",
         "62",
         "6",
         "2148-06-15 11:04:00",
         "2153-07-07 10:30:00",
         "1114",
         "1847",
         "0.0",
         "1",
         "89.30555555555556",
         "0",
         "0",
         "2.453396871555789",
         "1.5469072507401749",
         "1.0986122886681096",
         "3.6635616461296463",
         "0",
         "1",
         "30-120",
         "1",
         "Readmission after Discharge",
         "30-120",
         "4",
         "120+",
         "30-120",
         "30-120"
        ],
        [
         "81",
         "357",
         "145674",
         "2198-08-02 04:49:00",
         "2198-10-26 14:55:00",
         "EMERGENCY",
         "WHITE",
         "REHAB/DISTINCT PART HOSP",
         "Private",
         "85.42083333333333",
         "5",
         "['other', 'mild_liver_disease', 'severe_liver_disease', 'diabetes_without_cc', 'malignant_cancer']",
         "True",
         "False",
         "False",
         "EMERGENCY",
         "1",
         "2198-01-03 14:00:00",
         "2198-11-01 22:36:00",
         "210.6173611111111",
         "6.320138888888889",
         "5.354779743457386",
         "1.9906293016851428",
         "0",
         "1",
         "0.0",
         "0.0",
         "5.354779743457386",
         "5.354779743457386",
         null,
         "5",
         "49.50408564814814",
         "89",
         "9",
         "M",
         "2135-03-22",
         "2201-08-02 00:00:00",
         "2201-08-02",
         "63",
         "8",
         "2197-12-06 07:13:00",
         "2200-01-18 11:45:00",
         "324",
         "1333",
         "560.5104166666666",
         "1",
         "6.320138888888889",
         "0",
         "0",
         "4.459228773286887",
         "3.9220542369324938",
         "0.6931471805599453",
         "4.499809670330265",
         "0",
         "1",
         "0-30",
         "0",
         "Readmission after Discharge",
         "<30",
         "4",
         "120+",
         "<30",
         "120+"
        ]
       ],
       "shape": {
        "columns": 62,
        "rows": 5
       }
      },
      "text/html": [
       "<div>\n",
       "<style scoped>\n",
       "    .dataframe tbody tr th:only-of-type {\n",
       "        vertical-align: middle;\n",
       "    }\n",
       "\n",
       "    .dataframe tbody tr th {\n",
       "        vertical-align: top;\n",
       "    }\n",
       "\n",
       "    .dataframe thead th {\n",
       "        text-align: right;\n",
       "    }\n",
       "</style>\n",
       "<table border=\"1\" class=\"dataframe\">\n",
       "  <thead>\n",
       "    <tr style=\"text-align: right;\">\n",
       "      <th></th>\n",
       "      <th>SUBJECT_ID</th>\n",
       "      <th>HADM_ID</th>\n",
       "      <th>ADMITTIME</th>\n",
       "      <th>DISCHTIME</th>\n",
       "      <th>ADMISSION_TYPE</th>\n",
       "      <th>ETHNICITY</th>\n",
       "      <th>DISCHARGE_LOCATION</th>\n",
       "      <th>INSURANCE</th>\n",
       "      <th>HOSPITALIZATION_DAYS</th>\n",
       "      <th>NUM_COMORBIDITIES</th>\n",
       "      <th>...</th>\n",
       "      <th>IS_LAST_EVENT</th>\n",
       "      <th>IS_HISTORICAL_EVENT</th>\n",
       "      <th>READMISSION_TIME_CAT</th>\n",
       "      <th>READMISSION_TIME_CAT_ENCODED</th>\n",
       "      <th>EVENT_TYPE</th>\n",
       "      <th>READMISSION_STATE</th>\n",
       "      <th>NUM_EVENTS</th>\n",
       "      <th>NEXT_STATE</th>\n",
       "      <th>CURRENT_STATE</th>\n",
       "      <th>PREV_STATE</th>\n",
       "    </tr>\n",
       "  </thead>\n",
       "  <tbody>\n",
       "    <tr>\n",
       "      <th>46</th>\n",
       "      <td>256</td>\n",
       "      <td>153771</td>\n",
       "      <td>2166-07-21 23:38:00</td>\n",
       "      <td>2166-07-28 12:45:00</td>\n",
       "      <td>EMERGENCY</td>\n",
       "      <td>WHITE</td>\n",
       "      <td>SNF</td>\n",
       "      <td>Medicare</td>\n",
       "      <td>6.546528</td>\n",
       "      <td>3</td>\n",
       "      <td>...</td>\n",
       "      <td>0</td>\n",
       "      <td>1</td>\n",
       "      <td>120+</td>\n",
       "      <td>2</td>\n",
       "      <td>No Readmission or No Death after Discharge</td>\n",
       "      <td>120+</td>\n",
       "      <td>3</td>\n",
       "      <td>30-120</td>\n",
       "      <td>120+</td>\n",
       "      <td>120+</td>\n",
       "    </tr>\n",
       "    <tr>\n",
       "      <th>57</th>\n",
       "      <td>305</td>\n",
       "      <td>108015</td>\n",
       "      <td>2125-12-31 18:40:00</td>\n",
       "      <td>2126-01-10 11:30:00</td>\n",
       "      <td>EMERGENCY</td>\n",
       "      <td>WHITE</td>\n",
       "      <td>SNF</td>\n",
       "      <td>Medicare</td>\n",
       "      <td>9.701389</td>\n",
       "      <td>4</td>\n",
       "      <td>...</td>\n",
       "      <td>0</td>\n",
       "      <td>1</td>\n",
       "      <td>120+</td>\n",
       "      <td>2</td>\n",
       "      <td>No Readmission or No Death after Discharge</td>\n",
       "      <td>120+</td>\n",
       "      <td>3</td>\n",
       "      <td>120+</td>\n",
       "      <td>120+</td>\n",
       "      <td>120+</td>\n",
       "    </tr>\n",
       "    <tr>\n",
       "      <th>75</th>\n",
       "      <td>353</td>\n",
       "      <td>108923</td>\n",
       "      <td>2151-03-28 16:01:00</td>\n",
       "      <td>2151-04-13 16:10:00</td>\n",
       "      <td>EMERGENCY</td>\n",
       "      <td>WHITE</td>\n",
       "      <td>HOME</td>\n",
       "      <td>Medicare</td>\n",
       "      <td>16.006250</td>\n",
       "      <td>4</td>\n",
       "      <td>...</td>\n",
       "      <td>0</td>\n",
       "      <td>1</td>\n",
       "      <td>30-120</td>\n",
       "      <td>1</td>\n",
       "      <td>Readmission after Discharge</td>\n",
       "      <td>30-120</td>\n",
       "      <td>4</td>\n",
       "      <td>30-120</td>\n",
       "      <td>30-120</td>\n",
       "      <td>120+</td>\n",
       "    </tr>\n",
       "    <tr>\n",
       "      <th>76</th>\n",
       "      <td>353</td>\n",
       "      <td>112976</td>\n",
       "      <td>2151-06-23 22:18:00</td>\n",
       "      <td>2151-07-04 13:22:00</td>\n",
       "      <td>EMERGENCY</td>\n",
       "      <td>WHITE</td>\n",
       "      <td>HOME</td>\n",
       "      <td>Medicare</td>\n",
       "      <td>10.627778</td>\n",
       "      <td>3</td>\n",
       "      <td>...</td>\n",
       "      <td>0</td>\n",
       "      <td>1</td>\n",
       "      <td>30-120</td>\n",
       "      <td>1</td>\n",
       "      <td>Readmission after Discharge</td>\n",
       "      <td>30-120</td>\n",
       "      <td>4</td>\n",
       "      <td>120+</td>\n",
       "      <td>30-120</td>\n",
       "      <td>30-120</td>\n",
       "    </tr>\n",
       "    <tr>\n",
       "      <th>81</th>\n",
       "      <td>357</td>\n",
       "      <td>145674</td>\n",
       "      <td>2198-08-02 04:49:00</td>\n",
       "      <td>2198-10-26 14:55:00</td>\n",
       "      <td>EMERGENCY</td>\n",
       "      <td>WHITE</td>\n",
       "      <td>REHAB/DISTINCT PART HOSP</td>\n",
       "      <td>Private</td>\n",
       "      <td>85.420833</td>\n",
       "      <td>5</td>\n",
       "      <td>...</td>\n",
       "      <td>0</td>\n",
       "      <td>1</td>\n",
       "      <td>0-30</td>\n",
       "      <td>0</td>\n",
       "      <td>Readmission after Discharge</td>\n",
       "      <td>&lt;30</td>\n",
       "      <td>4</td>\n",
       "      <td>120+</td>\n",
       "      <td>&lt;30</td>\n",
       "      <td>120+</td>\n",
       "    </tr>\n",
       "  </tbody>\n",
       "</table>\n",
       "<p>5 rows × 62 columns</p>\n",
       "</div>"
      ],
      "text/plain": [
       "    SUBJECT_ID  HADM_ID           ADMITTIME           DISCHTIME  \\\n",
       "46         256   153771 2166-07-21 23:38:00 2166-07-28 12:45:00   \n",
       "57         305   108015 2125-12-31 18:40:00 2126-01-10 11:30:00   \n",
       "75         353   108923 2151-03-28 16:01:00 2151-04-13 16:10:00   \n",
       "76         353   112976 2151-06-23 22:18:00 2151-07-04 13:22:00   \n",
       "81         357   145674 2198-08-02 04:49:00 2198-10-26 14:55:00   \n",
       "\n",
       "   ADMISSION_TYPE ETHNICITY        DISCHARGE_LOCATION INSURANCE  \\\n",
       "46      EMERGENCY     WHITE                       SNF  Medicare   \n",
       "57      EMERGENCY     WHITE                       SNF  Medicare   \n",
       "75      EMERGENCY     WHITE                      HOME  Medicare   \n",
       "76      EMERGENCY     WHITE                      HOME  Medicare   \n",
       "81      EMERGENCY     WHITE  REHAB/DISTINCT PART HOSP   Private   \n",
       "\n",
       "    HOSPITALIZATION_DAYS  NUM_COMORBIDITIES  ... IS_LAST_EVENT  \\\n",
       "46              6.546528                  3  ...             0   \n",
       "57              9.701389                  4  ...             0   \n",
       "75             16.006250                  4  ...             0   \n",
       "76             10.627778                  3  ...             0   \n",
       "81             85.420833                  5  ...             0   \n",
       "\n",
       "    IS_HISTORICAL_EVENT  READMISSION_TIME_CAT  READMISSION_TIME_CAT_ENCODED  \\\n",
       "46                    1                  120+                             2   \n",
       "57                    1                  120+                             2   \n",
       "75                    1                30-120                             1   \n",
       "76                    1                30-120                             1   \n",
       "81                    1                  0-30                             0   \n",
       "\n",
       "                                    EVENT_TYPE  READMISSION_STATE NUM_EVENTS  \\\n",
       "46  No Readmission or No Death after Discharge               120+          3   \n",
       "57  No Readmission or No Death after Discharge               120+          3   \n",
       "75                 Readmission after Discharge             30-120          4   \n",
       "76                 Readmission after Discharge             30-120          4   \n",
       "81                 Readmission after Discharge                <30          4   \n",
       "\n",
       "   NEXT_STATE  CURRENT_STATE  PREV_STATE  \n",
       "46     30-120           120+        120+  \n",
       "57       120+           120+        120+  \n",
       "75     30-120         30-120        120+  \n",
       "76       120+         30-120      30-120  \n",
       "81       120+            <30        120+  \n",
       "\n",
       "[5 rows x 62 columns]"
      ]
     },
     "execution_count": 28,
     "metadata": {},
     "output_type": "execute_result"
    }
   ],
   "source": [
    "markov_df.head()"
   ]
  },
  {
   "cell_type": "markdown",
   "id": "52c3a356",
   "metadata": {},
   "source": [
    "### Chi-Squared Test of Independence (Excluding Death)\n",
    "\n",
    "We test whether, **among the states `<30`, `30-90`, and `90+`**, the next state is independent of the current state (i.e., whether knowledge of the current state provides information about the next state, excluding cases involving death).\n",
    "\n",
    "- **Null hypothesis (H0):** Next-state is independent of current state.\n",
    "- **Alternative hypothesis (H1):** Next-state depends on current state.\n",
    "\n",
    "If the p-value is **less than 0.05**, we reject H0 and conclude there is evidence of dependence.\n"
   ]
  },
  {
   "cell_type": "code",
   "execution_count": 29,
   "id": "4675ac0e",
   "metadata": {},
   "outputs": [
    {
     "name": "stdout",
     "output_type": "stream",
     "text": [
      "NEXT_STATE         <30  30-120  120+\n",
      "READMISSION_STATE                   \n",
      "<30                148     101   126\n",
      "30-120              95     108   144\n",
      "120+               160     149   336\n"
     ]
    }
   ],
   "source": [
    "valid_states = ['<30', '30-120', '120+']\n",
    "filtered_df = markov_df[\n",
    "    markov_df['READMISSION_STATE'].isin(valid_states) &\n",
    "    markov_df['NEXT_STATE'].isin(valid_states)\n",
    "]\n",
    "\n",
    "contingency = pd.crosstab(\n",
    "    filtered_df['READMISSION_STATE'],\n",
    "    filtered_df['NEXT_STATE']\n",
    ")\n",
    "print(contingency)"
   ]
  },
  {
   "cell_type": "code",
   "execution_count": 30,
   "id": "a53a4ddf",
   "metadata": {},
   "outputs": [
    {
     "name": "stdout",
     "output_type": "stream",
     "text": [
      "Chi2 test statistic: 42.7761\n",
      "P-value: 1.152e-08\n"
     ]
    }
   ],
   "source": [
    "from scipy.stats import chi2_contingency\n",
    "\n",
    "chi2, p, dof, expected = chi2_contingency(contingency)\n",
    "print(f\"Chi2 test statistic: {chi2:.4f}\")\n",
    "print(f\"P-value: {p:.3e}\")\n"
   ]
  },
  {
   "cell_type": "markdown",
   "id": "7e5e5280",
   "metadata": {},
   "source": [
    "There is evidence that the next state distribution is different depending on the current state (i.e., not independent)."
   ]
  },
  {
   "cell_type": "markdown",
   "id": "2eeca239",
   "metadata": {},
   "source": [
    "Chi-squared test:\n",
    "- Sensitive to any difference between observed and expected transitions.\n",
    "- Even small but consistent differences (especially with a large sample size) will produce a highly significant result.\n",
    "- Compares the full distribution, not just overall entropy.\n",
    "\n",
    "Entropy difference:\n",
    "- Measures average unpredictability. If every row (for each current state) has nearly the same next-state probabilities, entropy will barely change.\n",
    "- If the distributions are similar but not identical, the entropy values will be close even if technically the distributions are not independent."
   ]
  },
  {
   "cell_type": "markdown",
   "id": "aa9f9ece",
   "metadata": {},
   "source": [
    "Statistically:\n",
    "- The transition process is not strictly independent (the chi-squared test is very sensitive).\n",
    "\n",
    "Practically:\n",
    "- The amount of dependency is so small that it doesn’t help you predict much better (entropy barely drops)."
   ]
  },
  {
   "cell_type": "markdown",
   "id": "5bd03c97",
   "metadata": {},
   "source": [
    "**Chi-squared Test of Independence**\n",
    "\n",
    "- Chi2 statistic: 42.7761\n",
    "- p-value: < 0.0001\n",
    "\n",
    "This test strongly rejects the null hypothesis of independence: the distribution of next states does depend on the current state (excluding death).\n",
    "\n",
    "However, as shown by the entropy analysis, the practical information gained is extremely small; the next state is only slightly more predictable if the current state is known.\n",
    "\n",
    "**Conclusion:**  \n",
    "There is a statistically significant but practically weak dependence of next-state on current-state.\n"
   ]
  }
 ],
 "metadata": {
  "kernelspec": {
   "display_name": "recurrent-health-events-prediction-py3.10",
   "language": "python",
   "name": "python3"
  },
  "language_info": {
   "codemirror_mode": {
    "name": "ipython",
    "version": 3
   },
   "file_extension": ".py",
   "mimetype": "text/x-python",
   "name": "python",
   "nbconvert_exporter": "python",
   "pygments_lexer": "ipython3",
   "version": "3.10.14"
  }
 },
 "nbformat": 4,
 "nbformat_minor": 5
}
